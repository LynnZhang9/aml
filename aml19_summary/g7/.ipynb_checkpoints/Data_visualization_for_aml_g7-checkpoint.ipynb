{
 "cells": [
  {
   "cell_type": "code",
   "execution_count": 27,
   "metadata": {},
   "outputs": [
    {
     "name": "stdout",
     "output_type": "stream",
     "text": [
      "<class 'pandas.core.frame.DataFrame'>\n",
      "RangeIndex: 103 entries, 0 to 102\n",
      "Data columns (total 4 columns):\n",
      "url                    103 non-null object\n",
      "imdb_id                103 non-null object\n",
      "prediction             0 non-null float64\n",
      "metadata_prediction    68 non-null float64\n",
      "dtypes: float64(2), object(2)\n",
      "memory usage: 3.3+ KB\n"
     ]
    },
    {
     "data": {
      "text/html": [
       "<div>\n",
       "<style scoped>\n",
       "    .dataframe tbody tr th:only-of-type {\n",
       "        vertical-align: middle;\n",
       "    }\n",
       "\n",
       "    .dataframe tbody tr th {\n",
       "        vertical-align: top;\n",
       "    }\n",
       "\n",
       "    .dataframe thead th {\n",
       "        text-align: right;\n",
       "    }\n",
       "</style>\n",
       "<table border=\"1\" class=\"dataframe\">\n",
       "  <thead>\n",
       "    <tr style=\"text-align: right;\">\n",
       "      <th></th>\n",
       "      <th>url</th>\n",
       "      <th>imdb_id</th>\n",
       "      <th>prediction</th>\n",
       "      <th>metadata_prediction</th>\n",
       "    </tr>\n",
       "  </thead>\n",
       "  <tbody>\n",
       "    <tr>\n",
       "      <th>0</th>\n",
       "      <td>https://youtu.be/I1C2gCXo4Gs</td>\n",
       "      <td>tt0190590</td>\n",
       "      <td>NaN</td>\n",
       "      <td>9.132673e+06</td>\n",
       "    </tr>\n",
       "    <tr>\n",
       "      <th>1</th>\n",
       "      <td>https://youtu.be/PQNLfo-SOR4</td>\n",
       "      <td>tt1324999</td>\n",
       "      <td>NaN</td>\n",
       "      <td>3.944393e+07</td>\n",
       "    </tr>\n",
       "    <tr>\n",
       "      <th>2</th>\n",
       "      <td>https://youtu.be/Ocz50YJOFTM</td>\n",
       "      <td>tt1673434</td>\n",
       "      <td>NaN</td>\n",
       "      <td>3.907923e+07</td>\n",
       "    </tr>\n",
       "    <tr>\n",
       "      <th>3</th>\n",
       "      <td>https://youtu.be/gk39pXpBpFo</td>\n",
       "      <td>tt1394211</td>\n",
       "      <td>NaN</td>\n",
       "      <td>NaN</td>\n",
       "    </tr>\n",
       "    <tr>\n",
       "      <th>4</th>\n",
       "      <td>https://youtu.be/Ol6j9xlQN1w</td>\n",
       "      <td>tt1470827</td>\n",
       "      <td>NaN</td>\n",
       "      <td>3.551702e+06</td>\n",
       "    </tr>\n",
       "    <tr>\n",
       "      <th>5</th>\n",
       "      <td>https://youtu.be/BuE98oeL-e0</td>\n",
       "      <td>tt1584016</td>\n",
       "      <td>NaN</td>\n",
       "      <td>-5.061726e+05</td>\n",
       "    </tr>\n",
       "    <tr>\n",
       "      <th>6</th>\n",
       "      <td>https://youtu.be/-JZ_moituIo</td>\n",
       "      <td>tt1245526</td>\n",
       "      <td>NaN</td>\n",
       "      <td>1.880967e+07</td>\n",
       "    </tr>\n",
       "    <tr>\n",
       "      <th>7</th>\n",
       "      <td>https://youtu.be/LrceH3952Hg</td>\n",
       "      <td>tt1152822</td>\n",
       "      <td>NaN</td>\n",
       "      <td>7.215087e+05</td>\n",
       "    </tr>\n",
       "    <tr>\n",
       "      <th>8</th>\n",
       "      <td>https://youtu.be/xrQt_pwGdB0</td>\n",
       "      <td>tt1032751</td>\n",
       "      <td>NaN</td>\n",
       "      <td>1.176791e+07</td>\n",
       "    </tr>\n",
       "    <tr>\n",
       "      <th>9</th>\n",
       "      <td>https://youtu.be/evhh3NE3fyw</td>\n",
       "      <td>tt1423995</td>\n",
       "      <td>NaN</td>\n",
       "      <td>7.141095e+06</td>\n",
       "    </tr>\n",
       "    <tr>\n",
       "      <th>10</th>\n",
       "      <td>https://youtu.be/XBfcGLBJ2Uc</td>\n",
       "      <td>tt1142977</td>\n",
       "      <td>NaN</td>\n",
       "      <td>1.224490e+07</td>\n",
       "    </tr>\n",
       "    <tr>\n",
       "      <th>11</th>\n",
       "      <td>https://youtu.be/nlvYKl1fjBI</td>\n",
       "      <td>tt0401729</td>\n",
       "      <td>NaN</td>\n",
       "      <td>8.842185e+07</td>\n",
       "    </tr>\n",
       "    <tr>\n",
       "      <th>12</th>\n",
       "      <td>https://youtu.be/AJ_1eS2Erhk</td>\n",
       "      <td>tt1564349</td>\n",
       "      <td>NaN</td>\n",
       "      <td>1.094777e+07</td>\n",
       "    </tr>\n",
       "    <tr>\n",
       "      <th>13</th>\n",
       "      <td>https://youtu.be/retX8Wj7JdM</td>\n",
       "      <td>tt1911658</td>\n",
       "      <td>NaN</td>\n",
       "      <td>4.128065e+07</td>\n",
       "    </tr>\n",
       "    <tr>\n",
       "      <th>14</th>\n",
       "      <td>https://youtu.be/dVDk7PXNXB8</td>\n",
       "      <td>tt2293640</td>\n",
       "      <td>NaN</td>\n",
       "      <td>2.613492e+07</td>\n",
       "    </tr>\n",
       "    <tr>\n",
       "      <th>15</th>\n",
       "      <td>https://youtu.be/T1GO-Jlfa58</td>\n",
       "      <td>tt1008023</td>\n",
       "      <td>NaN</td>\n",
       "      <td>NaN</td>\n",
       "    </tr>\n",
       "    <tr>\n",
       "      <th>16</th>\n",
       "      <td>https://youtu.be/JZVkLqcqmGk</td>\n",
       "      <td>tt0443496</td>\n",
       "      <td>NaN</td>\n",
       "      <td>NaN</td>\n",
       "    </tr>\n",
       "    <tr>\n",
       "      <th>17</th>\n",
       "      <td>https://youtu.be/NgZI5VZvAy8</td>\n",
       "      <td>tt0084805</td>\n",
       "      <td>NaN</td>\n",
       "      <td>4.975822e+06</td>\n",
       "    </tr>\n",
       "    <tr>\n",
       "      <th>18</th>\n",
       "      <td>https://youtu.be/oEp382HIisE</td>\n",
       "      <td>tt0114898</td>\n",
       "      <td>NaN</td>\n",
       "      <td>5.747712e+07</td>\n",
       "    </tr>\n",
       "    <tr>\n",
       "      <th>19</th>\n",
       "      <td>https://youtu.be/7TavVZMewpY</td>\n",
       "      <td>tt6105098</td>\n",
       "      <td>NaN</td>\n",
       "      <td>NaN</td>\n",
       "    </tr>\n",
       "    <tr>\n",
       "      <th>20</th>\n",
       "      <td>https://youtu.be/H6MLJG0RdDE</td>\n",
       "      <td>tt8364368</td>\n",
       "      <td>NaN</td>\n",
       "      <td>NaN</td>\n",
       "    </tr>\n",
       "    <tr>\n",
       "      <th>21</th>\n",
       "      <td>https://youtu.be/H6MLJG0RdDE</td>\n",
       "      <td>tt8364368</td>\n",
       "      <td>NaN</td>\n",
       "      <td>NaN</td>\n",
       "    </tr>\n",
       "    <tr>\n",
       "      <th>22</th>\n",
       "      <td>https://youtu.be/i5l6a5RiR1E</td>\n",
       "      <td>tt7734218</td>\n",
       "      <td>NaN</td>\n",
       "      <td>NaN</td>\n",
       "    </tr>\n",
       "    <tr>\n",
       "      <th>23</th>\n",
       "      <td>https://youtu.be/1Vnghdsjmd0</td>\n",
       "      <td>tt8772262</td>\n",
       "      <td>NaN</td>\n",
       "      <td>NaN</td>\n",
       "    </tr>\n",
       "    <tr>\n",
       "      <th>24</th>\n",
       "      <td>https://youtu.be/NtU5Ow74P3Y</td>\n",
       "      <td>tt6320628</td>\n",
       "      <td>NaN</td>\n",
       "      <td>NaN</td>\n",
       "    </tr>\n",
       "    <tr>\n",
       "      <th>25</th>\n",
       "      <td>https://youtu.be/6uqvgPm8U4c</td>\n",
       "      <td>tt8079248</td>\n",
       "      <td>NaN</td>\n",
       "      <td>NaN</td>\n",
       "    </tr>\n",
       "    <tr>\n",
       "      <th>26</th>\n",
       "      <td>https://youtu.be/bCxm7cTpBAs</td>\n",
       "      <td>tt8350360</td>\n",
       "      <td>NaN</td>\n",
       "      <td>NaN</td>\n",
       "    </tr>\n",
       "    <tr>\n",
       "      <th>27</th>\n",
       "      <td>https://youtu.be/wmiIUN-7qhE</td>\n",
       "      <td>tt1979376</td>\n",
       "      <td>NaN</td>\n",
       "      <td>NaN</td>\n",
       "    </tr>\n",
       "    <tr>\n",
       "      <th>28</th>\n",
       "      <td>https://youtu.be/ZFy8ZgLd574</td>\n",
       "      <td>tt8663516</td>\n",
       "      <td>NaN</td>\n",
       "      <td>NaN</td>\n",
       "    </tr>\n",
       "    <tr>\n",
       "      <th>29</th>\n",
       "      <td>https://youtu.be/WgWsV9a3ENA</td>\n",
       "      <td>tt7456310</td>\n",
       "      <td>NaN</td>\n",
       "      <td>NaN</td>\n",
       "    </tr>\n",
       "    <tr>\n",
       "      <th>...</th>\n",
       "      <td>...</td>\n",
       "      <td>...</td>\n",
       "      <td>...</td>\n",
       "      <td>...</td>\n",
       "    </tr>\n",
       "    <tr>\n",
       "      <th>73</th>\n",
       "      <td>https://youtu.be/io8Jw9BRRFY</td>\n",
       "      <td>tt0100168</td>\n",
       "      <td>NaN</td>\n",
       "      <td>3.157046e+06</td>\n",
       "    </tr>\n",
       "    <tr>\n",
       "      <th>74</th>\n",
       "      <td>https://youtu.be/2iBFmKlO4BY</td>\n",
       "      <td>tt0103074</td>\n",
       "      <td>NaN</td>\n",
       "      <td>6.110384e+06</td>\n",
       "    </tr>\n",
       "    <tr>\n",
       "      <th>75</th>\n",
       "      <td>https://youtu.be/pumf6m7d14w</td>\n",
       "      <td>tt0102526</td>\n",
       "      <td>NaN</td>\n",
       "      <td>5.495628e+06</td>\n",
       "    </tr>\n",
       "    <tr>\n",
       "      <th>76</th>\n",
       "      <td>https://youtu.be/zzwPuJklv4w</td>\n",
       "      <td>tt0104692</td>\n",
       "      <td>NaN</td>\n",
       "      <td>6.013148e+06</td>\n",
       "    </tr>\n",
       "    <tr>\n",
       "      <th>77</th>\n",
       "      <td>https://youtu.be/gG22XNhtnoY</td>\n",
       "      <td>tt0108052</td>\n",
       "      <td>NaN</td>\n",
       "      <td>7.421292e+06</td>\n",
       "    </tr>\n",
       "    <tr>\n",
       "      <th>78</th>\n",
       "      <td>https://youtu.be/g-HeV8Z6iXc</td>\n",
       "      <td>tt0109831</td>\n",
       "      <td>NaN</td>\n",
       "      <td>5.163977e+06</td>\n",
       "    </tr>\n",
       "    <tr>\n",
       "      <th>79</th>\n",
       "      <td>https://youtu.be/yNLaTtpovys</td>\n",
       "      <td>tt0113161</td>\n",
       "      <td>NaN</td>\n",
       "      <td>8.388872e+06</td>\n",
       "    </tr>\n",
       "    <tr>\n",
       "      <th>80</th>\n",
       "      <td>https://youtu.be/rCCaTPY-z4Q</td>\n",
       "      <td>tt0116695</td>\n",
       "      <td>NaN</td>\n",
       "      <td>1.427811e+07</td>\n",
       "    </tr>\n",
       "    <tr>\n",
       "      <th>81</th>\n",
       "      <td>https://youtu.be/IOmm1OD2ArQ</td>\n",
       "      <td>tt0120490</td>\n",
       "      <td>NaN</td>\n",
       "      <td>NaN</td>\n",
       "    </tr>\n",
       "    <tr>\n",
       "      <th>82</th>\n",
       "      <td>https://youtu.be/qFee7ad2Zgo</td>\n",
       "      <td>tt0120376</td>\n",
       "      <td>NaN</td>\n",
       "      <td>NaN</td>\n",
       "    </tr>\n",
       "    <tr>\n",
       "      <th>83</th>\n",
       "      <td>https://youtu.be/JUEEOxIUOL8</td>\n",
       "      <td>tt0119196</td>\n",
       "      <td>NaN</td>\n",
       "      <td>NaN</td>\n",
       "    </tr>\n",
       "    <tr>\n",
       "      <th>84</th>\n",
       "      <td>https://youtu.be/NJP7JzpfO88</td>\n",
       "      <td>tt0161023</td>\n",
       "      <td>NaN</td>\n",
       "      <td>1.357206e+06</td>\n",
       "    </tr>\n",
       "    <tr>\n",
       "      <th>85</th>\n",
       "      <td>https://youtu.be/i6zhRf6uQyA</td>\n",
       "      <td>tt0216772</td>\n",
       "      <td>NaN</td>\n",
       "      <td>NaN</td>\n",
       "    </tr>\n",
       "    <tr>\n",
       "      <th>86</th>\n",
       "      <td>https://youtu.be/BPQQe2fFM3Q</td>\n",
       "      <td>tt0180052</td>\n",
       "      <td>NaN</td>\n",
       "      <td>3.287364e+07</td>\n",
       "    </tr>\n",
       "    <tr>\n",
       "      <th>87</th>\n",
       "      <td>https://youtu.be/r5X-hFf6Bwo</td>\n",
       "      <td>tt0167260</td>\n",
       "      <td>NaN</td>\n",
       "      <td>3.067924e+07</td>\n",
       "    </tr>\n",
       "    <tr>\n",
       "      <th>88</th>\n",
       "      <td>https://youtu.be/lAxgztbYDbs</td>\n",
       "      <td>tt0304141</td>\n",
       "      <td>NaN</td>\n",
       "      <td>4.531414e+07</td>\n",
       "    </tr>\n",
       "    <tr>\n",
       "      <th>89</th>\n",
       "      <td>https://youtu.be/KIk5rfA5uWE</td>\n",
       "      <td>tt0371257</td>\n",
       "      <td>NaN</td>\n",
       "      <td>1.503100e+07</td>\n",
       "    </tr>\n",
       "    <tr>\n",
       "      <th>90</th>\n",
       "      <td>https://youtu.be/Q5hA3PN0uic</td>\n",
       "      <td>tt0460792</td>\n",
       "      <td>NaN</td>\n",
       "      <td>NaN</td>\n",
       "    </tr>\n",
       "    <tr>\n",
       "      <th>91</th>\n",
       "      <td>https://youtu.be/g7ArZ7VD-QQ</td>\n",
       "      <td>tt0758758</td>\n",
       "      <td>NaN</td>\n",
       "      <td>5.732723e+06</td>\n",
       "    </tr>\n",
       "    <tr>\n",
       "      <th>92</th>\n",
       "      <td>https://youtu.be/61-GFxjTyV0</td>\n",
       "      <td>tt1125849</td>\n",
       "      <td>NaN</td>\n",
       "      <td>1.876274e+05</td>\n",
       "    </tr>\n",
       "    <tr>\n",
       "      <th>93</th>\n",
       "      <td>https://youtu.be/AIzbwV7on6Q</td>\n",
       "      <td>tt1010048</td>\n",
       "      <td>NaN</td>\n",
       "      <td>8.061793e+06</td>\n",
       "    </tr>\n",
       "    <tr>\n",
       "      <th>94</th>\n",
       "      <td>https://youtu.be/Fi9AVKqHzHU</td>\n",
       "      <td>tt1116184</td>\n",
       "      <td>NaN</td>\n",
       "      <td>5.641445e+06</td>\n",
       "    </tr>\n",
       "    <tr>\n",
       "      <th>95</th>\n",
       "      <td>https://youtu.be/6kw1UVovByw</td>\n",
       "      <td>tt1074638</td>\n",
       "      <td>NaN</td>\n",
       "      <td>6.478213e+07</td>\n",
       "    </tr>\n",
       "    <tr>\n",
       "      <th>96</th>\n",
       "      <td>https://youtu.be/C_Tsj_wTJkQ</td>\n",
       "      <td>tt1951265</td>\n",
       "      <td>NaN</td>\n",
       "      <td>4.134797e+07</td>\n",
       "    </tr>\n",
       "    <tr>\n",
       "      <th>97</th>\n",
       "      <td>https://youtu.be/RFinNxS5KN4</td>\n",
       "      <td>tt0369610</td>\n",
       "      <td>NaN</td>\n",
       "      <td>5.138730e+07</td>\n",
       "    </tr>\n",
       "    <tr>\n",
       "      <th>98</th>\n",
       "      <td>https://youtu.be/KqRdVOQ98k8</td>\n",
       "      <td>tt2582500</td>\n",
       "      <td>NaN</td>\n",
       "      <td>-4.162812e+04</td>\n",
       "    </tr>\n",
       "    <tr>\n",
       "      <th>99</th>\n",
       "      <td>https://youtu.be/Vu4UPet8Nyc</td>\n",
       "      <td>tt4209788</td>\n",
       "      <td>NaN</td>\n",
       "      <td>NaN</td>\n",
       "    </tr>\n",
       "    <tr>\n",
       "      <th>100</th>\n",
       "      <td>https://youtu.be/pFc6I0rgmgY</td>\n",
       "      <td>tt4209788</td>\n",
       "      <td>NaN</td>\n",
       "      <td>NaN</td>\n",
       "    </tr>\n",
       "    <tr>\n",
       "      <th>101</th>\n",
       "      <td>https://youtu.be/7Pa_Weidt08</td>\n",
       "      <td>tt5117670</td>\n",
       "      <td>NaN</td>\n",
       "      <td>NaN</td>\n",
       "    </tr>\n",
       "    <tr>\n",
       "      <th>102</th>\n",
       "      <td>https://youtu.be/JAHKQPBKSZ8</td>\n",
       "      <td>tt4154916</td>\n",
       "      <td>NaN</td>\n",
       "      <td>NaN</td>\n",
       "    </tr>\n",
       "  </tbody>\n",
       "</table>\n",
       "<p>103 rows × 4 columns</p>\n",
       "</div>"
      ],
      "text/plain": [
       "                              url    imdb_id  prediction  metadata_prediction\n",
       "0    https://youtu.be/I1C2gCXo4Gs  tt0190590         NaN         9.132673e+06\n",
       "1    https://youtu.be/PQNLfo-SOR4  tt1324999         NaN         3.944393e+07\n",
       "2    https://youtu.be/Ocz50YJOFTM  tt1673434         NaN         3.907923e+07\n",
       "3    https://youtu.be/gk39pXpBpFo  tt1394211         NaN                  NaN\n",
       "4    https://youtu.be/Ol6j9xlQN1w  tt1470827         NaN         3.551702e+06\n",
       "5    https://youtu.be/BuE98oeL-e0  tt1584016         NaN        -5.061726e+05\n",
       "6    https://youtu.be/-JZ_moituIo  tt1245526         NaN         1.880967e+07\n",
       "7    https://youtu.be/LrceH3952Hg  tt1152822         NaN         7.215087e+05\n",
       "8    https://youtu.be/xrQt_pwGdB0  tt1032751         NaN         1.176791e+07\n",
       "9    https://youtu.be/evhh3NE3fyw  tt1423995         NaN         7.141095e+06\n",
       "10   https://youtu.be/XBfcGLBJ2Uc  tt1142977         NaN         1.224490e+07\n",
       "11   https://youtu.be/nlvYKl1fjBI  tt0401729         NaN         8.842185e+07\n",
       "12   https://youtu.be/AJ_1eS2Erhk  tt1564349         NaN         1.094777e+07\n",
       "13   https://youtu.be/retX8Wj7JdM  tt1911658         NaN         4.128065e+07\n",
       "14   https://youtu.be/dVDk7PXNXB8  tt2293640         NaN         2.613492e+07\n",
       "15   https://youtu.be/T1GO-Jlfa58  tt1008023         NaN                  NaN\n",
       "16   https://youtu.be/JZVkLqcqmGk  tt0443496         NaN                  NaN\n",
       "17   https://youtu.be/NgZI5VZvAy8  tt0084805         NaN         4.975822e+06\n",
       "18   https://youtu.be/oEp382HIisE  tt0114898         NaN         5.747712e+07\n",
       "19   https://youtu.be/7TavVZMewpY  tt6105098         NaN                  NaN\n",
       "20   https://youtu.be/H6MLJG0RdDE  tt8364368         NaN                  NaN\n",
       "21   https://youtu.be/H6MLJG0RdDE  tt8364368         NaN                  NaN\n",
       "22   https://youtu.be/i5l6a5RiR1E  tt7734218         NaN                  NaN\n",
       "23   https://youtu.be/1Vnghdsjmd0  tt8772262         NaN                  NaN\n",
       "24   https://youtu.be/NtU5Ow74P3Y  tt6320628         NaN                  NaN\n",
       "25   https://youtu.be/6uqvgPm8U4c  tt8079248         NaN                  NaN\n",
       "26   https://youtu.be/bCxm7cTpBAs  tt8350360         NaN                  NaN\n",
       "27   https://youtu.be/wmiIUN-7qhE  tt1979376         NaN                  NaN\n",
       "28   https://youtu.be/ZFy8ZgLd574  tt8663516         NaN                  NaN\n",
       "29   https://youtu.be/WgWsV9a3ENA  tt7456310         NaN                  NaN\n",
       "..                            ...        ...         ...                  ...\n",
       "73   https://youtu.be/io8Jw9BRRFY  tt0100168         NaN         3.157046e+06\n",
       "74   https://youtu.be/2iBFmKlO4BY  tt0103074         NaN         6.110384e+06\n",
       "75   https://youtu.be/pumf6m7d14w  tt0102526         NaN         5.495628e+06\n",
       "76   https://youtu.be/zzwPuJklv4w  tt0104692         NaN         6.013148e+06\n",
       "77   https://youtu.be/gG22XNhtnoY  tt0108052         NaN         7.421292e+06\n",
       "78   https://youtu.be/g-HeV8Z6iXc  tt0109831         NaN         5.163977e+06\n",
       "79   https://youtu.be/yNLaTtpovys  tt0113161         NaN         8.388872e+06\n",
       "80   https://youtu.be/rCCaTPY-z4Q  tt0116695         NaN         1.427811e+07\n",
       "81   https://youtu.be/IOmm1OD2ArQ  tt0120490         NaN                  NaN\n",
       "82   https://youtu.be/qFee7ad2Zgo  tt0120376         NaN                  NaN\n",
       "83   https://youtu.be/JUEEOxIUOL8  tt0119196         NaN                  NaN\n",
       "84   https://youtu.be/NJP7JzpfO88  tt0161023         NaN         1.357206e+06\n",
       "85   https://youtu.be/i6zhRf6uQyA  tt0216772         NaN                  NaN\n",
       "86   https://youtu.be/BPQQe2fFM3Q  tt0180052         NaN         3.287364e+07\n",
       "87   https://youtu.be/r5X-hFf6Bwo  tt0167260         NaN         3.067924e+07\n",
       "88   https://youtu.be/lAxgztbYDbs  tt0304141         NaN         4.531414e+07\n",
       "89   https://youtu.be/KIk5rfA5uWE  tt0371257         NaN         1.503100e+07\n",
       "90   https://youtu.be/Q5hA3PN0uic  tt0460792         NaN                  NaN\n",
       "91   https://youtu.be/g7ArZ7VD-QQ  tt0758758         NaN         5.732723e+06\n",
       "92   https://youtu.be/61-GFxjTyV0  tt1125849         NaN         1.876274e+05\n",
       "93   https://youtu.be/AIzbwV7on6Q  tt1010048         NaN         8.061793e+06\n",
       "94   https://youtu.be/Fi9AVKqHzHU  tt1116184         NaN         5.641445e+06\n",
       "95   https://youtu.be/6kw1UVovByw  tt1074638         NaN         6.478213e+07\n",
       "96   https://youtu.be/C_Tsj_wTJkQ  tt1951265         NaN         4.134797e+07\n",
       "97   https://youtu.be/RFinNxS5KN4  tt0369610         NaN         5.138730e+07\n",
       "98   https://youtu.be/KqRdVOQ98k8  tt2582500         NaN        -4.162812e+04\n",
       "99   https://youtu.be/Vu4UPet8Nyc  tt4209788         NaN                  NaN\n",
       "100  https://youtu.be/pFc6I0rgmgY  tt4209788         NaN                  NaN\n",
       "101  https://youtu.be/7Pa_Weidt08  tt5117670         NaN                  NaN\n",
       "102  https://youtu.be/JAHKQPBKSZ8  tt4154916         NaN                  NaN\n",
       "\n",
       "[103 rows x 4 columns]"
      ]
     },
     "execution_count": 27,
     "metadata": {},
     "output_type": "execute_result"
    }
   ],
   "source": [
    "import plotly \n",
    "# only for offline\n",
    "import plotly.graph_objects as go\n",
    "import pandas as pd\n",
    "\n",
    "path_g7_meta = 'Group7_Meta.csv'\n",
    "#movie_data =pd.read_csv(path, sep='\\t', head = 0)\n",
    "g7_result_meta = pd.read_csv(path_g7_meta)\n",
    "\n",
    "g7_result_meta = g7_result_meta.rename(columns={'prediction_lr':'metadata_prediction'})\n",
    "g7_result_meta.info()\n",
    "\n",
    "g7_result_meta"
   ]
  },
  {
   "cell_type": "code",
   "execution_count": 28,
   "metadata": {
    "scrolled": true
   },
   "outputs": [
    {
     "data": {
      "text/html": [
       "<div>\n",
       "<style scoped>\n",
       "    .dataframe tbody tr th:only-of-type {\n",
       "        vertical-align: middle;\n",
       "    }\n",
       "\n",
       "    .dataframe tbody tr th {\n",
       "        vertical-align: top;\n",
       "    }\n",
       "\n",
       "    .dataframe thead th {\n",
       "        text-align: right;\n",
       "    }\n",
       "</style>\n",
       "<table border=\"1\" class=\"dataframe\">\n",
       "  <thead>\n",
       "    <tr style=\"text-align: right;\">\n",
       "      <th></th>\n",
       "      <th>imdb_id</th>\n",
       "      <th>trailer_prediction</th>\n",
       "    </tr>\n",
       "  </thead>\n",
       "  <tbody>\n",
       "    <tr>\n",
       "      <th>0</th>\n",
       "      <td>tt0190590</td>\n",
       "      <td>3162.0</td>\n",
       "    </tr>\n",
       "    <tr>\n",
       "      <th>1</th>\n",
       "      <td>tt1324999</td>\n",
       "      <td>10000000.0</td>\n",
       "    </tr>\n",
       "    <tr>\n",
       "      <th>2</th>\n",
       "      <td>tt1673434</td>\n",
       "      <td>31622776.0</td>\n",
       "    </tr>\n",
       "    <tr>\n",
       "      <th>3</th>\n",
       "      <td>tt1394211</td>\n",
       "      <td>10000.0</td>\n",
       "    </tr>\n",
       "    <tr>\n",
       "      <th>4</th>\n",
       "      <td>tt1470827</td>\n",
       "      <td>3162277.0</td>\n",
       "    </tr>\n",
       "    <tr>\n",
       "      <th>5</th>\n",
       "      <td>tt1584016</td>\n",
       "      <td>10000.0</td>\n",
       "    </tr>\n",
       "    <tr>\n",
       "      <th>6</th>\n",
       "      <td>tt1245526</td>\n",
       "      <td>10000000.0</td>\n",
       "    </tr>\n",
       "    <tr>\n",
       "      <th>7</th>\n",
       "      <td>tt1152822</td>\n",
       "      <td>3162277.0</td>\n",
       "    </tr>\n",
       "    <tr>\n",
       "      <th>8</th>\n",
       "      <td>tt1032751</td>\n",
       "      <td>10000000.0</td>\n",
       "    </tr>\n",
       "    <tr>\n",
       "      <th>9</th>\n",
       "      <td>tt1423995</td>\n",
       "      <td>1000000.0</td>\n",
       "    </tr>\n",
       "    <tr>\n",
       "      <th>10</th>\n",
       "      <td>tt1142977</td>\n",
       "      <td>10000000.0</td>\n",
       "    </tr>\n",
       "    <tr>\n",
       "      <th>11</th>\n",
       "      <td>tt0401729</td>\n",
       "      <td>10000000.0</td>\n",
       "    </tr>\n",
       "    <tr>\n",
       "      <th>12</th>\n",
       "      <td>tt1564349</td>\n",
       "      <td>10000000.0</td>\n",
       "    </tr>\n",
       "    <tr>\n",
       "      <th>13</th>\n",
       "      <td>tt1911658</td>\n",
       "      <td>31622.0</td>\n",
       "    </tr>\n",
       "    <tr>\n",
       "      <th>14</th>\n",
       "      <td>tt2293640</td>\n",
       "      <td>31622776.0</td>\n",
       "    </tr>\n",
       "    <tr>\n",
       "      <th>15</th>\n",
       "      <td>tt1008023</td>\n",
       "      <td>31622776.0</td>\n",
       "    </tr>\n",
       "    <tr>\n",
       "      <th>16</th>\n",
       "      <td>tt0443496</td>\n",
       "      <td>10000000.0</td>\n",
       "    </tr>\n",
       "    <tr>\n",
       "      <th>17</th>\n",
       "      <td>tt0084805</td>\n",
       "      <td>10000000.0</td>\n",
       "    </tr>\n",
       "    <tr>\n",
       "      <th>18</th>\n",
       "      <td>tt0114898</td>\n",
       "      <td>31622776.0</td>\n",
       "    </tr>\n",
       "    <tr>\n",
       "      <th>19</th>\n",
       "      <td>tt6105098</td>\n",
       "      <td>100000.0</td>\n",
       "    </tr>\n",
       "    <tr>\n",
       "      <th>20</th>\n",
       "      <td>tt8364368</td>\n",
       "      <td>31622776.0</td>\n",
       "    </tr>\n",
       "    <tr>\n",
       "      <th>21</th>\n",
       "      <td>tt7734218</td>\n",
       "      <td>10000000.0</td>\n",
       "    </tr>\n",
       "    <tr>\n",
       "      <th>22</th>\n",
       "      <td>tt8772262</td>\n",
       "      <td>10000.0</td>\n",
       "    </tr>\n",
       "    <tr>\n",
       "      <th>23</th>\n",
       "      <td>tt6320628</td>\n",
       "      <td>10000000.0</td>\n",
       "    </tr>\n",
       "    <tr>\n",
       "      <th>24</th>\n",
       "      <td>tt8079248</td>\n",
       "      <td>100000.0</td>\n",
       "    </tr>\n",
       "    <tr>\n",
       "      <th>25</th>\n",
       "      <td>tt8350360</td>\n",
       "      <td>10000000.0</td>\n",
       "    </tr>\n",
       "    <tr>\n",
       "      <th>26</th>\n",
       "      <td>tt1979376</td>\n",
       "      <td>316.0</td>\n",
       "    </tr>\n",
       "    <tr>\n",
       "      <th>27</th>\n",
       "      <td>tt8663516</td>\n",
       "      <td>10000000.0</td>\n",
       "    </tr>\n",
       "    <tr>\n",
       "      <th>28</th>\n",
       "      <td>tt7456310</td>\n",
       "      <td>1000000.0</td>\n",
       "    </tr>\n",
       "    <tr>\n",
       "      <th>29</th>\n",
       "      <td>tt2283336</td>\n",
       "      <td>10000.0</td>\n",
       "    </tr>\n",
       "    <tr>\n",
       "      <th>...</th>\n",
       "      <td>...</td>\n",
       "      <td>...</td>\n",
       "    </tr>\n",
       "    <tr>\n",
       "      <th>73</th>\n",
       "      <td>tt0103074</td>\n",
       "      <td>10000000.0</td>\n",
       "    </tr>\n",
       "    <tr>\n",
       "      <th>74</th>\n",
       "      <td>tt0102526</td>\n",
       "      <td>10000000.0</td>\n",
       "    </tr>\n",
       "    <tr>\n",
       "      <th>75</th>\n",
       "      <td>tt0104692</td>\n",
       "      <td>100000.0</td>\n",
       "    </tr>\n",
       "    <tr>\n",
       "      <th>76</th>\n",
       "      <td>tt0108052</td>\n",
       "      <td>1000000.0</td>\n",
       "    </tr>\n",
       "    <tr>\n",
       "      <th>77</th>\n",
       "      <td>tt0109831</td>\n",
       "      <td>3162277.0</td>\n",
       "    </tr>\n",
       "    <tr>\n",
       "      <th>78</th>\n",
       "      <td>tt0113161</td>\n",
       "      <td>10000000.0</td>\n",
       "    </tr>\n",
       "    <tr>\n",
       "      <th>79</th>\n",
       "      <td>tt0116695</td>\n",
       "      <td>10000000.0</td>\n",
       "    </tr>\n",
       "    <tr>\n",
       "      <th>80</th>\n",
       "      <td>tt0120490</td>\n",
       "      <td>100000.0</td>\n",
       "    </tr>\n",
       "    <tr>\n",
       "      <th>81</th>\n",
       "      <td>tt0120376</td>\n",
       "      <td>100000.0</td>\n",
       "    </tr>\n",
       "    <tr>\n",
       "      <th>82</th>\n",
       "      <td>tt0119196</td>\n",
       "      <td>3162277.0</td>\n",
       "    </tr>\n",
       "    <tr>\n",
       "      <th>83</th>\n",
       "      <td>tt0161023</td>\n",
       "      <td>316227.0</td>\n",
       "    </tr>\n",
       "    <tr>\n",
       "      <th>84</th>\n",
       "      <td>tt0216772</td>\n",
       "      <td>100000.0</td>\n",
       "    </tr>\n",
       "    <tr>\n",
       "      <th>85</th>\n",
       "      <td>tt0180052</td>\n",
       "      <td>3162277.0</td>\n",
       "    </tr>\n",
       "    <tr>\n",
       "      <th>86</th>\n",
       "      <td>tt0167260</td>\n",
       "      <td>100000000.0</td>\n",
       "    </tr>\n",
       "    <tr>\n",
       "      <th>87</th>\n",
       "      <td>tt0304141</td>\n",
       "      <td>3162277.0</td>\n",
       "    </tr>\n",
       "    <tr>\n",
       "      <th>88</th>\n",
       "      <td>tt0371257</td>\n",
       "      <td>10000000.0</td>\n",
       "    </tr>\n",
       "    <tr>\n",
       "      <th>89</th>\n",
       "      <td>tt0460792</td>\n",
       "      <td>316227.0</td>\n",
       "    </tr>\n",
       "    <tr>\n",
       "      <th>90</th>\n",
       "      <td>tt0758758</td>\n",
       "      <td>316227.0</td>\n",
       "    </tr>\n",
       "    <tr>\n",
       "      <th>91</th>\n",
       "      <td>tt1125849</td>\n",
       "      <td>100000.0</td>\n",
       "    </tr>\n",
       "    <tr>\n",
       "      <th>92</th>\n",
       "      <td>tt1010048</td>\n",
       "      <td>316227.0</td>\n",
       "    </tr>\n",
       "    <tr>\n",
       "      <th>93</th>\n",
       "      <td>tt1116184</td>\n",
       "      <td>1000000.0</td>\n",
       "    </tr>\n",
       "    <tr>\n",
       "      <th>94</th>\n",
       "      <td>tt1074638</td>\n",
       "      <td>100000000.0</td>\n",
       "    </tr>\n",
       "    <tr>\n",
       "      <th>95</th>\n",
       "      <td>tt1951265</td>\n",
       "      <td>100000000.0</td>\n",
       "    </tr>\n",
       "    <tr>\n",
       "      <th>96</th>\n",
       "      <td>tt0369610</td>\n",
       "      <td>10000000.0</td>\n",
       "    </tr>\n",
       "    <tr>\n",
       "      <th>97</th>\n",
       "      <td>tt2582500</td>\n",
       "      <td>3162277.0</td>\n",
       "    </tr>\n",
       "    <tr>\n",
       "      <th>98</th>\n",
       "      <td>tt4209788</td>\n",
       "      <td>100000.0</td>\n",
       "    </tr>\n",
       "    <tr>\n",
       "      <th>99</th>\n",
       "      <td>tt5117670</td>\n",
       "      <td>31622776.0</td>\n",
       "    </tr>\n",
       "    <tr>\n",
       "      <th>100</th>\n",
       "      <td>tt4209788</td>\n",
       "      <td>316227.0</td>\n",
       "    </tr>\n",
       "    <tr>\n",
       "      <th>101</th>\n",
       "      <td>tt4154916</td>\n",
       "      <td>10000000.0</td>\n",
       "    </tr>\n",
       "    <tr>\n",
       "      <th>102</th>\n",
       "      <td>tt8364368</td>\n",
       "      <td>31622776.0</td>\n",
       "    </tr>\n",
       "  </tbody>\n",
       "</table>\n",
       "<p>103 rows × 2 columns</p>\n",
       "</div>"
      ],
      "text/plain": [
       "       imdb_id  trailer_prediction\n",
       "0    tt0190590              3162.0\n",
       "1    tt1324999          10000000.0\n",
       "2    tt1673434          31622776.0\n",
       "3    tt1394211             10000.0\n",
       "4    tt1470827           3162277.0\n",
       "5    tt1584016             10000.0\n",
       "6    tt1245526          10000000.0\n",
       "7    tt1152822           3162277.0\n",
       "8    tt1032751          10000000.0\n",
       "9    tt1423995           1000000.0\n",
       "10   tt1142977          10000000.0\n",
       "11   tt0401729          10000000.0\n",
       "12   tt1564349          10000000.0\n",
       "13   tt1911658             31622.0\n",
       "14   tt2293640          31622776.0\n",
       "15   tt1008023          31622776.0\n",
       "16   tt0443496          10000000.0\n",
       "17   tt0084805          10000000.0\n",
       "18   tt0114898          31622776.0\n",
       "19   tt6105098            100000.0\n",
       "20   tt8364368          31622776.0\n",
       "21   tt7734218          10000000.0\n",
       "22   tt8772262             10000.0\n",
       "23   tt6320628          10000000.0\n",
       "24   tt8079248            100000.0\n",
       "25   tt8350360          10000000.0\n",
       "26   tt1979376               316.0\n",
       "27   tt8663516          10000000.0\n",
       "28   tt7456310           1000000.0\n",
       "29   tt2283336             10000.0\n",
       "..         ...                 ...\n",
       "73   tt0103074          10000000.0\n",
       "74   tt0102526          10000000.0\n",
       "75   tt0104692            100000.0\n",
       "76   tt0108052           1000000.0\n",
       "77   tt0109831           3162277.0\n",
       "78   tt0113161          10000000.0\n",
       "79   tt0116695          10000000.0\n",
       "80   tt0120490            100000.0\n",
       "81   tt0120376            100000.0\n",
       "82   tt0119196           3162277.0\n",
       "83   tt0161023            316227.0\n",
       "84   tt0216772            100000.0\n",
       "85   tt0180052           3162277.0\n",
       "86   tt0167260         100000000.0\n",
       "87   tt0304141           3162277.0\n",
       "88   tt0371257          10000000.0\n",
       "89   tt0460792            316227.0\n",
       "90   tt0758758            316227.0\n",
       "91   tt1125849            100000.0\n",
       "92   tt1010048            316227.0\n",
       "93   tt1116184           1000000.0\n",
       "94   tt1074638         100000000.0\n",
       "95   tt1951265         100000000.0\n",
       "96   tt0369610          10000000.0\n",
       "97   tt2582500           3162277.0\n",
       "98   tt4209788            100000.0\n",
       "99   tt5117670          31622776.0\n",
       "100  tt4209788            316227.0\n",
       "101  tt4154916          10000000.0\n",
       "102  tt8364368          31622776.0\n",
       "\n",
       "[103 rows x 2 columns]"
      ]
     },
     "execution_count": 28,
     "metadata": {},
     "output_type": "execute_result"
    }
   ],
   "source": [
    "g7_path_video = 'Group7_Trailer.csv'\n",
    "#movie_data =pd.read_csv(path, sep='\\t', head = 0)\n",
    "g7_result_video = pd.read_csv(g7_path_video)\n",
    "g7_result_video = g7_result_video.drop(columns=['url'])\n",
    "g7_result_video = g7_result_video.rename(columns={'prediction':'trailer_prediction'})\n",
    "g7_result_video"
   ]
  },
  {
   "cell_type": "code",
   "execution_count": 29,
   "metadata": {
    "scrolled": true
   },
   "outputs": [
    {
     "data": {
      "text/html": [
       "<div>\n",
       "<style scoped>\n",
       "    .dataframe tbody tr th:only-of-type {\n",
       "        vertical-align: middle;\n",
       "    }\n",
       "\n",
       "    .dataframe tbody tr th {\n",
       "        vertical-align: top;\n",
       "    }\n",
       "\n",
       "    .dataframe thead th {\n",
       "        text-align: right;\n",
       "    }\n",
       "</style>\n",
       "<table border=\"1\" class=\"dataframe\">\n",
       "  <thead>\n",
       "    <tr style=\"text-align: right;\">\n",
       "      <th></th>\n",
       "      <th>url</th>\n",
       "      <th>imdb_id</th>\n",
       "      <th>prediction</th>\n",
       "      <th>metadata_prediction</th>\n",
       "      <th>trailer_prediction</th>\n",
       "    </tr>\n",
       "  </thead>\n",
       "  <tbody>\n",
       "    <tr>\n",
       "      <th>0</th>\n",
       "      <td>https://youtu.be/I1C2gCXo4Gs</td>\n",
       "      <td>tt0190590</td>\n",
       "      <td>NaN</td>\n",
       "      <td>9.132673e+06</td>\n",
       "      <td>3162.0</td>\n",
       "    </tr>\n",
       "    <tr>\n",
       "      <th>1</th>\n",
       "      <td>https://youtu.be/PQNLfo-SOR4</td>\n",
       "      <td>tt1324999</td>\n",
       "      <td>NaN</td>\n",
       "      <td>3.944393e+07</td>\n",
       "      <td>10000000.0</td>\n",
       "    </tr>\n",
       "    <tr>\n",
       "      <th>2</th>\n",
       "      <td>https://youtu.be/Ocz50YJOFTM</td>\n",
       "      <td>tt1673434</td>\n",
       "      <td>NaN</td>\n",
       "      <td>3.907923e+07</td>\n",
       "      <td>31622776.0</td>\n",
       "    </tr>\n",
       "    <tr>\n",
       "      <th>3</th>\n",
       "      <td>https://youtu.be/gk39pXpBpFo</td>\n",
       "      <td>tt1394211</td>\n",
       "      <td>NaN</td>\n",
       "      <td>NaN</td>\n",
       "      <td>10000.0</td>\n",
       "    </tr>\n",
       "    <tr>\n",
       "      <th>4</th>\n",
       "      <td>https://youtu.be/Ol6j9xlQN1w</td>\n",
       "      <td>tt1470827</td>\n",
       "      <td>NaN</td>\n",
       "      <td>3.551702e+06</td>\n",
       "      <td>3162277.0</td>\n",
       "    </tr>\n",
       "    <tr>\n",
       "      <th>5</th>\n",
       "      <td>https://youtu.be/BuE98oeL-e0</td>\n",
       "      <td>tt1584016</td>\n",
       "      <td>NaN</td>\n",
       "      <td>-5.061726e+05</td>\n",
       "      <td>10000.0</td>\n",
       "    </tr>\n",
       "    <tr>\n",
       "      <th>6</th>\n",
       "      <td>https://youtu.be/-JZ_moituIo</td>\n",
       "      <td>tt1245526</td>\n",
       "      <td>NaN</td>\n",
       "      <td>1.880967e+07</td>\n",
       "      <td>10000000.0</td>\n",
       "    </tr>\n",
       "    <tr>\n",
       "      <th>7</th>\n",
       "      <td>https://youtu.be/LrceH3952Hg</td>\n",
       "      <td>tt1152822</td>\n",
       "      <td>NaN</td>\n",
       "      <td>7.215087e+05</td>\n",
       "      <td>3162277.0</td>\n",
       "    </tr>\n",
       "    <tr>\n",
       "      <th>8</th>\n",
       "      <td>https://youtu.be/xrQt_pwGdB0</td>\n",
       "      <td>tt1032751</td>\n",
       "      <td>NaN</td>\n",
       "      <td>1.176791e+07</td>\n",
       "      <td>10000000.0</td>\n",
       "    </tr>\n",
       "    <tr>\n",
       "      <th>9</th>\n",
       "      <td>https://youtu.be/evhh3NE3fyw</td>\n",
       "      <td>tt1423995</td>\n",
       "      <td>NaN</td>\n",
       "      <td>7.141095e+06</td>\n",
       "      <td>1000000.0</td>\n",
       "    </tr>\n",
       "    <tr>\n",
       "      <th>10</th>\n",
       "      <td>https://youtu.be/XBfcGLBJ2Uc</td>\n",
       "      <td>tt1142977</td>\n",
       "      <td>NaN</td>\n",
       "      <td>1.224490e+07</td>\n",
       "      <td>10000000.0</td>\n",
       "    </tr>\n",
       "    <tr>\n",
       "      <th>11</th>\n",
       "      <td>https://youtu.be/nlvYKl1fjBI</td>\n",
       "      <td>tt0401729</td>\n",
       "      <td>NaN</td>\n",
       "      <td>8.842185e+07</td>\n",
       "      <td>10000000.0</td>\n",
       "    </tr>\n",
       "    <tr>\n",
       "      <th>12</th>\n",
       "      <td>https://youtu.be/AJ_1eS2Erhk</td>\n",
       "      <td>tt1564349</td>\n",
       "      <td>NaN</td>\n",
       "      <td>1.094777e+07</td>\n",
       "      <td>10000000.0</td>\n",
       "    </tr>\n",
       "    <tr>\n",
       "      <th>13</th>\n",
       "      <td>https://youtu.be/retX8Wj7JdM</td>\n",
       "      <td>tt1911658</td>\n",
       "      <td>NaN</td>\n",
       "      <td>4.128065e+07</td>\n",
       "      <td>31622.0</td>\n",
       "    </tr>\n",
       "    <tr>\n",
       "      <th>14</th>\n",
       "      <td>https://youtu.be/dVDk7PXNXB8</td>\n",
       "      <td>tt2293640</td>\n",
       "      <td>NaN</td>\n",
       "      <td>2.613492e+07</td>\n",
       "      <td>31622776.0</td>\n",
       "    </tr>\n",
       "    <tr>\n",
       "      <th>15</th>\n",
       "      <td>https://youtu.be/T1GO-Jlfa58</td>\n",
       "      <td>tt1008023</td>\n",
       "      <td>NaN</td>\n",
       "      <td>NaN</td>\n",
       "      <td>31622776.0</td>\n",
       "    </tr>\n",
       "    <tr>\n",
       "      <th>16</th>\n",
       "      <td>https://youtu.be/JZVkLqcqmGk</td>\n",
       "      <td>tt0443496</td>\n",
       "      <td>NaN</td>\n",
       "      <td>NaN</td>\n",
       "      <td>10000000.0</td>\n",
       "    </tr>\n",
       "    <tr>\n",
       "      <th>17</th>\n",
       "      <td>https://youtu.be/NgZI5VZvAy8</td>\n",
       "      <td>tt0084805</td>\n",
       "      <td>NaN</td>\n",
       "      <td>4.975822e+06</td>\n",
       "      <td>10000000.0</td>\n",
       "    </tr>\n",
       "    <tr>\n",
       "      <th>18</th>\n",
       "      <td>https://youtu.be/oEp382HIisE</td>\n",
       "      <td>tt0114898</td>\n",
       "      <td>NaN</td>\n",
       "      <td>5.747712e+07</td>\n",
       "      <td>31622776.0</td>\n",
       "    </tr>\n",
       "    <tr>\n",
       "      <th>19</th>\n",
       "      <td>https://youtu.be/7TavVZMewpY</td>\n",
       "      <td>tt6105098</td>\n",
       "      <td>NaN</td>\n",
       "      <td>NaN</td>\n",
       "      <td>100000.0</td>\n",
       "    </tr>\n",
       "    <tr>\n",
       "      <th>20</th>\n",
       "      <td>https://youtu.be/H6MLJG0RdDE</td>\n",
       "      <td>tt8364368</td>\n",
       "      <td>NaN</td>\n",
       "      <td>NaN</td>\n",
       "      <td>31622776.0</td>\n",
       "    </tr>\n",
       "    <tr>\n",
       "      <th>21</th>\n",
       "      <td>https://youtu.be/H6MLJG0RdDE</td>\n",
       "      <td>tt8364368</td>\n",
       "      <td>NaN</td>\n",
       "      <td>NaN</td>\n",
       "      <td>31622776.0</td>\n",
       "    </tr>\n",
       "    <tr>\n",
       "      <th>22</th>\n",
       "      <td>https://youtu.be/H6MLJG0RdDE</td>\n",
       "      <td>tt8364368</td>\n",
       "      <td>NaN</td>\n",
       "      <td>NaN</td>\n",
       "      <td>31622776.0</td>\n",
       "    </tr>\n",
       "    <tr>\n",
       "      <th>23</th>\n",
       "      <td>https://youtu.be/H6MLJG0RdDE</td>\n",
       "      <td>tt8364368</td>\n",
       "      <td>NaN</td>\n",
       "      <td>NaN</td>\n",
       "      <td>31622776.0</td>\n",
       "    </tr>\n",
       "    <tr>\n",
       "      <th>24</th>\n",
       "      <td>https://youtu.be/i5l6a5RiR1E</td>\n",
       "      <td>tt7734218</td>\n",
       "      <td>NaN</td>\n",
       "      <td>NaN</td>\n",
       "      <td>10000000.0</td>\n",
       "    </tr>\n",
       "    <tr>\n",
       "      <th>25</th>\n",
       "      <td>https://youtu.be/1Vnghdsjmd0</td>\n",
       "      <td>tt8772262</td>\n",
       "      <td>NaN</td>\n",
       "      <td>NaN</td>\n",
       "      <td>10000.0</td>\n",
       "    </tr>\n",
       "    <tr>\n",
       "      <th>26</th>\n",
       "      <td>https://youtu.be/NtU5Ow74P3Y</td>\n",
       "      <td>tt6320628</td>\n",
       "      <td>NaN</td>\n",
       "      <td>NaN</td>\n",
       "      <td>10000000.0</td>\n",
       "    </tr>\n",
       "    <tr>\n",
       "      <th>27</th>\n",
       "      <td>https://youtu.be/6uqvgPm8U4c</td>\n",
       "      <td>tt8079248</td>\n",
       "      <td>NaN</td>\n",
       "      <td>NaN</td>\n",
       "      <td>100000.0</td>\n",
       "    </tr>\n",
       "    <tr>\n",
       "      <th>28</th>\n",
       "      <td>https://youtu.be/bCxm7cTpBAs</td>\n",
       "      <td>tt8350360</td>\n",
       "      <td>NaN</td>\n",
       "      <td>NaN</td>\n",
       "      <td>10000000.0</td>\n",
       "    </tr>\n",
       "    <tr>\n",
       "      <th>29</th>\n",
       "      <td>https://youtu.be/wmiIUN-7qhE</td>\n",
       "      <td>tt1979376</td>\n",
       "      <td>NaN</td>\n",
       "      <td>NaN</td>\n",
       "      <td>316.0</td>\n",
       "    </tr>\n",
       "    <tr>\n",
       "      <th>...</th>\n",
       "      <td>...</td>\n",
       "      <td>...</td>\n",
       "      <td>...</td>\n",
       "      <td>...</td>\n",
       "      <td>...</td>\n",
       "    </tr>\n",
       "    <tr>\n",
       "      <th>77</th>\n",
       "      <td>https://youtu.be/pumf6m7d14w</td>\n",
       "      <td>tt0102526</td>\n",
       "      <td>NaN</td>\n",
       "      <td>5.495628e+06</td>\n",
       "      <td>10000000.0</td>\n",
       "    </tr>\n",
       "    <tr>\n",
       "      <th>78</th>\n",
       "      <td>https://youtu.be/zzwPuJklv4w</td>\n",
       "      <td>tt0104692</td>\n",
       "      <td>NaN</td>\n",
       "      <td>6.013148e+06</td>\n",
       "      <td>100000.0</td>\n",
       "    </tr>\n",
       "    <tr>\n",
       "      <th>79</th>\n",
       "      <td>https://youtu.be/gG22XNhtnoY</td>\n",
       "      <td>tt0108052</td>\n",
       "      <td>NaN</td>\n",
       "      <td>7.421292e+06</td>\n",
       "      <td>1000000.0</td>\n",
       "    </tr>\n",
       "    <tr>\n",
       "      <th>80</th>\n",
       "      <td>https://youtu.be/g-HeV8Z6iXc</td>\n",
       "      <td>tt0109831</td>\n",
       "      <td>NaN</td>\n",
       "      <td>5.163977e+06</td>\n",
       "      <td>3162277.0</td>\n",
       "    </tr>\n",
       "    <tr>\n",
       "      <th>81</th>\n",
       "      <td>https://youtu.be/yNLaTtpovys</td>\n",
       "      <td>tt0113161</td>\n",
       "      <td>NaN</td>\n",
       "      <td>8.388872e+06</td>\n",
       "      <td>10000000.0</td>\n",
       "    </tr>\n",
       "    <tr>\n",
       "      <th>82</th>\n",
       "      <td>https://youtu.be/rCCaTPY-z4Q</td>\n",
       "      <td>tt0116695</td>\n",
       "      <td>NaN</td>\n",
       "      <td>1.427811e+07</td>\n",
       "      <td>10000000.0</td>\n",
       "    </tr>\n",
       "    <tr>\n",
       "      <th>83</th>\n",
       "      <td>https://youtu.be/IOmm1OD2ArQ</td>\n",
       "      <td>tt0120490</td>\n",
       "      <td>NaN</td>\n",
       "      <td>NaN</td>\n",
       "      <td>100000.0</td>\n",
       "    </tr>\n",
       "    <tr>\n",
       "      <th>84</th>\n",
       "      <td>https://youtu.be/qFee7ad2Zgo</td>\n",
       "      <td>tt0120376</td>\n",
       "      <td>NaN</td>\n",
       "      <td>NaN</td>\n",
       "      <td>100000.0</td>\n",
       "    </tr>\n",
       "    <tr>\n",
       "      <th>85</th>\n",
       "      <td>https://youtu.be/JUEEOxIUOL8</td>\n",
       "      <td>tt0119196</td>\n",
       "      <td>NaN</td>\n",
       "      <td>NaN</td>\n",
       "      <td>3162277.0</td>\n",
       "    </tr>\n",
       "    <tr>\n",
       "      <th>86</th>\n",
       "      <td>https://youtu.be/NJP7JzpfO88</td>\n",
       "      <td>tt0161023</td>\n",
       "      <td>NaN</td>\n",
       "      <td>1.357206e+06</td>\n",
       "      <td>316227.0</td>\n",
       "    </tr>\n",
       "    <tr>\n",
       "      <th>87</th>\n",
       "      <td>https://youtu.be/i6zhRf6uQyA</td>\n",
       "      <td>tt0216772</td>\n",
       "      <td>NaN</td>\n",
       "      <td>NaN</td>\n",
       "      <td>100000.0</td>\n",
       "    </tr>\n",
       "    <tr>\n",
       "      <th>88</th>\n",
       "      <td>https://youtu.be/BPQQe2fFM3Q</td>\n",
       "      <td>tt0180052</td>\n",
       "      <td>NaN</td>\n",
       "      <td>3.287364e+07</td>\n",
       "      <td>3162277.0</td>\n",
       "    </tr>\n",
       "    <tr>\n",
       "      <th>89</th>\n",
       "      <td>https://youtu.be/r5X-hFf6Bwo</td>\n",
       "      <td>tt0167260</td>\n",
       "      <td>NaN</td>\n",
       "      <td>3.067924e+07</td>\n",
       "      <td>100000000.0</td>\n",
       "    </tr>\n",
       "    <tr>\n",
       "      <th>90</th>\n",
       "      <td>https://youtu.be/lAxgztbYDbs</td>\n",
       "      <td>tt0304141</td>\n",
       "      <td>NaN</td>\n",
       "      <td>4.531414e+07</td>\n",
       "      <td>3162277.0</td>\n",
       "    </tr>\n",
       "    <tr>\n",
       "      <th>91</th>\n",
       "      <td>https://youtu.be/KIk5rfA5uWE</td>\n",
       "      <td>tt0371257</td>\n",
       "      <td>NaN</td>\n",
       "      <td>1.503100e+07</td>\n",
       "      <td>10000000.0</td>\n",
       "    </tr>\n",
       "    <tr>\n",
       "      <th>92</th>\n",
       "      <td>https://youtu.be/Q5hA3PN0uic</td>\n",
       "      <td>tt0460792</td>\n",
       "      <td>NaN</td>\n",
       "      <td>NaN</td>\n",
       "      <td>316227.0</td>\n",
       "    </tr>\n",
       "    <tr>\n",
       "      <th>93</th>\n",
       "      <td>https://youtu.be/g7ArZ7VD-QQ</td>\n",
       "      <td>tt0758758</td>\n",
       "      <td>NaN</td>\n",
       "      <td>5.732723e+06</td>\n",
       "      <td>316227.0</td>\n",
       "    </tr>\n",
       "    <tr>\n",
       "      <th>94</th>\n",
       "      <td>https://youtu.be/61-GFxjTyV0</td>\n",
       "      <td>tt1125849</td>\n",
       "      <td>NaN</td>\n",
       "      <td>1.876274e+05</td>\n",
       "      <td>100000.0</td>\n",
       "    </tr>\n",
       "    <tr>\n",
       "      <th>95</th>\n",
       "      <td>https://youtu.be/AIzbwV7on6Q</td>\n",
       "      <td>tt1010048</td>\n",
       "      <td>NaN</td>\n",
       "      <td>8.061793e+06</td>\n",
       "      <td>316227.0</td>\n",
       "    </tr>\n",
       "    <tr>\n",
       "      <th>96</th>\n",
       "      <td>https://youtu.be/Fi9AVKqHzHU</td>\n",
       "      <td>tt1116184</td>\n",
       "      <td>NaN</td>\n",
       "      <td>5.641445e+06</td>\n",
       "      <td>1000000.0</td>\n",
       "    </tr>\n",
       "    <tr>\n",
       "      <th>97</th>\n",
       "      <td>https://youtu.be/6kw1UVovByw</td>\n",
       "      <td>tt1074638</td>\n",
       "      <td>NaN</td>\n",
       "      <td>6.478213e+07</td>\n",
       "      <td>100000000.0</td>\n",
       "    </tr>\n",
       "    <tr>\n",
       "      <th>98</th>\n",
       "      <td>https://youtu.be/C_Tsj_wTJkQ</td>\n",
       "      <td>tt1951265</td>\n",
       "      <td>NaN</td>\n",
       "      <td>4.134797e+07</td>\n",
       "      <td>100000000.0</td>\n",
       "    </tr>\n",
       "    <tr>\n",
       "      <th>99</th>\n",
       "      <td>https://youtu.be/RFinNxS5KN4</td>\n",
       "      <td>tt0369610</td>\n",
       "      <td>NaN</td>\n",
       "      <td>5.138730e+07</td>\n",
       "      <td>10000000.0</td>\n",
       "    </tr>\n",
       "    <tr>\n",
       "      <th>100</th>\n",
       "      <td>https://youtu.be/KqRdVOQ98k8</td>\n",
       "      <td>tt2582500</td>\n",
       "      <td>NaN</td>\n",
       "      <td>-4.162812e+04</td>\n",
       "      <td>3162277.0</td>\n",
       "    </tr>\n",
       "    <tr>\n",
       "      <th>101</th>\n",
       "      <td>https://youtu.be/Vu4UPet8Nyc</td>\n",
       "      <td>tt4209788</td>\n",
       "      <td>NaN</td>\n",
       "      <td>NaN</td>\n",
       "      <td>100000.0</td>\n",
       "    </tr>\n",
       "    <tr>\n",
       "      <th>102</th>\n",
       "      <td>https://youtu.be/Vu4UPet8Nyc</td>\n",
       "      <td>tt4209788</td>\n",
       "      <td>NaN</td>\n",
       "      <td>NaN</td>\n",
       "      <td>316227.0</td>\n",
       "    </tr>\n",
       "    <tr>\n",
       "      <th>103</th>\n",
       "      <td>https://youtu.be/pFc6I0rgmgY</td>\n",
       "      <td>tt4209788</td>\n",
       "      <td>NaN</td>\n",
       "      <td>NaN</td>\n",
       "      <td>100000.0</td>\n",
       "    </tr>\n",
       "    <tr>\n",
       "      <th>104</th>\n",
       "      <td>https://youtu.be/pFc6I0rgmgY</td>\n",
       "      <td>tt4209788</td>\n",
       "      <td>NaN</td>\n",
       "      <td>NaN</td>\n",
       "      <td>316227.0</td>\n",
       "    </tr>\n",
       "    <tr>\n",
       "      <th>105</th>\n",
       "      <td>https://youtu.be/7Pa_Weidt08</td>\n",
       "      <td>tt5117670</td>\n",
       "      <td>NaN</td>\n",
       "      <td>NaN</td>\n",
       "      <td>31622776.0</td>\n",
       "    </tr>\n",
       "    <tr>\n",
       "      <th>106</th>\n",
       "      <td>https://youtu.be/JAHKQPBKSZ8</td>\n",
       "      <td>tt4154916</td>\n",
       "      <td>NaN</td>\n",
       "      <td>NaN</td>\n",
       "      <td>10000000.0</td>\n",
       "    </tr>\n",
       "  </tbody>\n",
       "</table>\n",
       "<p>107 rows × 5 columns</p>\n",
       "</div>"
      ],
      "text/plain": [
       "                              url    imdb_id  prediction  metadata_prediction  \\\n",
       "0    https://youtu.be/I1C2gCXo4Gs  tt0190590         NaN         9.132673e+06   \n",
       "1    https://youtu.be/PQNLfo-SOR4  tt1324999         NaN         3.944393e+07   \n",
       "2    https://youtu.be/Ocz50YJOFTM  tt1673434         NaN         3.907923e+07   \n",
       "3    https://youtu.be/gk39pXpBpFo  tt1394211         NaN                  NaN   \n",
       "4    https://youtu.be/Ol6j9xlQN1w  tt1470827         NaN         3.551702e+06   \n",
       "5    https://youtu.be/BuE98oeL-e0  tt1584016         NaN        -5.061726e+05   \n",
       "6    https://youtu.be/-JZ_moituIo  tt1245526         NaN         1.880967e+07   \n",
       "7    https://youtu.be/LrceH3952Hg  tt1152822         NaN         7.215087e+05   \n",
       "8    https://youtu.be/xrQt_pwGdB0  tt1032751         NaN         1.176791e+07   \n",
       "9    https://youtu.be/evhh3NE3fyw  tt1423995         NaN         7.141095e+06   \n",
       "10   https://youtu.be/XBfcGLBJ2Uc  tt1142977         NaN         1.224490e+07   \n",
       "11   https://youtu.be/nlvYKl1fjBI  tt0401729         NaN         8.842185e+07   \n",
       "12   https://youtu.be/AJ_1eS2Erhk  tt1564349         NaN         1.094777e+07   \n",
       "13   https://youtu.be/retX8Wj7JdM  tt1911658         NaN         4.128065e+07   \n",
       "14   https://youtu.be/dVDk7PXNXB8  tt2293640         NaN         2.613492e+07   \n",
       "15   https://youtu.be/T1GO-Jlfa58  tt1008023         NaN                  NaN   \n",
       "16   https://youtu.be/JZVkLqcqmGk  tt0443496         NaN                  NaN   \n",
       "17   https://youtu.be/NgZI5VZvAy8  tt0084805         NaN         4.975822e+06   \n",
       "18   https://youtu.be/oEp382HIisE  tt0114898         NaN         5.747712e+07   \n",
       "19   https://youtu.be/7TavVZMewpY  tt6105098         NaN                  NaN   \n",
       "20   https://youtu.be/H6MLJG0RdDE  tt8364368         NaN                  NaN   \n",
       "21   https://youtu.be/H6MLJG0RdDE  tt8364368         NaN                  NaN   \n",
       "22   https://youtu.be/H6MLJG0RdDE  tt8364368         NaN                  NaN   \n",
       "23   https://youtu.be/H6MLJG0RdDE  tt8364368         NaN                  NaN   \n",
       "24   https://youtu.be/i5l6a5RiR1E  tt7734218         NaN                  NaN   \n",
       "25   https://youtu.be/1Vnghdsjmd0  tt8772262         NaN                  NaN   \n",
       "26   https://youtu.be/NtU5Ow74P3Y  tt6320628         NaN                  NaN   \n",
       "27   https://youtu.be/6uqvgPm8U4c  tt8079248         NaN                  NaN   \n",
       "28   https://youtu.be/bCxm7cTpBAs  tt8350360         NaN                  NaN   \n",
       "29   https://youtu.be/wmiIUN-7qhE  tt1979376         NaN                  NaN   \n",
       "..                            ...        ...         ...                  ...   \n",
       "77   https://youtu.be/pumf6m7d14w  tt0102526         NaN         5.495628e+06   \n",
       "78   https://youtu.be/zzwPuJklv4w  tt0104692         NaN         6.013148e+06   \n",
       "79   https://youtu.be/gG22XNhtnoY  tt0108052         NaN         7.421292e+06   \n",
       "80   https://youtu.be/g-HeV8Z6iXc  tt0109831         NaN         5.163977e+06   \n",
       "81   https://youtu.be/yNLaTtpovys  tt0113161         NaN         8.388872e+06   \n",
       "82   https://youtu.be/rCCaTPY-z4Q  tt0116695         NaN         1.427811e+07   \n",
       "83   https://youtu.be/IOmm1OD2ArQ  tt0120490         NaN                  NaN   \n",
       "84   https://youtu.be/qFee7ad2Zgo  tt0120376         NaN                  NaN   \n",
       "85   https://youtu.be/JUEEOxIUOL8  tt0119196         NaN                  NaN   \n",
       "86   https://youtu.be/NJP7JzpfO88  tt0161023         NaN         1.357206e+06   \n",
       "87   https://youtu.be/i6zhRf6uQyA  tt0216772         NaN                  NaN   \n",
       "88   https://youtu.be/BPQQe2fFM3Q  tt0180052         NaN         3.287364e+07   \n",
       "89   https://youtu.be/r5X-hFf6Bwo  tt0167260         NaN         3.067924e+07   \n",
       "90   https://youtu.be/lAxgztbYDbs  tt0304141         NaN         4.531414e+07   \n",
       "91   https://youtu.be/KIk5rfA5uWE  tt0371257         NaN         1.503100e+07   \n",
       "92   https://youtu.be/Q5hA3PN0uic  tt0460792         NaN                  NaN   \n",
       "93   https://youtu.be/g7ArZ7VD-QQ  tt0758758         NaN         5.732723e+06   \n",
       "94   https://youtu.be/61-GFxjTyV0  tt1125849         NaN         1.876274e+05   \n",
       "95   https://youtu.be/AIzbwV7on6Q  tt1010048         NaN         8.061793e+06   \n",
       "96   https://youtu.be/Fi9AVKqHzHU  tt1116184         NaN         5.641445e+06   \n",
       "97   https://youtu.be/6kw1UVovByw  tt1074638         NaN         6.478213e+07   \n",
       "98   https://youtu.be/C_Tsj_wTJkQ  tt1951265         NaN         4.134797e+07   \n",
       "99   https://youtu.be/RFinNxS5KN4  tt0369610         NaN         5.138730e+07   \n",
       "100  https://youtu.be/KqRdVOQ98k8  tt2582500         NaN        -4.162812e+04   \n",
       "101  https://youtu.be/Vu4UPet8Nyc  tt4209788         NaN                  NaN   \n",
       "102  https://youtu.be/Vu4UPet8Nyc  tt4209788         NaN                  NaN   \n",
       "103  https://youtu.be/pFc6I0rgmgY  tt4209788         NaN                  NaN   \n",
       "104  https://youtu.be/pFc6I0rgmgY  tt4209788         NaN                  NaN   \n",
       "105  https://youtu.be/7Pa_Weidt08  tt5117670         NaN                  NaN   \n",
       "106  https://youtu.be/JAHKQPBKSZ8  tt4154916         NaN                  NaN   \n",
       "\n",
       "     trailer_prediction  \n",
       "0                3162.0  \n",
       "1            10000000.0  \n",
       "2            31622776.0  \n",
       "3               10000.0  \n",
       "4             3162277.0  \n",
       "5               10000.0  \n",
       "6            10000000.0  \n",
       "7             3162277.0  \n",
       "8            10000000.0  \n",
       "9             1000000.0  \n",
       "10           10000000.0  \n",
       "11           10000000.0  \n",
       "12           10000000.0  \n",
       "13              31622.0  \n",
       "14           31622776.0  \n",
       "15           31622776.0  \n",
       "16           10000000.0  \n",
       "17           10000000.0  \n",
       "18           31622776.0  \n",
       "19             100000.0  \n",
       "20           31622776.0  \n",
       "21           31622776.0  \n",
       "22           31622776.0  \n",
       "23           31622776.0  \n",
       "24           10000000.0  \n",
       "25              10000.0  \n",
       "26           10000000.0  \n",
       "27             100000.0  \n",
       "28           10000000.0  \n",
       "29                316.0  \n",
       "..                  ...  \n",
       "77           10000000.0  \n",
       "78             100000.0  \n",
       "79            1000000.0  \n",
       "80            3162277.0  \n",
       "81           10000000.0  \n",
       "82           10000000.0  \n",
       "83             100000.0  \n",
       "84             100000.0  \n",
       "85            3162277.0  \n",
       "86             316227.0  \n",
       "87             100000.0  \n",
       "88            3162277.0  \n",
       "89          100000000.0  \n",
       "90            3162277.0  \n",
       "91           10000000.0  \n",
       "92             316227.0  \n",
       "93             316227.0  \n",
       "94             100000.0  \n",
       "95             316227.0  \n",
       "96            1000000.0  \n",
       "97          100000000.0  \n",
       "98          100000000.0  \n",
       "99           10000000.0  \n",
       "100           3162277.0  \n",
       "101            100000.0  \n",
       "102            316227.0  \n",
       "103            100000.0  \n",
       "104            316227.0  \n",
       "105          31622776.0  \n",
       "106          10000000.0  \n",
       "\n",
       "[107 rows x 5 columns]"
      ]
     },
     "execution_count": 29,
     "metadata": {},
     "output_type": "execute_result"
    }
   ],
   "source": [
    "g7_result = pd.merge(g7_result_meta, g7_result_video, how ='outer',on='imdb_id')\n",
    "g7_result"
   ]
  },
  {
   "cell_type": "code",
   "execution_count": 30,
   "metadata": {
    "scrolled": true
   },
   "outputs": [
    {
     "data": {
      "text/html": [
       "<div>\n",
       "<style scoped>\n",
       "    .dataframe tbody tr th:only-of-type {\n",
       "        vertical-align: middle;\n",
       "    }\n",
       "\n",
       "    .dataframe tbody tr th {\n",
       "        vertical-align: top;\n",
       "    }\n",
       "\n",
       "    .dataframe thead th {\n",
       "        text-align: right;\n",
       "    }\n",
       "</style>\n",
       "<table border=\"1\" class=\"dataframe\">\n",
       "  <thead>\n",
       "    <tr style=\"text-align: right;\">\n",
       "      <th></th>\n",
       "      <th>url</th>\n",
       "      <th>imdb_id</th>\n",
       "      <th>prediction</th>\n",
       "      <th>ground_truth</th>\n",
       "      <th>name</th>\n",
       "    </tr>\n",
       "  </thead>\n",
       "  <tbody>\n",
       "    <tr>\n",
       "      <th>0</th>\n",
       "      <td>https://youtu.be/I1C2gCXo4Gs</td>\n",
       "      <td>190590</td>\n",
       "      <td>NaN</td>\n",
       "      <td>195104</td>\n",
       "      <td>O Brother, Where Art Thou?</td>\n",
       "    </tr>\n",
       "    <tr>\n",
       "      <th>1</th>\n",
       "      <td>https://youtu.be/PQNLfo-SOR4</td>\n",
       "      <td>1324999</td>\n",
       "      <td>NaN</td>\n",
       "      <td>138122261</td>\n",
       "      <td>The Twilight Saga: Breaking Dawn Part 1</td>\n",
       "    </tr>\n",
       "    <tr>\n",
       "      <th>2</th>\n",
       "      <td>https://youtu.be/Ocz50YJOFTM</td>\n",
       "      <td>1673434</td>\n",
       "      <td>NaN</td>\n",
       "      <td>141067634</td>\n",
       "      <td>The Twilight Saga: Breaking Dawn Part 2</td>\n",
       "    </tr>\n",
       "    <tr>\n",
       "      <th>3</th>\n",
       "      <td>https://youtu.be/gk39pXpBpFo</td>\n",
       "      <td>1394211</td>\n",
       "      <td>NaN</td>\n",
       "      <td>2692</td>\n",
       "      <td>Helena From the Wedding</td>\n",
       "    </tr>\n",
       "    <tr>\n",
       "      <th>4</th>\n",
       "      <td>https://youtu.be/Ol6j9xlQN1w</td>\n",
       "      <td>1470827</td>\n",
       "      <td>NaN</td>\n",
       "      <td>20508</td>\n",
       "      <td>Monsters</td>\n",
       "    </tr>\n",
       "    <tr>\n",
       "      <th>5</th>\n",
       "      <td>https://youtu.be/BuE98oeL-e0</td>\n",
       "      <td>1584016</td>\n",
       "      <td>NaN</td>\n",
       "      <td>257285</td>\n",
       "      <td>Catfish</td>\n",
       "    </tr>\n",
       "    <tr>\n",
       "      <th>6</th>\n",
       "      <td>https://youtu.be/-JZ_moituIo</td>\n",
       "      <td>1245526</td>\n",
       "      <td>NaN</td>\n",
       "      <td>21761408</td>\n",
       "      <td>Red</td>\n",
       "    </tr>\n",
       "    <tr>\n",
       "      <th>7</th>\n",
       "      <td>https://youtu.be/LrceH3952Hg</td>\n",
       "      <td>1152822</td>\n",
       "      <td>NaN</td>\n",
       "      <td>31893</td>\n",
       "      <td>Freakonomics</td>\n",
       "    </tr>\n",
       "    <tr>\n",
       "      <th>8</th>\n",
       "      <td>https://youtu.be/xrQt_pwGdB0</td>\n",
       "      <td>1032751</td>\n",
       "      <td>NaN</td>\n",
       "      <td>3048665</td>\n",
       "      <td>The Warrior's Way</td>\n",
       "    </tr>\n",
       "    <tr>\n",
       "      <th>9</th>\n",
       "      <td>https://youtu.be/evhh3NE3fyw</td>\n",
       "      <td>1423995</td>\n",
       "      <td>NaN</td>\n",
       "      <td>75766</td>\n",
       "      <td>Stone</td>\n",
       "    </tr>\n",
       "    <tr>\n",
       "      <th>10</th>\n",
       "      <td>https://youtu.be/XBfcGLBJ2Uc</td>\n",
       "      <td>1142977</td>\n",
       "      <td>NaN</td>\n",
       "      <td>11412213</td>\n",
       "      <td>Frankenweenie</td>\n",
       "    </tr>\n",
       "    <tr>\n",
       "      <th>11</th>\n",
       "      <td>https://youtu.be/nlvYKl1fjBI</td>\n",
       "      <td>401729</td>\n",
       "      <td>NaN</td>\n",
       "      <td>30180188</td>\n",
       "      <td>John Carter</td>\n",
       "    </tr>\n",
       "    <tr>\n",
       "      <th>12</th>\n",
       "      <td>https://youtu.be/AJ_1eS2Erhk</td>\n",
       "      <td>1564349</td>\n",
       "      <td>NaN</td>\n",
       "      <td>19152401</td>\n",
       "      <td>Dolphin Tale</td>\n",
       "    </tr>\n",
       "    <tr>\n",
       "      <th>13</th>\n",
       "      <td>https://youtu.be/retX8Wj7JdM</td>\n",
       "      <td>1911658</td>\n",
       "      <td>NaN</td>\n",
       "      <td>25447444</td>\n",
       "      <td>Penguins of Madagascar</td>\n",
       "    </tr>\n",
       "    <tr>\n",
       "      <th>14</th>\n",
       "      <td>https://youtu.be/dVDk7PXNXB8</td>\n",
       "      <td>2293640</td>\n",
       "      <td>NaN</td>\n",
       "      <td>115718405</td>\n",
       "      <td>Minions</td>\n",
       "    </tr>\n",
       "    <tr>\n",
       "      <th>15</th>\n",
       "      <td>https://youtu.be/T1GO-Jlfa58</td>\n",
       "      <td>1008023</td>\n",
       "      <td>NaN</td>\n",
       "      <td>96076</td>\n",
       "      <td>Proud American</td>\n",
       "    </tr>\n",
       "    <tr>\n",
       "      <th>16</th>\n",
       "      <td>https://youtu.be/JZVkLqcqmGk</td>\n",
       "      <td>443496</td>\n",
       "      <td>NaN</td>\n",
       "      <td>19253</td>\n",
       "      <td>Edmond</td>\n",
       "    </tr>\n",
       "    <tr>\n",
       "      <th>17</th>\n",
       "      <td>https://youtu.be/NgZI5VZvAy8</td>\n",
       "      <td>84805</td>\n",
       "      <td>NaN</td>\n",
       "      <td>5540470</td>\n",
       "      <td>Tootsie</td>\n",
       "    </tr>\n",
       "    <tr>\n",
       "      <th>18</th>\n",
       "      <td>https://youtu.be/oEp382HIisE</td>\n",
       "      <td>114898</td>\n",
       "      <td>NaN</td>\n",
       "      <td>21171780</td>\n",
       "      <td>Waterworld</td>\n",
       "    </tr>\n",
       "    <tr>\n",
       "      <th>19</th>\n",
       "      <td>https://youtu.be/7TavVZMewpY</td>\n",
       "      <td>6105098</td>\n",
       "      <td>NaN</td>\n",
       "      <td>191770759</td>\n",
       "      <td>The Lion King (2019)</td>\n",
       "    </tr>\n",
       "    <tr>\n",
       "      <th>20</th>\n",
       "      <td>https://youtu.be/H6MLJG0RdDE</td>\n",
       "      <td>8364368</td>\n",
       "      <td>NaN</td>\n",
       "      <td>12005210</td>\n",
       "      <td>Crawl</td>\n",
       "    </tr>\n",
       "    <tr>\n",
       "      <th>21</th>\n",
       "      <td>https://youtu.be/i5l6a5RiR1E</td>\n",
       "      <td>7734218</td>\n",
       "      <td>NaN</td>\n",
       "      <td>8225384</td>\n",
       "      <td>Stuber</td>\n",
       "    </tr>\n",
       "    <tr>\n",
       "      <th>22</th>\n",
       "      <td>https://youtu.be/1Vnghdsjmd0</td>\n",
       "      <td>8772262</td>\n",
       "      <td>NaN</td>\n",
       "      <td>6560030</td>\n",
       "      <td>Midsommar</td>\n",
       "    </tr>\n",
       "    <tr>\n",
       "      <th>23</th>\n",
       "      <td>https://youtu.be/NtU5Ow74P3Y</td>\n",
       "      <td>6320628</td>\n",
       "      <td>NaN</td>\n",
       "      <td>92579212</td>\n",
       "      <td>Spider-Man: Far from Home</td>\n",
       "    </tr>\n",
       "    <tr>\n",
       "      <th>24</th>\n",
       "      <td>https://youtu.be/6uqvgPm8U4c</td>\n",
       "      <td>8079248</td>\n",
       "      <td>NaN</td>\n",
       "      <td>17010050</td>\n",
       "      <td>Yesterday</td>\n",
       "    </tr>\n",
       "    <tr>\n",
       "      <th>25</th>\n",
       "      <td>https://youtu.be/bCxm7cTpBAs</td>\n",
       "      <td>8350360</td>\n",
       "      <td>NaN</td>\n",
       "      <td>20269723</td>\n",
       "      <td>Annabelle Comes Home</td>\n",
       "    </tr>\n",
       "    <tr>\n",
       "      <th>26</th>\n",
       "      <td>https://youtu.be/wmiIUN-7qhE</td>\n",
       "      <td>1979376</td>\n",
       "      <td>NaN</td>\n",
       "      <td>120908065</td>\n",
       "      <td>Toy Story 4</td>\n",
       "    </tr>\n",
       "    <tr>\n",
       "      <th>27</th>\n",
       "      <td>https://youtu.be/ZFy8ZgLd574</td>\n",
       "      <td>8663516</td>\n",
       "      <td>NaN</td>\n",
       "      <td>14094594</td>\n",
       "      <td>Child's Play (2019)</td>\n",
       "    </tr>\n",
       "    <tr>\n",
       "      <th>28</th>\n",
       "      <td>https://youtu.be/WgWsV9a3ENA</td>\n",
       "      <td>7456310</td>\n",
       "      <td>NaN</td>\n",
       "      <td>3600647</td>\n",
       "      <td>Anna (2019)</td>\n",
       "    </tr>\n",
       "    <tr>\n",
       "      <th>29</th>\n",
       "      <td>https://youtu.be/BV-WEb2oxLk</td>\n",
       "      <td>2283336</td>\n",
       "      <td>NaN</td>\n",
       "      <td>30035838</td>\n",
       "      <td>Men in Black International</td>\n",
       "    </tr>\n",
       "    <tr>\n",
       "      <th>...</th>\n",
       "      <td>...</td>\n",
       "      <td>...</td>\n",
       "      <td>...</td>\n",
       "      <td>...</td>\n",
       "      <td>...</td>\n",
       "    </tr>\n",
       "    <tr>\n",
       "      <th>73</th>\n",
       "      <td>https://youtu.be/2iBFmKlO4BY</td>\n",
       "      <td>103074</td>\n",
       "      <td>NaN</td>\n",
       "      <td>6101297</td>\n",
       "      <td>Thelma and Louise</td>\n",
       "    </tr>\n",
       "    <tr>\n",
       "      <th>74</th>\n",
       "      <td>https://youtu.be/pumf6m7d14w</td>\n",
       "      <td>102526</td>\n",
       "      <td>NaN</td>\n",
       "      <td>7039622</td>\n",
       "      <td>New Jack City</td>\n",
       "    </tr>\n",
       "    <tr>\n",
       "      <th>75</th>\n",
       "      <td>https://youtu.be/zzwPuJklv4w</td>\n",
       "      <td>104692</td>\n",
       "      <td>NaN</td>\n",
       "      <td>7751971</td>\n",
       "      <td>The Lawnmower Man</td>\n",
       "    </tr>\n",
       "    <tr>\n",
       "      <th>76</th>\n",
       "      <td>https://youtu.be/gG22XNhtnoY</td>\n",
       "      <td>108052</td>\n",
       "      <td>NaN</td>\n",
       "      <td>656636</td>\n",
       "      <td>Schindler's List</td>\n",
       "    </tr>\n",
       "    <tr>\n",
       "      <th>77</th>\n",
       "      <td>https://youtu.be/g-HeV8Z6iXc</td>\n",
       "      <td>109831</td>\n",
       "      <td>NaN</td>\n",
       "      <td>138486</td>\n",
       "      <td>Four Weddings and a Funeral</td>\n",
       "    </tr>\n",
       "    <tr>\n",
       "      <th>78</th>\n",
       "      <td>https://youtu.be/yNLaTtpovys</td>\n",
       "      <td>113161</td>\n",
       "      <td>NaN</td>\n",
       "      <td>12700007</td>\n",
       "      <td>Get Shorty</td>\n",
       "    </tr>\n",
       "    <tr>\n",
       "      <th>79</th>\n",
       "      <td>https://youtu.be/rCCaTPY-z4Q</td>\n",
       "      <td>116695</td>\n",
       "      <td>NaN</td>\n",
       "      <td>17084296</td>\n",
       "      <td>Jerry Maguire</td>\n",
       "    </tr>\n",
       "    <tr>\n",
       "      <th>80</th>\n",
       "      <td>https://youtu.be/IOmm1OD2ArQ</td>\n",
       "      <td>120490</td>\n",
       "      <td>NaN</td>\n",
       "      <td>66920</td>\n",
       "      <td>Welcome to Sarajevo</td>\n",
       "    </tr>\n",
       "    <tr>\n",
       "      <th>81</th>\n",
       "      <td>https://youtu.be/qFee7ad2Zgo</td>\n",
       "      <td>120376</td>\n",
       "      <td>NaN</td>\n",
       "      <td>217</td>\n",
       "      <td>Trojan War</td>\n",
       "    </tr>\n",
       "    <tr>\n",
       "      <th>82</th>\n",
       "      <td>https://youtu.be/JUEEOxIUOL8</td>\n",
       "      <td>119196</td>\n",
       "      <td>NaN</td>\n",
       "      <td>118278</td>\n",
       "      <td>The Gingerbread Man</td>\n",
       "    </tr>\n",
       "    <tr>\n",
       "      <th>83</th>\n",
       "      <td>https://youtu.be/NJP7JzpfO88</td>\n",
       "      <td>161023</td>\n",
       "      <td>NaN</td>\n",
       "      <td>80030</td>\n",
       "      <td>Tumbleweeds</td>\n",
       "    </tr>\n",
       "    <tr>\n",
       "      <th>84</th>\n",
       "      <td>https://youtu.be/i6zhRf6uQyA</td>\n",
       "      <td>216772</td>\n",
       "      <td>NaN</td>\n",
       "      <td>576820</td>\n",
       "      <td>Turn it up</td>\n",
       "    </tr>\n",
       "    <tr>\n",
       "      <th>85</th>\n",
       "      <td>https://youtu.be/BPQQe2fFM3Q</td>\n",
       "      <td>180052</td>\n",
       "      <td>NaN</td>\n",
       "      <td>2182900</td>\n",
       "      <td>The Adventures of Pluto Nash</td>\n",
       "    </tr>\n",
       "    <tr>\n",
       "      <th>86</th>\n",
       "      <td>https://youtu.be/r5X-hFf6Bwo</td>\n",
       "      <td>167260</td>\n",
       "      <td>NaN</td>\n",
       "      <td>72629713</td>\n",
       "      <td>The Lord of the Rings: The Return of the King</td>\n",
       "    </tr>\n",
       "    <tr>\n",
       "      <th>87</th>\n",
       "      <td>https://youtu.be/lAxgztbYDbs</td>\n",
       "      <td>304141</td>\n",
       "      <td>NaN</td>\n",
       "      <td>93687367</td>\n",
       "      <td>Harry Potter and the Prisoner of Azkaban</td>\n",
       "    </tr>\n",
       "    <tr>\n",
       "      <th>88</th>\n",
       "      <td>https://youtu.be/KIk5rfA5uWE</td>\n",
       "      <td>371257</td>\n",
       "      <td>NaN</td>\n",
       "      <td>2188199</td>\n",
       "      <td>Stay</td>\n",
       "    </tr>\n",
       "    <tr>\n",
       "      <th>89</th>\n",
       "      <td>https://youtu.be/Q5hA3PN0uic</td>\n",
       "      <td>460792</td>\n",
       "      <td>NaN</td>\n",
       "      <td>410804</td>\n",
       "      <td>Fast Food Nation</td>\n",
       "    </tr>\n",
       "    <tr>\n",
       "      <th>90</th>\n",
       "      <td>https://youtu.be/g7ArZ7VD-QQ</td>\n",
       "      <td>758758</td>\n",
       "      <td>NaN</td>\n",
       "      <td>212440</td>\n",
       "      <td>Into the Wild</td>\n",
       "    </tr>\n",
       "    <tr>\n",
       "      <th>91</th>\n",
       "      <td>https://youtu.be/61-GFxjTyV0</td>\n",
       "      <td>1125849</td>\n",
       "      <td>NaN</td>\n",
       "      <td>202714</td>\n",
       "      <td>The Wrestler</td>\n",
       "    </tr>\n",
       "    <tr>\n",
       "      <th>92</th>\n",
       "      <td>https://youtu.be/AIzbwV7on6Q</td>\n",
       "      <td>1010048</td>\n",
       "      <td>NaN</td>\n",
       "      <td>360018</td>\n",
       "      <td>Slumdog Millionaire</td>\n",
       "    </tr>\n",
       "    <tr>\n",
       "      <th>93</th>\n",
       "      <td>https://youtu.be/Fi9AVKqHzHU</td>\n",
       "      <td>1116184</td>\n",
       "      <td>NaN</td>\n",
       "      <td>50353641</td>\n",
       "      <td>Jackass 3-D</td>\n",
       "    </tr>\n",
       "    <tr>\n",
       "      <th>94</th>\n",
       "      <td>https://youtu.be/6kw1UVovByw</td>\n",
       "      <td>1074638</td>\n",
       "      <td>NaN</td>\n",
       "      <td>88364714</td>\n",
       "      <td>Skyfall</td>\n",
       "    </tr>\n",
       "    <tr>\n",
       "      <th>95</th>\n",
       "      <td>https://youtu.be/C_Tsj_wTJkQ</td>\n",
       "      <td>1951265</td>\n",
       "      <td>NaN</td>\n",
       "      <td>121897634</td>\n",
       "      <td>The Hunger Games: Mocking Jay - Part 1</td>\n",
       "    </tr>\n",
       "    <tr>\n",
       "      <th>96</th>\n",
       "      <td>https://youtu.be/RFinNxS5KN4</td>\n",
       "      <td>369610</td>\n",
       "      <td>NaN</td>\n",
       "      <td>208806270</td>\n",
       "      <td>Jurassic World</td>\n",
       "    </tr>\n",
       "    <tr>\n",
       "      <th>97</th>\n",
       "      <td>https://youtu.be/KqRdVOQ98k8</td>\n",
       "      <td>2582500</td>\n",
       "      <td>NaN</td>\n",
       "      <td>3613567</td>\n",
       "      <td>Shut In</td>\n",
       "    </tr>\n",
       "    <tr>\n",
       "      <th>98</th>\n",
       "      <td>https://youtu.be/Vu4UPet8Nyc</td>\n",
       "      <td>4209788</td>\n",
       "      <td>NaN</td>\n",
       "      <td>1172036</td>\n",
       "      <td>Molly's Game</td>\n",
       "    </tr>\n",
       "    <tr>\n",
       "      <th>99</th>\n",
       "      <td>https://youtu.be/7Pa_Weidt08</td>\n",
       "      <td>5117670</td>\n",
       "      <td>NaN</td>\n",
       "      <td>25010928</td>\n",
       "      <td>Peter Rabbit</td>\n",
       "    </tr>\n",
       "    <tr>\n",
       "      <th>100</th>\n",
       "      <td>https://youtu.be/pFc6I0rgmgY</td>\n",
       "      <td>4209788</td>\n",
       "      <td>NaN</td>\n",
       "      <td>10845330</td>\n",
       "      <td>BlacKkKlansman</td>\n",
       "    </tr>\n",
       "    <tr>\n",
       "      <th>101</th>\n",
       "      <td>https://youtu.be/JAHKQPBKSZ8</td>\n",
       "      <td>4154916</td>\n",
       "      <td>NaN</td>\n",
       "      <td>2375325</td>\n",
       "      <td>Replicas</td>\n",
       "    </tr>\n",
       "    <tr>\n",
       "      <th>102</th>\n",
       "      <td>https://youtu.be/H6MLJG0RdDE</td>\n",
       "      <td>8364368</td>\n",
       "      <td>NaN</td>\n",
       "      <td>12005210</td>\n",
       "      <td>Crawl</td>\n",
       "    </tr>\n",
       "  </tbody>\n",
       "</table>\n",
       "<p>103 rows × 5 columns</p>\n",
       "</div>"
      ],
      "text/plain": [
       "                              url  imdb_id  prediction  ground_truth  \\\n",
       "0    https://youtu.be/I1C2gCXo4Gs   190590         NaN        195104   \n",
       "1    https://youtu.be/PQNLfo-SOR4  1324999         NaN     138122261   \n",
       "2    https://youtu.be/Ocz50YJOFTM  1673434         NaN     141067634   \n",
       "3    https://youtu.be/gk39pXpBpFo  1394211         NaN          2692   \n",
       "4    https://youtu.be/Ol6j9xlQN1w  1470827         NaN         20508   \n",
       "5    https://youtu.be/BuE98oeL-e0  1584016         NaN        257285   \n",
       "6    https://youtu.be/-JZ_moituIo  1245526         NaN      21761408   \n",
       "7    https://youtu.be/LrceH3952Hg  1152822         NaN         31893   \n",
       "8    https://youtu.be/xrQt_pwGdB0  1032751         NaN       3048665   \n",
       "9    https://youtu.be/evhh3NE3fyw  1423995         NaN         75766   \n",
       "10   https://youtu.be/XBfcGLBJ2Uc  1142977         NaN      11412213   \n",
       "11   https://youtu.be/nlvYKl1fjBI   401729         NaN      30180188   \n",
       "12   https://youtu.be/AJ_1eS2Erhk  1564349         NaN      19152401   \n",
       "13   https://youtu.be/retX8Wj7JdM  1911658         NaN      25447444   \n",
       "14   https://youtu.be/dVDk7PXNXB8  2293640         NaN     115718405   \n",
       "15   https://youtu.be/T1GO-Jlfa58  1008023         NaN         96076   \n",
       "16   https://youtu.be/JZVkLqcqmGk   443496         NaN         19253   \n",
       "17   https://youtu.be/NgZI5VZvAy8    84805         NaN       5540470   \n",
       "18   https://youtu.be/oEp382HIisE   114898         NaN      21171780   \n",
       "19   https://youtu.be/7TavVZMewpY  6105098         NaN     191770759   \n",
       "20   https://youtu.be/H6MLJG0RdDE  8364368         NaN      12005210   \n",
       "21   https://youtu.be/i5l6a5RiR1E  7734218         NaN       8225384   \n",
       "22   https://youtu.be/1Vnghdsjmd0  8772262         NaN       6560030   \n",
       "23   https://youtu.be/NtU5Ow74P3Y  6320628         NaN      92579212   \n",
       "24   https://youtu.be/6uqvgPm8U4c  8079248         NaN      17010050   \n",
       "25   https://youtu.be/bCxm7cTpBAs  8350360         NaN      20269723   \n",
       "26   https://youtu.be/wmiIUN-7qhE  1979376         NaN     120908065   \n",
       "27   https://youtu.be/ZFy8ZgLd574  8663516         NaN      14094594   \n",
       "28   https://youtu.be/WgWsV9a3ENA  7456310         NaN       3600647   \n",
       "29   https://youtu.be/BV-WEb2oxLk  2283336         NaN      30035838   \n",
       "..                            ...      ...         ...           ...   \n",
       "73   https://youtu.be/2iBFmKlO4BY   103074         NaN       6101297   \n",
       "74   https://youtu.be/pumf6m7d14w   102526         NaN       7039622   \n",
       "75   https://youtu.be/zzwPuJklv4w   104692         NaN       7751971   \n",
       "76   https://youtu.be/gG22XNhtnoY   108052         NaN        656636   \n",
       "77   https://youtu.be/g-HeV8Z6iXc   109831         NaN        138486   \n",
       "78   https://youtu.be/yNLaTtpovys   113161         NaN      12700007   \n",
       "79   https://youtu.be/rCCaTPY-z4Q   116695         NaN      17084296   \n",
       "80   https://youtu.be/IOmm1OD2ArQ   120490         NaN         66920   \n",
       "81   https://youtu.be/qFee7ad2Zgo   120376         NaN           217   \n",
       "82   https://youtu.be/JUEEOxIUOL8   119196         NaN        118278   \n",
       "83   https://youtu.be/NJP7JzpfO88   161023         NaN         80030   \n",
       "84   https://youtu.be/i6zhRf6uQyA   216772         NaN        576820   \n",
       "85   https://youtu.be/BPQQe2fFM3Q   180052         NaN       2182900   \n",
       "86   https://youtu.be/r5X-hFf6Bwo   167260         NaN      72629713   \n",
       "87   https://youtu.be/lAxgztbYDbs   304141         NaN      93687367   \n",
       "88   https://youtu.be/KIk5rfA5uWE   371257         NaN       2188199   \n",
       "89   https://youtu.be/Q5hA3PN0uic   460792         NaN        410804   \n",
       "90   https://youtu.be/g7ArZ7VD-QQ   758758         NaN        212440   \n",
       "91   https://youtu.be/61-GFxjTyV0  1125849         NaN        202714   \n",
       "92   https://youtu.be/AIzbwV7on6Q  1010048         NaN        360018   \n",
       "93   https://youtu.be/Fi9AVKqHzHU  1116184         NaN      50353641   \n",
       "94   https://youtu.be/6kw1UVovByw  1074638         NaN      88364714   \n",
       "95   https://youtu.be/C_Tsj_wTJkQ  1951265         NaN     121897634   \n",
       "96   https://youtu.be/RFinNxS5KN4   369610         NaN     208806270   \n",
       "97   https://youtu.be/KqRdVOQ98k8  2582500         NaN       3613567   \n",
       "98   https://youtu.be/Vu4UPet8Nyc  4209788         NaN       1172036   \n",
       "99   https://youtu.be/7Pa_Weidt08  5117670         NaN      25010928   \n",
       "100  https://youtu.be/pFc6I0rgmgY  4209788         NaN      10845330   \n",
       "101  https://youtu.be/JAHKQPBKSZ8  4154916         NaN       2375325   \n",
       "102  https://youtu.be/H6MLJG0RdDE  8364368         NaN      12005210   \n",
       "\n",
       "                                              name  \n",
       "0                       O Brother, Where Art Thou?  \n",
       "1          The Twilight Saga: Breaking Dawn Part 1  \n",
       "2          The Twilight Saga: Breaking Dawn Part 2  \n",
       "3                          Helena From the Wedding  \n",
       "4                                         Monsters  \n",
       "5                                          Catfish  \n",
       "6                                              Red  \n",
       "7                                     Freakonomics  \n",
       "8                                The Warrior's Way  \n",
       "9                                            Stone  \n",
       "10                                   Frankenweenie  \n",
       "11                                     John Carter  \n",
       "12                                    Dolphin Tale  \n",
       "13                          Penguins of Madagascar  \n",
       "14                                         Minions  \n",
       "15                                  Proud American  \n",
       "16                                          Edmond  \n",
       "17                                         Tootsie  \n",
       "18                                      Waterworld  \n",
       "19                            The Lion King (2019)  \n",
       "20                                           Crawl  \n",
       "21                                          Stuber  \n",
       "22                                       Midsommar  \n",
       "23                       Spider-Man: Far from Home  \n",
       "24                                       Yesterday  \n",
       "25                            Annabelle Comes Home  \n",
       "26                                     Toy Story 4  \n",
       "27                             Child's Play (2019)  \n",
       "28                                     Anna (2019)  \n",
       "29                      Men in Black International  \n",
       "..                                             ...  \n",
       "73                               Thelma and Louise  \n",
       "74                                   New Jack City  \n",
       "75                               The Lawnmower Man  \n",
       "76                                Schindler's List  \n",
       "77                     Four Weddings and a Funeral  \n",
       "78                                      Get Shorty  \n",
       "79                                   Jerry Maguire  \n",
       "80                             Welcome to Sarajevo  \n",
       "81                                      Trojan War  \n",
       "82                             The Gingerbread Man  \n",
       "83                                     Tumbleweeds  \n",
       "84                                      Turn it up  \n",
       "85                    The Adventures of Pluto Nash  \n",
       "86   The Lord of the Rings: The Return of the King  \n",
       "87        Harry Potter and the Prisoner of Azkaban  \n",
       "88                                            Stay  \n",
       "89                                Fast Food Nation  \n",
       "90                                   Into the Wild  \n",
       "91                                    The Wrestler  \n",
       "92                             Slumdog Millionaire  \n",
       "93                                     Jackass 3-D  \n",
       "94                                         Skyfall  \n",
       "95          The Hunger Games: Mocking Jay - Part 1  \n",
       "96                                  Jurassic World  \n",
       "97                                         Shut In  \n",
       "98                                    Molly's Game  \n",
       "99                                    Peter Rabbit  \n",
       "100                                 BlacKkKlansman  \n",
       "101                                       Replicas  \n",
       "102                                          Crawl  \n",
       "\n",
       "[103 rows x 5 columns]"
      ]
     },
     "execution_count": 30,
     "metadata": {},
     "output_type": "execute_result"
    }
   ],
   "source": [
    "path_testdata = 'testset_full.csv'\n",
    "#movie_data =pd.read_csv(path, sep='\\t', head = 0)\n",
    "test_data = pd.read_csv(path_testdata)\n",
    "test_data"
   ]
  },
  {
   "cell_type": "code",
   "execution_count": 31,
   "metadata": {
    "scrolled": true
   },
   "outputs": [
    {
     "data": {
      "text/html": [
       "<div>\n",
       "<style scoped>\n",
       "    .dataframe tbody tr th:only-of-type {\n",
       "        vertical-align: middle;\n",
       "    }\n",
       "\n",
       "    .dataframe tbody tr th {\n",
       "        vertical-align: top;\n",
       "    }\n",
       "\n",
       "    .dataframe thead th {\n",
       "        text-align: right;\n",
       "    }\n",
       "</style>\n",
       "<table border=\"1\" class=\"dataframe\">\n",
       "  <thead>\n",
       "    <tr style=\"text-align: right;\">\n",
       "      <th></th>\n",
       "      <th>url</th>\n",
       "      <th>imdb_id</th>\n",
       "      <th>prediction</th>\n",
       "      <th>metadata_prediction</th>\n",
       "      <th>trailer_prediction</th>\n",
       "      <th>ground_truth</th>\n",
       "      <th>name</th>\n",
       "    </tr>\n",
       "  </thead>\n",
       "  <tbody>\n",
       "    <tr>\n",
       "      <th>0</th>\n",
       "      <td>https://youtu.be/I1C2gCXo4Gs</td>\n",
       "      <td>tt0190590</td>\n",
       "      <td>0.0</td>\n",
       "      <td>9.132673e+06</td>\n",
       "      <td>3162.0</td>\n",
       "      <td>195104</td>\n",
       "      <td>O Brother, Where Art Thou?</td>\n",
       "    </tr>\n",
       "    <tr>\n",
       "      <th>1</th>\n",
       "      <td>https://youtu.be/PQNLfo-SOR4</td>\n",
       "      <td>tt1324999</td>\n",
       "      <td>0.0</td>\n",
       "      <td>3.944393e+07</td>\n",
       "      <td>10000000.0</td>\n",
       "      <td>138122261</td>\n",
       "      <td>The Twilight Saga: Breaking Dawn Part 1</td>\n",
       "    </tr>\n",
       "    <tr>\n",
       "      <th>2</th>\n",
       "      <td>https://youtu.be/Ocz50YJOFTM</td>\n",
       "      <td>tt1673434</td>\n",
       "      <td>0.0</td>\n",
       "      <td>3.907923e+07</td>\n",
       "      <td>31622776.0</td>\n",
       "      <td>141067634</td>\n",
       "      <td>The Twilight Saga: Breaking Dawn Part 2</td>\n",
       "    </tr>\n",
       "    <tr>\n",
       "      <th>3</th>\n",
       "      <td>https://youtu.be/gk39pXpBpFo</td>\n",
       "      <td>tt1394211</td>\n",
       "      <td>0.0</td>\n",
       "      <td>0.000000e+00</td>\n",
       "      <td>10000.0</td>\n",
       "      <td>2692</td>\n",
       "      <td>Helena From the Wedding</td>\n",
       "    </tr>\n",
       "    <tr>\n",
       "      <th>4</th>\n",
       "      <td>https://youtu.be/Ol6j9xlQN1w</td>\n",
       "      <td>tt1470827</td>\n",
       "      <td>0.0</td>\n",
       "      <td>3.551702e+06</td>\n",
       "      <td>3162277.0</td>\n",
       "      <td>20508</td>\n",
       "      <td>Monsters</td>\n",
       "    </tr>\n",
       "    <tr>\n",
       "      <th>5</th>\n",
       "      <td>https://youtu.be/BuE98oeL-e0</td>\n",
       "      <td>tt1584016</td>\n",
       "      <td>0.0</td>\n",
       "      <td>-5.061726e+05</td>\n",
       "      <td>10000.0</td>\n",
       "      <td>257285</td>\n",
       "      <td>Catfish</td>\n",
       "    </tr>\n",
       "    <tr>\n",
       "      <th>6</th>\n",
       "      <td>https://youtu.be/-JZ_moituIo</td>\n",
       "      <td>tt1245526</td>\n",
       "      <td>0.0</td>\n",
       "      <td>1.880967e+07</td>\n",
       "      <td>10000000.0</td>\n",
       "      <td>21761408</td>\n",
       "      <td>Red</td>\n",
       "    </tr>\n",
       "    <tr>\n",
       "      <th>7</th>\n",
       "      <td>https://youtu.be/LrceH3952Hg</td>\n",
       "      <td>tt1152822</td>\n",
       "      <td>0.0</td>\n",
       "      <td>7.215087e+05</td>\n",
       "      <td>3162277.0</td>\n",
       "      <td>31893</td>\n",
       "      <td>Freakonomics</td>\n",
       "    </tr>\n",
       "    <tr>\n",
       "      <th>8</th>\n",
       "      <td>https://youtu.be/xrQt_pwGdB0</td>\n",
       "      <td>tt1032751</td>\n",
       "      <td>0.0</td>\n",
       "      <td>1.176791e+07</td>\n",
       "      <td>10000000.0</td>\n",
       "      <td>3048665</td>\n",
       "      <td>The Warrior's Way</td>\n",
       "    </tr>\n",
       "    <tr>\n",
       "      <th>9</th>\n",
       "      <td>https://youtu.be/evhh3NE3fyw</td>\n",
       "      <td>tt1423995</td>\n",
       "      <td>0.0</td>\n",
       "      <td>7.141095e+06</td>\n",
       "      <td>1000000.0</td>\n",
       "      <td>75766</td>\n",
       "      <td>Stone</td>\n",
       "    </tr>\n",
       "    <tr>\n",
       "      <th>10</th>\n",
       "      <td>https://youtu.be/XBfcGLBJ2Uc</td>\n",
       "      <td>tt1142977</td>\n",
       "      <td>0.0</td>\n",
       "      <td>1.224490e+07</td>\n",
       "      <td>10000000.0</td>\n",
       "      <td>11412213</td>\n",
       "      <td>Frankenweenie</td>\n",
       "    </tr>\n",
       "    <tr>\n",
       "      <th>11</th>\n",
       "      <td>https://youtu.be/nlvYKl1fjBI</td>\n",
       "      <td>tt0401729</td>\n",
       "      <td>0.0</td>\n",
       "      <td>8.842185e+07</td>\n",
       "      <td>10000000.0</td>\n",
       "      <td>30180188</td>\n",
       "      <td>John Carter</td>\n",
       "    </tr>\n",
       "    <tr>\n",
       "      <th>12</th>\n",
       "      <td>https://youtu.be/AJ_1eS2Erhk</td>\n",
       "      <td>tt1564349</td>\n",
       "      <td>0.0</td>\n",
       "      <td>1.094777e+07</td>\n",
       "      <td>10000000.0</td>\n",
       "      <td>19152401</td>\n",
       "      <td>Dolphin Tale</td>\n",
       "    </tr>\n",
       "    <tr>\n",
       "      <th>13</th>\n",
       "      <td>https://youtu.be/retX8Wj7JdM</td>\n",
       "      <td>tt1911658</td>\n",
       "      <td>0.0</td>\n",
       "      <td>4.128065e+07</td>\n",
       "      <td>31622.0</td>\n",
       "      <td>25447444</td>\n",
       "      <td>Penguins of Madagascar</td>\n",
       "    </tr>\n",
       "    <tr>\n",
       "      <th>14</th>\n",
       "      <td>https://youtu.be/dVDk7PXNXB8</td>\n",
       "      <td>tt2293640</td>\n",
       "      <td>0.0</td>\n",
       "      <td>2.613492e+07</td>\n",
       "      <td>31622776.0</td>\n",
       "      <td>115718405</td>\n",
       "      <td>Minions</td>\n",
       "    </tr>\n",
       "    <tr>\n",
       "      <th>15</th>\n",
       "      <td>https://youtu.be/T1GO-Jlfa58</td>\n",
       "      <td>tt1008023</td>\n",
       "      <td>0.0</td>\n",
       "      <td>0.000000e+00</td>\n",
       "      <td>31622776.0</td>\n",
       "      <td>96076</td>\n",
       "      <td>Proud American</td>\n",
       "    </tr>\n",
       "    <tr>\n",
       "      <th>16</th>\n",
       "      <td>https://youtu.be/JZVkLqcqmGk</td>\n",
       "      <td>tt0443496</td>\n",
       "      <td>0.0</td>\n",
       "      <td>0.000000e+00</td>\n",
       "      <td>10000000.0</td>\n",
       "      <td>19253</td>\n",
       "      <td>Edmond</td>\n",
       "    </tr>\n",
       "    <tr>\n",
       "      <th>17</th>\n",
       "      <td>https://youtu.be/NgZI5VZvAy8</td>\n",
       "      <td>tt0084805</td>\n",
       "      <td>0.0</td>\n",
       "      <td>4.975822e+06</td>\n",
       "      <td>10000000.0</td>\n",
       "      <td>5540470</td>\n",
       "      <td>Tootsie</td>\n",
       "    </tr>\n",
       "    <tr>\n",
       "      <th>18</th>\n",
       "      <td>https://youtu.be/oEp382HIisE</td>\n",
       "      <td>tt0114898</td>\n",
       "      <td>0.0</td>\n",
       "      <td>5.747712e+07</td>\n",
       "      <td>31622776.0</td>\n",
       "      <td>21171780</td>\n",
       "      <td>Waterworld</td>\n",
       "    </tr>\n",
       "    <tr>\n",
       "      <th>19</th>\n",
       "      <td>https://youtu.be/7TavVZMewpY</td>\n",
       "      <td>tt6105098</td>\n",
       "      <td>0.0</td>\n",
       "      <td>0.000000e+00</td>\n",
       "      <td>100000.0</td>\n",
       "      <td>191770759</td>\n",
       "      <td>The Lion King (2019)</td>\n",
       "    </tr>\n",
       "    <tr>\n",
       "      <th>20</th>\n",
       "      <td>https://youtu.be/H6MLJG0RdDE</td>\n",
       "      <td>tt8364368</td>\n",
       "      <td>0.0</td>\n",
       "      <td>0.000000e+00</td>\n",
       "      <td>31622776.0</td>\n",
       "      <td>12005210</td>\n",
       "      <td>Crawl</td>\n",
       "    </tr>\n",
       "    <tr>\n",
       "      <th>28</th>\n",
       "      <td>https://youtu.be/i5l6a5RiR1E</td>\n",
       "      <td>tt7734218</td>\n",
       "      <td>0.0</td>\n",
       "      <td>0.000000e+00</td>\n",
       "      <td>10000000.0</td>\n",
       "      <td>8225384</td>\n",
       "      <td>Stuber</td>\n",
       "    </tr>\n",
       "    <tr>\n",
       "      <th>29</th>\n",
       "      <td>https://youtu.be/1Vnghdsjmd0</td>\n",
       "      <td>tt8772262</td>\n",
       "      <td>0.0</td>\n",
       "      <td>0.000000e+00</td>\n",
       "      <td>10000.0</td>\n",
       "      <td>6560030</td>\n",
       "      <td>Midsommar</td>\n",
       "    </tr>\n",
       "    <tr>\n",
       "      <th>30</th>\n",
       "      <td>https://youtu.be/NtU5Ow74P3Y</td>\n",
       "      <td>tt6320628</td>\n",
       "      <td>0.0</td>\n",
       "      <td>0.000000e+00</td>\n",
       "      <td>10000000.0</td>\n",
       "      <td>92579212</td>\n",
       "      <td>Spider-Man: Far from Home</td>\n",
       "    </tr>\n",
       "    <tr>\n",
       "      <th>31</th>\n",
       "      <td>https://youtu.be/6uqvgPm8U4c</td>\n",
       "      <td>tt8079248</td>\n",
       "      <td>0.0</td>\n",
       "      <td>0.000000e+00</td>\n",
       "      <td>100000.0</td>\n",
       "      <td>17010050</td>\n",
       "      <td>Yesterday</td>\n",
       "    </tr>\n",
       "    <tr>\n",
       "      <th>32</th>\n",
       "      <td>https://youtu.be/bCxm7cTpBAs</td>\n",
       "      <td>tt8350360</td>\n",
       "      <td>0.0</td>\n",
       "      <td>0.000000e+00</td>\n",
       "      <td>10000000.0</td>\n",
       "      <td>20269723</td>\n",
       "      <td>Annabelle Comes Home</td>\n",
       "    </tr>\n",
       "    <tr>\n",
       "      <th>33</th>\n",
       "      <td>https://youtu.be/wmiIUN-7qhE</td>\n",
       "      <td>tt1979376</td>\n",
       "      <td>0.0</td>\n",
       "      <td>0.000000e+00</td>\n",
       "      <td>316.0</td>\n",
       "      <td>120908065</td>\n",
       "      <td>Toy Story 4</td>\n",
       "    </tr>\n",
       "    <tr>\n",
       "      <th>34</th>\n",
       "      <td>https://youtu.be/ZFy8ZgLd574</td>\n",
       "      <td>tt8663516</td>\n",
       "      <td>0.0</td>\n",
       "      <td>0.000000e+00</td>\n",
       "      <td>10000000.0</td>\n",
       "      <td>14094594</td>\n",
       "      <td>Child's Play (2019)</td>\n",
       "    </tr>\n",
       "    <tr>\n",
       "      <th>35</th>\n",
       "      <td>https://youtu.be/WgWsV9a3ENA</td>\n",
       "      <td>tt7456310</td>\n",
       "      <td>0.0</td>\n",
       "      <td>0.000000e+00</td>\n",
       "      <td>1000000.0</td>\n",
       "      <td>3600647</td>\n",
       "      <td>Anna (2019)</td>\n",
       "    </tr>\n",
       "    <tr>\n",
       "      <th>36</th>\n",
       "      <td>https://youtu.be/BV-WEb2oxLk</td>\n",
       "      <td>tt2283336</td>\n",
       "      <td>0.0</td>\n",
       "      <td>0.000000e+00</td>\n",
       "      <td>10000.0</td>\n",
       "      <td>30035838</td>\n",
       "      <td>Men in Black International</td>\n",
       "    </tr>\n",
       "    <tr>\n",
       "      <th>...</th>\n",
       "      <td>...</td>\n",
       "      <td>...</td>\n",
       "      <td>...</td>\n",
       "      <td>...</td>\n",
       "      <td>...</td>\n",
       "      <td>...</td>\n",
       "      <td>...</td>\n",
       "    </tr>\n",
       "    <tr>\n",
       "      <th>81</th>\n",
       "      <td>https://youtu.be/pumf6m7d14w</td>\n",
       "      <td>tt0102526</td>\n",
       "      <td>0.0</td>\n",
       "      <td>5.495628e+06</td>\n",
       "      <td>10000000.0</td>\n",
       "      <td>7039622</td>\n",
       "      <td>New Jack City</td>\n",
       "    </tr>\n",
       "    <tr>\n",
       "      <th>82</th>\n",
       "      <td>https://youtu.be/zzwPuJklv4w</td>\n",
       "      <td>tt0104692</td>\n",
       "      <td>0.0</td>\n",
       "      <td>6.013148e+06</td>\n",
       "      <td>100000.0</td>\n",
       "      <td>7751971</td>\n",
       "      <td>The Lawnmower Man</td>\n",
       "    </tr>\n",
       "    <tr>\n",
       "      <th>83</th>\n",
       "      <td>https://youtu.be/gG22XNhtnoY</td>\n",
       "      <td>tt0108052</td>\n",
       "      <td>0.0</td>\n",
       "      <td>7.421292e+06</td>\n",
       "      <td>1000000.0</td>\n",
       "      <td>656636</td>\n",
       "      <td>Schindler's List</td>\n",
       "    </tr>\n",
       "    <tr>\n",
       "      <th>84</th>\n",
       "      <td>https://youtu.be/g-HeV8Z6iXc</td>\n",
       "      <td>tt0109831</td>\n",
       "      <td>0.0</td>\n",
       "      <td>5.163977e+06</td>\n",
       "      <td>3162277.0</td>\n",
       "      <td>138486</td>\n",
       "      <td>Four Weddings and a Funeral</td>\n",
       "    </tr>\n",
       "    <tr>\n",
       "      <th>85</th>\n",
       "      <td>https://youtu.be/yNLaTtpovys</td>\n",
       "      <td>tt0113161</td>\n",
       "      <td>0.0</td>\n",
       "      <td>8.388872e+06</td>\n",
       "      <td>10000000.0</td>\n",
       "      <td>12700007</td>\n",
       "      <td>Get Shorty</td>\n",
       "    </tr>\n",
       "    <tr>\n",
       "      <th>86</th>\n",
       "      <td>https://youtu.be/rCCaTPY-z4Q</td>\n",
       "      <td>tt0116695</td>\n",
       "      <td>0.0</td>\n",
       "      <td>1.427811e+07</td>\n",
       "      <td>10000000.0</td>\n",
       "      <td>17084296</td>\n",
       "      <td>Jerry Maguire</td>\n",
       "    </tr>\n",
       "    <tr>\n",
       "      <th>87</th>\n",
       "      <td>https://youtu.be/IOmm1OD2ArQ</td>\n",
       "      <td>tt0120490</td>\n",
       "      <td>0.0</td>\n",
       "      <td>0.000000e+00</td>\n",
       "      <td>100000.0</td>\n",
       "      <td>66920</td>\n",
       "      <td>Welcome to Sarajevo</td>\n",
       "    </tr>\n",
       "    <tr>\n",
       "      <th>88</th>\n",
       "      <td>https://youtu.be/qFee7ad2Zgo</td>\n",
       "      <td>tt0120376</td>\n",
       "      <td>0.0</td>\n",
       "      <td>0.000000e+00</td>\n",
       "      <td>100000.0</td>\n",
       "      <td>217</td>\n",
       "      <td>Trojan War</td>\n",
       "    </tr>\n",
       "    <tr>\n",
       "      <th>89</th>\n",
       "      <td>https://youtu.be/JUEEOxIUOL8</td>\n",
       "      <td>tt0119196</td>\n",
       "      <td>0.0</td>\n",
       "      <td>0.000000e+00</td>\n",
       "      <td>3162277.0</td>\n",
       "      <td>118278</td>\n",
       "      <td>The Gingerbread Man</td>\n",
       "    </tr>\n",
       "    <tr>\n",
       "      <th>90</th>\n",
       "      <td>https://youtu.be/NJP7JzpfO88</td>\n",
       "      <td>tt0161023</td>\n",
       "      <td>0.0</td>\n",
       "      <td>1.357206e+06</td>\n",
       "      <td>316227.0</td>\n",
       "      <td>80030</td>\n",
       "      <td>Tumbleweeds</td>\n",
       "    </tr>\n",
       "    <tr>\n",
       "      <th>91</th>\n",
       "      <td>https://youtu.be/i6zhRf6uQyA</td>\n",
       "      <td>tt0216772</td>\n",
       "      <td>0.0</td>\n",
       "      <td>0.000000e+00</td>\n",
       "      <td>100000.0</td>\n",
       "      <td>576820</td>\n",
       "      <td>Turn it up</td>\n",
       "    </tr>\n",
       "    <tr>\n",
       "      <th>92</th>\n",
       "      <td>https://youtu.be/BPQQe2fFM3Q</td>\n",
       "      <td>tt0180052</td>\n",
       "      <td>0.0</td>\n",
       "      <td>3.287364e+07</td>\n",
       "      <td>3162277.0</td>\n",
       "      <td>2182900</td>\n",
       "      <td>The Adventures of Pluto Nash</td>\n",
       "    </tr>\n",
       "    <tr>\n",
       "      <th>93</th>\n",
       "      <td>https://youtu.be/r5X-hFf6Bwo</td>\n",
       "      <td>tt0167260</td>\n",
       "      <td>0.0</td>\n",
       "      <td>3.067924e+07</td>\n",
       "      <td>100000000.0</td>\n",
       "      <td>72629713</td>\n",
       "      <td>The Lord of the Rings: The Return of the King</td>\n",
       "    </tr>\n",
       "    <tr>\n",
       "      <th>94</th>\n",
       "      <td>https://youtu.be/lAxgztbYDbs</td>\n",
       "      <td>tt0304141</td>\n",
       "      <td>0.0</td>\n",
       "      <td>4.531414e+07</td>\n",
       "      <td>3162277.0</td>\n",
       "      <td>93687367</td>\n",
       "      <td>Harry Potter and the Prisoner of Azkaban</td>\n",
       "    </tr>\n",
       "    <tr>\n",
       "      <th>95</th>\n",
       "      <td>https://youtu.be/KIk5rfA5uWE</td>\n",
       "      <td>tt0371257</td>\n",
       "      <td>0.0</td>\n",
       "      <td>1.503100e+07</td>\n",
       "      <td>10000000.0</td>\n",
       "      <td>2188199</td>\n",
       "      <td>Stay</td>\n",
       "    </tr>\n",
       "    <tr>\n",
       "      <th>96</th>\n",
       "      <td>https://youtu.be/Q5hA3PN0uic</td>\n",
       "      <td>tt0460792</td>\n",
       "      <td>0.0</td>\n",
       "      <td>0.000000e+00</td>\n",
       "      <td>316227.0</td>\n",
       "      <td>410804</td>\n",
       "      <td>Fast Food Nation</td>\n",
       "    </tr>\n",
       "    <tr>\n",
       "      <th>97</th>\n",
       "      <td>https://youtu.be/g7ArZ7VD-QQ</td>\n",
       "      <td>tt0758758</td>\n",
       "      <td>0.0</td>\n",
       "      <td>5.732723e+06</td>\n",
       "      <td>316227.0</td>\n",
       "      <td>212440</td>\n",
       "      <td>Into the Wild</td>\n",
       "    </tr>\n",
       "    <tr>\n",
       "      <th>98</th>\n",
       "      <td>https://youtu.be/61-GFxjTyV0</td>\n",
       "      <td>tt1125849</td>\n",
       "      <td>0.0</td>\n",
       "      <td>1.876274e+05</td>\n",
       "      <td>100000.0</td>\n",
       "      <td>202714</td>\n",
       "      <td>The Wrestler</td>\n",
       "    </tr>\n",
       "    <tr>\n",
       "      <th>99</th>\n",
       "      <td>https://youtu.be/AIzbwV7on6Q</td>\n",
       "      <td>tt1010048</td>\n",
       "      <td>0.0</td>\n",
       "      <td>8.061793e+06</td>\n",
       "      <td>316227.0</td>\n",
       "      <td>360018</td>\n",
       "      <td>Slumdog Millionaire</td>\n",
       "    </tr>\n",
       "    <tr>\n",
       "      <th>100</th>\n",
       "      <td>https://youtu.be/Fi9AVKqHzHU</td>\n",
       "      <td>tt1116184</td>\n",
       "      <td>0.0</td>\n",
       "      <td>5.641445e+06</td>\n",
       "      <td>1000000.0</td>\n",
       "      <td>50353641</td>\n",
       "      <td>Jackass 3-D</td>\n",
       "    </tr>\n",
       "    <tr>\n",
       "      <th>101</th>\n",
       "      <td>https://youtu.be/6kw1UVovByw</td>\n",
       "      <td>tt1074638</td>\n",
       "      <td>0.0</td>\n",
       "      <td>6.478213e+07</td>\n",
       "      <td>100000000.0</td>\n",
       "      <td>88364714</td>\n",
       "      <td>Skyfall</td>\n",
       "    </tr>\n",
       "    <tr>\n",
       "      <th>102</th>\n",
       "      <td>https://youtu.be/C_Tsj_wTJkQ</td>\n",
       "      <td>tt1951265</td>\n",
       "      <td>0.0</td>\n",
       "      <td>4.134797e+07</td>\n",
       "      <td>100000000.0</td>\n",
       "      <td>121897634</td>\n",
       "      <td>The Hunger Games: Mocking Jay - Part 1</td>\n",
       "    </tr>\n",
       "    <tr>\n",
       "      <th>103</th>\n",
       "      <td>https://youtu.be/RFinNxS5KN4</td>\n",
       "      <td>tt0369610</td>\n",
       "      <td>0.0</td>\n",
       "      <td>5.138730e+07</td>\n",
       "      <td>10000000.0</td>\n",
       "      <td>208806270</td>\n",
       "      <td>Jurassic World</td>\n",
       "    </tr>\n",
       "    <tr>\n",
       "      <th>104</th>\n",
       "      <td>https://youtu.be/KqRdVOQ98k8</td>\n",
       "      <td>tt2582500</td>\n",
       "      <td>0.0</td>\n",
       "      <td>-4.162812e+04</td>\n",
       "      <td>3162277.0</td>\n",
       "      <td>3613567</td>\n",
       "      <td>Shut In</td>\n",
       "    </tr>\n",
       "    <tr>\n",
       "      <th>105</th>\n",
       "      <td>https://youtu.be/Vu4UPet8Nyc</td>\n",
       "      <td>tt4209788</td>\n",
       "      <td>0.0</td>\n",
       "      <td>0.000000e+00</td>\n",
       "      <td>100000.0</td>\n",
       "      <td>1172036</td>\n",
       "      <td>Molly's Game</td>\n",
       "    </tr>\n",
       "    <tr>\n",
       "      <th>106</th>\n",
       "      <td>https://youtu.be/Vu4UPet8Nyc</td>\n",
       "      <td>tt4209788</td>\n",
       "      <td>0.0</td>\n",
       "      <td>0.000000e+00</td>\n",
       "      <td>316227.0</td>\n",
       "      <td>1172036</td>\n",
       "      <td>Molly's Game</td>\n",
       "    </tr>\n",
       "    <tr>\n",
       "      <th>107</th>\n",
       "      <td>https://youtu.be/pFc6I0rgmgY</td>\n",
       "      <td>tt4209788</td>\n",
       "      <td>0.0</td>\n",
       "      <td>0.000000e+00</td>\n",
       "      <td>100000.0</td>\n",
       "      <td>10845330</td>\n",
       "      <td>BlacKkKlansman</td>\n",
       "    </tr>\n",
       "    <tr>\n",
       "      <th>108</th>\n",
       "      <td>https://youtu.be/pFc6I0rgmgY</td>\n",
       "      <td>tt4209788</td>\n",
       "      <td>0.0</td>\n",
       "      <td>0.000000e+00</td>\n",
       "      <td>316227.0</td>\n",
       "      <td>10845330</td>\n",
       "      <td>BlacKkKlansman</td>\n",
       "    </tr>\n",
       "    <tr>\n",
       "      <th>109</th>\n",
       "      <td>https://youtu.be/7Pa_Weidt08</td>\n",
       "      <td>tt5117670</td>\n",
       "      <td>0.0</td>\n",
       "      <td>0.000000e+00</td>\n",
       "      <td>31622776.0</td>\n",
       "      <td>25010928</td>\n",
       "      <td>Peter Rabbit</td>\n",
       "    </tr>\n",
       "    <tr>\n",
       "      <th>110</th>\n",
       "      <td>https://youtu.be/JAHKQPBKSZ8</td>\n",
       "      <td>tt4154916</td>\n",
       "      <td>0.0</td>\n",
       "      <td>0.000000e+00</td>\n",
       "      <td>10000000.0</td>\n",
       "      <td>2375325</td>\n",
       "      <td>Replicas</td>\n",
       "    </tr>\n",
       "  </tbody>\n",
       "</table>\n",
       "<p>104 rows × 7 columns</p>\n",
       "</div>"
      ],
      "text/plain": [
       "                              url    imdb_id  prediction  metadata_prediction  \\\n",
       "0    https://youtu.be/I1C2gCXo4Gs  tt0190590         0.0         9.132673e+06   \n",
       "1    https://youtu.be/PQNLfo-SOR4  tt1324999         0.0         3.944393e+07   \n",
       "2    https://youtu.be/Ocz50YJOFTM  tt1673434         0.0         3.907923e+07   \n",
       "3    https://youtu.be/gk39pXpBpFo  tt1394211         0.0         0.000000e+00   \n",
       "4    https://youtu.be/Ol6j9xlQN1w  tt1470827         0.0         3.551702e+06   \n",
       "5    https://youtu.be/BuE98oeL-e0  tt1584016         0.0        -5.061726e+05   \n",
       "6    https://youtu.be/-JZ_moituIo  tt1245526         0.0         1.880967e+07   \n",
       "7    https://youtu.be/LrceH3952Hg  tt1152822         0.0         7.215087e+05   \n",
       "8    https://youtu.be/xrQt_pwGdB0  tt1032751         0.0         1.176791e+07   \n",
       "9    https://youtu.be/evhh3NE3fyw  tt1423995         0.0         7.141095e+06   \n",
       "10   https://youtu.be/XBfcGLBJ2Uc  tt1142977         0.0         1.224490e+07   \n",
       "11   https://youtu.be/nlvYKl1fjBI  tt0401729         0.0         8.842185e+07   \n",
       "12   https://youtu.be/AJ_1eS2Erhk  tt1564349         0.0         1.094777e+07   \n",
       "13   https://youtu.be/retX8Wj7JdM  tt1911658         0.0         4.128065e+07   \n",
       "14   https://youtu.be/dVDk7PXNXB8  tt2293640         0.0         2.613492e+07   \n",
       "15   https://youtu.be/T1GO-Jlfa58  tt1008023         0.0         0.000000e+00   \n",
       "16   https://youtu.be/JZVkLqcqmGk  tt0443496         0.0         0.000000e+00   \n",
       "17   https://youtu.be/NgZI5VZvAy8  tt0084805         0.0         4.975822e+06   \n",
       "18   https://youtu.be/oEp382HIisE  tt0114898         0.0         5.747712e+07   \n",
       "19   https://youtu.be/7TavVZMewpY  tt6105098         0.0         0.000000e+00   \n",
       "20   https://youtu.be/H6MLJG0RdDE  tt8364368         0.0         0.000000e+00   \n",
       "28   https://youtu.be/i5l6a5RiR1E  tt7734218         0.0         0.000000e+00   \n",
       "29   https://youtu.be/1Vnghdsjmd0  tt8772262         0.0         0.000000e+00   \n",
       "30   https://youtu.be/NtU5Ow74P3Y  tt6320628         0.0         0.000000e+00   \n",
       "31   https://youtu.be/6uqvgPm8U4c  tt8079248         0.0         0.000000e+00   \n",
       "32   https://youtu.be/bCxm7cTpBAs  tt8350360         0.0         0.000000e+00   \n",
       "33   https://youtu.be/wmiIUN-7qhE  tt1979376         0.0         0.000000e+00   \n",
       "34   https://youtu.be/ZFy8ZgLd574  tt8663516         0.0         0.000000e+00   \n",
       "35   https://youtu.be/WgWsV9a3ENA  tt7456310         0.0         0.000000e+00   \n",
       "36   https://youtu.be/BV-WEb2oxLk  tt2283336         0.0         0.000000e+00   \n",
       "..                            ...        ...         ...                  ...   \n",
       "81   https://youtu.be/pumf6m7d14w  tt0102526         0.0         5.495628e+06   \n",
       "82   https://youtu.be/zzwPuJklv4w  tt0104692         0.0         6.013148e+06   \n",
       "83   https://youtu.be/gG22XNhtnoY  tt0108052         0.0         7.421292e+06   \n",
       "84   https://youtu.be/g-HeV8Z6iXc  tt0109831         0.0         5.163977e+06   \n",
       "85   https://youtu.be/yNLaTtpovys  tt0113161         0.0         8.388872e+06   \n",
       "86   https://youtu.be/rCCaTPY-z4Q  tt0116695         0.0         1.427811e+07   \n",
       "87   https://youtu.be/IOmm1OD2ArQ  tt0120490         0.0         0.000000e+00   \n",
       "88   https://youtu.be/qFee7ad2Zgo  tt0120376         0.0         0.000000e+00   \n",
       "89   https://youtu.be/JUEEOxIUOL8  tt0119196         0.0         0.000000e+00   \n",
       "90   https://youtu.be/NJP7JzpfO88  tt0161023         0.0         1.357206e+06   \n",
       "91   https://youtu.be/i6zhRf6uQyA  tt0216772         0.0         0.000000e+00   \n",
       "92   https://youtu.be/BPQQe2fFM3Q  tt0180052         0.0         3.287364e+07   \n",
       "93   https://youtu.be/r5X-hFf6Bwo  tt0167260         0.0         3.067924e+07   \n",
       "94   https://youtu.be/lAxgztbYDbs  tt0304141         0.0         4.531414e+07   \n",
       "95   https://youtu.be/KIk5rfA5uWE  tt0371257         0.0         1.503100e+07   \n",
       "96   https://youtu.be/Q5hA3PN0uic  tt0460792         0.0         0.000000e+00   \n",
       "97   https://youtu.be/g7ArZ7VD-QQ  tt0758758         0.0         5.732723e+06   \n",
       "98   https://youtu.be/61-GFxjTyV0  tt1125849         0.0         1.876274e+05   \n",
       "99   https://youtu.be/AIzbwV7on6Q  tt1010048         0.0         8.061793e+06   \n",
       "100  https://youtu.be/Fi9AVKqHzHU  tt1116184         0.0         5.641445e+06   \n",
       "101  https://youtu.be/6kw1UVovByw  tt1074638         0.0         6.478213e+07   \n",
       "102  https://youtu.be/C_Tsj_wTJkQ  tt1951265         0.0         4.134797e+07   \n",
       "103  https://youtu.be/RFinNxS5KN4  tt0369610         0.0         5.138730e+07   \n",
       "104  https://youtu.be/KqRdVOQ98k8  tt2582500         0.0        -4.162812e+04   \n",
       "105  https://youtu.be/Vu4UPet8Nyc  tt4209788         0.0         0.000000e+00   \n",
       "106  https://youtu.be/Vu4UPet8Nyc  tt4209788         0.0         0.000000e+00   \n",
       "107  https://youtu.be/pFc6I0rgmgY  tt4209788         0.0         0.000000e+00   \n",
       "108  https://youtu.be/pFc6I0rgmgY  tt4209788         0.0         0.000000e+00   \n",
       "109  https://youtu.be/7Pa_Weidt08  tt5117670         0.0         0.000000e+00   \n",
       "110  https://youtu.be/JAHKQPBKSZ8  tt4154916         0.0         0.000000e+00   \n",
       "\n",
       "     trailer_prediction  ground_truth  \\\n",
       "0                3162.0        195104   \n",
       "1            10000000.0     138122261   \n",
       "2            31622776.0     141067634   \n",
       "3               10000.0          2692   \n",
       "4             3162277.0         20508   \n",
       "5               10000.0        257285   \n",
       "6            10000000.0      21761408   \n",
       "7             3162277.0         31893   \n",
       "8            10000000.0       3048665   \n",
       "9             1000000.0         75766   \n",
       "10           10000000.0      11412213   \n",
       "11           10000000.0      30180188   \n",
       "12           10000000.0      19152401   \n",
       "13              31622.0      25447444   \n",
       "14           31622776.0     115718405   \n",
       "15           31622776.0         96076   \n",
       "16           10000000.0         19253   \n",
       "17           10000000.0       5540470   \n",
       "18           31622776.0      21171780   \n",
       "19             100000.0     191770759   \n",
       "20           31622776.0      12005210   \n",
       "28           10000000.0       8225384   \n",
       "29              10000.0       6560030   \n",
       "30           10000000.0      92579212   \n",
       "31             100000.0      17010050   \n",
       "32           10000000.0      20269723   \n",
       "33                316.0     120908065   \n",
       "34           10000000.0      14094594   \n",
       "35            1000000.0       3600647   \n",
       "36              10000.0      30035838   \n",
       "..                  ...           ...   \n",
       "81           10000000.0       7039622   \n",
       "82             100000.0       7751971   \n",
       "83            1000000.0        656636   \n",
       "84            3162277.0        138486   \n",
       "85           10000000.0      12700007   \n",
       "86           10000000.0      17084296   \n",
       "87             100000.0         66920   \n",
       "88             100000.0           217   \n",
       "89            3162277.0        118278   \n",
       "90             316227.0         80030   \n",
       "91             100000.0        576820   \n",
       "92            3162277.0       2182900   \n",
       "93          100000000.0      72629713   \n",
       "94            3162277.0      93687367   \n",
       "95           10000000.0       2188199   \n",
       "96             316227.0        410804   \n",
       "97             316227.0        212440   \n",
       "98             100000.0        202714   \n",
       "99             316227.0        360018   \n",
       "100           1000000.0      50353641   \n",
       "101         100000000.0      88364714   \n",
       "102         100000000.0     121897634   \n",
       "103          10000000.0     208806270   \n",
       "104           3162277.0       3613567   \n",
       "105            100000.0       1172036   \n",
       "106            316227.0       1172036   \n",
       "107            100000.0      10845330   \n",
       "108            316227.0      10845330   \n",
       "109          31622776.0      25010928   \n",
       "110          10000000.0       2375325   \n",
       "\n",
       "                                              name  \n",
       "0                       O Brother, Where Art Thou?  \n",
       "1          The Twilight Saga: Breaking Dawn Part 1  \n",
       "2          The Twilight Saga: Breaking Dawn Part 2  \n",
       "3                          Helena From the Wedding  \n",
       "4                                         Monsters  \n",
       "5                                          Catfish  \n",
       "6                                              Red  \n",
       "7                                     Freakonomics  \n",
       "8                                The Warrior's Way  \n",
       "9                                            Stone  \n",
       "10                                   Frankenweenie  \n",
       "11                                     John Carter  \n",
       "12                                    Dolphin Tale  \n",
       "13                          Penguins of Madagascar  \n",
       "14                                         Minions  \n",
       "15                                  Proud American  \n",
       "16                                          Edmond  \n",
       "17                                         Tootsie  \n",
       "18                                      Waterworld  \n",
       "19                            The Lion King (2019)  \n",
       "20                                           Crawl  \n",
       "28                                          Stuber  \n",
       "29                                       Midsommar  \n",
       "30                       Spider-Man: Far from Home  \n",
       "31                                       Yesterday  \n",
       "32                            Annabelle Comes Home  \n",
       "33                                     Toy Story 4  \n",
       "34                             Child's Play (2019)  \n",
       "35                                     Anna (2019)  \n",
       "36                      Men in Black International  \n",
       "..                                             ...  \n",
       "81                                   New Jack City  \n",
       "82                               The Lawnmower Man  \n",
       "83                                Schindler's List  \n",
       "84                     Four Weddings and a Funeral  \n",
       "85                                      Get Shorty  \n",
       "86                                   Jerry Maguire  \n",
       "87                             Welcome to Sarajevo  \n",
       "88                                      Trojan War  \n",
       "89                             The Gingerbread Man  \n",
       "90                                     Tumbleweeds  \n",
       "91                                      Turn it up  \n",
       "92                    The Adventures of Pluto Nash  \n",
       "93   The Lord of the Rings: The Return of the King  \n",
       "94        Harry Potter and the Prisoner of Azkaban  \n",
       "95                                            Stay  \n",
       "96                                Fast Food Nation  \n",
       "97                                   Into the Wild  \n",
       "98                                    The Wrestler  \n",
       "99                             Slumdog Millionaire  \n",
       "100                                    Jackass 3-D  \n",
       "101                                        Skyfall  \n",
       "102         The Hunger Games: Mocking Jay - Part 1  \n",
       "103                                 Jurassic World  \n",
       "104                                        Shut In  \n",
       "105                                   Molly's Game  \n",
       "106                                   Molly's Game  \n",
       "107                                 BlacKkKlansman  \n",
       "108                                 BlacKkKlansman  \n",
       "109                                   Peter Rabbit  \n",
       "110                                       Replicas  \n",
       "\n",
       "[104 rows x 7 columns]"
      ]
     },
     "execution_count": 31,
     "metadata": {},
     "output_type": "execute_result"
    }
   ],
   "source": [
    "test_data = test_data.drop(columns=['imdb_id', 'prediction'])\n",
    "g7_result_final = pd.merge(g7_result,test_data,how='outer',on='url')\n",
    "g7_result_final = g7_result_final.fillna(0)\n",
    "g7_result_final = g7_result_final.drop_duplicates(subset=None, keep='first', inplace=False)\n",
    "g7_result_final"
   ]
  },
  {
   "cell_type": "code",
   "execution_count": 32,
   "metadata": {},
   "outputs": [],
   "source": [
    "#no need for ground truth plot"
   ]
  },
  {
   "cell_type": "code",
   "execution_count": 33,
   "metadata": {},
   "outputs": [
    {
     "data": {
      "application/vnd.plotly.v1+json": {
       "config": {
        "plotlyServerURL": "https://plot.ly"
       },
       "data": [
        {
         "marker": {
          "color": [
           9132672.6700858,
           39443932.77478983,
           39079228.100007,
           0,
           3551701.594737808,
           -506172.6025618469,
           18809669.41849161,
           721508.6878399523,
           11767911.8581541,
           7141095.050678723,
           12244901.767671958,
           88421847.61002393,
           10947773.18595922,
           41280645.33944355,
           26134918.897197697,
           0,
           0,
           4975822.1484275265,
           57477118.299729005,
           0,
           0,
           0,
           0,
           0,
           0,
           0,
           0,
           0,
           0,
           0,
           0,
           0,
           0,
           0,
           0,
           0,
           13596079.361460872,
           11238041.265287962,
           0,
           0,
           0,
           3966594.7503207335,
           16847617.245968483,
           2074728.0866816072,
           4805114.230812052,
           9774189.841969945,
           5206564.49477593,
           7460269.230315719,
           1985041.7435098127,
           0,
           7125399.876134314,
           2943910.4004895133,
           11563557.623693256,
           6500624.02370207,
           2854345.7699828125,
           3451294.921825977,
           4045691.703070514,
           7490744.67648776,
           4150030.4064382687,
           15597778.956030956,
           5253508.215007138,
           11264108.771125484,
           20282930.243303265,
           13623538.783644617,
           0,
           19367331.00600156,
           7963597.318495687,
           7064158.399725821,
           3617280.7841230487,
           44836444.609382205,
           2879156.770259661,
           7612279.788451628,
           3157045.5122224945,
           6110384.380347707,
           5495627.8399460185,
           6013148.043332936,
           7421291.8788770065,
           5163976.959016772,
           8388871.570456559,
           14278107.994599964,
           0,
           0,
           0,
           1357206.205920175,
           0,
           32873637.30315987,
           30679236.576543193,
           45314140.98169194,
           15030998.650050504,
           0,
           5732723.464129618,
           187627.4239881849,
           8061792.864218181,
           5641444.665572777,
           64782132.29645989,
           41347972.83935892,
           51387302.42971087,
           -41628.120107496165,
           0,
           0,
           0,
           0,
           0,
           0
          ]
         },
         "mode": "markers",
         "text": [
          "O Brother, Where Art Thou?",
          "The Twilight Saga: Breaking Dawn Part 1",
          "The Twilight Saga: Breaking Dawn Part 2",
          "Helena From the Wedding",
          "Monsters",
          "Catfish",
          "Red",
          "Freakonomics",
          "The Warrior's Way",
          "Stone",
          "Frankenweenie",
          "John Carter",
          "Dolphin Tale",
          "Penguins of Madagascar",
          "Minions",
          "Proud American",
          "Edmond",
          "Tootsie",
          "Waterworld",
          "The Lion King (2019)",
          "Crawl",
          "Stuber",
          "Midsommar",
          "Spider-Man: Far from Home",
          "Yesterday",
          "Annabelle Comes Home",
          "Toy Story 4",
          "Child's Play (2019)",
          "Anna (2019)",
          "Men in Black International",
          "Shaft (2019) ",
          "Late Night",
          "The Secret Life of Pets 2",
          "Dark Phoenix",
          "Godzilla:King of the Monsters",
          "Rocketman",
          "Return of the Jedi",
          "Indiana Jones and the Temple of Doom",
          "The Idolmaker",
          "The Grass Harp",
          "The Grand",
          "Jaws",
          "Superman (1978)",
          "Clerks",
          "Juice",
          "He Got Game",
          "White Men Can't Jump",
          "Mulholland Drive",
          "Blue Velvet",
          "Once Upon a Time in Hollywood",
          "The Big Lebowski",
          "Train to Busan",
          "Pride and Prejudice and Zombies",
          "Dead Poets Society",
          "A Fish Called Wanda",
          "The Witches of Eastwick",
          "Ferris Bueller's Day Off",
          "Back to the Future",
          "Police Academy",
          "Trading Places",
          "Star Trek II The Wrath of Khan",
          "The Blues Brothers",
          "V For Vendetta",
          "In the Line of Fire",
          "Us",
          "The Forbidden Kingdom",
          "Rumble in the Bronx",
          "Machete",
          "Beverly Hills Cop",
          "Watchmen",
          "Jackie Brown",
          "Zombieland",
          "Mo Better Blues",
          "Thelma and Louise",
          "New Jack City",
          "The Lawnmower Man",
          "Schindler's List",
          "Four Weddings and a Funeral",
          "Get Shorty",
          "Jerry Maguire",
          "Welcome to Sarajevo",
          "Trojan War",
          "The Gingerbread Man",
          "Tumbleweeds",
          "Turn it up",
          "The Adventures of Pluto Nash",
          "The Lord of the Rings: The Return of the King",
          "Harry Potter and the Prisoner of Azkaban",
          "Stay",
          "Fast Food Nation",
          "Into the Wild",
          "The Wrestler",
          "Slumdog Millionaire",
          "Jackass 3-D",
          "Skyfall",
          "The Hunger Games: Mocking Jay - Part 1",
          "Jurassic World",
          "Shut In",
          "Molly's Game",
          "Molly's Game",
          "BlacKkKlansman",
          "BlacKkKlansman",
          "Peter Rabbit",
          "Replicas"
         ],
         "type": "scatter",
         "x": [
          "O Brother, Where Art Thou?",
          "The Twilight Saga: Breaking Dawn Part 1",
          "The Twilight Saga: Breaking Dawn Part 2",
          "Helena From the Wedding",
          "Monsters",
          "Catfish",
          "Red",
          "Freakonomics",
          "The Warrior's Way",
          "Stone",
          "Frankenweenie",
          "John Carter",
          "Dolphin Tale",
          "Penguins of Madagascar",
          "Minions",
          "Proud American",
          "Edmond",
          "Tootsie",
          "Waterworld",
          "The Lion King (2019)",
          "Crawl",
          "Stuber",
          "Midsommar",
          "Spider-Man: Far from Home",
          "Yesterday",
          "Annabelle Comes Home",
          "Toy Story 4",
          "Child's Play (2019)",
          "Anna (2019)",
          "Men in Black International",
          "Shaft (2019) ",
          "Late Night",
          "The Secret Life of Pets 2",
          "Dark Phoenix",
          "Godzilla:King of the Monsters",
          "Rocketman",
          "Return of the Jedi",
          "Indiana Jones and the Temple of Doom",
          "The Idolmaker",
          "The Grass Harp",
          "The Grand",
          "Jaws",
          "Superman (1978)",
          "Clerks",
          "Juice",
          "He Got Game",
          "White Men Can't Jump",
          "Mulholland Drive",
          "Blue Velvet",
          "Once Upon a Time in Hollywood",
          "The Big Lebowski",
          "Train to Busan",
          "Pride and Prejudice and Zombies",
          "Dead Poets Society",
          "A Fish Called Wanda",
          "The Witches of Eastwick",
          "Ferris Bueller's Day Off",
          "Back to the Future",
          "Police Academy",
          "Trading Places",
          "Star Trek II The Wrath of Khan",
          "The Blues Brothers",
          "V For Vendetta",
          "In the Line of Fire",
          "Us",
          "The Forbidden Kingdom",
          "Rumble in the Bronx",
          "Machete",
          "Beverly Hills Cop",
          "Watchmen",
          "Jackie Brown",
          "Zombieland",
          "Mo Better Blues",
          "Thelma and Louise",
          "New Jack City",
          "The Lawnmower Man",
          "Schindler's List",
          "Four Weddings and a Funeral",
          "Get Shorty",
          "Jerry Maguire",
          "Welcome to Sarajevo",
          "Trojan War",
          "The Gingerbread Man",
          "Tumbleweeds",
          "Turn it up",
          "The Adventures of Pluto Nash",
          "The Lord of the Rings: The Return of the King",
          "Harry Potter and the Prisoner of Azkaban",
          "Stay",
          "Fast Food Nation",
          "Into the Wild",
          "The Wrestler",
          "Slumdog Millionaire",
          "Jackass 3-D",
          "Skyfall",
          "The Hunger Games: Mocking Jay - Part 1",
          "Jurassic World",
          "Shut In",
          "Molly's Game",
          "Molly's Game",
          "BlacKkKlansman",
          "BlacKkKlansman",
          "Peter Rabbit",
          "Replicas"
         ],
         "y": [
          9132672.6700858,
          39443932.77478983,
          39079228.100007,
          0,
          3551701.594737808,
          -506172.6025618469,
          18809669.41849161,
          721508.6878399523,
          11767911.8581541,
          7141095.050678723,
          12244901.767671958,
          88421847.61002393,
          10947773.18595922,
          41280645.33944355,
          26134918.897197697,
          0,
          0,
          4975822.1484275265,
          57477118.299729005,
          0,
          0,
          0,
          0,
          0,
          0,
          0,
          0,
          0,
          0,
          0,
          0,
          0,
          0,
          0,
          0,
          0,
          13596079.361460872,
          11238041.265287962,
          0,
          0,
          0,
          3966594.7503207335,
          16847617.245968483,
          2074728.0866816072,
          4805114.230812052,
          9774189.841969945,
          5206564.49477593,
          7460269.230315719,
          1985041.7435098127,
          0,
          7125399.876134314,
          2943910.4004895133,
          11563557.623693256,
          6500624.02370207,
          2854345.7699828125,
          3451294.921825977,
          4045691.703070514,
          7490744.67648776,
          4150030.4064382687,
          15597778.956030956,
          5253508.215007138,
          11264108.771125484,
          20282930.243303265,
          13623538.783644617,
          0,
          19367331.00600156,
          7963597.318495687,
          7064158.399725821,
          3617280.7841230487,
          44836444.609382205,
          2879156.770259661,
          7612279.788451628,
          3157045.5122224945,
          6110384.380347707,
          5495627.8399460185,
          6013148.043332936,
          7421291.8788770065,
          5163976.959016772,
          8388871.570456559,
          14278107.994599964,
          0,
          0,
          0,
          1357206.205920175,
          0,
          32873637.30315987,
          30679236.576543193,
          45314140.98169194,
          15030998.650050504,
          0,
          5732723.464129618,
          187627.4239881849,
          8061792.864218181,
          5641444.665572777,
          64782132.29645989,
          41347972.83935892,
          51387302.42971087,
          -41628.120107496165,
          0,
          0,
          0,
          0,
          0,
          0
         ]
        }
       ],
       "layout": {
        "template": {
         "data": {
          "bar": [
           {
            "error_x": {
             "color": "#2a3f5f"
            },
            "error_y": {
             "color": "#2a3f5f"
            },
            "marker": {
             "line": {
              "color": "#E5ECF6",
              "width": 0.5
             }
            },
            "type": "bar"
           }
          ],
          "barpolar": [
           {
            "marker": {
             "line": {
              "color": "#E5ECF6",
              "width": 0.5
             }
            },
            "type": "barpolar"
           }
          ],
          "carpet": [
           {
            "aaxis": {
             "endlinecolor": "#2a3f5f",
             "gridcolor": "white",
             "linecolor": "white",
             "minorgridcolor": "white",
             "startlinecolor": "#2a3f5f"
            },
            "baxis": {
             "endlinecolor": "#2a3f5f",
             "gridcolor": "white",
             "linecolor": "white",
             "minorgridcolor": "white",
             "startlinecolor": "#2a3f5f"
            },
            "type": "carpet"
           }
          ],
          "choropleth": [
           {
            "colorbar": {
             "outlinewidth": 0,
             "ticks": ""
            },
            "type": "choropleth"
           }
          ],
          "contour": [
           {
            "colorbar": {
             "outlinewidth": 0,
             "ticks": ""
            },
            "colorscale": [
             [
              0,
              "#0d0887"
             ],
             [
              0.1111111111111111,
              "#46039f"
             ],
             [
              0.2222222222222222,
              "#7201a8"
             ],
             [
              0.3333333333333333,
              "#9c179e"
             ],
             [
              0.4444444444444444,
              "#bd3786"
             ],
             [
              0.5555555555555556,
              "#d8576b"
             ],
             [
              0.6666666666666666,
              "#ed7953"
             ],
             [
              0.7777777777777778,
              "#fb9f3a"
             ],
             [
              0.8888888888888888,
              "#fdca26"
             ],
             [
              1,
              "#f0f921"
             ]
            ],
            "type": "contour"
           }
          ],
          "contourcarpet": [
           {
            "colorbar": {
             "outlinewidth": 0,
             "ticks": ""
            },
            "type": "contourcarpet"
           }
          ],
          "heatmap": [
           {
            "colorbar": {
             "outlinewidth": 0,
             "ticks": ""
            },
            "colorscale": [
             [
              0,
              "#0d0887"
             ],
             [
              0.1111111111111111,
              "#46039f"
             ],
             [
              0.2222222222222222,
              "#7201a8"
             ],
             [
              0.3333333333333333,
              "#9c179e"
             ],
             [
              0.4444444444444444,
              "#bd3786"
             ],
             [
              0.5555555555555556,
              "#d8576b"
             ],
             [
              0.6666666666666666,
              "#ed7953"
             ],
             [
              0.7777777777777778,
              "#fb9f3a"
             ],
             [
              0.8888888888888888,
              "#fdca26"
             ],
             [
              1,
              "#f0f921"
             ]
            ],
            "type": "heatmap"
           }
          ],
          "heatmapgl": [
           {
            "colorbar": {
             "outlinewidth": 0,
             "ticks": ""
            },
            "colorscale": [
             [
              0,
              "#0d0887"
             ],
             [
              0.1111111111111111,
              "#46039f"
             ],
             [
              0.2222222222222222,
              "#7201a8"
             ],
             [
              0.3333333333333333,
              "#9c179e"
             ],
             [
              0.4444444444444444,
              "#bd3786"
             ],
             [
              0.5555555555555556,
              "#d8576b"
             ],
             [
              0.6666666666666666,
              "#ed7953"
             ],
             [
              0.7777777777777778,
              "#fb9f3a"
             ],
             [
              0.8888888888888888,
              "#fdca26"
             ],
             [
              1,
              "#f0f921"
             ]
            ],
            "type": "heatmapgl"
           }
          ],
          "histogram": [
           {
            "marker": {
             "colorbar": {
              "outlinewidth": 0,
              "ticks": ""
             }
            },
            "type": "histogram"
           }
          ],
          "histogram2d": [
           {
            "colorbar": {
             "outlinewidth": 0,
             "ticks": ""
            },
            "colorscale": [
             [
              0,
              "#0d0887"
             ],
             [
              0.1111111111111111,
              "#46039f"
             ],
             [
              0.2222222222222222,
              "#7201a8"
             ],
             [
              0.3333333333333333,
              "#9c179e"
             ],
             [
              0.4444444444444444,
              "#bd3786"
             ],
             [
              0.5555555555555556,
              "#d8576b"
             ],
             [
              0.6666666666666666,
              "#ed7953"
             ],
             [
              0.7777777777777778,
              "#fb9f3a"
             ],
             [
              0.8888888888888888,
              "#fdca26"
             ],
             [
              1,
              "#f0f921"
             ]
            ],
            "type": "histogram2d"
           }
          ],
          "histogram2dcontour": [
           {
            "colorbar": {
             "outlinewidth": 0,
             "ticks": ""
            },
            "colorscale": [
             [
              0,
              "#0d0887"
             ],
             [
              0.1111111111111111,
              "#46039f"
             ],
             [
              0.2222222222222222,
              "#7201a8"
             ],
             [
              0.3333333333333333,
              "#9c179e"
             ],
             [
              0.4444444444444444,
              "#bd3786"
             ],
             [
              0.5555555555555556,
              "#d8576b"
             ],
             [
              0.6666666666666666,
              "#ed7953"
             ],
             [
              0.7777777777777778,
              "#fb9f3a"
             ],
             [
              0.8888888888888888,
              "#fdca26"
             ],
             [
              1,
              "#f0f921"
             ]
            ],
            "type": "histogram2dcontour"
           }
          ],
          "mesh3d": [
           {
            "colorbar": {
             "outlinewidth": 0,
             "ticks": ""
            },
            "type": "mesh3d"
           }
          ],
          "parcoords": [
           {
            "line": {
             "colorbar": {
              "outlinewidth": 0,
              "ticks": ""
             }
            },
            "type": "parcoords"
           }
          ],
          "scatter": [
           {
            "marker": {
             "colorbar": {
              "outlinewidth": 0,
              "ticks": ""
             }
            },
            "type": "scatter"
           }
          ],
          "scatter3d": [
           {
            "line": {
             "colorbar": {
              "outlinewidth": 0,
              "ticks": ""
             }
            },
            "marker": {
             "colorbar": {
              "outlinewidth": 0,
              "ticks": ""
             }
            },
            "type": "scatter3d"
           }
          ],
          "scattercarpet": [
           {
            "marker": {
             "colorbar": {
              "outlinewidth": 0,
              "ticks": ""
             }
            },
            "type": "scattercarpet"
           }
          ],
          "scattergeo": [
           {
            "marker": {
             "colorbar": {
              "outlinewidth": 0,
              "ticks": ""
             }
            },
            "type": "scattergeo"
           }
          ],
          "scattergl": [
           {
            "marker": {
             "colorbar": {
              "outlinewidth": 0,
              "ticks": ""
             }
            },
            "type": "scattergl"
           }
          ],
          "scattermapbox": [
           {
            "marker": {
             "colorbar": {
              "outlinewidth": 0,
              "ticks": ""
             }
            },
            "type": "scattermapbox"
           }
          ],
          "scatterpolar": [
           {
            "marker": {
             "colorbar": {
              "outlinewidth": 0,
              "ticks": ""
             }
            },
            "type": "scatterpolar"
           }
          ],
          "scatterpolargl": [
           {
            "marker": {
             "colorbar": {
              "outlinewidth": 0,
              "ticks": ""
             }
            },
            "type": "scatterpolargl"
           }
          ],
          "scatterternary": [
           {
            "marker": {
             "colorbar": {
              "outlinewidth": 0,
              "ticks": ""
             }
            },
            "type": "scatterternary"
           }
          ],
          "surface": [
           {
            "colorbar": {
             "outlinewidth": 0,
             "ticks": ""
            },
            "colorscale": [
             [
              0,
              "#0d0887"
             ],
             [
              0.1111111111111111,
              "#46039f"
             ],
             [
              0.2222222222222222,
              "#7201a8"
             ],
             [
              0.3333333333333333,
              "#9c179e"
             ],
             [
              0.4444444444444444,
              "#bd3786"
             ],
             [
              0.5555555555555556,
              "#d8576b"
             ],
             [
              0.6666666666666666,
              "#ed7953"
             ],
             [
              0.7777777777777778,
              "#fb9f3a"
             ],
             [
              0.8888888888888888,
              "#fdca26"
             ],
             [
              1,
              "#f0f921"
             ]
            ],
            "type": "surface"
           }
          ],
          "table": [
           {
            "cells": {
             "fill": {
              "color": "#EBF0F8"
             },
             "line": {
              "color": "white"
             }
            },
            "header": {
             "fill": {
              "color": "#C8D4E3"
             },
             "line": {
              "color": "white"
             }
            },
            "type": "table"
           }
          ]
         },
         "layout": {
          "annotationdefaults": {
           "arrowcolor": "#2a3f5f",
           "arrowhead": 0,
           "arrowwidth": 1
          },
          "colorscale": {
           "diverging": [
            [
             0,
             "#8e0152"
            ],
            [
             0.1,
             "#c51b7d"
            ],
            [
             0.2,
             "#de77ae"
            ],
            [
             0.3,
             "#f1b6da"
            ],
            [
             0.4,
             "#fde0ef"
            ],
            [
             0.5,
             "#f7f7f7"
            ],
            [
             0.6,
             "#e6f5d0"
            ],
            [
             0.7,
             "#b8e186"
            ],
            [
             0.8,
             "#7fbc41"
            ],
            [
             0.9,
             "#4d9221"
            ],
            [
             1,
             "#276419"
            ]
           ],
           "sequential": [
            [
             0,
             "#0d0887"
            ],
            [
             0.1111111111111111,
             "#46039f"
            ],
            [
             0.2222222222222222,
             "#7201a8"
            ],
            [
             0.3333333333333333,
             "#9c179e"
            ],
            [
             0.4444444444444444,
             "#bd3786"
            ],
            [
             0.5555555555555556,
             "#d8576b"
            ],
            [
             0.6666666666666666,
             "#ed7953"
            ],
            [
             0.7777777777777778,
             "#fb9f3a"
            ],
            [
             0.8888888888888888,
             "#fdca26"
            ],
            [
             1,
             "#f0f921"
            ]
           ],
           "sequentialminus": [
            [
             0,
             "#0d0887"
            ],
            [
             0.1111111111111111,
             "#46039f"
            ],
            [
             0.2222222222222222,
             "#7201a8"
            ],
            [
             0.3333333333333333,
             "#9c179e"
            ],
            [
             0.4444444444444444,
             "#bd3786"
            ],
            [
             0.5555555555555556,
             "#d8576b"
            ],
            [
             0.6666666666666666,
             "#ed7953"
            ],
            [
             0.7777777777777778,
             "#fb9f3a"
            ],
            [
             0.8888888888888888,
             "#fdca26"
            ],
            [
             1,
             "#f0f921"
            ]
           ]
          },
          "colorway": [
           "#636efa",
           "#EF553B",
           "#00cc96",
           "#ab63fa",
           "#FFA15A",
           "#19d3f3",
           "#FF6692",
           "#B6E880",
           "#FF97FF",
           "#FECB52"
          ],
          "font": {
           "color": "#2a3f5f"
          },
          "geo": {
           "bgcolor": "white",
           "lakecolor": "white",
           "landcolor": "#E5ECF6",
           "showlakes": true,
           "showland": true,
           "subunitcolor": "white"
          },
          "hoverlabel": {
           "align": "left"
          },
          "hovermode": "closest",
          "mapbox": {
           "style": "light"
          },
          "paper_bgcolor": "white",
          "plot_bgcolor": "#E5ECF6",
          "polar": {
           "angularaxis": {
            "gridcolor": "white",
            "linecolor": "white",
            "ticks": ""
           },
           "bgcolor": "#E5ECF6",
           "radialaxis": {
            "gridcolor": "white",
            "linecolor": "white",
            "ticks": ""
           }
          },
          "scene": {
           "xaxis": {
            "backgroundcolor": "#E5ECF6",
            "gridcolor": "white",
            "gridwidth": 2,
            "linecolor": "white",
            "showbackground": true,
            "ticks": "",
            "zerolinecolor": "white"
           },
           "yaxis": {
            "backgroundcolor": "#E5ECF6",
            "gridcolor": "white",
            "gridwidth": 2,
            "linecolor": "white",
            "showbackground": true,
            "ticks": "",
            "zerolinecolor": "white"
           },
           "zaxis": {
            "backgroundcolor": "#E5ECF6",
            "gridcolor": "white",
            "gridwidth": 2,
            "linecolor": "white",
            "showbackground": true,
            "ticks": "",
            "zerolinecolor": "white"
           }
          },
          "shapedefaults": {
           "line": {
            "color": "#2a3f5f"
           }
          },
          "ternary": {
           "aaxis": {
            "gridcolor": "white",
            "linecolor": "white",
            "ticks": ""
           },
           "baxis": {
            "gridcolor": "white",
            "linecolor": "white",
            "ticks": ""
           },
           "bgcolor": "#E5ECF6",
           "caxis": {
            "gridcolor": "white",
            "linecolor": "white",
            "ticks": ""
           }
          },
          "title": {
           "x": 0.05
          },
          "xaxis": {
           "automargin": true,
           "gridcolor": "white",
           "linecolor": "white",
           "ticks": "",
           "zerolinecolor": "white",
           "zerolinewidth": 2
          },
          "yaxis": {
           "automargin": true,
           "gridcolor": "white",
           "linecolor": "white",
           "ticks": "",
           "zerolinecolor": "white",
           "zerolinewidth": 2
          }
         }
        },
        "title": {
         "text": "Meta prediction value of testset of Group 7"
        }
       }
      },
      "text/html": [
       "<div>\n",
       "        \n",
       "        \n",
       "            <div id=\"d5be55a2-76a4-4c4b-b572-77fbbaac48b0\" class=\"plotly-graph-div\" style=\"height:525px; width:100%;\"></div>\n",
       "            <script type=\"text/javascript\">\n",
       "                require([\"plotly\"], function(Plotly) {\n",
       "                    window.PLOTLYENV=window.PLOTLYENV || {};\n",
       "                    \n",
       "                if (document.getElementById(\"d5be55a2-76a4-4c4b-b572-77fbbaac48b0\")) {\n",
       "                    Plotly.newPlot(\n",
       "                        'd5be55a2-76a4-4c4b-b572-77fbbaac48b0',\n",
       "                        [{\"marker\": {\"color\": [9132672.6700858, 39443932.77478983, 39079228.100007, 0.0, 3551701.594737808, -506172.6025618469, 18809669.41849161, 721508.6878399523, 11767911.8581541, 7141095.050678723, 12244901.767671958, 88421847.61002393, 10947773.18595922, 41280645.33944355, 26134918.897197697, 0.0, 0.0, 4975822.1484275265, 57477118.299729005, 0.0, 0.0, 0.0, 0.0, 0.0, 0.0, 0.0, 0.0, 0.0, 0.0, 0.0, 0.0, 0.0, 0.0, 0.0, 0.0, 0.0, 13596079.361460872, 11238041.265287962, 0.0, 0.0, 0.0, 3966594.7503207335, 16847617.245968483, 2074728.0866816072, 4805114.230812052, 9774189.841969945, 5206564.49477593, 7460269.230315719, 1985041.7435098127, 0.0, 7125399.876134314, 2943910.4004895133, 11563557.623693256, 6500624.02370207, 2854345.7699828125, 3451294.921825977, 4045691.703070514, 7490744.67648776, 4150030.4064382687, 15597778.956030956, 5253508.215007138, 11264108.771125484, 20282930.243303265, 13623538.783644617, 0.0, 19367331.00600156, 7963597.318495687, 7064158.399725821, 3617280.7841230487, 44836444.609382205, 2879156.770259661, 7612279.788451628, 3157045.5122224945, 6110384.380347707, 5495627.8399460185, 6013148.043332936, 7421291.8788770065, 5163976.959016772, 8388871.570456559, 14278107.994599964, 0.0, 0.0, 0.0, 1357206.205920175, 0.0, 32873637.30315987, 30679236.576543193, 45314140.98169194, 15030998.650050504, 0.0, 5732723.464129618, 187627.4239881849, 8061792.864218181, 5641444.665572777, 64782132.29645989, 41347972.83935892, 51387302.42971087, -41628.120107496165, 0.0, 0.0, 0.0, 0.0, 0.0, 0.0]}, \"mode\": \"markers\", \"text\": [\"O Brother, Where Art Thou?\", \"The Twilight Saga: Breaking Dawn Part 1\", \"The Twilight Saga: Breaking Dawn Part 2\", \"Helena From the Wedding\", \"Monsters\", \"Catfish\", \"Red\", \"Freakonomics\", \"The Warrior's Way\", \"Stone\", \"Frankenweenie\", \"John Carter\", \"Dolphin Tale\", \"Penguins of Madagascar\", \"Minions\", \"Proud American\", \"Edmond\", \"Tootsie\", \"Waterworld\", \"The Lion King (2019)\", \"Crawl\", \"Stuber\", \"Midsommar\", \"Spider-Man: Far from Home\", \"Yesterday\", \"Annabelle Comes Home\", \"Toy Story 4\", \"Child's Play (2019)\", \"Anna (2019)\", \"Men in Black International\", \"Shaft (2019)\\u00a0\", \"Late Night\", \"The Secret Life of Pets 2\", \"Dark Phoenix\", \"Godzilla:King of the Monsters\", \"Rocketman\", \"Return of the Jedi\", \"Indiana Jones and the Temple of Doom\", \"The Idolmaker\", \"The Grass Harp\", \"The Grand\", \"Jaws\", \"Superman (1978)\", \"Clerks\", \"Juice\", \"He Got Game\", \"White Men Can't Jump\", \"Mulholland Drive\", \"Blue Velvet\", \"Once Upon a Time in Hollywood\", \"The Big Lebowski\", \"Train to Busan\", \"Pride and Prejudice and Zombies\", \"Dead Poets Society\", \"A Fish Called Wanda\", \"The Witches of Eastwick\", \"Ferris Bueller's Day Off\", \"Back to the Future\", \"Police Academy\", \"Trading Places\", \"Star Trek II The Wrath of Khan\", \"The Blues Brothers\", \"V For Vendetta\", \"In the Line of Fire\", \"Us\", \"The Forbidden Kingdom\", \"Rumble in the Bronx\", \"Machete\", \"Beverly Hills Cop\", \"Watchmen\", \"Jackie Brown\", \"Zombieland\", \"Mo Better Blues\", \"Thelma and Louise\", \"New Jack City\", \"The Lawnmower Man\", \"Schindler's List\", \"Four Weddings and a Funeral\", \"Get Shorty\", \"Jerry Maguire\", \"Welcome to Sarajevo\", \"Trojan War\", \"The Gingerbread Man\", \"Tumbleweeds\", \"Turn it up\", \"The Adventures of Pluto Nash\", \"The Lord of the Rings: The Return of the King\", \"Harry Potter and the Prisoner of Azkaban\", \"Stay\", \"Fast Food Nation\", \"Into the Wild\", \"The Wrestler\", \"Slumdog Millionaire\", \"Jackass 3-D\", \"Skyfall\", \"The Hunger Games: Mocking Jay - Part 1\", \"Jurassic World\", \"Shut In\", \"Molly's Game\", \"Molly's Game\", \"BlacKkKlansman\", \"BlacKkKlansman\", \"Peter Rabbit\", \"Replicas\"], \"type\": \"scatter\", \"x\": [\"O Brother, Where Art Thou?\", \"The Twilight Saga: Breaking Dawn Part 1\", \"The Twilight Saga: Breaking Dawn Part 2\", \"Helena From the Wedding\", \"Monsters\", \"Catfish\", \"Red\", \"Freakonomics\", \"The Warrior's Way\", \"Stone\", \"Frankenweenie\", \"John Carter\", \"Dolphin Tale\", \"Penguins of Madagascar\", \"Minions\", \"Proud American\", \"Edmond\", \"Tootsie\", \"Waterworld\", \"The Lion King (2019)\", \"Crawl\", \"Stuber\", \"Midsommar\", \"Spider-Man: Far from Home\", \"Yesterday\", \"Annabelle Comes Home\", \"Toy Story 4\", \"Child's Play (2019)\", \"Anna (2019)\", \"Men in Black International\", \"Shaft (2019)\\u00a0\", \"Late Night\", \"The Secret Life of Pets 2\", \"Dark Phoenix\", \"Godzilla:King of the Monsters\", \"Rocketman\", \"Return of the Jedi\", \"Indiana Jones and the Temple of Doom\", \"The Idolmaker\", \"The Grass Harp\", \"The Grand\", \"Jaws\", \"Superman (1978)\", \"Clerks\", \"Juice\", \"He Got Game\", \"White Men Can't Jump\", \"Mulholland Drive\", \"Blue Velvet\", \"Once Upon a Time in Hollywood\", \"The Big Lebowski\", \"Train to Busan\", \"Pride and Prejudice and Zombies\", \"Dead Poets Society\", \"A Fish Called Wanda\", \"The Witches of Eastwick\", \"Ferris Bueller's Day Off\", \"Back to the Future\", \"Police Academy\", \"Trading Places\", \"Star Trek II The Wrath of Khan\", \"The Blues Brothers\", \"V For Vendetta\", \"In the Line of Fire\", \"Us\", \"The Forbidden Kingdom\", \"Rumble in the Bronx\", \"Machete\", \"Beverly Hills Cop\", \"Watchmen\", \"Jackie Brown\", \"Zombieland\", \"Mo Better Blues\", \"Thelma and Louise\", \"New Jack City\", \"The Lawnmower Man\", \"Schindler's List\", \"Four Weddings and a Funeral\", \"Get Shorty\", \"Jerry Maguire\", \"Welcome to Sarajevo\", \"Trojan War\", \"The Gingerbread Man\", \"Tumbleweeds\", \"Turn it up\", \"The Adventures of Pluto Nash\", \"The Lord of the Rings: The Return of the King\", \"Harry Potter and the Prisoner of Azkaban\", \"Stay\", \"Fast Food Nation\", \"Into the Wild\", \"The Wrestler\", \"Slumdog Millionaire\", \"Jackass 3-D\", \"Skyfall\", \"The Hunger Games: Mocking Jay - Part 1\", \"Jurassic World\", \"Shut In\", \"Molly's Game\", \"Molly's Game\", \"BlacKkKlansman\", \"BlacKkKlansman\", \"Peter Rabbit\", \"Replicas\"], \"y\": [9132672.6700858, 39443932.77478983, 39079228.100007, 0.0, 3551701.594737808, -506172.6025618469, 18809669.41849161, 721508.6878399523, 11767911.8581541, 7141095.050678723, 12244901.767671958, 88421847.61002393, 10947773.18595922, 41280645.33944355, 26134918.897197697, 0.0, 0.0, 4975822.1484275265, 57477118.299729005, 0.0, 0.0, 0.0, 0.0, 0.0, 0.0, 0.0, 0.0, 0.0, 0.0, 0.0, 0.0, 0.0, 0.0, 0.0, 0.0, 0.0, 13596079.361460872, 11238041.265287962, 0.0, 0.0, 0.0, 3966594.7503207335, 16847617.245968483, 2074728.0866816072, 4805114.230812052, 9774189.841969945, 5206564.49477593, 7460269.230315719, 1985041.7435098127, 0.0, 7125399.876134314, 2943910.4004895133, 11563557.623693256, 6500624.02370207, 2854345.7699828125, 3451294.921825977, 4045691.703070514, 7490744.67648776, 4150030.4064382687, 15597778.956030956, 5253508.215007138, 11264108.771125484, 20282930.243303265, 13623538.783644617, 0.0, 19367331.00600156, 7963597.318495687, 7064158.399725821, 3617280.7841230487, 44836444.609382205, 2879156.770259661, 7612279.788451628, 3157045.5122224945, 6110384.380347707, 5495627.8399460185, 6013148.043332936, 7421291.8788770065, 5163976.959016772, 8388871.570456559, 14278107.994599964, 0.0, 0.0, 0.0, 1357206.205920175, 0.0, 32873637.30315987, 30679236.576543193, 45314140.98169194, 15030998.650050504, 0.0, 5732723.464129618, 187627.4239881849, 8061792.864218181, 5641444.665572777, 64782132.29645989, 41347972.83935892, 51387302.42971087, -41628.120107496165, 0.0, 0.0, 0.0, 0.0, 0.0, 0.0]}],\n",
       "                        {\"template\": {\"data\": {\"bar\": [{\"error_x\": {\"color\": \"#2a3f5f\"}, \"error_y\": {\"color\": \"#2a3f5f\"}, \"marker\": {\"line\": {\"color\": \"#E5ECF6\", \"width\": 0.5}}, \"type\": \"bar\"}], \"barpolar\": [{\"marker\": {\"line\": {\"color\": \"#E5ECF6\", \"width\": 0.5}}, \"type\": \"barpolar\"}], \"carpet\": [{\"aaxis\": {\"endlinecolor\": \"#2a3f5f\", \"gridcolor\": \"white\", \"linecolor\": \"white\", \"minorgridcolor\": \"white\", \"startlinecolor\": \"#2a3f5f\"}, \"baxis\": {\"endlinecolor\": \"#2a3f5f\", \"gridcolor\": \"white\", \"linecolor\": \"white\", \"minorgridcolor\": \"white\", \"startlinecolor\": \"#2a3f5f\"}, \"type\": \"carpet\"}], \"choropleth\": [{\"colorbar\": {\"outlinewidth\": 0, \"ticks\": \"\"}, \"type\": \"choropleth\"}], \"contour\": [{\"colorbar\": {\"outlinewidth\": 0, \"ticks\": \"\"}, \"colorscale\": [[0.0, \"#0d0887\"], [0.1111111111111111, \"#46039f\"], [0.2222222222222222, \"#7201a8\"], [0.3333333333333333, \"#9c179e\"], [0.4444444444444444, \"#bd3786\"], [0.5555555555555556, \"#d8576b\"], [0.6666666666666666, \"#ed7953\"], [0.7777777777777778, \"#fb9f3a\"], [0.8888888888888888, \"#fdca26\"], [1.0, \"#f0f921\"]], \"type\": \"contour\"}], \"contourcarpet\": [{\"colorbar\": {\"outlinewidth\": 0, \"ticks\": \"\"}, \"type\": \"contourcarpet\"}], \"heatmap\": [{\"colorbar\": {\"outlinewidth\": 0, \"ticks\": \"\"}, \"colorscale\": [[0.0, \"#0d0887\"], [0.1111111111111111, \"#46039f\"], [0.2222222222222222, \"#7201a8\"], [0.3333333333333333, \"#9c179e\"], [0.4444444444444444, \"#bd3786\"], [0.5555555555555556, \"#d8576b\"], [0.6666666666666666, \"#ed7953\"], [0.7777777777777778, \"#fb9f3a\"], [0.8888888888888888, \"#fdca26\"], [1.0, \"#f0f921\"]], \"type\": \"heatmap\"}], \"heatmapgl\": [{\"colorbar\": {\"outlinewidth\": 0, \"ticks\": \"\"}, \"colorscale\": [[0.0, \"#0d0887\"], [0.1111111111111111, \"#46039f\"], [0.2222222222222222, \"#7201a8\"], [0.3333333333333333, \"#9c179e\"], [0.4444444444444444, \"#bd3786\"], [0.5555555555555556, \"#d8576b\"], [0.6666666666666666, \"#ed7953\"], [0.7777777777777778, \"#fb9f3a\"], [0.8888888888888888, \"#fdca26\"], [1.0, \"#f0f921\"]], \"type\": \"heatmapgl\"}], \"histogram\": [{\"marker\": {\"colorbar\": {\"outlinewidth\": 0, \"ticks\": \"\"}}, \"type\": \"histogram\"}], \"histogram2d\": [{\"colorbar\": {\"outlinewidth\": 0, \"ticks\": \"\"}, \"colorscale\": [[0.0, \"#0d0887\"], [0.1111111111111111, \"#46039f\"], [0.2222222222222222, \"#7201a8\"], [0.3333333333333333, \"#9c179e\"], [0.4444444444444444, \"#bd3786\"], [0.5555555555555556, \"#d8576b\"], [0.6666666666666666, \"#ed7953\"], [0.7777777777777778, \"#fb9f3a\"], [0.8888888888888888, \"#fdca26\"], [1.0, \"#f0f921\"]], \"type\": \"histogram2d\"}], \"histogram2dcontour\": [{\"colorbar\": {\"outlinewidth\": 0, \"ticks\": \"\"}, \"colorscale\": [[0.0, \"#0d0887\"], [0.1111111111111111, \"#46039f\"], [0.2222222222222222, \"#7201a8\"], [0.3333333333333333, \"#9c179e\"], [0.4444444444444444, \"#bd3786\"], [0.5555555555555556, \"#d8576b\"], [0.6666666666666666, \"#ed7953\"], [0.7777777777777778, \"#fb9f3a\"], [0.8888888888888888, \"#fdca26\"], [1.0, \"#f0f921\"]], \"type\": \"histogram2dcontour\"}], \"mesh3d\": [{\"colorbar\": {\"outlinewidth\": 0, \"ticks\": \"\"}, \"type\": \"mesh3d\"}], \"parcoords\": [{\"line\": {\"colorbar\": {\"outlinewidth\": 0, \"ticks\": \"\"}}, \"type\": \"parcoords\"}], \"scatter\": [{\"marker\": {\"colorbar\": {\"outlinewidth\": 0, \"ticks\": \"\"}}, \"type\": \"scatter\"}], \"scatter3d\": [{\"line\": {\"colorbar\": {\"outlinewidth\": 0, \"ticks\": \"\"}}, \"marker\": {\"colorbar\": {\"outlinewidth\": 0, \"ticks\": \"\"}}, \"type\": \"scatter3d\"}], \"scattercarpet\": [{\"marker\": {\"colorbar\": {\"outlinewidth\": 0, \"ticks\": \"\"}}, \"type\": \"scattercarpet\"}], \"scattergeo\": [{\"marker\": {\"colorbar\": {\"outlinewidth\": 0, \"ticks\": \"\"}}, \"type\": \"scattergeo\"}], \"scattergl\": [{\"marker\": {\"colorbar\": {\"outlinewidth\": 0, \"ticks\": \"\"}}, \"type\": \"scattergl\"}], \"scattermapbox\": [{\"marker\": {\"colorbar\": {\"outlinewidth\": 0, \"ticks\": \"\"}}, \"type\": \"scattermapbox\"}], \"scatterpolar\": [{\"marker\": {\"colorbar\": {\"outlinewidth\": 0, \"ticks\": \"\"}}, \"type\": \"scatterpolar\"}], \"scatterpolargl\": [{\"marker\": {\"colorbar\": {\"outlinewidth\": 0, \"ticks\": \"\"}}, \"type\": \"scatterpolargl\"}], \"scatterternary\": [{\"marker\": {\"colorbar\": {\"outlinewidth\": 0, \"ticks\": \"\"}}, \"type\": \"scatterternary\"}], \"surface\": [{\"colorbar\": {\"outlinewidth\": 0, \"ticks\": \"\"}, \"colorscale\": [[0.0, \"#0d0887\"], [0.1111111111111111, \"#46039f\"], [0.2222222222222222, \"#7201a8\"], [0.3333333333333333, \"#9c179e\"], [0.4444444444444444, \"#bd3786\"], [0.5555555555555556, \"#d8576b\"], [0.6666666666666666, \"#ed7953\"], [0.7777777777777778, \"#fb9f3a\"], [0.8888888888888888, \"#fdca26\"], [1.0, \"#f0f921\"]], \"type\": \"surface\"}], \"table\": [{\"cells\": {\"fill\": {\"color\": \"#EBF0F8\"}, \"line\": {\"color\": \"white\"}}, \"header\": {\"fill\": {\"color\": \"#C8D4E3\"}, \"line\": {\"color\": \"white\"}}, \"type\": \"table\"}]}, \"layout\": {\"annotationdefaults\": {\"arrowcolor\": \"#2a3f5f\", \"arrowhead\": 0, \"arrowwidth\": 1}, \"colorscale\": {\"diverging\": [[0, \"#8e0152\"], [0.1, \"#c51b7d\"], [0.2, \"#de77ae\"], [0.3, \"#f1b6da\"], [0.4, \"#fde0ef\"], [0.5, \"#f7f7f7\"], [0.6, \"#e6f5d0\"], [0.7, \"#b8e186\"], [0.8, \"#7fbc41\"], [0.9, \"#4d9221\"], [1, \"#276419\"]], \"sequential\": [[0.0, \"#0d0887\"], [0.1111111111111111, \"#46039f\"], [0.2222222222222222, \"#7201a8\"], [0.3333333333333333, \"#9c179e\"], [0.4444444444444444, \"#bd3786\"], [0.5555555555555556, \"#d8576b\"], [0.6666666666666666, \"#ed7953\"], [0.7777777777777778, \"#fb9f3a\"], [0.8888888888888888, \"#fdca26\"], [1.0, \"#f0f921\"]], \"sequentialminus\": [[0.0, \"#0d0887\"], [0.1111111111111111, \"#46039f\"], [0.2222222222222222, \"#7201a8\"], [0.3333333333333333, \"#9c179e\"], [0.4444444444444444, \"#bd3786\"], [0.5555555555555556, \"#d8576b\"], [0.6666666666666666, \"#ed7953\"], [0.7777777777777778, \"#fb9f3a\"], [0.8888888888888888, \"#fdca26\"], [1.0, \"#f0f921\"]]}, \"colorway\": [\"#636efa\", \"#EF553B\", \"#00cc96\", \"#ab63fa\", \"#FFA15A\", \"#19d3f3\", \"#FF6692\", \"#B6E880\", \"#FF97FF\", \"#FECB52\"], \"font\": {\"color\": \"#2a3f5f\"}, \"geo\": {\"bgcolor\": \"white\", \"lakecolor\": \"white\", \"landcolor\": \"#E5ECF6\", \"showlakes\": true, \"showland\": true, \"subunitcolor\": \"white\"}, \"hoverlabel\": {\"align\": \"left\"}, \"hovermode\": \"closest\", \"mapbox\": {\"style\": \"light\"}, \"paper_bgcolor\": \"white\", \"plot_bgcolor\": \"#E5ECF6\", \"polar\": {\"angularaxis\": {\"gridcolor\": \"white\", \"linecolor\": \"white\", \"ticks\": \"\"}, \"bgcolor\": \"#E5ECF6\", \"radialaxis\": {\"gridcolor\": \"white\", \"linecolor\": \"white\", \"ticks\": \"\"}}, \"scene\": {\"xaxis\": {\"backgroundcolor\": \"#E5ECF6\", \"gridcolor\": \"white\", \"gridwidth\": 2, \"linecolor\": \"white\", \"showbackground\": true, \"ticks\": \"\", \"zerolinecolor\": \"white\"}, \"yaxis\": {\"backgroundcolor\": \"#E5ECF6\", \"gridcolor\": \"white\", \"gridwidth\": 2, \"linecolor\": \"white\", \"showbackground\": true, \"ticks\": \"\", \"zerolinecolor\": \"white\"}, \"zaxis\": {\"backgroundcolor\": \"#E5ECF6\", \"gridcolor\": \"white\", \"gridwidth\": 2, \"linecolor\": \"white\", \"showbackground\": true, \"ticks\": \"\", \"zerolinecolor\": \"white\"}}, \"shapedefaults\": {\"line\": {\"color\": \"#2a3f5f\"}}, \"ternary\": {\"aaxis\": {\"gridcolor\": \"white\", \"linecolor\": \"white\", \"ticks\": \"\"}, \"baxis\": {\"gridcolor\": \"white\", \"linecolor\": \"white\", \"ticks\": \"\"}, \"bgcolor\": \"#E5ECF6\", \"caxis\": {\"gridcolor\": \"white\", \"linecolor\": \"white\", \"ticks\": \"\"}}, \"title\": {\"x\": 0.05}, \"xaxis\": {\"automargin\": true, \"gridcolor\": \"white\", \"linecolor\": \"white\", \"ticks\": \"\", \"zerolinecolor\": \"white\", \"zerolinewidth\": 2}, \"yaxis\": {\"automargin\": true, \"gridcolor\": \"white\", \"linecolor\": \"white\", \"ticks\": \"\", \"zerolinecolor\": \"white\", \"zerolinewidth\": 2}}}, \"title\": {\"text\": \"Meta prediction value of testset of Group 7\"}},\n",
       "                        {\"responsive\": true}\n",
       "                    ).then(function(){\n",
       "                            \n",
       "var gd = document.getElementById('d5be55a2-76a4-4c4b-b572-77fbbaac48b0');\n",
       "var x = new MutationObserver(function (mutations, observer) {{\n",
       "        var display = window.getComputedStyle(gd).display;\n",
       "        if (!display || display === 'none') {{\n",
       "            console.log([gd, 'removed!']);\n",
       "            Plotly.purge(gd);\n",
       "            observer.disconnect();\n",
       "        }}\n",
       "}});\n",
       "\n",
       "// Listen for the removal of the full notebook cells\n",
       "var notebookContainer = gd.closest('#notebook-container');\n",
       "if (notebookContainer) {{\n",
       "    x.observe(notebookContainer, {childList: true});\n",
       "}}\n",
       "\n",
       "// Listen for the clearing of the current output cell\n",
       "var outputEl = gd.closest('.output');\n",
       "if (outputEl) {{\n",
       "    x.observe(outputEl, {childList: true});\n",
       "}}\n",
       "\n",
       "                        })\n",
       "                };\n",
       "                });\n",
       "            </script>\n",
       "        </div>"
      ]
     },
     "metadata": {},
     "output_type": "display_data"
    }
   ],
   "source": [
    "#Meta prediction value of testset\n",
    "fig = go.Figure(data=go.Scatter(x=g7_result_final[\"name\"],\n",
    "                                y=g7_result_final[\"metadata_prediction\"],\n",
    "                                mode='markers',\n",
    "                                marker_color=g7_result_final[\"metadata_prediction\"],\n",
    "                                text=g7_result_final[\"name\"])) # hover text goes here(movie_title)\n",
    "\n",
    "fig.update_layout(title='Meta prediction value of testset of Group 7')\n",
    "fig.show()"
   ]
  },
  {
   "cell_type": "code",
   "execution_count": 34,
   "metadata": {},
   "outputs": [
    {
     "data": {
      "application/vnd.plotly.v1+json": {
       "config": {
        "plotlyServerURL": "https://plot.ly"
       },
       "data": [
        {
         "marker": {
          "color": [
           8.429874579283027,
           4.2827964608724,
           4.29452682307056,
           4.61512051684126,
           9.753804428655718,
           5.69620769035977,
           2.678559419521225,
           7.679380472361421,
           5.659489639802326,
           9.140582642161094,
           2.1158301968430338,
           5.267753913231118,
           3.780515584326964,
           4.146608379578941,
           4.362016148871358,
           4.61512051684126,
           4.61512051684126,
           2.4151398073480608,
           5.15028046497472,
           4.61512051684126,
           4.61512051684126,
           4.61512051684126,
           4.61512051684126,
           4.61512051684126,
           4.61512051684126,
           4.61512051684126,
           4.61512051684126,
           4.61512051684126,
           4.61512051684126,
           4.61512051684126,
           4.61512051684126,
           4.61512051684126,
           4.61512051684126,
           4.61512051684126,
           4.61512051684126,
           4.61512051684126,
           3.7361682454007292,
           4.036820017611847,
           4.61512051684126,
           4.61512051684126,
           4.61512051684126,
           3.802832417276907,
           4.841646368628713,
           8.772318665656094,
           3.7274814023742935,
           3.3819321195952794,
           4.183697278273862,
           7.0653028131655935,
           5.02689717496232,
           4.61512051684126,
           3.3931787760362777,
           6.840293577052546,
           4.7722681944912555,
           7.5012961437807455,
           7.77235297256252,
           4.1665835456264055,
           3.5982288933949698,
           3.521451233436895,
           3.962239719145326,
           4.729744891257304,
           4.164851106088799,
           4.889295561718158,
           3.086515252166155,
           2.4662970924009424,
           4.61512051684126,
           2.351679377890702,
           3.00667323974852,
           3.930056331531784,
           4.346726566956371,
           2.985461889252441,
           4.248716617105217,
           4.251666871997963,
           3.3687516884081563,
           0.1388413273324741,
           3.1325731222042115,
           3.1540480078540973,
           6.938477241633968,
           8.196954909088362,
           3.5538019970551087,
           2.857936990530577,
           4.61512051684126,
           4.61512051684126,
           4.61512051684126,
           7.3758018729035975,
           4.61512051684126,
           7.249187814667923,
           4.073450905271977,
           3.9633357516384895,
           6.376577054145053,
           4.61512051684126,
           7.863079841864159,
           2.133254315275273,
           7.6686895777913975,
           4.497544351477662,
           3.3209912110411874,
           4.205882324493869,
           4.335851299878081,
           4.626461853599186,
           4.61512051684126,
           4.61512051684126,
           4.61512051684126,
           4.61512051684126,
           4.61512051684126,
           4.61512051684126
          ]
         },
         "mode": "markers",
         "text": [
          "O Brother, Where Art Thou?",
          "The Twilight Saga: Breaking Dawn Part 1",
          "The Twilight Saga: Breaking Dawn Part 2",
          "Helena From the Wedding",
          "Monsters",
          "Catfish",
          "Red",
          "Freakonomics",
          "The Warrior's Way",
          "Stone",
          "Frankenweenie",
          "John Carter",
          "Dolphin Tale",
          "Penguins of Madagascar",
          "Minions",
          "Proud American",
          "Edmond",
          "Tootsie",
          "Waterworld",
          "The Lion King (2019)",
          "Crawl",
          "Stuber",
          "Midsommar",
          "Spider-Man: Far from Home",
          "Yesterday",
          "Annabelle Comes Home",
          "Toy Story 4",
          "Child's Play (2019)",
          "Anna (2019)",
          "Men in Black International",
          "Shaft (2019) ",
          "Late Night",
          "The Secret Life of Pets 2",
          "Dark Phoenix",
          "Godzilla:King of the Monsters",
          "Rocketman",
          "Return of the Jedi",
          "Indiana Jones and the Temple of Doom",
          "The Idolmaker",
          "The Grass Harp",
          "The Grand",
          "Jaws",
          "Superman (1978)",
          "Clerks",
          "Juice",
          "He Got Game",
          "White Men Can't Jump",
          "Mulholland Drive",
          "Blue Velvet",
          "Once Upon a Time in Hollywood",
          "The Big Lebowski",
          "Train to Busan",
          "Pride and Prejudice and Zombies",
          "Dead Poets Society",
          "A Fish Called Wanda",
          "The Witches of Eastwick",
          "Ferris Bueller's Day Off",
          "Back to the Future",
          "Police Academy",
          "Trading Places",
          "Star Trek II The Wrath of Khan",
          "The Blues Brothers",
          "V For Vendetta",
          "In the Line of Fire",
          "Us",
          "The Forbidden Kingdom",
          "Rumble in the Bronx",
          "Machete",
          "Beverly Hills Cop",
          "Watchmen",
          "Jackie Brown",
          "Zombieland",
          "Mo Better Blues",
          "Thelma and Louise",
          "New Jack City",
          "The Lawnmower Man",
          "Schindler's List",
          "Four Weddings and a Funeral",
          "Get Shorty",
          "Jerry Maguire",
          "Welcome to Sarajevo",
          "Trojan War",
          "The Gingerbread Man",
          "Tumbleweeds",
          "Turn it up",
          "The Adventures of Pluto Nash",
          "The Lord of the Rings: The Return of the King",
          "Harry Potter and the Prisoner of Azkaban",
          "Stay",
          "Fast Food Nation",
          "Into the Wild",
          "The Wrestler",
          "Slumdog Millionaire",
          "Jackass 3-D",
          "Skyfall",
          "The Hunger Games: Mocking Jay - Part 1",
          "Jurassic World",
          "Shut In",
          "Molly's Game",
          "Molly's Game",
          "BlacKkKlansman",
          "BlacKkKlansman",
          "Peter Rabbit",
          "Replicas"
         ],
         "type": "scatter",
         "x": [
          "O Brother, Where Art Thou?",
          "The Twilight Saga: Breaking Dawn Part 1",
          "The Twilight Saga: Breaking Dawn Part 2",
          "Helena From the Wedding",
          "Monsters",
          "Catfish",
          "Red",
          "Freakonomics",
          "The Warrior's Way",
          "Stone",
          "Frankenweenie",
          "John Carter",
          "Dolphin Tale",
          "Penguins of Madagascar",
          "Minions",
          "Proud American",
          "Edmond",
          "Tootsie",
          "Waterworld",
          "The Lion King (2019)",
          "Crawl",
          "Stuber",
          "Midsommar",
          "Spider-Man: Far from Home",
          "Yesterday",
          "Annabelle Comes Home",
          "Toy Story 4",
          "Child's Play (2019)",
          "Anna (2019)",
          "Men in Black International",
          "Shaft (2019) ",
          "Late Night",
          "The Secret Life of Pets 2",
          "Dark Phoenix",
          "Godzilla:King of the Monsters",
          "Rocketman",
          "Return of the Jedi",
          "Indiana Jones and the Temple of Doom",
          "The Idolmaker",
          "The Grass Harp",
          "The Grand",
          "Jaws",
          "Superman (1978)",
          "Clerks",
          "Juice",
          "He Got Game",
          "White Men Can't Jump",
          "Mulholland Drive",
          "Blue Velvet",
          "Once Upon a Time in Hollywood",
          "The Big Lebowski",
          "Train to Busan",
          "Pride and Prejudice and Zombies",
          "Dead Poets Society",
          "A Fish Called Wanda",
          "The Witches of Eastwick",
          "Ferris Bueller's Day Off",
          "Back to the Future",
          "Police Academy",
          "Trading Places",
          "Star Trek II The Wrath of Khan",
          "The Blues Brothers",
          "V For Vendetta",
          "In the Line of Fire",
          "Us",
          "The Forbidden Kingdom",
          "Rumble in the Bronx",
          "Machete",
          "Beverly Hills Cop",
          "Watchmen",
          "Jackie Brown",
          "Zombieland",
          "Mo Better Blues",
          "Thelma and Louise",
          "New Jack City",
          "The Lawnmower Man",
          "Schindler's List",
          "Four Weddings and a Funeral",
          "Get Shorty",
          "Jerry Maguire",
          "Welcome to Sarajevo",
          "Trojan War",
          "The Gingerbread Man",
          "Tumbleweeds",
          "Turn it up",
          "The Adventures of Pluto Nash",
          "The Lord of the Rings: The Return of the King",
          "Harry Potter and the Prisoner of Azkaban",
          "Stay",
          "Fast Food Nation",
          "Into the Wild",
          "The Wrestler",
          "Slumdog Millionaire",
          "Jackass 3-D",
          "Skyfall",
          "The Hunger Games: Mocking Jay - Part 1",
          "Jurassic World",
          "Shut In",
          "Molly's Game",
          "Molly's Game",
          "BlacKkKlansman",
          "BlacKkKlansman",
          "Peter Rabbit",
          "Replicas"
         ],
         "y": [
          8.429874579283027,
          4.2827964608724,
          4.29452682307056,
          4.61512051684126,
          9.753804428655718,
          5.69620769035977,
          2.678559419521225,
          7.679380472361421,
          5.659489639802326,
          9.140582642161094,
          2.1158301968430338,
          5.267753913231118,
          3.780515584326964,
          4.146608379578941,
          4.362016148871358,
          4.61512051684126,
          4.61512051684126,
          2.4151398073480608,
          5.15028046497472,
          4.61512051684126,
          4.61512051684126,
          4.61512051684126,
          4.61512051684126,
          4.61512051684126,
          4.61512051684126,
          4.61512051684126,
          4.61512051684126,
          4.61512051684126,
          4.61512051684126,
          4.61512051684126,
          4.61512051684126,
          4.61512051684126,
          4.61512051684126,
          4.61512051684126,
          4.61512051684126,
          4.61512051684126,
          3.7361682454007292,
          4.036820017611847,
          4.61512051684126,
          4.61512051684126,
          4.61512051684126,
          3.802832417276907,
          4.841646368628713,
          8.772318665656094,
          3.7274814023742935,
          3.3819321195952794,
          4.183697278273862,
          7.0653028131655935,
          5.02689717496232,
          4.61512051684126,
          3.3931787760362777,
          6.840293577052546,
          4.7722681944912555,
          7.5012961437807455,
          7.77235297256252,
          4.1665835456264055,
          3.5982288933949698,
          3.521451233436895,
          3.962239719145326,
          4.729744891257304,
          4.164851106088799,
          4.889295561718158,
          3.086515252166155,
          2.4662970924009424,
          4.61512051684126,
          2.351679377890702,
          3.00667323974852,
          3.930056331531784,
          4.346726566956371,
          2.985461889252441,
          4.248716617105217,
          4.251666871997963,
          3.3687516884081563,
          0.1388413273324741,
          3.1325731222042115,
          3.1540480078540973,
          6.938477241633968,
          8.196954909088362,
          3.5538019970551087,
          2.857936990530577,
          4.61512051684126,
          4.61512051684126,
          4.61512051684126,
          7.3758018729035975,
          4.61512051684126,
          7.249187814667923,
          4.073450905271977,
          3.9633357516384895,
          6.376577054145053,
          4.61512051684126,
          7.863079841864159,
          2.133254315275273,
          7.6686895777913975,
          4.497544351477662,
          3.3209912110411874,
          4.205882324493869,
          4.335851299878081,
          4.626461853599186,
          4.61512051684126,
          4.61512051684126,
          4.61512051684126,
          4.61512051684126,
          4.61512051684126,
          4.61512051684126
         ]
        }
       ],
       "layout": {
        "template": {
         "data": {
          "bar": [
           {
            "error_x": {
             "color": "#2a3f5f"
            },
            "error_y": {
             "color": "#2a3f5f"
            },
            "marker": {
             "line": {
              "color": "#E5ECF6",
              "width": 0.5
             }
            },
            "type": "bar"
           }
          ],
          "barpolar": [
           {
            "marker": {
             "line": {
              "color": "#E5ECF6",
              "width": 0.5
             }
            },
            "type": "barpolar"
           }
          ],
          "carpet": [
           {
            "aaxis": {
             "endlinecolor": "#2a3f5f",
             "gridcolor": "white",
             "linecolor": "white",
             "minorgridcolor": "white",
             "startlinecolor": "#2a3f5f"
            },
            "baxis": {
             "endlinecolor": "#2a3f5f",
             "gridcolor": "white",
             "linecolor": "white",
             "minorgridcolor": "white",
             "startlinecolor": "#2a3f5f"
            },
            "type": "carpet"
           }
          ],
          "choropleth": [
           {
            "colorbar": {
             "outlinewidth": 0,
             "ticks": ""
            },
            "type": "choropleth"
           }
          ],
          "contour": [
           {
            "colorbar": {
             "outlinewidth": 0,
             "ticks": ""
            },
            "colorscale": [
             [
              0,
              "#0d0887"
             ],
             [
              0.1111111111111111,
              "#46039f"
             ],
             [
              0.2222222222222222,
              "#7201a8"
             ],
             [
              0.3333333333333333,
              "#9c179e"
             ],
             [
              0.4444444444444444,
              "#bd3786"
             ],
             [
              0.5555555555555556,
              "#d8576b"
             ],
             [
              0.6666666666666666,
              "#ed7953"
             ],
             [
              0.7777777777777778,
              "#fb9f3a"
             ],
             [
              0.8888888888888888,
              "#fdca26"
             ],
             [
              1,
              "#f0f921"
             ]
            ],
            "type": "contour"
           }
          ],
          "contourcarpet": [
           {
            "colorbar": {
             "outlinewidth": 0,
             "ticks": ""
            },
            "type": "contourcarpet"
           }
          ],
          "heatmap": [
           {
            "colorbar": {
             "outlinewidth": 0,
             "ticks": ""
            },
            "colorscale": [
             [
              0,
              "#0d0887"
             ],
             [
              0.1111111111111111,
              "#46039f"
             ],
             [
              0.2222222222222222,
              "#7201a8"
             ],
             [
              0.3333333333333333,
              "#9c179e"
             ],
             [
              0.4444444444444444,
              "#bd3786"
             ],
             [
              0.5555555555555556,
              "#d8576b"
             ],
             [
              0.6666666666666666,
              "#ed7953"
             ],
             [
              0.7777777777777778,
              "#fb9f3a"
             ],
             [
              0.8888888888888888,
              "#fdca26"
             ],
             [
              1,
              "#f0f921"
             ]
            ],
            "type": "heatmap"
           }
          ],
          "heatmapgl": [
           {
            "colorbar": {
             "outlinewidth": 0,
             "ticks": ""
            },
            "colorscale": [
             [
              0,
              "#0d0887"
             ],
             [
              0.1111111111111111,
              "#46039f"
             ],
             [
              0.2222222222222222,
              "#7201a8"
             ],
             [
              0.3333333333333333,
              "#9c179e"
             ],
             [
              0.4444444444444444,
              "#bd3786"
             ],
             [
              0.5555555555555556,
              "#d8576b"
             ],
             [
              0.6666666666666666,
              "#ed7953"
             ],
             [
              0.7777777777777778,
              "#fb9f3a"
             ],
             [
              0.8888888888888888,
              "#fdca26"
             ],
             [
              1,
              "#f0f921"
             ]
            ],
            "type": "heatmapgl"
           }
          ],
          "histogram": [
           {
            "marker": {
             "colorbar": {
              "outlinewidth": 0,
              "ticks": ""
             }
            },
            "type": "histogram"
           }
          ],
          "histogram2d": [
           {
            "colorbar": {
             "outlinewidth": 0,
             "ticks": ""
            },
            "colorscale": [
             [
              0,
              "#0d0887"
             ],
             [
              0.1111111111111111,
              "#46039f"
             ],
             [
              0.2222222222222222,
              "#7201a8"
             ],
             [
              0.3333333333333333,
              "#9c179e"
             ],
             [
              0.4444444444444444,
              "#bd3786"
             ],
             [
              0.5555555555555556,
              "#d8576b"
             ],
             [
              0.6666666666666666,
              "#ed7953"
             ],
             [
              0.7777777777777778,
              "#fb9f3a"
             ],
             [
              0.8888888888888888,
              "#fdca26"
             ],
             [
              1,
              "#f0f921"
             ]
            ],
            "type": "histogram2d"
           }
          ],
          "histogram2dcontour": [
           {
            "colorbar": {
             "outlinewidth": 0,
             "ticks": ""
            },
            "colorscale": [
             [
              0,
              "#0d0887"
             ],
             [
              0.1111111111111111,
              "#46039f"
             ],
             [
              0.2222222222222222,
              "#7201a8"
             ],
             [
              0.3333333333333333,
              "#9c179e"
             ],
             [
              0.4444444444444444,
              "#bd3786"
             ],
             [
              0.5555555555555556,
              "#d8576b"
             ],
             [
              0.6666666666666666,
              "#ed7953"
             ],
             [
              0.7777777777777778,
              "#fb9f3a"
             ],
             [
              0.8888888888888888,
              "#fdca26"
             ],
             [
              1,
              "#f0f921"
             ]
            ],
            "type": "histogram2dcontour"
           }
          ],
          "mesh3d": [
           {
            "colorbar": {
             "outlinewidth": 0,
             "ticks": ""
            },
            "type": "mesh3d"
           }
          ],
          "parcoords": [
           {
            "line": {
             "colorbar": {
              "outlinewidth": 0,
              "ticks": ""
             }
            },
            "type": "parcoords"
           }
          ],
          "scatter": [
           {
            "marker": {
             "colorbar": {
              "outlinewidth": 0,
              "ticks": ""
             }
            },
            "type": "scatter"
           }
          ],
          "scatter3d": [
           {
            "line": {
             "colorbar": {
              "outlinewidth": 0,
              "ticks": ""
             }
            },
            "marker": {
             "colorbar": {
              "outlinewidth": 0,
              "ticks": ""
             }
            },
            "type": "scatter3d"
           }
          ],
          "scattercarpet": [
           {
            "marker": {
             "colorbar": {
              "outlinewidth": 0,
              "ticks": ""
             }
            },
            "type": "scattercarpet"
           }
          ],
          "scattergeo": [
           {
            "marker": {
             "colorbar": {
              "outlinewidth": 0,
              "ticks": ""
             }
            },
            "type": "scattergeo"
           }
          ],
          "scattergl": [
           {
            "marker": {
             "colorbar": {
              "outlinewidth": 0,
              "ticks": ""
             }
            },
            "type": "scattergl"
           }
          ],
          "scattermapbox": [
           {
            "marker": {
             "colorbar": {
              "outlinewidth": 0,
              "ticks": ""
             }
            },
            "type": "scattermapbox"
           }
          ],
          "scatterpolar": [
           {
            "marker": {
             "colorbar": {
              "outlinewidth": 0,
              "ticks": ""
             }
            },
            "type": "scatterpolar"
           }
          ],
          "scatterpolargl": [
           {
            "marker": {
             "colorbar": {
              "outlinewidth": 0,
              "ticks": ""
             }
            },
            "type": "scatterpolargl"
           }
          ],
          "scatterternary": [
           {
            "marker": {
             "colorbar": {
              "outlinewidth": 0,
              "ticks": ""
             }
            },
            "type": "scatterternary"
           }
          ],
          "surface": [
           {
            "colorbar": {
             "outlinewidth": 0,
             "ticks": ""
            },
            "colorscale": [
             [
              0,
              "#0d0887"
             ],
             [
              0.1111111111111111,
              "#46039f"
             ],
             [
              0.2222222222222222,
              "#7201a8"
             ],
             [
              0.3333333333333333,
              "#9c179e"
             ],
             [
              0.4444444444444444,
              "#bd3786"
             ],
             [
              0.5555555555555556,
              "#d8576b"
             ],
             [
              0.6666666666666666,
              "#ed7953"
             ],
             [
              0.7777777777777778,
              "#fb9f3a"
             ],
             [
              0.8888888888888888,
              "#fdca26"
             ],
             [
              1,
              "#f0f921"
             ]
            ],
            "type": "surface"
           }
          ],
          "table": [
           {
            "cells": {
             "fill": {
              "color": "#EBF0F8"
             },
             "line": {
              "color": "white"
             }
            },
            "header": {
             "fill": {
              "color": "#C8D4E3"
             },
             "line": {
              "color": "white"
             }
            },
            "type": "table"
           }
          ]
         },
         "layout": {
          "annotationdefaults": {
           "arrowcolor": "#2a3f5f",
           "arrowhead": 0,
           "arrowwidth": 1
          },
          "colorscale": {
           "diverging": [
            [
             0,
             "#8e0152"
            ],
            [
             0.1,
             "#c51b7d"
            ],
            [
             0.2,
             "#de77ae"
            ],
            [
             0.3,
             "#f1b6da"
            ],
            [
             0.4,
             "#fde0ef"
            ],
            [
             0.5,
             "#f7f7f7"
            ],
            [
             0.6,
             "#e6f5d0"
            ],
            [
             0.7,
             "#b8e186"
            ],
            [
             0.8,
             "#7fbc41"
            ],
            [
             0.9,
             "#4d9221"
            ],
            [
             1,
             "#276419"
            ]
           ],
           "sequential": [
            [
             0,
             "#0d0887"
            ],
            [
             0.1111111111111111,
             "#46039f"
            ],
            [
             0.2222222222222222,
             "#7201a8"
            ],
            [
             0.3333333333333333,
             "#9c179e"
            ],
            [
             0.4444444444444444,
             "#bd3786"
            ],
            [
             0.5555555555555556,
             "#d8576b"
            ],
            [
             0.6666666666666666,
             "#ed7953"
            ],
            [
             0.7777777777777778,
             "#fb9f3a"
            ],
            [
             0.8888888888888888,
             "#fdca26"
            ],
            [
             1,
             "#f0f921"
            ]
           ],
           "sequentialminus": [
            [
             0,
             "#0d0887"
            ],
            [
             0.1111111111111111,
             "#46039f"
            ],
            [
             0.2222222222222222,
             "#7201a8"
            ],
            [
             0.3333333333333333,
             "#9c179e"
            ],
            [
             0.4444444444444444,
             "#bd3786"
            ],
            [
             0.5555555555555556,
             "#d8576b"
            ],
            [
             0.6666666666666666,
             "#ed7953"
            ],
            [
             0.7777777777777778,
             "#fb9f3a"
            ],
            [
             0.8888888888888888,
             "#fdca26"
            ],
            [
             1,
             "#f0f921"
            ]
           ]
          },
          "colorway": [
           "#636efa",
           "#EF553B",
           "#00cc96",
           "#ab63fa",
           "#FFA15A",
           "#19d3f3",
           "#FF6692",
           "#B6E880",
           "#FF97FF",
           "#FECB52"
          ],
          "font": {
           "color": "#2a3f5f"
          },
          "geo": {
           "bgcolor": "white",
           "lakecolor": "white",
           "landcolor": "#E5ECF6",
           "showlakes": true,
           "showland": true,
           "subunitcolor": "white"
          },
          "hoverlabel": {
           "align": "left"
          },
          "hovermode": "closest",
          "mapbox": {
           "style": "light"
          },
          "paper_bgcolor": "white",
          "plot_bgcolor": "#E5ECF6",
          "polar": {
           "angularaxis": {
            "gridcolor": "white",
            "linecolor": "white",
            "ticks": ""
           },
           "bgcolor": "#E5ECF6",
           "radialaxis": {
            "gridcolor": "white",
            "linecolor": "white",
            "ticks": ""
           }
          },
          "scene": {
           "xaxis": {
            "backgroundcolor": "#E5ECF6",
            "gridcolor": "white",
            "gridwidth": 2,
            "linecolor": "white",
            "showbackground": true,
            "ticks": "",
            "zerolinecolor": "white"
           },
           "yaxis": {
            "backgroundcolor": "#E5ECF6",
            "gridcolor": "white",
            "gridwidth": 2,
            "linecolor": "white",
            "showbackground": true,
            "ticks": "",
            "zerolinecolor": "white"
           },
           "zaxis": {
            "backgroundcolor": "#E5ECF6",
            "gridcolor": "white",
            "gridwidth": 2,
            "linecolor": "white",
            "showbackground": true,
            "ticks": "",
            "zerolinecolor": "white"
           }
          },
          "shapedefaults": {
           "line": {
            "color": "#2a3f5f"
           }
          },
          "ternary": {
           "aaxis": {
            "gridcolor": "white",
            "linecolor": "white",
            "ticks": ""
           },
           "baxis": {
            "gridcolor": "white",
            "linecolor": "white",
            "ticks": ""
           },
           "bgcolor": "#E5ECF6",
           "caxis": {
            "gridcolor": "white",
            "linecolor": "white",
            "ticks": ""
           }
          },
          "title": {
           "x": 0.05
          },
          "xaxis": {
           "automargin": true,
           "gridcolor": "white",
           "linecolor": "white",
           "ticks": "",
           "zerolinecolor": "white",
           "zerolinewidth": 2
          },
          "yaxis": {
           "automargin": true,
           "gridcolor": "white",
           "linecolor": "white",
           "ticks": "",
           "zerolinecolor": "white",
           "zerolinewidth": 2
          }
         }
        },
        "title": {
         "text": "Percentage of error for meta prediction of Group 7"
        }
       }
      },
      "text/html": [
       "<div>\n",
       "        \n",
       "        \n",
       "            <div id=\"023f7afa-8190-4cf2-950e-c0de904f1418\" class=\"plotly-graph-div\" style=\"height:525px; width:100%;\"></div>\n",
       "            <script type=\"text/javascript\">\n",
       "                require([\"plotly\"], function(Plotly) {\n",
       "                    window.PLOTLYENV=window.PLOTLYENV || {};\n",
       "                    \n",
       "                if (document.getElementById(\"023f7afa-8190-4cf2-950e-c0de904f1418\")) {\n",
       "                    Plotly.newPlot(\n",
       "                        '023f7afa-8190-4cf2-950e-c0de904f1418',\n",
       "                        [{\"marker\": {\"color\": [8.429874579283027, 4.2827964608724, 4.29452682307056, 4.61512051684126, 9.753804428655718, 5.69620769035977, 2.678559419521225, 7.679380472361421, 5.659489639802326, 9.140582642161094, 2.1158301968430338, 5.267753913231118, 3.780515584326964, 4.146608379578941, 4.362016148871358, 4.61512051684126, 4.61512051684126, 2.4151398073480608, 5.15028046497472, 4.61512051684126, 4.61512051684126, 4.61512051684126, 4.61512051684126, 4.61512051684126, 4.61512051684126, 4.61512051684126, 4.61512051684126, 4.61512051684126, 4.61512051684126, 4.61512051684126, 4.61512051684126, 4.61512051684126, 4.61512051684126, 4.61512051684126, 4.61512051684126, 4.61512051684126, 3.7361682454007292, 4.036820017611847, 4.61512051684126, 4.61512051684126, 4.61512051684126, 3.802832417276907, 4.841646368628713, 8.772318665656094, 3.7274814023742935, 3.3819321195952794, 4.183697278273862, 7.0653028131655935, 5.02689717496232, 4.61512051684126, 3.3931787760362777, 6.840293577052546, 4.7722681944912555, 7.5012961437807455, 7.77235297256252, 4.1665835456264055, 3.5982288933949698, 3.521451233436895, 3.962239719145326, 4.729744891257304, 4.164851106088799, 4.889295561718158, 3.086515252166155, 2.4662970924009424, 4.61512051684126, 2.351679377890702, 3.00667323974852, 3.930056331531784, 4.346726566956371, 2.985461889252441, 4.248716617105217, 4.251666871997963, 3.3687516884081563, 0.1388413273324741, 3.1325731222042115, 3.1540480078540973, 6.938477241633968, 8.196954909088362, 3.5538019970551087, 2.857936990530577, 4.61512051684126, 4.61512051684126, 4.61512051684126, 7.3758018729035975, 4.61512051684126, 7.249187814667923, 4.073450905271977, 3.9633357516384895, 6.376577054145053, 4.61512051684126, 7.863079841864159, 2.133254315275273, 7.6686895777913975, 4.497544351477662, 3.3209912110411874, 4.205882324493869, 4.335851299878081, 4.626461853599186, 4.61512051684126, 4.61512051684126, 4.61512051684126, 4.61512051684126, 4.61512051684126, 4.61512051684126]}, \"mode\": \"markers\", \"text\": [\"O Brother, Where Art Thou?\", \"The Twilight Saga: Breaking Dawn Part 1\", \"The Twilight Saga: Breaking Dawn Part 2\", \"Helena From the Wedding\", \"Monsters\", \"Catfish\", \"Red\", \"Freakonomics\", \"The Warrior's Way\", \"Stone\", \"Frankenweenie\", \"John Carter\", \"Dolphin Tale\", \"Penguins of Madagascar\", \"Minions\", \"Proud American\", \"Edmond\", \"Tootsie\", \"Waterworld\", \"The Lion King (2019)\", \"Crawl\", \"Stuber\", \"Midsommar\", \"Spider-Man: Far from Home\", \"Yesterday\", \"Annabelle Comes Home\", \"Toy Story 4\", \"Child's Play (2019)\", \"Anna (2019)\", \"Men in Black International\", \"Shaft (2019)\\u00a0\", \"Late Night\", \"The Secret Life of Pets 2\", \"Dark Phoenix\", \"Godzilla:King of the Monsters\", \"Rocketman\", \"Return of the Jedi\", \"Indiana Jones and the Temple of Doom\", \"The Idolmaker\", \"The Grass Harp\", \"The Grand\", \"Jaws\", \"Superman (1978)\", \"Clerks\", \"Juice\", \"He Got Game\", \"White Men Can't Jump\", \"Mulholland Drive\", \"Blue Velvet\", \"Once Upon a Time in Hollywood\", \"The Big Lebowski\", \"Train to Busan\", \"Pride and Prejudice and Zombies\", \"Dead Poets Society\", \"A Fish Called Wanda\", \"The Witches of Eastwick\", \"Ferris Bueller's Day Off\", \"Back to the Future\", \"Police Academy\", \"Trading Places\", \"Star Trek II The Wrath of Khan\", \"The Blues Brothers\", \"V For Vendetta\", \"In the Line of Fire\", \"Us\", \"The Forbidden Kingdom\", \"Rumble in the Bronx\", \"Machete\", \"Beverly Hills Cop\", \"Watchmen\", \"Jackie Brown\", \"Zombieland\", \"Mo Better Blues\", \"Thelma and Louise\", \"New Jack City\", \"The Lawnmower Man\", \"Schindler's List\", \"Four Weddings and a Funeral\", \"Get Shorty\", \"Jerry Maguire\", \"Welcome to Sarajevo\", \"Trojan War\", \"The Gingerbread Man\", \"Tumbleweeds\", \"Turn it up\", \"The Adventures of Pluto Nash\", \"The Lord of the Rings: The Return of the King\", \"Harry Potter and the Prisoner of Azkaban\", \"Stay\", \"Fast Food Nation\", \"Into the Wild\", \"The Wrestler\", \"Slumdog Millionaire\", \"Jackass 3-D\", \"Skyfall\", \"The Hunger Games: Mocking Jay - Part 1\", \"Jurassic World\", \"Shut In\", \"Molly's Game\", \"Molly's Game\", \"BlacKkKlansman\", \"BlacKkKlansman\", \"Peter Rabbit\", \"Replicas\"], \"type\": \"scatter\", \"x\": [\"O Brother, Where Art Thou?\", \"The Twilight Saga: Breaking Dawn Part 1\", \"The Twilight Saga: Breaking Dawn Part 2\", \"Helena From the Wedding\", \"Monsters\", \"Catfish\", \"Red\", \"Freakonomics\", \"The Warrior's Way\", \"Stone\", \"Frankenweenie\", \"John Carter\", \"Dolphin Tale\", \"Penguins of Madagascar\", \"Minions\", \"Proud American\", \"Edmond\", \"Tootsie\", \"Waterworld\", \"The Lion King (2019)\", \"Crawl\", \"Stuber\", \"Midsommar\", \"Spider-Man: Far from Home\", \"Yesterday\", \"Annabelle Comes Home\", \"Toy Story 4\", \"Child's Play (2019)\", \"Anna (2019)\", \"Men in Black International\", \"Shaft (2019)\\u00a0\", \"Late Night\", \"The Secret Life of Pets 2\", \"Dark Phoenix\", \"Godzilla:King of the Monsters\", \"Rocketman\", \"Return of the Jedi\", \"Indiana Jones and the Temple of Doom\", \"The Idolmaker\", \"The Grass Harp\", \"The Grand\", \"Jaws\", \"Superman (1978)\", \"Clerks\", \"Juice\", \"He Got Game\", \"White Men Can't Jump\", \"Mulholland Drive\", \"Blue Velvet\", \"Once Upon a Time in Hollywood\", \"The Big Lebowski\", \"Train to Busan\", \"Pride and Prejudice and Zombies\", \"Dead Poets Society\", \"A Fish Called Wanda\", \"The Witches of Eastwick\", \"Ferris Bueller's Day Off\", \"Back to the Future\", \"Police Academy\", \"Trading Places\", \"Star Trek II The Wrath of Khan\", \"The Blues Brothers\", \"V For Vendetta\", \"In the Line of Fire\", \"Us\", \"The Forbidden Kingdom\", \"Rumble in the Bronx\", \"Machete\", \"Beverly Hills Cop\", \"Watchmen\", \"Jackie Brown\", \"Zombieland\", \"Mo Better Blues\", \"Thelma and Louise\", \"New Jack City\", \"The Lawnmower Man\", \"Schindler's List\", \"Four Weddings and a Funeral\", \"Get Shorty\", \"Jerry Maguire\", \"Welcome to Sarajevo\", \"Trojan War\", \"The Gingerbread Man\", \"Tumbleweeds\", \"Turn it up\", \"The Adventures of Pluto Nash\", \"The Lord of the Rings: The Return of the King\", \"Harry Potter and the Prisoner of Azkaban\", \"Stay\", \"Fast Food Nation\", \"Into the Wild\", \"The Wrestler\", \"Slumdog Millionaire\", \"Jackass 3-D\", \"Skyfall\", \"The Hunger Games: Mocking Jay - Part 1\", \"Jurassic World\", \"Shut In\", \"Molly's Game\", \"Molly's Game\", \"BlacKkKlansman\", \"BlacKkKlansman\", \"Peter Rabbit\", \"Replicas\"], \"y\": [8.429874579283027, 4.2827964608724, 4.29452682307056, 4.61512051684126, 9.753804428655718, 5.69620769035977, 2.678559419521225, 7.679380472361421, 5.659489639802326, 9.140582642161094, 2.1158301968430338, 5.267753913231118, 3.780515584326964, 4.146608379578941, 4.362016148871358, 4.61512051684126, 4.61512051684126, 2.4151398073480608, 5.15028046497472, 4.61512051684126, 4.61512051684126, 4.61512051684126, 4.61512051684126, 4.61512051684126, 4.61512051684126, 4.61512051684126, 4.61512051684126, 4.61512051684126, 4.61512051684126, 4.61512051684126, 4.61512051684126, 4.61512051684126, 4.61512051684126, 4.61512051684126, 4.61512051684126, 4.61512051684126, 3.7361682454007292, 4.036820017611847, 4.61512051684126, 4.61512051684126, 4.61512051684126, 3.802832417276907, 4.841646368628713, 8.772318665656094, 3.7274814023742935, 3.3819321195952794, 4.183697278273862, 7.0653028131655935, 5.02689717496232, 4.61512051684126, 3.3931787760362777, 6.840293577052546, 4.7722681944912555, 7.5012961437807455, 7.77235297256252, 4.1665835456264055, 3.5982288933949698, 3.521451233436895, 3.962239719145326, 4.729744891257304, 4.164851106088799, 4.889295561718158, 3.086515252166155, 2.4662970924009424, 4.61512051684126, 2.351679377890702, 3.00667323974852, 3.930056331531784, 4.346726566956371, 2.985461889252441, 4.248716617105217, 4.251666871997963, 3.3687516884081563, 0.1388413273324741, 3.1325731222042115, 3.1540480078540973, 6.938477241633968, 8.196954909088362, 3.5538019970551087, 2.857936990530577, 4.61512051684126, 4.61512051684126, 4.61512051684126, 7.3758018729035975, 4.61512051684126, 7.249187814667923, 4.073450905271977, 3.9633357516384895, 6.376577054145053, 4.61512051684126, 7.863079841864159, 2.133254315275273, 7.6686895777913975, 4.497544351477662, 3.3209912110411874, 4.205882324493869, 4.335851299878081, 4.626461853599186, 4.61512051684126, 4.61512051684126, 4.61512051684126, 4.61512051684126, 4.61512051684126, 4.61512051684126]}],\n",
       "                        {\"template\": {\"data\": {\"bar\": [{\"error_x\": {\"color\": \"#2a3f5f\"}, \"error_y\": {\"color\": \"#2a3f5f\"}, \"marker\": {\"line\": {\"color\": \"#E5ECF6\", \"width\": 0.5}}, \"type\": \"bar\"}], \"barpolar\": [{\"marker\": {\"line\": {\"color\": \"#E5ECF6\", \"width\": 0.5}}, \"type\": \"barpolar\"}], \"carpet\": [{\"aaxis\": {\"endlinecolor\": \"#2a3f5f\", \"gridcolor\": \"white\", \"linecolor\": \"white\", \"minorgridcolor\": \"white\", \"startlinecolor\": \"#2a3f5f\"}, \"baxis\": {\"endlinecolor\": \"#2a3f5f\", \"gridcolor\": \"white\", \"linecolor\": \"white\", \"minorgridcolor\": \"white\", \"startlinecolor\": \"#2a3f5f\"}, \"type\": \"carpet\"}], \"choropleth\": [{\"colorbar\": {\"outlinewidth\": 0, \"ticks\": \"\"}, \"type\": \"choropleth\"}], \"contour\": [{\"colorbar\": {\"outlinewidth\": 0, \"ticks\": \"\"}, \"colorscale\": [[0.0, \"#0d0887\"], [0.1111111111111111, \"#46039f\"], [0.2222222222222222, \"#7201a8\"], [0.3333333333333333, \"#9c179e\"], [0.4444444444444444, \"#bd3786\"], [0.5555555555555556, \"#d8576b\"], [0.6666666666666666, \"#ed7953\"], [0.7777777777777778, \"#fb9f3a\"], [0.8888888888888888, \"#fdca26\"], [1.0, \"#f0f921\"]], \"type\": \"contour\"}], \"contourcarpet\": [{\"colorbar\": {\"outlinewidth\": 0, \"ticks\": \"\"}, \"type\": \"contourcarpet\"}], \"heatmap\": [{\"colorbar\": {\"outlinewidth\": 0, \"ticks\": \"\"}, \"colorscale\": [[0.0, \"#0d0887\"], [0.1111111111111111, \"#46039f\"], [0.2222222222222222, \"#7201a8\"], [0.3333333333333333, \"#9c179e\"], [0.4444444444444444, \"#bd3786\"], [0.5555555555555556, \"#d8576b\"], [0.6666666666666666, \"#ed7953\"], [0.7777777777777778, \"#fb9f3a\"], [0.8888888888888888, \"#fdca26\"], [1.0, \"#f0f921\"]], \"type\": \"heatmap\"}], \"heatmapgl\": [{\"colorbar\": {\"outlinewidth\": 0, \"ticks\": \"\"}, \"colorscale\": [[0.0, \"#0d0887\"], [0.1111111111111111, \"#46039f\"], [0.2222222222222222, \"#7201a8\"], [0.3333333333333333, \"#9c179e\"], [0.4444444444444444, \"#bd3786\"], [0.5555555555555556, \"#d8576b\"], [0.6666666666666666, \"#ed7953\"], [0.7777777777777778, \"#fb9f3a\"], [0.8888888888888888, \"#fdca26\"], [1.0, \"#f0f921\"]], \"type\": \"heatmapgl\"}], \"histogram\": [{\"marker\": {\"colorbar\": {\"outlinewidth\": 0, \"ticks\": \"\"}}, \"type\": \"histogram\"}], \"histogram2d\": [{\"colorbar\": {\"outlinewidth\": 0, \"ticks\": \"\"}, \"colorscale\": [[0.0, \"#0d0887\"], [0.1111111111111111, \"#46039f\"], [0.2222222222222222, \"#7201a8\"], [0.3333333333333333, \"#9c179e\"], [0.4444444444444444, \"#bd3786\"], [0.5555555555555556, \"#d8576b\"], [0.6666666666666666, \"#ed7953\"], [0.7777777777777778, \"#fb9f3a\"], [0.8888888888888888, \"#fdca26\"], [1.0, \"#f0f921\"]], \"type\": \"histogram2d\"}], \"histogram2dcontour\": [{\"colorbar\": {\"outlinewidth\": 0, \"ticks\": \"\"}, \"colorscale\": [[0.0, \"#0d0887\"], [0.1111111111111111, \"#46039f\"], [0.2222222222222222, \"#7201a8\"], [0.3333333333333333, \"#9c179e\"], [0.4444444444444444, \"#bd3786\"], [0.5555555555555556, \"#d8576b\"], [0.6666666666666666, \"#ed7953\"], [0.7777777777777778, \"#fb9f3a\"], [0.8888888888888888, \"#fdca26\"], [1.0, \"#f0f921\"]], \"type\": \"histogram2dcontour\"}], \"mesh3d\": [{\"colorbar\": {\"outlinewidth\": 0, \"ticks\": \"\"}, \"type\": \"mesh3d\"}], \"parcoords\": [{\"line\": {\"colorbar\": {\"outlinewidth\": 0, \"ticks\": \"\"}}, \"type\": \"parcoords\"}], \"scatter\": [{\"marker\": {\"colorbar\": {\"outlinewidth\": 0, \"ticks\": \"\"}}, \"type\": \"scatter\"}], \"scatter3d\": [{\"line\": {\"colorbar\": {\"outlinewidth\": 0, \"ticks\": \"\"}}, \"marker\": {\"colorbar\": {\"outlinewidth\": 0, \"ticks\": \"\"}}, \"type\": \"scatter3d\"}], \"scattercarpet\": [{\"marker\": {\"colorbar\": {\"outlinewidth\": 0, \"ticks\": \"\"}}, \"type\": \"scattercarpet\"}], \"scattergeo\": [{\"marker\": {\"colorbar\": {\"outlinewidth\": 0, \"ticks\": \"\"}}, \"type\": \"scattergeo\"}], \"scattergl\": [{\"marker\": {\"colorbar\": {\"outlinewidth\": 0, \"ticks\": \"\"}}, \"type\": \"scattergl\"}], \"scattermapbox\": [{\"marker\": {\"colorbar\": {\"outlinewidth\": 0, \"ticks\": \"\"}}, \"type\": \"scattermapbox\"}], \"scatterpolar\": [{\"marker\": {\"colorbar\": {\"outlinewidth\": 0, \"ticks\": \"\"}}, \"type\": \"scatterpolar\"}], \"scatterpolargl\": [{\"marker\": {\"colorbar\": {\"outlinewidth\": 0, \"ticks\": \"\"}}, \"type\": \"scatterpolargl\"}], \"scatterternary\": [{\"marker\": {\"colorbar\": {\"outlinewidth\": 0, \"ticks\": \"\"}}, \"type\": \"scatterternary\"}], \"surface\": [{\"colorbar\": {\"outlinewidth\": 0, \"ticks\": \"\"}, \"colorscale\": [[0.0, \"#0d0887\"], [0.1111111111111111, \"#46039f\"], [0.2222222222222222, \"#7201a8\"], [0.3333333333333333, \"#9c179e\"], [0.4444444444444444, \"#bd3786\"], [0.5555555555555556, \"#d8576b\"], [0.6666666666666666, \"#ed7953\"], [0.7777777777777778, \"#fb9f3a\"], [0.8888888888888888, \"#fdca26\"], [1.0, \"#f0f921\"]], \"type\": \"surface\"}], \"table\": [{\"cells\": {\"fill\": {\"color\": \"#EBF0F8\"}, \"line\": {\"color\": \"white\"}}, \"header\": {\"fill\": {\"color\": \"#C8D4E3\"}, \"line\": {\"color\": \"white\"}}, \"type\": \"table\"}]}, \"layout\": {\"annotationdefaults\": {\"arrowcolor\": \"#2a3f5f\", \"arrowhead\": 0, \"arrowwidth\": 1}, \"colorscale\": {\"diverging\": [[0, \"#8e0152\"], [0.1, \"#c51b7d\"], [0.2, \"#de77ae\"], [0.3, \"#f1b6da\"], [0.4, \"#fde0ef\"], [0.5, \"#f7f7f7\"], [0.6, \"#e6f5d0\"], [0.7, \"#b8e186\"], [0.8, \"#7fbc41\"], [0.9, \"#4d9221\"], [1, \"#276419\"]], \"sequential\": [[0.0, \"#0d0887\"], [0.1111111111111111, \"#46039f\"], [0.2222222222222222, \"#7201a8\"], [0.3333333333333333, \"#9c179e\"], [0.4444444444444444, \"#bd3786\"], [0.5555555555555556, \"#d8576b\"], [0.6666666666666666, \"#ed7953\"], [0.7777777777777778, \"#fb9f3a\"], [0.8888888888888888, \"#fdca26\"], [1.0, \"#f0f921\"]], \"sequentialminus\": [[0.0, \"#0d0887\"], [0.1111111111111111, \"#46039f\"], [0.2222222222222222, \"#7201a8\"], [0.3333333333333333, \"#9c179e\"], [0.4444444444444444, \"#bd3786\"], [0.5555555555555556, \"#d8576b\"], [0.6666666666666666, \"#ed7953\"], [0.7777777777777778, \"#fb9f3a\"], [0.8888888888888888, \"#fdca26\"], [1.0, \"#f0f921\"]]}, \"colorway\": [\"#636efa\", \"#EF553B\", \"#00cc96\", \"#ab63fa\", \"#FFA15A\", \"#19d3f3\", \"#FF6692\", \"#B6E880\", \"#FF97FF\", \"#FECB52\"], \"font\": {\"color\": \"#2a3f5f\"}, \"geo\": {\"bgcolor\": \"white\", \"lakecolor\": \"white\", \"landcolor\": \"#E5ECF6\", \"showlakes\": true, \"showland\": true, \"subunitcolor\": \"white\"}, \"hoverlabel\": {\"align\": \"left\"}, \"hovermode\": \"closest\", \"mapbox\": {\"style\": \"light\"}, \"paper_bgcolor\": \"white\", \"plot_bgcolor\": \"#E5ECF6\", \"polar\": {\"angularaxis\": {\"gridcolor\": \"white\", \"linecolor\": \"white\", \"ticks\": \"\"}, \"bgcolor\": \"#E5ECF6\", \"radialaxis\": {\"gridcolor\": \"white\", \"linecolor\": \"white\", \"ticks\": \"\"}}, \"scene\": {\"xaxis\": {\"backgroundcolor\": \"#E5ECF6\", \"gridcolor\": \"white\", \"gridwidth\": 2, \"linecolor\": \"white\", \"showbackground\": true, \"ticks\": \"\", \"zerolinecolor\": \"white\"}, \"yaxis\": {\"backgroundcolor\": \"#E5ECF6\", \"gridcolor\": \"white\", \"gridwidth\": 2, \"linecolor\": \"white\", \"showbackground\": true, \"ticks\": \"\", \"zerolinecolor\": \"white\"}, \"zaxis\": {\"backgroundcolor\": \"#E5ECF6\", \"gridcolor\": \"white\", \"gridwidth\": 2, \"linecolor\": \"white\", \"showbackground\": true, \"ticks\": \"\", \"zerolinecolor\": \"white\"}}, \"shapedefaults\": {\"line\": {\"color\": \"#2a3f5f\"}}, \"ternary\": {\"aaxis\": {\"gridcolor\": \"white\", \"linecolor\": \"white\", \"ticks\": \"\"}, \"baxis\": {\"gridcolor\": \"white\", \"linecolor\": \"white\", \"ticks\": \"\"}, \"bgcolor\": \"#E5ECF6\", \"caxis\": {\"gridcolor\": \"white\", \"linecolor\": \"white\", \"ticks\": \"\"}}, \"title\": {\"x\": 0.05}, \"xaxis\": {\"automargin\": true, \"gridcolor\": \"white\", \"linecolor\": \"white\", \"ticks\": \"\", \"zerolinecolor\": \"white\", \"zerolinewidth\": 2}, \"yaxis\": {\"automargin\": true, \"gridcolor\": \"white\", \"linecolor\": \"white\", \"ticks\": \"\", \"zerolinecolor\": \"white\", \"zerolinewidth\": 2}}}, \"title\": {\"text\": \"Percentage of error for meta prediction of Group 7\"}},\n",
       "                        {\"responsive\": true}\n",
       "                    ).then(function(){\n",
       "                            \n",
       "var gd = document.getElementById('023f7afa-8190-4cf2-950e-c0de904f1418');\n",
       "var x = new MutationObserver(function (mutations, observer) {{\n",
       "        var display = window.getComputedStyle(gd).display;\n",
       "        if (!display || display === 'none') {{\n",
       "            console.log([gd, 'removed!']);\n",
       "            Plotly.purge(gd);\n",
       "            observer.disconnect();\n",
       "        }}\n",
       "}});\n",
       "\n",
       "// Listen for the removal of the full notebook cells\n",
       "var notebookContainer = gd.closest('#notebook-container');\n",
       "if (notebookContainer) {{\n",
       "    x.observe(notebookContainer, {childList: true});\n",
       "}}\n",
       "\n",
       "// Listen for the clearing of the current output cell\n",
       "var outputEl = gd.closest('.output');\n",
       "if (outputEl) {{\n",
       "    x.observe(outputEl, {childList: true});\n",
       "}}\n",
       "\n",
       "                        })\n",
       "                };\n",
       "                });\n",
       "            </script>\n",
       "        </div>"
      ]
     },
     "metadata": {},
     "output_type": "display_data"
    }
   ],
   "source": [
    "# Percentage of error for meta prediction\n",
    "import numpy as np\n",
    "#loss 模型评估\n",
    "#y_true = g4_result_final[\"ground_truth\"]\n",
    "#y_pred = g4_result_final[\"meta_prediction\"]\n",
    "\n",
    "#movie_data[\"log_openingBox\"] = np.log1p(result_meta_data.openingBox)\n",
    "\n",
    "def mean_absolute_percentage_error(y_true, y_pred):\n",
    "    diff = abs((y_true - y_pred) /y_true)\n",
    "    return np.log1p(100. *diff)#using log1p because of large range of 100. *diff\n",
    "    #return 100. *diff\n",
    "    \n",
    "#Visualizing Percentage of error for meta prediction\n",
    "g7_result_final['meta_rmse_pre'] = mean_absolute_percentage_error(g7_result_final[\"ground_truth\"], g7_result_final[\"metadata_prediction\"])\n",
    "fig = go.Figure(data=go.Scatter(x=g7_result_final[\"name\"],\n",
    "                                y=g7_result_final['meta_rmse_pre'],\n",
    "                                mode='markers',\n",
    "                                marker_color=g7_result_final['meta_rmse_pre'],\n",
    "                                text=g7_result_final[\"name\"])) # hover text goes here(movie_title)\n",
    "\n",
    "fig.update_layout(title='Percentage of error for meta prediction of Group 7')\n",
    "fig.show()"
   ]
  },
  {
   "cell_type": "code",
   "execution_count": 35,
   "metadata": {},
   "outputs": [
    {
     "data": {
      "text/plain": [
       "4.61512051684126"
      ]
     },
     "execution_count": 35,
     "metadata": {},
     "output_type": "execute_result"
    }
   ],
   "source": [
    "# Median for Percentage of error for meta prediction\n",
    "Median_meta = np.median(g7_result_final['meta_rmse_pre'])\n",
    "Median_meta"
   ]
  },
  {
   "cell_type": "code",
   "execution_count": 36,
   "metadata": {},
   "outputs": [
    {
     "data": {
      "application/vnd.plotly.v1+json": {
       "config": {
        "plotlyServerURL": "https://plot.ly"
       },
       "data": [
        {
         "marker": {
          "color": [
           -8937568.6700858,
           98678328.22521016,
           101988405.899993,
           2692,
           -3531193.594737808,
           763457.6025618468,
           2951738.5815083906,
           -689615.6878399523,
           -8719246.8581541,
           -7065329.050678723,
           -832688.7676719576,
           -58241659.61002393,
           8204627.81404078,
           -15833201.33944355,
           89583486.1028023,
           96076,
           19253,
           564647.8515724735,
           -36305338.299729005,
           191770759,
           12005210,
           8225384,
           6560030,
           92579212,
           17010050,
           20269723,
           120908065,
           14094594,
           3600647,
           30035838,
           8901419,
           246305,
           46652680,
           32828348,
           47776293,
           25725722,
           9423538.638539128,
           14099068.734712038,
           318403,
           117161,
           26334,
           3094918.2496792665,
           -9382274.245968483,
           -2043063.0866816072,
           3280800.7691879477,
           -2163526.8419699445,
           9504559.50522407,
           -6872678.230315719,
           -1195632.7435098127,
           41082018,
           -1591555.8761343136,
           -2659134.4004895133,
           -6239317.623693256,
           -6160168.02370207,
           -2738927.7699828125,
           6002943.078174023,
           2229955.296929486,
           3661755.3235122403,
           4419976.593561731,
           -8249578.956030956,
           9093712.784992862,
           -6405956.771125484,
           5359409.756696735,
           1645849.2163553834,
           71117625,
           2033789.9939984418,
           1894782.681504313,
           7038729.600274179,
           11597524.215876952,
           10377889.390617795,
           6413091.229740338,
           17120875.211548373,
           1230314.4877775055,
           -9087.380347707309,
           1543994.1600539815,
           1738822.9566670638,
           -6764655.8788770065,
           -5025490.959016772,
           4311135.429543441,
           2806188.0054000355,
           66920,
           217,
           118278,
           -1277176.205920175,
           576820,
           -30690737.30315987,
           41950476.4234568,
           48373226.01830806,
           -12842799.650050504,
           410804,
           -5520283.464129618,
           15086.576011815108,
           -7701774.864218181,
           44712196.33442722,
           23582581.70354011,
           80549661.16064107,
           157418967.57028913,
           3655195.120107496,
           1172036,
           1172036,
           10845330,
           10845330,
           25010928,
           2375325
          ]
         },
         "mode": "markers",
         "text": [
          "O Brother, Where Art Thou?",
          "The Twilight Saga: Breaking Dawn Part 1",
          "The Twilight Saga: Breaking Dawn Part 2",
          "Helena From the Wedding",
          "Monsters",
          "Catfish",
          "Red",
          "Freakonomics",
          "The Warrior's Way",
          "Stone",
          "Frankenweenie",
          "John Carter",
          "Dolphin Tale",
          "Penguins of Madagascar",
          "Minions",
          "Proud American",
          "Edmond",
          "Tootsie",
          "Waterworld",
          "The Lion King (2019)",
          "Crawl",
          "Stuber",
          "Midsommar",
          "Spider-Man: Far from Home",
          "Yesterday",
          "Annabelle Comes Home",
          "Toy Story 4",
          "Child's Play (2019)",
          "Anna (2019)",
          "Men in Black International",
          "Shaft (2019) ",
          "Late Night",
          "The Secret Life of Pets 2",
          "Dark Phoenix",
          "Godzilla:King of the Monsters",
          "Rocketman",
          "Return of the Jedi",
          "Indiana Jones and the Temple of Doom",
          "The Idolmaker",
          "The Grass Harp",
          "The Grand",
          "Jaws",
          "Superman (1978)",
          "Clerks",
          "Juice",
          "He Got Game",
          "White Men Can't Jump",
          "Mulholland Drive",
          "Blue Velvet",
          "Once Upon a Time in Hollywood",
          "The Big Lebowski",
          "Train to Busan",
          "Pride and Prejudice and Zombies",
          "Dead Poets Society",
          "A Fish Called Wanda",
          "The Witches of Eastwick",
          "Ferris Bueller's Day Off",
          "Back to the Future",
          "Police Academy",
          "Trading Places",
          "Star Trek II The Wrath of Khan",
          "The Blues Brothers",
          "V For Vendetta",
          "In the Line of Fire",
          "Us",
          "The Forbidden Kingdom",
          "Rumble in the Bronx",
          "Machete",
          "Beverly Hills Cop",
          "Watchmen",
          "Jackie Brown",
          "Zombieland",
          "Mo Better Blues",
          "Thelma and Louise",
          "New Jack City",
          "The Lawnmower Man",
          "Schindler's List",
          "Four Weddings and a Funeral",
          "Get Shorty",
          "Jerry Maguire",
          "Welcome to Sarajevo",
          "Trojan War",
          "The Gingerbread Man",
          "Tumbleweeds",
          "Turn it up",
          "The Adventures of Pluto Nash",
          "The Lord of the Rings: The Return of the King",
          "Harry Potter and the Prisoner of Azkaban",
          "Stay",
          "Fast Food Nation",
          "Into the Wild",
          "The Wrestler",
          "Slumdog Millionaire",
          "Jackass 3-D",
          "Skyfall",
          "The Hunger Games: Mocking Jay - Part 1",
          "Jurassic World",
          "Shut In",
          "Molly's Game",
          "Molly's Game",
          "BlacKkKlansman",
          "BlacKkKlansman",
          "Peter Rabbit",
          "Replicas"
         ],
         "type": "scatter",
         "x": [
          "O Brother, Where Art Thou?",
          "The Twilight Saga: Breaking Dawn Part 1",
          "The Twilight Saga: Breaking Dawn Part 2",
          "Helena From the Wedding",
          "Monsters",
          "Catfish",
          "Red",
          "Freakonomics",
          "The Warrior's Way",
          "Stone",
          "Frankenweenie",
          "John Carter",
          "Dolphin Tale",
          "Penguins of Madagascar",
          "Minions",
          "Proud American",
          "Edmond",
          "Tootsie",
          "Waterworld",
          "The Lion King (2019)",
          "Crawl",
          "Stuber",
          "Midsommar",
          "Spider-Man: Far from Home",
          "Yesterday",
          "Annabelle Comes Home",
          "Toy Story 4",
          "Child's Play (2019)",
          "Anna (2019)",
          "Men in Black International",
          "Shaft (2019) ",
          "Late Night",
          "The Secret Life of Pets 2",
          "Dark Phoenix",
          "Godzilla:King of the Monsters",
          "Rocketman",
          "Return of the Jedi",
          "Indiana Jones and the Temple of Doom",
          "The Idolmaker",
          "The Grass Harp",
          "The Grand",
          "Jaws",
          "Superman (1978)",
          "Clerks",
          "Juice",
          "He Got Game",
          "White Men Can't Jump",
          "Mulholland Drive",
          "Blue Velvet",
          "Once Upon a Time in Hollywood",
          "The Big Lebowski",
          "Train to Busan",
          "Pride and Prejudice and Zombies",
          "Dead Poets Society",
          "A Fish Called Wanda",
          "The Witches of Eastwick",
          "Ferris Bueller's Day Off",
          "Back to the Future",
          "Police Academy",
          "Trading Places",
          "Star Trek II The Wrath of Khan",
          "The Blues Brothers",
          "V For Vendetta",
          "In the Line of Fire",
          "Us",
          "The Forbidden Kingdom",
          "Rumble in the Bronx",
          "Machete",
          "Beverly Hills Cop",
          "Watchmen",
          "Jackie Brown",
          "Zombieland",
          "Mo Better Blues",
          "Thelma and Louise",
          "New Jack City",
          "The Lawnmower Man",
          "Schindler's List",
          "Four Weddings and a Funeral",
          "Get Shorty",
          "Jerry Maguire",
          "Welcome to Sarajevo",
          "Trojan War",
          "The Gingerbread Man",
          "Tumbleweeds",
          "Turn it up",
          "The Adventures of Pluto Nash",
          "The Lord of the Rings: The Return of the King",
          "Harry Potter and the Prisoner of Azkaban",
          "Stay",
          "Fast Food Nation",
          "Into the Wild",
          "The Wrestler",
          "Slumdog Millionaire",
          "Jackass 3-D",
          "Skyfall",
          "The Hunger Games: Mocking Jay - Part 1",
          "Jurassic World",
          "Shut In",
          "Molly's Game",
          "Molly's Game",
          "BlacKkKlansman",
          "BlacKkKlansman",
          "Peter Rabbit",
          "Replicas"
         ],
         "y": [
          -8937568.6700858,
          98678328.22521016,
          101988405.899993,
          2692,
          -3531193.594737808,
          763457.6025618468,
          2951738.5815083906,
          -689615.6878399523,
          -8719246.8581541,
          -7065329.050678723,
          -832688.7676719576,
          -58241659.61002393,
          8204627.81404078,
          -15833201.33944355,
          89583486.1028023,
          96076,
          19253,
          564647.8515724735,
          -36305338.299729005,
          191770759,
          12005210,
          8225384,
          6560030,
          92579212,
          17010050,
          20269723,
          120908065,
          14094594,
          3600647,
          30035838,
          8901419,
          246305,
          46652680,
          32828348,
          47776293,
          25725722,
          9423538.638539128,
          14099068.734712038,
          318403,
          117161,
          26334,
          3094918.2496792665,
          -9382274.245968483,
          -2043063.0866816072,
          3280800.7691879477,
          -2163526.8419699445,
          9504559.50522407,
          -6872678.230315719,
          -1195632.7435098127,
          41082018,
          -1591555.8761343136,
          -2659134.4004895133,
          -6239317.623693256,
          -6160168.02370207,
          -2738927.7699828125,
          6002943.078174023,
          2229955.296929486,
          3661755.3235122403,
          4419976.593561731,
          -8249578.956030956,
          9093712.784992862,
          -6405956.771125484,
          5359409.756696735,
          1645849.2163553834,
          71117625,
          2033789.9939984418,
          1894782.681504313,
          7038729.600274179,
          11597524.215876952,
          10377889.390617795,
          6413091.229740338,
          17120875.211548373,
          1230314.4877775055,
          -9087.380347707309,
          1543994.1600539815,
          1738822.9566670638,
          -6764655.8788770065,
          -5025490.959016772,
          4311135.429543441,
          2806188.0054000355,
          66920,
          217,
          118278,
          -1277176.205920175,
          576820,
          -30690737.30315987,
          41950476.4234568,
          48373226.01830806,
          -12842799.650050504,
          410804,
          -5520283.464129618,
          15086.576011815108,
          -7701774.864218181,
          44712196.33442722,
          23582581.70354011,
          80549661.16064107,
          157418967.57028913,
          3655195.120107496,
          1172036,
          1172036,
          10845330,
          10845330,
          25010928,
          2375325
         ]
        }
       ],
       "layout": {
        "template": {
         "data": {
          "bar": [
           {
            "error_x": {
             "color": "#2a3f5f"
            },
            "error_y": {
             "color": "#2a3f5f"
            },
            "marker": {
             "line": {
              "color": "#E5ECF6",
              "width": 0.5
             }
            },
            "type": "bar"
           }
          ],
          "barpolar": [
           {
            "marker": {
             "line": {
              "color": "#E5ECF6",
              "width": 0.5
             }
            },
            "type": "barpolar"
           }
          ],
          "carpet": [
           {
            "aaxis": {
             "endlinecolor": "#2a3f5f",
             "gridcolor": "white",
             "linecolor": "white",
             "minorgridcolor": "white",
             "startlinecolor": "#2a3f5f"
            },
            "baxis": {
             "endlinecolor": "#2a3f5f",
             "gridcolor": "white",
             "linecolor": "white",
             "minorgridcolor": "white",
             "startlinecolor": "#2a3f5f"
            },
            "type": "carpet"
           }
          ],
          "choropleth": [
           {
            "colorbar": {
             "outlinewidth": 0,
             "ticks": ""
            },
            "type": "choropleth"
           }
          ],
          "contour": [
           {
            "colorbar": {
             "outlinewidth": 0,
             "ticks": ""
            },
            "colorscale": [
             [
              0,
              "#0d0887"
             ],
             [
              0.1111111111111111,
              "#46039f"
             ],
             [
              0.2222222222222222,
              "#7201a8"
             ],
             [
              0.3333333333333333,
              "#9c179e"
             ],
             [
              0.4444444444444444,
              "#bd3786"
             ],
             [
              0.5555555555555556,
              "#d8576b"
             ],
             [
              0.6666666666666666,
              "#ed7953"
             ],
             [
              0.7777777777777778,
              "#fb9f3a"
             ],
             [
              0.8888888888888888,
              "#fdca26"
             ],
             [
              1,
              "#f0f921"
             ]
            ],
            "type": "contour"
           }
          ],
          "contourcarpet": [
           {
            "colorbar": {
             "outlinewidth": 0,
             "ticks": ""
            },
            "type": "contourcarpet"
           }
          ],
          "heatmap": [
           {
            "colorbar": {
             "outlinewidth": 0,
             "ticks": ""
            },
            "colorscale": [
             [
              0,
              "#0d0887"
             ],
             [
              0.1111111111111111,
              "#46039f"
             ],
             [
              0.2222222222222222,
              "#7201a8"
             ],
             [
              0.3333333333333333,
              "#9c179e"
             ],
             [
              0.4444444444444444,
              "#bd3786"
             ],
             [
              0.5555555555555556,
              "#d8576b"
             ],
             [
              0.6666666666666666,
              "#ed7953"
             ],
             [
              0.7777777777777778,
              "#fb9f3a"
             ],
             [
              0.8888888888888888,
              "#fdca26"
             ],
             [
              1,
              "#f0f921"
             ]
            ],
            "type": "heatmap"
           }
          ],
          "heatmapgl": [
           {
            "colorbar": {
             "outlinewidth": 0,
             "ticks": ""
            },
            "colorscale": [
             [
              0,
              "#0d0887"
             ],
             [
              0.1111111111111111,
              "#46039f"
             ],
             [
              0.2222222222222222,
              "#7201a8"
             ],
             [
              0.3333333333333333,
              "#9c179e"
             ],
             [
              0.4444444444444444,
              "#bd3786"
             ],
             [
              0.5555555555555556,
              "#d8576b"
             ],
             [
              0.6666666666666666,
              "#ed7953"
             ],
             [
              0.7777777777777778,
              "#fb9f3a"
             ],
             [
              0.8888888888888888,
              "#fdca26"
             ],
             [
              1,
              "#f0f921"
             ]
            ],
            "type": "heatmapgl"
           }
          ],
          "histogram": [
           {
            "marker": {
             "colorbar": {
              "outlinewidth": 0,
              "ticks": ""
             }
            },
            "type": "histogram"
           }
          ],
          "histogram2d": [
           {
            "colorbar": {
             "outlinewidth": 0,
             "ticks": ""
            },
            "colorscale": [
             [
              0,
              "#0d0887"
             ],
             [
              0.1111111111111111,
              "#46039f"
             ],
             [
              0.2222222222222222,
              "#7201a8"
             ],
             [
              0.3333333333333333,
              "#9c179e"
             ],
             [
              0.4444444444444444,
              "#bd3786"
             ],
             [
              0.5555555555555556,
              "#d8576b"
             ],
             [
              0.6666666666666666,
              "#ed7953"
             ],
             [
              0.7777777777777778,
              "#fb9f3a"
             ],
             [
              0.8888888888888888,
              "#fdca26"
             ],
             [
              1,
              "#f0f921"
             ]
            ],
            "type": "histogram2d"
           }
          ],
          "histogram2dcontour": [
           {
            "colorbar": {
             "outlinewidth": 0,
             "ticks": ""
            },
            "colorscale": [
             [
              0,
              "#0d0887"
             ],
             [
              0.1111111111111111,
              "#46039f"
             ],
             [
              0.2222222222222222,
              "#7201a8"
             ],
             [
              0.3333333333333333,
              "#9c179e"
             ],
             [
              0.4444444444444444,
              "#bd3786"
             ],
             [
              0.5555555555555556,
              "#d8576b"
             ],
             [
              0.6666666666666666,
              "#ed7953"
             ],
             [
              0.7777777777777778,
              "#fb9f3a"
             ],
             [
              0.8888888888888888,
              "#fdca26"
             ],
             [
              1,
              "#f0f921"
             ]
            ],
            "type": "histogram2dcontour"
           }
          ],
          "mesh3d": [
           {
            "colorbar": {
             "outlinewidth": 0,
             "ticks": ""
            },
            "type": "mesh3d"
           }
          ],
          "parcoords": [
           {
            "line": {
             "colorbar": {
              "outlinewidth": 0,
              "ticks": ""
             }
            },
            "type": "parcoords"
           }
          ],
          "scatter": [
           {
            "marker": {
             "colorbar": {
              "outlinewidth": 0,
              "ticks": ""
             }
            },
            "type": "scatter"
           }
          ],
          "scatter3d": [
           {
            "line": {
             "colorbar": {
              "outlinewidth": 0,
              "ticks": ""
             }
            },
            "marker": {
             "colorbar": {
              "outlinewidth": 0,
              "ticks": ""
             }
            },
            "type": "scatter3d"
           }
          ],
          "scattercarpet": [
           {
            "marker": {
             "colorbar": {
              "outlinewidth": 0,
              "ticks": ""
             }
            },
            "type": "scattercarpet"
           }
          ],
          "scattergeo": [
           {
            "marker": {
             "colorbar": {
              "outlinewidth": 0,
              "ticks": ""
             }
            },
            "type": "scattergeo"
           }
          ],
          "scattergl": [
           {
            "marker": {
             "colorbar": {
              "outlinewidth": 0,
              "ticks": ""
             }
            },
            "type": "scattergl"
           }
          ],
          "scattermapbox": [
           {
            "marker": {
             "colorbar": {
              "outlinewidth": 0,
              "ticks": ""
             }
            },
            "type": "scattermapbox"
           }
          ],
          "scatterpolar": [
           {
            "marker": {
             "colorbar": {
              "outlinewidth": 0,
              "ticks": ""
             }
            },
            "type": "scatterpolar"
           }
          ],
          "scatterpolargl": [
           {
            "marker": {
             "colorbar": {
              "outlinewidth": 0,
              "ticks": ""
             }
            },
            "type": "scatterpolargl"
           }
          ],
          "scatterternary": [
           {
            "marker": {
             "colorbar": {
              "outlinewidth": 0,
              "ticks": ""
             }
            },
            "type": "scatterternary"
           }
          ],
          "surface": [
           {
            "colorbar": {
             "outlinewidth": 0,
             "ticks": ""
            },
            "colorscale": [
             [
              0,
              "#0d0887"
             ],
             [
              0.1111111111111111,
              "#46039f"
             ],
             [
              0.2222222222222222,
              "#7201a8"
             ],
             [
              0.3333333333333333,
              "#9c179e"
             ],
             [
              0.4444444444444444,
              "#bd3786"
             ],
             [
              0.5555555555555556,
              "#d8576b"
             ],
             [
              0.6666666666666666,
              "#ed7953"
             ],
             [
              0.7777777777777778,
              "#fb9f3a"
             ],
             [
              0.8888888888888888,
              "#fdca26"
             ],
             [
              1,
              "#f0f921"
             ]
            ],
            "type": "surface"
           }
          ],
          "table": [
           {
            "cells": {
             "fill": {
              "color": "#EBF0F8"
             },
             "line": {
              "color": "white"
             }
            },
            "header": {
             "fill": {
              "color": "#C8D4E3"
             },
             "line": {
              "color": "white"
             }
            },
            "type": "table"
           }
          ]
         },
         "layout": {
          "annotationdefaults": {
           "arrowcolor": "#2a3f5f",
           "arrowhead": 0,
           "arrowwidth": 1
          },
          "colorscale": {
           "diverging": [
            [
             0,
             "#8e0152"
            ],
            [
             0.1,
             "#c51b7d"
            ],
            [
             0.2,
             "#de77ae"
            ],
            [
             0.3,
             "#f1b6da"
            ],
            [
             0.4,
             "#fde0ef"
            ],
            [
             0.5,
             "#f7f7f7"
            ],
            [
             0.6,
             "#e6f5d0"
            ],
            [
             0.7,
             "#b8e186"
            ],
            [
             0.8,
             "#7fbc41"
            ],
            [
             0.9,
             "#4d9221"
            ],
            [
             1,
             "#276419"
            ]
           ],
           "sequential": [
            [
             0,
             "#0d0887"
            ],
            [
             0.1111111111111111,
             "#46039f"
            ],
            [
             0.2222222222222222,
             "#7201a8"
            ],
            [
             0.3333333333333333,
             "#9c179e"
            ],
            [
             0.4444444444444444,
             "#bd3786"
            ],
            [
             0.5555555555555556,
             "#d8576b"
            ],
            [
             0.6666666666666666,
             "#ed7953"
            ],
            [
             0.7777777777777778,
             "#fb9f3a"
            ],
            [
             0.8888888888888888,
             "#fdca26"
            ],
            [
             1,
             "#f0f921"
            ]
           ],
           "sequentialminus": [
            [
             0,
             "#0d0887"
            ],
            [
             0.1111111111111111,
             "#46039f"
            ],
            [
             0.2222222222222222,
             "#7201a8"
            ],
            [
             0.3333333333333333,
             "#9c179e"
            ],
            [
             0.4444444444444444,
             "#bd3786"
            ],
            [
             0.5555555555555556,
             "#d8576b"
            ],
            [
             0.6666666666666666,
             "#ed7953"
            ],
            [
             0.7777777777777778,
             "#fb9f3a"
            ],
            [
             0.8888888888888888,
             "#fdca26"
            ],
            [
             1,
             "#f0f921"
            ]
           ]
          },
          "colorway": [
           "#636efa",
           "#EF553B",
           "#00cc96",
           "#ab63fa",
           "#FFA15A",
           "#19d3f3",
           "#FF6692",
           "#B6E880",
           "#FF97FF",
           "#FECB52"
          ],
          "font": {
           "color": "#2a3f5f"
          },
          "geo": {
           "bgcolor": "white",
           "lakecolor": "white",
           "landcolor": "#E5ECF6",
           "showlakes": true,
           "showland": true,
           "subunitcolor": "white"
          },
          "hoverlabel": {
           "align": "left"
          },
          "hovermode": "closest",
          "mapbox": {
           "style": "light"
          },
          "paper_bgcolor": "white",
          "plot_bgcolor": "#E5ECF6",
          "polar": {
           "angularaxis": {
            "gridcolor": "white",
            "linecolor": "white",
            "ticks": ""
           },
           "bgcolor": "#E5ECF6",
           "radialaxis": {
            "gridcolor": "white",
            "linecolor": "white",
            "ticks": ""
           }
          },
          "scene": {
           "xaxis": {
            "backgroundcolor": "#E5ECF6",
            "gridcolor": "white",
            "gridwidth": 2,
            "linecolor": "white",
            "showbackground": true,
            "ticks": "",
            "zerolinecolor": "white"
           },
           "yaxis": {
            "backgroundcolor": "#E5ECF6",
            "gridcolor": "white",
            "gridwidth": 2,
            "linecolor": "white",
            "showbackground": true,
            "ticks": "",
            "zerolinecolor": "white"
           },
           "zaxis": {
            "backgroundcolor": "#E5ECF6",
            "gridcolor": "white",
            "gridwidth": 2,
            "linecolor": "white",
            "showbackground": true,
            "ticks": "",
            "zerolinecolor": "white"
           }
          },
          "shapedefaults": {
           "line": {
            "color": "#2a3f5f"
           }
          },
          "ternary": {
           "aaxis": {
            "gridcolor": "white",
            "linecolor": "white",
            "ticks": ""
           },
           "baxis": {
            "gridcolor": "white",
            "linecolor": "white",
            "ticks": ""
           },
           "bgcolor": "#E5ECF6",
           "caxis": {
            "gridcolor": "white",
            "linecolor": "white",
            "ticks": ""
           }
          },
          "title": {
           "x": 0.05
          },
          "xaxis": {
           "automargin": true,
           "gridcolor": "white",
           "linecolor": "white",
           "ticks": "",
           "zerolinecolor": "white",
           "zerolinewidth": 2
          },
          "yaxis": {
           "automargin": true,
           "gridcolor": "white",
           "linecolor": "white",
           "ticks": "",
           "zerolinecolor": "white",
           "zerolinewidth": 2
          }
         }
        },
        "title": {
         "text": "Meta residual plot of Group 7"
        }
       }
      },
      "text/html": [
       "<div>\n",
       "        \n",
       "        \n",
       "            <div id=\"f6d5b700-1b53-4861-bb5b-1b3bffb3eb04\" class=\"plotly-graph-div\" style=\"height:525px; width:100%;\"></div>\n",
       "            <script type=\"text/javascript\">\n",
       "                require([\"plotly\"], function(Plotly) {\n",
       "                    window.PLOTLYENV=window.PLOTLYENV || {};\n",
       "                    \n",
       "                if (document.getElementById(\"f6d5b700-1b53-4861-bb5b-1b3bffb3eb04\")) {\n",
       "                    Plotly.newPlot(\n",
       "                        'f6d5b700-1b53-4861-bb5b-1b3bffb3eb04',\n",
       "                        [{\"marker\": {\"color\": [-8937568.6700858, 98678328.22521016, 101988405.899993, 2692.0, -3531193.594737808, 763457.6025618468, 2951738.5815083906, -689615.6878399523, -8719246.8581541, -7065329.050678723, -832688.7676719576, -58241659.61002393, 8204627.81404078, -15833201.33944355, 89583486.1028023, 96076.0, 19253.0, 564647.8515724735, -36305338.299729005, 191770759.0, 12005210.0, 8225384.0, 6560030.0, 92579212.0, 17010050.0, 20269723.0, 120908065.0, 14094594.0, 3600647.0, 30035838.0, 8901419.0, 246305.0, 46652680.0, 32828348.0, 47776293.0, 25725722.0, 9423538.638539128, 14099068.734712038, 318403.0, 117161.0, 26334.0, 3094918.2496792665, -9382274.245968483, -2043063.0866816072, 3280800.7691879477, -2163526.8419699445, 9504559.50522407, -6872678.230315719, -1195632.7435098127, 41082018.0, -1591555.8761343136, -2659134.4004895133, -6239317.623693256, -6160168.02370207, -2738927.7699828125, 6002943.078174023, 2229955.296929486, 3661755.3235122403, 4419976.593561731, -8249578.956030956, 9093712.784992862, -6405956.771125484, 5359409.756696735, 1645849.2163553834, 71117625.0, 2033789.9939984418, 1894782.681504313, 7038729.600274179, 11597524.215876952, 10377889.390617795, 6413091.229740338, 17120875.211548373, 1230314.4877775055, -9087.380347707309, 1543994.1600539815, 1738822.9566670638, -6764655.8788770065, -5025490.959016772, 4311135.429543441, 2806188.0054000355, 66920.0, 217.0, 118278.0, -1277176.205920175, 576820.0, -30690737.30315987, 41950476.4234568, 48373226.01830806, -12842799.650050504, 410804.0, -5520283.464129618, 15086.576011815108, -7701774.864218181, 44712196.33442722, 23582581.70354011, 80549661.16064107, 157418967.57028913, 3655195.120107496, 1172036.0, 1172036.0, 10845330.0, 10845330.0, 25010928.0, 2375325.0]}, \"mode\": \"markers\", \"text\": [\"O Brother, Where Art Thou?\", \"The Twilight Saga: Breaking Dawn Part 1\", \"The Twilight Saga: Breaking Dawn Part 2\", \"Helena From the Wedding\", \"Monsters\", \"Catfish\", \"Red\", \"Freakonomics\", \"The Warrior's Way\", \"Stone\", \"Frankenweenie\", \"John Carter\", \"Dolphin Tale\", \"Penguins of Madagascar\", \"Minions\", \"Proud American\", \"Edmond\", \"Tootsie\", \"Waterworld\", \"The Lion King (2019)\", \"Crawl\", \"Stuber\", \"Midsommar\", \"Spider-Man: Far from Home\", \"Yesterday\", \"Annabelle Comes Home\", \"Toy Story 4\", \"Child's Play (2019)\", \"Anna (2019)\", \"Men in Black International\", \"Shaft (2019)\\u00a0\", \"Late Night\", \"The Secret Life of Pets 2\", \"Dark Phoenix\", \"Godzilla:King of the Monsters\", \"Rocketman\", \"Return of the Jedi\", \"Indiana Jones and the Temple of Doom\", \"The Idolmaker\", \"The Grass Harp\", \"The Grand\", \"Jaws\", \"Superman (1978)\", \"Clerks\", \"Juice\", \"He Got Game\", \"White Men Can't Jump\", \"Mulholland Drive\", \"Blue Velvet\", \"Once Upon a Time in Hollywood\", \"The Big Lebowski\", \"Train to Busan\", \"Pride and Prejudice and Zombies\", \"Dead Poets Society\", \"A Fish Called Wanda\", \"The Witches of Eastwick\", \"Ferris Bueller's Day Off\", \"Back to the Future\", \"Police Academy\", \"Trading Places\", \"Star Trek II The Wrath of Khan\", \"The Blues Brothers\", \"V For Vendetta\", \"In the Line of Fire\", \"Us\", \"The Forbidden Kingdom\", \"Rumble in the Bronx\", \"Machete\", \"Beverly Hills Cop\", \"Watchmen\", \"Jackie Brown\", \"Zombieland\", \"Mo Better Blues\", \"Thelma and Louise\", \"New Jack City\", \"The Lawnmower Man\", \"Schindler's List\", \"Four Weddings and a Funeral\", \"Get Shorty\", \"Jerry Maguire\", \"Welcome to Sarajevo\", \"Trojan War\", \"The Gingerbread Man\", \"Tumbleweeds\", \"Turn it up\", \"The Adventures of Pluto Nash\", \"The Lord of the Rings: The Return of the King\", \"Harry Potter and the Prisoner of Azkaban\", \"Stay\", \"Fast Food Nation\", \"Into the Wild\", \"The Wrestler\", \"Slumdog Millionaire\", \"Jackass 3-D\", \"Skyfall\", \"The Hunger Games: Mocking Jay - Part 1\", \"Jurassic World\", \"Shut In\", \"Molly's Game\", \"Molly's Game\", \"BlacKkKlansman\", \"BlacKkKlansman\", \"Peter Rabbit\", \"Replicas\"], \"type\": \"scatter\", \"x\": [\"O Brother, Where Art Thou?\", \"The Twilight Saga: Breaking Dawn Part 1\", \"The Twilight Saga: Breaking Dawn Part 2\", \"Helena From the Wedding\", \"Monsters\", \"Catfish\", \"Red\", \"Freakonomics\", \"The Warrior's Way\", \"Stone\", \"Frankenweenie\", \"John Carter\", \"Dolphin Tale\", \"Penguins of Madagascar\", \"Minions\", \"Proud American\", \"Edmond\", \"Tootsie\", \"Waterworld\", \"The Lion King (2019)\", \"Crawl\", \"Stuber\", \"Midsommar\", \"Spider-Man: Far from Home\", \"Yesterday\", \"Annabelle Comes Home\", \"Toy Story 4\", \"Child's Play (2019)\", \"Anna (2019)\", \"Men in Black International\", \"Shaft (2019)\\u00a0\", \"Late Night\", \"The Secret Life of Pets 2\", \"Dark Phoenix\", \"Godzilla:King of the Monsters\", \"Rocketman\", \"Return of the Jedi\", \"Indiana Jones and the Temple of Doom\", \"The Idolmaker\", \"The Grass Harp\", \"The Grand\", \"Jaws\", \"Superman (1978)\", \"Clerks\", \"Juice\", \"He Got Game\", \"White Men Can't Jump\", \"Mulholland Drive\", \"Blue Velvet\", \"Once Upon a Time in Hollywood\", \"The Big Lebowski\", \"Train to Busan\", \"Pride and Prejudice and Zombies\", \"Dead Poets Society\", \"A Fish Called Wanda\", \"The Witches of Eastwick\", \"Ferris Bueller's Day Off\", \"Back to the Future\", \"Police Academy\", \"Trading Places\", \"Star Trek II The Wrath of Khan\", \"The Blues Brothers\", \"V For Vendetta\", \"In the Line of Fire\", \"Us\", \"The Forbidden Kingdom\", \"Rumble in the Bronx\", \"Machete\", \"Beverly Hills Cop\", \"Watchmen\", \"Jackie Brown\", \"Zombieland\", \"Mo Better Blues\", \"Thelma and Louise\", \"New Jack City\", \"The Lawnmower Man\", \"Schindler's List\", \"Four Weddings and a Funeral\", \"Get Shorty\", \"Jerry Maguire\", \"Welcome to Sarajevo\", \"Trojan War\", \"The Gingerbread Man\", \"Tumbleweeds\", \"Turn it up\", \"The Adventures of Pluto Nash\", \"The Lord of the Rings: The Return of the King\", \"Harry Potter and the Prisoner of Azkaban\", \"Stay\", \"Fast Food Nation\", \"Into the Wild\", \"The Wrestler\", \"Slumdog Millionaire\", \"Jackass 3-D\", \"Skyfall\", \"The Hunger Games: Mocking Jay - Part 1\", \"Jurassic World\", \"Shut In\", \"Molly's Game\", \"Molly's Game\", \"BlacKkKlansman\", \"BlacKkKlansman\", \"Peter Rabbit\", \"Replicas\"], \"y\": [-8937568.6700858, 98678328.22521016, 101988405.899993, 2692.0, -3531193.594737808, 763457.6025618468, 2951738.5815083906, -689615.6878399523, -8719246.8581541, -7065329.050678723, -832688.7676719576, -58241659.61002393, 8204627.81404078, -15833201.33944355, 89583486.1028023, 96076.0, 19253.0, 564647.8515724735, -36305338.299729005, 191770759.0, 12005210.0, 8225384.0, 6560030.0, 92579212.0, 17010050.0, 20269723.0, 120908065.0, 14094594.0, 3600647.0, 30035838.0, 8901419.0, 246305.0, 46652680.0, 32828348.0, 47776293.0, 25725722.0, 9423538.638539128, 14099068.734712038, 318403.0, 117161.0, 26334.0, 3094918.2496792665, -9382274.245968483, -2043063.0866816072, 3280800.7691879477, -2163526.8419699445, 9504559.50522407, -6872678.230315719, -1195632.7435098127, 41082018.0, -1591555.8761343136, -2659134.4004895133, -6239317.623693256, -6160168.02370207, -2738927.7699828125, 6002943.078174023, 2229955.296929486, 3661755.3235122403, 4419976.593561731, -8249578.956030956, 9093712.784992862, -6405956.771125484, 5359409.756696735, 1645849.2163553834, 71117625.0, 2033789.9939984418, 1894782.681504313, 7038729.600274179, 11597524.215876952, 10377889.390617795, 6413091.229740338, 17120875.211548373, 1230314.4877775055, -9087.380347707309, 1543994.1600539815, 1738822.9566670638, -6764655.8788770065, -5025490.959016772, 4311135.429543441, 2806188.0054000355, 66920.0, 217.0, 118278.0, -1277176.205920175, 576820.0, -30690737.30315987, 41950476.4234568, 48373226.01830806, -12842799.650050504, 410804.0, -5520283.464129618, 15086.576011815108, -7701774.864218181, 44712196.33442722, 23582581.70354011, 80549661.16064107, 157418967.57028913, 3655195.120107496, 1172036.0, 1172036.0, 10845330.0, 10845330.0, 25010928.0, 2375325.0]}],\n",
       "                        {\"template\": {\"data\": {\"bar\": [{\"error_x\": {\"color\": \"#2a3f5f\"}, \"error_y\": {\"color\": \"#2a3f5f\"}, \"marker\": {\"line\": {\"color\": \"#E5ECF6\", \"width\": 0.5}}, \"type\": \"bar\"}], \"barpolar\": [{\"marker\": {\"line\": {\"color\": \"#E5ECF6\", \"width\": 0.5}}, \"type\": \"barpolar\"}], \"carpet\": [{\"aaxis\": {\"endlinecolor\": \"#2a3f5f\", \"gridcolor\": \"white\", \"linecolor\": \"white\", \"minorgridcolor\": \"white\", \"startlinecolor\": \"#2a3f5f\"}, \"baxis\": {\"endlinecolor\": \"#2a3f5f\", \"gridcolor\": \"white\", \"linecolor\": \"white\", \"minorgridcolor\": \"white\", \"startlinecolor\": \"#2a3f5f\"}, \"type\": \"carpet\"}], \"choropleth\": [{\"colorbar\": {\"outlinewidth\": 0, \"ticks\": \"\"}, \"type\": \"choropleth\"}], \"contour\": [{\"colorbar\": {\"outlinewidth\": 0, \"ticks\": \"\"}, \"colorscale\": [[0.0, \"#0d0887\"], [0.1111111111111111, \"#46039f\"], [0.2222222222222222, \"#7201a8\"], [0.3333333333333333, \"#9c179e\"], [0.4444444444444444, \"#bd3786\"], [0.5555555555555556, \"#d8576b\"], [0.6666666666666666, \"#ed7953\"], [0.7777777777777778, \"#fb9f3a\"], [0.8888888888888888, \"#fdca26\"], [1.0, \"#f0f921\"]], \"type\": \"contour\"}], \"contourcarpet\": [{\"colorbar\": {\"outlinewidth\": 0, \"ticks\": \"\"}, \"type\": \"contourcarpet\"}], \"heatmap\": [{\"colorbar\": {\"outlinewidth\": 0, \"ticks\": \"\"}, \"colorscale\": [[0.0, \"#0d0887\"], [0.1111111111111111, \"#46039f\"], [0.2222222222222222, \"#7201a8\"], [0.3333333333333333, \"#9c179e\"], [0.4444444444444444, \"#bd3786\"], [0.5555555555555556, \"#d8576b\"], [0.6666666666666666, \"#ed7953\"], [0.7777777777777778, \"#fb9f3a\"], [0.8888888888888888, \"#fdca26\"], [1.0, \"#f0f921\"]], \"type\": \"heatmap\"}], \"heatmapgl\": [{\"colorbar\": {\"outlinewidth\": 0, \"ticks\": \"\"}, \"colorscale\": [[0.0, \"#0d0887\"], [0.1111111111111111, \"#46039f\"], [0.2222222222222222, \"#7201a8\"], [0.3333333333333333, \"#9c179e\"], [0.4444444444444444, \"#bd3786\"], [0.5555555555555556, \"#d8576b\"], [0.6666666666666666, \"#ed7953\"], [0.7777777777777778, \"#fb9f3a\"], [0.8888888888888888, \"#fdca26\"], [1.0, \"#f0f921\"]], \"type\": \"heatmapgl\"}], \"histogram\": [{\"marker\": {\"colorbar\": {\"outlinewidth\": 0, \"ticks\": \"\"}}, \"type\": \"histogram\"}], \"histogram2d\": [{\"colorbar\": {\"outlinewidth\": 0, \"ticks\": \"\"}, \"colorscale\": [[0.0, \"#0d0887\"], [0.1111111111111111, \"#46039f\"], [0.2222222222222222, \"#7201a8\"], [0.3333333333333333, \"#9c179e\"], [0.4444444444444444, \"#bd3786\"], [0.5555555555555556, \"#d8576b\"], [0.6666666666666666, \"#ed7953\"], [0.7777777777777778, \"#fb9f3a\"], [0.8888888888888888, \"#fdca26\"], [1.0, \"#f0f921\"]], \"type\": \"histogram2d\"}], \"histogram2dcontour\": [{\"colorbar\": {\"outlinewidth\": 0, \"ticks\": \"\"}, \"colorscale\": [[0.0, \"#0d0887\"], [0.1111111111111111, \"#46039f\"], [0.2222222222222222, \"#7201a8\"], [0.3333333333333333, \"#9c179e\"], [0.4444444444444444, \"#bd3786\"], [0.5555555555555556, \"#d8576b\"], [0.6666666666666666, \"#ed7953\"], [0.7777777777777778, \"#fb9f3a\"], [0.8888888888888888, \"#fdca26\"], [1.0, \"#f0f921\"]], \"type\": \"histogram2dcontour\"}], \"mesh3d\": [{\"colorbar\": {\"outlinewidth\": 0, \"ticks\": \"\"}, \"type\": \"mesh3d\"}], \"parcoords\": [{\"line\": {\"colorbar\": {\"outlinewidth\": 0, \"ticks\": \"\"}}, \"type\": \"parcoords\"}], \"scatter\": [{\"marker\": {\"colorbar\": {\"outlinewidth\": 0, \"ticks\": \"\"}}, \"type\": \"scatter\"}], \"scatter3d\": [{\"line\": {\"colorbar\": {\"outlinewidth\": 0, \"ticks\": \"\"}}, \"marker\": {\"colorbar\": {\"outlinewidth\": 0, \"ticks\": \"\"}}, \"type\": \"scatter3d\"}], \"scattercarpet\": [{\"marker\": {\"colorbar\": {\"outlinewidth\": 0, \"ticks\": \"\"}}, \"type\": \"scattercarpet\"}], \"scattergeo\": [{\"marker\": {\"colorbar\": {\"outlinewidth\": 0, \"ticks\": \"\"}}, \"type\": \"scattergeo\"}], \"scattergl\": [{\"marker\": {\"colorbar\": {\"outlinewidth\": 0, \"ticks\": \"\"}}, \"type\": \"scattergl\"}], \"scattermapbox\": [{\"marker\": {\"colorbar\": {\"outlinewidth\": 0, \"ticks\": \"\"}}, \"type\": \"scattermapbox\"}], \"scatterpolar\": [{\"marker\": {\"colorbar\": {\"outlinewidth\": 0, \"ticks\": \"\"}}, \"type\": \"scatterpolar\"}], \"scatterpolargl\": [{\"marker\": {\"colorbar\": {\"outlinewidth\": 0, \"ticks\": \"\"}}, \"type\": \"scatterpolargl\"}], \"scatterternary\": [{\"marker\": {\"colorbar\": {\"outlinewidth\": 0, \"ticks\": \"\"}}, \"type\": \"scatterternary\"}], \"surface\": [{\"colorbar\": {\"outlinewidth\": 0, \"ticks\": \"\"}, \"colorscale\": [[0.0, \"#0d0887\"], [0.1111111111111111, \"#46039f\"], [0.2222222222222222, \"#7201a8\"], [0.3333333333333333, \"#9c179e\"], [0.4444444444444444, \"#bd3786\"], [0.5555555555555556, \"#d8576b\"], [0.6666666666666666, \"#ed7953\"], [0.7777777777777778, \"#fb9f3a\"], [0.8888888888888888, \"#fdca26\"], [1.0, \"#f0f921\"]], \"type\": \"surface\"}], \"table\": [{\"cells\": {\"fill\": {\"color\": \"#EBF0F8\"}, \"line\": {\"color\": \"white\"}}, \"header\": {\"fill\": {\"color\": \"#C8D4E3\"}, \"line\": {\"color\": \"white\"}}, \"type\": \"table\"}]}, \"layout\": {\"annotationdefaults\": {\"arrowcolor\": \"#2a3f5f\", \"arrowhead\": 0, \"arrowwidth\": 1}, \"colorscale\": {\"diverging\": [[0, \"#8e0152\"], [0.1, \"#c51b7d\"], [0.2, \"#de77ae\"], [0.3, \"#f1b6da\"], [0.4, \"#fde0ef\"], [0.5, \"#f7f7f7\"], [0.6, \"#e6f5d0\"], [0.7, \"#b8e186\"], [0.8, \"#7fbc41\"], [0.9, \"#4d9221\"], [1, \"#276419\"]], \"sequential\": [[0.0, \"#0d0887\"], [0.1111111111111111, \"#46039f\"], [0.2222222222222222, \"#7201a8\"], [0.3333333333333333, \"#9c179e\"], [0.4444444444444444, \"#bd3786\"], [0.5555555555555556, \"#d8576b\"], [0.6666666666666666, \"#ed7953\"], [0.7777777777777778, \"#fb9f3a\"], [0.8888888888888888, \"#fdca26\"], [1.0, \"#f0f921\"]], \"sequentialminus\": [[0.0, \"#0d0887\"], [0.1111111111111111, \"#46039f\"], [0.2222222222222222, \"#7201a8\"], [0.3333333333333333, \"#9c179e\"], [0.4444444444444444, \"#bd3786\"], [0.5555555555555556, \"#d8576b\"], [0.6666666666666666, \"#ed7953\"], [0.7777777777777778, \"#fb9f3a\"], [0.8888888888888888, \"#fdca26\"], [1.0, \"#f0f921\"]]}, \"colorway\": [\"#636efa\", \"#EF553B\", \"#00cc96\", \"#ab63fa\", \"#FFA15A\", \"#19d3f3\", \"#FF6692\", \"#B6E880\", \"#FF97FF\", \"#FECB52\"], \"font\": {\"color\": \"#2a3f5f\"}, \"geo\": {\"bgcolor\": \"white\", \"lakecolor\": \"white\", \"landcolor\": \"#E5ECF6\", \"showlakes\": true, \"showland\": true, \"subunitcolor\": \"white\"}, \"hoverlabel\": {\"align\": \"left\"}, \"hovermode\": \"closest\", \"mapbox\": {\"style\": \"light\"}, \"paper_bgcolor\": \"white\", \"plot_bgcolor\": \"#E5ECF6\", \"polar\": {\"angularaxis\": {\"gridcolor\": \"white\", \"linecolor\": \"white\", \"ticks\": \"\"}, \"bgcolor\": \"#E5ECF6\", \"radialaxis\": {\"gridcolor\": \"white\", \"linecolor\": \"white\", \"ticks\": \"\"}}, \"scene\": {\"xaxis\": {\"backgroundcolor\": \"#E5ECF6\", \"gridcolor\": \"white\", \"gridwidth\": 2, \"linecolor\": \"white\", \"showbackground\": true, \"ticks\": \"\", \"zerolinecolor\": \"white\"}, \"yaxis\": {\"backgroundcolor\": \"#E5ECF6\", \"gridcolor\": \"white\", \"gridwidth\": 2, \"linecolor\": \"white\", \"showbackground\": true, \"ticks\": \"\", \"zerolinecolor\": \"white\"}, \"zaxis\": {\"backgroundcolor\": \"#E5ECF6\", \"gridcolor\": \"white\", \"gridwidth\": 2, \"linecolor\": \"white\", \"showbackground\": true, \"ticks\": \"\", \"zerolinecolor\": \"white\"}}, \"shapedefaults\": {\"line\": {\"color\": \"#2a3f5f\"}}, \"ternary\": {\"aaxis\": {\"gridcolor\": \"white\", \"linecolor\": \"white\", \"ticks\": \"\"}, \"baxis\": {\"gridcolor\": \"white\", \"linecolor\": \"white\", \"ticks\": \"\"}, \"bgcolor\": \"#E5ECF6\", \"caxis\": {\"gridcolor\": \"white\", \"linecolor\": \"white\", \"ticks\": \"\"}}, \"title\": {\"x\": 0.05}, \"xaxis\": {\"automargin\": true, \"gridcolor\": \"white\", \"linecolor\": \"white\", \"ticks\": \"\", \"zerolinecolor\": \"white\", \"zerolinewidth\": 2}, \"yaxis\": {\"automargin\": true, \"gridcolor\": \"white\", \"linecolor\": \"white\", \"ticks\": \"\", \"zerolinecolor\": \"white\", \"zerolinewidth\": 2}}}, \"title\": {\"text\": \"Meta residual plot of Group 7\"}},\n",
       "                        {\"responsive\": true}\n",
       "                    ).then(function(){\n",
       "                            \n",
       "var gd = document.getElementById('f6d5b700-1b53-4861-bb5b-1b3bffb3eb04');\n",
       "var x = new MutationObserver(function (mutations, observer) {{\n",
       "        var display = window.getComputedStyle(gd).display;\n",
       "        if (!display || display === 'none') {{\n",
       "            console.log([gd, 'removed!']);\n",
       "            Plotly.purge(gd);\n",
       "            observer.disconnect();\n",
       "        }}\n",
       "}});\n",
       "\n",
       "// Listen for the removal of the full notebook cells\n",
       "var notebookContainer = gd.closest('#notebook-container');\n",
       "if (notebookContainer) {{\n",
       "    x.observe(notebookContainer, {childList: true});\n",
       "}}\n",
       "\n",
       "// Listen for the clearing of the current output cell\n",
       "var outputEl = gd.closest('.output');\n",
       "if (outputEl) {{\n",
       "    x.observe(outputEl, {childList: true});\n",
       "}}\n",
       "\n",
       "                        })\n",
       "                };\n",
       "                });\n",
       "            </script>\n",
       "        </div>"
      ]
     },
     "metadata": {},
     "output_type": "display_data"
    }
   ],
   "source": [
    "# Residual plot for meta information\n",
    "\n",
    "g7_result_final[\"meta_residuals\"] = g7_result_final[\"ground_truth\"] - g7_result_final[\"metadata_prediction\"]\n",
    "\n",
    "fig = go.Figure(data=go.Scatter(x=g7_result_final[\"name\"],\n",
    "                                y=g7_result_final[\"meta_residuals\"],\n",
    "                                mode='markers',\n",
    "                                marker_color=g7_result_final[\"meta_residuals\"],\n",
    "                                text=g7_result_final[\"name\"])) # hover text goes here(movie_title)\n",
    "\n",
    "fig.update_layout(title='Meta residual plot of Group 7')\n",
    "fig.show()"
   ]
  },
  {
   "cell_type": "code",
   "execution_count": 37,
   "metadata": {},
   "outputs": [
    {
     "data": {
      "application/vnd.plotly.v1+json": {
       "config": {
        "plotlyServerURL": "https://plot.ly"
       },
       "data": [
        {
         "marker": {
          "color": [
           3162,
           10000000,
           31622776,
           10000,
           3162277,
           10000,
           10000000,
           3162277,
           10000000,
           1000000,
           10000000,
           10000000,
           10000000,
           31622,
           31622776,
           31622776,
           10000000,
           10000000,
           31622776,
           100000,
           31622776,
           10000000,
           10000,
           10000000,
           100000,
           10000000,
           316,
           10000000,
           1000000,
           10000,
           10000000,
           10000,
           10000000,
           10000000,
           31622776,
           10000000,
           31622776,
           31622776,
           3162277,
           100000,
           31622776,
           100000,
           10000000,
           31622,
           3162277,
           31622,
           316227,
           3162277,
           100000,
           31622776,
           3162277,
           100000,
           3162277,
           1000000,
           3162277,
           10000000,
           316227,
           3162277,
           3162277,
           10000000,
           10000000,
           10000000,
           31622776,
           10000000,
           10000,
           316227,
           31622,
           10000000,
           100000,
           10000000,
           1000000,
           31622776,
           100000,
           10000000,
           10000000,
           100000,
           1000000,
           3162277,
           10000000,
           10000000,
           100000,
           100000,
           3162277,
           316227,
           100000,
           3162277,
           100000000,
           3162277,
           10000000,
           316227,
           316227,
           100000,
           316227,
           1000000,
           100000000,
           100000000,
           10000000,
           3162277,
           100000,
           316227,
           100000,
           316227,
           31622776,
           10000000
          ]
         },
         "mode": "markers",
         "text": [
          "O Brother, Where Art Thou?",
          "The Twilight Saga: Breaking Dawn Part 1",
          "The Twilight Saga: Breaking Dawn Part 2",
          "Helena From the Wedding",
          "Monsters",
          "Catfish",
          "Red",
          "Freakonomics",
          "The Warrior's Way",
          "Stone",
          "Frankenweenie",
          "John Carter",
          "Dolphin Tale",
          "Penguins of Madagascar",
          "Minions",
          "Proud American",
          "Edmond",
          "Tootsie",
          "Waterworld",
          "The Lion King (2019)",
          "Crawl",
          "Stuber",
          "Midsommar",
          "Spider-Man: Far from Home",
          "Yesterday",
          "Annabelle Comes Home",
          "Toy Story 4",
          "Child's Play (2019)",
          "Anna (2019)",
          "Men in Black International",
          "Shaft (2019) ",
          "Late Night",
          "The Secret Life of Pets 2",
          "Dark Phoenix",
          "Godzilla:King of the Monsters",
          "Rocketman",
          "Return of the Jedi",
          "Indiana Jones and the Temple of Doom",
          "The Idolmaker",
          "The Grass Harp",
          "The Grand",
          "Jaws",
          "Superman (1978)",
          "Clerks",
          "Juice",
          "He Got Game",
          "White Men Can't Jump",
          "Mulholland Drive",
          "Blue Velvet",
          "Once Upon a Time in Hollywood",
          "The Big Lebowski",
          "Train to Busan",
          "Pride and Prejudice and Zombies",
          "Dead Poets Society",
          "A Fish Called Wanda",
          "The Witches of Eastwick",
          "Ferris Bueller's Day Off",
          "Back to the Future",
          "Police Academy",
          "Trading Places",
          "Star Trek II The Wrath of Khan",
          "The Blues Brothers",
          "V For Vendetta",
          "In the Line of Fire",
          "Us",
          "The Forbidden Kingdom",
          "Rumble in the Bronx",
          "Machete",
          "Beverly Hills Cop",
          "Watchmen",
          "Jackie Brown",
          "Zombieland",
          "Mo Better Blues",
          "Thelma and Louise",
          "New Jack City",
          "The Lawnmower Man",
          "Schindler's List",
          "Four Weddings and a Funeral",
          "Get Shorty",
          "Jerry Maguire",
          "Welcome to Sarajevo",
          "Trojan War",
          "The Gingerbread Man",
          "Tumbleweeds",
          "Turn it up",
          "The Adventures of Pluto Nash",
          "The Lord of the Rings: The Return of the King",
          "Harry Potter and the Prisoner of Azkaban",
          "Stay",
          "Fast Food Nation",
          "Into the Wild",
          "The Wrestler",
          "Slumdog Millionaire",
          "Jackass 3-D",
          "Skyfall",
          "The Hunger Games: Mocking Jay - Part 1",
          "Jurassic World",
          "Shut In",
          "Molly's Game",
          "Molly's Game",
          "BlacKkKlansman",
          "BlacKkKlansman",
          "Peter Rabbit",
          "Replicas"
         ],
         "type": "scatter",
         "x": [
          "O Brother, Where Art Thou?",
          "The Twilight Saga: Breaking Dawn Part 1",
          "The Twilight Saga: Breaking Dawn Part 2",
          "Helena From the Wedding",
          "Monsters",
          "Catfish",
          "Red",
          "Freakonomics",
          "The Warrior's Way",
          "Stone",
          "Frankenweenie",
          "John Carter",
          "Dolphin Tale",
          "Penguins of Madagascar",
          "Minions",
          "Proud American",
          "Edmond",
          "Tootsie",
          "Waterworld",
          "The Lion King (2019)",
          "Crawl",
          "Stuber",
          "Midsommar",
          "Spider-Man: Far from Home",
          "Yesterday",
          "Annabelle Comes Home",
          "Toy Story 4",
          "Child's Play (2019)",
          "Anna (2019)",
          "Men in Black International",
          "Shaft (2019) ",
          "Late Night",
          "The Secret Life of Pets 2",
          "Dark Phoenix",
          "Godzilla:King of the Monsters",
          "Rocketman",
          "Return of the Jedi",
          "Indiana Jones and the Temple of Doom",
          "The Idolmaker",
          "The Grass Harp",
          "The Grand",
          "Jaws",
          "Superman (1978)",
          "Clerks",
          "Juice",
          "He Got Game",
          "White Men Can't Jump",
          "Mulholland Drive",
          "Blue Velvet",
          "Once Upon a Time in Hollywood",
          "The Big Lebowski",
          "Train to Busan",
          "Pride and Prejudice and Zombies",
          "Dead Poets Society",
          "A Fish Called Wanda",
          "The Witches of Eastwick",
          "Ferris Bueller's Day Off",
          "Back to the Future",
          "Police Academy",
          "Trading Places",
          "Star Trek II The Wrath of Khan",
          "The Blues Brothers",
          "V For Vendetta",
          "In the Line of Fire",
          "Us",
          "The Forbidden Kingdom",
          "Rumble in the Bronx",
          "Machete",
          "Beverly Hills Cop",
          "Watchmen",
          "Jackie Brown",
          "Zombieland",
          "Mo Better Blues",
          "Thelma and Louise",
          "New Jack City",
          "The Lawnmower Man",
          "Schindler's List",
          "Four Weddings and a Funeral",
          "Get Shorty",
          "Jerry Maguire",
          "Welcome to Sarajevo",
          "Trojan War",
          "The Gingerbread Man",
          "Tumbleweeds",
          "Turn it up",
          "The Adventures of Pluto Nash",
          "The Lord of the Rings: The Return of the King",
          "Harry Potter and the Prisoner of Azkaban",
          "Stay",
          "Fast Food Nation",
          "Into the Wild",
          "The Wrestler",
          "Slumdog Millionaire",
          "Jackass 3-D",
          "Skyfall",
          "The Hunger Games: Mocking Jay - Part 1",
          "Jurassic World",
          "Shut In",
          "Molly's Game",
          "Molly's Game",
          "BlacKkKlansman",
          "BlacKkKlansman",
          "Peter Rabbit",
          "Replicas"
         ],
         "y": [
          3162,
          10000000,
          31622776,
          10000,
          3162277,
          10000,
          10000000,
          3162277,
          10000000,
          1000000,
          10000000,
          10000000,
          10000000,
          31622,
          31622776,
          31622776,
          10000000,
          10000000,
          31622776,
          100000,
          31622776,
          10000000,
          10000,
          10000000,
          100000,
          10000000,
          316,
          10000000,
          1000000,
          10000,
          10000000,
          10000,
          10000000,
          10000000,
          31622776,
          10000000,
          31622776,
          31622776,
          3162277,
          100000,
          31622776,
          100000,
          10000000,
          31622,
          3162277,
          31622,
          316227,
          3162277,
          100000,
          31622776,
          3162277,
          100000,
          3162277,
          1000000,
          3162277,
          10000000,
          316227,
          3162277,
          3162277,
          10000000,
          10000000,
          10000000,
          31622776,
          10000000,
          10000,
          316227,
          31622,
          10000000,
          100000,
          10000000,
          1000000,
          31622776,
          100000,
          10000000,
          10000000,
          100000,
          1000000,
          3162277,
          10000000,
          10000000,
          100000,
          100000,
          3162277,
          316227,
          100000,
          3162277,
          100000000,
          3162277,
          10000000,
          316227,
          316227,
          100000,
          316227,
          1000000,
          100000000,
          100000000,
          10000000,
          3162277,
          100000,
          316227,
          100000,
          316227,
          31622776,
          10000000
         ]
        }
       ],
       "layout": {
        "template": {
         "data": {
          "bar": [
           {
            "error_x": {
             "color": "#2a3f5f"
            },
            "error_y": {
             "color": "#2a3f5f"
            },
            "marker": {
             "line": {
              "color": "#E5ECF6",
              "width": 0.5
             }
            },
            "type": "bar"
           }
          ],
          "barpolar": [
           {
            "marker": {
             "line": {
              "color": "#E5ECF6",
              "width": 0.5
             }
            },
            "type": "barpolar"
           }
          ],
          "carpet": [
           {
            "aaxis": {
             "endlinecolor": "#2a3f5f",
             "gridcolor": "white",
             "linecolor": "white",
             "minorgridcolor": "white",
             "startlinecolor": "#2a3f5f"
            },
            "baxis": {
             "endlinecolor": "#2a3f5f",
             "gridcolor": "white",
             "linecolor": "white",
             "minorgridcolor": "white",
             "startlinecolor": "#2a3f5f"
            },
            "type": "carpet"
           }
          ],
          "choropleth": [
           {
            "colorbar": {
             "outlinewidth": 0,
             "ticks": ""
            },
            "type": "choropleth"
           }
          ],
          "contour": [
           {
            "colorbar": {
             "outlinewidth": 0,
             "ticks": ""
            },
            "colorscale": [
             [
              0,
              "#0d0887"
             ],
             [
              0.1111111111111111,
              "#46039f"
             ],
             [
              0.2222222222222222,
              "#7201a8"
             ],
             [
              0.3333333333333333,
              "#9c179e"
             ],
             [
              0.4444444444444444,
              "#bd3786"
             ],
             [
              0.5555555555555556,
              "#d8576b"
             ],
             [
              0.6666666666666666,
              "#ed7953"
             ],
             [
              0.7777777777777778,
              "#fb9f3a"
             ],
             [
              0.8888888888888888,
              "#fdca26"
             ],
             [
              1,
              "#f0f921"
             ]
            ],
            "type": "contour"
           }
          ],
          "contourcarpet": [
           {
            "colorbar": {
             "outlinewidth": 0,
             "ticks": ""
            },
            "type": "contourcarpet"
           }
          ],
          "heatmap": [
           {
            "colorbar": {
             "outlinewidth": 0,
             "ticks": ""
            },
            "colorscale": [
             [
              0,
              "#0d0887"
             ],
             [
              0.1111111111111111,
              "#46039f"
             ],
             [
              0.2222222222222222,
              "#7201a8"
             ],
             [
              0.3333333333333333,
              "#9c179e"
             ],
             [
              0.4444444444444444,
              "#bd3786"
             ],
             [
              0.5555555555555556,
              "#d8576b"
             ],
             [
              0.6666666666666666,
              "#ed7953"
             ],
             [
              0.7777777777777778,
              "#fb9f3a"
             ],
             [
              0.8888888888888888,
              "#fdca26"
             ],
             [
              1,
              "#f0f921"
             ]
            ],
            "type": "heatmap"
           }
          ],
          "heatmapgl": [
           {
            "colorbar": {
             "outlinewidth": 0,
             "ticks": ""
            },
            "colorscale": [
             [
              0,
              "#0d0887"
             ],
             [
              0.1111111111111111,
              "#46039f"
             ],
             [
              0.2222222222222222,
              "#7201a8"
             ],
             [
              0.3333333333333333,
              "#9c179e"
             ],
             [
              0.4444444444444444,
              "#bd3786"
             ],
             [
              0.5555555555555556,
              "#d8576b"
             ],
             [
              0.6666666666666666,
              "#ed7953"
             ],
             [
              0.7777777777777778,
              "#fb9f3a"
             ],
             [
              0.8888888888888888,
              "#fdca26"
             ],
             [
              1,
              "#f0f921"
             ]
            ],
            "type": "heatmapgl"
           }
          ],
          "histogram": [
           {
            "marker": {
             "colorbar": {
              "outlinewidth": 0,
              "ticks": ""
             }
            },
            "type": "histogram"
           }
          ],
          "histogram2d": [
           {
            "colorbar": {
             "outlinewidth": 0,
             "ticks": ""
            },
            "colorscale": [
             [
              0,
              "#0d0887"
             ],
             [
              0.1111111111111111,
              "#46039f"
             ],
             [
              0.2222222222222222,
              "#7201a8"
             ],
             [
              0.3333333333333333,
              "#9c179e"
             ],
             [
              0.4444444444444444,
              "#bd3786"
             ],
             [
              0.5555555555555556,
              "#d8576b"
             ],
             [
              0.6666666666666666,
              "#ed7953"
             ],
             [
              0.7777777777777778,
              "#fb9f3a"
             ],
             [
              0.8888888888888888,
              "#fdca26"
             ],
             [
              1,
              "#f0f921"
             ]
            ],
            "type": "histogram2d"
           }
          ],
          "histogram2dcontour": [
           {
            "colorbar": {
             "outlinewidth": 0,
             "ticks": ""
            },
            "colorscale": [
             [
              0,
              "#0d0887"
             ],
             [
              0.1111111111111111,
              "#46039f"
             ],
             [
              0.2222222222222222,
              "#7201a8"
             ],
             [
              0.3333333333333333,
              "#9c179e"
             ],
             [
              0.4444444444444444,
              "#bd3786"
             ],
             [
              0.5555555555555556,
              "#d8576b"
             ],
             [
              0.6666666666666666,
              "#ed7953"
             ],
             [
              0.7777777777777778,
              "#fb9f3a"
             ],
             [
              0.8888888888888888,
              "#fdca26"
             ],
             [
              1,
              "#f0f921"
             ]
            ],
            "type": "histogram2dcontour"
           }
          ],
          "mesh3d": [
           {
            "colorbar": {
             "outlinewidth": 0,
             "ticks": ""
            },
            "type": "mesh3d"
           }
          ],
          "parcoords": [
           {
            "line": {
             "colorbar": {
              "outlinewidth": 0,
              "ticks": ""
             }
            },
            "type": "parcoords"
           }
          ],
          "scatter": [
           {
            "marker": {
             "colorbar": {
              "outlinewidth": 0,
              "ticks": ""
             }
            },
            "type": "scatter"
           }
          ],
          "scatter3d": [
           {
            "line": {
             "colorbar": {
              "outlinewidth": 0,
              "ticks": ""
             }
            },
            "marker": {
             "colorbar": {
              "outlinewidth": 0,
              "ticks": ""
             }
            },
            "type": "scatter3d"
           }
          ],
          "scattercarpet": [
           {
            "marker": {
             "colorbar": {
              "outlinewidth": 0,
              "ticks": ""
             }
            },
            "type": "scattercarpet"
           }
          ],
          "scattergeo": [
           {
            "marker": {
             "colorbar": {
              "outlinewidth": 0,
              "ticks": ""
             }
            },
            "type": "scattergeo"
           }
          ],
          "scattergl": [
           {
            "marker": {
             "colorbar": {
              "outlinewidth": 0,
              "ticks": ""
             }
            },
            "type": "scattergl"
           }
          ],
          "scattermapbox": [
           {
            "marker": {
             "colorbar": {
              "outlinewidth": 0,
              "ticks": ""
             }
            },
            "type": "scattermapbox"
           }
          ],
          "scatterpolar": [
           {
            "marker": {
             "colorbar": {
              "outlinewidth": 0,
              "ticks": ""
             }
            },
            "type": "scatterpolar"
           }
          ],
          "scatterpolargl": [
           {
            "marker": {
             "colorbar": {
              "outlinewidth": 0,
              "ticks": ""
             }
            },
            "type": "scatterpolargl"
           }
          ],
          "scatterternary": [
           {
            "marker": {
             "colorbar": {
              "outlinewidth": 0,
              "ticks": ""
             }
            },
            "type": "scatterternary"
           }
          ],
          "surface": [
           {
            "colorbar": {
             "outlinewidth": 0,
             "ticks": ""
            },
            "colorscale": [
             [
              0,
              "#0d0887"
             ],
             [
              0.1111111111111111,
              "#46039f"
             ],
             [
              0.2222222222222222,
              "#7201a8"
             ],
             [
              0.3333333333333333,
              "#9c179e"
             ],
             [
              0.4444444444444444,
              "#bd3786"
             ],
             [
              0.5555555555555556,
              "#d8576b"
             ],
             [
              0.6666666666666666,
              "#ed7953"
             ],
             [
              0.7777777777777778,
              "#fb9f3a"
             ],
             [
              0.8888888888888888,
              "#fdca26"
             ],
             [
              1,
              "#f0f921"
             ]
            ],
            "type": "surface"
           }
          ],
          "table": [
           {
            "cells": {
             "fill": {
              "color": "#EBF0F8"
             },
             "line": {
              "color": "white"
             }
            },
            "header": {
             "fill": {
              "color": "#C8D4E3"
             },
             "line": {
              "color": "white"
             }
            },
            "type": "table"
           }
          ]
         },
         "layout": {
          "annotationdefaults": {
           "arrowcolor": "#2a3f5f",
           "arrowhead": 0,
           "arrowwidth": 1
          },
          "colorscale": {
           "diverging": [
            [
             0,
             "#8e0152"
            ],
            [
             0.1,
             "#c51b7d"
            ],
            [
             0.2,
             "#de77ae"
            ],
            [
             0.3,
             "#f1b6da"
            ],
            [
             0.4,
             "#fde0ef"
            ],
            [
             0.5,
             "#f7f7f7"
            ],
            [
             0.6,
             "#e6f5d0"
            ],
            [
             0.7,
             "#b8e186"
            ],
            [
             0.8,
             "#7fbc41"
            ],
            [
             0.9,
             "#4d9221"
            ],
            [
             1,
             "#276419"
            ]
           ],
           "sequential": [
            [
             0,
             "#0d0887"
            ],
            [
             0.1111111111111111,
             "#46039f"
            ],
            [
             0.2222222222222222,
             "#7201a8"
            ],
            [
             0.3333333333333333,
             "#9c179e"
            ],
            [
             0.4444444444444444,
             "#bd3786"
            ],
            [
             0.5555555555555556,
             "#d8576b"
            ],
            [
             0.6666666666666666,
             "#ed7953"
            ],
            [
             0.7777777777777778,
             "#fb9f3a"
            ],
            [
             0.8888888888888888,
             "#fdca26"
            ],
            [
             1,
             "#f0f921"
            ]
           ],
           "sequentialminus": [
            [
             0,
             "#0d0887"
            ],
            [
             0.1111111111111111,
             "#46039f"
            ],
            [
             0.2222222222222222,
             "#7201a8"
            ],
            [
             0.3333333333333333,
             "#9c179e"
            ],
            [
             0.4444444444444444,
             "#bd3786"
            ],
            [
             0.5555555555555556,
             "#d8576b"
            ],
            [
             0.6666666666666666,
             "#ed7953"
            ],
            [
             0.7777777777777778,
             "#fb9f3a"
            ],
            [
             0.8888888888888888,
             "#fdca26"
            ],
            [
             1,
             "#f0f921"
            ]
           ]
          },
          "colorway": [
           "#636efa",
           "#EF553B",
           "#00cc96",
           "#ab63fa",
           "#FFA15A",
           "#19d3f3",
           "#FF6692",
           "#B6E880",
           "#FF97FF",
           "#FECB52"
          ],
          "font": {
           "color": "#2a3f5f"
          },
          "geo": {
           "bgcolor": "white",
           "lakecolor": "white",
           "landcolor": "#E5ECF6",
           "showlakes": true,
           "showland": true,
           "subunitcolor": "white"
          },
          "hoverlabel": {
           "align": "left"
          },
          "hovermode": "closest",
          "mapbox": {
           "style": "light"
          },
          "paper_bgcolor": "white",
          "plot_bgcolor": "#E5ECF6",
          "polar": {
           "angularaxis": {
            "gridcolor": "white",
            "linecolor": "white",
            "ticks": ""
           },
           "bgcolor": "#E5ECF6",
           "radialaxis": {
            "gridcolor": "white",
            "linecolor": "white",
            "ticks": ""
           }
          },
          "scene": {
           "xaxis": {
            "backgroundcolor": "#E5ECF6",
            "gridcolor": "white",
            "gridwidth": 2,
            "linecolor": "white",
            "showbackground": true,
            "ticks": "",
            "zerolinecolor": "white"
           },
           "yaxis": {
            "backgroundcolor": "#E5ECF6",
            "gridcolor": "white",
            "gridwidth": 2,
            "linecolor": "white",
            "showbackground": true,
            "ticks": "",
            "zerolinecolor": "white"
           },
           "zaxis": {
            "backgroundcolor": "#E5ECF6",
            "gridcolor": "white",
            "gridwidth": 2,
            "linecolor": "white",
            "showbackground": true,
            "ticks": "",
            "zerolinecolor": "white"
           }
          },
          "shapedefaults": {
           "line": {
            "color": "#2a3f5f"
           }
          },
          "ternary": {
           "aaxis": {
            "gridcolor": "white",
            "linecolor": "white",
            "ticks": ""
           },
           "baxis": {
            "gridcolor": "white",
            "linecolor": "white",
            "ticks": ""
           },
           "bgcolor": "#E5ECF6",
           "caxis": {
            "gridcolor": "white",
            "linecolor": "white",
            "ticks": ""
           }
          },
          "title": {
           "x": 0.05
          },
          "xaxis": {
           "automargin": true,
           "gridcolor": "white",
           "linecolor": "white",
           "ticks": "",
           "zerolinecolor": "white",
           "zerolinewidth": 2
          },
          "yaxis": {
           "automargin": true,
           "gridcolor": "white",
           "linecolor": "white",
           "ticks": "",
           "zerolinecolor": "white",
           "zerolinewidth": 2
          }
         }
        },
        "title": {
         "text": "Video prediction value of testset of Group 7"
        }
       }
      },
      "text/html": [
       "<div>\n",
       "        \n",
       "        \n",
       "            <div id=\"27551a8a-6c8a-4f22-a6aa-e3023ab3359a\" class=\"plotly-graph-div\" style=\"height:525px; width:100%;\"></div>\n",
       "            <script type=\"text/javascript\">\n",
       "                require([\"plotly\"], function(Plotly) {\n",
       "                    window.PLOTLYENV=window.PLOTLYENV || {};\n",
       "                    \n",
       "                if (document.getElementById(\"27551a8a-6c8a-4f22-a6aa-e3023ab3359a\")) {\n",
       "                    Plotly.newPlot(\n",
       "                        '27551a8a-6c8a-4f22-a6aa-e3023ab3359a',\n",
       "                        [{\"marker\": {\"color\": [3162.0, 10000000.0, 31622776.0, 10000.0, 3162277.0, 10000.0, 10000000.0, 3162277.0, 10000000.0, 1000000.0, 10000000.0, 10000000.0, 10000000.0, 31622.0, 31622776.0, 31622776.0, 10000000.0, 10000000.0, 31622776.0, 100000.0, 31622776.0, 10000000.0, 10000.0, 10000000.0, 100000.0, 10000000.0, 316.0, 10000000.0, 1000000.0, 10000.0, 10000000.0, 10000.0, 10000000.0, 10000000.0, 31622776.0, 10000000.0, 31622776.0, 31622776.0, 3162277.0, 100000.0, 31622776.0, 100000.0, 10000000.0, 31622.0, 3162277.0, 31622.0, 316227.0, 3162277.0, 100000.0, 31622776.0, 3162277.0, 100000.0, 3162277.0, 1000000.0, 3162277.0, 10000000.0, 316227.0, 3162277.0, 3162277.0, 10000000.0, 10000000.0, 10000000.0, 31622776.0, 10000000.0, 10000.0, 316227.0, 31622.0, 10000000.0, 100000.0, 10000000.0, 1000000.0, 31622776.0, 100000.0, 10000000.0, 10000000.0, 100000.0, 1000000.0, 3162277.0, 10000000.0, 10000000.0, 100000.0, 100000.0, 3162277.0, 316227.0, 100000.0, 3162277.0, 100000000.0, 3162277.0, 10000000.0, 316227.0, 316227.0, 100000.0, 316227.0, 1000000.0, 100000000.0, 100000000.0, 10000000.0, 3162277.0, 100000.0, 316227.0, 100000.0, 316227.0, 31622776.0, 10000000.0]}, \"mode\": \"markers\", \"text\": [\"O Brother, Where Art Thou?\", \"The Twilight Saga: Breaking Dawn Part 1\", \"The Twilight Saga: Breaking Dawn Part 2\", \"Helena From the Wedding\", \"Monsters\", \"Catfish\", \"Red\", \"Freakonomics\", \"The Warrior's Way\", \"Stone\", \"Frankenweenie\", \"John Carter\", \"Dolphin Tale\", \"Penguins of Madagascar\", \"Minions\", \"Proud American\", \"Edmond\", \"Tootsie\", \"Waterworld\", \"The Lion King (2019)\", \"Crawl\", \"Stuber\", \"Midsommar\", \"Spider-Man: Far from Home\", \"Yesterday\", \"Annabelle Comes Home\", \"Toy Story 4\", \"Child's Play (2019)\", \"Anna (2019)\", \"Men in Black International\", \"Shaft (2019)\\u00a0\", \"Late Night\", \"The Secret Life of Pets 2\", \"Dark Phoenix\", \"Godzilla:King of the Monsters\", \"Rocketman\", \"Return of the Jedi\", \"Indiana Jones and the Temple of Doom\", \"The Idolmaker\", \"The Grass Harp\", \"The Grand\", \"Jaws\", \"Superman (1978)\", \"Clerks\", \"Juice\", \"He Got Game\", \"White Men Can't Jump\", \"Mulholland Drive\", \"Blue Velvet\", \"Once Upon a Time in Hollywood\", \"The Big Lebowski\", \"Train to Busan\", \"Pride and Prejudice and Zombies\", \"Dead Poets Society\", \"A Fish Called Wanda\", \"The Witches of Eastwick\", \"Ferris Bueller's Day Off\", \"Back to the Future\", \"Police Academy\", \"Trading Places\", \"Star Trek II The Wrath of Khan\", \"The Blues Brothers\", \"V For Vendetta\", \"In the Line of Fire\", \"Us\", \"The Forbidden Kingdom\", \"Rumble in the Bronx\", \"Machete\", \"Beverly Hills Cop\", \"Watchmen\", \"Jackie Brown\", \"Zombieland\", \"Mo Better Blues\", \"Thelma and Louise\", \"New Jack City\", \"The Lawnmower Man\", \"Schindler's List\", \"Four Weddings and a Funeral\", \"Get Shorty\", \"Jerry Maguire\", \"Welcome to Sarajevo\", \"Trojan War\", \"The Gingerbread Man\", \"Tumbleweeds\", \"Turn it up\", \"The Adventures of Pluto Nash\", \"The Lord of the Rings: The Return of the King\", \"Harry Potter and the Prisoner of Azkaban\", \"Stay\", \"Fast Food Nation\", \"Into the Wild\", \"The Wrestler\", \"Slumdog Millionaire\", \"Jackass 3-D\", \"Skyfall\", \"The Hunger Games: Mocking Jay - Part 1\", \"Jurassic World\", \"Shut In\", \"Molly's Game\", \"Molly's Game\", \"BlacKkKlansman\", \"BlacKkKlansman\", \"Peter Rabbit\", \"Replicas\"], \"type\": \"scatter\", \"x\": [\"O Brother, Where Art Thou?\", \"The Twilight Saga: Breaking Dawn Part 1\", \"The Twilight Saga: Breaking Dawn Part 2\", \"Helena From the Wedding\", \"Monsters\", \"Catfish\", \"Red\", \"Freakonomics\", \"The Warrior's Way\", \"Stone\", \"Frankenweenie\", \"John Carter\", \"Dolphin Tale\", \"Penguins of Madagascar\", \"Minions\", \"Proud American\", \"Edmond\", \"Tootsie\", \"Waterworld\", \"The Lion King (2019)\", \"Crawl\", \"Stuber\", \"Midsommar\", \"Spider-Man: Far from Home\", \"Yesterday\", \"Annabelle Comes Home\", \"Toy Story 4\", \"Child's Play (2019)\", \"Anna (2019)\", \"Men in Black International\", \"Shaft (2019)\\u00a0\", \"Late Night\", \"The Secret Life of Pets 2\", \"Dark Phoenix\", \"Godzilla:King of the Monsters\", \"Rocketman\", \"Return of the Jedi\", \"Indiana Jones and the Temple of Doom\", \"The Idolmaker\", \"The Grass Harp\", \"The Grand\", \"Jaws\", \"Superman (1978)\", \"Clerks\", \"Juice\", \"He Got Game\", \"White Men Can't Jump\", \"Mulholland Drive\", \"Blue Velvet\", \"Once Upon a Time in Hollywood\", \"The Big Lebowski\", \"Train to Busan\", \"Pride and Prejudice and Zombies\", \"Dead Poets Society\", \"A Fish Called Wanda\", \"The Witches of Eastwick\", \"Ferris Bueller's Day Off\", \"Back to the Future\", \"Police Academy\", \"Trading Places\", \"Star Trek II The Wrath of Khan\", \"The Blues Brothers\", \"V For Vendetta\", \"In the Line of Fire\", \"Us\", \"The Forbidden Kingdom\", \"Rumble in the Bronx\", \"Machete\", \"Beverly Hills Cop\", \"Watchmen\", \"Jackie Brown\", \"Zombieland\", \"Mo Better Blues\", \"Thelma and Louise\", \"New Jack City\", \"The Lawnmower Man\", \"Schindler's List\", \"Four Weddings and a Funeral\", \"Get Shorty\", \"Jerry Maguire\", \"Welcome to Sarajevo\", \"Trojan War\", \"The Gingerbread Man\", \"Tumbleweeds\", \"Turn it up\", \"The Adventures of Pluto Nash\", \"The Lord of the Rings: The Return of the King\", \"Harry Potter and the Prisoner of Azkaban\", \"Stay\", \"Fast Food Nation\", \"Into the Wild\", \"The Wrestler\", \"Slumdog Millionaire\", \"Jackass 3-D\", \"Skyfall\", \"The Hunger Games: Mocking Jay - Part 1\", \"Jurassic World\", \"Shut In\", \"Molly's Game\", \"Molly's Game\", \"BlacKkKlansman\", \"BlacKkKlansman\", \"Peter Rabbit\", \"Replicas\"], \"y\": [3162.0, 10000000.0, 31622776.0, 10000.0, 3162277.0, 10000.0, 10000000.0, 3162277.0, 10000000.0, 1000000.0, 10000000.0, 10000000.0, 10000000.0, 31622.0, 31622776.0, 31622776.0, 10000000.0, 10000000.0, 31622776.0, 100000.0, 31622776.0, 10000000.0, 10000.0, 10000000.0, 100000.0, 10000000.0, 316.0, 10000000.0, 1000000.0, 10000.0, 10000000.0, 10000.0, 10000000.0, 10000000.0, 31622776.0, 10000000.0, 31622776.0, 31622776.0, 3162277.0, 100000.0, 31622776.0, 100000.0, 10000000.0, 31622.0, 3162277.0, 31622.0, 316227.0, 3162277.0, 100000.0, 31622776.0, 3162277.0, 100000.0, 3162277.0, 1000000.0, 3162277.0, 10000000.0, 316227.0, 3162277.0, 3162277.0, 10000000.0, 10000000.0, 10000000.0, 31622776.0, 10000000.0, 10000.0, 316227.0, 31622.0, 10000000.0, 100000.0, 10000000.0, 1000000.0, 31622776.0, 100000.0, 10000000.0, 10000000.0, 100000.0, 1000000.0, 3162277.0, 10000000.0, 10000000.0, 100000.0, 100000.0, 3162277.0, 316227.0, 100000.0, 3162277.0, 100000000.0, 3162277.0, 10000000.0, 316227.0, 316227.0, 100000.0, 316227.0, 1000000.0, 100000000.0, 100000000.0, 10000000.0, 3162277.0, 100000.0, 316227.0, 100000.0, 316227.0, 31622776.0, 10000000.0]}],\n",
       "                        {\"template\": {\"data\": {\"bar\": [{\"error_x\": {\"color\": \"#2a3f5f\"}, \"error_y\": {\"color\": \"#2a3f5f\"}, \"marker\": {\"line\": {\"color\": \"#E5ECF6\", \"width\": 0.5}}, \"type\": \"bar\"}], \"barpolar\": [{\"marker\": {\"line\": {\"color\": \"#E5ECF6\", \"width\": 0.5}}, \"type\": \"barpolar\"}], \"carpet\": [{\"aaxis\": {\"endlinecolor\": \"#2a3f5f\", \"gridcolor\": \"white\", \"linecolor\": \"white\", \"minorgridcolor\": \"white\", \"startlinecolor\": \"#2a3f5f\"}, \"baxis\": {\"endlinecolor\": \"#2a3f5f\", \"gridcolor\": \"white\", \"linecolor\": \"white\", \"minorgridcolor\": \"white\", \"startlinecolor\": \"#2a3f5f\"}, \"type\": \"carpet\"}], \"choropleth\": [{\"colorbar\": {\"outlinewidth\": 0, \"ticks\": \"\"}, \"type\": \"choropleth\"}], \"contour\": [{\"colorbar\": {\"outlinewidth\": 0, \"ticks\": \"\"}, \"colorscale\": [[0.0, \"#0d0887\"], [0.1111111111111111, \"#46039f\"], [0.2222222222222222, \"#7201a8\"], [0.3333333333333333, \"#9c179e\"], [0.4444444444444444, \"#bd3786\"], [0.5555555555555556, \"#d8576b\"], [0.6666666666666666, \"#ed7953\"], [0.7777777777777778, \"#fb9f3a\"], [0.8888888888888888, \"#fdca26\"], [1.0, \"#f0f921\"]], \"type\": \"contour\"}], \"contourcarpet\": [{\"colorbar\": {\"outlinewidth\": 0, \"ticks\": \"\"}, \"type\": \"contourcarpet\"}], \"heatmap\": [{\"colorbar\": {\"outlinewidth\": 0, \"ticks\": \"\"}, \"colorscale\": [[0.0, \"#0d0887\"], [0.1111111111111111, \"#46039f\"], [0.2222222222222222, \"#7201a8\"], [0.3333333333333333, \"#9c179e\"], [0.4444444444444444, \"#bd3786\"], [0.5555555555555556, \"#d8576b\"], [0.6666666666666666, \"#ed7953\"], [0.7777777777777778, \"#fb9f3a\"], [0.8888888888888888, \"#fdca26\"], [1.0, \"#f0f921\"]], \"type\": \"heatmap\"}], \"heatmapgl\": [{\"colorbar\": {\"outlinewidth\": 0, \"ticks\": \"\"}, \"colorscale\": [[0.0, \"#0d0887\"], [0.1111111111111111, \"#46039f\"], [0.2222222222222222, \"#7201a8\"], [0.3333333333333333, \"#9c179e\"], [0.4444444444444444, \"#bd3786\"], [0.5555555555555556, \"#d8576b\"], [0.6666666666666666, \"#ed7953\"], [0.7777777777777778, \"#fb9f3a\"], [0.8888888888888888, \"#fdca26\"], [1.0, \"#f0f921\"]], \"type\": \"heatmapgl\"}], \"histogram\": [{\"marker\": {\"colorbar\": {\"outlinewidth\": 0, \"ticks\": \"\"}}, \"type\": \"histogram\"}], \"histogram2d\": [{\"colorbar\": {\"outlinewidth\": 0, \"ticks\": \"\"}, \"colorscale\": [[0.0, \"#0d0887\"], [0.1111111111111111, \"#46039f\"], [0.2222222222222222, \"#7201a8\"], [0.3333333333333333, \"#9c179e\"], [0.4444444444444444, \"#bd3786\"], [0.5555555555555556, \"#d8576b\"], [0.6666666666666666, \"#ed7953\"], [0.7777777777777778, \"#fb9f3a\"], [0.8888888888888888, \"#fdca26\"], [1.0, \"#f0f921\"]], \"type\": \"histogram2d\"}], \"histogram2dcontour\": [{\"colorbar\": {\"outlinewidth\": 0, \"ticks\": \"\"}, \"colorscale\": [[0.0, \"#0d0887\"], [0.1111111111111111, \"#46039f\"], [0.2222222222222222, \"#7201a8\"], [0.3333333333333333, \"#9c179e\"], [0.4444444444444444, \"#bd3786\"], [0.5555555555555556, \"#d8576b\"], [0.6666666666666666, \"#ed7953\"], [0.7777777777777778, \"#fb9f3a\"], [0.8888888888888888, \"#fdca26\"], [1.0, \"#f0f921\"]], \"type\": \"histogram2dcontour\"}], \"mesh3d\": [{\"colorbar\": {\"outlinewidth\": 0, \"ticks\": \"\"}, \"type\": \"mesh3d\"}], \"parcoords\": [{\"line\": {\"colorbar\": {\"outlinewidth\": 0, \"ticks\": \"\"}}, \"type\": \"parcoords\"}], \"scatter\": [{\"marker\": {\"colorbar\": {\"outlinewidth\": 0, \"ticks\": \"\"}}, \"type\": \"scatter\"}], \"scatter3d\": [{\"line\": {\"colorbar\": {\"outlinewidth\": 0, \"ticks\": \"\"}}, \"marker\": {\"colorbar\": {\"outlinewidth\": 0, \"ticks\": \"\"}}, \"type\": \"scatter3d\"}], \"scattercarpet\": [{\"marker\": {\"colorbar\": {\"outlinewidth\": 0, \"ticks\": \"\"}}, \"type\": \"scattercarpet\"}], \"scattergeo\": [{\"marker\": {\"colorbar\": {\"outlinewidth\": 0, \"ticks\": \"\"}}, \"type\": \"scattergeo\"}], \"scattergl\": [{\"marker\": {\"colorbar\": {\"outlinewidth\": 0, \"ticks\": \"\"}}, \"type\": \"scattergl\"}], \"scattermapbox\": [{\"marker\": {\"colorbar\": {\"outlinewidth\": 0, \"ticks\": \"\"}}, \"type\": \"scattermapbox\"}], \"scatterpolar\": [{\"marker\": {\"colorbar\": {\"outlinewidth\": 0, \"ticks\": \"\"}}, \"type\": \"scatterpolar\"}], \"scatterpolargl\": [{\"marker\": {\"colorbar\": {\"outlinewidth\": 0, \"ticks\": \"\"}}, \"type\": \"scatterpolargl\"}], \"scatterternary\": [{\"marker\": {\"colorbar\": {\"outlinewidth\": 0, \"ticks\": \"\"}}, \"type\": \"scatterternary\"}], \"surface\": [{\"colorbar\": {\"outlinewidth\": 0, \"ticks\": \"\"}, \"colorscale\": [[0.0, \"#0d0887\"], [0.1111111111111111, \"#46039f\"], [0.2222222222222222, \"#7201a8\"], [0.3333333333333333, \"#9c179e\"], [0.4444444444444444, \"#bd3786\"], [0.5555555555555556, \"#d8576b\"], [0.6666666666666666, \"#ed7953\"], [0.7777777777777778, \"#fb9f3a\"], [0.8888888888888888, \"#fdca26\"], [1.0, \"#f0f921\"]], \"type\": \"surface\"}], \"table\": [{\"cells\": {\"fill\": {\"color\": \"#EBF0F8\"}, \"line\": {\"color\": \"white\"}}, \"header\": {\"fill\": {\"color\": \"#C8D4E3\"}, \"line\": {\"color\": \"white\"}}, \"type\": \"table\"}]}, \"layout\": {\"annotationdefaults\": {\"arrowcolor\": \"#2a3f5f\", \"arrowhead\": 0, \"arrowwidth\": 1}, \"colorscale\": {\"diverging\": [[0, \"#8e0152\"], [0.1, \"#c51b7d\"], [0.2, \"#de77ae\"], [0.3, \"#f1b6da\"], [0.4, \"#fde0ef\"], [0.5, \"#f7f7f7\"], [0.6, \"#e6f5d0\"], [0.7, \"#b8e186\"], [0.8, \"#7fbc41\"], [0.9, \"#4d9221\"], [1, \"#276419\"]], \"sequential\": [[0.0, \"#0d0887\"], [0.1111111111111111, \"#46039f\"], [0.2222222222222222, \"#7201a8\"], [0.3333333333333333, \"#9c179e\"], [0.4444444444444444, \"#bd3786\"], [0.5555555555555556, \"#d8576b\"], [0.6666666666666666, \"#ed7953\"], [0.7777777777777778, \"#fb9f3a\"], [0.8888888888888888, \"#fdca26\"], [1.0, \"#f0f921\"]], \"sequentialminus\": [[0.0, \"#0d0887\"], [0.1111111111111111, \"#46039f\"], [0.2222222222222222, \"#7201a8\"], [0.3333333333333333, \"#9c179e\"], [0.4444444444444444, \"#bd3786\"], [0.5555555555555556, \"#d8576b\"], [0.6666666666666666, \"#ed7953\"], [0.7777777777777778, \"#fb9f3a\"], [0.8888888888888888, \"#fdca26\"], [1.0, \"#f0f921\"]]}, \"colorway\": [\"#636efa\", \"#EF553B\", \"#00cc96\", \"#ab63fa\", \"#FFA15A\", \"#19d3f3\", \"#FF6692\", \"#B6E880\", \"#FF97FF\", \"#FECB52\"], \"font\": {\"color\": \"#2a3f5f\"}, \"geo\": {\"bgcolor\": \"white\", \"lakecolor\": \"white\", \"landcolor\": \"#E5ECF6\", \"showlakes\": true, \"showland\": true, \"subunitcolor\": \"white\"}, \"hoverlabel\": {\"align\": \"left\"}, \"hovermode\": \"closest\", \"mapbox\": {\"style\": \"light\"}, \"paper_bgcolor\": \"white\", \"plot_bgcolor\": \"#E5ECF6\", \"polar\": {\"angularaxis\": {\"gridcolor\": \"white\", \"linecolor\": \"white\", \"ticks\": \"\"}, \"bgcolor\": \"#E5ECF6\", \"radialaxis\": {\"gridcolor\": \"white\", \"linecolor\": \"white\", \"ticks\": \"\"}}, \"scene\": {\"xaxis\": {\"backgroundcolor\": \"#E5ECF6\", \"gridcolor\": \"white\", \"gridwidth\": 2, \"linecolor\": \"white\", \"showbackground\": true, \"ticks\": \"\", \"zerolinecolor\": \"white\"}, \"yaxis\": {\"backgroundcolor\": \"#E5ECF6\", \"gridcolor\": \"white\", \"gridwidth\": 2, \"linecolor\": \"white\", \"showbackground\": true, \"ticks\": \"\", \"zerolinecolor\": \"white\"}, \"zaxis\": {\"backgroundcolor\": \"#E5ECF6\", \"gridcolor\": \"white\", \"gridwidth\": 2, \"linecolor\": \"white\", \"showbackground\": true, \"ticks\": \"\", \"zerolinecolor\": \"white\"}}, \"shapedefaults\": {\"line\": {\"color\": \"#2a3f5f\"}}, \"ternary\": {\"aaxis\": {\"gridcolor\": \"white\", \"linecolor\": \"white\", \"ticks\": \"\"}, \"baxis\": {\"gridcolor\": \"white\", \"linecolor\": \"white\", \"ticks\": \"\"}, \"bgcolor\": \"#E5ECF6\", \"caxis\": {\"gridcolor\": \"white\", \"linecolor\": \"white\", \"ticks\": \"\"}}, \"title\": {\"x\": 0.05}, \"xaxis\": {\"automargin\": true, \"gridcolor\": \"white\", \"linecolor\": \"white\", \"ticks\": \"\", \"zerolinecolor\": \"white\", \"zerolinewidth\": 2}, \"yaxis\": {\"automargin\": true, \"gridcolor\": \"white\", \"linecolor\": \"white\", \"ticks\": \"\", \"zerolinecolor\": \"white\", \"zerolinewidth\": 2}}}, \"title\": {\"text\": \"Video prediction value of testset of Group 7\"}},\n",
       "                        {\"responsive\": true}\n",
       "                    ).then(function(){\n",
       "                            \n",
       "var gd = document.getElementById('27551a8a-6c8a-4f22-a6aa-e3023ab3359a');\n",
       "var x = new MutationObserver(function (mutations, observer) {{\n",
       "        var display = window.getComputedStyle(gd).display;\n",
       "        if (!display || display === 'none') {{\n",
       "            console.log([gd, 'removed!']);\n",
       "            Plotly.purge(gd);\n",
       "            observer.disconnect();\n",
       "        }}\n",
       "}});\n",
       "\n",
       "// Listen for the removal of the full notebook cells\n",
       "var notebookContainer = gd.closest('#notebook-container');\n",
       "if (notebookContainer) {{\n",
       "    x.observe(notebookContainer, {childList: true});\n",
       "}}\n",
       "\n",
       "// Listen for the clearing of the current output cell\n",
       "var outputEl = gd.closest('.output');\n",
       "if (outputEl) {{\n",
       "    x.observe(outputEl, {childList: true});\n",
       "}}\n",
       "\n",
       "                        })\n",
       "                };\n",
       "                });\n",
       "            </script>\n",
       "        </div>"
      ]
     },
     "metadata": {},
     "output_type": "display_data"
    }
   ],
   "source": [
    "#Video prediction value of testset\n",
    "fig = go.Figure(data=go.Scatter(x=g7_result_final[\"name\"],\n",
    "                                y=g7_result_final[\"trailer_prediction\"],\n",
    "                                mode='markers',\n",
    "                                marker_color=g7_result_final[\"trailer_prediction\"],\n",
    "                                text=g7_result_final[\"name\"])) # hover text goes here(movie_title)\n",
    "\n",
    "fig.update_layout(title='Video prediction value of testset of Group 7')\n",
    "fig.show()"
   ]
  },
  {
   "cell_type": "code",
   "execution_count": 38,
   "metadata": {},
   "outputs": [
    {
     "data": {
      "application/vnd.plotly.v1+json": {
       "config": {
        "plotlyServerURL": "https://plot.ly"
       },
       "data": [
        {
         "marker": {
          "color": [
           4.598944103075929,
           4.540738725018044,
           4.364158598060789,
           5.607532279128944,
           9.636961701325578,
           4.575877922254691,
           4.008189020184472,
           9.191796472608548,
           5.4337762602074875,
           7.107305264036103,
           2.593355610366464,
           4.21753046093762,
           3.887468500213373,
           4.613889423182257,
           4.299631602518284,
           10.398651199913903,
           10.855935799397955,
           4.400481575145194,
           3.9192539873283163,
           4.614604090513456,
           5.102355826854241,
           3.1168373918649035,
           4.613610086346271,
           4.502012121620705,
           4.60928283993427,
           3.9447870478507547,
           4.615117929158693,
           3.4028896810418834,
           4.293567122493946,
           4.614790823282018,
           2.5908898974706873,
           4.574092159218427,
           4.37657435041112,
           4.256158972100803,
           3.549925887230225,
           4.129203195832528,
           3.647358181419179,
           3.2506899887471126,
           6.795893779881158,
           2.750302569969248,
           11.69511743880094,
           4.601000232700809,
           3.5539847916579976,
           0.12733427335092593,
           4.1253834650101195,
           4.610998210059837,
           4.593607824551136,
           6.084901507123045,
           4.481105787355556,
           3.179105831797341,
           3.7809044586998097,
           4.187905960668485,
           3.7282453381579805,
           5.271581690929976,
           7.87885510581898,
           1.9128954574673385,
           4.5639423325637924,
           4.285586338833334,
           4.160454482064198,
           3.6132867097143397,
           3.4436210006655847,
           4.671328520207122,
           3.1914020488500308,
           3.5697999985472118,
           4.614981287228762,
           4.600382554957544,
           4.611939595342568,
           3.40427722214529,
           4.608591780030702,
           4.41749947981792,
           4.50245440842352,
           3.3623114062665467,
           4.5922949040502345,
           4.172841112405634,
           3.762433815475379,
           4.602266027941358,
           3.975774517779731,
           7.68912545281475,
           3.102786220935251,
           3.7487205468456755,
           3.9206290232033663,
           10.736047686511142,
           7.853448276403699,
           5.690817370274311,
           4.42680362855568,
           3.8257211913560667,
           3.6554440856535733,
           4.5811300179990075,
           5.880524123431339,
           3.178987335418828,
           3.909113485972758,
           3.9448660402136824,
           2.5774522912252804,
           4.595261721818783,
           2.6509396085082364,
           2.9425399805051087,
           4.566542363560827,
           2.6018573408747874,
           4.526860896188976,
           4.304321855228043,
           4.605949323855226,
           4.585826399885613,
           3.311850055455678,
           5.774536084971068
          ]
         },
         "mode": "markers",
         "text": [
          "O Brother, Where Art Thou?",
          "The Twilight Saga: Breaking Dawn Part 1",
          "The Twilight Saga: Breaking Dawn Part 2",
          "Helena From the Wedding",
          "Monsters",
          "Catfish",
          "Red",
          "Freakonomics",
          "The Warrior's Way",
          "Stone",
          "Frankenweenie",
          "John Carter",
          "Dolphin Tale",
          "Penguins of Madagascar",
          "Minions",
          "Proud American",
          "Edmond",
          "Tootsie",
          "Waterworld",
          "The Lion King (2019)",
          "Crawl",
          "Stuber",
          "Midsommar",
          "Spider-Man: Far from Home",
          "Yesterday",
          "Annabelle Comes Home",
          "Toy Story 4",
          "Child's Play (2019)",
          "Anna (2019)",
          "Men in Black International",
          "Shaft (2019) ",
          "Late Night",
          "The Secret Life of Pets 2",
          "Dark Phoenix",
          "Godzilla:King of the Monsters",
          "Rocketman",
          "Return of the Jedi",
          "Indiana Jones and the Temple of Doom",
          "The Idolmaker",
          "The Grass Harp",
          "The Grand",
          "Jaws",
          "Superman (1978)",
          "Clerks",
          "Juice",
          "He Got Game",
          "White Men Can't Jump",
          "Mulholland Drive",
          "Blue Velvet",
          "Once Upon a Time in Hollywood",
          "The Big Lebowski",
          "Train to Busan",
          "Pride and Prejudice and Zombies",
          "Dead Poets Society",
          "A Fish Called Wanda",
          "The Witches of Eastwick",
          "Ferris Bueller's Day Off",
          "Back to the Future",
          "Police Academy",
          "Trading Places",
          "Star Trek II The Wrath of Khan",
          "The Blues Brothers",
          "V For Vendetta",
          "In the Line of Fire",
          "Us",
          "The Forbidden Kingdom",
          "Rumble in the Bronx",
          "Machete",
          "Beverly Hills Cop",
          "Watchmen",
          "Jackie Brown",
          "Zombieland",
          "Mo Better Blues",
          "Thelma and Louise",
          "New Jack City",
          "The Lawnmower Man",
          "Schindler's List",
          "Four Weddings and a Funeral",
          "Get Shorty",
          "Jerry Maguire",
          "Welcome to Sarajevo",
          "Trojan War",
          "The Gingerbread Man",
          "Tumbleweeds",
          "Turn it up",
          "The Adventures of Pluto Nash",
          "The Lord of the Rings: The Return of the King",
          "Harry Potter and the Prisoner of Azkaban",
          "Stay",
          "Fast Food Nation",
          "Into the Wild",
          "The Wrestler",
          "Slumdog Millionaire",
          "Jackass 3-D",
          "Skyfall",
          "The Hunger Games: Mocking Jay - Part 1",
          "Jurassic World",
          "Shut In",
          "Molly's Game",
          "Molly's Game",
          "BlacKkKlansman",
          "BlacKkKlansman",
          "Peter Rabbit",
          "Replicas"
         ],
         "type": "scatter",
         "x": [
          "O Brother, Where Art Thou?",
          "The Twilight Saga: Breaking Dawn Part 1",
          "The Twilight Saga: Breaking Dawn Part 2",
          "Helena From the Wedding",
          "Monsters",
          "Catfish",
          "Red",
          "Freakonomics",
          "The Warrior's Way",
          "Stone",
          "Frankenweenie",
          "John Carter",
          "Dolphin Tale",
          "Penguins of Madagascar",
          "Minions",
          "Proud American",
          "Edmond",
          "Tootsie",
          "Waterworld",
          "The Lion King (2019)",
          "Crawl",
          "Stuber",
          "Midsommar",
          "Spider-Man: Far from Home",
          "Yesterday",
          "Annabelle Comes Home",
          "Toy Story 4",
          "Child's Play (2019)",
          "Anna (2019)",
          "Men in Black International",
          "Shaft (2019) ",
          "Late Night",
          "The Secret Life of Pets 2",
          "Dark Phoenix",
          "Godzilla:King of the Monsters",
          "Rocketman",
          "Return of the Jedi",
          "Indiana Jones and the Temple of Doom",
          "The Idolmaker",
          "The Grass Harp",
          "The Grand",
          "Jaws",
          "Superman (1978)",
          "Clerks",
          "Juice",
          "He Got Game",
          "White Men Can't Jump",
          "Mulholland Drive",
          "Blue Velvet",
          "Once Upon a Time in Hollywood",
          "The Big Lebowski",
          "Train to Busan",
          "Pride and Prejudice and Zombies",
          "Dead Poets Society",
          "A Fish Called Wanda",
          "The Witches of Eastwick",
          "Ferris Bueller's Day Off",
          "Back to the Future",
          "Police Academy",
          "Trading Places",
          "Star Trek II The Wrath of Khan",
          "The Blues Brothers",
          "V For Vendetta",
          "In the Line of Fire",
          "Us",
          "The Forbidden Kingdom",
          "Rumble in the Bronx",
          "Machete",
          "Beverly Hills Cop",
          "Watchmen",
          "Jackie Brown",
          "Zombieland",
          "Mo Better Blues",
          "Thelma and Louise",
          "New Jack City",
          "The Lawnmower Man",
          "Schindler's List",
          "Four Weddings and a Funeral",
          "Get Shorty",
          "Jerry Maguire",
          "Welcome to Sarajevo",
          "Trojan War",
          "The Gingerbread Man",
          "Tumbleweeds",
          "Turn it up",
          "The Adventures of Pluto Nash",
          "The Lord of the Rings: The Return of the King",
          "Harry Potter and the Prisoner of Azkaban",
          "Stay",
          "Fast Food Nation",
          "Into the Wild",
          "The Wrestler",
          "Slumdog Millionaire",
          "Jackass 3-D",
          "Skyfall",
          "The Hunger Games: Mocking Jay - Part 1",
          "Jurassic World",
          "Shut In",
          "Molly's Game",
          "Molly's Game",
          "BlacKkKlansman",
          "BlacKkKlansman",
          "Peter Rabbit",
          "Replicas"
         ],
         "y": [
          4.598944103075929,
          4.540738725018044,
          4.364158598060789,
          5.607532279128944,
          9.636961701325578,
          4.575877922254691,
          4.008189020184472,
          9.191796472608548,
          5.4337762602074875,
          7.107305264036103,
          2.593355610366464,
          4.21753046093762,
          3.887468500213373,
          4.613889423182257,
          4.299631602518284,
          10.398651199913903,
          10.855935799397955,
          4.400481575145194,
          3.9192539873283163,
          4.614604090513456,
          5.102355826854241,
          3.1168373918649035,
          4.613610086346271,
          4.502012121620705,
          4.60928283993427,
          3.9447870478507547,
          4.615117929158693,
          3.4028896810418834,
          4.293567122493946,
          4.614790823282018,
          2.5908898974706873,
          4.574092159218427,
          4.37657435041112,
          4.256158972100803,
          3.549925887230225,
          4.129203195832528,
          3.647358181419179,
          3.2506899887471126,
          6.795893779881158,
          2.750302569969248,
          11.69511743880094,
          4.601000232700809,
          3.5539847916579976,
          0.12733427335092593,
          4.1253834650101195,
          4.610998210059837,
          4.593607824551136,
          6.084901507123045,
          4.481105787355556,
          3.179105831797341,
          3.7809044586998097,
          4.187905960668485,
          3.7282453381579805,
          5.271581690929976,
          7.87885510581898,
          1.9128954574673385,
          4.5639423325637924,
          4.285586338833334,
          4.160454482064198,
          3.6132867097143397,
          3.4436210006655847,
          4.671328520207122,
          3.1914020488500308,
          3.5697999985472118,
          4.614981287228762,
          4.600382554957544,
          4.611939595342568,
          3.40427722214529,
          4.608591780030702,
          4.41749947981792,
          4.50245440842352,
          3.3623114062665467,
          4.5922949040502345,
          4.172841112405634,
          3.762433815475379,
          4.602266027941358,
          3.975774517779731,
          7.68912545281475,
          3.102786220935251,
          3.7487205468456755,
          3.9206290232033663,
          10.736047686511142,
          7.853448276403699,
          5.690817370274311,
          4.42680362855568,
          3.8257211913560667,
          3.6554440856535733,
          4.5811300179990075,
          5.880524123431339,
          3.178987335418828,
          3.909113485972758,
          3.9448660402136824,
          2.5774522912252804,
          4.595261721818783,
          2.6509396085082364,
          2.9425399805051087,
          4.566542363560827,
          2.6018573408747874,
          4.526860896188976,
          4.304321855228043,
          4.605949323855226,
          4.585826399885613,
          3.311850055455678,
          5.774536084971068
         ]
        }
       ],
       "layout": {
        "template": {
         "data": {
          "bar": [
           {
            "error_x": {
             "color": "#2a3f5f"
            },
            "error_y": {
             "color": "#2a3f5f"
            },
            "marker": {
             "line": {
              "color": "#E5ECF6",
              "width": 0.5
             }
            },
            "type": "bar"
           }
          ],
          "barpolar": [
           {
            "marker": {
             "line": {
              "color": "#E5ECF6",
              "width": 0.5
             }
            },
            "type": "barpolar"
           }
          ],
          "carpet": [
           {
            "aaxis": {
             "endlinecolor": "#2a3f5f",
             "gridcolor": "white",
             "linecolor": "white",
             "minorgridcolor": "white",
             "startlinecolor": "#2a3f5f"
            },
            "baxis": {
             "endlinecolor": "#2a3f5f",
             "gridcolor": "white",
             "linecolor": "white",
             "minorgridcolor": "white",
             "startlinecolor": "#2a3f5f"
            },
            "type": "carpet"
           }
          ],
          "choropleth": [
           {
            "colorbar": {
             "outlinewidth": 0,
             "ticks": ""
            },
            "type": "choropleth"
           }
          ],
          "contour": [
           {
            "colorbar": {
             "outlinewidth": 0,
             "ticks": ""
            },
            "colorscale": [
             [
              0,
              "#0d0887"
             ],
             [
              0.1111111111111111,
              "#46039f"
             ],
             [
              0.2222222222222222,
              "#7201a8"
             ],
             [
              0.3333333333333333,
              "#9c179e"
             ],
             [
              0.4444444444444444,
              "#bd3786"
             ],
             [
              0.5555555555555556,
              "#d8576b"
             ],
             [
              0.6666666666666666,
              "#ed7953"
             ],
             [
              0.7777777777777778,
              "#fb9f3a"
             ],
             [
              0.8888888888888888,
              "#fdca26"
             ],
             [
              1,
              "#f0f921"
             ]
            ],
            "type": "contour"
           }
          ],
          "contourcarpet": [
           {
            "colorbar": {
             "outlinewidth": 0,
             "ticks": ""
            },
            "type": "contourcarpet"
           }
          ],
          "heatmap": [
           {
            "colorbar": {
             "outlinewidth": 0,
             "ticks": ""
            },
            "colorscale": [
             [
              0,
              "#0d0887"
             ],
             [
              0.1111111111111111,
              "#46039f"
             ],
             [
              0.2222222222222222,
              "#7201a8"
             ],
             [
              0.3333333333333333,
              "#9c179e"
             ],
             [
              0.4444444444444444,
              "#bd3786"
             ],
             [
              0.5555555555555556,
              "#d8576b"
             ],
             [
              0.6666666666666666,
              "#ed7953"
             ],
             [
              0.7777777777777778,
              "#fb9f3a"
             ],
             [
              0.8888888888888888,
              "#fdca26"
             ],
             [
              1,
              "#f0f921"
             ]
            ],
            "type": "heatmap"
           }
          ],
          "heatmapgl": [
           {
            "colorbar": {
             "outlinewidth": 0,
             "ticks": ""
            },
            "colorscale": [
             [
              0,
              "#0d0887"
             ],
             [
              0.1111111111111111,
              "#46039f"
             ],
             [
              0.2222222222222222,
              "#7201a8"
             ],
             [
              0.3333333333333333,
              "#9c179e"
             ],
             [
              0.4444444444444444,
              "#bd3786"
             ],
             [
              0.5555555555555556,
              "#d8576b"
             ],
             [
              0.6666666666666666,
              "#ed7953"
             ],
             [
              0.7777777777777778,
              "#fb9f3a"
             ],
             [
              0.8888888888888888,
              "#fdca26"
             ],
             [
              1,
              "#f0f921"
             ]
            ],
            "type": "heatmapgl"
           }
          ],
          "histogram": [
           {
            "marker": {
             "colorbar": {
              "outlinewidth": 0,
              "ticks": ""
             }
            },
            "type": "histogram"
           }
          ],
          "histogram2d": [
           {
            "colorbar": {
             "outlinewidth": 0,
             "ticks": ""
            },
            "colorscale": [
             [
              0,
              "#0d0887"
             ],
             [
              0.1111111111111111,
              "#46039f"
             ],
             [
              0.2222222222222222,
              "#7201a8"
             ],
             [
              0.3333333333333333,
              "#9c179e"
             ],
             [
              0.4444444444444444,
              "#bd3786"
             ],
             [
              0.5555555555555556,
              "#d8576b"
             ],
             [
              0.6666666666666666,
              "#ed7953"
             ],
             [
              0.7777777777777778,
              "#fb9f3a"
             ],
             [
              0.8888888888888888,
              "#fdca26"
             ],
             [
              1,
              "#f0f921"
             ]
            ],
            "type": "histogram2d"
           }
          ],
          "histogram2dcontour": [
           {
            "colorbar": {
             "outlinewidth": 0,
             "ticks": ""
            },
            "colorscale": [
             [
              0,
              "#0d0887"
             ],
             [
              0.1111111111111111,
              "#46039f"
             ],
             [
              0.2222222222222222,
              "#7201a8"
             ],
             [
              0.3333333333333333,
              "#9c179e"
             ],
             [
              0.4444444444444444,
              "#bd3786"
             ],
             [
              0.5555555555555556,
              "#d8576b"
             ],
             [
              0.6666666666666666,
              "#ed7953"
             ],
             [
              0.7777777777777778,
              "#fb9f3a"
             ],
             [
              0.8888888888888888,
              "#fdca26"
             ],
             [
              1,
              "#f0f921"
             ]
            ],
            "type": "histogram2dcontour"
           }
          ],
          "mesh3d": [
           {
            "colorbar": {
             "outlinewidth": 0,
             "ticks": ""
            },
            "type": "mesh3d"
           }
          ],
          "parcoords": [
           {
            "line": {
             "colorbar": {
              "outlinewidth": 0,
              "ticks": ""
             }
            },
            "type": "parcoords"
           }
          ],
          "scatter": [
           {
            "marker": {
             "colorbar": {
              "outlinewidth": 0,
              "ticks": ""
             }
            },
            "type": "scatter"
           }
          ],
          "scatter3d": [
           {
            "line": {
             "colorbar": {
              "outlinewidth": 0,
              "ticks": ""
             }
            },
            "marker": {
             "colorbar": {
              "outlinewidth": 0,
              "ticks": ""
             }
            },
            "type": "scatter3d"
           }
          ],
          "scattercarpet": [
           {
            "marker": {
             "colorbar": {
              "outlinewidth": 0,
              "ticks": ""
             }
            },
            "type": "scattercarpet"
           }
          ],
          "scattergeo": [
           {
            "marker": {
             "colorbar": {
              "outlinewidth": 0,
              "ticks": ""
             }
            },
            "type": "scattergeo"
           }
          ],
          "scattergl": [
           {
            "marker": {
             "colorbar": {
              "outlinewidth": 0,
              "ticks": ""
             }
            },
            "type": "scattergl"
           }
          ],
          "scattermapbox": [
           {
            "marker": {
             "colorbar": {
              "outlinewidth": 0,
              "ticks": ""
             }
            },
            "type": "scattermapbox"
           }
          ],
          "scatterpolar": [
           {
            "marker": {
             "colorbar": {
              "outlinewidth": 0,
              "ticks": ""
             }
            },
            "type": "scatterpolar"
           }
          ],
          "scatterpolargl": [
           {
            "marker": {
             "colorbar": {
              "outlinewidth": 0,
              "ticks": ""
             }
            },
            "type": "scatterpolargl"
           }
          ],
          "scatterternary": [
           {
            "marker": {
             "colorbar": {
              "outlinewidth": 0,
              "ticks": ""
             }
            },
            "type": "scatterternary"
           }
          ],
          "surface": [
           {
            "colorbar": {
             "outlinewidth": 0,
             "ticks": ""
            },
            "colorscale": [
             [
              0,
              "#0d0887"
             ],
             [
              0.1111111111111111,
              "#46039f"
             ],
             [
              0.2222222222222222,
              "#7201a8"
             ],
             [
              0.3333333333333333,
              "#9c179e"
             ],
             [
              0.4444444444444444,
              "#bd3786"
             ],
             [
              0.5555555555555556,
              "#d8576b"
             ],
             [
              0.6666666666666666,
              "#ed7953"
             ],
             [
              0.7777777777777778,
              "#fb9f3a"
             ],
             [
              0.8888888888888888,
              "#fdca26"
             ],
             [
              1,
              "#f0f921"
             ]
            ],
            "type": "surface"
           }
          ],
          "table": [
           {
            "cells": {
             "fill": {
              "color": "#EBF0F8"
             },
             "line": {
              "color": "white"
             }
            },
            "header": {
             "fill": {
              "color": "#C8D4E3"
             },
             "line": {
              "color": "white"
             }
            },
            "type": "table"
           }
          ]
         },
         "layout": {
          "annotationdefaults": {
           "arrowcolor": "#2a3f5f",
           "arrowhead": 0,
           "arrowwidth": 1
          },
          "colorscale": {
           "diverging": [
            [
             0,
             "#8e0152"
            ],
            [
             0.1,
             "#c51b7d"
            ],
            [
             0.2,
             "#de77ae"
            ],
            [
             0.3,
             "#f1b6da"
            ],
            [
             0.4,
             "#fde0ef"
            ],
            [
             0.5,
             "#f7f7f7"
            ],
            [
             0.6,
             "#e6f5d0"
            ],
            [
             0.7,
             "#b8e186"
            ],
            [
             0.8,
             "#7fbc41"
            ],
            [
             0.9,
             "#4d9221"
            ],
            [
             1,
             "#276419"
            ]
           ],
           "sequential": [
            [
             0,
             "#0d0887"
            ],
            [
             0.1111111111111111,
             "#46039f"
            ],
            [
             0.2222222222222222,
             "#7201a8"
            ],
            [
             0.3333333333333333,
             "#9c179e"
            ],
            [
             0.4444444444444444,
             "#bd3786"
            ],
            [
             0.5555555555555556,
             "#d8576b"
            ],
            [
             0.6666666666666666,
             "#ed7953"
            ],
            [
             0.7777777777777778,
             "#fb9f3a"
            ],
            [
             0.8888888888888888,
             "#fdca26"
            ],
            [
             1,
             "#f0f921"
            ]
           ],
           "sequentialminus": [
            [
             0,
             "#0d0887"
            ],
            [
             0.1111111111111111,
             "#46039f"
            ],
            [
             0.2222222222222222,
             "#7201a8"
            ],
            [
             0.3333333333333333,
             "#9c179e"
            ],
            [
             0.4444444444444444,
             "#bd3786"
            ],
            [
             0.5555555555555556,
             "#d8576b"
            ],
            [
             0.6666666666666666,
             "#ed7953"
            ],
            [
             0.7777777777777778,
             "#fb9f3a"
            ],
            [
             0.8888888888888888,
             "#fdca26"
            ],
            [
             1,
             "#f0f921"
            ]
           ]
          },
          "colorway": [
           "#636efa",
           "#EF553B",
           "#00cc96",
           "#ab63fa",
           "#FFA15A",
           "#19d3f3",
           "#FF6692",
           "#B6E880",
           "#FF97FF",
           "#FECB52"
          ],
          "font": {
           "color": "#2a3f5f"
          },
          "geo": {
           "bgcolor": "white",
           "lakecolor": "white",
           "landcolor": "#E5ECF6",
           "showlakes": true,
           "showland": true,
           "subunitcolor": "white"
          },
          "hoverlabel": {
           "align": "left"
          },
          "hovermode": "closest",
          "mapbox": {
           "style": "light"
          },
          "paper_bgcolor": "white",
          "plot_bgcolor": "#E5ECF6",
          "polar": {
           "angularaxis": {
            "gridcolor": "white",
            "linecolor": "white",
            "ticks": ""
           },
           "bgcolor": "#E5ECF6",
           "radialaxis": {
            "gridcolor": "white",
            "linecolor": "white",
            "ticks": ""
           }
          },
          "scene": {
           "xaxis": {
            "backgroundcolor": "#E5ECF6",
            "gridcolor": "white",
            "gridwidth": 2,
            "linecolor": "white",
            "showbackground": true,
            "ticks": "",
            "zerolinecolor": "white"
           },
           "yaxis": {
            "backgroundcolor": "#E5ECF6",
            "gridcolor": "white",
            "gridwidth": 2,
            "linecolor": "white",
            "showbackground": true,
            "ticks": "",
            "zerolinecolor": "white"
           },
           "zaxis": {
            "backgroundcolor": "#E5ECF6",
            "gridcolor": "white",
            "gridwidth": 2,
            "linecolor": "white",
            "showbackground": true,
            "ticks": "",
            "zerolinecolor": "white"
           }
          },
          "shapedefaults": {
           "line": {
            "color": "#2a3f5f"
           }
          },
          "ternary": {
           "aaxis": {
            "gridcolor": "white",
            "linecolor": "white",
            "ticks": ""
           },
           "baxis": {
            "gridcolor": "white",
            "linecolor": "white",
            "ticks": ""
           },
           "bgcolor": "#E5ECF6",
           "caxis": {
            "gridcolor": "white",
            "linecolor": "white",
            "ticks": ""
           }
          },
          "title": {
           "x": 0.05
          },
          "xaxis": {
           "automargin": true,
           "gridcolor": "white",
           "linecolor": "white",
           "ticks": "",
           "zerolinecolor": "white",
           "zerolinewidth": 2
          },
          "yaxis": {
           "automargin": true,
           "gridcolor": "white",
           "linecolor": "white",
           "ticks": "",
           "zerolinecolor": "white",
           "zerolinewidth": 2
          }
         }
        },
        "title": {
         "text": "Percentage of error for video prediction of Group 7"
        }
       }
      },
      "text/html": [
       "<div>\n",
       "        \n",
       "        \n",
       "            <div id=\"b6d545a8-eb27-49d8-ad96-f6a9efefc40a\" class=\"plotly-graph-div\" style=\"height:525px; width:100%;\"></div>\n",
       "            <script type=\"text/javascript\">\n",
       "                require([\"plotly\"], function(Plotly) {\n",
       "                    window.PLOTLYENV=window.PLOTLYENV || {};\n",
       "                    \n",
       "                if (document.getElementById(\"b6d545a8-eb27-49d8-ad96-f6a9efefc40a\")) {\n",
       "                    Plotly.newPlot(\n",
       "                        'b6d545a8-eb27-49d8-ad96-f6a9efefc40a',\n",
       "                        [{\"marker\": {\"color\": [4.598944103075929, 4.540738725018044, 4.364158598060789, 5.607532279128944, 9.636961701325578, 4.575877922254691, 4.008189020184472, 9.191796472608548, 5.4337762602074875, 7.107305264036103, 2.593355610366464, 4.21753046093762, 3.887468500213373, 4.613889423182257, 4.299631602518284, 10.398651199913903, 10.855935799397955, 4.400481575145194, 3.9192539873283163, 4.614604090513456, 5.102355826854241, 3.1168373918649035, 4.613610086346271, 4.502012121620705, 4.60928283993427, 3.9447870478507547, 4.615117929158693, 3.4028896810418834, 4.293567122493946, 4.614790823282018, 2.5908898974706873, 4.574092159218427, 4.37657435041112, 4.256158972100803, 3.549925887230225, 4.129203195832528, 3.647358181419179, 3.2506899887471126, 6.795893779881158, 2.750302569969248, 11.69511743880094, 4.601000232700809, 3.5539847916579976, 0.12733427335092593, 4.1253834650101195, 4.610998210059837, 4.593607824551136, 6.084901507123045, 4.481105787355556, 3.179105831797341, 3.7809044586998097, 4.187905960668485, 3.7282453381579805, 5.271581690929976, 7.87885510581898, 1.9128954574673385, 4.5639423325637924, 4.285586338833334, 4.160454482064198, 3.6132867097143397, 3.4436210006655847, 4.671328520207122, 3.1914020488500308, 3.5697999985472118, 4.614981287228762, 4.600382554957544, 4.611939595342568, 3.40427722214529, 4.608591780030702, 4.41749947981792, 4.50245440842352, 3.3623114062665467, 4.5922949040502345, 4.172841112405634, 3.762433815475379, 4.602266027941358, 3.975774517779731, 7.68912545281475, 3.102786220935251, 3.7487205468456755, 3.9206290232033663, 10.736047686511142, 7.853448276403699, 5.690817370274311, 4.42680362855568, 3.8257211913560667, 3.6554440856535733, 4.5811300179990075, 5.880524123431339, 3.178987335418828, 3.909113485972758, 3.9448660402136824, 2.5774522912252804, 4.595261721818783, 2.6509396085082364, 2.9425399805051087, 4.566542363560827, 2.6018573408747874, 4.526860896188976, 4.304321855228043, 4.605949323855226, 4.585826399885613, 3.311850055455678, 5.774536084971068]}, \"mode\": \"markers\", \"text\": [\"O Brother, Where Art Thou?\", \"The Twilight Saga: Breaking Dawn Part 1\", \"The Twilight Saga: Breaking Dawn Part 2\", \"Helena From the Wedding\", \"Monsters\", \"Catfish\", \"Red\", \"Freakonomics\", \"The Warrior's Way\", \"Stone\", \"Frankenweenie\", \"John Carter\", \"Dolphin Tale\", \"Penguins of Madagascar\", \"Minions\", \"Proud American\", \"Edmond\", \"Tootsie\", \"Waterworld\", \"The Lion King (2019)\", \"Crawl\", \"Stuber\", \"Midsommar\", \"Spider-Man: Far from Home\", \"Yesterday\", \"Annabelle Comes Home\", \"Toy Story 4\", \"Child's Play (2019)\", \"Anna (2019)\", \"Men in Black International\", \"Shaft (2019)\\u00a0\", \"Late Night\", \"The Secret Life of Pets 2\", \"Dark Phoenix\", \"Godzilla:King of the Monsters\", \"Rocketman\", \"Return of the Jedi\", \"Indiana Jones and the Temple of Doom\", \"The Idolmaker\", \"The Grass Harp\", \"The Grand\", \"Jaws\", \"Superman (1978)\", \"Clerks\", \"Juice\", \"He Got Game\", \"White Men Can't Jump\", \"Mulholland Drive\", \"Blue Velvet\", \"Once Upon a Time in Hollywood\", \"The Big Lebowski\", \"Train to Busan\", \"Pride and Prejudice and Zombies\", \"Dead Poets Society\", \"A Fish Called Wanda\", \"The Witches of Eastwick\", \"Ferris Bueller's Day Off\", \"Back to the Future\", \"Police Academy\", \"Trading Places\", \"Star Trek II The Wrath of Khan\", \"The Blues Brothers\", \"V For Vendetta\", \"In the Line of Fire\", \"Us\", \"The Forbidden Kingdom\", \"Rumble in the Bronx\", \"Machete\", \"Beverly Hills Cop\", \"Watchmen\", \"Jackie Brown\", \"Zombieland\", \"Mo Better Blues\", \"Thelma and Louise\", \"New Jack City\", \"The Lawnmower Man\", \"Schindler's List\", \"Four Weddings and a Funeral\", \"Get Shorty\", \"Jerry Maguire\", \"Welcome to Sarajevo\", \"Trojan War\", \"The Gingerbread Man\", \"Tumbleweeds\", \"Turn it up\", \"The Adventures of Pluto Nash\", \"The Lord of the Rings: The Return of the King\", \"Harry Potter and the Prisoner of Azkaban\", \"Stay\", \"Fast Food Nation\", \"Into the Wild\", \"The Wrestler\", \"Slumdog Millionaire\", \"Jackass 3-D\", \"Skyfall\", \"The Hunger Games: Mocking Jay - Part 1\", \"Jurassic World\", \"Shut In\", \"Molly's Game\", \"Molly's Game\", \"BlacKkKlansman\", \"BlacKkKlansman\", \"Peter Rabbit\", \"Replicas\"], \"type\": \"scatter\", \"x\": [\"O Brother, Where Art Thou?\", \"The Twilight Saga: Breaking Dawn Part 1\", \"The Twilight Saga: Breaking Dawn Part 2\", \"Helena From the Wedding\", \"Monsters\", \"Catfish\", \"Red\", \"Freakonomics\", \"The Warrior's Way\", \"Stone\", \"Frankenweenie\", \"John Carter\", \"Dolphin Tale\", \"Penguins of Madagascar\", \"Minions\", \"Proud American\", \"Edmond\", \"Tootsie\", \"Waterworld\", \"The Lion King (2019)\", \"Crawl\", \"Stuber\", \"Midsommar\", \"Spider-Man: Far from Home\", \"Yesterday\", \"Annabelle Comes Home\", \"Toy Story 4\", \"Child's Play (2019)\", \"Anna (2019)\", \"Men in Black International\", \"Shaft (2019)\\u00a0\", \"Late Night\", \"The Secret Life of Pets 2\", \"Dark Phoenix\", \"Godzilla:King of the Monsters\", \"Rocketman\", \"Return of the Jedi\", \"Indiana Jones and the Temple of Doom\", \"The Idolmaker\", \"The Grass Harp\", \"The Grand\", \"Jaws\", \"Superman (1978)\", \"Clerks\", \"Juice\", \"He Got Game\", \"White Men Can't Jump\", \"Mulholland Drive\", \"Blue Velvet\", \"Once Upon a Time in Hollywood\", \"The Big Lebowski\", \"Train to Busan\", \"Pride and Prejudice and Zombies\", \"Dead Poets Society\", \"A Fish Called Wanda\", \"The Witches of Eastwick\", \"Ferris Bueller's Day Off\", \"Back to the Future\", \"Police Academy\", \"Trading Places\", \"Star Trek II The Wrath of Khan\", \"The Blues Brothers\", \"V For Vendetta\", \"In the Line of Fire\", \"Us\", \"The Forbidden Kingdom\", \"Rumble in the Bronx\", \"Machete\", \"Beverly Hills Cop\", \"Watchmen\", \"Jackie Brown\", \"Zombieland\", \"Mo Better Blues\", \"Thelma and Louise\", \"New Jack City\", \"The Lawnmower Man\", \"Schindler's List\", \"Four Weddings and a Funeral\", \"Get Shorty\", \"Jerry Maguire\", \"Welcome to Sarajevo\", \"Trojan War\", \"The Gingerbread Man\", \"Tumbleweeds\", \"Turn it up\", \"The Adventures of Pluto Nash\", \"The Lord of the Rings: The Return of the King\", \"Harry Potter and the Prisoner of Azkaban\", \"Stay\", \"Fast Food Nation\", \"Into the Wild\", \"The Wrestler\", \"Slumdog Millionaire\", \"Jackass 3-D\", \"Skyfall\", \"The Hunger Games: Mocking Jay - Part 1\", \"Jurassic World\", \"Shut In\", \"Molly's Game\", \"Molly's Game\", \"BlacKkKlansman\", \"BlacKkKlansman\", \"Peter Rabbit\", \"Replicas\"], \"y\": [4.598944103075929, 4.540738725018044, 4.364158598060789, 5.607532279128944, 9.636961701325578, 4.575877922254691, 4.008189020184472, 9.191796472608548, 5.4337762602074875, 7.107305264036103, 2.593355610366464, 4.21753046093762, 3.887468500213373, 4.613889423182257, 4.299631602518284, 10.398651199913903, 10.855935799397955, 4.400481575145194, 3.9192539873283163, 4.614604090513456, 5.102355826854241, 3.1168373918649035, 4.613610086346271, 4.502012121620705, 4.60928283993427, 3.9447870478507547, 4.615117929158693, 3.4028896810418834, 4.293567122493946, 4.614790823282018, 2.5908898974706873, 4.574092159218427, 4.37657435041112, 4.256158972100803, 3.549925887230225, 4.129203195832528, 3.647358181419179, 3.2506899887471126, 6.795893779881158, 2.750302569969248, 11.69511743880094, 4.601000232700809, 3.5539847916579976, 0.12733427335092593, 4.1253834650101195, 4.610998210059837, 4.593607824551136, 6.084901507123045, 4.481105787355556, 3.179105831797341, 3.7809044586998097, 4.187905960668485, 3.7282453381579805, 5.271581690929976, 7.87885510581898, 1.9128954574673385, 4.5639423325637924, 4.285586338833334, 4.160454482064198, 3.6132867097143397, 3.4436210006655847, 4.671328520207122, 3.1914020488500308, 3.5697999985472118, 4.614981287228762, 4.600382554957544, 4.611939595342568, 3.40427722214529, 4.608591780030702, 4.41749947981792, 4.50245440842352, 3.3623114062665467, 4.5922949040502345, 4.172841112405634, 3.762433815475379, 4.602266027941358, 3.975774517779731, 7.68912545281475, 3.102786220935251, 3.7487205468456755, 3.9206290232033663, 10.736047686511142, 7.853448276403699, 5.690817370274311, 4.42680362855568, 3.8257211913560667, 3.6554440856535733, 4.5811300179990075, 5.880524123431339, 3.178987335418828, 3.909113485972758, 3.9448660402136824, 2.5774522912252804, 4.595261721818783, 2.6509396085082364, 2.9425399805051087, 4.566542363560827, 2.6018573408747874, 4.526860896188976, 4.304321855228043, 4.605949323855226, 4.585826399885613, 3.311850055455678, 5.774536084971068]}],\n",
       "                        {\"template\": {\"data\": {\"bar\": [{\"error_x\": {\"color\": \"#2a3f5f\"}, \"error_y\": {\"color\": \"#2a3f5f\"}, \"marker\": {\"line\": {\"color\": \"#E5ECF6\", \"width\": 0.5}}, \"type\": \"bar\"}], \"barpolar\": [{\"marker\": {\"line\": {\"color\": \"#E5ECF6\", \"width\": 0.5}}, \"type\": \"barpolar\"}], \"carpet\": [{\"aaxis\": {\"endlinecolor\": \"#2a3f5f\", \"gridcolor\": \"white\", \"linecolor\": \"white\", \"minorgridcolor\": \"white\", \"startlinecolor\": \"#2a3f5f\"}, \"baxis\": {\"endlinecolor\": \"#2a3f5f\", \"gridcolor\": \"white\", \"linecolor\": \"white\", \"minorgridcolor\": \"white\", \"startlinecolor\": \"#2a3f5f\"}, \"type\": \"carpet\"}], \"choropleth\": [{\"colorbar\": {\"outlinewidth\": 0, \"ticks\": \"\"}, \"type\": \"choropleth\"}], \"contour\": [{\"colorbar\": {\"outlinewidth\": 0, \"ticks\": \"\"}, \"colorscale\": [[0.0, \"#0d0887\"], [0.1111111111111111, \"#46039f\"], [0.2222222222222222, \"#7201a8\"], [0.3333333333333333, \"#9c179e\"], [0.4444444444444444, \"#bd3786\"], [0.5555555555555556, \"#d8576b\"], [0.6666666666666666, \"#ed7953\"], [0.7777777777777778, \"#fb9f3a\"], [0.8888888888888888, \"#fdca26\"], [1.0, \"#f0f921\"]], \"type\": \"contour\"}], \"contourcarpet\": [{\"colorbar\": {\"outlinewidth\": 0, \"ticks\": \"\"}, \"type\": \"contourcarpet\"}], \"heatmap\": [{\"colorbar\": {\"outlinewidth\": 0, \"ticks\": \"\"}, \"colorscale\": [[0.0, \"#0d0887\"], [0.1111111111111111, \"#46039f\"], [0.2222222222222222, \"#7201a8\"], [0.3333333333333333, \"#9c179e\"], [0.4444444444444444, \"#bd3786\"], [0.5555555555555556, \"#d8576b\"], [0.6666666666666666, \"#ed7953\"], [0.7777777777777778, \"#fb9f3a\"], [0.8888888888888888, \"#fdca26\"], [1.0, \"#f0f921\"]], \"type\": \"heatmap\"}], \"heatmapgl\": [{\"colorbar\": {\"outlinewidth\": 0, \"ticks\": \"\"}, \"colorscale\": [[0.0, \"#0d0887\"], [0.1111111111111111, \"#46039f\"], [0.2222222222222222, \"#7201a8\"], [0.3333333333333333, \"#9c179e\"], [0.4444444444444444, \"#bd3786\"], [0.5555555555555556, \"#d8576b\"], [0.6666666666666666, \"#ed7953\"], [0.7777777777777778, \"#fb9f3a\"], [0.8888888888888888, \"#fdca26\"], [1.0, \"#f0f921\"]], \"type\": \"heatmapgl\"}], \"histogram\": [{\"marker\": {\"colorbar\": {\"outlinewidth\": 0, \"ticks\": \"\"}}, \"type\": \"histogram\"}], \"histogram2d\": [{\"colorbar\": {\"outlinewidth\": 0, \"ticks\": \"\"}, \"colorscale\": [[0.0, \"#0d0887\"], [0.1111111111111111, \"#46039f\"], [0.2222222222222222, \"#7201a8\"], [0.3333333333333333, \"#9c179e\"], [0.4444444444444444, \"#bd3786\"], [0.5555555555555556, \"#d8576b\"], [0.6666666666666666, \"#ed7953\"], [0.7777777777777778, \"#fb9f3a\"], [0.8888888888888888, \"#fdca26\"], [1.0, \"#f0f921\"]], \"type\": \"histogram2d\"}], \"histogram2dcontour\": [{\"colorbar\": {\"outlinewidth\": 0, \"ticks\": \"\"}, \"colorscale\": [[0.0, \"#0d0887\"], [0.1111111111111111, \"#46039f\"], [0.2222222222222222, \"#7201a8\"], [0.3333333333333333, \"#9c179e\"], [0.4444444444444444, \"#bd3786\"], [0.5555555555555556, \"#d8576b\"], [0.6666666666666666, \"#ed7953\"], [0.7777777777777778, \"#fb9f3a\"], [0.8888888888888888, \"#fdca26\"], [1.0, \"#f0f921\"]], \"type\": \"histogram2dcontour\"}], \"mesh3d\": [{\"colorbar\": {\"outlinewidth\": 0, \"ticks\": \"\"}, \"type\": \"mesh3d\"}], \"parcoords\": [{\"line\": {\"colorbar\": {\"outlinewidth\": 0, \"ticks\": \"\"}}, \"type\": \"parcoords\"}], \"scatter\": [{\"marker\": {\"colorbar\": {\"outlinewidth\": 0, \"ticks\": \"\"}}, \"type\": \"scatter\"}], \"scatter3d\": [{\"line\": {\"colorbar\": {\"outlinewidth\": 0, \"ticks\": \"\"}}, \"marker\": {\"colorbar\": {\"outlinewidth\": 0, \"ticks\": \"\"}}, \"type\": \"scatter3d\"}], \"scattercarpet\": [{\"marker\": {\"colorbar\": {\"outlinewidth\": 0, \"ticks\": \"\"}}, \"type\": \"scattercarpet\"}], \"scattergeo\": [{\"marker\": {\"colorbar\": {\"outlinewidth\": 0, \"ticks\": \"\"}}, \"type\": \"scattergeo\"}], \"scattergl\": [{\"marker\": {\"colorbar\": {\"outlinewidth\": 0, \"ticks\": \"\"}}, \"type\": \"scattergl\"}], \"scattermapbox\": [{\"marker\": {\"colorbar\": {\"outlinewidth\": 0, \"ticks\": \"\"}}, \"type\": \"scattermapbox\"}], \"scatterpolar\": [{\"marker\": {\"colorbar\": {\"outlinewidth\": 0, \"ticks\": \"\"}}, \"type\": \"scatterpolar\"}], \"scatterpolargl\": [{\"marker\": {\"colorbar\": {\"outlinewidth\": 0, \"ticks\": \"\"}}, \"type\": \"scatterpolargl\"}], \"scatterternary\": [{\"marker\": {\"colorbar\": {\"outlinewidth\": 0, \"ticks\": \"\"}}, \"type\": \"scatterternary\"}], \"surface\": [{\"colorbar\": {\"outlinewidth\": 0, \"ticks\": \"\"}, \"colorscale\": [[0.0, \"#0d0887\"], [0.1111111111111111, \"#46039f\"], [0.2222222222222222, \"#7201a8\"], [0.3333333333333333, \"#9c179e\"], [0.4444444444444444, \"#bd3786\"], [0.5555555555555556, \"#d8576b\"], [0.6666666666666666, \"#ed7953\"], [0.7777777777777778, \"#fb9f3a\"], [0.8888888888888888, \"#fdca26\"], [1.0, \"#f0f921\"]], \"type\": \"surface\"}], \"table\": [{\"cells\": {\"fill\": {\"color\": \"#EBF0F8\"}, \"line\": {\"color\": \"white\"}}, \"header\": {\"fill\": {\"color\": \"#C8D4E3\"}, \"line\": {\"color\": \"white\"}}, \"type\": \"table\"}]}, \"layout\": {\"annotationdefaults\": {\"arrowcolor\": \"#2a3f5f\", \"arrowhead\": 0, \"arrowwidth\": 1}, \"colorscale\": {\"diverging\": [[0, \"#8e0152\"], [0.1, \"#c51b7d\"], [0.2, \"#de77ae\"], [0.3, \"#f1b6da\"], [0.4, \"#fde0ef\"], [0.5, \"#f7f7f7\"], [0.6, \"#e6f5d0\"], [0.7, \"#b8e186\"], [0.8, \"#7fbc41\"], [0.9, \"#4d9221\"], [1, \"#276419\"]], \"sequential\": [[0.0, \"#0d0887\"], [0.1111111111111111, \"#46039f\"], [0.2222222222222222, \"#7201a8\"], [0.3333333333333333, \"#9c179e\"], [0.4444444444444444, \"#bd3786\"], [0.5555555555555556, \"#d8576b\"], [0.6666666666666666, \"#ed7953\"], [0.7777777777777778, \"#fb9f3a\"], [0.8888888888888888, \"#fdca26\"], [1.0, \"#f0f921\"]], \"sequentialminus\": [[0.0, \"#0d0887\"], [0.1111111111111111, \"#46039f\"], [0.2222222222222222, \"#7201a8\"], [0.3333333333333333, \"#9c179e\"], [0.4444444444444444, \"#bd3786\"], [0.5555555555555556, \"#d8576b\"], [0.6666666666666666, \"#ed7953\"], [0.7777777777777778, \"#fb9f3a\"], [0.8888888888888888, \"#fdca26\"], [1.0, \"#f0f921\"]]}, \"colorway\": [\"#636efa\", \"#EF553B\", \"#00cc96\", \"#ab63fa\", \"#FFA15A\", \"#19d3f3\", \"#FF6692\", \"#B6E880\", \"#FF97FF\", \"#FECB52\"], \"font\": {\"color\": \"#2a3f5f\"}, \"geo\": {\"bgcolor\": \"white\", \"lakecolor\": \"white\", \"landcolor\": \"#E5ECF6\", \"showlakes\": true, \"showland\": true, \"subunitcolor\": \"white\"}, \"hoverlabel\": {\"align\": \"left\"}, \"hovermode\": \"closest\", \"mapbox\": {\"style\": \"light\"}, \"paper_bgcolor\": \"white\", \"plot_bgcolor\": \"#E5ECF6\", \"polar\": {\"angularaxis\": {\"gridcolor\": \"white\", \"linecolor\": \"white\", \"ticks\": \"\"}, \"bgcolor\": \"#E5ECF6\", \"radialaxis\": {\"gridcolor\": \"white\", \"linecolor\": \"white\", \"ticks\": \"\"}}, \"scene\": {\"xaxis\": {\"backgroundcolor\": \"#E5ECF6\", \"gridcolor\": \"white\", \"gridwidth\": 2, \"linecolor\": \"white\", \"showbackground\": true, \"ticks\": \"\", \"zerolinecolor\": \"white\"}, \"yaxis\": {\"backgroundcolor\": \"#E5ECF6\", \"gridcolor\": \"white\", \"gridwidth\": 2, \"linecolor\": \"white\", \"showbackground\": true, \"ticks\": \"\", \"zerolinecolor\": \"white\"}, \"zaxis\": {\"backgroundcolor\": \"#E5ECF6\", \"gridcolor\": \"white\", \"gridwidth\": 2, \"linecolor\": \"white\", \"showbackground\": true, \"ticks\": \"\", \"zerolinecolor\": \"white\"}}, \"shapedefaults\": {\"line\": {\"color\": \"#2a3f5f\"}}, \"ternary\": {\"aaxis\": {\"gridcolor\": \"white\", \"linecolor\": \"white\", \"ticks\": \"\"}, \"baxis\": {\"gridcolor\": \"white\", \"linecolor\": \"white\", \"ticks\": \"\"}, \"bgcolor\": \"#E5ECF6\", \"caxis\": {\"gridcolor\": \"white\", \"linecolor\": \"white\", \"ticks\": \"\"}}, \"title\": {\"x\": 0.05}, \"xaxis\": {\"automargin\": true, \"gridcolor\": \"white\", \"linecolor\": \"white\", \"ticks\": \"\", \"zerolinecolor\": \"white\", \"zerolinewidth\": 2}, \"yaxis\": {\"automargin\": true, \"gridcolor\": \"white\", \"linecolor\": \"white\", \"ticks\": \"\", \"zerolinecolor\": \"white\", \"zerolinewidth\": 2}}}, \"title\": {\"text\": \"Percentage of error for video prediction of Group 7\"}},\n",
       "                        {\"responsive\": true}\n",
       "                    ).then(function(){\n",
       "                            \n",
       "var gd = document.getElementById('b6d545a8-eb27-49d8-ad96-f6a9efefc40a');\n",
       "var x = new MutationObserver(function (mutations, observer) {{\n",
       "        var display = window.getComputedStyle(gd).display;\n",
       "        if (!display || display === 'none') {{\n",
       "            console.log([gd, 'removed!']);\n",
       "            Plotly.purge(gd);\n",
       "            observer.disconnect();\n",
       "        }}\n",
       "}});\n",
       "\n",
       "// Listen for the removal of the full notebook cells\n",
       "var notebookContainer = gd.closest('#notebook-container');\n",
       "if (notebookContainer) {{\n",
       "    x.observe(notebookContainer, {childList: true});\n",
       "}}\n",
       "\n",
       "// Listen for the clearing of the current output cell\n",
       "var outputEl = gd.closest('.output');\n",
       "if (outputEl) {{\n",
       "    x.observe(outputEl, {childList: true});\n",
       "}}\n",
       "\n",
       "                        })\n",
       "                };\n",
       "                });\n",
       "            </script>\n",
       "        </div>"
      ]
     },
     "metadata": {},
     "output_type": "display_data"
    }
   ],
   "source": [
    "#Percentage of error for video prediction\n",
    "g7_result_final['video_rmse_pre'] = mean_absolute_percentage_error(g7_result_final[\"ground_truth\"], g7_result_final[\"trailer_prediction\"])\n",
    "fig = go.Figure(data=go.Scatter(x=g7_result_final[\"name\"],\n",
    "                                y=g7_result_final['video_rmse_pre'],\n",
    "                                mode='markers',\n",
    "                                marker_color=g7_result_final['video_rmse_pre'],\n",
    "                                text=g7_result_final[\"name\"])) # hover text goes here(movie_title)\n",
    "\n",
    "fig.update_layout(title='Percentage of error for video prediction of Group 7')\n",
    "fig.show()"
   ]
  },
  {
   "cell_type": "code",
   "execution_count": 39,
   "metadata": {},
   "outputs": [
    {
     "data": {
      "text/plain": [
       "4.3885279627781575"
      ]
     },
     "execution_count": 39,
     "metadata": {},
     "output_type": "execute_result"
    }
   ],
   "source": [
    "# Median for Percentage of error for video prediction\n",
    "Median_video = np.median(g7_result_final['video_rmse_pre'])\n",
    "Median_video"
   ]
  },
  {
   "cell_type": "code",
   "execution_count": 40,
   "metadata": {},
   "outputs": [
    {
     "data": {
      "application/vnd.plotly.v1+json": {
       "config": {
        "plotlyServerURL": "https://plot.ly"
       },
       "data": [
        {
         "marker": {
          "color": [
           191942,
           128122261,
           109444858,
           -7308,
           -3141769,
           247285,
           11761408,
           -3130384,
           -6951335,
           -924234,
           1412213,
           20180188,
           9152401,
           25415822,
           84095629,
           -31526700,
           -9980747,
           -4459530,
           -10450996,
           191670759,
           -19617566,
           -1774616,
           6550030,
           82579212,
           16910050,
           10269723,
           120907749,
           4094594,
           2600647,
           30025838,
           -1098581,
           236305,
           36652680,
           22828348,
           16153517,
           15725722,
           -8603158,
           -6285666,
           -2843874,
           17161,
           -31596442,
           6961513,
           -2534657,
           43,
           4923638,
           7579041,
           14394897,
           -2574686,
           689409,
           9459242,
           2371567,
           184776,
           2161963,
           -659544,
           -3046859,
           -545762,
           5959420,
           7990223,
           5407730,
           -2651800,
           4347221,
           -5141848,
           -5980436,
           5269388,
           71107625,
           21084894,
           9826758,
           4102888,
           15114805,
           45214334,
           8292248,
           -6889621,
           4287360,
           -3898703,
           -2960378,
           7651971,
           -343364,
           -3023791,
           2700007,
           7084296,
           -33080,
           -99783,
           -3043999,
           -236197,
           476820,
           -979377,
           -27370287,
           90525090,
           -7811801,
           94577,
           -103787,
           102714,
           43791,
           49353641,
           -11635286,
           21897634,
           198806270,
           451290,
           1072036,
           855809,
           10745330,
           10529103,
           -6611848,
           -7624675
          ]
         },
         "mode": "markers",
         "text": [
          "O Brother, Where Art Thou?",
          "The Twilight Saga: Breaking Dawn Part 1",
          "The Twilight Saga: Breaking Dawn Part 2",
          "Helena From the Wedding",
          "Monsters",
          "Catfish",
          "Red",
          "Freakonomics",
          "The Warrior's Way",
          "Stone",
          "Frankenweenie",
          "John Carter",
          "Dolphin Tale",
          "Penguins of Madagascar",
          "Minions",
          "Proud American",
          "Edmond",
          "Tootsie",
          "Waterworld",
          "The Lion King (2019)",
          "Crawl",
          "Stuber",
          "Midsommar",
          "Spider-Man: Far from Home",
          "Yesterday",
          "Annabelle Comes Home",
          "Toy Story 4",
          "Child's Play (2019)",
          "Anna (2019)",
          "Men in Black International",
          "Shaft (2019) ",
          "Late Night",
          "The Secret Life of Pets 2",
          "Dark Phoenix",
          "Godzilla:King of the Monsters",
          "Rocketman",
          "Return of the Jedi",
          "Indiana Jones and the Temple of Doom",
          "The Idolmaker",
          "The Grass Harp",
          "The Grand",
          "Jaws",
          "Superman (1978)",
          "Clerks",
          "Juice",
          "He Got Game",
          "White Men Can't Jump",
          "Mulholland Drive",
          "Blue Velvet",
          "Once Upon a Time in Hollywood",
          "The Big Lebowski",
          "Train to Busan",
          "Pride and Prejudice and Zombies",
          "Dead Poets Society",
          "A Fish Called Wanda",
          "The Witches of Eastwick",
          "Ferris Bueller's Day Off",
          "Back to the Future",
          "Police Academy",
          "Trading Places",
          "Star Trek II The Wrath of Khan",
          "The Blues Brothers",
          "V For Vendetta",
          "In the Line of Fire",
          "Us",
          "The Forbidden Kingdom",
          "Rumble in the Bronx",
          "Machete",
          "Beverly Hills Cop",
          "Watchmen",
          "Jackie Brown",
          "Zombieland",
          "Mo Better Blues",
          "Thelma and Louise",
          "New Jack City",
          "The Lawnmower Man",
          "Schindler's List",
          "Four Weddings and a Funeral",
          "Get Shorty",
          "Jerry Maguire",
          "Welcome to Sarajevo",
          "Trojan War",
          "The Gingerbread Man",
          "Tumbleweeds",
          "Turn it up",
          "The Adventures of Pluto Nash",
          "The Lord of the Rings: The Return of the King",
          "Harry Potter and the Prisoner of Azkaban",
          "Stay",
          "Fast Food Nation",
          "Into the Wild",
          "The Wrestler",
          "Slumdog Millionaire",
          "Jackass 3-D",
          "Skyfall",
          "The Hunger Games: Mocking Jay - Part 1",
          "Jurassic World",
          "Shut In",
          "Molly's Game",
          "Molly's Game",
          "BlacKkKlansman",
          "BlacKkKlansman",
          "Peter Rabbit",
          "Replicas"
         ],
         "type": "scatter",
         "x": [
          "O Brother, Where Art Thou?",
          "The Twilight Saga: Breaking Dawn Part 1",
          "The Twilight Saga: Breaking Dawn Part 2",
          "Helena From the Wedding",
          "Monsters",
          "Catfish",
          "Red",
          "Freakonomics",
          "The Warrior's Way",
          "Stone",
          "Frankenweenie",
          "John Carter",
          "Dolphin Tale",
          "Penguins of Madagascar",
          "Minions",
          "Proud American",
          "Edmond",
          "Tootsie",
          "Waterworld",
          "The Lion King (2019)",
          "Crawl",
          "Stuber",
          "Midsommar",
          "Spider-Man: Far from Home",
          "Yesterday",
          "Annabelle Comes Home",
          "Toy Story 4",
          "Child's Play (2019)",
          "Anna (2019)",
          "Men in Black International",
          "Shaft (2019) ",
          "Late Night",
          "The Secret Life of Pets 2",
          "Dark Phoenix",
          "Godzilla:King of the Monsters",
          "Rocketman",
          "Return of the Jedi",
          "Indiana Jones and the Temple of Doom",
          "The Idolmaker",
          "The Grass Harp",
          "The Grand",
          "Jaws",
          "Superman (1978)",
          "Clerks",
          "Juice",
          "He Got Game",
          "White Men Can't Jump",
          "Mulholland Drive",
          "Blue Velvet",
          "Once Upon a Time in Hollywood",
          "The Big Lebowski",
          "Train to Busan",
          "Pride and Prejudice and Zombies",
          "Dead Poets Society",
          "A Fish Called Wanda",
          "The Witches of Eastwick",
          "Ferris Bueller's Day Off",
          "Back to the Future",
          "Police Academy",
          "Trading Places",
          "Star Trek II The Wrath of Khan",
          "The Blues Brothers",
          "V For Vendetta",
          "In the Line of Fire",
          "Us",
          "The Forbidden Kingdom",
          "Rumble in the Bronx",
          "Machete",
          "Beverly Hills Cop",
          "Watchmen",
          "Jackie Brown",
          "Zombieland",
          "Mo Better Blues",
          "Thelma and Louise",
          "New Jack City",
          "The Lawnmower Man",
          "Schindler's List",
          "Four Weddings and a Funeral",
          "Get Shorty",
          "Jerry Maguire",
          "Welcome to Sarajevo",
          "Trojan War",
          "The Gingerbread Man",
          "Tumbleweeds",
          "Turn it up",
          "The Adventures of Pluto Nash",
          "The Lord of the Rings: The Return of the King",
          "Harry Potter and the Prisoner of Azkaban",
          "Stay",
          "Fast Food Nation",
          "Into the Wild",
          "The Wrestler",
          "Slumdog Millionaire",
          "Jackass 3-D",
          "Skyfall",
          "The Hunger Games: Mocking Jay - Part 1",
          "Jurassic World",
          "Shut In",
          "Molly's Game",
          "Molly's Game",
          "BlacKkKlansman",
          "BlacKkKlansman",
          "Peter Rabbit",
          "Replicas"
         ],
         "y": [
          191942,
          128122261,
          109444858,
          -7308,
          -3141769,
          247285,
          11761408,
          -3130384,
          -6951335,
          -924234,
          1412213,
          20180188,
          9152401,
          25415822,
          84095629,
          -31526700,
          -9980747,
          -4459530,
          -10450996,
          191670759,
          -19617566,
          -1774616,
          6550030,
          82579212,
          16910050,
          10269723,
          120907749,
          4094594,
          2600647,
          30025838,
          -1098581,
          236305,
          36652680,
          22828348,
          16153517,
          15725722,
          -8603158,
          -6285666,
          -2843874,
          17161,
          -31596442,
          6961513,
          -2534657,
          43,
          4923638,
          7579041,
          14394897,
          -2574686,
          689409,
          9459242,
          2371567,
          184776,
          2161963,
          -659544,
          -3046859,
          -545762,
          5959420,
          7990223,
          5407730,
          -2651800,
          4347221,
          -5141848,
          -5980436,
          5269388,
          71107625,
          21084894,
          9826758,
          4102888,
          15114805,
          45214334,
          8292248,
          -6889621,
          4287360,
          -3898703,
          -2960378,
          7651971,
          -343364,
          -3023791,
          2700007,
          7084296,
          -33080,
          -99783,
          -3043999,
          -236197,
          476820,
          -979377,
          -27370287,
          90525090,
          -7811801,
          94577,
          -103787,
          102714,
          43791,
          49353641,
          -11635286,
          21897634,
          198806270,
          451290,
          1072036,
          855809,
          10745330,
          10529103,
          -6611848,
          -7624675
         ]
        }
       ],
       "layout": {
        "template": {
         "data": {
          "bar": [
           {
            "error_x": {
             "color": "#2a3f5f"
            },
            "error_y": {
             "color": "#2a3f5f"
            },
            "marker": {
             "line": {
              "color": "#E5ECF6",
              "width": 0.5
             }
            },
            "type": "bar"
           }
          ],
          "barpolar": [
           {
            "marker": {
             "line": {
              "color": "#E5ECF6",
              "width": 0.5
             }
            },
            "type": "barpolar"
           }
          ],
          "carpet": [
           {
            "aaxis": {
             "endlinecolor": "#2a3f5f",
             "gridcolor": "white",
             "linecolor": "white",
             "minorgridcolor": "white",
             "startlinecolor": "#2a3f5f"
            },
            "baxis": {
             "endlinecolor": "#2a3f5f",
             "gridcolor": "white",
             "linecolor": "white",
             "minorgridcolor": "white",
             "startlinecolor": "#2a3f5f"
            },
            "type": "carpet"
           }
          ],
          "choropleth": [
           {
            "colorbar": {
             "outlinewidth": 0,
             "ticks": ""
            },
            "type": "choropleth"
           }
          ],
          "contour": [
           {
            "colorbar": {
             "outlinewidth": 0,
             "ticks": ""
            },
            "colorscale": [
             [
              0,
              "#0d0887"
             ],
             [
              0.1111111111111111,
              "#46039f"
             ],
             [
              0.2222222222222222,
              "#7201a8"
             ],
             [
              0.3333333333333333,
              "#9c179e"
             ],
             [
              0.4444444444444444,
              "#bd3786"
             ],
             [
              0.5555555555555556,
              "#d8576b"
             ],
             [
              0.6666666666666666,
              "#ed7953"
             ],
             [
              0.7777777777777778,
              "#fb9f3a"
             ],
             [
              0.8888888888888888,
              "#fdca26"
             ],
             [
              1,
              "#f0f921"
             ]
            ],
            "type": "contour"
           }
          ],
          "contourcarpet": [
           {
            "colorbar": {
             "outlinewidth": 0,
             "ticks": ""
            },
            "type": "contourcarpet"
           }
          ],
          "heatmap": [
           {
            "colorbar": {
             "outlinewidth": 0,
             "ticks": ""
            },
            "colorscale": [
             [
              0,
              "#0d0887"
             ],
             [
              0.1111111111111111,
              "#46039f"
             ],
             [
              0.2222222222222222,
              "#7201a8"
             ],
             [
              0.3333333333333333,
              "#9c179e"
             ],
             [
              0.4444444444444444,
              "#bd3786"
             ],
             [
              0.5555555555555556,
              "#d8576b"
             ],
             [
              0.6666666666666666,
              "#ed7953"
             ],
             [
              0.7777777777777778,
              "#fb9f3a"
             ],
             [
              0.8888888888888888,
              "#fdca26"
             ],
             [
              1,
              "#f0f921"
             ]
            ],
            "type": "heatmap"
           }
          ],
          "heatmapgl": [
           {
            "colorbar": {
             "outlinewidth": 0,
             "ticks": ""
            },
            "colorscale": [
             [
              0,
              "#0d0887"
             ],
             [
              0.1111111111111111,
              "#46039f"
             ],
             [
              0.2222222222222222,
              "#7201a8"
             ],
             [
              0.3333333333333333,
              "#9c179e"
             ],
             [
              0.4444444444444444,
              "#bd3786"
             ],
             [
              0.5555555555555556,
              "#d8576b"
             ],
             [
              0.6666666666666666,
              "#ed7953"
             ],
             [
              0.7777777777777778,
              "#fb9f3a"
             ],
             [
              0.8888888888888888,
              "#fdca26"
             ],
             [
              1,
              "#f0f921"
             ]
            ],
            "type": "heatmapgl"
           }
          ],
          "histogram": [
           {
            "marker": {
             "colorbar": {
              "outlinewidth": 0,
              "ticks": ""
             }
            },
            "type": "histogram"
           }
          ],
          "histogram2d": [
           {
            "colorbar": {
             "outlinewidth": 0,
             "ticks": ""
            },
            "colorscale": [
             [
              0,
              "#0d0887"
             ],
             [
              0.1111111111111111,
              "#46039f"
             ],
             [
              0.2222222222222222,
              "#7201a8"
             ],
             [
              0.3333333333333333,
              "#9c179e"
             ],
             [
              0.4444444444444444,
              "#bd3786"
             ],
             [
              0.5555555555555556,
              "#d8576b"
             ],
             [
              0.6666666666666666,
              "#ed7953"
             ],
             [
              0.7777777777777778,
              "#fb9f3a"
             ],
             [
              0.8888888888888888,
              "#fdca26"
             ],
             [
              1,
              "#f0f921"
             ]
            ],
            "type": "histogram2d"
           }
          ],
          "histogram2dcontour": [
           {
            "colorbar": {
             "outlinewidth": 0,
             "ticks": ""
            },
            "colorscale": [
             [
              0,
              "#0d0887"
             ],
             [
              0.1111111111111111,
              "#46039f"
             ],
             [
              0.2222222222222222,
              "#7201a8"
             ],
             [
              0.3333333333333333,
              "#9c179e"
             ],
             [
              0.4444444444444444,
              "#bd3786"
             ],
             [
              0.5555555555555556,
              "#d8576b"
             ],
             [
              0.6666666666666666,
              "#ed7953"
             ],
             [
              0.7777777777777778,
              "#fb9f3a"
             ],
             [
              0.8888888888888888,
              "#fdca26"
             ],
             [
              1,
              "#f0f921"
             ]
            ],
            "type": "histogram2dcontour"
           }
          ],
          "mesh3d": [
           {
            "colorbar": {
             "outlinewidth": 0,
             "ticks": ""
            },
            "type": "mesh3d"
           }
          ],
          "parcoords": [
           {
            "line": {
             "colorbar": {
              "outlinewidth": 0,
              "ticks": ""
             }
            },
            "type": "parcoords"
           }
          ],
          "scatter": [
           {
            "marker": {
             "colorbar": {
              "outlinewidth": 0,
              "ticks": ""
             }
            },
            "type": "scatter"
           }
          ],
          "scatter3d": [
           {
            "line": {
             "colorbar": {
              "outlinewidth": 0,
              "ticks": ""
             }
            },
            "marker": {
             "colorbar": {
              "outlinewidth": 0,
              "ticks": ""
             }
            },
            "type": "scatter3d"
           }
          ],
          "scattercarpet": [
           {
            "marker": {
             "colorbar": {
              "outlinewidth": 0,
              "ticks": ""
             }
            },
            "type": "scattercarpet"
           }
          ],
          "scattergeo": [
           {
            "marker": {
             "colorbar": {
              "outlinewidth": 0,
              "ticks": ""
             }
            },
            "type": "scattergeo"
           }
          ],
          "scattergl": [
           {
            "marker": {
             "colorbar": {
              "outlinewidth": 0,
              "ticks": ""
             }
            },
            "type": "scattergl"
           }
          ],
          "scattermapbox": [
           {
            "marker": {
             "colorbar": {
              "outlinewidth": 0,
              "ticks": ""
             }
            },
            "type": "scattermapbox"
           }
          ],
          "scatterpolar": [
           {
            "marker": {
             "colorbar": {
              "outlinewidth": 0,
              "ticks": ""
             }
            },
            "type": "scatterpolar"
           }
          ],
          "scatterpolargl": [
           {
            "marker": {
             "colorbar": {
              "outlinewidth": 0,
              "ticks": ""
             }
            },
            "type": "scatterpolargl"
           }
          ],
          "scatterternary": [
           {
            "marker": {
             "colorbar": {
              "outlinewidth": 0,
              "ticks": ""
             }
            },
            "type": "scatterternary"
           }
          ],
          "surface": [
           {
            "colorbar": {
             "outlinewidth": 0,
             "ticks": ""
            },
            "colorscale": [
             [
              0,
              "#0d0887"
             ],
             [
              0.1111111111111111,
              "#46039f"
             ],
             [
              0.2222222222222222,
              "#7201a8"
             ],
             [
              0.3333333333333333,
              "#9c179e"
             ],
             [
              0.4444444444444444,
              "#bd3786"
             ],
             [
              0.5555555555555556,
              "#d8576b"
             ],
             [
              0.6666666666666666,
              "#ed7953"
             ],
             [
              0.7777777777777778,
              "#fb9f3a"
             ],
             [
              0.8888888888888888,
              "#fdca26"
             ],
             [
              1,
              "#f0f921"
             ]
            ],
            "type": "surface"
           }
          ],
          "table": [
           {
            "cells": {
             "fill": {
              "color": "#EBF0F8"
             },
             "line": {
              "color": "white"
             }
            },
            "header": {
             "fill": {
              "color": "#C8D4E3"
             },
             "line": {
              "color": "white"
             }
            },
            "type": "table"
           }
          ]
         },
         "layout": {
          "annotationdefaults": {
           "arrowcolor": "#2a3f5f",
           "arrowhead": 0,
           "arrowwidth": 1
          },
          "colorscale": {
           "diverging": [
            [
             0,
             "#8e0152"
            ],
            [
             0.1,
             "#c51b7d"
            ],
            [
             0.2,
             "#de77ae"
            ],
            [
             0.3,
             "#f1b6da"
            ],
            [
             0.4,
             "#fde0ef"
            ],
            [
             0.5,
             "#f7f7f7"
            ],
            [
             0.6,
             "#e6f5d0"
            ],
            [
             0.7,
             "#b8e186"
            ],
            [
             0.8,
             "#7fbc41"
            ],
            [
             0.9,
             "#4d9221"
            ],
            [
             1,
             "#276419"
            ]
           ],
           "sequential": [
            [
             0,
             "#0d0887"
            ],
            [
             0.1111111111111111,
             "#46039f"
            ],
            [
             0.2222222222222222,
             "#7201a8"
            ],
            [
             0.3333333333333333,
             "#9c179e"
            ],
            [
             0.4444444444444444,
             "#bd3786"
            ],
            [
             0.5555555555555556,
             "#d8576b"
            ],
            [
             0.6666666666666666,
             "#ed7953"
            ],
            [
             0.7777777777777778,
             "#fb9f3a"
            ],
            [
             0.8888888888888888,
             "#fdca26"
            ],
            [
             1,
             "#f0f921"
            ]
           ],
           "sequentialminus": [
            [
             0,
             "#0d0887"
            ],
            [
             0.1111111111111111,
             "#46039f"
            ],
            [
             0.2222222222222222,
             "#7201a8"
            ],
            [
             0.3333333333333333,
             "#9c179e"
            ],
            [
             0.4444444444444444,
             "#bd3786"
            ],
            [
             0.5555555555555556,
             "#d8576b"
            ],
            [
             0.6666666666666666,
             "#ed7953"
            ],
            [
             0.7777777777777778,
             "#fb9f3a"
            ],
            [
             0.8888888888888888,
             "#fdca26"
            ],
            [
             1,
             "#f0f921"
            ]
           ]
          },
          "colorway": [
           "#636efa",
           "#EF553B",
           "#00cc96",
           "#ab63fa",
           "#FFA15A",
           "#19d3f3",
           "#FF6692",
           "#B6E880",
           "#FF97FF",
           "#FECB52"
          ],
          "font": {
           "color": "#2a3f5f"
          },
          "geo": {
           "bgcolor": "white",
           "lakecolor": "white",
           "landcolor": "#E5ECF6",
           "showlakes": true,
           "showland": true,
           "subunitcolor": "white"
          },
          "hoverlabel": {
           "align": "left"
          },
          "hovermode": "closest",
          "mapbox": {
           "style": "light"
          },
          "paper_bgcolor": "white",
          "plot_bgcolor": "#E5ECF6",
          "polar": {
           "angularaxis": {
            "gridcolor": "white",
            "linecolor": "white",
            "ticks": ""
           },
           "bgcolor": "#E5ECF6",
           "radialaxis": {
            "gridcolor": "white",
            "linecolor": "white",
            "ticks": ""
           }
          },
          "scene": {
           "xaxis": {
            "backgroundcolor": "#E5ECF6",
            "gridcolor": "white",
            "gridwidth": 2,
            "linecolor": "white",
            "showbackground": true,
            "ticks": "",
            "zerolinecolor": "white"
           },
           "yaxis": {
            "backgroundcolor": "#E5ECF6",
            "gridcolor": "white",
            "gridwidth": 2,
            "linecolor": "white",
            "showbackground": true,
            "ticks": "",
            "zerolinecolor": "white"
           },
           "zaxis": {
            "backgroundcolor": "#E5ECF6",
            "gridcolor": "white",
            "gridwidth": 2,
            "linecolor": "white",
            "showbackground": true,
            "ticks": "",
            "zerolinecolor": "white"
           }
          },
          "shapedefaults": {
           "line": {
            "color": "#2a3f5f"
           }
          },
          "ternary": {
           "aaxis": {
            "gridcolor": "white",
            "linecolor": "white",
            "ticks": ""
           },
           "baxis": {
            "gridcolor": "white",
            "linecolor": "white",
            "ticks": ""
           },
           "bgcolor": "#E5ECF6",
           "caxis": {
            "gridcolor": "white",
            "linecolor": "white",
            "ticks": ""
           }
          },
          "title": {
           "x": 0.05
          },
          "xaxis": {
           "automargin": true,
           "gridcolor": "white",
           "linecolor": "white",
           "ticks": "",
           "zerolinecolor": "white",
           "zerolinewidth": 2
          },
          "yaxis": {
           "automargin": true,
           "gridcolor": "white",
           "linecolor": "white",
           "ticks": "",
           "zerolinecolor": "white",
           "zerolinewidth": 2
          }
         }
        },
        "title": {
         "text": "Video residual plot of Group 7"
        }
       }
      },
      "text/html": [
       "<div>\n",
       "        \n",
       "        \n",
       "            <div id=\"f0bb166f-7d8e-4592-99ed-49b7ed3eb0d1\" class=\"plotly-graph-div\" style=\"height:525px; width:100%;\"></div>\n",
       "            <script type=\"text/javascript\">\n",
       "                require([\"plotly\"], function(Plotly) {\n",
       "                    window.PLOTLYENV=window.PLOTLYENV || {};\n",
       "                    \n",
       "                if (document.getElementById(\"f0bb166f-7d8e-4592-99ed-49b7ed3eb0d1\")) {\n",
       "                    Plotly.newPlot(\n",
       "                        'f0bb166f-7d8e-4592-99ed-49b7ed3eb0d1',\n",
       "                        [{\"marker\": {\"color\": [191942.0, 128122261.0, 109444858.0, -7308.0, -3141769.0, 247285.0, 11761408.0, -3130384.0, -6951335.0, -924234.0, 1412213.0, 20180188.0, 9152401.0, 25415822.0, 84095629.0, -31526700.0, -9980747.0, -4459530.0, -10450996.0, 191670759.0, -19617566.0, -1774616.0, 6550030.0, 82579212.0, 16910050.0, 10269723.0, 120907749.0, 4094594.0, 2600647.0, 30025838.0, -1098581.0, 236305.0, 36652680.0, 22828348.0, 16153517.0, 15725722.0, -8603158.0, -6285666.0, -2843874.0, 17161.0, -31596442.0, 6961513.0, -2534657.0, 43.0, 4923638.0, 7579041.0, 14394897.0, -2574686.0, 689409.0, 9459242.0, 2371567.0, 184776.0, 2161963.0, -659544.0, -3046859.0, -545762.0, 5959420.0, 7990223.0, 5407730.0, -2651800.0, 4347221.0, -5141848.0, -5980436.0, 5269388.0, 71107625.0, 21084894.0, 9826758.0, 4102888.0, 15114805.0, 45214334.0, 8292248.0, -6889621.0, 4287360.0, -3898703.0, -2960378.0, 7651971.0, -343364.0, -3023791.0, 2700007.0, 7084296.0, -33080.0, -99783.0, -3043999.0, -236197.0, 476820.0, -979377.0, -27370287.0, 90525090.0, -7811801.0, 94577.0, -103787.0, 102714.0, 43791.0, 49353641.0, -11635286.0, 21897634.0, 198806270.0, 451290.0, 1072036.0, 855809.0, 10745330.0, 10529103.0, -6611848.0, -7624675.0]}, \"mode\": \"markers\", \"text\": [\"O Brother, Where Art Thou?\", \"The Twilight Saga: Breaking Dawn Part 1\", \"The Twilight Saga: Breaking Dawn Part 2\", \"Helena From the Wedding\", \"Monsters\", \"Catfish\", \"Red\", \"Freakonomics\", \"The Warrior's Way\", \"Stone\", \"Frankenweenie\", \"John Carter\", \"Dolphin Tale\", \"Penguins of Madagascar\", \"Minions\", \"Proud American\", \"Edmond\", \"Tootsie\", \"Waterworld\", \"The Lion King (2019)\", \"Crawl\", \"Stuber\", \"Midsommar\", \"Spider-Man: Far from Home\", \"Yesterday\", \"Annabelle Comes Home\", \"Toy Story 4\", \"Child's Play (2019)\", \"Anna (2019)\", \"Men in Black International\", \"Shaft (2019)\\u00a0\", \"Late Night\", \"The Secret Life of Pets 2\", \"Dark Phoenix\", \"Godzilla:King of the Monsters\", \"Rocketman\", \"Return of the Jedi\", \"Indiana Jones and the Temple of Doom\", \"The Idolmaker\", \"The Grass Harp\", \"The Grand\", \"Jaws\", \"Superman (1978)\", \"Clerks\", \"Juice\", \"He Got Game\", \"White Men Can't Jump\", \"Mulholland Drive\", \"Blue Velvet\", \"Once Upon a Time in Hollywood\", \"The Big Lebowski\", \"Train to Busan\", \"Pride and Prejudice and Zombies\", \"Dead Poets Society\", \"A Fish Called Wanda\", \"The Witches of Eastwick\", \"Ferris Bueller's Day Off\", \"Back to the Future\", \"Police Academy\", \"Trading Places\", \"Star Trek II The Wrath of Khan\", \"The Blues Brothers\", \"V For Vendetta\", \"In the Line of Fire\", \"Us\", \"The Forbidden Kingdom\", \"Rumble in the Bronx\", \"Machete\", \"Beverly Hills Cop\", \"Watchmen\", \"Jackie Brown\", \"Zombieland\", \"Mo Better Blues\", \"Thelma and Louise\", \"New Jack City\", \"The Lawnmower Man\", \"Schindler's List\", \"Four Weddings and a Funeral\", \"Get Shorty\", \"Jerry Maguire\", \"Welcome to Sarajevo\", \"Trojan War\", \"The Gingerbread Man\", \"Tumbleweeds\", \"Turn it up\", \"The Adventures of Pluto Nash\", \"The Lord of the Rings: The Return of the King\", \"Harry Potter and the Prisoner of Azkaban\", \"Stay\", \"Fast Food Nation\", \"Into the Wild\", \"The Wrestler\", \"Slumdog Millionaire\", \"Jackass 3-D\", \"Skyfall\", \"The Hunger Games: Mocking Jay - Part 1\", \"Jurassic World\", \"Shut In\", \"Molly's Game\", \"Molly's Game\", \"BlacKkKlansman\", \"BlacKkKlansman\", \"Peter Rabbit\", \"Replicas\"], \"type\": \"scatter\", \"x\": [\"O Brother, Where Art Thou?\", \"The Twilight Saga: Breaking Dawn Part 1\", \"The Twilight Saga: Breaking Dawn Part 2\", \"Helena From the Wedding\", \"Monsters\", \"Catfish\", \"Red\", \"Freakonomics\", \"The Warrior's Way\", \"Stone\", \"Frankenweenie\", \"John Carter\", \"Dolphin Tale\", \"Penguins of Madagascar\", \"Minions\", \"Proud American\", \"Edmond\", \"Tootsie\", \"Waterworld\", \"The Lion King (2019)\", \"Crawl\", \"Stuber\", \"Midsommar\", \"Spider-Man: Far from Home\", \"Yesterday\", \"Annabelle Comes Home\", \"Toy Story 4\", \"Child's Play (2019)\", \"Anna (2019)\", \"Men in Black International\", \"Shaft (2019)\\u00a0\", \"Late Night\", \"The Secret Life of Pets 2\", \"Dark Phoenix\", \"Godzilla:King of the Monsters\", \"Rocketman\", \"Return of the Jedi\", \"Indiana Jones and the Temple of Doom\", \"The Idolmaker\", \"The Grass Harp\", \"The Grand\", \"Jaws\", \"Superman (1978)\", \"Clerks\", \"Juice\", \"He Got Game\", \"White Men Can't Jump\", \"Mulholland Drive\", \"Blue Velvet\", \"Once Upon a Time in Hollywood\", \"The Big Lebowski\", \"Train to Busan\", \"Pride and Prejudice and Zombies\", \"Dead Poets Society\", \"A Fish Called Wanda\", \"The Witches of Eastwick\", \"Ferris Bueller's Day Off\", \"Back to the Future\", \"Police Academy\", \"Trading Places\", \"Star Trek II The Wrath of Khan\", \"The Blues Brothers\", \"V For Vendetta\", \"In the Line of Fire\", \"Us\", \"The Forbidden Kingdom\", \"Rumble in the Bronx\", \"Machete\", \"Beverly Hills Cop\", \"Watchmen\", \"Jackie Brown\", \"Zombieland\", \"Mo Better Blues\", \"Thelma and Louise\", \"New Jack City\", \"The Lawnmower Man\", \"Schindler's List\", \"Four Weddings and a Funeral\", \"Get Shorty\", \"Jerry Maguire\", \"Welcome to Sarajevo\", \"Trojan War\", \"The Gingerbread Man\", \"Tumbleweeds\", \"Turn it up\", \"The Adventures of Pluto Nash\", \"The Lord of the Rings: The Return of the King\", \"Harry Potter and the Prisoner of Azkaban\", \"Stay\", \"Fast Food Nation\", \"Into the Wild\", \"The Wrestler\", \"Slumdog Millionaire\", \"Jackass 3-D\", \"Skyfall\", \"The Hunger Games: Mocking Jay - Part 1\", \"Jurassic World\", \"Shut In\", \"Molly's Game\", \"Molly's Game\", \"BlacKkKlansman\", \"BlacKkKlansman\", \"Peter Rabbit\", \"Replicas\"], \"y\": [191942.0, 128122261.0, 109444858.0, -7308.0, -3141769.0, 247285.0, 11761408.0, -3130384.0, -6951335.0, -924234.0, 1412213.0, 20180188.0, 9152401.0, 25415822.0, 84095629.0, -31526700.0, -9980747.0, -4459530.0, -10450996.0, 191670759.0, -19617566.0, -1774616.0, 6550030.0, 82579212.0, 16910050.0, 10269723.0, 120907749.0, 4094594.0, 2600647.0, 30025838.0, -1098581.0, 236305.0, 36652680.0, 22828348.0, 16153517.0, 15725722.0, -8603158.0, -6285666.0, -2843874.0, 17161.0, -31596442.0, 6961513.0, -2534657.0, 43.0, 4923638.0, 7579041.0, 14394897.0, -2574686.0, 689409.0, 9459242.0, 2371567.0, 184776.0, 2161963.0, -659544.0, -3046859.0, -545762.0, 5959420.0, 7990223.0, 5407730.0, -2651800.0, 4347221.0, -5141848.0, -5980436.0, 5269388.0, 71107625.0, 21084894.0, 9826758.0, 4102888.0, 15114805.0, 45214334.0, 8292248.0, -6889621.0, 4287360.0, -3898703.0, -2960378.0, 7651971.0, -343364.0, -3023791.0, 2700007.0, 7084296.0, -33080.0, -99783.0, -3043999.0, -236197.0, 476820.0, -979377.0, -27370287.0, 90525090.0, -7811801.0, 94577.0, -103787.0, 102714.0, 43791.0, 49353641.0, -11635286.0, 21897634.0, 198806270.0, 451290.0, 1072036.0, 855809.0, 10745330.0, 10529103.0, -6611848.0, -7624675.0]}],\n",
       "                        {\"template\": {\"data\": {\"bar\": [{\"error_x\": {\"color\": \"#2a3f5f\"}, \"error_y\": {\"color\": \"#2a3f5f\"}, \"marker\": {\"line\": {\"color\": \"#E5ECF6\", \"width\": 0.5}}, \"type\": \"bar\"}], \"barpolar\": [{\"marker\": {\"line\": {\"color\": \"#E5ECF6\", \"width\": 0.5}}, \"type\": \"barpolar\"}], \"carpet\": [{\"aaxis\": {\"endlinecolor\": \"#2a3f5f\", \"gridcolor\": \"white\", \"linecolor\": \"white\", \"minorgridcolor\": \"white\", \"startlinecolor\": \"#2a3f5f\"}, \"baxis\": {\"endlinecolor\": \"#2a3f5f\", \"gridcolor\": \"white\", \"linecolor\": \"white\", \"minorgridcolor\": \"white\", \"startlinecolor\": \"#2a3f5f\"}, \"type\": \"carpet\"}], \"choropleth\": [{\"colorbar\": {\"outlinewidth\": 0, \"ticks\": \"\"}, \"type\": \"choropleth\"}], \"contour\": [{\"colorbar\": {\"outlinewidth\": 0, \"ticks\": \"\"}, \"colorscale\": [[0.0, \"#0d0887\"], [0.1111111111111111, \"#46039f\"], [0.2222222222222222, \"#7201a8\"], [0.3333333333333333, \"#9c179e\"], [0.4444444444444444, \"#bd3786\"], [0.5555555555555556, \"#d8576b\"], [0.6666666666666666, \"#ed7953\"], [0.7777777777777778, \"#fb9f3a\"], [0.8888888888888888, \"#fdca26\"], [1.0, \"#f0f921\"]], \"type\": \"contour\"}], \"contourcarpet\": [{\"colorbar\": {\"outlinewidth\": 0, \"ticks\": \"\"}, \"type\": \"contourcarpet\"}], \"heatmap\": [{\"colorbar\": {\"outlinewidth\": 0, \"ticks\": \"\"}, \"colorscale\": [[0.0, \"#0d0887\"], [0.1111111111111111, \"#46039f\"], [0.2222222222222222, \"#7201a8\"], [0.3333333333333333, \"#9c179e\"], [0.4444444444444444, \"#bd3786\"], [0.5555555555555556, \"#d8576b\"], [0.6666666666666666, \"#ed7953\"], [0.7777777777777778, \"#fb9f3a\"], [0.8888888888888888, \"#fdca26\"], [1.0, \"#f0f921\"]], \"type\": \"heatmap\"}], \"heatmapgl\": [{\"colorbar\": {\"outlinewidth\": 0, \"ticks\": \"\"}, \"colorscale\": [[0.0, \"#0d0887\"], [0.1111111111111111, \"#46039f\"], [0.2222222222222222, \"#7201a8\"], [0.3333333333333333, \"#9c179e\"], [0.4444444444444444, \"#bd3786\"], [0.5555555555555556, \"#d8576b\"], [0.6666666666666666, \"#ed7953\"], [0.7777777777777778, \"#fb9f3a\"], [0.8888888888888888, \"#fdca26\"], [1.0, \"#f0f921\"]], \"type\": \"heatmapgl\"}], \"histogram\": [{\"marker\": {\"colorbar\": {\"outlinewidth\": 0, \"ticks\": \"\"}}, \"type\": \"histogram\"}], \"histogram2d\": [{\"colorbar\": {\"outlinewidth\": 0, \"ticks\": \"\"}, \"colorscale\": [[0.0, \"#0d0887\"], [0.1111111111111111, \"#46039f\"], [0.2222222222222222, \"#7201a8\"], [0.3333333333333333, \"#9c179e\"], [0.4444444444444444, \"#bd3786\"], [0.5555555555555556, \"#d8576b\"], [0.6666666666666666, \"#ed7953\"], [0.7777777777777778, \"#fb9f3a\"], [0.8888888888888888, \"#fdca26\"], [1.0, \"#f0f921\"]], \"type\": \"histogram2d\"}], \"histogram2dcontour\": [{\"colorbar\": {\"outlinewidth\": 0, \"ticks\": \"\"}, \"colorscale\": [[0.0, \"#0d0887\"], [0.1111111111111111, \"#46039f\"], [0.2222222222222222, \"#7201a8\"], [0.3333333333333333, \"#9c179e\"], [0.4444444444444444, \"#bd3786\"], [0.5555555555555556, \"#d8576b\"], [0.6666666666666666, \"#ed7953\"], [0.7777777777777778, \"#fb9f3a\"], [0.8888888888888888, \"#fdca26\"], [1.0, \"#f0f921\"]], \"type\": \"histogram2dcontour\"}], \"mesh3d\": [{\"colorbar\": {\"outlinewidth\": 0, \"ticks\": \"\"}, \"type\": \"mesh3d\"}], \"parcoords\": [{\"line\": {\"colorbar\": {\"outlinewidth\": 0, \"ticks\": \"\"}}, \"type\": \"parcoords\"}], \"scatter\": [{\"marker\": {\"colorbar\": {\"outlinewidth\": 0, \"ticks\": \"\"}}, \"type\": \"scatter\"}], \"scatter3d\": [{\"line\": {\"colorbar\": {\"outlinewidth\": 0, \"ticks\": \"\"}}, \"marker\": {\"colorbar\": {\"outlinewidth\": 0, \"ticks\": \"\"}}, \"type\": \"scatter3d\"}], \"scattercarpet\": [{\"marker\": {\"colorbar\": {\"outlinewidth\": 0, \"ticks\": \"\"}}, \"type\": \"scattercarpet\"}], \"scattergeo\": [{\"marker\": {\"colorbar\": {\"outlinewidth\": 0, \"ticks\": \"\"}}, \"type\": \"scattergeo\"}], \"scattergl\": [{\"marker\": {\"colorbar\": {\"outlinewidth\": 0, \"ticks\": \"\"}}, \"type\": \"scattergl\"}], \"scattermapbox\": [{\"marker\": {\"colorbar\": {\"outlinewidth\": 0, \"ticks\": \"\"}}, \"type\": \"scattermapbox\"}], \"scatterpolar\": [{\"marker\": {\"colorbar\": {\"outlinewidth\": 0, \"ticks\": \"\"}}, \"type\": \"scatterpolar\"}], \"scatterpolargl\": [{\"marker\": {\"colorbar\": {\"outlinewidth\": 0, \"ticks\": \"\"}}, \"type\": \"scatterpolargl\"}], \"scatterternary\": [{\"marker\": {\"colorbar\": {\"outlinewidth\": 0, \"ticks\": \"\"}}, \"type\": \"scatterternary\"}], \"surface\": [{\"colorbar\": {\"outlinewidth\": 0, \"ticks\": \"\"}, \"colorscale\": [[0.0, \"#0d0887\"], [0.1111111111111111, \"#46039f\"], [0.2222222222222222, \"#7201a8\"], [0.3333333333333333, \"#9c179e\"], [0.4444444444444444, \"#bd3786\"], [0.5555555555555556, \"#d8576b\"], [0.6666666666666666, \"#ed7953\"], [0.7777777777777778, \"#fb9f3a\"], [0.8888888888888888, \"#fdca26\"], [1.0, \"#f0f921\"]], \"type\": \"surface\"}], \"table\": [{\"cells\": {\"fill\": {\"color\": \"#EBF0F8\"}, \"line\": {\"color\": \"white\"}}, \"header\": {\"fill\": {\"color\": \"#C8D4E3\"}, \"line\": {\"color\": \"white\"}}, \"type\": \"table\"}]}, \"layout\": {\"annotationdefaults\": {\"arrowcolor\": \"#2a3f5f\", \"arrowhead\": 0, \"arrowwidth\": 1}, \"colorscale\": {\"diverging\": [[0, \"#8e0152\"], [0.1, \"#c51b7d\"], [0.2, \"#de77ae\"], [0.3, \"#f1b6da\"], [0.4, \"#fde0ef\"], [0.5, \"#f7f7f7\"], [0.6, \"#e6f5d0\"], [0.7, \"#b8e186\"], [0.8, \"#7fbc41\"], [0.9, \"#4d9221\"], [1, \"#276419\"]], \"sequential\": [[0.0, \"#0d0887\"], [0.1111111111111111, \"#46039f\"], [0.2222222222222222, \"#7201a8\"], [0.3333333333333333, \"#9c179e\"], [0.4444444444444444, \"#bd3786\"], [0.5555555555555556, \"#d8576b\"], [0.6666666666666666, \"#ed7953\"], [0.7777777777777778, \"#fb9f3a\"], [0.8888888888888888, \"#fdca26\"], [1.0, \"#f0f921\"]], \"sequentialminus\": [[0.0, \"#0d0887\"], [0.1111111111111111, \"#46039f\"], [0.2222222222222222, \"#7201a8\"], [0.3333333333333333, \"#9c179e\"], [0.4444444444444444, \"#bd3786\"], [0.5555555555555556, \"#d8576b\"], [0.6666666666666666, \"#ed7953\"], [0.7777777777777778, \"#fb9f3a\"], [0.8888888888888888, \"#fdca26\"], [1.0, \"#f0f921\"]]}, \"colorway\": [\"#636efa\", \"#EF553B\", \"#00cc96\", \"#ab63fa\", \"#FFA15A\", \"#19d3f3\", \"#FF6692\", \"#B6E880\", \"#FF97FF\", \"#FECB52\"], \"font\": {\"color\": \"#2a3f5f\"}, \"geo\": {\"bgcolor\": \"white\", \"lakecolor\": \"white\", \"landcolor\": \"#E5ECF6\", \"showlakes\": true, \"showland\": true, \"subunitcolor\": \"white\"}, \"hoverlabel\": {\"align\": \"left\"}, \"hovermode\": \"closest\", \"mapbox\": {\"style\": \"light\"}, \"paper_bgcolor\": \"white\", \"plot_bgcolor\": \"#E5ECF6\", \"polar\": {\"angularaxis\": {\"gridcolor\": \"white\", \"linecolor\": \"white\", \"ticks\": \"\"}, \"bgcolor\": \"#E5ECF6\", \"radialaxis\": {\"gridcolor\": \"white\", \"linecolor\": \"white\", \"ticks\": \"\"}}, \"scene\": {\"xaxis\": {\"backgroundcolor\": \"#E5ECF6\", \"gridcolor\": \"white\", \"gridwidth\": 2, \"linecolor\": \"white\", \"showbackground\": true, \"ticks\": \"\", \"zerolinecolor\": \"white\"}, \"yaxis\": {\"backgroundcolor\": \"#E5ECF6\", \"gridcolor\": \"white\", \"gridwidth\": 2, \"linecolor\": \"white\", \"showbackground\": true, \"ticks\": \"\", \"zerolinecolor\": \"white\"}, \"zaxis\": {\"backgroundcolor\": \"#E5ECF6\", \"gridcolor\": \"white\", \"gridwidth\": 2, \"linecolor\": \"white\", \"showbackground\": true, \"ticks\": \"\", \"zerolinecolor\": \"white\"}}, \"shapedefaults\": {\"line\": {\"color\": \"#2a3f5f\"}}, \"ternary\": {\"aaxis\": {\"gridcolor\": \"white\", \"linecolor\": \"white\", \"ticks\": \"\"}, \"baxis\": {\"gridcolor\": \"white\", \"linecolor\": \"white\", \"ticks\": \"\"}, \"bgcolor\": \"#E5ECF6\", \"caxis\": {\"gridcolor\": \"white\", \"linecolor\": \"white\", \"ticks\": \"\"}}, \"title\": {\"x\": 0.05}, \"xaxis\": {\"automargin\": true, \"gridcolor\": \"white\", \"linecolor\": \"white\", \"ticks\": \"\", \"zerolinecolor\": \"white\", \"zerolinewidth\": 2}, \"yaxis\": {\"automargin\": true, \"gridcolor\": \"white\", \"linecolor\": \"white\", \"ticks\": \"\", \"zerolinecolor\": \"white\", \"zerolinewidth\": 2}}}, \"title\": {\"text\": \"Video residual plot of Group 7\"}},\n",
       "                        {\"responsive\": true}\n",
       "                    ).then(function(){\n",
       "                            \n",
       "var gd = document.getElementById('f0bb166f-7d8e-4592-99ed-49b7ed3eb0d1');\n",
       "var x = new MutationObserver(function (mutations, observer) {{\n",
       "        var display = window.getComputedStyle(gd).display;\n",
       "        if (!display || display === 'none') {{\n",
       "            console.log([gd, 'removed!']);\n",
       "            Plotly.purge(gd);\n",
       "            observer.disconnect();\n",
       "        }}\n",
       "}});\n",
       "\n",
       "// Listen for the removal of the full notebook cells\n",
       "var notebookContainer = gd.closest('#notebook-container');\n",
       "if (notebookContainer) {{\n",
       "    x.observe(notebookContainer, {childList: true});\n",
       "}}\n",
       "\n",
       "// Listen for the clearing of the current output cell\n",
       "var outputEl = gd.closest('.output');\n",
       "if (outputEl) {{\n",
       "    x.observe(outputEl, {childList: true});\n",
       "}}\n",
       "\n",
       "                        })\n",
       "                };\n",
       "                });\n",
       "            </script>\n",
       "        </div>"
      ]
     },
     "metadata": {},
     "output_type": "display_data"
    }
   ],
   "source": [
    "# Residual plot for video information\n",
    "\n",
    "g7_result_final[\"video_residuals\"] = g7_result_final[\"ground_truth\"] - g7_result_final[\"trailer_prediction\"]\n",
    "\n",
    "fig = go.Figure(data=go.Scatter(x=g7_result_final[\"name\"],\n",
    "                                y=g7_result_final[\"video_residuals\"],\n",
    "                                mode='markers',\n",
    "                                marker_color=g7_result_final[\"video_residuals\"],\n",
    "                                text=g7_result_final[\"name\"])) # hover text goes here(movie_title)\n",
    "\n",
    "fig.update_layout(title='Video residual plot of Group 7')\n",
    "fig.show()"
   ]
  },
  {
   "cell_type": "code",
   "execution_count": 41,
   "metadata": {},
   "outputs": [
    {
     "name": "stdout",
     "output_type": "stream",
     "text": [
      "Test RMSE for meta prediction of Group 7 = 37997717.08891821.\n",
      "Test RMSE for video prediction of Group 7 = 39497815.44164435.\n"
     ]
    }
   ],
   "source": [
    "import numpy as np\n",
    "# rmse \n",
    "%matplotlib inline\n",
    "import matplotlib\n",
    "import matplotlib.pyplot as plt\n",
    "import seaborn as sns\n",
    "\n",
    "from pandas import Series,DataFrame\n",
    "\n",
    "def rmse(predictions, targets):\n",
    "    return np.sqrt(((predictions - targets) ** 2).mean())\n",
    "test_error_7 = []\n",
    "#Meta rmse \n",
    "test_error_7.append(rmse(g7_result_final[\"metadata_prediction\"], g7_result_final[\"ground_truth\"]))\n",
    "\n",
    "#Video rmse \n",
    "test_error_7.append(rmse(g7_result_final[\"trailer_prediction\"], g7_result_final[\"ground_truth\"]))\n",
    "\n",
    "print(\"Test RMSE for meta prediction of Group 7 = \"'{}'.format(test_error_7[0])+\".\")\n",
    "print(\"Test RMSE for video prediction of Group 7 = \"'{}'.format(test_error_7[1])+\".\")"
   ]
  },
  {
   "cell_type": "code",
   "execution_count": 42,
   "metadata": {},
   "outputs": [
    {
     "name": "stdout",
     "output_type": "stream",
     "text": [
      "Spearman coefficient for meta prediction of Group 7 = 0.3412739489635925.\n",
      "Pearson coefficient for meta prediction of Group 7 = 0.3412739489635925.\n",
      "Spearman coefficient for video prediction of Group 7 = 0.4051980915221735.\n",
      "Pearson coefficient for video prediction of Group 7 = 0.3684756368455097.\n"
     ]
    }
   ],
   "source": [
    "#correlation coefficient \n",
    "#df = pd.DataFrame({'A':[5,91,3],'B':[90,15,66]})\n",
    "#co_df = pd.DataFrame({result_meta_data[\"openingBox\"], result_meta_data[\"prediction\"]})\n",
    "meta_spearman_co = g7_result_final[\"ground_truth\"].corr(g7_result_final[\"metadata_prediction\"], method='spearman')\n",
    "print(\"Spearman coefficient for meta prediction of Group 7 = \"'{}'.format(meta_spearman_co)+\".\")\n",
    "\n",
    "meta_pearson_co = g7_result_final[\"ground_truth\"].corr(g7_result_final[\"metadata_prediction\"], method='pearson')\n",
    "print(\"Pearson coefficient for meta prediction of Group 7 = \"'{}'.format(meta_spearman_co)+\".\")\n",
    "\n",
    "video_spearman_co = g7_result_final[\"ground_truth\"].corr(g7_result_final[\"trailer_prediction\"], method='spearman')\n",
    "print(\"Spearman coefficient for video prediction of Group 7 = \"'{}'.format(video_spearman_co)+\".\")\n",
    "\n",
    "video_pearson_co = g7_result_final[\"ground_truth\"].corr(g7_result_final[\"trailer_prediction\"], method='pearson')\n",
    "print(\"Pearson coefficient for video prediction of Group 7 = \"'{}'.format(video_pearson_co)+\".\")"
   ]
  },
  {
   "cell_type": "code",
   "execution_count": 43,
   "metadata": {},
   "outputs": [
    {
     "data": {
      "application/vnd.plotly.v1+json": {
       "config": {
        "plotlyServerURL": "https://plot.ly"
       },
       "data": [
        {
         "fill": "toself",
         "r": [
          3.412739489635925,
          4.051980915221735,
          0,
          0
         ],
         "theta": [
          "Spearman coefficient for meta prediction",
          "Spearman coefficient for video prediction",
          "RMSE performance for meta prediction",
          "Performance of Percentage of error for meta prediction"
         ],
         "type": "scatterpolar"
        }
       ],
       "layout": {
        "polar": {
         "radialaxis": {
          "visible": true
         }
        },
        "showlegend": false,
        "template": {
         "data": {
          "bar": [
           {
            "error_x": {
             "color": "#2a3f5f"
            },
            "error_y": {
             "color": "#2a3f5f"
            },
            "marker": {
             "line": {
              "color": "#E5ECF6",
              "width": 0.5
             }
            },
            "type": "bar"
           }
          ],
          "barpolar": [
           {
            "marker": {
             "line": {
              "color": "#E5ECF6",
              "width": 0.5
             }
            },
            "type": "barpolar"
           }
          ],
          "carpet": [
           {
            "aaxis": {
             "endlinecolor": "#2a3f5f",
             "gridcolor": "white",
             "linecolor": "white",
             "minorgridcolor": "white",
             "startlinecolor": "#2a3f5f"
            },
            "baxis": {
             "endlinecolor": "#2a3f5f",
             "gridcolor": "white",
             "linecolor": "white",
             "minorgridcolor": "white",
             "startlinecolor": "#2a3f5f"
            },
            "type": "carpet"
           }
          ],
          "choropleth": [
           {
            "colorbar": {
             "outlinewidth": 0,
             "ticks": ""
            },
            "type": "choropleth"
           }
          ],
          "contour": [
           {
            "colorbar": {
             "outlinewidth": 0,
             "ticks": ""
            },
            "colorscale": [
             [
              0,
              "#0d0887"
             ],
             [
              0.1111111111111111,
              "#46039f"
             ],
             [
              0.2222222222222222,
              "#7201a8"
             ],
             [
              0.3333333333333333,
              "#9c179e"
             ],
             [
              0.4444444444444444,
              "#bd3786"
             ],
             [
              0.5555555555555556,
              "#d8576b"
             ],
             [
              0.6666666666666666,
              "#ed7953"
             ],
             [
              0.7777777777777778,
              "#fb9f3a"
             ],
             [
              0.8888888888888888,
              "#fdca26"
             ],
             [
              1,
              "#f0f921"
             ]
            ],
            "type": "contour"
           }
          ],
          "contourcarpet": [
           {
            "colorbar": {
             "outlinewidth": 0,
             "ticks": ""
            },
            "type": "contourcarpet"
           }
          ],
          "heatmap": [
           {
            "colorbar": {
             "outlinewidth": 0,
             "ticks": ""
            },
            "colorscale": [
             [
              0,
              "#0d0887"
             ],
             [
              0.1111111111111111,
              "#46039f"
             ],
             [
              0.2222222222222222,
              "#7201a8"
             ],
             [
              0.3333333333333333,
              "#9c179e"
             ],
             [
              0.4444444444444444,
              "#bd3786"
             ],
             [
              0.5555555555555556,
              "#d8576b"
             ],
             [
              0.6666666666666666,
              "#ed7953"
             ],
             [
              0.7777777777777778,
              "#fb9f3a"
             ],
             [
              0.8888888888888888,
              "#fdca26"
             ],
             [
              1,
              "#f0f921"
             ]
            ],
            "type": "heatmap"
           }
          ],
          "heatmapgl": [
           {
            "colorbar": {
             "outlinewidth": 0,
             "ticks": ""
            },
            "colorscale": [
             [
              0,
              "#0d0887"
             ],
             [
              0.1111111111111111,
              "#46039f"
             ],
             [
              0.2222222222222222,
              "#7201a8"
             ],
             [
              0.3333333333333333,
              "#9c179e"
             ],
             [
              0.4444444444444444,
              "#bd3786"
             ],
             [
              0.5555555555555556,
              "#d8576b"
             ],
             [
              0.6666666666666666,
              "#ed7953"
             ],
             [
              0.7777777777777778,
              "#fb9f3a"
             ],
             [
              0.8888888888888888,
              "#fdca26"
             ],
             [
              1,
              "#f0f921"
             ]
            ],
            "type": "heatmapgl"
           }
          ],
          "histogram": [
           {
            "marker": {
             "colorbar": {
              "outlinewidth": 0,
              "ticks": ""
             }
            },
            "type": "histogram"
           }
          ],
          "histogram2d": [
           {
            "colorbar": {
             "outlinewidth": 0,
             "ticks": ""
            },
            "colorscale": [
             [
              0,
              "#0d0887"
             ],
             [
              0.1111111111111111,
              "#46039f"
             ],
             [
              0.2222222222222222,
              "#7201a8"
             ],
             [
              0.3333333333333333,
              "#9c179e"
             ],
             [
              0.4444444444444444,
              "#bd3786"
             ],
             [
              0.5555555555555556,
              "#d8576b"
             ],
             [
              0.6666666666666666,
              "#ed7953"
             ],
             [
              0.7777777777777778,
              "#fb9f3a"
             ],
             [
              0.8888888888888888,
              "#fdca26"
             ],
             [
              1,
              "#f0f921"
             ]
            ],
            "type": "histogram2d"
           }
          ],
          "histogram2dcontour": [
           {
            "colorbar": {
             "outlinewidth": 0,
             "ticks": ""
            },
            "colorscale": [
             [
              0,
              "#0d0887"
             ],
             [
              0.1111111111111111,
              "#46039f"
             ],
             [
              0.2222222222222222,
              "#7201a8"
             ],
             [
              0.3333333333333333,
              "#9c179e"
             ],
             [
              0.4444444444444444,
              "#bd3786"
             ],
             [
              0.5555555555555556,
              "#d8576b"
             ],
             [
              0.6666666666666666,
              "#ed7953"
             ],
             [
              0.7777777777777778,
              "#fb9f3a"
             ],
             [
              0.8888888888888888,
              "#fdca26"
             ],
             [
              1,
              "#f0f921"
             ]
            ],
            "type": "histogram2dcontour"
           }
          ],
          "mesh3d": [
           {
            "colorbar": {
             "outlinewidth": 0,
             "ticks": ""
            },
            "type": "mesh3d"
           }
          ],
          "parcoords": [
           {
            "line": {
             "colorbar": {
              "outlinewidth": 0,
              "ticks": ""
             }
            },
            "type": "parcoords"
           }
          ],
          "scatter": [
           {
            "marker": {
             "colorbar": {
              "outlinewidth": 0,
              "ticks": ""
             }
            },
            "type": "scatter"
           }
          ],
          "scatter3d": [
           {
            "line": {
             "colorbar": {
              "outlinewidth": 0,
              "ticks": ""
             }
            },
            "marker": {
             "colorbar": {
              "outlinewidth": 0,
              "ticks": ""
             }
            },
            "type": "scatter3d"
           }
          ],
          "scattercarpet": [
           {
            "marker": {
             "colorbar": {
              "outlinewidth": 0,
              "ticks": ""
             }
            },
            "type": "scattercarpet"
           }
          ],
          "scattergeo": [
           {
            "marker": {
             "colorbar": {
              "outlinewidth": 0,
              "ticks": ""
             }
            },
            "type": "scattergeo"
           }
          ],
          "scattergl": [
           {
            "marker": {
             "colorbar": {
              "outlinewidth": 0,
              "ticks": ""
             }
            },
            "type": "scattergl"
           }
          ],
          "scattermapbox": [
           {
            "marker": {
             "colorbar": {
              "outlinewidth": 0,
              "ticks": ""
             }
            },
            "type": "scattermapbox"
           }
          ],
          "scatterpolar": [
           {
            "marker": {
             "colorbar": {
              "outlinewidth": 0,
              "ticks": ""
             }
            },
            "type": "scatterpolar"
           }
          ],
          "scatterpolargl": [
           {
            "marker": {
             "colorbar": {
              "outlinewidth": 0,
              "ticks": ""
             }
            },
            "type": "scatterpolargl"
           }
          ],
          "scatterternary": [
           {
            "marker": {
             "colorbar": {
              "outlinewidth": 0,
              "ticks": ""
             }
            },
            "type": "scatterternary"
           }
          ],
          "surface": [
           {
            "colorbar": {
             "outlinewidth": 0,
             "ticks": ""
            },
            "colorscale": [
             [
              0,
              "#0d0887"
             ],
             [
              0.1111111111111111,
              "#46039f"
             ],
             [
              0.2222222222222222,
              "#7201a8"
             ],
             [
              0.3333333333333333,
              "#9c179e"
             ],
             [
              0.4444444444444444,
              "#bd3786"
             ],
             [
              0.5555555555555556,
              "#d8576b"
             ],
             [
              0.6666666666666666,
              "#ed7953"
             ],
             [
              0.7777777777777778,
              "#fb9f3a"
             ],
             [
              0.8888888888888888,
              "#fdca26"
             ],
             [
              1,
              "#f0f921"
             ]
            ],
            "type": "surface"
           }
          ],
          "table": [
           {
            "cells": {
             "fill": {
              "color": "#EBF0F8"
             },
             "line": {
              "color": "white"
             }
            },
            "header": {
             "fill": {
              "color": "#C8D4E3"
             },
             "line": {
              "color": "white"
             }
            },
            "type": "table"
           }
          ]
         },
         "layout": {
          "annotationdefaults": {
           "arrowcolor": "#2a3f5f",
           "arrowhead": 0,
           "arrowwidth": 1
          },
          "colorscale": {
           "diverging": [
            [
             0,
             "#8e0152"
            ],
            [
             0.1,
             "#c51b7d"
            ],
            [
             0.2,
             "#de77ae"
            ],
            [
             0.3,
             "#f1b6da"
            ],
            [
             0.4,
             "#fde0ef"
            ],
            [
             0.5,
             "#f7f7f7"
            ],
            [
             0.6,
             "#e6f5d0"
            ],
            [
             0.7,
             "#b8e186"
            ],
            [
             0.8,
             "#7fbc41"
            ],
            [
             0.9,
             "#4d9221"
            ],
            [
             1,
             "#276419"
            ]
           ],
           "sequential": [
            [
             0,
             "#0d0887"
            ],
            [
             0.1111111111111111,
             "#46039f"
            ],
            [
             0.2222222222222222,
             "#7201a8"
            ],
            [
             0.3333333333333333,
             "#9c179e"
            ],
            [
             0.4444444444444444,
             "#bd3786"
            ],
            [
             0.5555555555555556,
             "#d8576b"
            ],
            [
             0.6666666666666666,
             "#ed7953"
            ],
            [
             0.7777777777777778,
             "#fb9f3a"
            ],
            [
             0.8888888888888888,
             "#fdca26"
            ],
            [
             1,
             "#f0f921"
            ]
           ],
           "sequentialminus": [
            [
             0,
             "#0d0887"
            ],
            [
             0.1111111111111111,
             "#46039f"
            ],
            [
             0.2222222222222222,
             "#7201a8"
            ],
            [
             0.3333333333333333,
             "#9c179e"
            ],
            [
             0.4444444444444444,
             "#bd3786"
            ],
            [
             0.5555555555555556,
             "#d8576b"
            ],
            [
             0.6666666666666666,
             "#ed7953"
            ],
            [
             0.7777777777777778,
             "#fb9f3a"
            ],
            [
             0.8888888888888888,
             "#fdca26"
            ],
            [
             1,
             "#f0f921"
            ]
           ]
          },
          "colorway": [
           "#636efa",
           "#EF553B",
           "#00cc96",
           "#ab63fa",
           "#FFA15A",
           "#19d3f3",
           "#FF6692",
           "#B6E880",
           "#FF97FF",
           "#FECB52"
          ],
          "font": {
           "color": "#2a3f5f"
          },
          "geo": {
           "bgcolor": "white",
           "lakecolor": "white",
           "landcolor": "#E5ECF6",
           "showlakes": true,
           "showland": true,
           "subunitcolor": "white"
          },
          "hoverlabel": {
           "align": "left"
          },
          "hovermode": "closest",
          "mapbox": {
           "style": "light"
          },
          "paper_bgcolor": "white",
          "plot_bgcolor": "#E5ECF6",
          "polar": {
           "angularaxis": {
            "gridcolor": "white",
            "linecolor": "white",
            "ticks": ""
           },
           "bgcolor": "#E5ECF6",
           "radialaxis": {
            "gridcolor": "white",
            "linecolor": "white",
            "ticks": ""
           }
          },
          "scene": {
           "xaxis": {
            "backgroundcolor": "#E5ECF6",
            "gridcolor": "white",
            "gridwidth": 2,
            "linecolor": "white",
            "showbackground": true,
            "ticks": "",
            "zerolinecolor": "white"
           },
           "yaxis": {
            "backgroundcolor": "#E5ECF6",
            "gridcolor": "white",
            "gridwidth": 2,
            "linecolor": "white",
            "showbackground": true,
            "ticks": "",
            "zerolinecolor": "white"
           },
           "zaxis": {
            "backgroundcolor": "#E5ECF6",
            "gridcolor": "white",
            "gridwidth": 2,
            "linecolor": "white",
            "showbackground": true,
            "ticks": "",
            "zerolinecolor": "white"
           }
          },
          "shapedefaults": {
           "line": {
            "color": "#2a3f5f"
           }
          },
          "ternary": {
           "aaxis": {
            "gridcolor": "white",
            "linecolor": "white",
            "ticks": ""
           },
           "baxis": {
            "gridcolor": "white",
            "linecolor": "white",
            "ticks": ""
           },
           "bgcolor": "#E5ECF6",
           "caxis": {
            "gridcolor": "white",
            "linecolor": "white",
            "ticks": ""
           }
          },
          "title": {
           "x": 0.05
          },
          "xaxis": {
           "automargin": true,
           "gridcolor": "white",
           "linecolor": "white",
           "ticks": "",
           "zerolinecolor": "white",
           "zerolinewidth": 2
          },
          "yaxis": {
           "automargin": true,
           "gridcolor": "white",
           "linecolor": "white",
           "ticks": "",
           "zerolinecolor": "white",
           "zerolinewidth": 2
          }
         }
        }
       }
      },
      "text/html": [
       "<div>\n",
       "        \n",
       "        \n",
       "            <div id=\"ad9d8618-3224-4f9d-8a80-e9704ca629ef\" class=\"plotly-graph-div\" style=\"height:525px; width:100%;\"></div>\n",
       "            <script type=\"text/javascript\">\n",
       "                require([\"plotly\"], function(Plotly) {\n",
       "                    window.PLOTLYENV=window.PLOTLYENV || {};\n",
       "                    \n",
       "                if (document.getElementById(\"ad9d8618-3224-4f9d-8a80-e9704ca629ef\")) {\n",
       "                    Plotly.newPlot(\n",
       "                        'ad9d8618-3224-4f9d-8a80-e9704ca629ef',\n",
       "                        [{\"fill\": \"toself\", \"r\": [3.412739489635925, 4.051980915221735, 0.0, 0.0], \"theta\": [\"Spearman coefficient for meta prediction\", \"Spearman coefficient for video prediction\", \"RMSE performance for meta prediction\", \"Performance of Percentage of error for meta prediction\"], \"type\": \"scatterpolar\"}],\n",
       "                        {\"polar\": {\"radialaxis\": {\"visible\": true}}, \"showlegend\": false, \"template\": {\"data\": {\"bar\": [{\"error_x\": {\"color\": \"#2a3f5f\"}, \"error_y\": {\"color\": \"#2a3f5f\"}, \"marker\": {\"line\": {\"color\": \"#E5ECF6\", \"width\": 0.5}}, \"type\": \"bar\"}], \"barpolar\": [{\"marker\": {\"line\": {\"color\": \"#E5ECF6\", \"width\": 0.5}}, \"type\": \"barpolar\"}], \"carpet\": [{\"aaxis\": {\"endlinecolor\": \"#2a3f5f\", \"gridcolor\": \"white\", \"linecolor\": \"white\", \"minorgridcolor\": \"white\", \"startlinecolor\": \"#2a3f5f\"}, \"baxis\": {\"endlinecolor\": \"#2a3f5f\", \"gridcolor\": \"white\", \"linecolor\": \"white\", \"minorgridcolor\": \"white\", \"startlinecolor\": \"#2a3f5f\"}, \"type\": \"carpet\"}], \"choropleth\": [{\"colorbar\": {\"outlinewidth\": 0, \"ticks\": \"\"}, \"type\": \"choropleth\"}], \"contour\": [{\"colorbar\": {\"outlinewidth\": 0, \"ticks\": \"\"}, \"colorscale\": [[0.0, \"#0d0887\"], [0.1111111111111111, \"#46039f\"], [0.2222222222222222, \"#7201a8\"], [0.3333333333333333, \"#9c179e\"], [0.4444444444444444, \"#bd3786\"], [0.5555555555555556, \"#d8576b\"], [0.6666666666666666, \"#ed7953\"], [0.7777777777777778, \"#fb9f3a\"], [0.8888888888888888, \"#fdca26\"], [1.0, \"#f0f921\"]], \"type\": \"contour\"}], \"contourcarpet\": [{\"colorbar\": {\"outlinewidth\": 0, \"ticks\": \"\"}, \"type\": \"contourcarpet\"}], \"heatmap\": [{\"colorbar\": {\"outlinewidth\": 0, \"ticks\": \"\"}, \"colorscale\": [[0.0, \"#0d0887\"], [0.1111111111111111, \"#46039f\"], [0.2222222222222222, \"#7201a8\"], [0.3333333333333333, \"#9c179e\"], [0.4444444444444444, \"#bd3786\"], [0.5555555555555556, \"#d8576b\"], [0.6666666666666666, \"#ed7953\"], [0.7777777777777778, \"#fb9f3a\"], [0.8888888888888888, \"#fdca26\"], [1.0, \"#f0f921\"]], \"type\": \"heatmap\"}], \"heatmapgl\": [{\"colorbar\": {\"outlinewidth\": 0, \"ticks\": \"\"}, \"colorscale\": [[0.0, \"#0d0887\"], [0.1111111111111111, \"#46039f\"], [0.2222222222222222, \"#7201a8\"], [0.3333333333333333, \"#9c179e\"], [0.4444444444444444, \"#bd3786\"], [0.5555555555555556, \"#d8576b\"], [0.6666666666666666, \"#ed7953\"], [0.7777777777777778, \"#fb9f3a\"], [0.8888888888888888, \"#fdca26\"], [1.0, \"#f0f921\"]], \"type\": \"heatmapgl\"}], \"histogram\": [{\"marker\": {\"colorbar\": {\"outlinewidth\": 0, \"ticks\": \"\"}}, \"type\": \"histogram\"}], \"histogram2d\": [{\"colorbar\": {\"outlinewidth\": 0, \"ticks\": \"\"}, \"colorscale\": [[0.0, \"#0d0887\"], [0.1111111111111111, \"#46039f\"], [0.2222222222222222, \"#7201a8\"], [0.3333333333333333, \"#9c179e\"], [0.4444444444444444, \"#bd3786\"], [0.5555555555555556, \"#d8576b\"], [0.6666666666666666, \"#ed7953\"], [0.7777777777777778, \"#fb9f3a\"], [0.8888888888888888, \"#fdca26\"], [1.0, \"#f0f921\"]], \"type\": \"histogram2d\"}], \"histogram2dcontour\": [{\"colorbar\": {\"outlinewidth\": 0, \"ticks\": \"\"}, \"colorscale\": [[0.0, \"#0d0887\"], [0.1111111111111111, \"#46039f\"], [0.2222222222222222, \"#7201a8\"], [0.3333333333333333, \"#9c179e\"], [0.4444444444444444, \"#bd3786\"], [0.5555555555555556, \"#d8576b\"], [0.6666666666666666, \"#ed7953\"], [0.7777777777777778, \"#fb9f3a\"], [0.8888888888888888, \"#fdca26\"], [1.0, \"#f0f921\"]], \"type\": \"histogram2dcontour\"}], \"mesh3d\": [{\"colorbar\": {\"outlinewidth\": 0, \"ticks\": \"\"}, \"type\": \"mesh3d\"}], \"parcoords\": [{\"line\": {\"colorbar\": {\"outlinewidth\": 0, \"ticks\": \"\"}}, \"type\": \"parcoords\"}], \"scatter\": [{\"marker\": {\"colorbar\": {\"outlinewidth\": 0, \"ticks\": \"\"}}, \"type\": \"scatter\"}], \"scatter3d\": [{\"line\": {\"colorbar\": {\"outlinewidth\": 0, \"ticks\": \"\"}}, \"marker\": {\"colorbar\": {\"outlinewidth\": 0, \"ticks\": \"\"}}, \"type\": \"scatter3d\"}], \"scattercarpet\": [{\"marker\": {\"colorbar\": {\"outlinewidth\": 0, \"ticks\": \"\"}}, \"type\": \"scattercarpet\"}], \"scattergeo\": [{\"marker\": {\"colorbar\": {\"outlinewidth\": 0, \"ticks\": \"\"}}, \"type\": \"scattergeo\"}], \"scattergl\": [{\"marker\": {\"colorbar\": {\"outlinewidth\": 0, \"ticks\": \"\"}}, \"type\": \"scattergl\"}], \"scattermapbox\": [{\"marker\": {\"colorbar\": {\"outlinewidth\": 0, \"ticks\": \"\"}}, \"type\": \"scattermapbox\"}], \"scatterpolar\": [{\"marker\": {\"colorbar\": {\"outlinewidth\": 0, \"ticks\": \"\"}}, \"type\": \"scatterpolar\"}], \"scatterpolargl\": [{\"marker\": {\"colorbar\": {\"outlinewidth\": 0, \"ticks\": \"\"}}, \"type\": \"scatterpolargl\"}], \"scatterternary\": [{\"marker\": {\"colorbar\": {\"outlinewidth\": 0, \"ticks\": \"\"}}, \"type\": \"scatterternary\"}], \"surface\": [{\"colorbar\": {\"outlinewidth\": 0, \"ticks\": \"\"}, \"colorscale\": [[0.0, \"#0d0887\"], [0.1111111111111111, \"#46039f\"], [0.2222222222222222, \"#7201a8\"], [0.3333333333333333, \"#9c179e\"], [0.4444444444444444, \"#bd3786\"], [0.5555555555555556, \"#d8576b\"], [0.6666666666666666, \"#ed7953\"], [0.7777777777777778, \"#fb9f3a\"], [0.8888888888888888, \"#fdca26\"], [1.0, \"#f0f921\"]], \"type\": \"surface\"}], \"table\": [{\"cells\": {\"fill\": {\"color\": \"#EBF0F8\"}, \"line\": {\"color\": \"white\"}}, \"header\": {\"fill\": {\"color\": \"#C8D4E3\"}, \"line\": {\"color\": \"white\"}}, \"type\": \"table\"}]}, \"layout\": {\"annotationdefaults\": {\"arrowcolor\": \"#2a3f5f\", \"arrowhead\": 0, \"arrowwidth\": 1}, \"colorscale\": {\"diverging\": [[0, \"#8e0152\"], [0.1, \"#c51b7d\"], [0.2, \"#de77ae\"], [0.3, \"#f1b6da\"], [0.4, \"#fde0ef\"], [0.5, \"#f7f7f7\"], [0.6, \"#e6f5d0\"], [0.7, \"#b8e186\"], [0.8, \"#7fbc41\"], [0.9, \"#4d9221\"], [1, \"#276419\"]], \"sequential\": [[0.0, \"#0d0887\"], [0.1111111111111111, \"#46039f\"], [0.2222222222222222, \"#7201a8\"], [0.3333333333333333, \"#9c179e\"], [0.4444444444444444, \"#bd3786\"], [0.5555555555555556, \"#d8576b\"], [0.6666666666666666, \"#ed7953\"], [0.7777777777777778, \"#fb9f3a\"], [0.8888888888888888, \"#fdca26\"], [1.0, \"#f0f921\"]], \"sequentialminus\": [[0.0, \"#0d0887\"], [0.1111111111111111, \"#46039f\"], [0.2222222222222222, \"#7201a8\"], [0.3333333333333333, \"#9c179e\"], [0.4444444444444444, \"#bd3786\"], [0.5555555555555556, \"#d8576b\"], [0.6666666666666666, \"#ed7953\"], [0.7777777777777778, \"#fb9f3a\"], [0.8888888888888888, \"#fdca26\"], [1.0, \"#f0f921\"]]}, \"colorway\": [\"#636efa\", \"#EF553B\", \"#00cc96\", \"#ab63fa\", \"#FFA15A\", \"#19d3f3\", \"#FF6692\", \"#B6E880\", \"#FF97FF\", \"#FECB52\"], \"font\": {\"color\": \"#2a3f5f\"}, \"geo\": {\"bgcolor\": \"white\", \"lakecolor\": \"white\", \"landcolor\": \"#E5ECF6\", \"showlakes\": true, \"showland\": true, \"subunitcolor\": \"white\"}, \"hoverlabel\": {\"align\": \"left\"}, \"hovermode\": \"closest\", \"mapbox\": {\"style\": \"light\"}, \"paper_bgcolor\": \"white\", \"plot_bgcolor\": \"#E5ECF6\", \"polar\": {\"angularaxis\": {\"gridcolor\": \"white\", \"linecolor\": \"white\", \"ticks\": \"\"}, \"bgcolor\": \"#E5ECF6\", \"radialaxis\": {\"gridcolor\": \"white\", \"linecolor\": \"white\", \"ticks\": \"\"}}, \"scene\": {\"xaxis\": {\"backgroundcolor\": \"#E5ECF6\", \"gridcolor\": \"white\", \"gridwidth\": 2, \"linecolor\": \"white\", \"showbackground\": true, \"ticks\": \"\", \"zerolinecolor\": \"white\"}, \"yaxis\": {\"backgroundcolor\": \"#E5ECF6\", \"gridcolor\": \"white\", \"gridwidth\": 2, \"linecolor\": \"white\", \"showbackground\": true, \"ticks\": \"\", \"zerolinecolor\": \"white\"}, \"zaxis\": {\"backgroundcolor\": \"#E5ECF6\", \"gridcolor\": \"white\", \"gridwidth\": 2, \"linecolor\": \"white\", \"showbackground\": true, \"ticks\": \"\", \"zerolinecolor\": \"white\"}}, \"shapedefaults\": {\"line\": {\"color\": \"#2a3f5f\"}}, \"ternary\": {\"aaxis\": {\"gridcolor\": \"white\", \"linecolor\": \"white\", \"ticks\": \"\"}, \"baxis\": {\"gridcolor\": \"white\", \"linecolor\": \"white\", \"ticks\": \"\"}, \"bgcolor\": \"#E5ECF6\", \"caxis\": {\"gridcolor\": \"white\", \"linecolor\": \"white\", \"ticks\": \"\"}}, \"title\": {\"x\": 0.05}, \"xaxis\": {\"automargin\": true, \"gridcolor\": \"white\", \"linecolor\": \"white\", \"ticks\": \"\", \"zerolinecolor\": \"white\", \"zerolinewidth\": 2}, \"yaxis\": {\"automargin\": true, \"gridcolor\": \"white\", \"linecolor\": \"white\", \"ticks\": \"\", \"zerolinecolor\": \"white\", \"zerolinewidth\": 2}}}},\n",
       "                        {\"responsive\": true}\n",
       "                    ).then(function(){\n",
       "                            \n",
       "var gd = document.getElementById('ad9d8618-3224-4f9d-8a80-e9704ca629ef');\n",
       "var x = new MutationObserver(function (mutations, observer) {{\n",
       "        var display = window.getComputedStyle(gd).display;\n",
       "        if (!display || display === 'none') {{\n",
       "            console.log([gd, 'removed!']);\n",
       "            Plotly.purge(gd);\n",
       "            observer.disconnect();\n",
       "        }}\n",
       "}});\n",
       "\n",
       "// Listen for the removal of the full notebook cells\n",
       "var notebookContainer = gd.closest('#notebook-container');\n",
       "if (notebookContainer) {{\n",
       "    x.observe(notebookContainer, {childList: true});\n",
       "}}\n",
       "\n",
       "// Listen for the clearing of the current output cell\n",
       "var outputEl = gd.closest('.output');\n",
       "if (outputEl) {{\n",
       "    x.observe(outputEl, {childList: true});\n",
       "}}\n",
       "\n",
       "                        })\n",
       "                };\n",
       "                });\n",
       "            </script>\n",
       "        </div>"
      ]
     },
     "metadata": {},
     "output_type": "display_data"
    }
   ],
   "source": [
    "# radar chart \n",
    "# Which variable should we chosse to evaluate a model for aml?\n",
    "import plotly.graph_objects as go\n",
    "# Median for Percentage of error for meta prediction\n",
    "max_Median_meta = 4.61512051684126\n",
    "max_rmse_meta = 37997717.08891821\n",
    "\n",
    "fig = go.Figure(data=go.Scatterpolar(\n",
    "  r=[meta_spearman_co*10, video_spearman_co*10, (1-test_error_7[0]/max_rmse_meta)*10, (1-Median_meta/max_Median_meta)*10],#value/maximum*5 so that all axises are in same range.\n",
    "  theta=['Spearman coefficient for meta prediction','Spearman coefficient for video prediction', 'RMSE performance for meta prediction', 'Performance of Percentage of error for meta prediction'],\n",
    "  fill='toself'\n",
    "))\n",
    "\n",
    "fig.update_layout(\n",
    "  polar=dict(\n",
    "    radialaxis=dict(\n",
    "      visible=True\n",
    "    ),\n",
    "  ),\n",
    "  showlegend=False\n",
    ")\n",
    "\n",
    "fig.show()"
   ]
  },
  {
   "cell_type": "code",
   "execution_count": 44,
   "metadata": {},
   "outputs": [
    {
     "data": {
      "application/vnd.plotly.v1+json": {
       "config": {
        "plotlyServerURL": "https://plot.ly"
       },
       "data": [
        {
         "name": "meta RMSE",
         "type": "bar",
         "x": [
          "group1",
          "group2",
          "group3",
          "group4",
          "group5",
          "group6",
          "group7",
          "group8"
         ],
         "y": [
          28888342.58686307,
          13121368.585826622,
          26752050.14513523,
          40689351.8036094,
          37707867.70159658,
          30443149.229962822,
          37997717.08891821,
          0
         ]
        },
        {
         "name": "video RMSE",
         "type": "bar",
         "x": [
          "group1",
          "group2",
          "group3",
          "group4",
          "group5",
          "group6",
          "group7",
          "group8"
         ],
         "y": [
          37023059.12633596,
          41262144.0770966,
          44429960.0950124,
          46094575.98337922,
          46493371.11989302,
          106964726.69744653,
          39497815.44164435,
          0
         ]
        }
       ],
       "layout": {
        "barmode": "group",
        "template": {
         "data": {
          "bar": [
           {
            "error_x": {
             "color": "#2a3f5f"
            },
            "error_y": {
             "color": "#2a3f5f"
            },
            "marker": {
             "line": {
              "color": "#E5ECF6",
              "width": 0.5
             }
            },
            "type": "bar"
           }
          ],
          "barpolar": [
           {
            "marker": {
             "line": {
              "color": "#E5ECF6",
              "width": 0.5
             }
            },
            "type": "barpolar"
           }
          ],
          "carpet": [
           {
            "aaxis": {
             "endlinecolor": "#2a3f5f",
             "gridcolor": "white",
             "linecolor": "white",
             "minorgridcolor": "white",
             "startlinecolor": "#2a3f5f"
            },
            "baxis": {
             "endlinecolor": "#2a3f5f",
             "gridcolor": "white",
             "linecolor": "white",
             "minorgridcolor": "white",
             "startlinecolor": "#2a3f5f"
            },
            "type": "carpet"
           }
          ],
          "choropleth": [
           {
            "colorbar": {
             "outlinewidth": 0,
             "ticks": ""
            },
            "type": "choropleth"
           }
          ],
          "contour": [
           {
            "colorbar": {
             "outlinewidth": 0,
             "ticks": ""
            },
            "colorscale": [
             [
              0,
              "#0d0887"
             ],
             [
              0.1111111111111111,
              "#46039f"
             ],
             [
              0.2222222222222222,
              "#7201a8"
             ],
             [
              0.3333333333333333,
              "#9c179e"
             ],
             [
              0.4444444444444444,
              "#bd3786"
             ],
             [
              0.5555555555555556,
              "#d8576b"
             ],
             [
              0.6666666666666666,
              "#ed7953"
             ],
             [
              0.7777777777777778,
              "#fb9f3a"
             ],
             [
              0.8888888888888888,
              "#fdca26"
             ],
             [
              1,
              "#f0f921"
             ]
            ],
            "type": "contour"
           }
          ],
          "contourcarpet": [
           {
            "colorbar": {
             "outlinewidth": 0,
             "ticks": ""
            },
            "type": "contourcarpet"
           }
          ],
          "heatmap": [
           {
            "colorbar": {
             "outlinewidth": 0,
             "ticks": ""
            },
            "colorscale": [
             [
              0,
              "#0d0887"
             ],
             [
              0.1111111111111111,
              "#46039f"
             ],
             [
              0.2222222222222222,
              "#7201a8"
             ],
             [
              0.3333333333333333,
              "#9c179e"
             ],
             [
              0.4444444444444444,
              "#bd3786"
             ],
             [
              0.5555555555555556,
              "#d8576b"
             ],
             [
              0.6666666666666666,
              "#ed7953"
             ],
             [
              0.7777777777777778,
              "#fb9f3a"
             ],
             [
              0.8888888888888888,
              "#fdca26"
             ],
             [
              1,
              "#f0f921"
             ]
            ],
            "type": "heatmap"
           }
          ],
          "heatmapgl": [
           {
            "colorbar": {
             "outlinewidth": 0,
             "ticks": ""
            },
            "colorscale": [
             [
              0,
              "#0d0887"
             ],
             [
              0.1111111111111111,
              "#46039f"
             ],
             [
              0.2222222222222222,
              "#7201a8"
             ],
             [
              0.3333333333333333,
              "#9c179e"
             ],
             [
              0.4444444444444444,
              "#bd3786"
             ],
             [
              0.5555555555555556,
              "#d8576b"
             ],
             [
              0.6666666666666666,
              "#ed7953"
             ],
             [
              0.7777777777777778,
              "#fb9f3a"
             ],
             [
              0.8888888888888888,
              "#fdca26"
             ],
             [
              1,
              "#f0f921"
             ]
            ],
            "type": "heatmapgl"
           }
          ],
          "histogram": [
           {
            "marker": {
             "colorbar": {
              "outlinewidth": 0,
              "ticks": ""
             }
            },
            "type": "histogram"
           }
          ],
          "histogram2d": [
           {
            "colorbar": {
             "outlinewidth": 0,
             "ticks": ""
            },
            "colorscale": [
             [
              0,
              "#0d0887"
             ],
             [
              0.1111111111111111,
              "#46039f"
             ],
             [
              0.2222222222222222,
              "#7201a8"
             ],
             [
              0.3333333333333333,
              "#9c179e"
             ],
             [
              0.4444444444444444,
              "#bd3786"
             ],
             [
              0.5555555555555556,
              "#d8576b"
             ],
             [
              0.6666666666666666,
              "#ed7953"
             ],
             [
              0.7777777777777778,
              "#fb9f3a"
             ],
             [
              0.8888888888888888,
              "#fdca26"
             ],
             [
              1,
              "#f0f921"
             ]
            ],
            "type": "histogram2d"
           }
          ],
          "histogram2dcontour": [
           {
            "colorbar": {
             "outlinewidth": 0,
             "ticks": ""
            },
            "colorscale": [
             [
              0,
              "#0d0887"
             ],
             [
              0.1111111111111111,
              "#46039f"
             ],
             [
              0.2222222222222222,
              "#7201a8"
             ],
             [
              0.3333333333333333,
              "#9c179e"
             ],
             [
              0.4444444444444444,
              "#bd3786"
             ],
             [
              0.5555555555555556,
              "#d8576b"
             ],
             [
              0.6666666666666666,
              "#ed7953"
             ],
             [
              0.7777777777777778,
              "#fb9f3a"
             ],
             [
              0.8888888888888888,
              "#fdca26"
             ],
             [
              1,
              "#f0f921"
             ]
            ],
            "type": "histogram2dcontour"
           }
          ],
          "mesh3d": [
           {
            "colorbar": {
             "outlinewidth": 0,
             "ticks": ""
            },
            "type": "mesh3d"
           }
          ],
          "parcoords": [
           {
            "line": {
             "colorbar": {
              "outlinewidth": 0,
              "ticks": ""
             }
            },
            "type": "parcoords"
           }
          ],
          "scatter": [
           {
            "marker": {
             "colorbar": {
              "outlinewidth": 0,
              "ticks": ""
             }
            },
            "type": "scatter"
           }
          ],
          "scatter3d": [
           {
            "line": {
             "colorbar": {
              "outlinewidth": 0,
              "ticks": ""
             }
            },
            "marker": {
             "colorbar": {
              "outlinewidth": 0,
              "ticks": ""
             }
            },
            "type": "scatter3d"
           }
          ],
          "scattercarpet": [
           {
            "marker": {
             "colorbar": {
              "outlinewidth": 0,
              "ticks": ""
             }
            },
            "type": "scattercarpet"
           }
          ],
          "scattergeo": [
           {
            "marker": {
             "colorbar": {
              "outlinewidth": 0,
              "ticks": ""
             }
            },
            "type": "scattergeo"
           }
          ],
          "scattergl": [
           {
            "marker": {
             "colorbar": {
              "outlinewidth": 0,
              "ticks": ""
             }
            },
            "type": "scattergl"
           }
          ],
          "scattermapbox": [
           {
            "marker": {
             "colorbar": {
              "outlinewidth": 0,
              "ticks": ""
             }
            },
            "type": "scattermapbox"
           }
          ],
          "scatterpolar": [
           {
            "marker": {
             "colorbar": {
              "outlinewidth": 0,
              "ticks": ""
             }
            },
            "type": "scatterpolar"
           }
          ],
          "scatterpolargl": [
           {
            "marker": {
             "colorbar": {
              "outlinewidth": 0,
              "ticks": ""
             }
            },
            "type": "scatterpolargl"
           }
          ],
          "scatterternary": [
           {
            "marker": {
             "colorbar": {
              "outlinewidth": 0,
              "ticks": ""
             }
            },
            "type": "scatterternary"
           }
          ],
          "surface": [
           {
            "colorbar": {
             "outlinewidth": 0,
             "ticks": ""
            },
            "colorscale": [
             [
              0,
              "#0d0887"
             ],
             [
              0.1111111111111111,
              "#46039f"
             ],
             [
              0.2222222222222222,
              "#7201a8"
             ],
             [
              0.3333333333333333,
              "#9c179e"
             ],
             [
              0.4444444444444444,
              "#bd3786"
             ],
             [
              0.5555555555555556,
              "#d8576b"
             ],
             [
              0.6666666666666666,
              "#ed7953"
             ],
             [
              0.7777777777777778,
              "#fb9f3a"
             ],
             [
              0.8888888888888888,
              "#fdca26"
             ],
             [
              1,
              "#f0f921"
             ]
            ],
            "type": "surface"
           }
          ],
          "table": [
           {
            "cells": {
             "fill": {
              "color": "#EBF0F8"
             },
             "line": {
              "color": "white"
             }
            },
            "header": {
             "fill": {
              "color": "#C8D4E3"
             },
             "line": {
              "color": "white"
             }
            },
            "type": "table"
           }
          ]
         },
         "layout": {
          "annotationdefaults": {
           "arrowcolor": "#2a3f5f",
           "arrowhead": 0,
           "arrowwidth": 1
          },
          "colorscale": {
           "diverging": [
            [
             0,
             "#8e0152"
            ],
            [
             0.1,
             "#c51b7d"
            ],
            [
             0.2,
             "#de77ae"
            ],
            [
             0.3,
             "#f1b6da"
            ],
            [
             0.4,
             "#fde0ef"
            ],
            [
             0.5,
             "#f7f7f7"
            ],
            [
             0.6,
             "#e6f5d0"
            ],
            [
             0.7,
             "#b8e186"
            ],
            [
             0.8,
             "#7fbc41"
            ],
            [
             0.9,
             "#4d9221"
            ],
            [
             1,
             "#276419"
            ]
           ],
           "sequential": [
            [
             0,
             "#0d0887"
            ],
            [
             0.1111111111111111,
             "#46039f"
            ],
            [
             0.2222222222222222,
             "#7201a8"
            ],
            [
             0.3333333333333333,
             "#9c179e"
            ],
            [
             0.4444444444444444,
             "#bd3786"
            ],
            [
             0.5555555555555556,
             "#d8576b"
            ],
            [
             0.6666666666666666,
             "#ed7953"
            ],
            [
             0.7777777777777778,
             "#fb9f3a"
            ],
            [
             0.8888888888888888,
             "#fdca26"
            ],
            [
             1,
             "#f0f921"
            ]
           ],
           "sequentialminus": [
            [
             0,
             "#0d0887"
            ],
            [
             0.1111111111111111,
             "#46039f"
            ],
            [
             0.2222222222222222,
             "#7201a8"
            ],
            [
             0.3333333333333333,
             "#9c179e"
            ],
            [
             0.4444444444444444,
             "#bd3786"
            ],
            [
             0.5555555555555556,
             "#d8576b"
            ],
            [
             0.6666666666666666,
             "#ed7953"
            ],
            [
             0.7777777777777778,
             "#fb9f3a"
            ],
            [
             0.8888888888888888,
             "#fdca26"
            ],
            [
             1,
             "#f0f921"
            ]
           ]
          },
          "colorway": [
           "#636efa",
           "#EF553B",
           "#00cc96",
           "#ab63fa",
           "#FFA15A",
           "#19d3f3",
           "#FF6692",
           "#B6E880",
           "#FF97FF",
           "#FECB52"
          ],
          "font": {
           "color": "#2a3f5f"
          },
          "geo": {
           "bgcolor": "white",
           "lakecolor": "white",
           "landcolor": "#E5ECF6",
           "showlakes": true,
           "showland": true,
           "subunitcolor": "white"
          },
          "hoverlabel": {
           "align": "left"
          },
          "hovermode": "closest",
          "mapbox": {
           "style": "light"
          },
          "paper_bgcolor": "white",
          "plot_bgcolor": "#E5ECF6",
          "polar": {
           "angularaxis": {
            "gridcolor": "white",
            "linecolor": "white",
            "ticks": ""
           },
           "bgcolor": "#E5ECF6",
           "radialaxis": {
            "gridcolor": "white",
            "linecolor": "white",
            "ticks": ""
           }
          },
          "scene": {
           "xaxis": {
            "backgroundcolor": "#E5ECF6",
            "gridcolor": "white",
            "gridwidth": 2,
            "linecolor": "white",
            "showbackground": true,
            "ticks": "",
            "zerolinecolor": "white"
           },
           "yaxis": {
            "backgroundcolor": "#E5ECF6",
            "gridcolor": "white",
            "gridwidth": 2,
            "linecolor": "white",
            "showbackground": true,
            "ticks": "",
            "zerolinecolor": "white"
           },
           "zaxis": {
            "backgroundcolor": "#E5ECF6",
            "gridcolor": "white",
            "gridwidth": 2,
            "linecolor": "white",
            "showbackground": true,
            "ticks": "",
            "zerolinecolor": "white"
           }
          },
          "shapedefaults": {
           "line": {
            "color": "#2a3f5f"
           }
          },
          "ternary": {
           "aaxis": {
            "gridcolor": "white",
            "linecolor": "white",
            "ticks": ""
           },
           "baxis": {
            "gridcolor": "white",
            "linecolor": "white",
            "ticks": ""
           },
           "bgcolor": "#E5ECF6",
           "caxis": {
            "gridcolor": "white",
            "linecolor": "white",
            "ticks": ""
           }
          },
          "title": {
           "x": 0.05
          },
          "xaxis": {
           "automargin": true,
           "gridcolor": "white",
           "linecolor": "white",
           "ticks": "",
           "zerolinecolor": "white",
           "zerolinewidth": 2
          },
          "yaxis": {
           "automargin": true,
           "gridcolor": "white",
           "linecolor": "white",
           "ticks": "",
           "zerolinecolor": "white",
           "zerolinewidth": 2
          }
         }
        }
       }
      },
      "text/html": [
       "<div>\n",
       "        \n",
       "        \n",
       "            <div id=\"9f1b367c-e26c-40f2-990a-ac9419c41e6c\" class=\"plotly-graph-div\" style=\"height:525px; width:100%;\"></div>\n",
       "            <script type=\"text/javascript\">\n",
       "                require([\"plotly\"], function(Plotly) {\n",
       "                    window.PLOTLYENV=window.PLOTLYENV || {};\n",
       "                    \n",
       "                if (document.getElementById(\"9f1b367c-e26c-40f2-990a-ac9419c41e6c\")) {\n",
       "                    Plotly.newPlot(\n",
       "                        '9f1b367c-e26c-40f2-990a-ac9419c41e6c',\n",
       "                        [{\"name\": \"meta RMSE\", \"type\": \"bar\", \"x\": [\"group1\", \"group2\", \"group3\", \"group4\", \"group5\", \"group6\", \"group7\", \"group8\"], \"y\": [28888342.58686307, 13121368.585826622, 26752050.14513523, 40689351.8036094, 37707867.70159658, 30443149.229962822, 37997717.08891821, 0]}, {\"name\": \"video RMSE\", \"type\": \"bar\", \"x\": [\"group1\", \"group2\", \"group3\", \"group4\", \"group5\", \"group6\", \"group7\", \"group8\"], \"y\": [37023059.12633596, 41262144.0770966, 44429960.0950124, 46094575.98337922, 46493371.11989302, 106964726.69744653, 39497815.44164435, 0]}],\n",
       "                        {\"barmode\": \"group\", \"template\": {\"data\": {\"bar\": [{\"error_x\": {\"color\": \"#2a3f5f\"}, \"error_y\": {\"color\": \"#2a3f5f\"}, \"marker\": {\"line\": {\"color\": \"#E5ECF6\", \"width\": 0.5}}, \"type\": \"bar\"}], \"barpolar\": [{\"marker\": {\"line\": {\"color\": \"#E5ECF6\", \"width\": 0.5}}, \"type\": \"barpolar\"}], \"carpet\": [{\"aaxis\": {\"endlinecolor\": \"#2a3f5f\", \"gridcolor\": \"white\", \"linecolor\": \"white\", \"minorgridcolor\": \"white\", \"startlinecolor\": \"#2a3f5f\"}, \"baxis\": {\"endlinecolor\": \"#2a3f5f\", \"gridcolor\": \"white\", \"linecolor\": \"white\", \"minorgridcolor\": \"white\", \"startlinecolor\": \"#2a3f5f\"}, \"type\": \"carpet\"}], \"choropleth\": [{\"colorbar\": {\"outlinewidth\": 0, \"ticks\": \"\"}, \"type\": \"choropleth\"}], \"contour\": [{\"colorbar\": {\"outlinewidth\": 0, \"ticks\": \"\"}, \"colorscale\": [[0.0, \"#0d0887\"], [0.1111111111111111, \"#46039f\"], [0.2222222222222222, \"#7201a8\"], [0.3333333333333333, \"#9c179e\"], [0.4444444444444444, \"#bd3786\"], [0.5555555555555556, \"#d8576b\"], [0.6666666666666666, \"#ed7953\"], [0.7777777777777778, \"#fb9f3a\"], [0.8888888888888888, \"#fdca26\"], [1.0, \"#f0f921\"]], \"type\": \"contour\"}], \"contourcarpet\": [{\"colorbar\": {\"outlinewidth\": 0, \"ticks\": \"\"}, \"type\": \"contourcarpet\"}], \"heatmap\": [{\"colorbar\": {\"outlinewidth\": 0, \"ticks\": \"\"}, \"colorscale\": [[0.0, \"#0d0887\"], [0.1111111111111111, \"#46039f\"], [0.2222222222222222, \"#7201a8\"], [0.3333333333333333, \"#9c179e\"], [0.4444444444444444, \"#bd3786\"], [0.5555555555555556, \"#d8576b\"], [0.6666666666666666, \"#ed7953\"], [0.7777777777777778, \"#fb9f3a\"], [0.8888888888888888, \"#fdca26\"], [1.0, \"#f0f921\"]], \"type\": \"heatmap\"}], \"heatmapgl\": [{\"colorbar\": {\"outlinewidth\": 0, \"ticks\": \"\"}, \"colorscale\": [[0.0, \"#0d0887\"], [0.1111111111111111, \"#46039f\"], [0.2222222222222222, \"#7201a8\"], [0.3333333333333333, \"#9c179e\"], [0.4444444444444444, \"#bd3786\"], [0.5555555555555556, \"#d8576b\"], [0.6666666666666666, \"#ed7953\"], [0.7777777777777778, \"#fb9f3a\"], [0.8888888888888888, \"#fdca26\"], [1.0, \"#f0f921\"]], \"type\": \"heatmapgl\"}], \"histogram\": [{\"marker\": {\"colorbar\": {\"outlinewidth\": 0, \"ticks\": \"\"}}, \"type\": \"histogram\"}], \"histogram2d\": [{\"colorbar\": {\"outlinewidth\": 0, \"ticks\": \"\"}, \"colorscale\": [[0.0, \"#0d0887\"], [0.1111111111111111, \"#46039f\"], [0.2222222222222222, \"#7201a8\"], [0.3333333333333333, \"#9c179e\"], [0.4444444444444444, \"#bd3786\"], [0.5555555555555556, \"#d8576b\"], [0.6666666666666666, \"#ed7953\"], [0.7777777777777778, \"#fb9f3a\"], [0.8888888888888888, \"#fdca26\"], [1.0, \"#f0f921\"]], \"type\": \"histogram2d\"}], \"histogram2dcontour\": [{\"colorbar\": {\"outlinewidth\": 0, \"ticks\": \"\"}, \"colorscale\": [[0.0, \"#0d0887\"], [0.1111111111111111, \"#46039f\"], [0.2222222222222222, \"#7201a8\"], [0.3333333333333333, \"#9c179e\"], [0.4444444444444444, \"#bd3786\"], [0.5555555555555556, \"#d8576b\"], [0.6666666666666666, \"#ed7953\"], [0.7777777777777778, \"#fb9f3a\"], [0.8888888888888888, \"#fdca26\"], [1.0, \"#f0f921\"]], \"type\": \"histogram2dcontour\"}], \"mesh3d\": [{\"colorbar\": {\"outlinewidth\": 0, \"ticks\": \"\"}, \"type\": \"mesh3d\"}], \"parcoords\": [{\"line\": {\"colorbar\": {\"outlinewidth\": 0, \"ticks\": \"\"}}, \"type\": \"parcoords\"}], \"scatter\": [{\"marker\": {\"colorbar\": {\"outlinewidth\": 0, \"ticks\": \"\"}}, \"type\": \"scatter\"}], \"scatter3d\": [{\"line\": {\"colorbar\": {\"outlinewidth\": 0, \"ticks\": \"\"}}, \"marker\": {\"colorbar\": {\"outlinewidth\": 0, \"ticks\": \"\"}}, \"type\": \"scatter3d\"}], \"scattercarpet\": [{\"marker\": {\"colorbar\": {\"outlinewidth\": 0, \"ticks\": \"\"}}, \"type\": \"scattercarpet\"}], \"scattergeo\": [{\"marker\": {\"colorbar\": {\"outlinewidth\": 0, \"ticks\": \"\"}}, \"type\": \"scattergeo\"}], \"scattergl\": [{\"marker\": {\"colorbar\": {\"outlinewidth\": 0, \"ticks\": \"\"}}, \"type\": \"scattergl\"}], \"scattermapbox\": [{\"marker\": {\"colorbar\": {\"outlinewidth\": 0, \"ticks\": \"\"}}, \"type\": \"scattermapbox\"}], \"scatterpolar\": [{\"marker\": {\"colorbar\": {\"outlinewidth\": 0, \"ticks\": \"\"}}, \"type\": \"scatterpolar\"}], \"scatterpolargl\": [{\"marker\": {\"colorbar\": {\"outlinewidth\": 0, \"ticks\": \"\"}}, \"type\": \"scatterpolargl\"}], \"scatterternary\": [{\"marker\": {\"colorbar\": {\"outlinewidth\": 0, \"ticks\": \"\"}}, \"type\": \"scatterternary\"}], \"surface\": [{\"colorbar\": {\"outlinewidth\": 0, \"ticks\": \"\"}, \"colorscale\": [[0.0, \"#0d0887\"], [0.1111111111111111, \"#46039f\"], [0.2222222222222222, \"#7201a8\"], [0.3333333333333333, \"#9c179e\"], [0.4444444444444444, \"#bd3786\"], [0.5555555555555556, \"#d8576b\"], [0.6666666666666666, \"#ed7953\"], [0.7777777777777778, \"#fb9f3a\"], [0.8888888888888888, \"#fdca26\"], [1.0, \"#f0f921\"]], \"type\": \"surface\"}], \"table\": [{\"cells\": {\"fill\": {\"color\": \"#EBF0F8\"}, \"line\": {\"color\": \"white\"}}, \"header\": {\"fill\": {\"color\": \"#C8D4E3\"}, \"line\": {\"color\": \"white\"}}, \"type\": \"table\"}]}, \"layout\": {\"annotationdefaults\": {\"arrowcolor\": \"#2a3f5f\", \"arrowhead\": 0, \"arrowwidth\": 1}, \"colorscale\": {\"diverging\": [[0, \"#8e0152\"], [0.1, \"#c51b7d\"], [0.2, \"#de77ae\"], [0.3, \"#f1b6da\"], [0.4, \"#fde0ef\"], [0.5, \"#f7f7f7\"], [0.6, \"#e6f5d0\"], [0.7, \"#b8e186\"], [0.8, \"#7fbc41\"], [0.9, \"#4d9221\"], [1, \"#276419\"]], \"sequential\": [[0.0, \"#0d0887\"], [0.1111111111111111, \"#46039f\"], [0.2222222222222222, \"#7201a8\"], [0.3333333333333333, \"#9c179e\"], [0.4444444444444444, \"#bd3786\"], [0.5555555555555556, \"#d8576b\"], [0.6666666666666666, \"#ed7953\"], [0.7777777777777778, \"#fb9f3a\"], [0.8888888888888888, \"#fdca26\"], [1.0, \"#f0f921\"]], \"sequentialminus\": [[0.0, \"#0d0887\"], [0.1111111111111111, \"#46039f\"], [0.2222222222222222, \"#7201a8\"], [0.3333333333333333, \"#9c179e\"], [0.4444444444444444, \"#bd3786\"], [0.5555555555555556, \"#d8576b\"], [0.6666666666666666, \"#ed7953\"], [0.7777777777777778, \"#fb9f3a\"], [0.8888888888888888, \"#fdca26\"], [1.0, \"#f0f921\"]]}, \"colorway\": [\"#636efa\", \"#EF553B\", \"#00cc96\", \"#ab63fa\", \"#FFA15A\", \"#19d3f3\", \"#FF6692\", \"#B6E880\", \"#FF97FF\", \"#FECB52\"], \"font\": {\"color\": \"#2a3f5f\"}, \"geo\": {\"bgcolor\": \"white\", \"lakecolor\": \"white\", \"landcolor\": \"#E5ECF6\", \"showlakes\": true, \"showland\": true, \"subunitcolor\": \"white\"}, \"hoverlabel\": {\"align\": \"left\"}, \"hovermode\": \"closest\", \"mapbox\": {\"style\": \"light\"}, \"paper_bgcolor\": \"white\", \"plot_bgcolor\": \"#E5ECF6\", \"polar\": {\"angularaxis\": {\"gridcolor\": \"white\", \"linecolor\": \"white\", \"ticks\": \"\"}, \"bgcolor\": \"#E5ECF6\", \"radialaxis\": {\"gridcolor\": \"white\", \"linecolor\": \"white\", \"ticks\": \"\"}}, \"scene\": {\"xaxis\": {\"backgroundcolor\": \"#E5ECF6\", \"gridcolor\": \"white\", \"gridwidth\": 2, \"linecolor\": \"white\", \"showbackground\": true, \"ticks\": \"\", \"zerolinecolor\": \"white\"}, \"yaxis\": {\"backgroundcolor\": \"#E5ECF6\", \"gridcolor\": \"white\", \"gridwidth\": 2, \"linecolor\": \"white\", \"showbackground\": true, \"ticks\": \"\", \"zerolinecolor\": \"white\"}, \"zaxis\": {\"backgroundcolor\": \"#E5ECF6\", \"gridcolor\": \"white\", \"gridwidth\": 2, \"linecolor\": \"white\", \"showbackground\": true, \"ticks\": \"\", \"zerolinecolor\": \"white\"}}, \"shapedefaults\": {\"line\": {\"color\": \"#2a3f5f\"}}, \"ternary\": {\"aaxis\": {\"gridcolor\": \"white\", \"linecolor\": \"white\", \"ticks\": \"\"}, \"baxis\": {\"gridcolor\": \"white\", \"linecolor\": \"white\", \"ticks\": \"\"}, \"bgcolor\": \"#E5ECF6\", \"caxis\": {\"gridcolor\": \"white\", \"linecolor\": \"white\", \"ticks\": \"\"}}, \"title\": {\"x\": 0.05}, \"xaxis\": {\"automargin\": true, \"gridcolor\": \"white\", \"linecolor\": \"white\", \"ticks\": \"\", \"zerolinecolor\": \"white\", \"zerolinewidth\": 2}, \"yaxis\": {\"automargin\": true, \"gridcolor\": \"white\", \"linecolor\": \"white\", \"ticks\": \"\", \"zerolinecolor\": \"white\", \"zerolinewidth\": 2}}}},\n",
       "                        {\"responsive\": true}\n",
       "                    ).then(function(){\n",
       "                            \n",
       "var gd = document.getElementById('9f1b367c-e26c-40f2-990a-ac9419c41e6c');\n",
       "var x = new MutationObserver(function (mutations, observer) {{\n",
       "        var display = window.getComputedStyle(gd).display;\n",
       "        if (!display || display === 'none') {{\n",
       "            console.log([gd, 'removed!']);\n",
       "            Plotly.purge(gd);\n",
       "            observer.disconnect();\n",
       "        }}\n",
       "}});\n",
       "\n",
       "// Listen for the removal of the full notebook cells\n",
       "var notebookContainer = gd.closest('#notebook-container');\n",
       "if (notebookContainer) {{\n",
       "    x.observe(notebookContainer, {childList: true});\n",
       "}}\n",
       "\n",
       "// Listen for the clearing of the current output cell\n",
       "var outputEl = gd.closest('.output');\n",
       "if (outputEl) {{\n",
       "    x.observe(outputEl, {childList: true});\n",
       "}}\n",
       "\n",
       "                        })\n",
       "                };\n",
       "                });\n",
       "            </script>\n",
       "        </div>"
      ]
     },
     "metadata": {},
     "output_type": "display_data"
    }
   ],
   "source": [
    "##########################compare with other group#########################\n",
    "group=['group1', 'group2', 'group3', 'group4', 'group5', 'group6', 'group7', 'group8']\n",
    "\n",
    "\n",
    "\n",
    "fig = go.Figure(data=[\n",
    "    go.Bar(name='meta RMSE', x=group, y=[28888342.58686307, 13121368.585826622, 26752050.14513523, 40689351.8036094, 37707867.70159658, 30443149.229962822, 37997717.08891821, 0]),\n",
    "    go.Bar(name='video RMSE', x=group, y=[37023059.12633596, 41262144.0770966, 44429960.0950124, 46094575.98337922, 46493371.11989302, 106964726.69744653, 39497815.44164435, 0])\n",
    "])\n",
    "# Change the bar mode\n",
    "fig.update_layout(barmode='group')\n",
    "fig.show()"
   ]
  },
  {
   "cell_type": "code",
   "execution_count": null,
   "metadata": {},
   "outputs": [],
   "source": []
  }
 ],
 "metadata": {
  "kernelspec": {
   "display_name": "Python 3",
   "language": "python",
   "name": "python3"
  },
  "language_info": {
   "codemirror_mode": {
    "name": "ipython",
    "version": 3
   },
   "file_extension": ".py",
   "mimetype": "text/x-python",
   "name": "python",
   "nbconvert_exporter": "python",
   "pygments_lexer": "ipython3",
   "version": "3.7.3"
  }
 },
 "nbformat": 4,
 "nbformat_minor": 2
}
