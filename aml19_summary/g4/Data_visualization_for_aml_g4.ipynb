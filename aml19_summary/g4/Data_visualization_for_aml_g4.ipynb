{
 "cells": [
  {
   "cell_type": "code",
   "execution_count": 21,
   "metadata": {},
   "outputs": [],
   "source": [
    "import plotly \n",
    "# only for offline\n",
    "import plotly.graph_objects as go\n"
   ]
  },
  {
   "cell_type": "code",
   "execution_count": 22,
   "metadata": {},
   "outputs": [
    {
     "data": {
      "text/html": [
       "<div>\n",
       "<style scoped>\n",
       "    .dataframe tbody tr th:only-of-type {\n",
       "        vertical-align: middle;\n",
       "    }\n",
       "\n",
       "    .dataframe tbody tr th {\n",
       "        vertical-align: top;\n",
       "    }\n",
       "\n",
       "    .dataframe thead th {\n",
       "        text-align: right;\n",
       "    }\n",
       "</style>\n",
       "<table border=\"1\" class=\"dataframe\">\n",
       "  <thead>\n",
       "    <tr style=\"text-align: right;\">\n",
       "      <th></th>\n",
       "      <th>url</th>\n",
       "      <th>imdb_id</th>\n",
       "      <th>prediction</th>\n",
       "    </tr>\n",
       "  </thead>\n",
       "  <tbody>\n",
       "    <tr>\n",
       "      <th>0</th>\n",
       "      <td>https://youtu.be/I1C2gCXo4Gs</td>\n",
       "      <td>tt0190590</td>\n",
       "      <td>4.938008e+05</td>\n",
       "    </tr>\n",
       "    <tr>\n",
       "      <th>1</th>\n",
       "      <td>https://youtu.be/PQNLfo-SOR4</td>\n",
       "      <td>tt1324999</td>\n",
       "      <td>3.068533e+07</td>\n",
       "    </tr>\n",
       "    <tr>\n",
       "      <th>2</th>\n",
       "      <td>https://youtu.be/Ocz50YJOFTM</td>\n",
       "      <td>tt1673434</td>\n",
       "      <td>3.708327e+07</td>\n",
       "    </tr>\n",
       "    <tr>\n",
       "      <th>3</th>\n",
       "      <td>https://youtu.be/gk39pXpBpFo</td>\n",
       "      <td>tt1394211</td>\n",
       "      <td>1.173165e+05</td>\n",
       "    </tr>\n",
       "    <tr>\n",
       "      <th>4</th>\n",
       "      <td>https://youtu.be/Ol6j9xlQN1w</td>\n",
       "      <td>tt1470827</td>\n",
       "      <td>4.372998e+04</td>\n",
       "    </tr>\n",
       "  </tbody>\n",
       "</table>\n",
       "</div>"
      ],
      "text/plain": [
       "                            url    imdb_id    prediction\n",
       "0  https://youtu.be/I1C2gCXo4Gs  tt0190590  4.938008e+05\n",
       "1  https://youtu.be/PQNLfo-SOR4  tt1324999  3.068533e+07\n",
       "2  https://youtu.be/Ocz50YJOFTM  tt1673434  3.708327e+07\n",
       "3  https://youtu.be/gk39pXpBpFo  tt1394211  1.173165e+05\n",
       "4  https://youtu.be/Ol6j9xlQN1w  tt1470827  4.372998e+04"
      ]
     },
     "execution_count": 22,
     "metadata": {},
     "output_type": "execute_result"
    }
   ],
   "source": [
    "import pandas as pd\n",
    "path_meta = 'Group_4_meta_final.csv'\n",
    "#movie_data =pd.read_csv(path, sep='\\t', head = 0)\n",
    "result_meta_data = pd.read_csv(path_meta)\n",
    "result_meta_data = result_meta_data.drop(columns=['openingBox'])\n",
    "result_meta_data.head()\n",
    "#import pandas as pd\n",
    "#path = 'meta_data_after_2000_avoid_0.tsv'\n",
    "#movie_data =pd.read_csv(path, sep='\\t', header=0)"
   ]
  },
  {
   "cell_type": "code",
   "execution_count": 23,
   "metadata": {},
   "outputs": [
    {
     "data": {
      "text/html": [
       "<div>\n",
       "<style scoped>\n",
       "    .dataframe tbody tr th:only-of-type {\n",
       "        vertical-align: middle;\n",
       "    }\n",
       "\n",
       "    .dataframe tbody tr th {\n",
       "        vertical-align: top;\n",
       "    }\n",
       "\n",
       "    .dataframe thead th {\n",
       "        text-align: right;\n",
       "    }\n",
       "</style>\n",
       "<table border=\"1\" class=\"dataframe\">\n",
       "  <thead>\n",
       "    <tr style=\"text-align: right;\">\n",
       "      <th></th>\n",
       "      <th>imdb_id</th>\n",
       "      <th>video_prediction</th>\n",
       "    </tr>\n",
       "  </thead>\n",
       "  <tbody>\n",
       "    <tr>\n",
       "      <th>0</th>\n",
       "      <td>tt1032751</td>\n",
       "      <td>612313.368378</td>\n",
       "    </tr>\n",
       "    <tr>\n",
       "      <th>1</th>\n",
       "      <td>tt7456310</td>\n",
       "      <td>534848.604860</td>\n",
       "    </tr>\n",
       "    <tr>\n",
       "      <th>2</th>\n",
       "      <td>tt0091042</td>\n",
       "      <td>612313.857152</td>\n",
       "    </tr>\n",
       "    <tr>\n",
       "      <th>3</th>\n",
       "      <td>tt8772262</td>\n",
       "      <td>44070.807556</td>\n",
       "    </tr>\n",
       "    <tr>\n",
       "      <th>4</th>\n",
       "      <td>tt0409459</td>\n",
       "      <td>60460.298304</td>\n",
       "    </tr>\n",
       "  </tbody>\n",
       "</table>\n",
       "</div>"
      ],
      "text/plain": [
       "     imdb_id  video_prediction\n",
       "0  tt1032751     612313.368378\n",
       "1  tt7456310     534848.604860\n",
       "2  tt0091042     612313.857152\n",
       "3  tt8772262      44070.807556\n",
       "4  tt0409459      60460.298304"
      ]
     },
     "execution_count": 23,
     "metadata": {},
     "output_type": "execute_result"
    }
   ],
   "source": [
    "path_video = 'Group_4_video_predictions92.csv'\n",
    "#movie_data =pd.read_csv(path, sep='\\t', head = 0)\n",
    "result_video_data = pd.read_csv(path_video)\n",
    "\n",
    "result_video_data.head()"
   ]
  },
  {
   "cell_type": "code",
   "execution_count": 24,
   "metadata": {
    "scrolled": true
   },
   "outputs": [
    {
     "data": {
      "text/html": [
       "<div>\n",
       "<style scoped>\n",
       "    .dataframe tbody tr th:only-of-type {\n",
       "        vertical-align: middle;\n",
       "    }\n",
       "\n",
       "    .dataframe tbody tr th {\n",
       "        vertical-align: top;\n",
       "    }\n",
       "\n",
       "    .dataframe thead th {\n",
       "        text-align: right;\n",
       "    }\n",
       "</style>\n",
       "<table border=\"1\" class=\"dataframe\">\n",
       "  <thead>\n",
       "    <tr style=\"text-align: right;\">\n",
       "      <th></th>\n",
       "      <th>url</th>\n",
       "      <th>imdb_id</th>\n",
       "      <th>meta_prediction</th>\n",
       "      <th>video_prediction</th>\n",
       "    </tr>\n",
       "  </thead>\n",
       "  <tbody>\n",
       "    <tr>\n",
       "      <th>0</th>\n",
       "      <td>https://youtu.be/I1C2gCXo4Gs</td>\n",
       "      <td>tt0190590</td>\n",
       "      <td>4.938008e+05</td>\n",
       "      <td>9.318253e+04</td>\n",
       "    </tr>\n",
       "    <tr>\n",
       "      <th>1</th>\n",
       "      <td>https://youtu.be/PQNLfo-SOR4</td>\n",
       "      <td>tt1324999</td>\n",
       "      <td>3.068533e+07</td>\n",
       "      <td>4.201326e+03</td>\n",
       "    </tr>\n",
       "    <tr>\n",
       "      <th>2</th>\n",
       "      <td>https://youtu.be/Ocz50YJOFTM</td>\n",
       "      <td>tt1673434</td>\n",
       "      <td>3.708327e+07</td>\n",
       "      <td>9.544957e+03</td>\n",
       "    </tr>\n",
       "    <tr>\n",
       "      <th>3</th>\n",
       "      <td>https://youtu.be/gk39pXpBpFo</td>\n",
       "      <td>tt1394211</td>\n",
       "      <td>1.173165e+05</td>\n",
       "      <td>2.045526e+03</td>\n",
       "    </tr>\n",
       "    <tr>\n",
       "      <th>4</th>\n",
       "      <td>https://youtu.be/Ol6j9xlQN1w</td>\n",
       "      <td>tt1470827</td>\n",
       "      <td>4.372998e+04</td>\n",
       "      <td>9.367486e+03</td>\n",
       "    </tr>\n",
       "    <tr>\n",
       "      <th>5</th>\n",
       "      <td>https://youtu.be/BuE98oeL-e0</td>\n",
       "      <td>tt1584016</td>\n",
       "      <td>6.278867e+04</td>\n",
       "      <td>2.860280e+04</td>\n",
       "    </tr>\n",
       "    <tr>\n",
       "      <th>6</th>\n",
       "      <td>https://youtu.be/-JZ_moituIo</td>\n",
       "      <td>tt1245526</td>\n",
       "      <td>2.832331e+07</td>\n",
       "      <td>6.123126e+05</td>\n",
       "    </tr>\n",
       "    <tr>\n",
       "      <th>7</th>\n",
       "      <td>https://youtu.be/LrceH3952Hg</td>\n",
       "      <td>tt1152822</td>\n",
       "      <td>6.991606e+04</td>\n",
       "      <td>5.762494e+05</td>\n",
       "    </tr>\n",
       "    <tr>\n",
       "      <th>8</th>\n",
       "      <td>https://youtu.be/xrQt_pwGdB0</td>\n",
       "      <td>tt1032751</td>\n",
       "      <td>9.793239e+05</td>\n",
       "      <td>6.123134e+05</td>\n",
       "    </tr>\n",
       "    <tr>\n",
       "      <th>9</th>\n",
       "      <td>https://youtu.be/evhh3NE3fyw</td>\n",
       "      <td>tt1423995</td>\n",
       "      <td>2.133174e+05</td>\n",
       "      <td>8.979757e+03</td>\n",
       "    </tr>\n",
       "    <tr>\n",
       "      <th>10</th>\n",
       "      <td>https://youtu.be/XBfcGLBJ2Uc</td>\n",
       "      <td>tt1142977</td>\n",
       "      <td>1.483142e+07</td>\n",
       "      <td>8.906340e+04</td>\n",
       "    </tr>\n",
       "    <tr>\n",
       "      <th>11</th>\n",
       "      <td>https://youtu.be/nlvYKl1fjBI</td>\n",
       "      <td>tt0401729</td>\n",
       "      <td>6.450989e+07</td>\n",
       "      <td>4.931337e+05</td>\n",
       "    </tr>\n",
       "    <tr>\n",
       "      <th>12</th>\n",
       "      <td>https://youtu.be/AJ_1eS2Erhk</td>\n",
       "      <td>tt1564349</td>\n",
       "      <td>9.563591e+06</td>\n",
       "      <td>2.266717e+05</td>\n",
       "    </tr>\n",
       "    <tr>\n",
       "      <th>13</th>\n",
       "      <td>https://youtu.be/retX8Wj7JdM</td>\n",
       "      <td>tt1911658</td>\n",
       "      <td>1.508894e+07</td>\n",
       "      <td>6.113616e+05</td>\n",
       "    </tr>\n",
       "    <tr>\n",
       "      <th>14</th>\n",
       "      <td>https://youtu.be/dVDk7PXNXB8</td>\n",
       "      <td>tt2293640</td>\n",
       "      <td>3.628265e+07</td>\n",
       "      <td>5.977760e+05</td>\n",
       "    </tr>\n",
       "    <tr>\n",
       "      <th>15</th>\n",
       "      <td>https://youtu.be/T1GO-Jlfa58</td>\n",
       "      <td>tt1008023</td>\n",
       "      <td>1.965603e+05</td>\n",
       "      <td>2.443255e+05</td>\n",
       "    </tr>\n",
       "    <tr>\n",
       "      <th>16</th>\n",
       "      <td>https://youtu.be/JZVkLqcqmGk</td>\n",
       "      <td>tt0443496</td>\n",
       "      <td>3.293358e+04</td>\n",
       "      <td>9.369492e+03</td>\n",
       "    </tr>\n",
       "    <tr>\n",
       "      <th>17</th>\n",
       "      <td>https://youtu.be/NgZI5VZvAy8</td>\n",
       "      <td>tt0084805</td>\n",
       "      <td>7.100184e+06</td>\n",
       "      <td>6.122895e+05</td>\n",
       "    </tr>\n",
       "    <tr>\n",
       "      <th>18</th>\n",
       "      <td>https://youtu.be/oEp382HIisE</td>\n",
       "      <td>tt0114898</td>\n",
       "      <td>3.238589e+07</td>\n",
       "      <td>1.629471e+05</td>\n",
       "    </tr>\n",
       "    <tr>\n",
       "      <th>19</th>\n",
       "      <td>https://youtu.be/7TavVZMewpY</td>\n",
       "      <td>tt6105098</td>\n",
       "      <td>1.113095e+07</td>\n",
       "      <td>1.320622e+07</td>\n",
       "    </tr>\n",
       "    <tr>\n",
       "      <th>20</th>\n",
       "      <td>https://youtu.be/H6MLJG0RdDE</td>\n",
       "      <td>tt8364368</td>\n",
       "      <td>2.920073e+06</td>\n",
       "      <td>2.675331e+05</td>\n",
       "    </tr>\n",
       "    <tr>\n",
       "      <th>21</th>\n",
       "      <td>https://youtu.be/H6MLJG0RdDE</td>\n",
       "      <td>tt8364368</td>\n",
       "      <td>2.920073e+06</td>\n",
       "      <td>2.675331e+05</td>\n",
       "    </tr>\n",
       "    <tr>\n",
       "      <th>22</th>\n",
       "      <td>https://youtu.be/i5l6a5RiR1E</td>\n",
       "      <td>tt7734218</td>\n",
       "      <td>5.594926e+06</td>\n",
       "      <td>3.354089e+04</td>\n",
       "    </tr>\n",
       "    <tr>\n",
       "      <th>23</th>\n",
       "      <td>https://youtu.be/1Vnghdsjmd0</td>\n",
       "      <td>tt8772262</td>\n",
       "      <td>1.513786e+06</td>\n",
       "      <td>4.407081e+04</td>\n",
       "    </tr>\n",
       "    <tr>\n",
       "      <th>24</th>\n",
       "      <td>https://youtu.be/NtU5Ow74P3Y</td>\n",
       "      <td>tt6320628</td>\n",
       "      <td>4.818225e+07</td>\n",
       "      <td>8.691779e+03</td>\n",
       "    </tr>\n",
       "    <tr>\n",
       "      <th>25</th>\n",
       "      <td>https://youtu.be/6uqvgPm8U4c</td>\n",
       "      <td>tt8079248</td>\n",
       "      <td>3.028010e+06</td>\n",
       "      <td>5.659275e+05</td>\n",
       "    </tr>\n",
       "    <tr>\n",
       "      <th>26</th>\n",
       "      <td>https://youtu.be/bCxm7cTpBAs</td>\n",
       "      <td>tt8350360</td>\n",
       "      <td>4.160083e+06</td>\n",
       "      <td>1.261489e+04</td>\n",
       "    </tr>\n",
       "    <tr>\n",
       "      <th>27</th>\n",
       "      <td>https://youtu.be/wmiIUN-7qhE</td>\n",
       "      <td>tt1979376</td>\n",
       "      <td>1.821603e+07</td>\n",
       "      <td>1.411691e+05</td>\n",
       "    </tr>\n",
       "    <tr>\n",
       "      <th>28</th>\n",
       "      <td>https://youtu.be/ZFy8ZgLd574</td>\n",
       "      <td>tt8663516</td>\n",
       "      <td>2.859938e+06</td>\n",
       "      <td>3.723001e+02</td>\n",
       "    </tr>\n",
       "    <tr>\n",
       "      <th>29</th>\n",
       "      <td>https://youtu.be/WgWsV9a3ENA</td>\n",
       "      <td>tt7456310</td>\n",
       "      <td>1.265503e+06</td>\n",
       "      <td>5.348486e+05</td>\n",
       "    </tr>\n",
       "    <tr>\n",
       "      <th>...</th>\n",
       "      <td>...</td>\n",
       "      <td>...</td>\n",
       "      <td>...</td>\n",
       "      <td>...</td>\n",
       "    </tr>\n",
       "    <tr>\n",
       "      <th>73</th>\n",
       "      <td>https://youtu.be/io8Jw9BRRFY</td>\n",
       "      <td>tt0100168</td>\n",
       "      <td>1.463716e+06</td>\n",
       "      <td>4.845163e+05</td>\n",
       "    </tr>\n",
       "    <tr>\n",
       "      <th>74</th>\n",
       "      <td>https://youtu.be/2iBFmKlO4BY</td>\n",
       "      <td>tt0103074</td>\n",
       "      <td>6.362079e+06</td>\n",
       "      <td>6.038133e+05</td>\n",
       "    </tr>\n",
       "    <tr>\n",
       "      <th>75</th>\n",
       "      <td>https://youtu.be/pumf6m7d14w</td>\n",
       "      <td>tt0102526</td>\n",
       "      <td>2.078367e+06</td>\n",
       "      <td>6.123122e+05</td>\n",
       "    </tr>\n",
       "    <tr>\n",
       "      <th>76</th>\n",
       "      <td>https://youtu.be/zzwPuJklv4w</td>\n",
       "      <td>tt0104692</td>\n",
       "      <td>1.618536e+05</td>\n",
       "      <td>6.119116e+05</td>\n",
       "    </tr>\n",
       "    <tr>\n",
       "      <th>77</th>\n",
       "      <td>https://youtu.be/gG22XNhtnoY</td>\n",
       "      <td>tt0108052</td>\n",
       "      <td>4.404994e+05</td>\n",
       "      <td>1.439645e+04</td>\n",
       "    </tr>\n",
       "    <tr>\n",
       "      <th>78</th>\n",
       "      <td>https://youtu.be/g-HeV8Z6iXc</td>\n",
       "      <td>tt0109831</td>\n",
       "      <td>1.511722e+06</td>\n",
       "      <td>7.705816e+04</td>\n",
       "    </tr>\n",
       "    <tr>\n",
       "      <th>79</th>\n",
       "      <td>https://youtu.be/yNLaTtpovys</td>\n",
       "      <td>tt0113161</td>\n",
       "      <td>1.020255e+07</td>\n",
       "      <td>4.778993e+05</td>\n",
       "    </tr>\n",
       "    <tr>\n",
       "      <th>80</th>\n",
       "      <td>https://youtu.be/rCCaTPY-z4Q</td>\n",
       "      <td>tt0116695</td>\n",
       "      <td>1.350278e+07</td>\n",
       "      <td>1.427229e+04</td>\n",
       "    </tr>\n",
       "    <tr>\n",
       "      <th>81</th>\n",
       "      <td>https://youtu.be/IOmm1OD2ArQ</td>\n",
       "      <td>tt0120490</td>\n",
       "      <td>8.233505e+04</td>\n",
       "      <td>2.147550e+03</td>\n",
       "    </tr>\n",
       "    <tr>\n",
       "      <th>82</th>\n",
       "      <td>https://youtu.be/qFee7ad2Zgo</td>\n",
       "      <td>tt0120376</td>\n",
       "      <td>1.007986e+05</td>\n",
       "      <td>2.260231e+03</td>\n",
       "    </tr>\n",
       "    <tr>\n",
       "      <th>83</th>\n",
       "      <td>https://youtu.be/JUEEOxIUOL8</td>\n",
       "      <td>tt0119196</td>\n",
       "      <td>3.712540e+04</td>\n",
       "      <td>3.608282e+05</td>\n",
       "    </tr>\n",
       "    <tr>\n",
       "      <th>84</th>\n",
       "      <td>https://youtu.be/NJP7JzpfO88</td>\n",
       "      <td>tt0161023</td>\n",
       "      <td>7.056896e+04</td>\n",
       "      <td>2.293696e+05</td>\n",
       "    </tr>\n",
       "    <tr>\n",
       "      <th>85</th>\n",
       "      <td>https://youtu.be/i6zhRf6uQyA</td>\n",
       "      <td>tt0216772</td>\n",
       "      <td>6.465516e+04</td>\n",
       "      <td>1.838500e+03</td>\n",
       "    </tr>\n",
       "    <tr>\n",
       "      <th>86</th>\n",
       "      <td>https://youtu.be/BPQQe2fFM3Q</td>\n",
       "      <td>tt0180052</td>\n",
       "      <td>8.069521e+06</td>\n",
       "      <td>7.704993e+04</td>\n",
       "    </tr>\n",
       "    <tr>\n",
       "      <th>87</th>\n",
       "      <td>https://youtu.be/r5X-hFf6Bwo</td>\n",
       "      <td>tt0167260</td>\n",
       "      <td>3.452693e+07</td>\n",
       "      <td>1.136105e+05</td>\n",
       "    </tr>\n",
       "    <tr>\n",
       "      <th>88</th>\n",
       "      <td>https://youtu.be/lAxgztbYDbs</td>\n",
       "      <td>tt0304141</td>\n",
       "      <td>5.692106e+07</td>\n",
       "      <td>8.454015e+05</td>\n",
       "    </tr>\n",
       "    <tr>\n",
       "      <th>89</th>\n",
       "      <td>https://youtu.be/KIk5rfA5uWE</td>\n",
       "      <td>tt0371257</td>\n",
       "      <td>7.336096e+06</td>\n",
       "      <td>2.990989e+05</td>\n",
       "    </tr>\n",
       "    <tr>\n",
       "      <th>90</th>\n",
       "      <td>https://youtu.be/Q5hA3PN0uic</td>\n",
       "      <td>tt0460792</td>\n",
       "      <td>1.503445e+05</td>\n",
       "      <td>9.369897e+03</td>\n",
       "    </tr>\n",
       "    <tr>\n",
       "      <th>91</th>\n",
       "      <td>https://youtu.be/g7ArZ7VD-QQ</td>\n",
       "      <td>tt0758758</td>\n",
       "      <td>4.742823e+05</td>\n",
       "      <td>2.373889e+04</td>\n",
       "    </tr>\n",
       "    <tr>\n",
       "      <th>92</th>\n",
       "      <td>https://youtu.be/61-GFxjTyV0</td>\n",
       "      <td>tt1125849</td>\n",
       "      <td>2.903879e+05</td>\n",
       "      <td>6.501054e+03</td>\n",
       "    </tr>\n",
       "    <tr>\n",
       "      <th>93</th>\n",
       "      <td>https://youtu.be/AIzbwV7on6Q</td>\n",
       "      <td>tt1010048</td>\n",
       "      <td>1.142183e+05</td>\n",
       "      <td>NaN</td>\n",
       "    </tr>\n",
       "    <tr>\n",
       "      <th>94</th>\n",
       "      <td>https://youtu.be/Fi9AVKqHzHU</td>\n",
       "      <td>tt1116184</td>\n",
       "      <td>9.630715e+06</td>\n",
       "      <td>NaN</td>\n",
       "    </tr>\n",
       "    <tr>\n",
       "      <th>95</th>\n",
       "      <td>https://youtu.be/6kw1UVovByw</td>\n",
       "      <td>tt1074638</td>\n",
       "      <td>7.325726e+07</td>\n",
       "      <td>NaN</td>\n",
       "    </tr>\n",
       "    <tr>\n",
       "      <th>96</th>\n",
       "      <td>https://youtu.be/C_Tsj_wTJkQ</td>\n",
       "      <td>tt1951265</td>\n",
       "      <td>7.730664e+07</td>\n",
       "      <td>NaN</td>\n",
       "    </tr>\n",
       "    <tr>\n",
       "      <th>97</th>\n",
       "      <td>https://youtu.be/RFinNxS5KN4</td>\n",
       "      <td>tt0369610</td>\n",
       "      <td>6.704142e+07</td>\n",
       "      <td>NaN</td>\n",
       "    </tr>\n",
       "    <tr>\n",
       "      <th>98</th>\n",
       "      <td>https://youtu.be/KqRdVOQ98k8</td>\n",
       "      <td>tt2582500</td>\n",
       "      <td>2.223468e+06</td>\n",
       "      <td>NaN</td>\n",
       "    </tr>\n",
       "    <tr>\n",
       "      <th>99</th>\n",
       "      <td>https://youtu.be/Vu4UPet8Nyc</td>\n",
       "      <td>tt4209788</td>\n",
       "      <td>7.890425e+06</td>\n",
       "      <td>NaN</td>\n",
       "    </tr>\n",
       "    <tr>\n",
       "      <th>100</th>\n",
       "      <td>https://youtu.be/pFc6I0rgmgY</td>\n",
       "      <td>tt4209788</td>\n",
       "      <td>2.933119e+06</td>\n",
       "      <td>NaN</td>\n",
       "    </tr>\n",
       "    <tr>\n",
       "      <th>101</th>\n",
       "      <td>https://youtu.be/7Pa_Weidt08</td>\n",
       "      <td>tt5117670</td>\n",
       "      <td>1.824660e+07</td>\n",
       "      <td>NaN</td>\n",
       "    </tr>\n",
       "    <tr>\n",
       "      <th>102</th>\n",
       "      <td>https://youtu.be/JAHKQPBKSZ8</td>\n",
       "      <td>tt4154916</td>\n",
       "      <td>1.245582e+07</td>\n",
       "      <td>NaN</td>\n",
       "    </tr>\n",
       "  </tbody>\n",
       "</table>\n",
       "<p>103 rows × 4 columns</p>\n",
       "</div>"
      ],
      "text/plain": [
       "                              url    imdb_id  meta_prediction  \\\n",
       "0    https://youtu.be/I1C2gCXo4Gs  tt0190590     4.938008e+05   \n",
       "1    https://youtu.be/PQNLfo-SOR4  tt1324999     3.068533e+07   \n",
       "2    https://youtu.be/Ocz50YJOFTM  tt1673434     3.708327e+07   \n",
       "3    https://youtu.be/gk39pXpBpFo  tt1394211     1.173165e+05   \n",
       "4    https://youtu.be/Ol6j9xlQN1w  tt1470827     4.372998e+04   \n",
       "5    https://youtu.be/BuE98oeL-e0  tt1584016     6.278867e+04   \n",
       "6    https://youtu.be/-JZ_moituIo  tt1245526     2.832331e+07   \n",
       "7    https://youtu.be/LrceH3952Hg  tt1152822     6.991606e+04   \n",
       "8    https://youtu.be/xrQt_pwGdB0  tt1032751     9.793239e+05   \n",
       "9    https://youtu.be/evhh3NE3fyw  tt1423995     2.133174e+05   \n",
       "10   https://youtu.be/XBfcGLBJ2Uc  tt1142977     1.483142e+07   \n",
       "11   https://youtu.be/nlvYKl1fjBI  tt0401729     6.450989e+07   \n",
       "12   https://youtu.be/AJ_1eS2Erhk  tt1564349     9.563591e+06   \n",
       "13   https://youtu.be/retX8Wj7JdM  tt1911658     1.508894e+07   \n",
       "14   https://youtu.be/dVDk7PXNXB8  tt2293640     3.628265e+07   \n",
       "15   https://youtu.be/T1GO-Jlfa58  tt1008023     1.965603e+05   \n",
       "16   https://youtu.be/JZVkLqcqmGk  tt0443496     3.293358e+04   \n",
       "17   https://youtu.be/NgZI5VZvAy8  tt0084805     7.100184e+06   \n",
       "18   https://youtu.be/oEp382HIisE  tt0114898     3.238589e+07   \n",
       "19   https://youtu.be/7TavVZMewpY  tt6105098     1.113095e+07   \n",
       "20   https://youtu.be/H6MLJG0RdDE  tt8364368     2.920073e+06   \n",
       "21   https://youtu.be/H6MLJG0RdDE  tt8364368     2.920073e+06   \n",
       "22   https://youtu.be/i5l6a5RiR1E  tt7734218     5.594926e+06   \n",
       "23   https://youtu.be/1Vnghdsjmd0  tt8772262     1.513786e+06   \n",
       "24   https://youtu.be/NtU5Ow74P3Y  tt6320628     4.818225e+07   \n",
       "25   https://youtu.be/6uqvgPm8U4c  tt8079248     3.028010e+06   \n",
       "26   https://youtu.be/bCxm7cTpBAs  tt8350360     4.160083e+06   \n",
       "27   https://youtu.be/wmiIUN-7qhE  tt1979376     1.821603e+07   \n",
       "28   https://youtu.be/ZFy8ZgLd574  tt8663516     2.859938e+06   \n",
       "29   https://youtu.be/WgWsV9a3ENA  tt7456310     1.265503e+06   \n",
       "..                            ...        ...              ...   \n",
       "73   https://youtu.be/io8Jw9BRRFY  tt0100168     1.463716e+06   \n",
       "74   https://youtu.be/2iBFmKlO4BY  tt0103074     6.362079e+06   \n",
       "75   https://youtu.be/pumf6m7d14w  tt0102526     2.078367e+06   \n",
       "76   https://youtu.be/zzwPuJklv4w  tt0104692     1.618536e+05   \n",
       "77   https://youtu.be/gG22XNhtnoY  tt0108052     4.404994e+05   \n",
       "78   https://youtu.be/g-HeV8Z6iXc  tt0109831     1.511722e+06   \n",
       "79   https://youtu.be/yNLaTtpovys  tt0113161     1.020255e+07   \n",
       "80   https://youtu.be/rCCaTPY-z4Q  tt0116695     1.350278e+07   \n",
       "81   https://youtu.be/IOmm1OD2ArQ  tt0120490     8.233505e+04   \n",
       "82   https://youtu.be/qFee7ad2Zgo  tt0120376     1.007986e+05   \n",
       "83   https://youtu.be/JUEEOxIUOL8  tt0119196     3.712540e+04   \n",
       "84   https://youtu.be/NJP7JzpfO88  tt0161023     7.056896e+04   \n",
       "85   https://youtu.be/i6zhRf6uQyA  tt0216772     6.465516e+04   \n",
       "86   https://youtu.be/BPQQe2fFM3Q  tt0180052     8.069521e+06   \n",
       "87   https://youtu.be/r5X-hFf6Bwo  tt0167260     3.452693e+07   \n",
       "88   https://youtu.be/lAxgztbYDbs  tt0304141     5.692106e+07   \n",
       "89   https://youtu.be/KIk5rfA5uWE  tt0371257     7.336096e+06   \n",
       "90   https://youtu.be/Q5hA3PN0uic  tt0460792     1.503445e+05   \n",
       "91   https://youtu.be/g7ArZ7VD-QQ  tt0758758     4.742823e+05   \n",
       "92   https://youtu.be/61-GFxjTyV0  tt1125849     2.903879e+05   \n",
       "93   https://youtu.be/AIzbwV7on6Q  tt1010048     1.142183e+05   \n",
       "94   https://youtu.be/Fi9AVKqHzHU  tt1116184     9.630715e+06   \n",
       "95   https://youtu.be/6kw1UVovByw  tt1074638     7.325726e+07   \n",
       "96   https://youtu.be/C_Tsj_wTJkQ  tt1951265     7.730664e+07   \n",
       "97   https://youtu.be/RFinNxS5KN4  tt0369610     6.704142e+07   \n",
       "98   https://youtu.be/KqRdVOQ98k8  tt2582500     2.223468e+06   \n",
       "99   https://youtu.be/Vu4UPet8Nyc  tt4209788     7.890425e+06   \n",
       "100  https://youtu.be/pFc6I0rgmgY  tt4209788     2.933119e+06   \n",
       "101  https://youtu.be/7Pa_Weidt08  tt5117670     1.824660e+07   \n",
       "102  https://youtu.be/JAHKQPBKSZ8  tt4154916     1.245582e+07   \n",
       "\n",
       "     video_prediction  \n",
       "0        9.318253e+04  \n",
       "1        4.201326e+03  \n",
       "2        9.544957e+03  \n",
       "3        2.045526e+03  \n",
       "4        9.367486e+03  \n",
       "5        2.860280e+04  \n",
       "6        6.123126e+05  \n",
       "7        5.762494e+05  \n",
       "8        6.123134e+05  \n",
       "9        8.979757e+03  \n",
       "10       8.906340e+04  \n",
       "11       4.931337e+05  \n",
       "12       2.266717e+05  \n",
       "13       6.113616e+05  \n",
       "14       5.977760e+05  \n",
       "15       2.443255e+05  \n",
       "16       9.369492e+03  \n",
       "17       6.122895e+05  \n",
       "18       1.629471e+05  \n",
       "19       1.320622e+07  \n",
       "20       2.675331e+05  \n",
       "21       2.675331e+05  \n",
       "22       3.354089e+04  \n",
       "23       4.407081e+04  \n",
       "24       8.691779e+03  \n",
       "25       5.659275e+05  \n",
       "26       1.261489e+04  \n",
       "27       1.411691e+05  \n",
       "28       3.723001e+02  \n",
       "29       5.348486e+05  \n",
       "..                ...  \n",
       "73       4.845163e+05  \n",
       "74       6.038133e+05  \n",
       "75       6.123122e+05  \n",
       "76       6.119116e+05  \n",
       "77       1.439645e+04  \n",
       "78       7.705816e+04  \n",
       "79       4.778993e+05  \n",
       "80       1.427229e+04  \n",
       "81       2.147550e+03  \n",
       "82       2.260231e+03  \n",
       "83       3.608282e+05  \n",
       "84       2.293696e+05  \n",
       "85       1.838500e+03  \n",
       "86       7.704993e+04  \n",
       "87       1.136105e+05  \n",
       "88       8.454015e+05  \n",
       "89       2.990989e+05  \n",
       "90       9.369897e+03  \n",
       "91       2.373889e+04  \n",
       "92       6.501054e+03  \n",
       "93                NaN  \n",
       "94                NaN  \n",
       "95                NaN  \n",
       "96                NaN  \n",
       "97                NaN  \n",
       "98                NaN  \n",
       "99                NaN  \n",
       "100               NaN  \n",
       "101               NaN  \n",
       "102               NaN  \n",
       "\n",
       "[103 rows x 4 columns]"
      ]
     },
     "execution_count": 24,
     "metadata": {},
     "output_type": "execute_result"
    }
   ],
   "source": [
    "g4_result = pd.merge(result_meta_data,result_video_data,how='outer', on='imdb_id')\n",
    "g4_result = g4_result.rename(columns={'prediction':'meta_prediction'})\n",
    "g4_result"
   ]
  },
  {
   "cell_type": "code",
   "execution_count": 25,
   "metadata": {
    "scrolled": true
   },
   "outputs": [
    {
     "data": {
      "text/html": [
       "<div>\n",
       "<style scoped>\n",
       "    .dataframe tbody tr th:only-of-type {\n",
       "        vertical-align: middle;\n",
       "    }\n",
       "\n",
       "    .dataframe tbody tr th {\n",
       "        vertical-align: top;\n",
       "    }\n",
       "\n",
       "    .dataframe thead th {\n",
       "        text-align: right;\n",
       "    }\n",
       "</style>\n",
       "<table border=\"1\" class=\"dataframe\">\n",
       "  <thead>\n",
       "    <tr style=\"text-align: right;\">\n",
       "      <th></th>\n",
       "      <th>url</th>\n",
       "      <th>imdb_id</th>\n",
       "      <th>prediction</th>\n",
       "      <th>ground_truth</th>\n",
       "      <th>name</th>\n",
       "    </tr>\n",
       "  </thead>\n",
       "  <tbody>\n",
       "    <tr>\n",
       "      <th>0</th>\n",
       "      <td>https://youtu.be/I1C2gCXo4Gs</td>\n",
       "      <td>190590</td>\n",
       "      <td>NaN</td>\n",
       "      <td>195104</td>\n",
       "      <td>O Brother, Where Art Thou?</td>\n",
       "    </tr>\n",
       "    <tr>\n",
       "      <th>1</th>\n",
       "      <td>https://youtu.be/PQNLfo-SOR4</td>\n",
       "      <td>1324999</td>\n",
       "      <td>NaN</td>\n",
       "      <td>138122261</td>\n",
       "      <td>The Twilight Saga: Breaking Dawn Part 1</td>\n",
       "    </tr>\n",
       "    <tr>\n",
       "      <th>2</th>\n",
       "      <td>https://youtu.be/Ocz50YJOFTM</td>\n",
       "      <td>1673434</td>\n",
       "      <td>NaN</td>\n",
       "      <td>141067634</td>\n",
       "      <td>The Twilight Saga: Breaking Dawn Part 2</td>\n",
       "    </tr>\n",
       "    <tr>\n",
       "      <th>3</th>\n",
       "      <td>https://youtu.be/gk39pXpBpFo</td>\n",
       "      <td>1394211</td>\n",
       "      <td>NaN</td>\n",
       "      <td>2692</td>\n",
       "      <td>Helena From the Wedding</td>\n",
       "    </tr>\n",
       "    <tr>\n",
       "      <th>4</th>\n",
       "      <td>https://youtu.be/Ol6j9xlQN1w</td>\n",
       "      <td>1470827</td>\n",
       "      <td>NaN</td>\n",
       "      <td>20508</td>\n",
       "      <td>Monsters</td>\n",
       "    </tr>\n",
       "    <tr>\n",
       "      <th>5</th>\n",
       "      <td>https://youtu.be/BuE98oeL-e0</td>\n",
       "      <td>1584016</td>\n",
       "      <td>NaN</td>\n",
       "      <td>257285</td>\n",
       "      <td>Catfish</td>\n",
       "    </tr>\n",
       "    <tr>\n",
       "      <th>6</th>\n",
       "      <td>https://youtu.be/-JZ_moituIo</td>\n",
       "      <td>1245526</td>\n",
       "      <td>NaN</td>\n",
       "      <td>21761408</td>\n",
       "      <td>Red</td>\n",
       "    </tr>\n",
       "    <tr>\n",
       "      <th>7</th>\n",
       "      <td>https://youtu.be/LrceH3952Hg</td>\n",
       "      <td>1152822</td>\n",
       "      <td>NaN</td>\n",
       "      <td>31893</td>\n",
       "      <td>Freakonomics</td>\n",
       "    </tr>\n",
       "    <tr>\n",
       "      <th>8</th>\n",
       "      <td>https://youtu.be/xrQt_pwGdB0</td>\n",
       "      <td>1032751</td>\n",
       "      <td>NaN</td>\n",
       "      <td>3048665</td>\n",
       "      <td>The Warrior's Way</td>\n",
       "    </tr>\n",
       "    <tr>\n",
       "      <th>9</th>\n",
       "      <td>https://youtu.be/evhh3NE3fyw</td>\n",
       "      <td>1423995</td>\n",
       "      <td>NaN</td>\n",
       "      <td>75766</td>\n",
       "      <td>Stone</td>\n",
       "    </tr>\n",
       "    <tr>\n",
       "      <th>10</th>\n",
       "      <td>https://youtu.be/XBfcGLBJ2Uc</td>\n",
       "      <td>1142977</td>\n",
       "      <td>NaN</td>\n",
       "      <td>11412213</td>\n",
       "      <td>Frankenweenie</td>\n",
       "    </tr>\n",
       "    <tr>\n",
       "      <th>11</th>\n",
       "      <td>https://youtu.be/nlvYKl1fjBI</td>\n",
       "      <td>401729</td>\n",
       "      <td>NaN</td>\n",
       "      <td>30180188</td>\n",
       "      <td>John Carter</td>\n",
       "    </tr>\n",
       "    <tr>\n",
       "      <th>12</th>\n",
       "      <td>https://youtu.be/AJ_1eS2Erhk</td>\n",
       "      <td>1564349</td>\n",
       "      <td>NaN</td>\n",
       "      <td>19152401</td>\n",
       "      <td>Dolphin Tale</td>\n",
       "    </tr>\n",
       "    <tr>\n",
       "      <th>13</th>\n",
       "      <td>https://youtu.be/retX8Wj7JdM</td>\n",
       "      <td>1911658</td>\n",
       "      <td>NaN</td>\n",
       "      <td>25447444</td>\n",
       "      <td>Penguins of Madagascar</td>\n",
       "    </tr>\n",
       "    <tr>\n",
       "      <th>14</th>\n",
       "      <td>https://youtu.be/dVDk7PXNXB8</td>\n",
       "      <td>2293640</td>\n",
       "      <td>NaN</td>\n",
       "      <td>115718405</td>\n",
       "      <td>Minions</td>\n",
       "    </tr>\n",
       "    <tr>\n",
       "      <th>15</th>\n",
       "      <td>https://youtu.be/T1GO-Jlfa58</td>\n",
       "      <td>1008023</td>\n",
       "      <td>NaN</td>\n",
       "      <td>96076</td>\n",
       "      <td>Proud American</td>\n",
       "    </tr>\n",
       "    <tr>\n",
       "      <th>16</th>\n",
       "      <td>https://youtu.be/JZVkLqcqmGk</td>\n",
       "      <td>443496</td>\n",
       "      <td>NaN</td>\n",
       "      <td>19253</td>\n",
       "      <td>Edmond</td>\n",
       "    </tr>\n",
       "    <tr>\n",
       "      <th>17</th>\n",
       "      <td>https://youtu.be/NgZI5VZvAy8</td>\n",
       "      <td>84805</td>\n",
       "      <td>NaN</td>\n",
       "      <td>5540470</td>\n",
       "      <td>Tootsie</td>\n",
       "    </tr>\n",
       "    <tr>\n",
       "      <th>18</th>\n",
       "      <td>https://youtu.be/oEp382HIisE</td>\n",
       "      <td>114898</td>\n",
       "      <td>NaN</td>\n",
       "      <td>21171780</td>\n",
       "      <td>Waterworld</td>\n",
       "    </tr>\n",
       "    <tr>\n",
       "      <th>19</th>\n",
       "      <td>https://youtu.be/7TavVZMewpY</td>\n",
       "      <td>6105098</td>\n",
       "      <td>NaN</td>\n",
       "      <td>191770759</td>\n",
       "      <td>The Lion King (2019)</td>\n",
       "    </tr>\n",
       "    <tr>\n",
       "      <th>20</th>\n",
       "      <td>https://youtu.be/H6MLJG0RdDE</td>\n",
       "      <td>8364368</td>\n",
       "      <td>NaN</td>\n",
       "      <td>12005210</td>\n",
       "      <td>Crawl</td>\n",
       "    </tr>\n",
       "    <tr>\n",
       "      <th>21</th>\n",
       "      <td>https://youtu.be/i5l6a5RiR1E</td>\n",
       "      <td>7734218</td>\n",
       "      <td>NaN</td>\n",
       "      <td>8225384</td>\n",
       "      <td>Stuber</td>\n",
       "    </tr>\n",
       "    <tr>\n",
       "      <th>22</th>\n",
       "      <td>https://youtu.be/1Vnghdsjmd0</td>\n",
       "      <td>8772262</td>\n",
       "      <td>NaN</td>\n",
       "      <td>6560030</td>\n",
       "      <td>Midsommar</td>\n",
       "    </tr>\n",
       "    <tr>\n",
       "      <th>23</th>\n",
       "      <td>https://youtu.be/NtU5Ow74P3Y</td>\n",
       "      <td>6320628</td>\n",
       "      <td>NaN</td>\n",
       "      <td>92579212</td>\n",
       "      <td>Spider-Man: Far from Home</td>\n",
       "    </tr>\n",
       "    <tr>\n",
       "      <th>24</th>\n",
       "      <td>https://youtu.be/6uqvgPm8U4c</td>\n",
       "      <td>8079248</td>\n",
       "      <td>NaN</td>\n",
       "      <td>17010050</td>\n",
       "      <td>Yesterday</td>\n",
       "    </tr>\n",
       "    <tr>\n",
       "      <th>25</th>\n",
       "      <td>https://youtu.be/bCxm7cTpBAs</td>\n",
       "      <td>8350360</td>\n",
       "      <td>NaN</td>\n",
       "      <td>20269723</td>\n",
       "      <td>Annabelle Comes Home</td>\n",
       "    </tr>\n",
       "    <tr>\n",
       "      <th>26</th>\n",
       "      <td>https://youtu.be/wmiIUN-7qhE</td>\n",
       "      <td>1979376</td>\n",
       "      <td>NaN</td>\n",
       "      <td>120908065</td>\n",
       "      <td>Toy Story 4</td>\n",
       "    </tr>\n",
       "    <tr>\n",
       "      <th>27</th>\n",
       "      <td>https://youtu.be/ZFy8ZgLd574</td>\n",
       "      <td>8663516</td>\n",
       "      <td>NaN</td>\n",
       "      <td>14094594</td>\n",
       "      <td>Child's Play (2019)</td>\n",
       "    </tr>\n",
       "    <tr>\n",
       "      <th>28</th>\n",
       "      <td>https://youtu.be/WgWsV9a3ENA</td>\n",
       "      <td>7456310</td>\n",
       "      <td>NaN</td>\n",
       "      <td>3600647</td>\n",
       "      <td>Anna (2019)</td>\n",
       "    </tr>\n",
       "    <tr>\n",
       "      <th>29</th>\n",
       "      <td>https://youtu.be/BV-WEb2oxLk</td>\n",
       "      <td>2283336</td>\n",
       "      <td>NaN</td>\n",
       "      <td>30035838</td>\n",
       "      <td>Men in Black International</td>\n",
       "    </tr>\n",
       "    <tr>\n",
       "      <th>...</th>\n",
       "      <td>...</td>\n",
       "      <td>...</td>\n",
       "      <td>...</td>\n",
       "      <td>...</td>\n",
       "      <td>...</td>\n",
       "    </tr>\n",
       "    <tr>\n",
       "      <th>73</th>\n",
       "      <td>https://youtu.be/2iBFmKlO4BY</td>\n",
       "      <td>103074</td>\n",
       "      <td>NaN</td>\n",
       "      <td>6101297</td>\n",
       "      <td>Thelma and Louise</td>\n",
       "    </tr>\n",
       "    <tr>\n",
       "      <th>74</th>\n",
       "      <td>https://youtu.be/pumf6m7d14w</td>\n",
       "      <td>102526</td>\n",
       "      <td>NaN</td>\n",
       "      <td>7039622</td>\n",
       "      <td>New Jack City</td>\n",
       "    </tr>\n",
       "    <tr>\n",
       "      <th>75</th>\n",
       "      <td>https://youtu.be/zzwPuJklv4w</td>\n",
       "      <td>104692</td>\n",
       "      <td>NaN</td>\n",
       "      <td>7751971</td>\n",
       "      <td>The Lawnmower Man</td>\n",
       "    </tr>\n",
       "    <tr>\n",
       "      <th>76</th>\n",
       "      <td>https://youtu.be/gG22XNhtnoY</td>\n",
       "      <td>108052</td>\n",
       "      <td>NaN</td>\n",
       "      <td>656636</td>\n",
       "      <td>Schindler's List</td>\n",
       "    </tr>\n",
       "    <tr>\n",
       "      <th>77</th>\n",
       "      <td>https://youtu.be/g-HeV8Z6iXc</td>\n",
       "      <td>109831</td>\n",
       "      <td>NaN</td>\n",
       "      <td>138486</td>\n",
       "      <td>Four Weddings and a Funeral</td>\n",
       "    </tr>\n",
       "    <tr>\n",
       "      <th>78</th>\n",
       "      <td>https://youtu.be/yNLaTtpovys</td>\n",
       "      <td>113161</td>\n",
       "      <td>NaN</td>\n",
       "      <td>12700007</td>\n",
       "      <td>Get Shorty</td>\n",
       "    </tr>\n",
       "    <tr>\n",
       "      <th>79</th>\n",
       "      <td>https://youtu.be/rCCaTPY-z4Q</td>\n",
       "      <td>116695</td>\n",
       "      <td>NaN</td>\n",
       "      <td>17084296</td>\n",
       "      <td>Jerry Maguire</td>\n",
       "    </tr>\n",
       "    <tr>\n",
       "      <th>80</th>\n",
       "      <td>https://youtu.be/IOmm1OD2ArQ</td>\n",
       "      <td>120490</td>\n",
       "      <td>NaN</td>\n",
       "      <td>66920</td>\n",
       "      <td>Welcome to Sarajevo</td>\n",
       "    </tr>\n",
       "    <tr>\n",
       "      <th>81</th>\n",
       "      <td>https://youtu.be/qFee7ad2Zgo</td>\n",
       "      <td>120376</td>\n",
       "      <td>NaN</td>\n",
       "      <td>217</td>\n",
       "      <td>Trojan War</td>\n",
       "    </tr>\n",
       "    <tr>\n",
       "      <th>82</th>\n",
       "      <td>https://youtu.be/JUEEOxIUOL8</td>\n",
       "      <td>119196</td>\n",
       "      <td>NaN</td>\n",
       "      <td>118278</td>\n",
       "      <td>The Gingerbread Man</td>\n",
       "    </tr>\n",
       "    <tr>\n",
       "      <th>83</th>\n",
       "      <td>https://youtu.be/NJP7JzpfO88</td>\n",
       "      <td>161023</td>\n",
       "      <td>NaN</td>\n",
       "      <td>80030</td>\n",
       "      <td>Tumbleweeds</td>\n",
       "    </tr>\n",
       "    <tr>\n",
       "      <th>84</th>\n",
       "      <td>https://youtu.be/i6zhRf6uQyA</td>\n",
       "      <td>216772</td>\n",
       "      <td>NaN</td>\n",
       "      <td>576820</td>\n",
       "      <td>Turn it up</td>\n",
       "    </tr>\n",
       "    <tr>\n",
       "      <th>85</th>\n",
       "      <td>https://youtu.be/BPQQe2fFM3Q</td>\n",
       "      <td>180052</td>\n",
       "      <td>NaN</td>\n",
       "      <td>2182900</td>\n",
       "      <td>The Adventures of Pluto Nash</td>\n",
       "    </tr>\n",
       "    <tr>\n",
       "      <th>86</th>\n",
       "      <td>https://youtu.be/r5X-hFf6Bwo</td>\n",
       "      <td>167260</td>\n",
       "      <td>NaN</td>\n",
       "      <td>72629713</td>\n",
       "      <td>The Lord of the Rings: The Return of the King</td>\n",
       "    </tr>\n",
       "    <tr>\n",
       "      <th>87</th>\n",
       "      <td>https://youtu.be/lAxgztbYDbs</td>\n",
       "      <td>304141</td>\n",
       "      <td>NaN</td>\n",
       "      <td>93687367</td>\n",
       "      <td>Harry Potter and the Prisoner of Azkaban</td>\n",
       "    </tr>\n",
       "    <tr>\n",
       "      <th>88</th>\n",
       "      <td>https://youtu.be/KIk5rfA5uWE</td>\n",
       "      <td>371257</td>\n",
       "      <td>NaN</td>\n",
       "      <td>2188199</td>\n",
       "      <td>Stay</td>\n",
       "    </tr>\n",
       "    <tr>\n",
       "      <th>89</th>\n",
       "      <td>https://youtu.be/Q5hA3PN0uic</td>\n",
       "      <td>460792</td>\n",
       "      <td>NaN</td>\n",
       "      <td>410804</td>\n",
       "      <td>Fast Food Nation</td>\n",
       "    </tr>\n",
       "    <tr>\n",
       "      <th>90</th>\n",
       "      <td>https://youtu.be/g7ArZ7VD-QQ</td>\n",
       "      <td>758758</td>\n",
       "      <td>NaN</td>\n",
       "      <td>212440</td>\n",
       "      <td>Into the Wild</td>\n",
       "    </tr>\n",
       "    <tr>\n",
       "      <th>91</th>\n",
       "      <td>https://youtu.be/61-GFxjTyV0</td>\n",
       "      <td>1125849</td>\n",
       "      <td>NaN</td>\n",
       "      <td>202714</td>\n",
       "      <td>The Wrestler</td>\n",
       "    </tr>\n",
       "    <tr>\n",
       "      <th>92</th>\n",
       "      <td>https://youtu.be/AIzbwV7on6Q</td>\n",
       "      <td>1010048</td>\n",
       "      <td>NaN</td>\n",
       "      <td>360018</td>\n",
       "      <td>Slumdog Millionaire</td>\n",
       "    </tr>\n",
       "    <tr>\n",
       "      <th>93</th>\n",
       "      <td>https://youtu.be/Fi9AVKqHzHU</td>\n",
       "      <td>1116184</td>\n",
       "      <td>NaN</td>\n",
       "      <td>50353641</td>\n",
       "      <td>Jackass 3-D</td>\n",
       "    </tr>\n",
       "    <tr>\n",
       "      <th>94</th>\n",
       "      <td>https://youtu.be/6kw1UVovByw</td>\n",
       "      <td>1074638</td>\n",
       "      <td>NaN</td>\n",
       "      <td>88364714</td>\n",
       "      <td>Skyfall</td>\n",
       "    </tr>\n",
       "    <tr>\n",
       "      <th>95</th>\n",
       "      <td>https://youtu.be/C_Tsj_wTJkQ</td>\n",
       "      <td>1951265</td>\n",
       "      <td>NaN</td>\n",
       "      <td>121897634</td>\n",
       "      <td>The Hunger Games: Mocking Jay - Part 1</td>\n",
       "    </tr>\n",
       "    <tr>\n",
       "      <th>96</th>\n",
       "      <td>https://youtu.be/RFinNxS5KN4</td>\n",
       "      <td>369610</td>\n",
       "      <td>NaN</td>\n",
       "      <td>208806270</td>\n",
       "      <td>Jurassic World</td>\n",
       "    </tr>\n",
       "    <tr>\n",
       "      <th>97</th>\n",
       "      <td>https://youtu.be/KqRdVOQ98k8</td>\n",
       "      <td>2582500</td>\n",
       "      <td>NaN</td>\n",
       "      <td>3613567</td>\n",
       "      <td>Shut In</td>\n",
       "    </tr>\n",
       "    <tr>\n",
       "      <th>98</th>\n",
       "      <td>https://youtu.be/Vu4UPet8Nyc</td>\n",
       "      <td>4209788</td>\n",
       "      <td>NaN</td>\n",
       "      <td>1172036</td>\n",
       "      <td>Molly's Game</td>\n",
       "    </tr>\n",
       "    <tr>\n",
       "      <th>99</th>\n",
       "      <td>https://youtu.be/7Pa_Weidt08</td>\n",
       "      <td>5117670</td>\n",
       "      <td>NaN</td>\n",
       "      <td>25010928</td>\n",
       "      <td>Peter Rabbit</td>\n",
       "    </tr>\n",
       "    <tr>\n",
       "      <th>100</th>\n",
       "      <td>https://youtu.be/pFc6I0rgmgY</td>\n",
       "      <td>4209788</td>\n",
       "      <td>NaN</td>\n",
       "      <td>10845330</td>\n",
       "      <td>BlacKkKlansman</td>\n",
       "    </tr>\n",
       "    <tr>\n",
       "      <th>101</th>\n",
       "      <td>https://youtu.be/JAHKQPBKSZ8</td>\n",
       "      <td>4154916</td>\n",
       "      <td>NaN</td>\n",
       "      <td>2375325</td>\n",
       "      <td>Replicas</td>\n",
       "    </tr>\n",
       "    <tr>\n",
       "      <th>102</th>\n",
       "      <td>https://youtu.be/H6MLJG0RdDE</td>\n",
       "      <td>8364368</td>\n",
       "      <td>NaN</td>\n",
       "      <td>12005210</td>\n",
       "      <td>Crawl</td>\n",
       "    </tr>\n",
       "  </tbody>\n",
       "</table>\n",
       "<p>103 rows × 5 columns</p>\n",
       "</div>"
      ],
      "text/plain": [
       "                              url  imdb_id  prediction  ground_truth  \\\n",
       "0    https://youtu.be/I1C2gCXo4Gs   190590         NaN        195104   \n",
       "1    https://youtu.be/PQNLfo-SOR4  1324999         NaN     138122261   \n",
       "2    https://youtu.be/Ocz50YJOFTM  1673434         NaN     141067634   \n",
       "3    https://youtu.be/gk39pXpBpFo  1394211         NaN          2692   \n",
       "4    https://youtu.be/Ol6j9xlQN1w  1470827         NaN         20508   \n",
       "5    https://youtu.be/BuE98oeL-e0  1584016         NaN        257285   \n",
       "6    https://youtu.be/-JZ_moituIo  1245526         NaN      21761408   \n",
       "7    https://youtu.be/LrceH3952Hg  1152822         NaN         31893   \n",
       "8    https://youtu.be/xrQt_pwGdB0  1032751         NaN       3048665   \n",
       "9    https://youtu.be/evhh3NE3fyw  1423995         NaN         75766   \n",
       "10   https://youtu.be/XBfcGLBJ2Uc  1142977         NaN      11412213   \n",
       "11   https://youtu.be/nlvYKl1fjBI   401729         NaN      30180188   \n",
       "12   https://youtu.be/AJ_1eS2Erhk  1564349         NaN      19152401   \n",
       "13   https://youtu.be/retX8Wj7JdM  1911658         NaN      25447444   \n",
       "14   https://youtu.be/dVDk7PXNXB8  2293640         NaN     115718405   \n",
       "15   https://youtu.be/T1GO-Jlfa58  1008023         NaN         96076   \n",
       "16   https://youtu.be/JZVkLqcqmGk   443496         NaN         19253   \n",
       "17   https://youtu.be/NgZI5VZvAy8    84805         NaN       5540470   \n",
       "18   https://youtu.be/oEp382HIisE   114898         NaN      21171780   \n",
       "19   https://youtu.be/7TavVZMewpY  6105098         NaN     191770759   \n",
       "20   https://youtu.be/H6MLJG0RdDE  8364368         NaN      12005210   \n",
       "21   https://youtu.be/i5l6a5RiR1E  7734218         NaN       8225384   \n",
       "22   https://youtu.be/1Vnghdsjmd0  8772262         NaN       6560030   \n",
       "23   https://youtu.be/NtU5Ow74P3Y  6320628         NaN      92579212   \n",
       "24   https://youtu.be/6uqvgPm8U4c  8079248         NaN      17010050   \n",
       "25   https://youtu.be/bCxm7cTpBAs  8350360         NaN      20269723   \n",
       "26   https://youtu.be/wmiIUN-7qhE  1979376         NaN     120908065   \n",
       "27   https://youtu.be/ZFy8ZgLd574  8663516         NaN      14094594   \n",
       "28   https://youtu.be/WgWsV9a3ENA  7456310         NaN       3600647   \n",
       "29   https://youtu.be/BV-WEb2oxLk  2283336         NaN      30035838   \n",
       "..                            ...      ...         ...           ...   \n",
       "73   https://youtu.be/2iBFmKlO4BY   103074         NaN       6101297   \n",
       "74   https://youtu.be/pumf6m7d14w   102526         NaN       7039622   \n",
       "75   https://youtu.be/zzwPuJklv4w   104692         NaN       7751971   \n",
       "76   https://youtu.be/gG22XNhtnoY   108052         NaN        656636   \n",
       "77   https://youtu.be/g-HeV8Z6iXc   109831         NaN        138486   \n",
       "78   https://youtu.be/yNLaTtpovys   113161         NaN      12700007   \n",
       "79   https://youtu.be/rCCaTPY-z4Q   116695         NaN      17084296   \n",
       "80   https://youtu.be/IOmm1OD2ArQ   120490         NaN         66920   \n",
       "81   https://youtu.be/qFee7ad2Zgo   120376         NaN           217   \n",
       "82   https://youtu.be/JUEEOxIUOL8   119196         NaN        118278   \n",
       "83   https://youtu.be/NJP7JzpfO88   161023         NaN         80030   \n",
       "84   https://youtu.be/i6zhRf6uQyA   216772         NaN        576820   \n",
       "85   https://youtu.be/BPQQe2fFM3Q   180052         NaN       2182900   \n",
       "86   https://youtu.be/r5X-hFf6Bwo   167260         NaN      72629713   \n",
       "87   https://youtu.be/lAxgztbYDbs   304141         NaN      93687367   \n",
       "88   https://youtu.be/KIk5rfA5uWE   371257         NaN       2188199   \n",
       "89   https://youtu.be/Q5hA3PN0uic   460792         NaN        410804   \n",
       "90   https://youtu.be/g7ArZ7VD-QQ   758758         NaN        212440   \n",
       "91   https://youtu.be/61-GFxjTyV0  1125849         NaN        202714   \n",
       "92   https://youtu.be/AIzbwV7on6Q  1010048         NaN        360018   \n",
       "93   https://youtu.be/Fi9AVKqHzHU  1116184         NaN      50353641   \n",
       "94   https://youtu.be/6kw1UVovByw  1074638         NaN      88364714   \n",
       "95   https://youtu.be/C_Tsj_wTJkQ  1951265         NaN     121897634   \n",
       "96   https://youtu.be/RFinNxS5KN4   369610         NaN     208806270   \n",
       "97   https://youtu.be/KqRdVOQ98k8  2582500         NaN       3613567   \n",
       "98   https://youtu.be/Vu4UPet8Nyc  4209788         NaN       1172036   \n",
       "99   https://youtu.be/7Pa_Weidt08  5117670         NaN      25010928   \n",
       "100  https://youtu.be/pFc6I0rgmgY  4209788         NaN      10845330   \n",
       "101  https://youtu.be/JAHKQPBKSZ8  4154916         NaN       2375325   \n",
       "102  https://youtu.be/H6MLJG0RdDE  8364368         NaN      12005210   \n",
       "\n",
       "                                              name  \n",
       "0                       O Brother, Where Art Thou?  \n",
       "1          The Twilight Saga: Breaking Dawn Part 1  \n",
       "2          The Twilight Saga: Breaking Dawn Part 2  \n",
       "3                          Helena From the Wedding  \n",
       "4                                         Monsters  \n",
       "5                                          Catfish  \n",
       "6                                              Red  \n",
       "7                                     Freakonomics  \n",
       "8                                The Warrior's Way  \n",
       "9                                            Stone  \n",
       "10                                   Frankenweenie  \n",
       "11                                     John Carter  \n",
       "12                                    Dolphin Tale  \n",
       "13                          Penguins of Madagascar  \n",
       "14                                         Minions  \n",
       "15                                  Proud American  \n",
       "16                                          Edmond  \n",
       "17                                         Tootsie  \n",
       "18                                      Waterworld  \n",
       "19                            The Lion King (2019)  \n",
       "20                                           Crawl  \n",
       "21                                          Stuber  \n",
       "22                                       Midsommar  \n",
       "23                       Spider-Man: Far from Home  \n",
       "24                                       Yesterday  \n",
       "25                            Annabelle Comes Home  \n",
       "26                                     Toy Story 4  \n",
       "27                             Child's Play (2019)  \n",
       "28                                     Anna (2019)  \n",
       "29                      Men in Black International  \n",
       "..                                             ...  \n",
       "73                               Thelma and Louise  \n",
       "74                                   New Jack City  \n",
       "75                               The Lawnmower Man  \n",
       "76                                Schindler's List  \n",
       "77                     Four Weddings and a Funeral  \n",
       "78                                      Get Shorty  \n",
       "79                                   Jerry Maguire  \n",
       "80                             Welcome to Sarajevo  \n",
       "81                                      Trojan War  \n",
       "82                             The Gingerbread Man  \n",
       "83                                     Tumbleweeds  \n",
       "84                                      Turn it up  \n",
       "85                    The Adventures of Pluto Nash  \n",
       "86   The Lord of the Rings: The Return of the King  \n",
       "87        Harry Potter and the Prisoner of Azkaban  \n",
       "88                                            Stay  \n",
       "89                                Fast Food Nation  \n",
       "90                                   Into the Wild  \n",
       "91                                    The Wrestler  \n",
       "92                             Slumdog Millionaire  \n",
       "93                                     Jackass 3-D  \n",
       "94                                         Skyfall  \n",
       "95          The Hunger Games: Mocking Jay - Part 1  \n",
       "96                                  Jurassic World  \n",
       "97                                         Shut In  \n",
       "98                                    Molly's Game  \n",
       "99                                    Peter Rabbit  \n",
       "100                                 BlacKkKlansman  \n",
       "101                                       Replicas  \n",
       "102                                          Crawl  \n",
       "\n",
       "[103 rows x 5 columns]"
      ]
     },
     "execution_count": 25,
     "metadata": {},
     "output_type": "execute_result"
    }
   ],
   "source": [
    "path_testdata = 'testset_full.csv'\n",
    "#movie_data =pd.read_csv(path, sep='\\t', head = 0)\n",
    "test_data = pd.read_csv(path_testdata)\n",
    "test_data"
   ]
  },
  {
   "cell_type": "code",
   "execution_count": 26,
   "metadata": {
    "scrolled": true
   },
   "outputs": [
    {
     "data": {
      "text/html": [
       "<div>\n",
       "<style scoped>\n",
       "    .dataframe tbody tr th:only-of-type {\n",
       "        vertical-align: middle;\n",
       "    }\n",
       "\n",
       "    .dataframe tbody tr th {\n",
       "        vertical-align: top;\n",
       "    }\n",
       "\n",
       "    .dataframe thead th {\n",
       "        text-align: right;\n",
       "    }\n",
       "</style>\n",
       "<table border=\"1\" class=\"dataframe\">\n",
       "  <thead>\n",
       "    <tr style=\"text-align: right;\">\n",
       "      <th></th>\n",
       "      <th>url</th>\n",
       "      <th>imdb_id</th>\n",
       "      <th>meta_prediction</th>\n",
       "      <th>video_prediction</th>\n",
       "      <th>ground_truth</th>\n",
       "      <th>name</th>\n",
       "    </tr>\n",
       "  </thead>\n",
       "  <tbody>\n",
       "    <tr>\n",
       "      <th>0</th>\n",
       "      <td>https://youtu.be/I1C2gCXo4Gs</td>\n",
       "      <td>tt0190590</td>\n",
       "      <td>4.938008e+05</td>\n",
       "      <td>9.318253e+04</td>\n",
       "      <td>195104</td>\n",
       "      <td>O Brother, Where Art Thou?</td>\n",
       "    </tr>\n",
       "    <tr>\n",
       "      <th>1</th>\n",
       "      <td>https://youtu.be/PQNLfo-SOR4</td>\n",
       "      <td>tt1324999</td>\n",
       "      <td>3.068533e+07</td>\n",
       "      <td>4.201326e+03</td>\n",
       "      <td>138122261</td>\n",
       "      <td>The Twilight Saga: Breaking Dawn Part 1</td>\n",
       "    </tr>\n",
       "    <tr>\n",
       "      <th>2</th>\n",
       "      <td>https://youtu.be/Ocz50YJOFTM</td>\n",
       "      <td>tt1673434</td>\n",
       "      <td>3.708327e+07</td>\n",
       "      <td>9.544957e+03</td>\n",
       "      <td>141067634</td>\n",
       "      <td>The Twilight Saga: Breaking Dawn Part 2</td>\n",
       "    </tr>\n",
       "    <tr>\n",
       "      <th>3</th>\n",
       "      <td>https://youtu.be/gk39pXpBpFo</td>\n",
       "      <td>tt1394211</td>\n",
       "      <td>1.173165e+05</td>\n",
       "      <td>2.045526e+03</td>\n",
       "      <td>2692</td>\n",
       "      <td>Helena From the Wedding</td>\n",
       "    </tr>\n",
       "    <tr>\n",
       "      <th>4</th>\n",
       "      <td>https://youtu.be/Ol6j9xlQN1w</td>\n",
       "      <td>tt1470827</td>\n",
       "      <td>4.372998e+04</td>\n",
       "      <td>9.367486e+03</td>\n",
       "      <td>20508</td>\n",
       "      <td>Monsters</td>\n",
       "    </tr>\n",
       "    <tr>\n",
       "      <th>5</th>\n",
       "      <td>https://youtu.be/BuE98oeL-e0</td>\n",
       "      <td>tt1584016</td>\n",
       "      <td>6.278867e+04</td>\n",
       "      <td>2.860280e+04</td>\n",
       "      <td>257285</td>\n",
       "      <td>Catfish</td>\n",
       "    </tr>\n",
       "    <tr>\n",
       "      <th>6</th>\n",
       "      <td>https://youtu.be/-JZ_moituIo</td>\n",
       "      <td>tt1245526</td>\n",
       "      <td>2.832331e+07</td>\n",
       "      <td>6.123126e+05</td>\n",
       "      <td>21761408</td>\n",
       "      <td>Red</td>\n",
       "    </tr>\n",
       "    <tr>\n",
       "      <th>7</th>\n",
       "      <td>https://youtu.be/LrceH3952Hg</td>\n",
       "      <td>tt1152822</td>\n",
       "      <td>6.991606e+04</td>\n",
       "      <td>5.762494e+05</td>\n",
       "      <td>31893</td>\n",
       "      <td>Freakonomics</td>\n",
       "    </tr>\n",
       "    <tr>\n",
       "      <th>8</th>\n",
       "      <td>https://youtu.be/xrQt_pwGdB0</td>\n",
       "      <td>tt1032751</td>\n",
       "      <td>9.793239e+05</td>\n",
       "      <td>6.123134e+05</td>\n",
       "      <td>3048665</td>\n",
       "      <td>The Warrior's Way</td>\n",
       "    </tr>\n",
       "    <tr>\n",
       "      <th>9</th>\n",
       "      <td>https://youtu.be/evhh3NE3fyw</td>\n",
       "      <td>tt1423995</td>\n",
       "      <td>2.133174e+05</td>\n",
       "      <td>8.979757e+03</td>\n",
       "      <td>75766</td>\n",
       "      <td>Stone</td>\n",
       "    </tr>\n",
       "    <tr>\n",
       "      <th>10</th>\n",
       "      <td>https://youtu.be/XBfcGLBJ2Uc</td>\n",
       "      <td>tt1142977</td>\n",
       "      <td>1.483142e+07</td>\n",
       "      <td>8.906340e+04</td>\n",
       "      <td>11412213</td>\n",
       "      <td>Frankenweenie</td>\n",
       "    </tr>\n",
       "    <tr>\n",
       "      <th>11</th>\n",
       "      <td>https://youtu.be/nlvYKl1fjBI</td>\n",
       "      <td>tt0401729</td>\n",
       "      <td>6.450989e+07</td>\n",
       "      <td>4.931337e+05</td>\n",
       "      <td>30180188</td>\n",
       "      <td>John Carter</td>\n",
       "    </tr>\n",
       "    <tr>\n",
       "      <th>12</th>\n",
       "      <td>https://youtu.be/AJ_1eS2Erhk</td>\n",
       "      <td>tt1564349</td>\n",
       "      <td>9.563591e+06</td>\n",
       "      <td>2.266717e+05</td>\n",
       "      <td>19152401</td>\n",
       "      <td>Dolphin Tale</td>\n",
       "    </tr>\n",
       "    <tr>\n",
       "      <th>13</th>\n",
       "      <td>https://youtu.be/retX8Wj7JdM</td>\n",
       "      <td>tt1911658</td>\n",
       "      <td>1.508894e+07</td>\n",
       "      <td>6.113616e+05</td>\n",
       "      <td>25447444</td>\n",
       "      <td>Penguins of Madagascar</td>\n",
       "    </tr>\n",
       "    <tr>\n",
       "      <th>14</th>\n",
       "      <td>https://youtu.be/dVDk7PXNXB8</td>\n",
       "      <td>tt2293640</td>\n",
       "      <td>3.628265e+07</td>\n",
       "      <td>5.977760e+05</td>\n",
       "      <td>115718405</td>\n",
       "      <td>Minions</td>\n",
       "    </tr>\n",
       "    <tr>\n",
       "      <th>15</th>\n",
       "      <td>https://youtu.be/T1GO-Jlfa58</td>\n",
       "      <td>tt1008023</td>\n",
       "      <td>1.965603e+05</td>\n",
       "      <td>2.443255e+05</td>\n",
       "      <td>96076</td>\n",
       "      <td>Proud American</td>\n",
       "    </tr>\n",
       "    <tr>\n",
       "      <th>16</th>\n",
       "      <td>https://youtu.be/JZVkLqcqmGk</td>\n",
       "      <td>tt0443496</td>\n",
       "      <td>3.293358e+04</td>\n",
       "      <td>9.369492e+03</td>\n",
       "      <td>19253</td>\n",
       "      <td>Edmond</td>\n",
       "    </tr>\n",
       "    <tr>\n",
       "      <th>17</th>\n",
       "      <td>https://youtu.be/NgZI5VZvAy8</td>\n",
       "      <td>tt0084805</td>\n",
       "      <td>7.100184e+06</td>\n",
       "      <td>6.122895e+05</td>\n",
       "      <td>5540470</td>\n",
       "      <td>Tootsie</td>\n",
       "    </tr>\n",
       "    <tr>\n",
       "      <th>18</th>\n",
       "      <td>https://youtu.be/oEp382HIisE</td>\n",
       "      <td>tt0114898</td>\n",
       "      <td>3.238589e+07</td>\n",
       "      <td>1.629471e+05</td>\n",
       "      <td>21171780</td>\n",
       "      <td>Waterworld</td>\n",
       "    </tr>\n",
       "    <tr>\n",
       "      <th>19</th>\n",
       "      <td>https://youtu.be/7TavVZMewpY</td>\n",
       "      <td>tt6105098</td>\n",
       "      <td>1.113095e+07</td>\n",
       "      <td>1.320622e+07</td>\n",
       "      <td>191770759</td>\n",
       "      <td>The Lion King (2019)</td>\n",
       "    </tr>\n",
       "    <tr>\n",
       "      <th>20</th>\n",
       "      <td>https://youtu.be/H6MLJG0RdDE</td>\n",
       "      <td>tt8364368</td>\n",
       "      <td>2.920073e+06</td>\n",
       "      <td>2.675331e+05</td>\n",
       "      <td>12005210</td>\n",
       "      <td>Crawl</td>\n",
       "    </tr>\n",
       "    <tr>\n",
       "      <th>21</th>\n",
       "      <td>https://youtu.be/H6MLJG0RdDE</td>\n",
       "      <td>tt8364368</td>\n",
       "      <td>2.920073e+06</td>\n",
       "      <td>2.675331e+05</td>\n",
       "      <td>12005210</td>\n",
       "      <td>Crawl</td>\n",
       "    </tr>\n",
       "    <tr>\n",
       "      <th>22</th>\n",
       "      <td>https://youtu.be/H6MLJG0RdDE</td>\n",
       "      <td>tt8364368</td>\n",
       "      <td>2.920073e+06</td>\n",
       "      <td>2.675331e+05</td>\n",
       "      <td>12005210</td>\n",
       "      <td>Crawl</td>\n",
       "    </tr>\n",
       "    <tr>\n",
       "      <th>23</th>\n",
       "      <td>https://youtu.be/H6MLJG0RdDE</td>\n",
       "      <td>tt8364368</td>\n",
       "      <td>2.920073e+06</td>\n",
       "      <td>2.675331e+05</td>\n",
       "      <td>12005210</td>\n",
       "      <td>Crawl</td>\n",
       "    </tr>\n",
       "    <tr>\n",
       "      <th>24</th>\n",
       "      <td>https://youtu.be/i5l6a5RiR1E</td>\n",
       "      <td>tt7734218</td>\n",
       "      <td>5.594926e+06</td>\n",
       "      <td>3.354089e+04</td>\n",
       "      <td>8225384</td>\n",
       "      <td>Stuber</td>\n",
       "    </tr>\n",
       "    <tr>\n",
       "      <th>25</th>\n",
       "      <td>https://youtu.be/1Vnghdsjmd0</td>\n",
       "      <td>tt8772262</td>\n",
       "      <td>1.513786e+06</td>\n",
       "      <td>4.407081e+04</td>\n",
       "      <td>6560030</td>\n",
       "      <td>Midsommar</td>\n",
       "    </tr>\n",
       "    <tr>\n",
       "      <th>26</th>\n",
       "      <td>https://youtu.be/NtU5Ow74P3Y</td>\n",
       "      <td>tt6320628</td>\n",
       "      <td>4.818225e+07</td>\n",
       "      <td>8.691779e+03</td>\n",
       "      <td>92579212</td>\n",
       "      <td>Spider-Man: Far from Home</td>\n",
       "    </tr>\n",
       "    <tr>\n",
       "      <th>27</th>\n",
       "      <td>https://youtu.be/6uqvgPm8U4c</td>\n",
       "      <td>tt8079248</td>\n",
       "      <td>3.028010e+06</td>\n",
       "      <td>5.659275e+05</td>\n",
       "      <td>17010050</td>\n",
       "      <td>Yesterday</td>\n",
       "    </tr>\n",
       "    <tr>\n",
       "      <th>28</th>\n",
       "      <td>https://youtu.be/bCxm7cTpBAs</td>\n",
       "      <td>tt8350360</td>\n",
       "      <td>4.160083e+06</td>\n",
       "      <td>1.261489e+04</td>\n",
       "      <td>20269723</td>\n",
       "      <td>Annabelle Comes Home</td>\n",
       "    </tr>\n",
       "    <tr>\n",
       "      <th>29</th>\n",
       "      <td>https://youtu.be/wmiIUN-7qhE</td>\n",
       "      <td>tt1979376</td>\n",
       "      <td>1.821603e+07</td>\n",
       "      <td>1.411691e+05</td>\n",
       "      <td>120908065</td>\n",
       "      <td>Toy Story 4</td>\n",
       "    </tr>\n",
       "    <tr>\n",
       "      <th>...</th>\n",
       "      <td>...</td>\n",
       "      <td>...</td>\n",
       "      <td>...</td>\n",
       "      <td>...</td>\n",
       "      <td>...</td>\n",
       "      <td>...</td>\n",
       "    </tr>\n",
       "    <tr>\n",
       "      <th>75</th>\n",
       "      <td>https://youtu.be/io8Jw9BRRFY</td>\n",
       "      <td>tt0100168</td>\n",
       "      <td>1.463716e+06</td>\n",
       "      <td>4.845163e+05</td>\n",
       "      <td>4387360</td>\n",
       "      <td>Mo Better Blues</td>\n",
       "    </tr>\n",
       "    <tr>\n",
       "      <th>76</th>\n",
       "      <td>https://youtu.be/2iBFmKlO4BY</td>\n",
       "      <td>tt0103074</td>\n",
       "      <td>6.362079e+06</td>\n",
       "      <td>6.038133e+05</td>\n",
       "      <td>6101297</td>\n",
       "      <td>Thelma and Louise</td>\n",
       "    </tr>\n",
       "    <tr>\n",
       "      <th>77</th>\n",
       "      <td>https://youtu.be/pumf6m7d14w</td>\n",
       "      <td>tt0102526</td>\n",
       "      <td>2.078367e+06</td>\n",
       "      <td>6.123122e+05</td>\n",
       "      <td>7039622</td>\n",
       "      <td>New Jack City</td>\n",
       "    </tr>\n",
       "    <tr>\n",
       "      <th>78</th>\n",
       "      <td>https://youtu.be/zzwPuJklv4w</td>\n",
       "      <td>tt0104692</td>\n",
       "      <td>1.618536e+05</td>\n",
       "      <td>6.119116e+05</td>\n",
       "      <td>7751971</td>\n",
       "      <td>The Lawnmower Man</td>\n",
       "    </tr>\n",
       "    <tr>\n",
       "      <th>79</th>\n",
       "      <td>https://youtu.be/gG22XNhtnoY</td>\n",
       "      <td>tt0108052</td>\n",
       "      <td>4.404994e+05</td>\n",
       "      <td>1.439645e+04</td>\n",
       "      <td>656636</td>\n",
       "      <td>Schindler's List</td>\n",
       "    </tr>\n",
       "    <tr>\n",
       "      <th>80</th>\n",
       "      <td>https://youtu.be/g-HeV8Z6iXc</td>\n",
       "      <td>tt0109831</td>\n",
       "      <td>1.511722e+06</td>\n",
       "      <td>7.705816e+04</td>\n",
       "      <td>138486</td>\n",
       "      <td>Four Weddings and a Funeral</td>\n",
       "    </tr>\n",
       "    <tr>\n",
       "      <th>81</th>\n",
       "      <td>https://youtu.be/yNLaTtpovys</td>\n",
       "      <td>tt0113161</td>\n",
       "      <td>1.020255e+07</td>\n",
       "      <td>4.778993e+05</td>\n",
       "      <td>12700007</td>\n",
       "      <td>Get Shorty</td>\n",
       "    </tr>\n",
       "    <tr>\n",
       "      <th>82</th>\n",
       "      <td>https://youtu.be/rCCaTPY-z4Q</td>\n",
       "      <td>tt0116695</td>\n",
       "      <td>1.350278e+07</td>\n",
       "      <td>1.427229e+04</td>\n",
       "      <td>17084296</td>\n",
       "      <td>Jerry Maguire</td>\n",
       "    </tr>\n",
       "    <tr>\n",
       "      <th>83</th>\n",
       "      <td>https://youtu.be/IOmm1OD2ArQ</td>\n",
       "      <td>tt0120490</td>\n",
       "      <td>8.233505e+04</td>\n",
       "      <td>2.147550e+03</td>\n",
       "      <td>66920</td>\n",
       "      <td>Welcome to Sarajevo</td>\n",
       "    </tr>\n",
       "    <tr>\n",
       "      <th>84</th>\n",
       "      <td>https://youtu.be/qFee7ad2Zgo</td>\n",
       "      <td>tt0120376</td>\n",
       "      <td>1.007986e+05</td>\n",
       "      <td>2.260231e+03</td>\n",
       "      <td>217</td>\n",
       "      <td>Trojan War</td>\n",
       "    </tr>\n",
       "    <tr>\n",
       "      <th>85</th>\n",
       "      <td>https://youtu.be/JUEEOxIUOL8</td>\n",
       "      <td>tt0119196</td>\n",
       "      <td>3.712540e+04</td>\n",
       "      <td>3.608282e+05</td>\n",
       "      <td>118278</td>\n",
       "      <td>The Gingerbread Man</td>\n",
       "    </tr>\n",
       "    <tr>\n",
       "      <th>86</th>\n",
       "      <td>https://youtu.be/NJP7JzpfO88</td>\n",
       "      <td>tt0161023</td>\n",
       "      <td>7.056896e+04</td>\n",
       "      <td>2.293696e+05</td>\n",
       "      <td>80030</td>\n",
       "      <td>Tumbleweeds</td>\n",
       "    </tr>\n",
       "    <tr>\n",
       "      <th>87</th>\n",
       "      <td>https://youtu.be/i6zhRf6uQyA</td>\n",
       "      <td>tt0216772</td>\n",
       "      <td>6.465516e+04</td>\n",
       "      <td>1.838500e+03</td>\n",
       "      <td>576820</td>\n",
       "      <td>Turn it up</td>\n",
       "    </tr>\n",
       "    <tr>\n",
       "      <th>88</th>\n",
       "      <td>https://youtu.be/BPQQe2fFM3Q</td>\n",
       "      <td>tt0180052</td>\n",
       "      <td>8.069521e+06</td>\n",
       "      <td>7.704993e+04</td>\n",
       "      <td>2182900</td>\n",
       "      <td>The Adventures of Pluto Nash</td>\n",
       "    </tr>\n",
       "    <tr>\n",
       "      <th>89</th>\n",
       "      <td>https://youtu.be/r5X-hFf6Bwo</td>\n",
       "      <td>tt0167260</td>\n",
       "      <td>3.452693e+07</td>\n",
       "      <td>1.136105e+05</td>\n",
       "      <td>72629713</td>\n",
       "      <td>The Lord of the Rings: The Return of the King</td>\n",
       "    </tr>\n",
       "    <tr>\n",
       "      <th>90</th>\n",
       "      <td>https://youtu.be/lAxgztbYDbs</td>\n",
       "      <td>tt0304141</td>\n",
       "      <td>5.692106e+07</td>\n",
       "      <td>8.454015e+05</td>\n",
       "      <td>93687367</td>\n",
       "      <td>Harry Potter and the Prisoner of Azkaban</td>\n",
       "    </tr>\n",
       "    <tr>\n",
       "      <th>91</th>\n",
       "      <td>https://youtu.be/KIk5rfA5uWE</td>\n",
       "      <td>tt0371257</td>\n",
       "      <td>7.336096e+06</td>\n",
       "      <td>2.990989e+05</td>\n",
       "      <td>2188199</td>\n",
       "      <td>Stay</td>\n",
       "    </tr>\n",
       "    <tr>\n",
       "      <th>92</th>\n",
       "      <td>https://youtu.be/Q5hA3PN0uic</td>\n",
       "      <td>tt0460792</td>\n",
       "      <td>1.503445e+05</td>\n",
       "      <td>9.369897e+03</td>\n",
       "      <td>410804</td>\n",
       "      <td>Fast Food Nation</td>\n",
       "    </tr>\n",
       "    <tr>\n",
       "      <th>93</th>\n",
       "      <td>https://youtu.be/g7ArZ7VD-QQ</td>\n",
       "      <td>tt0758758</td>\n",
       "      <td>4.742823e+05</td>\n",
       "      <td>2.373889e+04</td>\n",
       "      <td>212440</td>\n",
       "      <td>Into the Wild</td>\n",
       "    </tr>\n",
       "    <tr>\n",
       "      <th>94</th>\n",
       "      <td>https://youtu.be/61-GFxjTyV0</td>\n",
       "      <td>tt1125849</td>\n",
       "      <td>2.903879e+05</td>\n",
       "      <td>6.501054e+03</td>\n",
       "      <td>202714</td>\n",
       "      <td>The Wrestler</td>\n",
       "    </tr>\n",
       "    <tr>\n",
       "      <th>95</th>\n",
       "      <td>https://youtu.be/AIzbwV7on6Q</td>\n",
       "      <td>tt1010048</td>\n",
       "      <td>1.142183e+05</td>\n",
       "      <td>NaN</td>\n",
       "      <td>360018</td>\n",
       "      <td>Slumdog Millionaire</td>\n",
       "    </tr>\n",
       "    <tr>\n",
       "      <th>96</th>\n",
       "      <td>https://youtu.be/Fi9AVKqHzHU</td>\n",
       "      <td>tt1116184</td>\n",
       "      <td>9.630715e+06</td>\n",
       "      <td>NaN</td>\n",
       "      <td>50353641</td>\n",
       "      <td>Jackass 3-D</td>\n",
       "    </tr>\n",
       "    <tr>\n",
       "      <th>97</th>\n",
       "      <td>https://youtu.be/6kw1UVovByw</td>\n",
       "      <td>tt1074638</td>\n",
       "      <td>7.325726e+07</td>\n",
       "      <td>NaN</td>\n",
       "      <td>88364714</td>\n",
       "      <td>Skyfall</td>\n",
       "    </tr>\n",
       "    <tr>\n",
       "      <th>98</th>\n",
       "      <td>https://youtu.be/C_Tsj_wTJkQ</td>\n",
       "      <td>tt1951265</td>\n",
       "      <td>7.730664e+07</td>\n",
       "      <td>NaN</td>\n",
       "      <td>121897634</td>\n",
       "      <td>The Hunger Games: Mocking Jay - Part 1</td>\n",
       "    </tr>\n",
       "    <tr>\n",
       "      <th>99</th>\n",
       "      <td>https://youtu.be/RFinNxS5KN4</td>\n",
       "      <td>tt0369610</td>\n",
       "      <td>6.704142e+07</td>\n",
       "      <td>NaN</td>\n",
       "      <td>208806270</td>\n",
       "      <td>Jurassic World</td>\n",
       "    </tr>\n",
       "    <tr>\n",
       "      <th>100</th>\n",
       "      <td>https://youtu.be/KqRdVOQ98k8</td>\n",
       "      <td>tt2582500</td>\n",
       "      <td>2.223468e+06</td>\n",
       "      <td>NaN</td>\n",
       "      <td>3613567</td>\n",
       "      <td>Shut In</td>\n",
       "    </tr>\n",
       "    <tr>\n",
       "      <th>101</th>\n",
       "      <td>https://youtu.be/Vu4UPet8Nyc</td>\n",
       "      <td>tt4209788</td>\n",
       "      <td>7.890425e+06</td>\n",
       "      <td>NaN</td>\n",
       "      <td>1172036</td>\n",
       "      <td>Molly's Game</td>\n",
       "    </tr>\n",
       "    <tr>\n",
       "      <th>102</th>\n",
       "      <td>https://youtu.be/pFc6I0rgmgY</td>\n",
       "      <td>tt4209788</td>\n",
       "      <td>2.933119e+06</td>\n",
       "      <td>NaN</td>\n",
       "      <td>10845330</td>\n",
       "      <td>BlacKkKlansman</td>\n",
       "    </tr>\n",
       "    <tr>\n",
       "      <th>103</th>\n",
       "      <td>https://youtu.be/7Pa_Weidt08</td>\n",
       "      <td>tt5117670</td>\n",
       "      <td>1.824660e+07</td>\n",
       "      <td>NaN</td>\n",
       "      <td>25010928</td>\n",
       "      <td>Peter Rabbit</td>\n",
       "    </tr>\n",
       "    <tr>\n",
       "      <th>104</th>\n",
       "      <td>https://youtu.be/JAHKQPBKSZ8</td>\n",
       "      <td>tt4154916</td>\n",
       "      <td>1.245582e+07</td>\n",
       "      <td>NaN</td>\n",
       "      <td>2375325</td>\n",
       "      <td>Replicas</td>\n",
       "    </tr>\n",
       "  </tbody>\n",
       "</table>\n",
       "<p>105 rows × 6 columns</p>\n",
       "</div>"
      ],
      "text/plain": [
       "                              url    imdb_id  meta_prediction  \\\n",
       "0    https://youtu.be/I1C2gCXo4Gs  tt0190590     4.938008e+05   \n",
       "1    https://youtu.be/PQNLfo-SOR4  tt1324999     3.068533e+07   \n",
       "2    https://youtu.be/Ocz50YJOFTM  tt1673434     3.708327e+07   \n",
       "3    https://youtu.be/gk39pXpBpFo  tt1394211     1.173165e+05   \n",
       "4    https://youtu.be/Ol6j9xlQN1w  tt1470827     4.372998e+04   \n",
       "5    https://youtu.be/BuE98oeL-e0  tt1584016     6.278867e+04   \n",
       "6    https://youtu.be/-JZ_moituIo  tt1245526     2.832331e+07   \n",
       "7    https://youtu.be/LrceH3952Hg  tt1152822     6.991606e+04   \n",
       "8    https://youtu.be/xrQt_pwGdB0  tt1032751     9.793239e+05   \n",
       "9    https://youtu.be/evhh3NE3fyw  tt1423995     2.133174e+05   \n",
       "10   https://youtu.be/XBfcGLBJ2Uc  tt1142977     1.483142e+07   \n",
       "11   https://youtu.be/nlvYKl1fjBI  tt0401729     6.450989e+07   \n",
       "12   https://youtu.be/AJ_1eS2Erhk  tt1564349     9.563591e+06   \n",
       "13   https://youtu.be/retX8Wj7JdM  tt1911658     1.508894e+07   \n",
       "14   https://youtu.be/dVDk7PXNXB8  tt2293640     3.628265e+07   \n",
       "15   https://youtu.be/T1GO-Jlfa58  tt1008023     1.965603e+05   \n",
       "16   https://youtu.be/JZVkLqcqmGk  tt0443496     3.293358e+04   \n",
       "17   https://youtu.be/NgZI5VZvAy8  tt0084805     7.100184e+06   \n",
       "18   https://youtu.be/oEp382HIisE  tt0114898     3.238589e+07   \n",
       "19   https://youtu.be/7TavVZMewpY  tt6105098     1.113095e+07   \n",
       "20   https://youtu.be/H6MLJG0RdDE  tt8364368     2.920073e+06   \n",
       "21   https://youtu.be/H6MLJG0RdDE  tt8364368     2.920073e+06   \n",
       "22   https://youtu.be/H6MLJG0RdDE  tt8364368     2.920073e+06   \n",
       "23   https://youtu.be/H6MLJG0RdDE  tt8364368     2.920073e+06   \n",
       "24   https://youtu.be/i5l6a5RiR1E  tt7734218     5.594926e+06   \n",
       "25   https://youtu.be/1Vnghdsjmd0  tt8772262     1.513786e+06   \n",
       "26   https://youtu.be/NtU5Ow74P3Y  tt6320628     4.818225e+07   \n",
       "27   https://youtu.be/6uqvgPm8U4c  tt8079248     3.028010e+06   \n",
       "28   https://youtu.be/bCxm7cTpBAs  tt8350360     4.160083e+06   \n",
       "29   https://youtu.be/wmiIUN-7qhE  tt1979376     1.821603e+07   \n",
       "..                            ...        ...              ...   \n",
       "75   https://youtu.be/io8Jw9BRRFY  tt0100168     1.463716e+06   \n",
       "76   https://youtu.be/2iBFmKlO4BY  tt0103074     6.362079e+06   \n",
       "77   https://youtu.be/pumf6m7d14w  tt0102526     2.078367e+06   \n",
       "78   https://youtu.be/zzwPuJklv4w  tt0104692     1.618536e+05   \n",
       "79   https://youtu.be/gG22XNhtnoY  tt0108052     4.404994e+05   \n",
       "80   https://youtu.be/g-HeV8Z6iXc  tt0109831     1.511722e+06   \n",
       "81   https://youtu.be/yNLaTtpovys  tt0113161     1.020255e+07   \n",
       "82   https://youtu.be/rCCaTPY-z4Q  tt0116695     1.350278e+07   \n",
       "83   https://youtu.be/IOmm1OD2ArQ  tt0120490     8.233505e+04   \n",
       "84   https://youtu.be/qFee7ad2Zgo  tt0120376     1.007986e+05   \n",
       "85   https://youtu.be/JUEEOxIUOL8  tt0119196     3.712540e+04   \n",
       "86   https://youtu.be/NJP7JzpfO88  tt0161023     7.056896e+04   \n",
       "87   https://youtu.be/i6zhRf6uQyA  tt0216772     6.465516e+04   \n",
       "88   https://youtu.be/BPQQe2fFM3Q  tt0180052     8.069521e+06   \n",
       "89   https://youtu.be/r5X-hFf6Bwo  tt0167260     3.452693e+07   \n",
       "90   https://youtu.be/lAxgztbYDbs  tt0304141     5.692106e+07   \n",
       "91   https://youtu.be/KIk5rfA5uWE  tt0371257     7.336096e+06   \n",
       "92   https://youtu.be/Q5hA3PN0uic  tt0460792     1.503445e+05   \n",
       "93   https://youtu.be/g7ArZ7VD-QQ  tt0758758     4.742823e+05   \n",
       "94   https://youtu.be/61-GFxjTyV0  tt1125849     2.903879e+05   \n",
       "95   https://youtu.be/AIzbwV7on6Q  tt1010048     1.142183e+05   \n",
       "96   https://youtu.be/Fi9AVKqHzHU  tt1116184     9.630715e+06   \n",
       "97   https://youtu.be/6kw1UVovByw  tt1074638     7.325726e+07   \n",
       "98   https://youtu.be/C_Tsj_wTJkQ  tt1951265     7.730664e+07   \n",
       "99   https://youtu.be/RFinNxS5KN4  tt0369610     6.704142e+07   \n",
       "100  https://youtu.be/KqRdVOQ98k8  tt2582500     2.223468e+06   \n",
       "101  https://youtu.be/Vu4UPet8Nyc  tt4209788     7.890425e+06   \n",
       "102  https://youtu.be/pFc6I0rgmgY  tt4209788     2.933119e+06   \n",
       "103  https://youtu.be/7Pa_Weidt08  tt5117670     1.824660e+07   \n",
       "104  https://youtu.be/JAHKQPBKSZ8  tt4154916     1.245582e+07   \n",
       "\n",
       "     video_prediction  ground_truth  \\\n",
       "0        9.318253e+04        195104   \n",
       "1        4.201326e+03     138122261   \n",
       "2        9.544957e+03     141067634   \n",
       "3        2.045526e+03          2692   \n",
       "4        9.367486e+03         20508   \n",
       "5        2.860280e+04        257285   \n",
       "6        6.123126e+05      21761408   \n",
       "7        5.762494e+05         31893   \n",
       "8        6.123134e+05       3048665   \n",
       "9        8.979757e+03         75766   \n",
       "10       8.906340e+04      11412213   \n",
       "11       4.931337e+05      30180188   \n",
       "12       2.266717e+05      19152401   \n",
       "13       6.113616e+05      25447444   \n",
       "14       5.977760e+05     115718405   \n",
       "15       2.443255e+05         96076   \n",
       "16       9.369492e+03         19253   \n",
       "17       6.122895e+05       5540470   \n",
       "18       1.629471e+05      21171780   \n",
       "19       1.320622e+07     191770759   \n",
       "20       2.675331e+05      12005210   \n",
       "21       2.675331e+05      12005210   \n",
       "22       2.675331e+05      12005210   \n",
       "23       2.675331e+05      12005210   \n",
       "24       3.354089e+04       8225384   \n",
       "25       4.407081e+04       6560030   \n",
       "26       8.691779e+03      92579212   \n",
       "27       5.659275e+05      17010050   \n",
       "28       1.261489e+04      20269723   \n",
       "29       1.411691e+05     120908065   \n",
       "..                ...           ...   \n",
       "75       4.845163e+05       4387360   \n",
       "76       6.038133e+05       6101297   \n",
       "77       6.123122e+05       7039622   \n",
       "78       6.119116e+05       7751971   \n",
       "79       1.439645e+04        656636   \n",
       "80       7.705816e+04        138486   \n",
       "81       4.778993e+05      12700007   \n",
       "82       1.427229e+04      17084296   \n",
       "83       2.147550e+03         66920   \n",
       "84       2.260231e+03           217   \n",
       "85       3.608282e+05        118278   \n",
       "86       2.293696e+05         80030   \n",
       "87       1.838500e+03        576820   \n",
       "88       7.704993e+04       2182900   \n",
       "89       1.136105e+05      72629713   \n",
       "90       8.454015e+05      93687367   \n",
       "91       2.990989e+05       2188199   \n",
       "92       9.369897e+03        410804   \n",
       "93       2.373889e+04        212440   \n",
       "94       6.501054e+03        202714   \n",
       "95                NaN        360018   \n",
       "96                NaN      50353641   \n",
       "97                NaN      88364714   \n",
       "98                NaN     121897634   \n",
       "99                NaN     208806270   \n",
       "100               NaN       3613567   \n",
       "101               NaN       1172036   \n",
       "102               NaN      10845330   \n",
       "103               NaN      25010928   \n",
       "104               NaN       2375325   \n",
       "\n",
       "                                              name  \n",
       "0                       O Brother, Where Art Thou?  \n",
       "1          The Twilight Saga: Breaking Dawn Part 1  \n",
       "2          The Twilight Saga: Breaking Dawn Part 2  \n",
       "3                          Helena From the Wedding  \n",
       "4                                         Monsters  \n",
       "5                                          Catfish  \n",
       "6                                              Red  \n",
       "7                                     Freakonomics  \n",
       "8                                The Warrior's Way  \n",
       "9                                            Stone  \n",
       "10                                   Frankenweenie  \n",
       "11                                     John Carter  \n",
       "12                                    Dolphin Tale  \n",
       "13                          Penguins of Madagascar  \n",
       "14                                         Minions  \n",
       "15                                  Proud American  \n",
       "16                                          Edmond  \n",
       "17                                         Tootsie  \n",
       "18                                      Waterworld  \n",
       "19                            The Lion King (2019)  \n",
       "20                                           Crawl  \n",
       "21                                           Crawl  \n",
       "22                                           Crawl  \n",
       "23                                           Crawl  \n",
       "24                                          Stuber  \n",
       "25                                       Midsommar  \n",
       "26                       Spider-Man: Far from Home  \n",
       "27                                       Yesterday  \n",
       "28                            Annabelle Comes Home  \n",
       "29                                     Toy Story 4  \n",
       "..                                             ...  \n",
       "75                                 Mo Better Blues  \n",
       "76                               Thelma and Louise  \n",
       "77                                   New Jack City  \n",
       "78                               The Lawnmower Man  \n",
       "79                                Schindler's List  \n",
       "80                     Four Weddings and a Funeral  \n",
       "81                                      Get Shorty  \n",
       "82                                   Jerry Maguire  \n",
       "83                             Welcome to Sarajevo  \n",
       "84                                      Trojan War  \n",
       "85                             The Gingerbread Man  \n",
       "86                                     Tumbleweeds  \n",
       "87                                      Turn it up  \n",
       "88                    The Adventures of Pluto Nash  \n",
       "89   The Lord of the Rings: The Return of the King  \n",
       "90        Harry Potter and the Prisoner of Azkaban  \n",
       "91                                            Stay  \n",
       "92                                Fast Food Nation  \n",
       "93                                   Into the Wild  \n",
       "94                                    The Wrestler  \n",
       "95                             Slumdog Millionaire  \n",
       "96                                     Jackass 3-D  \n",
       "97                                         Skyfall  \n",
       "98          The Hunger Games: Mocking Jay - Part 1  \n",
       "99                                  Jurassic World  \n",
       "100                                        Shut In  \n",
       "101                                   Molly's Game  \n",
       "102                                 BlacKkKlansman  \n",
       "103                                   Peter Rabbit  \n",
       "104                                       Replicas  \n",
       "\n",
       "[105 rows x 6 columns]"
      ]
     },
     "execution_count": 26,
     "metadata": {},
     "output_type": "execute_result"
    }
   ],
   "source": [
    "test_data = test_data.drop(columns=['imdb_id', 'prediction'])\n",
    "g4_result_final = pd.merge(g4_result,test_data,how='outer',on='url')\n",
    "g4_result_final"
   ]
  },
  {
   "cell_type": "code",
   "execution_count": 27,
   "metadata": {
    "scrolled": true
   },
   "outputs": [
    {
     "data": {
      "text/html": [
       "<div>\n",
       "<style scoped>\n",
       "    .dataframe tbody tr th:only-of-type {\n",
       "        vertical-align: middle;\n",
       "    }\n",
       "\n",
       "    .dataframe tbody tr th {\n",
       "        vertical-align: top;\n",
       "    }\n",
       "\n",
       "    .dataframe thead th {\n",
       "        text-align: right;\n",
       "    }\n",
       "</style>\n",
       "<table border=\"1\" class=\"dataframe\">\n",
       "  <thead>\n",
       "    <tr style=\"text-align: right;\">\n",
       "      <th></th>\n",
       "      <th>url</th>\n",
       "      <th>imdb_id</th>\n",
       "      <th>meta_prediction</th>\n",
       "      <th>video_prediction</th>\n",
       "      <th>ground_truth</th>\n",
       "      <th>name</th>\n",
       "    </tr>\n",
       "  </thead>\n",
       "  <tbody>\n",
       "    <tr>\n",
       "      <th>0</th>\n",
       "      <td>https://youtu.be/I1C2gCXo4Gs</td>\n",
       "      <td>tt0190590</td>\n",
       "      <td>4.938008e+05</td>\n",
       "      <td>9.318253e+04</td>\n",
       "      <td>195104</td>\n",
       "      <td>O Brother, Where Art Thou?</td>\n",
       "    </tr>\n",
       "    <tr>\n",
       "      <th>1</th>\n",
       "      <td>https://youtu.be/PQNLfo-SOR4</td>\n",
       "      <td>tt1324999</td>\n",
       "      <td>3.068533e+07</td>\n",
       "      <td>4.201326e+03</td>\n",
       "      <td>138122261</td>\n",
       "      <td>The Twilight Saga: Breaking Dawn Part 1</td>\n",
       "    </tr>\n",
       "    <tr>\n",
       "      <th>2</th>\n",
       "      <td>https://youtu.be/Ocz50YJOFTM</td>\n",
       "      <td>tt1673434</td>\n",
       "      <td>3.708327e+07</td>\n",
       "      <td>9.544957e+03</td>\n",
       "      <td>141067634</td>\n",
       "      <td>The Twilight Saga: Breaking Dawn Part 2</td>\n",
       "    </tr>\n",
       "    <tr>\n",
       "      <th>3</th>\n",
       "      <td>https://youtu.be/gk39pXpBpFo</td>\n",
       "      <td>tt1394211</td>\n",
       "      <td>1.173165e+05</td>\n",
       "      <td>2.045526e+03</td>\n",
       "      <td>2692</td>\n",
       "      <td>Helena From the Wedding</td>\n",
       "    </tr>\n",
       "    <tr>\n",
       "      <th>4</th>\n",
       "      <td>https://youtu.be/Ol6j9xlQN1w</td>\n",
       "      <td>tt1470827</td>\n",
       "      <td>4.372998e+04</td>\n",
       "      <td>9.367486e+03</td>\n",
       "      <td>20508</td>\n",
       "      <td>Monsters</td>\n",
       "    </tr>\n",
       "    <tr>\n",
       "      <th>5</th>\n",
       "      <td>https://youtu.be/BuE98oeL-e0</td>\n",
       "      <td>tt1584016</td>\n",
       "      <td>6.278867e+04</td>\n",
       "      <td>2.860280e+04</td>\n",
       "      <td>257285</td>\n",
       "      <td>Catfish</td>\n",
       "    </tr>\n",
       "    <tr>\n",
       "      <th>6</th>\n",
       "      <td>https://youtu.be/-JZ_moituIo</td>\n",
       "      <td>tt1245526</td>\n",
       "      <td>2.832331e+07</td>\n",
       "      <td>6.123126e+05</td>\n",
       "      <td>21761408</td>\n",
       "      <td>Red</td>\n",
       "    </tr>\n",
       "    <tr>\n",
       "      <th>7</th>\n",
       "      <td>https://youtu.be/LrceH3952Hg</td>\n",
       "      <td>tt1152822</td>\n",
       "      <td>6.991606e+04</td>\n",
       "      <td>5.762494e+05</td>\n",
       "      <td>31893</td>\n",
       "      <td>Freakonomics</td>\n",
       "    </tr>\n",
       "    <tr>\n",
       "      <th>8</th>\n",
       "      <td>https://youtu.be/xrQt_pwGdB0</td>\n",
       "      <td>tt1032751</td>\n",
       "      <td>9.793239e+05</td>\n",
       "      <td>6.123134e+05</td>\n",
       "      <td>3048665</td>\n",
       "      <td>The Warrior's Way</td>\n",
       "    </tr>\n",
       "    <tr>\n",
       "      <th>9</th>\n",
       "      <td>https://youtu.be/evhh3NE3fyw</td>\n",
       "      <td>tt1423995</td>\n",
       "      <td>2.133174e+05</td>\n",
       "      <td>8.979757e+03</td>\n",
       "      <td>75766</td>\n",
       "      <td>Stone</td>\n",
       "    </tr>\n",
       "    <tr>\n",
       "      <th>10</th>\n",
       "      <td>https://youtu.be/XBfcGLBJ2Uc</td>\n",
       "      <td>tt1142977</td>\n",
       "      <td>1.483142e+07</td>\n",
       "      <td>8.906340e+04</td>\n",
       "      <td>11412213</td>\n",
       "      <td>Frankenweenie</td>\n",
       "    </tr>\n",
       "    <tr>\n",
       "      <th>11</th>\n",
       "      <td>https://youtu.be/nlvYKl1fjBI</td>\n",
       "      <td>tt0401729</td>\n",
       "      <td>6.450989e+07</td>\n",
       "      <td>4.931337e+05</td>\n",
       "      <td>30180188</td>\n",
       "      <td>John Carter</td>\n",
       "    </tr>\n",
       "    <tr>\n",
       "      <th>12</th>\n",
       "      <td>https://youtu.be/AJ_1eS2Erhk</td>\n",
       "      <td>tt1564349</td>\n",
       "      <td>9.563591e+06</td>\n",
       "      <td>2.266717e+05</td>\n",
       "      <td>19152401</td>\n",
       "      <td>Dolphin Tale</td>\n",
       "    </tr>\n",
       "    <tr>\n",
       "      <th>13</th>\n",
       "      <td>https://youtu.be/retX8Wj7JdM</td>\n",
       "      <td>tt1911658</td>\n",
       "      <td>1.508894e+07</td>\n",
       "      <td>6.113616e+05</td>\n",
       "      <td>25447444</td>\n",
       "      <td>Penguins of Madagascar</td>\n",
       "    </tr>\n",
       "    <tr>\n",
       "      <th>14</th>\n",
       "      <td>https://youtu.be/dVDk7PXNXB8</td>\n",
       "      <td>tt2293640</td>\n",
       "      <td>3.628265e+07</td>\n",
       "      <td>5.977760e+05</td>\n",
       "      <td>115718405</td>\n",
       "      <td>Minions</td>\n",
       "    </tr>\n",
       "    <tr>\n",
       "      <th>15</th>\n",
       "      <td>https://youtu.be/T1GO-Jlfa58</td>\n",
       "      <td>tt1008023</td>\n",
       "      <td>1.965603e+05</td>\n",
       "      <td>2.443255e+05</td>\n",
       "      <td>96076</td>\n",
       "      <td>Proud American</td>\n",
       "    </tr>\n",
       "    <tr>\n",
       "      <th>16</th>\n",
       "      <td>https://youtu.be/JZVkLqcqmGk</td>\n",
       "      <td>tt0443496</td>\n",
       "      <td>3.293358e+04</td>\n",
       "      <td>9.369492e+03</td>\n",
       "      <td>19253</td>\n",
       "      <td>Edmond</td>\n",
       "    </tr>\n",
       "    <tr>\n",
       "      <th>17</th>\n",
       "      <td>https://youtu.be/NgZI5VZvAy8</td>\n",
       "      <td>tt0084805</td>\n",
       "      <td>7.100184e+06</td>\n",
       "      <td>6.122895e+05</td>\n",
       "      <td>5540470</td>\n",
       "      <td>Tootsie</td>\n",
       "    </tr>\n",
       "    <tr>\n",
       "      <th>18</th>\n",
       "      <td>https://youtu.be/oEp382HIisE</td>\n",
       "      <td>tt0114898</td>\n",
       "      <td>3.238589e+07</td>\n",
       "      <td>1.629471e+05</td>\n",
       "      <td>21171780</td>\n",
       "      <td>Waterworld</td>\n",
       "    </tr>\n",
       "    <tr>\n",
       "      <th>19</th>\n",
       "      <td>https://youtu.be/7TavVZMewpY</td>\n",
       "      <td>tt6105098</td>\n",
       "      <td>1.113095e+07</td>\n",
       "      <td>1.320622e+07</td>\n",
       "      <td>191770759</td>\n",
       "      <td>The Lion King (2019)</td>\n",
       "    </tr>\n",
       "    <tr>\n",
       "      <th>20</th>\n",
       "      <td>https://youtu.be/H6MLJG0RdDE</td>\n",
       "      <td>tt8364368</td>\n",
       "      <td>2.920073e+06</td>\n",
       "      <td>2.675331e+05</td>\n",
       "      <td>12005210</td>\n",
       "      <td>Crawl</td>\n",
       "    </tr>\n",
       "    <tr>\n",
       "      <th>24</th>\n",
       "      <td>https://youtu.be/i5l6a5RiR1E</td>\n",
       "      <td>tt7734218</td>\n",
       "      <td>5.594926e+06</td>\n",
       "      <td>3.354089e+04</td>\n",
       "      <td>8225384</td>\n",
       "      <td>Stuber</td>\n",
       "    </tr>\n",
       "    <tr>\n",
       "      <th>25</th>\n",
       "      <td>https://youtu.be/1Vnghdsjmd0</td>\n",
       "      <td>tt8772262</td>\n",
       "      <td>1.513786e+06</td>\n",
       "      <td>4.407081e+04</td>\n",
       "      <td>6560030</td>\n",
       "      <td>Midsommar</td>\n",
       "    </tr>\n",
       "    <tr>\n",
       "      <th>26</th>\n",
       "      <td>https://youtu.be/NtU5Ow74P3Y</td>\n",
       "      <td>tt6320628</td>\n",
       "      <td>4.818225e+07</td>\n",
       "      <td>8.691779e+03</td>\n",
       "      <td>92579212</td>\n",
       "      <td>Spider-Man: Far from Home</td>\n",
       "    </tr>\n",
       "    <tr>\n",
       "      <th>27</th>\n",
       "      <td>https://youtu.be/6uqvgPm8U4c</td>\n",
       "      <td>tt8079248</td>\n",
       "      <td>3.028010e+06</td>\n",
       "      <td>5.659275e+05</td>\n",
       "      <td>17010050</td>\n",
       "      <td>Yesterday</td>\n",
       "    </tr>\n",
       "    <tr>\n",
       "      <th>28</th>\n",
       "      <td>https://youtu.be/bCxm7cTpBAs</td>\n",
       "      <td>tt8350360</td>\n",
       "      <td>4.160083e+06</td>\n",
       "      <td>1.261489e+04</td>\n",
       "      <td>20269723</td>\n",
       "      <td>Annabelle Comes Home</td>\n",
       "    </tr>\n",
       "    <tr>\n",
       "      <th>29</th>\n",
       "      <td>https://youtu.be/wmiIUN-7qhE</td>\n",
       "      <td>tt1979376</td>\n",
       "      <td>1.821603e+07</td>\n",
       "      <td>1.411691e+05</td>\n",
       "      <td>120908065</td>\n",
       "      <td>Toy Story 4</td>\n",
       "    </tr>\n",
       "    <tr>\n",
       "      <th>30</th>\n",
       "      <td>https://youtu.be/ZFy8ZgLd574</td>\n",
       "      <td>tt8663516</td>\n",
       "      <td>2.859938e+06</td>\n",
       "      <td>3.723001e+02</td>\n",
       "      <td>14094594</td>\n",
       "      <td>Child's Play (2019)</td>\n",
       "    </tr>\n",
       "    <tr>\n",
       "      <th>31</th>\n",
       "      <td>https://youtu.be/WgWsV9a3ENA</td>\n",
       "      <td>tt7456310</td>\n",
       "      <td>1.265503e+06</td>\n",
       "      <td>5.348486e+05</td>\n",
       "      <td>3600647</td>\n",
       "      <td>Anna (2019)</td>\n",
       "    </tr>\n",
       "    <tr>\n",
       "      <th>32</th>\n",
       "      <td>https://youtu.be/BV-WEb2oxLk</td>\n",
       "      <td>tt2283336</td>\n",
       "      <td>1.352589e+07</td>\n",
       "      <td>3.769670e+02</td>\n",
       "      <td>30035838</td>\n",
       "      <td>Men in Black International</td>\n",
       "    </tr>\n",
       "    <tr>\n",
       "      <th>...</th>\n",
       "      <td>...</td>\n",
       "      <td>...</td>\n",
       "      <td>...</td>\n",
       "      <td>...</td>\n",
       "      <td>...</td>\n",
       "      <td>...</td>\n",
       "    </tr>\n",
       "    <tr>\n",
       "      <th>75</th>\n",
       "      <td>https://youtu.be/io8Jw9BRRFY</td>\n",
       "      <td>tt0100168</td>\n",
       "      <td>1.463716e+06</td>\n",
       "      <td>4.845163e+05</td>\n",
       "      <td>4387360</td>\n",
       "      <td>Mo Better Blues</td>\n",
       "    </tr>\n",
       "    <tr>\n",
       "      <th>76</th>\n",
       "      <td>https://youtu.be/2iBFmKlO4BY</td>\n",
       "      <td>tt0103074</td>\n",
       "      <td>6.362079e+06</td>\n",
       "      <td>6.038133e+05</td>\n",
       "      <td>6101297</td>\n",
       "      <td>Thelma and Louise</td>\n",
       "    </tr>\n",
       "    <tr>\n",
       "      <th>77</th>\n",
       "      <td>https://youtu.be/pumf6m7d14w</td>\n",
       "      <td>tt0102526</td>\n",
       "      <td>2.078367e+06</td>\n",
       "      <td>6.123122e+05</td>\n",
       "      <td>7039622</td>\n",
       "      <td>New Jack City</td>\n",
       "    </tr>\n",
       "    <tr>\n",
       "      <th>78</th>\n",
       "      <td>https://youtu.be/zzwPuJklv4w</td>\n",
       "      <td>tt0104692</td>\n",
       "      <td>1.618536e+05</td>\n",
       "      <td>6.119116e+05</td>\n",
       "      <td>7751971</td>\n",
       "      <td>The Lawnmower Man</td>\n",
       "    </tr>\n",
       "    <tr>\n",
       "      <th>79</th>\n",
       "      <td>https://youtu.be/gG22XNhtnoY</td>\n",
       "      <td>tt0108052</td>\n",
       "      <td>4.404994e+05</td>\n",
       "      <td>1.439645e+04</td>\n",
       "      <td>656636</td>\n",
       "      <td>Schindler's List</td>\n",
       "    </tr>\n",
       "    <tr>\n",
       "      <th>80</th>\n",
       "      <td>https://youtu.be/g-HeV8Z6iXc</td>\n",
       "      <td>tt0109831</td>\n",
       "      <td>1.511722e+06</td>\n",
       "      <td>7.705816e+04</td>\n",
       "      <td>138486</td>\n",
       "      <td>Four Weddings and a Funeral</td>\n",
       "    </tr>\n",
       "    <tr>\n",
       "      <th>81</th>\n",
       "      <td>https://youtu.be/yNLaTtpovys</td>\n",
       "      <td>tt0113161</td>\n",
       "      <td>1.020255e+07</td>\n",
       "      <td>4.778993e+05</td>\n",
       "      <td>12700007</td>\n",
       "      <td>Get Shorty</td>\n",
       "    </tr>\n",
       "    <tr>\n",
       "      <th>82</th>\n",
       "      <td>https://youtu.be/rCCaTPY-z4Q</td>\n",
       "      <td>tt0116695</td>\n",
       "      <td>1.350278e+07</td>\n",
       "      <td>1.427229e+04</td>\n",
       "      <td>17084296</td>\n",
       "      <td>Jerry Maguire</td>\n",
       "    </tr>\n",
       "    <tr>\n",
       "      <th>83</th>\n",
       "      <td>https://youtu.be/IOmm1OD2ArQ</td>\n",
       "      <td>tt0120490</td>\n",
       "      <td>8.233505e+04</td>\n",
       "      <td>2.147550e+03</td>\n",
       "      <td>66920</td>\n",
       "      <td>Welcome to Sarajevo</td>\n",
       "    </tr>\n",
       "    <tr>\n",
       "      <th>84</th>\n",
       "      <td>https://youtu.be/qFee7ad2Zgo</td>\n",
       "      <td>tt0120376</td>\n",
       "      <td>1.007986e+05</td>\n",
       "      <td>2.260231e+03</td>\n",
       "      <td>217</td>\n",
       "      <td>Trojan War</td>\n",
       "    </tr>\n",
       "    <tr>\n",
       "      <th>85</th>\n",
       "      <td>https://youtu.be/JUEEOxIUOL8</td>\n",
       "      <td>tt0119196</td>\n",
       "      <td>3.712540e+04</td>\n",
       "      <td>3.608282e+05</td>\n",
       "      <td>118278</td>\n",
       "      <td>The Gingerbread Man</td>\n",
       "    </tr>\n",
       "    <tr>\n",
       "      <th>86</th>\n",
       "      <td>https://youtu.be/NJP7JzpfO88</td>\n",
       "      <td>tt0161023</td>\n",
       "      <td>7.056896e+04</td>\n",
       "      <td>2.293696e+05</td>\n",
       "      <td>80030</td>\n",
       "      <td>Tumbleweeds</td>\n",
       "    </tr>\n",
       "    <tr>\n",
       "      <th>87</th>\n",
       "      <td>https://youtu.be/i6zhRf6uQyA</td>\n",
       "      <td>tt0216772</td>\n",
       "      <td>6.465516e+04</td>\n",
       "      <td>1.838500e+03</td>\n",
       "      <td>576820</td>\n",
       "      <td>Turn it up</td>\n",
       "    </tr>\n",
       "    <tr>\n",
       "      <th>88</th>\n",
       "      <td>https://youtu.be/BPQQe2fFM3Q</td>\n",
       "      <td>tt0180052</td>\n",
       "      <td>8.069521e+06</td>\n",
       "      <td>7.704993e+04</td>\n",
       "      <td>2182900</td>\n",
       "      <td>The Adventures of Pluto Nash</td>\n",
       "    </tr>\n",
       "    <tr>\n",
       "      <th>89</th>\n",
       "      <td>https://youtu.be/r5X-hFf6Bwo</td>\n",
       "      <td>tt0167260</td>\n",
       "      <td>3.452693e+07</td>\n",
       "      <td>1.136105e+05</td>\n",
       "      <td>72629713</td>\n",
       "      <td>The Lord of the Rings: The Return of the King</td>\n",
       "    </tr>\n",
       "    <tr>\n",
       "      <th>90</th>\n",
       "      <td>https://youtu.be/lAxgztbYDbs</td>\n",
       "      <td>tt0304141</td>\n",
       "      <td>5.692106e+07</td>\n",
       "      <td>8.454015e+05</td>\n",
       "      <td>93687367</td>\n",
       "      <td>Harry Potter and the Prisoner of Azkaban</td>\n",
       "    </tr>\n",
       "    <tr>\n",
       "      <th>91</th>\n",
       "      <td>https://youtu.be/KIk5rfA5uWE</td>\n",
       "      <td>tt0371257</td>\n",
       "      <td>7.336096e+06</td>\n",
       "      <td>2.990989e+05</td>\n",
       "      <td>2188199</td>\n",
       "      <td>Stay</td>\n",
       "    </tr>\n",
       "    <tr>\n",
       "      <th>92</th>\n",
       "      <td>https://youtu.be/Q5hA3PN0uic</td>\n",
       "      <td>tt0460792</td>\n",
       "      <td>1.503445e+05</td>\n",
       "      <td>9.369897e+03</td>\n",
       "      <td>410804</td>\n",
       "      <td>Fast Food Nation</td>\n",
       "    </tr>\n",
       "    <tr>\n",
       "      <th>93</th>\n",
       "      <td>https://youtu.be/g7ArZ7VD-QQ</td>\n",
       "      <td>tt0758758</td>\n",
       "      <td>4.742823e+05</td>\n",
       "      <td>2.373889e+04</td>\n",
       "      <td>212440</td>\n",
       "      <td>Into the Wild</td>\n",
       "    </tr>\n",
       "    <tr>\n",
       "      <th>94</th>\n",
       "      <td>https://youtu.be/61-GFxjTyV0</td>\n",
       "      <td>tt1125849</td>\n",
       "      <td>2.903879e+05</td>\n",
       "      <td>6.501054e+03</td>\n",
       "      <td>202714</td>\n",
       "      <td>The Wrestler</td>\n",
       "    </tr>\n",
       "    <tr>\n",
       "      <th>95</th>\n",
       "      <td>https://youtu.be/AIzbwV7on6Q</td>\n",
       "      <td>tt1010048</td>\n",
       "      <td>1.142183e+05</td>\n",
       "      <td>0.000000e+00</td>\n",
       "      <td>360018</td>\n",
       "      <td>Slumdog Millionaire</td>\n",
       "    </tr>\n",
       "    <tr>\n",
       "      <th>96</th>\n",
       "      <td>https://youtu.be/Fi9AVKqHzHU</td>\n",
       "      <td>tt1116184</td>\n",
       "      <td>9.630715e+06</td>\n",
       "      <td>0.000000e+00</td>\n",
       "      <td>50353641</td>\n",
       "      <td>Jackass 3-D</td>\n",
       "    </tr>\n",
       "    <tr>\n",
       "      <th>97</th>\n",
       "      <td>https://youtu.be/6kw1UVovByw</td>\n",
       "      <td>tt1074638</td>\n",
       "      <td>7.325726e+07</td>\n",
       "      <td>0.000000e+00</td>\n",
       "      <td>88364714</td>\n",
       "      <td>Skyfall</td>\n",
       "    </tr>\n",
       "    <tr>\n",
       "      <th>98</th>\n",
       "      <td>https://youtu.be/C_Tsj_wTJkQ</td>\n",
       "      <td>tt1951265</td>\n",
       "      <td>7.730664e+07</td>\n",
       "      <td>0.000000e+00</td>\n",
       "      <td>121897634</td>\n",
       "      <td>The Hunger Games: Mocking Jay - Part 1</td>\n",
       "    </tr>\n",
       "    <tr>\n",
       "      <th>99</th>\n",
       "      <td>https://youtu.be/RFinNxS5KN4</td>\n",
       "      <td>tt0369610</td>\n",
       "      <td>6.704142e+07</td>\n",
       "      <td>0.000000e+00</td>\n",
       "      <td>208806270</td>\n",
       "      <td>Jurassic World</td>\n",
       "    </tr>\n",
       "    <tr>\n",
       "      <th>100</th>\n",
       "      <td>https://youtu.be/KqRdVOQ98k8</td>\n",
       "      <td>tt2582500</td>\n",
       "      <td>2.223468e+06</td>\n",
       "      <td>0.000000e+00</td>\n",
       "      <td>3613567</td>\n",
       "      <td>Shut In</td>\n",
       "    </tr>\n",
       "    <tr>\n",
       "      <th>101</th>\n",
       "      <td>https://youtu.be/Vu4UPet8Nyc</td>\n",
       "      <td>tt4209788</td>\n",
       "      <td>7.890425e+06</td>\n",
       "      <td>0.000000e+00</td>\n",
       "      <td>1172036</td>\n",
       "      <td>Molly's Game</td>\n",
       "    </tr>\n",
       "    <tr>\n",
       "      <th>102</th>\n",
       "      <td>https://youtu.be/pFc6I0rgmgY</td>\n",
       "      <td>tt4209788</td>\n",
       "      <td>2.933119e+06</td>\n",
       "      <td>0.000000e+00</td>\n",
       "      <td>10845330</td>\n",
       "      <td>BlacKkKlansman</td>\n",
       "    </tr>\n",
       "    <tr>\n",
       "      <th>103</th>\n",
       "      <td>https://youtu.be/7Pa_Weidt08</td>\n",
       "      <td>tt5117670</td>\n",
       "      <td>1.824660e+07</td>\n",
       "      <td>0.000000e+00</td>\n",
       "      <td>25010928</td>\n",
       "      <td>Peter Rabbit</td>\n",
       "    </tr>\n",
       "    <tr>\n",
       "      <th>104</th>\n",
       "      <td>https://youtu.be/JAHKQPBKSZ8</td>\n",
       "      <td>tt4154916</td>\n",
       "      <td>1.245582e+07</td>\n",
       "      <td>0.000000e+00</td>\n",
       "      <td>2375325</td>\n",
       "      <td>Replicas</td>\n",
       "    </tr>\n",
       "  </tbody>\n",
       "</table>\n",
       "<p>102 rows × 6 columns</p>\n",
       "</div>"
      ],
      "text/plain": [
       "                              url    imdb_id  meta_prediction  \\\n",
       "0    https://youtu.be/I1C2gCXo4Gs  tt0190590     4.938008e+05   \n",
       "1    https://youtu.be/PQNLfo-SOR4  tt1324999     3.068533e+07   \n",
       "2    https://youtu.be/Ocz50YJOFTM  tt1673434     3.708327e+07   \n",
       "3    https://youtu.be/gk39pXpBpFo  tt1394211     1.173165e+05   \n",
       "4    https://youtu.be/Ol6j9xlQN1w  tt1470827     4.372998e+04   \n",
       "5    https://youtu.be/BuE98oeL-e0  tt1584016     6.278867e+04   \n",
       "6    https://youtu.be/-JZ_moituIo  tt1245526     2.832331e+07   \n",
       "7    https://youtu.be/LrceH3952Hg  tt1152822     6.991606e+04   \n",
       "8    https://youtu.be/xrQt_pwGdB0  tt1032751     9.793239e+05   \n",
       "9    https://youtu.be/evhh3NE3fyw  tt1423995     2.133174e+05   \n",
       "10   https://youtu.be/XBfcGLBJ2Uc  tt1142977     1.483142e+07   \n",
       "11   https://youtu.be/nlvYKl1fjBI  tt0401729     6.450989e+07   \n",
       "12   https://youtu.be/AJ_1eS2Erhk  tt1564349     9.563591e+06   \n",
       "13   https://youtu.be/retX8Wj7JdM  tt1911658     1.508894e+07   \n",
       "14   https://youtu.be/dVDk7PXNXB8  tt2293640     3.628265e+07   \n",
       "15   https://youtu.be/T1GO-Jlfa58  tt1008023     1.965603e+05   \n",
       "16   https://youtu.be/JZVkLqcqmGk  tt0443496     3.293358e+04   \n",
       "17   https://youtu.be/NgZI5VZvAy8  tt0084805     7.100184e+06   \n",
       "18   https://youtu.be/oEp382HIisE  tt0114898     3.238589e+07   \n",
       "19   https://youtu.be/7TavVZMewpY  tt6105098     1.113095e+07   \n",
       "20   https://youtu.be/H6MLJG0RdDE  tt8364368     2.920073e+06   \n",
       "24   https://youtu.be/i5l6a5RiR1E  tt7734218     5.594926e+06   \n",
       "25   https://youtu.be/1Vnghdsjmd0  tt8772262     1.513786e+06   \n",
       "26   https://youtu.be/NtU5Ow74P3Y  tt6320628     4.818225e+07   \n",
       "27   https://youtu.be/6uqvgPm8U4c  tt8079248     3.028010e+06   \n",
       "28   https://youtu.be/bCxm7cTpBAs  tt8350360     4.160083e+06   \n",
       "29   https://youtu.be/wmiIUN-7qhE  tt1979376     1.821603e+07   \n",
       "30   https://youtu.be/ZFy8ZgLd574  tt8663516     2.859938e+06   \n",
       "31   https://youtu.be/WgWsV9a3ENA  tt7456310     1.265503e+06   \n",
       "32   https://youtu.be/BV-WEb2oxLk  tt2283336     1.352589e+07   \n",
       "..                            ...        ...              ...   \n",
       "75   https://youtu.be/io8Jw9BRRFY  tt0100168     1.463716e+06   \n",
       "76   https://youtu.be/2iBFmKlO4BY  tt0103074     6.362079e+06   \n",
       "77   https://youtu.be/pumf6m7d14w  tt0102526     2.078367e+06   \n",
       "78   https://youtu.be/zzwPuJklv4w  tt0104692     1.618536e+05   \n",
       "79   https://youtu.be/gG22XNhtnoY  tt0108052     4.404994e+05   \n",
       "80   https://youtu.be/g-HeV8Z6iXc  tt0109831     1.511722e+06   \n",
       "81   https://youtu.be/yNLaTtpovys  tt0113161     1.020255e+07   \n",
       "82   https://youtu.be/rCCaTPY-z4Q  tt0116695     1.350278e+07   \n",
       "83   https://youtu.be/IOmm1OD2ArQ  tt0120490     8.233505e+04   \n",
       "84   https://youtu.be/qFee7ad2Zgo  tt0120376     1.007986e+05   \n",
       "85   https://youtu.be/JUEEOxIUOL8  tt0119196     3.712540e+04   \n",
       "86   https://youtu.be/NJP7JzpfO88  tt0161023     7.056896e+04   \n",
       "87   https://youtu.be/i6zhRf6uQyA  tt0216772     6.465516e+04   \n",
       "88   https://youtu.be/BPQQe2fFM3Q  tt0180052     8.069521e+06   \n",
       "89   https://youtu.be/r5X-hFf6Bwo  tt0167260     3.452693e+07   \n",
       "90   https://youtu.be/lAxgztbYDbs  tt0304141     5.692106e+07   \n",
       "91   https://youtu.be/KIk5rfA5uWE  tt0371257     7.336096e+06   \n",
       "92   https://youtu.be/Q5hA3PN0uic  tt0460792     1.503445e+05   \n",
       "93   https://youtu.be/g7ArZ7VD-QQ  tt0758758     4.742823e+05   \n",
       "94   https://youtu.be/61-GFxjTyV0  tt1125849     2.903879e+05   \n",
       "95   https://youtu.be/AIzbwV7on6Q  tt1010048     1.142183e+05   \n",
       "96   https://youtu.be/Fi9AVKqHzHU  tt1116184     9.630715e+06   \n",
       "97   https://youtu.be/6kw1UVovByw  tt1074638     7.325726e+07   \n",
       "98   https://youtu.be/C_Tsj_wTJkQ  tt1951265     7.730664e+07   \n",
       "99   https://youtu.be/RFinNxS5KN4  tt0369610     6.704142e+07   \n",
       "100  https://youtu.be/KqRdVOQ98k8  tt2582500     2.223468e+06   \n",
       "101  https://youtu.be/Vu4UPet8Nyc  tt4209788     7.890425e+06   \n",
       "102  https://youtu.be/pFc6I0rgmgY  tt4209788     2.933119e+06   \n",
       "103  https://youtu.be/7Pa_Weidt08  tt5117670     1.824660e+07   \n",
       "104  https://youtu.be/JAHKQPBKSZ8  tt4154916     1.245582e+07   \n",
       "\n",
       "     video_prediction  ground_truth  \\\n",
       "0        9.318253e+04        195104   \n",
       "1        4.201326e+03     138122261   \n",
       "2        9.544957e+03     141067634   \n",
       "3        2.045526e+03          2692   \n",
       "4        9.367486e+03         20508   \n",
       "5        2.860280e+04        257285   \n",
       "6        6.123126e+05      21761408   \n",
       "7        5.762494e+05         31893   \n",
       "8        6.123134e+05       3048665   \n",
       "9        8.979757e+03         75766   \n",
       "10       8.906340e+04      11412213   \n",
       "11       4.931337e+05      30180188   \n",
       "12       2.266717e+05      19152401   \n",
       "13       6.113616e+05      25447444   \n",
       "14       5.977760e+05     115718405   \n",
       "15       2.443255e+05         96076   \n",
       "16       9.369492e+03         19253   \n",
       "17       6.122895e+05       5540470   \n",
       "18       1.629471e+05      21171780   \n",
       "19       1.320622e+07     191770759   \n",
       "20       2.675331e+05      12005210   \n",
       "24       3.354089e+04       8225384   \n",
       "25       4.407081e+04       6560030   \n",
       "26       8.691779e+03      92579212   \n",
       "27       5.659275e+05      17010050   \n",
       "28       1.261489e+04      20269723   \n",
       "29       1.411691e+05     120908065   \n",
       "30       3.723001e+02      14094594   \n",
       "31       5.348486e+05       3600647   \n",
       "32       3.769670e+02      30035838   \n",
       "..                ...           ...   \n",
       "75       4.845163e+05       4387360   \n",
       "76       6.038133e+05       6101297   \n",
       "77       6.123122e+05       7039622   \n",
       "78       6.119116e+05       7751971   \n",
       "79       1.439645e+04        656636   \n",
       "80       7.705816e+04        138486   \n",
       "81       4.778993e+05      12700007   \n",
       "82       1.427229e+04      17084296   \n",
       "83       2.147550e+03         66920   \n",
       "84       2.260231e+03           217   \n",
       "85       3.608282e+05        118278   \n",
       "86       2.293696e+05         80030   \n",
       "87       1.838500e+03        576820   \n",
       "88       7.704993e+04       2182900   \n",
       "89       1.136105e+05      72629713   \n",
       "90       8.454015e+05      93687367   \n",
       "91       2.990989e+05       2188199   \n",
       "92       9.369897e+03        410804   \n",
       "93       2.373889e+04        212440   \n",
       "94       6.501054e+03        202714   \n",
       "95       0.000000e+00        360018   \n",
       "96       0.000000e+00      50353641   \n",
       "97       0.000000e+00      88364714   \n",
       "98       0.000000e+00     121897634   \n",
       "99       0.000000e+00     208806270   \n",
       "100      0.000000e+00       3613567   \n",
       "101      0.000000e+00       1172036   \n",
       "102      0.000000e+00      10845330   \n",
       "103      0.000000e+00      25010928   \n",
       "104      0.000000e+00       2375325   \n",
       "\n",
       "                                              name  \n",
       "0                       O Brother, Where Art Thou?  \n",
       "1          The Twilight Saga: Breaking Dawn Part 1  \n",
       "2          The Twilight Saga: Breaking Dawn Part 2  \n",
       "3                          Helena From the Wedding  \n",
       "4                                         Monsters  \n",
       "5                                          Catfish  \n",
       "6                                              Red  \n",
       "7                                     Freakonomics  \n",
       "8                                The Warrior's Way  \n",
       "9                                            Stone  \n",
       "10                                   Frankenweenie  \n",
       "11                                     John Carter  \n",
       "12                                    Dolphin Tale  \n",
       "13                          Penguins of Madagascar  \n",
       "14                                         Minions  \n",
       "15                                  Proud American  \n",
       "16                                          Edmond  \n",
       "17                                         Tootsie  \n",
       "18                                      Waterworld  \n",
       "19                            The Lion King (2019)  \n",
       "20                                           Crawl  \n",
       "24                                          Stuber  \n",
       "25                                       Midsommar  \n",
       "26                       Spider-Man: Far from Home  \n",
       "27                                       Yesterday  \n",
       "28                            Annabelle Comes Home  \n",
       "29                                     Toy Story 4  \n",
       "30                             Child's Play (2019)  \n",
       "31                                     Anna (2019)  \n",
       "32                      Men in Black International  \n",
       "..                                             ...  \n",
       "75                                 Mo Better Blues  \n",
       "76                               Thelma and Louise  \n",
       "77                                   New Jack City  \n",
       "78                               The Lawnmower Man  \n",
       "79                                Schindler's List  \n",
       "80                     Four Weddings and a Funeral  \n",
       "81                                      Get Shorty  \n",
       "82                                   Jerry Maguire  \n",
       "83                             Welcome to Sarajevo  \n",
       "84                                      Trojan War  \n",
       "85                             The Gingerbread Man  \n",
       "86                                     Tumbleweeds  \n",
       "87                                      Turn it up  \n",
       "88                    The Adventures of Pluto Nash  \n",
       "89   The Lord of the Rings: The Return of the King  \n",
       "90        Harry Potter and the Prisoner of Azkaban  \n",
       "91                                            Stay  \n",
       "92                                Fast Food Nation  \n",
       "93                                   Into the Wild  \n",
       "94                                    The Wrestler  \n",
       "95                             Slumdog Millionaire  \n",
       "96                                     Jackass 3-D  \n",
       "97                                         Skyfall  \n",
       "98          The Hunger Games: Mocking Jay - Part 1  \n",
       "99                                  Jurassic World  \n",
       "100                                        Shut In  \n",
       "101                                   Molly's Game  \n",
       "102                                 BlacKkKlansman  \n",
       "103                                   Peter Rabbit  \n",
       "104                                       Replicas  \n",
       "\n",
       "[102 rows x 6 columns]"
      ]
     },
     "execution_count": 27,
     "metadata": {},
     "output_type": "execute_result"
    }
   ],
   "source": [
    "g4_result_final = g4_result_final.drop_duplicates(subset=None, keep='first', inplace=False)\n",
    "g4_result_final = g4_result_final.fillna(0)\n",
    "g4_result_final"
   ]
  },
  {
   "cell_type": "code",
   "execution_count": 28,
   "metadata": {},
   "outputs": [
    {
     "data": {
      "application/vnd.plotly.v1+json": {
       "config": {
        "plotlyServerURL": "https://plot.ly"
       },
       "data": [
        {
         "marker": {
          "color": [
           195104,
           138122261,
           141067634,
           2692,
           20508,
           257285,
           21761408,
           31893,
           3048665,
           75766,
           11412213,
           30180188,
           19152401,
           25447444,
           115718405,
           96076,
           19253,
           5540470,
           21171780,
           191770759,
           12005210,
           8225384,
           6560030,
           92579212,
           17010050,
           20269723,
           120908065,
           14094594,
           3600647,
           30035838,
           8901419,
           246305,
           46652680,
           32828348,
           47776293,
           25725722,
           23019618,
           25337110,
           318403,
           117161,
           26334,
           7061513,
           7465343,
           31665,
           8085915,
           7610663,
           14711124,
           587591,
           789409,
           41082018,
           5533844,
           284776,
           5324240,
           340456,
           115418,
           9454238,
           6275647,
           11152500,
           8570007,
           7348200,
           14347221,
           4858152,
           25642340,
           15269388,
           71117625,
           21401121,
           9858380,
           14102888,
           15214805,
           55214334,
           9292248,
           24733155,
           4387360,
           6101297,
           7039622,
           7751971,
           656636,
           138486,
           12700007,
           17084296,
           66920,
           217,
           118278,
           80030,
           576820,
           2182900,
           72629713,
           93687367,
           2188199,
           410804,
           212440,
           202714,
           360018,
           50353641,
           88364714,
           121897634,
           208806270,
           3613567,
           1172036,
           10845330,
           25010928,
           2375325
          ]
         },
         "mode": "markers",
         "text": [
          "O Brother, Where Art Thou?",
          "The Twilight Saga: Breaking Dawn Part 1",
          "The Twilight Saga: Breaking Dawn Part 2",
          "Helena From the Wedding",
          "Monsters",
          "Catfish",
          "Red",
          "Freakonomics",
          "The Warrior's Way",
          "Stone",
          "Frankenweenie",
          "John Carter",
          "Dolphin Tale",
          "Penguins of Madagascar",
          "Minions",
          "Proud American",
          "Edmond",
          "Tootsie",
          "Waterworld",
          "The Lion King (2019)",
          "Crawl",
          "Stuber",
          "Midsommar",
          "Spider-Man: Far from Home",
          "Yesterday",
          "Annabelle Comes Home",
          "Toy Story 4",
          "Child's Play (2019)",
          "Anna (2019)",
          "Men in Black International",
          "Shaft (2019) ",
          "Late Night",
          "The Secret Life of Pets 2",
          "Dark Phoenix",
          "Godzilla:King of the Monsters",
          "Rocketman",
          "Return of the Jedi",
          "Indiana Jones and the Temple of Doom",
          "The Idolmaker",
          "The Grass Harp",
          "The Grand",
          "Jaws",
          "Superman (1978)",
          "Clerks",
          "Juice",
          "He Got Game",
          "White Men Can't Jump",
          "Mulholland Drive",
          "Blue Velvet",
          "Once Upon a Time in Hollywood",
          "The Big Lebowski",
          "Train to Busan",
          "Pride and Prejudice and Zombies",
          "Dead Poets Society",
          "A Fish Called Wanda",
          "The Witches of Eastwick",
          "Ferris Bueller's Day Off",
          "Back to the Future",
          "Police Academy",
          "Trading Places",
          "Star Trek II The Wrath of Khan",
          "The Blues Brothers",
          "V For Vendetta",
          "In the Line of Fire",
          "Us",
          "The Forbidden Kingdom",
          "Rumble in the Bronx",
          "Machete",
          "Beverly Hills Cop",
          "Watchmen",
          "Jackie Brown",
          "Zombieland",
          "Mo Better Blues",
          "Thelma and Louise",
          "New Jack City",
          "The Lawnmower Man",
          "Schindler's List",
          "Four Weddings and a Funeral",
          "Get Shorty",
          "Jerry Maguire",
          "Welcome to Sarajevo",
          "Trojan War",
          "The Gingerbread Man",
          "Tumbleweeds",
          "Turn it up",
          "The Adventures of Pluto Nash",
          "The Lord of the Rings: The Return of the King",
          "Harry Potter and the Prisoner of Azkaban",
          "Stay",
          "Fast Food Nation",
          "Into the Wild",
          "The Wrestler",
          "Slumdog Millionaire",
          "Jackass 3-D",
          "Skyfall",
          "The Hunger Games: Mocking Jay - Part 1",
          "Jurassic World",
          "Shut In",
          "Molly's Game",
          "BlacKkKlansman",
          "Peter Rabbit",
          "Replicas"
         ],
         "type": "scatter",
         "x": [
          "O Brother, Where Art Thou?",
          "The Twilight Saga: Breaking Dawn Part 1",
          "The Twilight Saga: Breaking Dawn Part 2",
          "Helena From the Wedding",
          "Monsters",
          "Catfish",
          "Red",
          "Freakonomics",
          "The Warrior's Way",
          "Stone",
          "Frankenweenie",
          "John Carter",
          "Dolphin Tale",
          "Penguins of Madagascar",
          "Minions",
          "Proud American",
          "Edmond",
          "Tootsie",
          "Waterworld",
          "The Lion King (2019)",
          "Crawl",
          "Stuber",
          "Midsommar",
          "Spider-Man: Far from Home",
          "Yesterday",
          "Annabelle Comes Home",
          "Toy Story 4",
          "Child's Play (2019)",
          "Anna (2019)",
          "Men in Black International",
          "Shaft (2019) ",
          "Late Night",
          "The Secret Life of Pets 2",
          "Dark Phoenix",
          "Godzilla:King of the Monsters",
          "Rocketman",
          "Return of the Jedi",
          "Indiana Jones and the Temple of Doom",
          "The Idolmaker",
          "The Grass Harp",
          "The Grand",
          "Jaws",
          "Superman (1978)",
          "Clerks",
          "Juice",
          "He Got Game",
          "White Men Can't Jump",
          "Mulholland Drive",
          "Blue Velvet",
          "Once Upon a Time in Hollywood",
          "The Big Lebowski",
          "Train to Busan",
          "Pride and Prejudice and Zombies",
          "Dead Poets Society",
          "A Fish Called Wanda",
          "The Witches of Eastwick",
          "Ferris Bueller's Day Off",
          "Back to the Future",
          "Police Academy",
          "Trading Places",
          "Star Trek II The Wrath of Khan",
          "The Blues Brothers",
          "V For Vendetta",
          "In the Line of Fire",
          "Us",
          "The Forbidden Kingdom",
          "Rumble in the Bronx",
          "Machete",
          "Beverly Hills Cop",
          "Watchmen",
          "Jackie Brown",
          "Zombieland",
          "Mo Better Blues",
          "Thelma and Louise",
          "New Jack City",
          "The Lawnmower Man",
          "Schindler's List",
          "Four Weddings and a Funeral",
          "Get Shorty",
          "Jerry Maguire",
          "Welcome to Sarajevo",
          "Trojan War",
          "The Gingerbread Man",
          "Tumbleweeds",
          "Turn it up",
          "The Adventures of Pluto Nash",
          "The Lord of the Rings: The Return of the King",
          "Harry Potter and the Prisoner of Azkaban",
          "Stay",
          "Fast Food Nation",
          "Into the Wild",
          "The Wrestler",
          "Slumdog Millionaire",
          "Jackass 3-D",
          "Skyfall",
          "The Hunger Games: Mocking Jay - Part 1",
          "Jurassic World",
          "Shut In",
          "Molly's Game",
          "BlacKkKlansman",
          "Peter Rabbit",
          "Replicas"
         ],
         "y": [
          195104,
          138122261,
          141067634,
          2692,
          20508,
          257285,
          21761408,
          31893,
          3048665,
          75766,
          11412213,
          30180188,
          19152401,
          25447444,
          115718405,
          96076,
          19253,
          5540470,
          21171780,
          191770759,
          12005210,
          8225384,
          6560030,
          92579212,
          17010050,
          20269723,
          120908065,
          14094594,
          3600647,
          30035838,
          8901419,
          246305,
          46652680,
          32828348,
          47776293,
          25725722,
          23019618,
          25337110,
          318403,
          117161,
          26334,
          7061513,
          7465343,
          31665,
          8085915,
          7610663,
          14711124,
          587591,
          789409,
          41082018,
          5533844,
          284776,
          5324240,
          340456,
          115418,
          9454238,
          6275647,
          11152500,
          8570007,
          7348200,
          14347221,
          4858152,
          25642340,
          15269388,
          71117625,
          21401121,
          9858380,
          14102888,
          15214805,
          55214334,
          9292248,
          24733155,
          4387360,
          6101297,
          7039622,
          7751971,
          656636,
          138486,
          12700007,
          17084296,
          66920,
          217,
          118278,
          80030,
          576820,
          2182900,
          72629713,
          93687367,
          2188199,
          410804,
          212440,
          202714,
          360018,
          50353641,
          88364714,
          121897634,
          208806270,
          3613567,
          1172036,
          10845330,
          25010928,
          2375325
         ]
        }
       ],
       "layout": {
        "template": {
         "data": {
          "bar": [
           {
            "error_x": {
             "color": "#2a3f5f"
            },
            "error_y": {
             "color": "#2a3f5f"
            },
            "marker": {
             "line": {
              "color": "#E5ECF6",
              "width": 0.5
             }
            },
            "type": "bar"
           }
          ],
          "barpolar": [
           {
            "marker": {
             "line": {
              "color": "#E5ECF6",
              "width": 0.5
             }
            },
            "type": "barpolar"
           }
          ],
          "carpet": [
           {
            "aaxis": {
             "endlinecolor": "#2a3f5f",
             "gridcolor": "white",
             "linecolor": "white",
             "minorgridcolor": "white",
             "startlinecolor": "#2a3f5f"
            },
            "baxis": {
             "endlinecolor": "#2a3f5f",
             "gridcolor": "white",
             "linecolor": "white",
             "minorgridcolor": "white",
             "startlinecolor": "#2a3f5f"
            },
            "type": "carpet"
           }
          ],
          "choropleth": [
           {
            "colorbar": {
             "outlinewidth": 0,
             "ticks": ""
            },
            "type": "choropleth"
           }
          ],
          "contour": [
           {
            "colorbar": {
             "outlinewidth": 0,
             "ticks": ""
            },
            "colorscale": [
             [
              0,
              "#0d0887"
             ],
             [
              0.1111111111111111,
              "#46039f"
             ],
             [
              0.2222222222222222,
              "#7201a8"
             ],
             [
              0.3333333333333333,
              "#9c179e"
             ],
             [
              0.4444444444444444,
              "#bd3786"
             ],
             [
              0.5555555555555556,
              "#d8576b"
             ],
             [
              0.6666666666666666,
              "#ed7953"
             ],
             [
              0.7777777777777778,
              "#fb9f3a"
             ],
             [
              0.8888888888888888,
              "#fdca26"
             ],
             [
              1,
              "#f0f921"
             ]
            ],
            "type": "contour"
           }
          ],
          "contourcarpet": [
           {
            "colorbar": {
             "outlinewidth": 0,
             "ticks": ""
            },
            "type": "contourcarpet"
           }
          ],
          "heatmap": [
           {
            "colorbar": {
             "outlinewidth": 0,
             "ticks": ""
            },
            "colorscale": [
             [
              0,
              "#0d0887"
             ],
             [
              0.1111111111111111,
              "#46039f"
             ],
             [
              0.2222222222222222,
              "#7201a8"
             ],
             [
              0.3333333333333333,
              "#9c179e"
             ],
             [
              0.4444444444444444,
              "#bd3786"
             ],
             [
              0.5555555555555556,
              "#d8576b"
             ],
             [
              0.6666666666666666,
              "#ed7953"
             ],
             [
              0.7777777777777778,
              "#fb9f3a"
             ],
             [
              0.8888888888888888,
              "#fdca26"
             ],
             [
              1,
              "#f0f921"
             ]
            ],
            "type": "heatmap"
           }
          ],
          "heatmapgl": [
           {
            "colorbar": {
             "outlinewidth": 0,
             "ticks": ""
            },
            "colorscale": [
             [
              0,
              "#0d0887"
             ],
             [
              0.1111111111111111,
              "#46039f"
             ],
             [
              0.2222222222222222,
              "#7201a8"
             ],
             [
              0.3333333333333333,
              "#9c179e"
             ],
             [
              0.4444444444444444,
              "#bd3786"
             ],
             [
              0.5555555555555556,
              "#d8576b"
             ],
             [
              0.6666666666666666,
              "#ed7953"
             ],
             [
              0.7777777777777778,
              "#fb9f3a"
             ],
             [
              0.8888888888888888,
              "#fdca26"
             ],
             [
              1,
              "#f0f921"
             ]
            ],
            "type": "heatmapgl"
           }
          ],
          "histogram": [
           {
            "marker": {
             "colorbar": {
              "outlinewidth": 0,
              "ticks": ""
             }
            },
            "type": "histogram"
           }
          ],
          "histogram2d": [
           {
            "colorbar": {
             "outlinewidth": 0,
             "ticks": ""
            },
            "colorscale": [
             [
              0,
              "#0d0887"
             ],
             [
              0.1111111111111111,
              "#46039f"
             ],
             [
              0.2222222222222222,
              "#7201a8"
             ],
             [
              0.3333333333333333,
              "#9c179e"
             ],
             [
              0.4444444444444444,
              "#bd3786"
             ],
             [
              0.5555555555555556,
              "#d8576b"
             ],
             [
              0.6666666666666666,
              "#ed7953"
             ],
             [
              0.7777777777777778,
              "#fb9f3a"
             ],
             [
              0.8888888888888888,
              "#fdca26"
             ],
             [
              1,
              "#f0f921"
             ]
            ],
            "type": "histogram2d"
           }
          ],
          "histogram2dcontour": [
           {
            "colorbar": {
             "outlinewidth": 0,
             "ticks": ""
            },
            "colorscale": [
             [
              0,
              "#0d0887"
             ],
             [
              0.1111111111111111,
              "#46039f"
             ],
             [
              0.2222222222222222,
              "#7201a8"
             ],
             [
              0.3333333333333333,
              "#9c179e"
             ],
             [
              0.4444444444444444,
              "#bd3786"
             ],
             [
              0.5555555555555556,
              "#d8576b"
             ],
             [
              0.6666666666666666,
              "#ed7953"
             ],
             [
              0.7777777777777778,
              "#fb9f3a"
             ],
             [
              0.8888888888888888,
              "#fdca26"
             ],
             [
              1,
              "#f0f921"
             ]
            ],
            "type": "histogram2dcontour"
           }
          ],
          "mesh3d": [
           {
            "colorbar": {
             "outlinewidth": 0,
             "ticks": ""
            },
            "type": "mesh3d"
           }
          ],
          "parcoords": [
           {
            "line": {
             "colorbar": {
              "outlinewidth": 0,
              "ticks": ""
             }
            },
            "type": "parcoords"
           }
          ],
          "scatter": [
           {
            "marker": {
             "colorbar": {
              "outlinewidth": 0,
              "ticks": ""
             }
            },
            "type": "scatter"
           }
          ],
          "scatter3d": [
           {
            "line": {
             "colorbar": {
              "outlinewidth": 0,
              "ticks": ""
             }
            },
            "marker": {
             "colorbar": {
              "outlinewidth": 0,
              "ticks": ""
             }
            },
            "type": "scatter3d"
           }
          ],
          "scattercarpet": [
           {
            "marker": {
             "colorbar": {
              "outlinewidth": 0,
              "ticks": ""
             }
            },
            "type": "scattercarpet"
           }
          ],
          "scattergeo": [
           {
            "marker": {
             "colorbar": {
              "outlinewidth": 0,
              "ticks": ""
             }
            },
            "type": "scattergeo"
           }
          ],
          "scattergl": [
           {
            "marker": {
             "colorbar": {
              "outlinewidth": 0,
              "ticks": ""
             }
            },
            "type": "scattergl"
           }
          ],
          "scattermapbox": [
           {
            "marker": {
             "colorbar": {
              "outlinewidth": 0,
              "ticks": ""
             }
            },
            "type": "scattermapbox"
           }
          ],
          "scatterpolar": [
           {
            "marker": {
             "colorbar": {
              "outlinewidth": 0,
              "ticks": ""
             }
            },
            "type": "scatterpolar"
           }
          ],
          "scatterpolargl": [
           {
            "marker": {
             "colorbar": {
              "outlinewidth": 0,
              "ticks": ""
             }
            },
            "type": "scatterpolargl"
           }
          ],
          "scatterternary": [
           {
            "marker": {
             "colorbar": {
              "outlinewidth": 0,
              "ticks": ""
             }
            },
            "type": "scatterternary"
           }
          ],
          "surface": [
           {
            "colorbar": {
             "outlinewidth": 0,
             "ticks": ""
            },
            "colorscale": [
             [
              0,
              "#0d0887"
             ],
             [
              0.1111111111111111,
              "#46039f"
             ],
             [
              0.2222222222222222,
              "#7201a8"
             ],
             [
              0.3333333333333333,
              "#9c179e"
             ],
             [
              0.4444444444444444,
              "#bd3786"
             ],
             [
              0.5555555555555556,
              "#d8576b"
             ],
             [
              0.6666666666666666,
              "#ed7953"
             ],
             [
              0.7777777777777778,
              "#fb9f3a"
             ],
             [
              0.8888888888888888,
              "#fdca26"
             ],
             [
              1,
              "#f0f921"
             ]
            ],
            "type": "surface"
           }
          ],
          "table": [
           {
            "cells": {
             "fill": {
              "color": "#EBF0F8"
             },
             "line": {
              "color": "white"
             }
            },
            "header": {
             "fill": {
              "color": "#C8D4E3"
             },
             "line": {
              "color": "white"
             }
            },
            "type": "table"
           }
          ]
         },
         "layout": {
          "annotationdefaults": {
           "arrowcolor": "#2a3f5f",
           "arrowhead": 0,
           "arrowwidth": 1
          },
          "colorscale": {
           "diverging": [
            [
             0,
             "#8e0152"
            ],
            [
             0.1,
             "#c51b7d"
            ],
            [
             0.2,
             "#de77ae"
            ],
            [
             0.3,
             "#f1b6da"
            ],
            [
             0.4,
             "#fde0ef"
            ],
            [
             0.5,
             "#f7f7f7"
            ],
            [
             0.6,
             "#e6f5d0"
            ],
            [
             0.7,
             "#b8e186"
            ],
            [
             0.8,
             "#7fbc41"
            ],
            [
             0.9,
             "#4d9221"
            ],
            [
             1,
             "#276419"
            ]
           ],
           "sequential": [
            [
             0,
             "#0d0887"
            ],
            [
             0.1111111111111111,
             "#46039f"
            ],
            [
             0.2222222222222222,
             "#7201a8"
            ],
            [
             0.3333333333333333,
             "#9c179e"
            ],
            [
             0.4444444444444444,
             "#bd3786"
            ],
            [
             0.5555555555555556,
             "#d8576b"
            ],
            [
             0.6666666666666666,
             "#ed7953"
            ],
            [
             0.7777777777777778,
             "#fb9f3a"
            ],
            [
             0.8888888888888888,
             "#fdca26"
            ],
            [
             1,
             "#f0f921"
            ]
           ],
           "sequentialminus": [
            [
             0,
             "#0d0887"
            ],
            [
             0.1111111111111111,
             "#46039f"
            ],
            [
             0.2222222222222222,
             "#7201a8"
            ],
            [
             0.3333333333333333,
             "#9c179e"
            ],
            [
             0.4444444444444444,
             "#bd3786"
            ],
            [
             0.5555555555555556,
             "#d8576b"
            ],
            [
             0.6666666666666666,
             "#ed7953"
            ],
            [
             0.7777777777777778,
             "#fb9f3a"
            ],
            [
             0.8888888888888888,
             "#fdca26"
            ],
            [
             1,
             "#f0f921"
            ]
           ]
          },
          "colorway": [
           "#636efa",
           "#EF553B",
           "#00cc96",
           "#ab63fa",
           "#FFA15A",
           "#19d3f3",
           "#FF6692",
           "#B6E880",
           "#FF97FF",
           "#FECB52"
          ],
          "font": {
           "color": "#2a3f5f"
          },
          "geo": {
           "bgcolor": "white",
           "lakecolor": "white",
           "landcolor": "#E5ECF6",
           "showlakes": true,
           "showland": true,
           "subunitcolor": "white"
          },
          "hoverlabel": {
           "align": "left"
          },
          "hovermode": "closest",
          "mapbox": {
           "style": "light"
          },
          "paper_bgcolor": "white",
          "plot_bgcolor": "#E5ECF6",
          "polar": {
           "angularaxis": {
            "gridcolor": "white",
            "linecolor": "white",
            "ticks": ""
           },
           "bgcolor": "#E5ECF6",
           "radialaxis": {
            "gridcolor": "white",
            "linecolor": "white",
            "ticks": ""
           }
          },
          "scene": {
           "xaxis": {
            "backgroundcolor": "#E5ECF6",
            "gridcolor": "white",
            "gridwidth": 2,
            "linecolor": "white",
            "showbackground": true,
            "ticks": "",
            "zerolinecolor": "white"
           },
           "yaxis": {
            "backgroundcolor": "#E5ECF6",
            "gridcolor": "white",
            "gridwidth": 2,
            "linecolor": "white",
            "showbackground": true,
            "ticks": "",
            "zerolinecolor": "white"
           },
           "zaxis": {
            "backgroundcolor": "#E5ECF6",
            "gridcolor": "white",
            "gridwidth": 2,
            "linecolor": "white",
            "showbackground": true,
            "ticks": "",
            "zerolinecolor": "white"
           }
          },
          "shapedefaults": {
           "line": {
            "color": "#2a3f5f"
           }
          },
          "ternary": {
           "aaxis": {
            "gridcolor": "white",
            "linecolor": "white",
            "ticks": ""
           },
           "baxis": {
            "gridcolor": "white",
            "linecolor": "white",
            "ticks": ""
           },
           "bgcolor": "#E5ECF6",
           "caxis": {
            "gridcolor": "white",
            "linecolor": "white",
            "ticks": ""
           }
          },
          "title": {
           "x": 0.05
          },
          "xaxis": {
           "automargin": true,
           "gridcolor": "white",
           "linecolor": "white",
           "ticks": "",
           "zerolinecolor": "white",
           "zerolinewidth": 2
          },
          "yaxis": {
           "automargin": true,
           "gridcolor": "white",
           "linecolor": "white",
           "ticks": "",
           "zerolinecolor": "white",
           "zerolinewidth": 2
          }
         }
        },
        "title": {
         "text": "Groundtruth value of testset"
        }
       }
      },
      "text/html": [
       "<div>\n",
       "        \n",
       "        \n",
       "            <div id=\"0916e210-0b04-4326-b9d1-3e54c9b4a043\" class=\"plotly-graph-div\" style=\"height:525px; width:100%;\"></div>\n",
       "            <script type=\"text/javascript\">\n",
       "                require([\"plotly\"], function(Plotly) {\n",
       "                    window.PLOTLYENV=window.PLOTLYENV || {};\n",
       "                    \n",
       "                if (document.getElementById(\"0916e210-0b04-4326-b9d1-3e54c9b4a043\")) {\n",
       "                    Plotly.newPlot(\n",
       "                        '0916e210-0b04-4326-b9d1-3e54c9b4a043',\n",
       "                        [{\"marker\": {\"color\": [195104, 138122261, 141067634, 2692, 20508, 257285, 21761408, 31893, 3048665, 75766, 11412213, 30180188, 19152401, 25447444, 115718405, 96076, 19253, 5540470, 21171780, 191770759, 12005210, 8225384, 6560030, 92579212, 17010050, 20269723, 120908065, 14094594, 3600647, 30035838, 8901419, 246305, 46652680, 32828348, 47776293, 25725722, 23019618, 25337110, 318403, 117161, 26334, 7061513, 7465343, 31665, 8085915, 7610663, 14711124, 587591, 789409, 41082018, 5533844, 284776, 5324240, 340456, 115418, 9454238, 6275647, 11152500, 8570007, 7348200, 14347221, 4858152, 25642340, 15269388, 71117625, 21401121, 9858380, 14102888, 15214805, 55214334, 9292248, 24733155, 4387360, 6101297, 7039622, 7751971, 656636, 138486, 12700007, 17084296, 66920, 217, 118278, 80030, 576820, 2182900, 72629713, 93687367, 2188199, 410804, 212440, 202714, 360018, 50353641, 88364714, 121897634, 208806270, 3613567, 1172036, 10845330, 25010928, 2375325]}, \"mode\": \"markers\", \"text\": [\"O Brother, Where Art Thou?\", \"The Twilight Saga: Breaking Dawn Part 1\", \"The Twilight Saga: Breaking Dawn Part 2\", \"Helena From the Wedding\", \"Monsters\", \"Catfish\", \"Red\", \"Freakonomics\", \"The Warrior's Way\", \"Stone\", \"Frankenweenie\", \"John Carter\", \"Dolphin Tale\", \"Penguins of Madagascar\", \"Minions\", \"Proud American\", \"Edmond\", \"Tootsie\", \"Waterworld\", \"The Lion King (2019)\", \"Crawl\", \"Stuber\", \"Midsommar\", \"Spider-Man: Far from Home\", \"Yesterday\", \"Annabelle Comes Home\", \"Toy Story 4\", \"Child's Play (2019)\", \"Anna (2019)\", \"Men in Black International\", \"Shaft (2019)\\u00a0\", \"Late Night\", \"The Secret Life of Pets 2\", \"Dark Phoenix\", \"Godzilla:King of the Monsters\", \"Rocketman\", \"Return of the Jedi\", \"Indiana Jones and the Temple of Doom\", \"The Idolmaker\", \"The Grass Harp\", \"The Grand\", \"Jaws\", \"Superman (1978)\", \"Clerks\", \"Juice\", \"He Got Game\", \"White Men Can't Jump\", \"Mulholland Drive\", \"Blue Velvet\", \"Once Upon a Time in Hollywood\", \"The Big Lebowski\", \"Train to Busan\", \"Pride and Prejudice and Zombies\", \"Dead Poets Society\", \"A Fish Called Wanda\", \"The Witches of Eastwick\", \"Ferris Bueller's Day Off\", \"Back to the Future\", \"Police Academy\", \"Trading Places\", \"Star Trek II The Wrath of Khan\", \"The Blues Brothers\", \"V For Vendetta\", \"In the Line of Fire\", \"Us\", \"The Forbidden Kingdom\", \"Rumble in the Bronx\", \"Machete\", \"Beverly Hills Cop\", \"Watchmen\", \"Jackie Brown\", \"Zombieland\", \"Mo Better Blues\", \"Thelma and Louise\", \"New Jack City\", \"The Lawnmower Man\", \"Schindler's List\", \"Four Weddings and a Funeral\", \"Get Shorty\", \"Jerry Maguire\", \"Welcome to Sarajevo\", \"Trojan War\", \"The Gingerbread Man\", \"Tumbleweeds\", \"Turn it up\", \"The Adventures of Pluto Nash\", \"The Lord of the Rings: The Return of the King\", \"Harry Potter and the Prisoner of Azkaban\", \"Stay\", \"Fast Food Nation\", \"Into the Wild\", \"The Wrestler\", \"Slumdog Millionaire\", \"Jackass 3-D\", \"Skyfall\", \"The Hunger Games: Mocking Jay - Part 1\", \"Jurassic World\", \"Shut In\", \"Molly's Game\", \"BlacKkKlansman\", \"Peter Rabbit\", \"Replicas\"], \"type\": \"scatter\", \"x\": [\"O Brother, Where Art Thou?\", \"The Twilight Saga: Breaking Dawn Part 1\", \"The Twilight Saga: Breaking Dawn Part 2\", \"Helena From the Wedding\", \"Monsters\", \"Catfish\", \"Red\", \"Freakonomics\", \"The Warrior's Way\", \"Stone\", \"Frankenweenie\", \"John Carter\", \"Dolphin Tale\", \"Penguins of Madagascar\", \"Minions\", \"Proud American\", \"Edmond\", \"Tootsie\", \"Waterworld\", \"The Lion King (2019)\", \"Crawl\", \"Stuber\", \"Midsommar\", \"Spider-Man: Far from Home\", \"Yesterday\", \"Annabelle Comes Home\", \"Toy Story 4\", \"Child's Play (2019)\", \"Anna (2019)\", \"Men in Black International\", \"Shaft (2019)\\u00a0\", \"Late Night\", \"The Secret Life of Pets 2\", \"Dark Phoenix\", \"Godzilla:King of the Monsters\", \"Rocketman\", \"Return of the Jedi\", \"Indiana Jones and the Temple of Doom\", \"The Idolmaker\", \"The Grass Harp\", \"The Grand\", \"Jaws\", \"Superman (1978)\", \"Clerks\", \"Juice\", \"He Got Game\", \"White Men Can't Jump\", \"Mulholland Drive\", \"Blue Velvet\", \"Once Upon a Time in Hollywood\", \"The Big Lebowski\", \"Train to Busan\", \"Pride and Prejudice and Zombies\", \"Dead Poets Society\", \"A Fish Called Wanda\", \"The Witches of Eastwick\", \"Ferris Bueller's Day Off\", \"Back to the Future\", \"Police Academy\", \"Trading Places\", \"Star Trek II The Wrath of Khan\", \"The Blues Brothers\", \"V For Vendetta\", \"In the Line of Fire\", \"Us\", \"The Forbidden Kingdom\", \"Rumble in the Bronx\", \"Machete\", \"Beverly Hills Cop\", \"Watchmen\", \"Jackie Brown\", \"Zombieland\", \"Mo Better Blues\", \"Thelma and Louise\", \"New Jack City\", \"The Lawnmower Man\", \"Schindler's List\", \"Four Weddings and a Funeral\", \"Get Shorty\", \"Jerry Maguire\", \"Welcome to Sarajevo\", \"Trojan War\", \"The Gingerbread Man\", \"Tumbleweeds\", \"Turn it up\", \"The Adventures of Pluto Nash\", \"The Lord of the Rings: The Return of the King\", \"Harry Potter and the Prisoner of Azkaban\", \"Stay\", \"Fast Food Nation\", \"Into the Wild\", \"The Wrestler\", \"Slumdog Millionaire\", \"Jackass 3-D\", \"Skyfall\", \"The Hunger Games: Mocking Jay - Part 1\", \"Jurassic World\", \"Shut In\", \"Molly's Game\", \"BlacKkKlansman\", \"Peter Rabbit\", \"Replicas\"], \"y\": [195104, 138122261, 141067634, 2692, 20508, 257285, 21761408, 31893, 3048665, 75766, 11412213, 30180188, 19152401, 25447444, 115718405, 96076, 19253, 5540470, 21171780, 191770759, 12005210, 8225384, 6560030, 92579212, 17010050, 20269723, 120908065, 14094594, 3600647, 30035838, 8901419, 246305, 46652680, 32828348, 47776293, 25725722, 23019618, 25337110, 318403, 117161, 26334, 7061513, 7465343, 31665, 8085915, 7610663, 14711124, 587591, 789409, 41082018, 5533844, 284776, 5324240, 340456, 115418, 9454238, 6275647, 11152500, 8570007, 7348200, 14347221, 4858152, 25642340, 15269388, 71117625, 21401121, 9858380, 14102888, 15214805, 55214334, 9292248, 24733155, 4387360, 6101297, 7039622, 7751971, 656636, 138486, 12700007, 17084296, 66920, 217, 118278, 80030, 576820, 2182900, 72629713, 93687367, 2188199, 410804, 212440, 202714, 360018, 50353641, 88364714, 121897634, 208806270, 3613567, 1172036, 10845330, 25010928, 2375325]}],\n",
       "                        {\"template\": {\"data\": {\"bar\": [{\"error_x\": {\"color\": \"#2a3f5f\"}, \"error_y\": {\"color\": \"#2a3f5f\"}, \"marker\": {\"line\": {\"color\": \"#E5ECF6\", \"width\": 0.5}}, \"type\": \"bar\"}], \"barpolar\": [{\"marker\": {\"line\": {\"color\": \"#E5ECF6\", \"width\": 0.5}}, \"type\": \"barpolar\"}], \"carpet\": [{\"aaxis\": {\"endlinecolor\": \"#2a3f5f\", \"gridcolor\": \"white\", \"linecolor\": \"white\", \"minorgridcolor\": \"white\", \"startlinecolor\": \"#2a3f5f\"}, \"baxis\": {\"endlinecolor\": \"#2a3f5f\", \"gridcolor\": \"white\", \"linecolor\": \"white\", \"minorgridcolor\": \"white\", \"startlinecolor\": \"#2a3f5f\"}, \"type\": \"carpet\"}], \"choropleth\": [{\"colorbar\": {\"outlinewidth\": 0, \"ticks\": \"\"}, \"type\": \"choropleth\"}], \"contour\": [{\"colorbar\": {\"outlinewidth\": 0, \"ticks\": \"\"}, \"colorscale\": [[0.0, \"#0d0887\"], [0.1111111111111111, \"#46039f\"], [0.2222222222222222, \"#7201a8\"], [0.3333333333333333, \"#9c179e\"], [0.4444444444444444, \"#bd3786\"], [0.5555555555555556, \"#d8576b\"], [0.6666666666666666, \"#ed7953\"], [0.7777777777777778, \"#fb9f3a\"], [0.8888888888888888, \"#fdca26\"], [1.0, \"#f0f921\"]], \"type\": \"contour\"}], \"contourcarpet\": [{\"colorbar\": {\"outlinewidth\": 0, \"ticks\": \"\"}, \"type\": \"contourcarpet\"}], \"heatmap\": [{\"colorbar\": {\"outlinewidth\": 0, \"ticks\": \"\"}, \"colorscale\": [[0.0, \"#0d0887\"], [0.1111111111111111, \"#46039f\"], [0.2222222222222222, \"#7201a8\"], [0.3333333333333333, \"#9c179e\"], [0.4444444444444444, \"#bd3786\"], [0.5555555555555556, \"#d8576b\"], [0.6666666666666666, \"#ed7953\"], [0.7777777777777778, \"#fb9f3a\"], [0.8888888888888888, \"#fdca26\"], [1.0, \"#f0f921\"]], \"type\": \"heatmap\"}], \"heatmapgl\": [{\"colorbar\": {\"outlinewidth\": 0, \"ticks\": \"\"}, \"colorscale\": [[0.0, \"#0d0887\"], [0.1111111111111111, \"#46039f\"], [0.2222222222222222, \"#7201a8\"], [0.3333333333333333, \"#9c179e\"], [0.4444444444444444, \"#bd3786\"], [0.5555555555555556, \"#d8576b\"], [0.6666666666666666, \"#ed7953\"], [0.7777777777777778, \"#fb9f3a\"], [0.8888888888888888, \"#fdca26\"], [1.0, \"#f0f921\"]], \"type\": \"heatmapgl\"}], \"histogram\": [{\"marker\": {\"colorbar\": {\"outlinewidth\": 0, \"ticks\": \"\"}}, \"type\": \"histogram\"}], \"histogram2d\": [{\"colorbar\": {\"outlinewidth\": 0, \"ticks\": \"\"}, \"colorscale\": [[0.0, \"#0d0887\"], [0.1111111111111111, \"#46039f\"], [0.2222222222222222, \"#7201a8\"], [0.3333333333333333, \"#9c179e\"], [0.4444444444444444, \"#bd3786\"], [0.5555555555555556, \"#d8576b\"], [0.6666666666666666, \"#ed7953\"], [0.7777777777777778, \"#fb9f3a\"], [0.8888888888888888, \"#fdca26\"], [1.0, \"#f0f921\"]], \"type\": \"histogram2d\"}], \"histogram2dcontour\": [{\"colorbar\": {\"outlinewidth\": 0, \"ticks\": \"\"}, \"colorscale\": [[0.0, \"#0d0887\"], [0.1111111111111111, \"#46039f\"], [0.2222222222222222, \"#7201a8\"], [0.3333333333333333, \"#9c179e\"], [0.4444444444444444, \"#bd3786\"], [0.5555555555555556, \"#d8576b\"], [0.6666666666666666, \"#ed7953\"], [0.7777777777777778, \"#fb9f3a\"], [0.8888888888888888, \"#fdca26\"], [1.0, \"#f0f921\"]], \"type\": \"histogram2dcontour\"}], \"mesh3d\": [{\"colorbar\": {\"outlinewidth\": 0, \"ticks\": \"\"}, \"type\": \"mesh3d\"}], \"parcoords\": [{\"line\": {\"colorbar\": {\"outlinewidth\": 0, \"ticks\": \"\"}}, \"type\": \"parcoords\"}], \"scatter\": [{\"marker\": {\"colorbar\": {\"outlinewidth\": 0, \"ticks\": \"\"}}, \"type\": \"scatter\"}], \"scatter3d\": [{\"line\": {\"colorbar\": {\"outlinewidth\": 0, \"ticks\": \"\"}}, \"marker\": {\"colorbar\": {\"outlinewidth\": 0, \"ticks\": \"\"}}, \"type\": \"scatter3d\"}], \"scattercarpet\": [{\"marker\": {\"colorbar\": {\"outlinewidth\": 0, \"ticks\": \"\"}}, \"type\": \"scattercarpet\"}], \"scattergeo\": [{\"marker\": {\"colorbar\": {\"outlinewidth\": 0, \"ticks\": \"\"}}, \"type\": \"scattergeo\"}], \"scattergl\": [{\"marker\": {\"colorbar\": {\"outlinewidth\": 0, \"ticks\": \"\"}}, \"type\": \"scattergl\"}], \"scattermapbox\": [{\"marker\": {\"colorbar\": {\"outlinewidth\": 0, \"ticks\": \"\"}}, \"type\": \"scattermapbox\"}], \"scatterpolar\": [{\"marker\": {\"colorbar\": {\"outlinewidth\": 0, \"ticks\": \"\"}}, \"type\": \"scatterpolar\"}], \"scatterpolargl\": [{\"marker\": {\"colorbar\": {\"outlinewidth\": 0, \"ticks\": \"\"}}, \"type\": \"scatterpolargl\"}], \"scatterternary\": [{\"marker\": {\"colorbar\": {\"outlinewidth\": 0, \"ticks\": \"\"}}, \"type\": \"scatterternary\"}], \"surface\": [{\"colorbar\": {\"outlinewidth\": 0, \"ticks\": \"\"}, \"colorscale\": [[0.0, \"#0d0887\"], [0.1111111111111111, \"#46039f\"], [0.2222222222222222, \"#7201a8\"], [0.3333333333333333, \"#9c179e\"], [0.4444444444444444, \"#bd3786\"], [0.5555555555555556, \"#d8576b\"], [0.6666666666666666, \"#ed7953\"], [0.7777777777777778, \"#fb9f3a\"], [0.8888888888888888, \"#fdca26\"], [1.0, \"#f0f921\"]], \"type\": \"surface\"}], \"table\": [{\"cells\": {\"fill\": {\"color\": \"#EBF0F8\"}, \"line\": {\"color\": \"white\"}}, \"header\": {\"fill\": {\"color\": \"#C8D4E3\"}, \"line\": {\"color\": \"white\"}}, \"type\": \"table\"}]}, \"layout\": {\"annotationdefaults\": {\"arrowcolor\": \"#2a3f5f\", \"arrowhead\": 0, \"arrowwidth\": 1}, \"colorscale\": {\"diverging\": [[0, \"#8e0152\"], [0.1, \"#c51b7d\"], [0.2, \"#de77ae\"], [0.3, \"#f1b6da\"], [0.4, \"#fde0ef\"], [0.5, \"#f7f7f7\"], [0.6, \"#e6f5d0\"], [0.7, \"#b8e186\"], [0.8, \"#7fbc41\"], [0.9, \"#4d9221\"], [1, \"#276419\"]], \"sequential\": [[0.0, \"#0d0887\"], [0.1111111111111111, \"#46039f\"], [0.2222222222222222, \"#7201a8\"], [0.3333333333333333, \"#9c179e\"], [0.4444444444444444, \"#bd3786\"], [0.5555555555555556, \"#d8576b\"], [0.6666666666666666, \"#ed7953\"], [0.7777777777777778, \"#fb9f3a\"], [0.8888888888888888, \"#fdca26\"], [1.0, \"#f0f921\"]], \"sequentialminus\": [[0.0, \"#0d0887\"], [0.1111111111111111, \"#46039f\"], [0.2222222222222222, \"#7201a8\"], [0.3333333333333333, \"#9c179e\"], [0.4444444444444444, \"#bd3786\"], [0.5555555555555556, \"#d8576b\"], [0.6666666666666666, \"#ed7953\"], [0.7777777777777778, \"#fb9f3a\"], [0.8888888888888888, \"#fdca26\"], [1.0, \"#f0f921\"]]}, \"colorway\": [\"#636efa\", \"#EF553B\", \"#00cc96\", \"#ab63fa\", \"#FFA15A\", \"#19d3f3\", \"#FF6692\", \"#B6E880\", \"#FF97FF\", \"#FECB52\"], \"font\": {\"color\": \"#2a3f5f\"}, \"geo\": {\"bgcolor\": \"white\", \"lakecolor\": \"white\", \"landcolor\": \"#E5ECF6\", \"showlakes\": true, \"showland\": true, \"subunitcolor\": \"white\"}, \"hoverlabel\": {\"align\": \"left\"}, \"hovermode\": \"closest\", \"mapbox\": {\"style\": \"light\"}, \"paper_bgcolor\": \"white\", \"plot_bgcolor\": \"#E5ECF6\", \"polar\": {\"angularaxis\": {\"gridcolor\": \"white\", \"linecolor\": \"white\", \"ticks\": \"\"}, \"bgcolor\": \"#E5ECF6\", \"radialaxis\": {\"gridcolor\": \"white\", \"linecolor\": \"white\", \"ticks\": \"\"}}, \"scene\": {\"xaxis\": {\"backgroundcolor\": \"#E5ECF6\", \"gridcolor\": \"white\", \"gridwidth\": 2, \"linecolor\": \"white\", \"showbackground\": true, \"ticks\": \"\", \"zerolinecolor\": \"white\"}, \"yaxis\": {\"backgroundcolor\": \"#E5ECF6\", \"gridcolor\": \"white\", \"gridwidth\": 2, \"linecolor\": \"white\", \"showbackground\": true, \"ticks\": \"\", \"zerolinecolor\": \"white\"}, \"zaxis\": {\"backgroundcolor\": \"#E5ECF6\", \"gridcolor\": \"white\", \"gridwidth\": 2, \"linecolor\": \"white\", \"showbackground\": true, \"ticks\": \"\", \"zerolinecolor\": \"white\"}}, \"shapedefaults\": {\"line\": {\"color\": \"#2a3f5f\"}}, \"ternary\": {\"aaxis\": {\"gridcolor\": \"white\", \"linecolor\": \"white\", \"ticks\": \"\"}, \"baxis\": {\"gridcolor\": \"white\", \"linecolor\": \"white\", \"ticks\": \"\"}, \"bgcolor\": \"#E5ECF6\", \"caxis\": {\"gridcolor\": \"white\", \"linecolor\": \"white\", \"ticks\": \"\"}}, \"title\": {\"x\": 0.05}, \"xaxis\": {\"automargin\": true, \"gridcolor\": \"white\", \"linecolor\": \"white\", \"ticks\": \"\", \"zerolinecolor\": \"white\", \"zerolinewidth\": 2}, \"yaxis\": {\"automargin\": true, \"gridcolor\": \"white\", \"linecolor\": \"white\", \"ticks\": \"\", \"zerolinecolor\": \"white\", \"zerolinewidth\": 2}}}, \"title\": {\"text\": \"Groundtruth value of testset\"}},\n",
       "                        {\"responsive\": true}\n",
       "                    ).then(function(){\n",
       "                            \n",
       "var gd = document.getElementById('0916e210-0b04-4326-b9d1-3e54c9b4a043');\n",
       "var x = new MutationObserver(function (mutations, observer) {{\n",
       "        var display = window.getComputedStyle(gd).display;\n",
       "        if (!display || display === 'none') {{\n",
       "            console.log([gd, 'removed!']);\n",
       "            Plotly.purge(gd);\n",
       "            observer.disconnect();\n",
       "        }}\n",
       "}});\n",
       "\n",
       "// Listen for the removal of the full notebook cells\n",
       "var notebookContainer = gd.closest('#notebook-container');\n",
       "if (notebookContainer) {{\n",
       "    x.observe(notebookContainer, {childList: true});\n",
       "}}\n",
       "\n",
       "// Listen for the clearing of the current output cell\n",
       "var outputEl = gd.closest('.output');\n",
       "if (outputEl) {{\n",
       "    x.observe(outputEl, {childList: true});\n",
       "}}\n",
       "\n",
       "                        })\n",
       "                };\n",
       "                });\n",
       "            </script>\n",
       "        </div>"
      ]
     },
     "metadata": {},
     "output_type": "display_data"
    }
   ],
   "source": [
    "#data= pd.read_csv(\"https://raw.githubusercontent.com/plotly/datasets/master/2014_usa_states.csv\")\n",
    "\n",
    "fig = go.Figure(data=go.Scatter(x=g4_result_final[\"name\"],\n",
    "                                y=g4_result_final[\"ground_truth\"],\n",
    "                                mode='markers',\n",
    "                                marker_color=g4_result_final[\"ground_truth\"],\n",
    "                                text=g4_result_final[\"name\"])) # hover text goes here(movie_title)\n",
    "\n",
    "fig.update_layout(title='Groundtruth value of testset')\n",
    "fig.show()"
   ]
  },
  {
   "cell_type": "code",
   "execution_count": 29,
   "metadata": {},
   "outputs": [
    {
     "data": {
      "application/vnd.plotly.v1+json": {
       "config": {
        "plotlyServerURL": "https://plot.ly"
       },
       "data": [
        {
         "marker": {
          "color": [
           493800.75268028036,
           30685327.023200005,
           37083265.73401345,
           117316.4911437731,
           43729.984751967764,
           62788.674783788425,
           28323310.95074511,
           69916.06479213982,
           979323.9366496813,
           213317.3894536561,
           14831423.95659767,
           64509887.83122351,
           9563591.32713455,
           15088943.572158545,
           36282645.3583179,
           196560.33243439786,
           32933.583873496325,
           7100184.2320892075,
           32385885.98295281,
           11130950.969130803,
           2920073.230820456,
           5594926.344839107,
           1513785.7701759129,
           48182252.50768729,
           3028009.6430853195,
           4160082.9554587705,
           18216028.184749193,
           2859938.1881535808,
           1265502.6101017722,
           13525888.072629718,
           6199436.23969021,
           32955.90856594491,
           12992332.758082995,
           22083621.336026527,
           30345225.42876064,
           9483118.333513863,
           498102.9033382617,
           31853360.00712259,
           232350.31968696805,
           126852.66829432914,
           17815.612685207958,
           339168.5187627834,
           532082.1187045642,
           190432.8823276397,
           816863.920153335,
           3129445.7003416726,
           3628265.1640387294,
           304321.49412726425,
           209378.61418302672,
           6717906.718843788,
           16401485.509532705,
           204706.70860921254,
           11534669.776264727,
           499711.78586609045,
           506626.1651643646,
           10583783.880171366,
           17603647.974498324,
           32022770.37971098,
           8245342.641173112,
           4927893.514079952,
           14898417.22324334,
           701839.4399284024,
           23300358.09782319,
           9440220.616028337,
           16837852.223221693,
           11989673.02784856,
           407050.36284737685,
           7675748.436128024,
           7436006.592997593,
           47510784.93098648,
           9803821.046643557,
           20338200.89633899,
           1463716.2850440503,
           6362079.088219324,
           2078366.743387208,
           161853.59517880742,
           440499.3629835358,
           1511721.7734930078,
           10202554.759219076,
           13502776.797256935,
           82335.04909681418,
           100798.57773817373,
           37125.40121341745,
           70568.96404017354,
           64655.16433022824,
           8069520.9774919,
           34526929.38831782,
           56921055.88874777,
           7336095.827126285,
           150344.50279810413,
           474282.3257819176,
           290387.9212797701,
           114218.25019346953,
           9630714.78542816,
           73257262.96182893,
           77306637.80866966,
           67041423.74540739,
           2223468.279486348,
           7890424.901906931,
           2933118.639007929,
           18246598.393593006,
           12455817.00314124
          ]
         },
         "mode": "markers",
         "text": [
          "O Brother, Where Art Thou?",
          "The Twilight Saga: Breaking Dawn Part 1",
          "The Twilight Saga: Breaking Dawn Part 2",
          "Helena From the Wedding",
          "Monsters",
          "Catfish",
          "Red",
          "Freakonomics",
          "The Warrior's Way",
          "Stone",
          "Frankenweenie",
          "John Carter",
          "Dolphin Tale",
          "Penguins of Madagascar",
          "Minions",
          "Proud American",
          "Edmond",
          "Tootsie",
          "Waterworld",
          "The Lion King (2019)",
          "Crawl",
          "Stuber",
          "Midsommar",
          "Spider-Man: Far from Home",
          "Yesterday",
          "Annabelle Comes Home",
          "Toy Story 4",
          "Child's Play (2019)",
          "Anna (2019)",
          "Men in Black International",
          "Shaft (2019) ",
          "Late Night",
          "The Secret Life of Pets 2",
          "Dark Phoenix",
          "Godzilla:King of the Monsters",
          "Rocketman",
          "Return of the Jedi",
          "Indiana Jones and the Temple of Doom",
          "The Idolmaker",
          "The Grass Harp",
          "The Grand",
          "Jaws",
          "Superman (1978)",
          "Clerks",
          "Juice",
          "He Got Game",
          "White Men Can't Jump",
          "Mulholland Drive",
          "Blue Velvet",
          "Once Upon a Time in Hollywood",
          "The Big Lebowski",
          "Train to Busan",
          "Pride and Prejudice and Zombies",
          "Dead Poets Society",
          "A Fish Called Wanda",
          "The Witches of Eastwick",
          "Ferris Bueller's Day Off",
          "Back to the Future",
          "Police Academy",
          "Trading Places",
          "Star Trek II The Wrath of Khan",
          "The Blues Brothers",
          "V For Vendetta",
          "In the Line of Fire",
          "Us",
          "The Forbidden Kingdom",
          "Rumble in the Bronx",
          "Machete",
          "Beverly Hills Cop",
          "Watchmen",
          "Jackie Brown",
          "Zombieland",
          "Mo Better Blues",
          "Thelma and Louise",
          "New Jack City",
          "The Lawnmower Man",
          "Schindler's List",
          "Four Weddings and a Funeral",
          "Get Shorty",
          "Jerry Maguire",
          "Welcome to Sarajevo",
          "Trojan War",
          "The Gingerbread Man",
          "Tumbleweeds",
          "Turn it up",
          "The Adventures of Pluto Nash",
          "The Lord of the Rings: The Return of the King",
          "Harry Potter and the Prisoner of Azkaban",
          "Stay",
          "Fast Food Nation",
          "Into the Wild",
          "The Wrestler",
          "Slumdog Millionaire",
          "Jackass 3-D",
          "Skyfall",
          "The Hunger Games: Mocking Jay - Part 1",
          "Jurassic World",
          "Shut In",
          "Molly's Game",
          "BlacKkKlansman",
          "Peter Rabbit",
          "Replicas"
         ],
         "type": "scatter",
         "x": [
          "O Brother, Where Art Thou?",
          "The Twilight Saga: Breaking Dawn Part 1",
          "The Twilight Saga: Breaking Dawn Part 2",
          "Helena From the Wedding",
          "Monsters",
          "Catfish",
          "Red",
          "Freakonomics",
          "The Warrior's Way",
          "Stone",
          "Frankenweenie",
          "John Carter",
          "Dolphin Tale",
          "Penguins of Madagascar",
          "Minions",
          "Proud American",
          "Edmond",
          "Tootsie",
          "Waterworld",
          "The Lion King (2019)",
          "Crawl",
          "Stuber",
          "Midsommar",
          "Spider-Man: Far from Home",
          "Yesterday",
          "Annabelle Comes Home",
          "Toy Story 4",
          "Child's Play (2019)",
          "Anna (2019)",
          "Men in Black International",
          "Shaft (2019) ",
          "Late Night",
          "The Secret Life of Pets 2",
          "Dark Phoenix",
          "Godzilla:King of the Monsters",
          "Rocketman",
          "Return of the Jedi",
          "Indiana Jones and the Temple of Doom",
          "The Idolmaker",
          "The Grass Harp",
          "The Grand",
          "Jaws",
          "Superman (1978)",
          "Clerks",
          "Juice",
          "He Got Game",
          "White Men Can't Jump",
          "Mulholland Drive",
          "Blue Velvet",
          "Once Upon a Time in Hollywood",
          "The Big Lebowski",
          "Train to Busan",
          "Pride and Prejudice and Zombies",
          "Dead Poets Society",
          "A Fish Called Wanda",
          "The Witches of Eastwick",
          "Ferris Bueller's Day Off",
          "Back to the Future",
          "Police Academy",
          "Trading Places",
          "Star Trek II The Wrath of Khan",
          "The Blues Brothers",
          "V For Vendetta",
          "In the Line of Fire",
          "Us",
          "The Forbidden Kingdom",
          "Rumble in the Bronx",
          "Machete",
          "Beverly Hills Cop",
          "Watchmen",
          "Jackie Brown",
          "Zombieland",
          "Mo Better Blues",
          "Thelma and Louise",
          "New Jack City",
          "The Lawnmower Man",
          "Schindler's List",
          "Four Weddings and a Funeral",
          "Get Shorty",
          "Jerry Maguire",
          "Welcome to Sarajevo",
          "Trojan War",
          "The Gingerbread Man",
          "Tumbleweeds",
          "Turn it up",
          "The Adventures of Pluto Nash",
          "The Lord of the Rings: The Return of the King",
          "Harry Potter and the Prisoner of Azkaban",
          "Stay",
          "Fast Food Nation",
          "Into the Wild",
          "The Wrestler",
          "Slumdog Millionaire",
          "Jackass 3-D",
          "Skyfall",
          "The Hunger Games: Mocking Jay - Part 1",
          "Jurassic World",
          "Shut In",
          "Molly's Game",
          "BlacKkKlansman",
          "Peter Rabbit",
          "Replicas"
         ],
         "y": [
          493800.75268028036,
          30685327.023200005,
          37083265.73401345,
          117316.4911437731,
          43729.984751967764,
          62788.674783788425,
          28323310.95074511,
          69916.06479213982,
          979323.9366496813,
          213317.3894536561,
          14831423.95659767,
          64509887.83122351,
          9563591.32713455,
          15088943.572158545,
          36282645.3583179,
          196560.33243439786,
          32933.583873496325,
          7100184.2320892075,
          32385885.98295281,
          11130950.969130803,
          2920073.230820456,
          5594926.344839107,
          1513785.7701759129,
          48182252.50768729,
          3028009.6430853195,
          4160082.9554587705,
          18216028.184749193,
          2859938.1881535808,
          1265502.6101017722,
          13525888.072629718,
          6199436.23969021,
          32955.90856594491,
          12992332.758082995,
          22083621.336026527,
          30345225.42876064,
          9483118.333513863,
          498102.9033382617,
          31853360.00712259,
          232350.31968696805,
          126852.66829432914,
          17815.612685207958,
          339168.5187627834,
          532082.1187045642,
          190432.8823276397,
          816863.920153335,
          3129445.7003416726,
          3628265.1640387294,
          304321.49412726425,
          209378.61418302672,
          6717906.718843788,
          16401485.509532705,
          204706.70860921254,
          11534669.776264727,
          499711.78586609045,
          506626.1651643646,
          10583783.880171366,
          17603647.974498324,
          32022770.37971098,
          8245342.641173112,
          4927893.514079952,
          14898417.22324334,
          701839.4399284024,
          23300358.09782319,
          9440220.616028337,
          16837852.223221693,
          11989673.02784856,
          407050.36284737685,
          7675748.436128024,
          7436006.592997593,
          47510784.93098648,
          9803821.046643557,
          20338200.89633899,
          1463716.2850440503,
          6362079.088219324,
          2078366.743387208,
          161853.59517880742,
          440499.3629835358,
          1511721.7734930078,
          10202554.759219076,
          13502776.797256935,
          82335.04909681418,
          100798.57773817373,
          37125.40121341745,
          70568.96404017354,
          64655.16433022824,
          8069520.9774919,
          34526929.38831782,
          56921055.88874777,
          7336095.827126285,
          150344.50279810413,
          474282.3257819176,
          290387.9212797701,
          114218.25019346953,
          9630714.78542816,
          73257262.96182893,
          77306637.80866966,
          67041423.74540739,
          2223468.279486348,
          7890424.901906931,
          2933118.639007929,
          18246598.393593006,
          12455817.00314124
         ]
        }
       ],
       "layout": {
        "template": {
         "data": {
          "bar": [
           {
            "error_x": {
             "color": "#2a3f5f"
            },
            "error_y": {
             "color": "#2a3f5f"
            },
            "marker": {
             "line": {
              "color": "#E5ECF6",
              "width": 0.5
             }
            },
            "type": "bar"
           }
          ],
          "barpolar": [
           {
            "marker": {
             "line": {
              "color": "#E5ECF6",
              "width": 0.5
             }
            },
            "type": "barpolar"
           }
          ],
          "carpet": [
           {
            "aaxis": {
             "endlinecolor": "#2a3f5f",
             "gridcolor": "white",
             "linecolor": "white",
             "minorgridcolor": "white",
             "startlinecolor": "#2a3f5f"
            },
            "baxis": {
             "endlinecolor": "#2a3f5f",
             "gridcolor": "white",
             "linecolor": "white",
             "minorgridcolor": "white",
             "startlinecolor": "#2a3f5f"
            },
            "type": "carpet"
           }
          ],
          "choropleth": [
           {
            "colorbar": {
             "outlinewidth": 0,
             "ticks": ""
            },
            "type": "choropleth"
           }
          ],
          "contour": [
           {
            "colorbar": {
             "outlinewidth": 0,
             "ticks": ""
            },
            "colorscale": [
             [
              0,
              "#0d0887"
             ],
             [
              0.1111111111111111,
              "#46039f"
             ],
             [
              0.2222222222222222,
              "#7201a8"
             ],
             [
              0.3333333333333333,
              "#9c179e"
             ],
             [
              0.4444444444444444,
              "#bd3786"
             ],
             [
              0.5555555555555556,
              "#d8576b"
             ],
             [
              0.6666666666666666,
              "#ed7953"
             ],
             [
              0.7777777777777778,
              "#fb9f3a"
             ],
             [
              0.8888888888888888,
              "#fdca26"
             ],
             [
              1,
              "#f0f921"
             ]
            ],
            "type": "contour"
           }
          ],
          "contourcarpet": [
           {
            "colorbar": {
             "outlinewidth": 0,
             "ticks": ""
            },
            "type": "contourcarpet"
           }
          ],
          "heatmap": [
           {
            "colorbar": {
             "outlinewidth": 0,
             "ticks": ""
            },
            "colorscale": [
             [
              0,
              "#0d0887"
             ],
             [
              0.1111111111111111,
              "#46039f"
             ],
             [
              0.2222222222222222,
              "#7201a8"
             ],
             [
              0.3333333333333333,
              "#9c179e"
             ],
             [
              0.4444444444444444,
              "#bd3786"
             ],
             [
              0.5555555555555556,
              "#d8576b"
             ],
             [
              0.6666666666666666,
              "#ed7953"
             ],
             [
              0.7777777777777778,
              "#fb9f3a"
             ],
             [
              0.8888888888888888,
              "#fdca26"
             ],
             [
              1,
              "#f0f921"
             ]
            ],
            "type": "heatmap"
           }
          ],
          "heatmapgl": [
           {
            "colorbar": {
             "outlinewidth": 0,
             "ticks": ""
            },
            "colorscale": [
             [
              0,
              "#0d0887"
             ],
             [
              0.1111111111111111,
              "#46039f"
             ],
             [
              0.2222222222222222,
              "#7201a8"
             ],
             [
              0.3333333333333333,
              "#9c179e"
             ],
             [
              0.4444444444444444,
              "#bd3786"
             ],
             [
              0.5555555555555556,
              "#d8576b"
             ],
             [
              0.6666666666666666,
              "#ed7953"
             ],
             [
              0.7777777777777778,
              "#fb9f3a"
             ],
             [
              0.8888888888888888,
              "#fdca26"
             ],
             [
              1,
              "#f0f921"
             ]
            ],
            "type": "heatmapgl"
           }
          ],
          "histogram": [
           {
            "marker": {
             "colorbar": {
              "outlinewidth": 0,
              "ticks": ""
             }
            },
            "type": "histogram"
           }
          ],
          "histogram2d": [
           {
            "colorbar": {
             "outlinewidth": 0,
             "ticks": ""
            },
            "colorscale": [
             [
              0,
              "#0d0887"
             ],
             [
              0.1111111111111111,
              "#46039f"
             ],
             [
              0.2222222222222222,
              "#7201a8"
             ],
             [
              0.3333333333333333,
              "#9c179e"
             ],
             [
              0.4444444444444444,
              "#bd3786"
             ],
             [
              0.5555555555555556,
              "#d8576b"
             ],
             [
              0.6666666666666666,
              "#ed7953"
             ],
             [
              0.7777777777777778,
              "#fb9f3a"
             ],
             [
              0.8888888888888888,
              "#fdca26"
             ],
             [
              1,
              "#f0f921"
             ]
            ],
            "type": "histogram2d"
           }
          ],
          "histogram2dcontour": [
           {
            "colorbar": {
             "outlinewidth": 0,
             "ticks": ""
            },
            "colorscale": [
             [
              0,
              "#0d0887"
             ],
             [
              0.1111111111111111,
              "#46039f"
             ],
             [
              0.2222222222222222,
              "#7201a8"
             ],
             [
              0.3333333333333333,
              "#9c179e"
             ],
             [
              0.4444444444444444,
              "#bd3786"
             ],
             [
              0.5555555555555556,
              "#d8576b"
             ],
             [
              0.6666666666666666,
              "#ed7953"
             ],
             [
              0.7777777777777778,
              "#fb9f3a"
             ],
             [
              0.8888888888888888,
              "#fdca26"
             ],
             [
              1,
              "#f0f921"
             ]
            ],
            "type": "histogram2dcontour"
           }
          ],
          "mesh3d": [
           {
            "colorbar": {
             "outlinewidth": 0,
             "ticks": ""
            },
            "type": "mesh3d"
           }
          ],
          "parcoords": [
           {
            "line": {
             "colorbar": {
              "outlinewidth": 0,
              "ticks": ""
             }
            },
            "type": "parcoords"
           }
          ],
          "scatter": [
           {
            "marker": {
             "colorbar": {
              "outlinewidth": 0,
              "ticks": ""
             }
            },
            "type": "scatter"
           }
          ],
          "scatter3d": [
           {
            "line": {
             "colorbar": {
              "outlinewidth": 0,
              "ticks": ""
             }
            },
            "marker": {
             "colorbar": {
              "outlinewidth": 0,
              "ticks": ""
             }
            },
            "type": "scatter3d"
           }
          ],
          "scattercarpet": [
           {
            "marker": {
             "colorbar": {
              "outlinewidth": 0,
              "ticks": ""
             }
            },
            "type": "scattercarpet"
           }
          ],
          "scattergeo": [
           {
            "marker": {
             "colorbar": {
              "outlinewidth": 0,
              "ticks": ""
             }
            },
            "type": "scattergeo"
           }
          ],
          "scattergl": [
           {
            "marker": {
             "colorbar": {
              "outlinewidth": 0,
              "ticks": ""
             }
            },
            "type": "scattergl"
           }
          ],
          "scattermapbox": [
           {
            "marker": {
             "colorbar": {
              "outlinewidth": 0,
              "ticks": ""
             }
            },
            "type": "scattermapbox"
           }
          ],
          "scatterpolar": [
           {
            "marker": {
             "colorbar": {
              "outlinewidth": 0,
              "ticks": ""
             }
            },
            "type": "scatterpolar"
           }
          ],
          "scatterpolargl": [
           {
            "marker": {
             "colorbar": {
              "outlinewidth": 0,
              "ticks": ""
             }
            },
            "type": "scatterpolargl"
           }
          ],
          "scatterternary": [
           {
            "marker": {
             "colorbar": {
              "outlinewidth": 0,
              "ticks": ""
             }
            },
            "type": "scatterternary"
           }
          ],
          "surface": [
           {
            "colorbar": {
             "outlinewidth": 0,
             "ticks": ""
            },
            "colorscale": [
             [
              0,
              "#0d0887"
             ],
             [
              0.1111111111111111,
              "#46039f"
             ],
             [
              0.2222222222222222,
              "#7201a8"
             ],
             [
              0.3333333333333333,
              "#9c179e"
             ],
             [
              0.4444444444444444,
              "#bd3786"
             ],
             [
              0.5555555555555556,
              "#d8576b"
             ],
             [
              0.6666666666666666,
              "#ed7953"
             ],
             [
              0.7777777777777778,
              "#fb9f3a"
             ],
             [
              0.8888888888888888,
              "#fdca26"
             ],
             [
              1,
              "#f0f921"
             ]
            ],
            "type": "surface"
           }
          ],
          "table": [
           {
            "cells": {
             "fill": {
              "color": "#EBF0F8"
             },
             "line": {
              "color": "white"
             }
            },
            "header": {
             "fill": {
              "color": "#C8D4E3"
             },
             "line": {
              "color": "white"
             }
            },
            "type": "table"
           }
          ]
         },
         "layout": {
          "annotationdefaults": {
           "arrowcolor": "#2a3f5f",
           "arrowhead": 0,
           "arrowwidth": 1
          },
          "colorscale": {
           "diverging": [
            [
             0,
             "#8e0152"
            ],
            [
             0.1,
             "#c51b7d"
            ],
            [
             0.2,
             "#de77ae"
            ],
            [
             0.3,
             "#f1b6da"
            ],
            [
             0.4,
             "#fde0ef"
            ],
            [
             0.5,
             "#f7f7f7"
            ],
            [
             0.6,
             "#e6f5d0"
            ],
            [
             0.7,
             "#b8e186"
            ],
            [
             0.8,
             "#7fbc41"
            ],
            [
             0.9,
             "#4d9221"
            ],
            [
             1,
             "#276419"
            ]
           ],
           "sequential": [
            [
             0,
             "#0d0887"
            ],
            [
             0.1111111111111111,
             "#46039f"
            ],
            [
             0.2222222222222222,
             "#7201a8"
            ],
            [
             0.3333333333333333,
             "#9c179e"
            ],
            [
             0.4444444444444444,
             "#bd3786"
            ],
            [
             0.5555555555555556,
             "#d8576b"
            ],
            [
             0.6666666666666666,
             "#ed7953"
            ],
            [
             0.7777777777777778,
             "#fb9f3a"
            ],
            [
             0.8888888888888888,
             "#fdca26"
            ],
            [
             1,
             "#f0f921"
            ]
           ],
           "sequentialminus": [
            [
             0,
             "#0d0887"
            ],
            [
             0.1111111111111111,
             "#46039f"
            ],
            [
             0.2222222222222222,
             "#7201a8"
            ],
            [
             0.3333333333333333,
             "#9c179e"
            ],
            [
             0.4444444444444444,
             "#bd3786"
            ],
            [
             0.5555555555555556,
             "#d8576b"
            ],
            [
             0.6666666666666666,
             "#ed7953"
            ],
            [
             0.7777777777777778,
             "#fb9f3a"
            ],
            [
             0.8888888888888888,
             "#fdca26"
            ],
            [
             1,
             "#f0f921"
            ]
           ]
          },
          "colorway": [
           "#636efa",
           "#EF553B",
           "#00cc96",
           "#ab63fa",
           "#FFA15A",
           "#19d3f3",
           "#FF6692",
           "#B6E880",
           "#FF97FF",
           "#FECB52"
          ],
          "font": {
           "color": "#2a3f5f"
          },
          "geo": {
           "bgcolor": "white",
           "lakecolor": "white",
           "landcolor": "#E5ECF6",
           "showlakes": true,
           "showland": true,
           "subunitcolor": "white"
          },
          "hoverlabel": {
           "align": "left"
          },
          "hovermode": "closest",
          "mapbox": {
           "style": "light"
          },
          "paper_bgcolor": "white",
          "plot_bgcolor": "#E5ECF6",
          "polar": {
           "angularaxis": {
            "gridcolor": "white",
            "linecolor": "white",
            "ticks": ""
           },
           "bgcolor": "#E5ECF6",
           "radialaxis": {
            "gridcolor": "white",
            "linecolor": "white",
            "ticks": ""
           }
          },
          "scene": {
           "xaxis": {
            "backgroundcolor": "#E5ECF6",
            "gridcolor": "white",
            "gridwidth": 2,
            "linecolor": "white",
            "showbackground": true,
            "ticks": "",
            "zerolinecolor": "white"
           },
           "yaxis": {
            "backgroundcolor": "#E5ECF6",
            "gridcolor": "white",
            "gridwidth": 2,
            "linecolor": "white",
            "showbackground": true,
            "ticks": "",
            "zerolinecolor": "white"
           },
           "zaxis": {
            "backgroundcolor": "#E5ECF6",
            "gridcolor": "white",
            "gridwidth": 2,
            "linecolor": "white",
            "showbackground": true,
            "ticks": "",
            "zerolinecolor": "white"
           }
          },
          "shapedefaults": {
           "line": {
            "color": "#2a3f5f"
           }
          },
          "ternary": {
           "aaxis": {
            "gridcolor": "white",
            "linecolor": "white",
            "ticks": ""
           },
           "baxis": {
            "gridcolor": "white",
            "linecolor": "white",
            "ticks": ""
           },
           "bgcolor": "#E5ECF6",
           "caxis": {
            "gridcolor": "white",
            "linecolor": "white",
            "ticks": ""
           }
          },
          "title": {
           "x": 0.05
          },
          "xaxis": {
           "automargin": true,
           "gridcolor": "white",
           "linecolor": "white",
           "ticks": "",
           "zerolinecolor": "white",
           "zerolinewidth": 2
          },
          "yaxis": {
           "automargin": true,
           "gridcolor": "white",
           "linecolor": "white",
           "ticks": "",
           "zerolinecolor": "white",
           "zerolinewidth": 2
          }
         }
        },
        "title": {
         "text": "Meta prediction value of testset of Group 4"
        }
       }
      },
      "text/html": [
       "<div>\n",
       "        \n",
       "        \n",
       "            <div id=\"c17ffc63-2920-45b2-bbc6-67da300da8c0\" class=\"plotly-graph-div\" style=\"height:525px; width:100%;\"></div>\n",
       "            <script type=\"text/javascript\">\n",
       "                require([\"plotly\"], function(Plotly) {\n",
       "                    window.PLOTLYENV=window.PLOTLYENV || {};\n",
       "                    \n",
       "                if (document.getElementById(\"c17ffc63-2920-45b2-bbc6-67da300da8c0\")) {\n",
       "                    Plotly.newPlot(\n",
       "                        'c17ffc63-2920-45b2-bbc6-67da300da8c0',\n",
       "                        [{\"marker\": {\"color\": [493800.75268028036, 30685327.023200005, 37083265.73401345, 117316.4911437731, 43729.984751967764, 62788.674783788425, 28323310.95074511, 69916.06479213982, 979323.9366496813, 213317.3894536561, 14831423.95659767, 64509887.83122351, 9563591.32713455, 15088943.572158545, 36282645.3583179, 196560.33243439786, 32933.583873496325, 7100184.2320892075, 32385885.98295281, 11130950.969130803, 2920073.230820456, 5594926.344839107, 1513785.7701759129, 48182252.50768729, 3028009.6430853195, 4160082.9554587705, 18216028.184749193, 2859938.1881535808, 1265502.6101017722, 13525888.072629718, 6199436.23969021, 32955.90856594491, 12992332.758082995, 22083621.336026527, 30345225.42876064, 9483118.333513863, 498102.9033382617, 31853360.00712259, 232350.31968696805, 126852.66829432914, 17815.612685207958, 339168.5187627834, 532082.1187045642, 190432.8823276397, 816863.920153335, 3129445.7003416726, 3628265.1640387294, 304321.49412726425, 209378.61418302672, 6717906.718843788, 16401485.509532705, 204706.70860921254, 11534669.776264727, 499711.78586609045, 506626.1651643646, 10583783.880171366, 17603647.974498324, 32022770.37971098, 8245342.641173112, 4927893.514079952, 14898417.22324334, 701839.4399284024, 23300358.09782319, 9440220.616028337, 16837852.223221693, 11989673.02784856, 407050.36284737685, 7675748.436128024, 7436006.592997593, 47510784.93098648, 9803821.046643557, 20338200.89633899, 1463716.2850440503, 6362079.088219324, 2078366.743387208, 161853.59517880742, 440499.3629835358, 1511721.7734930078, 10202554.759219076, 13502776.797256935, 82335.04909681418, 100798.57773817373, 37125.40121341745, 70568.96404017354, 64655.16433022824, 8069520.9774919, 34526929.38831782, 56921055.88874777, 7336095.827126285, 150344.50279810413, 474282.3257819176, 290387.9212797701, 114218.25019346953, 9630714.78542816, 73257262.96182893, 77306637.80866966, 67041423.74540739, 2223468.279486348, 7890424.901906931, 2933118.639007929, 18246598.393593006, 12455817.00314124]}, \"mode\": \"markers\", \"text\": [\"O Brother, Where Art Thou?\", \"The Twilight Saga: Breaking Dawn Part 1\", \"The Twilight Saga: Breaking Dawn Part 2\", \"Helena From the Wedding\", \"Monsters\", \"Catfish\", \"Red\", \"Freakonomics\", \"The Warrior's Way\", \"Stone\", \"Frankenweenie\", \"John Carter\", \"Dolphin Tale\", \"Penguins of Madagascar\", \"Minions\", \"Proud American\", \"Edmond\", \"Tootsie\", \"Waterworld\", \"The Lion King (2019)\", \"Crawl\", \"Stuber\", \"Midsommar\", \"Spider-Man: Far from Home\", \"Yesterday\", \"Annabelle Comes Home\", \"Toy Story 4\", \"Child's Play (2019)\", \"Anna (2019)\", \"Men in Black International\", \"Shaft (2019)\\u00a0\", \"Late Night\", \"The Secret Life of Pets 2\", \"Dark Phoenix\", \"Godzilla:King of the Monsters\", \"Rocketman\", \"Return of the Jedi\", \"Indiana Jones and the Temple of Doom\", \"The Idolmaker\", \"The Grass Harp\", \"The Grand\", \"Jaws\", \"Superman (1978)\", \"Clerks\", \"Juice\", \"He Got Game\", \"White Men Can't Jump\", \"Mulholland Drive\", \"Blue Velvet\", \"Once Upon a Time in Hollywood\", \"The Big Lebowski\", \"Train to Busan\", \"Pride and Prejudice and Zombies\", \"Dead Poets Society\", \"A Fish Called Wanda\", \"The Witches of Eastwick\", \"Ferris Bueller's Day Off\", \"Back to the Future\", \"Police Academy\", \"Trading Places\", \"Star Trek II The Wrath of Khan\", \"The Blues Brothers\", \"V For Vendetta\", \"In the Line of Fire\", \"Us\", \"The Forbidden Kingdom\", \"Rumble in the Bronx\", \"Machete\", \"Beverly Hills Cop\", \"Watchmen\", \"Jackie Brown\", \"Zombieland\", \"Mo Better Blues\", \"Thelma and Louise\", \"New Jack City\", \"The Lawnmower Man\", \"Schindler's List\", \"Four Weddings and a Funeral\", \"Get Shorty\", \"Jerry Maguire\", \"Welcome to Sarajevo\", \"Trojan War\", \"The Gingerbread Man\", \"Tumbleweeds\", \"Turn it up\", \"The Adventures of Pluto Nash\", \"The Lord of the Rings: The Return of the King\", \"Harry Potter and the Prisoner of Azkaban\", \"Stay\", \"Fast Food Nation\", \"Into the Wild\", \"The Wrestler\", \"Slumdog Millionaire\", \"Jackass 3-D\", \"Skyfall\", \"The Hunger Games: Mocking Jay - Part 1\", \"Jurassic World\", \"Shut In\", \"Molly's Game\", \"BlacKkKlansman\", \"Peter Rabbit\", \"Replicas\"], \"type\": \"scatter\", \"x\": [\"O Brother, Where Art Thou?\", \"The Twilight Saga: Breaking Dawn Part 1\", \"The Twilight Saga: Breaking Dawn Part 2\", \"Helena From the Wedding\", \"Monsters\", \"Catfish\", \"Red\", \"Freakonomics\", \"The Warrior's Way\", \"Stone\", \"Frankenweenie\", \"John Carter\", \"Dolphin Tale\", \"Penguins of Madagascar\", \"Minions\", \"Proud American\", \"Edmond\", \"Tootsie\", \"Waterworld\", \"The Lion King (2019)\", \"Crawl\", \"Stuber\", \"Midsommar\", \"Spider-Man: Far from Home\", \"Yesterday\", \"Annabelle Comes Home\", \"Toy Story 4\", \"Child's Play (2019)\", \"Anna (2019)\", \"Men in Black International\", \"Shaft (2019)\\u00a0\", \"Late Night\", \"The Secret Life of Pets 2\", \"Dark Phoenix\", \"Godzilla:King of the Monsters\", \"Rocketman\", \"Return of the Jedi\", \"Indiana Jones and the Temple of Doom\", \"The Idolmaker\", \"The Grass Harp\", \"The Grand\", \"Jaws\", \"Superman (1978)\", \"Clerks\", \"Juice\", \"He Got Game\", \"White Men Can't Jump\", \"Mulholland Drive\", \"Blue Velvet\", \"Once Upon a Time in Hollywood\", \"The Big Lebowski\", \"Train to Busan\", \"Pride and Prejudice and Zombies\", \"Dead Poets Society\", \"A Fish Called Wanda\", \"The Witches of Eastwick\", \"Ferris Bueller's Day Off\", \"Back to the Future\", \"Police Academy\", \"Trading Places\", \"Star Trek II The Wrath of Khan\", \"The Blues Brothers\", \"V For Vendetta\", \"In the Line of Fire\", \"Us\", \"The Forbidden Kingdom\", \"Rumble in the Bronx\", \"Machete\", \"Beverly Hills Cop\", \"Watchmen\", \"Jackie Brown\", \"Zombieland\", \"Mo Better Blues\", \"Thelma and Louise\", \"New Jack City\", \"The Lawnmower Man\", \"Schindler's List\", \"Four Weddings and a Funeral\", \"Get Shorty\", \"Jerry Maguire\", \"Welcome to Sarajevo\", \"Trojan War\", \"The Gingerbread Man\", \"Tumbleweeds\", \"Turn it up\", \"The Adventures of Pluto Nash\", \"The Lord of the Rings: The Return of the King\", \"Harry Potter and the Prisoner of Azkaban\", \"Stay\", \"Fast Food Nation\", \"Into the Wild\", \"The Wrestler\", \"Slumdog Millionaire\", \"Jackass 3-D\", \"Skyfall\", \"The Hunger Games: Mocking Jay - Part 1\", \"Jurassic World\", \"Shut In\", \"Molly's Game\", \"BlacKkKlansman\", \"Peter Rabbit\", \"Replicas\"], \"y\": [493800.75268028036, 30685327.023200005, 37083265.73401345, 117316.4911437731, 43729.984751967764, 62788.674783788425, 28323310.95074511, 69916.06479213982, 979323.9366496813, 213317.3894536561, 14831423.95659767, 64509887.83122351, 9563591.32713455, 15088943.572158545, 36282645.3583179, 196560.33243439786, 32933.583873496325, 7100184.2320892075, 32385885.98295281, 11130950.969130803, 2920073.230820456, 5594926.344839107, 1513785.7701759129, 48182252.50768729, 3028009.6430853195, 4160082.9554587705, 18216028.184749193, 2859938.1881535808, 1265502.6101017722, 13525888.072629718, 6199436.23969021, 32955.90856594491, 12992332.758082995, 22083621.336026527, 30345225.42876064, 9483118.333513863, 498102.9033382617, 31853360.00712259, 232350.31968696805, 126852.66829432914, 17815.612685207958, 339168.5187627834, 532082.1187045642, 190432.8823276397, 816863.920153335, 3129445.7003416726, 3628265.1640387294, 304321.49412726425, 209378.61418302672, 6717906.718843788, 16401485.509532705, 204706.70860921254, 11534669.776264727, 499711.78586609045, 506626.1651643646, 10583783.880171366, 17603647.974498324, 32022770.37971098, 8245342.641173112, 4927893.514079952, 14898417.22324334, 701839.4399284024, 23300358.09782319, 9440220.616028337, 16837852.223221693, 11989673.02784856, 407050.36284737685, 7675748.436128024, 7436006.592997593, 47510784.93098648, 9803821.046643557, 20338200.89633899, 1463716.2850440503, 6362079.088219324, 2078366.743387208, 161853.59517880742, 440499.3629835358, 1511721.7734930078, 10202554.759219076, 13502776.797256935, 82335.04909681418, 100798.57773817373, 37125.40121341745, 70568.96404017354, 64655.16433022824, 8069520.9774919, 34526929.38831782, 56921055.88874777, 7336095.827126285, 150344.50279810413, 474282.3257819176, 290387.9212797701, 114218.25019346953, 9630714.78542816, 73257262.96182893, 77306637.80866966, 67041423.74540739, 2223468.279486348, 7890424.901906931, 2933118.639007929, 18246598.393593006, 12455817.00314124]}],\n",
       "                        {\"template\": {\"data\": {\"bar\": [{\"error_x\": {\"color\": \"#2a3f5f\"}, \"error_y\": {\"color\": \"#2a3f5f\"}, \"marker\": {\"line\": {\"color\": \"#E5ECF6\", \"width\": 0.5}}, \"type\": \"bar\"}], \"barpolar\": [{\"marker\": {\"line\": {\"color\": \"#E5ECF6\", \"width\": 0.5}}, \"type\": \"barpolar\"}], \"carpet\": [{\"aaxis\": {\"endlinecolor\": \"#2a3f5f\", \"gridcolor\": \"white\", \"linecolor\": \"white\", \"minorgridcolor\": \"white\", \"startlinecolor\": \"#2a3f5f\"}, \"baxis\": {\"endlinecolor\": \"#2a3f5f\", \"gridcolor\": \"white\", \"linecolor\": \"white\", \"minorgridcolor\": \"white\", \"startlinecolor\": \"#2a3f5f\"}, \"type\": \"carpet\"}], \"choropleth\": [{\"colorbar\": {\"outlinewidth\": 0, \"ticks\": \"\"}, \"type\": \"choropleth\"}], \"contour\": [{\"colorbar\": {\"outlinewidth\": 0, \"ticks\": \"\"}, \"colorscale\": [[0.0, \"#0d0887\"], [0.1111111111111111, \"#46039f\"], [0.2222222222222222, \"#7201a8\"], [0.3333333333333333, \"#9c179e\"], [0.4444444444444444, \"#bd3786\"], [0.5555555555555556, \"#d8576b\"], [0.6666666666666666, \"#ed7953\"], [0.7777777777777778, \"#fb9f3a\"], [0.8888888888888888, \"#fdca26\"], [1.0, \"#f0f921\"]], \"type\": \"contour\"}], \"contourcarpet\": [{\"colorbar\": {\"outlinewidth\": 0, \"ticks\": \"\"}, \"type\": \"contourcarpet\"}], \"heatmap\": [{\"colorbar\": {\"outlinewidth\": 0, \"ticks\": \"\"}, \"colorscale\": [[0.0, \"#0d0887\"], [0.1111111111111111, \"#46039f\"], [0.2222222222222222, \"#7201a8\"], [0.3333333333333333, \"#9c179e\"], [0.4444444444444444, \"#bd3786\"], [0.5555555555555556, \"#d8576b\"], [0.6666666666666666, \"#ed7953\"], [0.7777777777777778, \"#fb9f3a\"], [0.8888888888888888, \"#fdca26\"], [1.0, \"#f0f921\"]], \"type\": \"heatmap\"}], \"heatmapgl\": [{\"colorbar\": {\"outlinewidth\": 0, \"ticks\": \"\"}, \"colorscale\": [[0.0, \"#0d0887\"], [0.1111111111111111, \"#46039f\"], [0.2222222222222222, \"#7201a8\"], [0.3333333333333333, \"#9c179e\"], [0.4444444444444444, \"#bd3786\"], [0.5555555555555556, \"#d8576b\"], [0.6666666666666666, \"#ed7953\"], [0.7777777777777778, \"#fb9f3a\"], [0.8888888888888888, \"#fdca26\"], [1.0, \"#f0f921\"]], \"type\": \"heatmapgl\"}], \"histogram\": [{\"marker\": {\"colorbar\": {\"outlinewidth\": 0, \"ticks\": \"\"}}, \"type\": \"histogram\"}], \"histogram2d\": [{\"colorbar\": {\"outlinewidth\": 0, \"ticks\": \"\"}, \"colorscale\": [[0.0, \"#0d0887\"], [0.1111111111111111, \"#46039f\"], [0.2222222222222222, \"#7201a8\"], [0.3333333333333333, \"#9c179e\"], [0.4444444444444444, \"#bd3786\"], [0.5555555555555556, \"#d8576b\"], [0.6666666666666666, \"#ed7953\"], [0.7777777777777778, \"#fb9f3a\"], [0.8888888888888888, \"#fdca26\"], [1.0, \"#f0f921\"]], \"type\": \"histogram2d\"}], \"histogram2dcontour\": [{\"colorbar\": {\"outlinewidth\": 0, \"ticks\": \"\"}, \"colorscale\": [[0.0, \"#0d0887\"], [0.1111111111111111, \"#46039f\"], [0.2222222222222222, \"#7201a8\"], [0.3333333333333333, \"#9c179e\"], [0.4444444444444444, \"#bd3786\"], [0.5555555555555556, \"#d8576b\"], [0.6666666666666666, \"#ed7953\"], [0.7777777777777778, \"#fb9f3a\"], [0.8888888888888888, \"#fdca26\"], [1.0, \"#f0f921\"]], \"type\": \"histogram2dcontour\"}], \"mesh3d\": [{\"colorbar\": {\"outlinewidth\": 0, \"ticks\": \"\"}, \"type\": \"mesh3d\"}], \"parcoords\": [{\"line\": {\"colorbar\": {\"outlinewidth\": 0, \"ticks\": \"\"}}, \"type\": \"parcoords\"}], \"scatter\": [{\"marker\": {\"colorbar\": {\"outlinewidth\": 0, \"ticks\": \"\"}}, \"type\": \"scatter\"}], \"scatter3d\": [{\"line\": {\"colorbar\": {\"outlinewidth\": 0, \"ticks\": \"\"}}, \"marker\": {\"colorbar\": {\"outlinewidth\": 0, \"ticks\": \"\"}}, \"type\": \"scatter3d\"}], \"scattercarpet\": [{\"marker\": {\"colorbar\": {\"outlinewidth\": 0, \"ticks\": \"\"}}, \"type\": \"scattercarpet\"}], \"scattergeo\": [{\"marker\": {\"colorbar\": {\"outlinewidth\": 0, \"ticks\": \"\"}}, \"type\": \"scattergeo\"}], \"scattergl\": [{\"marker\": {\"colorbar\": {\"outlinewidth\": 0, \"ticks\": \"\"}}, \"type\": \"scattergl\"}], \"scattermapbox\": [{\"marker\": {\"colorbar\": {\"outlinewidth\": 0, \"ticks\": \"\"}}, \"type\": \"scattermapbox\"}], \"scatterpolar\": [{\"marker\": {\"colorbar\": {\"outlinewidth\": 0, \"ticks\": \"\"}}, \"type\": \"scatterpolar\"}], \"scatterpolargl\": [{\"marker\": {\"colorbar\": {\"outlinewidth\": 0, \"ticks\": \"\"}}, \"type\": \"scatterpolargl\"}], \"scatterternary\": [{\"marker\": {\"colorbar\": {\"outlinewidth\": 0, \"ticks\": \"\"}}, \"type\": \"scatterternary\"}], \"surface\": [{\"colorbar\": {\"outlinewidth\": 0, \"ticks\": \"\"}, \"colorscale\": [[0.0, \"#0d0887\"], [0.1111111111111111, \"#46039f\"], [0.2222222222222222, \"#7201a8\"], [0.3333333333333333, \"#9c179e\"], [0.4444444444444444, \"#bd3786\"], [0.5555555555555556, \"#d8576b\"], [0.6666666666666666, \"#ed7953\"], [0.7777777777777778, \"#fb9f3a\"], [0.8888888888888888, \"#fdca26\"], [1.0, \"#f0f921\"]], \"type\": \"surface\"}], \"table\": [{\"cells\": {\"fill\": {\"color\": \"#EBF0F8\"}, \"line\": {\"color\": \"white\"}}, \"header\": {\"fill\": {\"color\": \"#C8D4E3\"}, \"line\": {\"color\": \"white\"}}, \"type\": \"table\"}]}, \"layout\": {\"annotationdefaults\": {\"arrowcolor\": \"#2a3f5f\", \"arrowhead\": 0, \"arrowwidth\": 1}, \"colorscale\": {\"diverging\": [[0, \"#8e0152\"], [0.1, \"#c51b7d\"], [0.2, \"#de77ae\"], [0.3, \"#f1b6da\"], [0.4, \"#fde0ef\"], [0.5, \"#f7f7f7\"], [0.6, \"#e6f5d0\"], [0.7, \"#b8e186\"], [0.8, \"#7fbc41\"], [0.9, \"#4d9221\"], [1, \"#276419\"]], \"sequential\": [[0.0, \"#0d0887\"], [0.1111111111111111, \"#46039f\"], [0.2222222222222222, \"#7201a8\"], [0.3333333333333333, \"#9c179e\"], [0.4444444444444444, \"#bd3786\"], [0.5555555555555556, \"#d8576b\"], [0.6666666666666666, \"#ed7953\"], [0.7777777777777778, \"#fb9f3a\"], [0.8888888888888888, \"#fdca26\"], [1.0, \"#f0f921\"]], \"sequentialminus\": [[0.0, \"#0d0887\"], [0.1111111111111111, \"#46039f\"], [0.2222222222222222, \"#7201a8\"], [0.3333333333333333, \"#9c179e\"], [0.4444444444444444, \"#bd3786\"], [0.5555555555555556, \"#d8576b\"], [0.6666666666666666, \"#ed7953\"], [0.7777777777777778, \"#fb9f3a\"], [0.8888888888888888, \"#fdca26\"], [1.0, \"#f0f921\"]]}, \"colorway\": [\"#636efa\", \"#EF553B\", \"#00cc96\", \"#ab63fa\", \"#FFA15A\", \"#19d3f3\", \"#FF6692\", \"#B6E880\", \"#FF97FF\", \"#FECB52\"], \"font\": {\"color\": \"#2a3f5f\"}, \"geo\": {\"bgcolor\": \"white\", \"lakecolor\": \"white\", \"landcolor\": \"#E5ECF6\", \"showlakes\": true, \"showland\": true, \"subunitcolor\": \"white\"}, \"hoverlabel\": {\"align\": \"left\"}, \"hovermode\": \"closest\", \"mapbox\": {\"style\": \"light\"}, \"paper_bgcolor\": \"white\", \"plot_bgcolor\": \"#E5ECF6\", \"polar\": {\"angularaxis\": {\"gridcolor\": \"white\", \"linecolor\": \"white\", \"ticks\": \"\"}, \"bgcolor\": \"#E5ECF6\", \"radialaxis\": {\"gridcolor\": \"white\", \"linecolor\": \"white\", \"ticks\": \"\"}}, \"scene\": {\"xaxis\": {\"backgroundcolor\": \"#E5ECF6\", \"gridcolor\": \"white\", \"gridwidth\": 2, \"linecolor\": \"white\", \"showbackground\": true, \"ticks\": \"\", \"zerolinecolor\": \"white\"}, \"yaxis\": {\"backgroundcolor\": \"#E5ECF6\", \"gridcolor\": \"white\", \"gridwidth\": 2, \"linecolor\": \"white\", \"showbackground\": true, \"ticks\": \"\", \"zerolinecolor\": \"white\"}, \"zaxis\": {\"backgroundcolor\": \"#E5ECF6\", \"gridcolor\": \"white\", \"gridwidth\": 2, \"linecolor\": \"white\", \"showbackground\": true, \"ticks\": \"\", \"zerolinecolor\": \"white\"}}, \"shapedefaults\": {\"line\": {\"color\": \"#2a3f5f\"}}, \"ternary\": {\"aaxis\": {\"gridcolor\": \"white\", \"linecolor\": \"white\", \"ticks\": \"\"}, \"baxis\": {\"gridcolor\": \"white\", \"linecolor\": \"white\", \"ticks\": \"\"}, \"bgcolor\": \"#E5ECF6\", \"caxis\": {\"gridcolor\": \"white\", \"linecolor\": \"white\", \"ticks\": \"\"}}, \"title\": {\"x\": 0.05}, \"xaxis\": {\"automargin\": true, \"gridcolor\": \"white\", \"linecolor\": \"white\", \"ticks\": \"\", \"zerolinecolor\": \"white\", \"zerolinewidth\": 2}, \"yaxis\": {\"automargin\": true, \"gridcolor\": \"white\", \"linecolor\": \"white\", \"ticks\": \"\", \"zerolinecolor\": \"white\", \"zerolinewidth\": 2}}}, \"title\": {\"text\": \"Meta prediction value of testset of Group 4\"}},\n",
       "                        {\"responsive\": true}\n",
       "                    ).then(function(){\n",
       "                            \n",
       "var gd = document.getElementById('c17ffc63-2920-45b2-bbc6-67da300da8c0');\n",
       "var x = new MutationObserver(function (mutations, observer) {{\n",
       "        var display = window.getComputedStyle(gd).display;\n",
       "        if (!display || display === 'none') {{\n",
       "            console.log([gd, 'removed!']);\n",
       "            Plotly.purge(gd);\n",
       "            observer.disconnect();\n",
       "        }}\n",
       "}});\n",
       "\n",
       "// Listen for the removal of the full notebook cells\n",
       "var notebookContainer = gd.closest('#notebook-container');\n",
       "if (notebookContainer) {{\n",
       "    x.observe(notebookContainer, {childList: true});\n",
       "}}\n",
       "\n",
       "// Listen for the clearing of the current output cell\n",
       "var outputEl = gd.closest('.output');\n",
       "if (outputEl) {{\n",
       "    x.observe(outputEl, {childList: true});\n",
       "}}\n",
       "\n",
       "                        })\n",
       "                };\n",
       "                });\n",
       "            </script>\n",
       "        </div>"
      ]
     },
     "metadata": {},
     "output_type": "display_data"
    }
   ],
   "source": [
    "#Meta prediction value of testset\n",
    "fig = go.Figure(data=go.Scatter(x=g4_result_final[\"name\"],\n",
    "                                y=g4_result_final[\"meta_prediction\"],\n",
    "                                mode='markers',\n",
    "                                marker_color=g4_result_final[\"meta_prediction\"],\n",
    "                                text=g4_result_final[\"name\"])) # hover text goes here(movie_title)\n",
    "\n",
    "fig.update_layout(title='Meta prediction value of testset of Group 4')\n",
    "fig.show()"
   ]
  },
  {
   "cell_type": "code",
   "execution_count": 30,
   "metadata": {
    "scrolled": true
   },
   "outputs": [
    {
     "data": {
      "application/vnd.plotly.v1+json": {
       "config": {
        "plotlyServerURL": "https://plot.ly"
       },
       "data": [
        {
         "marker": {
          "color": [
           5.037576891896201,
           4.366709144669183,
           4.313646356736289,
           8.356782091709164,
           4.738247099400357,
           4.338540576437861,
           3.4389379252229695,
           4.789329401284848,
           4.2323216962096195,
           5.207011212814958,
           3.4327277308664628,
           4.74274822531023,
           3.933115701997684,
           3.7306321769779975,
           4.243421587675606,
           4.659548331928415,
           4.277456006587804,
           3.372499447405943,
           3.98837706085056,
           4.555934768303189,
           4.339596796338548,
           3.4958938898896244,
           4.355735313695859,
           3.890914711483311,
           4.421231750090678,
           4.387963600659202,
           4.45357937581613,
           4.390849731076507,
           4.187432066629669,
           4.024771205257194,
           3.4453583456229735,
           4.473007894300101,
           4.292524980232408,
           3.518388404385486,
           3.6239345471577495,
           4.161030788327188,
           4.593463740618066,
           3.2853451854400553,
           3.333144815468473,
           2.2270092664040426,
           3.506982427243619,
           4.566397576041206,
           4.541938934586158,
           6.2193939268235825,
           4.5097346263446605,
           4.092355489428739,
           4.3351523477839455,
           3.8960687890226495,
           4.310484118921281,
           4.438496445357778,
           5.285156316636093,
           3.371308006912802,
           4.767666830333984,
           3.866548549530596,
           5.828795627626069,
           2.560903368878241,
           5.201295874797669,
           5.237161673047249,
           1.5661919732954945,
           3.524517835202277,
           1.5772932993496922,
           4.4607611713655055,
           2.315823205986988,
           3.668051913836858,
           4.348003598144245,
           3.8061384684270734,
           4.573380421354203,
           3.8410256048472315,
           3.9536735989964225,
           2.7048505438864097,
           1.8726286727625643,
           2.9322323774749273,
           4.214168188884776,
           1.662828413234024,
           4.269363966036494,
           4.594231551821208,
           3.523879386335215,
           6.9003340176207075,
           3.028439872105068,
           3.0893960587429072,
           3.179512786027431,
           10.744018802745796,
           4.242933291389199,
           2.5511516633845095,
           4.497485885688683,
           5.6008994438568624,
           3.9789655474562355,
           3.694951397581639,
           5.464921260542245,
           4.165150528725216,
           4.822333646931806,
           3.789856667757949,
           4.238073907584434,
           4.4051796025188,
           2.8957296624748046,
           3.6264903673179374,
           4.232554613626208,
           3.6755124905480234,
           6.3530191571593555,
           4.303456907283046,
           3.333828059301707,
           6.052991573388071
          ]
         },
         "mode": "markers",
         "text": [
          "O Brother, Where Art Thou?",
          "The Twilight Saga: Breaking Dawn Part 1",
          "The Twilight Saga: Breaking Dawn Part 2",
          "Helena From the Wedding",
          "Monsters",
          "Catfish",
          "Red",
          "Freakonomics",
          "The Warrior's Way",
          "Stone",
          "Frankenweenie",
          "John Carter",
          "Dolphin Tale",
          "Penguins of Madagascar",
          "Minions",
          "Proud American",
          "Edmond",
          "Tootsie",
          "Waterworld",
          "The Lion King (2019)",
          "Crawl",
          "Stuber",
          "Midsommar",
          "Spider-Man: Far from Home",
          "Yesterday",
          "Annabelle Comes Home",
          "Toy Story 4",
          "Child's Play (2019)",
          "Anna (2019)",
          "Men in Black International",
          "Shaft (2019) ",
          "Late Night",
          "The Secret Life of Pets 2",
          "Dark Phoenix",
          "Godzilla:King of the Monsters",
          "Rocketman",
          "Return of the Jedi",
          "Indiana Jones and the Temple of Doom",
          "The Idolmaker",
          "The Grass Harp",
          "The Grand",
          "Jaws",
          "Superman (1978)",
          "Clerks",
          "Juice",
          "He Got Game",
          "White Men Can't Jump",
          "Mulholland Drive",
          "Blue Velvet",
          "Once Upon a Time in Hollywood",
          "The Big Lebowski",
          "Train to Busan",
          "Pride and Prejudice and Zombies",
          "Dead Poets Society",
          "A Fish Called Wanda",
          "The Witches of Eastwick",
          "Ferris Bueller's Day Off",
          "Back to the Future",
          "Police Academy",
          "Trading Places",
          "Star Trek II The Wrath of Khan",
          "The Blues Brothers",
          "V For Vendetta",
          "In the Line of Fire",
          "Us",
          "The Forbidden Kingdom",
          "Rumble in the Bronx",
          "Machete",
          "Beverly Hills Cop",
          "Watchmen",
          "Jackie Brown",
          "Zombieland",
          "Mo Better Blues",
          "Thelma and Louise",
          "New Jack City",
          "The Lawnmower Man",
          "Schindler's List",
          "Four Weddings and a Funeral",
          "Get Shorty",
          "Jerry Maguire",
          "Welcome to Sarajevo",
          "Trojan War",
          "The Gingerbread Man",
          "Tumbleweeds",
          "Turn it up",
          "The Adventures of Pluto Nash",
          "The Lord of the Rings: The Return of the King",
          "Harry Potter and the Prisoner of Azkaban",
          "Stay",
          "Fast Food Nation",
          "Into the Wild",
          "The Wrestler",
          "Slumdog Millionaire",
          "Jackass 3-D",
          "Skyfall",
          "The Hunger Games: Mocking Jay - Part 1",
          "Jurassic World",
          "Shut In",
          "Molly's Game",
          "BlacKkKlansman",
          "Peter Rabbit",
          "Replicas"
         ],
         "type": "scatter",
         "x": [
          "O Brother, Where Art Thou?",
          "The Twilight Saga: Breaking Dawn Part 1",
          "The Twilight Saga: Breaking Dawn Part 2",
          "Helena From the Wedding",
          "Monsters",
          "Catfish",
          "Red",
          "Freakonomics",
          "The Warrior's Way",
          "Stone",
          "Frankenweenie",
          "John Carter",
          "Dolphin Tale",
          "Penguins of Madagascar",
          "Minions",
          "Proud American",
          "Edmond",
          "Tootsie",
          "Waterworld",
          "The Lion King (2019)",
          "Crawl",
          "Stuber",
          "Midsommar",
          "Spider-Man: Far from Home",
          "Yesterday",
          "Annabelle Comes Home",
          "Toy Story 4",
          "Child's Play (2019)",
          "Anna (2019)",
          "Men in Black International",
          "Shaft (2019) ",
          "Late Night",
          "The Secret Life of Pets 2",
          "Dark Phoenix",
          "Godzilla:King of the Monsters",
          "Rocketman",
          "Return of the Jedi",
          "Indiana Jones and the Temple of Doom",
          "The Idolmaker",
          "The Grass Harp",
          "The Grand",
          "Jaws",
          "Superman (1978)",
          "Clerks",
          "Juice",
          "He Got Game",
          "White Men Can't Jump",
          "Mulholland Drive",
          "Blue Velvet",
          "Once Upon a Time in Hollywood",
          "The Big Lebowski",
          "Train to Busan",
          "Pride and Prejudice and Zombies",
          "Dead Poets Society",
          "A Fish Called Wanda",
          "The Witches of Eastwick",
          "Ferris Bueller's Day Off",
          "Back to the Future",
          "Police Academy",
          "Trading Places",
          "Star Trek II The Wrath of Khan",
          "The Blues Brothers",
          "V For Vendetta",
          "In the Line of Fire",
          "Us",
          "The Forbidden Kingdom",
          "Rumble in the Bronx",
          "Machete",
          "Beverly Hills Cop",
          "Watchmen",
          "Jackie Brown",
          "Zombieland",
          "Mo Better Blues",
          "Thelma and Louise",
          "New Jack City",
          "The Lawnmower Man",
          "Schindler's List",
          "Four Weddings and a Funeral",
          "Get Shorty",
          "Jerry Maguire",
          "Welcome to Sarajevo",
          "Trojan War",
          "The Gingerbread Man",
          "Tumbleweeds",
          "Turn it up",
          "The Adventures of Pluto Nash",
          "The Lord of the Rings: The Return of the King",
          "Harry Potter and the Prisoner of Azkaban",
          "Stay",
          "Fast Food Nation",
          "Into the Wild",
          "The Wrestler",
          "Slumdog Millionaire",
          "Jackass 3-D",
          "Skyfall",
          "The Hunger Games: Mocking Jay - Part 1",
          "Jurassic World",
          "Shut In",
          "Molly's Game",
          "BlacKkKlansman",
          "Peter Rabbit",
          "Replicas"
         ],
         "y": [
          5.037576891896201,
          4.366709144669183,
          4.313646356736289,
          8.356782091709164,
          4.738247099400357,
          4.338540576437861,
          3.4389379252229695,
          4.789329401284848,
          4.2323216962096195,
          5.207011212814958,
          3.4327277308664628,
          4.74274822531023,
          3.933115701997684,
          3.7306321769779975,
          4.243421587675606,
          4.659548331928415,
          4.277456006587804,
          3.372499447405943,
          3.98837706085056,
          4.555934768303189,
          4.339596796338548,
          3.4958938898896244,
          4.355735313695859,
          3.890914711483311,
          4.421231750090678,
          4.387963600659202,
          4.45357937581613,
          4.390849731076507,
          4.187432066629669,
          4.024771205257194,
          3.4453583456229735,
          4.473007894300101,
          4.292524980232408,
          3.518388404385486,
          3.6239345471577495,
          4.161030788327188,
          4.593463740618066,
          3.2853451854400553,
          3.333144815468473,
          2.2270092664040426,
          3.506982427243619,
          4.566397576041206,
          4.541938934586158,
          6.2193939268235825,
          4.5097346263446605,
          4.092355489428739,
          4.3351523477839455,
          3.8960687890226495,
          4.310484118921281,
          4.438496445357778,
          5.285156316636093,
          3.371308006912802,
          4.767666830333984,
          3.866548549530596,
          5.828795627626069,
          2.560903368878241,
          5.201295874797669,
          5.237161673047249,
          1.5661919732954945,
          3.524517835202277,
          1.5772932993496922,
          4.4607611713655055,
          2.315823205986988,
          3.668051913836858,
          4.348003598144245,
          3.8061384684270734,
          4.573380421354203,
          3.8410256048472315,
          3.9536735989964225,
          2.7048505438864097,
          1.8726286727625643,
          2.9322323774749273,
          4.214168188884776,
          1.662828413234024,
          4.269363966036494,
          4.594231551821208,
          3.523879386335215,
          6.9003340176207075,
          3.028439872105068,
          3.0893960587429072,
          3.179512786027431,
          10.744018802745796,
          4.242933291389199,
          2.5511516633845095,
          4.497485885688683,
          5.6008994438568624,
          3.9789655474562355,
          3.694951397581639,
          5.464921260542245,
          4.165150528725216,
          4.822333646931806,
          3.789856667757949,
          4.238073907584434,
          4.4051796025188,
          2.8957296624748046,
          3.6264903673179374,
          4.232554613626208,
          3.6755124905480234,
          6.3530191571593555,
          4.303456907283046,
          3.333828059301707,
          6.052991573388071
         ]
        }
       ],
       "layout": {
        "template": {
         "data": {
          "bar": [
           {
            "error_x": {
             "color": "#2a3f5f"
            },
            "error_y": {
             "color": "#2a3f5f"
            },
            "marker": {
             "line": {
              "color": "#E5ECF6",
              "width": 0.5
             }
            },
            "type": "bar"
           }
          ],
          "barpolar": [
           {
            "marker": {
             "line": {
              "color": "#E5ECF6",
              "width": 0.5
             }
            },
            "type": "barpolar"
           }
          ],
          "carpet": [
           {
            "aaxis": {
             "endlinecolor": "#2a3f5f",
             "gridcolor": "white",
             "linecolor": "white",
             "minorgridcolor": "white",
             "startlinecolor": "#2a3f5f"
            },
            "baxis": {
             "endlinecolor": "#2a3f5f",
             "gridcolor": "white",
             "linecolor": "white",
             "minorgridcolor": "white",
             "startlinecolor": "#2a3f5f"
            },
            "type": "carpet"
           }
          ],
          "choropleth": [
           {
            "colorbar": {
             "outlinewidth": 0,
             "ticks": ""
            },
            "type": "choropleth"
           }
          ],
          "contour": [
           {
            "colorbar": {
             "outlinewidth": 0,
             "ticks": ""
            },
            "colorscale": [
             [
              0,
              "#0d0887"
             ],
             [
              0.1111111111111111,
              "#46039f"
             ],
             [
              0.2222222222222222,
              "#7201a8"
             ],
             [
              0.3333333333333333,
              "#9c179e"
             ],
             [
              0.4444444444444444,
              "#bd3786"
             ],
             [
              0.5555555555555556,
              "#d8576b"
             ],
             [
              0.6666666666666666,
              "#ed7953"
             ],
             [
              0.7777777777777778,
              "#fb9f3a"
             ],
             [
              0.8888888888888888,
              "#fdca26"
             ],
             [
              1,
              "#f0f921"
             ]
            ],
            "type": "contour"
           }
          ],
          "contourcarpet": [
           {
            "colorbar": {
             "outlinewidth": 0,
             "ticks": ""
            },
            "type": "contourcarpet"
           }
          ],
          "heatmap": [
           {
            "colorbar": {
             "outlinewidth": 0,
             "ticks": ""
            },
            "colorscale": [
             [
              0,
              "#0d0887"
             ],
             [
              0.1111111111111111,
              "#46039f"
             ],
             [
              0.2222222222222222,
              "#7201a8"
             ],
             [
              0.3333333333333333,
              "#9c179e"
             ],
             [
              0.4444444444444444,
              "#bd3786"
             ],
             [
              0.5555555555555556,
              "#d8576b"
             ],
             [
              0.6666666666666666,
              "#ed7953"
             ],
             [
              0.7777777777777778,
              "#fb9f3a"
             ],
             [
              0.8888888888888888,
              "#fdca26"
             ],
             [
              1,
              "#f0f921"
             ]
            ],
            "type": "heatmap"
           }
          ],
          "heatmapgl": [
           {
            "colorbar": {
             "outlinewidth": 0,
             "ticks": ""
            },
            "colorscale": [
             [
              0,
              "#0d0887"
             ],
             [
              0.1111111111111111,
              "#46039f"
             ],
             [
              0.2222222222222222,
              "#7201a8"
             ],
             [
              0.3333333333333333,
              "#9c179e"
             ],
             [
              0.4444444444444444,
              "#bd3786"
             ],
             [
              0.5555555555555556,
              "#d8576b"
             ],
             [
              0.6666666666666666,
              "#ed7953"
             ],
             [
              0.7777777777777778,
              "#fb9f3a"
             ],
             [
              0.8888888888888888,
              "#fdca26"
             ],
             [
              1,
              "#f0f921"
             ]
            ],
            "type": "heatmapgl"
           }
          ],
          "histogram": [
           {
            "marker": {
             "colorbar": {
              "outlinewidth": 0,
              "ticks": ""
             }
            },
            "type": "histogram"
           }
          ],
          "histogram2d": [
           {
            "colorbar": {
             "outlinewidth": 0,
             "ticks": ""
            },
            "colorscale": [
             [
              0,
              "#0d0887"
             ],
             [
              0.1111111111111111,
              "#46039f"
             ],
             [
              0.2222222222222222,
              "#7201a8"
             ],
             [
              0.3333333333333333,
              "#9c179e"
             ],
             [
              0.4444444444444444,
              "#bd3786"
             ],
             [
              0.5555555555555556,
              "#d8576b"
             ],
             [
              0.6666666666666666,
              "#ed7953"
             ],
             [
              0.7777777777777778,
              "#fb9f3a"
             ],
             [
              0.8888888888888888,
              "#fdca26"
             ],
             [
              1,
              "#f0f921"
             ]
            ],
            "type": "histogram2d"
           }
          ],
          "histogram2dcontour": [
           {
            "colorbar": {
             "outlinewidth": 0,
             "ticks": ""
            },
            "colorscale": [
             [
              0,
              "#0d0887"
             ],
             [
              0.1111111111111111,
              "#46039f"
             ],
             [
              0.2222222222222222,
              "#7201a8"
             ],
             [
              0.3333333333333333,
              "#9c179e"
             ],
             [
              0.4444444444444444,
              "#bd3786"
             ],
             [
              0.5555555555555556,
              "#d8576b"
             ],
             [
              0.6666666666666666,
              "#ed7953"
             ],
             [
              0.7777777777777778,
              "#fb9f3a"
             ],
             [
              0.8888888888888888,
              "#fdca26"
             ],
             [
              1,
              "#f0f921"
             ]
            ],
            "type": "histogram2dcontour"
           }
          ],
          "mesh3d": [
           {
            "colorbar": {
             "outlinewidth": 0,
             "ticks": ""
            },
            "type": "mesh3d"
           }
          ],
          "parcoords": [
           {
            "line": {
             "colorbar": {
              "outlinewidth": 0,
              "ticks": ""
             }
            },
            "type": "parcoords"
           }
          ],
          "scatter": [
           {
            "marker": {
             "colorbar": {
              "outlinewidth": 0,
              "ticks": ""
             }
            },
            "type": "scatter"
           }
          ],
          "scatter3d": [
           {
            "line": {
             "colorbar": {
              "outlinewidth": 0,
              "ticks": ""
             }
            },
            "marker": {
             "colorbar": {
              "outlinewidth": 0,
              "ticks": ""
             }
            },
            "type": "scatter3d"
           }
          ],
          "scattercarpet": [
           {
            "marker": {
             "colorbar": {
              "outlinewidth": 0,
              "ticks": ""
             }
            },
            "type": "scattercarpet"
           }
          ],
          "scattergeo": [
           {
            "marker": {
             "colorbar": {
              "outlinewidth": 0,
              "ticks": ""
             }
            },
            "type": "scattergeo"
           }
          ],
          "scattergl": [
           {
            "marker": {
             "colorbar": {
              "outlinewidth": 0,
              "ticks": ""
             }
            },
            "type": "scattergl"
           }
          ],
          "scattermapbox": [
           {
            "marker": {
             "colorbar": {
              "outlinewidth": 0,
              "ticks": ""
             }
            },
            "type": "scattermapbox"
           }
          ],
          "scatterpolar": [
           {
            "marker": {
             "colorbar": {
              "outlinewidth": 0,
              "ticks": ""
             }
            },
            "type": "scatterpolar"
           }
          ],
          "scatterpolargl": [
           {
            "marker": {
             "colorbar": {
              "outlinewidth": 0,
              "ticks": ""
             }
            },
            "type": "scatterpolargl"
           }
          ],
          "scatterternary": [
           {
            "marker": {
             "colorbar": {
              "outlinewidth": 0,
              "ticks": ""
             }
            },
            "type": "scatterternary"
           }
          ],
          "surface": [
           {
            "colorbar": {
             "outlinewidth": 0,
             "ticks": ""
            },
            "colorscale": [
             [
              0,
              "#0d0887"
             ],
             [
              0.1111111111111111,
              "#46039f"
             ],
             [
              0.2222222222222222,
              "#7201a8"
             ],
             [
              0.3333333333333333,
              "#9c179e"
             ],
             [
              0.4444444444444444,
              "#bd3786"
             ],
             [
              0.5555555555555556,
              "#d8576b"
             ],
             [
              0.6666666666666666,
              "#ed7953"
             ],
             [
              0.7777777777777778,
              "#fb9f3a"
             ],
             [
              0.8888888888888888,
              "#fdca26"
             ],
             [
              1,
              "#f0f921"
             ]
            ],
            "type": "surface"
           }
          ],
          "table": [
           {
            "cells": {
             "fill": {
              "color": "#EBF0F8"
             },
             "line": {
              "color": "white"
             }
            },
            "header": {
             "fill": {
              "color": "#C8D4E3"
             },
             "line": {
              "color": "white"
             }
            },
            "type": "table"
           }
          ]
         },
         "layout": {
          "annotationdefaults": {
           "arrowcolor": "#2a3f5f",
           "arrowhead": 0,
           "arrowwidth": 1
          },
          "colorscale": {
           "diverging": [
            [
             0,
             "#8e0152"
            ],
            [
             0.1,
             "#c51b7d"
            ],
            [
             0.2,
             "#de77ae"
            ],
            [
             0.3,
             "#f1b6da"
            ],
            [
             0.4,
             "#fde0ef"
            ],
            [
             0.5,
             "#f7f7f7"
            ],
            [
             0.6,
             "#e6f5d0"
            ],
            [
             0.7,
             "#b8e186"
            ],
            [
             0.8,
             "#7fbc41"
            ],
            [
             0.9,
             "#4d9221"
            ],
            [
             1,
             "#276419"
            ]
           ],
           "sequential": [
            [
             0,
             "#0d0887"
            ],
            [
             0.1111111111111111,
             "#46039f"
            ],
            [
             0.2222222222222222,
             "#7201a8"
            ],
            [
             0.3333333333333333,
             "#9c179e"
            ],
            [
             0.4444444444444444,
             "#bd3786"
            ],
            [
             0.5555555555555556,
             "#d8576b"
            ],
            [
             0.6666666666666666,
             "#ed7953"
            ],
            [
             0.7777777777777778,
             "#fb9f3a"
            ],
            [
             0.8888888888888888,
             "#fdca26"
            ],
            [
             1,
             "#f0f921"
            ]
           ],
           "sequentialminus": [
            [
             0,
             "#0d0887"
            ],
            [
             0.1111111111111111,
             "#46039f"
            ],
            [
             0.2222222222222222,
             "#7201a8"
            ],
            [
             0.3333333333333333,
             "#9c179e"
            ],
            [
             0.4444444444444444,
             "#bd3786"
            ],
            [
             0.5555555555555556,
             "#d8576b"
            ],
            [
             0.6666666666666666,
             "#ed7953"
            ],
            [
             0.7777777777777778,
             "#fb9f3a"
            ],
            [
             0.8888888888888888,
             "#fdca26"
            ],
            [
             1,
             "#f0f921"
            ]
           ]
          },
          "colorway": [
           "#636efa",
           "#EF553B",
           "#00cc96",
           "#ab63fa",
           "#FFA15A",
           "#19d3f3",
           "#FF6692",
           "#B6E880",
           "#FF97FF",
           "#FECB52"
          ],
          "font": {
           "color": "#2a3f5f"
          },
          "geo": {
           "bgcolor": "white",
           "lakecolor": "white",
           "landcolor": "#E5ECF6",
           "showlakes": true,
           "showland": true,
           "subunitcolor": "white"
          },
          "hoverlabel": {
           "align": "left"
          },
          "hovermode": "closest",
          "mapbox": {
           "style": "light"
          },
          "paper_bgcolor": "white",
          "plot_bgcolor": "#E5ECF6",
          "polar": {
           "angularaxis": {
            "gridcolor": "white",
            "linecolor": "white",
            "ticks": ""
           },
           "bgcolor": "#E5ECF6",
           "radialaxis": {
            "gridcolor": "white",
            "linecolor": "white",
            "ticks": ""
           }
          },
          "scene": {
           "xaxis": {
            "backgroundcolor": "#E5ECF6",
            "gridcolor": "white",
            "gridwidth": 2,
            "linecolor": "white",
            "showbackground": true,
            "ticks": "",
            "zerolinecolor": "white"
           },
           "yaxis": {
            "backgroundcolor": "#E5ECF6",
            "gridcolor": "white",
            "gridwidth": 2,
            "linecolor": "white",
            "showbackground": true,
            "ticks": "",
            "zerolinecolor": "white"
           },
           "zaxis": {
            "backgroundcolor": "#E5ECF6",
            "gridcolor": "white",
            "gridwidth": 2,
            "linecolor": "white",
            "showbackground": true,
            "ticks": "",
            "zerolinecolor": "white"
           }
          },
          "shapedefaults": {
           "line": {
            "color": "#2a3f5f"
           }
          },
          "ternary": {
           "aaxis": {
            "gridcolor": "white",
            "linecolor": "white",
            "ticks": ""
           },
           "baxis": {
            "gridcolor": "white",
            "linecolor": "white",
            "ticks": ""
           },
           "bgcolor": "#E5ECF6",
           "caxis": {
            "gridcolor": "white",
            "linecolor": "white",
            "ticks": ""
           }
          },
          "title": {
           "x": 0.05
          },
          "xaxis": {
           "automargin": true,
           "gridcolor": "white",
           "linecolor": "white",
           "ticks": "",
           "zerolinecolor": "white",
           "zerolinewidth": 2
          },
          "yaxis": {
           "automargin": true,
           "gridcolor": "white",
           "linecolor": "white",
           "ticks": "",
           "zerolinecolor": "white",
           "zerolinewidth": 2
          }
         }
        },
        "title": {
         "text": "Percentage of error for meta prediction"
        }
       }
      },
      "text/html": [
       "<div>\n",
       "        \n",
       "        \n",
       "            <div id=\"5fd915f4-c4f8-4d84-9d4e-6a168ddb3000\" class=\"plotly-graph-div\" style=\"height:525px; width:100%;\"></div>\n",
       "            <script type=\"text/javascript\">\n",
       "                require([\"plotly\"], function(Plotly) {\n",
       "                    window.PLOTLYENV=window.PLOTLYENV || {};\n",
       "                    \n",
       "                if (document.getElementById(\"5fd915f4-c4f8-4d84-9d4e-6a168ddb3000\")) {\n",
       "                    Plotly.newPlot(\n",
       "                        '5fd915f4-c4f8-4d84-9d4e-6a168ddb3000',\n",
       "                        [{\"marker\": {\"color\": [5.037576891896201, 4.366709144669183, 4.313646356736289, 8.356782091709164, 4.738247099400357, 4.338540576437861, 3.4389379252229695, 4.789329401284848, 4.2323216962096195, 5.207011212814958, 3.4327277308664628, 4.74274822531023, 3.933115701997684, 3.7306321769779975, 4.243421587675606, 4.659548331928415, 4.277456006587804, 3.372499447405943, 3.98837706085056, 4.555934768303189, 4.339596796338548, 3.4958938898896244, 4.355735313695859, 3.890914711483311, 4.421231750090678, 4.387963600659202, 4.45357937581613, 4.390849731076507, 4.187432066629669, 4.024771205257194, 3.4453583456229735, 4.473007894300101, 4.292524980232408, 3.518388404385486, 3.6239345471577495, 4.161030788327188, 4.593463740618066, 3.2853451854400553, 3.333144815468473, 2.2270092664040426, 3.506982427243619, 4.566397576041206, 4.541938934586158, 6.2193939268235825, 4.5097346263446605, 4.092355489428739, 4.3351523477839455, 3.8960687890226495, 4.310484118921281, 4.438496445357778, 5.285156316636093, 3.371308006912802, 4.767666830333984, 3.866548549530596, 5.828795627626069, 2.560903368878241, 5.201295874797669, 5.237161673047249, 1.5661919732954945, 3.524517835202277, 1.5772932993496922, 4.4607611713655055, 2.315823205986988, 3.668051913836858, 4.348003598144245, 3.8061384684270734, 4.573380421354203, 3.8410256048472315, 3.9536735989964225, 2.7048505438864097, 1.8726286727625643, 2.9322323774749273, 4.214168188884776, 1.662828413234024, 4.269363966036494, 4.594231551821208, 3.523879386335215, 6.9003340176207075, 3.028439872105068, 3.0893960587429072, 3.179512786027431, 10.744018802745796, 4.242933291389199, 2.5511516633845095, 4.497485885688683, 5.6008994438568624, 3.9789655474562355, 3.694951397581639, 5.464921260542245, 4.165150528725216, 4.822333646931806, 3.789856667757949, 4.238073907584434, 4.4051796025188, 2.8957296624748046, 3.6264903673179374, 4.232554613626208, 3.6755124905480234, 6.3530191571593555, 4.303456907283046, 3.333828059301707, 6.052991573388071]}, \"mode\": \"markers\", \"text\": [\"O Brother, Where Art Thou?\", \"The Twilight Saga: Breaking Dawn Part 1\", \"The Twilight Saga: Breaking Dawn Part 2\", \"Helena From the Wedding\", \"Monsters\", \"Catfish\", \"Red\", \"Freakonomics\", \"The Warrior's Way\", \"Stone\", \"Frankenweenie\", \"John Carter\", \"Dolphin Tale\", \"Penguins of Madagascar\", \"Minions\", \"Proud American\", \"Edmond\", \"Tootsie\", \"Waterworld\", \"The Lion King (2019)\", \"Crawl\", \"Stuber\", \"Midsommar\", \"Spider-Man: Far from Home\", \"Yesterday\", \"Annabelle Comes Home\", \"Toy Story 4\", \"Child's Play (2019)\", \"Anna (2019)\", \"Men in Black International\", \"Shaft (2019)\\u00a0\", \"Late Night\", \"The Secret Life of Pets 2\", \"Dark Phoenix\", \"Godzilla:King of the Monsters\", \"Rocketman\", \"Return of the Jedi\", \"Indiana Jones and the Temple of Doom\", \"The Idolmaker\", \"The Grass Harp\", \"The Grand\", \"Jaws\", \"Superman (1978)\", \"Clerks\", \"Juice\", \"He Got Game\", \"White Men Can't Jump\", \"Mulholland Drive\", \"Blue Velvet\", \"Once Upon a Time in Hollywood\", \"The Big Lebowski\", \"Train to Busan\", \"Pride and Prejudice and Zombies\", \"Dead Poets Society\", \"A Fish Called Wanda\", \"The Witches of Eastwick\", \"Ferris Bueller's Day Off\", \"Back to the Future\", \"Police Academy\", \"Trading Places\", \"Star Trek II The Wrath of Khan\", \"The Blues Brothers\", \"V For Vendetta\", \"In the Line of Fire\", \"Us\", \"The Forbidden Kingdom\", \"Rumble in the Bronx\", \"Machete\", \"Beverly Hills Cop\", \"Watchmen\", \"Jackie Brown\", \"Zombieland\", \"Mo Better Blues\", \"Thelma and Louise\", \"New Jack City\", \"The Lawnmower Man\", \"Schindler's List\", \"Four Weddings and a Funeral\", \"Get Shorty\", \"Jerry Maguire\", \"Welcome to Sarajevo\", \"Trojan War\", \"The Gingerbread Man\", \"Tumbleweeds\", \"Turn it up\", \"The Adventures of Pluto Nash\", \"The Lord of the Rings: The Return of the King\", \"Harry Potter and the Prisoner of Azkaban\", \"Stay\", \"Fast Food Nation\", \"Into the Wild\", \"The Wrestler\", \"Slumdog Millionaire\", \"Jackass 3-D\", \"Skyfall\", \"The Hunger Games: Mocking Jay - Part 1\", \"Jurassic World\", \"Shut In\", \"Molly's Game\", \"BlacKkKlansman\", \"Peter Rabbit\", \"Replicas\"], \"type\": \"scatter\", \"x\": [\"O Brother, Where Art Thou?\", \"The Twilight Saga: Breaking Dawn Part 1\", \"The Twilight Saga: Breaking Dawn Part 2\", \"Helena From the Wedding\", \"Monsters\", \"Catfish\", \"Red\", \"Freakonomics\", \"The Warrior's Way\", \"Stone\", \"Frankenweenie\", \"John Carter\", \"Dolphin Tale\", \"Penguins of Madagascar\", \"Minions\", \"Proud American\", \"Edmond\", \"Tootsie\", \"Waterworld\", \"The Lion King (2019)\", \"Crawl\", \"Stuber\", \"Midsommar\", \"Spider-Man: Far from Home\", \"Yesterday\", \"Annabelle Comes Home\", \"Toy Story 4\", \"Child's Play (2019)\", \"Anna (2019)\", \"Men in Black International\", \"Shaft (2019)\\u00a0\", \"Late Night\", \"The Secret Life of Pets 2\", \"Dark Phoenix\", \"Godzilla:King of the Monsters\", \"Rocketman\", \"Return of the Jedi\", \"Indiana Jones and the Temple of Doom\", \"The Idolmaker\", \"The Grass Harp\", \"The Grand\", \"Jaws\", \"Superman (1978)\", \"Clerks\", \"Juice\", \"He Got Game\", \"White Men Can't Jump\", \"Mulholland Drive\", \"Blue Velvet\", \"Once Upon a Time in Hollywood\", \"The Big Lebowski\", \"Train to Busan\", \"Pride and Prejudice and Zombies\", \"Dead Poets Society\", \"A Fish Called Wanda\", \"The Witches of Eastwick\", \"Ferris Bueller's Day Off\", \"Back to the Future\", \"Police Academy\", \"Trading Places\", \"Star Trek II The Wrath of Khan\", \"The Blues Brothers\", \"V For Vendetta\", \"In the Line of Fire\", \"Us\", \"The Forbidden Kingdom\", \"Rumble in the Bronx\", \"Machete\", \"Beverly Hills Cop\", \"Watchmen\", \"Jackie Brown\", \"Zombieland\", \"Mo Better Blues\", \"Thelma and Louise\", \"New Jack City\", \"The Lawnmower Man\", \"Schindler's List\", \"Four Weddings and a Funeral\", \"Get Shorty\", \"Jerry Maguire\", \"Welcome to Sarajevo\", \"Trojan War\", \"The Gingerbread Man\", \"Tumbleweeds\", \"Turn it up\", \"The Adventures of Pluto Nash\", \"The Lord of the Rings: The Return of the King\", \"Harry Potter and the Prisoner of Azkaban\", \"Stay\", \"Fast Food Nation\", \"Into the Wild\", \"The Wrestler\", \"Slumdog Millionaire\", \"Jackass 3-D\", \"Skyfall\", \"The Hunger Games: Mocking Jay - Part 1\", \"Jurassic World\", \"Shut In\", \"Molly's Game\", \"BlacKkKlansman\", \"Peter Rabbit\", \"Replicas\"], \"y\": [5.037576891896201, 4.366709144669183, 4.313646356736289, 8.356782091709164, 4.738247099400357, 4.338540576437861, 3.4389379252229695, 4.789329401284848, 4.2323216962096195, 5.207011212814958, 3.4327277308664628, 4.74274822531023, 3.933115701997684, 3.7306321769779975, 4.243421587675606, 4.659548331928415, 4.277456006587804, 3.372499447405943, 3.98837706085056, 4.555934768303189, 4.339596796338548, 3.4958938898896244, 4.355735313695859, 3.890914711483311, 4.421231750090678, 4.387963600659202, 4.45357937581613, 4.390849731076507, 4.187432066629669, 4.024771205257194, 3.4453583456229735, 4.473007894300101, 4.292524980232408, 3.518388404385486, 3.6239345471577495, 4.161030788327188, 4.593463740618066, 3.2853451854400553, 3.333144815468473, 2.2270092664040426, 3.506982427243619, 4.566397576041206, 4.541938934586158, 6.2193939268235825, 4.5097346263446605, 4.092355489428739, 4.3351523477839455, 3.8960687890226495, 4.310484118921281, 4.438496445357778, 5.285156316636093, 3.371308006912802, 4.767666830333984, 3.866548549530596, 5.828795627626069, 2.560903368878241, 5.201295874797669, 5.237161673047249, 1.5661919732954945, 3.524517835202277, 1.5772932993496922, 4.4607611713655055, 2.315823205986988, 3.668051913836858, 4.348003598144245, 3.8061384684270734, 4.573380421354203, 3.8410256048472315, 3.9536735989964225, 2.7048505438864097, 1.8726286727625643, 2.9322323774749273, 4.214168188884776, 1.662828413234024, 4.269363966036494, 4.594231551821208, 3.523879386335215, 6.9003340176207075, 3.028439872105068, 3.0893960587429072, 3.179512786027431, 10.744018802745796, 4.242933291389199, 2.5511516633845095, 4.497485885688683, 5.6008994438568624, 3.9789655474562355, 3.694951397581639, 5.464921260542245, 4.165150528725216, 4.822333646931806, 3.789856667757949, 4.238073907584434, 4.4051796025188, 2.8957296624748046, 3.6264903673179374, 4.232554613626208, 3.6755124905480234, 6.3530191571593555, 4.303456907283046, 3.333828059301707, 6.052991573388071]}],\n",
       "                        {\"template\": {\"data\": {\"bar\": [{\"error_x\": {\"color\": \"#2a3f5f\"}, \"error_y\": {\"color\": \"#2a3f5f\"}, \"marker\": {\"line\": {\"color\": \"#E5ECF6\", \"width\": 0.5}}, \"type\": \"bar\"}], \"barpolar\": [{\"marker\": {\"line\": {\"color\": \"#E5ECF6\", \"width\": 0.5}}, \"type\": \"barpolar\"}], \"carpet\": [{\"aaxis\": {\"endlinecolor\": \"#2a3f5f\", \"gridcolor\": \"white\", \"linecolor\": \"white\", \"minorgridcolor\": \"white\", \"startlinecolor\": \"#2a3f5f\"}, \"baxis\": {\"endlinecolor\": \"#2a3f5f\", \"gridcolor\": \"white\", \"linecolor\": \"white\", \"minorgridcolor\": \"white\", \"startlinecolor\": \"#2a3f5f\"}, \"type\": \"carpet\"}], \"choropleth\": [{\"colorbar\": {\"outlinewidth\": 0, \"ticks\": \"\"}, \"type\": \"choropleth\"}], \"contour\": [{\"colorbar\": {\"outlinewidth\": 0, \"ticks\": \"\"}, \"colorscale\": [[0.0, \"#0d0887\"], [0.1111111111111111, \"#46039f\"], [0.2222222222222222, \"#7201a8\"], [0.3333333333333333, \"#9c179e\"], [0.4444444444444444, \"#bd3786\"], [0.5555555555555556, \"#d8576b\"], [0.6666666666666666, \"#ed7953\"], [0.7777777777777778, \"#fb9f3a\"], [0.8888888888888888, \"#fdca26\"], [1.0, \"#f0f921\"]], \"type\": \"contour\"}], \"contourcarpet\": [{\"colorbar\": {\"outlinewidth\": 0, \"ticks\": \"\"}, \"type\": \"contourcarpet\"}], \"heatmap\": [{\"colorbar\": {\"outlinewidth\": 0, \"ticks\": \"\"}, \"colorscale\": [[0.0, \"#0d0887\"], [0.1111111111111111, \"#46039f\"], [0.2222222222222222, \"#7201a8\"], [0.3333333333333333, \"#9c179e\"], [0.4444444444444444, \"#bd3786\"], [0.5555555555555556, \"#d8576b\"], [0.6666666666666666, \"#ed7953\"], [0.7777777777777778, \"#fb9f3a\"], [0.8888888888888888, \"#fdca26\"], [1.0, \"#f0f921\"]], \"type\": \"heatmap\"}], \"heatmapgl\": [{\"colorbar\": {\"outlinewidth\": 0, \"ticks\": \"\"}, \"colorscale\": [[0.0, \"#0d0887\"], [0.1111111111111111, \"#46039f\"], [0.2222222222222222, \"#7201a8\"], [0.3333333333333333, \"#9c179e\"], [0.4444444444444444, \"#bd3786\"], [0.5555555555555556, \"#d8576b\"], [0.6666666666666666, \"#ed7953\"], [0.7777777777777778, \"#fb9f3a\"], [0.8888888888888888, \"#fdca26\"], [1.0, \"#f0f921\"]], \"type\": \"heatmapgl\"}], \"histogram\": [{\"marker\": {\"colorbar\": {\"outlinewidth\": 0, \"ticks\": \"\"}}, \"type\": \"histogram\"}], \"histogram2d\": [{\"colorbar\": {\"outlinewidth\": 0, \"ticks\": \"\"}, \"colorscale\": [[0.0, \"#0d0887\"], [0.1111111111111111, \"#46039f\"], [0.2222222222222222, \"#7201a8\"], [0.3333333333333333, \"#9c179e\"], [0.4444444444444444, \"#bd3786\"], [0.5555555555555556, \"#d8576b\"], [0.6666666666666666, \"#ed7953\"], [0.7777777777777778, \"#fb9f3a\"], [0.8888888888888888, \"#fdca26\"], [1.0, \"#f0f921\"]], \"type\": \"histogram2d\"}], \"histogram2dcontour\": [{\"colorbar\": {\"outlinewidth\": 0, \"ticks\": \"\"}, \"colorscale\": [[0.0, \"#0d0887\"], [0.1111111111111111, \"#46039f\"], [0.2222222222222222, \"#7201a8\"], [0.3333333333333333, \"#9c179e\"], [0.4444444444444444, \"#bd3786\"], [0.5555555555555556, \"#d8576b\"], [0.6666666666666666, \"#ed7953\"], [0.7777777777777778, \"#fb9f3a\"], [0.8888888888888888, \"#fdca26\"], [1.0, \"#f0f921\"]], \"type\": \"histogram2dcontour\"}], \"mesh3d\": [{\"colorbar\": {\"outlinewidth\": 0, \"ticks\": \"\"}, \"type\": \"mesh3d\"}], \"parcoords\": [{\"line\": {\"colorbar\": {\"outlinewidth\": 0, \"ticks\": \"\"}}, \"type\": \"parcoords\"}], \"scatter\": [{\"marker\": {\"colorbar\": {\"outlinewidth\": 0, \"ticks\": \"\"}}, \"type\": \"scatter\"}], \"scatter3d\": [{\"line\": {\"colorbar\": {\"outlinewidth\": 0, \"ticks\": \"\"}}, \"marker\": {\"colorbar\": {\"outlinewidth\": 0, \"ticks\": \"\"}}, \"type\": \"scatter3d\"}], \"scattercarpet\": [{\"marker\": {\"colorbar\": {\"outlinewidth\": 0, \"ticks\": \"\"}}, \"type\": \"scattercarpet\"}], \"scattergeo\": [{\"marker\": {\"colorbar\": {\"outlinewidth\": 0, \"ticks\": \"\"}}, \"type\": \"scattergeo\"}], \"scattergl\": [{\"marker\": {\"colorbar\": {\"outlinewidth\": 0, \"ticks\": \"\"}}, \"type\": \"scattergl\"}], \"scattermapbox\": [{\"marker\": {\"colorbar\": {\"outlinewidth\": 0, \"ticks\": \"\"}}, \"type\": \"scattermapbox\"}], \"scatterpolar\": [{\"marker\": {\"colorbar\": {\"outlinewidth\": 0, \"ticks\": \"\"}}, \"type\": \"scatterpolar\"}], \"scatterpolargl\": [{\"marker\": {\"colorbar\": {\"outlinewidth\": 0, \"ticks\": \"\"}}, \"type\": \"scatterpolargl\"}], \"scatterternary\": [{\"marker\": {\"colorbar\": {\"outlinewidth\": 0, \"ticks\": \"\"}}, \"type\": \"scatterternary\"}], \"surface\": [{\"colorbar\": {\"outlinewidth\": 0, \"ticks\": \"\"}, \"colorscale\": [[0.0, \"#0d0887\"], [0.1111111111111111, \"#46039f\"], [0.2222222222222222, \"#7201a8\"], [0.3333333333333333, \"#9c179e\"], [0.4444444444444444, \"#bd3786\"], [0.5555555555555556, \"#d8576b\"], [0.6666666666666666, \"#ed7953\"], [0.7777777777777778, \"#fb9f3a\"], [0.8888888888888888, \"#fdca26\"], [1.0, \"#f0f921\"]], \"type\": \"surface\"}], \"table\": [{\"cells\": {\"fill\": {\"color\": \"#EBF0F8\"}, \"line\": {\"color\": \"white\"}}, \"header\": {\"fill\": {\"color\": \"#C8D4E3\"}, \"line\": {\"color\": \"white\"}}, \"type\": \"table\"}]}, \"layout\": {\"annotationdefaults\": {\"arrowcolor\": \"#2a3f5f\", \"arrowhead\": 0, \"arrowwidth\": 1}, \"colorscale\": {\"diverging\": [[0, \"#8e0152\"], [0.1, \"#c51b7d\"], [0.2, \"#de77ae\"], [0.3, \"#f1b6da\"], [0.4, \"#fde0ef\"], [0.5, \"#f7f7f7\"], [0.6, \"#e6f5d0\"], [0.7, \"#b8e186\"], [0.8, \"#7fbc41\"], [0.9, \"#4d9221\"], [1, \"#276419\"]], \"sequential\": [[0.0, \"#0d0887\"], [0.1111111111111111, \"#46039f\"], [0.2222222222222222, \"#7201a8\"], [0.3333333333333333, \"#9c179e\"], [0.4444444444444444, \"#bd3786\"], [0.5555555555555556, \"#d8576b\"], [0.6666666666666666, \"#ed7953\"], [0.7777777777777778, \"#fb9f3a\"], [0.8888888888888888, \"#fdca26\"], [1.0, \"#f0f921\"]], \"sequentialminus\": [[0.0, \"#0d0887\"], [0.1111111111111111, \"#46039f\"], [0.2222222222222222, \"#7201a8\"], [0.3333333333333333, \"#9c179e\"], [0.4444444444444444, \"#bd3786\"], [0.5555555555555556, \"#d8576b\"], [0.6666666666666666, \"#ed7953\"], [0.7777777777777778, \"#fb9f3a\"], [0.8888888888888888, \"#fdca26\"], [1.0, \"#f0f921\"]]}, \"colorway\": [\"#636efa\", \"#EF553B\", \"#00cc96\", \"#ab63fa\", \"#FFA15A\", \"#19d3f3\", \"#FF6692\", \"#B6E880\", \"#FF97FF\", \"#FECB52\"], \"font\": {\"color\": \"#2a3f5f\"}, \"geo\": {\"bgcolor\": \"white\", \"lakecolor\": \"white\", \"landcolor\": \"#E5ECF6\", \"showlakes\": true, \"showland\": true, \"subunitcolor\": \"white\"}, \"hoverlabel\": {\"align\": \"left\"}, \"hovermode\": \"closest\", \"mapbox\": {\"style\": \"light\"}, \"paper_bgcolor\": \"white\", \"plot_bgcolor\": \"#E5ECF6\", \"polar\": {\"angularaxis\": {\"gridcolor\": \"white\", \"linecolor\": \"white\", \"ticks\": \"\"}, \"bgcolor\": \"#E5ECF6\", \"radialaxis\": {\"gridcolor\": \"white\", \"linecolor\": \"white\", \"ticks\": \"\"}}, \"scene\": {\"xaxis\": {\"backgroundcolor\": \"#E5ECF6\", \"gridcolor\": \"white\", \"gridwidth\": 2, \"linecolor\": \"white\", \"showbackground\": true, \"ticks\": \"\", \"zerolinecolor\": \"white\"}, \"yaxis\": {\"backgroundcolor\": \"#E5ECF6\", \"gridcolor\": \"white\", \"gridwidth\": 2, \"linecolor\": \"white\", \"showbackground\": true, \"ticks\": \"\", \"zerolinecolor\": \"white\"}, \"zaxis\": {\"backgroundcolor\": \"#E5ECF6\", \"gridcolor\": \"white\", \"gridwidth\": 2, \"linecolor\": \"white\", \"showbackground\": true, \"ticks\": \"\", \"zerolinecolor\": \"white\"}}, \"shapedefaults\": {\"line\": {\"color\": \"#2a3f5f\"}}, \"ternary\": {\"aaxis\": {\"gridcolor\": \"white\", \"linecolor\": \"white\", \"ticks\": \"\"}, \"baxis\": {\"gridcolor\": \"white\", \"linecolor\": \"white\", \"ticks\": \"\"}, \"bgcolor\": \"#E5ECF6\", \"caxis\": {\"gridcolor\": \"white\", \"linecolor\": \"white\", \"ticks\": \"\"}}, \"title\": {\"x\": 0.05}, \"xaxis\": {\"automargin\": true, \"gridcolor\": \"white\", \"linecolor\": \"white\", \"ticks\": \"\", \"zerolinecolor\": \"white\", \"zerolinewidth\": 2}, \"yaxis\": {\"automargin\": true, \"gridcolor\": \"white\", \"linecolor\": \"white\", \"ticks\": \"\", \"zerolinecolor\": \"white\", \"zerolinewidth\": 2}}}, \"title\": {\"text\": \"Percentage of error for meta prediction\"}},\n",
       "                        {\"responsive\": true}\n",
       "                    ).then(function(){\n",
       "                            \n",
       "var gd = document.getElementById('5fd915f4-c4f8-4d84-9d4e-6a168ddb3000');\n",
       "var x = new MutationObserver(function (mutations, observer) {{\n",
       "        var display = window.getComputedStyle(gd).display;\n",
       "        if (!display || display === 'none') {{\n",
       "            console.log([gd, 'removed!']);\n",
       "            Plotly.purge(gd);\n",
       "            observer.disconnect();\n",
       "        }}\n",
       "}});\n",
       "\n",
       "// Listen for the removal of the full notebook cells\n",
       "var notebookContainer = gd.closest('#notebook-container');\n",
       "if (notebookContainer) {{\n",
       "    x.observe(notebookContainer, {childList: true});\n",
       "}}\n",
       "\n",
       "// Listen for the clearing of the current output cell\n",
       "var outputEl = gd.closest('.output');\n",
       "if (outputEl) {{\n",
       "    x.observe(outputEl, {childList: true});\n",
       "}}\n",
       "\n",
       "                        })\n",
       "                };\n",
       "                });\n",
       "            </script>\n",
       "        </div>"
      ]
     },
     "metadata": {},
     "output_type": "display_data"
    }
   ],
   "source": [
    "# Percentage of error for meta prediction\n",
    "import numpy as np\n",
    "#loss 模型评估\n",
    "#y_true = g4_result_final[\"ground_truth\"]\n",
    "#y_pred = g4_result_final[\"meta_prediction\"]\n",
    "\n",
    "#movie_data[\"log_openingBox\"] = np.log1p(result_meta_data.openingBox)\n",
    "\n",
    "def mean_absolute_percentage_error(y_true, y_pred):\n",
    "    diff = abs((y_true - y_pred) /y_true)\n",
    "    return np.log1p(100. *diff)#using log1p because of large range of 100. *diff\n",
    "    #return 100. *diff\n",
    "    \n",
    "#Visualizing Percentage of error for meta prediction\n",
    "g4_result_final['meta_rmse_pre'] = mean_absolute_percentage_error(g4_result_final[\"ground_truth\"], g4_result_final[\"meta_prediction\"])\n",
    "fig = go.Figure(data=go.Scatter(x=g4_result_final[\"name\"],\n",
    "                                y=g4_result_final['meta_rmse_pre'],\n",
    "                                mode='markers',\n",
    "                                marker_color=g4_result_final['meta_rmse_pre'],\n",
    "                                text=g4_result_final[\"name\"])) # hover text goes here(movie_title)\n",
    "\n",
    "fig.update_layout(title='Percentage of error for meta prediction')\n",
    "fig.show()\n",
    "\n",
    "#PS: 53 = np.expm1(4) and 0 = np.expm1(0)"
   ]
  },
  {
   "cell_type": "code",
   "execution_count": 31,
   "metadata": {},
   "outputs": [
    {
     "data": {
      "text/plain": [
       "4.235314260605321"
      ]
     },
     "execution_count": 31,
     "metadata": {},
     "output_type": "execute_result"
    }
   ],
   "source": [
    "# Median for Percentage of error for meta prediction\n",
    "Median_meta = np.median(g4_result_final['meta_rmse_pre'])\n",
    "Median_meta"
   ]
  },
  {
   "cell_type": "code",
   "execution_count": 32,
   "metadata": {},
   "outputs": [
    {
     "data": {
      "application/vnd.plotly.v1+json": {
       "config": {
        "plotlyServerURL": "https://plot.ly"
       },
       "data": [
        {
         "marker": {
          "color": [
           -298696.75268028036,
           107436933.9768,
           103984368.26598655,
           -114624.4911437731,
           -23221.984751967764,
           194496.32521621158,
           -6561902.9507451095,
           -38023.06479213982,
           2069341.0633503187,
           -137551.3894536561,
           -3419210.956597671,
           -34329699.83122351,
           9588809.67286545,
           10358500.427841455,
           79435759.6416821,
           -100484.33243439786,
           -13680.583873496325,
           -1559714.2320892075,
           -11214105.98295281,
           180639808.0308692,
           9085136.769179543,
           2630457.6551608928,
           5046244.229824087,
           44396959.49231271,
           13982040.35691468,
           16109640.044541229,
           102692036.81525081,
           11234655.81184642,
           2335144.3898982275,
           16509949.927370282,
           2701982.7603097903,
           213349.0914340551,
           33660347.24191701,
           10744726.663973473,
           17431067.57123936,
           16242603.666486137,
           22521515.09666174,
           -6516250.007122591,
           86052.68031303195,
           -9691.668294329138,
           8518.387314792042,
           6722344.481237217,
           6933260.881295436,
           -158767.8823276397,
           7269051.079846665,
           4481217.299658327,
           11082858.835961271,
           283269.50587273575,
           580030.3858169733,
           34364111.28115621,
           -10867641.509532705,
           80069.29139078746,
           -6210429.776264727,
           -159255.78586609045,
           -391208.1651643646,
           -1129545.880171366,
           -11328000.974498324,
           -20870270.37971098,
           324664.3588268878,
           2420306.4859200483,
           -551196.2232433408,
           4156312.560071598,
           2341981.9021768086,
           5829167.383971663,
           54279772.77677831,
           9411447.97215144,
           9451329.637152623,
           6427139.563871976,
           7778798.407002407,
           7703549.069013521,
           -511573.046643557,
           4394954.103661008,
           2923643.7149559497,
           -260782.08821932413,
           4961255.256612792,
           7590117.404821193,
           216136.6370164642,
           -1373235.7734930078,
           2497452.2407809235,
           3581519.2027430646,
           -15415.049096814182,
           -100581.57773817373,
           81152.59878658256,
           9461.035959826462,
           512164.83566977177,
           -5886620.9774919,
           38102783.61168218,
           36766311.11125223,
           -5147896.827126285,
           260459.49720189587,
           -261842.3257819176,
           -87673.92127977009,
           245799.74980653048,
           40722926.21457184,
           15107451.038171068,
           44590996.19133034,
           141764846.2545926,
           1390098.720513652,
           -6718388.901906931,
           7912211.360992071,
           6764329.606406994,
           -10080492.00314124
          ]
         },
         "mode": "markers",
         "text": [
          "O Brother, Where Art Thou?",
          "The Twilight Saga: Breaking Dawn Part 1",
          "The Twilight Saga: Breaking Dawn Part 2",
          "Helena From the Wedding",
          "Monsters",
          "Catfish",
          "Red",
          "Freakonomics",
          "The Warrior's Way",
          "Stone",
          "Frankenweenie",
          "John Carter",
          "Dolphin Tale",
          "Penguins of Madagascar",
          "Minions",
          "Proud American",
          "Edmond",
          "Tootsie",
          "Waterworld",
          "The Lion King (2019)",
          "Crawl",
          "Stuber",
          "Midsommar",
          "Spider-Man: Far from Home",
          "Yesterday",
          "Annabelle Comes Home",
          "Toy Story 4",
          "Child's Play (2019)",
          "Anna (2019)",
          "Men in Black International",
          "Shaft (2019) ",
          "Late Night",
          "The Secret Life of Pets 2",
          "Dark Phoenix",
          "Godzilla:King of the Monsters",
          "Rocketman",
          "Return of the Jedi",
          "Indiana Jones and the Temple of Doom",
          "The Idolmaker",
          "The Grass Harp",
          "The Grand",
          "Jaws",
          "Superman (1978)",
          "Clerks",
          "Juice",
          "He Got Game",
          "White Men Can't Jump",
          "Mulholland Drive",
          "Blue Velvet",
          "Once Upon a Time in Hollywood",
          "The Big Lebowski",
          "Train to Busan",
          "Pride and Prejudice and Zombies",
          "Dead Poets Society",
          "A Fish Called Wanda",
          "The Witches of Eastwick",
          "Ferris Bueller's Day Off",
          "Back to the Future",
          "Police Academy",
          "Trading Places",
          "Star Trek II The Wrath of Khan",
          "The Blues Brothers",
          "V For Vendetta",
          "In the Line of Fire",
          "Us",
          "The Forbidden Kingdom",
          "Rumble in the Bronx",
          "Machete",
          "Beverly Hills Cop",
          "Watchmen",
          "Jackie Brown",
          "Zombieland",
          "Mo Better Blues",
          "Thelma and Louise",
          "New Jack City",
          "The Lawnmower Man",
          "Schindler's List",
          "Four Weddings and a Funeral",
          "Get Shorty",
          "Jerry Maguire",
          "Welcome to Sarajevo",
          "Trojan War",
          "The Gingerbread Man",
          "Tumbleweeds",
          "Turn it up",
          "The Adventures of Pluto Nash",
          "The Lord of the Rings: The Return of the King",
          "Harry Potter and the Prisoner of Azkaban",
          "Stay",
          "Fast Food Nation",
          "Into the Wild",
          "The Wrestler",
          "Slumdog Millionaire",
          "Jackass 3-D",
          "Skyfall",
          "The Hunger Games: Mocking Jay - Part 1",
          "Jurassic World",
          "Shut In",
          "Molly's Game",
          "BlacKkKlansman",
          "Peter Rabbit",
          "Replicas"
         ],
         "type": "scatter",
         "x": [
          "O Brother, Where Art Thou?",
          "The Twilight Saga: Breaking Dawn Part 1",
          "The Twilight Saga: Breaking Dawn Part 2",
          "Helena From the Wedding",
          "Monsters",
          "Catfish",
          "Red",
          "Freakonomics",
          "The Warrior's Way",
          "Stone",
          "Frankenweenie",
          "John Carter",
          "Dolphin Tale",
          "Penguins of Madagascar",
          "Minions",
          "Proud American",
          "Edmond",
          "Tootsie",
          "Waterworld",
          "The Lion King (2019)",
          "Crawl",
          "Stuber",
          "Midsommar",
          "Spider-Man: Far from Home",
          "Yesterday",
          "Annabelle Comes Home",
          "Toy Story 4",
          "Child's Play (2019)",
          "Anna (2019)",
          "Men in Black International",
          "Shaft (2019) ",
          "Late Night",
          "The Secret Life of Pets 2",
          "Dark Phoenix",
          "Godzilla:King of the Monsters",
          "Rocketman",
          "Return of the Jedi",
          "Indiana Jones and the Temple of Doom",
          "The Idolmaker",
          "The Grass Harp",
          "The Grand",
          "Jaws",
          "Superman (1978)",
          "Clerks",
          "Juice",
          "He Got Game",
          "White Men Can't Jump",
          "Mulholland Drive",
          "Blue Velvet",
          "Once Upon a Time in Hollywood",
          "The Big Lebowski",
          "Train to Busan",
          "Pride and Prejudice and Zombies",
          "Dead Poets Society",
          "A Fish Called Wanda",
          "The Witches of Eastwick",
          "Ferris Bueller's Day Off",
          "Back to the Future",
          "Police Academy",
          "Trading Places",
          "Star Trek II The Wrath of Khan",
          "The Blues Brothers",
          "V For Vendetta",
          "In the Line of Fire",
          "Us",
          "The Forbidden Kingdom",
          "Rumble in the Bronx",
          "Machete",
          "Beverly Hills Cop",
          "Watchmen",
          "Jackie Brown",
          "Zombieland",
          "Mo Better Blues",
          "Thelma and Louise",
          "New Jack City",
          "The Lawnmower Man",
          "Schindler's List",
          "Four Weddings and a Funeral",
          "Get Shorty",
          "Jerry Maguire",
          "Welcome to Sarajevo",
          "Trojan War",
          "The Gingerbread Man",
          "Tumbleweeds",
          "Turn it up",
          "The Adventures of Pluto Nash",
          "The Lord of the Rings: The Return of the King",
          "Harry Potter and the Prisoner of Azkaban",
          "Stay",
          "Fast Food Nation",
          "Into the Wild",
          "The Wrestler",
          "Slumdog Millionaire",
          "Jackass 3-D",
          "Skyfall",
          "The Hunger Games: Mocking Jay - Part 1",
          "Jurassic World",
          "Shut In",
          "Molly's Game",
          "BlacKkKlansman",
          "Peter Rabbit",
          "Replicas"
         ],
         "y": [
          -298696.75268028036,
          107436933.9768,
          103984368.26598655,
          -114624.4911437731,
          -23221.984751967764,
          194496.32521621158,
          -6561902.9507451095,
          -38023.06479213982,
          2069341.0633503187,
          -137551.3894536561,
          -3419210.956597671,
          -34329699.83122351,
          9588809.67286545,
          10358500.427841455,
          79435759.6416821,
          -100484.33243439786,
          -13680.583873496325,
          -1559714.2320892075,
          -11214105.98295281,
          180639808.0308692,
          9085136.769179543,
          2630457.6551608928,
          5046244.229824087,
          44396959.49231271,
          13982040.35691468,
          16109640.044541229,
          102692036.81525081,
          11234655.81184642,
          2335144.3898982275,
          16509949.927370282,
          2701982.7603097903,
          213349.0914340551,
          33660347.24191701,
          10744726.663973473,
          17431067.57123936,
          16242603.666486137,
          22521515.09666174,
          -6516250.007122591,
          86052.68031303195,
          -9691.668294329138,
          8518.387314792042,
          6722344.481237217,
          6933260.881295436,
          -158767.8823276397,
          7269051.079846665,
          4481217.299658327,
          11082858.835961271,
          283269.50587273575,
          580030.3858169733,
          34364111.28115621,
          -10867641.509532705,
          80069.29139078746,
          -6210429.776264727,
          -159255.78586609045,
          -391208.1651643646,
          -1129545.880171366,
          -11328000.974498324,
          -20870270.37971098,
          324664.3588268878,
          2420306.4859200483,
          -551196.2232433408,
          4156312.560071598,
          2341981.9021768086,
          5829167.383971663,
          54279772.77677831,
          9411447.97215144,
          9451329.637152623,
          6427139.563871976,
          7778798.407002407,
          7703549.069013521,
          -511573.046643557,
          4394954.103661008,
          2923643.7149559497,
          -260782.08821932413,
          4961255.256612792,
          7590117.404821193,
          216136.6370164642,
          -1373235.7734930078,
          2497452.2407809235,
          3581519.2027430646,
          -15415.049096814182,
          -100581.57773817373,
          81152.59878658256,
          9461.035959826462,
          512164.83566977177,
          -5886620.9774919,
          38102783.61168218,
          36766311.11125223,
          -5147896.827126285,
          260459.49720189587,
          -261842.3257819176,
          -87673.92127977009,
          245799.74980653048,
          40722926.21457184,
          15107451.038171068,
          44590996.19133034,
          141764846.2545926,
          1390098.720513652,
          -6718388.901906931,
          7912211.360992071,
          6764329.606406994,
          -10080492.00314124
         ]
        }
       ],
       "layout": {
        "template": {
         "data": {
          "bar": [
           {
            "error_x": {
             "color": "#2a3f5f"
            },
            "error_y": {
             "color": "#2a3f5f"
            },
            "marker": {
             "line": {
              "color": "#E5ECF6",
              "width": 0.5
             }
            },
            "type": "bar"
           }
          ],
          "barpolar": [
           {
            "marker": {
             "line": {
              "color": "#E5ECF6",
              "width": 0.5
             }
            },
            "type": "barpolar"
           }
          ],
          "carpet": [
           {
            "aaxis": {
             "endlinecolor": "#2a3f5f",
             "gridcolor": "white",
             "linecolor": "white",
             "minorgridcolor": "white",
             "startlinecolor": "#2a3f5f"
            },
            "baxis": {
             "endlinecolor": "#2a3f5f",
             "gridcolor": "white",
             "linecolor": "white",
             "minorgridcolor": "white",
             "startlinecolor": "#2a3f5f"
            },
            "type": "carpet"
           }
          ],
          "choropleth": [
           {
            "colorbar": {
             "outlinewidth": 0,
             "ticks": ""
            },
            "type": "choropleth"
           }
          ],
          "contour": [
           {
            "colorbar": {
             "outlinewidth": 0,
             "ticks": ""
            },
            "colorscale": [
             [
              0,
              "#0d0887"
             ],
             [
              0.1111111111111111,
              "#46039f"
             ],
             [
              0.2222222222222222,
              "#7201a8"
             ],
             [
              0.3333333333333333,
              "#9c179e"
             ],
             [
              0.4444444444444444,
              "#bd3786"
             ],
             [
              0.5555555555555556,
              "#d8576b"
             ],
             [
              0.6666666666666666,
              "#ed7953"
             ],
             [
              0.7777777777777778,
              "#fb9f3a"
             ],
             [
              0.8888888888888888,
              "#fdca26"
             ],
             [
              1,
              "#f0f921"
             ]
            ],
            "type": "contour"
           }
          ],
          "contourcarpet": [
           {
            "colorbar": {
             "outlinewidth": 0,
             "ticks": ""
            },
            "type": "contourcarpet"
           }
          ],
          "heatmap": [
           {
            "colorbar": {
             "outlinewidth": 0,
             "ticks": ""
            },
            "colorscale": [
             [
              0,
              "#0d0887"
             ],
             [
              0.1111111111111111,
              "#46039f"
             ],
             [
              0.2222222222222222,
              "#7201a8"
             ],
             [
              0.3333333333333333,
              "#9c179e"
             ],
             [
              0.4444444444444444,
              "#bd3786"
             ],
             [
              0.5555555555555556,
              "#d8576b"
             ],
             [
              0.6666666666666666,
              "#ed7953"
             ],
             [
              0.7777777777777778,
              "#fb9f3a"
             ],
             [
              0.8888888888888888,
              "#fdca26"
             ],
             [
              1,
              "#f0f921"
             ]
            ],
            "type": "heatmap"
           }
          ],
          "heatmapgl": [
           {
            "colorbar": {
             "outlinewidth": 0,
             "ticks": ""
            },
            "colorscale": [
             [
              0,
              "#0d0887"
             ],
             [
              0.1111111111111111,
              "#46039f"
             ],
             [
              0.2222222222222222,
              "#7201a8"
             ],
             [
              0.3333333333333333,
              "#9c179e"
             ],
             [
              0.4444444444444444,
              "#bd3786"
             ],
             [
              0.5555555555555556,
              "#d8576b"
             ],
             [
              0.6666666666666666,
              "#ed7953"
             ],
             [
              0.7777777777777778,
              "#fb9f3a"
             ],
             [
              0.8888888888888888,
              "#fdca26"
             ],
             [
              1,
              "#f0f921"
             ]
            ],
            "type": "heatmapgl"
           }
          ],
          "histogram": [
           {
            "marker": {
             "colorbar": {
              "outlinewidth": 0,
              "ticks": ""
             }
            },
            "type": "histogram"
           }
          ],
          "histogram2d": [
           {
            "colorbar": {
             "outlinewidth": 0,
             "ticks": ""
            },
            "colorscale": [
             [
              0,
              "#0d0887"
             ],
             [
              0.1111111111111111,
              "#46039f"
             ],
             [
              0.2222222222222222,
              "#7201a8"
             ],
             [
              0.3333333333333333,
              "#9c179e"
             ],
             [
              0.4444444444444444,
              "#bd3786"
             ],
             [
              0.5555555555555556,
              "#d8576b"
             ],
             [
              0.6666666666666666,
              "#ed7953"
             ],
             [
              0.7777777777777778,
              "#fb9f3a"
             ],
             [
              0.8888888888888888,
              "#fdca26"
             ],
             [
              1,
              "#f0f921"
             ]
            ],
            "type": "histogram2d"
           }
          ],
          "histogram2dcontour": [
           {
            "colorbar": {
             "outlinewidth": 0,
             "ticks": ""
            },
            "colorscale": [
             [
              0,
              "#0d0887"
             ],
             [
              0.1111111111111111,
              "#46039f"
             ],
             [
              0.2222222222222222,
              "#7201a8"
             ],
             [
              0.3333333333333333,
              "#9c179e"
             ],
             [
              0.4444444444444444,
              "#bd3786"
             ],
             [
              0.5555555555555556,
              "#d8576b"
             ],
             [
              0.6666666666666666,
              "#ed7953"
             ],
             [
              0.7777777777777778,
              "#fb9f3a"
             ],
             [
              0.8888888888888888,
              "#fdca26"
             ],
             [
              1,
              "#f0f921"
             ]
            ],
            "type": "histogram2dcontour"
           }
          ],
          "mesh3d": [
           {
            "colorbar": {
             "outlinewidth": 0,
             "ticks": ""
            },
            "type": "mesh3d"
           }
          ],
          "parcoords": [
           {
            "line": {
             "colorbar": {
              "outlinewidth": 0,
              "ticks": ""
             }
            },
            "type": "parcoords"
           }
          ],
          "scatter": [
           {
            "marker": {
             "colorbar": {
              "outlinewidth": 0,
              "ticks": ""
             }
            },
            "type": "scatter"
           }
          ],
          "scatter3d": [
           {
            "line": {
             "colorbar": {
              "outlinewidth": 0,
              "ticks": ""
             }
            },
            "marker": {
             "colorbar": {
              "outlinewidth": 0,
              "ticks": ""
             }
            },
            "type": "scatter3d"
           }
          ],
          "scattercarpet": [
           {
            "marker": {
             "colorbar": {
              "outlinewidth": 0,
              "ticks": ""
             }
            },
            "type": "scattercarpet"
           }
          ],
          "scattergeo": [
           {
            "marker": {
             "colorbar": {
              "outlinewidth": 0,
              "ticks": ""
             }
            },
            "type": "scattergeo"
           }
          ],
          "scattergl": [
           {
            "marker": {
             "colorbar": {
              "outlinewidth": 0,
              "ticks": ""
             }
            },
            "type": "scattergl"
           }
          ],
          "scattermapbox": [
           {
            "marker": {
             "colorbar": {
              "outlinewidth": 0,
              "ticks": ""
             }
            },
            "type": "scattermapbox"
           }
          ],
          "scatterpolar": [
           {
            "marker": {
             "colorbar": {
              "outlinewidth": 0,
              "ticks": ""
             }
            },
            "type": "scatterpolar"
           }
          ],
          "scatterpolargl": [
           {
            "marker": {
             "colorbar": {
              "outlinewidth": 0,
              "ticks": ""
             }
            },
            "type": "scatterpolargl"
           }
          ],
          "scatterternary": [
           {
            "marker": {
             "colorbar": {
              "outlinewidth": 0,
              "ticks": ""
             }
            },
            "type": "scatterternary"
           }
          ],
          "surface": [
           {
            "colorbar": {
             "outlinewidth": 0,
             "ticks": ""
            },
            "colorscale": [
             [
              0,
              "#0d0887"
             ],
             [
              0.1111111111111111,
              "#46039f"
             ],
             [
              0.2222222222222222,
              "#7201a8"
             ],
             [
              0.3333333333333333,
              "#9c179e"
             ],
             [
              0.4444444444444444,
              "#bd3786"
             ],
             [
              0.5555555555555556,
              "#d8576b"
             ],
             [
              0.6666666666666666,
              "#ed7953"
             ],
             [
              0.7777777777777778,
              "#fb9f3a"
             ],
             [
              0.8888888888888888,
              "#fdca26"
             ],
             [
              1,
              "#f0f921"
             ]
            ],
            "type": "surface"
           }
          ],
          "table": [
           {
            "cells": {
             "fill": {
              "color": "#EBF0F8"
             },
             "line": {
              "color": "white"
             }
            },
            "header": {
             "fill": {
              "color": "#C8D4E3"
             },
             "line": {
              "color": "white"
             }
            },
            "type": "table"
           }
          ]
         },
         "layout": {
          "annotationdefaults": {
           "arrowcolor": "#2a3f5f",
           "arrowhead": 0,
           "arrowwidth": 1
          },
          "colorscale": {
           "diverging": [
            [
             0,
             "#8e0152"
            ],
            [
             0.1,
             "#c51b7d"
            ],
            [
             0.2,
             "#de77ae"
            ],
            [
             0.3,
             "#f1b6da"
            ],
            [
             0.4,
             "#fde0ef"
            ],
            [
             0.5,
             "#f7f7f7"
            ],
            [
             0.6,
             "#e6f5d0"
            ],
            [
             0.7,
             "#b8e186"
            ],
            [
             0.8,
             "#7fbc41"
            ],
            [
             0.9,
             "#4d9221"
            ],
            [
             1,
             "#276419"
            ]
           ],
           "sequential": [
            [
             0,
             "#0d0887"
            ],
            [
             0.1111111111111111,
             "#46039f"
            ],
            [
             0.2222222222222222,
             "#7201a8"
            ],
            [
             0.3333333333333333,
             "#9c179e"
            ],
            [
             0.4444444444444444,
             "#bd3786"
            ],
            [
             0.5555555555555556,
             "#d8576b"
            ],
            [
             0.6666666666666666,
             "#ed7953"
            ],
            [
             0.7777777777777778,
             "#fb9f3a"
            ],
            [
             0.8888888888888888,
             "#fdca26"
            ],
            [
             1,
             "#f0f921"
            ]
           ],
           "sequentialminus": [
            [
             0,
             "#0d0887"
            ],
            [
             0.1111111111111111,
             "#46039f"
            ],
            [
             0.2222222222222222,
             "#7201a8"
            ],
            [
             0.3333333333333333,
             "#9c179e"
            ],
            [
             0.4444444444444444,
             "#bd3786"
            ],
            [
             0.5555555555555556,
             "#d8576b"
            ],
            [
             0.6666666666666666,
             "#ed7953"
            ],
            [
             0.7777777777777778,
             "#fb9f3a"
            ],
            [
             0.8888888888888888,
             "#fdca26"
            ],
            [
             1,
             "#f0f921"
            ]
           ]
          },
          "colorway": [
           "#636efa",
           "#EF553B",
           "#00cc96",
           "#ab63fa",
           "#FFA15A",
           "#19d3f3",
           "#FF6692",
           "#B6E880",
           "#FF97FF",
           "#FECB52"
          ],
          "font": {
           "color": "#2a3f5f"
          },
          "geo": {
           "bgcolor": "white",
           "lakecolor": "white",
           "landcolor": "#E5ECF6",
           "showlakes": true,
           "showland": true,
           "subunitcolor": "white"
          },
          "hoverlabel": {
           "align": "left"
          },
          "hovermode": "closest",
          "mapbox": {
           "style": "light"
          },
          "paper_bgcolor": "white",
          "plot_bgcolor": "#E5ECF6",
          "polar": {
           "angularaxis": {
            "gridcolor": "white",
            "linecolor": "white",
            "ticks": ""
           },
           "bgcolor": "#E5ECF6",
           "radialaxis": {
            "gridcolor": "white",
            "linecolor": "white",
            "ticks": ""
           }
          },
          "scene": {
           "xaxis": {
            "backgroundcolor": "#E5ECF6",
            "gridcolor": "white",
            "gridwidth": 2,
            "linecolor": "white",
            "showbackground": true,
            "ticks": "",
            "zerolinecolor": "white"
           },
           "yaxis": {
            "backgroundcolor": "#E5ECF6",
            "gridcolor": "white",
            "gridwidth": 2,
            "linecolor": "white",
            "showbackground": true,
            "ticks": "",
            "zerolinecolor": "white"
           },
           "zaxis": {
            "backgroundcolor": "#E5ECF6",
            "gridcolor": "white",
            "gridwidth": 2,
            "linecolor": "white",
            "showbackground": true,
            "ticks": "",
            "zerolinecolor": "white"
           }
          },
          "shapedefaults": {
           "line": {
            "color": "#2a3f5f"
           }
          },
          "ternary": {
           "aaxis": {
            "gridcolor": "white",
            "linecolor": "white",
            "ticks": ""
           },
           "baxis": {
            "gridcolor": "white",
            "linecolor": "white",
            "ticks": ""
           },
           "bgcolor": "#E5ECF6",
           "caxis": {
            "gridcolor": "white",
            "linecolor": "white",
            "ticks": ""
           }
          },
          "title": {
           "x": 0.05
          },
          "xaxis": {
           "automargin": true,
           "gridcolor": "white",
           "linecolor": "white",
           "ticks": "",
           "zerolinecolor": "white",
           "zerolinewidth": 2
          },
          "yaxis": {
           "automargin": true,
           "gridcolor": "white",
           "linecolor": "white",
           "ticks": "",
           "zerolinecolor": "white",
           "zerolinewidth": 2
          }
         }
        },
        "title": {
         "text": "Meta residual plot of Group 4"
        }
       }
      },
      "text/html": [
       "<div>\n",
       "        \n",
       "        \n",
       "            <div id=\"f355f9cc-42cb-4c39-977c-530b2ef05800\" class=\"plotly-graph-div\" style=\"height:525px; width:100%;\"></div>\n",
       "            <script type=\"text/javascript\">\n",
       "                require([\"plotly\"], function(Plotly) {\n",
       "                    window.PLOTLYENV=window.PLOTLYENV || {};\n",
       "                    \n",
       "                if (document.getElementById(\"f355f9cc-42cb-4c39-977c-530b2ef05800\")) {\n",
       "                    Plotly.newPlot(\n",
       "                        'f355f9cc-42cb-4c39-977c-530b2ef05800',\n",
       "                        [{\"marker\": {\"color\": [-298696.75268028036, 107436933.9768, 103984368.26598655, -114624.4911437731, -23221.984751967764, 194496.32521621158, -6561902.9507451095, -38023.06479213982, 2069341.0633503187, -137551.3894536561, -3419210.956597671, -34329699.83122351, 9588809.67286545, 10358500.427841455, 79435759.6416821, -100484.33243439786, -13680.583873496325, -1559714.2320892075, -11214105.98295281, 180639808.0308692, 9085136.769179543, 2630457.6551608928, 5046244.229824087, 44396959.49231271, 13982040.35691468, 16109640.044541229, 102692036.81525081, 11234655.81184642, 2335144.3898982275, 16509949.927370282, 2701982.7603097903, 213349.0914340551, 33660347.24191701, 10744726.663973473, 17431067.57123936, 16242603.666486137, 22521515.09666174, -6516250.007122591, 86052.68031303195, -9691.668294329138, 8518.387314792042, 6722344.481237217, 6933260.881295436, -158767.8823276397, 7269051.079846665, 4481217.299658327, 11082858.835961271, 283269.50587273575, 580030.3858169733, 34364111.28115621, -10867641.509532705, 80069.29139078746, -6210429.776264727, -159255.78586609045, -391208.1651643646, -1129545.880171366, -11328000.974498324, -20870270.37971098, 324664.3588268878, 2420306.4859200483, -551196.2232433408, 4156312.560071598, 2341981.9021768086, 5829167.383971663, 54279772.77677831, 9411447.97215144, 9451329.637152623, 6427139.563871976, 7778798.407002407, 7703549.069013521, -511573.046643557, 4394954.103661008, 2923643.7149559497, -260782.08821932413, 4961255.256612792, 7590117.404821193, 216136.6370164642, -1373235.7734930078, 2497452.2407809235, 3581519.2027430646, -15415.049096814182, -100581.57773817373, 81152.59878658256, 9461.035959826462, 512164.83566977177, -5886620.9774919, 38102783.61168218, 36766311.11125223, -5147896.827126285, 260459.49720189587, -261842.3257819176, -87673.92127977009, 245799.74980653048, 40722926.21457184, 15107451.038171068, 44590996.19133034, 141764846.2545926, 1390098.720513652, -6718388.901906931, 7912211.360992071, 6764329.606406994, -10080492.00314124]}, \"mode\": \"markers\", \"text\": [\"O Brother, Where Art Thou?\", \"The Twilight Saga: Breaking Dawn Part 1\", \"The Twilight Saga: Breaking Dawn Part 2\", \"Helena From the Wedding\", \"Monsters\", \"Catfish\", \"Red\", \"Freakonomics\", \"The Warrior's Way\", \"Stone\", \"Frankenweenie\", \"John Carter\", \"Dolphin Tale\", \"Penguins of Madagascar\", \"Minions\", \"Proud American\", \"Edmond\", \"Tootsie\", \"Waterworld\", \"The Lion King (2019)\", \"Crawl\", \"Stuber\", \"Midsommar\", \"Spider-Man: Far from Home\", \"Yesterday\", \"Annabelle Comes Home\", \"Toy Story 4\", \"Child's Play (2019)\", \"Anna (2019)\", \"Men in Black International\", \"Shaft (2019)\\u00a0\", \"Late Night\", \"The Secret Life of Pets 2\", \"Dark Phoenix\", \"Godzilla:King of the Monsters\", \"Rocketman\", \"Return of the Jedi\", \"Indiana Jones and the Temple of Doom\", \"The Idolmaker\", \"The Grass Harp\", \"The Grand\", \"Jaws\", \"Superman (1978)\", \"Clerks\", \"Juice\", \"He Got Game\", \"White Men Can't Jump\", \"Mulholland Drive\", \"Blue Velvet\", \"Once Upon a Time in Hollywood\", \"The Big Lebowski\", \"Train to Busan\", \"Pride and Prejudice and Zombies\", \"Dead Poets Society\", \"A Fish Called Wanda\", \"The Witches of Eastwick\", \"Ferris Bueller's Day Off\", \"Back to the Future\", \"Police Academy\", \"Trading Places\", \"Star Trek II The Wrath of Khan\", \"The Blues Brothers\", \"V For Vendetta\", \"In the Line of Fire\", \"Us\", \"The Forbidden Kingdom\", \"Rumble in the Bronx\", \"Machete\", \"Beverly Hills Cop\", \"Watchmen\", \"Jackie Brown\", \"Zombieland\", \"Mo Better Blues\", \"Thelma and Louise\", \"New Jack City\", \"The Lawnmower Man\", \"Schindler's List\", \"Four Weddings and a Funeral\", \"Get Shorty\", \"Jerry Maguire\", \"Welcome to Sarajevo\", \"Trojan War\", \"The Gingerbread Man\", \"Tumbleweeds\", \"Turn it up\", \"The Adventures of Pluto Nash\", \"The Lord of the Rings: The Return of the King\", \"Harry Potter and the Prisoner of Azkaban\", \"Stay\", \"Fast Food Nation\", \"Into the Wild\", \"The Wrestler\", \"Slumdog Millionaire\", \"Jackass 3-D\", \"Skyfall\", \"The Hunger Games: Mocking Jay - Part 1\", \"Jurassic World\", \"Shut In\", \"Molly's Game\", \"BlacKkKlansman\", \"Peter Rabbit\", \"Replicas\"], \"type\": \"scatter\", \"x\": [\"O Brother, Where Art Thou?\", \"The Twilight Saga: Breaking Dawn Part 1\", \"The Twilight Saga: Breaking Dawn Part 2\", \"Helena From the Wedding\", \"Monsters\", \"Catfish\", \"Red\", \"Freakonomics\", \"The Warrior's Way\", \"Stone\", \"Frankenweenie\", \"John Carter\", \"Dolphin Tale\", \"Penguins of Madagascar\", \"Minions\", \"Proud American\", \"Edmond\", \"Tootsie\", \"Waterworld\", \"The Lion King (2019)\", \"Crawl\", \"Stuber\", \"Midsommar\", \"Spider-Man: Far from Home\", \"Yesterday\", \"Annabelle Comes Home\", \"Toy Story 4\", \"Child's Play (2019)\", \"Anna (2019)\", \"Men in Black International\", \"Shaft (2019)\\u00a0\", \"Late Night\", \"The Secret Life of Pets 2\", \"Dark Phoenix\", \"Godzilla:King of the Monsters\", \"Rocketman\", \"Return of the Jedi\", \"Indiana Jones and the Temple of Doom\", \"The Idolmaker\", \"The Grass Harp\", \"The Grand\", \"Jaws\", \"Superman (1978)\", \"Clerks\", \"Juice\", \"He Got Game\", \"White Men Can't Jump\", \"Mulholland Drive\", \"Blue Velvet\", \"Once Upon a Time in Hollywood\", \"The Big Lebowski\", \"Train to Busan\", \"Pride and Prejudice and Zombies\", \"Dead Poets Society\", \"A Fish Called Wanda\", \"The Witches of Eastwick\", \"Ferris Bueller's Day Off\", \"Back to the Future\", \"Police Academy\", \"Trading Places\", \"Star Trek II The Wrath of Khan\", \"The Blues Brothers\", \"V For Vendetta\", \"In the Line of Fire\", \"Us\", \"The Forbidden Kingdom\", \"Rumble in the Bronx\", \"Machete\", \"Beverly Hills Cop\", \"Watchmen\", \"Jackie Brown\", \"Zombieland\", \"Mo Better Blues\", \"Thelma and Louise\", \"New Jack City\", \"The Lawnmower Man\", \"Schindler's List\", \"Four Weddings and a Funeral\", \"Get Shorty\", \"Jerry Maguire\", \"Welcome to Sarajevo\", \"Trojan War\", \"The Gingerbread Man\", \"Tumbleweeds\", \"Turn it up\", \"The Adventures of Pluto Nash\", \"The Lord of the Rings: The Return of the King\", \"Harry Potter and the Prisoner of Azkaban\", \"Stay\", \"Fast Food Nation\", \"Into the Wild\", \"The Wrestler\", \"Slumdog Millionaire\", \"Jackass 3-D\", \"Skyfall\", \"The Hunger Games: Mocking Jay - Part 1\", \"Jurassic World\", \"Shut In\", \"Molly's Game\", \"BlacKkKlansman\", \"Peter Rabbit\", \"Replicas\"], \"y\": [-298696.75268028036, 107436933.9768, 103984368.26598655, -114624.4911437731, -23221.984751967764, 194496.32521621158, -6561902.9507451095, -38023.06479213982, 2069341.0633503187, -137551.3894536561, -3419210.956597671, -34329699.83122351, 9588809.67286545, 10358500.427841455, 79435759.6416821, -100484.33243439786, -13680.583873496325, -1559714.2320892075, -11214105.98295281, 180639808.0308692, 9085136.769179543, 2630457.6551608928, 5046244.229824087, 44396959.49231271, 13982040.35691468, 16109640.044541229, 102692036.81525081, 11234655.81184642, 2335144.3898982275, 16509949.927370282, 2701982.7603097903, 213349.0914340551, 33660347.24191701, 10744726.663973473, 17431067.57123936, 16242603.666486137, 22521515.09666174, -6516250.007122591, 86052.68031303195, -9691.668294329138, 8518.387314792042, 6722344.481237217, 6933260.881295436, -158767.8823276397, 7269051.079846665, 4481217.299658327, 11082858.835961271, 283269.50587273575, 580030.3858169733, 34364111.28115621, -10867641.509532705, 80069.29139078746, -6210429.776264727, -159255.78586609045, -391208.1651643646, -1129545.880171366, -11328000.974498324, -20870270.37971098, 324664.3588268878, 2420306.4859200483, -551196.2232433408, 4156312.560071598, 2341981.9021768086, 5829167.383971663, 54279772.77677831, 9411447.97215144, 9451329.637152623, 6427139.563871976, 7778798.407002407, 7703549.069013521, -511573.046643557, 4394954.103661008, 2923643.7149559497, -260782.08821932413, 4961255.256612792, 7590117.404821193, 216136.6370164642, -1373235.7734930078, 2497452.2407809235, 3581519.2027430646, -15415.049096814182, -100581.57773817373, 81152.59878658256, 9461.035959826462, 512164.83566977177, -5886620.9774919, 38102783.61168218, 36766311.11125223, -5147896.827126285, 260459.49720189587, -261842.3257819176, -87673.92127977009, 245799.74980653048, 40722926.21457184, 15107451.038171068, 44590996.19133034, 141764846.2545926, 1390098.720513652, -6718388.901906931, 7912211.360992071, 6764329.606406994, -10080492.00314124]}],\n",
       "                        {\"template\": {\"data\": {\"bar\": [{\"error_x\": {\"color\": \"#2a3f5f\"}, \"error_y\": {\"color\": \"#2a3f5f\"}, \"marker\": {\"line\": {\"color\": \"#E5ECF6\", \"width\": 0.5}}, \"type\": \"bar\"}], \"barpolar\": [{\"marker\": {\"line\": {\"color\": \"#E5ECF6\", \"width\": 0.5}}, \"type\": \"barpolar\"}], \"carpet\": [{\"aaxis\": {\"endlinecolor\": \"#2a3f5f\", \"gridcolor\": \"white\", \"linecolor\": \"white\", \"minorgridcolor\": \"white\", \"startlinecolor\": \"#2a3f5f\"}, \"baxis\": {\"endlinecolor\": \"#2a3f5f\", \"gridcolor\": \"white\", \"linecolor\": \"white\", \"minorgridcolor\": \"white\", \"startlinecolor\": \"#2a3f5f\"}, \"type\": \"carpet\"}], \"choropleth\": [{\"colorbar\": {\"outlinewidth\": 0, \"ticks\": \"\"}, \"type\": \"choropleth\"}], \"contour\": [{\"colorbar\": {\"outlinewidth\": 0, \"ticks\": \"\"}, \"colorscale\": [[0.0, \"#0d0887\"], [0.1111111111111111, \"#46039f\"], [0.2222222222222222, \"#7201a8\"], [0.3333333333333333, \"#9c179e\"], [0.4444444444444444, \"#bd3786\"], [0.5555555555555556, \"#d8576b\"], [0.6666666666666666, \"#ed7953\"], [0.7777777777777778, \"#fb9f3a\"], [0.8888888888888888, \"#fdca26\"], [1.0, \"#f0f921\"]], \"type\": \"contour\"}], \"contourcarpet\": [{\"colorbar\": {\"outlinewidth\": 0, \"ticks\": \"\"}, \"type\": \"contourcarpet\"}], \"heatmap\": [{\"colorbar\": {\"outlinewidth\": 0, \"ticks\": \"\"}, \"colorscale\": [[0.0, \"#0d0887\"], [0.1111111111111111, \"#46039f\"], [0.2222222222222222, \"#7201a8\"], [0.3333333333333333, \"#9c179e\"], [0.4444444444444444, \"#bd3786\"], [0.5555555555555556, \"#d8576b\"], [0.6666666666666666, \"#ed7953\"], [0.7777777777777778, \"#fb9f3a\"], [0.8888888888888888, \"#fdca26\"], [1.0, \"#f0f921\"]], \"type\": \"heatmap\"}], \"heatmapgl\": [{\"colorbar\": {\"outlinewidth\": 0, \"ticks\": \"\"}, \"colorscale\": [[0.0, \"#0d0887\"], [0.1111111111111111, \"#46039f\"], [0.2222222222222222, \"#7201a8\"], [0.3333333333333333, \"#9c179e\"], [0.4444444444444444, \"#bd3786\"], [0.5555555555555556, \"#d8576b\"], [0.6666666666666666, \"#ed7953\"], [0.7777777777777778, \"#fb9f3a\"], [0.8888888888888888, \"#fdca26\"], [1.0, \"#f0f921\"]], \"type\": \"heatmapgl\"}], \"histogram\": [{\"marker\": {\"colorbar\": {\"outlinewidth\": 0, \"ticks\": \"\"}}, \"type\": \"histogram\"}], \"histogram2d\": [{\"colorbar\": {\"outlinewidth\": 0, \"ticks\": \"\"}, \"colorscale\": [[0.0, \"#0d0887\"], [0.1111111111111111, \"#46039f\"], [0.2222222222222222, \"#7201a8\"], [0.3333333333333333, \"#9c179e\"], [0.4444444444444444, \"#bd3786\"], [0.5555555555555556, \"#d8576b\"], [0.6666666666666666, \"#ed7953\"], [0.7777777777777778, \"#fb9f3a\"], [0.8888888888888888, \"#fdca26\"], [1.0, \"#f0f921\"]], \"type\": \"histogram2d\"}], \"histogram2dcontour\": [{\"colorbar\": {\"outlinewidth\": 0, \"ticks\": \"\"}, \"colorscale\": [[0.0, \"#0d0887\"], [0.1111111111111111, \"#46039f\"], [0.2222222222222222, \"#7201a8\"], [0.3333333333333333, \"#9c179e\"], [0.4444444444444444, \"#bd3786\"], [0.5555555555555556, \"#d8576b\"], [0.6666666666666666, \"#ed7953\"], [0.7777777777777778, \"#fb9f3a\"], [0.8888888888888888, \"#fdca26\"], [1.0, \"#f0f921\"]], \"type\": \"histogram2dcontour\"}], \"mesh3d\": [{\"colorbar\": {\"outlinewidth\": 0, \"ticks\": \"\"}, \"type\": \"mesh3d\"}], \"parcoords\": [{\"line\": {\"colorbar\": {\"outlinewidth\": 0, \"ticks\": \"\"}}, \"type\": \"parcoords\"}], \"scatter\": [{\"marker\": {\"colorbar\": {\"outlinewidth\": 0, \"ticks\": \"\"}}, \"type\": \"scatter\"}], \"scatter3d\": [{\"line\": {\"colorbar\": {\"outlinewidth\": 0, \"ticks\": \"\"}}, \"marker\": {\"colorbar\": {\"outlinewidth\": 0, \"ticks\": \"\"}}, \"type\": \"scatter3d\"}], \"scattercarpet\": [{\"marker\": {\"colorbar\": {\"outlinewidth\": 0, \"ticks\": \"\"}}, \"type\": \"scattercarpet\"}], \"scattergeo\": [{\"marker\": {\"colorbar\": {\"outlinewidth\": 0, \"ticks\": \"\"}}, \"type\": \"scattergeo\"}], \"scattergl\": [{\"marker\": {\"colorbar\": {\"outlinewidth\": 0, \"ticks\": \"\"}}, \"type\": \"scattergl\"}], \"scattermapbox\": [{\"marker\": {\"colorbar\": {\"outlinewidth\": 0, \"ticks\": \"\"}}, \"type\": \"scattermapbox\"}], \"scatterpolar\": [{\"marker\": {\"colorbar\": {\"outlinewidth\": 0, \"ticks\": \"\"}}, \"type\": \"scatterpolar\"}], \"scatterpolargl\": [{\"marker\": {\"colorbar\": {\"outlinewidth\": 0, \"ticks\": \"\"}}, \"type\": \"scatterpolargl\"}], \"scatterternary\": [{\"marker\": {\"colorbar\": {\"outlinewidth\": 0, \"ticks\": \"\"}}, \"type\": \"scatterternary\"}], \"surface\": [{\"colorbar\": {\"outlinewidth\": 0, \"ticks\": \"\"}, \"colorscale\": [[0.0, \"#0d0887\"], [0.1111111111111111, \"#46039f\"], [0.2222222222222222, \"#7201a8\"], [0.3333333333333333, \"#9c179e\"], [0.4444444444444444, \"#bd3786\"], [0.5555555555555556, \"#d8576b\"], [0.6666666666666666, \"#ed7953\"], [0.7777777777777778, \"#fb9f3a\"], [0.8888888888888888, \"#fdca26\"], [1.0, \"#f0f921\"]], \"type\": \"surface\"}], \"table\": [{\"cells\": {\"fill\": {\"color\": \"#EBF0F8\"}, \"line\": {\"color\": \"white\"}}, \"header\": {\"fill\": {\"color\": \"#C8D4E3\"}, \"line\": {\"color\": \"white\"}}, \"type\": \"table\"}]}, \"layout\": {\"annotationdefaults\": {\"arrowcolor\": \"#2a3f5f\", \"arrowhead\": 0, \"arrowwidth\": 1}, \"colorscale\": {\"diverging\": [[0, \"#8e0152\"], [0.1, \"#c51b7d\"], [0.2, \"#de77ae\"], [0.3, \"#f1b6da\"], [0.4, \"#fde0ef\"], [0.5, \"#f7f7f7\"], [0.6, \"#e6f5d0\"], [0.7, \"#b8e186\"], [0.8, \"#7fbc41\"], [0.9, \"#4d9221\"], [1, \"#276419\"]], \"sequential\": [[0.0, \"#0d0887\"], [0.1111111111111111, \"#46039f\"], [0.2222222222222222, \"#7201a8\"], [0.3333333333333333, \"#9c179e\"], [0.4444444444444444, \"#bd3786\"], [0.5555555555555556, \"#d8576b\"], [0.6666666666666666, \"#ed7953\"], [0.7777777777777778, \"#fb9f3a\"], [0.8888888888888888, \"#fdca26\"], [1.0, \"#f0f921\"]], \"sequentialminus\": [[0.0, \"#0d0887\"], [0.1111111111111111, \"#46039f\"], [0.2222222222222222, \"#7201a8\"], [0.3333333333333333, \"#9c179e\"], [0.4444444444444444, \"#bd3786\"], [0.5555555555555556, \"#d8576b\"], [0.6666666666666666, \"#ed7953\"], [0.7777777777777778, \"#fb9f3a\"], [0.8888888888888888, \"#fdca26\"], [1.0, \"#f0f921\"]]}, \"colorway\": [\"#636efa\", \"#EF553B\", \"#00cc96\", \"#ab63fa\", \"#FFA15A\", \"#19d3f3\", \"#FF6692\", \"#B6E880\", \"#FF97FF\", \"#FECB52\"], \"font\": {\"color\": \"#2a3f5f\"}, \"geo\": {\"bgcolor\": \"white\", \"lakecolor\": \"white\", \"landcolor\": \"#E5ECF6\", \"showlakes\": true, \"showland\": true, \"subunitcolor\": \"white\"}, \"hoverlabel\": {\"align\": \"left\"}, \"hovermode\": \"closest\", \"mapbox\": {\"style\": \"light\"}, \"paper_bgcolor\": \"white\", \"plot_bgcolor\": \"#E5ECF6\", \"polar\": {\"angularaxis\": {\"gridcolor\": \"white\", \"linecolor\": \"white\", \"ticks\": \"\"}, \"bgcolor\": \"#E5ECF6\", \"radialaxis\": {\"gridcolor\": \"white\", \"linecolor\": \"white\", \"ticks\": \"\"}}, \"scene\": {\"xaxis\": {\"backgroundcolor\": \"#E5ECF6\", \"gridcolor\": \"white\", \"gridwidth\": 2, \"linecolor\": \"white\", \"showbackground\": true, \"ticks\": \"\", \"zerolinecolor\": \"white\"}, \"yaxis\": {\"backgroundcolor\": \"#E5ECF6\", \"gridcolor\": \"white\", \"gridwidth\": 2, \"linecolor\": \"white\", \"showbackground\": true, \"ticks\": \"\", \"zerolinecolor\": \"white\"}, \"zaxis\": {\"backgroundcolor\": \"#E5ECF6\", \"gridcolor\": \"white\", \"gridwidth\": 2, \"linecolor\": \"white\", \"showbackground\": true, \"ticks\": \"\", \"zerolinecolor\": \"white\"}}, \"shapedefaults\": {\"line\": {\"color\": \"#2a3f5f\"}}, \"ternary\": {\"aaxis\": {\"gridcolor\": \"white\", \"linecolor\": \"white\", \"ticks\": \"\"}, \"baxis\": {\"gridcolor\": \"white\", \"linecolor\": \"white\", \"ticks\": \"\"}, \"bgcolor\": \"#E5ECF6\", \"caxis\": {\"gridcolor\": \"white\", \"linecolor\": \"white\", \"ticks\": \"\"}}, \"title\": {\"x\": 0.05}, \"xaxis\": {\"automargin\": true, \"gridcolor\": \"white\", \"linecolor\": \"white\", \"ticks\": \"\", \"zerolinecolor\": \"white\", \"zerolinewidth\": 2}, \"yaxis\": {\"automargin\": true, \"gridcolor\": \"white\", \"linecolor\": \"white\", \"ticks\": \"\", \"zerolinecolor\": \"white\", \"zerolinewidth\": 2}}}, \"title\": {\"text\": \"Meta residual plot of Group 4\"}},\n",
       "                        {\"responsive\": true}\n",
       "                    ).then(function(){\n",
       "                            \n",
       "var gd = document.getElementById('f355f9cc-42cb-4c39-977c-530b2ef05800');\n",
       "var x = new MutationObserver(function (mutations, observer) {{\n",
       "        var display = window.getComputedStyle(gd).display;\n",
       "        if (!display || display === 'none') {{\n",
       "            console.log([gd, 'removed!']);\n",
       "            Plotly.purge(gd);\n",
       "            observer.disconnect();\n",
       "        }}\n",
       "}});\n",
       "\n",
       "// Listen for the removal of the full notebook cells\n",
       "var notebookContainer = gd.closest('#notebook-container');\n",
       "if (notebookContainer) {{\n",
       "    x.observe(notebookContainer, {childList: true});\n",
       "}}\n",
       "\n",
       "// Listen for the clearing of the current output cell\n",
       "var outputEl = gd.closest('.output');\n",
       "if (outputEl) {{\n",
       "    x.observe(outputEl, {childList: true});\n",
       "}}\n",
       "\n",
       "                        })\n",
       "                };\n",
       "                });\n",
       "            </script>\n",
       "        </div>"
      ]
     },
     "metadata": {},
     "output_type": "display_data"
    }
   ],
   "source": [
    "# Residual plot for meta information\n",
    "\n",
    "g4_result_final[\"meta_residuals\"] = g4_result_final[\"ground_truth\"] - g4_result_final[\"meta_prediction\"]\n",
    "\n",
    "fig = go.Figure(data=go.Scatter(x=g4_result_final[\"name\"],\n",
    "                                y=g4_result_final[\"meta_residuals\"],\n",
    "                                mode='markers',\n",
    "                                marker_color=g4_result_final[\"meta_residuals\"],\n",
    "                                text=g4_result_final[\"name\"])) # hover text goes here(movie_title)\n",
    "\n",
    "fig.update_layout(title='Meta residual plot of Group 4')\n",
    "fig.show()"
   ]
  },
  {
   "cell_type": "code",
   "execution_count": 33,
   "metadata": {},
   "outputs": [
    {
     "data": {
      "application/vnd.plotly.v1+json": {
       "config": {
        "plotlyServerURL": "https://plot.ly"
       },
       "data": [
        {
         "marker": {
          "color": [
           93182.52550500911,
           4201.3263040387,
           9544.9567161421,
           2045.5259782146,
           9367.48566148,
           28602.8028007125,
           612312.619243129,
           576249.413453552,
           612313.3683778939,
           8979.7573771922,
           89063.4031504942,
           493133.70208534703,
           226671.731933042,
           611361.5928504079,
           597775.983714126,
           244325.492393495,
           9369.4921034434,
           612289.490863741,
           162947.122667097,
           13206221.3099598,
           267533.142554163,
           33540.8944874723,
           44070.80755637519,
           8691.7792987279,
           565927.467543076,
           12614.8863726844,
           141169.13641862,
           372.3001339944,
           534848.604859999,
           376.96695612379995,
           4516.7842131191,
           611395.5922741321,
           1972.881612795,
           612072.1540699729,
           25543.8071542471,
           88881.7221783965,
           562361.281525985,
           611595.8230489771,
           7160.8840173217,
           22685.2853103331,
           605443.794127265,
           36276.1075526872,
           9367.485661480201,
           534061.704262074,
           402380.92969778104,
           70998.8721422948,
           9429.0483300812,
           576769.276022033,
           438411.64795763,
           473234.88576780603,
           598911.8457704771,
           26966.9208186772,
           614.2671270386,
           568756.326999706,
           74312.1515967906,
           612313.696676184,
           612313.857152106,
           1835.3905499865,
           612304.717330121,
           545299.702229988,
           9774.0327055179,
           46780.6716455125,
           7721.557200661,
           73077.20790698621,
           415904.359626311,
           260803.75206185898,
           612370.045341495,
           612157.861282594,
           1934.1818283487,
           60460.2983042737,
           7844553.941608701,
           1398698.2026827,
           484516.323243952,
           603813.269378755,
           612312.234528285,
           611911.646622371,
           14396.454261648601,
           77058.1590865297,
           477899.26586150104,
           14272.289770895,
           2147.5503665064,
           2260.2311106745,
           360828.16893517703,
           229369.583674862,
           1838.499622799,
           77049.9345988563,
           113610.507539709,
           845401.509425072,
           299098.93969991896,
           9369.8971396716,
           23738.8897093535,
           6501.0538852768,
           0,
           0,
           0,
           0,
           0,
           0,
           0,
           0,
           0,
           0
          ]
         },
         "mode": "markers",
         "text": [
          "O Brother, Where Art Thou?",
          "The Twilight Saga: Breaking Dawn Part 1",
          "The Twilight Saga: Breaking Dawn Part 2",
          "Helena From the Wedding",
          "Monsters",
          "Catfish",
          "Red",
          "Freakonomics",
          "The Warrior's Way",
          "Stone",
          "Frankenweenie",
          "John Carter",
          "Dolphin Tale",
          "Penguins of Madagascar",
          "Minions",
          "Proud American",
          "Edmond",
          "Tootsie",
          "Waterworld",
          "The Lion King (2019)",
          "Crawl",
          "Stuber",
          "Midsommar",
          "Spider-Man: Far from Home",
          "Yesterday",
          "Annabelle Comes Home",
          "Toy Story 4",
          "Child's Play (2019)",
          "Anna (2019)",
          "Men in Black International",
          "Shaft (2019) ",
          "Late Night",
          "The Secret Life of Pets 2",
          "Dark Phoenix",
          "Godzilla:King of the Monsters",
          "Rocketman",
          "Return of the Jedi",
          "Indiana Jones and the Temple of Doom",
          "The Idolmaker",
          "The Grass Harp",
          "The Grand",
          "Jaws",
          "Superman (1978)",
          "Clerks",
          "Juice",
          "He Got Game",
          "White Men Can't Jump",
          "Mulholland Drive",
          "Blue Velvet",
          "Once Upon a Time in Hollywood",
          "The Big Lebowski",
          "Train to Busan",
          "Pride and Prejudice and Zombies",
          "Dead Poets Society",
          "A Fish Called Wanda",
          "The Witches of Eastwick",
          "Ferris Bueller's Day Off",
          "Back to the Future",
          "Police Academy",
          "Trading Places",
          "Star Trek II The Wrath of Khan",
          "The Blues Brothers",
          "V For Vendetta",
          "In the Line of Fire",
          "Us",
          "The Forbidden Kingdom",
          "Rumble in the Bronx",
          "Machete",
          "Beverly Hills Cop",
          "Watchmen",
          "Jackie Brown",
          "Zombieland",
          "Mo Better Blues",
          "Thelma and Louise",
          "New Jack City",
          "The Lawnmower Man",
          "Schindler's List",
          "Four Weddings and a Funeral",
          "Get Shorty",
          "Jerry Maguire",
          "Welcome to Sarajevo",
          "Trojan War",
          "The Gingerbread Man",
          "Tumbleweeds",
          "Turn it up",
          "The Adventures of Pluto Nash",
          "The Lord of the Rings: The Return of the King",
          "Harry Potter and the Prisoner of Azkaban",
          "Stay",
          "Fast Food Nation",
          "Into the Wild",
          "The Wrestler",
          "Slumdog Millionaire",
          "Jackass 3-D",
          "Skyfall",
          "The Hunger Games: Mocking Jay - Part 1",
          "Jurassic World",
          "Shut In",
          "Molly's Game",
          "BlacKkKlansman",
          "Peter Rabbit",
          "Replicas"
         ],
         "type": "scatter",
         "x": [
          "O Brother, Where Art Thou?",
          "The Twilight Saga: Breaking Dawn Part 1",
          "The Twilight Saga: Breaking Dawn Part 2",
          "Helena From the Wedding",
          "Monsters",
          "Catfish",
          "Red",
          "Freakonomics",
          "The Warrior's Way",
          "Stone",
          "Frankenweenie",
          "John Carter",
          "Dolphin Tale",
          "Penguins of Madagascar",
          "Minions",
          "Proud American",
          "Edmond",
          "Tootsie",
          "Waterworld",
          "The Lion King (2019)",
          "Crawl",
          "Stuber",
          "Midsommar",
          "Spider-Man: Far from Home",
          "Yesterday",
          "Annabelle Comes Home",
          "Toy Story 4",
          "Child's Play (2019)",
          "Anna (2019)",
          "Men in Black International",
          "Shaft (2019) ",
          "Late Night",
          "The Secret Life of Pets 2",
          "Dark Phoenix",
          "Godzilla:King of the Monsters",
          "Rocketman",
          "Return of the Jedi",
          "Indiana Jones and the Temple of Doom",
          "The Idolmaker",
          "The Grass Harp",
          "The Grand",
          "Jaws",
          "Superman (1978)",
          "Clerks",
          "Juice",
          "He Got Game",
          "White Men Can't Jump",
          "Mulholland Drive",
          "Blue Velvet",
          "Once Upon a Time in Hollywood",
          "The Big Lebowski",
          "Train to Busan",
          "Pride and Prejudice and Zombies",
          "Dead Poets Society",
          "A Fish Called Wanda",
          "The Witches of Eastwick",
          "Ferris Bueller's Day Off",
          "Back to the Future",
          "Police Academy",
          "Trading Places",
          "Star Trek II The Wrath of Khan",
          "The Blues Brothers",
          "V For Vendetta",
          "In the Line of Fire",
          "Us",
          "The Forbidden Kingdom",
          "Rumble in the Bronx",
          "Machete",
          "Beverly Hills Cop",
          "Watchmen",
          "Jackie Brown",
          "Zombieland",
          "Mo Better Blues",
          "Thelma and Louise",
          "New Jack City",
          "The Lawnmower Man",
          "Schindler's List",
          "Four Weddings and a Funeral",
          "Get Shorty",
          "Jerry Maguire",
          "Welcome to Sarajevo",
          "Trojan War",
          "The Gingerbread Man",
          "Tumbleweeds",
          "Turn it up",
          "The Adventures of Pluto Nash",
          "The Lord of the Rings: The Return of the King",
          "Harry Potter and the Prisoner of Azkaban",
          "Stay",
          "Fast Food Nation",
          "Into the Wild",
          "The Wrestler",
          "Slumdog Millionaire",
          "Jackass 3-D",
          "Skyfall",
          "The Hunger Games: Mocking Jay - Part 1",
          "Jurassic World",
          "Shut In",
          "Molly's Game",
          "BlacKkKlansman",
          "Peter Rabbit",
          "Replicas"
         ],
         "y": [
          93182.52550500911,
          4201.3263040387,
          9544.9567161421,
          2045.5259782146,
          9367.48566148,
          28602.8028007125,
          612312.619243129,
          576249.413453552,
          612313.3683778939,
          8979.7573771922,
          89063.4031504942,
          493133.70208534703,
          226671.731933042,
          611361.5928504079,
          597775.983714126,
          244325.492393495,
          9369.4921034434,
          612289.490863741,
          162947.122667097,
          13206221.3099598,
          267533.142554163,
          33540.8944874723,
          44070.80755637519,
          8691.7792987279,
          565927.467543076,
          12614.8863726844,
          141169.13641862,
          372.3001339944,
          534848.604859999,
          376.96695612379995,
          4516.7842131191,
          611395.5922741321,
          1972.881612795,
          612072.1540699729,
          25543.8071542471,
          88881.7221783965,
          562361.281525985,
          611595.8230489771,
          7160.8840173217,
          22685.2853103331,
          605443.794127265,
          36276.1075526872,
          9367.485661480201,
          534061.704262074,
          402380.92969778104,
          70998.8721422948,
          9429.0483300812,
          576769.276022033,
          438411.64795763,
          473234.88576780603,
          598911.8457704771,
          26966.9208186772,
          614.2671270386,
          568756.326999706,
          74312.1515967906,
          612313.696676184,
          612313.857152106,
          1835.3905499865,
          612304.717330121,
          545299.702229988,
          9774.0327055179,
          46780.6716455125,
          7721.557200661,
          73077.20790698621,
          415904.359626311,
          260803.75206185898,
          612370.045341495,
          612157.861282594,
          1934.1818283487,
          60460.2983042737,
          7844553.941608701,
          1398698.2026827,
          484516.323243952,
          603813.269378755,
          612312.234528285,
          611911.646622371,
          14396.454261648601,
          77058.1590865297,
          477899.26586150104,
          14272.289770895,
          2147.5503665064,
          2260.2311106745,
          360828.16893517703,
          229369.583674862,
          1838.499622799,
          77049.9345988563,
          113610.507539709,
          845401.509425072,
          299098.93969991896,
          9369.8971396716,
          23738.8897093535,
          6501.0538852768,
          0,
          0,
          0,
          0,
          0,
          0,
          0,
          0,
          0,
          0
         ]
        }
       ],
       "layout": {
        "template": {
         "data": {
          "bar": [
           {
            "error_x": {
             "color": "#2a3f5f"
            },
            "error_y": {
             "color": "#2a3f5f"
            },
            "marker": {
             "line": {
              "color": "#E5ECF6",
              "width": 0.5
             }
            },
            "type": "bar"
           }
          ],
          "barpolar": [
           {
            "marker": {
             "line": {
              "color": "#E5ECF6",
              "width": 0.5
             }
            },
            "type": "barpolar"
           }
          ],
          "carpet": [
           {
            "aaxis": {
             "endlinecolor": "#2a3f5f",
             "gridcolor": "white",
             "linecolor": "white",
             "minorgridcolor": "white",
             "startlinecolor": "#2a3f5f"
            },
            "baxis": {
             "endlinecolor": "#2a3f5f",
             "gridcolor": "white",
             "linecolor": "white",
             "minorgridcolor": "white",
             "startlinecolor": "#2a3f5f"
            },
            "type": "carpet"
           }
          ],
          "choropleth": [
           {
            "colorbar": {
             "outlinewidth": 0,
             "ticks": ""
            },
            "type": "choropleth"
           }
          ],
          "contour": [
           {
            "colorbar": {
             "outlinewidth": 0,
             "ticks": ""
            },
            "colorscale": [
             [
              0,
              "#0d0887"
             ],
             [
              0.1111111111111111,
              "#46039f"
             ],
             [
              0.2222222222222222,
              "#7201a8"
             ],
             [
              0.3333333333333333,
              "#9c179e"
             ],
             [
              0.4444444444444444,
              "#bd3786"
             ],
             [
              0.5555555555555556,
              "#d8576b"
             ],
             [
              0.6666666666666666,
              "#ed7953"
             ],
             [
              0.7777777777777778,
              "#fb9f3a"
             ],
             [
              0.8888888888888888,
              "#fdca26"
             ],
             [
              1,
              "#f0f921"
             ]
            ],
            "type": "contour"
           }
          ],
          "contourcarpet": [
           {
            "colorbar": {
             "outlinewidth": 0,
             "ticks": ""
            },
            "type": "contourcarpet"
           }
          ],
          "heatmap": [
           {
            "colorbar": {
             "outlinewidth": 0,
             "ticks": ""
            },
            "colorscale": [
             [
              0,
              "#0d0887"
             ],
             [
              0.1111111111111111,
              "#46039f"
             ],
             [
              0.2222222222222222,
              "#7201a8"
             ],
             [
              0.3333333333333333,
              "#9c179e"
             ],
             [
              0.4444444444444444,
              "#bd3786"
             ],
             [
              0.5555555555555556,
              "#d8576b"
             ],
             [
              0.6666666666666666,
              "#ed7953"
             ],
             [
              0.7777777777777778,
              "#fb9f3a"
             ],
             [
              0.8888888888888888,
              "#fdca26"
             ],
             [
              1,
              "#f0f921"
             ]
            ],
            "type": "heatmap"
           }
          ],
          "heatmapgl": [
           {
            "colorbar": {
             "outlinewidth": 0,
             "ticks": ""
            },
            "colorscale": [
             [
              0,
              "#0d0887"
             ],
             [
              0.1111111111111111,
              "#46039f"
             ],
             [
              0.2222222222222222,
              "#7201a8"
             ],
             [
              0.3333333333333333,
              "#9c179e"
             ],
             [
              0.4444444444444444,
              "#bd3786"
             ],
             [
              0.5555555555555556,
              "#d8576b"
             ],
             [
              0.6666666666666666,
              "#ed7953"
             ],
             [
              0.7777777777777778,
              "#fb9f3a"
             ],
             [
              0.8888888888888888,
              "#fdca26"
             ],
             [
              1,
              "#f0f921"
             ]
            ],
            "type": "heatmapgl"
           }
          ],
          "histogram": [
           {
            "marker": {
             "colorbar": {
              "outlinewidth": 0,
              "ticks": ""
             }
            },
            "type": "histogram"
           }
          ],
          "histogram2d": [
           {
            "colorbar": {
             "outlinewidth": 0,
             "ticks": ""
            },
            "colorscale": [
             [
              0,
              "#0d0887"
             ],
             [
              0.1111111111111111,
              "#46039f"
             ],
             [
              0.2222222222222222,
              "#7201a8"
             ],
             [
              0.3333333333333333,
              "#9c179e"
             ],
             [
              0.4444444444444444,
              "#bd3786"
             ],
             [
              0.5555555555555556,
              "#d8576b"
             ],
             [
              0.6666666666666666,
              "#ed7953"
             ],
             [
              0.7777777777777778,
              "#fb9f3a"
             ],
             [
              0.8888888888888888,
              "#fdca26"
             ],
             [
              1,
              "#f0f921"
             ]
            ],
            "type": "histogram2d"
           }
          ],
          "histogram2dcontour": [
           {
            "colorbar": {
             "outlinewidth": 0,
             "ticks": ""
            },
            "colorscale": [
             [
              0,
              "#0d0887"
             ],
             [
              0.1111111111111111,
              "#46039f"
             ],
             [
              0.2222222222222222,
              "#7201a8"
             ],
             [
              0.3333333333333333,
              "#9c179e"
             ],
             [
              0.4444444444444444,
              "#bd3786"
             ],
             [
              0.5555555555555556,
              "#d8576b"
             ],
             [
              0.6666666666666666,
              "#ed7953"
             ],
             [
              0.7777777777777778,
              "#fb9f3a"
             ],
             [
              0.8888888888888888,
              "#fdca26"
             ],
             [
              1,
              "#f0f921"
             ]
            ],
            "type": "histogram2dcontour"
           }
          ],
          "mesh3d": [
           {
            "colorbar": {
             "outlinewidth": 0,
             "ticks": ""
            },
            "type": "mesh3d"
           }
          ],
          "parcoords": [
           {
            "line": {
             "colorbar": {
              "outlinewidth": 0,
              "ticks": ""
             }
            },
            "type": "parcoords"
           }
          ],
          "scatter": [
           {
            "marker": {
             "colorbar": {
              "outlinewidth": 0,
              "ticks": ""
             }
            },
            "type": "scatter"
           }
          ],
          "scatter3d": [
           {
            "line": {
             "colorbar": {
              "outlinewidth": 0,
              "ticks": ""
             }
            },
            "marker": {
             "colorbar": {
              "outlinewidth": 0,
              "ticks": ""
             }
            },
            "type": "scatter3d"
           }
          ],
          "scattercarpet": [
           {
            "marker": {
             "colorbar": {
              "outlinewidth": 0,
              "ticks": ""
             }
            },
            "type": "scattercarpet"
           }
          ],
          "scattergeo": [
           {
            "marker": {
             "colorbar": {
              "outlinewidth": 0,
              "ticks": ""
             }
            },
            "type": "scattergeo"
           }
          ],
          "scattergl": [
           {
            "marker": {
             "colorbar": {
              "outlinewidth": 0,
              "ticks": ""
             }
            },
            "type": "scattergl"
           }
          ],
          "scattermapbox": [
           {
            "marker": {
             "colorbar": {
              "outlinewidth": 0,
              "ticks": ""
             }
            },
            "type": "scattermapbox"
           }
          ],
          "scatterpolar": [
           {
            "marker": {
             "colorbar": {
              "outlinewidth": 0,
              "ticks": ""
             }
            },
            "type": "scatterpolar"
           }
          ],
          "scatterpolargl": [
           {
            "marker": {
             "colorbar": {
              "outlinewidth": 0,
              "ticks": ""
             }
            },
            "type": "scatterpolargl"
           }
          ],
          "scatterternary": [
           {
            "marker": {
             "colorbar": {
              "outlinewidth": 0,
              "ticks": ""
             }
            },
            "type": "scatterternary"
           }
          ],
          "surface": [
           {
            "colorbar": {
             "outlinewidth": 0,
             "ticks": ""
            },
            "colorscale": [
             [
              0,
              "#0d0887"
             ],
             [
              0.1111111111111111,
              "#46039f"
             ],
             [
              0.2222222222222222,
              "#7201a8"
             ],
             [
              0.3333333333333333,
              "#9c179e"
             ],
             [
              0.4444444444444444,
              "#bd3786"
             ],
             [
              0.5555555555555556,
              "#d8576b"
             ],
             [
              0.6666666666666666,
              "#ed7953"
             ],
             [
              0.7777777777777778,
              "#fb9f3a"
             ],
             [
              0.8888888888888888,
              "#fdca26"
             ],
             [
              1,
              "#f0f921"
             ]
            ],
            "type": "surface"
           }
          ],
          "table": [
           {
            "cells": {
             "fill": {
              "color": "#EBF0F8"
             },
             "line": {
              "color": "white"
             }
            },
            "header": {
             "fill": {
              "color": "#C8D4E3"
             },
             "line": {
              "color": "white"
             }
            },
            "type": "table"
           }
          ]
         },
         "layout": {
          "annotationdefaults": {
           "arrowcolor": "#2a3f5f",
           "arrowhead": 0,
           "arrowwidth": 1
          },
          "colorscale": {
           "diverging": [
            [
             0,
             "#8e0152"
            ],
            [
             0.1,
             "#c51b7d"
            ],
            [
             0.2,
             "#de77ae"
            ],
            [
             0.3,
             "#f1b6da"
            ],
            [
             0.4,
             "#fde0ef"
            ],
            [
             0.5,
             "#f7f7f7"
            ],
            [
             0.6,
             "#e6f5d0"
            ],
            [
             0.7,
             "#b8e186"
            ],
            [
             0.8,
             "#7fbc41"
            ],
            [
             0.9,
             "#4d9221"
            ],
            [
             1,
             "#276419"
            ]
           ],
           "sequential": [
            [
             0,
             "#0d0887"
            ],
            [
             0.1111111111111111,
             "#46039f"
            ],
            [
             0.2222222222222222,
             "#7201a8"
            ],
            [
             0.3333333333333333,
             "#9c179e"
            ],
            [
             0.4444444444444444,
             "#bd3786"
            ],
            [
             0.5555555555555556,
             "#d8576b"
            ],
            [
             0.6666666666666666,
             "#ed7953"
            ],
            [
             0.7777777777777778,
             "#fb9f3a"
            ],
            [
             0.8888888888888888,
             "#fdca26"
            ],
            [
             1,
             "#f0f921"
            ]
           ],
           "sequentialminus": [
            [
             0,
             "#0d0887"
            ],
            [
             0.1111111111111111,
             "#46039f"
            ],
            [
             0.2222222222222222,
             "#7201a8"
            ],
            [
             0.3333333333333333,
             "#9c179e"
            ],
            [
             0.4444444444444444,
             "#bd3786"
            ],
            [
             0.5555555555555556,
             "#d8576b"
            ],
            [
             0.6666666666666666,
             "#ed7953"
            ],
            [
             0.7777777777777778,
             "#fb9f3a"
            ],
            [
             0.8888888888888888,
             "#fdca26"
            ],
            [
             1,
             "#f0f921"
            ]
           ]
          },
          "colorway": [
           "#636efa",
           "#EF553B",
           "#00cc96",
           "#ab63fa",
           "#FFA15A",
           "#19d3f3",
           "#FF6692",
           "#B6E880",
           "#FF97FF",
           "#FECB52"
          ],
          "font": {
           "color": "#2a3f5f"
          },
          "geo": {
           "bgcolor": "white",
           "lakecolor": "white",
           "landcolor": "#E5ECF6",
           "showlakes": true,
           "showland": true,
           "subunitcolor": "white"
          },
          "hoverlabel": {
           "align": "left"
          },
          "hovermode": "closest",
          "mapbox": {
           "style": "light"
          },
          "paper_bgcolor": "white",
          "plot_bgcolor": "#E5ECF6",
          "polar": {
           "angularaxis": {
            "gridcolor": "white",
            "linecolor": "white",
            "ticks": ""
           },
           "bgcolor": "#E5ECF6",
           "radialaxis": {
            "gridcolor": "white",
            "linecolor": "white",
            "ticks": ""
           }
          },
          "scene": {
           "xaxis": {
            "backgroundcolor": "#E5ECF6",
            "gridcolor": "white",
            "gridwidth": 2,
            "linecolor": "white",
            "showbackground": true,
            "ticks": "",
            "zerolinecolor": "white"
           },
           "yaxis": {
            "backgroundcolor": "#E5ECF6",
            "gridcolor": "white",
            "gridwidth": 2,
            "linecolor": "white",
            "showbackground": true,
            "ticks": "",
            "zerolinecolor": "white"
           },
           "zaxis": {
            "backgroundcolor": "#E5ECF6",
            "gridcolor": "white",
            "gridwidth": 2,
            "linecolor": "white",
            "showbackground": true,
            "ticks": "",
            "zerolinecolor": "white"
           }
          },
          "shapedefaults": {
           "line": {
            "color": "#2a3f5f"
           }
          },
          "ternary": {
           "aaxis": {
            "gridcolor": "white",
            "linecolor": "white",
            "ticks": ""
           },
           "baxis": {
            "gridcolor": "white",
            "linecolor": "white",
            "ticks": ""
           },
           "bgcolor": "#E5ECF6",
           "caxis": {
            "gridcolor": "white",
            "linecolor": "white",
            "ticks": ""
           }
          },
          "title": {
           "x": 0.05
          },
          "xaxis": {
           "automargin": true,
           "gridcolor": "white",
           "linecolor": "white",
           "ticks": "",
           "zerolinecolor": "white",
           "zerolinewidth": 2
          },
          "yaxis": {
           "automargin": true,
           "gridcolor": "white",
           "linecolor": "white",
           "ticks": "",
           "zerolinecolor": "white",
           "zerolinewidth": 2
          }
         }
        },
        "title": {
         "text": "Video prediction value of testset of Group 4"
        }
       }
      },
      "text/html": [
       "<div>\n",
       "        \n",
       "        \n",
       "            <div id=\"9b5c05ec-e697-4ac6-86f1-d4b688fd33ab\" class=\"plotly-graph-div\" style=\"height:525px; width:100%;\"></div>\n",
       "            <script type=\"text/javascript\">\n",
       "                require([\"plotly\"], function(Plotly) {\n",
       "                    window.PLOTLYENV=window.PLOTLYENV || {};\n",
       "                    \n",
       "                if (document.getElementById(\"9b5c05ec-e697-4ac6-86f1-d4b688fd33ab\")) {\n",
       "                    Plotly.newPlot(\n",
       "                        '9b5c05ec-e697-4ac6-86f1-d4b688fd33ab',\n",
       "                        [{\"marker\": {\"color\": [93182.52550500911, 4201.3263040387, 9544.9567161421, 2045.5259782146, 9367.48566148, 28602.8028007125, 612312.619243129, 576249.413453552, 612313.3683778939, 8979.7573771922, 89063.4031504942, 493133.70208534703, 226671.731933042, 611361.5928504079, 597775.983714126, 244325.492393495, 9369.4921034434, 612289.490863741, 162947.122667097, 13206221.3099598, 267533.142554163, 33540.8944874723, 44070.80755637519, 8691.7792987279, 565927.467543076, 12614.8863726844, 141169.13641862, 372.3001339944, 534848.604859999, 376.96695612379995, 4516.7842131191, 611395.5922741321, 1972.881612795, 612072.1540699729, 25543.8071542471, 88881.7221783965, 562361.281525985, 611595.8230489771, 7160.8840173217, 22685.2853103331, 605443.794127265, 36276.1075526872, 9367.485661480201, 534061.704262074, 402380.92969778104, 70998.8721422948, 9429.0483300812, 576769.276022033, 438411.64795763, 473234.88576780603, 598911.8457704771, 26966.9208186772, 614.2671270386, 568756.326999706, 74312.1515967906, 612313.696676184, 612313.857152106, 1835.3905499865, 612304.717330121, 545299.702229988, 9774.0327055179, 46780.6716455125, 7721.557200661, 73077.20790698621, 415904.359626311, 260803.75206185898, 612370.045341495, 612157.861282594, 1934.1818283487, 60460.2983042737, 7844553.941608701, 1398698.2026827, 484516.323243952, 603813.269378755, 612312.234528285, 611911.646622371, 14396.454261648601, 77058.1590865297, 477899.26586150104, 14272.289770895, 2147.5503665064, 2260.2311106745, 360828.16893517703, 229369.583674862, 1838.499622799, 77049.9345988563, 113610.507539709, 845401.509425072, 299098.93969991896, 9369.8971396716, 23738.8897093535, 6501.0538852768, 0.0, 0.0, 0.0, 0.0, 0.0, 0.0, 0.0, 0.0, 0.0, 0.0]}, \"mode\": \"markers\", \"text\": [\"O Brother, Where Art Thou?\", \"The Twilight Saga: Breaking Dawn Part 1\", \"The Twilight Saga: Breaking Dawn Part 2\", \"Helena From the Wedding\", \"Monsters\", \"Catfish\", \"Red\", \"Freakonomics\", \"The Warrior's Way\", \"Stone\", \"Frankenweenie\", \"John Carter\", \"Dolphin Tale\", \"Penguins of Madagascar\", \"Minions\", \"Proud American\", \"Edmond\", \"Tootsie\", \"Waterworld\", \"The Lion King (2019)\", \"Crawl\", \"Stuber\", \"Midsommar\", \"Spider-Man: Far from Home\", \"Yesterday\", \"Annabelle Comes Home\", \"Toy Story 4\", \"Child's Play (2019)\", \"Anna (2019)\", \"Men in Black International\", \"Shaft (2019)\\u00a0\", \"Late Night\", \"The Secret Life of Pets 2\", \"Dark Phoenix\", \"Godzilla:King of the Monsters\", \"Rocketman\", \"Return of the Jedi\", \"Indiana Jones and the Temple of Doom\", \"The Idolmaker\", \"The Grass Harp\", \"The Grand\", \"Jaws\", \"Superman (1978)\", \"Clerks\", \"Juice\", \"He Got Game\", \"White Men Can't Jump\", \"Mulholland Drive\", \"Blue Velvet\", \"Once Upon a Time in Hollywood\", \"The Big Lebowski\", \"Train to Busan\", \"Pride and Prejudice and Zombies\", \"Dead Poets Society\", \"A Fish Called Wanda\", \"The Witches of Eastwick\", \"Ferris Bueller's Day Off\", \"Back to the Future\", \"Police Academy\", \"Trading Places\", \"Star Trek II The Wrath of Khan\", \"The Blues Brothers\", \"V For Vendetta\", \"In the Line of Fire\", \"Us\", \"The Forbidden Kingdom\", \"Rumble in the Bronx\", \"Machete\", \"Beverly Hills Cop\", \"Watchmen\", \"Jackie Brown\", \"Zombieland\", \"Mo Better Blues\", \"Thelma and Louise\", \"New Jack City\", \"The Lawnmower Man\", \"Schindler's List\", \"Four Weddings and a Funeral\", \"Get Shorty\", \"Jerry Maguire\", \"Welcome to Sarajevo\", \"Trojan War\", \"The Gingerbread Man\", \"Tumbleweeds\", \"Turn it up\", \"The Adventures of Pluto Nash\", \"The Lord of the Rings: The Return of the King\", \"Harry Potter and the Prisoner of Azkaban\", \"Stay\", \"Fast Food Nation\", \"Into the Wild\", \"The Wrestler\", \"Slumdog Millionaire\", \"Jackass 3-D\", \"Skyfall\", \"The Hunger Games: Mocking Jay - Part 1\", \"Jurassic World\", \"Shut In\", \"Molly's Game\", \"BlacKkKlansman\", \"Peter Rabbit\", \"Replicas\"], \"type\": \"scatter\", \"x\": [\"O Brother, Where Art Thou?\", \"The Twilight Saga: Breaking Dawn Part 1\", \"The Twilight Saga: Breaking Dawn Part 2\", \"Helena From the Wedding\", \"Monsters\", \"Catfish\", \"Red\", \"Freakonomics\", \"The Warrior's Way\", \"Stone\", \"Frankenweenie\", \"John Carter\", \"Dolphin Tale\", \"Penguins of Madagascar\", \"Minions\", \"Proud American\", \"Edmond\", \"Tootsie\", \"Waterworld\", \"The Lion King (2019)\", \"Crawl\", \"Stuber\", \"Midsommar\", \"Spider-Man: Far from Home\", \"Yesterday\", \"Annabelle Comes Home\", \"Toy Story 4\", \"Child's Play (2019)\", \"Anna (2019)\", \"Men in Black International\", \"Shaft (2019)\\u00a0\", \"Late Night\", \"The Secret Life of Pets 2\", \"Dark Phoenix\", \"Godzilla:King of the Monsters\", \"Rocketman\", \"Return of the Jedi\", \"Indiana Jones and the Temple of Doom\", \"The Idolmaker\", \"The Grass Harp\", \"The Grand\", \"Jaws\", \"Superman (1978)\", \"Clerks\", \"Juice\", \"He Got Game\", \"White Men Can't Jump\", \"Mulholland Drive\", \"Blue Velvet\", \"Once Upon a Time in Hollywood\", \"The Big Lebowski\", \"Train to Busan\", \"Pride and Prejudice and Zombies\", \"Dead Poets Society\", \"A Fish Called Wanda\", \"The Witches of Eastwick\", \"Ferris Bueller's Day Off\", \"Back to the Future\", \"Police Academy\", \"Trading Places\", \"Star Trek II The Wrath of Khan\", \"The Blues Brothers\", \"V For Vendetta\", \"In the Line of Fire\", \"Us\", \"The Forbidden Kingdom\", \"Rumble in the Bronx\", \"Machete\", \"Beverly Hills Cop\", \"Watchmen\", \"Jackie Brown\", \"Zombieland\", \"Mo Better Blues\", \"Thelma and Louise\", \"New Jack City\", \"The Lawnmower Man\", \"Schindler's List\", \"Four Weddings and a Funeral\", \"Get Shorty\", \"Jerry Maguire\", \"Welcome to Sarajevo\", \"Trojan War\", \"The Gingerbread Man\", \"Tumbleweeds\", \"Turn it up\", \"The Adventures of Pluto Nash\", \"The Lord of the Rings: The Return of the King\", \"Harry Potter and the Prisoner of Azkaban\", \"Stay\", \"Fast Food Nation\", \"Into the Wild\", \"The Wrestler\", \"Slumdog Millionaire\", \"Jackass 3-D\", \"Skyfall\", \"The Hunger Games: Mocking Jay - Part 1\", \"Jurassic World\", \"Shut In\", \"Molly's Game\", \"BlacKkKlansman\", \"Peter Rabbit\", \"Replicas\"], \"y\": [93182.52550500911, 4201.3263040387, 9544.9567161421, 2045.5259782146, 9367.48566148, 28602.8028007125, 612312.619243129, 576249.413453552, 612313.3683778939, 8979.7573771922, 89063.4031504942, 493133.70208534703, 226671.731933042, 611361.5928504079, 597775.983714126, 244325.492393495, 9369.4921034434, 612289.490863741, 162947.122667097, 13206221.3099598, 267533.142554163, 33540.8944874723, 44070.80755637519, 8691.7792987279, 565927.467543076, 12614.8863726844, 141169.13641862, 372.3001339944, 534848.604859999, 376.96695612379995, 4516.7842131191, 611395.5922741321, 1972.881612795, 612072.1540699729, 25543.8071542471, 88881.7221783965, 562361.281525985, 611595.8230489771, 7160.8840173217, 22685.2853103331, 605443.794127265, 36276.1075526872, 9367.485661480201, 534061.704262074, 402380.92969778104, 70998.8721422948, 9429.0483300812, 576769.276022033, 438411.64795763, 473234.88576780603, 598911.8457704771, 26966.9208186772, 614.2671270386, 568756.326999706, 74312.1515967906, 612313.696676184, 612313.857152106, 1835.3905499865, 612304.717330121, 545299.702229988, 9774.0327055179, 46780.6716455125, 7721.557200661, 73077.20790698621, 415904.359626311, 260803.75206185898, 612370.045341495, 612157.861282594, 1934.1818283487, 60460.2983042737, 7844553.941608701, 1398698.2026827, 484516.323243952, 603813.269378755, 612312.234528285, 611911.646622371, 14396.454261648601, 77058.1590865297, 477899.26586150104, 14272.289770895, 2147.5503665064, 2260.2311106745, 360828.16893517703, 229369.583674862, 1838.499622799, 77049.9345988563, 113610.507539709, 845401.509425072, 299098.93969991896, 9369.8971396716, 23738.8897093535, 6501.0538852768, 0.0, 0.0, 0.0, 0.0, 0.0, 0.0, 0.0, 0.0, 0.0, 0.0]}],\n",
       "                        {\"template\": {\"data\": {\"bar\": [{\"error_x\": {\"color\": \"#2a3f5f\"}, \"error_y\": {\"color\": \"#2a3f5f\"}, \"marker\": {\"line\": {\"color\": \"#E5ECF6\", \"width\": 0.5}}, \"type\": \"bar\"}], \"barpolar\": [{\"marker\": {\"line\": {\"color\": \"#E5ECF6\", \"width\": 0.5}}, \"type\": \"barpolar\"}], \"carpet\": [{\"aaxis\": {\"endlinecolor\": \"#2a3f5f\", \"gridcolor\": \"white\", \"linecolor\": \"white\", \"minorgridcolor\": \"white\", \"startlinecolor\": \"#2a3f5f\"}, \"baxis\": {\"endlinecolor\": \"#2a3f5f\", \"gridcolor\": \"white\", \"linecolor\": \"white\", \"minorgridcolor\": \"white\", \"startlinecolor\": \"#2a3f5f\"}, \"type\": \"carpet\"}], \"choropleth\": [{\"colorbar\": {\"outlinewidth\": 0, \"ticks\": \"\"}, \"type\": \"choropleth\"}], \"contour\": [{\"colorbar\": {\"outlinewidth\": 0, \"ticks\": \"\"}, \"colorscale\": [[0.0, \"#0d0887\"], [0.1111111111111111, \"#46039f\"], [0.2222222222222222, \"#7201a8\"], [0.3333333333333333, \"#9c179e\"], [0.4444444444444444, \"#bd3786\"], [0.5555555555555556, \"#d8576b\"], [0.6666666666666666, \"#ed7953\"], [0.7777777777777778, \"#fb9f3a\"], [0.8888888888888888, \"#fdca26\"], [1.0, \"#f0f921\"]], \"type\": \"contour\"}], \"contourcarpet\": [{\"colorbar\": {\"outlinewidth\": 0, \"ticks\": \"\"}, \"type\": \"contourcarpet\"}], \"heatmap\": [{\"colorbar\": {\"outlinewidth\": 0, \"ticks\": \"\"}, \"colorscale\": [[0.0, \"#0d0887\"], [0.1111111111111111, \"#46039f\"], [0.2222222222222222, \"#7201a8\"], [0.3333333333333333, \"#9c179e\"], [0.4444444444444444, \"#bd3786\"], [0.5555555555555556, \"#d8576b\"], [0.6666666666666666, \"#ed7953\"], [0.7777777777777778, \"#fb9f3a\"], [0.8888888888888888, \"#fdca26\"], [1.0, \"#f0f921\"]], \"type\": \"heatmap\"}], \"heatmapgl\": [{\"colorbar\": {\"outlinewidth\": 0, \"ticks\": \"\"}, \"colorscale\": [[0.0, \"#0d0887\"], [0.1111111111111111, \"#46039f\"], [0.2222222222222222, \"#7201a8\"], [0.3333333333333333, \"#9c179e\"], [0.4444444444444444, \"#bd3786\"], [0.5555555555555556, \"#d8576b\"], [0.6666666666666666, \"#ed7953\"], [0.7777777777777778, \"#fb9f3a\"], [0.8888888888888888, \"#fdca26\"], [1.0, \"#f0f921\"]], \"type\": \"heatmapgl\"}], \"histogram\": [{\"marker\": {\"colorbar\": {\"outlinewidth\": 0, \"ticks\": \"\"}}, \"type\": \"histogram\"}], \"histogram2d\": [{\"colorbar\": {\"outlinewidth\": 0, \"ticks\": \"\"}, \"colorscale\": [[0.0, \"#0d0887\"], [0.1111111111111111, \"#46039f\"], [0.2222222222222222, \"#7201a8\"], [0.3333333333333333, \"#9c179e\"], [0.4444444444444444, \"#bd3786\"], [0.5555555555555556, \"#d8576b\"], [0.6666666666666666, \"#ed7953\"], [0.7777777777777778, \"#fb9f3a\"], [0.8888888888888888, \"#fdca26\"], [1.0, \"#f0f921\"]], \"type\": \"histogram2d\"}], \"histogram2dcontour\": [{\"colorbar\": {\"outlinewidth\": 0, \"ticks\": \"\"}, \"colorscale\": [[0.0, \"#0d0887\"], [0.1111111111111111, \"#46039f\"], [0.2222222222222222, \"#7201a8\"], [0.3333333333333333, \"#9c179e\"], [0.4444444444444444, \"#bd3786\"], [0.5555555555555556, \"#d8576b\"], [0.6666666666666666, \"#ed7953\"], [0.7777777777777778, \"#fb9f3a\"], [0.8888888888888888, \"#fdca26\"], [1.0, \"#f0f921\"]], \"type\": \"histogram2dcontour\"}], \"mesh3d\": [{\"colorbar\": {\"outlinewidth\": 0, \"ticks\": \"\"}, \"type\": \"mesh3d\"}], \"parcoords\": [{\"line\": {\"colorbar\": {\"outlinewidth\": 0, \"ticks\": \"\"}}, \"type\": \"parcoords\"}], \"scatter\": [{\"marker\": {\"colorbar\": {\"outlinewidth\": 0, \"ticks\": \"\"}}, \"type\": \"scatter\"}], \"scatter3d\": [{\"line\": {\"colorbar\": {\"outlinewidth\": 0, \"ticks\": \"\"}}, \"marker\": {\"colorbar\": {\"outlinewidth\": 0, \"ticks\": \"\"}}, \"type\": \"scatter3d\"}], \"scattercarpet\": [{\"marker\": {\"colorbar\": {\"outlinewidth\": 0, \"ticks\": \"\"}}, \"type\": \"scattercarpet\"}], \"scattergeo\": [{\"marker\": {\"colorbar\": {\"outlinewidth\": 0, \"ticks\": \"\"}}, \"type\": \"scattergeo\"}], \"scattergl\": [{\"marker\": {\"colorbar\": {\"outlinewidth\": 0, \"ticks\": \"\"}}, \"type\": \"scattergl\"}], \"scattermapbox\": [{\"marker\": {\"colorbar\": {\"outlinewidth\": 0, \"ticks\": \"\"}}, \"type\": \"scattermapbox\"}], \"scatterpolar\": [{\"marker\": {\"colorbar\": {\"outlinewidth\": 0, \"ticks\": \"\"}}, \"type\": \"scatterpolar\"}], \"scatterpolargl\": [{\"marker\": {\"colorbar\": {\"outlinewidth\": 0, \"ticks\": \"\"}}, \"type\": \"scatterpolargl\"}], \"scatterternary\": [{\"marker\": {\"colorbar\": {\"outlinewidth\": 0, \"ticks\": \"\"}}, \"type\": \"scatterternary\"}], \"surface\": [{\"colorbar\": {\"outlinewidth\": 0, \"ticks\": \"\"}, \"colorscale\": [[0.0, \"#0d0887\"], [0.1111111111111111, \"#46039f\"], [0.2222222222222222, \"#7201a8\"], [0.3333333333333333, \"#9c179e\"], [0.4444444444444444, \"#bd3786\"], [0.5555555555555556, \"#d8576b\"], [0.6666666666666666, \"#ed7953\"], [0.7777777777777778, \"#fb9f3a\"], [0.8888888888888888, \"#fdca26\"], [1.0, \"#f0f921\"]], \"type\": \"surface\"}], \"table\": [{\"cells\": {\"fill\": {\"color\": \"#EBF0F8\"}, \"line\": {\"color\": \"white\"}}, \"header\": {\"fill\": {\"color\": \"#C8D4E3\"}, \"line\": {\"color\": \"white\"}}, \"type\": \"table\"}]}, \"layout\": {\"annotationdefaults\": {\"arrowcolor\": \"#2a3f5f\", \"arrowhead\": 0, \"arrowwidth\": 1}, \"colorscale\": {\"diverging\": [[0, \"#8e0152\"], [0.1, \"#c51b7d\"], [0.2, \"#de77ae\"], [0.3, \"#f1b6da\"], [0.4, \"#fde0ef\"], [0.5, \"#f7f7f7\"], [0.6, \"#e6f5d0\"], [0.7, \"#b8e186\"], [0.8, \"#7fbc41\"], [0.9, \"#4d9221\"], [1, \"#276419\"]], \"sequential\": [[0.0, \"#0d0887\"], [0.1111111111111111, \"#46039f\"], [0.2222222222222222, \"#7201a8\"], [0.3333333333333333, \"#9c179e\"], [0.4444444444444444, \"#bd3786\"], [0.5555555555555556, \"#d8576b\"], [0.6666666666666666, \"#ed7953\"], [0.7777777777777778, \"#fb9f3a\"], [0.8888888888888888, \"#fdca26\"], [1.0, \"#f0f921\"]], \"sequentialminus\": [[0.0, \"#0d0887\"], [0.1111111111111111, \"#46039f\"], [0.2222222222222222, \"#7201a8\"], [0.3333333333333333, \"#9c179e\"], [0.4444444444444444, \"#bd3786\"], [0.5555555555555556, \"#d8576b\"], [0.6666666666666666, \"#ed7953\"], [0.7777777777777778, \"#fb9f3a\"], [0.8888888888888888, \"#fdca26\"], [1.0, \"#f0f921\"]]}, \"colorway\": [\"#636efa\", \"#EF553B\", \"#00cc96\", \"#ab63fa\", \"#FFA15A\", \"#19d3f3\", \"#FF6692\", \"#B6E880\", \"#FF97FF\", \"#FECB52\"], \"font\": {\"color\": \"#2a3f5f\"}, \"geo\": {\"bgcolor\": \"white\", \"lakecolor\": \"white\", \"landcolor\": \"#E5ECF6\", \"showlakes\": true, \"showland\": true, \"subunitcolor\": \"white\"}, \"hoverlabel\": {\"align\": \"left\"}, \"hovermode\": \"closest\", \"mapbox\": {\"style\": \"light\"}, \"paper_bgcolor\": \"white\", \"plot_bgcolor\": \"#E5ECF6\", \"polar\": {\"angularaxis\": {\"gridcolor\": \"white\", \"linecolor\": \"white\", \"ticks\": \"\"}, \"bgcolor\": \"#E5ECF6\", \"radialaxis\": {\"gridcolor\": \"white\", \"linecolor\": \"white\", \"ticks\": \"\"}}, \"scene\": {\"xaxis\": {\"backgroundcolor\": \"#E5ECF6\", \"gridcolor\": \"white\", \"gridwidth\": 2, \"linecolor\": \"white\", \"showbackground\": true, \"ticks\": \"\", \"zerolinecolor\": \"white\"}, \"yaxis\": {\"backgroundcolor\": \"#E5ECF6\", \"gridcolor\": \"white\", \"gridwidth\": 2, \"linecolor\": \"white\", \"showbackground\": true, \"ticks\": \"\", \"zerolinecolor\": \"white\"}, \"zaxis\": {\"backgroundcolor\": \"#E5ECF6\", \"gridcolor\": \"white\", \"gridwidth\": 2, \"linecolor\": \"white\", \"showbackground\": true, \"ticks\": \"\", \"zerolinecolor\": \"white\"}}, \"shapedefaults\": {\"line\": {\"color\": \"#2a3f5f\"}}, \"ternary\": {\"aaxis\": {\"gridcolor\": \"white\", \"linecolor\": \"white\", \"ticks\": \"\"}, \"baxis\": {\"gridcolor\": \"white\", \"linecolor\": \"white\", \"ticks\": \"\"}, \"bgcolor\": \"#E5ECF6\", \"caxis\": {\"gridcolor\": \"white\", \"linecolor\": \"white\", \"ticks\": \"\"}}, \"title\": {\"x\": 0.05}, \"xaxis\": {\"automargin\": true, \"gridcolor\": \"white\", \"linecolor\": \"white\", \"ticks\": \"\", \"zerolinecolor\": \"white\", \"zerolinewidth\": 2}, \"yaxis\": {\"automargin\": true, \"gridcolor\": \"white\", \"linecolor\": \"white\", \"ticks\": \"\", \"zerolinecolor\": \"white\", \"zerolinewidth\": 2}}}, \"title\": {\"text\": \"Video prediction value of testset of Group 4\"}},\n",
       "                        {\"responsive\": true}\n",
       "                    ).then(function(){\n",
       "                            \n",
       "var gd = document.getElementById('9b5c05ec-e697-4ac6-86f1-d4b688fd33ab');\n",
       "var x = new MutationObserver(function (mutations, observer) {{\n",
       "        var display = window.getComputedStyle(gd).display;\n",
       "        if (!display || display === 'none') {{\n",
       "            console.log([gd, 'removed!']);\n",
       "            Plotly.purge(gd);\n",
       "            observer.disconnect();\n",
       "        }}\n",
       "}});\n",
       "\n",
       "// Listen for the removal of the full notebook cells\n",
       "var notebookContainer = gd.closest('#notebook-container');\n",
       "if (notebookContainer) {{\n",
       "    x.observe(notebookContainer, {childList: true});\n",
       "}}\n",
       "\n",
       "// Listen for the clearing of the current output cell\n",
       "var outputEl = gd.closest('.output');\n",
       "if (outputEl) {{\n",
       "    x.observe(outputEl, {childList: true});\n",
       "}}\n",
       "\n",
       "                        })\n",
       "                };\n",
       "                });\n",
       "            </script>\n",
       "        </div>"
      ]
     },
     "metadata": {},
     "output_type": "display_data"
    }
   ],
   "source": [
    "#Video prediction value of testset\n",
    "fig = go.Figure(data=go.Scatter(x=g4_result_final[\"name\"],\n",
    "                                y=g4_result_final[\"video_prediction\"],\n",
    "                                mode='markers',\n",
    "                                marker_color=g4_result_final[\"video_prediction\"],\n",
    "                                text=g4_result_final[\"name\"])) # hover text goes here(movie_title)\n",
    "\n",
    "fig.update_layout(title='Video prediction value of testset of Group 4')\n",
    "fig.show()"
   ]
  },
  {
   "cell_type": "code",
   "execution_count": 34,
   "metadata": {},
   "outputs": [
    {
     "data": {
      "application/vnd.plotly.v1+json": {
       "config": {
        "plotlyServerURL": "https://plot.ly"
       },
       "data": [
        {
         "marker": {
          "color": [
           3.974801761305966,
           4.615090400105385,
           4.6150535222479965,
           3.2194611242534816,
           4.013184636631852,
           4.4985069679877325,
           4.586866138311376,
           7.442973553091742,
           4.393403678860028,
           4.490298338461397,
           4.607363560341631,
           4.5988103552942174,
           4.603333339929329,
           4.591046434374928,
           4.60999275727944,
           5.045387042239288,
           3.9576634127957004,
           4.499240404812956,
           4.607471106841963,
           4.544501899679676,
           4.59280935142219,
           4.611074988352673,
           4.6084467320584555,
           4.615027557289214,
           4.58162497783245,
           4.614504137614609,
           4.613963834089147,
           4.6150943636356905,
           4.456040791083159,
           4.615108090454854,
           4.614617991644572,
           5.005468853993811,
           4.615078645955686,
           4.596487982048945,
           4.614591015849182,
           4.611693885474533,
           4.590635413020492,
           4.590930945613731,
           4.592601528571536,
           4.402288854434633,
           7.696256021876558,
           4.610021242626641,
           4.613877371764637,
           7.369978351438137,
           4.56459483745793,
           4.605841092666638,
           4.614485714572686,
           1.0444060897669272,
           3.8169055746653626,
           4.603649760037725,
           4.501777629989145,
           4.5166720294801435,
           4.615006280816345,
           4.220348813624966,
           3.600451549168728,
           4.548847364888838,
           4.513526455434746,
           4.614957560873213,
           4.541753808444944,
           4.538807485551233,
           4.614445785111063,
           4.605540803182123,
           4.614822328530966,
           4.610370775868115,
           4.609313471354115,
           4.6029813393574415,
           4.551646299091082,
           4.571192879195386,
           4.614994642599538,
           4.614035759483523,
           2.8081723677223636,
           4.557500268686164,
           4.49932667074502,
           4.5119965085768365,
           4.525064899738242,
           4.533742639271044,
           4.593173959838087,
           3.814558245373115,
           4.577151459227082,
           4.614293041872809,
           4.582831210182017,
           6.848622023830299,
           5.328205554520868,
           5.234336038975899,
           4.611959782281179,
           4.579547662964522,
           4.613570561006458,
           4.6061460649980495,
           4.469708627307348,
           4.592278767176972,
           4.497870042243747,
           4.582852919604667,
           4.61512051684126,
           4.61512051684126,
           4.61512051684126,
           4.61512051684126,
           4.61512051684126,
           4.61512051684126,
           4.61512051684126,
           4.61512051684126,
           4.61512051684126,
           4.61512051684126
          ]
         },
         "mode": "markers",
         "text": [
          "O Brother, Where Art Thou?",
          "The Twilight Saga: Breaking Dawn Part 1",
          "The Twilight Saga: Breaking Dawn Part 2",
          "Helena From the Wedding",
          "Monsters",
          "Catfish",
          "Red",
          "Freakonomics",
          "The Warrior's Way",
          "Stone",
          "Frankenweenie",
          "John Carter",
          "Dolphin Tale",
          "Penguins of Madagascar",
          "Minions",
          "Proud American",
          "Edmond",
          "Tootsie",
          "Waterworld",
          "The Lion King (2019)",
          "Crawl",
          "Stuber",
          "Midsommar",
          "Spider-Man: Far from Home",
          "Yesterday",
          "Annabelle Comes Home",
          "Toy Story 4",
          "Child's Play (2019)",
          "Anna (2019)",
          "Men in Black International",
          "Shaft (2019) ",
          "Late Night",
          "The Secret Life of Pets 2",
          "Dark Phoenix",
          "Godzilla:King of the Monsters",
          "Rocketman",
          "Return of the Jedi",
          "Indiana Jones and the Temple of Doom",
          "The Idolmaker",
          "The Grass Harp",
          "The Grand",
          "Jaws",
          "Superman (1978)",
          "Clerks",
          "Juice",
          "He Got Game",
          "White Men Can't Jump",
          "Mulholland Drive",
          "Blue Velvet",
          "Once Upon a Time in Hollywood",
          "The Big Lebowski",
          "Train to Busan",
          "Pride and Prejudice and Zombies",
          "Dead Poets Society",
          "A Fish Called Wanda",
          "The Witches of Eastwick",
          "Ferris Bueller's Day Off",
          "Back to the Future",
          "Police Academy",
          "Trading Places",
          "Star Trek II The Wrath of Khan",
          "The Blues Brothers",
          "V For Vendetta",
          "In the Line of Fire",
          "Us",
          "The Forbidden Kingdom",
          "Rumble in the Bronx",
          "Machete",
          "Beverly Hills Cop",
          "Watchmen",
          "Jackie Brown",
          "Zombieland",
          "Mo Better Blues",
          "Thelma and Louise",
          "New Jack City",
          "The Lawnmower Man",
          "Schindler's List",
          "Four Weddings and a Funeral",
          "Get Shorty",
          "Jerry Maguire",
          "Welcome to Sarajevo",
          "Trojan War",
          "The Gingerbread Man",
          "Tumbleweeds",
          "Turn it up",
          "The Adventures of Pluto Nash",
          "The Lord of the Rings: The Return of the King",
          "Harry Potter and the Prisoner of Azkaban",
          "Stay",
          "Fast Food Nation",
          "Into the Wild",
          "The Wrestler",
          "Slumdog Millionaire",
          "Jackass 3-D",
          "Skyfall",
          "The Hunger Games: Mocking Jay - Part 1",
          "Jurassic World",
          "Shut In",
          "Molly's Game",
          "BlacKkKlansman",
          "Peter Rabbit",
          "Replicas"
         ],
         "type": "scatter",
         "x": [
          "O Brother, Where Art Thou?",
          "The Twilight Saga: Breaking Dawn Part 1",
          "The Twilight Saga: Breaking Dawn Part 2",
          "Helena From the Wedding",
          "Monsters",
          "Catfish",
          "Red",
          "Freakonomics",
          "The Warrior's Way",
          "Stone",
          "Frankenweenie",
          "John Carter",
          "Dolphin Tale",
          "Penguins of Madagascar",
          "Minions",
          "Proud American",
          "Edmond",
          "Tootsie",
          "Waterworld",
          "The Lion King (2019)",
          "Crawl",
          "Stuber",
          "Midsommar",
          "Spider-Man: Far from Home",
          "Yesterday",
          "Annabelle Comes Home",
          "Toy Story 4",
          "Child's Play (2019)",
          "Anna (2019)",
          "Men in Black International",
          "Shaft (2019) ",
          "Late Night",
          "The Secret Life of Pets 2",
          "Dark Phoenix",
          "Godzilla:King of the Monsters",
          "Rocketman",
          "Return of the Jedi",
          "Indiana Jones and the Temple of Doom",
          "The Idolmaker",
          "The Grass Harp",
          "The Grand",
          "Jaws",
          "Superman (1978)",
          "Clerks",
          "Juice",
          "He Got Game",
          "White Men Can't Jump",
          "Mulholland Drive",
          "Blue Velvet",
          "Once Upon a Time in Hollywood",
          "The Big Lebowski",
          "Train to Busan",
          "Pride and Prejudice and Zombies",
          "Dead Poets Society",
          "A Fish Called Wanda",
          "The Witches of Eastwick",
          "Ferris Bueller's Day Off",
          "Back to the Future",
          "Police Academy",
          "Trading Places",
          "Star Trek II The Wrath of Khan",
          "The Blues Brothers",
          "V For Vendetta",
          "In the Line of Fire",
          "Us",
          "The Forbidden Kingdom",
          "Rumble in the Bronx",
          "Machete",
          "Beverly Hills Cop",
          "Watchmen",
          "Jackie Brown",
          "Zombieland",
          "Mo Better Blues",
          "Thelma and Louise",
          "New Jack City",
          "The Lawnmower Man",
          "Schindler's List",
          "Four Weddings and a Funeral",
          "Get Shorty",
          "Jerry Maguire",
          "Welcome to Sarajevo",
          "Trojan War",
          "The Gingerbread Man",
          "Tumbleweeds",
          "Turn it up",
          "The Adventures of Pluto Nash",
          "The Lord of the Rings: The Return of the King",
          "Harry Potter and the Prisoner of Azkaban",
          "Stay",
          "Fast Food Nation",
          "Into the Wild",
          "The Wrestler",
          "Slumdog Millionaire",
          "Jackass 3-D",
          "Skyfall",
          "The Hunger Games: Mocking Jay - Part 1",
          "Jurassic World",
          "Shut In",
          "Molly's Game",
          "BlacKkKlansman",
          "Peter Rabbit",
          "Replicas"
         ],
         "y": [
          3.974801761305966,
          4.615090400105385,
          4.6150535222479965,
          3.2194611242534816,
          4.013184636631852,
          4.4985069679877325,
          4.586866138311376,
          7.442973553091742,
          4.393403678860028,
          4.490298338461397,
          4.607363560341631,
          4.5988103552942174,
          4.603333339929329,
          4.591046434374928,
          4.60999275727944,
          5.045387042239288,
          3.9576634127957004,
          4.499240404812956,
          4.607471106841963,
          4.544501899679676,
          4.59280935142219,
          4.611074988352673,
          4.6084467320584555,
          4.615027557289214,
          4.58162497783245,
          4.614504137614609,
          4.613963834089147,
          4.6150943636356905,
          4.456040791083159,
          4.615108090454854,
          4.614617991644572,
          5.005468853993811,
          4.615078645955686,
          4.596487982048945,
          4.614591015849182,
          4.611693885474533,
          4.590635413020492,
          4.590930945613731,
          4.592601528571536,
          4.402288854434633,
          7.696256021876558,
          4.610021242626641,
          4.613877371764637,
          7.369978351438137,
          4.56459483745793,
          4.605841092666638,
          4.614485714572686,
          1.0444060897669272,
          3.8169055746653626,
          4.603649760037725,
          4.501777629989145,
          4.5166720294801435,
          4.615006280816345,
          4.220348813624966,
          3.600451549168728,
          4.548847364888838,
          4.513526455434746,
          4.614957560873213,
          4.541753808444944,
          4.538807485551233,
          4.614445785111063,
          4.605540803182123,
          4.614822328530966,
          4.610370775868115,
          4.609313471354115,
          4.6029813393574415,
          4.551646299091082,
          4.571192879195386,
          4.614994642599538,
          4.614035759483523,
          2.8081723677223636,
          4.557500268686164,
          4.49932667074502,
          4.5119965085768365,
          4.525064899738242,
          4.533742639271044,
          4.593173959838087,
          3.814558245373115,
          4.577151459227082,
          4.614293041872809,
          4.582831210182017,
          6.848622023830299,
          5.328205554520868,
          5.234336038975899,
          4.611959782281179,
          4.579547662964522,
          4.613570561006458,
          4.6061460649980495,
          4.469708627307348,
          4.592278767176972,
          4.497870042243747,
          4.582852919604667,
          4.61512051684126,
          4.61512051684126,
          4.61512051684126,
          4.61512051684126,
          4.61512051684126,
          4.61512051684126,
          4.61512051684126,
          4.61512051684126,
          4.61512051684126,
          4.61512051684126
         ]
        }
       ],
       "layout": {
        "template": {
         "data": {
          "bar": [
           {
            "error_x": {
             "color": "#2a3f5f"
            },
            "error_y": {
             "color": "#2a3f5f"
            },
            "marker": {
             "line": {
              "color": "#E5ECF6",
              "width": 0.5
             }
            },
            "type": "bar"
           }
          ],
          "barpolar": [
           {
            "marker": {
             "line": {
              "color": "#E5ECF6",
              "width": 0.5
             }
            },
            "type": "barpolar"
           }
          ],
          "carpet": [
           {
            "aaxis": {
             "endlinecolor": "#2a3f5f",
             "gridcolor": "white",
             "linecolor": "white",
             "minorgridcolor": "white",
             "startlinecolor": "#2a3f5f"
            },
            "baxis": {
             "endlinecolor": "#2a3f5f",
             "gridcolor": "white",
             "linecolor": "white",
             "minorgridcolor": "white",
             "startlinecolor": "#2a3f5f"
            },
            "type": "carpet"
           }
          ],
          "choropleth": [
           {
            "colorbar": {
             "outlinewidth": 0,
             "ticks": ""
            },
            "type": "choropleth"
           }
          ],
          "contour": [
           {
            "colorbar": {
             "outlinewidth": 0,
             "ticks": ""
            },
            "colorscale": [
             [
              0,
              "#0d0887"
             ],
             [
              0.1111111111111111,
              "#46039f"
             ],
             [
              0.2222222222222222,
              "#7201a8"
             ],
             [
              0.3333333333333333,
              "#9c179e"
             ],
             [
              0.4444444444444444,
              "#bd3786"
             ],
             [
              0.5555555555555556,
              "#d8576b"
             ],
             [
              0.6666666666666666,
              "#ed7953"
             ],
             [
              0.7777777777777778,
              "#fb9f3a"
             ],
             [
              0.8888888888888888,
              "#fdca26"
             ],
             [
              1,
              "#f0f921"
             ]
            ],
            "type": "contour"
           }
          ],
          "contourcarpet": [
           {
            "colorbar": {
             "outlinewidth": 0,
             "ticks": ""
            },
            "type": "contourcarpet"
           }
          ],
          "heatmap": [
           {
            "colorbar": {
             "outlinewidth": 0,
             "ticks": ""
            },
            "colorscale": [
             [
              0,
              "#0d0887"
             ],
             [
              0.1111111111111111,
              "#46039f"
             ],
             [
              0.2222222222222222,
              "#7201a8"
             ],
             [
              0.3333333333333333,
              "#9c179e"
             ],
             [
              0.4444444444444444,
              "#bd3786"
             ],
             [
              0.5555555555555556,
              "#d8576b"
             ],
             [
              0.6666666666666666,
              "#ed7953"
             ],
             [
              0.7777777777777778,
              "#fb9f3a"
             ],
             [
              0.8888888888888888,
              "#fdca26"
             ],
             [
              1,
              "#f0f921"
             ]
            ],
            "type": "heatmap"
           }
          ],
          "heatmapgl": [
           {
            "colorbar": {
             "outlinewidth": 0,
             "ticks": ""
            },
            "colorscale": [
             [
              0,
              "#0d0887"
             ],
             [
              0.1111111111111111,
              "#46039f"
             ],
             [
              0.2222222222222222,
              "#7201a8"
             ],
             [
              0.3333333333333333,
              "#9c179e"
             ],
             [
              0.4444444444444444,
              "#bd3786"
             ],
             [
              0.5555555555555556,
              "#d8576b"
             ],
             [
              0.6666666666666666,
              "#ed7953"
             ],
             [
              0.7777777777777778,
              "#fb9f3a"
             ],
             [
              0.8888888888888888,
              "#fdca26"
             ],
             [
              1,
              "#f0f921"
             ]
            ],
            "type": "heatmapgl"
           }
          ],
          "histogram": [
           {
            "marker": {
             "colorbar": {
              "outlinewidth": 0,
              "ticks": ""
             }
            },
            "type": "histogram"
           }
          ],
          "histogram2d": [
           {
            "colorbar": {
             "outlinewidth": 0,
             "ticks": ""
            },
            "colorscale": [
             [
              0,
              "#0d0887"
             ],
             [
              0.1111111111111111,
              "#46039f"
             ],
             [
              0.2222222222222222,
              "#7201a8"
             ],
             [
              0.3333333333333333,
              "#9c179e"
             ],
             [
              0.4444444444444444,
              "#bd3786"
             ],
             [
              0.5555555555555556,
              "#d8576b"
             ],
             [
              0.6666666666666666,
              "#ed7953"
             ],
             [
              0.7777777777777778,
              "#fb9f3a"
             ],
             [
              0.8888888888888888,
              "#fdca26"
             ],
             [
              1,
              "#f0f921"
             ]
            ],
            "type": "histogram2d"
           }
          ],
          "histogram2dcontour": [
           {
            "colorbar": {
             "outlinewidth": 0,
             "ticks": ""
            },
            "colorscale": [
             [
              0,
              "#0d0887"
             ],
             [
              0.1111111111111111,
              "#46039f"
             ],
             [
              0.2222222222222222,
              "#7201a8"
             ],
             [
              0.3333333333333333,
              "#9c179e"
             ],
             [
              0.4444444444444444,
              "#bd3786"
             ],
             [
              0.5555555555555556,
              "#d8576b"
             ],
             [
              0.6666666666666666,
              "#ed7953"
             ],
             [
              0.7777777777777778,
              "#fb9f3a"
             ],
             [
              0.8888888888888888,
              "#fdca26"
             ],
             [
              1,
              "#f0f921"
             ]
            ],
            "type": "histogram2dcontour"
           }
          ],
          "mesh3d": [
           {
            "colorbar": {
             "outlinewidth": 0,
             "ticks": ""
            },
            "type": "mesh3d"
           }
          ],
          "parcoords": [
           {
            "line": {
             "colorbar": {
              "outlinewidth": 0,
              "ticks": ""
             }
            },
            "type": "parcoords"
           }
          ],
          "scatter": [
           {
            "marker": {
             "colorbar": {
              "outlinewidth": 0,
              "ticks": ""
             }
            },
            "type": "scatter"
           }
          ],
          "scatter3d": [
           {
            "line": {
             "colorbar": {
              "outlinewidth": 0,
              "ticks": ""
             }
            },
            "marker": {
             "colorbar": {
              "outlinewidth": 0,
              "ticks": ""
             }
            },
            "type": "scatter3d"
           }
          ],
          "scattercarpet": [
           {
            "marker": {
             "colorbar": {
              "outlinewidth": 0,
              "ticks": ""
             }
            },
            "type": "scattercarpet"
           }
          ],
          "scattergeo": [
           {
            "marker": {
             "colorbar": {
              "outlinewidth": 0,
              "ticks": ""
             }
            },
            "type": "scattergeo"
           }
          ],
          "scattergl": [
           {
            "marker": {
             "colorbar": {
              "outlinewidth": 0,
              "ticks": ""
             }
            },
            "type": "scattergl"
           }
          ],
          "scattermapbox": [
           {
            "marker": {
             "colorbar": {
              "outlinewidth": 0,
              "ticks": ""
             }
            },
            "type": "scattermapbox"
           }
          ],
          "scatterpolar": [
           {
            "marker": {
             "colorbar": {
              "outlinewidth": 0,
              "ticks": ""
             }
            },
            "type": "scatterpolar"
           }
          ],
          "scatterpolargl": [
           {
            "marker": {
             "colorbar": {
              "outlinewidth": 0,
              "ticks": ""
             }
            },
            "type": "scatterpolargl"
           }
          ],
          "scatterternary": [
           {
            "marker": {
             "colorbar": {
              "outlinewidth": 0,
              "ticks": ""
             }
            },
            "type": "scatterternary"
           }
          ],
          "surface": [
           {
            "colorbar": {
             "outlinewidth": 0,
             "ticks": ""
            },
            "colorscale": [
             [
              0,
              "#0d0887"
             ],
             [
              0.1111111111111111,
              "#46039f"
             ],
             [
              0.2222222222222222,
              "#7201a8"
             ],
             [
              0.3333333333333333,
              "#9c179e"
             ],
             [
              0.4444444444444444,
              "#bd3786"
             ],
             [
              0.5555555555555556,
              "#d8576b"
             ],
             [
              0.6666666666666666,
              "#ed7953"
             ],
             [
              0.7777777777777778,
              "#fb9f3a"
             ],
             [
              0.8888888888888888,
              "#fdca26"
             ],
             [
              1,
              "#f0f921"
             ]
            ],
            "type": "surface"
           }
          ],
          "table": [
           {
            "cells": {
             "fill": {
              "color": "#EBF0F8"
             },
             "line": {
              "color": "white"
             }
            },
            "header": {
             "fill": {
              "color": "#C8D4E3"
             },
             "line": {
              "color": "white"
             }
            },
            "type": "table"
           }
          ]
         },
         "layout": {
          "annotationdefaults": {
           "arrowcolor": "#2a3f5f",
           "arrowhead": 0,
           "arrowwidth": 1
          },
          "colorscale": {
           "diverging": [
            [
             0,
             "#8e0152"
            ],
            [
             0.1,
             "#c51b7d"
            ],
            [
             0.2,
             "#de77ae"
            ],
            [
             0.3,
             "#f1b6da"
            ],
            [
             0.4,
             "#fde0ef"
            ],
            [
             0.5,
             "#f7f7f7"
            ],
            [
             0.6,
             "#e6f5d0"
            ],
            [
             0.7,
             "#b8e186"
            ],
            [
             0.8,
             "#7fbc41"
            ],
            [
             0.9,
             "#4d9221"
            ],
            [
             1,
             "#276419"
            ]
           ],
           "sequential": [
            [
             0,
             "#0d0887"
            ],
            [
             0.1111111111111111,
             "#46039f"
            ],
            [
             0.2222222222222222,
             "#7201a8"
            ],
            [
             0.3333333333333333,
             "#9c179e"
            ],
            [
             0.4444444444444444,
             "#bd3786"
            ],
            [
             0.5555555555555556,
             "#d8576b"
            ],
            [
             0.6666666666666666,
             "#ed7953"
            ],
            [
             0.7777777777777778,
             "#fb9f3a"
            ],
            [
             0.8888888888888888,
             "#fdca26"
            ],
            [
             1,
             "#f0f921"
            ]
           ],
           "sequentialminus": [
            [
             0,
             "#0d0887"
            ],
            [
             0.1111111111111111,
             "#46039f"
            ],
            [
             0.2222222222222222,
             "#7201a8"
            ],
            [
             0.3333333333333333,
             "#9c179e"
            ],
            [
             0.4444444444444444,
             "#bd3786"
            ],
            [
             0.5555555555555556,
             "#d8576b"
            ],
            [
             0.6666666666666666,
             "#ed7953"
            ],
            [
             0.7777777777777778,
             "#fb9f3a"
            ],
            [
             0.8888888888888888,
             "#fdca26"
            ],
            [
             1,
             "#f0f921"
            ]
           ]
          },
          "colorway": [
           "#636efa",
           "#EF553B",
           "#00cc96",
           "#ab63fa",
           "#FFA15A",
           "#19d3f3",
           "#FF6692",
           "#B6E880",
           "#FF97FF",
           "#FECB52"
          ],
          "font": {
           "color": "#2a3f5f"
          },
          "geo": {
           "bgcolor": "white",
           "lakecolor": "white",
           "landcolor": "#E5ECF6",
           "showlakes": true,
           "showland": true,
           "subunitcolor": "white"
          },
          "hoverlabel": {
           "align": "left"
          },
          "hovermode": "closest",
          "mapbox": {
           "style": "light"
          },
          "paper_bgcolor": "white",
          "plot_bgcolor": "#E5ECF6",
          "polar": {
           "angularaxis": {
            "gridcolor": "white",
            "linecolor": "white",
            "ticks": ""
           },
           "bgcolor": "#E5ECF6",
           "radialaxis": {
            "gridcolor": "white",
            "linecolor": "white",
            "ticks": ""
           }
          },
          "scene": {
           "xaxis": {
            "backgroundcolor": "#E5ECF6",
            "gridcolor": "white",
            "gridwidth": 2,
            "linecolor": "white",
            "showbackground": true,
            "ticks": "",
            "zerolinecolor": "white"
           },
           "yaxis": {
            "backgroundcolor": "#E5ECF6",
            "gridcolor": "white",
            "gridwidth": 2,
            "linecolor": "white",
            "showbackground": true,
            "ticks": "",
            "zerolinecolor": "white"
           },
           "zaxis": {
            "backgroundcolor": "#E5ECF6",
            "gridcolor": "white",
            "gridwidth": 2,
            "linecolor": "white",
            "showbackground": true,
            "ticks": "",
            "zerolinecolor": "white"
           }
          },
          "shapedefaults": {
           "line": {
            "color": "#2a3f5f"
           }
          },
          "ternary": {
           "aaxis": {
            "gridcolor": "white",
            "linecolor": "white",
            "ticks": ""
           },
           "baxis": {
            "gridcolor": "white",
            "linecolor": "white",
            "ticks": ""
           },
           "bgcolor": "#E5ECF6",
           "caxis": {
            "gridcolor": "white",
            "linecolor": "white",
            "ticks": ""
           }
          },
          "title": {
           "x": 0.05
          },
          "xaxis": {
           "automargin": true,
           "gridcolor": "white",
           "linecolor": "white",
           "ticks": "",
           "zerolinecolor": "white",
           "zerolinewidth": 2
          },
          "yaxis": {
           "automargin": true,
           "gridcolor": "white",
           "linecolor": "white",
           "ticks": "",
           "zerolinecolor": "white",
           "zerolinewidth": 2
          }
         }
        },
        "title": {
         "text": "Percentage of error for video prediction"
        }
       }
      },
      "text/html": [
       "<div>\n",
       "        \n",
       "        \n",
       "            <div id=\"2c96c377-efcd-4ecf-bd11-1dd6b3b495ab\" class=\"plotly-graph-div\" style=\"height:525px; width:100%;\"></div>\n",
       "            <script type=\"text/javascript\">\n",
       "                require([\"plotly\"], function(Plotly) {\n",
       "                    window.PLOTLYENV=window.PLOTLYENV || {};\n",
       "                    \n",
       "                if (document.getElementById(\"2c96c377-efcd-4ecf-bd11-1dd6b3b495ab\")) {\n",
       "                    Plotly.newPlot(\n",
       "                        '2c96c377-efcd-4ecf-bd11-1dd6b3b495ab',\n",
       "                        [{\"marker\": {\"color\": [3.974801761305966, 4.615090400105385, 4.6150535222479965, 3.2194611242534816, 4.013184636631852, 4.4985069679877325, 4.586866138311376, 7.442973553091742, 4.393403678860028, 4.490298338461397, 4.607363560341631, 4.5988103552942174, 4.603333339929329, 4.591046434374928, 4.60999275727944, 5.045387042239288, 3.9576634127957004, 4.499240404812956, 4.607471106841963, 4.544501899679676, 4.59280935142219, 4.611074988352673, 4.6084467320584555, 4.615027557289214, 4.58162497783245, 4.614504137614609, 4.613963834089147, 4.6150943636356905, 4.456040791083159, 4.615108090454854, 4.614617991644572, 5.005468853993811, 4.615078645955686, 4.596487982048945, 4.614591015849182, 4.611693885474533, 4.590635413020492, 4.590930945613731, 4.592601528571536, 4.402288854434633, 7.696256021876558, 4.610021242626641, 4.613877371764637, 7.369978351438137, 4.56459483745793, 4.605841092666638, 4.614485714572686, 1.0444060897669272, 3.8169055746653626, 4.603649760037725, 4.501777629989145, 4.5166720294801435, 4.615006280816345, 4.220348813624966, 3.600451549168728, 4.548847364888838, 4.513526455434746, 4.614957560873213, 4.541753808444944, 4.538807485551233, 4.614445785111063, 4.605540803182123, 4.614822328530966, 4.610370775868115, 4.609313471354115, 4.6029813393574415, 4.551646299091082, 4.571192879195386, 4.614994642599538, 4.614035759483523, 2.8081723677223636, 4.557500268686164, 4.49932667074502, 4.5119965085768365, 4.525064899738242, 4.533742639271044, 4.593173959838087, 3.814558245373115, 4.577151459227082, 4.614293041872809, 4.582831210182017, 6.848622023830299, 5.328205554520868, 5.234336038975899, 4.611959782281179, 4.579547662964522, 4.613570561006458, 4.6061460649980495, 4.469708627307348, 4.592278767176972, 4.497870042243747, 4.582852919604667, 4.61512051684126, 4.61512051684126, 4.61512051684126, 4.61512051684126, 4.61512051684126, 4.61512051684126, 4.61512051684126, 4.61512051684126, 4.61512051684126, 4.61512051684126]}, \"mode\": \"markers\", \"text\": [\"O Brother, Where Art Thou?\", \"The Twilight Saga: Breaking Dawn Part 1\", \"The Twilight Saga: Breaking Dawn Part 2\", \"Helena From the Wedding\", \"Monsters\", \"Catfish\", \"Red\", \"Freakonomics\", \"The Warrior's Way\", \"Stone\", \"Frankenweenie\", \"John Carter\", \"Dolphin Tale\", \"Penguins of Madagascar\", \"Minions\", \"Proud American\", \"Edmond\", \"Tootsie\", \"Waterworld\", \"The Lion King (2019)\", \"Crawl\", \"Stuber\", \"Midsommar\", \"Spider-Man: Far from Home\", \"Yesterday\", \"Annabelle Comes Home\", \"Toy Story 4\", \"Child's Play (2019)\", \"Anna (2019)\", \"Men in Black International\", \"Shaft (2019)\\u00a0\", \"Late Night\", \"The Secret Life of Pets 2\", \"Dark Phoenix\", \"Godzilla:King of the Monsters\", \"Rocketman\", \"Return of the Jedi\", \"Indiana Jones and the Temple of Doom\", \"The Idolmaker\", \"The Grass Harp\", \"The Grand\", \"Jaws\", \"Superman (1978)\", \"Clerks\", \"Juice\", \"He Got Game\", \"White Men Can't Jump\", \"Mulholland Drive\", \"Blue Velvet\", \"Once Upon a Time in Hollywood\", \"The Big Lebowski\", \"Train to Busan\", \"Pride and Prejudice and Zombies\", \"Dead Poets Society\", \"A Fish Called Wanda\", \"The Witches of Eastwick\", \"Ferris Bueller's Day Off\", \"Back to the Future\", \"Police Academy\", \"Trading Places\", \"Star Trek II The Wrath of Khan\", \"The Blues Brothers\", \"V For Vendetta\", \"In the Line of Fire\", \"Us\", \"The Forbidden Kingdom\", \"Rumble in the Bronx\", \"Machete\", \"Beverly Hills Cop\", \"Watchmen\", \"Jackie Brown\", \"Zombieland\", \"Mo Better Blues\", \"Thelma and Louise\", \"New Jack City\", \"The Lawnmower Man\", \"Schindler's List\", \"Four Weddings and a Funeral\", \"Get Shorty\", \"Jerry Maguire\", \"Welcome to Sarajevo\", \"Trojan War\", \"The Gingerbread Man\", \"Tumbleweeds\", \"Turn it up\", \"The Adventures of Pluto Nash\", \"The Lord of the Rings: The Return of the King\", \"Harry Potter and the Prisoner of Azkaban\", \"Stay\", \"Fast Food Nation\", \"Into the Wild\", \"The Wrestler\", \"Slumdog Millionaire\", \"Jackass 3-D\", \"Skyfall\", \"The Hunger Games: Mocking Jay - Part 1\", \"Jurassic World\", \"Shut In\", \"Molly's Game\", \"BlacKkKlansman\", \"Peter Rabbit\", \"Replicas\"], \"type\": \"scatter\", \"x\": [\"O Brother, Where Art Thou?\", \"The Twilight Saga: Breaking Dawn Part 1\", \"The Twilight Saga: Breaking Dawn Part 2\", \"Helena From the Wedding\", \"Monsters\", \"Catfish\", \"Red\", \"Freakonomics\", \"The Warrior's Way\", \"Stone\", \"Frankenweenie\", \"John Carter\", \"Dolphin Tale\", \"Penguins of Madagascar\", \"Minions\", \"Proud American\", \"Edmond\", \"Tootsie\", \"Waterworld\", \"The Lion King (2019)\", \"Crawl\", \"Stuber\", \"Midsommar\", \"Spider-Man: Far from Home\", \"Yesterday\", \"Annabelle Comes Home\", \"Toy Story 4\", \"Child's Play (2019)\", \"Anna (2019)\", \"Men in Black International\", \"Shaft (2019)\\u00a0\", \"Late Night\", \"The Secret Life of Pets 2\", \"Dark Phoenix\", \"Godzilla:King of the Monsters\", \"Rocketman\", \"Return of the Jedi\", \"Indiana Jones and the Temple of Doom\", \"The Idolmaker\", \"The Grass Harp\", \"The Grand\", \"Jaws\", \"Superman (1978)\", \"Clerks\", \"Juice\", \"He Got Game\", \"White Men Can't Jump\", \"Mulholland Drive\", \"Blue Velvet\", \"Once Upon a Time in Hollywood\", \"The Big Lebowski\", \"Train to Busan\", \"Pride and Prejudice and Zombies\", \"Dead Poets Society\", \"A Fish Called Wanda\", \"The Witches of Eastwick\", \"Ferris Bueller's Day Off\", \"Back to the Future\", \"Police Academy\", \"Trading Places\", \"Star Trek II The Wrath of Khan\", \"The Blues Brothers\", \"V For Vendetta\", \"In the Line of Fire\", \"Us\", \"The Forbidden Kingdom\", \"Rumble in the Bronx\", \"Machete\", \"Beverly Hills Cop\", \"Watchmen\", \"Jackie Brown\", \"Zombieland\", \"Mo Better Blues\", \"Thelma and Louise\", \"New Jack City\", \"The Lawnmower Man\", \"Schindler's List\", \"Four Weddings and a Funeral\", \"Get Shorty\", \"Jerry Maguire\", \"Welcome to Sarajevo\", \"Trojan War\", \"The Gingerbread Man\", \"Tumbleweeds\", \"Turn it up\", \"The Adventures of Pluto Nash\", \"The Lord of the Rings: The Return of the King\", \"Harry Potter and the Prisoner of Azkaban\", \"Stay\", \"Fast Food Nation\", \"Into the Wild\", \"The Wrestler\", \"Slumdog Millionaire\", \"Jackass 3-D\", \"Skyfall\", \"The Hunger Games: Mocking Jay - Part 1\", \"Jurassic World\", \"Shut In\", \"Molly's Game\", \"BlacKkKlansman\", \"Peter Rabbit\", \"Replicas\"], \"y\": [3.974801761305966, 4.615090400105385, 4.6150535222479965, 3.2194611242534816, 4.013184636631852, 4.4985069679877325, 4.586866138311376, 7.442973553091742, 4.393403678860028, 4.490298338461397, 4.607363560341631, 4.5988103552942174, 4.603333339929329, 4.591046434374928, 4.60999275727944, 5.045387042239288, 3.9576634127957004, 4.499240404812956, 4.607471106841963, 4.544501899679676, 4.59280935142219, 4.611074988352673, 4.6084467320584555, 4.615027557289214, 4.58162497783245, 4.614504137614609, 4.613963834089147, 4.6150943636356905, 4.456040791083159, 4.615108090454854, 4.614617991644572, 5.005468853993811, 4.615078645955686, 4.596487982048945, 4.614591015849182, 4.611693885474533, 4.590635413020492, 4.590930945613731, 4.592601528571536, 4.402288854434633, 7.696256021876558, 4.610021242626641, 4.613877371764637, 7.369978351438137, 4.56459483745793, 4.605841092666638, 4.614485714572686, 1.0444060897669272, 3.8169055746653626, 4.603649760037725, 4.501777629989145, 4.5166720294801435, 4.615006280816345, 4.220348813624966, 3.600451549168728, 4.548847364888838, 4.513526455434746, 4.614957560873213, 4.541753808444944, 4.538807485551233, 4.614445785111063, 4.605540803182123, 4.614822328530966, 4.610370775868115, 4.609313471354115, 4.6029813393574415, 4.551646299091082, 4.571192879195386, 4.614994642599538, 4.614035759483523, 2.8081723677223636, 4.557500268686164, 4.49932667074502, 4.5119965085768365, 4.525064899738242, 4.533742639271044, 4.593173959838087, 3.814558245373115, 4.577151459227082, 4.614293041872809, 4.582831210182017, 6.848622023830299, 5.328205554520868, 5.234336038975899, 4.611959782281179, 4.579547662964522, 4.613570561006458, 4.6061460649980495, 4.469708627307348, 4.592278767176972, 4.497870042243747, 4.582852919604667, 4.61512051684126, 4.61512051684126, 4.61512051684126, 4.61512051684126, 4.61512051684126, 4.61512051684126, 4.61512051684126, 4.61512051684126, 4.61512051684126, 4.61512051684126]}],\n",
       "                        {\"template\": {\"data\": {\"bar\": [{\"error_x\": {\"color\": \"#2a3f5f\"}, \"error_y\": {\"color\": \"#2a3f5f\"}, \"marker\": {\"line\": {\"color\": \"#E5ECF6\", \"width\": 0.5}}, \"type\": \"bar\"}], \"barpolar\": [{\"marker\": {\"line\": {\"color\": \"#E5ECF6\", \"width\": 0.5}}, \"type\": \"barpolar\"}], \"carpet\": [{\"aaxis\": {\"endlinecolor\": \"#2a3f5f\", \"gridcolor\": \"white\", \"linecolor\": \"white\", \"minorgridcolor\": \"white\", \"startlinecolor\": \"#2a3f5f\"}, \"baxis\": {\"endlinecolor\": \"#2a3f5f\", \"gridcolor\": \"white\", \"linecolor\": \"white\", \"minorgridcolor\": \"white\", \"startlinecolor\": \"#2a3f5f\"}, \"type\": \"carpet\"}], \"choropleth\": [{\"colorbar\": {\"outlinewidth\": 0, \"ticks\": \"\"}, \"type\": \"choropleth\"}], \"contour\": [{\"colorbar\": {\"outlinewidth\": 0, \"ticks\": \"\"}, \"colorscale\": [[0.0, \"#0d0887\"], [0.1111111111111111, \"#46039f\"], [0.2222222222222222, \"#7201a8\"], [0.3333333333333333, \"#9c179e\"], [0.4444444444444444, \"#bd3786\"], [0.5555555555555556, \"#d8576b\"], [0.6666666666666666, \"#ed7953\"], [0.7777777777777778, \"#fb9f3a\"], [0.8888888888888888, \"#fdca26\"], [1.0, \"#f0f921\"]], \"type\": \"contour\"}], \"contourcarpet\": [{\"colorbar\": {\"outlinewidth\": 0, \"ticks\": \"\"}, \"type\": \"contourcarpet\"}], \"heatmap\": [{\"colorbar\": {\"outlinewidth\": 0, \"ticks\": \"\"}, \"colorscale\": [[0.0, \"#0d0887\"], [0.1111111111111111, \"#46039f\"], [0.2222222222222222, \"#7201a8\"], [0.3333333333333333, \"#9c179e\"], [0.4444444444444444, \"#bd3786\"], [0.5555555555555556, \"#d8576b\"], [0.6666666666666666, \"#ed7953\"], [0.7777777777777778, \"#fb9f3a\"], [0.8888888888888888, \"#fdca26\"], [1.0, \"#f0f921\"]], \"type\": \"heatmap\"}], \"heatmapgl\": [{\"colorbar\": {\"outlinewidth\": 0, \"ticks\": \"\"}, \"colorscale\": [[0.0, \"#0d0887\"], [0.1111111111111111, \"#46039f\"], [0.2222222222222222, \"#7201a8\"], [0.3333333333333333, \"#9c179e\"], [0.4444444444444444, \"#bd3786\"], [0.5555555555555556, \"#d8576b\"], [0.6666666666666666, \"#ed7953\"], [0.7777777777777778, \"#fb9f3a\"], [0.8888888888888888, \"#fdca26\"], [1.0, \"#f0f921\"]], \"type\": \"heatmapgl\"}], \"histogram\": [{\"marker\": {\"colorbar\": {\"outlinewidth\": 0, \"ticks\": \"\"}}, \"type\": \"histogram\"}], \"histogram2d\": [{\"colorbar\": {\"outlinewidth\": 0, \"ticks\": \"\"}, \"colorscale\": [[0.0, \"#0d0887\"], [0.1111111111111111, \"#46039f\"], [0.2222222222222222, \"#7201a8\"], [0.3333333333333333, \"#9c179e\"], [0.4444444444444444, \"#bd3786\"], [0.5555555555555556, \"#d8576b\"], [0.6666666666666666, \"#ed7953\"], [0.7777777777777778, \"#fb9f3a\"], [0.8888888888888888, \"#fdca26\"], [1.0, \"#f0f921\"]], \"type\": \"histogram2d\"}], \"histogram2dcontour\": [{\"colorbar\": {\"outlinewidth\": 0, \"ticks\": \"\"}, \"colorscale\": [[0.0, \"#0d0887\"], [0.1111111111111111, \"#46039f\"], [0.2222222222222222, \"#7201a8\"], [0.3333333333333333, \"#9c179e\"], [0.4444444444444444, \"#bd3786\"], [0.5555555555555556, \"#d8576b\"], [0.6666666666666666, \"#ed7953\"], [0.7777777777777778, \"#fb9f3a\"], [0.8888888888888888, \"#fdca26\"], [1.0, \"#f0f921\"]], \"type\": \"histogram2dcontour\"}], \"mesh3d\": [{\"colorbar\": {\"outlinewidth\": 0, \"ticks\": \"\"}, \"type\": \"mesh3d\"}], \"parcoords\": [{\"line\": {\"colorbar\": {\"outlinewidth\": 0, \"ticks\": \"\"}}, \"type\": \"parcoords\"}], \"scatter\": [{\"marker\": {\"colorbar\": {\"outlinewidth\": 0, \"ticks\": \"\"}}, \"type\": \"scatter\"}], \"scatter3d\": [{\"line\": {\"colorbar\": {\"outlinewidth\": 0, \"ticks\": \"\"}}, \"marker\": {\"colorbar\": {\"outlinewidth\": 0, \"ticks\": \"\"}}, \"type\": \"scatter3d\"}], \"scattercarpet\": [{\"marker\": {\"colorbar\": {\"outlinewidth\": 0, \"ticks\": \"\"}}, \"type\": \"scattercarpet\"}], \"scattergeo\": [{\"marker\": {\"colorbar\": {\"outlinewidth\": 0, \"ticks\": \"\"}}, \"type\": \"scattergeo\"}], \"scattergl\": [{\"marker\": {\"colorbar\": {\"outlinewidth\": 0, \"ticks\": \"\"}}, \"type\": \"scattergl\"}], \"scattermapbox\": [{\"marker\": {\"colorbar\": {\"outlinewidth\": 0, \"ticks\": \"\"}}, \"type\": \"scattermapbox\"}], \"scatterpolar\": [{\"marker\": {\"colorbar\": {\"outlinewidth\": 0, \"ticks\": \"\"}}, \"type\": \"scatterpolar\"}], \"scatterpolargl\": [{\"marker\": {\"colorbar\": {\"outlinewidth\": 0, \"ticks\": \"\"}}, \"type\": \"scatterpolargl\"}], \"scatterternary\": [{\"marker\": {\"colorbar\": {\"outlinewidth\": 0, \"ticks\": \"\"}}, \"type\": \"scatterternary\"}], \"surface\": [{\"colorbar\": {\"outlinewidth\": 0, \"ticks\": \"\"}, \"colorscale\": [[0.0, \"#0d0887\"], [0.1111111111111111, \"#46039f\"], [0.2222222222222222, \"#7201a8\"], [0.3333333333333333, \"#9c179e\"], [0.4444444444444444, \"#bd3786\"], [0.5555555555555556, \"#d8576b\"], [0.6666666666666666, \"#ed7953\"], [0.7777777777777778, \"#fb9f3a\"], [0.8888888888888888, \"#fdca26\"], [1.0, \"#f0f921\"]], \"type\": \"surface\"}], \"table\": [{\"cells\": {\"fill\": {\"color\": \"#EBF0F8\"}, \"line\": {\"color\": \"white\"}}, \"header\": {\"fill\": {\"color\": \"#C8D4E3\"}, \"line\": {\"color\": \"white\"}}, \"type\": \"table\"}]}, \"layout\": {\"annotationdefaults\": {\"arrowcolor\": \"#2a3f5f\", \"arrowhead\": 0, \"arrowwidth\": 1}, \"colorscale\": {\"diverging\": [[0, \"#8e0152\"], [0.1, \"#c51b7d\"], [0.2, \"#de77ae\"], [0.3, \"#f1b6da\"], [0.4, \"#fde0ef\"], [0.5, \"#f7f7f7\"], [0.6, \"#e6f5d0\"], [0.7, \"#b8e186\"], [0.8, \"#7fbc41\"], [0.9, \"#4d9221\"], [1, \"#276419\"]], \"sequential\": [[0.0, \"#0d0887\"], [0.1111111111111111, \"#46039f\"], [0.2222222222222222, \"#7201a8\"], [0.3333333333333333, \"#9c179e\"], [0.4444444444444444, \"#bd3786\"], [0.5555555555555556, \"#d8576b\"], [0.6666666666666666, \"#ed7953\"], [0.7777777777777778, \"#fb9f3a\"], [0.8888888888888888, \"#fdca26\"], [1.0, \"#f0f921\"]], \"sequentialminus\": [[0.0, \"#0d0887\"], [0.1111111111111111, \"#46039f\"], [0.2222222222222222, \"#7201a8\"], [0.3333333333333333, \"#9c179e\"], [0.4444444444444444, \"#bd3786\"], [0.5555555555555556, \"#d8576b\"], [0.6666666666666666, \"#ed7953\"], [0.7777777777777778, \"#fb9f3a\"], [0.8888888888888888, \"#fdca26\"], [1.0, \"#f0f921\"]]}, \"colorway\": [\"#636efa\", \"#EF553B\", \"#00cc96\", \"#ab63fa\", \"#FFA15A\", \"#19d3f3\", \"#FF6692\", \"#B6E880\", \"#FF97FF\", \"#FECB52\"], \"font\": {\"color\": \"#2a3f5f\"}, \"geo\": {\"bgcolor\": \"white\", \"lakecolor\": \"white\", \"landcolor\": \"#E5ECF6\", \"showlakes\": true, \"showland\": true, \"subunitcolor\": \"white\"}, \"hoverlabel\": {\"align\": \"left\"}, \"hovermode\": \"closest\", \"mapbox\": {\"style\": \"light\"}, \"paper_bgcolor\": \"white\", \"plot_bgcolor\": \"#E5ECF6\", \"polar\": {\"angularaxis\": {\"gridcolor\": \"white\", \"linecolor\": \"white\", \"ticks\": \"\"}, \"bgcolor\": \"#E5ECF6\", \"radialaxis\": {\"gridcolor\": \"white\", \"linecolor\": \"white\", \"ticks\": \"\"}}, \"scene\": {\"xaxis\": {\"backgroundcolor\": \"#E5ECF6\", \"gridcolor\": \"white\", \"gridwidth\": 2, \"linecolor\": \"white\", \"showbackground\": true, \"ticks\": \"\", \"zerolinecolor\": \"white\"}, \"yaxis\": {\"backgroundcolor\": \"#E5ECF6\", \"gridcolor\": \"white\", \"gridwidth\": 2, \"linecolor\": \"white\", \"showbackground\": true, \"ticks\": \"\", \"zerolinecolor\": \"white\"}, \"zaxis\": {\"backgroundcolor\": \"#E5ECF6\", \"gridcolor\": \"white\", \"gridwidth\": 2, \"linecolor\": \"white\", \"showbackground\": true, \"ticks\": \"\", \"zerolinecolor\": \"white\"}}, \"shapedefaults\": {\"line\": {\"color\": \"#2a3f5f\"}}, \"ternary\": {\"aaxis\": {\"gridcolor\": \"white\", \"linecolor\": \"white\", \"ticks\": \"\"}, \"baxis\": {\"gridcolor\": \"white\", \"linecolor\": \"white\", \"ticks\": \"\"}, \"bgcolor\": \"#E5ECF6\", \"caxis\": {\"gridcolor\": \"white\", \"linecolor\": \"white\", \"ticks\": \"\"}}, \"title\": {\"x\": 0.05}, \"xaxis\": {\"automargin\": true, \"gridcolor\": \"white\", \"linecolor\": \"white\", \"ticks\": \"\", \"zerolinecolor\": \"white\", \"zerolinewidth\": 2}, \"yaxis\": {\"automargin\": true, \"gridcolor\": \"white\", \"linecolor\": \"white\", \"ticks\": \"\", \"zerolinecolor\": \"white\", \"zerolinewidth\": 2}}}, \"title\": {\"text\": \"Percentage of error for video prediction\"}},\n",
       "                        {\"responsive\": true}\n",
       "                    ).then(function(){\n",
       "                            \n",
       "var gd = document.getElementById('2c96c377-efcd-4ecf-bd11-1dd6b3b495ab');\n",
       "var x = new MutationObserver(function (mutations, observer) {{\n",
       "        var display = window.getComputedStyle(gd).display;\n",
       "        if (!display || display === 'none') {{\n",
       "            console.log([gd, 'removed!']);\n",
       "            Plotly.purge(gd);\n",
       "            observer.disconnect();\n",
       "        }}\n",
       "}});\n",
       "\n",
       "// Listen for the removal of the full notebook cells\n",
       "var notebookContainer = gd.closest('#notebook-container');\n",
       "if (notebookContainer) {{\n",
       "    x.observe(notebookContainer, {childList: true});\n",
       "}}\n",
       "\n",
       "// Listen for the clearing of the current output cell\n",
       "var outputEl = gd.closest('.output');\n",
       "if (outputEl) {{\n",
       "    x.observe(outputEl, {childList: true});\n",
       "}}\n",
       "\n",
       "                        })\n",
       "                };\n",
       "                });\n",
       "            </script>\n",
       "        </div>"
      ]
     },
     "metadata": {},
     "output_type": "display_data"
    }
   ],
   "source": [
    "#Percentage of error for video prediction\n",
    "g4_result_final['video_rmse_pre'] = mean_absolute_percentage_error(g4_result_final[\"ground_truth\"], g4_result_final[\"video_prediction\"])\n",
    "fig = go.Figure(data=go.Scatter(x=g4_result_final[\"name\"],\n",
    "                                y=g4_result_final['video_rmse_pre'],\n",
    "                                mode='markers',\n",
    "                                marker_color=g4_result_final['video_rmse_pre'],\n",
    "                                text=g4_result_final[\"name\"])) # hover text goes here(movie_title)\n",
    "\n",
    "fig.update_layout(title='Percentage of error for video prediction')\n",
    "fig.show()"
   ]
  },
  {
   "cell_type": "code",
   "execution_count": 35,
   "metadata": {},
   "outputs": [
    {
     "data": {
      "text/plain": [
       "4.6045952816099245"
      ]
     },
     "execution_count": 35,
     "metadata": {},
     "output_type": "execute_result"
    }
   ],
   "source": [
    "# Median for Percentage of error for video prediction\n",
    "Median_video = np.median(g4_result_final['video_rmse_pre'])\n",
    "Median_video"
   ]
  },
  {
   "cell_type": "code",
   "execution_count": 36,
   "metadata": {},
   "outputs": [
    {
     "data": {
      "application/vnd.plotly.v1+json": {
       "config": {
        "plotlyServerURL": "https://plot.ly"
       },
       "data": [
        {
         "marker": {
          "color": [
           101921.47449499089,
           138118059.67369595,
           141058089.04328385,
           646.4740217854,
           11140.51433852,
           228682.1971992875,
           21149095.38075687,
           -544356.413453552,
           2436351.631622106,
           66786.2426228078,
           11323149.596849507,
           29687054.297914654,
           18925729.268066958,
           24836082.40714959,
           115120629.01628587,
           -148249.492393495,
           9883.5078965566,
           4928180.509136259,
           21008832.877332903,
           178564537.6900402,
           11737676.857445836,
           8191843.105512528,
           6515959.192443625,
           92570520.22070128,
           16444122.532456923,
           20257108.113627315,
           120766895.86358137,
           14094221.699866006,
           3065798.395140001,
           30035461.033043876,
           8896902.215786882,
           -365090.59227413207,
           46650707.11838721,
           32216275.84593003,
           47750749.192845754,
           25636840.277821604,
           22457256.718474016,
           24725514.176951025,
           311242.1159826783,
           94475.7146896669,
           -579109.794127265,
           7025236.892447312,
           7455975.514338519,
           -502396.70426207397,
           7683534.070302219,
           7539664.127857706,
           14701694.951669918,
           10821.723977967049,
           350997.35204237,
           40608783.1142322,
           4934932.154229523,
           257809.0791813228,
           5323625.732872961,
           -228300.32699970598,
           41105.8484032094,
           8841924.303323817,
           5663333.142847894,
           11150664.609450014,
           7957702.2826698795,
           6802900.297770012,
           14337446.967294483,
           4811371.328354487,
           25634618.442799337,
           15196310.792093014,
           70701720.64037369,
           21140317.24793814,
           9246009.954658505,
           13490730.138717405,
           15212870.818171652,
           55153873.701695725,
           1447694.058391299,
           23334456.7973173,
           3902843.676756048,
           5497483.730621245,
           6427309.7654717155,
           7140059.353377629,
           642239.5457383514,
           61427.840913470296,
           12222107.734138498,
           17070023.710229106,
           64772.4496334936,
           -2043.2311106745,
           -242550.16893517703,
           -149339.583674862,
           574981.500377201,
           2105850.065401144,
           72516102.4924603,
           92841965.49057493,
           1889100.060300081,
           401434.1028603284,
           188701.1102906465,
           196212.9461147232,
           360018,
           50353641,
           88364714,
           121897634,
           208806270,
           3613567,
           1172036,
           10845330,
           25010928,
           2375325
          ]
         },
         "mode": "markers",
         "text": [
          "O Brother, Where Art Thou?",
          "The Twilight Saga: Breaking Dawn Part 1",
          "The Twilight Saga: Breaking Dawn Part 2",
          "Helena From the Wedding",
          "Monsters",
          "Catfish",
          "Red",
          "Freakonomics",
          "The Warrior's Way",
          "Stone",
          "Frankenweenie",
          "John Carter",
          "Dolphin Tale",
          "Penguins of Madagascar",
          "Minions",
          "Proud American",
          "Edmond",
          "Tootsie",
          "Waterworld",
          "The Lion King (2019)",
          "Crawl",
          "Stuber",
          "Midsommar",
          "Spider-Man: Far from Home",
          "Yesterday",
          "Annabelle Comes Home",
          "Toy Story 4",
          "Child's Play (2019)",
          "Anna (2019)",
          "Men in Black International",
          "Shaft (2019) ",
          "Late Night",
          "The Secret Life of Pets 2",
          "Dark Phoenix",
          "Godzilla:King of the Monsters",
          "Rocketman",
          "Return of the Jedi",
          "Indiana Jones and the Temple of Doom",
          "The Idolmaker",
          "The Grass Harp",
          "The Grand",
          "Jaws",
          "Superman (1978)",
          "Clerks",
          "Juice",
          "He Got Game",
          "White Men Can't Jump",
          "Mulholland Drive",
          "Blue Velvet",
          "Once Upon a Time in Hollywood",
          "The Big Lebowski",
          "Train to Busan",
          "Pride and Prejudice and Zombies",
          "Dead Poets Society",
          "A Fish Called Wanda",
          "The Witches of Eastwick",
          "Ferris Bueller's Day Off",
          "Back to the Future",
          "Police Academy",
          "Trading Places",
          "Star Trek II The Wrath of Khan",
          "The Blues Brothers",
          "V For Vendetta",
          "In the Line of Fire",
          "Us",
          "The Forbidden Kingdom",
          "Rumble in the Bronx",
          "Machete",
          "Beverly Hills Cop",
          "Watchmen",
          "Jackie Brown",
          "Zombieland",
          "Mo Better Blues",
          "Thelma and Louise",
          "New Jack City",
          "The Lawnmower Man",
          "Schindler's List",
          "Four Weddings and a Funeral",
          "Get Shorty",
          "Jerry Maguire",
          "Welcome to Sarajevo",
          "Trojan War",
          "The Gingerbread Man",
          "Tumbleweeds",
          "Turn it up",
          "The Adventures of Pluto Nash",
          "The Lord of the Rings: The Return of the King",
          "Harry Potter and the Prisoner of Azkaban",
          "Stay",
          "Fast Food Nation",
          "Into the Wild",
          "The Wrestler",
          "Slumdog Millionaire",
          "Jackass 3-D",
          "Skyfall",
          "The Hunger Games: Mocking Jay - Part 1",
          "Jurassic World",
          "Shut In",
          "Molly's Game",
          "BlacKkKlansman",
          "Peter Rabbit",
          "Replicas"
         ],
         "type": "scatter",
         "x": [
          "O Brother, Where Art Thou?",
          "The Twilight Saga: Breaking Dawn Part 1",
          "The Twilight Saga: Breaking Dawn Part 2",
          "Helena From the Wedding",
          "Monsters",
          "Catfish",
          "Red",
          "Freakonomics",
          "The Warrior's Way",
          "Stone",
          "Frankenweenie",
          "John Carter",
          "Dolphin Tale",
          "Penguins of Madagascar",
          "Minions",
          "Proud American",
          "Edmond",
          "Tootsie",
          "Waterworld",
          "The Lion King (2019)",
          "Crawl",
          "Stuber",
          "Midsommar",
          "Spider-Man: Far from Home",
          "Yesterday",
          "Annabelle Comes Home",
          "Toy Story 4",
          "Child's Play (2019)",
          "Anna (2019)",
          "Men in Black International",
          "Shaft (2019) ",
          "Late Night",
          "The Secret Life of Pets 2",
          "Dark Phoenix",
          "Godzilla:King of the Monsters",
          "Rocketman",
          "Return of the Jedi",
          "Indiana Jones and the Temple of Doom",
          "The Idolmaker",
          "The Grass Harp",
          "The Grand",
          "Jaws",
          "Superman (1978)",
          "Clerks",
          "Juice",
          "He Got Game",
          "White Men Can't Jump",
          "Mulholland Drive",
          "Blue Velvet",
          "Once Upon a Time in Hollywood",
          "The Big Lebowski",
          "Train to Busan",
          "Pride and Prejudice and Zombies",
          "Dead Poets Society",
          "A Fish Called Wanda",
          "The Witches of Eastwick",
          "Ferris Bueller's Day Off",
          "Back to the Future",
          "Police Academy",
          "Trading Places",
          "Star Trek II The Wrath of Khan",
          "The Blues Brothers",
          "V For Vendetta",
          "In the Line of Fire",
          "Us",
          "The Forbidden Kingdom",
          "Rumble in the Bronx",
          "Machete",
          "Beverly Hills Cop",
          "Watchmen",
          "Jackie Brown",
          "Zombieland",
          "Mo Better Blues",
          "Thelma and Louise",
          "New Jack City",
          "The Lawnmower Man",
          "Schindler's List",
          "Four Weddings and a Funeral",
          "Get Shorty",
          "Jerry Maguire",
          "Welcome to Sarajevo",
          "Trojan War",
          "The Gingerbread Man",
          "Tumbleweeds",
          "Turn it up",
          "The Adventures of Pluto Nash",
          "The Lord of the Rings: The Return of the King",
          "Harry Potter and the Prisoner of Azkaban",
          "Stay",
          "Fast Food Nation",
          "Into the Wild",
          "The Wrestler",
          "Slumdog Millionaire",
          "Jackass 3-D",
          "Skyfall",
          "The Hunger Games: Mocking Jay - Part 1",
          "Jurassic World",
          "Shut In",
          "Molly's Game",
          "BlacKkKlansman",
          "Peter Rabbit",
          "Replicas"
         ],
         "y": [
          101921.47449499089,
          138118059.67369595,
          141058089.04328385,
          646.4740217854,
          11140.51433852,
          228682.1971992875,
          21149095.38075687,
          -544356.413453552,
          2436351.631622106,
          66786.2426228078,
          11323149.596849507,
          29687054.297914654,
          18925729.268066958,
          24836082.40714959,
          115120629.01628587,
          -148249.492393495,
          9883.5078965566,
          4928180.509136259,
          21008832.877332903,
          178564537.6900402,
          11737676.857445836,
          8191843.105512528,
          6515959.192443625,
          92570520.22070128,
          16444122.532456923,
          20257108.113627315,
          120766895.86358137,
          14094221.699866006,
          3065798.395140001,
          30035461.033043876,
          8896902.215786882,
          -365090.59227413207,
          46650707.11838721,
          32216275.84593003,
          47750749.192845754,
          25636840.277821604,
          22457256.718474016,
          24725514.176951025,
          311242.1159826783,
          94475.7146896669,
          -579109.794127265,
          7025236.892447312,
          7455975.514338519,
          -502396.70426207397,
          7683534.070302219,
          7539664.127857706,
          14701694.951669918,
          10821.723977967049,
          350997.35204237,
          40608783.1142322,
          4934932.154229523,
          257809.0791813228,
          5323625.732872961,
          -228300.32699970598,
          41105.8484032094,
          8841924.303323817,
          5663333.142847894,
          11150664.609450014,
          7957702.2826698795,
          6802900.297770012,
          14337446.967294483,
          4811371.328354487,
          25634618.442799337,
          15196310.792093014,
          70701720.64037369,
          21140317.24793814,
          9246009.954658505,
          13490730.138717405,
          15212870.818171652,
          55153873.701695725,
          1447694.058391299,
          23334456.7973173,
          3902843.676756048,
          5497483.730621245,
          6427309.7654717155,
          7140059.353377629,
          642239.5457383514,
          61427.840913470296,
          12222107.734138498,
          17070023.710229106,
          64772.4496334936,
          -2043.2311106745,
          -242550.16893517703,
          -149339.583674862,
          574981.500377201,
          2105850.065401144,
          72516102.4924603,
          92841965.49057493,
          1889100.060300081,
          401434.1028603284,
          188701.1102906465,
          196212.9461147232,
          360018,
          50353641,
          88364714,
          121897634,
          208806270,
          3613567,
          1172036,
          10845330,
          25010928,
          2375325
         ]
        }
       ],
       "layout": {
        "template": {
         "data": {
          "bar": [
           {
            "error_x": {
             "color": "#2a3f5f"
            },
            "error_y": {
             "color": "#2a3f5f"
            },
            "marker": {
             "line": {
              "color": "#E5ECF6",
              "width": 0.5
             }
            },
            "type": "bar"
           }
          ],
          "barpolar": [
           {
            "marker": {
             "line": {
              "color": "#E5ECF6",
              "width": 0.5
             }
            },
            "type": "barpolar"
           }
          ],
          "carpet": [
           {
            "aaxis": {
             "endlinecolor": "#2a3f5f",
             "gridcolor": "white",
             "linecolor": "white",
             "minorgridcolor": "white",
             "startlinecolor": "#2a3f5f"
            },
            "baxis": {
             "endlinecolor": "#2a3f5f",
             "gridcolor": "white",
             "linecolor": "white",
             "minorgridcolor": "white",
             "startlinecolor": "#2a3f5f"
            },
            "type": "carpet"
           }
          ],
          "choropleth": [
           {
            "colorbar": {
             "outlinewidth": 0,
             "ticks": ""
            },
            "type": "choropleth"
           }
          ],
          "contour": [
           {
            "colorbar": {
             "outlinewidth": 0,
             "ticks": ""
            },
            "colorscale": [
             [
              0,
              "#0d0887"
             ],
             [
              0.1111111111111111,
              "#46039f"
             ],
             [
              0.2222222222222222,
              "#7201a8"
             ],
             [
              0.3333333333333333,
              "#9c179e"
             ],
             [
              0.4444444444444444,
              "#bd3786"
             ],
             [
              0.5555555555555556,
              "#d8576b"
             ],
             [
              0.6666666666666666,
              "#ed7953"
             ],
             [
              0.7777777777777778,
              "#fb9f3a"
             ],
             [
              0.8888888888888888,
              "#fdca26"
             ],
             [
              1,
              "#f0f921"
             ]
            ],
            "type": "contour"
           }
          ],
          "contourcarpet": [
           {
            "colorbar": {
             "outlinewidth": 0,
             "ticks": ""
            },
            "type": "contourcarpet"
           }
          ],
          "heatmap": [
           {
            "colorbar": {
             "outlinewidth": 0,
             "ticks": ""
            },
            "colorscale": [
             [
              0,
              "#0d0887"
             ],
             [
              0.1111111111111111,
              "#46039f"
             ],
             [
              0.2222222222222222,
              "#7201a8"
             ],
             [
              0.3333333333333333,
              "#9c179e"
             ],
             [
              0.4444444444444444,
              "#bd3786"
             ],
             [
              0.5555555555555556,
              "#d8576b"
             ],
             [
              0.6666666666666666,
              "#ed7953"
             ],
             [
              0.7777777777777778,
              "#fb9f3a"
             ],
             [
              0.8888888888888888,
              "#fdca26"
             ],
             [
              1,
              "#f0f921"
             ]
            ],
            "type": "heatmap"
           }
          ],
          "heatmapgl": [
           {
            "colorbar": {
             "outlinewidth": 0,
             "ticks": ""
            },
            "colorscale": [
             [
              0,
              "#0d0887"
             ],
             [
              0.1111111111111111,
              "#46039f"
             ],
             [
              0.2222222222222222,
              "#7201a8"
             ],
             [
              0.3333333333333333,
              "#9c179e"
             ],
             [
              0.4444444444444444,
              "#bd3786"
             ],
             [
              0.5555555555555556,
              "#d8576b"
             ],
             [
              0.6666666666666666,
              "#ed7953"
             ],
             [
              0.7777777777777778,
              "#fb9f3a"
             ],
             [
              0.8888888888888888,
              "#fdca26"
             ],
             [
              1,
              "#f0f921"
             ]
            ],
            "type": "heatmapgl"
           }
          ],
          "histogram": [
           {
            "marker": {
             "colorbar": {
              "outlinewidth": 0,
              "ticks": ""
             }
            },
            "type": "histogram"
           }
          ],
          "histogram2d": [
           {
            "colorbar": {
             "outlinewidth": 0,
             "ticks": ""
            },
            "colorscale": [
             [
              0,
              "#0d0887"
             ],
             [
              0.1111111111111111,
              "#46039f"
             ],
             [
              0.2222222222222222,
              "#7201a8"
             ],
             [
              0.3333333333333333,
              "#9c179e"
             ],
             [
              0.4444444444444444,
              "#bd3786"
             ],
             [
              0.5555555555555556,
              "#d8576b"
             ],
             [
              0.6666666666666666,
              "#ed7953"
             ],
             [
              0.7777777777777778,
              "#fb9f3a"
             ],
             [
              0.8888888888888888,
              "#fdca26"
             ],
             [
              1,
              "#f0f921"
             ]
            ],
            "type": "histogram2d"
           }
          ],
          "histogram2dcontour": [
           {
            "colorbar": {
             "outlinewidth": 0,
             "ticks": ""
            },
            "colorscale": [
             [
              0,
              "#0d0887"
             ],
             [
              0.1111111111111111,
              "#46039f"
             ],
             [
              0.2222222222222222,
              "#7201a8"
             ],
             [
              0.3333333333333333,
              "#9c179e"
             ],
             [
              0.4444444444444444,
              "#bd3786"
             ],
             [
              0.5555555555555556,
              "#d8576b"
             ],
             [
              0.6666666666666666,
              "#ed7953"
             ],
             [
              0.7777777777777778,
              "#fb9f3a"
             ],
             [
              0.8888888888888888,
              "#fdca26"
             ],
             [
              1,
              "#f0f921"
             ]
            ],
            "type": "histogram2dcontour"
           }
          ],
          "mesh3d": [
           {
            "colorbar": {
             "outlinewidth": 0,
             "ticks": ""
            },
            "type": "mesh3d"
           }
          ],
          "parcoords": [
           {
            "line": {
             "colorbar": {
              "outlinewidth": 0,
              "ticks": ""
             }
            },
            "type": "parcoords"
           }
          ],
          "scatter": [
           {
            "marker": {
             "colorbar": {
              "outlinewidth": 0,
              "ticks": ""
             }
            },
            "type": "scatter"
           }
          ],
          "scatter3d": [
           {
            "line": {
             "colorbar": {
              "outlinewidth": 0,
              "ticks": ""
             }
            },
            "marker": {
             "colorbar": {
              "outlinewidth": 0,
              "ticks": ""
             }
            },
            "type": "scatter3d"
           }
          ],
          "scattercarpet": [
           {
            "marker": {
             "colorbar": {
              "outlinewidth": 0,
              "ticks": ""
             }
            },
            "type": "scattercarpet"
           }
          ],
          "scattergeo": [
           {
            "marker": {
             "colorbar": {
              "outlinewidth": 0,
              "ticks": ""
             }
            },
            "type": "scattergeo"
           }
          ],
          "scattergl": [
           {
            "marker": {
             "colorbar": {
              "outlinewidth": 0,
              "ticks": ""
             }
            },
            "type": "scattergl"
           }
          ],
          "scattermapbox": [
           {
            "marker": {
             "colorbar": {
              "outlinewidth": 0,
              "ticks": ""
             }
            },
            "type": "scattermapbox"
           }
          ],
          "scatterpolar": [
           {
            "marker": {
             "colorbar": {
              "outlinewidth": 0,
              "ticks": ""
             }
            },
            "type": "scatterpolar"
           }
          ],
          "scatterpolargl": [
           {
            "marker": {
             "colorbar": {
              "outlinewidth": 0,
              "ticks": ""
             }
            },
            "type": "scatterpolargl"
           }
          ],
          "scatterternary": [
           {
            "marker": {
             "colorbar": {
              "outlinewidth": 0,
              "ticks": ""
             }
            },
            "type": "scatterternary"
           }
          ],
          "surface": [
           {
            "colorbar": {
             "outlinewidth": 0,
             "ticks": ""
            },
            "colorscale": [
             [
              0,
              "#0d0887"
             ],
             [
              0.1111111111111111,
              "#46039f"
             ],
             [
              0.2222222222222222,
              "#7201a8"
             ],
             [
              0.3333333333333333,
              "#9c179e"
             ],
             [
              0.4444444444444444,
              "#bd3786"
             ],
             [
              0.5555555555555556,
              "#d8576b"
             ],
             [
              0.6666666666666666,
              "#ed7953"
             ],
             [
              0.7777777777777778,
              "#fb9f3a"
             ],
             [
              0.8888888888888888,
              "#fdca26"
             ],
             [
              1,
              "#f0f921"
             ]
            ],
            "type": "surface"
           }
          ],
          "table": [
           {
            "cells": {
             "fill": {
              "color": "#EBF0F8"
             },
             "line": {
              "color": "white"
             }
            },
            "header": {
             "fill": {
              "color": "#C8D4E3"
             },
             "line": {
              "color": "white"
             }
            },
            "type": "table"
           }
          ]
         },
         "layout": {
          "annotationdefaults": {
           "arrowcolor": "#2a3f5f",
           "arrowhead": 0,
           "arrowwidth": 1
          },
          "colorscale": {
           "diverging": [
            [
             0,
             "#8e0152"
            ],
            [
             0.1,
             "#c51b7d"
            ],
            [
             0.2,
             "#de77ae"
            ],
            [
             0.3,
             "#f1b6da"
            ],
            [
             0.4,
             "#fde0ef"
            ],
            [
             0.5,
             "#f7f7f7"
            ],
            [
             0.6,
             "#e6f5d0"
            ],
            [
             0.7,
             "#b8e186"
            ],
            [
             0.8,
             "#7fbc41"
            ],
            [
             0.9,
             "#4d9221"
            ],
            [
             1,
             "#276419"
            ]
           ],
           "sequential": [
            [
             0,
             "#0d0887"
            ],
            [
             0.1111111111111111,
             "#46039f"
            ],
            [
             0.2222222222222222,
             "#7201a8"
            ],
            [
             0.3333333333333333,
             "#9c179e"
            ],
            [
             0.4444444444444444,
             "#bd3786"
            ],
            [
             0.5555555555555556,
             "#d8576b"
            ],
            [
             0.6666666666666666,
             "#ed7953"
            ],
            [
             0.7777777777777778,
             "#fb9f3a"
            ],
            [
             0.8888888888888888,
             "#fdca26"
            ],
            [
             1,
             "#f0f921"
            ]
           ],
           "sequentialminus": [
            [
             0,
             "#0d0887"
            ],
            [
             0.1111111111111111,
             "#46039f"
            ],
            [
             0.2222222222222222,
             "#7201a8"
            ],
            [
             0.3333333333333333,
             "#9c179e"
            ],
            [
             0.4444444444444444,
             "#bd3786"
            ],
            [
             0.5555555555555556,
             "#d8576b"
            ],
            [
             0.6666666666666666,
             "#ed7953"
            ],
            [
             0.7777777777777778,
             "#fb9f3a"
            ],
            [
             0.8888888888888888,
             "#fdca26"
            ],
            [
             1,
             "#f0f921"
            ]
           ]
          },
          "colorway": [
           "#636efa",
           "#EF553B",
           "#00cc96",
           "#ab63fa",
           "#FFA15A",
           "#19d3f3",
           "#FF6692",
           "#B6E880",
           "#FF97FF",
           "#FECB52"
          ],
          "font": {
           "color": "#2a3f5f"
          },
          "geo": {
           "bgcolor": "white",
           "lakecolor": "white",
           "landcolor": "#E5ECF6",
           "showlakes": true,
           "showland": true,
           "subunitcolor": "white"
          },
          "hoverlabel": {
           "align": "left"
          },
          "hovermode": "closest",
          "mapbox": {
           "style": "light"
          },
          "paper_bgcolor": "white",
          "plot_bgcolor": "#E5ECF6",
          "polar": {
           "angularaxis": {
            "gridcolor": "white",
            "linecolor": "white",
            "ticks": ""
           },
           "bgcolor": "#E5ECF6",
           "radialaxis": {
            "gridcolor": "white",
            "linecolor": "white",
            "ticks": ""
           }
          },
          "scene": {
           "xaxis": {
            "backgroundcolor": "#E5ECF6",
            "gridcolor": "white",
            "gridwidth": 2,
            "linecolor": "white",
            "showbackground": true,
            "ticks": "",
            "zerolinecolor": "white"
           },
           "yaxis": {
            "backgroundcolor": "#E5ECF6",
            "gridcolor": "white",
            "gridwidth": 2,
            "linecolor": "white",
            "showbackground": true,
            "ticks": "",
            "zerolinecolor": "white"
           },
           "zaxis": {
            "backgroundcolor": "#E5ECF6",
            "gridcolor": "white",
            "gridwidth": 2,
            "linecolor": "white",
            "showbackground": true,
            "ticks": "",
            "zerolinecolor": "white"
           }
          },
          "shapedefaults": {
           "line": {
            "color": "#2a3f5f"
           }
          },
          "ternary": {
           "aaxis": {
            "gridcolor": "white",
            "linecolor": "white",
            "ticks": ""
           },
           "baxis": {
            "gridcolor": "white",
            "linecolor": "white",
            "ticks": ""
           },
           "bgcolor": "#E5ECF6",
           "caxis": {
            "gridcolor": "white",
            "linecolor": "white",
            "ticks": ""
           }
          },
          "title": {
           "x": 0.05
          },
          "xaxis": {
           "automargin": true,
           "gridcolor": "white",
           "linecolor": "white",
           "ticks": "",
           "zerolinecolor": "white",
           "zerolinewidth": 2
          },
          "yaxis": {
           "automargin": true,
           "gridcolor": "white",
           "linecolor": "white",
           "ticks": "",
           "zerolinecolor": "white",
           "zerolinewidth": 2
          }
         }
        },
        "title": {
         "text": "Video residual plot of Group 4"
        }
       }
      },
      "text/html": [
       "<div>\n",
       "        \n",
       "        \n",
       "            <div id=\"ba82803e-fbf6-4d12-8062-7aced73361be\" class=\"plotly-graph-div\" style=\"height:525px; width:100%;\"></div>\n",
       "            <script type=\"text/javascript\">\n",
       "                require([\"plotly\"], function(Plotly) {\n",
       "                    window.PLOTLYENV=window.PLOTLYENV || {};\n",
       "                    \n",
       "                if (document.getElementById(\"ba82803e-fbf6-4d12-8062-7aced73361be\")) {\n",
       "                    Plotly.newPlot(\n",
       "                        'ba82803e-fbf6-4d12-8062-7aced73361be',\n",
       "                        [{\"marker\": {\"color\": [101921.47449499089, 138118059.67369595, 141058089.04328385, 646.4740217854, 11140.51433852, 228682.1971992875, 21149095.38075687, -544356.413453552, 2436351.631622106, 66786.2426228078, 11323149.596849507, 29687054.297914654, 18925729.268066958, 24836082.40714959, 115120629.01628587, -148249.492393495, 9883.5078965566, 4928180.509136259, 21008832.877332903, 178564537.6900402, 11737676.857445836, 8191843.105512528, 6515959.192443625, 92570520.22070128, 16444122.532456923, 20257108.113627315, 120766895.86358137, 14094221.699866006, 3065798.395140001, 30035461.033043876, 8896902.215786882, -365090.59227413207, 46650707.11838721, 32216275.84593003, 47750749.192845754, 25636840.277821604, 22457256.718474016, 24725514.176951025, 311242.1159826783, 94475.7146896669, -579109.794127265, 7025236.892447312, 7455975.514338519, -502396.70426207397, 7683534.070302219, 7539664.127857706, 14701694.951669918, 10821.723977967049, 350997.35204237, 40608783.1142322, 4934932.154229523, 257809.0791813228, 5323625.732872961, -228300.32699970598, 41105.8484032094, 8841924.303323817, 5663333.142847894, 11150664.609450014, 7957702.2826698795, 6802900.297770012, 14337446.967294483, 4811371.328354487, 25634618.442799337, 15196310.792093014, 70701720.64037369, 21140317.24793814, 9246009.954658505, 13490730.138717405, 15212870.818171652, 55153873.701695725, 1447694.058391299, 23334456.7973173, 3902843.676756048, 5497483.730621245, 6427309.7654717155, 7140059.353377629, 642239.5457383514, 61427.840913470296, 12222107.734138498, 17070023.710229106, 64772.4496334936, -2043.2311106745, -242550.16893517703, -149339.583674862, 574981.500377201, 2105850.065401144, 72516102.4924603, 92841965.49057493, 1889100.060300081, 401434.1028603284, 188701.1102906465, 196212.9461147232, 360018.0, 50353641.0, 88364714.0, 121897634.0, 208806270.0, 3613567.0, 1172036.0, 10845330.0, 25010928.0, 2375325.0]}, \"mode\": \"markers\", \"text\": [\"O Brother, Where Art Thou?\", \"The Twilight Saga: Breaking Dawn Part 1\", \"The Twilight Saga: Breaking Dawn Part 2\", \"Helena From the Wedding\", \"Monsters\", \"Catfish\", \"Red\", \"Freakonomics\", \"The Warrior's Way\", \"Stone\", \"Frankenweenie\", \"John Carter\", \"Dolphin Tale\", \"Penguins of Madagascar\", \"Minions\", \"Proud American\", \"Edmond\", \"Tootsie\", \"Waterworld\", \"The Lion King (2019)\", \"Crawl\", \"Stuber\", \"Midsommar\", \"Spider-Man: Far from Home\", \"Yesterday\", \"Annabelle Comes Home\", \"Toy Story 4\", \"Child's Play (2019)\", \"Anna (2019)\", \"Men in Black International\", \"Shaft (2019)\\u00a0\", \"Late Night\", \"The Secret Life of Pets 2\", \"Dark Phoenix\", \"Godzilla:King of the Monsters\", \"Rocketman\", \"Return of the Jedi\", \"Indiana Jones and the Temple of Doom\", \"The Idolmaker\", \"The Grass Harp\", \"The Grand\", \"Jaws\", \"Superman (1978)\", \"Clerks\", \"Juice\", \"He Got Game\", \"White Men Can't Jump\", \"Mulholland Drive\", \"Blue Velvet\", \"Once Upon a Time in Hollywood\", \"The Big Lebowski\", \"Train to Busan\", \"Pride and Prejudice and Zombies\", \"Dead Poets Society\", \"A Fish Called Wanda\", \"The Witches of Eastwick\", \"Ferris Bueller's Day Off\", \"Back to the Future\", \"Police Academy\", \"Trading Places\", \"Star Trek II The Wrath of Khan\", \"The Blues Brothers\", \"V For Vendetta\", \"In the Line of Fire\", \"Us\", \"The Forbidden Kingdom\", \"Rumble in the Bronx\", \"Machete\", \"Beverly Hills Cop\", \"Watchmen\", \"Jackie Brown\", \"Zombieland\", \"Mo Better Blues\", \"Thelma and Louise\", \"New Jack City\", \"The Lawnmower Man\", \"Schindler's List\", \"Four Weddings and a Funeral\", \"Get Shorty\", \"Jerry Maguire\", \"Welcome to Sarajevo\", \"Trojan War\", \"The Gingerbread Man\", \"Tumbleweeds\", \"Turn it up\", \"The Adventures of Pluto Nash\", \"The Lord of the Rings: The Return of the King\", \"Harry Potter and the Prisoner of Azkaban\", \"Stay\", \"Fast Food Nation\", \"Into the Wild\", \"The Wrestler\", \"Slumdog Millionaire\", \"Jackass 3-D\", \"Skyfall\", \"The Hunger Games: Mocking Jay - Part 1\", \"Jurassic World\", \"Shut In\", \"Molly's Game\", \"BlacKkKlansman\", \"Peter Rabbit\", \"Replicas\"], \"type\": \"scatter\", \"x\": [\"O Brother, Where Art Thou?\", \"The Twilight Saga: Breaking Dawn Part 1\", \"The Twilight Saga: Breaking Dawn Part 2\", \"Helena From the Wedding\", \"Monsters\", \"Catfish\", \"Red\", \"Freakonomics\", \"The Warrior's Way\", \"Stone\", \"Frankenweenie\", \"John Carter\", \"Dolphin Tale\", \"Penguins of Madagascar\", \"Minions\", \"Proud American\", \"Edmond\", \"Tootsie\", \"Waterworld\", \"The Lion King (2019)\", \"Crawl\", \"Stuber\", \"Midsommar\", \"Spider-Man: Far from Home\", \"Yesterday\", \"Annabelle Comes Home\", \"Toy Story 4\", \"Child's Play (2019)\", \"Anna (2019)\", \"Men in Black International\", \"Shaft (2019)\\u00a0\", \"Late Night\", \"The Secret Life of Pets 2\", \"Dark Phoenix\", \"Godzilla:King of the Monsters\", \"Rocketman\", \"Return of the Jedi\", \"Indiana Jones and the Temple of Doom\", \"The Idolmaker\", \"The Grass Harp\", \"The Grand\", \"Jaws\", \"Superman (1978)\", \"Clerks\", \"Juice\", \"He Got Game\", \"White Men Can't Jump\", \"Mulholland Drive\", \"Blue Velvet\", \"Once Upon a Time in Hollywood\", \"The Big Lebowski\", \"Train to Busan\", \"Pride and Prejudice and Zombies\", \"Dead Poets Society\", \"A Fish Called Wanda\", \"The Witches of Eastwick\", \"Ferris Bueller's Day Off\", \"Back to the Future\", \"Police Academy\", \"Trading Places\", \"Star Trek II The Wrath of Khan\", \"The Blues Brothers\", \"V For Vendetta\", \"In the Line of Fire\", \"Us\", \"The Forbidden Kingdom\", \"Rumble in the Bronx\", \"Machete\", \"Beverly Hills Cop\", \"Watchmen\", \"Jackie Brown\", \"Zombieland\", \"Mo Better Blues\", \"Thelma and Louise\", \"New Jack City\", \"The Lawnmower Man\", \"Schindler's List\", \"Four Weddings and a Funeral\", \"Get Shorty\", \"Jerry Maguire\", \"Welcome to Sarajevo\", \"Trojan War\", \"The Gingerbread Man\", \"Tumbleweeds\", \"Turn it up\", \"The Adventures of Pluto Nash\", \"The Lord of the Rings: The Return of the King\", \"Harry Potter and the Prisoner of Azkaban\", \"Stay\", \"Fast Food Nation\", \"Into the Wild\", \"The Wrestler\", \"Slumdog Millionaire\", \"Jackass 3-D\", \"Skyfall\", \"The Hunger Games: Mocking Jay - Part 1\", \"Jurassic World\", \"Shut In\", \"Molly's Game\", \"BlacKkKlansman\", \"Peter Rabbit\", \"Replicas\"], \"y\": [101921.47449499089, 138118059.67369595, 141058089.04328385, 646.4740217854, 11140.51433852, 228682.1971992875, 21149095.38075687, -544356.413453552, 2436351.631622106, 66786.2426228078, 11323149.596849507, 29687054.297914654, 18925729.268066958, 24836082.40714959, 115120629.01628587, -148249.492393495, 9883.5078965566, 4928180.509136259, 21008832.877332903, 178564537.6900402, 11737676.857445836, 8191843.105512528, 6515959.192443625, 92570520.22070128, 16444122.532456923, 20257108.113627315, 120766895.86358137, 14094221.699866006, 3065798.395140001, 30035461.033043876, 8896902.215786882, -365090.59227413207, 46650707.11838721, 32216275.84593003, 47750749.192845754, 25636840.277821604, 22457256.718474016, 24725514.176951025, 311242.1159826783, 94475.7146896669, -579109.794127265, 7025236.892447312, 7455975.514338519, -502396.70426207397, 7683534.070302219, 7539664.127857706, 14701694.951669918, 10821.723977967049, 350997.35204237, 40608783.1142322, 4934932.154229523, 257809.0791813228, 5323625.732872961, -228300.32699970598, 41105.8484032094, 8841924.303323817, 5663333.142847894, 11150664.609450014, 7957702.2826698795, 6802900.297770012, 14337446.967294483, 4811371.328354487, 25634618.442799337, 15196310.792093014, 70701720.64037369, 21140317.24793814, 9246009.954658505, 13490730.138717405, 15212870.818171652, 55153873.701695725, 1447694.058391299, 23334456.7973173, 3902843.676756048, 5497483.730621245, 6427309.7654717155, 7140059.353377629, 642239.5457383514, 61427.840913470296, 12222107.734138498, 17070023.710229106, 64772.4496334936, -2043.2311106745, -242550.16893517703, -149339.583674862, 574981.500377201, 2105850.065401144, 72516102.4924603, 92841965.49057493, 1889100.060300081, 401434.1028603284, 188701.1102906465, 196212.9461147232, 360018.0, 50353641.0, 88364714.0, 121897634.0, 208806270.0, 3613567.0, 1172036.0, 10845330.0, 25010928.0, 2375325.0]}],\n",
       "                        {\"template\": {\"data\": {\"bar\": [{\"error_x\": {\"color\": \"#2a3f5f\"}, \"error_y\": {\"color\": \"#2a3f5f\"}, \"marker\": {\"line\": {\"color\": \"#E5ECF6\", \"width\": 0.5}}, \"type\": \"bar\"}], \"barpolar\": [{\"marker\": {\"line\": {\"color\": \"#E5ECF6\", \"width\": 0.5}}, \"type\": \"barpolar\"}], \"carpet\": [{\"aaxis\": {\"endlinecolor\": \"#2a3f5f\", \"gridcolor\": \"white\", \"linecolor\": \"white\", \"minorgridcolor\": \"white\", \"startlinecolor\": \"#2a3f5f\"}, \"baxis\": {\"endlinecolor\": \"#2a3f5f\", \"gridcolor\": \"white\", \"linecolor\": \"white\", \"minorgridcolor\": \"white\", \"startlinecolor\": \"#2a3f5f\"}, \"type\": \"carpet\"}], \"choropleth\": [{\"colorbar\": {\"outlinewidth\": 0, \"ticks\": \"\"}, \"type\": \"choropleth\"}], \"contour\": [{\"colorbar\": {\"outlinewidth\": 0, \"ticks\": \"\"}, \"colorscale\": [[0.0, \"#0d0887\"], [0.1111111111111111, \"#46039f\"], [0.2222222222222222, \"#7201a8\"], [0.3333333333333333, \"#9c179e\"], [0.4444444444444444, \"#bd3786\"], [0.5555555555555556, \"#d8576b\"], [0.6666666666666666, \"#ed7953\"], [0.7777777777777778, \"#fb9f3a\"], [0.8888888888888888, \"#fdca26\"], [1.0, \"#f0f921\"]], \"type\": \"contour\"}], \"contourcarpet\": [{\"colorbar\": {\"outlinewidth\": 0, \"ticks\": \"\"}, \"type\": \"contourcarpet\"}], \"heatmap\": [{\"colorbar\": {\"outlinewidth\": 0, \"ticks\": \"\"}, \"colorscale\": [[0.0, \"#0d0887\"], [0.1111111111111111, \"#46039f\"], [0.2222222222222222, \"#7201a8\"], [0.3333333333333333, \"#9c179e\"], [0.4444444444444444, \"#bd3786\"], [0.5555555555555556, \"#d8576b\"], [0.6666666666666666, \"#ed7953\"], [0.7777777777777778, \"#fb9f3a\"], [0.8888888888888888, \"#fdca26\"], [1.0, \"#f0f921\"]], \"type\": \"heatmap\"}], \"heatmapgl\": [{\"colorbar\": {\"outlinewidth\": 0, \"ticks\": \"\"}, \"colorscale\": [[0.0, \"#0d0887\"], [0.1111111111111111, \"#46039f\"], [0.2222222222222222, \"#7201a8\"], [0.3333333333333333, \"#9c179e\"], [0.4444444444444444, \"#bd3786\"], [0.5555555555555556, \"#d8576b\"], [0.6666666666666666, \"#ed7953\"], [0.7777777777777778, \"#fb9f3a\"], [0.8888888888888888, \"#fdca26\"], [1.0, \"#f0f921\"]], \"type\": \"heatmapgl\"}], \"histogram\": [{\"marker\": {\"colorbar\": {\"outlinewidth\": 0, \"ticks\": \"\"}}, \"type\": \"histogram\"}], \"histogram2d\": [{\"colorbar\": {\"outlinewidth\": 0, \"ticks\": \"\"}, \"colorscale\": [[0.0, \"#0d0887\"], [0.1111111111111111, \"#46039f\"], [0.2222222222222222, \"#7201a8\"], [0.3333333333333333, \"#9c179e\"], [0.4444444444444444, \"#bd3786\"], [0.5555555555555556, \"#d8576b\"], [0.6666666666666666, \"#ed7953\"], [0.7777777777777778, \"#fb9f3a\"], [0.8888888888888888, \"#fdca26\"], [1.0, \"#f0f921\"]], \"type\": \"histogram2d\"}], \"histogram2dcontour\": [{\"colorbar\": {\"outlinewidth\": 0, \"ticks\": \"\"}, \"colorscale\": [[0.0, \"#0d0887\"], [0.1111111111111111, \"#46039f\"], [0.2222222222222222, \"#7201a8\"], [0.3333333333333333, \"#9c179e\"], [0.4444444444444444, \"#bd3786\"], [0.5555555555555556, \"#d8576b\"], [0.6666666666666666, \"#ed7953\"], [0.7777777777777778, \"#fb9f3a\"], [0.8888888888888888, \"#fdca26\"], [1.0, \"#f0f921\"]], \"type\": \"histogram2dcontour\"}], \"mesh3d\": [{\"colorbar\": {\"outlinewidth\": 0, \"ticks\": \"\"}, \"type\": \"mesh3d\"}], \"parcoords\": [{\"line\": {\"colorbar\": {\"outlinewidth\": 0, \"ticks\": \"\"}}, \"type\": \"parcoords\"}], \"scatter\": [{\"marker\": {\"colorbar\": {\"outlinewidth\": 0, \"ticks\": \"\"}}, \"type\": \"scatter\"}], \"scatter3d\": [{\"line\": {\"colorbar\": {\"outlinewidth\": 0, \"ticks\": \"\"}}, \"marker\": {\"colorbar\": {\"outlinewidth\": 0, \"ticks\": \"\"}}, \"type\": \"scatter3d\"}], \"scattercarpet\": [{\"marker\": {\"colorbar\": {\"outlinewidth\": 0, \"ticks\": \"\"}}, \"type\": \"scattercarpet\"}], \"scattergeo\": [{\"marker\": {\"colorbar\": {\"outlinewidth\": 0, \"ticks\": \"\"}}, \"type\": \"scattergeo\"}], \"scattergl\": [{\"marker\": {\"colorbar\": {\"outlinewidth\": 0, \"ticks\": \"\"}}, \"type\": \"scattergl\"}], \"scattermapbox\": [{\"marker\": {\"colorbar\": {\"outlinewidth\": 0, \"ticks\": \"\"}}, \"type\": \"scattermapbox\"}], \"scatterpolar\": [{\"marker\": {\"colorbar\": {\"outlinewidth\": 0, \"ticks\": \"\"}}, \"type\": \"scatterpolar\"}], \"scatterpolargl\": [{\"marker\": {\"colorbar\": {\"outlinewidth\": 0, \"ticks\": \"\"}}, \"type\": \"scatterpolargl\"}], \"scatterternary\": [{\"marker\": {\"colorbar\": {\"outlinewidth\": 0, \"ticks\": \"\"}}, \"type\": \"scatterternary\"}], \"surface\": [{\"colorbar\": {\"outlinewidth\": 0, \"ticks\": \"\"}, \"colorscale\": [[0.0, \"#0d0887\"], [0.1111111111111111, \"#46039f\"], [0.2222222222222222, \"#7201a8\"], [0.3333333333333333, \"#9c179e\"], [0.4444444444444444, \"#bd3786\"], [0.5555555555555556, \"#d8576b\"], [0.6666666666666666, \"#ed7953\"], [0.7777777777777778, \"#fb9f3a\"], [0.8888888888888888, \"#fdca26\"], [1.0, \"#f0f921\"]], \"type\": \"surface\"}], \"table\": [{\"cells\": {\"fill\": {\"color\": \"#EBF0F8\"}, \"line\": {\"color\": \"white\"}}, \"header\": {\"fill\": {\"color\": \"#C8D4E3\"}, \"line\": {\"color\": \"white\"}}, \"type\": \"table\"}]}, \"layout\": {\"annotationdefaults\": {\"arrowcolor\": \"#2a3f5f\", \"arrowhead\": 0, \"arrowwidth\": 1}, \"colorscale\": {\"diverging\": [[0, \"#8e0152\"], [0.1, \"#c51b7d\"], [0.2, \"#de77ae\"], [0.3, \"#f1b6da\"], [0.4, \"#fde0ef\"], [0.5, \"#f7f7f7\"], [0.6, \"#e6f5d0\"], [0.7, \"#b8e186\"], [0.8, \"#7fbc41\"], [0.9, \"#4d9221\"], [1, \"#276419\"]], \"sequential\": [[0.0, \"#0d0887\"], [0.1111111111111111, \"#46039f\"], [0.2222222222222222, \"#7201a8\"], [0.3333333333333333, \"#9c179e\"], [0.4444444444444444, \"#bd3786\"], [0.5555555555555556, \"#d8576b\"], [0.6666666666666666, \"#ed7953\"], [0.7777777777777778, \"#fb9f3a\"], [0.8888888888888888, \"#fdca26\"], [1.0, \"#f0f921\"]], \"sequentialminus\": [[0.0, \"#0d0887\"], [0.1111111111111111, \"#46039f\"], [0.2222222222222222, \"#7201a8\"], [0.3333333333333333, \"#9c179e\"], [0.4444444444444444, \"#bd3786\"], [0.5555555555555556, \"#d8576b\"], [0.6666666666666666, \"#ed7953\"], [0.7777777777777778, \"#fb9f3a\"], [0.8888888888888888, \"#fdca26\"], [1.0, \"#f0f921\"]]}, \"colorway\": [\"#636efa\", \"#EF553B\", \"#00cc96\", \"#ab63fa\", \"#FFA15A\", \"#19d3f3\", \"#FF6692\", \"#B6E880\", \"#FF97FF\", \"#FECB52\"], \"font\": {\"color\": \"#2a3f5f\"}, \"geo\": {\"bgcolor\": \"white\", \"lakecolor\": \"white\", \"landcolor\": \"#E5ECF6\", \"showlakes\": true, \"showland\": true, \"subunitcolor\": \"white\"}, \"hoverlabel\": {\"align\": \"left\"}, \"hovermode\": \"closest\", \"mapbox\": {\"style\": \"light\"}, \"paper_bgcolor\": \"white\", \"plot_bgcolor\": \"#E5ECF6\", \"polar\": {\"angularaxis\": {\"gridcolor\": \"white\", \"linecolor\": \"white\", \"ticks\": \"\"}, \"bgcolor\": \"#E5ECF6\", \"radialaxis\": {\"gridcolor\": \"white\", \"linecolor\": \"white\", \"ticks\": \"\"}}, \"scene\": {\"xaxis\": {\"backgroundcolor\": \"#E5ECF6\", \"gridcolor\": \"white\", \"gridwidth\": 2, \"linecolor\": \"white\", \"showbackground\": true, \"ticks\": \"\", \"zerolinecolor\": \"white\"}, \"yaxis\": {\"backgroundcolor\": \"#E5ECF6\", \"gridcolor\": \"white\", \"gridwidth\": 2, \"linecolor\": \"white\", \"showbackground\": true, \"ticks\": \"\", \"zerolinecolor\": \"white\"}, \"zaxis\": {\"backgroundcolor\": \"#E5ECF6\", \"gridcolor\": \"white\", \"gridwidth\": 2, \"linecolor\": \"white\", \"showbackground\": true, \"ticks\": \"\", \"zerolinecolor\": \"white\"}}, \"shapedefaults\": {\"line\": {\"color\": \"#2a3f5f\"}}, \"ternary\": {\"aaxis\": {\"gridcolor\": \"white\", \"linecolor\": \"white\", \"ticks\": \"\"}, \"baxis\": {\"gridcolor\": \"white\", \"linecolor\": \"white\", \"ticks\": \"\"}, \"bgcolor\": \"#E5ECF6\", \"caxis\": {\"gridcolor\": \"white\", \"linecolor\": \"white\", \"ticks\": \"\"}}, \"title\": {\"x\": 0.05}, \"xaxis\": {\"automargin\": true, \"gridcolor\": \"white\", \"linecolor\": \"white\", \"ticks\": \"\", \"zerolinecolor\": \"white\", \"zerolinewidth\": 2}, \"yaxis\": {\"automargin\": true, \"gridcolor\": \"white\", \"linecolor\": \"white\", \"ticks\": \"\", \"zerolinecolor\": \"white\", \"zerolinewidth\": 2}}}, \"title\": {\"text\": \"Video residual plot of Group 4\"}},\n",
       "                        {\"responsive\": true}\n",
       "                    ).then(function(){\n",
       "                            \n",
       "var gd = document.getElementById('ba82803e-fbf6-4d12-8062-7aced73361be');\n",
       "var x = new MutationObserver(function (mutations, observer) {{\n",
       "        var display = window.getComputedStyle(gd).display;\n",
       "        if (!display || display === 'none') {{\n",
       "            console.log([gd, 'removed!']);\n",
       "            Plotly.purge(gd);\n",
       "            observer.disconnect();\n",
       "        }}\n",
       "}});\n",
       "\n",
       "// Listen for the removal of the full notebook cells\n",
       "var notebookContainer = gd.closest('#notebook-container');\n",
       "if (notebookContainer) {{\n",
       "    x.observe(notebookContainer, {childList: true});\n",
       "}}\n",
       "\n",
       "// Listen for the clearing of the current output cell\n",
       "var outputEl = gd.closest('.output');\n",
       "if (outputEl) {{\n",
       "    x.observe(outputEl, {childList: true});\n",
       "}}\n",
       "\n",
       "                        })\n",
       "                };\n",
       "                });\n",
       "            </script>\n",
       "        </div>"
      ]
     },
     "metadata": {},
     "output_type": "display_data"
    }
   ],
   "source": [
    "# Residual plot for video information\n",
    "\n",
    "g4_result_final[\"video_residuals\"] = g4_result_final[\"ground_truth\"] - g4_result_final[\"video_prediction\"]\n",
    "\n",
    "fig = go.Figure(data=go.Scatter(x=g4_result_final[\"name\"],\n",
    "                                y=g4_result_final[\"video_residuals\"],\n",
    "                                mode='markers',\n",
    "                                marker_color=g4_result_final[\"video_residuals\"],\n",
    "                                text=g4_result_final[\"name\"])) # hover text goes here(movie_title)\n",
    "\n",
    "fig.update_layout(title='Video residual plot of Group 4')\n",
    "fig.show()"
   ]
  },
  {
   "cell_type": "code",
   "execution_count": 37,
   "metadata": {},
   "outputs": [
    {
     "name": "stdout",
     "output_type": "stream",
     "text": [
      "Test RMSE for meta prediction of Group 4 = 33061458.81144035.\n",
      "Test RMSE for video prediction of Group 4 = 46094575.98337922.\n"
     ]
    }
   ],
   "source": [
    "\n",
    "import numpy as np\n",
    "# rmse \n",
    "%matplotlib inline\n",
    "import matplotlib\n",
    "import matplotlib.pyplot as plt\n",
    "import seaborn as sns\n",
    "\n",
    "from pandas import Series,DataFrame\n",
    "\n",
    "def rmse(predictions, targets):\n",
    "    return np.sqrt(((predictions - targets) ** 2).mean())\n",
    "test_error_4 = []\n",
    "#Meta rmse \n",
    "test_error_4.append(rmse(g4_result_final[\"meta_prediction\"], g4_result_final[\"ground_truth\"]))\n",
    "\n",
    "#Video rmse \n",
    "test_error_4.append(rmse(g4_result_final[\"video_prediction\"], g4_result_final[\"ground_truth\"]))\n",
    "\n",
    "print(\"Test RMSE for meta prediction of Group 4 = \"'{}'.format(test_error_4[0])+\".\")\n",
    "print(\"Test RMSE for video prediction of Group 4 = \"'{}'.format(test_error_4[1])+\".\")\n",
    "\n",
    "\n",
    "#df_test_error = {'Group':'Group4','meta_rmse':test_error_4[0], 'video_rmse':test_error_4[1]}\n",
    "#df_test_error = DataFrame(df_test_error, index=[0])\n",
    "\n",
    "\n",
    "\n",
    "\n",
    "\n",
    "#bar plot can also be displayed by plotly!(swtich it later)\n",
    "#https://www.kaggle.com/mehmetkasap/data-visualization-tools-seaborn-and-plotly"
   ]
  },
  {
   "cell_type": "code",
   "execution_count": 38,
   "metadata": {},
   "outputs": [
    {
     "name": "stdout",
     "output_type": "stream",
     "text": [
      "Spearman coefficient for meta prediction of Group 4 = 0.8556864252958706.\n",
      "Pearson coefficient for meta prediction of Group 4 = 0.8556864252958706.\n",
      "Spearman coefficient for video prediction of Group 4 = 0.03774428547308085.\n",
      "Pearson coefficient for video prediction of Group 4 = 0.322801481579988.\n"
     ]
    }
   ],
   "source": [
    "#correlation coefficient \n",
    "#df = pd.DataFrame({'A':[5,91,3],'B':[90,15,66]})\n",
    "#co_df = pd.DataFrame({result_meta_data[\"openingBox\"], result_meta_data[\"prediction\"]})\n",
    "meta_spearman_co = g4_result_final[\"ground_truth\"].corr(g4_result_final[\"meta_prediction\"], method='spearman')\n",
    "print(\"Spearman coefficient for meta prediction of Group 4 = \"'{}'.format(meta_spearman_co)+\".\")\n",
    "\n",
    "meta_pearson_co = g4_result_final[\"ground_truth\"].corr(g4_result_final[\"meta_prediction\"], method='pearson')\n",
    "print(\"Pearson coefficient for meta prediction of Group 4 = \"'{}'.format(meta_spearman_co)+\".\")\n",
    "\n",
    "video_spearman_co = g4_result_final[\"ground_truth\"].corr(g4_result_final[\"video_prediction\"], method='spearman')\n",
    "print(\"Spearman coefficient for video prediction of Group 4 = \"'{}'.format(video_spearman_co)+\".\")\n",
    "\n",
    "video_pearson_co = g4_result_final[\"ground_truth\"].corr(g4_result_final[\"video_prediction\"], method='pearson')\n",
    "print(\"Pearson coefficient for video prediction of Group 4 = \"'{}'.format(video_pearson_co)+\".\")\n",
    "\n",
    "#kendall_co = result_meta_data[\"openingBox\"].corr(result_meta_data[\"prediction\"], method='kendall')\n",
    "#print(kendall_co)\n",
    "#print(co_df.corr('kendall'))\n",
    "\n"
   ]
  },
  {
   "cell_type": "code",
   "execution_count": 44,
   "metadata": {},
   "outputs": [
    {
     "data": {
      "application/vnd.plotly.v1+json": {
       "config": {
        "plotlyServerURL": "https://plot.ly"
       },
       "data": [
        {
         "fill": "toself",
         "r": [
          8.556864252958706,
          0.37744285473080846,
          1.7346352971399126,
          1.5293714787893575
         ],
         "theta": [
          "Spearman coefficient for meta prediction",
          "Spearman coefficient for video prediction",
          "RMSE performance for meta prediction",
          "Performance of Percentage of error for meta prediction"
         ],
         "type": "scatterpolar"
        }
       ],
       "layout": {
        "polar": {
         "radialaxis": {
          "range": [
           0,
           10
          ],
          "visible": true
         }
        },
        "showlegend": false,
        "template": {
         "data": {
          "bar": [
           {
            "error_x": {
             "color": "#2a3f5f"
            },
            "error_y": {
             "color": "#2a3f5f"
            },
            "marker": {
             "line": {
              "color": "#E5ECF6",
              "width": 0.5
             }
            },
            "type": "bar"
           }
          ],
          "barpolar": [
           {
            "marker": {
             "line": {
              "color": "#E5ECF6",
              "width": 0.5
             }
            },
            "type": "barpolar"
           }
          ],
          "carpet": [
           {
            "aaxis": {
             "endlinecolor": "#2a3f5f",
             "gridcolor": "white",
             "linecolor": "white",
             "minorgridcolor": "white",
             "startlinecolor": "#2a3f5f"
            },
            "baxis": {
             "endlinecolor": "#2a3f5f",
             "gridcolor": "white",
             "linecolor": "white",
             "minorgridcolor": "white",
             "startlinecolor": "#2a3f5f"
            },
            "type": "carpet"
           }
          ],
          "choropleth": [
           {
            "colorbar": {
             "outlinewidth": 0,
             "ticks": ""
            },
            "type": "choropleth"
           }
          ],
          "contour": [
           {
            "colorbar": {
             "outlinewidth": 0,
             "ticks": ""
            },
            "colorscale": [
             [
              0,
              "#0d0887"
             ],
             [
              0.1111111111111111,
              "#46039f"
             ],
             [
              0.2222222222222222,
              "#7201a8"
             ],
             [
              0.3333333333333333,
              "#9c179e"
             ],
             [
              0.4444444444444444,
              "#bd3786"
             ],
             [
              0.5555555555555556,
              "#d8576b"
             ],
             [
              0.6666666666666666,
              "#ed7953"
             ],
             [
              0.7777777777777778,
              "#fb9f3a"
             ],
             [
              0.8888888888888888,
              "#fdca26"
             ],
             [
              1,
              "#f0f921"
             ]
            ],
            "type": "contour"
           }
          ],
          "contourcarpet": [
           {
            "colorbar": {
             "outlinewidth": 0,
             "ticks": ""
            },
            "type": "contourcarpet"
           }
          ],
          "heatmap": [
           {
            "colorbar": {
             "outlinewidth": 0,
             "ticks": ""
            },
            "colorscale": [
             [
              0,
              "#0d0887"
             ],
             [
              0.1111111111111111,
              "#46039f"
             ],
             [
              0.2222222222222222,
              "#7201a8"
             ],
             [
              0.3333333333333333,
              "#9c179e"
             ],
             [
              0.4444444444444444,
              "#bd3786"
             ],
             [
              0.5555555555555556,
              "#d8576b"
             ],
             [
              0.6666666666666666,
              "#ed7953"
             ],
             [
              0.7777777777777778,
              "#fb9f3a"
             ],
             [
              0.8888888888888888,
              "#fdca26"
             ],
             [
              1,
              "#f0f921"
             ]
            ],
            "type": "heatmap"
           }
          ],
          "heatmapgl": [
           {
            "colorbar": {
             "outlinewidth": 0,
             "ticks": ""
            },
            "colorscale": [
             [
              0,
              "#0d0887"
             ],
             [
              0.1111111111111111,
              "#46039f"
             ],
             [
              0.2222222222222222,
              "#7201a8"
             ],
             [
              0.3333333333333333,
              "#9c179e"
             ],
             [
              0.4444444444444444,
              "#bd3786"
             ],
             [
              0.5555555555555556,
              "#d8576b"
             ],
             [
              0.6666666666666666,
              "#ed7953"
             ],
             [
              0.7777777777777778,
              "#fb9f3a"
             ],
             [
              0.8888888888888888,
              "#fdca26"
             ],
             [
              1,
              "#f0f921"
             ]
            ],
            "type": "heatmapgl"
           }
          ],
          "histogram": [
           {
            "marker": {
             "colorbar": {
              "outlinewidth": 0,
              "ticks": ""
             }
            },
            "type": "histogram"
           }
          ],
          "histogram2d": [
           {
            "colorbar": {
             "outlinewidth": 0,
             "ticks": ""
            },
            "colorscale": [
             [
              0,
              "#0d0887"
             ],
             [
              0.1111111111111111,
              "#46039f"
             ],
             [
              0.2222222222222222,
              "#7201a8"
             ],
             [
              0.3333333333333333,
              "#9c179e"
             ],
             [
              0.4444444444444444,
              "#bd3786"
             ],
             [
              0.5555555555555556,
              "#d8576b"
             ],
             [
              0.6666666666666666,
              "#ed7953"
             ],
             [
              0.7777777777777778,
              "#fb9f3a"
             ],
             [
              0.8888888888888888,
              "#fdca26"
             ],
             [
              1,
              "#f0f921"
             ]
            ],
            "type": "histogram2d"
           }
          ],
          "histogram2dcontour": [
           {
            "colorbar": {
             "outlinewidth": 0,
             "ticks": ""
            },
            "colorscale": [
             [
              0,
              "#0d0887"
             ],
             [
              0.1111111111111111,
              "#46039f"
             ],
             [
              0.2222222222222222,
              "#7201a8"
             ],
             [
              0.3333333333333333,
              "#9c179e"
             ],
             [
              0.4444444444444444,
              "#bd3786"
             ],
             [
              0.5555555555555556,
              "#d8576b"
             ],
             [
              0.6666666666666666,
              "#ed7953"
             ],
             [
              0.7777777777777778,
              "#fb9f3a"
             ],
             [
              0.8888888888888888,
              "#fdca26"
             ],
             [
              1,
              "#f0f921"
             ]
            ],
            "type": "histogram2dcontour"
           }
          ],
          "mesh3d": [
           {
            "colorbar": {
             "outlinewidth": 0,
             "ticks": ""
            },
            "type": "mesh3d"
           }
          ],
          "parcoords": [
           {
            "line": {
             "colorbar": {
              "outlinewidth": 0,
              "ticks": ""
             }
            },
            "type": "parcoords"
           }
          ],
          "scatter": [
           {
            "marker": {
             "colorbar": {
              "outlinewidth": 0,
              "ticks": ""
             }
            },
            "type": "scatter"
           }
          ],
          "scatter3d": [
           {
            "line": {
             "colorbar": {
              "outlinewidth": 0,
              "ticks": ""
             }
            },
            "marker": {
             "colorbar": {
              "outlinewidth": 0,
              "ticks": ""
             }
            },
            "type": "scatter3d"
           }
          ],
          "scattercarpet": [
           {
            "marker": {
             "colorbar": {
              "outlinewidth": 0,
              "ticks": ""
             }
            },
            "type": "scattercarpet"
           }
          ],
          "scattergeo": [
           {
            "marker": {
             "colorbar": {
              "outlinewidth": 0,
              "ticks": ""
             }
            },
            "type": "scattergeo"
           }
          ],
          "scattergl": [
           {
            "marker": {
             "colorbar": {
              "outlinewidth": 0,
              "ticks": ""
             }
            },
            "type": "scattergl"
           }
          ],
          "scattermapbox": [
           {
            "marker": {
             "colorbar": {
              "outlinewidth": 0,
              "ticks": ""
             }
            },
            "type": "scattermapbox"
           }
          ],
          "scatterpolar": [
           {
            "marker": {
             "colorbar": {
              "outlinewidth": 0,
              "ticks": ""
             }
            },
            "type": "scatterpolar"
           }
          ],
          "scatterpolargl": [
           {
            "marker": {
             "colorbar": {
              "outlinewidth": 0,
              "ticks": ""
             }
            },
            "type": "scatterpolargl"
           }
          ],
          "scatterternary": [
           {
            "marker": {
             "colorbar": {
              "outlinewidth": 0,
              "ticks": ""
             }
            },
            "type": "scatterternary"
           }
          ],
          "surface": [
           {
            "colorbar": {
             "outlinewidth": 0,
             "ticks": ""
            },
            "colorscale": [
             [
              0,
              "#0d0887"
             ],
             [
              0.1111111111111111,
              "#46039f"
             ],
             [
              0.2222222222222222,
              "#7201a8"
             ],
             [
              0.3333333333333333,
              "#9c179e"
             ],
             [
              0.4444444444444444,
              "#bd3786"
             ],
             [
              0.5555555555555556,
              "#d8576b"
             ],
             [
              0.6666666666666666,
              "#ed7953"
             ],
             [
              0.7777777777777778,
              "#fb9f3a"
             ],
             [
              0.8888888888888888,
              "#fdca26"
             ],
             [
              1,
              "#f0f921"
             ]
            ],
            "type": "surface"
           }
          ],
          "table": [
           {
            "cells": {
             "fill": {
              "color": "#EBF0F8"
             },
             "line": {
              "color": "white"
             }
            },
            "header": {
             "fill": {
              "color": "#C8D4E3"
             },
             "line": {
              "color": "white"
             }
            },
            "type": "table"
           }
          ]
         },
         "layout": {
          "annotationdefaults": {
           "arrowcolor": "#2a3f5f",
           "arrowhead": 0,
           "arrowwidth": 1
          },
          "colorscale": {
           "diverging": [
            [
             0,
             "#8e0152"
            ],
            [
             0.1,
             "#c51b7d"
            ],
            [
             0.2,
             "#de77ae"
            ],
            [
             0.3,
             "#f1b6da"
            ],
            [
             0.4,
             "#fde0ef"
            ],
            [
             0.5,
             "#f7f7f7"
            ],
            [
             0.6,
             "#e6f5d0"
            ],
            [
             0.7,
             "#b8e186"
            ],
            [
             0.8,
             "#7fbc41"
            ],
            [
             0.9,
             "#4d9221"
            ],
            [
             1,
             "#276419"
            ]
           ],
           "sequential": [
            [
             0,
             "#0d0887"
            ],
            [
             0.1111111111111111,
             "#46039f"
            ],
            [
             0.2222222222222222,
             "#7201a8"
            ],
            [
             0.3333333333333333,
             "#9c179e"
            ],
            [
             0.4444444444444444,
             "#bd3786"
            ],
            [
             0.5555555555555556,
             "#d8576b"
            ],
            [
             0.6666666666666666,
             "#ed7953"
            ],
            [
             0.7777777777777778,
             "#fb9f3a"
            ],
            [
             0.8888888888888888,
             "#fdca26"
            ],
            [
             1,
             "#f0f921"
            ]
           ],
           "sequentialminus": [
            [
             0,
             "#0d0887"
            ],
            [
             0.1111111111111111,
             "#46039f"
            ],
            [
             0.2222222222222222,
             "#7201a8"
            ],
            [
             0.3333333333333333,
             "#9c179e"
            ],
            [
             0.4444444444444444,
             "#bd3786"
            ],
            [
             0.5555555555555556,
             "#d8576b"
            ],
            [
             0.6666666666666666,
             "#ed7953"
            ],
            [
             0.7777777777777778,
             "#fb9f3a"
            ],
            [
             0.8888888888888888,
             "#fdca26"
            ],
            [
             1,
             "#f0f921"
            ]
           ]
          },
          "colorway": [
           "#636efa",
           "#EF553B",
           "#00cc96",
           "#ab63fa",
           "#FFA15A",
           "#19d3f3",
           "#FF6692",
           "#B6E880",
           "#FF97FF",
           "#FECB52"
          ],
          "font": {
           "color": "#2a3f5f"
          },
          "geo": {
           "bgcolor": "white",
           "lakecolor": "white",
           "landcolor": "#E5ECF6",
           "showlakes": true,
           "showland": true,
           "subunitcolor": "white"
          },
          "hoverlabel": {
           "align": "left"
          },
          "hovermode": "closest",
          "mapbox": {
           "style": "light"
          },
          "paper_bgcolor": "white",
          "plot_bgcolor": "#E5ECF6",
          "polar": {
           "angularaxis": {
            "gridcolor": "white",
            "linecolor": "white",
            "ticks": ""
           },
           "bgcolor": "#E5ECF6",
           "radialaxis": {
            "gridcolor": "white",
            "linecolor": "white",
            "ticks": ""
           }
          },
          "scene": {
           "xaxis": {
            "backgroundcolor": "#E5ECF6",
            "gridcolor": "white",
            "gridwidth": 2,
            "linecolor": "white",
            "showbackground": true,
            "ticks": "",
            "zerolinecolor": "white"
           },
           "yaxis": {
            "backgroundcolor": "#E5ECF6",
            "gridcolor": "white",
            "gridwidth": 2,
            "linecolor": "white",
            "showbackground": true,
            "ticks": "",
            "zerolinecolor": "white"
           },
           "zaxis": {
            "backgroundcolor": "#E5ECF6",
            "gridcolor": "white",
            "gridwidth": 2,
            "linecolor": "white",
            "showbackground": true,
            "ticks": "",
            "zerolinecolor": "white"
           }
          },
          "shapedefaults": {
           "line": {
            "color": "#2a3f5f"
           }
          },
          "ternary": {
           "aaxis": {
            "gridcolor": "white",
            "linecolor": "white",
            "ticks": ""
           },
           "baxis": {
            "gridcolor": "white",
            "linecolor": "white",
            "ticks": ""
           },
           "bgcolor": "#E5ECF6",
           "caxis": {
            "gridcolor": "white",
            "linecolor": "white",
            "ticks": ""
           }
          },
          "title": {
           "x": 0.05
          },
          "xaxis": {
           "automargin": true,
           "gridcolor": "white",
           "linecolor": "white",
           "ticks": "",
           "zerolinecolor": "white",
           "zerolinewidth": 2
          },
          "yaxis": {
           "automargin": true,
           "gridcolor": "white",
           "linecolor": "white",
           "ticks": "",
           "zerolinecolor": "white",
           "zerolinewidth": 2
          }
         }
        }
       }
      },
      "text/html": [
       "<div>\n",
       "        \n",
       "        \n",
       "            <div id=\"7792a3f8-818b-4dab-b0e0-e0c4b64f4463\" class=\"plotly-graph-div\" style=\"height:525px; width:100%;\"></div>\n",
       "            <script type=\"text/javascript\">\n",
       "                require([\"plotly\"], function(Plotly) {\n",
       "                    window.PLOTLYENV=window.PLOTLYENV || {};\n",
       "                    \n",
       "                if (document.getElementById(\"7792a3f8-818b-4dab-b0e0-e0c4b64f4463\")) {\n",
       "                    Plotly.newPlot(\n",
       "                        '7792a3f8-818b-4dab-b0e0-e0c4b64f4463',\n",
       "                        [{\"fill\": \"toself\", \"r\": [8.556864252958706, 0.37744285473080846, 1.7346352971399126, 1.5293714787893575], \"theta\": [\"Spearman coefficient for meta prediction\", \"Spearman coefficient for video prediction\", \"RMSE performance for meta prediction\", \"Performance of Percentage of error for meta prediction\"], \"type\": \"scatterpolar\"}],\n",
       "                        {\"polar\": {\"radialaxis\": {\"range\": [0, 10], \"visible\": true}}, \"showlegend\": false, \"template\": {\"data\": {\"bar\": [{\"error_x\": {\"color\": \"#2a3f5f\"}, \"error_y\": {\"color\": \"#2a3f5f\"}, \"marker\": {\"line\": {\"color\": \"#E5ECF6\", \"width\": 0.5}}, \"type\": \"bar\"}], \"barpolar\": [{\"marker\": {\"line\": {\"color\": \"#E5ECF6\", \"width\": 0.5}}, \"type\": \"barpolar\"}], \"carpet\": [{\"aaxis\": {\"endlinecolor\": \"#2a3f5f\", \"gridcolor\": \"white\", \"linecolor\": \"white\", \"minorgridcolor\": \"white\", \"startlinecolor\": \"#2a3f5f\"}, \"baxis\": {\"endlinecolor\": \"#2a3f5f\", \"gridcolor\": \"white\", \"linecolor\": \"white\", \"minorgridcolor\": \"white\", \"startlinecolor\": \"#2a3f5f\"}, \"type\": \"carpet\"}], \"choropleth\": [{\"colorbar\": {\"outlinewidth\": 0, \"ticks\": \"\"}, \"type\": \"choropleth\"}], \"contour\": [{\"colorbar\": {\"outlinewidth\": 0, \"ticks\": \"\"}, \"colorscale\": [[0.0, \"#0d0887\"], [0.1111111111111111, \"#46039f\"], [0.2222222222222222, \"#7201a8\"], [0.3333333333333333, \"#9c179e\"], [0.4444444444444444, \"#bd3786\"], [0.5555555555555556, \"#d8576b\"], [0.6666666666666666, \"#ed7953\"], [0.7777777777777778, \"#fb9f3a\"], [0.8888888888888888, \"#fdca26\"], [1.0, \"#f0f921\"]], \"type\": \"contour\"}], \"contourcarpet\": [{\"colorbar\": {\"outlinewidth\": 0, \"ticks\": \"\"}, \"type\": \"contourcarpet\"}], \"heatmap\": [{\"colorbar\": {\"outlinewidth\": 0, \"ticks\": \"\"}, \"colorscale\": [[0.0, \"#0d0887\"], [0.1111111111111111, \"#46039f\"], [0.2222222222222222, \"#7201a8\"], [0.3333333333333333, \"#9c179e\"], [0.4444444444444444, \"#bd3786\"], [0.5555555555555556, \"#d8576b\"], [0.6666666666666666, \"#ed7953\"], [0.7777777777777778, \"#fb9f3a\"], [0.8888888888888888, \"#fdca26\"], [1.0, \"#f0f921\"]], \"type\": \"heatmap\"}], \"heatmapgl\": [{\"colorbar\": {\"outlinewidth\": 0, \"ticks\": \"\"}, \"colorscale\": [[0.0, \"#0d0887\"], [0.1111111111111111, \"#46039f\"], [0.2222222222222222, \"#7201a8\"], [0.3333333333333333, \"#9c179e\"], [0.4444444444444444, \"#bd3786\"], [0.5555555555555556, \"#d8576b\"], [0.6666666666666666, \"#ed7953\"], [0.7777777777777778, \"#fb9f3a\"], [0.8888888888888888, \"#fdca26\"], [1.0, \"#f0f921\"]], \"type\": \"heatmapgl\"}], \"histogram\": [{\"marker\": {\"colorbar\": {\"outlinewidth\": 0, \"ticks\": \"\"}}, \"type\": \"histogram\"}], \"histogram2d\": [{\"colorbar\": {\"outlinewidth\": 0, \"ticks\": \"\"}, \"colorscale\": [[0.0, \"#0d0887\"], [0.1111111111111111, \"#46039f\"], [0.2222222222222222, \"#7201a8\"], [0.3333333333333333, \"#9c179e\"], [0.4444444444444444, \"#bd3786\"], [0.5555555555555556, \"#d8576b\"], [0.6666666666666666, \"#ed7953\"], [0.7777777777777778, \"#fb9f3a\"], [0.8888888888888888, \"#fdca26\"], [1.0, \"#f0f921\"]], \"type\": \"histogram2d\"}], \"histogram2dcontour\": [{\"colorbar\": {\"outlinewidth\": 0, \"ticks\": \"\"}, \"colorscale\": [[0.0, \"#0d0887\"], [0.1111111111111111, \"#46039f\"], [0.2222222222222222, \"#7201a8\"], [0.3333333333333333, \"#9c179e\"], [0.4444444444444444, \"#bd3786\"], [0.5555555555555556, \"#d8576b\"], [0.6666666666666666, \"#ed7953\"], [0.7777777777777778, \"#fb9f3a\"], [0.8888888888888888, \"#fdca26\"], [1.0, \"#f0f921\"]], \"type\": \"histogram2dcontour\"}], \"mesh3d\": [{\"colorbar\": {\"outlinewidth\": 0, \"ticks\": \"\"}, \"type\": \"mesh3d\"}], \"parcoords\": [{\"line\": {\"colorbar\": {\"outlinewidth\": 0, \"ticks\": \"\"}}, \"type\": \"parcoords\"}], \"scatter\": [{\"marker\": {\"colorbar\": {\"outlinewidth\": 0, \"ticks\": \"\"}}, \"type\": \"scatter\"}], \"scatter3d\": [{\"line\": {\"colorbar\": {\"outlinewidth\": 0, \"ticks\": \"\"}}, \"marker\": {\"colorbar\": {\"outlinewidth\": 0, \"ticks\": \"\"}}, \"type\": \"scatter3d\"}], \"scattercarpet\": [{\"marker\": {\"colorbar\": {\"outlinewidth\": 0, \"ticks\": \"\"}}, \"type\": \"scattercarpet\"}], \"scattergeo\": [{\"marker\": {\"colorbar\": {\"outlinewidth\": 0, \"ticks\": \"\"}}, \"type\": \"scattergeo\"}], \"scattergl\": [{\"marker\": {\"colorbar\": {\"outlinewidth\": 0, \"ticks\": \"\"}}, \"type\": \"scattergl\"}], \"scattermapbox\": [{\"marker\": {\"colorbar\": {\"outlinewidth\": 0, \"ticks\": \"\"}}, \"type\": \"scattermapbox\"}], \"scatterpolar\": [{\"marker\": {\"colorbar\": {\"outlinewidth\": 0, \"ticks\": \"\"}}, \"type\": \"scatterpolar\"}], \"scatterpolargl\": [{\"marker\": {\"colorbar\": {\"outlinewidth\": 0, \"ticks\": \"\"}}, \"type\": \"scatterpolargl\"}], \"scatterternary\": [{\"marker\": {\"colorbar\": {\"outlinewidth\": 0, \"ticks\": \"\"}}, \"type\": \"scatterternary\"}], \"surface\": [{\"colorbar\": {\"outlinewidth\": 0, \"ticks\": \"\"}, \"colorscale\": [[0.0, \"#0d0887\"], [0.1111111111111111, \"#46039f\"], [0.2222222222222222, \"#7201a8\"], [0.3333333333333333, \"#9c179e\"], [0.4444444444444444, \"#bd3786\"], [0.5555555555555556, \"#d8576b\"], [0.6666666666666666, \"#ed7953\"], [0.7777777777777778, \"#fb9f3a\"], [0.8888888888888888, \"#fdca26\"], [1.0, \"#f0f921\"]], \"type\": \"surface\"}], \"table\": [{\"cells\": {\"fill\": {\"color\": \"#EBF0F8\"}, \"line\": {\"color\": \"white\"}}, \"header\": {\"fill\": {\"color\": \"#C8D4E3\"}, \"line\": {\"color\": \"white\"}}, \"type\": \"table\"}]}, \"layout\": {\"annotationdefaults\": {\"arrowcolor\": \"#2a3f5f\", \"arrowhead\": 0, \"arrowwidth\": 1}, \"colorscale\": {\"diverging\": [[0, \"#8e0152\"], [0.1, \"#c51b7d\"], [0.2, \"#de77ae\"], [0.3, \"#f1b6da\"], [0.4, \"#fde0ef\"], [0.5, \"#f7f7f7\"], [0.6, \"#e6f5d0\"], [0.7, \"#b8e186\"], [0.8, \"#7fbc41\"], [0.9, \"#4d9221\"], [1, \"#276419\"]], \"sequential\": [[0.0, \"#0d0887\"], [0.1111111111111111, \"#46039f\"], [0.2222222222222222, \"#7201a8\"], [0.3333333333333333, \"#9c179e\"], [0.4444444444444444, \"#bd3786\"], [0.5555555555555556, \"#d8576b\"], [0.6666666666666666, \"#ed7953\"], [0.7777777777777778, \"#fb9f3a\"], [0.8888888888888888, \"#fdca26\"], [1.0, \"#f0f921\"]], \"sequentialminus\": [[0.0, \"#0d0887\"], [0.1111111111111111, \"#46039f\"], [0.2222222222222222, \"#7201a8\"], [0.3333333333333333, \"#9c179e\"], [0.4444444444444444, \"#bd3786\"], [0.5555555555555556, \"#d8576b\"], [0.6666666666666666, \"#ed7953\"], [0.7777777777777778, \"#fb9f3a\"], [0.8888888888888888, \"#fdca26\"], [1.0, \"#f0f921\"]]}, \"colorway\": [\"#636efa\", \"#EF553B\", \"#00cc96\", \"#ab63fa\", \"#FFA15A\", \"#19d3f3\", \"#FF6692\", \"#B6E880\", \"#FF97FF\", \"#FECB52\"], \"font\": {\"color\": \"#2a3f5f\"}, \"geo\": {\"bgcolor\": \"white\", \"lakecolor\": \"white\", \"landcolor\": \"#E5ECF6\", \"showlakes\": true, \"showland\": true, \"subunitcolor\": \"white\"}, \"hoverlabel\": {\"align\": \"left\"}, \"hovermode\": \"closest\", \"mapbox\": {\"style\": \"light\"}, \"paper_bgcolor\": \"white\", \"plot_bgcolor\": \"#E5ECF6\", \"polar\": {\"angularaxis\": {\"gridcolor\": \"white\", \"linecolor\": \"white\", \"ticks\": \"\"}, \"bgcolor\": \"#E5ECF6\", \"radialaxis\": {\"gridcolor\": \"white\", \"linecolor\": \"white\", \"ticks\": \"\"}}, \"scene\": {\"xaxis\": {\"backgroundcolor\": \"#E5ECF6\", \"gridcolor\": \"white\", \"gridwidth\": 2, \"linecolor\": \"white\", \"showbackground\": true, \"ticks\": \"\", \"zerolinecolor\": \"white\"}, \"yaxis\": {\"backgroundcolor\": \"#E5ECF6\", \"gridcolor\": \"white\", \"gridwidth\": 2, \"linecolor\": \"white\", \"showbackground\": true, \"ticks\": \"\", \"zerolinecolor\": \"white\"}, \"zaxis\": {\"backgroundcolor\": \"#E5ECF6\", \"gridcolor\": \"white\", \"gridwidth\": 2, \"linecolor\": \"white\", \"showbackground\": true, \"ticks\": \"\", \"zerolinecolor\": \"white\"}}, \"shapedefaults\": {\"line\": {\"color\": \"#2a3f5f\"}}, \"ternary\": {\"aaxis\": {\"gridcolor\": \"white\", \"linecolor\": \"white\", \"ticks\": \"\"}, \"baxis\": {\"gridcolor\": \"white\", \"linecolor\": \"white\", \"ticks\": \"\"}, \"bgcolor\": \"#E5ECF6\", \"caxis\": {\"gridcolor\": \"white\", \"linecolor\": \"white\", \"ticks\": \"\"}}, \"title\": {\"x\": 0.05}, \"xaxis\": {\"automargin\": true, \"gridcolor\": \"white\", \"linecolor\": \"white\", \"ticks\": \"\", \"zerolinecolor\": \"white\", \"zerolinewidth\": 2}, \"yaxis\": {\"automargin\": true, \"gridcolor\": \"white\", \"linecolor\": \"white\", \"ticks\": \"\", \"zerolinecolor\": \"white\", \"zerolinewidth\": 2}}}},\n",
       "                        {\"responsive\": true}\n",
       "                    ).then(function(){\n",
       "                            \n",
       "var gd = document.getElementById('7792a3f8-818b-4dab-b0e0-e0c4b64f4463');\n",
       "var x = new MutationObserver(function (mutations, observer) {{\n",
       "        var display = window.getComputedStyle(gd).display;\n",
       "        if (!display || display === 'none') {{\n",
       "            console.log([gd, 'removed!']);\n",
       "            Plotly.purge(gd);\n",
       "            observer.disconnect();\n",
       "        }}\n",
       "}});\n",
       "\n",
       "// Listen for the removal of the full notebook cells\n",
       "var notebookContainer = gd.closest('#notebook-container');\n",
       "if (notebookContainer) {{\n",
       "    x.observe(notebookContainer, {childList: true});\n",
       "}}\n",
       "\n",
       "// Listen for the clearing of the current output cell\n",
       "var outputEl = gd.closest('.output');\n",
       "if (outputEl) {{\n",
       "    x.observe(outputEl, {childList: true});\n",
       "}}\n",
       "\n",
       "                        })\n",
       "                };\n",
       "                });\n",
       "            </script>\n",
       "        </div>"
      ]
     },
     "metadata": {},
     "output_type": "display_data"
    }
   ],
   "source": [
    "# radar chart \n",
    "# Which variable should we chosse to evaluate a model for aml?\n",
    "import plotly.graph_objects as go\n",
    "# Median for Percentage of error for meta prediction\n",
    "max_Median_meta = 5\n",
    "max_rmse_meta = 40000000\n",
    "fig = go.Figure(data=go.Scatterpolar(\n",
    "  r=[meta_spearman_co*10, video_spearman_co*10, (1-test_error_4[0]/max_rmse_meta)*10, (1-Median_meta/max_Median_meta)*10],#value/maximum*5 so that all axises are in same range.\n",
    "  theta=['Spearman coefficient for meta prediction','Spearman coefficient for video prediction', 'RMSE performance for meta prediction', 'Performance of Percentage of error for meta prediction'],\n",
    "  fill='toself'\n",
    "))\n",
    "\n",
    "fig.update_layout(\n",
    "  polar=dict(\n",
    "    radialaxis=dict(\n",
    "      visible=True,\n",
    "      range=[0, 10]\n",
    "    ),\n",
    "  ),\n",
    "  showlegend=False\n",
    ")\n",
    "\n",
    "fig.show()"
   ]
  },
  {
   "cell_type": "code",
   "execution_count": null,
   "metadata": {},
   "outputs": [],
   "source": []
  }
 ],
 "metadata": {
  "kernelspec": {
   "display_name": "Python 3",
   "language": "python",
   "name": "python3"
  },
  "language_info": {
   "codemirror_mode": {
    "name": "ipython",
    "version": 3
   },
   "file_extension": ".py",
   "mimetype": "text/x-python",
   "name": "python",
   "nbconvert_exporter": "python",
   "pygments_lexer": "ipython3",
   "version": "3.7.3"
  }
 },
 "nbformat": 4,
 "nbformat_minor": 2
}
