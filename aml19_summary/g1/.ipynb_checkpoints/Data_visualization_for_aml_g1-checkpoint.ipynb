{
 "cells": [
  {
   "cell_type": "code",
   "execution_count": 11,
   "metadata": {
    "scrolled": true
   },
   "outputs": [
    {
     "name": "stdout",
     "output_type": "stream",
     "text": [
      "<class 'pandas.core.frame.DataFrame'>\n",
      "RangeIndex: 103 entries, 0 to 102\n",
      "Data columns (total 10 columns):\n",
      "Unnamed: 0      103 non-null int64\n",
      "url             103 non-null object\n",
      "imdb_id         103 non-null int64\n",
      "prediction      0 non-null float64\n",
      "ground_truth    103 non-null int64\n",
      "name            103 non-null object\n",
      "pred_video      103 non-null float64\n",
      "pred_meta_1     103 non-null float64\n",
      "pred_meta_2     103 non-null float64\n",
      "pred_meta_3     103 non-null float64\n",
      "dtypes: float64(5), int64(3), object(2)\n",
      "memory usage: 8.1+ KB\n"
     ]
    },
    {
     "data": {
      "text/html": [
       "<div>\n",
       "<style scoped>\n",
       "    .dataframe tbody tr th:only-of-type {\n",
       "        vertical-align: middle;\n",
       "    }\n",
       "\n",
       "    .dataframe tbody tr th {\n",
       "        vertical-align: top;\n",
       "    }\n",
       "\n",
       "    .dataframe thead th {\n",
       "        text-align: right;\n",
       "    }\n",
       "</style>\n",
       "<table border=\"1\" class=\"dataframe\">\n",
       "  <thead>\n",
       "    <tr style=\"text-align: right;\">\n",
       "      <th></th>\n",
       "      <th>Unnamed: 0</th>\n",
       "      <th>url</th>\n",
       "      <th>imdb_id</th>\n",
       "      <th>prediction</th>\n",
       "      <th>ground_truth</th>\n",
       "      <th>name</th>\n",
       "      <th>pred_video</th>\n",
       "      <th>pred_meta_1</th>\n",
       "      <th>pred_meta_2</th>\n",
       "      <th>pred_meta_3</th>\n",
       "    </tr>\n",
       "  </thead>\n",
       "  <tbody>\n",
       "    <tr>\n",
       "      <th>0</th>\n",
       "      <td>0</td>\n",
       "      <td>https://youtu.be/I1C2gCXo4Gs</td>\n",
       "      <td>190590</td>\n",
       "      <td>NaN</td>\n",
       "      <td>195104</td>\n",
       "      <td>O Brother, Where Art Thou?</td>\n",
       "      <td>2.970865e+07</td>\n",
       "      <td>3.031546e+07</td>\n",
       "      <td>9.215780e+05</td>\n",
       "      <td>1.053903e+07</td>\n",
       "    </tr>\n",
       "    <tr>\n",
       "      <th>1</th>\n",
       "      <td>1</td>\n",
       "      <td>https://youtu.be/PQNLfo-SOR4</td>\n",
       "      <td>1324999</td>\n",
       "      <td>NaN</td>\n",
       "      <td>138122261</td>\n",
       "      <td>The Twilight Saga: Breaking Dawn Part 1</td>\n",
       "      <td>5.792866e+07</td>\n",
       "      <td>3.011402e+07</td>\n",
       "      <td>2.571548e+07</td>\n",
       "      <td>8.699655e+07</td>\n",
       "    </tr>\n",
       "    <tr>\n",
       "      <th>2</th>\n",
       "      <td>2</td>\n",
       "      <td>https://youtu.be/Ocz50YJOFTM</td>\n",
       "      <td>1673434</td>\n",
       "      <td>NaN</td>\n",
       "      <td>141067634</td>\n",
       "      <td>The Twilight Saga: Breaking Dawn Part 2</td>\n",
       "      <td>4.797126e+07</td>\n",
       "      <td>3.011402e+07</td>\n",
       "      <td>3.228228e+07</td>\n",
       "      <td>8.159196e+07</td>\n",
       "    </tr>\n",
       "    <tr>\n",
       "      <th>3</th>\n",
       "      <td>3</td>\n",
       "      <td>https://youtu.be/gk39pXpBpFo</td>\n",
       "      <td>1394211</td>\n",
       "      <td>NaN</td>\n",
       "      <td>2692</td>\n",
       "      <td>Helena From the Wedding</td>\n",
       "      <td>2.123185e+07</td>\n",
       "      <td>3.137946e+07</td>\n",
       "      <td>1.367080e+05</td>\n",
       "      <td>1.130512e+07</td>\n",
       "    </tr>\n",
       "    <tr>\n",
       "      <th>4</th>\n",
       "      <td>4</td>\n",
       "      <td>https://youtu.be/Ol6j9xlQN1w</td>\n",
       "      <td>1470827</td>\n",
       "      <td>NaN</td>\n",
       "      <td>20508</td>\n",
       "      <td>Monsters</td>\n",
       "      <td>3.563304e+07</td>\n",
       "      <td>3.143254e+07</td>\n",
       "      <td>8.611955e+04</td>\n",
       "      <td>2.155816e+06</td>\n",
       "    </tr>\n",
       "  </tbody>\n",
       "</table>\n",
       "</div>"
      ],
      "text/plain": [
       "   Unnamed: 0                           url  imdb_id  prediction  \\\n",
       "0           0  https://youtu.be/I1C2gCXo4Gs   190590         NaN   \n",
       "1           1  https://youtu.be/PQNLfo-SOR4  1324999         NaN   \n",
       "2           2  https://youtu.be/Ocz50YJOFTM  1673434         NaN   \n",
       "3           3  https://youtu.be/gk39pXpBpFo  1394211         NaN   \n",
       "4           4  https://youtu.be/Ol6j9xlQN1w  1470827         NaN   \n",
       "\n",
       "   ground_truth                                     name    pred_video  \\\n",
       "0        195104               O Brother, Where Art Thou?  2.970865e+07   \n",
       "1     138122261  The Twilight Saga: Breaking Dawn Part 1  5.792866e+07   \n",
       "2     141067634  The Twilight Saga: Breaking Dawn Part 2  4.797126e+07   \n",
       "3          2692                  Helena From the Wedding  2.123185e+07   \n",
       "4         20508                                 Monsters  3.563304e+07   \n",
       "\n",
       "    pred_meta_1   pred_meta_2   pred_meta_3  \n",
       "0  3.031546e+07  9.215780e+05  1.053903e+07  \n",
       "1  3.011402e+07  2.571548e+07  8.699655e+07  \n",
       "2  3.011402e+07  3.228228e+07  8.159196e+07  \n",
       "3  3.137946e+07  1.367080e+05  1.130512e+07  \n",
       "4  3.143254e+07  8.611955e+04  2.155816e+06  "
      ]
     },
     "execution_count": 11,
     "metadata": {},
     "output_type": "execute_result"
    }
   ],
   "source": [
    "import plotly \n",
    "# only for offline\n",
    "import plotly.graph_objects as go\n",
    "import pandas as pd\n",
    "\n",
    "path_g1 = 'test_result_final_group1.csv'\n",
    "#movie_data =pd.read_csv(path, sep='\\t', head = 0)\n",
    "g1_result_final = pd.read_csv(path_g1)\n",
    "\n",
    "g1_result_final.info()\n",
    "\n",
    "g1_result_final.head()\n"
   ]
  },
  {
   "cell_type": "code",
   "execution_count": 13,
   "metadata": {},
   "outputs": [],
   "source": [
    "#remove Unamed column\n",
    "g1_result_final = g1_result_final.loc[:, ~g1_result_final.columns.str.contains('^Unnamed')]"
   ]
  },
  {
   "cell_type": "code",
   "execution_count": 14,
   "metadata": {
    "scrolled": true
   },
   "outputs": [
    {
     "data": {
      "text/html": [
       "<div>\n",
       "<style scoped>\n",
       "    .dataframe tbody tr th:only-of-type {\n",
       "        vertical-align: middle;\n",
       "    }\n",
       "\n",
       "    .dataframe tbody tr th {\n",
       "        vertical-align: top;\n",
       "    }\n",
       "\n",
       "    .dataframe thead th {\n",
       "        text-align: right;\n",
       "    }\n",
       "</style>\n",
       "<table border=\"1\" class=\"dataframe\">\n",
       "  <thead>\n",
       "    <tr style=\"text-align: right;\">\n",
       "      <th></th>\n",
       "      <th>url</th>\n",
       "      <th>imdb_id</th>\n",
       "      <th>prediction</th>\n",
       "      <th>ground_truth</th>\n",
       "      <th>name</th>\n",
       "      <th>pred_video</th>\n",
       "      <th>pred_meta_1</th>\n",
       "      <th>pred_meta_2</th>\n",
       "      <th>pred_meta_3</th>\n",
       "    </tr>\n",
       "  </thead>\n",
       "  <tbody>\n",
       "    <tr>\n",
       "      <th>0</th>\n",
       "      <td>https://youtu.be/I1C2gCXo4Gs</td>\n",
       "      <td>190590</td>\n",
       "      <td>0.0</td>\n",
       "      <td>195104</td>\n",
       "      <td>O Brother, Where Art Thou?</td>\n",
       "      <td>2.970865e+07</td>\n",
       "      <td>3.031546e+07</td>\n",
       "      <td>9.215780e+05</td>\n",
       "      <td>1.053903e+07</td>\n",
       "    </tr>\n",
       "    <tr>\n",
       "      <th>1</th>\n",
       "      <td>https://youtu.be/PQNLfo-SOR4</td>\n",
       "      <td>1324999</td>\n",
       "      <td>0.0</td>\n",
       "      <td>138122261</td>\n",
       "      <td>The Twilight Saga: Breaking Dawn Part 1</td>\n",
       "      <td>5.792866e+07</td>\n",
       "      <td>3.011402e+07</td>\n",
       "      <td>2.571548e+07</td>\n",
       "      <td>8.699655e+07</td>\n",
       "    </tr>\n",
       "    <tr>\n",
       "      <th>2</th>\n",
       "      <td>https://youtu.be/Ocz50YJOFTM</td>\n",
       "      <td>1673434</td>\n",
       "      <td>0.0</td>\n",
       "      <td>141067634</td>\n",
       "      <td>The Twilight Saga: Breaking Dawn Part 2</td>\n",
       "      <td>4.797126e+07</td>\n",
       "      <td>3.011402e+07</td>\n",
       "      <td>3.228228e+07</td>\n",
       "      <td>8.159196e+07</td>\n",
       "    </tr>\n",
       "    <tr>\n",
       "      <th>3</th>\n",
       "      <td>https://youtu.be/gk39pXpBpFo</td>\n",
       "      <td>1394211</td>\n",
       "      <td>0.0</td>\n",
       "      <td>2692</td>\n",
       "      <td>Helena From the Wedding</td>\n",
       "      <td>2.123185e+07</td>\n",
       "      <td>3.137946e+07</td>\n",
       "      <td>1.367080e+05</td>\n",
       "      <td>1.130512e+07</td>\n",
       "    </tr>\n",
       "    <tr>\n",
       "      <th>4</th>\n",
       "      <td>https://youtu.be/Ol6j9xlQN1w</td>\n",
       "      <td>1470827</td>\n",
       "      <td>0.0</td>\n",
       "      <td>20508</td>\n",
       "      <td>Monsters</td>\n",
       "      <td>3.563304e+07</td>\n",
       "      <td>3.143254e+07</td>\n",
       "      <td>8.611955e+04</td>\n",
       "      <td>2.155816e+06</td>\n",
       "    </tr>\n",
       "    <tr>\n",
       "      <th>5</th>\n",
       "      <td>https://youtu.be/BuE98oeL-e0</td>\n",
       "      <td>1584016</td>\n",
       "      <td>0.0</td>\n",
       "      <td>257285</td>\n",
       "      <td>Catfish</td>\n",
       "      <td>2.630274e+07</td>\n",
       "      <td>2.962939e+07</td>\n",
       "      <td>8.724473e+04</td>\n",
       "      <td>4.648542e+06</td>\n",
       "    </tr>\n",
       "    <tr>\n",
       "      <th>6</th>\n",
       "      <td>https://youtu.be/-JZ_moituIo</td>\n",
       "      <td>1245526</td>\n",
       "      <td>0.0</td>\n",
       "      <td>21761408</td>\n",
       "      <td>Red</td>\n",
       "      <td>2.354779e+07</td>\n",
       "      <td>3.017242e+07</td>\n",
       "      <td>3.664363e+07</td>\n",
       "      <td>2.487867e+07</td>\n",
       "    </tr>\n",
       "    <tr>\n",
       "      <th>7</th>\n",
       "      <td>https://youtu.be/LrceH3952Hg</td>\n",
       "      <td>1152822</td>\n",
       "      <td>0.0</td>\n",
       "      <td>31893</td>\n",
       "      <td>Freakonomics</td>\n",
       "      <td>2.412932e+07</td>\n",
       "      <td>3.007248e+07</td>\n",
       "      <td>2.156645e+05</td>\n",
       "      <td>4.476887e+06</td>\n",
       "    </tr>\n",
       "    <tr>\n",
       "      <th>8</th>\n",
       "      <td>https://youtu.be/xrQt_pwGdB0</td>\n",
       "      <td>1032751</td>\n",
       "      <td>0.0</td>\n",
       "      <td>3048665</td>\n",
       "      <td>The Warrior's Way</td>\n",
       "      <td>3.331917e+07</td>\n",
       "      <td>3.106471e+07</td>\n",
       "      <td>4.455115e+06</td>\n",
       "      <td>1.711241e+07</td>\n",
       "    </tr>\n",
       "    <tr>\n",
       "      <th>9</th>\n",
       "      <td>https://youtu.be/evhh3NE3fyw</td>\n",
       "      <td>1423995</td>\n",
       "      <td>0.0</td>\n",
       "      <td>75766</td>\n",
       "      <td>Stone</td>\n",
       "      <td>2.487547e+07</td>\n",
       "      <td>3.143254e+07</td>\n",
       "      <td>1.136015e+06</td>\n",
       "      <td>1.847546e+07</td>\n",
       "    </tr>\n",
       "    <tr>\n",
       "      <th>10</th>\n",
       "      <td>https://youtu.be/XBfcGLBJ2Uc</td>\n",
       "      <td>1142977</td>\n",
       "      <td>0.0</td>\n",
       "      <td>11412213</td>\n",
       "      <td>Frankenweenie</td>\n",
       "      <td>1.697270e+07</td>\n",
       "      <td>3.217715e+07</td>\n",
       "      <td>1.107707e+07</td>\n",
       "      <td>4.430687e+07</td>\n",
       "    </tr>\n",
       "    <tr>\n",
       "      <th>11</th>\n",
       "      <td>https://youtu.be/nlvYKl1fjBI</td>\n",
       "      <td>401729</td>\n",
       "      <td>0.0</td>\n",
       "      <td>30180188</td>\n",
       "      <td>John Carter</td>\n",
       "      <td>2.657526e+07</td>\n",
       "      <td>3.100563e+07</td>\n",
       "      <td>2.929687e+05</td>\n",
       "      <td>3.350591e+07</td>\n",
       "    </tr>\n",
       "    <tr>\n",
       "      <th>12</th>\n",
       "      <td>https://youtu.be/AJ_1eS2Erhk</td>\n",
       "      <td>1564349</td>\n",
       "      <td>0.0</td>\n",
       "      <td>19152401</td>\n",
       "      <td>Dolphin Tale</td>\n",
       "      <td>2.372305e+07</td>\n",
       "      <td>3.158367e+07</td>\n",
       "      <td>2.698802e+06</td>\n",
       "      <td>1.630375e+07</td>\n",
       "    </tr>\n",
       "    <tr>\n",
       "      <th>13</th>\n",
       "      <td>https://youtu.be/retX8Wj7JdM</td>\n",
       "      <td>1911658</td>\n",
       "      <td>0.0</td>\n",
       "      <td>25447444</td>\n",
       "      <td>Penguins of Madagascar</td>\n",
       "      <td>1.749704e+07</td>\n",
       "      <td>3.151262e+07</td>\n",
       "      <td>6.609058e+07</td>\n",
       "      <td>4.028345e+07</td>\n",
       "    </tr>\n",
       "    <tr>\n",
       "      <th>14</th>\n",
       "      <td>https://youtu.be/dVDk7PXNXB8</td>\n",
       "      <td>2293640</td>\n",
       "      <td>0.0</td>\n",
       "      <td>115718405</td>\n",
       "      <td>Minions</td>\n",
       "      <td>1.986199e+07</td>\n",
       "      <td>3.151262e+07</td>\n",
       "      <td>1.182170e+08</td>\n",
       "      <td>2.842476e+07</td>\n",
       "    </tr>\n",
       "    <tr>\n",
       "      <th>15</th>\n",
       "      <td>https://youtu.be/T1GO-Jlfa58</td>\n",
       "      <td>1008023</td>\n",
       "      <td>0.0</td>\n",
       "      <td>96076</td>\n",
       "      <td>Proud American</td>\n",
       "      <td>2.193250e+07</td>\n",
       "      <td>3.136154e+07</td>\n",
       "      <td>1.289340e+05</td>\n",
       "      <td>9.751692e+06</td>\n",
       "    </tr>\n",
       "    <tr>\n",
       "      <th>16</th>\n",
       "      <td>https://youtu.be/JZVkLqcqmGk</td>\n",
       "      <td>443496</td>\n",
       "      <td>0.0</td>\n",
       "      <td>19253</td>\n",
       "      <td>Edmond</td>\n",
       "      <td>2.006726e+07</td>\n",
       "      <td>3.143254e+07</td>\n",
       "      <td>1.769138e+05</td>\n",
       "      <td>1.017775e+07</td>\n",
       "    </tr>\n",
       "    <tr>\n",
       "      <th>17</th>\n",
       "      <td>https://youtu.be/NgZI5VZvAy8</td>\n",
       "      <td>84805</td>\n",
       "      <td>0.0</td>\n",
       "      <td>5540470</td>\n",
       "      <td>Tootsie</td>\n",
       "      <td>2.278653e+07</td>\n",
       "      <td>3.137946e+07</td>\n",
       "      <td>9.521136e+05</td>\n",
       "      <td>6.293682e+06</td>\n",
       "    </tr>\n",
       "    <tr>\n",
       "      <th>18</th>\n",
       "      <td>https://youtu.be/oEp382HIisE</td>\n",
       "      <td>114898</td>\n",
       "      <td>0.0</td>\n",
       "      <td>21171780</td>\n",
       "      <td>Waterworld</td>\n",
       "      <td>2.592831e+07</td>\n",
       "      <td>3.111085e+07</td>\n",
       "      <td>1.725446e+06</td>\n",
       "      <td>1.668433e+07</td>\n",
       "    </tr>\n",
       "    <tr>\n",
       "      <th>19</th>\n",
       "      <td>https://youtu.be/7TavVZMewpY</td>\n",
       "      <td>6105098</td>\n",
       "      <td>0.0</td>\n",
       "      <td>191770759</td>\n",
       "      <td>The Lion King (2019)</td>\n",
       "      <td>2.258363e+07</td>\n",
       "      <td>3.086529e+07</td>\n",
       "      <td>1.477673e+05</td>\n",
       "      <td>3.682862e+07</td>\n",
       "    </tr>\n",
       "    <tr>\n",
       "      <th>20</th>\n",
       "      <td>https://youtu.be/H6MLJG0RdDE</td>\n",
       "      <td>8364368</td>\n",
       "      <td>0.0</td>\n",
       "      <td>12005210</td>\n",
       "      <td>Crawl</td>\n",
       "      <td>1.943510e+07</td>\n",
       "      <td>3.108293e+07</td>\n",
       "      <td>3.460994e+06</td>\n",
       "      <td>1.807905e+07</td>\n",
       "    </tr>\n",
       "    <tr>\n",
       "      <th>21</th>\n",
       "      <td>https://youtu.be/i5l6a5RiR1E</td>\n",
       "      <td>7734218</td>\n",
       "      <td>0.0</td>\n",
       "      <td>8225384</td>\n",
       "      <td>Stuber</td>\n",
       "      <td>2.476534e+07</td>\n",
       "      <td>3.017242e+07</td>\n",
       "      <td>6.334589e+05</td>\n",
       "      <td>3.163407e+07</td>\n",
       "    </tr>\n",
       "    <tr>\n",
       "      <th>22</th>\n",
       "      <td>https://youtu.be/1Vnghdsjmd0</td>\n",
       "      <td>8772262</td>\n",
       "      <td>0.0</td>\n",
       "      <td>6560030</td>\n",
       "      <td>Midsommar</td>\n",
       "      <td>1.865039e+07</td>\n",
       "      <td>3.143254e+07</td>\n",
       "      <td>1.268004e+05</td>\n",
       "      <td>2.009542e+06</td>\n",
       "    </tr>\n",
       "    <tr>\n",
       "      <th>23</th>\n",
       "      <td>https://youtu.be/NtU5Ow74P3Y</td>\n",
       "      <td>6320628</td>\n",
       "      <td>0.0</td>\n",
       "      <td>92579212</td>\n",
       "      <td>Spider-Man: Far from Home</td>\n",
       "      <td>1.405214e+07</td>\n",
       "      <td>3.100563e+07</td>\n",
       "      <td>2.005319e+07</td>\n",
       "      <td>2.111898e+07</td>\n",
       "    </tr>\n",
       "    <tr>\n",
       "      <th>24</th>\n",
       "      <td>https://youtu.be/6uqvgPm8U4c</td>\n",
       "      <td>8079248</td>\n",
       "      <td>0.0</td>\n",
       "      <td>17010050</td>\n",
       "      <td>Yesterday</td>\n",
       "      <td>1.421105e+07</td>\n",
       "      <td>3.144147e+07</td>\n",
       "      <td>2.861135e+06</td>\n",
       "      <td>1.091431e+07</td>\n",
       "    </tr>\n",
       "    <tr>\n",
       "      <th>25</th>\n",
       "      <td>https://youtu.be/bCxm7cTpBAs</td>\n",
       "      <td>8350360</td>\n",
       "      <td>0.0</td>\n",
       "      <td>20269723</td>\n",
       "      <td>Annabelle Comes Home</td>\n",
       "      <td>1.196608e+07</td>\n",
       "      <td>3.209448e+07</td>\n",
       "      <td>3.976280e+06</td>\n",
       "      <td>5.206331e+06</td>\n",
       "    </tr>\n",
       "    <tr>\n",
       "      <th>26</th>\n",
       "      <td>https://youtu.be/wmiIUN-7qhE</td>\n",
       "      <td>1979376</td>\n",
       "      <td>0.0</td>\n",
       "      <td>120908065</td>\n",
       "      <td>Toy Story 4</td>\n",
       "      <td>1.612220e+07</td>\n",
       "      <td>3.088712e+07</td>\n",
       "      <td>1.125125e+06</td>\n",
       "      <td>2.102583e+07</td>\n",
       "    </tr>\n",
       "    <tr>\n",
       "      <th>27</th>\n",
       "      <td>https://youtu.be/ZFy8ZgLd574</td>\n",
       "      <td>8663516</td>\n",
       "      <td>0.0</td>\n",
       "      <td>14094594</td>\n",
       "      <td>Child's Play (2019)</td>\n",
       "      <td>1.007547e+07</td>\n",
       "      <td>3.201987e+07</td>\n",
       "      <td>7.517990e+06</td>\n",
       "      <td>1.620358e+07</td>\n",
       "    </tr>\n",
       "    <tr>\n",
       "      <th>28</th>\n",
       "      <td>https://youtu.be/WgWsV9a3ENA</td>\n",
       "      <td>7456310</td>\n",
       "      <td>0.0</td>\n",
       "      <td>3600647</td>\n",
       "      <td>Anna (2019)</td>\n",
       "      <td>1.975151e+07</td>\n",
       "      <td>3.174685e+07</td>\n",
       "      <td>1.280229e+07</td>\n",
       "      <td>9.415556e+06</td>\n",
       "    </tr>\n",
       "    <tr>\n",
       "      <th>29</th>\n",
       "      <td>https://youtu.be/BV-WEb2oxLk</td>\n",
       "      <td>2283336</td>\n",
       "      <td>0.0</td>\n",
       "      <td>30035838</td>\n",
       "      <td>Men in Black International</td>\n",
       "      <td>2.440050e+07</td>\n",
       "      <td>3.105273e+07</td>\n",
       "      <td>3.886863e+07</td>\n",
       "      <td>2.343540e+07</td>\n",
       "    </tr>\n",
       "    <tr>\n",
       "      <th>...</th>\n",
       "      <td>...</td>\n",
       "      <td>...</td>\n",
       "      <td>...</td>\n",
       "      <td>...</td>\n",
       "      <td>...</td>\n",
       "      <td>...</td>\n",
       "      <td>...</td>\n",
       "      <td>...</td>\n",
       "      <td>...</td>\n",
       "    </tr>\n",
       "    <tr>\n",
       "      <th>72</th>\n",
       "      <td>https://youtu.be/io8Jw9BRRFY</td>\n",
       "      <td>100168</td>\n",
       "      <td>0.0</td>\n",
       "      <td>4387360</td>\n",
       "      <td>Mo Better Blues</td>\n",
       "      <td>3.139910e+07</td>\n",
       "      <td>3.136154e+07</td>\n",
       "      <td>6.126337e+05</td>\n",
       "      <td>1.596660e+07</td>\n",
       "    </tr>\n",
       "    <tr>\n",
       "      <th>73</th>\n",
       "      <td>https://youtu.be/2iBFmKlO4BY</td>\n",
       "      <td>103074</td>\n",
       "      <td>0.0</td>\n",
       "      <td>6101297</td>\n",
       "      <td>Thelma and Louise</td>\n",
       "      <td>1.665899e+07</td>\n",
       "      <td>2.963607e+07</td>\n",
       "      <td>1.150783e+06</td>\n",
       "      <td>7.953992e+06</td>\n",
       "    </tr>\n",
       "    <tr>\n",
       "      <th>74</th>\n",
       "      <td>https://youtu.be/pumf6m7d14w</td>\n",
       "      <td>102526</td>\n",
       "      <td>0.0</td>\n",
       "      <td>7039622</td>\n",
       "      <td>New Jack City</td>\n",
       "      <td>2.329367e+07</td>\n",
       "      <td>2.948236e+07</td>\n",
       "      <td>7.778053e+05</td>\n",
       "      <td>2.055577e+07</td>\n",
       "    </tr>\n",
       "    <tr>\n",
       "      <th>75</th>\n",
       "      <td>https://youtu.be/zzwPuJklv4w</td>\n",
       "      <td>104692</td>\n",
       "      <td>0.0</td>\n",
       "      <td>7751971</td>\n",
       "      <td>The Lawnmower Man</td>\n",
       "      <td>4.386173e+07</td>\n",
       "      <td>3.201987e+07</td>\n",
       "      <td>8.959178e+05</td>\n",
       "      <td>9.782965e+06</td>\n",
       "    </tr>\n",
       "    <tr>\n",
       "      <th>76</th>\n",
       "      <td>https://youtu.be/gG22XNhtnoY</td>\n",
       "      <td>108052</td>\n",
       "      <td>0.0</td>\n",
       "      <td>656636</td>\n",
       "      <td>Schindler's List</td>\n",
       "      <td>1.983324e+07</td>\n",
       "      <td>3.136154e+07</td>\n",
       "      <td>5.338592e+05</td>\n",
       "      <td>6.874487e+06</td>\n",
       "    </tr>\n",
       "    <tr>\n",
       "      <th>77</th>\n",
       "      <td>https://youtu.be/g-HeV8Z6iXc</td>\n",
       "      <td>109831</td>\n",
       "      <td>0.0</td>\n",
       "      <td>138486</td>\n",
       "      <td>Four Weddings and a Funeral</td>\n",
       "      <td>1.290637e+07</td>\n",
       "      <td>3.137946e+07</td>\n",
       "      <td>6.100585e+05</td>\n",
       "      <td>3.753404e+06</td>\n",
       "    </tr>\n",
       "    <tr>\n",
       "      <th>78</th>\n",
       "      <td>https://youtu.be/yNLaTtpovys</td>\n",
       "      <td>113161</td>\n",
       "      <td>0.0</td>\n",
       "      <td>12700007</td>\n",
       "      <td>Get Shorty</td>\n",
       "      <td>2.526864e+07</td>\n",
       "      <td>3.052005e+07</td>\n",
       "      <td>1.410464e+06</td>\n",
       "      <td>1.710494e+07</td>\n",
       "    </tr>\n",
       "    <tr>\n",
       "      <th>79</th>\n",
       "      <td>https://youtu.be/rCCaTPY-z4Q</td>\n",
       "      <td>116695</td>\n",
       "      <td>0.0</td>\n",
       "      <td>17084296</td>\n",
       "      <td>Jerry Maguire</td>\n",
       "      <td>2.228602e+07</td>\n",
       "      <td>3.137946e+07</td>\n",
       "      <td>5.066671e+05</td>\n",
       "      <td>1.396383e+07</td>\n",
       "    </tr>\n",
       "    <tr>\n",
       "      <th>80</th>\n",
       "      <td>https://youtu.be/IOmm1OD2ArQ</td>\n",
       "      <td>120490</td>\n",
       "      <td>0.0</td>\n",
       "      <td>66920</td>\n",
       "      <td>Welcome to Sarajevo</td>\n",
       "      <td>1.678865e+07</td>\n",
       "      <td>3.136154e+07</td>\n",
       "      <td>2.810418e+05</td>\n",
       "      <td>4.704053e+06</td>\n",
       "    </tr>\n",
       "    <tr>\n",
       "      <th>81</th>\n",
       "      <td>https://youtu.be/qFee7ad2Zgo</td>\n",
       "      <td>120376</td>\n",
       "      <td>0.0</td>\n",
       "      <td>217</td>\n",
       "      <td>Trojan War</td>\n",
       "      <td>1.328873e+07</td>\n",
       "      <td>3.206697e+07</td>\n",
       "      <td>1.003235e+06</td>\n",
       "      <td>1.052251e+07</td>\n",
       "    </tr>\n",
       "    <tr>\n",
       "      <th>82</th>\n",
       "      <td>https://youtu.be/JUEEOxIUOL8</td>\n",
       "      <td>119196</td>\n",
       "      <td>0.0</td>\n",
       "      <td>118278</td>\n",
       "      <td>The Gingerbread Man</td>\n",
       "      <td>1.803476e+07</td>\n",
       "      <td>3.046549e+07</td>\n",
       "      <td>6.241733e+05</td>\n",
       "      <td>2.471422e+07</td>\n",
       "    </tr>\n",
       "    <tr>\n",
       "      <th>83</th>\n",
       "      <td>https://youtu.be/NJP7JzpfO88</td>\n",
       "      <td>161023</td>\n",
       "      <td>0.0</td>\n",
       "      <td>80030</td>\n",
       "      <td>Tumbleweeds</td>\n",
       "      <td>1.961129e+07</td>\n",
       "      <td>3.137946e+07</td>\n",
       "      <td>3.653469e+05</td>\n",
       "      <td>1.578920e+07</td>\n",
       "    </tr>\n",
       "    <tr>\n",
       "      <th>84</th>\n",
       "      <td>https://youtu.be/i6zhRf6uQyA</td>\n",
       "      <td>216772</td>\n",
       "      <td>0.0</td>\n",
       "      <td>576820</td>\n",
       "      <td>Turn it up</td>\n",
       "      <td>3.398553e+07</td>\n",
       "      <td>2.945919e+07</td>\n",
       "      <td>4.769230e+05</td>\n",
       "      <td>1.564799e+07</td>\n",
       "    </tr>\n",
       "    <tr>\n",
       "      <th>85</th>\n",
       "      <td>https://youtu.be/BPQQe2fFM3Q</td>\n",
       "      <td>180052</td>\n",
       "      <td>0.0</td>\n",
       "      <td>2182900</td>\n",
       "      <td>The Adventures of Pluto Nash</td>\n",
       "      <td>3.376489e+07</td>\n",
       "      <td>3.173731e+07</td>\n",
       "      <td>9.375257e+05</td>\n",
       "      <td>1.195606e+07</td>\n",
       "    </tr>\n",
       "    <tr>\n",
       "      <th>86</th>\n",
       "      <td>https://youtu.be/r5X-hFf6Bwo</td>\n",
       "      <td>167260</td>\n",
       "      <td>0.0</td>\n",
       "      <td>72629713</td>\n",
       "      <td>The Lord of the Rings: The Return of the King</td>\n",
       "      <td>4.147836e+07</td>\n",
       "      <td>3.011402e+07</td>\n",
       "      <td>2.851015e+05</td>\n",
       "      <td>9.946494e+07</td>\n",
       "    </tr>\n",
       "    <tr>\n",
       "      <th>87</th>\n",
       "      <td>https://youtu.be/lAxgztbYDbs</td>\n",
       "      <td>304141</td>\n",
       "      <td>0.0</td>\n",
       "      <td>93687367</td>\n",
       "      <td>Harry Potter and the Prisoner of Azkaban</td>\n",
       "      <td>1.597351e+07</td>\n",
       "      <td>3.095197e+07</td>\n",
       "      <td>1.255135e+06</td>\n",
       "      <td>8.194483e+07</td>\n",
       "    </tr>\n",
       "    <tr>\n",
       "      <th>88</th>\n",
       "      <td>https://youtu.be/KIk5rfA5uWE</td>\n",
       "      <td>371257</td>\n",
       "      <td>0.0</td>\n",
       "      <td>2188199</td>\n",
       "      <td>Stay</td>\n",
       "      <td>2.096951e+07</td>\n",
       "      <td>3.143254e+07</td>\n",
       "      <td>2.082766e+05</td>\n",
       "      <td>2.388011e+07</td>\n",
       "    </tr>\n",
       "    <tr>\n",
       "      <th>89</th>\n",
       "      <td>https://youtu.be/Q5hA3PN0uic</td>\n",
       "      <td>460792</td>\n",
       "      <td>0.0</td>\n",
       "      <td>410804</td>\n",
       "      <td>Fast Food Nation</td>\n",
       "      <td>2.560203e+07</td>\n",
       "      <td>3.145228e+07</td>\n",
       "      <td>2.702713e+05</td>\n",
       "      <td>4.629279e+06</td>\n",
       "    </tr>\n",
       "    <tr>\n",
       "      <th>90</th>\n",
       "      <td>https://youtu.be/g7ArZ7VD-QQ</td>\n",
       "      <td>758758</td>\n",
       "      <td>0.0</td>\n",
       "      <td>212440</td>\n",
       "      <td>Into the Wild</td>\n",
       "      <td>1.753379e+07</td>\n",
       "      <td>3.068048e+07</td>\n",
       "      <td>4.029425e+05</td>\n",
       "      <td>2.100563e+07</td>\n",
       "    </tr>\n",
       "    <tr>\n",
       "      <th>91</th>\n",
       "      <td>https://youtu.be/61-GFxjTyV0</td>\n",
       "      <td>1125849</td>\n",
       "      <td>0.0</td>\n",
       "      <td>202714</td>\n",
       "      <td>The Wrestler</td>\n",
       "      <td>2.176916e+07</td>\n",
       "      <td>3.136154e+07</td>\n",
       "      <td>6.638311e+05</td>\n",
       "      <td>1.246736e+07</td>\n",
       "    </tr>\n",
       "    <tr>\n",
       "      <th>92</th>\n",
       "      <td>https://youtu.be/AIzbwV7on6Q</td>\n",
       "      <td>1010048</td>\n",
       "      <td>0.0</td>\n",
       "      <td>360018</td>\n",
       "      <td>Slumdog Millionaire</td>\n",
       "      <td>1.921617e+07</td>\n",
       "      <td>3.136154e+07</td>\n",
       "      <td>1.881458e+06</td>\n",
       "      <td>8.143138e+06</td>\n",
       "    </tr>\n",
       "    <tr>\n",
       "      <th>93</th>\n",
       "      <td>https://youtu.be/Fi9AVKqHzHU</td>\n",
       "      <td>1116184</td>\n",
       "      <td>0.0</td>\n",
       "      <td>50353641</td>\n",
       "      <td>Jackass 3-D</td>\n",
       "      <td>2.809487e+07</td>\n",
       "      <td>2.976980e+07</td>\n",
       "      <td>6.996984e+06</td>\n",
       "      <td>2.990930e+07</td>\n",
       "    </tr>\n",
       "    <tr>\n",
       "      <th>94</th>\n",
       "      <td>https://youtu.be/6kw1UVovByw</td>\n",
       "      <td>1074638</td>\n",
       "      <td>0.0</td>\n",
       "      <td>88364714</td>\n",
       "      <td>Skyfall</td>\n",
       "      <td>5.311482e+07</td>\n",
       "      <td>3.111085e+07</td>\n",
       "      <td>1.213293e+08</td>\n",
       "      <td>4.960188e+07</td>\n",
       "    </tr>\n",
       "    <tr>\n",
       "      <th>95</th>\n",
       "      <td>https://youtu.be/C_Tsj_wTJkQ</td>\n",
       "      <td>1951265</td>\n",
       "      <td>0.0</td>\n",
       "      <td>121897634</td>\n",
       "      <td>The Hunger Games: Mocking Jay - Part 1</td>\n",
       "      <td>3.131876e+07</td>\n",
       "      <td>3.111085e+07</td>\n",
       "      <td>1.421557e+08</td>\n",
       "      <td>6.487908e+07</td>\n",
       "    </tr>\n",
       "    <tr>\n",
       "      <th>96</th>\n",
       "      <td>https://youtu.be/RFinNxS5KN4</td>\n",
       "      <td>369610</td>\n",
       "      <td>0.0</td>\n",
       "      <td>208806270</td>\n",
       "      <td>Jurassic World</td>\n",
       "      <td>7.900361e+07</td>\n",
       "      <td>3.100563e+07</td>\n",
       "      <td>2.145069e+05</td>\n",
       "      <td>1.158159e+08</td>\n",
       "    </tr>\n",
       "    <tr>\n",
       "      <th>97</th>\n",
       "      <td>https://youtu.be/KqRdVOQ98k8</td>\n",
       "      <td>2582500</td>\n",
       "      <td>0.0</td>\n",
       "      <td>3613567</td>\n",
       "      <td>Shut In</td>\n",
       "      <td>2.272192e+07</td>\n",
       "      <td>3.143254e+07</td>\n",
       "      <td>1.239530e+06</td>\n",
       "      <td>8.216250e+06</td>\n",
       "    </tr>\n",
       "    <tr>\n",
       "      <th>98</th>\n",
       "      <td>https://youtu.be/Vu4UPet8Nyc</td>\n",
       "      <td>4209788</td>\n",
       "      <td>0.0</td>\n",
       "      <td>1172036</td>\n",
       "      <td>Molly's Game</td>\n",
       "      <td>2.012387e+07</td>\n",
       "      <td>2.979082e+07</td>\n",
       "      <td>5.339843e+05</td>\n",
       "      <td>1.007456e+07</td>\n",
       "    </tr>\n",
       "    <tr>\n",
       "      <th>99</th>\n",
       "      <td>https://youtu.be/7Pa_Weidt08</td>\n",
       "      <td>5117670</td>\n",
       "      <td>0.0</td>\n",
       "      <td>25010928</td>\n",
       "      <td>Peter Rabbit</td>\n",
       "      <td>2.322778e+07</td>\n",
       "      <td>3.088712e+07</td>\n",
       "      <td>4.301576e+07</td>\n",
       "      <td>3.861716e+07</td>\n",
       "    </tr>\n",
       "    <tr>\n",
       "      <th>100</th>\n",
       "      <td>https://youtu.be/pFc6I0rgmgY</td>\n",
       "      <td>4209788</td>\n",
       "      <td>0.0</td>\n",
       "      <td>10845330</td>\n",
       "      <td>BlacKkKlansman</td>\n",
       "      <td>3.640176e+07</td>\n",
       "      <td>2.979082e+07</td>\n",
       "      <td>5.339843e+05</td>\n",
       "      <td>1.007456e+07</td>\n",
       "    </tr>\n",
       "    <tr>\n",
       "      <th>101</th>\n",
       "      <td>https://youtu.be/JAHKQPBKSZ8</td>\n",
       "      <td>4154916</td>\n",
       "      <td>0.0</td>\n",
       "      <td>2375325</td>\n",
       "      <td>Replicas</td>\n",
       "      <td>3.372804e+07</td>\n",
       "      <td>3.143254e+07</td>\n",
       "      <td>6.039431e+06</td>\n",
       "      <td>1.412263e+07</td>\n",
       "    </tr>\n",
       "  </tbody>\n",
       "</table>\n",
       "<p>102 rows × 9 columns</p>\n",
       "</div>"
      ],
      "text/plain": [
       "                              url  imdb_id  prediction  ground_truth  \\\n",
       "0    https://youtu.be/I1C2gCXo4Gs   190590         0.0        195104   \n",
       "1    https://youtu.be/PQNLfo-SOR4  1324999         0.0     138122261   \n",
       "2    https://youtu.be/Ocz50YJOFTM  1673434         0.0     141067634   \n",
       "3    https://youtu.be/gk39pXpBpFo  1394211         0.0          2692   \n",
       "4    https://youtu.be/Ol6j9xlQN1w  1470827         0.0         20508   \n",
       "5    https://youtu.be/BuE98oeL-e0  1584016         0.0        257285   \n",
       "6    https://youtu.be/-JZ_moituIo  1245526         0.0      21761408   \n",
       "7    https://youtu.be/LrceH3952Hg  1152822         0.0         31893   \n",
       "8    https://youtu.be/xrQt_pwGdB0  1032751         0.0       3048665   \n",
       "9    https://youtu.be/evhh3NE3fyw  1423995         0.0         75766   \n",
       "10   https://youtu.be/XBfcGLBJ2Uc  1142977         0.0      11412213   \n",
       "11   https://youtu.be/nlvYKl1fjBI   401729         0.0      30180188   \n",
       "12   https://youtu.be/AJ_1eS2Erhk  1564349         0.0      19152401   \n",
       "13   https://youtu.be/retX8Wj7JdM  1911658         0.0      25447444   \n",
       "14   https://youtu.be/dVDk7PXNXB8  2293640         0.0     115718405   \n",
       "15   https://youtu.be/T1GO-Jlfa58  1008023         0.0         96076   \n",
       "16   https://youtu.be/JZVkLqcqmGk   443496         0.0         19253   \n",
       "17   https://youtu.be/NgZI5VZvAy8    84805         0.0       5540470   \n",
       "18   https://youtu.be/oEp382HIisE   114898         0.0      21171780   \n",
       "19   https://youtu.be/7TavVZMewpY  6105098         0.0     191770759   \n",
       "20   https://youtu.be/H6MLJG0RdDE  8364368         0.0      12005210   \n",
       "21   https://youtu.be/i5l6a5RiR1E  7734218         0.0       8225384   \n",
       "22   https://youtu.be/1Vnghdsjmd0  8772262         0.0       6560030   \n",
       "23   https://youtu.be/NtU5Ow74P3Y  6320628         0.0      92579212   \n",
       "24   https://youtu.be/6uqvgPm8U4c  8079248         0.0      17010050   \n",
       "25   https://youtu.be/bCxm7cTpBAs  8350360         0.0      20269723   \n",
       "26   https://youtu.be/wmiIUN-7qhE  1979376         0.0     120908065   \n",
       "27   https://youtu.be/ZFy8ZgLd574  8663516         0.0      14094594   \n",
       "28   https://youtu.be/WgWsV9a3ENA  7456310         0.0       3600647   \n",
       "29   https://youtu.be/BV-WEb2oxLk  2283336         0.0      30035838   \n",
       "..                            ...      ...         ...           ...   \n",
       "72   https://youtu.be/io8Jw9BRRFY   100168         0.0       4387360   \n",
       "73   https://youtu.be/2iBFmKlO4BY   103074         0.0       6101297   \n",
       "74   https://youtu.be/pumf6m7d14w   102526         0.0       7039622   \n",
       "75   https://youtu.be/zzwPuJklv4w   104692         0.0       7751971   \n",
       "76   https://youtu.be/gG22XNhtnoY   108052         0.0        656636   \n",
       "77   https://youtu.be/g-HeV8Z6iXc   109831         0.0        138486   \n",
       "78   https://youtu.be/yNLaTtpovys   113161         0.0      12700007   \n",
       "79   https://youtu.be/rCCaTPY-z4Q   116695         0.0      17084296   \n",
       "80   https://youtu.be/IOmm1OD2ArQ   120490         0.0         66920   \n",
       "81   https://youtu.be/qFee7ad2Zgo   120376         0.0           217   \n",
       "82   https://youtu.be/JUEEOxIUOL8   119196         0.0        118278   \n",
       "83   https://youtu.be/NJP7JzpfO88   161023         0.0         80030   \n",
       "84   https://youtu.be/i6zhRf6uQyA   216772         0.0        576820   \n",
       "85   https://youtu.be/BPQQe2fFM3Q   180052         0.0       2182900   \n",
       "86   https://youtu.be/r5X-hFf6Bwo   167260         0.0      72629713   \n",
       "87   https://youtu.be/lAxgztbYDbs   304141         0.0      93687367   \n",
       "88   https://youtu.be/KIk5rfA5uWE   371257         0.0       2188199   \n",
       "89   https://youtu.be/Q5hA3PN0uic   460792         0.0        410804   \n",
       "90   https://youtu.be/g7ArZ7VD-QQ   758758         0.0        212440   \n",
       "91   https://youtu.be/61-GFxjTyV0  1125849         0.0        202714   \n",
       "92   https://youtu.be/AIzbwV7on6Q  1010048         0.0        360018   \n",
       "93   https://youtu.be/Fi9AVKqHzHU  1116184         0.0      50353641   \n",
       "94   https://youtu.be/6kw1UVovByw  1074638         0.0      88364714   \n",
       "95   https://youtu.be/C_Tsj_wTJkQ  1951265         0.0     121897634   \n",
       "96   https://youtu.be/RFinNxS5KN4   369610         0.0     208806270   \n",
       "97   https://youtu.be/KqRdVOQ98k8  2582500         0.0       3613567   \n",
       "98   https://youtu.be/Vu4UPet8Nyc  4209788         0.0       1172036   \n",
       "99   https://youtu.be/7Pa_Weidt08  5117670         0.0      25010928   \n",
       "100  https://youtu.be/pFc6I0rgmgY  4209788         0.0      10845330   \n",
       "101  https://youtu.be/JAHKQPBKSZ8  4154916         0.0       2375325   \n",
       "\n",
       "                                              name    pred_video  \\\n",
       "0                       O Brother, Where Art Thou?  2.970865e+07   \n",
       "1          The Twilight Saga: Breaking Dawn Part 1  5.792866e+07   \n",
       "2          The Twilight Saga: Breaking Dawn Part 2  4.797126e+07   \n",
       "3                          Helena From the Wedding  2.123185e+07   \n",
       "4                                         Monsters  3.563304e+07   \n",
       "5                                          Catfish  2.630274e+07   \n",
       "6                                              Red  2.354779e+07   \n",
       "7                                     Freakonomics  2.412932e+07   \n",
       "8                                The Warrior's Way  3.331917e+07   \n",
       "9                                            Stone  2.487547e+07   \n",
       "10                                   Frankenweenie  1.697270e+07   \n",
       "11                                     John Carter  2.657526e+07   \n",
       "12                                    Dolphin Tale  2.372305e+07   \n",
       "13                          Penguins of Madagascar  1.749704e+07   \n",
       "14                                         Minions  1.986199e+07   \n",
       "15                                  Proud American  2.193250e+07   \n",
       "16                                          Edmond  2.006726e+07   \n",
       "17                                         Tootsie  2.278653e+07   \n",
       "18                                      Waterworld  2.592831e+07   \n",
       "19                            The Lion King (2019)  2.258363e+07   \n",
       "20                                           Crawl  1.943510e+07   \n",
       "21                                          Stuber  2.476534e+07   \n",
       "22                                       Midsommar  1.865039e+07   \n",
       "23                       Spider-Man: Far from Home  1.405214e+07   \n",
       "24                                       Yesterday  1.421105e+07   \n",
       "25                            Annabelle Comes Home  1.196608e+07   \n",
       "26                                     Toy Story 4  1.612220e+07   \n",
       "27                             Child's Play (2019)  1.007547e+07   \n",
       "28                                     Anna (2019)  1.975151e+07   \n",
       "29                      Men in Black International  2.440050e+07   \n",
       "..                                             ...           ...   \n",
       "72                                 Mo Better Blues  3.139910e+07   \n",
       "73                               Thelma and Louise  1.665899e+07   \n",
       "74                                   New Jack City  2.329367e+07   \n",
       "75                               The Lawnmower Man  4.386173e+07   \n",
       "76                                Schindler's List  1.983324e+07   \n",
       "77                     Four Weddings and a Funeral  1.290637e+07   \n",
       "78                                      Get Shorty  2.526864e+07   \n",
       "79                                   Jerry Maguire  2.228602e+07   \n",
       "80                             Welcome to Sarajevo  1.678865e+07   \n",
       "81                                      Trojan War  1.328873e+07   \n",
       "82                             The Gingerbread Man  1.803476e+07   \n",
       "83                                     Tumbleweeds  1.961129e+07   \n",
       "84                                      Turn it up  3.398553e+07   \n",
       "85                    The Adventures of Pluto Nash  3.376489e+07   \n",
       "86   The Lord of the Rings: The Return of the King  4.147836e+07   \n",
       "87        Harry Potter and the Prisoner of Azkaban  1.597351e+07   \n",
       "88                                            Stay  2.096951e+07   \n",
       "89                                Fast Food Nation  2.560203e+07   \n",
       "90                                   Into the Wild  1.753379e+07   \n",
       "91                                    The Wrestler  2.176916e+07   \n",
       "92                             Slumdog Millionaire  1.921617e+07   \n",
       "93                                     Jackass 3-D  2.809487e+07   \n",
       "94                                         Skyfall  5.311482e+07   \n",
       "95          The Hunger Games: Mocking Jay - Part 1  3.131876e+07   \n",
       "96                                  Jurassic World  7.900361e+07   \n",
       "97                                         Shut In  2.272192e+07   \n",
       "98                                    Molly's Game  2.012387e+07   \n",
       "99                                    Peter Rabbit  2.322778e+07   \n",
       "100                                 BlacKkKlansman  3.640176e+07   \n",
       "101                                       Replicas  3.372804e+07   \n",
       "\n",
       "      pred_meta_1   pred_meta_2   pred_meta_3  \n",
       "0    3.031546e+07  9.215780e+05  1.053903e+07  \n",
       "1    3.011402e+07  2.571548e+07  8.699655e+07  \n",
       "2    3.011402e+07  3.228228e+07  8.159196e+07  \n",
       "3    3.137946e+07  1.367080e+05  1.130512e+07  \n",
       "4    3.143254e+07  8.611955e+04  2.155816e+06  \n",
       "5    2.962939e+07  8.724473e+04  4.648542e+06  \n",
       "6    3.017242e+07  3.664363e+07  2.487867e+07  \n",
       "7    3.007248e+07  2.156645e+05  4.476887e+06  \n",
       "8    3.106471e+07  4.455115e+06  1.711241e+07  \n",
       "9    3.143254e+07  1.136015e+06  1.847546e+07  \n",
       "10   3.217715e+07  1.107707e+07  4.430687e+07  \n",
       "11   3.100563e+07  2.929687e+05  3.350591e+07  \n",
       "12   3.158367e+07  2.698802e+06  1.630375e+07  \n",
       "13   3.151262e+07  6.609058e+07  4.028345e+07  \n",
       "14   3.151262e+07  1.182170e+08  2.842476e+07  \n",
       "15   3.136154e+07  1.289340e+05  9.751692e+06  \n",
       "16   3.143254e+07  1.769138e+05  1.017775e+07  \n",
       "17   3.137946e+07  9.521136e+05  6.293682e+06  \n",
       "18   3.111085e+07  1.725446e+06  1.668433e+07  \n",
       "19   3.086529e+07  1.477673e+05  3.682862e+07  \n",
       "20   3.108293e+07  3.460994e+06  1.807905e+07  \n",
       "21   3.017242e+07  6.334589e+05  3.163407e+07  \n",
       "22   3.143254e+07  1.268004e+05  2.009542e+06  \n",
       "23   3.100563e+07  2.005319e+07  2.111898e+07  \n",
       "24   3.144147e+07  2.861135e+06  1.091431e+07  \n",
       "25   3.209448e+07  3.976280e+06  5.206331e+06  \n",
       "26   3.088712e+07  1.125125e+06  2.102583e+07  \n",
       "27   3.201987e+07  7.517990e+06  1.620358e+07  \n",
       "28   3.174685e+07  1.280229e+07  9.415556e+06  \n",
       "29   3.105273e+07  3.886863e+07  2.343540e+07  \n",
       "..            ...           ...           ...  \n",
       "72   3.136154e+07  6.126337e+05  1.596660e+07  \n",
       "73   2.963607e+07  1.150783e+06  7.953992e+06  \n",
       "74   2.948236e+07  7.778053e+05  2.055577e+07  \n",
       "75   3.201987e+07  8.959178e+05  9.782965e+06  \n",
       "76   3.136154e+07  5.338592e+05  6.874487e+06  \n",
       "77   3.137946e+07  6.100585e+05  3.753404e+06  \n",
       "78   3.052005e+07  1.410464e+06  1.710494e+07  \n",
       "79   3.137946e+07  5.066671e+05  1.396383e+07  \n",
       "80   3.136154e+07  2.810418e+05  4.704053e+06  \n",
       "81   3.206697e+07  1.003235e+06  1.052251e+07  \n",
       "82   3.046549e+07  6.241733e+05  2.471422e+07  \n",
       "83   3.137946e+07  3.653469e+05  1.578920e+07  \n",
       "84   2.945919e+07  4.769230e+05  1.564799e+07  \n",
       "85   3.173731e+07  9.375257e+05  1.195606e+07  \n",
       "86   3.011402e+07  2.851015e+05  9.946494e+07  \n",
       "87   3.095197e+07  1.255135e+06  8.194483e+07  \n",
       "88   3.143254e+07  2.082766e+05  2.388011e+07  \n",
       "89   3.145228e+07  2.702713e+05  4.629279e+06  \n",
       "90   3.068048e+07  4.029425e+05  2.100563e+07  \n",
       "91   3.136154e+07  6.638311e+05  1.246736e+07  \n",
       "92   3.136154e+07  1.881458e+06  8.143138e+06  \n",
       "93   2.976980e+07  6.996984e+06  2.990930e+07  \n",
       "94   3.111085e+07  1.213293e+08  4.960188e+07  \n",
       "95   3.111085e+07  1.421557e+08  6.487908e+07  \n",
       "96   3.100563e+07  2.145069e+05  1.158159e+08  \n",
       "97   3.143254e+07  1.239530e+06  8.216250e+06  \n",
       "98   2.979082e+07  5.339843e+05  1.007456e+07  \n",
       "99   3.088712e+07  4.301576e+07  3.861716e+07  \n",
       "100  2.979082e+07  5.339843e+05  1.007456e+07  \n",
       "101  3.143254e+07  6.039431e+06  1.412263e+07  \n",
       "\n",
       "[102 rows x 9 columns]"
      ]
     },
     "execution_count": 14,
     "metadata": {},
     "output_type": "execute_result"
    }
   ],
   "source": [
    "g1_result_final = g1_result_final.drop_duplicates(subset=None, keep='first', inplace=False)\n",
    "g1_result_final = g1_result_final.fillna(0)\n",
    "g1_result_final"
   ]
  },
  {
   "cell_type": "code",
   "execution_count": 19,
   "metadata": {},
   "outputs": [
    {
     "data": {
      "application/vnd.plotly.v1+json": {
       "config": {
        "plotlyServerURL": "https://plot.ly"
       },
       "data": [
        {
         "marker": {
          "color": [
           195104,
           138122261,
           141067634,
           2692,
           20508,
           257285,
           21761408,
           31893,
           3048665,
           75766,
           11412213,
           30180188,
           19152401,
           25447444,
           115718405,
           96076,
           19253,
           5540470,
           21171780,
           191770759,
           12005210,
           8225384,
           6560030,
           92579212,
           17010050,
           20269723,
           120908065,
           14094594,
           3600647,
           30035838,
           8901419,
           246305,
           46652680,
           32828348,
           47776293,
           25725722,
           23019618,
           25337110,
           318403,
           117161,
           26334,
           7061513,
           7465343,
           31665,
           8085915,
           7610663,
           14711124,
           587591,
           789409,
           41082018,
           5533844,
           284776,
           5324240,
           340456,
           115418,
           9454238,
           6275647,
           11152500,
           8570007,
           7348200,
           14347221,
           4858152,
           25642340,
           15269388,
           71117625,
           21401121,
           9858380,
           14102888,
           15214805,
           55214334,
           9292248,
           24733155,
           4387360,
           6101297,
           7039622,
           7751971,
           656636,
           138486,
           12700007,
           17084296,
           66920,
           217,
           118278,
           80030,
           576820,
           2182900,
           72629713,
           93687367,
           2188199,
           410804,
           212440,
           202714,
           360018,
           50353641,
           88364714,
           121897634,
           208806270,
           3613567,
           1172036,
           25010928,
           10845330,
           2375325
          ]
         },
         "mode": "markers",
         "text": [
          "O Brother, Where Art Thou?",
          "The Twilight Saga: Breaking Dawn Part 1",
          "The Twilight Saga: Breaking Dawn Part 2",
          "Helena From the Wedding",
          "Monsters",
          "Catfish",
          "Red",
          "Freakonomics",
          "The Warrior's Way",
          "Stone",
          "Frankenweenie",
          "John Carter",
          "Dolphin Tale",
          "Penguins of Madagascar",
          "Minions",
          "Proud American",
          "Edmond",
          "Tootsie",
          "Waterworld",
          "The Lion King (2019)",
          "Crawl",
          "Stuber",
          "Midsommar",
          "Spider-Man: Far from Home",
          "Yesterday",
          "Annabelle Comes Home",
          "Toy Story 4",
          "Child's Play (2019)",
          "Anna (2019)",
          "Men in Black International",
          "Shaft (2019) ",
          "Late Night",
          "The Secret Life of Pets 2",
          "Dark Phoenix",
          "Godzilla:King of the Monsters",
          "Rocketman",
          "Return of the Jedi",
          "Indiana Jones and the Temple of Doom",
          "The Idolmaker",
          "The Grass Harp",
          "The Grand",
          "Jaws",
          "Superman (1978)",
          "Clerks",
          "Juice",
          "He Got Game",
          "White Men Can't Jump",
          "Mulholland Drive",
          "Blue Velvet",
          "Once Upon a Time in Hollywood",
          "The Big Lebowski",
          "Train to Busan",
          "Pride and Prejudice and Zombies",
          "Dead Poets Society",
          "A Fish Called Wanda",
          "The Witches of Eastwick",
          "Ferris Bueller's Day Off",
          "Back to the Future",
          "Police Academy",
          "Trading Places",
          "Star Trek II The Wrath of Khan",
          "The Blues Brothers",
          "V For Vendetta",
          "In the Line of Fire",
          "Us",
          "The Forbidden Kingdom",
          "Rumble in the Bronx",
          "Machete",
          "Beverly Hills Cop",
          "Watchmen",
          "Jackie Brown",
          "Zombieland",
          "Mo Better Blues",
          "Thelma and Louise",
          "New Jack City",
          "The Lawnmower Man",
          "Schindler's List",
          "Four Weddings and a Funeral",
          "Get Shorty",
          "Jerry Maguire",
          "Welcome to Sarajevo",
          "Trojan War",
          "The Gingerbread Man",
          "Tumbleweeds",
          "Turn it up",
          "The Adventures of Pluto Nash",
          "The Lord of the Rings: The Return of the King",
          "Harry Potter and the Prisoner of Azkaban",
          "Stay",
          "Fast Food Nation",
          "Into the Wild",
          "The Wrestler",
          "Slumdog Millionaire",
          "Jackass 3-D",
          "Skyfall",
          "The Hunger Games: Mocking Jay - Part 1",
          "Jurassic World",
          "Shut In",
          "Molly's Game",
          "Peter Rabbit",
          "BlacKkKlansman",
          "Replicas"
         ],
         "type": "scatter",
         "x": [
          "O Brother, Where Art Thou?",
          "The Twilight Saga: Breaking Dawn Part 1",
          "The Twilight Saga: Breaking Dawn Part 2",
          "Helena From the Wedding",
          "Monsters",
          "Catfish",
          "Red",
          "Freakonomics",
          "The Warrior's Way",
          "Stone",
          "Frankenweenie",
          "John Carter",
          "Dolphin Tale",
          "Penguins of Madagascar",
          "Minions",
          "Proud American",
          "Edmond",
          "Tootsie",
          "Waterworld",
          "The Lion King (2019)",
          "Crawl",
          "Stuber",
          "Midsommar",
          "Spider-Man: Far from Home",
          "Yesterday",
          "Annabelle Comes Home",
          "Toy Story 4",
          "Child's Play (2019)",
          "Anna (2019)",
          "Men in Black International",
          "Shaft (2019) ",
          "Late Night",
          "The Secret Life of Pets 2",
          "Dark Phoenix",
          "Godzilla:King of the Monsters",
          "Rocketman",
          "Return of the Jedi",
          "Indiana Jones and the Temple of Doom",
          "The Idolmaker",
          "The Grass Harp",
          "The Grand",
          "Jaws",
          "Superman (1978)",
          "Clerks",
          "Juice",
          "He Got Game",
          "White Men Can't Jump",
          "Mulholland Drive",
          "Blue Velvet",
          "Once Upon a Time in Hollywood",
          "The Big Lebowski",
          "Train to Busan",
          "Pride and Prejudice and Zombies",
          "Dead Poets Society",
          "A Fish Called Wanda",
          "The Witches of Eastwick",
          "Ferris Bueller's Day Off",
          "Back to the Future",
          "Police Academy",
          "Trading Places",
          "Star Trek II The Wrath of Khan",
          "The Blues Brothers",
          "V For Vendetta",
          "In the Line of Fire",
          "Us",
          "The Forbidden Kingdom",
          "Rumble in the Bronx",
          "Machete",
          "Beverly Hills Cop",
          "Watchmen",
          "Jackie Brown",
          "Zombieland",
          "Mo Better Blues",
          "Thelma and Louise",
          "New Jack City",
          "The Lawnmower Man",
          "Schindler's List",
          "Four Weddings and a Funeral",
          "Get Shorty",
          "Jerry Maguire",
          "Welcome to Sarajevo",
          "Trojan War",
          "The Gingerbread Man",
          "Tumbleweeds",
          "Turn it up",
          "The Adventures of Pluto Nash",
          "The Lord of the Rings: The Return of the King",
          "Harry Potter and the Prisoner of Azkaban",
          "Stay",
          "Fast Food Nation",
          "Into the Wild",
          "The Wrestler",
          "Slumdog Millionaire",
          "Jackass 3-D",
          "Skyfall",
          "The Hunger Games: Mocking Jay - Part 1",
          "Jurassic World",
          "Shut In",
          "Molly's Game",
          "Peter Rabbit",
          "BlacKkKlansman",
          "Replicas"
         ],
         "y": [
          195104,
          138122261,
          141067634,
          2692,
          20508,
          257285,
          21761408,
          31893,
          3048665,
          75766,
          11412213,
          30180188,
          19152401,
          25447444,
          115718405,
          96076,
          19253,
          5540470,
          21171780,
          191770759,
          12005210,
          8225384,
          6560030,
          92579212,
          17010050,
          20269723,
          120908065,
          14094594,
          3600647,
          30035838,
          8901419,
          246305,
          46652680,
          32828348,
          47776293,
          25725722,
          23019618,
          25337110,
          318403,
          117161,
          26334,
          7061513,
          7465343,
          31665,
          8085915,
          7610663,
          14711124,
          587591,
          789409,
          41082018,
          5533844,
          284776,
          5324240,
          340456,
          115418,
          9454238,
          6275647,
          11152500,
          8570007,
          7348200,
          14347221,
          4858152,
          25642340,
          15269388,
          71117625,
          21401121,
          9858380,
          14102888,
          15214805,
          55214334,
          9292248,
          24733155,
          4387360,
          6101297,
          7039622,
          7751971,
          656636,
          138486,
          12700007,
          17084296,
          66920,
          217,
          118278,
          80030,
          576820,
          2182900,
          72629713,
          93687367,
          2188199,
          410804,
          212440,
          202714,
          360018,
          50353641,
          88364714,
          121897634,
          208806270,
          3613567,
          1172036,
          25010928,
          10845330,
          2375325
         ]
        }
       ],
       "layout": {
        "template": {
         "data": {
          "bar": [
           {
            "error_x": {
             "color": "#2a3f5f"
            },
            "error_y": {
             "color": "#2a3f5f"
            },
            "marker": {
             "line": {
              "color": "#E5ECF6",
              "width": 0.5
             }
            },
            "type": "bar"
           }
          ],
          "barpolar": [
           {
            "marker": {
             "line": {
              "color": "#E5ECF6",
              "width": 0.5
             }
            },
            "type": "barpolar"
           }
          ],
          "carpet": [
           {
            "aaxis": {
             "endlinecolor": "#2a3f5f",
             "gridcolor": "white",
             "linecolor": "white",
             "minorgridcolor": "white",
             "startlinecolor": "#2a3f5f"
            },
            "baxis": {
             "endlinecolor": "#2a3f5f",
             "gridcolor": "white",
             "linecolor": "white",
             "minorgridcolor": "white",
             "startlinecolor": "#2a3f5f"
            },
            "type": "carpet"
           }
          ],
          "choropleth": [
           {
            "colorbar": {
             "outlinewidth": 0,
             "ticks": ""
            },
            "type": "choropleth"
           }
          ],
          "contour": [
           {
            "colorbar": {
             "outlinewidth": 0,
             "ticks": ""
            },
            "colorscale": [
             [
              0,
              "#0d0887"
             ],
             [
              0.1111111111111111,
              "#46039f"
             ],
             [
              0.2222222222222222,
              "#7201a8"
             ],
             [
              0.3333333333333333,
              "#9c179e"
             ],
             [
              0.4444444444444444,
              "#bd3786"
             ],
             [
              0.5555555555555556,
              "#d8576b"
             ],
             [
              0.6666666666666666,
              "#ed7953"
             ],
             [
              0.7777777777777778,
              "#fb9f3a"
             ],
             [
              0.8888888888888888,
              "#fdca26"
             ],
             [
              1,
              "#f0f921"
             ]
            ],
            "type": "contour"
           }
          ],
          "contourcarpet": [
           {
            "colorbar": {
             "outlinewidth": 0,
             "ticks": ""
            },
            "type": "contourcarpet"
           }
          ],
          "heatmap": [
           {
            "colorbar": {
             "outlinewidth": 0,
             "ticks": ""
            },
            "colorscale": [
             [
              0,
              "#0d0887"
             ],
             [
              0.1111111111111111,
              "#46039f"
             ],
             [
              0.2222222222222222,
              "#7201a8"
             ],
             [
              0.3333333333333333,
              "#9c179e"
             ],
             [
              0.4444444444444444,
              "#bd3786"
             ],
             [
              0.5555555555555556,
              "#d8576b"
             ],
             [
              0.6666666666666666,
              "#ed7953"
             ],
             [
              0.7777777777777778,
              "#fb9f3a"
             ],
             [
              0.8888888888888888,
              "#fdca26"
             ],
             [
              1,
              "#f0f921"
             ]
            ],
            "type": "heatmap"
           }
          ],
          "heatmapgl": [
           {
            "colorbar": {
             "outlinewidth": 0,
             "ticks": ""
            },
            "colorscale": [
             [
              0,
              "#0d0887"
             ],
             [
              0.1111111111111111,
              "#46039f"
             ],
             [
              0.2222222222222222,
              "#7201a8"
             ],
             [
              0.3333333333333333,
              "#9c179e"
             ],
             [
              0.4444444444444444,
              "#bd3786"
             ],
             [
              0.5555555555555556,
              "#d8576b"
             ],
             [
              0.6666666666666666,
              "#ed7953"
             ],
             [
              0.7777777777777778,
              "#fb9f3a"
             ],
             [
              0.8888888888888888,
              "#fdca26"
             ],
             [
              1,
              "#f0f921"
             ]
            ],
            "type": "heatmapgl"
           }
          ],
          "histogram": [
           {
            "marker": {
             "colorbar": {
              "outlinewidth": 0,
              "ticks": ""
             }
            },
            "type": "histogram"
           }
          ],
          "histogram2d": [
           {
            "colorbar": {
             "outlinewidth": 0,
             "ticks": ""
            },
            "colorscale": [
             [
              0,
              "#0d0887"
             ],
             [
              0.1111111111111111,
              "#46039f"
             ],
             [
              0.2222222222222222,
              "#7201a8"
             ],
             [
              0.3333333333333333,
              "#9c179e"
             ],
             [
              0.4444444444444444,
              "#bd3786"
             ],
             [
              0.5555555555555556,
              "#d8576b"
             ],
             [
              0.6666666666666666,
              "#ed7953"
             ],
             [
              0.7777777777777778,
              "#fb9f3a"
             ],
             [
              0.8888888888888888,
              "#fdca26"
             ],
             [
              1,
              "#f0f921"
             ]
            ],
            "type": "histogram2d"
           }
          ],
          "histogram2dcontour": [
           {
            "colorbar": {
             "outlinewidth": 0,
             "ticks": ""
            },
            "colorscale": [
             [
              0,
              "#0d0887"
             ],
             [
              0.1111111111111111,
              "#46039f"
             ],
             [
              0.2222222222222222,
              "#7201a8"
             ],
             [
              0.3333333333333333,
              "#9c179e"
             ],
             [
              0.4444444444444444,
              "#bd3786"
             ],
             [
              0.5555555555555556,
              "#d8576b"
             ],
             [
              0.6666666666666666,
              "#ed7953"
             ],
             [
              0.7777777777777778,
              "#fb9f3a"
             ],
             [
              0.8888888888888888,
              "#fdca26"
             ],
             [
              1,
              "#f0f921"
             ]
            ],
            "type": "histogram2dcontour"
           }
          ],
          "mesh3d": [
           {
            "colorbar": {
             "outlinewidth": 0,
             "ticks": ""
            },
            "type": "mesh3d"
           }
          ],
          "parcoords": [
           {
            "line": {
             "colorbar": {
              "outlinewidth": 0,
              "ticks": ""
             }
            },
            "type": "parcoords"
           }
          ],
          "scatter": [
           {
            "marker": {
             "colorbar": {
              "outlinewidth": 0,
              "ticks": ""
             }
            },
            "type": "scatter"
           }
          ],
          "scatter3d": [
           {
            "line": {
             "colorbar": {
              "outlinewidth": 0,
              "ticks": ""
             }
            },
            "marker": {
             "colorbar": {
              "outlinewidth": 0,
              "ticks": ""
             }
            },
            "type": "scatter3d"
           }
          ],
          "scattercarpet": [
           {
            "marker": {
             "colorbar": {
              "outlinewidth": 0,
              "ticks": ""
             }
            },
            "type": "scattercarpet"
           }
          ],
          "scattergeo": [
           {
            "marker": {
             "colorbar": {
              "outlinewidth": 0,
              "ticks": ""
             }
            },
            "type": "scattergeo"
           }
          ],
          "scattergl": [
           {
            "marker": {
             "colorbar": {
              "outlinewidth": 0,
              "ticks": ""
             }
            },
            "type": "scattergl"
           }
          ],
          "scattermapbox": [
           {
            "marker": {
             "colorbar": {
              "outlinewidth": 0,
              "ticks": ""
             }
            },
            "type": "scattermapbox"
           }
          ],
          "scatterpolar": [
           {
            "marker": {
             "colorbar": {
              "outlinewidth": 0,
              "ticks": ""
             }
            },
            "type": "scatterpolar"
           }
          ],
          "scatterpolargl": [
           {
            "marker": {
             "colorbar": {
              "outlinewidth": 0,
              "ticks": ""
             }
            },
            "type": "scatterpolargl"
           }
          ],
          "scatterternary": [
           {
            "marker": {
             "colorbar": {
              "outlinewidth": 0,
              "ticks": ""
             }
            },
            "type": "scatterternary"
           }
          ],
          "surface": [
           {
            "colorbar": {
             "outlinewidth": 0,
             "ticks": ""
            },
            "colorscale": [
             [
              0,
              "#0d0887"
             ],
             [
              0.1111111111111111,
              "#46039f"
             ],
             [
              0.2222222222222222,
              "#7201a8"
             ],
             [
              0.3333333333333333,
              "#9c179e"
             ],
             [
              0.4444444444444444,
              "#bd3786"
             ],
             [
              0.5555555555555556,
              "#d8576b"
             ],
             [
              0.6666666666666666,
              "#ed7953"
             ],
             [
              0.7777777777777778,
              "#fb9f3a"
             ],
             [
              0.8888888888888888,
              "#fdca26"
             ],
             [
              1,
              "#f0f921"
             ]
            ],
            "type": "surface"
           }
          ],
          "table": [
           {
            "cells": {
             "fill": {
              "color": "#EBF0F8"
             },
             "line": {
              "color": "white"
             }
            },
            "header": {
             "fill": {
              "color": "#C8D4E3"
             },
             "line": {
              "color": "white"
             }
            },
            "type": "table"
           }
          ]
         },
         "layout": {
          "annotationdefaults": {
           "arrowcolor": "#2a3f5f",
           "arrowhead": 0,
           "arrowwidth": 1
          },
          "colorscale": {
           "diverging": [
            [
             0,
             "#8e0152"
            ],
            [
             0.1,
             "#c51b7d"
            ],
            [
             0.2,
             "#de77ae"
            ],
            [
             0.3,
             "#f1b6da"
            ],
            [
             0.4,
             "#fde0ef"
            ],
            [
             0.5,
             "#f7f7f7"
            ],
            [
             0.6,
             "#e6f5d0"
            ],
            [
             0.7,
             "#b8e186"
            ],
            [
             0.8,
             "#7fbc41"
            ],
            [
             0.9,
             "#4d9221"
            ],
            [
             1,
             "#276419"
            ]
           ],
           "sequential": [
            [
             0,
             "#0d0887"
            ],
            [
             0.1111111111111111,
             "#46039f"
            ],
            [
             0.2222222222222222,
             "#7201a8"
            ],
            [
             0.3333333333333333,
             "#9c179e"
            ],
            [
             0.4444444444444444,
             "#bd3786"
            ],
            [
             0.5555555555555556,
             "#d8576b"
            ],
            [
             0.6666666666666666,
             "#ed7953"
            ],
            [
             0.7777777777777778,
             "#fb9f3a"
            ],
            [
             0.8888888888888888,
             "#fdca26"
            ],
            [
             1,
             "#f0f921"
            ]
           ],
           "sequentialminus": [
            [
             0,
             "#0d0887"
            ],
            [
             0.1111111111111111,
             "#46039f"
            ],
            [
             0.2222222222222222,
             "#7201a8"
            ],
            [
             0.3333333333333333,
             "#9c179e"
            ],
            [
             0.4444444444444444,
             "#bd3786"
            ],
            [
             0.5555555555555556,
             "#d8576b"
            ],
            [
             0.6666666666666666,
             "#ed7953"
            ],
            [
             0.7777777777777778,
             "#fb9f3a"
            ],
            [
             0.8888888888888888,
             "#fdca26"
            ],
            [
             1,
             "#f0f921"
            ]
           ]
          },
          "colorway": [
           "#636efa",
           "#EF553B",
           "#00cc96",
           "#ab63fa",
           "#FFA15A",
           "#19d3f3",
           "#FF6692",
           "#B6E880",
           "#FF97FF",
           "#FECB52"
          ],
          "font": {
           "color": "#2a3f5f"
          },
          "geo": {
           "bgcolor": "white",
           "lakecolor": "white",
           "landcolor": "#E5ECF6",
           "showlakes": true,
           "showland": true,
           "subunitcolor": "white"
          },
          "hoverlabel": {
           "align": "left"
          },
          "hovermode": "closest",
          "mapbox": {
           "style": "light"
          },
          "paper_bgcolor": "white",
          "plot_bgcolor": "#E5ECF6",
          "polar": {
           "angularaxis": {
            "gridcolor": "white",
            "linecolor": "white",
            "ticks": ""
           },
           "bgcolor": "#E5ECF6",
           "radialaxis": {
            "gridcolor": "white",
            "linecolor": "white",
            "ticks": ""
           }
          },
          "scene": {
           "xaxis": {
            "backgroundcolor": "#E5ECF6",
            "gridcolor": "white",
            "gridwidth": 2,
            "linecolor": "white",
            "showbackground": true,
            "ticks": "",
            "zerolinecolor": "white"
           },
           "yaxis": {
            "backgroundcolor": "#E5ECF6",
            "gridcolor": "white",
            "gridwidth": 2,
            "linecolor": "white",
            "showbackground": true,
            "ticks": "",
            "zerolinecolor": "white"
           },
           "zaxis": {
            "backgroundcolor": "#E5ECF6",
            "gridcolor": "white",
            "gridwidth": 2,
            "linecolor": "white",
            "showbackground": true,
            "ticks": "",
            "zerolinecolor": "white"
           }
          },
          "shapedefaults": {
           "line": {
            "color": "#2a3f5f"
           }
          },
          "ternary": {
           "aaxis": {
            "gridcolor": "white",
            "linecolor": "white",
            "ticks": ""
           },
           "baxis": {
            "gridcolor": "white",
            "linecolor": "white",
            "ticks": ""
           },
           "bgcolor": "#E5ECF6",
           "caxis": {
            "gridcolor": "white",
            "linecolor": "white",
            "ticks": ""
           }
          },
          "title": {
           "x": 0.05
          },
          "xaxis": {
           "automargin": true,
           "gridcolor": "white",
           "linecolor": "white",
           "ticks": "",
           "zerolinecolor": "white",
           "zerolinewidth": 2
          },
          "yaxis": {
           "automargin": true,
           "gridcolor": "white",
           "linecolor": "white",
           "ticks": "",
           "zerolinecolor": "white",
           "zerolinewidth": 2
          }
         }
        },
        "title": {
         "text": "Groundtruth value of testset"
        }
       }
      },
      "text/html": [
       "<div>\n",
       "        \n",
       "        \n",
       "            <div id=\"e3534a26-1996-4613-9627-38bcbcf3bbd1\" class=\"plotly-graph-div\" style=\"height:525px; width:100%;\"></div>\n",
       "            <script type=\"text/javascript\">\n",
       "                require([\"plotly\"], function(Plotly) {\n",
       "                    window.PLOTLYENV=window.PLOTLYENV || {};\n",
       "                    \n",
       "                if (document.getElementById(\"e3534a26-1996-4613-9627-38bcbcf3bbd1\")) {\n",
       "                    Plotly.newPlot(\n",
       "                        'e3534a26-1996-4613-9627-38bcbcf3bbd1',\n",
       "                        [{\"marker\": {\"color\": [195104, 138122261, 141067634, 2692, 20508, 257285, 21761408, 31893, 3048665, 75766, 11412213, 30180188, 19152401, 25447444, 115718405, 96076, 19253, 5540470, 21171780, 191770759, 12005210, 8225384, 6560030, 92579212, 17010050, 20269723, 120908065, 14094594, 3600647, 30035838, 8901419, 246305, 46652680, 32828348, 47776293, 25725722, 23019618, 25337110, 318403, 117161, 26334, 7061513, 7465343, 31665, 8085915, 7610663, 14711124, 587591, 789409, 41082018, 5533844, 284776, 5324240, 340456, 115418, 9454238, 6275647, 11152500, 8570007, 7348200, 14347221, 4858152, 25642340, 15269388, 71117625, 21401121, 9858380, 14102888, 15214805, 55214334, 9292248, 24733155, 4387360, 6101297, 7039622, 7751971, 656636, 138486, 12700007, 17084296, 66920, 217, 118278, 80030, 576820, 2182900, 72629713, 93687367, 2188199, 410804, 212440, 202714, 360018, 50353641, 88364714, 121897634, 208806270, 3613567, 1172036, 25010928, 10845330, 2375325]}, \"mode\": \"markers\", \"text\": [\"O Brother, Where Art Thou?\", \"The Twilight Saga: Breaking Dawn Part 1\", \"The Twilight Saga: Breaking Dawn Part 2\", \"Helena From the Wedding\", \"Monsters\", \"Catfish\", \"Red\", \"Freakonomics\", \"The Warrior's Way\", \"Stone\", \"Frankenweenie\", \"John Carter\", \"Dolphin Tale\", \"Penguins of Madagascar\", \"Minions\", \"Proud American\", \"Edmond\", \"Tootsie\", \"Waterworld\", \"The Lion King (2019)\", \"Crawl\", \"Stuber\", \"Midsommar\", \"Spider-Man: Far from Home\", \"Yesterday\", \"Annabelle Comes Home\", \"Toy Story 4\", \"Child's Play (2019)\", \"Anna (2019)\", \"Men in Black International\", \"Shaft (2019)\\u00a0\", \"Late Night\", \"The Secret Life of Pets 2\", \"Dark Phoenix\", \"Godzilla:King of the Monsters\", \"Rocketman\", \"Return of the Jedi\", \"Indiana Jones and the Temple of Doom\", \"The Idolmaker\", \"The Grass Harp\", \"The Grand\", \"Jaws\", \"Superman (1978)\", \"Clerks\", \"Juice\", \"He Got Game\", \"White Men Can't Jump\", \"Mulholland Drive\", \"Blue Velvet\", \"Once Upon a Time in Hollywood\", \"The Big Lebowski\", \"Train to Busan\", \"Pride and Prejudice and Zombies\", \"Dead Poets Society\", \"A Fish Called Wanda\", \"The Witches of Eastwick\", \"Ferris Bueller's Day Off\", \"Back to the Future\", \"Police Academy\", \"Trading Places\", \"Star Trek II The Wrath of Khan\", \"The Blues Brothers\", \"V For Vendetta\", \"In the Line of Fire\", \"Us\", \"The Forbidden Kingdom\", \"Rumble in the Bronx\", \"Machete\", \"Beverly Hills Cop\", \"Watchmen\", \"Jackie Brown\", \"Zombieland\", \"Mo Better Blues\", \"Thelma and Louise\", \"New Jack City\", \"The Lawnmower Man\", \"Schindler's List\", \"Four Weddings and a Funeral\", \"Get Shorty\", \"Jerry Maguire\", \"Welcome to Sarajevo\", \"Trojan War\", \"The Gingerbread Man\", \"Tumbleweeds\", \"Turn it up\", \"The Adventures of Pluto Nash\", \"The Lord of the Rings: The Return of the King\", \"Harry Potter and the Prisoner of Azkaban\", \"Stay\", \"Fast Food Nation\", \"Into the Wild\", \"The Wrestler\", \"Slumdog Millionaire\", \"Jackass 3-D\", \"Skyfall\", \"The Hunger Games: Mocking Jay - Part 1\", \"Jurassic World\", \"Shut In\", \"Molly's Game\", \"Peter Rabbit\", \"BlacKkKlansman\", \"Replicas\"], \"type\": \"scatter\", \"x\": [\"O Brother, Where Art Thou?\", \"The Twilight Saga: Breaking Dawn Part 1\", \"The Twilight Saga: Breaking Dawn Part 2\", \"Helena From the Wedding\", \"Monsters\", \"Catfish\", \"Red\", \"Freakonomics\", \"The Warrior's Way\", \"Stone\", \"Frankenweenie\", \"John Carter\", \"Dolphin Tale\", \"Penguins of Madagascar\", \"Minions\", \"Proud American\", \"Edmond\", \"Tootsie\", \"Waterworld\", \"The Lion King (2019)\", \"Crawl\", \"Stuber\", \"Midsommar\", \"Spider-Man: Far from Home\", \"Yesterday\", \"Annabelle Comes Home\", \"Toy Story 4\", \"Child's Play (2019)\", \"Anna (2019)\", \"Men in Black International\", \"Shaft (2019)\\u00a0\", \"Late Night\", \"The Secret Life of Pets 2\", \"Dark Phoenix\", \"Godzilla:King of the Monsters\", \"Rocketman\", \"Return of the Jedi\", \"Indiana Jones and the Temple of Doom\", \"The Idolmaker\", \"The Grass Harp\", \"The Grand\", \"Jaws\", \"Superman (1978)\", \"Clerks\", \"Juice\", \"He Got Game\", \"White Men Can't Jump\", \"Mulholland Drive\", \"Blue Velvet\", \"Once Upon a Time in Hollywood\", \"The Big Lebowski\", \"Train to Busan\", \"Pride and Prejudice and Zombies\", \"Dead Poets Society\", \"A Fish Called Wanda\", \"The Witches of Eastwick\", \"Ferris Bueller's Day Off\", \"Back to the Future\", \"Police Academy\", \"Trading Places\", \"Star Trek II The Wrath of Khan\", \"The Blues Brothers\", \"V For Vendetta\", \"In the Line of Fire\", \"Us\", \"The Forbidden Kingdom\", \"Rumble in the Bronx\", \"Machete\", \"Beverly Hills Cop\", \"Watchmen\", \"Jackie Brown\", \"Zombieland\", \"Mo Better Blues\", \"Thelma and Louise\", \"New Jack City\", \"The Lawnmower Man\", \"Schindler's List\", \"Four Weddings and a Funeral\", \"Get Shorty\", \"Jerry Maguire\", \"Welcome to Sarajevo\", \"Trojan War\", \"The Gingerbread Man\", \"Tumbleweeds\", \"Turn it up\", \"The Adventures of Pluto Nash\", \"The Lord of the Rings: The Return of the King\", \"Harry Potter and the Prisoner of Azkaban\", \"Stay\", \"Fast Food Nation\", \"Into the Wild\", \"The Wrestler\", \"Slumdog Millionaire\", \"Jackass 3-D\", \"Skyfall\", \"The Hunger Games: Mocking Jay - Part 1\", \"Jurassic World\", \"Shut In\", \"Molly's Game\", \"Peter Rabbit\", \"BlacKkKlansman\", \"Replicas\"], \"y\": [195104, 138122261, 141067634, 2692, 20508, 257285, 21761408, 31893, 3048665, 75766, 11412213, 30180188, 19152401, 25447444, 115718405, 96076, 19253, 5540470, 21171780, 191770759, 12005210, 8225384, 6560030, 92579212, 17010050, 20269723, 120908065, 14094594, 3600647, 30035838, 8901419, 246305, 46652680, 32828348, 47776293, 25725722, 23019618, 25337110, 318403, 117161, 26334, 7061513, 7465343, 31665, 8085915, 7610663, 14711124, 587591, 789409, 41082018, 5533844, 284776, 5324240, 340456, 115418, 9454238, 6275647, 11152500, 8570007, 7348200, 14347221, 4858152, 25642340, 15269388, 71117625, 21401121, 9858380, 14102888, 15214805, 55214334, 9292248, 24733155, 4387360, 6101297, 7039622, 7751971, 656636, 138486, 12700007, 17084296, 66920, 217, 118278, 80030, 576820, 2182900, 72629713, 93687367, 2188199, 410804, 212440, 202714, 360018, 50353641, 88364714, 121897634, 208806270, 3613567, 1172036, 25010928, 10845330, 2375325]}],\n",
       "                        {\"template\": {\"data\": {\"bar\": [{\"error_x\": {\"color\": \"#2a3f5f\"}, \"error_y\": {\"color\": \"#2a3f5f\"}, \"marker\": {\"line\": {\"color\": \"#E5ECF6\", \"width\": 0.5}}, \"type\": \"bar\"}], \"barpolar\": [{\"marker\": {\"line\": {\"color\": \"#E5ECF6\", \"width\": 0.5}}, \"type\": \"barpolar\"}], \"carpet\": [{\"aaxis\": {\"endlinecolor\": \"#2a3f5f\", \"gridcolor\": \"white\", \"linecolor\": \"white\", \"minorgridcolor\": \"white\", \"startlinecolor\": \"#2a3f5f\"}, \"baxis\": {\"endlinecolor\": \"#2a3f5f\", \"gridcolor\": \"white\", \"linecolor\": \"white\", \"minorgridcolor\": \"white\", \"startlinecolor\": \"#2a3f5f\"}, \"type\": \"carpet\"}], \"choropleth\": [{\"colorbar\": {\"outlinewidth\": 0, \"ticks\": \"\"}, \"type\": \"choropleth\"}], \"contour\": [{\"colorbar\": {\"outlinewidth\": 0, \"ticks\": \"\"}, \"colorscale\": [[0.0, \"#0d0887\"], [0.1111111111111111, \"#46039f\"], [0.2222222222222222, \"#7201a8\"], [0.3333333333333333, \"#9c179e\"], [0.4444444444444444, \"#bd3786\"], [0.5555555555555556, \"#d8576b\"], [0.6666666666666666, \"#ed7953\"], [0.7777777777777778, \"#fb9f3a\"], [0.8888888888888888, \"#fdca26\"], [1.0, \"#f0f921\"]], \"type\": \"contour\"}], \"contourcarpet\": [{\"colorbar\": {\"outlinewidth\": 0, \"ticks\": \"\"}, \"type\": \"contourcarpet\"}], \"heatmap\": [{\"colorbar\": {\"outlinewidth\": 0, \"ticks\": \"\"}, \"colorscale\": [[0.0, \"#0d0887\"], [0.1111111111111111, \"#46039f\"], [0.2222222222222222, \"#7201a8\"], [0.3333333333333333, \"#9c179e\"], [0.4444444444444444, \"#bd3786\"], [0.5555555555555556, \"#d8576b\"], [0.6666666666666666, \"#ed7953\"], [0.7777777777777778, \"#fb9f3a\"], [0.8888888888888888, \"#fdca26\"], [1.0, \"#f0f921\"]], \"type\": \"heatmap\"}], \"heatmapgl\": [{\"colorbar\": {\"outlinewidth\": 0, \"ticks\": \"\"}, \"colorscale\": [[0.0, \"#0d0887\"], [0.1111111111111111, \"#46039f\"], [0.2222222222222222, \"#7201a8\"], [0.3333333333333333, \"#9c179e\"], [0.4444444444444444, \"#bd3786\"], [0.5555555555555556, \"#d8576b\"], [0.6666666666666666, \"#ed7953\"], [0.7777777777777778, \"#fb9f3a\"], [0.8888888888888888, \"#fdca26\"], [1.0, \"#f0f921\"]], \"type\": \"heatmapgl\"}], \"histogram\": [{\"marker\": {\"colorbar\": {\"outlinewidth\": 0, \"ticks\": \"\"}}, \"type\": \"histogram\"}], \"histogram2d\": [{\"colorbar\": {\"outlinewidth\": 0, \"ticks\": \"\"}, \"colorscale\": [[0.0, \"#0d0887\"], [0.1111111111111111, \"#46039f\"], [0.2222222222222222, \"#7201a8\"], [0.3333333333333333, \"#9c179e\"], [0.4444444444444444, \"#bd3786\"], [0.5555555555555556, \"#d8576b\"], [0.6666666666666666, \"#ed7953\"], [0.7777777777777778, \"#fb9f3a\"], [0.8888888888888888, \"#fdca26\"], [1.0, \"#f0f921\"]], \"type\": \"histogram2d\"}], \"histogram2dcontour\": [{\"colorbar\": {\"outlinewidth\": 0, \"ticks\": \"\"}, \"colorscale\": [[0.0, \"#0d0887\"], [0.1111111111111111, \"#46039f\"], [0.2222222222222222, \"#7201a8\"], [0.3333333333333333, \"#9c179e\"], [0.4444444444444444, \"#bd3786\"], [0.5555555555555556, \"#d8576b\"], [0.6666666666666666, \"#ed7953\"], [0.7777777777777778, \"#fb9f3a\"], [0.8888888888888888, \"#fdca26\"], [1.0, \"#f0f921\"]], \"type\": \"histogram2dcontour\"}], \"mesh3d\": [{\"colorbar\": {\"outlinewidth\": 0, \"ticks\": \"\"}, \"type\": \"mesh3d\"}], \"parcoords\": [{\"line\": {\"colorbar\": {\"outlinewidth\": 0, \"ticks\": \"\"}}, \"type\": \"parcoords\"}], \"scatter\": [{\"marker\": {\"colorbar\": {\"outlinewidth\": 0, \"ticks\": \"\"}}, \"type\": \"scatter\"}], \"scatter3d\": [{\"line\": {\"colorbar\": {\"outlinewidth\": 0, \"ticks\": \"\"}}, \"marker\": {\"colorbar\": {\"outlinewidth\": 0, \"ticks\": \"\"}}, \"type\": \"scatter3d\"}], \"scattercarpet\": [{\"marker\": {\"colorbar\": {\"outlinewidth\": 0, \"ticks\": \"\"}}, \"type\": \"scattercarpet\"}], \"scattergeo\": [{\"marker\": {\"colorbar\": {\"outlinewidth\": 0, \"ticks\": \"\"}}, \"type\": \"scattergeo\"}], \"scattergl\": [{\"marker\": {\"colorbar\": {\"outlinewidth\": 0, \"ticks\": \"\"}}, \"type\": \"scattergl\"}], \"scattermapbox\": [{\"marker\": {\"colorbar\": {\"outlinewidth\": 0, \"ticks\": \"\"}}, \"type\": \"scattermapbox\"}], \"scatterpolar\": [{\"marker\": {\"colorbar\": {\"outlinewidth\": 0, \"ticks\": \"\"}}, \"type\": \"scatterpolar\"}], \"scatterpolargl\": [{\"marker\": {\"colorbar\": {\"outlinewidth\": 0, \"ticks\": \"\"}}, \"type\": \"scatterpolargl\"}], \"scatterternary\": [{\"marker\": {\"colorbar\": {\"outlinewidth\": 0, \"ticks\": \"\"}}, \"type\": \"scatterternary\"}], \"surface\": [{\"colorbar\": {\"outlinewidth\": 0, \"ticks\": \"\"}, \"colorscale\": [[0.0, \"#0d0887\"], [0.1111111111111111, \"#46039f\"], [0.2222222222222222, \"#7201a8\"], [0.3333333333333333, \"#9c179e\"], [0.4444444444444444, \"#bd3786\"], [0.5555555555555556, \"#d8576b\"], [0.6666666666666666, \"#ed7953\"], [0.7777777777777778, \"#fb9f3a\"], [0.8888888888888888, \"#fdca26\"], [1.0, \"#f0f921\"]], \"type\": \"surface\"}], \"table\": [{\"cells\": {\"fill\": {\"color\": \"#EBF0F8\"}, \"line\": {\"color\": \"white\"}}, \"header\": {\"fill\": {\"color\": \"#C8D4E3\"}, \"line\": {\"color\": \"white\"}}, \"type\": \"table\"}]}, \"layout\": {\"annotationdefaults\": {\"arrowcolor\": \"#2a3f5f\", \"arrowhead\": 0, \"arrowwidth\": 1}, \"colorscale\": {\"diverging\": [[0, \"#8e0152\"], [0.1, \"#c51b7d\"], [0.2, \"#de77ae\"], [0.3, \"#f1b6da\"], [0.4, \"#fde0ef\"], [0.5, \"#f7f7f7\"], [0.6, \"#e6f5d0\"], [0.7, \"#b8e186\"], [0.8, \"#7fbc41\"], [0.9, \"#4d9221\"], [1, \"#276419\"]], \"sequential\": [[0.0, \"#0d0887\"], [0.1111111111111111, \"#46039f\"], [0.2222222222222222, \"#7201a8\"], [0.3333333333333333, \"#9c179e\"], [0.4444444444444444, \"#bd3786\"], [0.5555555555555556, \"#d8576b\"], [0.6666666666666666, \"#ed7953\"], [0.7777777777777778, \"#fb9f3a\"], [0.8888888888888888, \"#fdca26\"], [1.0, \"#f0f921\"]], \"sequentialminus\": [[0.0, \"#0d0887\"], [0.1111111111111111, \"#46039f\"], [0.2222222222222222, \"#7201a8\"], [0.3333333333333333, \"#9c179e\"], [0.4444444444444444, \"#bd3786\"], [0.5555555555555556, \"#d8576b\"], [0.6666666666666666, \"#ed7953\"], [0.7777777777777778, \"#fb9f3a\"], [0.8888888888888888, \"#fdca26\"], [1.0, \"#f0f921\"]]}, \"colorway\": [\"#636efa\", \"#EF553B\", \"#00cc96\", \"#ab63fa\", \"#FFA15A\", \"#19d3f3\", \"#FF6692\", \"#B6E880\", \"#FF97FF\", \"#FECB52\"], \"font\": {\"color\": \"#2a3f5f\"}, \"geo\": {\"bgcolor\": \"white\", \"lakecolor\": \"white\", \"landcolor\": \"#E5ECF6\", \"showlakes\": true, \"showland\": true, \"subunitcolor\": \"white\"}, \"hoverlabel\": {\"align\": \"left\"}, \"hovermode\": \"closest\", \"mapbox\": {\"style\": \"light\"}, \"paper_bgcolor\": \"white\", \"plot_bgcolor\": \"#E5ECF6\", \"polar\": {\"angularaxis\": {\"gridcolor\": \"white\", \"linecolor\": \"white\", \"ticks\": \"\"}, \"bgcolor\": \"#E5ECF6\", \"radialaxis\": {\"gridcolor\": \"white\", \"linecolor\": \"white\", \"ticks\": \"\"}}, \"scene\": {\"xaxis\": {\"backgroundcolor\": \"#E5ECF6\", \"gridcolor\": \"white\", \"gridwidth\": 2, \"linecolor\": \"white\", \"showbackground\": true, \"ticks\": \"\", \"zerolinecolor\": \"white\"}, \"yaxis\": {\"backgroundcolor\": \"#E5ECF6\", \"gridcolor\": \"white\", \"gridwidth\": 2, \"linecolor\": \"white\", \"showbackground\": true, \"ticks\": \"\", \"zerolinecolor\": \"white\"}, \"zaxis\": {\"backgroundcolor\": \"#E5ECF6\", \"gridcolor\": \"white\", \"gridwidth\": 2, \"linecolor\": \"white\", \"showbackground\": true, \"ticks\": \"\", \"zerolinecolor\": \"white\"}}, \"shapedefaults\": {\"line\": {\"color\": \"#2a3f5f\"}}, \"ternary\": {\"aaxis\": {\"gridcolor\": \"white\", \"linecolor\": \"white\", \"ticks\": \"\"}, \"baxis\": {\"gridcolor\": \"white\", \"linecolor\": \"white\", \"ticks\": \"\"}, \"bgcolor\": \"#E5ECF6\", \"caxis\": {\"gridcolor\": \"white\", \"linecolor\": \"white\", \"ticks\": \"\"}}, \"title\": {\"x\": 0.05}, \"xaxis\": {\"automargin\": true, \"gridcolor\": \"white\", \"linecolor\": \"white\", \"ticks\": \"\", \"zerolinecolor\": \"white\", \"zerolinewidth\": 2}, \"yaxis\": {\"automargin\": true, \"gridcolor\": \"white\", \"linecolor\": \"white\", \"ticks\": \"\", \"zerolinecolor\": \"white\", \"zerolinewidth\": 2}}}, \"title\": {\"text\": \"Groundtruth value of testset\"}},\n",
       "                        {\"responsive\": true}\n",
       "                    ).then(function(){\n",
       "                            \n",
       "var gd = document.getElementById('e3534a26-1996-4613-9627-38bcbcf3bbd1');\n",
       "var x = new MutationObserver(function (mutations, observer) {{\n",
       "        var display = window.getComputedStyle(gd).display;\n",
       "        if (!display || display === 'none') {{\n",
       "            console.log([gd, 'removed!']);\n",
       "            Plotly.purge(gd);\n",
       "            observer.disconnect();\n",
       "        }}\n",
       "}});\n",
       "\n",
       "// Listen for the removal of the full notebook cells\n",
       "var notebookContainer = gd.closest('#notebook-container');\n",
       "if (notebookContainer) {{\n",
       "    x.observe(notebookContainer, {childList: true});\n",
       "}}\n",
       "\n",
       "// Listen for the clearing of the current output cell\n",
       "var outputEl = gd.closest('.output');\n",
       "if (outputEl) {{\n",
       "    x.observe(outputEl, {childList: true});\n",
       "}}\n",
       "\n",
       "                        })\n",
       "                };\n",
       "                });\n",
       "            </script>\n",
       "        </div>"
      ]
     },
     "metadata": {},
     "output_type": "display_data"
    }
   ],
   "source": [
    "#data= pd.read_csv(\"https://raw.githubusercontent.com/plotly/datasets/master/2014_usa_states.csv\")\n",
    "\n",
    "fig = go.Figure(data=go.Scatter(x=g1_result_final[\"name\"],\n",
    "                                y=g1_result_final[\"ground_truth\"],\n",
    "                                mode='markers',\n",
    "                                marker_color=g1_result_final[\"ground_truth\"],\n",
    "                                text=g1_result_final[\"name\"])) # hover text goes here(movie_title)\n",
    "\n",
    "fig.update_layout(title='Groundtruth value of testset')\n",
    "fig.show()"
   ]
  },
  {
   "cell_type": "code",
   "execution_count": 26,
   "metadata": {},
   "outputs": [
    {
     "data": {
      "application/vnd.plotly.v1+json": {
       "config": {
        "plotlyServerURL": "https://plot.ly"
       },
       "data": [
        {
         "marker": {
          "color": [
           30315456.35554634,
           30114018.6387518,
           30114018.6387518,
           31379464.90705015,
           31432542.90146757,
           29629389.95619146,
           30172415.34468317,
           30072481.04855396,
           31064705.909566697,
           31432542.90146757,
           32177145.588430546,
           31005626.431120466,
           31583667.21373023,
           31512623.36398387,
           31512623.36398387,
           31361537.65493747,
           31432542.90146757,
           31379464.90705015,
           31110851.15534339,
           30865291.32270362,
           31082934.34954269,
           30172415.34468317,
           31432542.90146757,
           31005626.431120466,
           31441465.59177327,
           32094482.51852917,
           30887122.115307353,
           32019866.457820665,
           31746846.88702683,
           31052726.81374957,
           30143829.216693226,
           31379464.90705015,
           31512623.36398387,
           31005626.431120466,
           30380125.18244396,
           31361537.65493747,
           30380125.18244396,
           31005626.431120466,
           31361537.65493747,
           31379464.90705015,
           32066966.840449777,
           30800071.365324035,
           30348848.90335464,
           32066966.840449777,
           29482358.736217435,
           31361537.65493747,
           31379464.90705015,
           31432542.90146757,
           31432542.90146757,
           31379464.90705015,
           30473488.51627069,
           31746846.88702683,
           31111806.2921958,
           31379464.90705015,
           30473488.51627069,
           31441465.59177327,
           32066966.840449777,
           31382386.11332704,
           32066966.840449777,
           32066966.840449777,
           31005626.431120466,
           30315456.35554634,
           31082934.34954269,
           29482358.736217435,
           32094482.51852917,
           30380125.18244396,
           30172415.34468317,
           30117859.20651177,
           30143829.216693226,
           31029905.434937473,
           29831967.28814232,
           31382386.11332704,
           31361537.65493747,
           29636067.926660456,
           29482358.736217435,
           32019866.457820665,
           31361537.65493747,
           31379464.90705015,
           30520050.97618552,
           31379464.90705015,
           31361537.65493747,
           32066966.840449777,
           30465494.83801412,
           31379464.90705015,
           29459192.221140675,
           31737307.54087231,
           30114018.6387518,
           30951972.54349023,
           31432542.90146757,
           31452278.95231503,
           30680481.12335464,
           31361537.65493747,
           31361537.65493747,
           29769799.51137086,
           31110851.15534339,
           31110851.15534339,
           31005626.431120466,
           31432542.90146757,
           29790824.44114067,
           30887122.115307353,
           29790824.44114067,
           31432542.90146757
          ]
         },
         "mode": "markers",
         "text": [
          "O Brother, Where Art Thou?",
          "The Twilight Saga: Breaking Dawn Part 1",
          "The Twilight Saga: Breaking Dawn Part 2",
          "Helena From the Wedding",
          "Monsters",
          "Catfish",
          "Red",
          "Freakonomics",
          "The Warrior's Way",
          "Stone",
          "Frankenweenie",
          "John Carter",
          "Dolphin Tale",
          "Penguins of Madagascar",
          "Minions",
          "Proud American",
          "Edmond",
          "Tootsie",
          "Waterworld",
          "The Lion King (2019)",
          "Crawl",
          "Stuber",
          "Midsommar",
          "Spider-Man: Far from Home",
          "Yesterday",
          "Annabelle Comes Home",
          "Toy Story 4",
          "Child's Play (2019)",
          "Anna (2019)",
          "Men in Black International",
          "Shaft (2019) ",
          "Late Night",
          "The Secret Life of Pets 2",
          "Dark Phoenix",
          "Godzilla:King of the Monsters",
          "Rocketman",
          "Return of the Jedi",
          "Indiana Jones and the Temple of Doom",
          "The Idolmaker",
          "The Grass Harp",
          "The Grand",
          "Jaws",
          "Superman (1978)",
          "Clerks",
          "Juice",
          "He Got Game",
          "White Men Can't Jump",
          "Mulholland Drive",
          "Blue Velvet",
          "Once Upon a Time in Hollywood",
          "The Big Lebowski",
          "Train to Busan",
          "Pride and Prejudice and Zombies",
          "Dead Poets Society",
          "A Fish Called Wanda",
          "The Witches of Eastwick",
          "Ferris Bueller's Day Off",
          "Back to the Future",
          "Police Academy",
          "Trading Places",
          "Star Trek II The Wrath of Khan",
          "The Blues Brothers",
          "V For Vendetta",
          "In the Line of Fire",
          "Us",
          "The Forbidden Kingdom",
          "Rumble in the Bronx",
          "Machete",
          "Beverly Hills Cop",
          "Watchmen",
          "Jackie Brown",
          "Zombieland",
          "Mo Better Blues",
          "Thelma and Louise",
          "New Jack City",
          "The Lawnmower Man",
          "Schindler's List",
          "Four Weddings and a Funeral",
          "Get Shorty",
          "Jerry Maguire",
          "Welcome to Sarajevo",
          "Trojan War",
          "The Gingerbread Man",
          "Tumbleweeds",
          "Turn it up",
          "The Adventures of Pluto Nash",
          "The Lord of the Rings: The Return of the King",
          "Harry Potter and the Prisoner of Azkaban",
          "Stay",
          "Fast Food Nation",
          "Into the Wild",
          "The Wrestler",
          "Slumdog Millionaire",
          "Jackass 3-D",
          "Skyfall",
          "The Hunger Games: Mocking Jay - Part 1",
          "Jurassic World",
          "Shut In",
          "Molly's Game",
          "Peter Rabbit",
          "BlacKkKlansman",
          "Replicas"
         ],
         "type": "scatter",
         "x": [
          "O Brother, Where Art Thou?",
          "The Twilight Saga: Breaking Dawn Part 1",
          "The Twilight Saga: Breaking Dawn Part 2",
          "Helena From the Wedding",
          "Monsters",
          "Catfish",
          "Red",
          "Freakonomics",
          "The Warrior's Way",
          "Stone",
          "Frankenweenie",
          "John Carter",
          "Dolphin Tale",
          "Penguins of Madagascar",
          "Minions",
          "Proud American",
          "Edmond",
          "Tootsie",
          "Waterworld",
          "The Lion King (2019)",
          "Crawl",
          "Stuber",
          "Midsommar",
          "Spider-Man: Far from Home",
          "Yesterday",
          "Annabelle Comes Home",
          "Toy Story 4",
          "Child's Play (2019)",
          "Anna (2019)",
          "Men in Black International",
          "Shaft (2019) ",
          "Late Night",
          "The Secret Life of Pets 2",
          "Dark Phoenix",
          "Godzilla:King of the Monsters",
          "Rocketman",
          "Return of the Jedi",
          "Indiana Jones and the Temple of Doom",
          "The Idolmaker",
          "The Grass Harp",
          "The Grand",
          "Jaws",
          "Superman (1978)",
          "Clerks",
          "Juice",
          "He Got Game",
          "White Men Can't Jump",
          "Mulholland Drive",
          "Blue Velvet",
          "Once Upon a Time in Hollywood",
          "The Big Lebowski",
          "Train to Busan",
          "Pride and Prejudice and Zombies",
          "Dead Poets Society",
          "A Fish Called Wanda",
          "The Witches of Eastwick",
          "Ferris Bueller's Day Off",
          "Back to the Future",
          "Police Academy",
          "Trading Places",
          "Star Trek II The Wrath of Khan",
          "The Blues Brothers",
          "V For Vendetta",
          "In the Line of Fire",
          "Us",
          "The Forbidden Kingdom",
          "Rumble in the Bronx",
          "Machete",
          "Beverly Hills Cop",
          "Watchmen",
          "Jackie Brown",
          "Zombieland",
          "Mo Better Blues",
          "Thelma and Louise",
          "New Jack City",
          "The Lawnmower Man",
          "Schindler's List",
          "Four Weddings and a Funeral",
          "Get Shorty",
          "Jerry Maguire",
          "Welcome to Sarajevo",
          "Trojan War",
          "The Gingerbread Man",
          "Tumbleweeds",
          "Turn it up",
          "The Adventures of Pluto Nash",
          "The Lord of the Rings: The Return of the King",
          "Harry Potter and the Prisoner of Azkaban",
          "Stay",
          "Fast Food Nation",
          "Into the Wild",
          "The Wrestler",
          "Slumdog Millionaire",
          "Jackass 3-D",
          "Skyfall",
          "The Hunger Games: Mocking Jay - Part 1",
          "Jurassic World",
          "Shut In",
          "Molly's Game",
          "Peter Rabbit",
          "BlacKkKlansman",
          "Replicas"
         ],
         "y": [
          30315456.35554634,
          30114018.6387518,
          30114018.6387518,
          31379464.90705015,
          31432542.90146757,
          29629389.95619146,
          30172415.34468317,
          30072481.04855396,
          31064705.909566697,
          31432542.90146757,
          32177145.588430546,
          31005626.431120466,
          31583667.21373023,
          31512623.36398387,
          31512623.36398387,
          31361537.65493747,
          31432542.90146757,
          31379464.90705015,
          31110851.15534339,
          30865291.32270362,
          31082934.34954269,
          30172415.34468317,
          31432542.90146757,
          31005626.431120466,
          31441465.59177327,
          32094482.51852917,
          30887122.115307353,
          32019866.457820665,
          31746846.88702683,
          31052726.81374957,
          30143829.216693226,
          31379464.90705015,
          31512623.36398387,
          31005626.431120466,
          30380125.18244396,
          31361537.65493747,
          30380125.18244396,
          31005626.431120466,
          31361537.65493747,
          31379464.90705015,
          32066966.840449777,
          30800071.365324035,
          30348848.90335464,
          32066966.840449777,
          29482358.736217435,
          31361537.65493747,
          31379464.90705015,
          31432542.90146757,
          31432542.90146757,
          31379464.90705015,
          30473488.51627069,
          31746846.88702683,
          31111806.2921958,
          31379464.90705015,
          30473488.51627069,
          31441465.59177327,
          32066966.840449777,
          31382386.11332704,
          32066966.840449777,
          32066966.840449777,
          31005626.431120466,
          30315456.35554634,
          31082934.34954269,
          29482358.736217435,
          32094482.51852917,
          30380125.18244396,
          30172415.34468317,
          30117859.20651177,
          30143829.216693226,
          31029905.434937473,
          29831967.28814232,
          31382386.11332704,
          31361537.65493747,
          29636067.926660456,
          29482358.736217435,
          32019866.457820665,
          31361537.65493747,
          31379464.90705015,
          30520050.97618552,
          31379464.90705015,
          31361537.65493747,
          32066966.840449777,
          30465494.83801412,
          31379464.90705015,
          29459192.221140675,
          31737307.54087231,
          30114018.6387518,
          30951972.54349023,
          31432542.90146757,
          31452278.95231503,
          30680481.12335464,
          31361537.65493747,
          31361537.65493747,
          29769799.51137086,
          31110851.15534339,
          31110851.15534339,
          31005626.431120466,
          31432542.90146757,
          29790824.44114067,
          30887122.115307353,
          29790824.44114067,
          31432542.90146757
         ]
        }
       ],
       "layout": {
        "template": {
         "data": {
          "bar": [
           {
            "error_x": {
             "color": "#2a3f5f"
            },
            "error_y": {
             "color": "#2a3f5f"
            },
            "marker": {
             "line": {
              "color": "#E5ECF6",
              "width": 0.5
             }
            },
            "type": "bar"
           }
          ],
          "barpolar": [
           {
            "marker": {
             "line": {
              "color": "#E5ECF6",
              "width": 0.5
             }
            },
            "type": "barpolar"
           }
          ],
          "carpet": [
           {
            "aaxis": {
             "endlinecolor": "#2a3f5f",
             "gridcolor": "white",
             "linecolor": "white",
             "minorgridcolor": "white",
             "startlinecolor": "#2a3f5f"
            },
            "baxis": {
             "endlinecolor": "#2a3f5f",
             "gridcolor": "white",
             "linecolor": "white",
             "minorgridcolor": "white",
             "startlinecolor": "#2a3f5f"
            },
            "type": "carpet"
           }
          ],
          "choropleth": [
           {
            "colorbar": {
             "outlinewidth": 0,
             "ticks": ""
            },
            "type": "choropleth"
           }
          ],
          "contour": [
           {
            "colorbar": {
             "outlinewidth": 0,
             "ticks": ""
            },
            "colorscale": [
             [
              0,
              "#0d0887"
             ],
             [
              0.1111111111111111,
              "#46039f"
             ],
             [
              0.2222222222222222,
              "#7201a8"
             ],
             [
              0.3333333333333333,
              "#9c179e"
             ],
             [
              0.4444444444444444,
              "#bd3786"
             ],
             [
              0.5555555555555556,
              "#d8576b"
             ],
             [
              0.6666666666666666,
              "#ed7953"
             ],
             [
              0.7777777777777778,
              "#fb9f3a"
             ],
             [
              0.8888888888888888,
              "#fdca26"
             ],
             [
              1,
              "#f0f921"
             ]
            ],
            "type": "contour"
           }
          ],
          "contourcarpet": [
           {
            "colorbar": {
             "outlinewidth": 0,
             "ticks": ""
            },
            "type": "contourcarpet"
           }
          ],
          "heatmap": [
           {
            "colorbar": {
             "outlinewidth": 0,
             "ticks": ""
            },
            "colorscale": [
             [
              0,
              "#0d0887"
             ],
             [
              0.1111111111111111,
              "#46039f"
             ],
             [
              0.2222222222222222,
              "#7201a8"
             ],
             [
              0.3333333333333333,
              "#9c179e"
             ],
             [
              0.4444444444444444,
              "#bd3786"
             ],
             [
              0.5555555555555556,
              "#d8576b"
             ],
             [
              0.6666666666666666,
              "#ed7953"
             ],
             [
              0.7777777777777778,
              "#fb9f3a"
             ],
             [
              0.8888888888888888,
              "#fdca26"
             ],
             [
              1,
              "#f0f921"
             ]
            ],
            "type": "heatmap"
           }
          ],
          "heatmapgl": [
           {
            "colorbar": {
             "outlinewidth": 0,
             "ticks": ""
            },
            "colorscale": [
             [
              0,
              "#0d0887"
             ],
             [
              0.1111111111111111,
              "#46039f"
             ],
             [
              0.2222222222222222,
              "#7201a8"
             ],
             [
              0.3333333333333333,
              "#9c179e"
             ],
             [
              0.4444444444444444,
              "#bd3786"
             ],
             [
              0.5555555555555556,
              "#d8576b"
             ],
             [
              0.6666666666666666,
              "#ed7953"
             ],
             [
              0.7777777777777778,
              "#fb9f3a"
             ],
             [
              0.8888888888888888,
              "#fdca26"
             ],
             [
              1,
              "#f0f921"
             ]
            ],
            "type": "heatmapgl"
           }
          ],
          "histogram": [
           {
            "marker": {
             "colorbar": {
              "outlinewidth": 0,
              "ticks": ""
             }
            },
            "type": "histogram"
           }
          ],
          "histogram2d": [
           {
            "colorbar": {
             "outlinewidth": 0,
             "ticks": ""
            },
            "colorscale": [
             [
              0,
              "#0d0887"
             ],
             [
              0.1111111111111111,
              "#46039f"
             ],
             [
              0.2222222222222222,
              "#7201a8"
             ],
             [
              0.3333333333333333,
              "#9c179e"
             ],
             [
              0.4444444444444444,
              "#bd3786"
             ],
             [
              0.5555555555555556,
              "#d8576b"
             ],
             [
              0.6666666666666666,
              "#ed7953"
             ],
             [
              0.7777777777777778,
              "#fb9f3a"
             ],
             [
              0.8888888888888888,
              "#fdca26"
             ],
             [
              1,
              "#f0f921"
             ]
            ],
            "type": "histogram2d"
           }
          ],
          "histogram2dcontour": [
           {
            "colorbar": {
             "outlinewidth": 0,
             "ticks": ""
            },
            "colorscale": [
             [
              0,
              "#0d0887"
             ],
             [
              0.1111111111111111,
              "#46039f"
             ],
             [
              0.2222222222222222,
              "#7201a8"
             ],
             [
              0.3333333333333333,
              "#9c179e"
             ],
             [
              0.4444444444444444,
              "#bd3786"
             ],
             [
              0.5555555555555556,
              "#d8576b"
             ],
             [
              0.6666666666666666,
              "#ed7953"
             ],
             [
              0.7777777777777778,
              "#fb9f3a"
             ],
             [
              0.8888888888888888,
              "#fdca26"
             ],
             [
              1,
              "#f0f921"
             ]
            ],
            "type": "histogram2dcontour"
           }
          ],
          "mesh3d": [
           {
            "colorbar": {
             "outlinewidth": 0,
             "ticks": ""
            },
            "type": "mesh3d"
           }
          ],
          "parcoords": [
           {
            "line": {
             "colorbar": {
              "outlinewidth": 0,
              "ticks": ""
             }
            },
            "type": "parcoords"
           }
          ],
          "scatter": [
           {
            "marker": {
             "colorbar": {
              "outlinewidth": 0,
              "ticks": ""
             }
            },
            "type": "scatter"
           }
          ],
          "scatter3d": [
           {
            "line": {
             "colorbar": {
              "outlinewidth": 0,
              "ticks": ""
             }
            },
            "marker": {
             "colorbar": {
              "outlinewidth": 0,
              "ticks": ""
             }
            },
            "type": "scatter3d"
           }
          ],
          "scattercarpet": [
           {
            "marker": {
             "colorbar": {
              "outlinewidth": 0,
              "ticks": ""
             }
            },
            "type": "scattercarpet"
           }
          ],
          "scattergeo": [
           {
            "marker": {
             "colorbar": {
              "outlinewidth": 0,
              "ticks": ""
             }
            },
            "type": "scattergeo"
           }
          ],
          "scattergl": [
           {
            "marker": {
             "colorbar": {
              "outlinewidth": 0,
              "ticks": ""
             }
            },
            "type": "scattergl"
           }
          ],
          "scattermapbox": [
           {
            "marker": {
             "colorbar": {
              "outlinewidth": 0,
              "ticks": ""
             }
            },
            "type": "scattermapbox"
           }
          ],
          "scatterpolar": [
           {
            "marker": {
             "colorbar": {
              "outlinewidth": 0,
              "ticks": ""
             }
            },
            "type": "scatterpolar"
           }
          ],
          "scatterpolargl": [
           {
            "marker": {
             "colorbar": {
              "outlinewidth": 0,
              "ticks": ""
             }
            },
            "type": "scatterpolargl"
           }
          ],
          "scatterternary": [
           {
            "marker": {
             "colorbar": {
              "outlinewidth": 0,
              "ticks": ""
             }
            },
            "type": "scatterternary"
           }
          ],
          "surface": [
           {
            "colorbar": {
             "outlinewidth": 0,
             "ticks": ""
            },
            "colorscale": [
             [
              0,
              "#0d0887"
             ],
             [
              0.1111111111111111,
              "#46039f"
             ],
             [
              0.2222222222222222,
              "#7201a8"
             ],
             [
              0.3333333333333333,
              "#9c179e"
             ],
             [
              0.4444444444444444,
              "#bd3786"
             ],
             [
              0.5555555555555556,
              "#d8576b"
             ],
             [
              0.6666666666666666,
              "#ed7953"
             ],
             [
              0.7777777777777778,
              "#fb9f3a"
             ],
             [
              0.8888888888888888,
              "#fdca26"
             ],
             [
              1,
              "#f0f921"
             ]
            ],
            "type": "surface"
           }
          ],
          "table": [
           {
            "cells": {
             "fill": {
              "color": "#EBF0F8"
             },
             "line": {
              "color": "white"
             }
            },
            "header": {
             "fill": {
              "color": "#C8D4E3"
             },
             "line": {
              "color": "white"
             }
            },
            "type": "table"
           }
          ]
         },
         "layout": {
          "annotationdefaults": {
           "arrowcolor": "#2a3f5f",
           "arrowhead": 0,
           "arrowwidth": 1
          },
          "colorscale": {
           "diverging": [
            [
             0,
             "#8e0152"
            ],
            [
             0.1,
             "#c51b7d"
            ],
            [
             0.2,
             "#de77ae"
            ],
            [
             0.3,
             "#f1b6da"
            ],
            [
             0.4,
             "#fde0ef"
            ],
            [
             0.5,
             "#f7f7f7"
            ],
            [
             0.6,
             "#e6f5d0"
            ],
            [
             0.7,
             "#b8e186"
            ],
            [
             0.8,
             "#7fbc41"
            ],
            [
             0.9,
             "#4d9221"
            ],
            [
             1,
             "#276419"
            ]
           ],
           "sequential": [
            [
             0,
             "#0d0887"
            ],
            [
             0.1111111111111111,
             "#46039f"
            ],
            [
             0.2222222222222222,
             "#7201a8"
            ],
            [
             0.3333333333333333,
             "#9c179e"
            ],
            [
             0.4444444444444444,
             "#bd3786"
            ],
            [
             0.5555555555555556,
             "#d8576b"
            ],
            [
             0.6666666666666666,
             "#ed7953"
            ],
            [
             0.7777777777777778,
             "#fb9f3a"
            ],
            [
             0.8888888888888888,
             "#fdca26"
            ],
            [
             1,
             "#f0f921"
            ]
           ],
           "sequentialminus": [
            [
             0,
             "#0d0887"
            ],
            [
             0.1111111111111111,
             "#46039f"
            ],
            [
             0.2222222222222222,
             "#7201a8"
            ],
            [
             0.3333333333333333,
             "#9c179e"
            ],
            [
             0.4444444444444444,
             "#bd3786"
            ],
            [
             0.5555555555555556,
             "#d8576b"
            ],
            [
             0.6666666666666666,
             "#ed7953"
            ],
            [
             0.7777777777777778,
             "#fb9f3a"
            ],
            [
             0.8888888888888888,
             "#fdca26"
            ],
            [
             1,
             "#f0f921"
            ]
           ]
          },
          "colorway": [
           "#636efa",
           "#EF553B",
           "#00cc96",
           "#ab63fa",
           "#FFA15A",
           "#19d3f3",
           "#FF6692",
           "#B6E880",
           "#FF97FF",
           "#FECB52"
          ],
          "font": {
           "color": "#2a3f5f"
          },
          "geo": {
           "bgcolor": "white",
           "lakecolor": "white",
           "landcolor": "#E5ECF6",
           "showlakes": true,
           "showland": true,
           "subunitcolor": "white"
          },
          "hoverlabel": {
           "align": "left"
          },
          "hovermode": "closest",
          "mapbox": {
           "style": "light"
          },
          "paper_bgcolor": "white",
          "plot_bgcolor": "#E5ECF6",
          "polar": {
           "angularaxis": {
            "gridcolor": "white",
            "linecolor": "white",
            "ticks": ""
           },
           "bgcolor": "#E5ECF6",
           "radialaxis": {
            "gridcolor": "white",
            "linecolor": "white",
            "ticks": ""
           }
          },
          "scene": {
           "xaxis": {
            "backgroundcolor": "#E5ECF6",
            "gridcolor": "white",
            "gridwidth": 2,
            "linecolor": "white",
            "showbackground": true,
            "ticks": "",
            "zerolinecolor": "white"
           },
           "yaxis": {
            "backgroundcolor": "#E5ECF6",
            "gridcolor": "white",
            "gridwidth": 2,
            "linecolor": "white",
            "showbackground": true,
            "ticks": "",
            "zerolinecolor": "white"
           },
           "zaxis": {
            "backgroundcolor": "#E5ECF6",
            "gridcolor": "white",
            "gridwidth": 2,
            "linecolor": "white",
            "showbackground": true,
            "ticks": "",
            "zerolinecolor": "white"
           }
          },
          "shapedefaults": {
           "line": {
            "color": "#2a3f5f"
           }
          },
          "ternary": {
           "aaxis": {
            "gridcolor": "white",
            "linecolor": "white",
            "ticks": ""
           },
           "baxis": {
            "gridcolor": "white",
            "linecolor": "white",
            "ticks": ""
           },
           "bgcolor": "#E5ECF6",
           "caxis": {
            "gridcolor": "white",
            "linecolor": "white",
            "ticks": ""
           }
          },
          "title": {
           "x": 0.05
          },
          "xaxis": {
           "automargin": true,
           "gridcolor": "white",
           "linecolor": "white",
           "ticks": "",
           "zerolinecolor": "white",
           "zerolinewidth": 2
          },
          "yaxis": {
           "automargin": true,
           "gridcolor": "white",
           "linecolor": "white",
           "ticks": "",
           "zerolinecolor": "white",
           "zerolinewidth": 2
          }
         }
        },
        "title": {
         "text": "Meta1 prediction value of testset of Group 1"
        }
       }
      },
      "text/html": [
       "<div>\n",
       "        \n",
       "        \n",
       "            <div id=\"568db0d7-1894-4856-9136-d2cbd48863c7\" class=\"plotly-graph-div\" style=\"height:525px; width:100%;\"></div>\n",
       "            <script type=\"text/javascript\">\n",
       "                require([\"plotly\"], function(Plotly) {\n",
       "                    window.PLOTLYENV=window.PLOTLYENV || {};\n",
       "                    \n",
       "                if (document.getElementById(\"568db0d7-1894-4856-9136-d2cbd48863c7\")) {\n",
       "                    Plotly.newPlot(\n",
       "                        '568db0d7-1894-4856-9136-d2cbd48863c7',\n",
       "                        [{\"marker\": {\"color\": [30315456.35554634, 30114018.6387518, 30114018.6387518, 31379464.90705015, 31432542.90146757, 29629389.95619146, 30172415.34468317, 30072481.04855396, 31064705.909566697, 31432542.90146757, 32177145.588430546, 31005626.431120466, 31583667.21373023, 31512623.36398387, 31512623.36398387, 31361537.65493747, 31432542.90146757, 31379464.90705015, 31110851.15534339, 30865291.32270362, 31082934.34954269, 30172415.34468317, 31432542.90146757, 31005626.431120466, 31441465.59177327, 32094482.51852917, 30887122.115307353, 32019866.457820665, 31746846.88702683, 31052726.81374957, 30143829.216693226, 31379464.90705015, 31512623.36398387, 31005626.431120466, 30380125.18244396, 31361537.65493747, 30380125.18244396, 31005626.431120466, 31361537.65493747, 31379464.90705015, 32066966.840449777, 30800071.365324035, 30348848.90335464, 32066966.840449777, 29482358.736217435, 31361537.65493747, 31379464.90705015, 31432542.90146757, 31432542.90146757, 31379464.90705015, 30473488.51627069, 31746846.88702683, 31111806.2921958, 31379464.90705015, 30473488.51627069, 31441465.59177327, 32066966.840449777, 31382386.11332704, 32066966.840449777, 32066966.840449777, 31005626.431120466, 30315456.35554634, 31082934.34954269, 29482358.736217435, 32094482.51852917, 30380125.18244396, 30172415.34468317, 30117859.20651177, 30143829.216693226, 31029905.434937473, 29831967.28814232, 31382386.11332704, 31361537.65493747, 29636067.926660456, 29482358.736217435, 32019866.457820665, 31361537.65493747, 31379464.90705015, 30520050.97618552, 31379464.90705015, 31361537.65493747, 32066966.840449777, 30465494.83801412, 31379464.90705015, 29459192.221140675, 31737307.54087231, 30114018.6387518, 30951972.54349023, 31432542.90146757, 31452278.95231503, 30680481.12335464, 31361537.65493747, 31361537.65493747, 29769799.51137086, 31110851.15534339, 31110851.15534339, 31005626.431120466, 31432542.90146757, 29790824.44114067, 30887122.115307353, 29790824.44114067, 31432542.90146757]}, \"mode\": \"markers\", \"text\": [\"O Brother, Where Art Thou?\", \"The Twilight Saga: Breaking Dawn Part 1\", \"The Twilight Saga: Breaking Dawn Part 2\", \"Helena From the Wedding\", \"Monsters\", \"Catfish\", \"Red\", \"Freakonomics\", \"The Warrior's Way\", \"Stone\", \"Frankenweenie\", \"John Carter\", \"Dolphin Tale\", \"Penguins of Madagascar\", \"Minions\", \"Proud American\", \"Edmond\", \"Tootsie\", \"Waterworld\", \"The Lion King (2019)\", \"Crawl\", \"Stuber\", \"Midsommar\", \"Spider-Man: Far from Home\", \"Yesterday\", \"Annabelle Comes Home\", \"Toy Story 4\", \"Child's Play (2019)\", \"Anna (2019)\", \"Men in Black International\", \"Shaft (2019)\\u00a0\", \"Late Night\", \"The Secret Life of Pets 2\", \"Dark Phoenix\", \"Godzilla:King of the Monsters\", \"Rocketman\", \"Return of the Jedi\", \"Indiana Jones and the Temple of Doom\", \"The Idolmaker\", \"The Grass Harp\", \"The Grand\", \"Jaws\", \"Superman (1978)\", \"Clerks\", \"Juice\", \"He Got Game\", \"White Men Can't Jump\", \"Mulholland Drive\", \"Blue Velvet\", \"Once Upon a Time in Hollywood\", \"The Big Lebowski\", \"Train to Busan\", \"Pride and Prejudice and Zombies\", \"Dead Poets Society\", \"A Fish Called Wanda\", \"The Witches of Eastwick\", \"Ferris Bueller's Day Off\", \"Back to the Future\", \"Police Academy\", \"Trading Places\", \"Star Trek II The Wrath of Khan\", \"The Blues Brothers\", \"V For Vendetta\", \"In the Line of Fire\", \"Us\", \"The Forbidden Kingdom\", \"Rumble in the Bronx\", \"Machete\", \"Beverly Hills Cop\", \"Watchmen\", \"Jackie Brown\", \"Zombieland\", \"Mo Better Blues\", \"Thelma and Louise\", \"New Jack City\", \"The Lawnmower Man\", \"Schindler's List\", \"Four Weddings and a Funeral\", \"Get Shorty\", \"Jerry Maguire\", \"Welcome to Sarajevo\", \"Trojan War\", \"The Gingerbread Man\", \"Tumbleweeds\", \"Turn it up\", \"The Adventures of Pluto Nash\", \"The Lord of the Rings: The Return of the King\", \"Harry Potter and the Prisoner of Azkaban\", \"Stay\", \"Fast Food Nation\", \"Into the Wild\", \"The Wrestler\", \"Slumdog Millionaire\", \"Jackass 3-D\", \"Skyfall\", \"The Hunger Games: Mocking Jay - Part 1\", \"Jurassic World\", \"Shut In\", \"Molly's Game\", \"Peter Rabbit\", \"BlacKkKlansman\", \"Replicas\"], \"type\": \"scatter\", \"x\": [\"O Brother, Where Art Thou?\", \"The Twilight Saga: Breaking Dawn Part 1\", \"The Twilight Saga: Breaking Dawn Part 2\", \"Helena From the Wedding\", \"Monsters\", \"Catfish\", \"Red\", \"Freakonomics\", \"The Warrior's Way\", \"Stone\", \"Frankenweenie\", \"John Carter\", \"Dolphin Tale\", \"Penguins of Madagascar\", \"Minions\", \"Proud American\", \"Edmond\", \"Tootsie\", \"Waterworld\", \"The Lion King (2019)\", \"Crawl\", \"Stuber\", \"Midsommar\", \"Spider-Man: Far from Home\", \"Yesterday\", \"Annabelle Comes Home\", \"Toy Story 4\", \"Child's Play (2019)\", \"Anna (2019)\", \"Men in Black International\", \"Shaft (2019)\\u00a0\", \"Late Night\", \"The Secret Life of Pets 2\", \"Dark Phoenix\", \"Godzilla:King of the Monsters\", \"Rocketman\", \"Return of the Jedi\", \"Indiana Jones and the Temple of Doom\", \"The Idolmaker\", \"The Grass Harp\", \"The Grand\", \"Jaws\", \"Superman (1978)\", \"Clerks\", \"Juice\", \"He Got Game\", \"White Men Can't Jump\", \"Mulholland Drive\", \"Blue Velvet\", \"Once Upon a Time in Hollywood\", \"The Big Lebowski\", \"Train to Busan\", \"Pride and Prejudice and Zombies\", \"Dead Poets Society\", \"A Fish Called Wanda\", \"The Witches of Eastwick\", \"Ferris Bueller's Day Off\", \"Back to the Future\", \"Police Academy\", \"Trading Places\", \"Star Trek II The Wrath of Khan\", \"The Blues Brothers\", \"V For Vendetta\", \"In the Line of Fire\", \"Us\", \"The Forbidden Kingdom\", \"Rumble in the Bronx\", \"Machete\", \"Beverly Hills Cop\", \"Watchmen\", \"Jackie Brown\", \"Zombieland\", \"Mo Better Blues\", \"Thelma and Louise\", \"New Jack City\", \"The Lawnmower Man\", \"Schindler's List\", \"Four Weddings and a Funeral\", \"Get Shorty\", \"Jerry Maguire\", \"Welcome to Sarajevo\", \"Trojan War\", \"The Gingerbread Man\", \"Tumbleweeds\", \"Turn it up\", \"The Adventures of Pluto Nash\", \"The Lord of the Rings: The Return of the King\", \"Harry Potter and the Prisoner of Azkaban\", \"Stay\", \"Fast Food Nation\", \"Into the Wild\", \"The Wrestler\", \"Slumdog Millionaire\", \"Jackass 3-D\", \"Skyfall\", \"The Hunger Games: Mocking Jay - Part 1\", \"Jurassic World\", \"Shut In\", \"Molly's Game\", \"Peter Rabbit\", \"BlacKkKlansman\", \"Replicas\"], \"y\": [30315456.35554634, 30114018.6387518, 30114018.6387518, 31379464.90705015, 31432542.90146757, 29629389.95619146, 30172415.34468317, 30072481.04855396, 31064705.909566697, 31432542.90146757, 32177145.588430546, 31005626.431120466, 31583667.21373023, 31512623.36398387, 31512623.36398387, 31361537.65493747, 31432542.90146757, 31379464.90705015, 31110851.15534339, 30865291.32270362, 31082934.34954269, 30172415.34468317, 31432542.90146757, 31005626.431120466, 31441465.59177327, 32094482.51852917, 30887122.115307353, 32019866.457820665, 31746846.88702683, 31052726.81374957, 30143829.216693226, 31379464.90705015, 31512623.36398387, 31005626.431120466, 30380125.18244396, 31361537.65493747, 30380125.18244396, 31005626.431120466, 31361537.65493747, 31379464.90705015, 32066966.840449777, 30800071.365324035, 30348848.90335464, 32066966.840449777, 29482358.736217435, 31361537.65493747, 31379464.90705015, 31432542.90146757, 31432542.90146757, 31379464.90705015, 30473488.51627069, 31746846.88702683, 31111806.2921958, 31379464.90705015, 30473488.51627069, 31441465.59177327, 32066966.840449777, 31382386.11332704, 32066966.840449777, 32066966.840449777, 31005626.431120466, 30315456.35554634, 31082934.34954269, 29482358.736217435, 32094482.51852917, 30380125.18244396, 30172415.34468317, 30117859.20651177, 30143829.216693226, 31029905.434937473, 29831967.28814232, 31382386.11332704, 31361537.65493747, 29636067.926660456, 29482358.736217435, 32019866.457820665, 31361537.65493747, 31379464.90705015, 30520050.97618552, 31379464.90705015, 31361537.65493747, 32066966.840449777, 30465494.83801412, 31379464.90705015, 29459192.221140675, 31737307.54087231, 30114018.6387518, 30951972.54349023, 31432542.90146757, 31452278.95231503, 30680481.12335464, 31361537.65493747, 31361537.65493747, 29769799.51137086, 31110851.15534339, 31110851.15534339, 31005626.431120466, 31432542.90146757, 29790824.44114067, 30887122.115307353, 29790824.44114067, 31432542.90146757]}],\n",
       "                        {\"template\": {\"data\": {\"bar\": [{\"error_x\": {\"color\": \"#2a3f5f\"}, \"error_y\": {\"color\": \"#2a3f5f\"}, \"marker\": {\"line\": {\"color\": \"#E5ECF6\", \"width\": 0.5}}, \"type\": \"bar\"}], \"barpolar\": [{\"marker\": {\"line\": {\"color\": \"#E5ECF6\", \"width\": 0.5}}, \"type\": \"barpolar\"}], \"carpet\": [{\"aaxis\": {\"endlinecolor\": \"#2a3f5f\", \"gridcolor\": \"white\", \"linecolor\": \"white\", \"minorgridcolor\": \"white\", \"startlinecolor\": \"#2a3f5f\"}, \"baxis\": {\"endlinecolor\": \"#2a3f5f\", \"gridcolor\": \"white\", \"linecolor\": \"white\", \"minorgridcolor\": \"white\", \"startlinecolor\": \"#2a3f5f\"}, \"type\": \"carpet\"}], \"choropleth\": [{\"colorbar\": {\"outlinewidth\": 0, \"ticks\": \"\"}, \"type\": \"choropleth\"}], \"contour\": [{\"colorbar\": {\"outlinewidth\": 0, \"ticks\": \"\"}, \"colorscale\": [[0.0, \"#0d0887\"], [0.1111111111111111, \"#46039f\"], [0.2222222222222222, \"#7201a8\"], [0.3333333333333333, \"#9c179e\"], [0.4444444444444444, \"#bd3786\"], [0.5555555555555556, \"#d8576b\"], [0.6666666666666666, \"#ed7953\"], [0.7777777777777778, \"#fb9f3a\"], [0.8888888888888888, \"#fdca26\"], [1.0, \"#f0f921\"]], \"type\": \"contour\"}], \"contourcarpet\": [{\"colorbar\": {\"outlinewidth\": 0, \"ticks\": \"\"}, \"type\": \"contourcarpet\"}], \"heatmap\": [{\"colorbar\": {\"outlinewidth\": 0, \"ticks\": \"\"}, \"colorscale\": [[0.0, \"#0d0887\"], [0.1111111111111111, \"#46039f\"], [0.2222222222222222, \"#7201a8\"], [0.3333333333333333, \"#9c179e\"], [0.4444444444444444, \"#bd3786\"], [0.5555555555555556, \"#d8576b\"], [0.6666666666666666, \"#ed7953\"], [0.7777777777777778, \"#fb9f3a\"], [0.8888888888888888, \"#fdca26\"], [1.0, \"#f0f921\"]], \"type\": \"heatmap\"}], \"heatmapgl\": [{\"colorbar\": {\"outlinewidth\": 0, \"ticks\": \"\"}, \"colorscale\": [[0.0, \"#0d0887\"], [0.1111111111111111, \"#46039f\"], [0.2222222222222222, \"#7201a8\"], [0.3333333333333333, \"#9c179e\"], [0.4444444444444444, \"#bd3786\"], [0.5555555555555556, \"#d8576b\"], [0.6666666666666666, \"#ed7953\"], [0.7777777777777778, \"#fb9f3a\"], [0.8888888888888888, \"#fdca26\"], [1.0, \"#f0f921\"]], \"type\": \"heatmapgl\"}], \"histogram\": [{\"marker\": {\"colorbar\": {\"outlinewidth\": 0, \"ticks\": \"\"}}, \"type\": \"histogram\"}], \"histogram2d\": [{\"colorbar\": {\"outlinewidth\": 0, \"ticks\": \"\"}, \"colorscale\": [[0.0, \"#0d0887\"], [0.1111111111111111, \"#46039f\"], [0.2222222222222222, \"#7201a8\"], [0.3333333333333333, \"#9c179e\"], [0.4444444444444444, \"#bd3786\"], [0.5555555555555556, \"#d8576b\"], [0.6666666666666666, \"#ed7953\"], [0.7777777777777778, \"#fb9f3a\"], [0.8888888888888888, \"#fdca26\"], [1.0, \"#f0f921\"]], \"type\": \"histogram2d\"}], \"histogram2dcontour\": [{\"colorbar\": {\"outlinewidth\": 0, \"ticks\": \"\"}, \"colorscale\": [[0.0, \"#0d0887\"], [0.1111111111111111, \"#46039f\"], [0.2222222222222222, \"#7201a8\"], [0.3333333333333333, \"#9c179e\"], [0.4444444444444444, \"#bd3786\"], [0.5555555555555556, \"#d8576b\"], [0.6666666666666666, \"#ed7953\"], [0.7777777777777778, \"#fb9f3a\"], [0.8888888888888888, \"#fdca26\"], [1.0, \"#f0f921\"]], \"type\": \"histogram2dcontour\"}], \"mesh3d\": [{\"colorbar\": {\"outlinewidth\": 0, \"ticks\": \"\"}, \"type\": \"mesh3d\"}], \"parcoords\": [{\"line\": {\"colorbar\": {\"outlinewidth\": 0, \"ticks\": \"\"}}, \"type\": \"parcoords\"}], \"scatter\": [{\"marker\": {\"colorbar\": {\"outlinewidth\": 0, \"ticks\": \"\"}}, \"type\": \"scatter\"}], \"scatter3d\": [{\"line\": {\"colorbar\": {\"outlinewidth\": 0, \"ticks\": \"\"}}, \"marker\": {\"colorbar\": {\"outlinewidth\": 0, \"ticks\": \"\"}}, \"type\": \"scatter3d\"}], \"scattercarpet\": [{\"marker\": {\"colorbar\": {\"outlinewidth\": 0, \"ticks\": \"\"}}, \"type\": \"scattercarpet\"}], \"scattergeo\": [{\"marker\": {\"colorbar\": {\"outlinewidth\": 0, \"ticks\": \"\"}}, \"type\": \"scattergeo\"}], \"scattergl\": [{\"marker\": {\"colorbar\": {\"outlinewidth\": 0, \"ticks\": \"\"}}, \"type\": \"scattergl\"}], \"scattermapbox\": [{\"marker\": {\"colorbar\": {\"outlinewidth\": 0, \"ticks\": \"\"}}, \"type\": \"scattermapbox\"}], \"scatterpolar\": [{\"marker\": {\"colorbar\": {\"outlinewidth\": 0, \"ticks\": \"\"}}, \"type\": \"scatterpolar\"}], \"scatterpolargl\": [{\"marker\": {\"colorbar\": {\"outlinewidth\": 0, \"ticks\": \"\"}}, \"type\": \"scatterpolargl\"}], \"scatterternary\": [{\"marker\": {\"colorbar\": {\"outlinewidth\": 0, \"ticks\": \"\"}}, \"type\": \"scatterternary\"}], \"surface\": [{\"colorbar\": {\"outlinewidth\": 0, \"ticks\": \"\"}, \"colorscale\": [[0.0, \"#0d0887\"], [0.1111111111111111, \"#46039f\"], [0.2222222222222222, \"#7201a8\"], [0.3333333333333333, \"#9c179e\"], [0.4444444444444444, \"#bd3786\"], [0.5555555555555556, \"#d8576b\"], [0.6666666666666666, \"#ed7953\"], [0.7777777777777778, \"#fb9f3a\"], [0.8888888888888888, \"#fdca26\"], [1.0, \"#f0f921\"]], \"type\": \"surface\"}], \"table\": [{\"cells\": {\"fill\": {\"color\": \"#EBF0F8\"}, \"line\": {\"color\": \"white\"}}, \"header\": {\"fill\": {\"color\": \"#C8D4E3\"}, \"line\": {\"color\": \"white\"}}, \"type\": \"table\"}]}, \"layout\": {\"annotationdefaults\": {\"arrowcolor\": \"#2a3f5f\", \"arrowhead\": 0, \"arrowwidth\": 1}, \"colorscale\": {\"diverging\": [[0, \"#8e0152\"], [0.1, \"#c51b7d\"], [0.2, \"#de77ae\"], [0.3, \"#f1b6da\"], [0.4, \"#fde0ef\"], [0.5, \"#f7f7f7\"], [0.6, \"#e6f5d0\"], [0.7, \"#b8e186\"], [0.8, \"#7fbc41\"], [0.9, \"#4d9221\"], [1, \"#276419\"]], \"sequential\": [[0.0, \"#0d0887\"], [0.1111111111111111, \"#46039f\"], [0.2222222222222222, \"#7201a8\"], [0.3333333333333333, \"#9c179e\"], [0.4444444444444444, \"#bd3786\"], [0.5555555555555556, \"#d8576b\"], [0.6666666666666666, \"#ed7953\"], [0.7777777777777778, \"#fb9f3a\"], [0.8888888888888888, \"#fdca26\"], [1.0, \"#f0f921\"]], \"sequentialminus\": [[0.0, \"#0d0887\"], [0.1111111111111111, \"#46039f\"], [0.2222222222222222, \"#7201a8\"], [0.3333333333333333, \"#9c179e\"], [0.4444444444444444, \"#bd3786\"], [0.5555555555555556, \"#d8576b\"], [0.6666666666666666, \"#ed7953\"], [0.7777777777777778, \"#fb9f3a\"], [0.8888888888888888, \"#fdca26\"], [1.0, \"#f0f921\"]]}, \"colorway\": [\"#636efa\", \"#EF553B\", \"#00cc96\", \"#ab63fa\", \"#FFA15A\", \"#19d3f3\", \"#FF6692\", \"#B6E880\", \"#FF97FF\", \"#FECB52\"], \"font\": {\"color\": \"#2a3f5f\"}, \"geo\": {\"bgcolor\": \"white\", \"lakecolor\": \"white\", \"landcolor\": \"#E5ECF6\", \"showlakes\": true, \"showland\": true, \"subunitcolor\": \"white\"}, \"hoverlabel\": {\"align\": \"left\"}, \"hovermode\": \"closest\", \"mapbox\": {\"style\": \"light\"}, \"paper_bgcolor\": \"white\", \"plot_bgcolor\": \"#E5ECF6\", \"polar\": {\"angularaxis\": {\"gridcolor\": \"white\", \"linecolor\": \"white\", \"ticks\": \"\"}, \"bgcolor\": \"#E5ECF6\", \"radialaxis\": {\"gridcolor\": \"white\", \"linecolor\": \"white\", \"ticks\": \"\"}}, \"scene\": {\"xaxis\": {\"backgroundcolor\": \"#E5ECF6\", \"gridcolor\": \"white\", \"gridwidth\": 2, \"linecolor\": \"white\", \"showbackground\": true, \"ticks\": \"\", \"zerolinecolor\": \"white\"}, \"yaxis\": {\"backgroundcolor\": \"#E5ECF6\", \"gridcolor\": \"white\", \"gridwidth\": 2, \"linecolor\": \"white\", \"showbackground\": true, \"ticks\": \"\", \"zerolinecolor\": \"white\"}, \"zaxis\": {\"backgroundcolor\": \"#E5ECF6\", \"gridcolor\": \"white\", \"gridwidth\": 2, \"linecolor\": \"white\", \"showbackground\": true, \"ticks\": \"\", \"zerolinecolor\": \"white\"}}, \"shapedefaults\": {\"line\": {\"color\": \"#2a3f5f\"}}, \"ternary\": {\"aaxis\": {\"gridcolor\": \"white\", \"linecolor\": \"white\", \"ticks\": \"\"}, \"baxis\": {\"gridcolor\": \"white\", \"linecolor\": \"white\", \"ticks\": \"\"}, \"bgcolor\": \"#E5ECF6\", \"caxis\": {\"gridcolor\": \"white\", \"linecolor\": \"white\", \"ticks\": \"\"}}, \"title\": {\"x\": 0.05}, \"xaxis\": {\"automargin\": true, \"gridcolor\": \"white\", \"linecolor\": \"white\", \"ticks\": \"\", \"zerolinecolor\": \"white\", \"zerolinewidth\": 2}, \"yaxis\": {\"automargin\": true, \"gridcolor\": \"white\", \"linecolor\": \"white\", \"ticks\": \"\", \"zerolinecolor\": \"white\", \"zerolinewidth\": 2}}}, \"title\": {\"text\": \"Meta1 prediction value of testset of Group 1\"}},\n",
       "                        {\"responsive\": true}\n",
       "                    ).then(function(){\n",
       "                            \n",
       "var gd = document.getElementById('568db0d7-1894-4856-9136-d2cbd48863c7');\n",
       "var x = new MutationObserver(function (mutations, observer) {{\n",
       "        var display = window.getComputedStyle(gd).display;\n",
       "        if (!display || display === 'none') {{\n",
       "            console.log([gd, 'removed!']);\n",
       "            Plotly.purge(gd);\n",
       "            observer.disconnect();\n",
       "        }}\n",
       "}});\n",
       "\n",
       "// Listen for the removal of the full notebook cells\n",
       "var notebookContainer = gd.closest('#notebook-container');\n",
       "if (notebookContainer) {{\n",
       "    x.observe(notebookContainer, {childList: true});\n",
       "}}\n",
       "\n",
       "// Listen for the clearing of the current output cell\n",
       "var outputEl = gd.closest('.output');\n",
       "if (outputEl) {{\n",
       "    x.observe(outputEl, {childList: true});\n",
       "}}\n",
       "\n",
       "                        })\n",
       "                };\n",
       "                });\n",
       "            </script>\n",
       "        </div>"
      ]
     },
     "metadata": {},
     "output_type": "display_data"
    }
   ],
   "source": [
    "#Meta1 prediction value of testset\n",
    "fig = go.Figure(data=go.Scatter(x=g1_result_final[\"name\"],\n",
    "                                y=g1_result_final[\"pred_meta_1\"],\n",
    "                                mode='markers',\n",
    "                                marker_color=g1_result_final[\"pred_meta_1\"],\n",
    "                                text=g1_result_final[\"name\"])) # hover text goes here(movie_title)\n",
    "\n",
    "fig.update_layout(title='Meta1 prediction value of testset of Group 1')\n",
    "fig.show()"
   ]
  },
  {
   "cell_type": "code",
   "execution_count": 28,
   "metadata": {},
   "outputs": [
    {
     "data": {
      "application/vnd.plotly.v1+json": {
       "config": {
        "plotlyServerURL": "https://plot.ly"
       },
       "data": [
        {
         "marker": {
          "color": [
           9.644658589208253,
           4.371945530876004,
           4.377676934352659,
           13.968709813999968,
           11.939308036334447,
           9.34287404919317,
           3.680116810331362,
           11.453098933797786,
           6.824331225745222,
           10.630730396854242,
           5.20923257813121,
           1.3177569465119183,
           4.188246027688426,
           3.2122193090630033,
           4.300922838910801,
           10.390330675463053,
           12.00249574977973,
           6.147117565218363,
           3.8700524551863897,
           4.441534288503067,
           5.074623926164098,
           5.5903179164252785,
           5.940572293752117,
           4.212262161693619,
           4.452491205362629,
           4.083233989669811,
           4.323523770897397,
           4.853422673918415,
           6.662747432996887,
           1.4783230170121562,
           5.479140793508319,
           9.444707455983417,
           3.510132651617305,
           1.8798129730772677,
           3.621983900336122,
           3.131456410713825,
           3.4957476338355815,
           3.1515553043272924,
           9.185087829412849,
           10.19182690749171,
           11.709077677520774,
           5.82058179888831,
           5.728572208126116,
           11.52456185661629,
           5.582043224621299,
           5.746438501697896,
           4.738864478025975,
           8.566057920755988,
           8.264307102251143,
           3.203458312921597,
           6.112962617375211,
           9.310095790114916,
           6.1848551821454905,
           9.117994015204411,
           10.177465559044819,
           5.453459459365826,
           6.020961878164764,
           5.206165262451567,
           5.617413328989539,
           5.821245858276894,
           4.763104565589734,
           6.263421311480189,
           3.100868130537399,
           4.544161103864117,
           4.023050255547573,
           3.760170881400591,
           5.333001626203838,
           4.741082089938181,
           4.596348315097592,
           3.802230384992607,
           5.402864055380018,
           3.3280486574941737,
           6.42294771414911,
           5.957736862084501,
           5.767714536315894,
           5.749566595380868,
           8.45043176931994,
           10.02393121435194,
           4.950993065623393,
           4.438812395773404,
           10.752895095344991,
           16.508603120860453,
           10.152631464400837,
           10.574149512711388,
           8.518826350381522,
           7.211487137322593,
           4.086608126312798,
           4.218955946292429,
           7.198525506127805,
           8.930265793449372,
           9.57101389473741,
           9.640291871013291,
           9.060923781584156,
           3.7347739132649282,
           4.186508525219441,
           4.3238397339641335,
           4.456101662853467,
           6.647491301741373,
           7.800900669141707,
           3.198448869655105,
           5.168709924012688,
           7.1101199637210835
          ]
         },
         "mode": "markers",
         "text": [
          "O Brother, Where Art Thou?",
          "The Twilight Saga: Breaking Dawn Part 1",
          "The Twilight Saga: Breaking Dawn Part 2",
          "Helena From the Wedding",
          "Monsters",
          "Catfish",
          "Red",
          "Freakonomics",
          "The Warrior's Way",
          "Stone",
          "Frankenweenie",
          "John Carter",
          "Dolphin Tale",
          "Penguins of Madagascar",
          "Minions",
          "Proud American",
          "Edmond",
          "Tootsie",
          "Waterworld",
          "The Lion King (2019)",
          "Crawl",
          "Stuber",
          "Midsommar",
          "Spider-Man: Far from Home",
          "Yesterday",
          "Annabelle Comes Home",
          "Toy Story 4",
          "Child's Play (2019)",
          "Anna (2019)",
          "Men in Black International",
          "Shaft (2019) ",
          "Late Night",
          "The Secret Life of Pets 2",
          "Dark Phoenix",
          "Godzilla:King of the Monsters",
          "Rocketman",
          "Return of the Jedi",
          "Indiana Jones and the Temple of Doom",
          "The Idolmaker",
          "The Grass Harp",
          "The Grand",
          "Jaws",
          "Superman (1978)",
          "Clerks",
          "Juice",
          "He Got Game",
          "White Men Can't Jump",
          "Mulholland Drive",
          "Blue Velvet",
          "Once Upon a Time in Hollywood",
          "The Big Lebowski",
          "Train to Busan",
          "Pride and Prejudice and Zombies",
          "Dead Poets Society",
          "A Fish Called Wanda",
          "The Witches of Eastwick",
          "Ferris Bueller's Day Off",
          "Back to the Future",
          "Police Academy",
          "Trading Places",
          "Star Trek II The Wrath of Khan",
          "The Blues Brothers",
          "V For Vendetta",
          "In the Line of Fire",
          "Us",
          "The Forbidden Kingdom",
          "Rumble in the Bronx",
          "Machete",
          "Beverly Hills Cop",
          "Watchmen",
          "Jackie Brown",
          "Zombieland",
          "Mo Better Blues",
          "Thelma and Louise",
          "New Jack City",
          "The Lawnmower Man",
          "Schindler's List",
          "Four Weddings and a Funeral",
          "Get Shorty",
          "Jerry Maguire",
          "Welcome to Sarajevo",
          "Trojan War",
          "The Gingerbread Man",
          "Tumbleweeds",
          "Turn it up",
          "The Adventures of Pluto Nash",
          "The Lord of the Rings: The Return of the King",
          "Harry Potter and the Prisoner of Azkaban",
          "Stay",
          "Fast Food Nation",
          "Into the Wild",
          "The Wrestler",
          "Slumdog Millionaire",
          "Jackass 3-D",
          "Skyfall",
          "The Hunger Games: Mocking Jay - Part 1",
          "Jurassic World",
          "Shut In",
          "Molly's Game",
          "Peter Rabbit",
          "BlacKkKlansman",
          "Replicas"
         ],
         "type": "scatter",
         "x": [
          "O Brother, Where Art Thou?",
          "The Twilight Saga: Breaking Dawn Part 1",
          "The Twilight Saga: Breaking Dawn Part 2",
          "Helena From the Wedding",
          "Monsters",
          "Catfish",
          "Red",
          "Freakonomics",
          "The Warrior's Way",
          "Stone",
          "Frankenweenie",
          "John Carter",
          "Dolphin Tale",
          "Penguins of Madagascar",
          "Minions",
          "Proud American",
          "Edmond",
          "Tootsie",
          "Waterworld",
          "The Lion King (2019)",
          "Crawl",
          "Stuber",
          "Midsommar",
          "Spider-Man: Far from Home",
          "Yesterday",
          "Annabelle Comes Home",
          "Toy Story 4",
          "Child's Play (2019)",
          "Anna (2019)",
          "Men in Black International",
          "Shaft (2019) ",
          "Late Night",
          "The Secret Life of Pets 2",
          "Dark Phoenix",
          "Godzilla:King of the Monsters",
          "Rocketman",
          "Return of the Jedi",
          "Indiana Jones and the Temple of Doom",
          "The Idolmaker",
          "The Grass Harp",
          "The Grand",
          "Jaws",
          "Superman (1978)",
          "Clerks",
          "Juice",
          "He Got Game",
          "White Men Can't Jump",
          "Mulholland Drive",
          "Blue Velvet",
          "Once Upon a Time in Hollywood",
          "The Big Lebowski",
          "Train to Busan",
          "Pride and Prejudice and Zombies",
          "Dead Poets Society",
          "A Fish Called Wanda",
          "The Witches of Eastwick",
          "Ferris Bueller's Day Off",
          "Back to the Future",
          "Police Academy",
          "Trading Places",
          "Star Trek II The Wrath of Khan",
          "The Blues Brothers",
          "V For Vendetta",
          "In the Line of Fire",
          "Us",
          "The Forbidden Kingdom",
          "Rumble in the Bronx",
          "Machete",
          "Beverly Hills Cop",
          "Watchmen",
          "Jackie Brown",
          "Zombieland",
          "Mo Better Blues",
          "Thelma and Louise",
          "New Jack City",
          "The Lawnmower Man",
          "Schindler's List",
          "Four Weddings and a Funeral",
          "Get Shorty",
          "Jerry Maguire",
          "Welcome to Sarajevo",
          "Trojan War",
          "The Gingerbread Man",
          "Tumbleweeds",
          "Turn it up",
          "The Adventures of Pluto Nash",
          "The Lord of the Rings: The Return of the King",
          "Harry Potter and the Prisoner of Azkaban",
          "Stay",
          "Fast Food Nation",
          "Into the Wild",
          "The Wrestler",
          "Slumdog Millionaire",
          "Jackass 3-D",
          "Skyfall",
          "The Hunger Games: Mocking Jay - Part 1",
          "Jurassic World",
          "Shut In",
          "Molly's Game",
          "Peter Rabbit",
          "BlacKkKlansman",
          "Replicas"
         ],
         "y": [
          9.644658589208253,
          4.371945530876004,
          4.377676934352659,
          13.968709813999968,
          11.939308036334447,
          9.34287404919317,
          3.680116810331362,
          11.453098933797786,
          6.824331225745222,
          10.630730396854242,
          5.20923257813121,
          1.3177569465119183,
          4.188246027688426,
          3.2122193090630033,
          4.300922838910801,
          10.390330675463053,
          12.00249574977973,
          6.147117565218363,
          3.8700524551863897,
          4.441534288503067,
          5.074623926164098,
          5.5903179164252785,
          5.940572293752117,
          4.212262161693619,
          4.452491205362629,
          4.083233989669811,
          4.323523770897397,
          4.853422673918415,
          6.662747432996887,
          1.4783230170121562,
          5.479140793508319,
          9.444707455983417,
          3.510132651617305,
          1.8798129730772677,
          3.621983900336122,
          3.131456410713825,
          3.4957476338355815,
          3.1515553043272924,
          9.185087829412849,
          10.19182690749171,
          11.709077677520774,
          5.82058179888831,
          5.728572208126116,
          11.52456185661629,
          5.582043224621299,
          5.746438501697896,
          4.738864478025975,
          8.566057920755988,
          8.264307102251143,
          3.203458312921597,
          6.112962617375211,
          9.310095790114916,
          6.1848551821454905,
          9.117994015204411,
          10.177465559044819,
          5.453459459365826,
          6.020961878164764,
          5.206165262451567,
          5.617413328989539,
          5.821245858276894,
          4.763104565589734,
          6.263421311480189,
          3.100868130537399,
          4.544161103864117,
          4.023050255547573,
          3.760170881400591,
          5.333001626203838,
          4.741082089938181,
          4.596348315097592,
          3.802230384992607,
          5.402864055380018,
          3.3280486574941737,
          6.42294771414911,
          5.957736862084501,
          5.767714536315894,
          5.749566595380868,
          8.45043176931994,
          10.02393121435194,
          4.950993065623393,
          4.438812395773404,
          10.752895095344991,
          16.508603120860453,
          10.152631464400837,
          10.574149512711388,
          8.518826350381522,
          7.211487137322593,
          4.086608126312798,
          4.218955946292429,
          7.198525506127805,
          8.930265793449372,
          9.57101389473741,
          9.640291871013291,
          9.060923781584156,
          3.7347739132649282,
          4.186508525219441,
          4.3238397339641335,
          4.456101662853467,
          6.647491301741373,
          7.800900669141707,
          3.198448869655105,
          5.168709924012688,
          7.1101199637210835
         ]
        }
       ],
       "layout": {
        "template": {
         "data": {
          "bar": [
           {
            "error_x": {
             "color": "#2a3f5f"
            },
            "error_y": {
             "color": "#2a3f5f"
            },
            "marker": {
             "line": {
              "color": "#E5ECF6",
              "width": 0.5
             }
            },
            "type": "bar"
           }
          ],
          "barpolar": [
           {
            "marker": {
             "line": {
              "color": "#E5ECF6",
              "width": 0.5
             }
            },
            "type": "barpolar"
           }
          ],
          "carpet": [
           {
            "aaxis": {
             "endlinecolor": "#2a3f5f",
             "gridcolor": "white",
             "linecolor": "white",
             "minorgridcolor": "white",
             "startlinecolor": "#2a3f5f"
            },
            "baxis": {
             "endlinecolor": "#2a3f5f",
             "gridcolor": "white",
             "linecolor": "white",
             "minorgridcolor": "white",
             "startlinecolor": "#2a3f5f"
            },
            "type": "carpet"
           }
          ],
          "choropleth": [
           {
            "colorbar": {
             "outlinewidth": 0,
             "ticks": ""
            },
            "type": "choropleth"
           }
          ],
          "contour": [
           {
            "colorbar": {
             "outlinewidth": 0,
             "ticks": ""
            },
            "colorscale": [
             [
              0,
              "#0d0887"
             ],
             [
              0.1111111111111111,
              "#46039f"
             ],
             [
              0.2222222222222222,
              "#7201a8"
             ],
             [
              0.3333333333333333,
              "#9c179e"
             ],
             [
              0.4444444444444444,
              "#bd3786"
             ],
             [
              0.5555555555555556,
              "#d8576b"
             ],
             [
              0.6666666666666666,
              "#ed7953"
             ],
             [
              0.7777777777777778,
              "#fb9f3a"
             ],
             [
              0.8888888888888888,
              "#fdca26"
             ],
             [
              1,
              "#f0f921"
             ]
            ],
            "type": "contour"
           }
          ],
          "contourcarpet": [
           {
            "colorbar": {
             "outlinewidth": 0,
             "ticks": ""
            },
            "type": "contourcarpet"
           }
          ],
          "heatmap": [
           {
            "colorbar": {
             "outlinewidth": 0,
             "ticks": ""
            },
            "colorscale": [
             [
              0,
              "#0d0887"
             ],
             [
              0.1111111111111111,
              "#46039f"
             ],
             [
              0.2222222222222222,
              "#7201a8"
             ],
             [
              0.3333333333333333,
              "#9c179e"
             ],
             [
              0.4444444444444444,
              "#bd3786"
             ],
             [
              0.5555555555555556,
              "#d8576b"
             ],
             [
              0.6666666666666666,
              "#ed7953"
             ],
             [
              0.7777777777777778,
              "#fb9f3a"
             ],
             [
              0.8888888888888888,
              "#fdca26"
             ],
             [
              1,
              "#f0f921"
             ]
            ],
            "type": "heatmap"
           }
          ],
          "heatmapgl": [
           {
            "colorbar": {
             "outlinewidth": 0,
             "ticks": ""
            },
            "colorscale": [
             [
              0,
              "#0d0887"
             ],
             [
              0.1111111111111111,
              "#46039f"
             ],
             [
              0.2222222222222222,
              "#7201a8"
             ],
             [
              0.3333333333333333,
              "#9c179e"
             ],
             [
              0.4444444444444444,
              "#bd3786"
             ],
             [
              0.5555555555555556,
              "#d8576b"
             ],
             [
              0.6666666666666666,
              "#ed7953"
             ],
             [
              0.7777777777777778,
              "#fb9f3a"
             ],
             [
              0.8888888888888888,
              "#fdca26"
             ],
             [
              1,
              "#f0f921"
             ]
            ],
            "type": "heatmapgl"
           }
          ],
          "histogram": [
           {
            "marker": {
             "colorbar": {
              "outlinewidth": 0,
              "ticks": ""
             }
            },
            "type": "histogram"
           }
          ],
          "histogram2d": [
           {
            "colorbar": {
             "outlinewidth": 0,
             "ticks": ""
            },
            "colorscale": [
             [
              0,
              "#0d0887"
             ],
             [
              0.1111111111111111,
              "#46039f"
             ],
             [
              0.2222222222222222,
              "#7201a8"
             ],
             [
              0.3333333333333333,
              "#9c179e"
             ],
             [
              0.4444444444444444,
              "#bd3786"
             ],
             [
              0.5555555555555556,
              "#d8576b"
             ],
             [
              0.6666666666666666,
              "#ed7953"
             ],
             [
              0.7777777777777778,
              "#fb9f3a"
             ],
             [
              0.8888888888888888,
              "#fdca26"
             ],
             [
              1,
              "#f0f921"
             ]
            ],
            "type": "histogram2d"
           }
          ],
          "histogram2dcontour": [
           {
            "colorbar": {
             "outlinewidth": 0,
             "ticks": ""
            },
            "colorscale": [
             [
              0,
              "#0d0887"
             ],
             [
              0.1111111111111111,
              "#46039f"
             ],
             [
              0.2222222222222222,
              "#7201a8"
             ],
             [
              0.3333333333333333,
              "#9c179e"
             ],
             [
              0.4444444444444444,
              "#bd3786"
             ],
             [
              0.5555555555555556,
              "#d8576b"
             ],
             [
              0.6666666666666666,
              "#ed7953"
             ],
             [
              0.7777777777777778,
              "#fb9f3a"
             ],
             [
              0.8888888888888888,
              "#fdca26"
             ],
             [
              1,
              "#f0f921"
             ]
            ],
            "type": "histogram2dcontour"
           }
          ],
          "mesh3d": [
           {
            "colorbar": {
             "outlinewidth": 0,
             "ticks": ""
            },
            "type": "mesh3d"
           }
          ],
          "parcoords": [
           {
            "line": {
             "colorbar": {
              "outlinewidth": 0,
              "ticks": ""
             }
            },
            "type": "parcoords"
           }
          ],
          "scatter": [
           {
            "marker": {
             "colorbar": {
              "outlinewidth": 0,
              "ticks": ""
             }
            },
            "type": "scatter"
           }
          ],
          "scatter3d": [
           {
            "line": {
             "colorbar": {
              "outlinewidth": 0,
              "ticks": ""
             }
            },
            "marker": {
             "colorbar": {
              "outlinewidth": 0,
              "ticks": ""
             }
            },
            "type": "scatter3d"
           }
          ],
          "scattercarpet": [
           {
            "marker": {
             "colorbar": {
              "outlinewidth": 0,
              "ticks": ""
             }
            },
            "type": "scattercarpet"
           }
          ],
          "scattergeo": [
           {
            "marker": {
             "colorbar": {
              "outlinewidth": 0,
              "ticks": ""
             }
            },
            "type": "scattergeo"
           }
          ],
          "scattergl": [
           {
            "marker": {
             "colorbar": {
              "outlinewidth": 0,
              "ticks": ""
             }
            },
            "type": "scattergl"
           }
          ],
          "scattermapbox": [
           {
            "marker": {
             "colorbar": {
              "outlinewidth": 0,
              "ticks": ""
             }
            },
            "type": "scattermapbox"
           }
          ],
          "scatterpolar": [
           {
            "marker": {
             "colorbar": {
              "outlinewidth": 0,
              "ticks": ""
             }
            },
            "type": "scatterpolar"
           }
          ],
          "scatterpolargl": [
           {
            "marker": {
             "colorbar": {
              "outlinewidth": 0,
              "ticks": ""
             }
            },
            "type": "scatterpolargl"
           }
          ],
          "scatterternary": [
           {
            "marker": {
             "colorbar": {
              "outlinewidth": 0,
              "ticks": ""
             }
            },
            "type": "scatterternary"
           }
          ],
          "surface": [
           {
            "colorbar": {
             "outlinewidth": 0,
             "ticks": ""
            },
            "colorscale": [
             [
              0,
              "#0d0887"
             ],
             [
              0.1111111111111111,
              "#46039f"
             ],
             [
              0.2222222222222222,
              "#7201a8"
             ],
             [
              0.3333333333333333,
              "#9c179e"
             ],
             [
              0.4444444444444444,
              "#bd3786"
             ],
             [
              0.5555555555555556,
              "#d8576b"
             ],
             [
              0.6666666666666666,
              "#ed7953"
             ],
             [
              0.7777777777777778,
              "#fb9f3a"
             ],
             [
              0.8888888888888888,
              "#fdca26"
             ],
             [
              1,
              "#f0f921"
             ]
            ],
            "type": "surface"
           }
          ],
          "table": [
           {
            "cells": {
             "fill": {
              "color": "#EBF0F8"
             },
             "line": {
              "color": "white"
             }
            },
            "header": {
             "fill": {
              "color": "#C8D4E3"
             },
             "line": {
              "color": "white"
             }
            },
            "type": "table"
           }
          ]
         },
         "layout": {
          "annotationdefaults": {
           "arrowcolor": "#2a3f5f",
           "arrowhead": 0,
           "arrowwidth": 1
          },
          "colorscale": {
           "diverging": [
            [
             0,
             "#8e0152"
            ],
            [
             0.1,
             "#c51b7d"
            ],
            [
             0.2,
             "#de77ae"
            ],
            [
             0.3,
             "#f1b6da"
            ],
            [
             0.4,
             "#fde0ef"
            ],
            [
             0.5,
             "#f7f7f7"
            ],
            [
             0.6,
             "#e6f5d0"
            ],
            [
             0.7,
             "#b8e186"
            ],
            [
             0.8,
             "#7fbc41"
            ],
            [
             0.9,
             "#4d9221"
            ],
            [
             1,
             "#276419"
            ]
           ],
           "sequential": [
            [
             0,
             "#0d0887"
            ],
            [
             0.1111111111111111,
             "#46039f"
            ],
            [
             0.2222222222222222,
             "#7201a8"
            ],
            [
             0.3333333333333333,
             "#9c179e"
            ],
            [
             0.4444444444444444,
             "#bd3786"
            ],
            [
             0.5555555555555556,
             "#d8576b"
            ],
            [
             0.6666666666666666,
             "#ed7953"
            ],
            [
             0.7777777777777778,
             "#fb9f3a"
            ],
            [
             0.8888888888888888,
             "#fdca26"
            ],
            [
             1,
             "#f0f921"
            ]
           ],
           "sequentialminus": [
            [
             0,
             "#0d0887"
            ],
            [
             0.1111111111111111,
             "#46039f"
            ],
            [
             0.2222222222222222,
             "#7201a8"
            ],
            [
             0.3333333333333333,
             "#9c179e"
            ],
            [
             0.4444444444444444,
             "#bd3786"
            ],
            [
             0.5555555555555556,
             "#d8576b"
            ],
            [
             0.6666666666666666,
             "#ed7953"
            ],
            [
             0.7777777777777778,
             "#fb9f3a"
            ],
            [
             0.8888888888888888,
             "#fdca26"
            ],
            [
             1,
             "#f0f921"
            ]
           ]
          },
          "colorway": [
           "#636efa",
           "#EF553B",
           "#00cc96",
           "#ab63fa",
           "#FFA15A",
           "#19d3f3",
           "#FF6692",
           "#B6E880",
           "#FF97FF",
           "#FECB52"
          ],
          "font": {
           "color": "#2a3f5f"
          },
          "geo": {
           "bgcolor": "white",
           "lakecolor": "white",
           "landcolor": "#E5ECF6",
           "showlakes": true,
           "showland": true,
           "subunitcolor": "white"
          },
          "hoverlabel": {
           "align": "left"
          },
          "hovermode": "closest",
          "mapbox": {
           "style": "light"
          },
          "paper_bgcolor": "white",
          "plot_bgcolor": "#E5ECF6",
          "polar": {
           "angularaxis": {
            "gridcolor": "white",
            "linecolor": "white",
            "ticks": ""
           },
           "bgcolor": "#E5ECF6",
           "radialaxis": {
            "gridcolor": "white",
            "linecolor": "white",
            "ticks": ""
           }
          },
          "scene": {
           "xaxis": {
            "backgroundcolor": "#E5ECF6",
            "gridcolor": "white",
            "gridwidth": 2,
            "linecolor": "white",
            "showbackground": true,
            "ticks": "",
            "zerolinecolor": "white"
           },
           "yaxis": {
            "backgroundcolor": "#E5ECF6",
            "gridcolor": "white",
            "gridwidth": 2,
            "linecolor": "white",
            "showbackground": true,
            "ticks": "",
            "zerolinecolor": "white"
           },
           "zaxis": {
            "backgroundcolor": "#E5ECF6",
            "gridcolor": "white",
            "gridwidth": 2,
            "linecolor": "white",
            "showbackground": true,
            "ticks": "",
            "zerolinecolor": "white"
           }
          },
          "shapedefaults": {
           "line": {
            "color": "#2a3f5f"
           }
          },
          "ternary": {
           "aaxis": {
            "gridcolor": "white",
            "linecolor": "white",
            "ticks": ""
           },
           "baxis": {
            "gridcolor": "white",
            "linecolor": "white",
            "ticks": ""
           },
           "bgcolor": "#E5ECF6",
           "caxis": {
            "gridcolor": "white",
            "linecolor": "white",
            "ticks": ""
           }
          },
          "title": {
           "x": 0.05
          },
          "xaxis": {
           "automargin": true,
           "gridcolor": "white",
           "linecolor": "white",
           "ticks": "",
           "zerolinecolor": "white",
           "zerolinewidth": 2
          },
          "yaxis": {
           "automargin": true,
           "gridcolor": "white",
           "linecolor": "white",
           "ticks": "",
           "zerolinecolor": "white",
           "zerolinewidth": 2
          }
         }
        },
        "title": {
         "text": "Percentage of error for meta1 prediction of Group 1"
        }
       }
      },
      "text/html": [
       "<div>\n",
       "        \n",
       "        \n",
       "            <div id=\"67ed992a-f618-4d6a-8720-8213b9b21b44\" class=\"plotly-graph-div\" style=\"height:525px; width:100%;\"></div>\n",
       "            <script type=\"text/javascript\">\n",
       "                require([\"plotly\"], function(Plotly) {\n",
       "                    window.PLOTLYENV=window.PLOTLYENV || {};\n",
       "                    \n",
       "                if (document.getElementById(\"67ed992a-f618-4d6a-8720-8213b9b21b44\")) {\n",
       "                    Plotly.newPlot(\n",
       "                        '67ed992a-f618-4d6a-8720-8213b9b21b44',\n",
       "                        [{\"marker\": {\"color\": [9.644658589208253, 4.371945530876004, 4.377676934352659, 13.968709813999968, 11.939308036334447, 9.34287404919317, 3.680116810331362, 11.453098933797786, 6.824331225745222, 10.630730396854242, 5.20923257813121, 1.3177569465119183, 4.188246027688426, 3.2122193090630033, 4.300922838910801, 10.390330675463053, 12.00249574977973, 6.147117565218363, 3.8700524551863897, 4.441534288503067, 5.074623926164098, 5.5903179164252785, 5.940572293752117, 4.212262161693619, 4.452491205362629, 4.083233989669811, 4.323523770897397, 4.853422673918415, 6.662747432996887, 1.4783230170121562, 5.479140793508319, 9.444707455983417, 3.510132651617305, 1.8798129730772677, 3.621983900336122, 3.131456410713825, 3.4957476338355815, 3.1515553043272924, 9.185087829412849, 10.19182690749171, 11.709077677520774, 5.82058179888831, 5.728572208126116, 11.52456185661629, 5.582043224621299, 5.746438501697896, 4.738864478025975, 8.566057920755988, 8.264307102251143, 3.203458312921597, 6.112962617375211, 9.310095790114916, 6.1848551821454905, 9.117994015204411, 10.177465559044819, 5.453459459365826, 6.020961878164764, 5.206165262451567, 5.617413328989539, 5.821245858276894, 4.763104565589734, 6.263421311480189, 3.100868130537399, 4.544161103864117, 4.023050255547573, 3.760170881400591, 5.333001626203838, 4.741082089938181, 4.596348315097592, 3.802230384992607, 5.402864055380018, 3.3280486574941737, 6.42294771414911, 5.957736862084501, 5.767714536315894, 5.749566595380868, 8.45043176931994, 10.02393121435194, 4.950993065623393, 4.438812395773404, 10.752895095344991, 16.508603120860453, 10.152631464400837, 10.574149512711388, 8.518826350381522, 7.211487137322593, 4.086608126312798, 4.218955946292429, 7.198525506127805, 8.930265793449372, 9.57101389473741, 9.640291871013291, 9.060923781584156, 3.7347739132649282, 4.186508525219441, 4.3238397339641335, 4.456101662853467, 6.647491301741373, 7.800900669141707, 3.198448869655105, 5.168709924012688, 7.1101199637210835]}, \"mode\": \"markers\", \"text\": [\"O Brother, Where Art Thou?\", \"The Twilight Saga: Breaking Dawn Part 1\", \"The Twilight Saga: Breaking Dawn Part 2\", \"Helena From the Wedding\", \"Monsters\", \"Catfish\", \"Red\", \"Freakonomics\", \"The Warrior's Way\", \"Stone\", \"Frankenweenie\", \"John Carter\", \"Dolphin Tale\", \"Penguins of Madagascar\", \"Minions\", \"Proud American\", \"Edmond\", \"Tootsie\", \"Waterworld\", \"The Lion King (2019)\", \"Crawl\", \"Stuber\", \"Midsommar\", \"Spider-Man: Far from Home\", \"Yesterday\", \"Annabelle Comes Home\", \"Toy Story 4\", \"Child's Play (2019)\", \"Anna (2019)\", \"Men in Black International\", \"Shaft (2019)\\u00a0\", \"Late Night\", \"The Secret Life of Pets 2\", \"Dark Phoenix\", \"Godzilla:King of the Monsters\", \"Rocketman\", \"Return of the Jedi\", \"Indiana Jones and the Temple of Doom\", \"The Idolmaker\", \"The Grass Harp\", \"The Grand\", \"Jaws\", \"Superman (1978)\", \"Clerks\", \"Juice\", \"He Got Game\", \"White Men Can't Jump\", \"Mulholland Drive\", \"Blue Velvet\", \"Once Upon a Time in Hollywood\", \"The Big Lebowski\", \"Train to Busan\", \"Pride and Prejudice and Zombies\", \"Dead Poets Society\", \"A Fish Called Wanda\", \"The Witches of Eastwick\", \"Ferris Bueller's Day Off\", \"Back to the Future\", \"Police Academy\", \"Trading Places\", \"Star Trek II The Wrath of Khan\", \"The Blues Brothers\", \"V For Vendetta\", \"In the Line of Fire\", \"Us\", \"The Forbidden Kingdom\", \"Rumble in the Bronx\", \"Machete\", \"Beverly Hills Cop\", \"Watchmen\", \"Jackie Brown\", \"Zombieland\", \"Mo Better Blues\", \"Thelma and Louise\", \"New Jack City\", \"The Lawnmower Man\", \"Schindler's List\", \"Four Weddings and a Funeral\", \"Get Shorty\", \"Jerry Maguire\", \"Welcome to Sarajevo\", \"Trojan War\", \"The Gingerbread Man\", \"Tumbleweeds\", \"Turn it up\", \"The Adventures of Pluto Nash\", \"The Lord of the Rings: The Return of the King\", \"Harry Potter and the Prisoner of Azkaban\", \"Stay\", \"Fast Food Nation\", \"Into the Wild\", \"The Wrestler\", \"Slumdog Millionaire\", \"Jackass 3-D\", \"Skyfall\", \"The Hunger Games: Mocking Jay - Part 1\", \"Jurassic World\", \"Shut In\", \"Molly's Game\", \"Peter Rabbit\", \"BlacKkKlansman\", \"Replicas\"], \"type\": \"scatter\", \"x\": [\"O Brother, Where Art Thou?\", \"The Twilight Saga: Breaking Dawn Part 1\", \"The Twilight Saga: Breaking Dawn Part 2\", \"Helena From the Wedding\", \"Monsters\", \"Catfish\", \"Red\", \"Freakonomics\", \"The Warrior's Way\", \"Stone\", \"Frankenweenie\", \"John Carter\", \"Dolphin Tale\", \"Penguins of Madagascar\", \"Minions\", \"Proud American\", \"Edmond\", \"Tootsie\", \"Waterworld\", \"The Lion King (2019)\", \"Crawl\", \"Stuber\", \"Midsommar\", \"Spider-Man: Far from Home\", \"Yesterday\", \"Annabelle Comes Home\", \"Toy Story 4\", \"Child's Play (2019)\", \"Anna (2019)\", \"Men in Black International\", \"Shaft (2019)\\u00a0\", \"Late Night\", \"The Secret Life of Pets 2\", \"Dark Phoenix\", \"Godzilla:King of the Monsters\", \"Rocketman\", \"Return of the Jedi\", \"Indiana Jones and the Temple of Doom\", \"The Idolmaker\", \"The Grass Harp\", \"The Grand\", \"Jaws\", \"Superman (1978)\", \"Clerks\", \"Juice\", \"He Got Game\", \"White Men Can't Jump\", \"Mulholland Drive\", \"Blue Velvet\", \"Once Upon a Time in Hollywood\", \"The Big Lebowski\", \"Train to Busan\", \"Pride and Prejudice and Zombies\", \"Dead Poets Society\", \"A Fish Called Wanda\", \"The Witches of Eastwick\", \"Ferris Bueller's Day Off\", \"Back to the Future\", \"Police Academy\", \"Trading Places\", \"Star Trek II The Wrath of Khan\", \"The Blues Brothers\", \"V For Vendetta\", \"In the Line of Fire\", \"Us\", \"The Forbidden Kingdom\", \"Rumble in the Bronx\", \"Machete\", \"Beverly Hills Cop\", \"Watchmen\", \"Jackie Brown\", \"Zombieland\", \"Mo Better Blues\", \"Thelma and Louise\", \"New Jack City\", \"The Lawnmower Man\", \"Schindler's List\", \"Four Weddings and a Funeral\", \"Get Shorty\", \"Jerry Maguire\", \"Welcome to Sarajevo\", \"Trojan War\", \"The Gingerbread Man\", \"Tumbleweeds\", \"Turn it up\", \"The Adventures of Pluto Nash\", \"The Lord of the Rings: The Return of the King\", \"Harry Potter and the Prisoner of Azkaban\", \"Stay\", \"Fast Food Nation\", \"Into the Wild\", \"The Wrestler\", \"Slumdog Millionaire\", \"Jackass 3-D\", \"Skyfall\", \"The Hunger Games: Mocking Jay - Part 1\", \"Jurassic World\", \"Shut In\", \"Molly's Game\", \"Peter Rabbit\", \"BlacKkKlansman\", \"Replicas\"], \"y\": [9.644658589208253, 4.371945530876004, 4.377676934352659, 13.968709813999968, 11.939308036334447, 9.34287404919317, 3.680116810331362, 11.453098933797786, 6.824331225745222, 10.630730396854242, 5.20923257813121, 1.3177569465119183, 4.188246027688426, 3.2122193090630033, 4.300922838910801, 10.390330675463053, 12.00249574977973, 6.147117565218363, 3.8700524551863897, 4.441534288503067, 5.074623926164098, 5.5903179164252785, 5.940572293752117, 4.212262161693619, 4.452491205362629, 4.083233989669811, 4.323523770897397, 4.853422673918415, 6.662747432996887, 1.4783230170121562, 5.479140793508319, 9.444707455983417, 3.510132651617305, 1.8798129730772677, 3.621983900336122, 3.131456410713825, 3.4957476338355815, 3.1515553043272924, 9.185087829412849, 10.19182690749171, 11.709077677520774, 5.82058179888831, 5.728572208126116, 11.52456185661629, 5.582043224621299, 5.746438501697896, 4.738864478025975, 8.566057920755988, 8.264307102251143, 3.203458312921597, 6.112962617375211, 9.310095790114916, 6.1848551821454905, 9.117994015204411, 10.177465559044819, 5.453459459365826, 6.020961878164764, 5.206165262451567, 5.617413328989539, 5.821245858276894, 4.763104565589734, 6.263421311480189, 3.100868130537399, 4.544161103864117, 4.023050255547573, 3.760170881400591, 5.333001626203838, 4.741082089938181, 4.596348315097592, 3.802230384992607, 5.402864055380018, 3.3280486574941737, 6.42294771414911, 5.957736862084501, 5.767714536315894, 5.749566595380868, 8.45043176931994, 10.02393121435194, 4.950993065623393, 4.438812395773404, 10.752895095344991, 16.508603120860453, 10.152631464400837, 10.574149512711388, 8.518826350381522, 7.211487137322593, 4.086608126312798, 4.218955946292429, 7.198525506127805, 8.930265793449372, 9.57101389473741, 9.640291871013291, 9.060923781584156, 3.7347739132649282, 4.186508525219441, 4.3238397339641335, 4.456101662853467, 6.647491301741373, 7.800900669141707, 3.198448869655105, 5.168709924012688, 7.1101199637210835]}],\n",
       "                        {\"template\": {\"data\": {\"bar\": [{\"error_x\": {\"color\": \"#2a3f5f\"}, \"error_y\": {\"color\": \"#2a3f5f\"}, \"marker\": {\"line\": {\"color\": \"#E5ECF6\", \"width\": 0.5}}, \"type\": \"bar\"}], \"barpolar\": [{\"marker\": {\"line\": {\"color\": \"#E5ECF6\", \"width\": 0.5}}, \"type\": \"barpolar\"}], \"carpet\": [{\"aaxis\": {\"endlinecolor\": \"#2a3f5f\", \"gridcolor\": \"white\", \"linecolor\": \"white\", \"minorgridcolor\": \"white\", \"startlinecolor\": \"#2a3f5f\"}, \"baxis\": {\"endlinecolor\": \"#2a3f5f\", \"gridcolor\": \"white\", \"linecolor\": \"white\", \"minorgridcolor\": \"white\", \"startlinecolor\": \"#2a3f5f\"}, \"type\": \"carpet\"}], \"choropleth\": [{\"colorbar\": {\"outlinewidth\": 0, \"ticks\": \"\"}, \"type\": \"choropleth\"}], \"contour\": [{\"colorbar\": {\"outlinewidth\": 0, \"ticks\": \"\"}, \"colorscale\": [[0.0, \"#0d0887\"], [0.1111111111111111, \"#46039f\"], [0.2222222222222222, \"#7201a8\"], [0.3333333333333333, \"#9c179e\"], [0.4444444444444444, \"#bd3786\"], [0.5555555555555556, \"#d8576b\"], [0.6666666666666666, \"#ed7953\"], [0.7777777777777778, \"#fb9f3a\"], [0.8888888888888888, \"#fdca26\"], [1.0, \"#f0f921\"]], \"type\": \"contour\"}], \"contourcarpet\": [{\"colorbar\": {\"outlinewidth\": 0, \"ticks\": \"\"}, \"type\": \"contourcarpet\"}], \"heatmap\": [{\"colorbar\": {\"outlinewidth\": 0, \"ticks\": \"\"}, \"colorscale\": [[0.0, \"#0d0887\"], [0.1111111111111111, \"#46039f\"], [0.2222222222222222, \"#7201a8\"], [0.3333333333333333, \"#9c179e\"], [0.4444444444444444, \"#bd3786\"], [0.5555555555555556, \"#d8576b\"], [0.6666666666666666, \"#ed7953\"], [0.7777777777777778, \"#fb9f3a\"], [0.8888888888888888, \"#fdca26\"], [1.0, \"#f0f921\"]], \"type\": \"heatmap\"}], \"heatmapgl\": [{\"colorbar\": {\"outlinewidth\": 0, \"ticks\": \"\"}, \"colorscale\": [[0.0, \"#0d0887\"], [0.1111111111111111, \"#46039f\"], [0.2222222222222222, \"#7201a8\"], [0.3333333333333333, \"#9c179e\"], [0.4444444444444444, \"#bd3786\"], [0.5555555555555556, \"#d8576b\"], [0.6666666666666666, \"#ed7953\"], [0.7777777777777778, \"#fb9f3a\"], [0.8888888888888888, \"#fdca26\"], [1.0, \"#f0f921\"]], \"type\": \"heatmapgl\"}], \"histogram\": [{\"marker\": {\"colorbar\": {\"outlinewidth\": 0, \"ticks\": \"\"}}, \"type\": \"histogram\"}], \"histogram2d\": [{\"colorbar\": {\"outlinewidth\": 0, \"ticks\": \"\"}, \"colorscale\": [[0.0, \"#0d0887\"], [0.1111111111111111, \"#46039f\"], [0.2222222222222222, \"#7201a8\"], [0.3333333333333333, \"#9c179e\"], [0.4444444444444444, \"#bd3786\"], [0.5555555555555556, \"#d8576b\"], [0.6666666666666666, \"#ed7953\"], [0.7777777777777778, \"#fb9f3a\"], [0.8888888888888888, \"#fdca26\"], [1.0, \"#f0f921\"]], \"type\": \"histogram2d\"}], \"histogram2dcontour\": [{\"colorbar\": {\"outlinewidth\": 0, \"ticks\": \"\"}, \"colorscale\": [[0.0, \"#0d0887\"], [0.1111111111111111, \"#46039f\"], [0.2222222222222222, \"#7201a8\"], [0.3333333333333333, \"#9c179e\"], [0.4444444444444444, \"#bd3786\"], [0.5555555555555556, \"#d8576b\"], [0.6666666666666666, \"#ed7953\"], [0.7777777777777778, \"#fb9f3a\"], [0.8888888888888888, \"#fdca26\"], [1.0, \"#f0f921\"]], \"type\": \"histogram2dcontour\"}], \"mesh3d\": [{\"colorbar\": {\"outlinewidth\": 0, \"ticks\": \"\"}, \"type\": \"mesh3d\"}], \"parcoords\": [{\"line\": {\"colorbar\": {\"outlinewidth\": 0, \"ticks\": \"\"}}, \"type\": \"parcoords\"}], \"scatter\": [{\"marker\": {\"colorbar\": {\"outlinewidth\": 0, \"ticks\": \"\"}}, \"type\": \"scatter\"}], \"scatter3d\": [{\"line\": {\"colorbar\": {\"outlinewidth\": 0, \"ticks\": \"\"}}, \"marker\": {\"colorbar\": {\"outlinewidth\": 0, \"ticks\": \"\"}}, \"type\": \"scatter3d\"}], \"scattercarpet\": [{\"marker\": {\"colorbar\": {\"outlinewidth\": 0, \"ticks\": \"\"}}, \"type\": \"scattercarpet\"}], \"scattergeo\": [{\"marker\": {\"colorbar\": {\"outlinewidth\": 0, \"ticks\": \"\"}}, \"type\": \"scattergeo\"}], \"scattergl\": [{\"marker\": {\"colorbar\": {\"outlinewidth\": 0, \"ticks\": \"\"}}, \"type\": \"scattergl\"}], \"scattermapbox\": [{\"marker\": {\"colorbar\": {\"outlinewidth\": 0, \"ticks\": \"\"}}, \"type\": \"scattermapbox\"}], \"scatterpolar\": [{\"marker\": {\"colorbar\": {\"outlinewidth\": 0, \"ticks\": \"\"}}, \"type\": \"scatterpolar\"}], \"scatterpolargl\": [{\"marker\": {\"colorbar\": {\"outlinewidth\": 0, \"ticks\": \"\"}}, \"type\": \"scatterpolargl\"}], \"scatterternary\": [{\"marker\": {\"colorbar\": {\"outlinewidth\": 0, \"ticks\": \"\"}}, \"type\": \"scatterternary\"}], \"surface\": [{\"colorbar\": {\"outlinewidth\": 0, \"ticks\": \"\"}, \"colorscale\": [[0.0, \"#0d0887\"], [0.1111111111111111, \"#46039f\"], [0.2222222222222222, \"#7201a8\"], [0.3333333333333333, \"#9c179e\"], [0.4444444444444444, \"#bd3786\"], [0.5555555555555556, \"#d8576b\"], [0.6666666666666666, \"#ed7953\"], [0.7777777777777778, \"#fb9f3a\"], [0.8888888888888888, \"#fdca26\"], [1.0, \"#f0f921\"]], \"type\": \"surface\"}], \"table\": [{\"cells\": {\"fill\": {\"color\": \"#EBF0F8\"}, \"line\": {\"color\": \"white\"}}, \"header\": {\"fill\": {\"color\": \"#C8D4E3\"}, \"line\": {\"color\": \"white\"}}, \"type\": \"table\"}]}, \"layout\": {\"annotationdefaults\": {\"arrowcolor\": \"#2a3f5f\", \"arrowhead\": 0, \"arrowwidth\": 1}, \"colorscale\": {\"diverging\": [[0, \"#8e0152\"], [0.1, \"#c51b7d\"], [0.2, \"#de77ae\"], [0.3, \"#f1b6da\"], [0.4, \"#fde0ef\"], [0.5, \"#f7f7f7\"], [0.6, \"#e6f5d0\"], [0.7, \"#b8e186\"], [0.8, \"#7fbc41\"], [0.9, \"#4d9221\"], [1, \"#276419\"]], \"sequential\": [[0.0, \"#0d0887\"], [0.1111111111111111, \"#46039f\"], [0.2222222222222222, \"#7201a8\"], [0.3333333333333333, \"#9c179e\"], [0.4444444444444444, \"#bd3786\"], [0.5555555555555556, \"#d8576b\"], [0.6666666666666666, \"#ed7953\"], [0.7777777777777778, \"#fb9f3a\"], [0.8888888888888888, \"#fdca26\"], [1.0, \"#f0f921\"]], \"sequentialminus\": [[0.0, \"#0d0887\"], [0.1111111111111111, \"#46039f\"], [0.2222222222222222, \"#7201a8\"], [0.3333333333333333, \"#9c179e\"], [0.4444444444444444, \"#bd3786\"], [0.5555555555555556, \"#d8576b\"], [0.6666666666666666, \"#ed7953\"], [0.7777777777777778, \"#fb9f3a\"], [0.8888888888888888, \"#fdca26\"], [1.0, \"#f0f921\"]]}, \"colorway\": [\"#636efa\", \"#EF553B\", \"#00cc96\", \"#ab63fa\", \"#FFA15A\", \"#19d3f3\", \"#FF6692\", \"#B6E880\", \"#FF97FF\", \"#FECB52\"], \"font\": {\"color\": \"#2a3f5f\"}, \"geo\": {\"bgcolor\": \"white\", \"lakecolor\": \"white\", \"landcolor\": \"#E5ECF6\", \"showlakes\": true, \"showland\": true, \"subunitcolor\": \"white\"}, \"hoverlabel\": {\"align\": \"left\"}, \"hovermode\": \"closest\", \"mapbox\": {\"style\": \"light\"}, \"paper_bgcolor\": \"white\", \"plot_bgcolor\": \"#E5ECF6\", \"polar\": {\"angularaxis\": {\"gridcolor\": \"white\", \"linecolor\": \"white\", \"ticks\": \"\"}, \"bgcolor\": \"#E5ECF6\", \"radialaxis\": {\"gridcolor\": \"white\", \"linecolor\": \"white\", \"ticks\": \"\"}}, \"scene\": {\"xaxis\": {\"backgroundcolor\": \"#E5ECF6\", \"gridcolor\": \"white\", \"gridwidth\": 2, \"linecolor\": \"white\", \"showbackground\": true, \"ticks\": \"\", \"zerolinecolor\": \"white\"}, \"yaxis\": {\"backgroundcolor\": \"#E5ECF6\", \"gridcolor\": \"white\", \"gridwidth\": 2, \"linecolor\": \"white\", \"showbackground\": true, \"ticks\": \"\", \"zerolinecolor\": \"white\"}, \"zaxis\": {\"backgroundcolor\": \"#E5ECF6\", \"gridcolor\": \"white\", \"gridwidth\": 2, \"linecolor\": \"white\", \"showbackground\": true, \"ticks\": \"\", \"zerolinecolor\": \"white\"}}, \"shapedefaults\": {\"line\": {\"color\": \"#2a3f5f\"}}, \"ternary\": {\"aaxis\": {\"gridcolor\": \"white\", \"linecolor\": \"white\", \"ticks\": \"\"}, \"baxis\": {\"gridcolor\": \"white\", \"linecolor\": \"white\", \"ticks\": \"\"}, \"bgcolor\": \"#E5ECF6\", \"caxis\": {\"gridcolor\": \"white\", \"linecolor\": \"white\", \"ticks\": \"\"}}, \"title\": {\"x\": 0.05}, \"xaxis\": {\"automargin\": true, \"gridcolor\": \"white\", \"linecolor\": \"white\", \"ticks\": \"\", \"zerolinecolor\": \"white\", \"zerolinewidth\": 2}, \"yaxis\": {\"automargin\": true, \"gridcolor\": \"white\", \"linecolor\": \"white\", \"ticks\": \"\", \"zerolinecolor\": \"white\", \"zerolinewidth\": 2}}}, \"title\": {\"text\": \"Percentage of error for meta1 prediction of Group 1\"}},\n",
       "                        {\"responsive\": true}\n",
       "                    ).then(function(){\n",
       "                            \n",
       "var gd = document.getElementById('67ed992a-f618-4d6a-8720-8213b9b21b44');\n",
       "var x = new MutationObserver(function (mutations, observer) {{\n",
       "        var display = window.getComputedStyle(gd).display;\n",
       "        if (!display || display === 'none') {{\n",
       "            console.log([gd, 'removed!']);\n",
       "            Plotly.purge(gd);\n",
       "            observer.disconnect();\n",
       "        }}\n",
       "}});\n",
       "\n",
       "// Listen for the removal of the full notebook cells\n",
       "var notebookContainer = gd.closest('#notebook-container');\n",
       "if (notebookContainer) {{\n",
       "    x.observe(notebookContainer, {childList: true});\n",
       "}}\n",
       "\n",
       "// Listen for the clearing of the current output cell\n",
       "var outputEl = gd.closest('.output');\n",
       "if (outputEl) {{\n",
       "    x.observe(outputEl, {childList: true});\n",
       "}}\n",
       "\n",
       "                        })\n",
       "                };\n",
       "                });\n",
       "            </script>\n",
       "        </div>"
      ]
     },
     "metadata": {},
     "output_type": "display_data"
    }
   ],
   "source": [
    "# Percentage of error for meta1 prediction\n",
    "import numpy as np\n",
    "#loss 模型评估\n",
    "#y_true = g4_result_final[\"ground_truth\"]\n",
    "#y_pred = g4_result_final[\"meta_prediction\"]\n",
    "\n",
    "#movie_data[\"log_openingBox\"] = np.log1p(result_meta_data.openingBox)\n",
    "\n",
    "def mean_absolute_percentage_error(y_true, y_pred):\n",
    "    diff = abs((y_true - y_pred) /y_true)\n",
    "    return np.log1p(100. *diff)#using log1p because of large range of 100. *diff\n",
    "    #return 100. *diff\n",
    "    \n",
    "#Visualizing Percentage of error for meta prediction\n",
    "g1_result_final['meta1_rmse_pre'] = mean_absolute_percentage_error(g1_result_final[\"ground_truth\"], g1_result_final[\"pred_meta_1\"])\n",
    "fig = go.Figure(data=go.Scatter(x=g1_result_final[\"name\"],\n",
    "                                y=g1_result_final['meta1_rmse_pre'],\n",
    "                                mode='markers',\n",
    "                                marker_color=g1_result_final['meta1_rmse_pre'],\n",
    "                                text=g1_result_final[\"name\"])) # hover text goes here(movie_title)\n",
    "\n",
    "fig.update_layout(title='Percentage of error for meta1 prediction of Group 1')\n",
    "fig.show()"
   ]
  },
  {
   "cell_type": "code",
   "execution_count": 23,
   "metadata": {},
   "outputs": [
    {
     "data": {
      "text/plain": [
       "5.603865622707408"
      ]
     },
     "execution_count": 23,
     "metadata": {},
     "output_type": "execute_result"
    }
   ],
   "source": [
    "# Median for Percentage of error for meta1 prediction\n",
    "Median_meta1 = np.median(g1_result_final['meta1_rmse_pre'])\n",
    "Median_meta1"
   ]
  },
  {
   "cell_type": "code",
   "execution_count": 32,
   "metadata": {},
   "outputs": [
    {
     "data": {
      "application/vnd.plotly.v1+json": {
       "config": {
        "plotlyServerURL": "https://plot.ly"
       },
       "data": [
        {
         "marker": {
          "color": [
           -30120352.35554634,
           108008242.3612482,
           110953615.3612482,
           -31376772.90705015,
           -31412034.90146757,
           -29372104.95619146,
           -8411007.34468317,
           -30040588.04855396,
           -28016040.909566697,
           -31356776.90146757,
           -20764932.588430546,
           -825438.4311204664,
           -12431266.21373023,
           -6065179.36398387,
           84205781.63601613,
           -31265461.65493747,
           -31413289.90146757,
           -25838994.90705015,
           -9939071.155343391,
           160905467.67729637,
           -19077724.34954269,
           -21947031.34468317,
           -24872512.90146757,
           61573585.56887953,
           -14431415.591773272,
           -11824759.51852917,
           90020942.88469264,
           -17925272.457820665,
           -28146199.88702683,
           -1016888.8137495704,
           -21242410.216693226,
           -31133159.90705015,
           15140056.63601613,
           1822721.5688795336,
           17396167.81755604,
           -5635815.6549374685,
           -7360507.1824439615,
           -5668516.431120466,
           -31043134.65493747,
           -31262303.90705015,
           -32040632.840449777,
           -23738558.365324035,
           -22883505.90335464,
           -32035301.840449777,
           -21396443.736217435,
           -23750874.65493747,
           -16668340.907050151,
           -30844951.90146757,
           -30643133.90146757,
           9702553.092949849,
           -24939644.51627069,
           -31462070.88702683,
           -25787566.2921958,
           -31039008.90705015,
           -30358070.51627069,
           -21987227.59177327,
           -25791319.840449777,
           -20229886.11332704,
           -23496959.840449777,
           -24718766.840449777,
           -16658405.431120466,
           -25457304.35554634,
           -5440594.349542689,
           -14212970.736217435,
           39023142.48147083,
           -8979004.182443962,
           -20314035.34468317,
           -16014971.20651177,
           -14929024.216693226,
           24184428.565062527,
           -20539719.28814232,
           -6649231.113327041,
           -26974177.65493747,
           -23534770.926660456,
           -22442736.736217435,
           -24267895.457820665,
           -30704901.65493747,
           -31240978.90705015,
           -17820043.97618552,
           -14295168.907050151,
           -31294617.65493747,
           -32066749.840449777,
           -30347216.83801412,
           -31299434.90705015,
           -28882372.221140675,
           -29554407.54087231,
           42515694.361248195,
           62735394.45650977,
           -29244343.90146757,
           -31041474.95231503,
           -30468041.12335464,
           -31158823.65493747,
           -31001519.65493747,
           20583841.48862914,
           57253862.84465661,
           90786782.84465662,
           177800643.56887954,
           -27818975.90146757,
           -28618788.44114067,
           -5876194.115307353,
           -18945494.44114067,
           -29057217.90146757
          ]
         },
         "mode": "markers",
         "text": [
          "O Brother, Where Art Thou?",
          "The Twilight Saga: Breaking Dawn Part 1",
          "The Twilight Saga: Breaking Dawn Part 2",
          "Helena From the Wedding",
          "Monsters",
          "Catfish",
          "Red",
          "Freakonomics",
          "The Warrior's Way",
          "Stone",
          "Frankenweenie",
          "John Carter",
          "Dolphin Tale",
          "Penguins of Madagascar",
          "Minions",
          "Proud American",
          "Edmond",
          "Tootsie",
          "Waterworld",
          "The Lion King (2019)",
          "Crawl",
          "Stuber",
          "Midsommar",
          "Spider-Man: Far from Home",
          "Yesterday",
          "Annabelle Comes Home",
          "Toy Story 4",
          "Child's Play (2019)",
          "Anna (2019)",
          "Men in Black International",
          "Shaft (2019) ",
          "Late Night",
          "The Secret Life of Pets 2",
          "Dark Phoenix",
          "Godzilla:King of the Monsters",
          "Rocketman",
          "Return of the Jedi",
          "Indiana Jones and the Temple of Doom",
          "The Idolmaker",
          "The Grass Harp",
          "The Grand",
          "Jaws",
          "Superman (1978)",
          "Clerks",
          "Juice",
          "He Got Game",
          "White Men Can't Jump",
          "Mulholland Drive",
          "Blue Velvet",
          "Once Upon a Time in Hollywood",
          "The Big Lebowski",
          "Train to Busan",
          "Pride and Prejudice and Zombies",
          "Dead Poets Society",
          "A Fish Called Wanda",
          "The Witches of Eastwick",
          "Ferris Bueller's Day Off",
          "Back to the Future",
          "Police Academy",
          "Trading Places",
          "Star Trek II The Wrath of Khan",
          "The Blues Brothers",
          "V For Vendetta",
          "In the Line of Fire",
          "Us",
          "The Forbidden Kingdom",
          "Rumble in the Bronx",
          "Machete",
          "Beverly Hills Cop",
          "Watchmen",
          "Jackie Brown",
          "Zombieland",
          "Mo Better Blues",
          "Thelma and Louise",
          "New Jack City",
          "The Lawnmower Man",
          "Schindler's List",
          "Four Weddings and a Funeral",
          "Get Shorty",
          "Jerry Maguire",
          "Welcome to Sarajevo",
          "Trojan War",
          "The Gingerbread Man",
          "Tumbleweeds",
          "Turn it up",
          "The Adventures of Pluto Nash",
          "The Lord of the Rings: The Return of the King",
          "Harry Potter and the Prisoner of Azkaban",
          "Stay",
          "Fast Food Nation",
          "Into the Wild",
          "The Wrestler",
          "Slumdog Millionaire",
          "Jackass 3-D",
          "Skyfall",
          "The Hunger Games: Mocking Jay - Part 1",
          "Jurassic World",
          "Shut In",
          "Molly's Game",
          "Peter Rabbit",
          "BlacKkKlansman",
          "Replicas",
          "Crawl"
         ],
         "type": "scatter",
         "x": [
          "O Brother, Where Art Thou?",
          "The Twilight Saga: Breaking Dawn Part 1",
          "The Twilight Saga: Breaking Dawn Part 2",
          "Helena From the Wedding",
          "Monsters",
          "Catfish",
          "Red",
          "Freakonomics",
          "The Warrior's Way",
          "Stone",
          "Frankenweenie",
          "John Carter",
          "Dolphin Tale",
          "Penguins of Madagascar",
          "Minions",
          "Proud American",
          "Edmond",
          "Tootsie",
          "Waterworld",
          "The Lion King (2019)",
          "Crawl",
          "Stuber",
          "Midsommar",
          "Spider-Man: Far from Home",
          "Yesterday",
          "Annabelle Comes Home",
          "Toy Story 4",
          "Child's Play (2019)",
          "Anna (2019)",
          "Men in Black International",
          "Shaft (2019) ",
          "Late Night",
          "The Secret Life of Pets 2",
          "Dark Phoenix",
          "Godzilla:King of the Monsters",
          "Rocketman",
          "Return of the Jedi",
          "Indiana Jones and the Temple of Doom",
          "The Idolmaker",
          "The Grass Harp",
          "The Grand",
          "Jaws",
          "Superman (1978)",
          "Clerks",
          "Juice",
          "He Got Game",
          "White Men Can't Jump",
          "Mulholland Drive",
          "Blue Velvet",
          "Once Upon a Time in Hollywood",
          "The Big Lebowski",
          "Train to Busan",
          "Pride and Prejudice and Zombies",
          "Dead Poets Society",
          "A Fish Called Wanda",
          "The Witches of Eastwick",
          "Ferris Bueller's Day Off",
          "Back to the Future",
          "Police Academy",
          "Trading Places",
          "Star Trek II The Wrath of Khan",
          "The Blues Brothers",
          "V For Vendetta",
          "In the Line of Fire",
          "Us",
          "The Forbidden Kingdom",
          "Rumble in the Bronx",
          "Machete",
          "Beverly Hills Cop",
          "Watchmen",
          "Jackie Brown",
          "Zombieland",
          "Mo Better Blues",
          "Thelma and Louise",
          "New Jack City",
          "The Lawnmower Man",
          "Schindler's List",
          "Four Weddings and a Funeral",
          "Get Shorty",
          "Jerry Maguire",
          "Welcome to Sarajevo",
          "Trojan War",
          "The Gingerbread Man",
          "Tumbleweeds",
          "Turn it up",
          "The Adventures of Pluto Nash",
          "The Lord of the Rings: The Return of the King",
          "Harry Potter and the Prisoner of Azkaban",
          "Stay",
          "Fast Food Nation",
          "Into the Wild",
          "The Wrestler",
          "Slumdog Millionaire",
          "Jackass 3-D",
          "Skyfall",
          "The Hunger Games: Mocking Jay - Part 1",
          "Jurassic World",
          "Shut In",
          "Molly's Game",
          "Peter Rabbit",
          "BlacKkKlansman",
          "Replicas"
         ],
         "y": [
          -30120352.35554634,
          108008242.3612482,
          110953615.3612482,
          -31376772.90705015,
          -31412034.90146757,
          -29372104.95619146,
          -8411007.34468317,
          -30040588.04855396,
          -28016040.909566697,
          -31356776.90146757,
          -20764932.588430546,
          -825438.4311204664,
          -12431266.21373023,
          -6065179.36398387,
          84205781.63601613,
          -31265461.65493747,
          -31413289.90146757,
          -25838994.90705015,
          -9939071.155343391,
          160905467.67729637,
          -19077724.34954269,
          -21947031.34468317,
          -24872512.90146757,
          61573585.56887953,
          -14431415.591773272,
          -11824759.51852917,
          90020942.88469264,
          -17925272.457820665,
          -28146199.88702683,
          -1016888.8137495704,
          -21242410.216693226,
          -31133159.90705015,
          15140056.63601613,
          1822721.5688795336,
          17396167.81755604,
          -5635815.6549374685,
          -7360507.1824439615,
          -5668516.431120466,
          -31043134.65493747,
          -31262303.90705015,
          -32040632.840449777,
          -23738558.365324035,
          -22883505.90335464,
          -32035301.840449777,
          -21396443.736217435,
          -23750874.65493747,
          -16668340.907050151,
          -30844951.90146757,
          -30643133.90146757,
          9702553.092949849,
          -24939644.51627069,
          -31462070.88702683,
          -25787566.2921958,
          -31039008.90705015,
          -30358070.51627069,
          -21987227.59177327,
          -25791319.840449777,
          -20229886.11332704,
          -23496959.840449777,
          -24718766.840449777,
          -16658405.431120466,
          -25457304.35554634,
          -5440594.349542689,
          -14212970.736217435,
          39023142.48147083,
          -8979004.182443962,
          -20314035.34468317,
          -16014971.20651177,
          -14929024.216693226,
          24184428.565062527,
          -20539719.28814232,
          -6649231.113327041,
          -26974177.65493747,
          -23534770.926660456,
          -22442736.736217435,
          -24267895.457820665,
          -30704901.65493747,
          -31240978.90705015,
          -17820043.97618552,
          -14295168.907050151,
          -31294617.65493747,
          -32066749.840449777,
          -30347216.83801412,
          -31299434.90705015,
          -28882372.221140675,
          -29554407.54087231,
          42515694.361248195,
          62735394.45650977,
          -29244343.90146757,
          -31041474.95231503,
          -30468041.12335464,
          -31158823.65493747,
          -31001519.65493747,
          20583841.48862914,
          57253862.84465661,
          90786782.84465662,
          177800643.56887954,
          -27818975.90146757,
          -28618788.44114067,
          -5876194.115307353,
          -18945494.44114067,
          -29057217.90146757
         ]
        }
       ],
       "layout": {
        "template": {
         "data": {
          "bar": [
           {
            "error_x": {
             "color": "#2a3f5f"
            },
            "error_y": {
             "color": "#2a3f5f"
            },
            "marker": {
             "line": {
              "color": "#E5ECF6",
              "width": 0.5
             }
            },
            "type": "bar"
           }
          ],
          "barpolar": [
           {
            "marker": {
             "line": {
              "color": "#E5ECF6",
              "width": 0.5
             }
            },
            "type": "barpolar"
           }
          ],
          "carpet": [
           {
            "aaxis": {
             "endlinecolor": "#2a3f5f",
             "gridcolor": "white",
             "linecolor": "white",
             "minorgridcolor": "white",
             "startlinecolor": "#2a3f5f"
            },
            "baxis": {
             "endlinecolor": "#2a3f5f",
             "gridcolor": "white",
             "linecolor": "white",
             "minorgridcolor": "white",
             "startlinecolor": "#2a3f5f"
            },
            "type": "carpet"
           }
          ],
          "choropleth": [
           {
            "colorbar": {
             "outlinewidth": 0,
             "ticks": ""
            },
            "type": "choropleth"
           }
          ],
          "contour": [
           {
            "colorbar": {
             "outlinewidth": 0,
             "ticks": ""
            },
            "colorscale": [
             [
              0,
              "#0d0887"
             ],
             [
              0.1111111111111111,
              "#46039f"
             ],
             [
              0.2222222222222222,
              "#7201a8"
             ],
             [
              0.3333333333333333,
              "#9c179e"
             ],
             [
              0.4444444444444444,
              "#bd3786"
             ],
             [
              0.5555555555555556,
              "#d8576b"
             ],
             [
              0.6666666666666666,
              "#ed7953"
             ],
             [
              0.7777777777777778,
              "#fb9f3a"
             ],
             [
              0.8888888888888888,
              "#fdca26"
             ],
             [
              1,
              "#f0f921"
             ]
            ],
            "type": "contour"
           }
          ],
          "contourcarpet": [
           {
            "colorbar": {
             "outlinewidth": 0,
             "ticks": ""
            },
            "type": "contourcarpet"
           }
          ],
          "heatmap": [
           {
            "colorbar": {
             "outlinewidth": 0,
             "ticks": ""
            },
            "colorscale": [
             [
              0,
              "#0d0887"
             ],
             [
              0.1111111111111111,
              "#46039f"
             ],
             [
              0.2222222222222222,
              "#7201a8"
             ],
             [
              0.3333333333333333,
              "#9c179e"
             ],
             [
              0.4444444444444444,
              "#bd3786"
             ],
             [
              0.5555555555555556,
              "#d8576b"
             ],
             [
              0.6666666666666666,
              "#ed7953"
             ],
             [
              0.7777777777777778,
              "#fb9f3a"
             ],
             [
              0.8888888888888888,
              "#fdca26"
             ],
             [
              1,
              "#f0f921"
             ]
            ],
            "type": "heatmap"
           }
          ],
          "heatmapgl": [
           {
            "colorbar": {
             "outlinewidth": 0,
             "ticks": ""
            },
            "colorscale": [
             [
              0,
              "#0d0887"
             ],
             [
              0.1111111111111111,
              "#46039f"
             ],
             [
              0.2222222222222222,
              "#7201a8"
             ],
             [
              0.3333333333333333,
              "#9c179e"
             ],
             [
              0.4444444444444444,
              "#bd3786"
             ],
             [
              0.5555555555555556,
              "#d8576b"
             ],
             [
              0.6666666666666666,
              "#ed7953"
             ],
             [
              0.7777777777777778,
              "#fb9f3a"
             ],
             [
              0.8888888888888888,
              "#fdca26"
             ],
             [
              1,
              "#f0f921"
             ]
            ],
            "type": "heatmapgl"
           }
          ],
          "histogram": [
           {
            "marker": {
             "colorbar": {
              "outlinewidth": 0,
              "ticks": ""
             }
            },
            "type": "histogram"
           }
          ],
          "histogram2d": [
           {
            "colorbar": {
             "outlinewidth": 0,
             "ticks": ""
            },
            "colorscale": [
             [
              0,
              "#0d0887"
             ],
             [
              0.1111111111111111,
              "#46039f"
             ],
             [
              0.2222222222222222,
              "#7201a8"
             ],
             [
              0.3333333333333333,
              "#9c179e"
             ],
             [
              0.4444444444444444,
              "#bd3786"
             ],
             [
              0.5555555555555556,
              "#d8576b"
             ],
             [
              0.6666666666666666,
              "#ed7953"
             ],
             [
              0.7777777777777778,
              "#fb9f3a"
             ],
             [
              0.8888888888888888,
              "#fdca26"
             ],
             [
              1,
              "#f0f921"
             ]
            ],
            "type": "histogram2d"
           }
          ],
          "histogram2dcontour": [
           {
            "colorbar": {
             "outlinewidth": 0,
             "ticks": ""
            },
            "colorscale": [
             [
              0,
              "#0d0887"
             ],
             [
              0.1111111111111111,
              "#46039f"
             ],
             [
              0.2222222222222222,
              "#7201a8"
             ],
             [
              0.3333333333333333,
              "#9c179e"
             ],
             [
              0.4444444444444444,
              "#bd3786"
             ],
             [
              0.5555555555555556,
              "#d8576b"
             ],
             [
              0.6666666666666666,
              "#ed7953"
             ],
             [
              0.7777777777777778,
              "#fb9f3a"
             ],
             [
              0.8888888888888888,
              "#fdca26"
             ],
             [
              1,
              "#f0f921"
             ]
            ],
            "type": "histogram2dcontour"
           }
          ],
          "mesh3d": [
           {
            "colorbar": {
             "outlinewidth": 0,
             "ticks": ""
            },
            "type": "mesh3d"
           }
          ],
          "parcoords": [
           {
            "line": {
             "colorbar": {
              "outlinewidth": 0,
              "ticks": ""
             }
            },
            "type": "parcoords"
           }
          ],
          "scatter": [
           {
            "marker": {
             "colorbar": {
              "outlinewidth": 0,
              "ticks": ""
             }
            },
            "type": "scatter"
           }
          ],
          "scatter3d": [
           {
            "line": {
             "colorbar": {
              "outlinewidth": 0,
              "ticks": ""
             }
            },
            "marker": {
             "colorbar": {
              "outlinewidth": 0,
              "ticks": ""
             }
            },
            "type": "scatter3d"
           }
          ],
          "scattercarpet": [
           {
            "marker": {
             "colorbar": {
              "outlinewidth": 0,
              "ticks": ""
             }
            },
            "type": "scattercarpet"
           }
          ],
          "scattergeo": [
           {
            "marker": {
             "colorbar": {
              "outlinewidth": 0,
              "ticks": ""
             }
            },
            "type": "scattergeo"
           }
          ],
          "scattergl": [
           {
            "marker": {
             "colorbar": {
              "outlinewidth": 0,
              "ticks": ""
             }
            },
            "type": "scattergl"
           }
          ],
          "scattermapbox": [
           {
            "marker": {
             "colorbar": {
              "outlinewidth": 0,
              "ticks": ""
             }
            },
            "type": "scattermapbox"
           }
          ],
          "scatterpolar": [
           {
            "marker": {
             "colorbar": {
              "outlinewidth": 0,
              "ticks": ""
             }
            },
            "type": "scatterpolar"
           }
          ],
          "scatterpolargl": [
           {
            "marker": {
             "colorbar": {
              "outlinewidth": 0,
              "ticks": ""
             }
            },
            "type": "scatterpolargl"
           }
          ],
          "scatterternary": [
           {
            "marker": {
             "colorbar": {
              "outlinewidth": 0,
              "ticks": ""
             }
            },
            "type": "scatterternary"
           }
          ],
          "surface": [
           {
            "colorbar": {
             "outlinewidth": 0,
             "ticks": ""
            },
            "colorscale": [
             [
              0,
              "#0d0887"
             ],
             [
              0.1111111111111111,
              "#46039f"
             ],
             [
              0.2222222222222222,
              "#7201a8"
             ],
             [
              0.3333333333333333,
              "#9c179e"
             ],
             [
              0.4444444444444444,
              "#bd3786"
             ],
             [
              0.5555555555555556,
              "#d8576b"
             ],
             [
              0.6666666666666666,
              "#ed7953"
             ],
             [
              0.7777777777777778,
              "#fb9f3a"
             ],
             [
              0.8888888888888888,
              "#fdca26"
             ],
             [
              1,
              "#f0f921"
             ]
            ],
            "type": "surface"
           }
          ],
          "table": [
           {
            "cells": {
             "fill": {
              "color": "#EBF0F8"
             },
             "line": {
              "color": "white"
             }
            },
            "header": {
             "fill": {
              "color": "#C8D4E3"
             },
             "line": {
              "color": "white"
             }
            },
            "type": "table"
           }
          ]
         },
         "layout": {
          "annotationdefaults": {
           "arrowcolor": "#2a3f5f",
           "arrowhead": 0,
           "arrowwidth": 1
          },
          "colorscale": {
           "diverging": [
            [
             0,
             "#8e0152"
            ],
            [
             0.1,
             "#c51b7d"
            ],
            [
             0.2,
             "#de77ae"
            ],
            [
             0.3,
             "#f1b6da"
            ],
            [
             0.4,
             "#fde0ef"
            ],
            [
             0.5,
             "#f7f7f7"
            ],
            [
             0.6,
             "#e6f5d0"
            ],
            [
             0.7,
             "#b8e186"
            ],
            [
             0.8,
             "#7fbc41"
            ],
            [
             0.9,
             "#4d9221"
            ],
            [
             1,
             "#276419"
            ]
           ],
           "sequential": [
            [
             0,
             "#0d0887"
            ],
            [
             0.1111111111111111,
             "#46039f"
            ],
            [
             0.2222222222222222,
             "#7201a8"
            ],
            [
             0.3333333333333333,
             "#9c179e"
            ],
            [
             0.4444444444444444,
             "#bd3786"
            ],
            [
             0.5555555555555556,
             "#d8576b"
            ],
            [
             0.6666666666666666,
             "#ed7953"
            ],
            [
             0.7777777777777778,
             "#fb9f3a"
            ],
            [
             0.8888888888888888,
             "#fdca26"
            ],
            [
             1,
             "#f0f921"
            ]
           ],
           "sequentialminus": [
            [
             0,
             "#0d0887"
            ],
            [
             0.1111111111111111,
             "#46039f"
            ],
            [
             0.2222222222222222,
             "#7201a8"
            ],
            [
             0.3333333333333333,
             "#9c179e"
            ],
            [
             0.4444444444444444,
             "#bd3786"
            ],
            [
             0.5555555555555556,
             "#d8576b"
            ],
            [
             0.6666666666666666,
             "#ed7953"
            ],
            [
             0.7777777777777778,
             "#fb9f3a"
            ],
            [
             0.8888888888888888,
             "#fdca26"
            ],
            [
             1,
             "#f0f921"
            ]
           ]
          },
          "colorway": [
           "#636efa",
           "#EF553B",
           "#00cc96",
           "#ab63fa",
           "#FFA15A",
           "#19d3f3",
           "#FF6692",
           "#B6E880",
           "#FF97FF",
           "#FECB52"
          ],
          "font": {
           "color": "#2a3f5f"
          },
          "geo": {
           "bgcolor": "white",
           "lakecolor": "white",
           "landcolor": "#E5ECF6",
           "showlakes": true,
           "showland": true,
           "subunitcolor": "white"
          },
          "hoverlabel": {
           "align": "left"
          },
          "hovermode": "closest",
          "mapbox": {
           "style": "light"
          },
          "paper_bgcolor": "white",
          "plot_bgcolor": "#E5ECF6",
          "polar": {
           "angularaxis": {
            "gridcolor": "white",
            "linecolor": "white",
            "ticks": ""
           },
           "bgcolor": "#E5ECF6",
           "radialaxis": {
            "gridcolor": "white",
            "linecolor": "white",
            "ticks": ""
           }
          },
          "scene": {
           "xaxis": {
            "backgroundcolor": "#E5ECF6",
            "gridcolor": "white",
            "gridwidth": 2,
            "linecolor": "white",
            "showbackground": true,
            "ticks": "",
            "zerolinecolor": "white"
           },
           "yaxis": {
            "backgroundcolor": "#E5ECF6",
            "gridcolor": "white",
            "gridwidth": 2,
            "linecolor": "white",
            "showbackground": true,
            "ticks": "",
            "zerolinecolor": "white"
           },
           "zaxis": {
            "backgroundcolor": "#E5ECF6",
            "gridcolor": "white",
            "gridwidth": 2,
            "linecolor": "white",
            "showbackground": true,
            "ticks": "",
            "zerolinecolor": "white"
           }
          },
          "shapedefaults": {
           "line": {
            "color": "#2a3f5f"
           }
          },
          "ternary": {
           "aaxis": {
            "gridcolor": "white",
            "linecolor": "white",
            "ticks": ""
           },
           "baxis": {
            "gridcolor": "white",
            "linecolor": "white",
            "ticks": ""
           },
           "bgcolor": "#E5ECF6",
           "caxis": {
            "gridcolor": "white",
            "linecolor": "white",
            "ticks": ""
           }
          },
          "title": {
           "x": 0.05
          },
          "xaxis": {
           "automargin": true,
           "gridcolor": "white",
           "linecolor": "white",
           "ticks": "",
           "zerolinecolor": "white",
           "zerolinewidth": 2
          },
          "yaxis": {
           "automargin": true,
           "gridcolor": "white",
           "linecolor": "white",
           "ticks": "",
           "zerolinecolor": "white",
           "zerolinewidth": 2
          }
         }
        },
        "title": {
         "text": "Meta1 residual plot of Group 1"
        }
       }
      },
      "text/html": [
       "<div>\n",
       "        \n",
       "        \n",
       "            <div id=\"2d0ac070-bdce-4292-bcc9-686bd269b5bc\" class=\"plotly-graph-div\" style=\"height:525px; width:100%;\"></div>\n",
       "            <script type=\"text/javascript\">\n",
       "                require([\"plotly\"], function(Plotly) {\n",
       "                    window.PLOTLYENV=window.PLOTLYENV || {};\n",
       "                    \n",
       "                if (document.getElementById(\"2d0ac070-bdce-4292-bcc9-686bd269b5bc\")) {\n",
       "                    Plotly.newPlot(\n",
       "                        '2d0ac070-bdce-4292-bcc9-686bd269b5bc',\n",
       "                        [{\"marker\": {\"color\": [-30120352.35554634, 108008242.3612482, 110953615.3612482, -31376772.90705015, -31412034.90146757, -29372104.95619146, -8411007.34468317, -30040588.04855396, -28016040.909566697, -31356776.90146757, -20764932.588430546, -825438.4311204664, -12431266.21373023, -6065179.36398387, 84205781.63601613, -31265461.65493747, -31413289.90146757, -25838994.90705015, -9939071.155343391, 160905467.67729637, -19077724.34954269, -21947031.34468317, -24872512.90146757, 61573585.56887953, -14431415.591773272, -11824759.51852917, 90020942.88469264, -17925272.457820665, -28146199.88702683, -1016888.8137495704, -21242410.216693226, -31133159.90705015, 15140056.63601613, 1822721.5688795336, 17396167.81755604, -5635815.6549374685, -7360507.1824439615, -5668516.431120466, -31043134.65493747, -31262303.90705015, -32040632.840449777, -23738558.365324035, -22883505.90335464, -32035301.840449777, -21396443.736217435, -23750874.65493747, -16668340.907050151, -30844951.90146757, -30643133.90146757, 9702553.092949849, -24939644.51627069, -31462070.88702683, -25787566.2921958, -31039008.90705015, -30358070.51627069, -21987227.59177327, -25791319.840449777, -20229886.11332704, -23496959.840449777, -24718766.840449777, -16658405.431120466, -25457304.35554634, -5440594.349542689, -14212970.736217435, 39023142.48147083, -8979004.182443962, -20314035.34468317, -16014971.20651177, -14929024.216693226, 24184428.565062527, -20539719.28814232, -6649231.113327041, -26974177.65493747, -23534770.926660456, -22442736.736217435, -24267895.457820665, -30704901.65493747, -31240978.90705015, -17820043.97618552, -14295168.907050151, -31294617.65493747, -32066749.840449777, -30347216.83801412, -31299434.90705015, -28882372.221140675, -29554407.54087231, 42515694.361248195, 62735394.45650977, -29244343.90146757, -31041474.95231503, -30468041.12335464, -31158823.65493747, -31001519.65493747, 20583841.48862914, 57253862.84465661, 90786782.84465662, 177800643.56887954, -27818975.90146757, -28618788.44114067, -5876194.115307353, -18945494.44114067, -29057217.90146757]}, \"mode\": \"markers\", \"text\": [\"O Brother, Where Art Thou?\", \"The Twilight Saga: Breaking Dawn Part 1\", \"The Twilight Saga: Breaking Dawn Part 2\", \"Helena From the Wedding\", \"Monsters\", \"Catfish\", \"Red\", \"Freakonomics\", \"The Warrior's Way\", \"Stone\", \"Frankenweenie\", \"John Carter\", \"Dolphin Tale\", \"Penguins of Madagascar\", \"Minions\", \"Proud American\", \"Edmond\", \"Tootsie\", \"Waterworld\", \"The Lion King (2019)\", \"Crawl\", \"Stuber\", \"Midsommar\", \"Spider-Man: Far from Home\", \"Yesterday\", \"Annabelle Comes Home\", \"Toy Story 4\", \"Child's Play (2019)\", \"Anna (2019)\", \"Men in Black International\", \"Shaft (2019)\\u00a0\", \"Late Night\", \"The Secret Life of Pets 2\", \"Dark Phoenix\", \"Godzilla:King of the Monsters\", \"Rocketman\", \"Return of the Jedi\", \"Indiana Jones and the Temple of Doom\", \"The Idolmaker\", \"The Grass Harp\", \"The Grand\", \"Jaws\", \"Superman (1978)\", \"Clerks\", \"Juice\", \"He Got Game\", \"White Men Can't Jump\", \"Mulholland Drive\", \"Blue Velvet\", \"Once Upon a Time in Hollywood\", \"The Big Lebowski\", \"Train to Busan\", \"Pride and Prejudice and Zombies\", \"Dead Poets Society\", \"A Fish Called Wanda\", \"The Witches of Eastwick\", \"Ferris Bueller's Day Off\", \"Back to the Future\", \"Police Academy\", \"Trading Places\", \"Star Trek II The Wrath of Khan\", \"The Blues Brothers\", \"V For Vendetta\", \"In the Line of Fire\", \"Us\", \"The Forbidden Kingdom\", \"Rumble in the Bronx\", \"Machete\", \"Beverly Hills Cop\", \"Watchmen\", \"Jackie Brown\", \"Zombieland\", \"Mo Better Blues\", \"Thelma and Louise\", \"New Jack City\", \"The Lawnmower Man\", \"Schindler's List\", \"Four Weddings and a Funeral\", \"Get Shorty\", \"Jerry Maguire\", \"Welcome to Sarajevo\", \"Trojan War\", \"The Gingerbread Man\", \"Tumbleweeds\", \"Turn it up\", \"The Adventures of Pluto Nash\", \"The Lord of the Rings: The Return of the King\", \"Harry Potter and the Prisoner of Azkaban\", \"Stay\", \"Fast Food Nation\", \"Into the Wild\", \"The Wrestler\", \"Slumdog Millionaire\", \"Jackass 3-D\", \"Skyfall\", \"The Hunger Games: Mocking Jay - Part 1\", \"Jurassic World\", \"Shut In\", \"Molly's Game\", \"Peter Rabbit\", \"BlacKkKlansman\", \"Replicas\", \"Crawl\"], \"type\": \"scatter\", \"x\": [\"O Brother, Where Art Thou?\", \"The Twilight Saga: Breaking Dawn Part 1\", \"The Twilight Saga: Breaking Dawn Part 2\", \"Helena From the Wedding\", \"Monsters\", \"Catfish\", \"Red\", \"Freakonomics\", \"The Warrior's Way\", \"Stone\", \"Frankenweenie\", \"John Carter\", \"Dolphin Tale\", \"Penguins of Madagascar\", \"Minions\", \"Proud American\", \"Edmond\", \"Tootsie\", \"Waterworld\", \"The Lion King (2019)\", \"Crawl\", \"Stuber\", \"Midsommar\", \"Spider-Man: Far from Home\", \"Yesterday\", \"Annabelle Comes Home\", \"Toy Story 4\", \"Child's Play (2019)\", \"Anna (2019)\", \"Men in Black International\", \"Shaft (2019)\\u00a0\", \"Late Night\", \"The Secret Life of Pets 2\", \"Dark Phoenix\", \"Godzilla:King of the Monsters\", \"Rocketman\", \"Return of the Jedi\", \"Indiana Jones and the Temple of Doom\", \"The Idolmaker\", \"The Grass Harp\", \"The Grand\", \"Jaws\", \"Superman (1978)\", \"Clerks\", \"Juice\", \"He Got Game\", \"White Men Can't Jump\", \"Mulholland Drive\", \"Blue Velvet\", \"Once Upon a Time in Hollywood\", \"The Big Lebowski\", \"Train to Busan\", \"Pride and Prejudice and Zombies\", \"Dead Poets Society\", \"A Fish Called Wanda\", \"The Witches of Eastwick\", \"Ferris Bueller's Day Off\", \"Back to the Future\", \"Police Academy\", \"Trading Places\", \"Star Trek II The Wrath of Khan\", \"The Blues Brothers\", \"V For Vendetta\", \"In the Line of Fire\", \"Us\", \"The Forbidden Kingdom\", \"Rumble in the Bronx\", \"Machete\", \"Beverly Hills Cop\", \"Watchmen\", \"Jackie Brown\", \"Zombieland\", \"Mo Better Blues\", \"Thelma and Louise\", \"New Jack City\", \"The Lawnmower Man\", \"Schindler's List\", \"Four Weddings and a Funeral\", \"Get Shorty\", \"Jerry Maguire\", \"Welcome to Sarajevo\", \"Trojan War\", \"The Gingerbread Man\", \"Tumbleweeds\", \"Turn it up\", \"The Adventures of Pluto Nash\", \"The Lord of the Rings: The Return of the King\", \"Harry Potter and the Prisoner of Azkaban\", \"Stay\", \"Fast Food Nation\", \"Into the Wild\", \"The Wrestler\", \"Slumdog Millionaire\", \"Jackass 3-D\", \"Skyfall\", \"The Hunger Games: Mocking Jay - Part 1\", \"Jurassic World\", \"Shut In\", \"Molly's Game\", \"Peter Rabbit\", \"BlacKkKlansman\", \"Replicas\"], \"y\": [-30120352.35554634, 108008242.3612482, 110953615.3612482, -31376772.90705015, -31412034.90146757, -29372104.95619146, -8411007.34468317, -30040588.04855396, -28016040.909566697, -31356776.90146757, -20764932.588430546, -825438.4311204664, -12431266.21373023, -6065179.36398387, 84205781.63601613, -31265461.65493747, -31413289.90146757, -25838994.90705015, -9939071.155343391, 160905467.67729637, -19077724.34954269, -21947031.34468317, -24872512.90146757, 61573585.56887953, -14431415.591773272, -11824759.51852917, 90020942.88469264, -17925272.457820665, -28146199.88702683, -1016888.8137495704, -21242410.216693226, -31133159.90705015, 15140056.63601613, 1822721.5688795336, 17396167.81755604, -5635815.6549374685, -7360507.1824439615, -5668516.431120466, -31043134.65493747, -31262303.90705015, -32040632.840449777, -23738558.365324035, -22883505.90335464, -32035301.840449777, -21396443.736217435, -23750874.65493747, -16668340.907050151, -30844951.90146757, -30643133.90146757, 9702553.092949849, -24939644.51627069, -31462070.88702683, -25787566.2921958, -31039008.90705015, -30358070.51627069, -21987227.59177327, -25791319.840449777, -20229886.11332704, -23496959.840449777, -24718766.840449777, -16658405.431120466, -25457304.35554634, -5440594.349542689, -14212970.736217435, 39023142.48147083, -8979004.182443962, -20314035.34468317, -16014971.20651177, -14929024.216693226, 24184428.565062527, -20539719.28814232, -6649231.113327041, -26974177.65493747, -23534770.926660456, -22442736.736217435, -24267895.457820665, -30704901.65493747, -31240978.90705015, -17820043.97618552, -14295168.907050151, -31294617.65493747, -32066749.840449777, -30347216.83801412, -31299434.90705015, -28882372.221140675, -29554407.54087231, 42515694.361248195, 62735394.45650977, -29244343.90146757, -31041474.95231503, -30468041.12335464, -31158823.65493747, -31001519.65493747, 20583841.48862914, 57253862.84465661, 90786782.84465662, 177800643.56887954, -27818975.90146757, -28618788.44114067, -5876194.115307353, -18945494.44114067, -29057217.90146757]}],\n",
       "                        {\"template\": {\"data\": {\"bar\": [{\"error_x\": {\"color\": \"#2a3f5f\"}, \"error_y\": {\"color\": \"#2a3f5f\"}, \"marker\": {\"line\": {\"color\": \"#E5ECF6\", \"width\": 0.5}}, \"type\": \"bar\"}], \"barpolar\": [{\"marker\": {\"line\": {\"color\": \"#E5ECF6\", \"width\": 0.5}}, \"type\": \"barpolar\"}], \"carpet\": [{\"aaxis\": {\"endlinecolor\": \"#2a3f5f\", \"gridcolor\": \"white\", \"linecolor\": \"white\", \"minorgridcolor\": \"white\", \"startlinecolor\": \"#2a3f5f\"}, \"baxis\": {\"endlinecolor\": \"#2a3f5f\", \"gridcolor\": \"white\", \"linecolor\": \"white\", \"minorgridcolor\": \"white\", \"startlinecolor\": \"#2a3f5f\"}, \"type\": \"carpet\"}], \"choropleth\": [{\"colorbar\": {\"outlinewidth\": 0, \"ticks\": \"\"}, \"type\": \"choropleth\"}], \"contour\": [{\"colorbar\": {\"outlinewidth\": 0, \"ticks\": \"\"}, \"colorscale\": [[0.0, \"#0d0887\"], [0.1111111111111111, \"#46039f\"], [0.2222222222222222, \"#7201a8\"], [0.3333333333333333, \"#9c179e\"], [0.4444444444444444, \"#bd3786\"], [0.5555555555555556, \"#d8576b\"], [0.6666666666666666, \"#ed7953\"], [0.7777777777777778, \"#fb9f3a\"], [0.8888888888888888, \"#fdca26\"], [1.0, \"#f0f921\"]], \"type\": \"contour\"}], \"contourcarpet\": [{\"colorbar\": {\"outlinewidth\": 0, \"ticks\": \"\"}, \"type\": \"contourcarpet\"}], \"heatmap\": [{\"colorbar\": {\"outlinewidth\": 0, \"ticks\": \"\"}, \"colorscale\": [[0.0, \"#0d0887\"], [0.1111111111111111, \"#46039f\"], [0.2222222222222222, \"#7201a8\"], [0.3333333333333333, \"#9c179e\"], [0.4444444444444444, \"#bd3786\"], [0.5555555555555556, \"#d8576b\"], [0.6666666666666666, \"#ed7953\"], [0.7777777777777778, \"#fb9f3a\"], [0.8888888888888888, \"#fdca26\"], [1.0, \"#f0f921\"]], \"type\": \"heatmap\"}], \"heatmapgl\": [{\"colorbar\": {\"outlinewidth\": 0, \"ticks\": \"\"}, \"colorscale\": [[0.0, \"#0d0887\"], [0.1111111111111111, \"#46039f\"], [0.2222222222222222, \"#7201a8\"], [0.3333333333333333, \"#9c179e\"], [0.4444444444444444, \"#bd3786\"], [0.5555555555555556, \"#d8576b\"], [0.6666666666666666, \"#ed7953\"], [0.7777777777777778, \"#fb9f3a\"], [0.8888888888888888, \"#fdca26\"], [1.0, \"#f0f921\"]], \"type\": \"heatmapgl\"}], \"histogram\": [{\"marker\": {\"colorbar\": {\"outlinewidth\": 0, \"ticks\": \"\"}}, \"type\": \"histogram\"}], \"histogram2d\": [{\"colorbar\": {\"outlinewidth\": 0, \"ticks\": \"\"}, \"colorscale\": [[0.0, \"#0d0887\"], [0.1111111111111111, \"#46039f\"], [0.2222222222222222, \"#7201a8\"], [0.3333333333333333, \"#9c179e\"], [0.4444444444444444, \"#bd3786\"], [0.5555555555555556, \"#d8576b\"], [0.6666666666666666, \"#ed7953\"], [0.7777777777777778, \"#fb9f3a\"], [0.8888888888888888, \"#fdca26\"], [1.0, \"#f0f921\"]], \"type\": \"histogram2d\"}], \"histogram2dcontour\": [{\"colorbar\": {\"outlinewidth\": 0, \"ticks\": \"\"}, \"colorscale\": [[0.0, \"#0d0887\"], [0.1111111111111111, \"#46039f\"], [0.2222222222222222, \"#7201a8\"], [0.3333333333333333, \"#9c179e\"], [0.4444444444444444, \"#bd3786\"], [0.5555555555555556, \"#d8576b\"], [0.6666666666666666, \"#ed7953\"], [0.7777777777777778, \"#fb9f3a\"], [0.8888888888888888, \"#fdca26\"], [1.0, \"#f0f921\"]], \"type\": \"histogram2dcontour\"}], \"mesh3d\": [{\"colorbar\": {\"outlinewidth\": 0, \"ticks\": \"\"}, \"type\": \"mesh3d\"}], \"parcoords\": [{\"line\": {\"colorbar\": {\"outlinewidth\": 0, \"ticks\": \"\"}}, \"type\": \"parcoords\"}], \"scatter\": [{\"marker\": {\"colorbar\": {\"outlinewidth\": 0, \"ticks\": \"\"}}, \"type\": \"scatter\"}], \"scatter3d\": [{\"line\": {\"colorbar\": {\"outlinewidth\": 0, \"ticks\": \"\"}}, \"marker\": {\"colorbar\": {\"outlinewidth\": 0, \"ticks\": \"\"}}, \"type\": \"scatter3d\"}], \"scattercarpet\": [{\"marker\": {\"colorbar\": {\"outlinewidth\": 0, \"ticks\": \"\"}}, \"type\": \"scattercarpet\"}], \"scattergeo\": [{\"marker\": {\"colorbar\": {\"outlinewidth\": 0, \"ticks\": \"\"}}, \"type\": \"scattergeo\"}], \"scattergl\": [{\"marker\": {\"colorbar\": {\"outlinewidth\": 0, \"ticks\": \"\"}}, \"type\": \"scattergl\"}], \"scattermapbox\": [{\"marker\": {\"colorbar\": {\"outlinewidth\": 0, \"ticks\": \"\"}}, \"type\": \"scattermapbox\"}], \"scatterpolar\": [{\"marker\": {\"colorbar\": {\"outlinewidth\": 0, \"ticks\": \"\"}}, \"type\": \"scatterpolar\"}], \"scatterpolargl\": [{\"marker\": {\"colorbar\": {\"outlinewidth\": 0, \"ticks\": \"\"}}, \"type\": \"scatterpolargl\"}], \"scatterternary\": [{\"marker\": {\"colorbar\": {\"outlinewidth\": 0, \"ticks\": \"\"}}, \"type\": \"scatterternary\"}], \"surface\": [{\"colorbar\": {\"outlinewidth\": 0, \"ticks\": \"\"}, \"colorscale\": [[0.0, \"#0d0887\"], [0.1111111111111111, \"#46039f\"], [0.2222222222222222, \"#7201a8\"], [0.3333333333333333, \"#9c179e\"], [0.4444444444444444, \"#bd3786\"], [0.5555555555555556, \"#d8576b\"], [0.6666666666666666, \"#ed7953\"], [0.7777777777777778, \"#fb9f3a\"], [0.8888888888888888, \"#fdca26\"], [1.0, \"#f0f921\"]], \"type\": \"surface\"}], \"table\": [{\"cells\": {\"fill\": {\"color\": \"#EBF0F8\"}, \"line\": {\"color\": \"white\"}}, \"header\": {\"fill\": {\"color\": \"#C8D4E3\"}, \"line\": {\"color\": \"white\"}}, \"type\": \"table\"}]}, \"layout\": {\"annotationdefaults\": {\"arrowcolor\": \"#2a3f5f\", \"arrowhead\": 0, \"arrowwidth\": 1}, \"colorscale\": {\"diverging\": [[0, \"#8e0152\"], [0.1, \"#c51b7d\"], [0.2, \"#de77ae\"], [0.3, \"#f1b6da\"], [0.4, \"#fde0ef\"], [0.5, \"#f7f7f7\"], [0.6, \"#e6f5d0\"], [0.7, \"#b8e186\"], [0.8, \"#7fbc41\"], [0.9, \"#4d9221\"], [1, \"#276419\"]], \"sequential\": [[0.0, \"#0d0887\"], [0.1111111111111111, \"#46039f\"], [0.2222222222222222, \"#7201a8\"], [0.3333333333333333, \"#9c179e\"], [0.4444444444444444, \"#bd3786\"], [0.5555555555555556, \"#d8576b\"], [0.6666666666666666, \"#ed7953\"], [0.7777777777777778, \"#fb9f3a\"], [0.8888888888888888, \"#fdca26\"], [1.0, \"#f0f921\"]], \"sequentialminus\": [[0.0, \"#0d0887\"], [0.1111111111111111, \"#46039f\"], [0.2222222222222222, \"#7201a8\"], [0.3333333333333333, \"#9c179e\"], [0.4444444444444444, \"#bd3786\"], [0.5555555555555556, \"#d8576b\"], [0.6666666666666666, \"#ed7953\"], [0.7777777777777778, \"#fb9f3a\"], [0.8888888888888888, \"#fdca26\"], [1.0, \"#f0f921\"]]}, \"colorway\": [\"#636efa\", \"#EF553B\", \"#00cc96\", \"#ab63fa\", \"#FFA15A\", \"#19d3f3\", \"#FF6692\", \"#B6E880\", \"#FF97FF\", \"#FECB52\"], \"font\": {\"color\": \"#2a3f5f\"}, \"geo\": {\"bgcolor\": \"white\", \"lakecolor\": \"white\", \"landcolor\": \"#E5ECF6\", \"showlakes\": true, \"showland\": true, \"subunitcolor\": \"white\"}, \"hoverlabel\": {\"align\": \"left\"}, \"hovermode\": \"closest\", \"mapbox\": {\"style\": \"light\"}, \"paper_bgcolor\": \"white\", \"plot_bgcolor\": \"#E5ECF6\", \"polar\": {\"angularaxis\": {\"gridcolor\": \"white\", \"linecolor\": \"white\", \"ticks\": \"\"}, \"bgcolor\": \"#E5ECF6\", \"radialaxis\": {\"gridcolor\": \"white\", \"linecolor\": \"white\", \"ticks\": \"\"}}, \"scene\": {\"xaxis\": {\"backgroundcolor\": \"#E5ECF6\", \"gridcolor\": \"white\", \"gridwidth\": 2, \"linecolor\": \"white\", \"showbackground\": true, \"ticks\": \"\", \"zerolinecolor\": \"white\"}, \"yaxis\": {\"backgroundcolor\": \"#E5ECF6\", \"gridcolor\": \"white\", \"gridwidth\": 2, \"linecolor\": \"white\", \"showbackground\": true, \"ticks\": \"\", \"zerolinecolor\": \"white\"}, \"zaxis\": {\"backgroundcolor\": \"#E5ECF6\", \"gridcolor\": \"white\", \"gridwidth\": 2, \"linecolor\": \"white\", \"showbackground\": true, \"ticks\": \"\", \"zerolinecolor\": \"white\"}}, \"shapedefaults\": {\"line\": {\"color\": \"#2a3f5f\"}}, \"ternary\": {\"aaxis\": {\"gridcolor\": \"white\", \"linecolor\": \"white\", \"ticks\": \"\"}, \"baxis\": {\"gridcolor\": \"white\", \"linecolor\": \"white\", \"ticks\": \"\"}, \"bgcolor\": \"#E5ECF6\", \"caxis\": {\"gridcolor\": \"white\", \"linecolor\": \"white\", \"ticks\": \"\"}}, \"title\": {\"x\": 0.05}, \"xaxis\": {\"automargin\": true, \"gridcolor\": \"white\", \"linecolor\": \"white\", \"ticks\": \"\", \"zerolinecolor\": \"white\", \"zerolinewidth\": 2}, \"yaxis\": {\"automargin\": true, \"gridcolor\": \"white\", \"linecolor\": \"white\", \"ticks\": \"\", \"zerolinecolor\": \"white\", \"zerolinewidth\": 2}}}, \"title\": {\"text\": \"Meta1 residual plot of Group 1\"}},\n",
       "                        {\"responsive\": true}\n",
       "                    ).then(function(){\n",
       "                            \n",
       "var gd = document.getElementById('2d0ac070-bdce-4292-bcc9-686bd269b5bc');\n",
       "var x = new MutationObserver(function (mutations, observer) {{\n",
       "        var display = window.getComputedStyle(gd).display;\n",
       "        if (!display || display === 'none') {{\n",
       "            console.log([gd, 'removed!']);\n",
       "            Plotly.purge(gd);\n",
       "            observer.disconnect();\n",
       "        }}\n",
       "}});\n",
       "\n",
       "// Listen for the removal of the full notebook cells\n",
       "var notebookContainer = gd.closest('#notebook-container');\n",
       "if (notebookContainer) {{\n",
       "    x.observe(notebookContainer, {childList: true});\n",
       "}}\n",
       "\n",
       "// Listen for the clearing of the current output cell\n",
       "var outputEl = gd.closest('.output');\n",
       "if (outputEl) {{\n",
       "    x.observe(outputEl, {childList: true});\n",
       "}}\n",
       "\n",
       "                        })\n",
       "                };\n",
       "                });\n",
       "            </script>\n",
       "        </div>"
      ]
     },
     "metadata": {},
     "output_type": "display_data"
    }
   ],
   "source": [
    "# Residual plot for meta1 information\n",
    "\n",
    "g1_result_final[\"meta1_residuals\"] = g1_result_final[\"ground_truth\"] - g1_result_final[\"pred_meta_1\"]\n",
    "\n",
    "fig = go.Figure(data=go.Scatter(x=g1_result_final[\"name\"],\n",
    "                                y=g1_result_final[\"meta1_residuals\"],\n",
    "                                mode='markers',\n",
    "                                marker_color=g1_result_final[\"meta1_residuals\"],\n",
    "                                text=g4_result_final[\"name\"])) # hover text goes here(movie_title)\n",
    "\n",
    "fig.update_layout(title='Meta1 residual plot of Group 1')\n",
    "fig.show()"
   ]
  },
  {
   "cell_type": "code",
   "execution_count": 27,
   "metadata": {},
   "outputs": [
    {
     "data": {
      "application/vnd.plotly.v1+json": {
       "config": {
        "plotlyServerURL": "https://plot.ly"
       },
       "data": [
        {
         "marker": {
          "color": [
           921577.9610763008,
           25715475.92970141,
           32282283.592234325,
           136708.0080429491,
           86119.5495008298,
           87244.72577143519,
           36643628.51081153,
           215664.4846509973,
           4455114.745304524,
           1136014.5989655235,
           11077067.167117007,
           292968.6880798347,
           2698801.960920226,
           66090575.53583988,
           118217018.63820322,
           128933.95451614536,
           176913.79727033453,
           952113.5789065374,
           1725445.5011473438,
           147767.3457516673,
           3460994.3915044293,
           633458.9474579021,
           126800.44015499305,
           20053185.85164632,
           2861135.3883038387,
           3976279.998911803,
           1125124.6780559672,
           7517990.473316759,
           12802290.48961166,
           38868631.62800014,
           12348493.86050079,
           514254.0854478822,
           76926230.63037628,
           84356837.3220537,
           58177598.73149469,
           15412452.665154286,
           2077177.801683264,
           2060024.6942377854,
           549006.0123991276,
           529027.8204141003,
           316455.4471072418,
           671442.3343874295,
           884753.5130201881,
           1346188.5899206472,
           1118293.4103186154,
           307235.0302880103,
           766478.8164102215,
           188359.22907326906,
           715231.1407305194,
           10592945.66190108,
           670415.3916715266,
           78979288.2199617,
           8361040.415016453,
           707307.289146892,
           1210179.3654196227,
           1447745.2330016196,
           2092697.13731944,
           1725307.6416482504,
           2353266.3863062127,
           1785687.2246367037,
           2251276.551666716,
           1963102.9085741662,
           381085.2579516514,
           1027965.5514220372,
           7930051.5768843675,
           465768.6403371108,
           1313192.8562229723,
           277651.1873250593,
           2647225.5838018474,
           227161.13604653144,
           369829.7836244853,
           5840434.550010181,
           612633.7353621839,
           1150783.4299445988,
           777805.2942541176,
           895917.8424593435,
           533859.1636539166,
           610058.5364504308,
           1410464.3179150603,
           506667.0558525343,
           281041.76792149537,
           1003235.2698837072,
           624173.2849176091,
           365346.8767431213,
           476922.9791050996,
           937525.6651409405,
           285101.5364520108,
           1255135.4532474962,
           208276.6380076961,
           270271.3178109371,
           402942.5211417086,
           663831.1360552226,
           1881457.829798112,
           6996984.118100868,
           121329303.20852692,
           142155705.55118683,
           214506.93181097927,
           1239530.4800469114,
           533984.3165808679,
           43015756.85207342,
           533984.3165808679,
           6039431.075704683
          ]
         },
         "mode": "markers",
         "text": [
          "O Brother, Where Art Thou?",
          "The Twilight Saga: Breaking Dawn Part 1",
          "The Twilight Saga: Breaking Dawn Part 2",
          "Helena From the Wedding",
          "Monsters",
          "Catfish",
          "Red",
          "Freakonomics",
          "The Warrior's Way",
          "Stone",
          "Frankenweenie",
          "John Carter",
          "Dolphin Tale",
          "Penguins of Madagascar",
          "Minions",
          "Proud American",
          "Edmond",
          "Tootsie",
          "Waterworld",
          "The Lion King (2019)",
          "Crawl",
          "Stuber",
          "Midsommar",
          "Spider-Man: Far from Home",
          "Yesterday",
          "Annabelle Comes Home",
          "Toy Story 4",
          "Child's Play (2019)",
          "Anna (2019)",
          "Men in Black International",
          "Shaft (2019) ",
          "Late Night",
          "The Secret Life of Pets 2",
          "Dark Phoenix",
          "Godzilla:King of the Monsters",
          "Rocketman",
          "Return of the Jedi",
          "Indiana Jones and the Temple of Doom",
          "The Idolmaker",
          "The Grass Harp",
          "The Grand",
          "Jaws",
          "Superman (1978)",
          "Clerks",
          "Juice",
          "He Got Game",
          "White Men Can't Jump",
          "Mulholland Drive",
          "Blue Velvet",
          "Once Upon a Time in Hollywood",
          "The Big Lebowski",
          "Train to Busan",
          "Pride and Prejudice and Zombies",
          "Dead Poets Society",
          "A Fish Called Wanda",
          "The Witches of Eastwick",
          "Ferris Bueller's Day Off",
          "Back to the Future",
          "Police Academy",
          "Trading Places",
          "Star Trek II The Wrath of Khan",
          "The Blues Brothers",
          "V For Vendetta",
          "In the Line of Fire",
          "Us",
          "The Forbidden Kingdom",
          "Rumble in the Bronx",
          "Machete",
          "Beverly Hills Cop",
          "Watchmen",
          "Jackie Brown",
          "Zombieland",
          "Mo Better Blues",
          "Thelma and Louise",
          "New Jack City",
          "The Lawnmower Man",
          "Schindler's List",
          "Four Weddings and a Funeral",
          "Get Shorty",
          "Jerry Maguire",
          "Welcome to Sarajevo",
          "Trojan War",
          "The Gingerbread Man",
          "Tumbleweeds",
          "Turn it up",
          "The Adventures of Pluto Nash",
          "The Lord of the Rings: The Return of the King",
          "Harry Potter and the Prisoner of Azkaban",
          "Stay",
          "Fast Food Nation",
          "Into the Wild",
          "The Wrestler",
          "Slumdog Millionaire",
          "Jackass 3-D",
          "Skyfall",
          "The Hunger Games: Mocking Jay - Part 1",
          "Jurassic World",
          "Shut In",
          "Molly's Game",
          "Peter Rabbit",
          "BlacKkKlansman",
          "Replicas"
         ],
         "type": "scatter",
         "x": [
          "O Brother, Where Art Thou?",
          "The Twilight Saga: Breaking Dawn Part 1",
          "The Twilight Saga: Breaking Dawn Part 2",
          "Helena From the Wedding",
          "Monsters",
          "Catfish",
          "Red",
          "Freakonomics",
          "The Warrior's Way",
          "Stone",
          "Frankenweenie",
          "John Carter",
          "Dolphin Tale",
          "Penguins of Madagascar",
          "Minions",
          "Proud American",
          "Edmond",
          "Tootsie",
          "Waterworld",
          "The Lion King (2019)",
          "Crawl",
          "Stuber",
          "Midsommar",
          "Spider-Man: Far from Home",
          "Yesterday",
          "Annabelle Comes Home",
          "Toy Story 4",
          "Child's Play (2019)",
          "Anna (2019)",
          "Men in Black International",
          "Shaft (2019) ",
          "Late Night",
          "The Secret Life of Pets 2",
          "Dark Phoenix",
          "Godzilla:King of the Monsters",
          "Rocketman",
          "Return of the Jedi",
          "Indiana Jones and the Temple of Doom",
          "The Idolmaker",
          "The Grass Harp",
          "The Grand",
          "Jaws",
          "Superman (1978)",
          "Clerks",
          "Juice",
          "He Got Game",
          "White Men Can't Jump",
          "Mulholland Drive",
          "Blue Velvet",
          "Once Upon a Time in Hollywood",
          "The Big Lebowski",
          "Train to Busan",
          "Pride and Prejudice and Zombies",
          "Dead Poets Society",
          "A Fish Called Wanda",
          "The Witches of Eastwick",
          "Ferris Bueller's Day Off",
          "Back to the Future",
          "Police Academy",
          "Trading Places",
          "Star Trek II The Wrath of Khan",
          "The Blues Brothers",
          "V For Vendetta",
          "In the Line of Fire",
          "Us",
          "The Forbidden Kingdom",
          "Rumble in the Bronx",
          "Machete",
          "Beverly Hills Cop",
          "Watchmen",
          "Jackie Brown",
          "Zombieland",
          "Mo Better Blues",
          "Thelma and Louise",
          "New Jack City",
          "The Lawnmower Man",
          "Schindler's List",
          "Four Weddings and a Funeral",
          "Get Shorty",
          "Jerry Maguire",
          "Welcome to Sarajevo",
          "Trojan War",
          "The Gingerbread Man",
          "Tumbleweeds",
          "Turn it up",
          "The Adventures of Pluto Nash",
          "The Lord of the Rings: The Return of the King",
          "Harry Potter and the Prisoner of Azkaban",
          "Stay",
          "Fast Food Nation",
          "Into the Wild",
          "The Wrestler",
          "Slumdog Millionaire",
          "Jackass 3-D",
          "Skyfall",
          "The Hunger Games: Mocking Jay - Part 1",
          "Jurassic World",
          "Shut In",
          "Molly's Game",
          "Peter Rabbit",
          "BlacKkKlansman",
          "Replicas"
         ],
         "y": [
          921577.9610763008,
          25715475.92970141,
          32282283.592234325,
          136708.0080429491,
          86119.5495008298,
          87244.72577143519,
          36643628.51081153,
          215664.4846509973,
          4455114.745304524,
          1136014.5989655235,
          11077067.167117007,
          292968.6880798347,
          2698801.960920226,
          66090575.53583988,
          118217018.63820322,
          128933.95451614536,
          176913.79727033453,
          952113.5789065374,
          1725445.5011473438,
          147767.3457516673,
          3460994.3915044293,
          633458.9474579021,
          126800.44015499305,
          20053185.85164632,
          2861135.3883038387,
          3976279.998911803,
          1125124.6780559672,
          7517990.473316759,
          12802290.48961166,
          38868631.62800014,
          12348493.86050079,
          514254.0854478822,
          76926230.63037628,
          84356837.3220537,
          58177598.73149469,
          15412452.665154286,
          2077177.801683264,
          2060024.6942377854,
          549006.0123991276,
          529027.8204141003,
          316455.4471072418,
          671442.3343874295,
          884753.5130201881,
          1346188.5899206472,
          1118293.4103186154,
          307235.0302880103,
          766478.8164102215,
          188359.22907326906,
          715231.1407305194,
          10592945.66190108,
          670415.3916715266,
          78979288.2199617,
          8361040.415016453,
          707307.289146892,
          1210179.3654196227,
          1447745.2330016196,
          2092697.13731944,
          1725307.6416482504,
          2353266.3863062127,
          1785687.2246367037,
          2251276.551666716,
          1963102.9085741662,
          381085.2579516514,
          1027965.5514220372,
          7930051.5768843675,
          465768.6403371108,
          1313192.8562229723,
          277651.1873250593,
          2647225.5838018474,
          227161.13604653144,
          369829.7836244853,
          5840434.550010181,
          612633.7353621839,
          1150783.4299445988,
          777805.2942541176,
          895917.8424593435,
          533859.1636539166,
          610058.5364504308,
          1410464.3179150603,
          506667.0558525343,
          281041.76792149537,
          1003235.2698837072,
          624173.2849176091,
          365346.8767431213,
          476922.9791050996,
          937525.6651409405,
          285101.5364520108,
          1255135.4532474962,
          208276.6380076961,
          270271.3178109371,
          402942.5211417086,
          663831.1360552226,
          1881457.829798112,
          6996984.118100868,
          121329303.20852692,
          142155705.55118683,
          214506.93181097927,
          1239530.4800469114,
          533984.3165808679,
          43015756.85207342,
          533984.3165808679,
          6039431.075704683
         ]
        }
       ],
       "layout": {
        "template": {
         "data": {
          "bar": [
           {
            "error_x": {
             "color": "#2a3f5f"
            },
            "error_y": {
             "color": "#2a3f5f"
            },
            "marker": {
             "line": {
              "color": "#E5ECF6",
              "width": 0.5
             }
            },
            "type": "bar"
           }
          ],
          "barpolar": [
           {
            "marker": {
             "line": {
              "color": "#E5ECF6",
              "width": 0.5
             }
            },
            "type": "barpolar"
           }
          ],
          "carpet": [
           {
            "aaxis": {
             "endlinecolor": "#2a3f5f",
             "gridcolor": "white",
             "linecolor": "white",
             "minorgridcolor": "white",
             "startlinecolor": "#2a3f5f"
            },
            "baxis": {
             "endlinecolor": "#2a3f5f",
             "gridcolor": "white",
             "linecolor": "white",
             "minorgridcolor": "white",
             "startlinecolor": "#2a3f5f"
            },
            "type": "carpet"
           }
          ],
          "choropleth": [
           {
            "colorbar": {
             "outlinewidth": 0,
             "ticks": ""
            },
            "type": "choropleth"
           }
          ],
          "contour": [
           {
            "colorbar": {
             "outlinewidth": 0,
             "ticks": ""
            },
            "colorscale": [
             [
              0,
              "#0d0887"
             ],
             [
              0.1111111111111111,
              "#46039f"
             ],
             [
              0.2222222222222222,
              "#7201a8"
             ],
             [
              0.3333333333333333,
              "#9c179e"
             ],
             [
              0.4444444444444444,
              "#bd3786"
             ],
             [
              0.5555555555555556,
              "#d8576b"
             ],
             [
              0.6666666666666666,
              "#ed7953"
             ],
             [
              0.7777777777777778,
              "#fb9f3a"
             ],
             [
              0.8888888888888888,
              "#fdca26"
             ],
             [
              1,
              "#f0f921"
             ]
            ],
            "type": "contour"
           }
          ],
          "contourcarpet": [
           {
            "colorbar": {
             "outlinewidth": 0,
             "ticks": ""
            },
            "type": "contourcarpet"
           }
          ],
          "heatmap": [
           {
            "colorbar": {
             "outlinewidth": 0,
             "ticks": ""
            },
            "colorscale": [
             [
              0,
              "#0d0887"
             ],
             [
              0.1111111111111111,
              "#46039f"
             ],
             [
              0.2222222222222222,
              "#7201a8"
             ],
             [
              0.3333333333333333,
              "#9c179e"
             ],
             [
              0.4444444444444444,
              "#bd3786"
             ],
             [
              0.5555555555555556,
              "#d8576b"
             ],
             [
              0.6666666666666666,
              "#ed7953"
             ],
             [
              0.7777777777777778,
              "#fb9f3a"
             ],
             [
              0.8888888888888888,
              "#fdca26"
             ],
             [
              1,
              "#f0f921"
             ]
            ],
            "type": "heatmap"
           }
          ],
          "heatmapgl": [
           {
            "colorbar": {
             "outlinewidth": 0,
             "ticks": ""
            },
            "colorscale": [
             [
              0,
              "#0d0887"
             ],
             [
              0.1111111111111111,
              "#46039f"
             ],
             [
              0.2222222222222222,
              "#7201a8"
             ],
             [
              0.3333333333333333,
              "#9c179e"
             ],
             [
              0.4444444444444444,
              "#bd3786"
             ],
             [
              0.5555555555555556,
              "#d8576b"
             ],
             [
              0.6666666666666666,
              "#ed7953"
             ],
             [
              0.7777777777777778,
              "#fb9f3a"
             ],
             [
              0.8888888888888888,
              "#fdca26"
             ],
             [
              1,
              "#f0f921"
             ]
            ],
            "type": "heatmapgl"
           }
          ],
          "histogram": [
           {
            "marker": {
             "colorbar": {
              "outlinewidth": 0,
              "ticks": ""
             }
            },
            "type": "histogram"
           }
          ],
          "histogram2d": [
           {
            "colorbar": {
             "outlinewidth": 0,
             "ticks": ""
            },
            "colorscale": [
             [
              0,
              "#0d0887"
             ],
             [
              0.1111111111111111,
              "#46039f"
             ],
             [
              0.2222222222222222,
              "#7201a8"
             ],
             [
              0.3333333333333333,
              "#9c179e"
             ],
             [
              0.4444444444444444,
              "#bd3786"
             ],
             [
              0.5555555555555556,
              "#d8576b"
             ],
             [
              0.6666666666666666,
              "#ed7953"
             ],
             [
              0.7777777777777778,
              "#fb9f3a"
             ],
             [
              0.8888888888888888,
              "#fdca26"
             ],
             [
              1,
              "#f0f921"
             ]
            ],
            "type": "histogram2d"
           }
          ],
          "histogram2dcontour": [
           {
            "colorbar": {
             "outlinewidth": 0,
             "ticks": ""
            },
            "colorscale": [
             [
              0,
              "#0d0887"
             ],
             [
              0.1111111111111111,
              "#46039f"
             ],
             [
              0.2222222222222222,
              "#7201a8"
             ],
             [
              0.3333333333333333,
              "#9c179e"
             ],
             [
              0.4444444444444444,
              "#bd3786"
             ],
             [
              0.5555555555555556,
              "#d8576b"
             ],
             [
              0.6666666666666666,
              "#ed7953"
             ],
             [
              0.7777777777777778,
              "#fb9f3a"
             ],
             [
              0.8888888888888888,
              "#fdca26"
             ],
             [
              1,
              "#f0f921"
             ]
            ],
            "type": "histogram2dcontour"
           }
          ],
          "mesh3d": [
           {
            "colorbar": {
             "outlinewidth": 0,
             "ticks": ""
            },
            "type": "mesh3d"
           }
          ],
          "parcoords": [
           {
            "line": {
             "colorbar": {
              "outlinewidth": 0,
              "ticks": ""
             }
            },
            "type": "parcoords"
           }
          ],
          "scatter": [
           {
            "marker": {
             "colorbar": {
              "outlinewidth": 0,
              "ticks": ""
             }
            },
            "type": "scatter"
           }
          ],
          "scatter3d": [
           {
            "line": {
             "colorbar": {
              "outlinewidth": 0,
              "ticks": ""
             }
            },
            "marker": {
             "colorbar": {
              "outlinewidth": 0,
              "ticks": ""
             }
            },
            "type": "scatter3d"
           }
          ],
          "scattercarpet": [
           {
            "marker": {
             "colorbar": {
              "outlinewidth": 0,
              "ticks": ""
             }
            },
            "type": "scattercarpet"
           }
          ],
          "scattergeo": [
           {
            "marker": {
             "colorbar": {
              "outlinewidth": 0,
              "ticks": ""
             }
            },
            "type": "scattergeo"
           }
          ],
          "scattergl": [
           {
            "marker": {
             "colorbar": {
              "outlinewidth": 0,
              "ticks": ""
             }
            },
            "type": "scattergl"
           }
          ],
          "scattermapbox": [
           {
            "marker": {
             "colorbar": {
              "outlinewidth": 0,
              "ticks": ""
             }
            },
            "type": "scattermapbox"
           }
          ],
          "scatterpolar": [
           {
            "marker": {
             "colorbar": {
              "outlinewidth": 0,
              "ticks": ""
             }
            },
            "type": "scatterpolar"
           }
          ],
          "scatterpolargl": [
           {
            "marker": {
             "colorbar": {
              "outlinewidth": 0,
              "ticks": ""
             }
            },
            "type": "scatterpolargl"
           }
          ],
          "scatterternary": [
           {
            "marker": {
             "colorbar": {
              "outlinewidth": 0,
              "ticks": ""
             }
            },
            "type": "scatterternary"
           }
          ],
          "surface": [
           {
            "colorbar": {
             "outlinewidth": 0,
             "ticks": ""
            },
            "colorscale": [
             [
              0,
              "#0d0887"
             ],
             [
              0.1111111111111111,
              "#46039f"
             ],
             [
              0.2222222222222222,
              "#7201a8"
             ],
             [
              0.3333333333333333,
              "#9c179e"
             ],
             [
              0.4444444444444444,
              "#bd3786"
             ],
             [
              0.5555555555555556,
              "#d8576b"
             ],
             [
              0.6666666666666666,
              "#ed7953"
             ],
             [
              0.7777777777777778,
              "#fb9f3a"
             ],
             [
              0.8888888888888888,
              "#fdca26"
             ],
             [
              1,
              "#f0f921"
             ]
            ],
            "type": "surface"
           }
          ],
          "table": [
           {
            "cells": {
             "fill": {
              "color": "#EBF0F8"
             },
             "line": {
              "color": "white"
             }
            },
            "header": {
             "fill": {
              "color": "#C8D4E3"
             },
             "line": {
              "color": "white"
             }
            },
            "type": "table"
           }
          ]
         },
         "layout": {
          "annotationdefaults": {
           "arrowcolor": "#2a3f5f",
           "arrowhead": 0,
           "arrowwidth": 1
          },
          "colorscale": {
           "diverging": [
            [
             0,
             "#8e0152"
            ],
            [
             0.1,
             "#c51b7d"
            ],
            [
             0.2,
             "#de77ae"
            ],
            [
             0.3,
             "#f1b6da"
            ],
            [
             0.4,
             "#fde0ef"
            ],
            [
             0.5,
             "#f7f7f7"
            ],
            [
             0.6,
             "#e6f5d0"
            ],
            [
             0.7,
             "#b8e186"
            ],
            [
             0.8,
             "#7fbc41"
            ],
            [
             0.9,
             "#4d9221"
            ],
            [
             1,
             "#276419"
            ]
           ],
           "sequential": [
            [
             0,
             "#0d0887"
            ],
            [
             0.1111111111111111,
             "#46039f"
            ],
            [
             0.2222222222222222,
             "#7201a8"
            ],
            [
             0.3333333333333333,
             "#9c179e"
            ],
            [
             0.4444444444444444,
             "#bd3786"
            ],
            [
             0.5555555555555556,
             "#d8576b"
            ],
            [
             0.6666666666666666,
             "#ed7953"
            ],
            [
             0.7777777777777778,
             "#fb9f3a"
            ],
            [
             0.8888888888888888,
             "#fdca26"
            ],
            [
             1,
             "#f0f921"
            ]
           ],
           "sequentialminus": [
            [
             0,
             "#0d0887"
            ],
            [
             0.1111111111111111,
             "#46039f"
            ],
            [
             0.2222222222222222,
             "#7201a8"
            ],
            [
             0.3333333333333333,
             "#9c179e"
            ],
            [
             0.4444444444444444,
             "#bd3786"
            ],
            [
             0.5555555555555556,
             "#d8576b"
            ],
            [
             0.6666666666666666,
             "#ed7953"
            ],
            [
             0.7777777777777778,
             "#fb9f3a"
            ],
            [
             0.8888888888888888,
             "#fdca26"
            ],
            [
             1,
             "#f0f921"
            ]
           ]
          },
          "colorway": [
           "#636efa",
           "#EF553B",
           "#00cc96",
           "#ab63fa",
           "#FFA15A",
           "#19d3f3",
           "#FF6692",
           "#B6E880",
           "#FF97FF",
           "#FECB52"
          ],
          "font": {
           "color": "#2a3f5f"
          },
          "geo": {
           "bgcolor": "white",
           "lakecolor": "white",
           "landcolor": "#E5ECF6",
           "showlakes": true,
           "showland": true,
           "subunitcolor": "white"
          },
          "hoverlabel": {
           "align": "left"
          },
          "hovermode": "closest",
          "mapbox": {
           "style": "light"
          },
          "paper_bgcolor": "white",
          "plot_bgcolor": "#E5ECF6",
          "polar": {
           "angularaxis": {
            "gridcolor": "white",
            "linecolor": "white",
            "ticks": ""
           },
           "bgcolor": "#E5ECF6",
           "radialaxis": {
            "gridcolor": "white",
            "linecolor": "white",
            "ticks": ""
           }
          },
          "scene": {
           "xaxis": {
            "backgroundcolor": "#E5ECF6",
            "gridcolor": "white",
            "gridwidth": 2,
            "linecolor": "white",
            "showbackground": true,
            "ticks": "",
            "zerolinecolor": "white"
           },
           "yaxis": {
            "backgroundcolor": "#E5ECF6",
            "gridcolor": "white",
            "gridwidth": 2,
            "linecolor": "white",
            "showbackground": true,
            "ticks": "",
            "zerolinecolor": "white"
           },
           "zaxis": {
            "backgroundcolor": "#E5ECF6",
            "gridcolor": "white",
            "gridwidth": 2,
            "linecolor": "white",
            "showbackground": true,
            "ticks": "",
            "zerolinecolor": "white"
           }
          },
          "shapedefaults": {
           "line": {
            "color": "#2a3f5f"
           }
          },
          "ternary": {
           "aaxis": {
            "gridcolor": "white",
            "linecolor": "white",
            "ticks": ""
           },
           "baxis": {
            "gridcolor": "white",
            "linecolor": "white",
            "ticks": ""
           },
           "bgcolor": "#E5ECF6",
           "caxis": {
            "gridcolor": "white",
            "linecolor": "white",
            "ticks": ""
           }
          },
          "title": {
           "x": 0.05
          },
          "xaxis": {
           "automargin": true,
           "gridcolor": "white",
           "linecolor": "white",
           "ticks": "",
           "zerolinecolor": "white",
           "zerolinewidth": 2
          },
          "yaxis": {
           "automargin": true,
           "gridcolor": "white",
           "linecolor": "white",
           "ticks": "",
           "zerolinecolor": "white",
           "zerolinewidth": 2
          }
         }
        },
        "title": {
         "text": "Meta2 prediction value of testset of Group 1"
        }
       }
      },
      "text/html": [
       "<div>\n",
       "        \n",
       "        \n",
       "            <div id=\"afc8c1a8-6fe2-49de-a94a-ca206e641041\" class=\"plotly-graph-div\" style=\"height:525px; width:100%;\"></div>\n",
       "            <script type=\"text/javascript\">\n",
       "                require([\"plotly\"], function(Plotly) {\n",
       "                    window.PLOTLYENV=window.PLOTLYENV || {};\n",
       "                    \n",
       "                if (document.getElementById(\"afc8c1a8-6fe2-49de-a94a-ca206e641041\")) {\n",
       "                    Plotly.newPlot(\n",
       "                        'afc8c1a8-6fe2-49de-a94a-ca206e641041',\n",
       "                        [{\"marker\": {\"color\": [921577.9610763008, 25715475.92970141, 32282283.592234325, 136708.0080429491, 86119.5495008298, 87244.72577143519, 36643628.51081153, 215664.4846509973, 4455114.745304524, 1136014.5989655235, 11077067.167117007, 292968.6880798347, 2698801.960920226, 66090575.53583988, 118217018.63820322, 128933.95451614536, 176913.79727033453, 952113.5789065374, 1725445.5011473438, 147767.3457516673, 3460994.3915044293, 633458.9474579021, 126800.44015499305, 20053185.85164632, 2861135.3883038387, 3976279.998911803, 1125124.6780559672, 7517990.473316759, 12802290.48961166, 38868631.62800014, 12348493.86050079, 514254.0854478822, 76926230.63037628, 84356837.3220537, 58177598.73149469, 15412452.665154286, 2077177.801683264, 2060024.6942377854, 549006.0123991276, 529027.8204141003, 316455.4471072418, 671442.3343874295, 884753.5130201881, 1346188.5899206472, 1118293.4103186154, 307235.0302880103, 766478.8164102215, 188359.22907326906, 715231.1407305194, 10592945.66190108, 670415.3916715266, 78979288.2199617, 8361040.415016453, 707307.289146892, 1210179.3654196227, 1447745.2330016196, 2092697.13731944, 1725307.6416482504, 2353266.3863062127, 1785687.2246367037, 2251276.551666716, 1963102.9085741662, 381085.2579516514, 1027965.5514220372, 7930051.5768843675, 465768.6403371108, 1313192.8562229723, 277651.1873250593, 2647225.5838018474, 227161.13604653144, 369829.7836244853, 5840434.550010181, 612633.7353621839, 1150783.4299445988, 777805.2942541176, 895917.8424593435, 533859.1636539166, 610058.5364504308, 1410464.3179150603, 506667.0558525343, 281041.76792149537, 1003235.2698837072, 624173.2849176091, 365346.8767431213, 476922.9791050996, 937525.6651409405, 285101.5364520108, 1255135.4532474962, 208276.6380076961, 270271.3178109371, 402942.5211417086, 663831.1360552226, 1881457.829798112, 6996984.118100868, 121329303.20852692, 142155705.55118683, 214506.93181097927, 1239530.4800469114, 533984.3165808679, 43015756.85207342, 533984.3165808679, 6039431.075704683]}, \"mode\": \"markers\", \"text\": [\"O Brother, Where Art Thou?\", \"The Twilight Saga: Breaking Dawn Part 1\", \"The Twilight Saga: Breaking Dawn Part 2\", \"Helena From the Wedding\", \"Monsters\", \"Catfish\", \"Red\", \"Freakonomics\", \"The Warrior's Way\", \"Stone\", \"Frankenweenie\", \"John Carter\", \"Dolphin Tale\", \"Penguins of Madagascar\", \"Minions\", \"Proud American\", \"Edmond\", \"Tootsie\", \"Waterworld\", \"The Lion King (2019)\", \"Crawl\", \"Stuber\", \"Midsommar\", \"Spider-Man: Far from Home\", \"Yesterday\", \"Annabelle Comes Home\", \"Toy Story 4\", \"Child's Play (2019)\", \"Anna (2019)\", \"Men in Black International\", \"Shaft (2019)\\u00a0\", \"Late Night\", \"The Secret Life of Pets 2\", \"Dark Phoenix\", \"Godzilla:King of the Monsters\", \"Rocketman\", \"Return of the Jedi\", \"Indiana Jones and the Temple of Doom\", \"The Idolmaker\", \"The Grass Harp\", \"The Grand\", \"Jaws\", \"Superman (1978)\", \"Clerks\", \"Juice\", \"He Got Game\", \"White Men Can't Jump\", \"Mulholland Drive\", \"Blue Velvet\", \"Once Upon a Time in Hollywood\", \"The Big Lebowski\", \"Train to Busan\", \"Pride and Prejudice and Zombies\", \"Dead Poets Society\", \"A Fish Called Wanda\", \"The Witches of Eastwick\", \"Ferris Bueller's Day Off\", \"Back to the Future\", \"Police Academy\", \"Trading Places\", \"Star Trek II The Wrath of Khan\", \"The Blues Brothers\", \"V For Vendetta\", \"In the Line of Fire\", \"Us\", \"The Forbidden Kingdom\", \"Rumble in the Bronx\", \"Machete\", \"Beverly Hills Cop\", \"Watchmen\", \"Jackie Brown\", \"Zombieland\", \"Mo Better Blues\", \"Thelma and Louise\", \"New Jack City\", \"The Lawnmower Man\", \"Schindler's List\", \"Four Weddings and a Funeral\", \"Get Shorty\", \"Jerry Maguire\", \"Welcome to Sarajevo\", \"Trojan War\", \"The Gingerbread Man\", \"Tumbleweeds\", \"Turn it up\", \"The Adventures of Pluto Nash\", \"The Lord of the Rings: The Return of the King\", \"Harry Potter and the Prisoner of Azkaban\", \"Stay\", \"Fast Food Nation\", \"Into the Wild\", \"The Wrestler\", \"Slumdog Millionaire\", \"Jackass 3-D\", \"Skyfall\", \"The Hunger Games: Mocking Jay - Part 1\", \"Jurassic World\", \"Shut In\", \"Molly's Game\", \"Peter Rabbit\", \"BlacKkKlansman\", \"Replicas\"], \"type\": \"scatter\", \"x\": [\"O Brother, Where Art Thou?\", \"The Twilight Saga: Breaking Dawn Part 1\", \"The Twilight Saga: Breaking Dawn Part 2\", \"Helena From the Wedding\", \"Monsters\", \"Catfish\", \"Red\", \"Freakonomics\", \"The Warrior's Way\", \"Stone\", \"Frankenweenie\", \"John Carter\", \"Dolphin Tale\", \"Penguins of Madagascar\", \"Minions\", \"Proud American\", \"Edmond\", \"Tootsie\", \"Waterworld\", \"The Lion King (2019)\", \"Crawl\", \"Stuber\", \"Midsommar\", \"Spider-Man: Far from Home\", \"Yesterday\", \"Annabelle Comes Home\", \"Toy Story 4\", \"Child's Play (2019)\", \"Anna (2019)\", \"Men in Black International\", \"Shaft (2019)\\u00a0\", \"Late Night\", \"The Secret Life of Pets 2\", \"Dark Phoenix\", \"Godzilla:King of the Monsters\", \"Rocketman\", \"Return of the Jedi\", \"Indiana Jones and the Temple of Doom\", \"The Idolmaker\", \"The Grass Harp\", \"The Grand\", \"Jaws\", \"Superman (1978)\", \"Clerks\", \"Juice\", \"He Got Game\", \"White Men Can't Jump\", \"Mulholland Drive\", \"Blue Velvet\", \"Once Upon a Time in Hollywood\", \"The Big Lebowski\", \"Train to Busan\", \"Pride and Prejudice and Zombies\", \"Dead Poets Society\", \"A Fish Called Wanda\", \"The Witches of Eastwick\", \"Ferris Bueller's Day Off\", \"Back to the Future\", \"Police Academy\", \"Trading Places\", \"Star Trek II The Wrath of Khan\", \"The Blues Brothers\", \"V For Vendetta\", \"In the Line of Fire\", \"Us\", \"The Forbidden Kingdom\", \"Rumble in the Bronx\", \"Machete\", \"Beverly Hills Cop\", \"Watchmen\", \"Jackie Brown\", \"Zombieland\", \"Mo Better Blues\", \"Thelma and Louise\", \"New Jack City\", \"The Lawnmower Man\", \"Schindler's List\", \"Four Weddings and a Funeral\", \"Get Shorty\", \"Jerry Maguire\", \"Welcome to Sarajevo\", \"Trojan War\", \"The Gingerbread Man\", \"Tumbleweeds\", \"Turn it up\", \"The Adventures of Pluto Nash\", \"The Lord of the Rings: The Return of the King\", \"Harry Potter and the Prisoner of Azkaban\", \"Stay\", \"Fast Food Nation\", \"Into the Wild\", \"The Wrestler\", \"Slumdog Millionaire\", \"Jackass 3-D\", \"Skyfall\", \"The Hunger Games: Mocking Jay - Part 1\", \"Jurassic World\", \"Shut In\", \"Molly's Game\", \"Peter Rabbit\", \"BlacKkKlansman\", \"Replicas\"], \"y\": [921577.9610763008, 25715475.92970141, 32282283.592234325, 136708.0080429491, 86119.5495008298, 87244.72577143519, 36643628.51081153, 215664.4846509973, 4455114.745304524, 1136014.5989655235, 11077067.167117007, 292968.6880798347, 2698801.960920226, 66090575.53583988, 118217018.63820322, 128933.95451614536, 176913.79727033453, 952113.5789065374, 1725445.5011473438, 147767.3457516673, 3460994.3915044293, 633458.9474579021, 126800.44015499305, 20053185.85164632, 2861135.3883038387, 3976279.998911803, 1125124.6780559672, 7517990.473316759, 12802290.48961166, 38868631.62800014, 12348493.86050079, 514254.0854478822, 76926230.63037628, 84356837.3220537, 58177598.73149469, 15412452.665154286, 2077177.801683264, 2060024.6942377854, 549006.0123991276, 529027.8204141003, 316455.4471072418, 671442.3343874295, 884753.5130201881, 1346188.5899206472, 1118293.4103186154, 307235.0302880103, 766478.8164102215, 188359.22907326906, 715231.1407305194, 10592945.66190108, 670415.3916715266, 78979288.2199617, 8361040.415016453, 707307.289146892, 1210179.3654196227, 1447745.2330016196, 2092697.13731944, 1725307.6416482504, 2353266.3863062127, 1785687.2246367037, 2251276.551666716, 1963102.9085741662, 381085.2579516514, 1027965.5514220372, 7930051.5768843675, 465768.6403371108, 1313192.8562229723, 277651.1873250593, 2647225.5838018474, 227161.13604653144, 369829.7836244853, 5840434.550010181, 612633.7353621839, 1150783.4299445988, 777805.2942541176, 895917.8424593435, 533859.1636539166, 610058.5364504308, 1410464.3179150603, 506667.0558525343, 281041.76792149537, 1003235.2698837072, 624173.2849176091, 365346.8767431213, 476922.9791050996, 937525.6651409405, 285101.5364520108, 1255135.4532474962, 208276.6380076961, 270271.3178109371, 402942.5211417086, 663831.1360552226, 1881457.829798112, 6996984.118100868, 121329303.20852692, 142155705.55118683, 214506.93181097927, 1239530.4800469114, 533984.3165808679, 43015756.85207342, 533984.3165808679, 6039431.075704683]}],\n",
       "                        {\"template\": {\"data\": {\"bar\": [{\"error_x\": {\"color\": \"#2a3f5f\"}, \"error_y\": {\"color\": \"#2a3f5f\"}, \"marker\": {\"line\": {\"color\": \"#E5ECF6\", \"width\": 0.5}}, \"type\": \"bar\"}], \"barpolar\": [{\"marker\": {\"line\": {\"color\": \"#E5ECF6\", \"width\": 0.5}}, \"type\": \"barpolar\"}], \"carpet\": [{\"aaxis\": {\"endlinecolor\": \"#2a3f5f\", \"gridcolor\": \"white\", \"linecolor\": \"white\", \"minorgridcolor\": \"white\", \"startlinecolor\": \"#2a3f5f\"}, \"baxis\": {\"endlinecolor\": \"#2a3f5f\", \"gridcolor\": \"white\", \"linecolor\": \"white\", \"minorgridcolor\": \"white\", \"startlinecolor\": \"#2a3f5f\"}, \"type\": \"carpet\"}], \"choropleth\": [{\"colorbar\": {\"outlinewidth\": 0, \"ticks\": \"\"}, \"type\": \"choropleth\"}], \"contour\": [{\"colorbar\": {\"outlinewidth\": 0, \"ticks\": \"\"}, \"colorscale\": [[0.0, \"#0d0887\"], [0.1111111111111111, \"#46039f\"], [0.2222222222222222, \"#7201a8\"], [0.3333333333333333, \"#9c179e\"], [0.4444444444444444, \"#bd3786\"], [0.5555555555555556, \"#d8576b\"], [0.6666666666666666, \"#ed7953\"], [0.7777777777777778, \"#fb9f3a\"], [0.8888888888888888, \"#fdca26\"], [1.0, \"#f0f921\"]], \"type\": \"contour\"}], \"contourcarpet\": [{\"colorbar\": {\"outlinewidth\": 0, \"ticks\": \"\"}, \"type\": \"contourcarpet\"}], \"heatmap\": [{\"colorbar\": {\"outlinewidth\": 0, \"ticks\": \"\"}, \"colorscale\": [[0.0, \"#0d0887\"], [0.1111111111111111, \"#46039f\"], [0.2222222222222222, \"#7201a8\"], [0.3333333333333333, \"#9c179e\"], [0.4444444444444444, \"#bd3786\"], [0.5555555555555556, \"#d8576b\"], [0.6666666666666666, \"#ed7953\"], [0.7777777777777778, \"#fb9f3a\"], [0.8888888888888888, \"#fdca26\"], [1.0, \"#f0f921\"]], \"type\": \"heatmap\"}], \"heatmapgl\": [{\"colorbar\": {\"outlinewidth\": 0, \"ticks\": \"\"}, \"colorscale\": [[0.0, \"#0d0887\"], [0.1111111111111111, \"#46039f\"], [0.2222222222222222, \"#7201a8\"], [0.3333333333333333, \"#9c179e\"], [0.4444444444444444, \"#bd3786\"], [0.5555555555555556, \"#d8576b\"], [0.6666666666666666, \"#ed7953\"], [0.7777777777777778, \"#fb9f3a\"], [0.8888888888888888, \"#fdca26\"], [1.0, \"#f0f921\"]], \"type\": \"heatmapgl\"}], \"histogram\": [{\"marker\": {\"colorbar\": {\"outlinewidth\": 0, \"ticks\": \"\"}}, \"type\": \"histogram\"}], \"histogram2d\": [{\"colorbar\": {\"outlinewidth\": 0, \"ticks\": \"\"}, \"colorscale\": [[0.0, \"#0d0887\"], [0.1111111111111111, \"#46039f\"], [0.2222222222222222, \"#7201a8\"], [0.3333333333333333, \"#9c179e\"], [0.4444444444444444, \"#bd3786\"], [0.5555555555555556, \"#d8576b\"], [0.6666666666666666, \"#ed7953\"], [0.7777777777777778, \"#fb9f3a\"], [0.8888888888888888, \"#fdca26\"], [1.0, \"#f0f921\"]], \"type\": \"histogram2d\"}], \"histogram2dcontour\": [{\"colorbar\": {\"outlinewidth\": 0, \"ticks\": \"\"}, \"colorscale\": [[0.0, \"#0d0887\"], [0.1111111111111111, \"#46039f\"], [0.2222222222222222, \"#7201a8\"], [0.3333333333333333, \"#9c179e\"], [0.4444444444444444, \"#bd3786\"], [0.5555555555555556, \"#d8576b\"], [0.6666666666666666, \"#ed7953\"], [0.7777777777777778, \"#fb9f3a\"], [0.8888888888888888, \"#fdca26\"], [1.0, \"#f0f921\"]], \"type\": \"histogram2dcontour\"}], \"mesh3d\": [{\"colorbar\": {\"outlinewidth\": 0, \"ticks\": \"\"}, \"type\": \"mesh3d\"}], \"parcoords\": [{\"line\": {\"colorbar\": {\"outlinewidth\": 0, \"ticks\": \"\"}}, \"type\": \"parcoords\"}], \"scatter\": [{\"marker\": {\"colorbar\": {\"outlinewidth\": 0, \"ticks\": \"\"}}, \"type\": \"scatter\"}], \"scatter3d\": [{\"line\": {\"colorbar\": {\"outlinewidth\": 0, \"ticks\": \"\"}}, \"marker\": {\"colorbar\": {\"outlinewidth\": 0, \"ticks\": \"\"}}, \"type\": \"scatter3d\"}], \"scattercarpet\": [{\"marker\": {\"colorbar\": {\"outlinewidth\": 0, \"ticks\": \"\"}}, \"type\": \"scattercarpet\"}], \"scattergeo\": [{\"marker\": {\"colorbar\": {\"outlinewidth\": 0, \"ticks\": \"\"}}, \"type\": \"scattergeo\"}], \"scattergl\": [{\"marker\": {\"colorbar\": {\"outlinewidth\": 0, \"ticks\": \"\"}}, \"type\": \"scattergl\"}], \"scattermapbox\": [{\"marker\": {\"colorbar\": {\"outlinewidth\": 0, \"ticks\": \"\"}}, \"type\": \"scattermapbox\"}], \"scatterpolar\": [{\"marker\": {\"colorbar\": {\"outlinewidth\": 0, \"ticks\": \"\"}}, \"type\": \"scatterpolar\"}], \"scatterpolargl\": [{\"marker\": {\"colorbar\": {\"outlinewidth\": 0, \"ticks\": \"\"}}, \"type\": \"scatterpolargl\"}], \"scatterternary\": [{\"marker\": {\"colorbar\": {\"outlinewidth\": 0, \"ticks\": \"\"}}, \"type\": \"scatterternary\"}], \"surface\": [{\"colorbar\": {\"outlinewidth\": 0, \"ticks\": \"\"}, \"colorscale\": [[0.0, \"#0d0887\"], [0.1111111111111111, \"#46039f\"], [0.2222222222222222, \"#7201a8\"], [0.3333333333333333, \"#9c179e\"], [0.4444444444444444, \"#bd3786\"], [0.5555555555555556, \"#d8576b\"], [0.6666666666666666, \"#ed7953\"], [0.7777777777777778, \"#fb9f3a\"], [0.8888888888888888, \"#fdca26\"], [1.0, \"#f0f921\"]], \"type\": \"surface\"}], \"table\": [{\"cells\": {\"fill\": {\"color\": \"#EBF0F8\"}, \"line\": {\"color\": \"white\"}}, \"header\": {\"fill\": {\"color\": \"#C8D4E3\"}, \"line\": {\"color\": \"white\"}}, \"type\": \"table\"}]}, \"layout\": {\"annotationdefaults\": {\"arrowcolor\": \"#2a3f5f\", \"arrowhead\": 0, \"arrowwidth\": 1}, \"colorscale\": {\"diverging\": [[0, \"#8e0152\"], [0.1, \"#c51b7d\"], [0.2, \"#de77ae\"], [0.3, \"#f1b6da\"], [0.4, \"#fde0ef\"], [0.5, \"#f7f7f7\"], [0.6, \"#e6f5d0\"], [0.7, \"#b8e186\"], [0.8, \"#7fbc41\"], [0.9, \"#4d9221\"], [1, \"#276419\"]], \"sequential\": [[0.0, \"#0d0887\"], [0.1111111111111111, \"#46039f\"], [0.2222222222222222, \"#7201a8\"], [0.3333333333333333, \"#9c179e\"], [0.4444444444444444, \"#bd3786\"], [0.5555555555555556, \"#d8576b\"], [0.6666666666666666, \"#ed7953\"], [0.7777777777777778, \"#fb9f3a\"], [0.8888888888888888, \"#fdca26\"], [1.0, \"#f0f921\"]], \"sequentialminus\": [[0.0, \"#0d0887\"], [0.1111111111111111, \"#46039f\"], [0.2222222222222222, \"#7201a8\"], [0.3333333333333333, \"#9c179e\"], [0.4444444444444444, \"#bd3786\"], [0.5555555555555556, \"#d8576b\"], [0.6666666666666666, \"#ed7953\"], [0.7777777777777778, \"#fb9f3a\"], [0.8888888888888888, \"#fdca26\"], [1.0, \"#f0f921\"]]}, \"colorway\": [\"#636efa\", \"#EF553B\", \"#00cc96\", \"#ab63fa\", \"#FFA15A\", \"#19d3f3\", \"#FF6692\", \"#B6E880\", \"#FF97FF\", \"#FECB52\"], \"font\": {\"color\": \"#2a3f5f\"}, \"geo\": {\"bgcolor\": \"white\", \"lakecolor\": \"white\", \"landcolor\": \"#E5ECF6\", \"showlakes\": true, \"showland\": true, \"subunitcolor\": \"white\"}, \"hoverlabel\": {\"align\": \"left\"}, \"hovermode\": \"closest\", \"mapbox\": {\"style\": \"light\"}, \"paper_bgcolor\": \"white\", \"plot_bgcolor\": \"#E5ECF6\", \"polar\": {\"angularaxis\": {\"gridcolor\": \"white\", \"linecolor\": \"white\", \"ticks\": \"\"}, \"bgcolor\": \"#E5ECF6\", \"radialaxis\": {\"gridcolor\": \"white\", \"linecolor\": \"white\", \"ticks\": \"\"}}, \"scene\": {\"xaxis\": {\"backgroundcolor\": \"#E5ECF6\", \"gridcolor\": \"white\", \"gridwidth\": 2, \"linecolor\": \"white\", \"showbackground\": true, \"ticks\": \"\", \"zerolinecolor\": \"white\"}, \"yaxis\": {\"backgroundcolor\": \"#E5ECF6\", \"gridcolor\": \"white\", \"gridwidth\": 2, \"linecolor\": \"white\", \"showbackground\": true, \"ticks\": \"\", \"zerolinecolor\": \"white\"}, \"zaxis\": {\"backgroundcolor\": \"#E5ECF6\", \"gridcolor\": \"white\", \"gridwidth\": 2, \"linecolor\": \"white\", \"showbackground\": true, \"ticks\": \"\", \"zerolinecolor\": \"white\"}}, \"shapedefaults\": {\"line\": {\"color\": \"#2a3f5f\"}}, \"ternary\": {\"aaxis\": {\"gridcolor\": \"white\", \"linecolor\": \"white\", \"ticks\": \"\"}, \"baxis\": {\"gridcolor\": \"white\", \"linecolor\": \"white\", \"ticks\": \"\"}, \"bgcolor\": \"#E5ECF6\", \"caxis\": {\"gridcolor\": \"white\", \"linecolor\": \"white\", \"ticks\": \"\"}}, \"title\": {\"x\": 0.05}, \"xaxis\": {\"automargin\": true, \"gridcolor\": \"white\", \"linecolor\": \"white\", \"ticks\": \"\", \"zerolinecolor\": \"white\", \"zerolinewidth\": 2}, \"yaxis\": {\"automargin\": true, \"gridcolor\": \"white\", \"linecolor\": \"white\", \"ticks\": \"\", \"zerolinecolor\": \"white\", \"zerolinewidth\": 2}}}, \"title\": {\"text\": \"Meta2 prediction value of testset of Group 1\"}},\n",
       "                        {\"responsive\": true}\n",
       "                    ).then(function(){\n",
       "                            \n",
       "var gd = document.getElementById('afc8c1a8-6fe2-49de-a94a-ca206e641041');\n",
       "var x = new MutationObserver(function (mutations, observer) {{\n",
       "        var display = window.getComputedStyle(gd).display;\n",
       "        if (!display || display === 'none') {{\n",
       "            console.log([gd, 'removed!']);\n",
       "            Plotly.purge(gd);\n",
       "            observer.disconnect();\n",
       "        }}\n",
       "}});\n",
       "\n",
       "// Listen for the removal of the full notebook cells\n",
       "var notebookContainer = gd.closest('#notebook-container');\n",
       "if (notebookContainer) {{\n",
       "    x.observe(notebookContainer, {childList: true});\n",
       "}}\n",
       "\n",
       "// Listen for the clearing of the current output cell\n",
       "var outputEl = gd.closest('.output');\n",
       "if (outputEl) {{\n",
       "    x.observe(outputEl, {childList: true});\n",
       "}}\n",
       "\n",
       "                        })\n",
       "                };\n",
       "                });\n",
       "            </script>\n",
       "        </div>"
      ]
     },
     "metadata": {},
     "output_type": "display_data"
    }
   ],
   "source": [
    "#Meta2 prediction value of testset\n",
    "fig = go.Figure(data=go.Scatter(x=g1_result_final[\"name\"],\n",
    "                                y=g1_result_final[\"pred_meta_2\"],\n",
    "                                mode='markers',\n",
    "                                marker_color=g1_result_final[\"pred_meta_2\"],\n",
    "                                text=g1_result_final[\"name\"])) # hover text goes here(movie_title)\n",
    "\n",
    "fig.update_layout(title='Meta2 prediction value of testset of Group 1')\n",
    "fig.show()"
   ]
  },
  {
   "cell_type": "code",
   "execution_count": 29,
   "metadata": {},
   "outputs": [
    {
     "data": {
      "application/vnd.plotly.v1+json": {
       "config": {
        "plotlyServerURL": "https://plot.ly"
       },
       "data": [
        {
         "marker": {
          "color": [
           5.92252210680594,
           4.411368079251026,
           4.358191578006103,
           8.513045881382155,
           5.7712276664437105,
           4.206038580269481,
           4.23971584972132,
           6.358210656905741,
           3.8529797400846477,
           7.244493580496374,
           1.370350318287613,
           4.605462824970826,
           4.464859363185369,
           5.079626407992803,
           1.1503248043811471,
           3.5610449742285732,
           6.709169586707154,
           4.428615475615228,
           4.530988063705888,
           4.614357313209085,
           4.2790368719269924,
           4.535806506561288,
           4.595797149005278,
           4.373735219477454,
           4.432954222188313,
           4.399168319286226,
           4.605864323610885,
           3.864102291710994,
           5.547344154381922,
           3.4146897886829337,
           3.681980812180111,
           4.698546803397739,
           4.188007068243357,
           5.062363324705624,
           3.125481268662044,
           3.7157484531936693,
           4.52153298818569,
           4.531195665844795,
           4.296262935722122,
           5.865161769210792,
           7.00551620163804,
           4.5162463239656185,
           4.4903037609016865,
           8.331428662696347,
           4.467858622504437,
           4.574330469956012,
           4.562156219288815,
           4.233291968945995,
           2.3414819144233276,
           4.320352383992087,
           4.487345393561029,
           10.226832168144295,
           4.061085154389235,
           4.689078541335145,
           6.855955272314836,
           4.4506989288435355,
           4.214401796317248,
           4.448865525578863,
           4.297838605059627,
           4.339888467739455,
           4.446275538388852,
           4.10415578863344,
           4.600296766892178,
           4.546139680939997,
           4.498134783864416,
           4.5933366959253075,
           4.4736872704997594,
           4.595435415375083,
           4.426055351090082,
           4.611038762528161,
           4.574917329917673,
           4.34880863759544,
           4.466326334386222,
           4.408409381758493,
           4.49926547882885,
           4.493598298022063,
           2.980509662977632,
           5.833406262008404,
           4.498631063491841,
           4.585317531512107,
           5.771337622837493,
           13.043799277931525,
           6.060797366111037,
           5.879170057413251,
           2.9079157292876032,
           4.061328291739867,
           4.611226398202223,
           4.601767340990735,
           4.516140304764196,
           3.5613068605248173,
           4.50726585750508,
           5.431412684223499,
           6.048792080418438,
           4.467106405634736,
           3.6455843549643117,
           2.8689733840033464,
           4.614102869312282,
           4.200173005902483,
           4.015294098546431,
           4.290292962636008,
           4.5651433581238114,
           5.045082076935702
          ]
         },
         "mode": "markers",
         "text": [
          "O Brother, Where Art Thou?",
          "The Twilight Saga: Breaking Dawn Part 1",
          "The Twilight Saga: Breaking Dawn Part 2",
          "Helena From the Wedding",
          "Monsters",
          "Catfish",
          "Red",
          "Freakonomics",
          "The Warrior's Way",
          "Stone",
          "Frankenweenie",
          "John Carter",
          "Dolphin Tale",
          "Penguins of Madagascar",
          "Minions",
          "Proud American",
          "Edmond",
          "Tootsie",
          "Waterworld",
          "The Lion King (2019)",
          "Crawl",
          "Stuber",
          "Midsommar",
          "Spider-Man: Far from Home",
          "Yesterday",
          "Annabelle Comes Home",
          "Toy Story 4",
          "Child's Play (2019)",
          "Anna (2019)",
          "Men in Black International",
          "Shaft (2019) ",
          "Late Night",
          "The Secret Life of Pets 2",
          "Dark Phoenix",
          "Godzilla:King of the Monsters",
          "Rocketman",
          "Return of the Jedi",
          "Indiana Jones and the Temple of Doom",
          "The Idolmaker",
          "The Grass Harp",
          "The Grand",
          "Jaws",
          "Superman (1978)",
          "Clerks",
          "Juice",
          "He Got Game",
          "White Men Can't Jump",
          "Mulholland Drive",
          "Blue Velvet",
          "Once Upon a Time in Hollywood",
          "The Big Lebowski",
          "Train to Busan",
          "Pride and Prejudice and Zombies",
          "Dead Poets Society",
          "A Fish Called Wanda",
          "The Witches of Eastwick",
          "Ferris Bueller's Day Off",
          "Back to the Future",
          "Police Academy",
          "Trading Places",
          "Star Trek II The Wrath of Khan",
          "The Blues Brothers",
          "V For Vendetta",
          "In the Line of Fire",
          "Us",
          "The Forbidden Kingdom",
          "Rumble in the Bronx",
          "Machete",
          "Beverly Hills Cop",
          "Watchmen",
          "Jackie Brown",
          "Zombieland",
          "Mo Better Blues",
          "Thelma and Louise",
          "New Jack City",
          "The Lawnmower Man",
          "Schindler's List",
          "Four Weddings and a Funeral",
          "Get Shorty",
          "Jerry Maguire",
          "Welcome to Sarajevo",
          "Trojan War",
          "The Gingerbread Man",
          "Tumbleweeds",
          "Turn it up",
          "The Adventures of Pluto Nash",
          "The Lord of the Rings: The Return of the King",
          "Harry Potter and the Prisoner of Azkaban",
          "Stay",
          "Fast Food Nation",
          "Into the Wild",
          "The Wrestler",
          "Slumdog Millionaire",
          "Jackass 3-D",
          "Skyfall",
          "The Hunger Games: Mocking Jay - Part 1",
          "Jurassic World",
          "Shut In",
          "Molly's Game",
          "Peter Rabbit",
          "BlacKkKlansman",
          "Replicas"
         ],
         "type": "scatter",
         "x": [
          "O Brother, Where Art Thou?",
          "The Twilight Saga: Breaking Dawn Part 1",
          "The Twilight Saga: Breaking Dawn Part 2",
          "Helena From the Wedding",
          "Monsters",
          "Catfish",
          "Red",
          "Freakonomics",
          "The Warrior's Way",
          "Stone",
          "Frankenweenie",
          "John Carter",
          "Dolphin Tale",
          "Penguins of Madagascar",
          "Minions",
          "Proud American",
          "Edmond",
          "Tootsie",
          "Waterworld",
          "The Lion King (2019)",
          "Crawl",
          "Stuber",
          "Midsommar",
          "Spider-Man: Far from Home",
          "Yesterday",
          "Annabelle Comes Home",
          "Toy Story 4",
          "Child's Play (2019)",
          "Anna (2019)",
          "Men in Black International",
          "Shaft (2019) ",
          "Late Night",
          "The Secret Life of Pets 2",
          "Dark Phoenix",
          "Godzilla:King of the Monsters",
          "Rocketman",
          "Return of the Jedi",
          "Indiana Jones and the Temple of Doom",
          "The Idolmaker",
          "The Grass Harp",
          "The Grand",
          "Jaws",
          "Superman (1978)",
          "Clerks",
          "Juice",
          "He Got Game",
          "White Men Can't Jump",
          "Mulholland Drive",
          "Blue Velvet",
          "Once Upon a Time in Hollywood",
          "The Big Lebowski",
          "Train to Busan",
          "Pride and Prejudice and Zombies",
          "Dead Poets Society",
          "A Fish Called Wanda",
          "The Witches of Eastwick",
          "Ferris Bueller's Day Off",
          "Back to the Future",
          "Police Academy",
          "Trading Places",
          "Star Trek II The Wrath of Khan",
          "The Blues Brothers",
          "V For Vendetta",
          "In the Line of Fire",
          "Us",
          "The Forbidden Kingdom",
          "Rumble in the Bronx",
          "Machete",
          "Beverly Hills Cop",
          "Watchmen",
          "Jackie Brown",
          "Zombieland",
          "Mo Better Blues",
          "Thelma and Louise",
          "New Jack City",
          "The Lawnmower Man",
          "Schindler's List",
          "Four Weddings and a Funeral",
          "Get Shorty",
          "Jerry Maguire",
          "Welcome to Sarajevo",
          "Trojan War",
          "The Gingerbread Man",
          "Tumbleweeds",
          "Turn it up",
          "The Adventures of Pluto Nash",
          "The Lord of the Rings: The Return of the King",
          "Harry Potter and the Prisoner of Azkaban",
          "Stay",
          "Fast Food Nation",
          "Into the Wild",
          "The Wrestler",
          "Slumdog Millionaire",
          "Jackass 3-D",
          "Skyfall",
          "The Hunger Games: Mocking Jay - Part 1",
          "Jurassic World",
          "Shut In",
          "Molly's Game",
          "Peter Rabbit",
          "BlacKkKlansman",
          "Replicas"
         ],
         "y": [
          5.92252210680594,
          4.411368079251026,
          4.358191578006103,
          8.513045881382155,
          5.7712276664437105,
          4.206038580269481,
          4.23971584972132,
          6.358210656905741,
          3.8529797400846477,
          7.244493580496374,
          1.370350318287613,
          4.605462824970826,
          4.464859363185369,
          5.079626407992803,
          1.1503248043811471,
          3.5610449742285732,
          6.709169586707154,
          4.428615475615228,
          4.530988063705888,
          4.614357313209085,
          4.2790368719269924,
          4.535806506561288,
          4.595797149005278,
          4.373735219477454,
          4.432954222188313,
          4.399168319286226,
          4.605864323610885,
          3.864102291710994,
          5.547344154381922,
          3.4146897886829337,
          3.681980812180111,
          4.698546803397739,
          4.188007068243357,
          5.062363324705624,
          3.125481268662044,
          3.7157484531936693,
          4.52153298818569,
          4.531195665844795,
          4.296262935722122,
          5.865161769210792,
          7.00551620163804,
          4.5162463239656185,
          4.4903037609016865,
          8.331428662696347,
          4.467858622504437,
          4.574330469956012,
          4.562156219288815,
          4.233291968945995,
          2.3414819144233276,
          4.320352383992087,
          4.487345393561029,
          10.226832168144295,
          4.061085154389235,
          4.689078541335145,
          6.855955272314836,
          4.4506989288435355,
          4.214401796317248,
          4.448865525578863,
          4.297838605059627,
          4.339888467739455,
          4.446275538388852,
          4.10415578863344,
          4.600296766892178,
          4.546139680939997,
          4.498134783864416,
          4.5933366959253075,
          4.4736872704997594,
          4.595435415375083,
          4.426055351090082,
          4.611038762528161,
          4.574917329917673,
          4.34880863759544,
          4.466326334386222,
          4.408409381758493,
          4.49926547882885,
          4.493598298022063,
          2.980509662977632,
          5.833406262008404,
          4.498631063491841,
          4.585317531512107,
          5.771337622837493,
          13.043799277931525,
          6.060797366111037,
          5.879170057413251,
          2.9079157292876032,
          4.061328291739867,
          4.611226398202223,
          4.601767340990735,
          4.516140304764196,
          3.5613068605248173,
          4.50726585750508,
          5.431412684223499,
          6.048792080418438,
          4.467106405634736,
          3.6455843549643117,
          2.8689733840033464,
          4.614102869312282,
          4.200173005902483,
          4.015294098546431,
          4.290292962636008,
          4.5651433581238114,
          5.045082076935702
         ]
        }
       ],
       "layout": {
        "template": {
         "data": {
          "bar": [
           {
            "error_x": {
             "color": "#2a3f5f"
            },
            "error_y": {
             "color": "#2a3f5f"
            },
            "marker": {
             "line": {
              "color": "#E5ECF6",
              "width": 0.5
             }
            },
            "type": "bar"
           }
          ],
          "barpolar": [
           {
            "marker": {
             "line": {
              "color": "#E5ECF6",
              "width": 0.5
             }
            },
            "type": "barpolar"
           }
          ],
          "carpet": [
           {
            "aaxis": {
             "endlinecolor": "#2a3f5f",
             "gridcolor": "white",
             "linecolor": "white",
             "minorgridcolor": "white",
             "startlinecolor": "#2a3f5f"
            },
            "baxis": {
             "endlinecolor": "#2a3f5f",
             "gridcolor": "white",
             "linecolor": "white",
             "minorgridcolor": "white",
             "startlinecolor": "#2a3f5f"
            },
            "type": "carpet"
           }
          ],
          "choropleth": [
           {
            "colorbar": {
             "outlinewidth": 0,
             "ticks": ""
            },
            "type": "choropleth"
           }
          ],
          "contour": [
           {
            "colorbar": {
             "outlinewidth": 0,
             "ticks": ""
            },
            "colorscale": [
             [
              0,
              "#0d0887"
             ],
             [
              0.1111111111111111,
              "#46039f"
             ],
             [
              0.2222222222222222,
              "#7201a8"
             ],
             [
              0.3333333333333333,
              "#9c179e"
             ],
             [
              0.4444444444444444,
              "#bd3786"
             ],
             [
              0.5555555555555556,
              "#d8576b"
             ],
             [
              0.6666666666666666,
              "#ed7953"
             ],
             [
              0.7777777777777778,
              "#fb9f3a"
             ],
             [
              0.8888888888888888,
              "#fdca26"
             ],
             [
              1,
              "#f0f921"
             ]
            ],
            "type": "contour"
           }
          ],
          "contourcarpet": [
           {
            "colorbar": {
             "outlinewidth": 0,
             "ticks": ""
            },
            "type": "contourcarpet"
           }
          ],
          "heatmap": [
           {
            "colorbar": {
             "outlinewidth": 0,
             "ticks": ""
            },
            "colorscale": [
             [
              0,
              "#0d0887"
             ],
             [
              0.1111111111111111,
              "#46039f"
             ],
             [
              0.2222222222222222,
              "#7201a8"
             ],
             [
              0.3333333333333333,
              "#9c179e"
             ],
             [
              0.4444444444444444,
              "#bd3786"
             ],
             [
              0.5555555555555556,
              "#d8576b"
             ],
             [
              0.6666666666666666,
              "#ed7953"
             ],
             [
              0.7777777777777778,
              "#fb9f3a"
             ],
             [
              0.8888888888888888,
              "#fdca26"
             ],
             [
              1,
              "#f0f921"
             ]
            ],
            "type": "heatmap"
           }
          ],
          "heatmapgl": [
           {
            "colorbar": {
             "outlinewidth": 0,
             "ticks": ""
            },
            "colorscale": [
             [
              0,
              "#0d0887"
             ],
             [
              0.1111111111111111,
              "#46039f"
             ],
             [
              0.2222222222222222,
              "#7201a8"
             ],
             [
              0.3333333333333333,
              "#9c179e"
             ],
             [
              0.4444444444444444,
              "#bd3786"
             ],
             [
              0.5555555555555556,
              "#d8576b"
             ],
             [
              0.6666666666666666,
              "#ed7953"
             ],
             [
              0.7777777777777778,
              "#fb9f3a"
             ],
             [
              0.8888888888888888,
              "#fdca26"
             ],
             [
              1,
              "#f0f921"
             ]
            ],
            "type": "heatmapgl"
           }
          ],
          "histogram": [
           {
            "marker": {
             "colorbar": {
              "outlinewidth": 0,
              "ticks": ""
             }
            },
            "type": "histogram"
           }
          ],
          "histogram2d": [
           {
            "colorbar": {
             "outlinewidth": 0,
             "ticks": ""
            },
            "colorscale": [
             [
              0,
              "#0d0887"
             ],
             [
              0.1111111111111111,
              "#46039f"
             ],
             [
              0.2222222222222222,
              "#7201a8"
             ],
             [
              0.3333333333333333,
              "#9c179e"
             ],
             [
              0.4444444444444444,
              "#bd3786"
             ],
             [
              0.5555555555555556,
              "#d8576b"
             ],
             [
              0.6666666666666666,
              "#ed7953"
             ],
             [
              0.7777777777777778,
              "#fb9f3a"
             ],
             [
              0.8888888888888888,
              "#fdca26"
             ],
             [
              1,
              "#f0f921"
             ]
            ],
            "type": "histogram2d"
           }
          ],
          "histogram2dcontour": [
           {
            "colorbar": {
             "outlinewidth": 0,
             "ticks": ""
            },
            "colorscale": [
             [
              0,
              "#0d0887"
             ],
             [
              0.1111111111111111,
              "#46039f"
             ],
             [
              0.2222222222222222,
              "#7201a8"
             ],
             [
              0.3333333333333333,
              "#9c179e"
             ],
             [
              0.4444444444444444,
              "#bd3786"
             ],
             [
              0.5555555555555556,
              "#d8576b"
             ],
             [
              0.6666666666666666,
              "#ed7953"
             ],
             [
              0.7777777777777778,
              "#fb9f3a"
             ],
             [
              0.8888888888888888,
              "#fdca26"
             ],
             [
              1,
              "#f0f921"
             ]
            ],
            "type": "histogram2dcontour"
           }
          ],
          "mesh3d": [
           {
            "colorbar": {
             "outlinewidth": 0,
             "ticks": ""
            },
            "type": "mesh3d"
           }
          ],
          "parcoords": [
           {
            "line": {
             "colorbar": {
              "outlinewidth": 0,
              "ticks": ""
             }
            },
            "type": "parcoords"
           }
          ],
          "scatter": [
           {
            "marker": {
             "colorbar": {
              "outlinewidth": 0,
              "ticks": ""
             }
            },
            "type": "scatter"
           }
          ],
          "scatter3d": [
           {
            "line": {
             "colorbar": {
              "outlinewidth": 0,
              "ticks": ""
             }
            },
            "marker": {
             "colorbar": {
              "outlinewidth": 0,
              "ticks": ""
             }
            },
            "type": "scatter3d"
           }
          ],
          "scattercarpet": [
           {
            "marker": {
             "colorbar": {
              "outlinewidth": 0,
              "ticks": ""
             }
            },
            "type": "scattercarpet"
           }
          ],
          "scattergeo": [
           {
            "marker": {
             "colorbar": {
              "outlinewidth": 0,
              "ticks": ""
             }
            },
            "type": "scattergeo"
           }
          ],
          "scattergl": [
           {
            "marker": {
             "colorbar": {
              "outlinewidth": 0,
              "ticks": ""
             }
            },
            "type": "scattergl"
           }
          ],
          "scattermapbox": [
           {
            "marker": {
             "colorbar": {
              "outlinewidth": 0,
              "ticks": ""
             }
            },
            "type": "scattermapbox"
           }
          ],
          "scatterpolar": [
           {
            "marker": {
             "colorbar": {
              "outlinewidth": 0,
              "ticks": ""
             }
            },
            "type": "scatterpolar"
           }
          ],
          "scatterpolargl": [
           {
            "marker": {
             "colorbar": {
              "outlinewidth": 0,
              "ticks": ""
             }
            },
            "type": "scatterpolargl"
           }
          ],
          "scatterternary": [
           {
            "marker": {
             "colorbar": {
              "outlinewidth": 0,
              "ticks": ""
             }
            },
            "type": "scatterternary"
           }
          ],
          "surface": [
           {
            "colorbar": {
             "outlinewidth": 0,
             "ticks": ""
            },
            "colorscale": [
             [
              0,
              "#0d0887"
             ],
             [
              0.1111111111111111,
              "#46039f"
             ],
             [
              0.2222222222222222,
              "#7201a8"
             ],
             [
              0.3333333333333333,
              "#9c179e"
             ],
             [
              0.4444444444444444,
              "#bd3786"
             ],
             [
              0.5555555555555556,
              "#d8576b"
             ],
             [
              0.6666666666666666,
              "#ed7953"
             ],
             [
              0.7777777777777778,
              "#fb9f3a"
             ],
             [
              0.8888888888888888,
              "#fdca26"
             ],
             [
              1,
              "#f0f921"
             ]
            ],
            "type": "surface"
           }
          ],
          "table": [
           {
            "cells": {
             "fill": {
              "color": "#EBF0F8"
             },
             "line": {
              "color": "white"
             }
            },
            "header": {
             "fill": {
              "color": "#C8D4E3"
             },
             "line": {
              "color": "white"
             }
            },
            "type": "table"
           }
          ]
         },
         "layout": {
          "annotationdefaults": {
           "arrowcolor": "#2a3f5f",
           "arrowhead": 0,
           "arrowwidth": 1
          },
          "colorscale": {
           "diverging": [
            [
             0,
             "#8e0152"
            ],
            [
             0.1,
             "#c51b7d"
            ],
            [
             0.2,
             "#de77ae"
            ],
            [
             0.3,
             "#f1b6da"
            ],
            [
             0.4,
             "#fde0ef"
            ],
            [
             0.5,
             "#f7f7f7"
            ],
            [
             0.6,
             "#e6f5d0"
            ],
            [
             0.7,
             "#b8e186"
            ],
            [
             0.8,
             "#7fbc41"
            ],
            [
             0.9,
             "#4d9221"
            ],
            [
             1,
             "#276419"
            ]
           ],
           "sequential": [
            [
             0,
             "#0d0887"
            ],
            [
             0.1111111111111111,
             "#46039f"
            ],
            [
             0.2222222222222222,
             "#7201a8"
            ],
            [
             0.3333333333333333,
             "#9c179e"
            ],
            [
             0.4444444444444444,
             "#bd3786"
            ],
            [
             0.5555555555555556,
             "#d8576b"
            ],
            [
             0.6666666666666666,
             "#ed7953"
            ],
            [
             0.7777777777777778,
             "#fb9f3a"
            ],
            [
             0.8888888888888888,
             "#fdca26"
            ],
            [
             1,
             "#f0f921"
            ]
           ],
           "sequentialminus": [
            [
             0,
             "#0d0887"
            ],
            [
             0.1111111111111111,
             "#46039f"
            ],
            [
             0.2222222222222222,
             "#7201a8"
            ],
            [
             0.3333333333333333,
             "#9c179e"
            ],
            [
             0.4444444444444444,
             "#bd3786"
            ],
            [
             0.5555555555555556,
             "#d8576b"
            ],
            [
             0.6666666666666666,
             "#ed7953"
            ],
            [
             0.7777777777777778,
             "#fb9f3a"
            ],
            [
             0.8888888888888888,
             "#fdca26"
            ],
            [
             1,
             "#f0f921"
            ]
           ]
          },
          "colorway": [
           "#636efa",
           "#EF553B",
           "#00cc96",
           "#ab63fa",
           "#FFA15A",
           "#19d3f3",
           "#FF6692",
           "#B6E880",
           "#FF97FF",
           "#FECB52"
          ],
          "font": {
           "color": "#2a3f5f"
          },
          "geo": {
           "bgcolor": "white",
           "lakecolor": "white",
           "landcolor": "#E5ECF6",
           "showlakes": true,
           "showland": true,
           "subunitcolor": "white"
          },
          "hoverlabel": {
           "align": "left"
          },
          "hovermode": "closest",
          "mapbox": {
           "style": "light"
          },
          "paper_bgcolor": "white",
          "plot_bgcolor": "#E5ECF6",
          "polar": {
           "angularaxis": {
            "gridcolor": "white",
            "linecolor": "white",
            "ticks": ""
           },
           "bgcolor": "#E5ECF6",
           "radialaxis": {
            "gridcolor": "white",
            "linecolor": "white",
            "ticks": ""
           }
          },
          "scene": {
           "xaxis": {
            "backgroundcolor": "#E5ECF6",
            "gridcolor": "white",
            "gridwidth": 2,
            "linecolor": "white",
            "showbackground": true,
            "ticks": "",
            "zerolinecolor": "white"
           },
           "yaxis": {
            "backgroundcolor": "#E5ECF6",
            "gridcolor": "white",
            "gridwidth": 2,
            "linecolor": "white",
            "showbackground": true,
            "ticks": "",
            "zerolinecolor": "white"
           },
           "zaxis": {
            "backgroundcolor": "#E5ECF6",
            "gridcolor": "white",
            "gridwidth": 2,
            "linecolor": "white",
            "showbackground": true,
            "ticks": "",
            "zerolinecolor": "white"
           }
          },
          "shapedefaults": {
           "line": {
            "color": "#2a3f5f"
           }
          },
          "ternary": {
           "aaxis": {
            "gridcolor": "white",
            "linecolor": "white",
            "ticks": ""
           },
           "baxis": {
            "gridcolor": "white",
            "linecolor": "white",
            "ticks": ""
           },
           "bgcolor": "#E5ECF6",
           "caxis": {
            "gridcolor": "white",
            "linecolor": "white",
            "ticks": ""
           }
          },
          "title": {
           "x": 0.05
          },
          "xaxis": {
           "automargin": true,
           "gridcolor": "white",
           "linecolor": "white",
           "ticks": "",
           "zerolinecolor": "white",
           "zerolinewidth": 2
          },
          "yaxis": {
           "automargin": true,
           "gridcolor": "white",
           "linecolor": "white",
           "ticks": "",
           "zerolinecolor": "white",
           "zerolinewidth": 2
          }
         }
        },
        "title": {
         "text": "Percentage of error for meta2 prediction of Group 1"
        }
       }
      },
      "text/html": [
       "<div>\n",
       "        \n",
       "        \n",
       "            <div id=\"c64587f7-e74f-4aef-86af-a04aa4948302\" class=\"plotly-graph-div\" style=\"height:525px; width:100%;\"></div>\n",
       "            <script type=\"text/javascript\">\n",
       "                require([\"plotly\"], function(Plotly) {\n",
       "                    window.PLOTLYENV=window.PLOTLYENV || {};\n",
       "                    \n",
       "                if (document.getElementById(\"c64587f7-e74f-4aef-86af-a04aa4948302\")) {\n",
       "                    Plotly.newPlot(\n",
       "                        'c64587f7-e74f-4aef-86af-a04aa4948302',\n",
       "                        [{\"marker\": {\"color\": [5.92252210680594, 4.411368079251026, 4.358191578006103, 8.513045881382155, 5.7712276664437105, 4.206038580269481, 4.23971584972132, 6.358210656905741, 3.8529797400846477, 7.244493580496374, 1.370350318287613, 4.605462824970826, 4.464859363185369, 5.079626407992803, 1.1503248043811471, 3.5610449742285732, 6.709169586707154, 4.428615475615228, 4.530988063705888, 4.614357313209085, 4.2790368719269924, 4.535806506561288, 4.595797149005278, 4.373735219477454, 4.432954222188313, 4.399168319286226, 4.605864323610885, 3.864102291710994, 5.547344154381922, 3.4146897886829337, 3.681980812180111, 4.698546803397739, 4.188007068243357, 5.062363324705624, 3.125481268662044, 3.7157484531936693, 4.52153298818569, 4.531195665844795, 4.296262935722122, 5.865161769210792, 7.00551620163804, 4.5162463239656185, 4.4903037609016865, 8.331428662696347, 4.467858622504437, 4.574330469956012, 4.562156219288815, 4.233291968945995, 2.3414819144233276, 4.320352383992087, 4.487345393561029, 10.226832168144295, 4.061085154389235, 4.689078541335145, 6.855955272314836, 4.4506989288435355, 4.214401796317248, 4.448865525578863, 4.297838605059627, 4.339888467739455, 4.446275538388852, 4.10415578863344, 4.600296766892178, 4.546139680939997, 4.498134783864416, 4.5933366959253075, 4.4736872704997594, 4.595435415375083, 4.426055351090082, 4.611038762528161, 4.574917329917673, 4.34880863759544, 4.466326334386222, 4.408409381758493, 4.49926547882885, 4.493598298022063, 2.980509662977632, 5.833406262008404, 4.498631063491841, 4.585317531512107, 5.771337622837493, 13.043799277931525, 6.060797366111037, 5.879170057413251, 2.9079157292876032, 4.061328291739867, 4.611226398202223, 4.601767340990735, 4.516140304764196, 3.5613068605248173, 4.50726585750508, 5.431412684223499, 6.048792080418438, 4.467106405634736, 3.6455843549643117, 2.8689733840033464, 4.614102869312282, 4.200173005902483, 4.015294098546431, 4.290292962636008, 4.5651433581238114, 5.045082076935702]}, \"mode\": \"markers\", \"text\": [\"O Brother, Where Art Thou?\", \"The Twilight Saga: Breaking Dawn Part 1\", \"The Twilight Saga: Breaking Dawn Part 2\", \"Helena From the Wedding\", \"Monsters\", \"Catfish\", \"Red\", \"Freakonomics\", \"The Warrior's Way\", \"Stone\", \"Frankenweenie\", \"John Carter\", \"Dolphin Tale\", \"Penguins of Madagascar\", \"Minions\", \"Proud American\", \"Edmond\", \"Tootsie\", \"Waterworld\", \"The Lion King (2019)\", \"Crawl\", \"Stuber\", \"Midsommar\", \"Spider-Man: Far from Home\", \"Yesterday\", \"Annabelle Comes Home\", \"Toy Story 4\", \"Child's Play (2019)\", \"Anna (2019)\", \"Men in Black International\", \"Shaft (2019)\\u00a0\", \"Late Night\", \"The Secret Life of Pets 2\", \"Dark Phoenix\", \"Godzilla:King of the Monsters\", \"Rocketman\", \"Return of the Jedi\", \"Indiana Jones and the Temple of Doom\", \"The Idolmaker\", \"The Grass Harp\", \"The Grand\", \"Jaws\", \"Superman (1978)\", \"Clerks\", \"Juice\", \"He Got Game\", \"White Men Can't Jump\", \"Mulholland Drive\", \"Blue Velvet\", \"Once Upon a Time in Hollywood\", \"The Big Lebowski\", \"Train to Busan\", \"Pride and Prejudice and Zombies\", \"Dead Poets Society\", \"A Fish Called Wanda\", \"The Witches of Eastwick\", \"Ferris Bueller's Day Off\", \"Back to the Future\", \"Police Academy\", \"Trading Places\", \"Star Trek II The Wrath of Khan\", \"The Blues Brothers\", \"V For Vendetta\", \"In the Line of Fire\", \"Us\", \"The Forbidden Kingdom\", \"Rumble in the Bronx\", \"Machete\", \"Beverly Hills Cop\", \"Watchmen\", \"Jackie Brown\", \"Zombieland\", \"Mo Better Blues\", \"Thelma and Louise\", \"New Jack City\", \"The Lawnmower Man\", \"Schindler's List\", \"Four Weddings and a Funeral\", \"Get Shorty\", \"Jerry Maguire\", \"Welcome to Sarajevo\", \"Trojan War\", \"The Gingerbread Man\", \"Tumbleweeds\", \"Turn it up\", \"The Adventures of Pluto Nash\", \"The Lord of the Rings: The Return of the King\", \"Harry Potter and the Prisoner of Azkaban\", \"Stay\", \"Fast Food Nation\", \"Into the Wild\", \"The Wrestler\", \"Slumdog Millionaire\", \"Jackass 3-D\", \"Skyfall\", \"The Hunger Games: Mocking Jay - Part 1\", \"Jurassic World\", \"Shut In\", \"Molly's Game\", \"Peter Rabbit\", \"BlacKkKlansman\", \"Replicas\"], \"type\": \"scatter\", \"x\": [\"O Brother, Where Art Thou?\", \"The Twilight Saga: Breaking Dawn Part 1\", \"The Twilight Saga: Breaking Dawn Part 2\", \"Helena From the Wedding\", \"Monsters\", \"Catfish\", \"Red\", \"Freakonomics\", \"The Warrior's Way\", \"Stone\", \"Frankenweenie\", \"John Carter\", \"Dolphin Tale\", \"Penguins of Madagascar\", \"Minions\", \"Proud American\", \"Edmond\", \"Tootsie\", \"Waterworld\", \"The Lion King (2019)\", \"Crawl\", \"Stuber\", \"Midsommar\", \"Spider-Man: Far from Home\", \"Yesterday\", \"Annabelle Comes Home\", \"Toy Story 4\", \"Child's Play (2019)\", \"Anna (2019)\", \"Men in Black International\", \"Shaft (2019)\\u00a0\", \"Late Night\", \"The Secret Life of Pets 2\", \"Dark Phoenix\", \"Godzilla:King of the Monsters\", \"Rocketman\", \"Return of the Jedi\", \"Indiana Jones and the Temple of Doom\", \"The Idolmaker\", \"The Grass Harp\", \"The Grand\", \"Jaws\", \"Superman (1978)\", \"Clerks\", \"Juice\", \"He Got Game\", \"White Men Can't Jump\", \"Mulholland Drive\", \"Blue Velvet\", \"Once Upon a Time in Hollywood\", \"The Big Lebowski\", \"Train to Busan\", \"Pride and Prejudice and Zombies\", \"Dead Poets Society\", \"A Fish Called Wanda\", \"The Witches of Eastwick\", \"Ferris Bueller's Day Off\", \"Back to the Future\", \"Police Academy\", \"Trading Places\", \"Star Trek II The Wrath of Khan\", \"The Blues Brothers\", \"V For Vendetta\", \"In the Line of Fire\", \"Us\", \"The Forbidden Kingdom\", \"Rumble in the Bronx\", \"Machete\", \"Beverly Hills Cop\", \"Watchmen\", \"Jackie Brown\", \"Zombieland\", \"Mo Better Blues\", \"Thelma and Louise\", \"New Jack City\", \"The Lawnmower Man\", \"Schindler's List\", \"Four Weddings and a Funeral\", \"Get Shorty\", \"Jerry Maguire\", \"Welcome to Sarajevo\", \"Trojan War\", \"The Gingerbread Man\", \"Tumbleweeds\", \"Turn it up\", \"The Adventures of Pluto Nash\", \"The Lord of the Rings: The Return of the King\", \"Harry Potter and the Prisoner of Azkaban\", \"Stay\", \"Fast Food Nation\", \"Into the Wild\", \"The Wrestler\", \"Slumdog Millionaire\", \"Jackass 3-D\", \"Skyfall\", \"The Hunger Games: Mocking Jay - Part 1\", \"Jurassic World\", \"Shut In\", \"Molly's Game\", \"Peter Rabbit\", \"BlacKkKlansman\", \"Replicas\"], \"y\": [5.92252210680594, 4.411368079251026, 4.358191578006103, 8.513045881382155, 5.7712276664437105, 4.206038580269481, 4.23971584972132, 6.358210656905741, 3.8529797400846477, 7.244493580496374, 1.370350318287613, 4.605462824970826, 4.464859363185369, 5.079626407992803, 1.1503248043811471, 3.5610449742285732, 6.709169586707154, 4.428615475615228, 4.530988063705888, 4.614357313209085, 4.2790368719269924, 4.535806506561288, 4.595797149005278, 4.373735219477454, 4.432954222188313, 4.399168319286226, 4.605864323610885, 3.864102291710994, 5.547344154381922, 3.4146897886829337, 3.681980812180111, 4.698546803397739, 4.188007068243357, 5.062363324705624, 3.125481268662044, 3.7157484531936693, 4.52153298818569, 4.531195665844795, 4.296262935722122, 5.865161769210792, 7.00551620163804, 4.5162463239656185, 4.4903037609016865, 8.331428662696347, 4.467858622504437, 4.574330469956012, 4.562156219288815, 4.233291968945995, 2.3414819144233276, 4.320352383992087, 4.487345393561029, 10.226832168144295, 4.061085154389235, 4.689078541335145, 6.855955272314836, 4.4506989288435355, 4.214401796317248, 4.448865525578863, 4.297838605059627, 4.339888467739455, 4.446275538388852, 4.10415578863344, 4.600296766892178, 4.546139680939997, 4.498134783864416, 4.5933366959253075, 4.4736872704997594, 4.595435415375083, 4.426055351090082, 4.611038762528161, 4.574917329917673, 4.34880863759544, 4.466326334386222, 4.408409381758493, 4.49926547882885, 4.493598298022063, 2.980509662977632, 5.833406262008404, 4.498631063491841, 4.585317531512107, 5.771337622837493, 13.043799277931525, 6.060797366111037, 5.879170057413251, 2.9079157292876032, 4.061328291739867, 4.611226398202223, 4.601767340990735, 4.516140304764196, 3.5613068605248173, 4.50726585750508, 5.431412684223499, 6.048792080418438, 4.467106405634736, 3.6455843549643117, 2.8689733840033464, 4.614102869312282, 4.200173005902483, 4.015294098546431, 4.290292962636008, 4.5651433581238114, 5.045082076935702]}],\n",
       "                        {\"template\": {\"data\": {\"bar\": [{\"error_x\": {\"color\": \"#2a3f5f\"}, \"error_y\": {\"color\": \"#2a3f5f\"}, \"marker\": {\"line\": {\"color\": \"#E5ECF6\", \"width\": 0.5}}, \"type\": \"bar\"}], \"barpolar\": [{\"marker\": {\"line\": {\"color\": \"#E5ECF6\", \"width\": 0.5}}, \"type\": \"barpolar\"}], \"carpet\": [{\"aaxis\": {\"endlinecolor\": \"#2a3f5f\", \"gridcolor\": \"white\", \"linecolor\": \"white\", \"minorgridcolor\": \"white\", \"startlinecolor\": \"#2a3f5f\"}, \"baxis\": {\"endlinecolor\": \"#2a3f5f\", \"gridcolor\": \"white\", \"linecolor\": \"white\", \"minorgridcolor\": \"white\", \"startlinecolor\": \"#2a3f5f\"}, \"type\": \"carpet\"}], \"choropleth\": [{\"colorbar\": {\"outlinewidth\": 0, \"ticks\": \"\"}, \"type\": \"choropleth\"}], \"contour\": [{\"colorbar\": {\"outlinewidth\": 0, \"ticks\": \"\"}, \"colorscale\": [[0.0, \"#0d0887\"], [0.1111111111111111, \"#46039f\"], [0.2222222222222222, \"#7201a8\"], [0.3333333333333333, \"#9c179e\"], [0.4444444444444444, \"#bd3786\"], [0.5555555555555556, \"#d8576b\"], [0.6666666666666666, \"#ed7953\"], [0.7777777777777778, \"#fb9f3a\"], [0.8888888888888888, \"#fdca26\"], [1.0, \"#f0f921\"]], \"type\": \"contour\"}], \"contourcarpet\": [{\"colorbar\": {\"outlinewidth\": 0, \"ticks\": \"\"}, \"type\": \"contourcarpet\"}], \"heatmap\": [{\"colorbar\": {\"outlinewidth\": 0, \"ticks\": \"\"}, \"colorscale\": [[0.0, \"#0d0887\"], [0.1111111111111111, \"#46039f\"], [0.2222222222222222, \"#7201a8\"], [0.3333333333333333, \"#9c179e\"], [0.4444444444444444, \"#bd3786\"], [0.5555555555555556, \"#d8576b\"], [0.6666666666666666, \"#ed7953\"], [0.7777777777777778, \"#fb9f3a\"], [0.8888888888888888, \"#fdca26\"], [1.0, \"#f0f921\"]], \"type\": \"heatmap\"}], \"heatmapgl\": [{\"colorbar\": {\"outlinewidth\": 0, \"ticks\": \"\"}, \"colorscale\": [[0.0, \"#0d0887\"], [0.1111111111111111, \"#46039f\"], [0.2222222222222222, \"#7201a8\"], [0.3333333333333333, \"#9c179e\"], [0.4444444444444444, \"#bd3786\"], [0.5555555555555556, \"#d8576b\"], [0.6666666666666666, \"#ed7953\"], [0.7777777777777778, \"#fb9f3a\"], [0.8888888888888888, \"#fdca26\"], [1.0, \"#f0f921\"]], \"type\": \"heatmapgl\"}], \"histogram\": [{\"marker\": {\"colorbar\": {\"outlinewidth\": 0, \"ticks\": \"\"}}, \"type\": \"histogram\"}], \"histogram2d\": [{\"colorbar\": {\"outlinewidth\": 0, \"ticks\": \"\"}, \"colorscale\": [[0.0, \"#0d0887\"], [0.1111111111111111, \"#46039f\"], [0.2222222222222222, \"#7201a8\"], [0.3333333333333333, \"#9c179e\"], [0.4444444444444444, \"#bd3786\"], [0.5555555555555556, \"#d8576b\"], [0.6666666666666666, \"#ed7953\"], [0.7777777777777778, \"#fb9f3a\"], [0.8888888888888888, \"#fdca26\"], [1.0, \"#f0f921\"]], \"type\": \"histogram2d\"}], \"histogram2dcontour\": [{\"colorbar\": {\"outlinewidth\": 0, \"ticks\": \"\"}, \"colorscale\": [[0.0, \"#0d0887\"], [0.1111111111111111, \"#46039f\"], [0.2222222222222222, \"#7201a8\"], [0.3333333333333333, \"#9c179e\"], [0.4444444444444444, \"#bd3786\"], [0.5555555555555556, \"#d8576b\"], [0.6666666666666666, \"#ed7953\"], [0.7777777777777778, \"#fb9f3a\"], [0.8888888888888888, \"#fdca26\"], [1.0, \"#f0f921\"]], \"type\": \"histogram2dcontour\"}], \"mesh3d\": [{\"colorbar\": {\"outlinewidth\": 0, \"ticks\": \"\"}, \"type\": \"mesh3d\"}], \"parcoords\": [{\"line\": {\"colorbar\": {\"outlinewidth\": 0, \"ticks\": \"\"}}, \"type\": \"parcoords\"}], \"scatter\": [{\"marker\": {\"colorbar\": {\"outlinewidth\": 0, \"ticks\": \"\"}}, \"type\": \"scatter\"}], \"scatter3d\": [{\"line\": {\"colorbar\": {\"outlinewidth\": 0, \"ticks\": \"\"}}, \"marker\": {\"colorbar\": {\"outlinewidth\": 0, \"ticks\": \"\"}}, \"type\": \"scatter3d\"}], \"scattercarpet\": [{\"marker\": {\"colorbar\": {\"outlinewidth\": 0, \"ticks\": \"\"}}, \"type\": \"scattercarpet\"}], \"scattergeo\": [{\"marker\": {\"colorbar\": {\"outlinewidth\": 0, \"ticks\": \"\"}}, \"type\": \"scattergeo\"}], \"scattergl\": [{\"marker\": {\"colorbar\": {\"outlinewidth\": 0, \"ticks\": \"\"}}, \"type\": \"scattergl\"}], \"scattermapbox\": [{\"marker\": {\"colorbar\": {\"outlinewidth\": 0, \"ticks\": \"\"}}, \"type\": \"scattermapbox\"}], \"scatterpolar\": [{\"marker\": {\"colorbar\": {\"outlinewidth\": 0, \"ticks\": \"\"}}, \"type\": \"scatterpolar\"}], \"scatterpolargl\": [{\"marker\": {\"colorbar\": {\"outlinewidth\": 0, \"ticks\": \"\"}}, \"type\": \"scatterpolargl\"}], \"scatterternary\": [{\"marker\": {\"colorbar\": {\"outlinewidth\": 0, \"ticks\": \"\"}}, \"type\": \"scatterternary\"}], \"surface\": [{\"colorbar\": {\"outlinewidth\": 0, \"ticks\": \"\"}, \"colorscale\": [[0.0, \"#0d0887\"], [0.1111111111111111, \"#46039f\"], [0.2222222222222222, \"#7201a8\"], [0.3333333333333333, \"#9c179e\"], [0.4444444444444444, \"#bd3786\"], [0.5555555555555556, \"#d8576b\"], [0.6666666666666666, \"#ed7953\"], [0.7777777777777778, \"#fb9f3a\"], [0.8888888888888888, \"#fdca26\"], [1.0, \"#f0f921\"]], \"type\": \"surface\"}], \"table\": [{\"cells\": {\"fill\": {\"color\": \"#EBF0F8\"}, \"line\": {\"color\": \"white\"}}, \"header\": {\"fill\": {\"color\": \"#C8D4E3\"}, \"line\": {\"color\": \"white\"}}, \"type\": \"table\"}]}, \"layout\": {\"annotationdefaults\": {\"arrowcolor\": \"#2a3f5f\", \"arrowhead\": 0, \"arrowwidth\": 1}, \"colorscale\": {\"diverging\": [[0, \"#8e0152\"], [0.1, \"#c51b7d\"], [0.2, \"#de77ae\"], [0.3, \"#f1b6da\"], [0.4, \"#fde0ef\"], [0.5, \"#f7f7f7\"], [0.6, \"#e6f5d0\"], [0.7, \"#b8e186\"], [0.8, \"#7fbc41\"], [0.9, \"#4d9221\"], [1, \"#276419\"]], \"sequential\": [[0.0, \"#0d0887\"], [0.1111111111111111, \"#46039f\"], [0.2222222222222222, \"#7201a8\"], [0.3333333333333333, \"#9c179e\"], [0.4444444444444444, \"#bd3786\"], [0.5555555555555556, \"#d8576b\"], [0.6666666666666666, \"#ed7953\"], [0.7777777777777778, \"#fb9f3a\"], [0.8888888888888888, \"#fdca26\"], [1.0, \"#f0f921\"]], \"sequentialminus\": [[0.0, \"#0d0887\"], [0.1111111111111111, \"#46039f\"], [0.2222222222222222, \"#7201a8\"], [0.3333333333333333, \"#9c179e\"], [0.4444444444444444, \"#bd3786\"], [0.5555555555555556, \"#d8576b\"], [0.6666666666666666, \"#ed7953\"], [0.7777777777777778, \"#fb9f3a\"], [0.8888888888888888, \"#fdca26\"], [1.0, \"#f0f921\"]]}, \"colorway\": [\"#636efa\", \"#EF553B\", \"#00cc96\", \"#ab63fa\", \"#FFA15A\", \"#19d3f3\", \"#FF6692\", \"#B6E880\", \"#FF97FF\", \"#FECB52\"], \"font\": {\"color\": \"#2a3f5f\"}, \"geo\": {\"bgcolor\": \"white\", \"lakecolor\": \"white\", \"landcolor\": \"#E5ECF6\", \"showlakes\": true, \"showland\": true, \"subunitcolor\": \"white\"}, \"hoverlabel\": {\"align\": \"left\"}, \"hovermode\": \"closest\", \"mapbox\": {\"style\": \"light\"}, \"paper_bgcolor\": \"white\", \"plot_bgcolor\": \"#E5ECF6\", \"polar\": {\"angularaxis\": {\"gridcolor\": \"white\", \"linecolor\": \"white\", \"ticks\": \"\"}, \"bgcolor\": \"#E5ECF6\", \"radialaxis\": {\"gridcolor\": \"white\", \"linecolor\": \"white\", \"ticks\": \"\"}}, \"scene\": {\"xaxis\": {\"backgroundcolor\": \"#E5ECF6\", \"gridcolor\": \"white\", \"gridwidth\": 2, \"linecolor\": \"white\", \"showbackground\": true, \"ticks\": \"\", \"zerolinecolor\": \"white\"}, \"yaxis\": {\"backgroundcolor\": \"#E5ECF6\", \"gridcolor\": \"white\", \"gridwidth\": 2, \"linecolor\": \"white\", \"showbackground\": true, \"ticks\": \"\", \"zerolinecolor\": \"white\"}, \"zaxis\": {\"backgroundcolor\": \"#E5ECF6\", \"gridcolor\": \"white\", \"gridwidth\": 2, \"linecolor\": \"white\", \"showbackground\": true, \"ticks\": \"\", \"zerolinecolor\": \"white\"}}, \"shapedefaults\": {\"line\": {\"color\": \"#2a3f5f\"}}, \"ternary\": {\"aaxis\": {\"gridcolor\": \"white\", \"linecolor\": \"white\", \"ticks\": \"\"}, \"baxis\": {\"gridcolor\": \"white\", \"linecolor\": \"white\", \"ticks\": \"\"}, \"bgcolor\": \"#E5ECF6\", \"caxis\": {\"gridcolor\": \"white\", \"linecolor\": \"white\", \"ticks\": \"\"}}, \"title\": {\"x\": 0.05}, \"xaxis\": {\"automargin\": true, \"gridcolor\": \"white\", \"linecolor\": \"white\", \"ticks\": \"\", \"zerolinecolor\": \"white\", \"zerolinewidth\": 2}, \"yaxis\": {\"automargin\": true, \"gridcolor\": \"white\", \"linecolor\": \"white\", \"ticks\": \"\", \"zerolinecolor\": \"white\", \"zerolinewidth\": 2}}}, \"title\": {\"text\": \"Percentage of error for meta2 prediction of Group 1\"}},\n",
       "                        {\"responsive\": true}\n",
       "                    ).then(function(){\n",
       "                            \n",
       "var gd = document.getElementById('c64587f7-e74f-4aef-86af-a04aa4948302');\n",
       "var x = new MutationObserver(function (mutations, observer) {{\n",
       "        var display = window.getComputedStyle(gd).display;\n",
       "        if (!display || display === 'none') {{\n",
       "            console.log([gd, 'removed!']);\n",
       "            Plotly.purge(gd);\n",
       "            observer.disconnect();\n",
       "        }}\n",
       "}});\n",
       "\n",
       "// Listen for the removal of the full notebook cells\n",
       "var notebookContainer = gd.closest('#notebook-container');\n",
       "if (notebookContainer) {{\n",
       "    x.observe(notebookContainer, {childList: true});\n",
       "}}\n",
       "\n",
       "// Listen for the clearing of the current output cell\n",
       "var outputEl = gd.closest('.output');\n",
       "if (outputEl) {{\n",
       "    x.observe(outputEl, {childList: true});\n",
       "}}\n",
       "\n",
       "                        })\n",
       "                };\n",
       "                });\n",
       "            </script>\n",
       "        </div>"
      ]
     },
     "metadata": {},
     "output_type": "display_data"
    }
   ],
   "source": [
    "# Percentage of error for meta2 prediction\n",
    "import numpy as np\n",
    "#loss 模型评估\n",
    "#y_true = g4_result_final[\"ground_truth\"]\n",
    "#y_pred = g4_result_final[\"meta_prediction\"]\n",
    "\n",
    "#movie_data[\"log_openingBox\"] = np.log1p(result_meta_data.openingBox)\n",
    "\n",
    "def mean_absolute_percentage_error(y_true, y_pred):\n",
    "    diff = abs((y_true - y_pred) /y_true)\n",
    "    return np.log1p(100. *diff)#using log1p because of large range of 100. *diff\n",
    "    #return 100. *diff\n",
    "    \n",
    "#Visualizing Percentage of error for meta prediction\n",
    "g1_result_final['meta2_rmse_pre'] = mean_absolute_percentage_error(g1_result_final[\"ground_truth\"], g1_result_final[\"pred_meta_2\"])\n",
    "fig = go.Figure(data=go.Scatter(x=g1_result_final[\"name\"],\n",
    "                                y=g1_result_final['meta2_rmse_pre'],\n",
    "                                mode='markers',\n",
    "                                marker_color=g1_result_final['meta2_rmse_pre'],\n",
    "                                text=g1_result_final[\"name\"])) # hover text goes here(movie_title)\n",
    "\n",
    "fig.update_layout(title='Percentage of error for meta2 prediction of Group 1')\n",
    "fig.show()"
   ]
  },
  {
   "cell_type": "code",
   "execution_count": 30,
   "metadata": {},
   "outputs": [
    {
     "data": {
      "text/plain": [
       "4.49586654094324"
      ]
     },
     "execution_count": 30,
     "metadata": {},
     "output_type": "execute_result"
    }
   ],
   "source": [
    "# Median for Percentage of error for meta2 prediction\n",
    "Median_meta2 = np.median(g1_result_final['meta2_rmse_pre'])\n",
    "Median_meta2"
   ]
  },
  {
   "cell_type": "code",
   "execution_count": 31,
   "metadata": {},
   "outputs": [
    {
     "data": {
      "application/vnd.plotly.v1+json": {
       "config": {
        "plotlyServerURL": "https://plot.ly"
       },
       "data": [
        {
         "marker": {
          "color": [
           -726473.9610763008,
           112406785.07029858,
           108785350.40776567,
           -134016.0080429491,
           -65611.5495008298,
           170040.2742285648,
           -14882220.51081153,
           -183771.4846509973,
           -1406449.745304524,
           -1060248.5989655235,
           335145.8328829929,
           29887219.311920166,
           16453599.039079774,
           -40643131.53583988,
           -2498613.6382032186,
           -32857.95451614536,
           -157660.79727033453,
           4588356.421093463,
           19446334.498852655,
           191622991.65424833,
           8544215.60849557,
           7591925.052542098,
           6433229.559845007,
           72526026.14835368,
           14148914.611696161,
           16293443.001088196,
           119782940.32194403,
           6576603.526683241,
           -9201643.48961166,
           -8832793.62800014,
           -3447074.86050079,
           -267949.0854478822,
           -30273550.63037628,
           -51528489.3220537,
           -10401305.731494687,
           10313269.334845714,
           20942440.198316734,
           23277085.305762216,
           -230603.0123991276,
           -411866.8204141003,
           -290121.4471072418,
           6390070.665612571,
           6580589.486979812,
           -1314523.5899206472,
           6967621.589681385,
           7303427.96971199,
           13944645.183589779,
           399231.77092673094,
           74177.85926948057,
           30489072.33809892,
           4863428.608328474,
           -78694512.2199617,
           -3036800.415016453,
           -366851.289146892,
           -1094761.3654196227,
           8006492.76699838,
           4182949.86268056,
           9427192.35835175,
           6216740.613693787,
           5562512.775363296,
           12095944.448333284,
           2895049.0914258338,
           25261254.74204835,
           14241422.448577963,
           63187573.42311563,
           20935352.35966289,
           8545187.143777028,
           13825236.812674941,
           12567579.416198153,
           54987172.86395347,
           8922418.216375515,
           18892720.449989818,
           3774726.264637816,
           4950513.570055401,
           6261816.705745882,
           6856053.157540657,
           122776.83634608344,
           -471572.53645043075,
           11289542.68208494,
           16577628.944147466,
           -214121.76792149537,
           -1003018.2698837072,
           -505895.28491760907,
           -285316.8767431213,
           99897.02089490037,
           1245374.3348590597,
           72344611.46354799,
           92432231.5467525,
           1979922.361992304,
           140532.68218906288,
           -190502.5211417086,
           -461117.1360552226,
           -1521439.829798112,
           43356656.88189913,
           -32964589.208526924,
           -20258071.55118683,
           208591763.06818902,
           2374036.519953089,
           638051.6834191321,
           -18004828.852073424,
           10311345.683419133,
           -3664106.0757046826
          ]
         },
         "mode": "markers",
         "text": [
          "O Brother, Where Art Thou?",
          "The Twilight Saga: Breaking Dawn Part 1",
          "The Twilight Saga: Breaking Dawn Part 2",
          "Helena From the Wedding",
          "Monsters",
          "Catfish",
          "Red",
          "Freakonomics",
          "The Warrior's Way",
          "Stone",
          "Frankenweenie",
          "John Carter",
          "Dolphin Tale",
          "Penguins of Madagascar",
          "Minions",
          "Proud American",
          "Edmond",
          "Tootsie",
          "Waterworld",
          "The Lion King (2019)",
          "Crawl",
          "Stuber",
          "Midsommar",
          "Spider-Man: Far from Home",
          "Yesterday",
          "Annabelle Comes Home",
          "Toy Story 4",
          "Child's Play (2019)",
          "Anna (2019)",
          "Men in Black International",
          "Shaft (2019) ",
          "Late Night",
          "The Secret Life of Pets 2",
          "Dark Phoenix",
          "Godzilla:King of the Monsters",
          "Rocketman",
          "Return of the Jedi",
          "Indiana Jones and the Temple of Doom",
          "The Idolmaker",
          "The Grass Harp",
          "The Grand",
          "Jaws",
          "Superman (1978)",
          "Clerks",
          "Juice",
          "He Got Game",
          "White Men Can't Jump",
          "Mulholland Drive",
          "Blue Velvet",
          "Once Upon a Time in Hollywood",
          "The Big Lebowski",
          "Train to Busan",
          "Pride and Prejudice and Zombies",
          "Dead Poets Society",
          "A Fish Called Wanda",
          "The Witches of Eastwick",
          "Ferris Bueller's Day Off",
          "Back to the Future",
          "Police Academy",
          "Trading Places",
          "Star Trek II The Wrath of Khan",
          "The Blues Brothers",
          "V For Vendetta",
          "In the Line of Fire",
          "Us",
          "The Forbidden Kingdom",
          "Rumble in the Bronx",
          "Machete",
          "Beverly Hills Cop",
          "Watchmen",
          "Jackie Brown",
          "Zombieland",
          "Mo Better Blues",
          "Thelma and Louise",
          "New Jack City",
          "The Lawnmower Man",
          "Schindler's List",
          "Four Weddings and a Funeral",
          "Get Shorty",
          "Jerry Maguire",
          "Welcome to Sarajevo",
          "Trojan War",
          "The Gingerbread Man",
          "Tumbleweeds",
          "Turn it up",
          "The Adventures of Pluto Nash",
          "The Lord of the Rings: The Return of the King",
          "Harry Potter and the Prisoner of Azkaban",
          "Stay",
          "Fast Food Nation",
          "Into the Wild",
          "The Wrestler",
          "Slumdog Millionaire",
          "Jackass 3-D",
          "Skyfall",
          "The Hunger Games: Mocking Jay - Part 1",
          "Jurassic World",
          "Shut In",
          "Molly's Game",
          "Peter Rabbit",
          "BlacKkKlansman",
          "Replicas",
          "Crawl"
         ],
         "type": "scatter",
         "x": [
          "O Brother, Where Art Thou?",
          "The Twilight Saga: Breaking Dawn Part 1",
          "The Twilight Saga: Breaking Dawn Part 2",
          "Helena From the Wedding",
          "Monsters",
          "Catfish",
          "Red",
          "Freakonomics",
          "The Warrior's Way",
          "Stone",
          "Frankenweenie",
          "John Carter",
          "Dolphin Tale",
          "Penguins of Madagascar",
          "Minions",
          "Proud American",
          "Edmond",
          "Tootsie",
          "Waterworld",
          "The Lion King (2019)",
          "Crawl",
          "Stuber",
          "Midsommar",
          "Spider-Man: Far from Home",
          "Yesterday",
          "Annabelle Comes Home",
          "Toy Story 4",
          "Child's Play (2019)",
          "Anna (2019)",
          "Men in Black International",
          "Shaft (2019) ",
          "Late Night",
          "The Secret Life of Pets 2",
          "Dark Phoenix",
          "Godzilla:King of the Monsters",
          "Rocketman",
          "Return of the Jedi",
          "Indiana Jones and the Temple of Doom",
          "The Idolmaker",
          "The Grass Harp",
          "The Grand",
          "Jaws",
          "Superman (1978)",
          "Clerks",
          "Juice",
          "He Got Game",
          "White Men Can't Jump",
          "Mulholland Drive",
          "Blue Velvet",
          "Once Upon a Time in Hollywood",
          "The Big Lebowski",
          "Train to Busan",
          "Pride and Prejudice and Zombies",
          "Dead Poets Society",
          "A Fish Called Wanda",
          "The Witches of Eastwick",
          "Ferris Bueller's Day Off",
          "Back to the Future",
          "Police Academy",
          "Trading Places",
          "Star Trek II The Wrath of Khan",
          "The Blues Brothers",
          "V For Vendetta",
          "In the Line of Fire",
          "Us",
          "The Forbidden Kingdom",
          "Rumble in the Bronx",
          "Machete",
          "Beverly Hills Cop",
          "Watchmen",
          "Jackie Brown",
          "Zombieland",
          "Mo Better Blues",
          "Thelma and Louise",
          "New Jack City",
          "The Lawnmower Man",
          "Schindler's List",
          "Four Weddings and a Funeral",
          "Get Shorty",
          "Jerry Maguire",
          "Welcome to Sarajevo",
          "Trojan War",
          "The Gingerbread Man",
          "Tumbleweeds",
          "Turn it up",
          "The Adventures of Pluto Nash",
          "The Lord of the Rings: The Return of the King",
          "Harry Potter and the Prisoner of Azkaban",
          "Stay",
          "Fast Food Nation",
          "Into the Wild",
          "The Wrestler",
          "Slumdog Millionaire",
          "Jackass 3-D",
          "Skyfall",
          "The Hunger Games: Mocking Jay - Part 1",
          "Jurassic World",
          "Shut In",
          "Molly's Game",
          "Peter Rabbit",
          "BlacKkKlansman",
          "Replicas"
         ],
         "y": [
          -726473.9610763008,
          112406785.07029858,
          108785350.40776567,
          -134016.0080429491,
          -65611.5495008298,
          170040.2742285648,
          -14882220.51081153,
          -183771.4846509973,
          -1406449.745304524,
          -1060248.5989655235,
          335145.8328829929,
          29887219.311920166,
          16453599.039079774,
          -40643131.53583988,
          -2498613.6382032186,
          -32857.95451614536,
          -157660.79727033453,
          4588356.421093463,
          19446334.498852655,
          191622991.65424833,
          8544215.60849557,
          7591925.052542098,
          6433229.559845007,
          72526026.14835368,
          14148914.611696161,
          16293443.001088196,
          119782940.32194403,
          6576603.526683241,
          -9201643.48961166,
          -8832793.62800014,
          -3447074.86050079,
          -267949.0854478822,
          -30273550.63037628,
          -51528489.3220537,
          -10401305.731494687,
          10313269.334845714,
          20942440.198316734,
          23277085.305762216,
          -230603.0123991276,
          -411866.8204141003,
          -290121.4471072418,
          6390070.665612571,
          6580589.486979812,
          -1314523.5899206472,
          6967621.589681385,
          7303427.96971199,
          13944645.183589779,
          399231.77092673094,
          74177.85926948057,
          30489072.33809892,
          4863428.608328474,
          -78694512.2199617,
          -3036800.415016453,
          -366851.289146892,
          -1094761.3654196227,
          8006492.76699838,
          4182949.86268056,
          9427192.35835175,
          6216740.613693787,
          5562512.775363296,
          12095944.448333284,
          2895049.0914258338,
          25261254.74204835,
          14241422.448577963,
          63187573.42311563,
          20935352.35966289,
          8545187.143777028,
          13825236.812674941,
          12567579.416198153,
          54987172.86395347,
          8922418.216375515,
          18892720.449989818,
          3774726.264637816,
          4950513.570055401,
          6261816.705745882,
          6856053.157540657,
          122776.83634608344,
          -471572.53645043075,
          11289542.68208494,
          16577628.944147466,
          -214121.76792149537,
          -1003018.2698837072,
          -505895.28491760907,
          -285316.8767431213,
          99897.02089490037,
          1245374.3348590597,
          72344611.46354799,
          92432231.5467525,
          1979922.361992304,
          140532.68218906288,
          -190502.5211417086,
          -461117.1360552226,
          -1521439.829798112,
          43356656.88189913,
          -32964589.208526924,
          -20258071.55118683,
          208591763.06818902,
          2374036.519953089,
          638051.6834191321,
          -18004828.852073424,
          10311345.683419133,
          -3664106.0757046826
         ]
        }
       ],
       "layout": {
        "template": {
         "data": {
          "bar": [
           {
            "error_x": {
             "color": "#2a3f5f"
            },
            "error_y": {
             "color": "#2a3f5f"
            },
            "marker": {
             "line": {
              "color": "#E5ECF6",
              "width": 0.5
             }
            },
            "type": "bar"
           }
          ],
          "barpolar": [
           {
            "marker": {
             "line": {
              "color": "#E5ECF6",
              "width": 0.5
             }
            },
            "type": "barpolar"
           }
          ],
          "carpet": [
           {
            "aaxis": {
             "endlinecolor": "#2a3f5f",
             "gridcolor": "white",
             "linecolor": "white",
             "minorgridcolor": "white",
             "startlinecolor": "#2a3f5f"
            },
            "baxis": {
             "endlinecolor": "#2a3f5f",
             "gridcolor": "white",
             "linecolor": "white",
             "minorgridcolor": "white",
             "startlinecolor": "#2a3f5f"
            },
            "type": "carpet"
           }
          ],
          "choropleth": [
           {
            "colorbar": {
             "outlinewidth": 0,
             "ticks": ""
            },
            "type": "choropleth"
           }
          ],
          "contour": [
           {
            "colorbar": {
             "outlinewidth": 0,
             "ticks": ""
            },
            "colorscale": [
             [
              0,
              "#0d0887"
             ],
             [
              0.1111111111111111,
              "#46039f"
             ],
             [
              0.2222222222222222,
              "#7201a8"
             ],
             [
              0.3333333333333333,
              "#9c179e"
             ],
             [
              0.4444444444444444,
              "#bd3786"
             ],
             [
              0.5555555555555556,
              "#d8576b"
             ],
             [
              0.6666666666666666,
              "#ed7953"
             ],
             [
              0.7777777777777778,
              "#fb9f3a"
             ],
             [
              0.8888888888888888,
              "#fdca26"
             ],
             [
              1,
              "#f0f921"
             ]
            ],
            "type": "contour"
           }
          ],
          "contourcarpet": [
           {
            "colorbar": {
             "outlinewidth": 0,
             "ticks": ""
            },
            "type": "contourcarpet"
           }
          ],
          "heatmap": [
           {
            "colorbar": {
             "outlinewidth": 0,
             "ticks": ""
            },
            "colorscale": [
             [
              0,
              "#0d0887"
             ],
             [
              0.1111111111111111,
              "#46039f"
             ],
             [
              0.2222222222222222,
              "#7201a8"
             ],
             [
              0.3333333333333333,
              "#9c179e"
             ],
             [
              0.4444444444444444,
              "#bd3786"
             ],
             [
              0.5555555555555556,
              "#d8576b"
             ],
             [
              0.6666666666666666,
              "#ed7953"
             ],
             [
              0.7777777777777778,
              "#fb9f3a"
             ],
             [
              0.8888888888888888,
              "#fdca26"
             ],
             [
              1,
              "#f0f921"
             ]
            ],
            "type": "heatmap"
           }
          ],
          "heatmapgl": [
           {
            "colorbar": {
             "outlinewidth": 0,
             "ticks": ""
            },
            "colorscale": [
             [
              0,
              "#0d0887"
             ],
             [
              0.1111111111111111,
              "#46039f"
             ],
             [
              0.2222222222222222,
              "#7201a8"
             ],
             [
              0.3333333333333333,
              "#9c179e"
             ],
             [
              0.4444444444444444,
              "#bd3786"
             ],
             [
              0.5555555555555556,
              "#d8576b"
             ],
             [
              0.6666666666666666,
              "#ed7953"
             ],
             [
              0.7777777777777778,
              "#fb9f3a"
             ],
             [
              0.8888888888888888,
              "#fdca26"
             ],
             [
              1,
              "#f0f921"
             ]
            ],
            "type": "heatmapgl"
           }
          ],
          "histogram": [
           {
            "marker": {
             "colorbar": {
              "outlinewidth": 0,
              "ticks": ""
             }
            },
            "type": "histogram"
           }
          ],
          "histogram2d": [
           {
            "colorbar": {
             "outlinewidth": 0,
             "ticks": ""
            },
            "colorscale": [
             [
              0,
              "#0d0887"
             ],
             [
              0.1111111111111111,
              "#46039f"
             ],
             [
              0.2222222222222222,
              "#7201a8"
             ],
             [
              0.3333333333333333,
              "#9c179e"
             ],
             [
              0.4444444444444444,
              "#bd3786"
             ],
             [
              0.5555555555555556,
              "#d8576b"
             ],
             [
              0.6666666666666666,
              "#ed7953"
             ],
             [
              0.7777777777777778,
              "#fb9f3a"
             ],
             [
              0.8888888888888888,
              "#fdca26"
             ],
             [
              1,
              "#f0f921"
             ]
            ],
            "type": "histogram2d"
           }
          ],
          "histogram2dcontour": [
           {
            "colorbar": {
             "outlinewidth": 0,
             "ticks": ""
            },
            "colorscale": [
             [
              0,
              "#0d0887"
             ],
             [
              0.1111111111111111,
              "#46039f"
             ],
             [
              0.2222222222222222,
              "#7201a8"
             ],
             [
              0.3333333333333333,
              "#9c179e"
             ],
             [
              0.4444444444444444,
              "#bd3786"
             ],
             [
              0.5555555555555556,
              "#d8576b"
             ],
             [
              0.6666666666666666,
              "#ed7953"
             ],
             [
              0.7777777777777778,
              "#fb9f3a"
             ],
             [
              0.8888888888888888,
              "#fdca26"
             ],
             [
              1,
              "#f0f921"
             ]
            ],
            "type": "histogram2dcontour"
           }
          ],
          "mesh3d": [
           {
            "colorbar": {
             "outlinewidth": 0,
             "ticks": ""
            },
            "type": "mesh3d"
           }
          ],
          "parcoords": [
           {
            "line": {
             "colorbar": {
              "outlinewidth": 0,
              "ticks": ""
             }
            },
            "type": "parcoords"
           }
          ],
          "scatter": [
           {
            "marker": {
             "colorbar": {
              "outlinewidth": 0,
              "ticks": ""
             }
            },
            "type": "scatter"
           }
          ],
          "scatter3d": [
           {
            "line": {
             "colorbar": {
              "outlinewidth": 0,
              "ticks": ""
             }
            },
            "marker": {
             "colorbar": {
              "outlinewidth": 0,
              "ticks": ""
             }
            },
            "type": "scatter3d"
           }
          ],
          "scattercarpet": [
           {
            "marker": {
             "colorbar": {
              "outlinewidth": 0,
              "ticks": ""
             }
            },
            "type": "scattercarpet"
           }
          ],
          "scattergeo": [
           {
            "marker": {
             "colorbar": {
              "outlinewidth": 0,
              "ticks": ""
             }
            },
            "type": "scattergeo"
           }
          ],
          "scattergl": [
           {
            "marker": {
             "colorbar": {
              "outlinewidth": 0,
              "ticks": ""
             }
            },
            "type": "scattergl"
           }
          ],
          "scattermapbox": [
           {
            "marker": {
             "colorbar": {
              "outlinewidth": 0,
              "ticks": ""
             }
            },
            "type": "scattermapbox"
           }
          ],
          "scatterpolar": [
           {
            "marker": {
             "colorbar": {
              "outlinewidth": 0,
              "ticks": ""
             }
            },
            "type": "scatterpolar"
           }
          ],
          "scatterpolargl": [
           {
            "marker": {
             "colorbar": {
              "outlinewidth": 0,
              "ticks": ""
             }
            },
            "type": "scatterpolargl"
           }
          ],
          "scatterternary": [
           {
            "marker": {
             "colorbar": {
              "outlinewidth": 0,
              "ticks": ""
             }
            },
            "type": "scatterternary"
           }
          ],
          "surface": [
           {
            "colorbar": {
             "outlinewidth": 0,
             "ticks": ""
            },
            "colorscale": [
             [
              0,
              "#0d0887"
             ],
             [
              0.1111111111111111,
              "#46039f"
             ],
             [
              0.2222222222222222,
              "#7201a8"
             ],
             [
              0.3333333333333333,
              "#9c179e"
             ],
             [
              0.4444444444444444,
              "#bd3786"
             ],
             [
              0.5555555555555556,
              "#d8576b"
             ],
             [
              0.6666666666666666,
              "#ed7953"
             ],
             [
              0.7777777777777778,
              "#fb9f3a"
             ],
             [
              0.8888888888888888,
              "#fdca26"
             ],
             [
              1,
              "#f0f921"
             ]
            ],
            "type": "surface"
           }
          ],
          "table": [
           {
            "cells": {
             "fill": {
              "color": "#EBF0F8"
             },
             "line": {
              "color": "white"
             }
            },
            "header": {
             "fill": {
              "color": "#C8D4E3"
             },
             "line": {
              "color": "white"
             }
            },
            "type": "table"
           }
          ]
         },
         "layout": {
          "annotationdefaults": {
           "arrowcolor": "#2a3f5f",
           "arrowhead": 0,
           "arrowwidth": 1
          },
          "colorscale": {
           "diverging": [
            [
             0,
             "#8e0152"
            ],
            [
             0.1,
             "#c51b7d"
            ],
            [
             0.2,
             "#de77ae"
            ],
            [
             0.3,
             "#f1b6da"
            ],
            [
             0.4,
             "#fde0ef"
            ],
            [
             0.5,
             "#f7f7f7"
            ],
            [
             0.6,
             "#e6f5d0"
            ],
            [
             0.7,
             "#b8e186"
            ],
            [
             0.8,
             "#7fbc41"
            ],
            [
             0.9,
             "#4d9221"
            ],
            [
             1,
             "#276419"
            ]
           ],
           "sequential": [
            [
             0,
             "#0d0887"
            ],
            [
             0.1111111111111111,
             "#46039f"
            ],
            [
             0.2222222222222222,
             "#7201a8"
            ],
            [
             0.3333333333333333,
             "#9c179e"
            ],
            [
             0.4444444444444444,
             "#bd3786"
            ],
            [
             0.5555555555555556,
             "#d8576b"
            ],
            [
             0.6666666666666666,
             "#ed7953"
            ],
            [
             0.7777777777777778,
             "#fb9f3a"
            ],
            [
             0.8888888888888888,
             "#fdca26"
            ],
            [
             1,
             "#f0f921"
            ]
           ],
           "sequentialminus": [
            [
             0,
             "#0d0887"
            ],
            [
             0.1111111111111111,
             "#46039f"
            ],
            [
             0.2222222222222222,
             "#7201a8"
            ],
            [
             0.3333333333333333,
             "#9c179e"
            ],
            [
             0.4444444444444444,
             "#bd3786"
            ],
            [
             0.5555555555555556,
             "#d8576b"
            ],
            [
             0.6666666666666666,
             "#ed7953"
            ],
            [
             0.7777777777777778,
             "#fb9f3a"
            ],
            [
             0.8888888888888888,
             "#fdca26"
            ],
            [
             1,
             "#f0f921"
            ]
           ]
          },
          "colorway": [
           "#636efa",
           "#EF553B",
           "#00cc96",
           "#ab63fa",
           "#FFA15A",
           "#19d3f3",
           "#FF6692",
           "#B6E880",
           "#FF97FF",
           "#FECB52"
          ],
          "font": {
           "color": "#2a3f5f"
          },
          "geo": {
           "bgcolor": "white",
           "lakecolor": "white",
           "landcolor": "#E5ECF6",
           "showlakes": true,
           "showland": true,
           "subunitcolor": "white"
          },
          "hoverlabel": {
           "align": "left"
          },
          "hovermode": "closest",
          "mapbox": {
           "style": "light"
          },
          "paper_bgcolor": "white",
          "plot_bgcolor": "#E5ECF6",
          "polar": {
           "angularaxis": {
            "gridcolor": "white",
            "linecolor": "white",
            "ticks": ""
           },
           "bgcolor": "#E5ECF6",
           "radialaxis": {
            "gridcolor": "white",
            "linecolor": "white",
            "ticks": ""
           }
          },
          "scene": {
           "xaxis": {
            "backgroundcolor": "#E5ECF6",
            "gridcolor": "white",
            "gridwidth": 2,
            "linecolor": "white",
            "showbackground": true,
            "ticks": "",
            "zerolinecolor": "white"
           },
           "yaxis": {
            "backgroundcolor": "#E5ECF6",
            "gridcolor": "white",
            "gridwidth": 2,
            "linecolor": "white",
            "showbackground": true,
            "ticks": "",
            "zerolinecolor": "white"
           },
           "zaxis": {
            "backgroundcolor": "#E5ECF6",
            "gridcolor": "white",
            "gridwidth": 2,
            "linecolor": "white",
            "showbackground": true,
            "ticks": "",
            "zerolinecolor": "white"
           }
          },
          "shapedefaults": {
           "line": {
            "color": "#2a3f5f"
           }
          },
          "ternary": {
           "aaxis": {
            "gridcolor": "white",
            "linecolor": "white",
            "ticks": ""
           },
           "baxis": {
            "gridcolor": "white",
            "linecolor": "white",
            "ticks": ""
           },
           "bgcolor": "#E5ECF6",
           "caxis": {
            "gridcolor": "white",
            "linecolor": "white",
            "ticks": ""
           }
          },
          "title": {
           "x": 0.05
          },
          "xaxis": {
           "automargin": true,
           "gridcolor": "white",
           "linecolor": "white",
           "ticks": "",
           "zerolinecolor": "white",
           "zerolinewidth": 2
          },
          "yaxis": {
           "automargin": true,
           "gridcolor": "white",
           "linecolor": "white",
           "ticks": "",
           "zerolinecolor": "white",
           "zerolinewidth": 2
          }
         }
        },
        "title": {
         "text": "Meta2 residual plot of Group 1"
        }
       }
      },
      "text/html": [
       "<div>\n",
       "        \n",
       "        \n",
       "            <div id=\"89eaeac7-dcdc-494c-a161-a28cfa157e83\" class=\"plotly-graph-div\" style=\"height:525px; width:100%;\"></div>\n",
       "            <script type=\"text/javascript\">\n",
       "                require([\"plotly\"], function(Plotly) {\n",
       "                    window.PLOTLYENV=window.PLOTLYENV || {};\n",
       "                    \n",
       "                if (document.getElementById(\"89eaeac7-dcdc-494c-a161-a28cfa157e83\")) {\n",
       "                    Plotly.newPlot(\n",
       "                        '89eaeac7-dcdc-494c-a161-a28cfa157e83',\n",
       "                        [{\"marker\": {\"color\": [-726473.9610763008, 112406785.07029858, 108785350.40776567, -134016.0080429491, -65611.5495008298, 170040.2742285648, -14882220.51081153, -183771.4846509973, -1406449.745304524, -1060248.5989655235, 335145.8328829929, 29887219.311920166, 16453599.039079774, -40643131.53583988, -2498613.6382032186, -32857.95451614536, -157660.79727033453, 4588356.421093463, 19446334.498852655, 191622991.65424833, 8544215.60849557, 7591925.052542098, 6433229.559845007, 72526026.14835368, 14148914.611696161, 16293443.001088196, 119782940.32194403, 6576603.526683241, -9201643.48961166, -8832793.62800014, -3447074.86050079, -267949.0854478822, -30273550.63037628, -51528489.3220537, -10401305.731494687, 10313269.334845714, 20942440.198316734, 23277085.305762216, -230603.0123991276, -411866.8204141003, -290121.4471072418, 6390070.665612571, 6580589.486979812, -1314523.5899206472, 6967621.589681385, 7303427.96971199, 13944645.183589779, 399231.77092673094, 74177.85926948057, 30489072.33809892, 4863428.608328474, -78694512.2199617, -3036800.415016453, -366851.289146892, -1094761.3654196227, 8006492.76699838, 4182949.86268056, 9427192.35835175, 6216740.613693787, 5562512.775363296, 12095944.448333284, 2895049.0914258338, 25261254.74204835, 14241422.448577963, 63187573.42311563, 20935352.35966289, 8545187.143777028, 13825236.812674941, 12567579.416198153, 54987172.86395347, 8922418.216375515, 18892720.449989818, 3774726.264637816, 4950513.570055401, 6261816.705745882, 6856053.157540657, 122776.83634608344, -471572.53645043075, 11289542.68208494, 16577628.944147466, -214121.76792149537, -1003018.2698837072, -505895.28491760907, -285316.8767431213, 99897.02089490037, 1245374.3348590597, 72344611.46354799, 92432231.5467525, 1979922.361992304, 140532.68218906288, -190502.5211417086, -461117.1360552226, -1521439.829798112, 43356656.88189913, -32964589.208526924, -20258071.55118683, 208591763.06818902, 2374036.519953089, 638051.6834191321, -18004828.852073424, 10311345.683419133, -3664106.0757046826]}, \"mode\": \"markers\", \"text\": [\"O Brother, Where Art Thou?\", \"The Twilight Saga: Breaking Dawn Part 1\", \"The Twilight Saga: Breaking Dawn Part 2\", \"Helena From the Wedding\", \"Monsters\", \"Catfish\", \"Red\", \"Freakonomics\", \"The Warrior's Way\", \"Stone\", \"Frankenweenie\", \"John Carter\", \"Dolphin Tale\", \"Penguins of Madagascar\", \"Minions\", \"Proud American\", \"Edmond\", \"Tootsie\", \"Waterworld\", \"The Lion King (2019)\", \"Crawl\", \"Stuber\", \"Midsommar\", \"Spider-Man: Far from Home\", \"Yesterday\", \"Annabelle Comes Home\", \"Toy Story 4\", \"Child's Play (2019)\", \"Anna (2019)\", \"Men in Black International\", \"Shaft (2019)\\u00a0\", \"Late Night\", \"The Secret Life of Pets 2\", \"Dark Phoenix\", \"Godzilla:King of the Monsters\", \"Rocketman\", \"Return of the Jedi\", \"Indiana Jones and the Temple of Doom\", \"The Idolmaker\", \"The Grass Harp\", \"The Grand\", \"Jaws\", \"Superman (1978)\", \"Clerks\", \"Juice\", \"He Got Game\", \"White Men Can't Jump\", \"Mulholland Drive\", \"Blue Velvet\", \"Once Upon a Time in Hollywood\", \"The Big Lebowski\", \"Train to Busan\", \"Pride and Prejudice and Zombies\", \"Dead Poets Society\", \"A Fish Called Wanda\", \"The Witches of Eastwick\", \"Ferris Bueller's Day Off\", \"Back to the Future\", \"Police Academy\", \"Trading Places\", \"Star Trek II The Wrath of Khan\", \"The Blues Brothers\", \"V For Vendetta\", \"In the Line of Fire\", \"Us\", \"The Forbidden Kingdom\", \"Rumble in the Bronx\", \"Machete\", \"Beverly Hills Cop\", \"Watchmen\", \"Jackie Brown\", \"Zombieland\", \"Mo Better Blues\", \"Thelma and Louise\", \"New Jack City\", \"The Lawnmower Man\", \"Schindler's List\", \"Four Weddings and a Funeral\", \"Get Shorty\", \"Jerry Maguire\", \"Welcome to Sarajevo\", \"Trojan War\", \"The Gingerbread Man\", \"Tumbleweeds\", \"Turn it up\", \"The Adventures of Pluto Nash\", \"The Lord of the Rings: The Return of the King\", \"Harry Potter and the Prisoner of Azkaban\", \"Stay\", \"Fast Food Nation\", \"Into the Wild\", \"The Wrestler\", \"Slumdog Millionaire\", \"Jackass 3-D\", \"Skyfall\", \"The Hunger Games: Mocking Jay - Part 1\", \"Jurassic World\", \"Shut In\", \"Molly's Game\", \"Peter Rabbit\", \"BlacKkKlansman\", \"Replicas\", \"Crawl\"], \"type\": \"scatter\", \"x\": [\"O Brother, Where Art Thou?\", \"The Twilight Saga: Breaking Dawn Part 1\", \"The Twilight Saga: Breaking Dawn Part 2\", \"Helena From the Wedding\", \"Monsters\", \"Catfish\", \"Red\", \"Freakonomics\", \"The Warrior's Way\", \"Stone\", \"Frankenweenie\", \"John Carter\", \"Dolphin Tale\", \"Penguins of Madagascar\", \"Minions\", \"Proud American\", \"Edmond\", \"Tootsie\", \"Waterworld\", \"The Lion King (2019)\", \"Crawl\", \"Stuber\", \"Midsommar\", \"Spider-Man: Far from Home\", \"Yesterday\", \"Annabelle Comes Home\", \"Toy Story 4\", \"Child's Play (2019)\", \"Anna (2019)\", \"Men in Black International\", \"Shaft (2019)\\u00a0\", \"Late Night\", \"The Secret Life of Pets 2\", \"Dark Phoenix\", \"Godzilla:King of the Monsters\", \"Rocketman\", \"Return of the Jedi\", \"Indiana Jones and the Temple of Doom\", \"The Idolmaker\", \"The Grass Harp\", \"The Grand\", \"Jaws\", \"Superman (1978)\", \"Clerks\", \"Juice\", \"He Got Game\", \"White Men Can't Jump\", \"Mulholland Drive\", \"Blue Velvet\", \"Once Upon a Time in Hollywood\", \"The Big Lebowski\", \"Train to Busan\", \"Pride and Prejudice and Zombies\", \"Dead Poets Society\", \"A Fish Called Wanda\", \"The Witches of Eastwick\", \"Ferris Bueller's Day Off\", \"Back to the Future\", \"Police Academy\", \"Trading Places\", \"Star Trek II The Wrath of Khan\", \"The Blues Brothers\", \"V For Vendetta\", \"In the Line of Fire\", \"Us\", \"The Forbidden Kingdom\", \"Rumble in the Bronx\", \"Machete\", \"Beverly Hills Cop\", \"Watchmen\", \"Jackie Brown\", \"Zombieland\", \"Mo Better Blues\", \"Thelma and Louise\", \"New Jack City\", \"The Lawnmower Man\", \"Schindler's List\", \"Four Weddings and a Funeral\", \"Get Shorty\", \"Jerry Maguire\", \"Welcome to Sarajevo\", \"Trojan War\", \"The Gingerbread Man\", \"Tumbleweeds\", \"Turn it up\", \"The Adventures of Pluto Nash\", \"The Lord of the Rings: The Return of the King\", \"Harry Potter and the Prisoner of Azkaban\", \"Stay\", \"Fast Food Nation\", \"Into the Wild\", \"The Wrestler\", \"Slumdog Millionaire\", \"Jackass 3-D\", \"Skyfall\", \"The Hunger Games: Mocking Jay - Part 1\", \"Jurassic World\", \"Shut In\", \"Molly's Game\", \"Peter Rabbit\", \"BlacKkKlansman\", \"Replicas\"], \"y\": [-726473.9610763008, 112406785.07029858, 108785350.40776567, -134016.0080429491, -65611.5495008298, 170040.2742285648, -14882220.51081153, -183771.4846509973, -1406449.745304524, -1060248.5989655235, 335145.8328829929, 29887219.311920166, 16453599.039079774, -40643131.53583988, -2498613.6382032186, -32857.95451614536, -157660.79727033453, 4588356.421093463, 19446334.498852655, 191622991.65424833, 8544215.60849557, 7591925.052542098, 6433229.559845007, 72526026.14835368, 14148914.611696161, 16293443.001088196, 119782940.32194403, 6576603.526683241, -9201643.48961166, -8832793.62800014, -3447074.86050079, -267949.0854478822, -30273550.63037628, -51528489.3220537, -10401305.731494687, 10313269.334845714, 20942440.198316734, 23277085.305762216, -230603.0123991276, -411866.8204141003, -290121.4471072418, 6390070.665612571, 6580589.486979812, -1314523.5899206472, 6967621.589681385, 7303427.96971199, 13944645.183589779, 399231.77092673094, 74177.85926948057, 30489072.33809892, 4863428.608328474, -78694512.2199617, -3036800.415016453, -366851.289146892, -1094761.3654196227, 8006492.76699838, 4182949.86268056, 9427192.35835175, 6216740.613693787, 5562512.775363296, 12095944.448333284, 2895049.0914258338, 25261254.74204835, 14241422.448577963, 63187573.42311563, 20935352.35966289, 8545187.143777028, 13825236.812674941, 12567579.416198153, 54987172.86395347, 8922418.216375515, 18892720.449989818, 3774726.264637816, 4950513.570055401, 6261816.705745882, 6856053.157540657, 122776.83634608344, -471572.53645043075, 11289542.68208494, 16577628.944147466, -214121.76792149537, -1003018.2698837072, -505895.28491760907, -285316.8767431213, 99897.02089490037, 1245374.3348590597, 72344611.46354799, 92432231.5467525, 1979922.361992304, 140532.68218906288, -190502.5211417086, -461117.1360552226, -1521439.829798112, 43356656.88189913, -32964589.208526924, -20258071.55118683, 208591763.06818902, 2374036.519953089, 638051.6834191321, -18004828.852073424, 10311345.683419133, -3664106.0757046826]}],\n",
       "                        {\"template\": {\"data\": {\"bar\": [{\"error_x\": {\"color\": \"#2a3f5f\"}, \"error_y\": {\"color\": \"#2a3f5f\"}, \"marker\": {\"line\": {\"color\": \"#E5ECF6\", \"width\": 0.5}}, \"type\": \"bar\"}], \"barpolar\": [{\"marker\": {\"line\": {\"color\": \"#E5ECF6\", \"width\": 0.5}}, \"type\": \"barpolar\"}], \"carpet\": [{\"aaxis\": {\"endlinecolor\": \"#2a3f5f\", \"gridcolor\": \"white\", \"linecolor\": \"white\", \"minorgridcolor\": \"white\", \"startlinecolor\": \"#2a3f5f\"}, \"baxis\": {\"endlinecolor\": \"#2a3f5f\", \"gridcolor\": \"white\", \"linecolor\": \"white\", \"minorgridcolor\": \"white\", \"startlinecolor\": \"#2a3f5f\"}, \"type\": \"carpet\"}], \"choropleth\": [{\"colorbar\": {\"outlinewidth\": 0, \"ticks\": \"\"}, \"type\": \"choropleth\"}], \"contour\": [{\"colorbar\": {\"outlinewidth\": 0, \"ticks\": \"\"}, \"colorscale\": [[0.0, \"#0d0887\"], [0.1111111111111111, \"#46039f\"], [0.2222222222222222, \"#7201a8\"], [0.3333333333333333, \"#9c179e\"], [0.4444444444444444, \"#bd3786\"], [0.5555555555555556, \"#d8576b\"], [0.6666666666666666, \"#ed7953\"], [0.7777777777777778, \"#fb9f3a\"], [0.8888888888888888, \"#fdca26\"], [1.0, \"#f0f921\"]], \"type\": \"contour\"}], \"contourcarpet\": [{\"colorbar\": {\"outlinewidth\": 0, \"ticks\": \"\"}, \"type\": \"contourcarpet\"}], \"heatmap\": [{\"colorbar\": {\"outlinewidth\": 0, \"ticks\": \"\"}, \"colorscale\": [[0.0, \"#0d0887\"], [0.1111111111111111, \"#46039f\"], [0.2222222222222222, \"#7201a8\"], [0.3333333333333333, \"#9c179e\"], [0.4444444444444444, \"#bd3786\"], [0.5555555555555556, \"#d8576b\"], [0.6666666666666666, \"#ed7953\"], [0.7777777777777778, \"#fb9f3a\"], [0.8888888888888888, \"#fdca26\"], [1.0, \"#f0f921\"]], \"type\": \"heatmap\"}], \"heatmapgl\": [{\"colorbar\": {\"outlinewidth\": 0, \"ticks\": \"\"}, \"colorscale\": [[0.0, \"#0d0887\"], [0.1111111111111111, \"#46039f\"], [0.2222222222222222, \"#7201a8\"], [0.3333333333333333, \"#9c179e\"], [0.4444444444444444, \"#bd3786\"], [0.5555555555555556, \"#d8576b\"], [0.6666666666666666, \"#ed7953\"], [0.7777777777777778, \"#fb9f3a\"], [0.8888888888888888, \"#fdca26\"], [1.0, \"#f0f921\"]], \"type\": \"heatmapgl\"}], \"histogram\": [{\"marker\": {\"colorbar\": {\"outlinewidth\": 0, \"ticks\": \"\"}}, \"type\": \"histogram\"}], \"histogram2d\": [{\"colorbar\": {\"outlinewidth\": 0, \"ticks\": \"\"}, \"colorscale\": [[0.0, \"#0d0887\"], [0.1111111111111111, \"#46039f\"], [0.2222222222222222, \"#7201a8\"], [0.3333333333333333, \"#9c179e\"], [0.4444444444444444, \"#bd3786\"], [0.5555555555555556, \"#d8576b\"], [0.6666666666666666, \"#ed7953\"], [0.7777777777777778, \"#fb9f3a\"], [0.8888888888888888, \"#fdca26\"], [1.0, \"#f0f921\"]], \"type\": \"histogram2d\"}], \"histogram2dcontour\": [{\"colorbar\": {\"outlinewidth\": 0, \"ticks\": \"\"}, \"colorscale\": [[0.0, \"#0d0887\"], [0.1111111111111111, \"#46039f\"], [0.2222222222222222, \"#7201a8\"], [0.3333333333333333, \"#9c179e\"], [0.4444444444444444, \"#bd3786\"], [0.5555555555555556, \"#d8576b\"], [0.6666666666666666, \"#ed7953\"], [0.7777777777777778, \"#fb9f3a\"], [0.8888888888888888, \"#fdca26\"], [1.0, \"#f0f921\"]], \"type\": \"histogram2dcontour\"}], \"mesh3d\": [{\"colorbar\": {\"outlinewidth\": 0, \"ticks\": \"\"}, \"type\": \"mesh3d\"}], \"parcoords\": [{\"line\": {\"colorbar\": {\"outlinewidth\": 0, \"ticks\": \"\"}}, \"type\": \"parcoords\"}], \"scatter\": [{\"marker\": {\"colorbar\": {\"outlinewidth\": 0, \"ticks\": \"\"}}, \"type\": \"scatter\"}], \"scatter3d\": [{\"line\": {\"colorbar\": {\"outlinewidth\": 0, \"ticks\": \"\"}}, \"marker\": {\"colorbar\": {\"outlinewidth\": 0, \"ticks\": \"\"}}, \"type\": \"scatter3d\"}], \"scattercarpet\": [{\"marker\": {\"colorbar\": {\"outlinewidth\": 0, \"ticks\": \"\"}}, \"type\": \"scattercarpet\"}], \"scattergeo\": [{\"marker\": {\"colorbar\": {\"outlinewidth\": 0, \"ticks\": \"\"}}, \"type\": \"scattergeo\"}], \"scattergl\": [{\"marker\": {\"colorbar\": {\"outlinewidth\": 0, \"ticks\": \"\"}}, \"type\": \"scattergl\"}], \"scattermapbox\": [{\"marker\": {\"colorbar\": {\"outlinewidth\": 0, \"ticks\": \"\"}}, \"type\": \"scattermapbox\"}], \"scatterpolar\": [{\"marker\": {\"colorbar\": {\"outlinewidth\": 0, \"ticks\": \"\"}}, \"type\": \"scatterpolar\"}], \"scatterpolargl\": [{\"marker\": {\"colorbar\": {\"outlinewidth\": 0, \"ticks\": \"\"}}, \"type\": \"scatterpolargl\"}], \"scatterternary\": [{\"marker\": {\"colorbar\": {\"outlinewidth\": 0, \"ticks\": \"\"}}, \"type\": \"scatterternary\"}], \"surface\": [{\"colorbar\": {\"outlinewidth\": 0, \"ticks\": \"\"}, \"colorscale\": [[0.0, \"#0d0887\"], [0.1111111111111111, \"#46039f\"], [0.2222222222222222, \"#7201a8\"], [0.3333333333333333, \"#9c179e\"], [0.4444444444444444, \"#bd3786\"], [0.5555555555555556, \"#d8576b\"], [0.6666666666666666, \"#ed7953\"], [0.7777777777777778, \"#fb9f3a\"], [0.8888888888888888, \"#fdca26\"], [1.0, \"#f0f921\"]], \"type\": \"surface\"}], \"table\": [{\"cells\": {\"fill\": {\"color\": \"#EBF0F8\"}, \"line\": {\"color\": \"white\"}}, \"header\": {\"fill\": {\"color\": \"#C8D4E3\"}, \"line\": {\"color\": \"white\"}}, \"type\": \"table\"}]}, \"layout\": {\"annotationdefaults\": {\"arrowcolor\": \"#2a3f5f\", \"arrowhead\": 0, \"arrowwidth\": 1}, \"colorscale\": {\"diverging\": [[0, \"#8e0152\"], [0.1, \"#c51b7d\"], [0.2, \"#de77ae\"], [0.3, \"#f1b6da\"], [0.4, \"#fde0ef\"], [0.5, \"#f7f7f7\"], [0.6, \"#e6f5d0\"], [0.7, \"#b8e186\"], [0.8, \"#7fbc41\"], [0.9, \"#4d9221\"], [1, \"#276419\"]], \"sequential\": [[0.0, \"#0d0887\"], [0.1111111111111111, \"#46039f\"], [0.2222222222222222, \"#7201a8\"], [0.3333333333333333, \"#9c179e\"], [0.4444444444444444, \"#bd3786\"], [0.5555555555555556, \"#d8576b\"], [0.6666666666666666, \"#ed7953\"], [0.7777777777777778, \"#fb9f3a\"], [0.8888888888888888, \"#fdca26\"], [1.0, \"#f0f921\"]], \"sequentialminus\": [[0.0, \"#0d0887\"], [0.1111111111111111, \"#46039f\"], [0.2222222222222222, \"#7201a8\"], [0.3333333333333333, \"#9c179e\"], [0.4444444444444444, \"#bd3786\"], [0.5555555555555556, \"#d8576b\"], [0.6666666666666666, \"#ed7953\"], [0.7777777777777778, \"#fb9f3a\"], [0.8888888888888888, \"#fdca26\"], [1.0, \"#f0f921\"]]}, \"colorway\": [\"#636efa\", \"#EF553B\", \"#00cc96\", \"#ab63fa\", \"#FFA15A\", \"#19d3f3\", \"#FF6692\", \"#B6E880\", \"#FF97FF\", \"#FECB52\"], \"font\": {\"color\": \"#2a3f5f\"}, \"geo\": {\"bgcolor\": \"white\", \"lakecolor\": \"white\", \"landcolor\": \"#E5ECF6\", \"showlakes\": true, \"showland\": true, \"subunitcolor\": \"white\"}, \"hoverlabel\": {\"align\": \"left\"}, \"hovermode\": \"closest\", \"mapbox\": {\"style\": \"light\"}, \"paper_bgcolor\": \"white\", \"plot_bgcolor\": \"#E5ECF6\", \"polar\": {\"angularaxis\": {\"gridcolor\": \"white\", \"linecolor\": \"white\", \"ticks\": \"\"}, \"bgcolor\": \"#E5ECF6\", \"radialaxis\": {\"gridcolor\": \"white\", \"linecolor\": \"white\", \"ticks\": \"\"}}, \"scene\": {\"xaxis\": {\"backgroundcolor\": \"#E5ECF6\", \"gridcolor\": \"white\", \"gridwidth\": 2, \"linecolor\": \"white\", \"showbackground\": true, \"ticks\": \"\", \"zerolinecolor\": \"white\"}, \"yaxis\": {\"backgroundcolor\": \"#E5ECF6\", \"gridcolor\": \"white\", \"gridwidth\": 2, \"linecolor\": \"white\", \"showbackground\": true, \"ticks\": \"\", \"zerolinecolor\": \"white\"}, \"zaxis\": {\"backgroundcolor\": \"#E5ECF6\", \"gridcolor\": \"white\", \"gridwidth\": 2, \"linecolor\": \"white\", \"showbackground\": true, \"ticks\": \"\", \"zerolinecolor\": \"white\"}}, \"shapedefaults\": {\"line\": {\"color\": \"#2a3f5f\"}}, \"ternary\": {\"aaxis\": {\"gridcolor\": \"white\", \"linecolor\": \"white\", \"ticks\": \"\"}, \"baxis\": {\"gridcolor\": \"white\", \"linecolor\": \"white\", \"ticks\": \"\"}, \"bgcolor\": \"#E5ECF6\", \"caxis\": {\"gridcolor\": \"white\", \"linecolor\": \"white\", \"ticks\": \"\"}}, \"title\": {\"x\": 0.05}, \"xaxis\": {\"automargin\": true, \"gridcolor\": \"white\", \"linecolor\": \"white\", \"ticks\": \"\", \"zerolinecolor\": \"white\", \"zerolinewidth\": 2}, \"yaxis\": {\"automargin\": true, \"gridcolor\": \"white\", \"linecolor\": \"white\", \"ticks\": \"\", \"zerolinecolor\": \"white\", \"zerolinewidth\": 2}}}, \"title\": {\"text\": \"Meta2 residual plot of Group 1\"}},\n",
       "                        {\"responsive\": true}\n",
       "                    ).then(function(){\n",
       "                            \n",
       "var gd = document.getElementById('89eaeac7-dcdc-494c-a161-a28cfa157e83');\n",
       "var x = new MutationObserver(function (mutations, observer) {{\n",
       "        var display = window.getComputedStyle(gd).display;\n",
       "        if (!display || display === 'none') {{\n",
       "            console.log([gd, 'removed!']);\n",
       "            Plotly.purge(gd);\n",
       "            observer.disconnect();\n",
       "        }}\n",
       "}});\n",
       "\n",
       "// Listen for the removal of the full notebook cells\n",
       "var notebookContainer = gd.closest('#notebook-container');\n",
       "if (notebookContainer) {{\n",
       "    x.observe(notebookContainer, {childList: true});\n",
       "}}\n",
       "\n",
       "// Listen for the clearing of the current output cell\n",
       "var outputEl = gd.closest('.output');\n",
       "if (outputEl) {{\n",
       "    x.observe(outputEl, {childList: true});\n",
       "}}\n",
       "\n",
       "                        })\n",
       "                };\n",
       "                });\n",
       "            </script>\n",
       "        </div>"
      ]
     },
     "metadata": {},
     "output_type": "display_data"
    }
   ],
   "source": [
    "# Residual plot for meta2 information\n",
    "\n",
    "g1_result_final[\"meta2_residuals\"] = g1_result_final[\"ground_truth\"] - g1_result_final[\"pred_meta_2\"]\n",
    "\n",
    "fig = go.Figure(data=go.Scatter(x=g1_result_final[\"name\"],\n",
    "                                y=g1_result_final[\"meta2_residuals\"],\n",
    "                                mode='markers',\n",
    "                                marker_color=g1_result_final[\"meta2_residuals\"],\n",
    "                                text=g4_result_final[\"name\"])) # hover text goes here(movie_title)\n",
    "\n",
    "fig.update_layout(title='Meta2 residual plot of Group 1')\n",
    "fig.show()"
   ]
  },
  {
   "cell_type": "code",
   "execution_count": 33,
   "metadata": {},
   "outputs": [
    {
     "data": {
      "application/vnd.plotly.v1+json": {
       "config": {
        "plotlyServerURL": "https://plot.ly"
       },
       "data": [
        {
         "marker": {
          "color": [
           10539030.642857144,
           86996548.19642857,
           81591958.53571428,
           11305119.777777778,
           2155815.619047619,
           4648541.986111111,
           24878671.976190474,
           4476887.1190476185,
           17112406.98214286,
           18475460.19642857,
           44306873.3452381,
           33505912.80357143,
           16303753.089285715,
           40283451.35714286,
           28424760.48214286,
           9751691.642857144,
           10177754.023809524,
           6293682.440476191,
           16684331.5,
           36828618.36309524,
           18079052.92857143,
           31634072.863095235,
           2009541.6785714286,
           21118983.25,
           10914305.404761903,
           5206330.589285715,
           21025831.190476187,
           16203580.464285715,
           9415555.517857144,
           23435402.380952384,
           14393357.398809524,
           13056706.80952381,
           36193399.79166667,
           33174480.57142857,
           27488628.09523809,
           13355584.642857146,
           73435802.9047619,
           22190284.53571428,
           5043142.315476188,
           7623963.202380952,
           19130483.666666664,
           7492757.672619048,
           10495014.101190476,
           8351997.821428573,
           10873757.464285716,
           22254103.45238095,
           14489751.744047618,
           4982090.952380953,
           16918055.04761905,
           17078081.17857143,
           9329784.42857143,
           266289.76785714284,
           12302872.255952382,
           5894549.345238096,
           6666015.214285714,
           12213113.107142854,
           9699658.738095237,
           12478450.690476192,
           9937329.351190476,
           8151245.321428573,
           16546410.690476192,
           34652649.291666664,
           29308250.13095238,
           10366192.00595238,
           8474727.88095238,
           21282347.410714287,
           23647908.06547619,
           18815339.49404762,
           13059922.428571427,
           30321978.52976191,
           18865492.023809526,
           18469086.851190474,
           15966604.970238093,
           7953991.833333332,
           20555766.684523813,
           9782964.67857143,
           6874486.7976190485,
           3753403.6785714286,
           17104936.42261905,
           13963829.589285715,
           4704052.6190476185,
           10522510.351190478,
           24714215.31547619,
           15789195.702380953,
           15647989.220238095,
           11956064.083333332,
           99464940.14880952,
           81944827.17857143,
           23880114.60119048,
           4629278.964285715,
           21005632.238095246,
           12467357.517857146,
           8143137.785714285,
           29909302.11904762,
           49601877.2202381,
           64879077.16666667,
           115815863.71428572,
           8216249.717948717,
           10074555.57142857,
           38617161.48809523,
           10074555.57142857,
           14122628.125
          ]
         },
         "mode": "markers",
         "text": [
          "O Brother, Where Art Thou?",
          "The Twilight Saga: Breaking Dawn Part 1",
          "The Twilight Saga: Breaking Dawn Part 2",
          "Helena From the Wedding",
          "Monsters",
          "Catfish",
          "Red",
          "Freakonomics",
          "The Warrior's Way",
          "Stone",
          "Frankenweenie",
          "John Carter",
          "Dolphin Tale",
          "Penguins of Madagascar",
          "Minions",
          "Proud American",
          "Edmond",
          "Tootsie",
          "Waterworld",
          "The Lion King (2019)",
          "Crawl",
          "Stuber",
          "Midsommar",
          "Spider-Man: Far from Home",
          "Yesterday",
          "Annabelle Comes Home",
          "Toy Story 4",
          "Child's Play (2019)",
          "Anna (2019)",
          "Men in Black International",
          "Shaft (2019) ",
          "Late Night",
          "The Secret Life of Pets 2",
          "Dark Phoenix",
          "Godzilla:King of the Monsters",
          "Rocketman",
          "Return of the Jedi",
          "Indiana Jones and the Temple of Doom",
          "The Idolmaker",
          "The Grass Harp",
          "The Grand",
          "Jaws",
          "Superman (1978)",
          "Clerks",
          "Juice",
          "He Got Game",
          "White Men Can't Jump",
          "Mulholland Drive",
          "Blue Velvet",
          "Once Upon a Time in Hollywood",
          "The Big Lebowski",
          "Train to Busan",
          "Pride and Prejudice and Zombies",
          "Dead Poets Society",
          "A Fish Called Wanda",
          "The Witches of Eastwick",
          "Ferris Bueller's Day Off",
          "Back to the Future",
          "Police Academy",
          "Trading Places",
          "Star Trek II The Wrath of Khan",
          "The Blues Brothers",
          "V For Vendetta",
          "In the Line of Fire",
          "Us",
          "The Forbidden Kingdom",
          "Rumble in the Bronx",
          "Machete",
          "Beverly Hills Cop",
          "Watchmen",
          "Jackie Brown",
          "Zombieland",
          "Mo Better Blues",
          "Thelma and Louise",
          "New Jack City",
          "The Lawnmower Man",
          "Schindler's List",
          "Four Weddings and a Funeral",
          "Get Shorty",
          "Jerry Maguire",
          "Welcome to Sarajevo",
          "Trojan War",
          "The Gingerbread Man",
          "Tumbleweeds",
          "Turn it up",
          "The Adventures of Pluto Nash",
          "The Lord of the Rings: The Return of the King",
          "Harry Potter and the Prisoner of Azkaban",
          "Stay",
          "Fast Food Nation",
          "Into the Wild",
          "The Wrestler",
          "Slumdog Millionaire",
          "Jackass 3-D",
          "Skyfall",
          "The Hunger Games: Mocking Jay - Part 1",
          "Jurassic World",
          "Shut In",
          "Molly's Game",
          "Peter Rabbit",
          "BlacKkKlansman",
          "Replicas"
         ],
         "type": "scatter",
         "x": [
          "O Brother, Where Art Thou?",
          "The Twilight Saga: Breaking Dawn Part 1",
          "The Twilight Saga: Breaking Dawn Part 2",
          "Helena From the Wedding",
          "Monsters",
          "Catfish",
          "Red",
          "Freakonomics",
          "The Warrior's Way",
          "Stone",
          "Frankenweenie",
          "John Carter",
          "Dolphin Tale",
          "Penguins of Madagascar",
          "Minions",
          "Proud American",
          "Edmond",
          "Tootsie",
          "Waterworld",
          "The Lion King (2019)",
          "Crawl",
          "Stuber",
          "Midsommar",
          "Spider-Man: Far from Home",
          "Yesterday",
          "Annabelle Comes Home",
          "Toy Story 4",
          "Child's Play (2019)",
          "Anna (2019)",
          "Men in Black International",
          "Shaft (2019) ",
          "Late Night",
          "The Secret Life of Pets 2",
          "Dark Phoenix",
          "Godzilla:King of the Monsters",
          "Rocketman",
          "Return of the Jedi",
          "Indiana Jones and the Temple of Doom",
          "The Idolmaker",
          "The Grass Harp",
          "The Grand",
          "Jaws",
          "Superman (1978)",
          "Clerks",
          "Juice",
          "He Got Game",
          "White Men Can't Jump",
          "Mulholland Drive",
          "Blue Velvet",
          "Once Upon a Time in Hollywood",
          "The Big Lebowski",
          "Train to Busan",
          "Pride and Prejudice and Zombies",
          "Dead Poets Society",
          "A Fish Called Wanda",
          "The Witches of Eastwick",
          "Ferris Bueller's Day Off",
          "Back to the Future",
          "Police Academy",
          "Trading Places",
          "Star Trek II The Wrath of Khan",
          "The Blues Brothers",
          "V For Vendetta",
          "In the Line of Fire",
          "Us",
          "The Forbidden Kingdom",
          "Rumble in the Bronx",
          "Machete",
          "Beverly Hills Cop",
          "Watchmen",
          "Jackie Brown",
          "Zombieland",
          "Mo Better Blues",
          "Thelma and Louise",
          "New Jack City",
          "The Lawnmower Man",
          "Schindler's List",
          "Four Weddings and a Funeral",
          "Get Shorty",
          "Jerry Maguire",
          "Welcome to Sarajevo",
          "Trojan War",
          "The Gingerbread Man",
          "Tumbleweeds",
          "Turn it up",
          "The Adventures of Pluto Nash",
          "The Lord of the Rings: The Return of the King",
          "Harry Potter and the Prisoner of Azkaban",
          "Stay",
          "Fast Food Nation",
          "Into the Wild",
          "The Wrestler",
          "Slumdog Millionaire",
          "Jackass 3-D",
          "Skyfall",
          "The Hunger Games: Mocking Jay - Part 1",
          "Jurassic World",
          "Shut In",
          "Molly's Game",
          "Peter Rabbit",
          "BlacKkKlansman",
          "Replicas"
         ],
         "y": [
          10539030.642857144,
          86996548.19642857,
          81591958.53571428,
          11305119.777777778,
          2155815.619047619,
          4648541.986111111,
          24878671.976190474,
          4476887.1190476185,
          17112406.98214286,
          18475460.19642857,
          44306873.3452381,
          33505912.80357143,
          16303753.089285715,
          40283451.35714286,
          28424760.48214286,
          9751691.642857144,
          10177754.023809524,
          6293682.440476191,
          16684331.5,
          36828618.36309524,
          18079052.92857143,
          31634072.863095235,
          2009541.6785714286,
          21118983.25,
          10914305.404761903,
          5206330.589285715,
          21025831.190476187,
          16203580.464285715,
          9415555.517857144,
          23435402.380952384,
          14393357.398809524,
          13056706.80952381,
          36193399.79166667,
          33174480.57142857,
          27488628.09523809,
          13355584.642857146,
          73435802.9047619,
          22190284.53571428,
          5043142.315476188,
          7623963.202380952,
          19130483.666666664,
          7492757.672619048,
          10495014.101190476,
          8351997.821428573,
          10873757.464285716,
          22254103.45238095,
          14489751.744047618,
          4982090.952380953,
          16918055.04761905,
          17078081.17857143,
          9329784.42857143,
          266289.76785714284,
          12302872.255952382,
          5894549.345238096,
          6666015.214285714,
          12213113.107142854,
          9699658.738095237,
          12478450.690476192,
          9937329.351190476,
          8151245.321428573,
          16546410.690476192,
          34652649.291666664,
          29308250.13095238,
          10366192.00595238,
          8474727.88095238,
          21282347.410714287,
          23647908.06547619,
          18815339.49404762,
          13059922.428571427,
          30321978.52976191,
          18865492.023809526,
          18469086.851190474,
          15966604.970238093,
          7953991.833333332,
          20555766.684523813,
          9782964.67857143,
          6874486.7976190485,
          3753403.6785714286,
          17104936.42261905,
          13963829.589285715,
          4704052.6190476185,
          10522510.351190478,
          24714215.31547619,
          15789195.702380953,
          15647989.220238095,
          11956064.083333332,
          99464940.14880952,
          81944827.17857143,
          23880114.60119048,
          4629278.964285715,
          21005632.238095246,
          12467357.517857146,
          8143137.785714285,
          29909302.11904762,
          49601877.2202381,
          64879077.16666667,
          115815863.71428572,
          8216249.717948717,
          10074555.57142857,
          38617161.48809523,
          10074555.57142857,
          14122628.125
         ]
        }
       ],
       "layout": {
        "template": {
         "data": {
          "bar": [
           {
            "error_x": {
             "color": "#2a3f5f"
            },
            "error_y": {
             "color": "#2a3f5f"
            },
            "marker": {
             "line": {
              "color": "#E5ECF6",
              "width": 0.5
             }
            },
            "type": "bar"
           }
          ],
          "barpolar": [
           {
            "marker": {
             "line": {
              "color": "#E5ECF6",
              "width": 0.5
             }
            },
            "type": "barpolar"
           }
          ],
          "carpet": [
           {
            "aaxis": {
             "endlinecolor": "#2a3f5f",
             "gridcolor": "white",
             "linecolor": "white",
             "minorgridcolor": "white",
             "startlinecolor": "#2a3f5f"
            },
            "baxis": {
             "endlinecolor": "#2a3f5f",
             "gridcolor": "white",
             "linecolor": "white",
             "minorgridcolor": "white",
             "startlinecolor": "#2a3f5f"
            },
            "type": "carpet"
           }
          ],
          "choropleth": [
           {
            "colorbar": {
             "outlinewidth": 0,
             "ticks": ""
            },
            "type": "choropleth"
           }
          ],
          "contour": [
           {
            "colorbar": {
             "outlinewidth": 0,
             "ticks": ""
            },
            "colorscale": [
             [
              0,
              "#0d0887"
             ],
             [
              0.1111111111111111,
              "#46039f"
             ],
             [
              0.2222222222222222,
              "#7201a8"
             ],
             [
              0.3333333333333333,
              "#9c179e"
             ],
             [
              0.4444444444444444,
              "#bd3786"
             ],
             [
              0.5555555555555556,
              "#d8576b"
             ],
             [
              0.6666666666666666,
              "#ed7953"
             ],
             [
              0.7777777777777778,
              "#fb9f3a"
             ],
             [
              0.8888888888888888,
              "#fdca26"
             ],
             [
              1,
              "#f0f921"
             ]
            ],
            "type": "contour"
           }
          ],
          "contourcarpet": [
           {
            "colorbar": {
             "outlinewidth": 0,
             "ticks": ""
            },
            "type": "contourcarpet"
           }
          ],
          "heatmap": [
           {
            "colorbar": {
             "outlinewidth": 0,
             "ticks": ""
            },
            "colorscale": [
             [
              0,
              "#0d0887"
             ],
             [
              0.1111111111111111,
              "#46039f"
             ],
             [
              0.2222222222222222,
              "#7201a8"
             ],
             [
              0.3333333333333333,
              "#9c179e"
             ],
             [
              0.4444444444444444,
              "#bd3786"
             ],
             [
              0.5555555555555556,
              "#d8576b"
             ],
             [
              0.6666666666666666,
              "#ed7953"
             ],
             [
              0.7777777777777778,
              "#fb9f3a"
             ],
             [
              0.8888888888888888,
              "#fdca26"
             ],
             [
              1,
              "#f0f921"
             ]
            ],
            "type": "heatmap"
           }
          ],
          "heatmapgl": [
           {
            "colorbar": {
             "outlinewidth": 0,
             "ticks": ""
            },
            "colorscale": [
             [
              0,
              "#0d0887"
             ],
             [
              0.1111111111111111,
              "#46039f"
             ],
             [
              0.2222222222222222,
              "#7201a8"
             ],
             [
              0.3333333333333333,
              "#9c179e"
             ],
             [
              0.4444444444444444,
              "#bd3786"
             ],
             [
              0.5555555555555556,
              "#d8576b"
             ],
             [
              0.6666666666666666,
              "#ed7953"
             ],
             [
              0.7777777777777778,
              "#fb9f3a"
             ],
             [
              0.8888888888888888,
              "#fdca26"
             ],
             [
              1,
              "#f0f921"
             ]
            ],
            "type": "heatmapgl"
           }
          ],
          "histogram": [
           {
            "marker": {
             "colorbar": {
              "outlinewidth": 0,
              "ticks": ""
             }
            },
            "type": "histogram"
           }
          ],
          "histogram2d": [
           {
            "colorbar": {
             "outlinewidth": 0,
             "ticks": ""
            },
            "colorscale": [
             [
              0,
              "#0d0887"
             ],
             [
              0.1111111111111111,
              "#46039f"
             ],
             [
              0.2222222222222222,
              "#7201a8"
             ],
             [
              0.3333333333333333,
              "#9c179e"
             ],
             [
              0.4444444444444444,
              "#bd3786"
             ],
             [
              0.5555555555555556,
              "#d8576b"
             ],
             [
              0.6666666666666666,
              "#ed7953"
             ],
             [
              0.7777777777777778,
              "#fb9f3a"
             ],
             [
              0.8888888888888888,
              "#fdca26"
             ],
             [
              1,
              "#f0f921"
             ]
            ],
            "type": "histogram2d"
           }
          ],
          "histogram2dcontour": [
           {
            "colorbar": {
             "outlinewidth": 0,
             "ticks": ""
            },
            "colorscale": [
             [
              0,
              "#0d0887"
             ],
             [
              0.1111111111111111,
              "#46039f"
             ],
             [
              0.2222222222222222,
              "#7201a8"
             ],
             [
              0.3333333333333333,
              "#9c179e"
             ],
             [
              0.4444444444444444,
              "#bd3786"
             ],
             [
              0.5555555555555556,
              "#d8576b"
             ],
             [
              0.6666666666666666,
              "#ed7953"
             ],
             [
              0.7777777777777778,
              "#fb9f3a"
             ],
             [
              0.8888888888888888,
              "#fdca26"
             ],
             [
              1,
              "#f0f921"
             ]
            ],
            "type": "histogram2dcontour"
           }
          ],
          "mesh3d": [
           {
            "colorbar": {
             "outlinewidth": 0,
             "ticks": ""
            },
            "type": "mesh3d"
           }
          ],
          "parcoords": [
           {
            "line": {
             "colorbar": {
              "outlinewidth": 0,
              "ticks": ""
             }
            },
            "type": "parcoords"
           }
          ],
          "scatter": [
           {
            "marker": {
             "colorbar": {
              "outlinewidth": 0,
              "ticks": ""
             }
            },
            "type": "scatter"
           }
          ],
          "scatter3d": [
           {
            "line": {
             "colorbar": {
              "outlinewidth": 0,
              "ticks": ""
             }
            },
            "marker": {
             "colorbar": {
              "outlinewidth": 0,
              "ticks": ""
             }
            },
            "type": "scatter3d"
           }
          ],
          "scattercarpet": [
           {
            "marker": {
             "colorbar": {
              "outlinewidth": 0,
              "ticks": ""
             }
            },
            "type": "scattercarpet"
           }
          ],
          "scattergeo": [
           {
            "marker": {
             "colorbar": {
              "outlinewidth": 0,
              "ticks": ""
             }
            },
            "type": "scattergeo"
           }
          ],
          "scattergl": [
           {
            "marker": {
             "colorbar": {
              "outlinewidth": 0,
              "ticks": ""
             }
            },
            "type": "scattergl"
           }
          ],
          "scattermapbox": [
           {
            "marker": {
             "colorbar": {
              "outlinewidth": 0,
              "ticks": ""
             }
            },
            "type": "scattermapbox"
           }
          ],
          "scatterpolar": [
           {
            "marker": {
             "colorbar": {
              "outlinewidth": 0,
              "ticks": ""
             }
            },
            "type": "scatterpolar"
           }
          ],
          "scatterpolargl": [
           {
            "marker": {
             "colorbar": {
              "outlinewidth": 0,
              "ticks": ""
             }
            },
            "type": "scatterpolargl"
           }
          ],
          "scatterternary": [
           {
            "marker": {
             "colorbar": {
              "outlinewidth": 0,
              "ticks": ""
             }
            },
            "type": "scatterternary"
           }
          ],
          "surface": [
           {
            "colorbar": {
             "outlinewidth": 0,
             "ticks": ""
            },
            "colorscale": [
             [
              0,
              "#0d0887"
             ],
             [
              0.1111111111111111,
              "#46039f"
             ],
             [
              0.2222222222222222,
              "#7201a8"
             ],
             [
              0.3333333333333333,
              "#9c179e"
             ],
             [
              0.4444444444444444,
              "#bd3786"
             ],
             [
              0.5555555555555556,
              "#d8576b"
             ],
             [
              0.6666666666666666,
              "#ed7953"
             ],
             [
              0.7777777777777778,
              "#fb9f3a"
             ],
             [
              0.8888888888888888,
              "#fdca26"
             ],
             [
              1,
              "#f0f921"
             ]
            ],
            "type": "surface"
           }
          ],
          "table": [
           {
            "cells": {
             "fill": {
              "color": "#EBF0F8"
             },
             "line": {
              "color": "white"
             }
            },
            "header": {
             "fill": {
              "color": "#C8D4E3"
             },
             "line": {
              "color": "white"
             }
            },
            "type": "table"
           }
          ]
         },
         "layout": {
          "annotationdefaults": {
           "arrowcolor": "#2a3f5f",
           "arrowhead": 0,
           "arrowwidth": 1
          },
          "colorscale": {
           "diverging": [
            [
             0,
             "#8e0152"
            ],
            [
             0.1,
             "#c51b7d"
            ],
            [
             0.2,
             "#de77ae"
            ],
            [
             0.3,
             "#f1b6da"
            ],
            [
             0.4,
             "#fde0ef"
            ],
            [
             0.5,
             "#f7f7f7"
            ],
            [
             0.6,
             "#e6f5d0"
            ],
            [
             0.7,
             "#b8e186"
            ],
            [
             0.8,
             "#7fbc41"
            ],
            [
             0.9,
             "#4d9221"
            ],
            [
             1,
             "#276419"
            ]
           ],
           "sequential": [
            [
             0,
             "#0d0887"
            ],
            [
             0.1111111111111111,
             "#46039f"
            ],
            [
             0.2222222222222222,
             "#7201a8"
            ],
            [
             0.3333333333333333,
             "#9c179e"
            ],
            [
             0.4444444444444444,
             "#bd3786"
            ],
            [
             0.5555555555555556,
             "#d8576b"
            ],
            [
             0.6666666666666666,
             "#ed7953"
            ],
            [
             0.7777777777777778,
             "#fb9f3a"
            ],
            [
             0.8888888888888888,
             "#fdca26"
            ],
            [
             1,
             "#f0f921"
            ]
           ],
           "sequentialminus": [
            [
             0,
             "#0d0887"
            ],
            [
             0.1111111111111111,
             "#46039f"
            ],
            [
             0.2222222222222222,
             "#7201a8"
            ],
            [
             0.3333333333333333,
             "#9c179e"
            ],
            [
             0.4444444444444444,
             "#bd3786"
            ],
            [
             0.5555555555555556,
             "#d8576b"
            ],
            [
             0.6666666666666666,
             "#ed7953"
            ],
            [
             0.7777777777777778,
             "#fb9f3a"
            ],
            [
             0.8888888888888888,
             "#fdca26"
            ],
            [
             1,
             "#f0f921"
            ]
           ]
          },
          "colorway": [
           "#636efa",
           "#EF553B",
           "#00cc96",
           "#ab63fa",
           "#FFA15A",
           "#19d3f3",
           "#FF6692",
           "#B6E880",
           "#FF97FF",
           "#FECB52"
          ],
          "font": {
           "color": "#2a3f5f"
          },
          "geo": {
           "bgcolor": "white",
           "lakecolor": "white",
           "landcolor": "#E5ECF6",
           "showlakes": true,
           "showland": true,
           "subunitcolor": "white"
          },
          "hoverlabel": {
           "align": "left"
          },
          "hovermode": "closest",
          "mapbox": {
           "style": "light"
          },
          "paper_bgcolor": "white",
          "plot_bgcolor": "#E5ECF6",
          "polar": {
           "angularaxis": {
            "gridcolor": "white",
            "linecolor": "white",
            "ticks": ""
           },
           "bgcolor": "#E5ECF6",
           "radialaxis": {
            "gridcolor": "white",
            "linecolor": "white",
            "ticks": ""
           }
          },
          "scene": {
           "xaxis": {
            "backgroundcolor": "#E5ECF6",
            "gridcolor": "white",
            "gridwidth": 2,
            "linecolor": "white",
            "showbackground": true,
            "ticks": "",
            "zerolinecolor": "white"
           },
           "yaxis": {
            "backgroundcolor": "#E5ECF6",
            "gridcolor": "white",
            "gridwidth": 2,
            "linecolor": "white",
            "showbackground": true,
            "ticks": "",
            "zerolinecolor": "white"
           },
           "zaxis": {
            "backgroundcolor": "#E5ECF6",
            "gridcolor": "white",
            "gridwidth": 2,
            "linecolor": "white",
            "showbackground": true,
            "ticks": "",
            "zerolinecolor": "white"
           }
          },
          "shapedefaults": {
           "line": {
            "color": "#2a3f5f"
           }
          },
          "ternary": {
           "aaxis": {
            "gridcolor": "white",
            "linecolor": "white",
            "ticks": ""
           },
           "baxis": {
            "gridcolor": "white",
            "linecolor": "white",
            "ticks": ""
           },
           "bgcolor": "#E5ECF6",
           "caxis": {
            "gridcolor": "white",
            "linecolor": "white",
            "ticks": ""
           }
          },
          "title": {
           "x": 0.05
          },
          "xaxis": {
           "automargin": true,
           "gridcolor": "white",
           "linecolor": "white",
           "ticks": "",
           "zerolinecolor": "white",
           "zerolinewidth": 2
          },
          "yaxis": {
           "automargin": true,
           "gridcolor": "white",
           "linecolor": "white",
           "ticks": "",
           "zerolinecolor": "white",
           "zerolinewidth": 2
          }
         }
        },
        "title": {
         "text": "Meta3 prediction value of testset of Group 1"
        }
       }
      },
      "text/html": [
       "<div>\n",
       "        \n",
       "        \n",
       "            <div id=\"a929fa61-24f7-4286-839b-3a4bb02388a5\" class=\"plotly-graph-div\" style=\"height:525px; width:100%;\"></div>\n",
       "            <script type=\"text/javascript\">\n",
       "                require([\"plotly\"], function(Plotly) {\n",
       "                    window.PLOTLYENV=window.PLOTLYENV || {};\n",
       "                    \n",
       "                if (document.getElementById(\"a929fa61-24f7-4286-839b-3a4bb02388a5\")) {\n",
       "                    Plotly.newPlot(\n",
       "                        'a929fa61-24f7-4286-839b-3a4bb02388a5',\n",
       "                        [{\"marker\": {\"color\": [10539030.642857144, 86996548.19642857, 81591958.53571428, 11305119.777777778, 2155815.619047619, 4648541.986111111, 24878671.976190474, 4476887.1190476185, 17112406.98214286, 18475460.19642857, 44306873.3452381, 33505912.80357143, 16303753.089285715, 40283451.35714286, 28424760.48214286, 9751691.642857144, 10177754.023809524, 6293682.440476191, 16684331.5, 36828618.36309524, 18079052.92857143, 31634072.863095235, 2009541.6785714286, 21118983.25, 10914305.404761903, 5206330.589285715, 21025831.190476187, 16203580.464285715, 9415555.517857144, 23435402.380952384, 14393357.398809524, 13056706.80952381, 36193399.79166667, 33174480.57142857, 27488628.09523809, 13355584.642857146, 73435802.9047619, 22190284.53571428, 5043142.315476188, 7623963.202380952, 19130483.666666664, 7492757.672619048, 10495014.101190476, 8351997.821428573, 10873757.464285716, 22254103.45238095, 14489751.744047618, 4982090.952380953, 16918055.04761905, 17078081.17857143, 9329784.42857143, 266289.76785714284, 12302872.255952382, 5894549.345238096, 6666015.214285714, 12213113.107142854, 9699658.738095237, 12478450.690476192, 9937329.351190476, 8151245.321428573, 16546410.690476192, 34652649.291666664, 29308250.13095238, 10366192.00595238, 8474727.88095238, 21282347.410714287, 23647908.06547619, 18815339.49404762, 13059922.428571427, 30321978.52976191, 18865492.023809526, 18469086.851190474, 15966604.970238093, 7953991.833333332, 20555766.684523813, 9782964.67857143, 6874486.7976190485, 3753403.6785714286, 17104936.42261905, 13963829.589285715, 4704052.6190476185, 10522510.351190478, 24714215.31547619, 15789195.702380953, 15647989.220238095, 11956064.083333332, 99464940.14880952, 81944827.17857143, 23880114.60119048, 4629278.964285715, 21005632.238095246, 12467357.517857146, 8143137.785714285, 29909302.11904762, 49601877.2202381, 64879077.16666667, 115815863.71428572, 8216249.717948717, 10074555.57142857, 38617161.48809523, 10074555.57142857, 14122628.125]}, \"mode\": \"markers\", \"text\": [\"O Brother, Where Art Thou?\", \"The Twilight Saga: Breaking Dawn Part 1\", \"The Twilight Saga: Breaking Dawn Part 2\", \"Helena From the Wedding\", \"Monsters\", \"Catfish\", \"Red\", \"Freakonomics\", \"The Warrior's Way\", \"Stone\", \"Frankenweenie\", \"John Carter\", \"Dolphin Tale\", \"Penguins of Madagascar\", \"Minions\", \"Proud American\", \"Edmond\", \"Tootsie\", \"Waterworld\", \"The Lion King (2019)\", \"Crawl\", \"Stuber\", \"Midsommar\", \"Spider-Man: Far from Home\", \"Yesterday\", \"Annabelle Comes Home\", \"Toy Story 4\", \"Child's Play (2019)\", \"Anna (2019)\", \"Men in Black International\", \"Shaft (2019)\\u00a0\", \"Late Night\", \"The Secret Life of Pets 2\", \"Dark Phoenix\", \"Godzilla:King of the Monsters\", \"Rocketman\", \"Return of the Jedi\", \"Indiana Jones and the Temple of Doom\", \"The Idolmaker\", \"The Grass Harp\", \"The Grand\", \"Jaws\", \"Superman (1978)\", \"Clerks\", \"Juice\", \"He Got Game\", \"White Men Can't Jump\", \"Mulholland Drive\", \"Blue Velvet\", \"Once Upon a Time in Hollywood\", \"The Big Lebowski\", \"Train to Busan\", \"Pride and Prejudice and Zombies\", \"Dead Poets Society\", \"A Fish Called Wanda\", \"The Witches of Eastwick\", \"Ferris Bueller's Day Off\", \"Back to the Future\", \"Police Academy\", \"Trading Places\", \"Star Trek II The Wrath of Khan\", \"The Blues Brothers\", \"V For Vendetta\", \"In the Line of Fire\", \"Us\", \"The Forbidden Kingdom\", \"Rumble in the Bronx\", \"Machete\", \"Beverly Hills Cop\", \"Watchmen\", \"Jackie Brown\", \"Zombieland\", \"Mo Better Blues\", \"Thelma and Louise\", \"New Jack City\", \"The Lawnmower Man\", \"Schindler's List\", \"Four Weddings and a Funeral\", \"Get Shorty\", \"Jerry Maguire\", \"Welcome to Sarajevo\", \"Trojan War\", \"The Gingerbread Man\", \"Tumbleweeds\", \"Turn it up\", \"The Adventures of Pluto Nash\", \"The Lord of the Rings: The Return of the King\", \"Harry Potter and the Prisoner of Azkaban\", \"Stay\", \"Fast Food Nation\", \"Into the Wild\", \"The Wrestler\", \"Slumdog Millionaire\", \"Jackass 3-D\", \"Skyfall\", \"The Hunger Games: Mocking Jay - Part 1\", \"Jurassic World\", \"Shut In\", \"Molly's Game\", \"Peter Rabbit\", \"BlacKkKlansman\", \"Replicas\"], \"type\": \"scatter\", \"x\": [\"O Brother, Where Art Thou?\", \"The Twilight Saga: Breaking Dawn Part 1\", \"The Twilight Saga: Breaking Dawn Part 2\", \"Helena From the Wedding\", \"Monsters\", \"Catfish\", \"Red\", \"Freakonomics\", \"The Warrior's Way\", \"Stone\", \"Frankenweenie\", \"John Carter\", \"Dolphin Tale\", \"Penguins of Madagascar\", \"Minions\", \"Proud American\", \"Edmond\", \"Tootsie\", \"Waterworld\", \"The Lion King (2019)\", \"Crawl\", \"Stuber\", \"Midsommar\", \"Spider-Man: Far from Home\", \"Yesterday\", \"Annabelle Comes Home\", \"Toy Story 4\", \"Child's Play (2019)\", \"Anna (2019)\", \"Men in Black International\", \"Shaft (2019)\\u00a0\", \"Late Night\", \"The Secret Life of Pets 2\", \"Dark Phoenix\", \"Godzilla:King of the Monsters\", \"Rocketman\", \"Return of the Jedi\", \"Indiana Jones and the Temple of Doom\", \"The Idolmaker\", \"The Grass Harp\", \"The Grand\", \"Jaws\", \"Superman (1978)\", \"Clerks\", \"Juice\", \"He Got Game\", \"White Men Can't Jump\", \"Mulholland Drive\", \"Blue Velvet\", \"Once Upon a Time in Hollywood\", \"The Big Lebowski\", \"Train to Busan\", \"Pride and Prejudice and Zombies\", \"Dead Poets Society\", \"A Fish Called Wanda\", \"The Witches of Eastwick\", \"Ferris Bueller's Day Off\", \"Back to the Future\", \"Police Academy\", \"Trading Places\", \"Star Trek II The Wrath of Khan\", \"The Blues Brothers\", \"V For Vendetta\", \"In the Line of Fire\", \"Us\", \"The Forbidden Kingdom\", \"Rumble in the Bronx\", \"Machete\", \"Beverly Hills Cop\", \"Watchmen\", \"Jackie Brown\", \"Zombieland\", \"Mo Better Blues\", \"Thelma and Louise\", \"New Jack City\", \"The Lawnmower Man\", \"Schindler's List\", \"Four Weddings and a Funeral\", \"Get Shorty\", \"Jerry Maguire\", \"Welcome to Sarajevo\", \"Trojan War\", \"The Gingerbread Man\", \"Tumbleweeds\", \"Turn it up\", \"The Adventures of Pluto Nash\", \"The Lord of the Rings: The Return of the King\", \"Harry Potter and the Prisoner of Azkaban\", \"Stay\", \"Fast Food Nation\", \"Into the Wild\", \"The Wrestler\", \"Slumdog Millionaire\", \"Jackass 3-D\", \"Skyfall\", \"The Hunger Games: Mocking Jay - Part 1\", \"Jurassic World\", \"Shut In\", \"Molly's Game\", \"Peter Rabbit\", \"BlacKkKlansman\", \"Replicas\"], \"y\": [10539030.642857144, 86996548.19642857, 81591958.53571428, 11305119.777777778, 2155815.619047619, 4648541.986111111, 24878671.976190474, 4476887.1190476185, 17112406.98214286, 18475460.19642857, 44306873.3452381, 33505912.80357143, 16303753.089285715, 40283451.35714286, 28424760.48214286, 9751691.642857144, 10177754.023809524, 6293682.440476191, 16684331.5, 36828618.36309524, 18079052.92857143, 31634072.863095235, 2009541.6785714286, 21118983.25, 10914305.404761903, 5206330.589285715, 21025831.190476187, 16203580.464285715, 9415555.517857144, 23435402.380952384, 14393357.398809524, 13056706.80952381, 36193399.79166667, 33174480.57142857, 27488628.09523809, 13355584.642857146, 73435802.9047619, 22190284.53571428, 5043142.315476188, 7623963.202380952, 19130483.666666664, 7492757.672619048, 10495014.101190476, 8351997.821428573, 10873757.464285716, 22254103.45238095, 14489751.744047618, 4982090.952380953, 16918055.04761905, 17078081.17857143, 9329784.42857143, 266289.76785714284, 12302872.255952382, 5894549.345238096, 6666015.214285714, 12213113.107142854, 9699658.738095237, 12478450.690476192, 9937329.351190476, 8151245.321428573, 16546410.690476192, 34652649.291666664, 29308250.13095238, 10366192.00595238, 8474727.88095238, 21282347.410714287, 23647908.06547619, 18815339.49404762, 13059922.428571427, 30321978.52976191, 18865492.023809526, 18469086.851190474, 15966604.970238093, 7953991.833333332, 20555766.684523813, 9782964.67857143, 6874486.7976190485, 3753403.6785714286, 17104936.42261905, 13963829.589285715, 4704052.6190476185, 10522510.351190478, 24714215.31547619, 15789195.702380953, 15647989.220238095, 11956064.083333332, 99464940.14880952, 81944827.17857143, 23880114.60119048, 4629278.964285715, 21005632.238095246, 12467357.517857146, 8143137.785714285, 29909302.11904762, 49601877.2202381, 64879077.16666667, 115815863.71428572, 8216249.717948717, 10074555.57142857, 38617161.48809523, 10074555.57142857, 14122628.125]}],\n",
       "                        {\"template\": {\"data\": {\"bar\": [{\"error_x\": {\"color\": \"#2a3f5f\"}, \"error_y\": {\"color\": \"#2a3f5f\"}, \"marker\": {\"line\": {\"color\": \"#E5ECF6\", \"width\": 0.5}}, \"type\": \"bar\"}], \"barpolar\": [{\"marker\": {\"line\": {\"color\": \"#E5ECF6\", \"width\": 0.5}}, \"type\": \"barpolar\"}], \"carpet\": [{\"aaxis\": {\"endlinecolor\": \"#2a3f5f\", \"gridcolor\": \"white\", \"linecolor\": \"white\", \"minorgridcolor\": \"white\", \"startlinecolor\": \"#2a3f5f\"}, \"baxis\": {\"endlinecolor\": \"#2a3f5f\", \"gridcolor\": \"white\", \"linecolor\": \"white\", \"minorgridcolor\": \"white\", \"startlinecolor\": \"#2a3f5f\"}, \"type\": \"carpet\"}], \"choropleth\": [{\"colorbar\": {\"outlinewidth\": 0, \"ticks\": \"\"}, \"type\": \"choropleth\"}], \"contour\": [{\"colorbar\": {\"outlinewidth\": 0, \"ticks\": \"\"}, \"colorscale\": [[0.0, \"#0d0887\"], [0.1111111111111111, \"#46039f\"], [0.2222222222222222, \"#7201a8\"], [0.3333333333333333, \"#9c179e\"], [0.4444444444444444, \"#bd3786\"], [0.5555555555555556, \"#d8576b\"], [0.6666666666666666, \"#ed7953\"], [0.7777777777777778, \"#fb9f3a\"], [0.8888888888888888, \"#fdca26\"], [1.0, \"#f0f921\"]], \"type\": \"contour\"}], \"contourcarpet\": [{\"colorbar\": {\"outlinewidth\": 0, \"ticks\": \"\"}, \"type\": \"contourcarpet\"}], \"heatmap\": [{\"colorbar\": {\"outlinewidth\": 0, \"ticks\": \"\"}, \"colorscale\": [[0.0, \"#0d0887\"], [0.1111111111111111, \"#46039f\"], [0.2222222222222222, \"#7201a8\"], [0.3333333333333333, \"#9c179e\"], [0.4444444444444444, \"#bd3786\"], [0.5555555555555556, \"#d8576b\"], [0.6666666666666666, \"#ed7953\"], [0.7777777777777778, \"#fb9f3a\"], [0.8888888888888888, \"#fdca26\"], [1.0, \"#f0f921\"]], \"type\": \"heatmap\"}], \"heatmapgl\": [{\"colorbar\": {\"outlinewidth\": 0, \"ticks\": \"\"}, \"colorscale\": [[0.0, \"#0d0887\"], [0.1111111111111111, \"#46039f\"], [0.2222222222222222, \"#7201a8\"], [0.3333333333333333, \"#9c179e\"], [0.4444444444444444, \"#bd3786\"], [0.5555555555555556, \"#d8576b\"], [0.6666666666666666, \"#ed7953\"], [0.7777777777777778, \"#fb9f3a\"], [0.8888888888888888, \"#fdca26\"], [1.0, \"#f0f921\"]], \"type\": \"heatmapgl\"}], \"histogram\": [{\"marker\": {\"colorbar\": {\"outlinewidth\": 0, \"ticks\": \"\"}}, \"type\": \"histogram\"}], \"histogram2d\": [{\"colorbar\": {\"outlinewidth\": 0, \"ticks\": \"\"}, \"colorscale\": [[0.0, \"#0d0887\"], [0.1111111111111111, \"#46039f\"], [0.2222222222222222, \"#7201a8\"], [0.3333333333333333, \"#9c179e\"], [0.4444444444444444, \"#bd3786\"], [0.5555555555555556, \"#d8576b\"], [0.6666666666666666, \"#ed7953\"], [0.7777777777777778, \"#fb9f3a\"], [0.8888888888888888, \"#fdca26\"], [1.0, \"#f0f921\"]], \"type\": \"histogram2d\"}], \"histogram2dcontour\": [{\"colorbar\": {\"outlinewidth\": 0, \"ticks\": \"\"}, \"colorscale\": [[0.0, \"#0d0887\"], [0.1111111111111111, \"#46039f\"], [0.2222222222222222, \"#7201a8\"], [0.3333333333333333, \"#9c179e\"], [0.4444444444444444, \"#bd3786\"], [0.5555555555555556, \"#d8576b\"], [0.6666666666666666, \"#ed7953\"], [0.7777777777777778, \"#fb9f3a\"], [0.8888888888888888, \"#fdca26\"], [1.0, \"#f0f921\"]], \"type\": \"histogram2dcontour\"}], \"mesh3d\": [{\"colorbar\": {\"outlinewidth\": 0, \"ticks\": \"\"}, \"type\": \"mesh3d\"}], \"parcoords\": [{\"line\": {\"colorbar\": {\"outlinewidth\": 0, \"ticks\": \"\"}}, \"type\": \"parcoords\"}], \"scatter\": [{\"marker\": {\"colorbar\": {\"outlinewidth\": 0, \"ticks\": \"\"}}, \"type\": \"scatter\"}], \"scatter3d\": [{\"line\": {\"colorbar\": {\"outlinewidth\": 0, \"ticks\": \"\"}}, \"marker\": {\"colorbar\": {\"outlinewidth\": 0, \"ticks\": \"\"}}, \"type\": \"scatter3d\"}], \"scattercarpet\": [{\"marker\": {\"colorbar\": {\"outlinewidth\": 0, \"ticks\": \"\"}}, \"type\": \"scattercarpet\"}], \"scattergeo\": [{\"marker\": {\"colorbar\": {\"outlinewidth\": 0, \"ticks\": \"\"}}, \"type\": \"scattergeo\"}], \"scattergl\": [{\"marker\": {\"colorbar\": {\"outlinewidth\": 0, \"ticks\": \"\"}}, \"type\": \"scattergl\"}], \"scattermapbox\": [{\"marker\": {\"colorbar\": {\"outlinewidth\": 0, \"ticks\": \"\"}}, \"type\": \"scattermapbox\"}], \"scatterpolar\": [{\"marker\": {\"colorbar\": {\"outlinewidth\": 0, \"ticks\": \"\"}}, \"type\": \"scatterpolar\"}], \"scatterpolargl\": [{\"marker\": {\"colorbar\": {\"outlinewidth\": 0, \"ticks\": \"\"}}, \"type\": \"scatterpolargl\"}], \"scatterternary\": [{\"marker\": {\"colorbar\": {\"outlinewidth\": 0, \"ticks\": \"\"}}, \"type\": \"scatterternary\"}], \"surface\": [{\"colorbar\": {\"outlinewidth\": 0, \"ticks\": \"\"}, \"colorscale\": [[0.0, \"#0d0887\"], [0.1111111111111111, \"#46039f\"], [0.2222222222222222, \"#7201a8\"], [0.3333333333333333, \"#9c179e\"], [0.4444444444444444, \"#bd3786\"], [0.5555555555555556, \"#d8576b\"], [0.6666666666666666, \"#ed7953\"], [0.7777777777777778, \"#fb9f3a\"], [0.8888888888888888, \"#fdca26\"], [1.0, \"#f0f921\"]], \"type\": \"surface\"}], \"table\": [{\"cells\": {\"fill\": {\"color\": \"#EBF0F8\"}, \"line\": {\"color\": \"white\"}}, \"header\": {\"fill\": {\"color\": \"#C8D4E3\"}, \"line\": {\"color\": \"white\"}}, \"type\": \"table\"}]}, \"layout\": {\"annotationdefaults\": {\"arrowcolor\": \"#2a3f5f\", \"arrowhead\": 0, \"arrowwidth\": 1}, \"colorscale\": {\"diverging\": [[0, \"#8e0152\"], [0.1, \"#c51b7d\"], [0.2, \"#de77ae\"], [0.3, \"#f1b6da\"], [0.4, \"#fde0ef\"], [0.5, \"#f7f7f7\"], [0.6, \"#e6f5d0\"], [0.7, \"#b8e186\"], [0.8, \"#7fbc41\"], [0.9, \"#4d9221\"], [1, \"#276419\"]], \"sequential\": [[0.0, \"#0d0887\"], [0.1111111111111111, \"#46039f\"], [0.2222222222222222, \"#7201a8\"], [0.3333333333333333, \"#9c179e\"], [0.4444444444444444, \"#bd3786\"], [0.5555555555555556, \"#d8576b\"], [0.6666666666666666, \"#ed7953\"], [0.7777777777777778, \"#fb9f3a\"], [0.8888888888888888, \"#fdca26\"], [1.0, \"#f0f921\"]], \"sequentialminus\": [[0.0, \"#0d0887\"], [0.1111111111111111, \"#46039f\"], [0.2222222222222222, \"#7201a8\"], [0.3333333333333333, \"#9c179e\"], [0.4444444444444444, \"#bd3786\"], [0.5555555555555556, \"#d8576b\"], [0.6666666666666666, \"#ed7953\"], [0.7777777777777778, \"#fb9f3a\"], [0.8888888888888888, \"#fdca26\"], [1.0, \"#f0f921\"]]}, \"colorway\": [\"#636efa\", \"#EF553B\", \"#00cc96\", \"#ab63fa\", \"#FFA15A\", \"#19d3f3\", \"#FF6692\", \"#B6E880\", \"#FF97FF\", \"#FECB52\"], \"font\": {\"color\": \"#2a3f5f\"}, \"geo\": {\"bgcolor\": \"white\", \"lakecolor\": \"white\", \"landcolor\": \"#E5ECF6\", \"showlakes\": true, \"showland\": true, \"subunitcolor\": \"white\"}, \"hoverlabel\": {\"align\": \"left\"}, \"hovermode\": \"closest\", \"mapbox\": {\"style\": \"light\"}, \"paper_bgcolor\": \"white\", \"plot_bgcolor\": \"#E5ECF6\", \"polar\": {\"angularaxis\": {\"gridcolor\": \"white\", \"linecolor\": \"white\", \"ticks\": \"\"}, \"bgcolor\": \"#E5ECF6\", \"radialaxis\": {\"gridcolor\": \"white\", \"linecolor\": \"white\", \"ticks\": \"\"}}, \"scene\": {\"xaxis\": {\"backgroundcolor\": \"#E5ECF6\", \"gridcolor\": \"white\", \"gridwidth\": 2, \"linecolor\": \"white\", \"showbackground\": true, \"ticks\": \"\", \"zerolinecolor\": \"white\"}, \"yaxis\": {\"backgroundcolor\": \"#E5ECF6\", \"gridcolor\": \"white\", \"gridwidth\": 2, \"linecolor\": \"white\", \"showbackground\": true, \"ticks\": \"\", \"zerolinecolor\": \"white\"}, \"zaxis\": {\"backgroundcolor\": \"#E5ECF6\", \"gridcolor\": \"white\", \"gridwidth\": 2, \"linecolor\": \"white\", \"showbackground\": true, \"ticks\": \"\", \"zerolinecolor\": \"white\"}}, \"shapedefaults\": {\"line\": {\"color\": \"#2a3f5f\"}}, \"ternary\": {\"aaxis\": {\"gridcolor\": \"white\", \"linecolor\": \"white\", \"ticks\": \"\"}, \"baxis\": {\"gridcolor\": \"white\", \"linecolor\": \"white\", \"ticks\": \"\"}, \"bgcolor\": \"#E5ECF6\", \"caxis\": {\"gridcolor\": \"white\", \"linecolor\": \"white\", \"ticks\": \"\"}}, \"title\": {\"x\": 0.05}, \"xaxis\": {\"automargin\": true, \"gridcolor\": \"white\", \"linecolor\": \"white\", \"ticks\": \"\", \"zerolinecolor\": \"white\", \"zerolinewidth\": 2}, \"yaxis\": {\"automargin\": true, \"gridcolor\": \"white\", \"linecolor\": \"white\", \"ticks\": \"\", \"zerolinecolor\": \"white\", \"zerolinewidth\": 2}}}, \"title\": {\"text\": \"Meta3 prediction value of testset of Group 1\"}},\n",
       "                        {\"responsive\": true}\n",
       "                    ).then(function(){\n",
       "                            \n",
       "var gd = document.getElementById('a929fa61-24f7-4286-839b-3a4bb02388a5');\n",
       "var x = new MutationObserver(function (mutations, observer) {{\n",
       "        var display = window.getComputedStyle(gd).display;\n",
       "        if (!display || display === 'none') {{\n",
       "            console.log([gd, 'removed!']);\n",
       "            Plotly.purge(gd);\n",
       "            observer.disconnect();\n",
       "        }}\n",
       "}});\n",
       "\n",
       "// Listen for the removal of the full notebook cells\n",
       "var notebookContainer = gd.closest('#notebook-container');\n",
       "if (notebookContainer) {{\n",
       "    x.observe(notebookContainer, {childList: true});\n",
       "}}\n",
       "\n",
       "// Listen for the clearing of the current output cell\n",
       "var outputEl = gd.closest('.output');\n",
       "if (outputEl) {{\n",
       "    x.observe(outputEl, {childList: true});\n",
       "}}\n",
       "\n",
       "                        })\n",
       "                };\n",
       "                });\n",
       "            </script>\n",
       "        </div>"
      ]
     },
     "metadata": {},
     "output_type": "display_data"
    }
   ],
   "source": [
    "#Meta3 prediction value of testset\n",
    "fig = go.Figure(data=go.Scatter(x=g1_result_final[\"name\"],\n",
    "                                y=g1_result_final[\"pred_meta_3\"],\n",
    "                                mode='markers',\n",
    "                                marker_color=g1_result_final[\"pred_meta_3\"],\n",
    "                                text=g1_result_final[\"name\"])) # hover text goes here(movie_title)\n",
    "\n",
    "fig.update_layout(title='Meta3 prediction value of testset of Group 1')\n",
    "fig.show()"
   ]
  },
  {
   "cell_type": "code",
   "execution_count": 34,
   "metadata": {},
   "outputs": [
    {
     "data": {
      "application/vnd.plotly.v1+json": {
       "config": {
        "plotlyServerURL": "https://plot.ly"
       },
       "data": [
        {
         "marker": {
          "color": [
           8.575980864105682,
           3.637976207765318,
           3.764939778153561,
           12.947660985206884,
           9.250817168969494,
           7.44294229188153,
           2.7294681740499804,
           9.542389208713947,
           6.13623179282937,
           10.097651043490686,
           5.667259749919357,
           2.4865355650381997,
           2.764656166316215,
           4.082619080765397,
           4.336457277448148,
           9.215425095802859,
           10.873588418881848,
           2.68066112700189,
           3.0998861331319683,
           4.404222211057943,
           3.943393597887739,
           5.654560133464735,
           4.253722737643014,
           4.359118760821644,
           3.606479310886748,
           4.321675896411059,
           4.426163934514516,
           2.7702790396028516,
           5.090654691645898,
           3.1344153946014086,
           4.138318960420185,
           8.55680459293723,
           3.1535674175491226,
           0.7199697040430362,
           3.771930112382784,
           3.893547465231351,
           5.393691155778195,
           2.5967333095098826,
           7.303093656020455,
           8.765342038466962,
           11.191983940870763,
           1.9610763755471987,
           3.7276949577262917,
           10.176453808258094,
           3.568906055025359,
           5.264796239669164,
           0.9182068882296985,
           6.618584297873925,
           7.622727174905623,
           4.084787423097909,
           4.242692761192615,
           2.0137689555752414,
           4.883353542999525,
           7.397787559394179,
           8.644097546202756,
           3.407224473612789,
           4.017468891041011,
           2.556395080541101,
           2.8305474520088767,
           2.478927396661982,
           2.7929017682129533,
           6.420465014649277,
           2.727612059646063,
           3.49987402151294,
           4.489574193735768,
           0.44146763585321885,
           4.947881543790493,
           3.5384866373741986,
           2.7188624713922134,
           3.830447155364083,
           4.644621480805138,
           3.2705799753587494,
           5.579438601492095,
           3.4457114330004184,
           5.262695373793882,
           3.3032061963696115,
           6.854275442173551,
           7.867608333154961,
           3.574715426712807,
           2.95829597762763,
           8.843668096941819,
           15.394279779354484,
           9.94251704595392,
           9.88481918878141,
           7.868561458647671,
           6.106387263243576,
           3.6362168301781583,
           2.6051865230594617,
           6.90003924710949,
           6.935256276988006,
           9.188993669140581,
           8.708015228185275,
           7.6791911489504585,
           3.7281364787666798,
           3.803699725137963,
           3.8665186058054313,
           3.818465841677227,
           4.854934488876595,
           6.634077768990914,
           4.014600426025271,
           2.092724275424674,
           6.205679584489843
          ]
         },
         "mode": "markers",
         "text": [
          "O Brother, Where Art Thou?",
          "The Twilight Saga: Breaking Dawn Part 1",
          "The Twilight Saga: Breaking Dawn Part 2",
          "Helena From the Wedding",
          "Monsters",
          "Catfish",
          "Red",
          "Freakonomics",
          "The Warrior's Way",
          "Stone",
          "Frankenweenie",
          "John Carter",
          "Dolphin Tale",
          "Penguins of Madagascar",
          "Minions",
          "Proud American",
          "Edmond",
          "Tootsie",
          "Waterworld",
          "The Lion King (2019)",
          "Crawl",
          "Stuber",
          "Midsommar",
          "Spider-Man: Far from Home",
          "Yesterday",
          "Annabelle Comes Home",
          "Toy Story 4",
          "Child's Play (2019)",
          "Anna (2019)",
          "Men in Black International",
          "Shaft (2019) ",
          "Late Night",
          "The Secret Life of Pets 2",
          "Dark Phoenix",
          "Godzilla:King of the Monsters",
          "Rocketman",
          "Return of the Jedi",
          "Indiana Jones and the Temple of Doom",
          "The Idolmaker",
          "The Grass Harp",
          "The Grand",
          "Jaws",
          "Superman (1978)",
          "Clerks",
          "Juice",
          "He Got Game",
          "White Men Can't Jump",
          "Mulholland Drive",
          "Blue Velvet",
          "Once Upon a Time in Hollywood",
          "The Big Lebowski",
          "Train to Busan",
          "Pride and Prejudice and Zombies",
          "Dead Poets Society",
          "A Fish Called Wanda",
          "The Witches of Eastwick",
          "Ferris Bueller's Day Off",
          "Back to the Future",
          "Police Academy",
          "Trading Places",
          "Star Trek II The Wrath of Khan",
          "The Blues Brothers",
          "V For Vendetta",
          "In the Line of Fire",
          "Us",
          "The Forbidden Kingdom",
          "Rumble in the Bronx",
          "Machete",
          "Beverly Hills Cop",
          "Watchmen",
          "Jackie Brown",
          "Zombieland",
          "Mo Better Blues",
          "Thelma and Louise",
          "New Jack City",
          "The Lawnmower Man",
          "Schindler's List",
          "Four Weddings and a Funeral",
          "Get Shorty",
          "Jerry Maguire",
          "Welcome to Sarajevo",
          "Trojan War",
          "The Gingerbread Man",
          "Tumbleweeds",
          "Turn it up",
          "The Adventures of Pluto Nash",
          "The Lord of the Rings: The Return of the King",
          "Harry Potter and the Prisoner of Azkaban",
          "Stay",
          "Fast Food Nation",
          "Into the Wild",
          "The Wrestler",
          "Slumdog Millionaire",
          "Jackass 3-D",
          "Skyfall",
          "The Hunger Games: Mocking Jay - Part 1",
          "Jurassic World",
          "Shut In",
          "Molly's Game",
          "Peter Rabbit",
          "BlacKkKlansman",
          "Replicas"
         ],
         "type": "scatter",
         "x": [
          "O Brother, Where Art Thou?",
          "The Twilight Saga: Breaking Dawn Part 1",
          "The Twilight Saga: Breaking Dawn Part 2",
          "Helena From the Wedding",
          "Monsters",
          "Catfish",
          "Red",
          "Freakonomics",
          "The Warrior's Way",
          "Stone",
          "Frankenweenie",
          "John Carter",
          "Dolphin Tale",
          "Penguins of Madagascar",
          "Minions",
          "Proud American",
          "Edmond",
          "Tootsie",
          "Waterworld",
          "The Lion King (2019)",
          "Crawl",
          "Stuber",
          "Midsommar",
          "Spider-Man: Far from Home",
          "Yesterday",
          "Annabelle Comes Home",
          "Toy Story 4",
          "Child's Play (2019)",
          "Anna (2019)",
          "Men in Black International",
          "Shaft (2019) ",
          "Late Night",
          "The Secret Life of Pets 2",
          "Dark Phoenix",
          "Godzilla:King of the Monsters",
          "Rocketman",
          "Return of the Jedi",
          "Indiana Jones and the Temple of Doom",
          "The Idolmaker",
          "The Grass Harp",
          "The Grand",
          "Jaws",
          "Superman (1978)",
          "Clerks",
          "Juice",
          "He Got Game",
          "White Men Can't Jump",
          "Mulholland Drive",
          "Blue Velvet",
          "Once Upon a Time in Hollywood",
          "The Big Lebowski",
          "Train to Busan",
          "Pride and Prejudice and Zombies",
          "Dead Poets Society",
          "A Fish Called Wanda",
          "The Witches of Eastwick",
          "Ferris Bueller's Day Off",
          "Back to the Future",
          "Police Academy",
          "Trading Places",
          "Star Trek II The Wrath of Khan",
          "The Blues Brothers",
          "V For Vendetta",
          "In the Line of Fire",
          "Us",
          "The Forbidden Kingdom",
          "Rumble in the Bronx",
          "Machete",
          "Beverly Hills Cop",
          "Watchmen",
          "Jackie Brown",
          "Zombieland",
          "Mo Better Blues",
          "Thelma and Louise",
          "New Jack City",
          "The Lawnmower Man",
          "Schindler's List",
          "Four Weddings and a Funeral",
          "Get Shorty",
          "Jerry Maguire",
          "Welcome to Sarajevo",
          "Trojan War",
          "The Gingerbread Man",
          "Tumbleweeds",
          "Turn it up",
          "The Adventures of Pluto Nash",
          "The Lord of the Rings: The Return of the King",
          "Harry Potter and the Prisoner of Azkaban",
          "Stay",
          "Fast Food Nation",
          "Into the Wild",
          "The Wrestler",
          "Slumdog Millionaire",
          "Jackass 3-D",
          "Skyfall",
          "The Hunger Games: Mocking Jay - Part 1",
          "Jurassic World",
          "Shut In",
          "Molly's Game",
          "Peter Rabbit",
          "BlacKkKlansman",
          "Replicas"
         ],
         "y": [
          8.575980864105682,
          3.637976207765318,
          3.764939778153561,
          12.947660985206884,
          9.250817168969494,
          7.44294229188153,
          2.7294681740499804,
          9.542389208713947,
          6.13623179282937,
          10.097651043490686,
          5.667259749919357,
          2.4865355650381997,
          2.764656166316215,
          4.082619080765397,
          4.336457277448148,
          9.215425095802859,
          10.873588418881848,
          2.68066112700189,
          3.0998861331319683,
          4.404222211057943,
          3.943393597887739,
          5.654560133464735,
          4.253722737643014,
          4.359118760821644,
          3.606479310886748,
          4.321675896411059,
          4.426163934514516,
          2.7702790396028516,
          5.090654691645898,
          3.1344153946014086,
          4.138318960420185,
          8.55680459293723,
          3.1535674175491226,
          0.7199697040430362,
          3.771930112382784,
          3.893547465231351,
          5.393691155778195,
          2.5967333095098826,
          7.303093656020455,
          8.765342038466962,
          11.191983940870763,
          1.9610763755471987,
          3.7276949577262917,
          10.176453808258094,
          3.568906055025359,
          5.264796239669164,
          0.9182068882296985,
          6.618584297873925,
          7.622727174905623,
          4.084787423097909,
          4.242692761192615,
          2.0137689555752414,
          4.883353542999525,
          7.397787559394179,
          8.644097546202756,
          3.407224473612789,
          4.017468891041011,
          2.556395080541101,
          2.8305474520088767,
          2.478927396661982,
          2.7929017682129533,
          6.420465014649277,
          2.727612059646063,
          3.49987402151294,
          4.489574193735768,
          0.44146763585321885,
          4.947881543790493,
          3.5384866373741986,
          2.7188624713922134,
          3.830447155364083,
          4.644621480805138,
          3.2705799753587494,
          5.579438601492095,
          3.4457114330004184,
          5.262695373793882,
          3.3032061963696115,
          6.854275442173551,
          7.867608333154961,
          3.574715426712807,
          2.95829597762763,
          8.843668096941819,
          15.394279779354484,
          9.94251704595392,
          9.88481918878141,
          7.868561458647671,
          6.106387263243576,
          3.6362168301781583,
          2.6051865230594617,
          6.90003924710949,
          6.935256276988006,
          9.188993669140581,
          8.708015228185275,
          7.6791911489504585,
          3.7281364787666798,
          3.803699725137963,
          3.8665186058054313,
          3.818465841677227,
          4.854934488876595,
          6.634077768990914,
          4.014600426025271,
          2.092724275424674,
          6.205679584489843
         ]
        }
       ],
       "layout": {
        "template": {
         "data": {
          "bar": [
           {
            "error_x": {
             "color": "#2a3f5f"
            },
            "error_y": {
             "color": "#2a3f5f"
            },
            "marker": {
             "line": {
              "color": "#E5ECF6",
              "width": 0.5
             }
            },
            "type": "bar"
           }
          ],
          "barpolar": [
           {
            "marker": {
             "line": {
              "color": "#E5ECF6",
              "width": 0.5
             }
            },
            "type": "barpolar"
           }
          ],
          "carpet": [
           {
            "aaxis": {
             "endlinecolor": "#2a3f5f",
             "gridcolor": "white",
             "linecolor": "white",
             "minorgridcolor": "white",
             "startlinecolor": "#2a3f5f"
            },
            "baxis": {
             "endlinecolor": "#2a3f5f",
             "gridcolor": "white",
             "linecolor": "white",
             "minorgridcolor": "white",
             "startlinecolor": "#2a3f5f"
            },
            "type": "carpet"
           }
          ],
          "choropleth": [
           {
            "colorbar": {
             "outlinewidth": 0,
             "ticks": ""
            },
            "type": "choropleth"
           }
          ],
          "contour": [
           {
            "colorbar": {
             "outlinewidth": 0,
             "ticks": ""
            },
            "colorscale": [
             [
              0,
              "#0d0887"
             ],
             [
              0.1111111111111111,
              "#46039f"
             ],
             [
              0.2222222222222222,
              "#7201a8"
             ],
             [
              0.3333333333333333,
              "#9c179e"
             ],
             [
              0.4444444444444444,
              "#bd3786"
             ],
             [
              0.5555555555555556,
              "#d8576b"
             ],
             [
              0.6666666666666666,
              "#ed7953"
             ],
             [
              0.7777777777777778,
              "#fb9f3a"
             ],
             [
              0.8888888888888888,
              "#fdca26"
             ],
             [
              1,
              "#f0f921"
             ]
            ],
            "type": "contour"
           }
          ],
          "contourcarpet": [
           {
            "colorbar": {
             "outlinewidth": 0,
             "ticks": ""
            },
            "type": "contourcarpet"
           }
          ],
          "heatmap": [
           {
            "colorbar": {
             "outlinewidth": 0,
             "ticks": ""
            },
            "colorscale": [
             [
              0,
              "#0d0887"
             ],
             [
              0.1111111111111111,
              "#46039f"
             ],
             [
              0.2222222222222222,
              "#7201a8"
             ],
             [
              0.3333333333333333,
              "#9c179e"
             ],
             [
              0.4444444444444444,
              "#bd3786"
             ],
             [
              0.5555555555555556,
              "#d8576b"
             ],
             [
              0.6666666666666666,
              "#ed7953"
             ],
             [
              0.7777777777777778,
              "#fb9f3a"
             ],
             [
              0.8888888888888888,
              "#fdca26"
             ],
             [
              1,
              "#f0f921"
             ]
            ],
            "type": "heatmap"
           }
          ],
          "heatmapgl": [
           {
            "colorbar": {
             "outlinewidth": 0,
             "ticks": ""
            },
            "colorscale": [
             [
              0,
              "#0d0887"
             ],
             [
              0.1111111111111111,
              "#46039f"
             ],
             [
              0.2222222222222222,
              "#7201a8"
             ],
             [
              0.3333333333333333,
              "#9c179e"
             ],
             [
              0.4444444444444444,
              "#bd3786"
             ],
             [
              0.5555555555555556,
              "#d8576b"
             ],
             [
              0.6666666666666666,
              "#ed7953"
             ],
             [
              0.7777777777777778,
              "#fb9f3a"
             ],
             [
              0.8888888888888888,
              "#fdca26"
             ],
             [
              1,
              "#f0f921"
             ]
            ],
            "type": "heatmapgl"
           }
          ],
          "histogram": [
           {
            "marker": {
             "colorbar": {
              "outlinewidth": 0,
              "ticks": ""
             }
            },
            "type": "histogram"
           }
          ],
          "histogram2d": [
           {
            "colorbar": {
             "outlinewidth": 0,
             "ticks": ""
            },
            "colorscale": [
             [
              0,
              "#0d0887"
             ],
             [
              0.1111111111111111,
              "#46039f"
             ],
             [
              0.2222222222222222,
              "#7201a8"
             ],
             [
              0.3333333333333333,
              "#9c179e"
             ],
             [
              0.4444444444444444,
              "#bd3786"
             ],
             [
              0.5555555555555556,
              "#d8576b"
             ],
             [
              0.6666666666666666,
              "#ed7953"
             ],
             [
              0.7777777777777778,
              "#fb9f3a"
             ],
             [
              0.8888888888888888,
              "#fdca26"
             ],
             [
              1,
              "#f0f921"
             ]
            ],
            "type": "histogram2d"
           }
          ],
          "histogram2dcontour": [
           {
            "colorbar": {
             "outlinewidth": 0,
             "ticks": ""
            },
            "colorscale": [
             [
              0,
              "#0d0887"
             ],
             [
              0.1111111111111111,
              "#46039f"
             ],
             [
              0.2222222222222222,
              "#7201a8"
             ],
             [
              0.3333333333333333,
              "#9c179e"
             ],
             [
              0.4444444444444444,
              "#bd3786"
             ],
             [
              0.5555555555555556,
              "#d8576b"
             ],
             [
              0.6666666666666666,
              "#ed7953"
             ],
             [
              0.7777777777777778,
              "#fb9f3a"
             ],
             [
              0.8888888888888888,
              "#fdca26"
             ],
             [
              1,
              "#f0f921"
             ]
            ],
            "type": "histogram2dcontour"
           }
          ],
          "mesh3d": [
           {
            "colorbar": {
             "outlinewidth": 0,
             "ticks": ""
            },
            "type": "mesh3d"
           }
          ],
          "parcoords": [
           {
            "line": {
             "colorbar": {
              "outlinewidth": 0,
              "ticks": ""
             }
            },
            "type": "parcoords"
           }
          ],
          "scatter": [
           {
            "marker": {
             "colorbar": {
              "outlinewidth": 0,
              "ticks": ""
             }
            },
            "type": "scatter"
           }
          ],
          "scatter3d": [
           {
            "line": {
             "colorbar": {
              "outlinewidth": 0,
              "ticks": ""
             }
            },
            "marker": {
             "colorbar": {
              "outlinewidth": 0,
              "ticks": ""
             }
            },
            "type": "scatter3d"
           }
          ],
          "scattercarpet": [
           {
            "marker": {
             "colorbar": {
              "outlinewidth": 0,
              "ticks": ""
             }
            },
            "type": "scattercarpet"
           }
          ],
          "scattergeo": [
           {
            "marker": {
             "colorbar": {
              "outlinewidth": 0,
              "ticks": ""
             }
            },
            "type": "scattergeo"
           }
          ],
          "scattergl": [
           {
            "marker": {
             "colorbar": {
              "outlinewidth": 0,
              "ticks": ""
             }
            },
            "type": "scattergl"
           }
          ],
          "scattermapbox": [
           {
            "marker": {
             "colorbar": {
              "outlinewidth": 0,
              "ticks": ""
             }
            },
            "type": "scattermapbox"
           }
          ],
          "scatterpolar": [
           {
            "marker": {
             "colorbar": {
              "outlinewidth": 0,
              "ticks": ""
             }
            },
            "type": "scatterpolar"
           }
          ],
          "scatterpolargl": [
           {
            "marker": {
             "colorbar": {
              "outlinewidth": 0,
              "ticks": ""
             }
            },
            "type": "scatterpolargl"
           }
          ],
          "scatterternary": [
           {
            "marker": {
             "colorbar": {
              "outlinewidth": 0,
              "ticks": ""
             }
            },
            "type": "scatterternary"
           }
          ],
          "surface": [
           {
            "colorbar": {
             "outlinewidth": 0,
             "ticks": ""
            },
            "colorscale": [
             [
              0,
              "#0d0887"
             ],
             [
              0.1111111111111111,
              "#46039f"
             ],
             [
              0.2222222222222222,
              "#7201a8"
             ],
             [
              0.3333333333333333,
              "#9c179e"
             ],
             [
              0.4444444444444444,
              "#bd3786"
             ],
             [
              0.5555555555555556,
              "#d8576b"
             ],
             [
              0.6666666666666666,
              "#ed7953"
             ],
             [
              0.7777777777777778,
              "#fb9f3a"
             ],
             [
              0.8888888888888888,
              "#fdca26"
             ],
             [
              1,
              "#f0f921"
             ]
            ],
            "type": "surface"
           }
          ],
          "table": [
           {
            "cells": {
             "fill": {
              "color": "#EBF0F8"
             },
             "line": {
              "color": "white"
             }
            },
            "header": {
             "fill": {
              "color": "#C8D4E3"
             },
             "line": {
              "color": "white"
             }
            },
            "type": "table"
           }
          ]
         },
         "layout": {
          "annotationdefaults": {
           "arrowcolor": "#2a3f5f",
           "arrowhead": 0,
           "arrowwidth": 1
          },
          "colorscale": {
           "diverging": [
            [
             0,
             "#8e0152"
            ],
            [
             0.1,
             "#c51b7d"
            ],
            [
             0.2,
             "#de77ae"
            ],
            [
             0.3,
             "#f1b6da"
            ],
            [
             0.4,
             "#fde0ef"
            ],
            [
             0.5,
             "#f7f7f7"
            ],
            [
             0.6,
             "#e6f5d0"
            ],
            [
             0.7,
             "#b8e186"
            ],
            [
             0.8,
             "#7fbc41"
            ],
            [
             0.9,
             "#4d9221"
            ],
            [
             1,
             "#276419"
            ]
           ],
           "sequential": [
            [
             0,
             "#0d0887"
            ],
            [
             0.1111111111111111,
             "#46039f"
            ],
            [
             0.2222222222222222,
             "#7201a8"
            ],
            [
             0.3333333333333333,
             "#9c179e"
            ],
            [
             0.4444444444444444,
             "#bd3786"
            ],
            [
             0.5555555555555556,
             "#d8576b"
            ],
            [
             0.6666666666666666,
             "#ed7953"
            ],
            [
             0.7777777777777778,
             "#fb9f3a"
            ],
            [
             0.8888888888888888,
             "#fdca26"
            ],
            [
             1,
             "#f0f921"
            ]
           ],
           "sequentialminus": [
            [
             0,
             "#0d0887"
            ],
            [
             0.1111111111111111,
             "#46039f"
            ],
            [
             0.2222222222222222,
             "#7201a8"
            ],
            [
             0.3333333333333333,
             "#9c179e"
            ],
            [
             0.4444444444444444,
             "#bd3786"
            ],
            [
             0.5555555555555556,
             "#d8576b"
            ],
            [
             0.6666666666666666,
             "#ed7953"
            ],
            [
             0.7777777777777778,
             "#fb9f3a"
            ],
            [
             0.8888888888888888,
             "#fdca26"
            ],
            [
             1,
             "#f0f921"
            ]
           ]
          },
          "colorway": [
           "#636efa",
           "#EF553B",
           "#00cc96",
           "#ab63fa",
           "#FFA15A",
           "#19d3f3",
           "#FF6692",
           "#B6E880",
           "#FF97FF",
           "#FECB52"
          ],
          "font": {
           "color": "#2a3f5f"
          },
          "geo": {
           "bgcolor": "white",
           "lakecolor": "white",
           "landcolor": "#E5ECF6",
           "showlakes": true,
           "showland": true,
           "subunitcolor": "white"
          },
          "hoverlabel": {
           "align": "left"
          },
          "hovermode": "closest",
          "mapbox": {
           "style": "light"
          },
          "paper_bgcolor": "white",
          "plot_bgcolor": "#E5ECF6",
          "polar": {
           "angularaxis": {
            "gridcolor": "white",
            "linecolor": "white",
            "ticks": ""
           },
           "bgcolor": "#E5ECF6",
           "radialaxis": {
            "gridcolor": "white",
            "linecolor": "white",
            "ticks": ""
           }
          },
          "scene": {
           "xaxis": {
            "backgroundcolor": "#E5ECF6",
            "gridcolor": "white",
            "gridwidth": 2,
            "linecolor": "white",
            "showbackground": true,
            "ticks": "",
            "zerolinecolor": "white"
           },
           "yaxis": {
            "backgroundcolor": "#E5ECF6",
            "gridcolor": "white",
            "gridwidth": 2,
            "linecolor": "white",
            "showbackground": true,
            "ticks": "",
            "zerolinecolor": "white"
           },
           "zaxis": {
            "backgroundcolor": "#E5ECF6",
            "gridcolor": "white",
            "gridwidth": 2,
            "linecolor": "white",
            "showbackground": true,
            "ticks": "",
            "zerolinecolor": "white"
           }
          },
          "shapedefaults": {
           "line": {
            "color": "#2a3f5f"
           }
          },
          "ternary": {
           "aaxis": {
            "gridcolor": "white",
            "linecolor": "white",
            "ticks": ""
           },
           "baxis": {
            "gridcolor": "white",
            "linecolor": "white",
            "ticks": ""
           },
           "bgcolor": "#E5ECF6",
           "caxis": {
            "gridcolor": "white",
            "linecolor": "white",
            "ticks": ""
           }
          },
          "title": {
           "x": 0.05
          },
          "xaxis": {
           "automargin": true,
           "gridcolor": "white",
           "linecolor": "white",
           "ticks": "",
           "zerolinecolor": "white",
           "zerolinewidth": 2
          },
          "yaxis": {
           "automargin": true,
           "gridcolor": "white",
           "linecolor": "white",
           "ticks": "",
           "zerolinecolor": "white",
           "zerolinewidth": 2
          }
         }
        },
        "title": {
         "text": "Percentage of error for meta3 prediction of Group 1"
        }
       }
      },
      "text/html": [
       "<div>\n",
       "        \n",
       "        \n",
       "            <div id=\"cd831e99-4184-4248-a9cc-e7525839ca70\" class=\"plotly-graph-div\" style=\"height:525px; width:100%;\"></div>\n",
       "            <script type=\"text/javascript\">\n",
       "                require([\"plotly\"], function(Plotly) {\n",
       "                    window.PLOTLYENV=window.PLOTLYENV || {};\n",
       "                    \n",
       "                if (document.getElementById(\"cd831e99-4184-4248-a9cc-e7525839ca70\")) {\n",
       "                    Plotly.newPlot(\n",
       "                        'cd831e99-4184-4248-a9cc-e7525839ca70',\n",
       "                        [{\"marker\": {\"color\": [8.575980864105682, 3.637976207765318, 3.764939778153561, 12.947660985206884, 9.250817168969494, 7.44294229188153, 2.7294681740499804, 9.542389208713947, 6.13623179282937, 10.097651043490686, 5.667259749919357, 2.4865355650381997, 2.764656166316215, 4.082619080765397, 4.336457277448148, 9.215425095802859, 10.873588418881848, 2.68066112700189, 3.0998861331319683, 4.404222211057943, 3.943393597887739, 5.654560133464735, 4.253722737643014, 4.359118760821644, 3.606479310886748, 4.321675896411059, 4.426163934514516, 2.7702790396028516, 5.090654691645898, 3.1344153946014086, 4.138318960420185, 8.55680459293723, 3.1535674175491226, 0.7199697040430362, 3.771930112382784, 3.893547465231351, 5.393691155778195, 2.5967333095098826, 7.303093656020455, 8.765342038466962, 11.191983940870763, 1.9610763755471987, 3.7276949577262917, 10.176453808258094, 3.568906055025359, 5.264796239669164, 0.9182068882296985, 6.618584297873925, 7.622727174905623, 4.084787423097909, 4.242692761192615, 2.0137689555752414, 4.883353542999525, 7.397787559394179, 8.644097546202756, 3.407224473612789, 4.017468891041011, 2.556395080541101, 2.8305474520088767, 2.478927396661982, 2.7929017682129533, 6.420465014649277, 2.727612059646063, 3.49987402151294, 4.489574193735768, 0.44146763585321885, 4.947881543790493, 3.5384866373741986, 2.7188624713922134, 3.830447155364083, 4.644621480805138, 3.2705799753587494, 5.579438601492095, 3.4457114330004184, 5.262695373793882, 3.3032061963696115, 6.854275442173551, 7.867608333154961, 3.574715426712807, 2.95829597762763, 8.843668096941819, 15.394279779354484, 9.94251704595392, 9.88481918878141, 7.868561458647671, 6.106387263243576, 3.6362168301781583, 2.6051865230594617, 6.90003924710949, 6.935256276988006, 9.188993669140581, 8.708015228185275, 7.6791911489504585, 3.7281364787666798, 3.803699725137963, 3.8665186058054313, 3.818465841677227, 4.854934488876595, 6.634077768990914, 4.014600426025271, 2.092724275424674, 6.205679584489843]}, \"mode\": \"markers\", \"text\": [\"O Brother, Where Art Thou?\", \"The Twilight Saga: Breaking Dawn Part 1\", \"The Twilight Saga: Breaking Dawn Part 2\", \"Helena From the Wedding\", \"Monsters\", \"Catfish\", \"Red\", \"Freakonomics\", \"The Warrior's Way\", \"Stone\", \"Frankenweenie\", \"John Carter\", \"Dolphin Tale\", \"Penguins of Madagascar\", \"Minions\", \"Proud American\", \"Edmond\", \"Tootsie\", \"Waterworld\", \"The Lion King (2019)\", \"Crawl\", \"Stuber\", \"Midsommar\", \"Spider-Man: Far from Home\", \"Yesterday\", \"Annabelle Comes Home\", \"Toy Story 4\", \"Child's Play (2019)\", \"Anna (2019)\", \"Men in Black International\", \"Shaft (2019)\\u00a0\", \"Late Night\", \"The Secret Life of Pets 2\", \"Dark Phoenix\", \"Godzilla:King of the Monsters\", \"Rocketman\", \"Return of the Jedi\", \"Indiana Jones and the Temple of Doom\", \"The Idolmaker\", \"The Grass Harp\", \"The Grand\", \"Jaws\", \"Superman (1978)\", \"Clerks\", \"Juice\", \"He Got Game\", \"White Men Can't Jump\", \"Mulholland Drive\", \"Blue Velvet\", \"Once Upon a Time in Hollywood\", \"The Big Lebowski\", \"Train to Busan\", \"Pride and Prejudice and Zombies\", \"Dead Poets Society\", \"A Fish Called Wanda\", \"The Witches of Eastwick\", \"Ferris Bueller's Day Off\", \"Back to the Future\", \"Police Academy\", \"Trading Places\", \"Star Trek II The Wrath of Khan\", \"The Blues Brothers\", \"V For Vendetta\", \"In the Line of Fire\", \"Us\", \"The Forbidden Kingdom\", \"Rumble in the Bronx\", \"Machete\", \"Beverly Hills Cop\", \"Watchmen\", \"Jackie Brown\", \"Zombieland\", \"Mo Better Blues\", \"Thelma and Louise\", \"New Jack City\", \"The Lawnmower Man\", \"Schindler's List\", \"Four Weddings and a Funeral\", \"Get Shorty\", \"Jerry Maguire\", \"Welcome to Sarajevo\", \"Trojan War\", \"The Gingerbread Man\", \"Tumbleweeds\", \"Turn it up\", \"The Adventures of Pluto Nash\", \"The Lord of the Rings: The Return of the King\", \"Harry Potter and the Prisoner of Azkaban\", \"Stay\", \"Fast Food Nation\", \"Into the Wild\", \"The Wrestler\", \"Slumdog Millionaire\", \"Jackass 3-D\", \"Skyfall\", \"The Hunger Games: Mocking Jay - Part 1\", \"Jurassic World\", \"Shut In\", \"Molly's Game\", \"Peter Rabbit\", \"BlacKkKlansman\", \"Replicas\"], \"type\": \"scatter\", \"x\": [\"O Brother, Where Art Thou?\", \"The Twilight Saga: Breaking Dawn Part 1\", \"The Twilight Saga: Breaking Dawn Part 2\", \"Helena From the Wedding\", \"Monsters\", \"Catfish\", \"Red\", \"Freakonomics\", \"The Warrior's Way\", \"Stone\", \"Frankenweenie\", \"John Carter\", \"Dolphin Tale\", \"Penguins of Madagascar\", \"Minions\", \"Proud American\", \"Edmond\", \"Tootsie\", \"Waterworld\", \"The Lion King (2019)\", \"Crawl\", \"Stuber\", \"Midsommar\", \"Spider-Man: Far from Home\", \"Yesterday\", \"Annabelle Comes Home\", \"Toy Story 4\", \"Child's Play (2019)\", \"Anna (2019)\", \"Men in Black International\", \"Shaft (2019)\\u00a0\", \"Late Night\", \"The Secret Life of Pets 2\", \"Dark Phoenix\", \"Godzilla:King of the Monsters\", \"Rocketman\", \"Return of the Jedi\", \"Indiana Jones and the Temple of Doom\", \"The Idolmaker\", \"The Grass Harp\", \"The Grand\", \"Jaws\", \"Superman (1978)\", \"Clerks\", \"Juice\", \"He Got Game\", \"White Men Can't Jump\", \"Mulholland Drive\", \"Blue Velvet\", \"Once Upon a Time in Hollywood\", \"The Big Lebowski\", \"Train to Busan\", \"Pride and Prejudice and Zombies\", \"Dead Poets Society\", \"A Fish Called Wanda\", \"The Witches of Eastwick\", \"Ferris Bueller's Day Off\", \"Back to the Future\", \"Police Academy\", \"Trading Places\", \"Star Trek II The Wrath of Khan\", \"The Blues Brothers\", \"V For Vendetta\", \"In the Line of Fire\", \"Us\", \"The Forbidden Kingdom\", \"Rumble in the Bronx\", \"Machete\", \"Beverly Hills Cop\", \"Watchmen\", \"Jackie Brown\", \"Zombieland\", \"Mo Better Blues\", \"Thelma and Louise\", \"New Jack City\", \"The Lawnmower Man\", \"Schindler's List\", \"Four Weddings and a Funeral\", \"Get Shorty\", \"Jerry Maguire\", \"Welcome to Sarajevo\", \"Trojan War\", \"The Gingerbread Man\", \"Tumbleweeds\", \"Turn it up\", \"The Adventures of Pluto Nash\", \"The Lord of the Rings: The Return of the King\", \"Harry Potter and the Prisoner of Azkaban\", \"Stay\", \"Fast Food Nation\", \"Into the Wild\", \"The Wrestler\", \"Slumdog Millionaire\", \"Jackass 3-D\", \"Skyfall\", \"The Hunger Games: Mocking Jay - Part 1\", \"Jurassic World\", \"Shut In\", \"Molly's Game\", \"Peter Rabbit\", \"BlacKkKlansman\", \"Replicas\"], \"y\": [8.575980864105682, 3.637976207765318, 3.764939778153561, 12.947660985206884, 9.250817168969494, 7.44294229188153, 2.7294681740499804, 9.542389208713947, 6.13623179282937, 10.097651043490686, 5.667259749919357, 2.4865355650381997, 2.764656166316215, 4.082619080765397, 4.336457277448148, 9.215425095802859, 10.873588418881848, 2.68066112700189, 3.0998861331319683, 4.404222211057943, 3.943393597887739, 5.654560133464735, 4.253722737643014, 4.359118760821644, 3.606479310886748, 4.321675896411059, 4.426163934514516, 2.7702790396028516, 5.090654691645898, 3.1344153946014086, 4.138318960420185, 8.55680459293723, 3.1535674175491226, 0.7199697040430362, 3.771930112382784, 3.893547465231351, 5.393691155778195, 2.5967333095098826, 7.303093656020455, 8.765342038466962, 11.191983940870763, 1.9610763755471987, 3.7276949577262917, 10.176453808258094, 3.568906055025359, 5.264796239669164, 0.9182068882296985, 6.618584297873925, 7.622727174905623, 4.084787423097909, 4.242692761192615, 2.0137689555752414, 4.883353542999525, 7.397787559394179, 8.644097546202756, 3.407224473612789, 4.017468891041011, 2.556395080541101, 2.8305474520088767, 2.478927396661982, 2.7929017682129533, 6.420465014649277, 2.727612059646063, 3.49987402151294, 4.489574193735768, 0.44146763585321885, 4.947881543790493, 3.5384866373741986, 2.7188624713922134, 3.830447155364083, 4.644621480805138, 3.2705799753587494, 5.579438601492095, 3.4457114330004184, 5.262695373793882, 3.3032061963696115, 6.854275442173551, 7.867608333154961, 3.574715426712807, 2.95829597762763, 8.843668096941819, 15.394279779354484, 9.94251704595392, 9.88481918878141, 7.868561458647671, 6.106387263243576, 3.6362168301781583, 2.6051865230594617, 6.90003924710949, 6.935256276988006, 9.188993669140581, 8.708015228185275, 7.6791911489504585, 3.7281364787666798, 3.803699725137963, 3.8665186058054313, 3.818465841677227, 4.854934488876595, 6.634077768990914, 4.014600426025271, 2.092724275424674, 6.205679584489843]}],\n",
       "                        {\"template\": {\"data\": {\"bar\": [{\"error_x\": {\"color\": \"#2a3f5f\"}, \"error_y\": {\"color\": \"#2a3f5f\"}, \"marker\": {\"line\": {\"color\": \"#E5ECF6\", \"width\": 0.5}}, \"type\": \"bar\"}], \"barpolar\": [{\"marker\": {\"line\": {\"color\": \"#E5ECF6\", \"width\": 0.5}}, \"type\": \"barpolar\"}], \"carpet\": [{\"aaxis\": {\"endlinecolor\": \"#2a3f5f\", \"gridcolor\": \"white\", \"linecolor\": \"white\", \"minorgridcolor\": \"white\", \"startlinecolor\": \"#2a3f5f\"}, \"baxis\": {\"endlinecolor\": \"#2a3f5f\", \"gridcolor\": \"white\", \"linecolor\": \"white\", \"minorgridcolor\": \"white\", \"startlinecolor\": \"#2a3f5f\"}, \"type\": \"carpet\"}], \"choropleth\": [{\"colorbar\": {\"outlinewidth\": 0, \"ticks\": \"\"}, \"type\": \"choropleth\"}], \"contour\": [{\"colorbar\": {\"outlinewidth\": 0, \"ticks\": \"\"}, \"colorscale\": [[0.0, \"#0d0887\"], [0.1111111111111111, \"#46039f\"], [0.2222222222222222, \"#7201a8\"], [0.3333333333333333, \"#9c179e\"], [0.4444444444444444, \"#bd3786\"], [0.5555555555555556, \"#d8576b\"], [0.6666666666666666, \"#ed7953\"], [0.7777777777777778, \"#fb9f3a\"], [0.8888888888888888, \"#fdca26\"], [1.0, \"#f0f921\"]], \"type\": \"contour\"}], \"contourcarpet\": [{\"colorbar\": {\"outlinewidth\": 0, \"ticks\": \"\"}, \"type\": \"contourcarpet\"}], \"heatmap\": [{\"colorbar\": {\"outlinewidth\": 0, \"ticks\": \"\"}, \"colorscale\": [[0.0, \"#0d0887\"], [0.1111111111111111, \"#46039f\"], [0.2222222222222222, \"#7201a8\"], [0.3333333333333333, \"#9c179e\"], [0.4444444444444444, \"#bd3786\"], [0.5555555555555556, \"#d8576b\"], [0.6666666666666666, \"#ed7953\"], [0.7777777777777778, \"#fb9f3a\"], [0.8888888888888888, \"#fdca26\"], [1.0, \"#f0f921\"]], \"type\": \"heatmap\"}], \"heatmapgl\": [{\"colorbar\": {\"outlinewidth\": 0, \"ticks\": \"\"}, \"colorscale\": [[0.0, \"#0d0887\"], [0.1111111111111111, \"#46039f\"], [0.2222222222222222, \"#7201a8\"], [0.3333333333333333, \"#9c179e\"], [0.4444444444444444, \"#bd3786\"], [0.5555555555555556, \"#d8576b\"], [0.6666666666666666, \"#ed7953\"], [0.7777777777777778, \"#fb9f3a\"], [0.8888888888888888, \"#fdca26\"], [1.0, \"#f0f921\"]], \"type\": \"heatmapgl\"}], \"histogram\": [{\"marker\": {\"colorbar\": {\"outlinewidth\": 0, \"ticks\": \"\"}}, \"type\": \"histogram\"}], \"histogram2d\": [{\"colorbar\": {\"outlinewidth\": 0, \"ticks\": \"\"}, \"colorscale\": [[0.0, \"#0d0887\"], [0.1111111111111111, \"#46039f\"], [0.2222222222222222, \"#7201a8\"], [0.3333333333333333, \"#9c179e\"], [0.4444444444444444, \"#bd3786\"], [0.5555555555555556, \"#d8576b\"], [0.6666666666666666, \"#ed7953\"], [0.7777777777777778, \"#fb9f3a\"], [0.8888888888888888, \"#fdca26\"], [1.0, \"#f0f921\"]], \"type\": \"histogram2d\"}], \"histogram2dcontour\": [{\"colorbar\": {\"outlinewidth\": 0, \"ticks\": \"\"}, \"colorscale\": [[0.0, \"#0d0887\"], [0.1111111111111111, \"#46039f\"], [0.2222222222222222, \"#7201a8\"], [0.3333333333333333, \"#9c179e\"], [0.4444444444444444, \"#bd3786\"], [0.5555555555555556, \"#d8576b\"], [0.6666666666666666, \"#ed7953\"], [0.7777777777777778, \"#fb9f3a\"], [0.8888888888888888, \"#fdca26\"], [1.0, \"#f0f921\"]], \"type\": \"histogram2dcontour\"}], \"mesh3d\": [{\"colorbar\": {\"outlinewidth\": 0, \"ticks\": \"\"}, \"type\": \"mesh3d\"}], \"parcoords\": [{\"line\": {\"colorbar\": {\"outlinewidth\": 0, \"ticks\": \"\"}}, \"type\": \"parcoords\"}], \"scatter\": [{\"marker\": {\"colorbar\": {\"outlinewidth\": 0, \"ticks\": \"\"}}, \"type\": \"scatter\"}], \"scatter3d\": [{\"line\": {\"colorbar\": {\"outlinewidth\": 0, \"ticks\": \"\"}}, \"marker\": {\"colorbar\": {\"outlinewidth\": 0, \"ticks\": \"\"}}, \"type\": \"scatter3d\"}], \"scattercarpet\": [{\"marker\": {\"colorbar\": {\"outlinewidth\": 0, \"ticks\": \"\"}}, \"type\": \"scattercarpet\"}], \"scattergeo\": [{\"marker\": {\"colorbar\": {\"outlinewidth\": 0, \"ticks\": \"\"}}, \"type\": \"scattergeo\"}], \"scattergl\": [{\"marker\": {\"colorbar\": {\"outlinewidth\": 0, \"ticks\": \"\"}}, \"type\": \"scattergl\"}], \"scattermapbox\": [{\"marker\": {\"colorbar\": {\"outlinewidth\": 0, \"ticks\": \"\"}}, \"type\": \"scattermapbox\"}], \"scatterpolar\": [{\"marker\": {\"colorbar\": {\"outlinewidth\": 0, \"ticks\": \"\"}}, \"type\": \"scatterpolar\"}], \"scatterpolargl\": [{\"marker\": {\"colorbar\": {\"outlinewidth\": 0, \"ticks\": \"\"}}, \"type\": \"scatterpolargl\"}], \"scatterternary\": [{\"marker\": {\"colorbar\": {\"outlinewidth\": 0, \"ticks\": \"\"}}, \"type\": \"scatterternary\"}], \"surface\": [{\"colorbar\": {\"outlinewidth\": 0, \"ticks\": \"\"}, \"colorscale\": [[0.0, \"#0d0887\"], [0.1111111111111111, \"#46039f\"], [0.2222222222222222, \"#7201a8\"], [0.3333333333333333, \"#9c179e\"], [0.4444444444444444, \"#bd3786\"], [0.5555555555555556, \"#d8576b\"], [0.6666666666666666, \"#ed7953\"], [0.7777777777777778, \"#fb9f3a\"], [0.8888888888888888, \"#fdca26\"], [1.0, \"#f0f921\"]], \"type\": \"surface\"}], \"table\": [{\"cells\": {\"fill\": {\"color\": \"#EBF0F8\"}, \"line\": {\"color\": \"white\"}}, \"header\": {\"fill\": {\"color\": \"#C8D4E3\"}, \"line\": {\"color\": \"white\"}}, \"type\": \"table\"}]}, \"layout\": {\"annotationdefaults\": {\"arrowcolor\": \"#2a3f5f\", \"arrowhead\": 0, \"arrowwidth\": 1}, \"colorscale\": {\"diverging\": [[0, \"#8e0152\"], [0.1, \"#c51b7d\"], [0.2, \"#de77ae\"], [0.3, \"#f1b6da\"], [0.4, \"#fde0ef\"], [0.5, \"#f7f7f7\"], [0.6, \"#e6f5d0\"], [0.7, \"#b8e186\"], [0.8, \"#7fbc41\"], [0.9, \"#4d9221\"], [1, \"#276419\"]], \"sequential\": [[0.0, \"#0d0887\"], [0.1111111111111111, \"#46039f\"], [0.2222222222222222, \"#7201a8\"], [0.3333333333333333, \"#9c179e\"], [0.4444444444444444, \"#bd3786\"], [0.5555555555555556, \"#d8576b\"], [0.6666666666666666, \"#ed7953\"], [0.7777777777777778, \"#fb9f3a\"], [0.8888888888888888, \"#fdca26\"], [1.0, \"#f0f921\"]], \"sequentialminus\": [[0.0, \"#0d0887\"], [0.1111111111111111, \"#46039f\"], [0.2222222222222222, \"#7201a8\"], [0.3333333333333333, \"#9c179e\"], [0.4444444444444444, \"#bd3786\"], [0.5555555555555556, \"#d8576b\"], [0.6666666666666666, \"#ed7953\"], [0.7777777777777778, \"#fb9f3a\"], [0.8888888888888888, \"#fdca26\"], [1.0, \"#f0f921\"]]}, \"colorway\": [\"#636efa\", \"#EF553B\", \"#00cc96\", \"#ab63fa\", \"#FFA15A\", \"#19d3f3\", \"#FF6692\", \"#B6E880\", \"#FF97FF\", \"#FECB52\"], \"font\": {\"color\": \"#2a3f5f\"}, \"geo\": {\"bgcolor\": \"white\", \"lakecolor\": \"white\", \"landcolor\": \"#E5ECF6\", \"showlakes\": true, \"showland\": true, \"subunitcolor\": \"white\"}, \"hoverlabel\": {\"align\": \"left\"}, \"hovermode\": \"closest\", \"mapbox\": {\"style\": \"light\"}, \"paper_bgcolor\": \"white\", \"plot_bgcolor\": \"#E5ECF6\", \"polar\": {\"angularaxis\": {\"gridcolor\": \"white\", \"linecolor\": \"white\", \"ticks\": \"\"}, \"bgcolor\": \"#E5ECF6\", \"radialaxis\": {\"gridcolor\": \"white\", \"linecolor\": \"white\", \"ticks\": \"\"}}, \"scene\": {\"xaxis\": {\"backgroundcolor\": \"#E5ECF6\", \"gridcolor\": \"white\", \"gridwidth\": 2, \"linecolor\": \"white\", \"showbackground\": true, \"ticks\": \"\", \"zerolinecolor\": \"white\"}, \"yaxis\": {\"backgroundcolor\": \"#E5ECF6\", \"gridcolor\": \"white\", \"gridwidth\": 2, \"linecolor\": \"white\", \"showbackground\": true, \"ticks\": \"\", \"zerolinecolor\": \"white\"}, \"zaxis\": {\"backgroundcolor\": \"#E5ECF6\", \"gridcolor\": \"white\", \"gridwidth\": 2, \"linecolor\": \"white\", \"showbackground\": true, \"ticks\": \"\", \"zerolinecolor\": \"white\"}}, \"shapedefaults\": {\"line\": {\"color\": \"#2a3f5f\"}}, \"ternary\": {\"aaxis\": {\"gridcolor\": \"white\", \"linecolor\": \"white\", \"ticks\": \"\"}, \"baxis\": {\"gridcolor\": \"white\", \"linecolor\": \"white\", \"ticks\": \"\"}, \"bgcolor\": \"#E5ECF6\", \"caxis\": {\"gridcolor\": \"white\", \"linecolor\": \"white\", \"ticks\": \"\"}}, \"title\": {\"x\": 0.05}, \"xaxis\": {\"automargin\": true, \"gridcolor\": \"white\", \"linecolor\": \"white\", \"ticks\": \"\", \"zerolinecolor\": \"white\", \"zerolinewidth\": 2}, \"yaxis\": {\"automargin\": true, \"gridcolor\": \"white\", \"linecolor\": \"white\", \"ticks\": \"\", \"zerolinecolor\": \"white\", \"zerolinewidth\": 2}}}, \"title\": {\"text\": \"Percentage of error for meta3 prediction of Group 1\"}},\n",
       "                        {\"responsive\": true}\n",
       "                    ).then(function(){\n",
       "                            \n",
       "var gd = document.getElementById('cd831e99-4184-4248-a9cc-e7525839ca70');\n",
       "var x = new MutationObserver(function (mutations, observer) {{\n",
       "        var display = window.getComputedStyle(gd).display;\n",
       "        if (!display || display === 'none') {{\n",
       "            console.log([gd, 'removed!']);\n",
       "            Plotly.purge(gd);\n",
       "            observer.disconnect();\n",
       "        }}\n",
       "}});\n",
       "\n",
       "// Listen for the removal of the full notebook cells\n",
       "var notebookContainer = gd.closest('#notebook-container');\n",
       "if (notebookContainer) {{\n",
       "    x.observe(notebookContainer, {childList: true});\n",
       "}}\n",
       "\n",
       "// Listen for the clearing of the current output cell\n",
       "var outputEl = gd.closest('.output');\n",
       "if (outputEl) {{\n",
       "    x.observe(outputEl, {childList: true});\n",
       "}}\n",
       "\n",
       "                        })\n",
       "                };\n",
       "                });\n",
       "            </script>\n",
       "        </div>"
      ]
     },
     "metadata": {},
     "output_type": "display_data"
    }
   ],
   "source": [
    "# Percentage of error for meta3 prediction\n",
    "\n",
    "#loss 模型评估\n",
    "#y_true = g4_result_final[\"ground_truth\"]\n",
    "#y_pred = g4_result_final[\"meta_prediction\"]\n",
    "\n",
    "#movie_data[\"log_openingBox\"] = np.log1p(result_meta_data.openingBox)\n",
    "\n",
    "def mean_absolute_percentage_error(y_true, y_pred):\n",
    "    diff = abs((y_true - y_pred) /y_true)\n",
    "    return np.log1p(100. *diff)#using log1p because of large range of 100. *diff\n",
    "    #return 100. *diff\n",
    "    \n",
    "#Visualizing Percentage of error for meta prediction\n",
    "g1_result_final['meta3_rmse_pre'] = mean_absolute_percentage_error(g1_result_final[\"ground_truth\"], g1_result_final[\"pred_meta_3\"])\n",
    "fig = go.Figure(data=go.Scatter(x=g1_result_final[\"name\"],\n",
    "                                y=g1_result_final['meta3_rmse_pre'],\n",
    "                                mode='markers',\n",
    "                                marker_color=g1_result_final['meta3_rmse_pre'],\n",
    "                                text=g1_result_final[\"name\"])) # hover text goes here(movie_title)\n",
    "\n",
    "fig.update_layout(title='Percentage of error for meta3 prediction of Group 1')\n",
    "fig.show()"
   ]
  },
  {
   "cell_type": "code",
   "execution_count": 35,
   "metadata": {},
   "outputs": [
    {
     "data": {
      "text/plain": [
       "4.2876993170270365"
      ]
     },
     "execution_count": 35,
     "metadata": {},
     "output_type": "execute_result"
    }
   ],
   "source": [
    "# Median for Percentage of error for meta3 prediction\n",
    "Median_meta3 = np.median(g1_result_final['meta3_rmse_pre'])\n",
    "Median_meta3"
   ]
  },
  {
   "cell_type": "code",
   "execution_count": 36,
   "metadata": {},
   "outputs": [
    {
     "data": {
      "application/vnd.plotly.v1+json": {
       "config": {
        "plotlyServerURL": "https://plot.ly"
       },
       "data": [
        {
         "marker": {
          "color": [
           -10343926.642857144,
           51125712.80357143,
           59475675.46428572,
           -11302427.777777778,
           -2135307.619047619,
           -4391256.986111111,
           -3117263.976190474,
           -4444994.1190476185,
           -14063741.982142858,
           -18399694.19642857,
           -32894660.345238097,
           -3325724.803571429,
           2848647.9107142854,
           -14836007.357142858,
           87293644.51785713,
           -9655615.642857144,
           -10158501.023809524,
           -753212.4404761912,
           4487448.5,
           154942140.63690478,
           -6073842.928571429,
           -23408688.863095235,
           4550488.321428571,
           71460228.75,
           6095744.595238097,
           15063392.410714285,
           99882233.80952382,
           -2108986.4642857146,
           -5814908.517857144,
           6600435.619047616,
           -5491938.398809524,
           -12810401.80952381,
           10459280.208333328,
           -346132.5714285709,
           20287664.90476191,
           12370137.357142854,
           -50416184.904761896,
           3146825.46428572,
           -4724739.315476188,
           -7506802.202380952,
           -19104149.666666664,
           -431244.6726190476,
           -3029671.1011904757,
           -8320332.821428573,
           -2787842.4642857164,
           -14643440.452380951,
           221372.25595238246,
           -4394499.952380953,
           -16128646.047619049,
           24003936.82142857,
           -3795940.428571429,
           18486.23214285716,
           -6978632.255952382,
           -5554093.345238096,
           -6550597.214285714,
           -2758875.1071428545,
           -3424011.738095237,
           -1325950.6904761922,
           -1367322.3511904757,
           -803045.3214285728,
           -2199189.690476192,
           -29794497.291666664,
           -3665910.1309523806,
           4903195.994047619,
           62642897.11904762,
           118773.58928571269,
           -13789528.06547619,
           -4712451.494047619,
           2154882.5714285728,
           24892355.47023809,
           -9573244.023809526,
           6264068.148809526,
           -11579244.970238093,
           -1852694.833333332,
           -13516144.684523813,
           -2030993.678571429,
           -6217850.7976190485,
           -3614917.6785714286,
           -4404929.4226190485,
           3120466.4107142854,
           -4637132.6190476185,
           -10522293.351190478,
           -24595937.31547619,
           -15709165.702380953,
           -15071169.220238095,
           -9773164.083333332,
           -26835227.148809522,
           11742539.821428567,
           -21691915.60119048,
           -4218474.964285715,
           -20793192.238095246,
           -12264643.517857146,
           -7783119.785714285,
           20444338.88095238,
           38762836.7797619,
           57018556.83333333,
           92990406.28571428,
           -4602682.717948717,
           -8902519.57142857,
           -13606233.488095231,
           770774.4285714291,
           -11747303.125
          ]
         },
         "mode": "markers",
         "text": [
          "O Brother, Where Art Thou?",
          "The Twilight Saga: Breaking Dawn Part 1",
          "The Twilight Saga: Breaking Dawn Part 2",
          "Helena From the Wedding",
          "Monsters",
          "Catfish",
          "Red",
          "Freakonomics",
          "The Warrior's Way",
          "Stone",
          "Frankenweenie",
          "John Carter",
          "Dolphin Tale",
          "Penguins of Madagascar",
          "Minions",
          "Proud American",
          "Edmond",
          "Tootsie",
          "Waterworld",
          "The Lion King (2019)",
          "Crawl",
          "Stuber",
          "Midsommar",
          "Spider-Man: Far from Home",
          "Yesterday",
          "Annabelle Comes Home",
          "Toy Story 4",
          "Child's Play (2019)",
          "Anna (2019)",
          "Men in Black International",
          "Shaft (2019) ",
          "Late Night",
          "The Secret Life of Pets 2",
          "Dark Phoenix",
          "Godzilla:King of the Monsters",
          "Rocketman",
          "Return of the Jedi",
          "Indiana Jones and the Temple of Doom",
          "The Idolmaker",
          "The Grass Harp",
          "The Grand",
          "Jaws",
          "Superman (1978)",
          "Clerks",
          "Juice",
          "He Got Game",
          "White Men Can't Jump",
          "Mulholland Drive",
          "Blue Velvet",
          "Once Upon a Time in Hollywood",
          "The Big Lebowski",
          "Train to Busan",
          "Pride and Prejudice and Zombies",
          "Dead Poets Society",
          "A Fish Called Wanda",
          "The Witches of Eastwick",
          "Ferris Bueller's Day Off",
          "Back to the Future",
          "Police Academy",
          "Trading Places",
          "Star Trek II The Wrath of Khan",
          "The Blues Brothers",
          "V For Vendetta",
          "In the Line of Fire",
          "Us",
          "The Forbidden Kingdom",
          "Rumble in the Bronx",
          "Machete",
          "Beverly Hills Cop",
          "Watchmen",
          "Jackie Brown",
          "Zombieland",
          "Mo Better Blues",
          "Thelma and Louise",
          "New Jack City",
          "The Lawnmower Man",
          "Schindler's List",
          "Four Weddings and a Funeral",
          "Get Shorty",
          "Jerry Maguire",
          "Welcome to Sarajevo",
          "Trojan War",
          "The Gingerbread Man",
          "Tumbleweeds",
          "Turn it up",
          "The Adventures of Pluto Nash",
          "The Lord of the Rings: The Return of the King",
          "Harry Potter and the Prisoner of Azkaban",
          "Stay",
          "Fast Food Nation",
          "Into the Wild",
          "The Wrestler",
          "Slumdog Millionaire",
          "Jackass 3-D",
          "Skyfall",
          "The Hunger Games: Mocking Jay - Part 1",
          "Jurassic World",
          "Shut In",
          "Molly's Game",
          "Peter Rabbit",
          "BlacKkKlansman",
          "Replicas",
          "Crawl"
         ],
         "type": "scatter",
         "x": [
          "O Brother, Where Art Thou?",
          "The Twilight Saga: Breaking Dawn Part 1",
          "The Twilight Saga: Breaking Dawn Part 2",
          "Helena From the Wedding",
          "Monsters",
          "Catfish",
          "Red",
          "Freakonomics",
          "The Warrior's Way",
          "Stone",
          "Frankenweenie",
          "John Carter",
          "Dolphin Tale",
          "Penguins of Madagascar",
          "Minions",
          "Proud American",
          "Edmond",
          "Tootsie",
          "Waterworld",
          "The Lion King (2019)",
          "Crawl",
          "Stuber",
          "Midsommar",
          "Spider-Man: Far from Home",
          "Yesterday",
          "Annabelle Comes Home",
          "Toy Story 4",
          "Child's Play (2019)",
          "Anna (2019)",
          "Men in Black International",
          "Shaft (2019) ",
          "Late Night",
          "The Secret Life of Pets 2",
          "Dark Phoenix",
          "Godzilla:King of the Monsters",
          "Rocketman",
          "Return of the Jedi",
          "Indiana Jones and the Temple of Doom",
          "The Idolmaker",
          "The Grass Harp",
          "The Grand",
          "Jaws",
          "Superman (1978)",
          "Clerks",
          "Juice",
          "He Got Game",
          "White Men Can't Jump",
          "Mulholland Drive",
          "Blue Velvet",
          "Once Upon a Time in Hollywood",
          "The Big Lebowski",
          "Train to Busan",
          "Pride and Prejudice and Zombies",
          "Dead Poets Society",
          "A Fish Called Wanda",
          "The Witches of Eastwick",
          "Ferris Bueller's Day Off",
          "Back to the Future",
          "Police Academy",
          "Trading Places",
          "Star Trek II The Wrath of Khan",
          "The Blues Brothers",
          "V For Vendetta",
          "In the Line of Fire",
          "Us",
          "The Forbidden Kingdom",
          "Rumble in the Bronx",
          "Machete",
          "Beverly Hills Cop",
          "Watchmen",
          "Jackie Brown",
          "Zombieland",
          "Mo Better Blues",
          "Thelma and Louise",
          "New Jack City",
          "The Lawnmower Man",
          "Schindler's List",
          "Four Weddings and a Funeral",
          "Get Shorty",
          "Jerry Maguire",
          "Welcome to Sarajevo",
          "Trojan War",
          "The Gingerbread Man",
          "Tumbleweeds",
          "Turn it up",
          "The Adventures of Pluto Nash",
          "The Lord of the Rings: The Return of the King",
          "Harry Potter and the Prisoner of Azkaban",
          "Stay",
          "Fast Food Nation",
          "Into the Wild",
          "The Wrestler",
          "Slumdog Millionaire",
          "Jackass 3-D",
          "Skyfall",
          "The Hunger Games: Mocking Jay - Part 1",
          "Jurassic World",
          "Shut In",
          "Molly's Game",
          "Peter Rabbit",
          "BlacKkKlansman",
          "Replicas"
         ],
         "y": [
          -10343926.642857144,
          51125712.80357143,
          59475675.46428572,
          -11302427.777777778,
          -2135307.619047619,
          -4391256.986111111,
          -3117263.976190474,
          -4444994.1190476185,
          -14063741.982142858,
          -18399694.19642857,
          -32894660.345238097,
          -3325724.803571429,
          2848647.9107142854,
          -14836007.357142858,
          87293644.51785713,
          -9655615.642857144,
          -10158501.023809524,
          -753212.4404761912,
          4487448.5,
          154942140.63690478,
          -6073842.928571429,
          -23408688.863095235,
          4550488.321428571,
          71460228.75,
          6095744.595238097,
          15063392.410714285,
          99882233.80952382,
          -2108986.4642857146,
          -5814908.517857144,
          6600435.619047616,
          -5491938.398809524,
          -12810401.80952381,
          10459280.208333328,
          -346132.5714285709,
          20287664.90476191,
          12370137.357142854,
          -50416184.904761896,
          3146825.46428572,
          -4724739.315476188,
          -7506802.202380952,
          -19104149.666666664,
          -431244.6726190476,
          -3029671.1011904757,
          -8320332.821428573,
          -2787842.4642857164,
          -14643440.452380951,
          221372.25595238246,
          -4394499.952380953,
          -16128646.047619049,
          24003936.82142857,
          -3795940.428571429,
          18486.23214285716,
          -6978632.255952382,
          -5554093.345238096,
          -6550597.214285714,
          -2758875.1071428545,
          -3424011.738095237,
          -1325950.6904761922,
          -1367322.3511904757,
          -803045.3214285728,
          -2199189.690476192,
          -29794497.291666664,
          -3665910.1309523806,
          4903195.994047619,
          62642897.11904762,
          118773.58928571269,
          -13789528.06547619,
          -4712451.494047619,
          2154882.5714285728,
          24892355.47023809,
          -9573244.023809526,
          6264068.148809526,
          -11579244.970238093,
          -1852694.833333332,
          -13516144.684523813,
          -2030993.678571429,
          -6217850.7976190485,
          -3614917.6785714286,
          -4404929.4226190485,
          3120466.4107142854,
          -4637132.6190476185,
          -10522293.351190478,
          -24595937.31547619,
          -15709165.702380953,
          -15071169.220238095,
          -9773164.083333332,
          -26835227.148809522,
          11742539.821428567,
          -21691915.60119048,
          -4218474.964285715,
          -20793192.238095246,
          -12264643.517857146,
          -7783119.785714285,
          20444338.88095238,
          38762836.7797619,
          57018556.83333333,
          92990406.28571428,
          -4602682.717948717,
          -8902519.57142857,
          -13606233.488095231,
          770774.4285714291,
          -11747303.125
         ]
        }
       ],
       "layout": {
        "template": {
         "data": {
          "bar": [
           {
            "error_x": {
             "color": "#2a3f5f"
            },
            "error_y": {
             "color": "#2a3f5f"
            },
            "marker": {
             "line": {
              "color": "#E5ECF6",
              "width": 0.5
             }
            },
            "type": "bar"
           }
          ],
          "barpolar": [
           {
            "marker": {
             "line": {
              "color": "#E5ECF6",
              "width": 0.5
             }
            },
            "type": "barpolar"
           }
          ],
          "carpet": [
           {
            "aaxis": {
             "endlinecolor": "#2a3f5f",
             "gridcolor": "white",
             "linecolor": "white",
             "minorgridcolor": "white",
             "startlinecolor": "#2a3f5f"
            },
            "baxis": {
             "endlinecolor": "#2a3f5f",
             "gridcolor": "white",
             "linecolor": "white",
             "minorgridcolor": "white",
             "startlinecolor": "#2a3f5f"
            },
            "type": "carpet"
           }
          ],
          "choropleth": [
           {
            "colorbar": {
             "outlinewidth": 0,
             "ticks": ""
            },
            "type": "choropleth"
           }
          ],
          "contour": [
           {
            "colorbar": {
             "outlinewidth": 0,
             "ticks": ""
            },
            "colorscale": [
             [
              0,
              "#0d0887"
             ],
             [
              0.1111111111111111,
              "#46039f"
             ],
             [
              0.2222222222222222,
              "#7201a8"
             ],
             [
              0.3333333333333333,
              "#9c179e"
             ],
             [
              0.4444444444444444,
              "#bd3786"
             ],
             [
              0.5555555555555556,
              "#d8576b"
             ],
             [
              0.6666666666666666,
              "#ed7953"
             ],
             [
              0.7777777777777778,
              "#fb9f3a"
             ],
             [
              0.8888888888888888,
              "#fdca26"
             ],
             [
              1,
              "#f0f921"
             ]
            ],
            "type": "contour"
           }
          ],
          "contourcarpet": [
           {
            "colorbar": {
             "outlinewidth": 0,
             "ticks": ""
            },
            "type": "contourcarpet"
           }
          ],
          "heatmap": [
           {
            "colorbar": {
             "outlinewidth": 0,
             "ticks": ""
            },
            "colorscale": [
             [
              0,
              "#0d0887"
             ],
             [
              0.1111111111111111,
              "#46039f"
             ],
             [
              0.2222222222222222,
              "#7201a8"
             ],
             [
              0.3333333333333333,
              "#9c179e"
             ],
             [
              0.4444444444444444,
              "#bd3786"
             ],
             [
              0.5555555555555556,
              "#d8576b"
             ],
             [
              0.6666666666666666,
              "#ed7953"
             ],
             [
              0.7777777777777778,
              "#fb9f3a"
             ],
             [
              0.8888888888888888,
              "#fdca26"
             ],
             [
              1,
              "#f0f921"
             ]
            ],
            "type": "heatmap"
           }
          ],
          "heatmapgl": [
           {
            "colorbar": {
             "outlinewidth": 0,
             "ticks": ""
            },
            "colorscale": [
             [
              0,
              "#0d0887"
             ],
             [
              0.1111111111111111,
              "#46039f"
             ],
             [
              0.2222222222222222,
              "#7201a8"
             ],
             [
              0.3333333333333333,
              "#9c179e"
             ],
             [
              0.4444444444444444,
              "#bd3786"
             ],
             [
              0.5555555555555556,
              "#d8576b"
             ],
             [
              0.6666666666666666,
              "#ed7953"
             ],
             [
              0.7777777777777778,
              "#fb9f3a"
             ],
             [
              0.8888888888888888,
              "#fdca26"
             ],
             [
              1,
              "#f0f921"
             ]
            ],
            "type": "heatmapgl"
           }
          ],
          "histogram": [
           {
            "marker": {
             "colorbar": {
              "outlinewidth": 0,
              "ticks": ""
             }
            },
            "type": "histogram"
           }
          ],
          "histogram2d": [
           {
            "colorbar": {
             "outlinewidth": 0,
             "ticks": ""
            },
            "colorscale": [
             [
              0,
              "#0d0887"
             ],
             [
              0.1111111111111111,
              "#46039f"
             ],
             [
              0.2222222222222222,
              "#7201a8"
             ],
             [
              0.3333333333333333,
              "#9c179e"
             ],
             [
              0.4444444444444444,
              "#bd3786"
             ],
             [
              0.5555555555555556,
              "#d8576b"
             ],
             [
              0.6666666666666666,
              "#ed7953"
             ],
             [
              0.7777777777777778,
              "#fb9f3a"
             ],
             [
              0.8888888888888888,
              "#fdca26"
             ],
             [
              1,
              "#f0f921"
             ]
            ],
            "type": "histogram2d"
           }
          ],
          "histogram2dcontour": [
           {
            "colorbar": {
             "outlinewidth": 0,
             "ticks": ""
            },
            "colorscale": [
             [
              0,
              "#0d0887"
             ],
             [
              0.1111111111111111,
              "#46039f"
             ],
             [
              0.2222222222222222,
              "#7201a8"
             ],
             [
              0.3333333333333333,
              "#9c179e"
             ],
             [
              0.4444444444444444,
              "#bd3786"
             ],
             [
              0.5555555555555556,
              "#d8576b"
             ],
             [
              0.6666666666666666,
              "#ed7953"
             ],
             [
              0.7777777777777778,
              "#fb9f3a"
             ],
             [
              0.8888888888888888,
              "#fdca26"
             ],
             [
              1,
              "#f0f921"
             ]
            ],
            "type": "histogram2dcontour"
           }
          ],
          "mesh3d": [
           {
            "colorbar": {
             "outlinewidth": 0,
             "ticks": ""
            },
            "type": "mesh3d"
           }
          ],
          "parcoords": [
           {
            "line": {
             "colorbar": {
              "outlinewidth": 0,
              "ticks": ""
             }
            },
            "type": "parcoords"
           }
          ],
          "scatter": [
           {
            "marker": {
             "colorbar": {
              "outlinewidth": 0,
              "ticks": ""
             }
            },
            "type": "scatter"
           }
          ],
          "scatter3d": [
           {
            "line": {
             "colorbar": {
              "outlinewidth": 0,
              "ticks": ""
             }
            },
            "marker": {
             "colorbar": {
              "outlinewidth": 0,
              "ticks": ""
             }
            },
            "type": "scatter3d"
           }
          ],
          "scattercarpet": [
           {
            "marker": {
             "colorbar": {
              "outlinewidth": 0,
              "ticks": ""
             }
            },
            "type": "scattercarpet"
           }
          ],
          "scattergeo": [
           {
            "marker": {
             "colorbar": {
              "outlinewidth": 0,
              "ticks": ""
             }
            },
            "type": "scattergeo"
           }
          ],
          "scattergl": [
           {
            "marker": {
             "colorbar": {
              "outlinewidth": 0,
              "ticks": ""
             }
            },
            "type": "scattergl"
           }
          ],
          "scattermapbox": [
           {
            "marker": {
             "colorbar": {
              "outlinewidth": 0,
              "ticks": ""
             }
            },
            "type": "scattermapbox"
           }
          ],
          "scatterpolar": [
           {
            "marker": {
             "colorbar": {
              "outlinewidth": 0,
              "ticks": ""
             }
            },
            "type": "scatterpolar"
           }
          ],
          "scatterpolargl": [
           {
            "marker": {
             "colorbar": {
              "outlinewidth": 0,
              "ticks": ""
             }
            },
            "type": "scatterpolargl"
           }
          ],
          "scatterternary": [
           {
            "marker": {
             "colorbar": {
              "outlinewidth": 0,
              "ticks": ""
             }
            },
            "type": "scatterternary"
           }
          ],
          "surface": [
           {
            "colorbar": {
             "outlinewidth": 0,
             "ticks": ""
            },
            "colorscale": [
             [
              0,
              "#0d0887"
             ],
             [
              0.1111111111111111,
              "#46039f"
             ],
             [
              0.2222222222222222,
              "#7201a8"
             ],
             [
              0.3333333333333333,
              "#9c179e"
             ],
             [
              0.4444444444444444,
              "#bd3786"
             ],
             [
              0.5555555555555556,
              "#d8576b"
             ],
             [
              0.6666666666666666,
              "#ed7953"
             ],
             [
              0.7777777777777778,
              "#fb9f3a"
             ],
             [
              0.8888888888888888,
              "#fdca26"
             ],
             [
              1,
              "#f0f921"
             ]
            ],
            "type": "surface"
           }
          ],
          "table": [
           {
            "cells": {
             "fill": {
              "color": "#EBF0F8"
             },
             "line": {
              "color": "white"
             }
            },
            "header": {
             "fill": {
              "color": "#C8D4E3"
             },
             "line": {
              "color": "white"
             }
            },
            "type": "table"
           }
          ]
         },
         "layout": {
          "annotationdefaults": {
           "arrowcolor": "#2a3f5f",
           "arrowhead": 0,
           "arrowwidth": 1
          },
          "colorscale": {
           "diverging": [
            [
             0,
             "#8e0152"
            ],
            [
             0.1,
             "#c51b7d"
            ],
            [
             0.2,
             "#de77ae"
            ],
            [
             0.3,
             "#f1b6da"
            ],
            [
             0.4,
             "#fde0ef"
            ],
            [
             0.5,
             "#f7f7f7"
            ],
            [
             0.6,
             "#e6f5d0"
            ],
            [
             0.7,
             "#b8e186"
            ],
            [
             0.8,
             "#7fbc41"
            ],
            [
             0.9,
             "#4d9221"
            ],
            [
             1,
             "#276419"
            ]
           ],
           "sequential": [
            [
             0,
             "#0d0887"
            ],
            [
             0.1111111111111111,
             "#46039f"
            ],
            [
             0.2222222222222222,
             "#7201a8"
            ],
            [
             0.3333333333333333,
             "#9c179e"
            ],
            [
             0.4444444444444444,
             "#bd3786"
            ],
            [
             0.5555555555555556,
             "#d8576b"
            ],
            [
             0.6666666666666666,
             "#ed7953"
            ],
            [
             0.7777777777777778,
             "#fb9f3a"
            ],
            [
             0.8888888888888888,
             "#fdca26"
            ],
            [
             1,
             "#f0f921"
            ]
           ],
           "sequentialminus": [
            [
             0,
             "#0d0887"
            ],
            [
             0.1111111111111111,
             "#46039f"
            ],
            [
             0.2222222222222222,
             "#7201a8"
            ],
            [
             0.3333333333333333,
             "#9c179e"
            ],
            [
             0.4444444444444444,
             "#bd3786"
            ],
            [
             0.5555555555555556,
             "#d8576b"
            ],
            [
             0.6666666666666666,
             "#ed7953"
            ],
            [
             0.7777777777777778,
             "#fb9f3a"
            ],
            [
             0.8888888888888888,
             "#fdca26"
            ],
            [
             1,
             "#f0f921"
            ]
           ]
          },
          "colorway": [
           "#636efa",
           "#EF553B",
           "#00cc96",
           "#ab63fa",
           "#FFA15A",
           "#19d3f3",
           "#FF6692",
           "#B6E880",
           "#FF97FF",
           "#FECB52"
          ],
          "font": {
           "color": "#2a3f5f"
          },
          "geo": {
           "bgcolor": "white",
           "lakecolor": "white",
           "landcolor": "#E5ECF6",
           "showlakes": true,
           "showland": true,
           "subunitcolor": "white"
          },
          "hoverlabel": {
           "align": "left"
          },
          "hovermode": "closest",
          "mapbox": {
           "style": "light"
          },
          "paper_bgcolor": "white",
          "plot_bgcolor": "#E5ECF6",
          "polar": {
           "angularaxis": {
            "gridcolor": "white",
            "linecolor": "white",
            "ticks": ""
           },
           "bgcolor": "#E5ECF6",
           "radialaxis": {
            "gridcolor": "white",
            "linecolor": "white",
            "ticks": ""
           }
          },
          "scene": {
           "xaxis": {
            "backgroundcolor": "#E5ECF6",
            "gridcolor": "white",
            "gridwidth": 2,
            "linecolor": "white",
            "showbackground": true,
            "ticks": "",
            "zerolinecolor": "white"
           },
           "yaxis": {
            "backgroundcolor": "#E5ECF6",
            "gridcolor": "white",
            "gridwidth": 2,
            "linecolor": "white",
            "showbackground": true,
            "ticks": "",
            "zerolinecolor": "white"
           },
           "zaxis": {
            "backgroundcolor": "#E5ECF6",
            "gridcolor": "white",
            "gridwidth": 2,
            "linecolor": "white",
            "showbackground": true,
            "ticks": "",
            "zerolinecolor": "white"
           }
          },
          "shapedefaults": {
           "line": {
            "color": "#2a3f5f"
           }
          },
          "ternary": {
           "aaxis": {
            "gridcolor": "white",
            "linecolor": "white",
            "ticks": ""
           },
           "baxis": {
            "gridcolor": "white",
            "linecolor": "white",
            "ticks": ""
           },
           "bgcolor": "#E5ECF6",
           "caxis": {
            "gridcolor": "white",
            "linecolor": "white",
            "ticks": ""
           }
          },
          "title": {
           "x": 0.05
          },
          "xaxis": {
           "automargin": true,
           "gridcolor": "white",
           "linecolor": "white",
           "ticks": "",
           "zerolinecolor": "white",
           "zerolinewidth": 2
          },
          "yaxis": {
           "automargin": true,
           "gridcolor": "white",
           "linecolor": "white",
           "ticks": "",
           "zerolinecolor": "white",
           "zerolinewidth": 2
          }
         }
        },
        "title": {
         "text": "Meta3 residual plot of Group 1"
        }
       }
      },
      "text/html": [
       "<div>\n",
       "        \n",
       "        \n",
       "            <div id=\"fae451c6-826b-4036-95b7-99dee611397b\" class=\"plotly-graph-div\" style=\"height:525px; width:100%;\"></div>\n",
       "            <script type=\"text/javascript\">\n",
       "                require([\"plotly\"], function(Plotly) {\n",
       "                    window.PLOTLYENV=window.PLOTLYENV || {};\n",
       "                    \n",
       "                if (document.getElementById(\"fae451c6-826b-4036-95b7-99dee611397b\")) {\n",
       "                    Plotly.newPlot(\n",
       "                        'fae451c6-826b-4036-95b7-99dee611397b',\n",
       "                        [{\"marker\": {\"color\": [-10343926.642857144, 51125712.80357143, 59475675.46428572, -11302427.777777778, -2135307.619047619, -4391256.986111111, -3117263.976190474, -4444994.1190476185, -14063741.982142858, -18399694.19642857, -32894660.345238097, -3325724.803571429, 2848647.9107142854, -14836007.357142858, 87293644.51785713, -9655615.642857144, -10158501.023809524, -753212.4404761912, 4487448.5, 154942140.63690478, -6073842.928571429, -23408688.863095235, 4550488.321428571, 71460228.75, 6095744.595238097, 15063392.410714285, 99882233.80952382, -2108986.4642857146, -5814908.517857144, 6600435.619047616, -5491938.398809524, -12810401.80952381, 10459280.208333328, -346132.5714285709, 20287664.90476191, 12370137.357142854, -50416184.904761896, 3146825.46428572, -4724739.315476188, -7506802.202380952, -19104149.666666664, -431244.6726190476, -3029671.1011904757, -8320332.821428573, -2787842.4642857164, -14643440.452380951, 221372.25595238246, -4394499.952380953, -16128646.047619049, 24003936.82142857, -3795940.428571429, 18486.23214285716, -6978632.255952382, -5554093.345238096, -6550597.214285714, -2758875.1071428545, -3424011.738095237, -1325950.6904761922, -1367322.3511904757, -803045.3214285728, -2199189.690476192, -29794497.291666664, -3665910.1309523806, 4903195.994047619, 62642897.11904762, 118773.58928571269, -13789528.06547619, -4712451.494047619, 2154882.5714285728, 24892355.47023809, -9573244.023809526, 6264068.148809526, -11579244.970238093, -1852694.833333332, -13516144.684523813, -2030993.678571429, -6217850.7976190485, -3614917.6785714286, -4404929.4226190485, 3120466.4107142854, -4637132.6190476185, -10522293.351190478, -24595937.31547619, -15709165.702380953, -15071169.220238095, -9773164.083333332, -26835227.148809522, 11742539.821428567, -21691915.60119048, -4218474.964285715, -20793192.238095246, -12264643.517857146, -7783119.785714285, 20444338.88095238, 38762836.7797619, 57018556.83333333, 92990406.28571428, -4602682.717948717, -8902519.57142857, -13606233.488095231, 770774.4285714291, -11747303.125]}, \"mode\": \"markers\", \"text\": [\"O Brother, Where Art Thou?\", \"The Twilight Saga: Breaking Dawn Part 1\", \"The Twilight Saga: Breaking Dawn Part 2\", \"Helena From the Wedding\", \"Monsters\", \"Catfish\", \"Red\", \"Freakonomics\", \"The Warrior's Way\", \"Stone\", \"Frankenweenie\", \"John Carter\", \"Dolphin Tale\", \"Penguins of Madagascar\", \"Minions\", \"Proud American\", \"Edmond\", \"Tootsie\", \"Waterworld\", \"The Lion King (2019)\", \"Crawl\", \"Stuber\", \"Midsommar\", \"Spider-Man: Far from Home\", \"Yesterday\", \"Annabelle Comes Home\", \"Toy Story 4\", \"Child's Play (2019)\", \"Anna (2019)\", \"Men in Black International\", \"Shaft (2019)\\u00a0\", \"Late Night\", \"The Secret Life of Pets 2\", \"Dark Phoenix\", \"Godzilla:King of the Monsters\", \"Rocketman\", \"Return of the Jedi\", \"Indiana Jones and the Temple of Doom\", \"The Idolmaker\", \"The Grass Harp\", \"The Grand\", \"Jaws\", \"Superman (1978)\", \"Clerks\", \"Juice\", \"He Got Game\", \"White Men Can't Jump\", \"Mulholland Drive\", \"Blue Velvet\", \"Once Upon a Time in Hollywood\", \"The Big Lebowski\", \"Train to Busan\", \"Pride and Prejudice and Zombies\", \"Dead Poets Society\", \"A Fish Called Wanda\", \"The Witches of Eastwick\", \"Ferris Bueller's Day Off\", \"Back to the Future\", \"Police Academy\", \"Trading Places\", \"Star Trek II The Wrath of Khan\", \"The Blues Brothers\", \"V For Vendetta\", \"In the Line of Fire\", \"Us\", \"The Forbidden Kingdom\", \"Rumble in the Bronx\", \"Machete\", \"Beverly Hills Cop\", \"Watchmen\", \"Jackie Brown\", \"Zombieland\", \"Mo Better Blues\", \"Thelma and Louise\", \"New Jack City\", \"The Lawnmower Man\", \"Schindler's List\", \"Four Weddings and a Funeral\", \"Get Shorty\", \"Jerry Maguire\", \"Welcome to Sarajevo\", \"Trojan War\", \"The Gingerbread Man\", \"Tumbleweeds\", \"Turn it up\", \"The Adventures of Pluto Nash\", \"The Lord of the Rings: The Return of the King\", \"Harry Potter and the Prisoner of Azkaban\", \"Stay\", \"Fast Food Nation\", \"Into the Wild\", \"The Wrestler\", \"Slumdog Millionaire\", \"Jackass 3-D\", \"Skyfall\", \"The Hunger Games: Mocking Jay - Part 1\", \"Jurassic World\", \"Shut In\", \"Molly's Game\", \"Peter Rabbit\", \"BlacKkKlansman\", \"Replicas\", \"Crawl\"], \"type\": \"scatter\", \"x\": [\"O Brother, Where Art Thou?\", \"The Twilight Saga: Breaking Dawn Part 1\", \"The Twilight Saga: Breaking Dawn Part 2\", \"Helena From the Wedding\", \"Monsters\", \"Catfish\", \"Red\", \"Freakonomics\", \"The Warrior's Way\", \"Stone\", \"Frankenweenie\", \"John Carter\", \"Dolphin Tale\", \"Penguins of Madagascar\", \"Minions\", \"Proud American\", \"Edmond\", \"Tootsie\", \"Waterworld\", \"The Lion King (2019)\", \"Crawl\", \"Stuber\", \"Midsommar\", \"Spider-Man: Far from Home\", \"Yesterday\", \"Annabelle Comes Home\", \"Toy Story 4\", \"Child's Play (2019)\", \"Anna (2019)\", \"Men in Black International\", \"Shaft (2019)\\u00a0\", \"Late Night\", \"The Secret Life of Pets 2\", \"Dark Phoenix\", \"Godzilla:King of the Monsters\", \"Rocketman\", \"Return of the Jedi\", \"Indiana Jones and the Temple of Doom\", \"The Idolmaker\", \"The Grass Harp\", \"The Grand\", \"Jaws\", \"Superman (1978)\", \"Clerks\", \"Juice\", \"He Got Game\", \"White Men Can't Jump\", \"Mulholland Drive\", \"Blue Velvet\", \"Once Upon a Time in Hollywood\", \"The Big Lebowski\", \"Train to Busan\", \"Pride and Prejudice and Zombies\", \"Dead Poets Society\", \"A Fish Called Wanda\", \"The Witches of Eastwick\", \"Ferris Bueller's Day Off\", \"Back to the Future\", \"Police Academy\", \"Trading Places\", \"Star Trek II The Wrath of Khan\", \"The Blues Brothers\", \"V For Vendetta\", \"In the Line of Fire\", \"Us\", \"The Forbidden Kingdom\", \"Rumble in the Bronx\", \"Machete\", \"Beverly Hills Cop\", \"Watchmen\", \"Jackie Brown\", \"Zombieland\", \"Mo Better Blues\", \"Thelma and Louise\", \"New Jack City\", \"The Lawnmower Man\", \"Schindler's List\", \"Four Weddings and a Funeral\", \"Get Shorty\", \"Jerry Maguire\", \"Welcome to Sarajevo\", \"Trojan War\", \"The Gingerbread Man\", \"Tumbleweeds\", \"Turn it up\", \"The Adventures of Pluto Nash\", \"The Lord of the Rings: The Return of the King\", \"Harry Potter and the Prisoner of Azkaban\", \"Stay\", \"Fast Food Nation\", \"Into the Wild\", \"The Wrestler\", \"Slumdog Millionaire\", \"Jackass 3-D\", \"Skyfall\", \"The Hunger Games: Mocking Jay - Part 1\", \"Jurassic World\", \"Shut In\", \"Molly's Game\", \"Peter Rabbit\", \"BlacKkKlansman\", \"Replicas\"], \"y\": [-10343926.642857144, 51125712.80357143, 59475675.46428572, -11302427.777777778, -2135307.619047619, -4391256.986111111, -3117263.976190474, -4444994.1190476185, -14063741.982142858, -18399694.19642857, -32894660.345238097, -3325724.803571429, 2848647.9107142854, -14836007.357142858, 87293644.51785713, -9655615.642857144, -10158501.023809524, -753212.4404761912, 4487448.5, 154942140.63690478, -6073842.928571429, -23408688.863095235, 4550488.321428571, 71460228.75, 6095744.595238097, 15063392.410714285, 99882233.80952382, -2108986.4642857146, -5814908.517857144, 6600435.619047616, -5491938.398809524, -12810401.80952381, 10459280.208333328, -346132.5714285709, 20287664.90476191, 12370137.357142854, -50416184.904761896, 3146825.46428572, -4724739.315476188, -7506802.202380952, -19104149.666666664, -431244.6726190476, -3029671.1011904757, -8320332.821428573, -2787842.4642857164, -14643440.452380951, 221372.25595238246, -4394499.952380953, -16128646.047619049, 24003936.82142857, -3795940.428571429, 18486.23214285716, -6978632.255952382, -5554093.345238096, -6550597.214285714, -2758875.1071428545, -3424011.738095237, -1325950.6904761922, -1367322.3511904757, -803045.3214285728, -2199189.690476192, -29794497.291666664, -3665910.1309523806, 4903195.994047619, 62642897.11904762, 118773.58928571269, -13789528.06547619, -4712451.494047619, 2154882.5714285728, 24892355.47023809, -9573244.023809526, 6264068.148809526, -11579244.970238093, -1852694.833333332, -13516144.684523813, -2030993.678571429, -6217850.7976190485, -3614917.6785714286, -4404929.4226190485, 3120466.4107142854, -4637132.6190476185, -10522293.351190478, -24595937.31547619, -15709165.702380953, -15071169.220238095, -9773164.083333332, -26835227.148809522, 11742539.821428567, -21691915.60119048, -4218474.964285715, -20793192.238095246, -12264643.517857146, -7783119.785714285, 20444338.88095238, 38762836.7797619, 57018556.83333333, 92990406.28571428, -4602682.717948717, -8902519.57142857, -13606233.488095231, 770774.4285714291, -11747303.125]}],\n",
       "                        {\"template\": {\"data\": {\"bar\": [{\"error_x\": {\"color\": \"#2a3f5f\"}, \"error_y\": {\"color\": \"#2a3f5f\"}, \"marker\": {\"line\": {\"color\": \"#E5ECF6\", \"width\": 0.5}}, \"type\": \"bar\"}], \"barpolar\": [{\"marker\": {\"line\": {\"color\": \"#E5ECF6\", \"width\": 0.5}}, \"type\": \"barpolar\"}], \"carpet\": [{\"aaxis\": {\"endlinecolor\": \"#2a3f5f\", \"gridcolor\": \"white\", \"linecolor\": \"white\", \"minorgridcolor\": \"white\", \"startlinecolor\": \"#2a3f5f\"}, \"baxis\": {\"endlinecolor\": \"#2a3f5f\", \"gridcolor\": \"white\", \"linecolor\": \"white\", \"minorgridcolor\": \"white\", \"startlinecolor\": \"#2a3f5f\"}, \"type\": \"carpet\"}], \"choropleth\": [{\"colorbar\": {\"outlinewidth\": 0, \"ticks\": \"\"}, \"type\": \"choropleth\"}], \"contour\": [{\"colorbar\": {\"outlinewidth\": 0, \"ticks\": \"\"}, \"colorscale\": [[0.0, \"#0d0887\"], [0.1111111111111111, \"#46039f\"], [0.2222222222222222, \"#7201a8\"], [0.3333333333333333, \"#9c179e\"], [0.4444444444444444, \"#bd3786\"], [0.5555555555555556, \"#d8576b\"], [0.6666666666666666, \"#ed7953\"], [0.7777777777777778, \"#fb9f3a\"], [0.8888888888888888, \"#fdca26\"], [1.0, \"#f0f921\"]], \"type\": \"contour\"}], \"contourcarpet\": [{\"colorbar\": {\"outlinewidth\": 0, \"ticks\": \"\"}, \"type\": \"contourcarpet\"}], \"heatmap\": [{\"colorbar\": {\"outlinewidth\": 0, \"ticks\": \"\"}, \"colorscale\": [[0.0, \"#0d0887\"], [0.1111111111111111, \"#46039f\"], [0.2222222222222222, \"#7201a8\"], [0.3333333333333333, \"#9c179e\"], [0.4444444444444444, \"#bd3786\"], [0.5555555555555556, \"#d8576b\"], [0.6666666666666666, \"#ed7953\"], [0.7777777777777778, \"#fb9f3a\"], [0.8888888888888888, \"#fdca26\"], [1.0, \"#f0f921\"]], \"type\": \"heatmap\"}], \"heatmapgl\": [{\"colorbar\": {\"outlinewidth\": 0, \"ticks\": \"\"}, \"colorscale\": [[0.0, \"#0d0887\"], [0.1111111111111111, \"#46039f\"], [0.2222222222222222, \"#7201a8\"], [0.3333333333333333, \"#9c179e\"], [0.4444444444444444, \"#bd3786\"], [0.5555555555555556, \"#d8576b\"], [0.6666666666666666, \"#ed7953\"], [0.7777777777777778, \"#fb9f3a\"], [0.8888888888888888, \"#fdca26\"], [1.0, \"#f0f921\"]], \"type\": \"heatmapgl\"}], \"histogram\": [{\"marker\": {\"colorbar\": {\"outlinewidth\": 0, \"ticks\": \"\"}}, \"type\": \"histogram\"}], \"histogram2d\": [{\"colorbar\": {\"outlinewidth\": 0, \"ticks\": \"\"}, \"colorscale\": [[0.0, \"#0d0887\"], [0.1111111111111111, \"#46039f\"], [0.2222222222222222, \"#7201a8\"], [0.3333333333333333, \"#9c179e\"], [0.4444444444444444, \"#bd3786\"], [0.5555555555555556, \"#d8576b\"], [0.6666666666666666, \"#ed7953\"], [0.7777777777777778, \"#fb9f3a\"], [0.8888888888888888, \"#fdca26\"], [1.0, \"#f0f921\"]], \"type\": \"histogram2d\"}], \"histogram2dcontour\": [{\"colorbar\": {\"outlinewidth\": 0, \"ticks\": \"\"}, \"colorscale\": [[0.0, \"#0d0887\"], [0.1111111111111111, \"#46039f\"], [0.2222222222222222, \"#7201a8\"], [0.3333333333333333, \"#9c179e\"], [0.4444444444444444, \"#bd3786\"], [0.5555555555555556, \"#d8576b\"], [0.6666666666666666, \"#ed7953\"], [0.7777777777777778, \"#fb9f3a\"], [0.8888888888888888, \"#fdca26\"], [1.0, \"#f0f921\"]], \"type\": \"histogram2dcontour\"}], \"mesh3d\": [{\"colorbar\": {\"outlinewidth\": 0, \"ticks\": \"\"}, \"type\": \"mesh3d\"}], \"parcoords\": [{\"line\": {\"colorbar\": {\"outlinewidth\": 0, \"ticks\": \"\"}}, \"type\": \"parcoords\"}], \"scatter\": [{\"marker\": {\"colorbar\": {\"outlinewidth\": 0, \"ticks\": \"\"}}, \"type\": \"scatter\"}], \"scatter3d\": [{\"line\": {\"colorbar\": {\"outlinewidth\": 0, \"ticks\": \"\"}}, \"marker\": {\"colorbar\": {\"outlinewidth\": 0, \"ticks\": \"\"}}, \"type\": \"scatter3d\"}], \"scattercarpet\": [{\"marker\": {\"colorbar\": {\"outlinewidth\": 0, \"ticks\": \"\"}}, \"type\": \"scattercarpet\"}], \"scattergeo\": [{\"marker\": {\"colorbar\": {\"outlinewidth\": 0, \"ticks\": \"\"}}, \"type\": \"scattergeo\"}], \"scattergl\": [{\"marker\": {\"colorbar\": {\"outlinewidth\": 0, \"ticks\": \"\"}}, \"type\": \"scattergl\"}], \"scattermapbox\": [{\"marker\": {\"colorbar\": {\"outlinewidth\": 0, \"ticks\": \"\"}}, \"type\": \"scattermapbox\"}], \"scatterpolar\": [{\"marker\": {\"colorbar\": {\"outlinewidth\": 0, \"ticks\": \"\"}}, \"type\": \"scatterpolar\"}], \"scatterpolargl\": [{\"marker\": {\"colorbar\": {\"outlinewidth\": 0, \"ticks\": \"\"}}, \"type\": \"scatterpolargl\"}], \"scatterternary\": [{\"marker\": {\"colorbar\": {\"outlinewidth\": 0, \"ticks\": \"\"}}, \"type\": \"scatterternary\"}], \"surface\": [{\"colorbar\": {\"outlinewidth\": 0, \"ticks\": \"\"}, \"colorscale\": [[0.0, \"#0d0887\"], [0.1111111111111111, \"#46039f\"], [0.2222222222222222, \"#7201a8\"], [0.3333333333333333, \"#9c179e\"], [0.4444444444444444, \"#bd3786\"], [0.5555555555555556, \"#d8576b\"], [0.6666666666666666, \"#ed7953\"], [0.7777777777777778, \"#fb9f3a\"], [0.8888888888888888, \"#fdca26\"], [1.0, \"#f0f921\"]], \"type\": \"surface\"}], \"table\": [{\"cells\": {\"fill\": {\"color\": \"#EBF0F8\"}, \"line\": {\"color\": \"white\"}}, \"header\": {\"fill\": {\"color\": \"#C8D4E3\"}, \"line\": {\"color\": \"white\"}}, \"type\": \"table\"}]}, \"layout\": {\"annotationdefaults\": {\"arrowcolor\": \"#2a3f5f\", \"arrowhead\": 0, \"arrowwidth\": 1}, \"colorscale\": {\"diverging\": [[0, \"#8e0152\"], [0.1, \"#c51b7d\"], [0.2, \"#de77ae\"], [0.3, \"#f1b6da\"], [0.4, \"#fde0ef\"], [0.5, \"#f7f7f7\"], [0.6, \"#e6f5d0\"], [0.7, \"#b8e186\"], [0.8, \"#7fbc41\"], [0.9, \"#4d9221\"], [1, \"#276419\"]], \"sequential\": [[0.0, \"#0d0887\"], [0.1111111111111111, \"#46039f\"], [0.2222222222222222, \"#7201a8\"], [0.3333333333333333, \"#9c179e\"], [0.4444444444444444, \"#bd3786\"], [0.5555555555555556, \"#d8576b\"], [0.6666666666666666, \"#ed7953\"], [0.7777777777777778, \"#fb9f3a\"], [0.8888888888888888, \"#fdca26\"], [1.0, \"#f0f921\"]], \"sequentialminus\": [[0.0, \"#0d0887\"], [0.1111111111111111, \"#46039f\"], [0.2222222222222222, \"#7201a8\"], [0.3333333333333333, \"#9c179e\"], [0.4444444444444444, \"#bd3786\"], [0.5555555555555556, \"#d8576b\"], [0.6666666666666666, \"#ed7953\"], [0.7777777777777778, \"#fb9f3a\"], [0.8888888888888888, \"#fdca26\"], [1.0, \"#f0f921\"]]}, \"colorway\": [\"#636efa\", \"#EF553B\", \"#00cc96\", \"#ab63fa\", \"#FFA15A\", \"#19d3f3\", \"#FF6692\", \"#B6E880\", \"#FF97FF\", \"#FECB52\"], \"font\": {\"color\": \"#2a3f5f\"}, \"geo\": {\"bgcolor\": \"white\", \"lakecolor\": \"white\", \"landcolor\": \"#E5ECF6\", \"showlakes\": true, \"showland\": true, \"subunitcolor\": \"white\"}, \"hoverlabel\": {\"align\": \"left\"}, \"hovermode\": \"closest\", \"mapbox\": {\"style\": \"light\"}, \"paper_bgcolor\": \"white\", \"plot_bgcolor\": \"#E5ECF6\", \"polar\": {\"angularaxis\": {\"gridcolor\": \"white\", \"linecolor\": \"white\", \"ticks\": \"\"}, \"bgcolor\": \"#E5ECF6\", \"radialaxis\": {\"gridcolor\": \"white\", \"linecolor\": \"white\", \"ticks\": \"\"}}, \"scene\": {\"xaxis\": {\"backgroundcolor\": \"#E5ECF6\", \"gridcolor\": \"white\", \"gridwidth\": 2, \"linecolor\": \"white\", \"showbackground\": true, \"ticks\": \"\", \"zerolinecolor\": \"white\"}, \"yaxis\": {\"backgroundcolor\": \"#E5ECF6\", \"gridcolor\": \"white\", \"gridwidth\": 2, \"linecolor\": \"white\", \"showbackground\": true, \"ticks\": \"\", \"zerolinecolor\": \"white\"}, \"zaxis\": {\"backgroundcolor\": \"#E5ECF6\", \"gridcolor\": \"white\", \"gridwidth\": 2, \"linecolor\": \"white\", \"showbackground\": true, \"ticks\": \"\", \"zerolinecolor\": \"white\"}}, \"shapedefaults\": {\"line\": {\"color\": \"#2a3f5f\"}}, \"ternary\": {\"aaxis\": {\"gridcolor\": \"white\", \"linecolor\": \"white\", \"ticks\": \"\"}, \"baxis\": {\"gridcolor\": \"white\", \"linecolor\": \"white\", \"ticks\": \"\"}, \"bgcolor\": \"#E5ECF6\", \"caxis\": {\"gridcolor\": \"white\", \"linecolor\": \"white\", \"ticks\": \"\"}}, \"title\": {\"x\": 0.05}, \"xaxis\": {\"automargin\": true, \"gridcolor\": \"white\", \"linecolor\": \"white\", \"ticks\": \"\", \"zerolinecolor\": \"white\", \"zerolinewidth\": 2}, \"yaxis\": {\"automargin\": true, \"gridcolor\": \"white\", \"linecolor\": \"white\", \"ticks\": \"\", \"zerolinecolor\": \"white\", \"zerolinewidth\": 2}}}, \"title\": {\"text\": \"Meta3 residual plot of Group 1\"}},\n",
       "                        {\"responsive\": true}\n",
       "                    ).then(function(){\n",
       "                            \n",
       "var gd = document.getElementById('fae451c6-826b-4036-95b7-99dee611397b');\n",
       "var x = new MutationObserver(function (mutations, observer) {{\n",
       "        var display = window.getComputedStyle(gd).display;\n",
       "        if (!display || display === 'none') {{\n",
       "            console.log([gd, 'removed!']);\n",
       "            Plotly.purge(gd);\n",
       "            observer.disconnect();\n",
       "        }}\n",
       "}});\n",
       "\n",
       "// Listen for the removal of the full notebook cells\n",
       "var notebookContainer = gd.closest('#notebook-container');\n",
       "if (notebookContainer) {{\n",
       "    x.observe(notebookContainer, {childList: true});\n",
       "}}\n",
       "\n",
       "// Listen for the clearing of the current output cell\n",
       "var outputEl = gd.closest('.output');\n",
       "if (outputEl) {{\n",
       "    x.observe(outputEl, {childList: true});\n",
       "}}\n",
       "\n",
       "                        })\n",
       "                };\n",
       "                });\n",
       "            </script>\n",
       "        </div>"
      ]
     },
     "metadata": {},
     "output_type": "display_data"
    }
   ],
   "source": [
    "# Residual plot for meta3 information\n",
    "\n",
    "g1_result_final[\"meta3_residuals\"] = g1_result_final[\"ground_truth\"] - g1_result_final[\"pred_meta_3\"]\n",
    "\n",
    "fig = go.Figure(data=go.Scatter(x=g1_result_final[\"name\"],\n",
    "                                y=g1_result_final[\"meta3_residuals\"],\n",
    "                                mode='markers',\n",
    "                                marker_color=g1_result_final[\"meta3_residuals\"],\n",
    "                                text=g4_result_final[\"name\"])) # hover text goes here(movie_title)\n",
    "\n",
    "fig.update_layout(title='Meta3 residual plot of Group 1')\n",
    "fig.show()"
   ]
  },
  {
   "cell_type": "code",
   "execution_count": 37,
   "metadata": {},
   "outputs": [
    {
     "data": {
      "application/vnd.plotly.v1+json": {
       "config": {
        "plotlyServerURL": "https://plot.ly"
       },
       "data": [
        {
         "marker": {
          "color": [
           9.624308190711613,
           4.078551614193492,
           4.204605201003593,
           13.578017754756521,
           12.06481375371178,
           9.222683283634767,
           2.220173741473392,
           11.232657094720796,
           6.901646953085859,
           10.39613810128344,
           3.9064880699750386,
           2.5606863300008382,
           3.213446273603304,
           3.4732833656573665,
           4.428861615396036,
           10.031409089358721,
           11.55339769628128,
           5.74388202778961,
           3.155569151494716,
           4.491145939889565,
           4.141369286044738,
           5.308684740280251,
           5.221994835894852,
           4.45226945577139,
           2.859625457832987,
           3.7368531524705118,
           4.473531173228917,
           3.3849102359405703,
           6.108257193934894,
           2.9837639584662186,
           5.961086814135836,
           9.497797013478158,
           4.103770877588656,
           3.4014820684175597,
           4.285682860914926,
           3.425715411335818,
           4.620548911590231,
           2.289248882752637,
           8.359614996698578,
           9.788752582957947,
           11.314337048600764,
           5.428716121246262,
           5.571089870956105,
           10.211573825520569,
           6.371400786142694,
           5.419973962110532,
           5.148755589376391,
           8.346294027887023,
           8.11033187249618,
           1.1844899449048647,
           5.891874634184687,
           9.597918689140206,
           6.174318123886757,
           8.622806229180869,
           9.873307656591793,
           5.120729277540415,
           4.900358479089831,
           4.412729236345358,
           5.195041092718039,
           5.453153784958349,
           4.362761868141833,
           6.108802033632737,
           3.7828649268998493,
           3.581066752260883,
           3.040198050877347,
           3.0918385660416314,
           4.214082352883765,
           4.95403688864379,
           3.967668003121003,
           2.692002833826409,
           5.040487424208033,
           3.076683817731366,
           6.424336990652025,
           5.159286085654282,
           5.446279107299609,
           6.145930661322235,
           7.979828844385816,
           9.129197727402138,
           4.604825481162826,
           3.4483162415296826,
           10.126176939366454,
           15.627683231186165,
           9.62567456460861,
           10.102581167365523,
           8.664384389164756,
           7.277793945368722,
           3.7817012068603204,
           4.430223771547313,
           6.756117830854961,
           8.72146826166555,
           9.006328231621191,
           9.272361939550937,
           8.563801515573319,
           3.811205135547328,
           3.71091913563107,
           4.3215774805630165,
           4.1457370065843735,
           6.272489448078047,
           7.388946889914017,
           2.095494277321906,
           5.466559454973338,
           7.186094136498971
          ]
         },
         "mode": "markers",
         "text": [
          "O Brother, Where Art Thou?",
          "The Twilight Saga: Breaking Dawn Part 1",
          "The Twilight Saga: Breaking Dawn Part 2",
          "Helena From the Wedding",
          "Monsters",
          "Catfish",
          "Red",
          "Freakonomics",
          "The Warrior's Way",
          "Stone",
          "Frankenweenie",
          "John Carter",
          "Dolphin Tale",
          "Penguins of Madagascar",
          "Minions",
          "Proud American",
          "Edmond",
          "Tootsie",
          "Waterworld",
          "The Lion King (2019)",
          "Crawl",
          "Stuber",
          "Midsommar",
          "Spider-Man: Far from Home",
          "Yesterday",
          "Annabelle Comes Home",
          "Toy Story 4",
          "Child's Play (2019)",
          "Anna (2019)",
          "Men in Black International",
          "Shaft (2019) ",
          "Late Night",
          "The Secret Life of Pets 2",
          "Dark Phoenix",
          "Godzilla:King of the Monsters",
          "Rocketman",
          "Return of the Jedi",
          "Indiana Jones and the Temple of Doom",
          "The Idolmaker",
          "The Grass Harp",
          "The Grand",
          "Jaws",
          "Superman (1978)",
          "Clerks",
          "Juice",
          "He Got Game",
          "White Men Can't Jump",
          "Mulholland Drive",
          "Blue Velvet",
          "Once Upon a Time in Hollywood",
          "The Big Lebowski",
          "Train to Busan",
          "Pride and Prejudice and Zombies",
          "Dead Poets Society",
          "A Fish Called Wanda",
          "The Witches of Eastwick",
          "Ferris Bueller's Day Off",
          "Back to the Future",
          "Police Academy",
          "Trading Places",
          "Star Trek II The Wrath of Khan",
          "The Blues Brothers",
          "V For Vendetta",
          "In the Line of Fire",
          "Us",
          "The Forbidden Kingdom",
          "Rumble in the Bronx",
          "Machete",
          "Beverly Hills Cop",
          "Watchmen",
          "Jackie Brown",
          "Zombieland",
          "Mo Better Blues",
          "Thelma and Louise",
          "New Jack City",
          "The Lawnmower Man",
          "Schindler's List",
          "Four Weddings and a Funeral",
          "Get Shorty",
          "Jerry Maguire",
          "Welcome to Sarajevo",
          "Trojan War",
          "The Gingerbread Man",
          "Tumbleweeds",
          "Turn it up",
          "The Adventures of Pluto Nash",
          "The Lord of the Rings: The Return of the King",
          "Harry Potter and the Prisoner of Azkaban",
          "Stay",
          "Fast Food Nation",
          "Into the Wild",
          "The Wrestler",
          "Slumdog Millionaire",
          "Jackass 3-D",
          "Skyfall",
          "The Hunger Games: Mocking Jay - Part 1",
          "Jurassic World",
          "Shut In",
          "Molly's Game",
          "Peter Rabbit",
          "BlacKkKlansman",
          "Replicas"
         ],
         "type": "scatter",
         "x": [
          "O Brother, Where Art Thou?",
          "The Twilight Saga: Breaking Dawn Part 1",
          "The Twilight Saga: Breaking Dawn Part 2",
          "Helena From the Wedding",
          "Monsters",
          "Catfish",
          "Red",
          "Freakonomics",
          "The Warrior's Way",
          "Stone",
          "Frankenweenie",
          "John Carter",
          "Dolphin Tale",
          "Penguins of Madagascar",
          "Minions",
          "Proud American",
          "Edmond",
          "Tootsie",
          "Waterworld",
          "The Lion King (2019)",
          "Crawl",
          "Stuber",
          "Midsommar",
          "Spider-Man: Far from Home",
          "Yesterday",
          "Annabelle Comes Home",
          "Toy Story 4",
          "Child's Play (2019)",
          "Anna (2019)",
          "Men in Black International",
          "Shaft (2019) ",
          "Late Night",
          "The Secret Life of Pets 2",
          "Dark Phoenix",
          "Godzilla:King of the Monsters",
          "Rocketman",
          "Return of the Jedi",
          "Indiana Jones and the Temple of Doom",
          "The Idolmaker",
          "The Grass Harp",
          "The Grand",
          "Jaws",
          "Superman (1978)",
          "Clerks",
          "Juice",
          "He Got Game",
          "White Men Can't Jump",
          "Mulholland Drive",
          "Blue Velvet",
          "Once Upon a Time in Hollywood",
          "The Big Lebowski",
          "Train to Busan",
          "Pride and Prejudice and Zombies",
          "Dead Poets Society",
          "A Fish Called Wanda",
          "The Witches of Eastwick",
          "Ferris Bueller's Day Off",
          "Back to the Future",
          "Police Academy",
          "Trading Places",
          "Star Trek II The Wrath of Khan",
          "The Blues Brothers",
          "V For Vendetta",
          "In the Line of Fire",
          "Us",
          "The Forbidden Kingdom",
          "Rumble in the Bronx",
          "Machete",
          "Beverly Hills Cop",
          "Watchmen",
          "Jackie Brown",
          "Zombieland",
          "Mo Better Blues",
          "Thelma and Louise",
          "New Jack City",
          "The Lawnmower Man",
          "Schindler's List",
          "Four Weddings and a Funeral",
          "Get Shorty",
          "Jerry Maguire",
          "Welcome to Sarajevo",
          "Trojan War",
          "The Gingerbread Man",
          "Tumbleweeds",
          "Turn it up",
          "The Adventures of Pluto Nash",
          "The Lord of the Rings: The Return of the King",
          "Harry Potter and the Prisoner of Azkaban",
          "Stay",
          "Fast Food Nation",
          "Into the Wild",
          "The Wrestler",
          "Slumdog Millionaire",
          "Jackass 3-D",
          "Skyfall",
          "The Hunger Games: Mocking Jay - Part 1",
          "Jurassic World",
          "Shut In",
          "Molly's Game",
          "Peter Rabbit",
          "BlacKkKlansman",
          "Replicas"
         ],
         "y": [
          9.624308190711613,
          4.078551614193492,
          4.204605201003593,
          13.578017754756521,
          12.06481375371178,
          9.222683283634767,
          2.220173741473392,
          11.232657094720796,
          6.901646953085859,
          10.39613810128344,
          3.9064880699750386,
          2.5606863300008382,
          3.213446273603304,
          3.4732833656573665,
          4.428861615396036,
          10.031409089358721,
          11.55339769628128,
          5.74388202778961,
          3.155569151494716,
          4.491145939889565,
          4.141369286044738,
          5.308684740280251,
          5.221994835894852,
          4.45226945577139,
          2.859625457832987,
          3.7368531524705118,
          4.473531173228917,
          3.3849102359405703,
          6.108257193934894,
          2.9837639584662186,
          5.961086814135836,
          9.497797013478158,
          4.103770877588656,
          3.4014820684175597,
          4.285682860914926,
          3.425715411335818,
          4.620548911590231,
          2.289248882752637,
          8.359614996698578,
          9.788752582957947,
          11.314337048600764,
          5.428716121246262,
          5.571089870956105,
          10.211573825520569,
          6.371400786142694,
          5.419973962110532,
          5.148755589376391,
          8.346294027887023,
          8.11033187249618,
          1.1844899449048647,
          5.891874634184687,
          9.597918689140206,
          6.174318123886757,
          8.622806229180869,
          9.873307656591793,
          5.120729277540415,
          4.900358479089831,
          4.412729236345358,
          5.195041092718039,
          5.453153784958349,
          4.362761868141833,
          6.108802033632737,
          3.7828649268998493,
          3.581066752260883,
          3.040198050877347,
          3.0918385660416314,
          4.214082352883765,
          4.95403688864379,
          3.967668003121003,
          2.692002833826409,
          5.040487424208033,
          3.076683817731366,
          6.424336990652025,
          5.159286085654282,
          5.446279107299609,
          6.145930661322235,
          7.979828844385816,
          9.129197727402138,
          4.604825481162826,
          3.4483162415296826,
          10.126176939366454,
          15.627683231186165,
          9.62567456460861,
          10.102581167365523,
          8.664384389164756,
          7.277793945368722,
          3.7817012068603204,
          4.430223771547313,
          6.756117830854961,
          8.72146826166555,
          9.006328231621191,
          9.272361939550937,
          8.563801515573319,
          3.811205135547328,
          3.71091913563107,
          4.3215774805630165,
          4.1457370065843735,
          6.272489448078047,
          7.388946889914017,
          2.095494277321906,
          5.466559454973338,
          7.186094136498971
         ]
        }
       ],
       "layout": {
        "template": {
         "data": {
          "bar": [
           {
            "error_x": {
             "color": "#2a3f5f"
            },
            "error_y": {
             "color": "#2a3f5f"
            },
            "marker": {
             "line": {
              "color": "#E5ECF6",
              "width": 0.5
             }
            },
            "type": "bar"
           }
          ],
          "barpolar": [
           {
            "marker": {
             "line": {
              "color": "#E5ECF6",
              "width": 0.5
             }
            },
            "type": "barpolar"
           }
          ],
          "carpet": [
           {
            "aaxis": {
             "endlinecolor": "#2a3f5f",
             "gridcolor": "white",
             "linecolor": "white",
             "minorgridcolor": "white",
             "startlinecolor": "#2a3f5f"
            },
            "baxis": {
             "endlinecolor": "#2a3f5f",
             "gridcolor": "white",
             "linecolor": "white",
             "minorgridcolor": "white",
             "startlinecolor": "#2a3f5f"
            },
            "type": "carpet"
           }
          ],
          "choropleth": [
           {
            "colorbar": {
             "outlinewidth": 0,
             "ticks": ""
            },
            "type": "choropleth"
           }
          ],
          "contour": [
           {
            "colorbar": {
             "outlinewidth": 0,
             "ticks": ""
            },
            "colorscale": [
             [
              0,
              "#0d0887"
             ],
             [
              0.1111111111111111,
              "#46039f"
             ],
             [
              0.2222222222222222,
              "#7201a8"
             ],
             [
              0.3333333333333333,
              "#9c179e"
             ],
             [
              0.4444444444444444,
              "#bd3786"
             ],
             [
              0.5555555555555556,
              "#d8576b"
             ],
             [
              0.6666666666666666,
              "#ed7953"
             ],
             [
              0.7777777777777778,
              "#fb9f3a"
             ],
             [
              0.8888888888888888,
              "#fdca26"
             ],
             [
              1,
              "#f0f921"
             ]
            ],
            "type": "contour"
           }
          ],
          "contourcarpet": [
           {
            "colorbar": {
             "outlinewidth": 0,
             "ticks": ""
            },
            "type": "contourcarpet"
           }
          ],
          "heatmap": [
           {
            "colorbar": {
             "outlinewidth": 0,
             "ticks": ""
            },
            "colorscale": [
             [
              0,
              "#0d0887"
             ],
             [
              0.1111111111111111,
              "#46039f"
             ],
             [
              0.2222222222222222,
              "#7201a8"
             ],
             [
              0.3333333333333333,
              "#9c179e"
             ],
             [
              0.4444444444444444,
              "#bd3786"
             ],
             [
              0.5555555555555556,
              "#d8576b"
             ],
             [
              0.6666666666666666,
              "#ed7953"
             ],
             [
              0.7777777777777778,
              "#fb9f3a"
             ],
             [
              0.8888888888888888,
              "#fdca26"
             ],
             [
              1,
              "#f0f921"
             ]
            ],
            "type": "heatmap"
           }
          ],
          "heatmapgl": [
           {
            "colorbar": {
             "outlinewidth": 0,
             "ticks": ""
            },
            "colorscale": [
             [
              0,
              "#0d0887"
             ],
             [
              0.1111111111111111,
              "#46039f"
             ],
             [
              0.2222222222222222,
              "#7201a8"
             ],
             [
              0.3333333333333333,
              "#9c179e"
             ],
             [
              0.4444444444444444,
              "#bd3786"
             ],
             [
              0.5555555555555556,
              "#d8576b"
             ],
             [
              0.6666666666666666,
              "#ed7953"
             ],
             [
              0.7777777777777778,
              "#fb9f3a"
             ],
             [
              0.8888888888888888,
              "#fdca26"
             ],
             [
              1,
              "#f0f921"
             ]
            ],
            "type": "heatmapgl"
           }
          ],
          "histogram": [
           {
            "marker": {
             "colorbar": {
              "outlinewidth": 0,
              "ticks": ""
             }
            },
            "type": "histogram"
           }
          ],
          "histogram2d": [
           {
            "colorbar": {
             "outlinewidth": 0,
             "ticks": ""
            },
            "colorscale": [
             [
              0,
              "#0d0887"
             ],
             [
              0.1111111111111111,
              "#46039f"
             ],
             [
              0.2222222222222222,
              "#7201a8"
             ],
             [
              0.3333333333333333,
              "#9c179e"
             ],
             [
              0.4444444444444444,
              "#bd3786"
             ],
             [
              0.5555555555555556,
              "#d8576b"
             ],
             [
              0.6666666666666666,
              "#ed7953"
             ],
             [
              0.7777777777777778,
              "#fb9f3a"
             ],
             [
              0.8888888888888888,
              "#fdca26"
             ],
             [
              1,
              "#f0f921"
             ]
            ],
            "type": "histogram2d"
           }
          ],
          "histogram2dcontour": [
           {
            "colorbar": {
             "outlinewidth": 0,
             "ticks": ""
            },
            "colorscale": [
             [
              0,
              "#0d0887"
             ],
             [
              0.1111111111111111,
              "#46039f"
             ],
             [
              0.2222222222222222,
              "#7201a8"
             ],
             [
              0.3333333333333333,
              "#9c179e"
             ],
             [
              0.4444444444444444,
              "#bd3786"
             ],
             [
              0.5555555555555556,
              "#d8576b"
             ],
             [
              0.6666666666666666,
              "#ed7953"
             ],
             [
              0.7777777777777778,
              "#fb9f3a"
             ],
             [
              0.8888888888888888,
              "#fdca26"
             ],
             [
              1,
              "#f0f921"
             ]
            ],
            "type": "histogram2dcontour"
           }
          ],
          "mesh3d": [
           {
            "colorbar": {
             "outlinewidth": 0,
             "ticks": ""
            },
            "type": "mesh3d"
           }
          ],
          "parcoords": [
           {
            "line": {
             "colorbar": {
              "outlinewidth": 0,
              "ticks": ""
             }
            },
            "type": "parcoords"
           }
          ],
          "scatter": [
           {
            "marker": {
             "colorbar": {
              "outlinewidth": 0,
              "ticks": ""
             }
            },
            "type": "scatter"
           }
          ],
          "scatter3d": [
           {
            "line": {
             "colorbar": {
              "outlinewidth": 0,
              "ticks": ""
             }
            },
            "marker": {
             "colorbar": {
              "outlinewidth": 0,
              "ticks": ""
             }
            },
            "type": "scatter3d"
           }
          ],
          "scattercarpet": [
           {
            "marker": {
             "colorbar": {
              "outlinewidth": 0,
              "ticks": ""
             }
            },
            "type": "scattercarpet"
           }
          ],
          "scattergeo": [
           {
            "marker": {
             "colorbar": {
              "outlinewidth": 0,
              "ticks": ""
             }
            },
            "type": "scattergeo"
           }
          ],
          "scattergl": [
           {
            "marker": {
             "colorbar": {
              "outlinewidth": 0,
              "ticks": ""
             }
            },
            "type": "scattergl"
           }
          ],
          "scattermapbox": [
           {
            "marker": {
             "colorbar": {
              "outlinewidth": 0,
              "ticks": ""
             }
            },
            "type": "scattermapbox"
           }
          ],
          "scatterpolar": [
           {
            "marker": {
             "colorbar": {
              "outlinewidth": 0,
              "ticks": ""
             }
            },
            "type": "scatterpolar"
           }
          ],
          "scatterpolargl": [
           {
            "marker": {
             "colorbar": {
              "outlinewidth": 0,
              "ticks": ""
             }
            },
            "type": "scatterpolargl"
           }
          ],
          "scatterternary": [
           {
            "marker": {
             "colorbar": {
              "outlinewidth": 0,
              "ticks": ""
             }
            },
            "type": "scatterternary"
           }
          ],
          "surface": [
           {
            "colorbar": {
             "outlinewidth": 0,
             "ticks": ""
            },
            "colorscale": [
             [
              0,
              "#0d0887"
             ],
             [
              0.1111111111111111,
              "#46039f"
             ],
             [
              0.2222222222222222,
              "#7201a8"
             ],
             [
              0.3333333333333333,
              "#9c179e"
             ],
             [
              0.4444444444444444,
              "#bd3786"
             ],
             [
              0.5555555555555556,
              "#d8576b"
             ],
             [
              0.6666666666666666,
              "#ed7953"
             ],
             [
              0.7777777777777778,
              "#fb9f3a"
             ],
             [
              0.8888888888888888,
              "#fdca26"
             ],
             [
              1,
              "#f0f921"
             ]
            ],
            "type": "surface"
           }
          ],
          "table": [
           {
            "cells": {
             "fill": {
              "color": "#EBF0F8"
             },
             "line": {
              "color": "white"
             }
            },
            "header": {
             "fill": {
              "color": "#C8D4E3"
             },
             "line": {
              "color": "white"
             }
            },
            "type": "table"
           }
          ]
         },
         "layout": {
          "annotationdefaults": {
           "arrowcolor": "#2a3f5f",
           "arrowhead": 0,
           "arrowwidth": 1
          },
          "colorscale": {
           "diverging": [
            [
             0,
             "#8e0152"
            ],
            [
             0.1,
             "#c51b7d"
            ],
            [
             0.2,
             "#de77ae"
            ],
            [
             0.3,
             "#f1b6da"
            ],
            [
             0.4,
             "#fde0ef"
            ],
            [
             0.5,
             "#f7f7f7"
            ],
            [
             0.6,
             "#e6f5d0"
            ],
            [
             0.7,
             "#b8e186"
            ],
            [
             0.8,
             "#7fbc41"
            ],
            [
             0.9,
             "#4d9221"
            ],
            [
             1,
             "#276419"
            ]
           ],
           "sequential": [
            [
             0,
             "#0d0887"
            ],
            [
             0.1111111111111111,
             "#46039f"
            ],
            [
             0.2222222222222222,
             "#7201a8"
            ],
            [
             0.3333333333333333,
             "#9c179e"
            ],
            [
             0.4444444444444444,
             "#bd3786"
            ],
            [
             0.5555555555555556,
             "#d8576b"
            ],
            [
             0.6666666666666666,
             "#ed7953"
            ],
            [
             0.7777777777777778,
             "#fb9f3a"
            ],
            [
             0.8888888888888888,
             "#fdca26"
            ],
            [
             1,
             "#f0f921"
            ]
           ],
           "sequentialminus": [
            [
             0,
             "#0d0887"
            ],
            [
             0.1111111111111111,
             "#46039f"
            ],
            [
             0.2222222222222222,
             "#7201a8"
            ],
            [
             0.3333333333333333,
             "#9c179e"
            ],
            [
             0.4444444444444444,
             "#bd3786"
            ],
            [
             0.5555555555555556,
             "#d8576b"
            ],
            [
             0.6666666666666666,
             "#ed7953"
            ],
            [
             0.7777777777777778,
             "#fb9f3a"
            ],
            [
             0.8888888888888888,
             "#fdca26"
            ],
            [
             1,
             "#f0f921"
            ]
           ]
          },
          "colorway": [
           "#636efa",
           "#EF553B",
           "#00cc96",
           "#ab63fa",
           "#FFA15A",
           "#19d3f3",
           "#FF6692",
           "#B6E880",
           "#FF97FF",
           "#FECB52"
          ],
          "font": {
           "color": "#2a3f5f"
          },
          "geo": {
           "bgcolor": "white",
           "lakecolor": "white",
           "landcolor": "#E5ECF6",
           "showlakes": true,
           "showland": true,
           "subunitcolor": "white"
          },
          "hoverlabel": {
           "align": "left"
          },
          "hovermode": "closest",
          "mapbox": {
           "style": "light"
          },
          "paper_bgcolor": "white",
          "plot_bgcolor": "#E5ECF6",
          "polar": {
           "angularaxis": {
            "gridcolor": "white",
            "linecolor": "white",
            "ticks": ""
           },
           "bgcolor": "#E5ECF6",
           "radialaxis": {
            "gridcolor": "white",
            "linecolor": "white",
            "ticks": ""
           }
          },
          "scene": {
           "xaxis": {
            "backgroundcolor": "#E5ECF6",
            "gridcolor": "white",
            "gridwidth": 2,
            "linecolor": "white",
            "showbackground": true,
            "ticks": "",
            "zerolinecolor": "white"
           },
           "yaxis": {
            "backgroundcolor": "#E5ECF6",
            "gridcolor": "white",
            "gridwidth": 2,
            "linecolor": "white",
            "showbackground": true,
            "ticks": "",
            "zerolinecolor": "white"
           },
           "zaxis": {
            "backgroundcolor": "#E5ECF6",
            "gridcolor": "white",
            "gridwidth": 2,
            "linecolor": "white",
            "showbackground": true,
            "ticks": "",
            "zerolinecolor": "white"
           }
          },
          "shapedefaults": {
           "line": {
            "color": "#2a3f5f"
           }
          },
          "ternary": {
           "aaxis": {
            "gridcolor": "white",
            "linecolor": "white",
            "ticks": ""
           },
           "baxis": {
            "gridcolor": "white",
            "linecolor": "white",
            "ticks": ""
           },
           "bgcolor": "#E5ECF6",
           "caxis": {
            "gridcolor": "white",
            "linecolor": "white",
            "ticks": ""
           }
          },
          "title": {
           "x": 0.05
          },
          "xaxis": {
           "automargin": true,
           "gridcolor": "white",
           "linecolor": "white",
           "ticks": "",
           "zerolinecolor": "white",
           "zerolinewidth": 2
          },
          "yaxis": {
           "automargin": true,
           "gridcolor": "white",
           "linecolor": "white",
           "ticks": "",
           "zerolinecolor": "white",
           "zerolinewidth": 2
          }
         }
        },
        "title": {
         "text": "Percentage of error for video prediction"
        }
       }
      },
      "text/html": [
       "<div>\n",
       "        \n",
       "        \n",
       "            <div id=\"1980cbf4-aa65-40ea-b500-3c6efba10cb5\" class=\"plotly-graph-div\" style=\"height:525px; width:100%;\"></div>\n",
       "            <script type=\"text/javascript\">\n",
       "                require([\"plotly\"], function(Plotly) {\n",
       "                    window.PLOTLYENV=window.PLOTLYENV || {};\n",
       "                    \n",
       "                if (document.getElementById(\"1980cbf4-aa65-40ea-b500-3c6efba10cb5\")) {\n",
       "                    Plotly.newPlot(\n",
       "                        '1980cbf4-aa65-40ea-b500-3c6efba10cb5',\n",
       "                        [{\"marker\": {\"color\": [9.624308190711613, 4.078551614193492, 4.204605201003593, 13.578017754756521, 12.06481375371178, 9.222683283634767, 2.220173741473392, 11.232657094720796, 6.901646953085859, 10.39613810128344, 3.9064880699750386, 2.5606863300008382, 3.213446273603304, 3.4732833656573665, 4.428861615396036, 10.031409089358721, 11.55339769628128, 5.74388202778961, 3.155569151494716, 4.491145939889565, 4.141369286044738, 5.308684740280251, 5.221994835894852, 4.45226945577139, 2.859625457832987, 3.7368531524705118, 4.473531173228917, 3.3849102359405703, 6.108257193934894, 2.9837639584662186, 5.961086814135836, 9.497797013478158, 4.103770877588656, 3.4014820684175597, 4.285682860914926, 3.425715411335818, 4.620548911590231, 2.289248882752637, 8.359614996698578, 9.788752582957947, 11.314337048600764, 5.428716121246262, 5.571089870956105, 10.211573825520569, 6.371400786142694, 5.419973962110532, 5.148755589376391, 8.346294027887023, 8.11033187249618, 1.1844899449048647, 5.891874634184687, 9.597918689140206, 6.174318123886757, 8.622806229180869, 9.873307656591793, 5.120729277540415, 4.900358479089831, 4.412729236345358, 5.195041092718039, 5.453153784958349, 4.362761868141833, 6.108802033632737, 3.7828649268998493, 3.581066752260883, 3.040198050877347, 3.0918385660416314, 4.214082352883765, 4.95403688864379, 3.967668003121003, 2.692002833826409, 5.040487424208033, 3.076683817731366, 6.424336990652025, 5.159286085654282, 5.446279107299609, 6.145930661322235, 7.979828844385816, 9.129197727402138, 4.604825481162826, 3.4483162415296826, 10.126176939366454, 15.627683231186165, 9.62567456460861, 10.102581167365523, 8.664384389164756, 7.277793945368722, 3.7817012068603204, 4.430223771547313, 6.756117830854961, 8.72146826166555, 9.006328231621191, 9.272361939550937, 8.563801515573319, 3.811205135547328, 3.71091913563107, 4.3215774805630165, 4.1457370065843735, 6.272489448078047, 7.388946889914017, 2.095494277321906, 5.466559454973338, 7.186094136498971]}, \"mode\": \"markers\", \"text\": [\"O Brother, Where Art Thou?\", \"The Twilight Saga: Breaking Dawn Part 1\", \"The Twilight Saga: Breaking Dawn Part 2\", \"Helena From the Wedding\", \"Monsters\", \"Catfish\", \"Red\", \"Freakonomics\", \"The Warrior's Way\", \"Stone\", \"Frankenweenie\", \"John Carter\", \"Dolphin Tale\", \"Penguins of Madagascar\", \"Minions\", \"Proud American\", \"Edmond\", \"Tootsie\", \"Waterworld\", \"The Lion King (2019)\", \"Crawl\", \"Stuber\", \"Midsommar\", \"Spider-Man: Far from Home\", \"Yesterday\", \"Annabelle Comes Home\", \"Toy Story 4\", \"Child's Play (2019)\", \"Anna (2019)\", \"Men in Black International\", \"Shaft (2019)\\u00a0\", \"Late Night\", \"The Secret Life of Pets 2\", \"Dark Phoenix\", \"Godzilla:King of the Monsters\", \"Rocketman\", \"Return of the Jedi\", \"Indiana Jones and the Temple of Doom\", \"The Idolmaker\", \"The Grass Harp\", \"The Grand\", \"Jaws\", \"Superman (1978)\", \"Clerks\", \"Juice\", \"He Got Game\", \"White Men Can't Jump\", \"Mulholland Drive\", \"Blue Velvet\", \"Once Upon a Time in Hollywood\", \"The Big Lebowski\", \"Train to Busan\", \"Pride and Prejudice and Zombies\", \"Dead Poets Society\", \"A Fish Called Wanda\", \"The Witches of Eastwick\", \"Ferris Bueller's Day Off\", \"Back to the Future\", \"Police Academy\", \"Trading Places\", \"Star Trek II The Wrath of Khan\", \"The Blues Brothers\", \"V For Vendetta\", \"In the Line of Fire\", \"Us\", \"The Forbidden Kingdom\", \"Rumble in the Bronx\", \"Machete\", \"Beverly Hills Cop\", \"Watchmen\", \"Jackie Brown\", \"Zombieland\", \"Mo Better Blues\", \"Thelma and Louise\", \"New Jack City\", \"The Lawnmower Man\", \"Schindler's List\", \"Four Weddings and a Funeral\", \"Get Shorty\", \"Jerry Maguire\", \"Welcome to Sarajevo\", \"Trojan War\", \"The Gingerbread Man\", \"Tumbleweeds\", \"Turn it up\", \"The Adventures of Pluto Nash\", \"The Lord of the Rings: The Return of the King\", \"Harry Potter and the Prisoner of Azkaban\", \"Stay\", \"Fast Food Nation\", \"Into the Wild\", \"The Wrestler\", \"Slumdog Millionaire\", \"Jackass 3-D\", \"Skyfall\", \"The Hunger Games: Mocking Jay - Part 1\", \"Jurassic World\", \"Shut In\", \"Molly's Game\", \"Peter Rabbit\", \"BlacKkKlansman\", \"Replicas\"], \"type\": \"scatter\", \"x\": [\"O Brother, Where Art Thou?\", \"The Twilight Saga: Breaking Dawn Part 1\", \"The Twilight Saga: Breaking Dawn Part 2\", \"Helena From the Wedding\", \"Monsters\", \"Catfish\", \"Red\", \"Freakonomics\", \"The Warrior's Way\", \"Stone\", \"Frankenweenie\", \"John Carter\", \"Dolphin Tale\", \"Penguins of Madagascar\", \"Minions\", \"Proud American\", \"Edmond\", \"Tootsie\", \"Waterworld\", \"The Lion King (2019)\", \"Crawl\", \"Stuber\", \"Midsommar\", \"Spider-Man: Far from Home\", \"Yesterday\", \"Annabelle Comes Home\", \"Toy Story 4\", \"Child's Play (2019)\", \"Anna (2019)\", \"Men in Black International\", \"Shaft (2019)\\u00a0\", \"Late Night\", \"The Secret Life of Pets 2\", \"Dark Phoenix\", \"Godzilla:King of the Monsters\", \"Rocketman\", \"Return of the Jedi\", \"Indiana Jones and the Temple of Doom\", \"The Idolmaker\", \"The Grass Harp\", \"The Grand\", \"Jaws\", \"Superman (1978)\", \"Clerks\", \"Juice\", \"He Got Game\", \"White Men Can't Jump\", \"Mulholland Drive\", \"Blue Velvet\", \"Once Upon a Time in Hollywood\", \"The Big Lebowski\", \"Train to Busan\", \"Pride and Prejudice and Zombies\", \"Dead Poets Society\", \"A Fish Called Wanda\", \"The Witches of Eastwick\", \"Ferris Bueller's Day Off\", \"Back to the Future\", \"Police Academy\", \"Trading Places\", \"Star Trek II The Wrath of Khan\", \"The Blues Brothers\", \"V For Vendetta\", \"In the Line of Fire\", \"Us\", \"The Forbidden Kingdom\", \"Rumble in the Bronx\", \"Machete\", \"Beverly Hills Cop\", \"Watchmen\", \"Jackie Brown\", \"Zombieland\", \"Mo Better Blues\", \"Thelma and Louise\", \"New Jack City\", \"The Lawnmower Man\", \"Schindler's List\", \"Four Weddings and a Funeral\", \"Get Shorty\", \"Jerry Maguire\", \"Welcome to Sarajevo\", \"Trojan War\", \"The Gingerbread Man\", \"Tumbleweeds\", \"Turn it up\", \"The Adventures of Pluto Nash\", \"The Lord of the Rings: The Return of the King\", \"Harry Potter and the Prisoner of Azkaban\", \"Stay\", \"Fast Food Nation\", \"Into the Wild\", \"The Wrestler\", \"Slumdog Millionaire\", \"Jackass 3-D\", \"Skyfall\", \"The Hunger Games: Mocking Jay - Part 1\", \"Jurassic World\", \"Shut In\", \"Molly's Game\", \"Peter Rabbit\", \"BlacKkKlansman\", \"Replicas\"], \"y\": [9.624308190711613, 4.078551614193492, 4.204605201003593, 13.578017754756521, 12.06481375371178, 9.222683283634767, 2.220173741473392, 11.232657094720796, 6.901646953085859, 10.39613810128344, 3.9064880699750386, 2.5606863300008382, 3.213446273603304, 3.4732833656573665, 4.428861615396036, 10.031409089358721, 11.55339769628128, 5.74388202778961, 3.155569151494716, 4.491145939889565, 4.141369286044738, 5.308684740280251, 5.221994835894852, 4.45226945577139, 2.859625457832987, 3.7368531524705118, 4.473531173228917, 3.3849102359405703, 6.108257193934894, 2.9837639584662186, 5.961086814135836, 9.497797013478158, 4.103770877588656, 3.4014820684175597, 4.285682860914926, 3.425715411335818, 4.620548911590231, 2.289248882752637, 8.359614996698578, 9.788752582957947, 11.314337048600764, 5.428716121246262, 5.571089870956105, 10.211573825520569, 6.371400786142694, 5.419973962110532, 5.148755589376391, 8.346294027887023, 8.11033187249618, 1.1844899449048647, 5.891874634184687, 9.597918689140206, 6.174318123886757, 8.622806229180869, 9.873307656591793, 5.120729277540415, 4.900358479089831, 4.412729236345358, 5.195041092718039, 5.453153784958349, 4.362761868141833, 6.108802033632737, 3.7828649268998493, 3.581066752260883, 3.040198050877347, 3.0918385660416314, 4.214082352883765, 4.95403688864379, 3.967668003121003, 2.692002833826409, 5.040487424208033, 3.076683817731366, 6.424336990652025, 5.159286085654282, 5.446279107299609, 6.145930661322235, 7.979828844385816, 9.129197727402138, 4.604825481162826, 3.4483162415296826, 10.126176939366454, 15.627683231186165, 9.62567456460861, 10.102581167365523, 8.664384389164756, 7.277793945368722, 3.7817012068603204, 4.430223771547313, 6.756117830854961, 8.72146826166555, 9.006328231621191, 9.272361939550937, 8.563801515573319, 3.811205135547328, 3.71091913563107, 4.3215774805630165, 4.1457370065843735, 6.272489448078047, 7.388946889914017, 2.095494277321906, 5.466559454973338, 7.186094136498971]}],\n",
       "                        {\"template\": {\"data\": {\"bar\": [{\"error_x\": {\"color\": \"#2a3f5f\"}, \"error_y\": {\"color\": \"#2a3f5f\"}, \"marker\": {\"line\": {\"color\": \"#E5ECF6\", \"width\": 0.5}}, \"type\": \"bar\"}], \"barpolar\": [{\"marker\": {\"line\": {\"color\": \"#E5ECF6\", \"width\": 0.5}}, \"type\": \"barpolar\"}], \"carpet\": [{\"aaxis\": {\"endlinecolor\": \"#2a3f5f\", \"gridcolor\": \"white\", \"linecolor\": \"white\", \"minorgridcolor\": \"white\", \"startlinecolor\": \"#2a3f5f\"}, \"baxis\": {\"endlinecolor\": \"#2a3f5f\", \"gridcolor\": \"white\", \"linecolor\": \"white\", \"minorgridcolor\": \"white\", \"startlinecolor\": \"#2a3f5f\"}, \"type\": \"carpet\"}], \"choropleth\": [{\"colorbar\": {\"outlinewidth\": 0, \"ticks\": \"\"}, \"type\": \"choropleth\"}], \"contour\": [{\"colorbar\": {\"outlinewidth\": 0, \"ticks\": \"\"}, \"colorscale\": [[0.0, \"#0d0887\"], [0.1111111111111111, \"#46039f\"], [0.2222222222222222, \"#7201a8\"], [0.3333333333333333, \"#9c179e\"], [0.4444444444444444, \"#bd3786\"], [0.5555555555555556, \"#d8576b\"], [0.6666666666666666, \"#ed7953\"], [0.7777777777777778, \"#fb9f3a\"], [0.8888888888888888, \"#fdca26\"], [1.0, \"#f0f921\"]], \"type\": \"contour\"}], \"contourcarpet\": [{\"colorbar\": {\"outlinewidth\": 0, \"ticks\": \"\"}, \"type\": \"contourcarpet\"}], \"heatmap\": [{\"colorbar\": {\"outlinewidth\": 0, \"ticks\": \"\"}, \"colorscale\": [[0.0, \"#0d0887\"], [0.1111111111111111, \"#46039f\"], [0.2222222222222222, \"#7201a8\"], [0.3333333333333333, \"#9c179e\"], [0.4444444444444444, \"#bd3786\"], [0.5555555555555556, \"#d8576b\"], [0.6666666666666666, \"#ed7953\"], [0.7777777777777778, \"#fb9f3a\"], [0.8888888888888888, \"#fdca26\"], [1.0, \"#f0f921\"]], \"type\": \"heatmap\"}], \"heatmapgl\": [{\"colorbar\": {\"outlinewidth\": 0, \"ticks\": \"\"}, \"colorscale\": [[0.0, \"#0d0887\"], [0.1111111111111111, \"#46039f\"], [0.2222222222222222, \"#7201a8\"], [0.3333333333333333, \"#9c179e\"], [0.4444444444444444, \"#bd3786\"], [0.5555555555555556, \"#d8576b\"], [0.6666666666666666, \"#ed7953\"], [0.7777777777777778, \"#fb9f3a\"], [0.8888888888888888, \"#fdca26\"], [1.0, \"#f0f921\"]], \"type\": \"heatmapgl\"}], \"histogram\": [{\"marker\": {\"colorbar\": {\"outlinewidth\": 0, \"ticks\": \"\"}}, \"type\": \"histogram\"}], \"histogram2d\": [{\"colorbar\": {\"outlinewidth\": 0, \"ticks\": \"\"}, \"colorscale\": [[0.0, \"#0d0887\"], [0.1111111111111111, \"#46039f\"], [0.2222222222222222, \"#7201a8\"], [0.3333333333333333, \"#9c179e\"], [0.4444444444444444, \"#bd3786\"], [0.5555555555555556, \"#d8576b\"], [0.6666666666666666, \"#ed7953\"], [0.7777777777777778, \"#fb9f3a\"], [0.8888888888888888, \"#fdca26\"], [1.0, \"#f0f921\"]], \"type\": \"histogram2d\"}], \"histogram2dcontour\": [{\"colorbar\": {\"outlinewidth\": 0, \"ticks\": \"\"}, \"colorscale\": [[0.0, \"#0d0887\"], [0.1111111111111111, \"#46039f\"], [0.2222222222222222, \"#7201a8\"], [0.3333333333333333, \"#9c179e\"], [0.4444444444444444, \"#bd3786\"], [0.5555555555555556, \"#d8576b\"], [0.6666666666666666, \"#ed7953\"], [0.7777777777777778, \"#fb9f3a\"], [0.8888888888888888, \"#fdca26\"], [1.0, \"#f0f921\"]], \"type\": \"histogram2dcontour\"}], \"mesh3d\": [{\"colorbar\": {\"outlinewidth\": 0, \"ticks\": \"\"}, \"type\": \"mesh3d\"}], \"parcoords\": [{\"line\": {\"colorbar\": {\"outlinewidth\": 0, \"ticks\": \"\"}}, \"type\": \"parcoords\"}], \"scatter\": [{\"marker\": {\"colorbar\": {\"outlinewidth\": 0, \"ticks\": \"\"}}, \"type\": \"scatter\"}], \"scatter3d\": [{\"line\": {\"colorbar\": {\"outlinewidth\": 0, \"ticks\": \"\"}}, \"marker\": {\"colorbar\": {\"outlinewidth\": 0, \"ticks\": \"\"}}, \"type\": \"scatter3d\"}], \"scattercarpet\": [{\"marker\": {\"colorbar\": {\"outlinewidth\": 0, \"ticks\": \"\"}}, \"type\": \"scattercarpet\"}], \"scattergeo\": [{\"marker\": {\"colorbar\": {\"outlinewidth\": 0, \"ticks\": \"\"}}, \"type\": \"scattergeo\"}], \"scattergl\": [{\"marker\": {\"colorbar\": {\"outlinewidth\": 0, \"ticks\": \"\"}}, \"type\": \"scattergl\"}], \"scattermapbox\": [{\"marker\": {\"colorbar\": {\"outlinewidth\": 0, \"ticks\": \"\"}}, \"type\": \"scattermapbox\"}], \"scatterpolar\": [{\"marker\": {\"colorbar\": {\"outlinewidth\": 0, \"ticks\": \"\"}}, \"type\": \"scatterpolar\"}], \"scatterpolargl\": [{\"marker\": {\"colorbar\": {\"outlinewidth\": 0, \"ticks\": \"\"}}, \"type\": \"scatterpolargl\"}], \"scatterternary\": [{\"marker\": {\"colorbar\": {\"outlinewidth\": 0, \"ticks\": \"\"}}, \"type\": \"scatterternary\"}], \"surface\": [{\"colorbar\": {\"outlinewidth\": 0, \"ticks\": \"\"}, \"colorscale\": [[0.0, \"#0d0887\"], [0.1111111111111111, \"#46039f\"], [0.2222222222222222, \"#7201a8\"], [0.3333333333333333, \"#9c179e\"], [0.4444444444444444, \"#bd3786\"], [0.5555555555555556, \"#d8576b\"], [0.6666666666666666, \"#ed7953\"], [0.7777777777777778, \"#fb9f3a\"], [0.8888888888888888, \"#fdca26\"], [1.0, \"#f0f921\"]], \"type\": \"surface\"}], \"table\": [{\"cells\": {\"fill\": {\"color\": \"#EBF0F8\"}, \"line\": {\"color\": \"white\"}}, \"header\": {\"fill\": {\"color\": \"#C8D4E3\"}, \"line\": {\"color\": \"white\"}}, \"type\": \"table\"}]}, \"layout\": {\"annotationdefaults\": {\"arrowcolor\": \"#2a3f5f\", \"arrowhead\": 0, \"arrowwidth\": 1}, \"colorscale\": {\"diverging\": [[0, \"#8e0152\"], [0.1, \"#c51b7d\"], [0.2, \"#de77ae\"], [0.3, \"#f1b6da\"], [0.4, \"#fde0ef\"], [0.5, \"#f7f7f7\"], [0.6, \"#e6f5d0\"], [0.7, \"#b8e186\"], [0.8, \"#7fbc41\"], [0.9, \"#4d9221\"], [1, \"#276419\"]], \"sequential\": [[0.0, \"#0d0887\"], [0.1111111111111111, \"#46039f\"], [0.2222222222222222, \"#7201a8\"], [0.3333333333333333, \"#9c179e\"], [0.4444444444444444, \"#bd3786\"], [0.5555555555555556, \"#d8576b\"], [0.6666666666666666, \"#ed7953\"], [0.7777777777777778, \"#fb9f3a\"], [0.8888888888888888, \"#fdca26\"], [1.0, \"#f0f921\"]], \"sequentialminus\": [[0.0, \"#0d0887\"], [0.1111111111111111, \"#46039f\"], [0.2222222222222222, \"#7201a8\"], [0.3333333333333333, \"#9c179e\"], [0.4444444444444444, \"#bd3786\"], [0.5555555555555556, \"#d8576b\"], [0.6666666666666666, \"#ed7953\"], [0.7777777777777778, \"#fb9f3a\"], [0.8888888888888888, \"#fdca26\"], [1.0, \"#f0f921\"]]}, \"colorway\": [\"#636efa\", \"#EF553B\", \"#00cc96\", \"#ab63fa\", \"#FFA15A\", \"#19d3f3\", \"#FF6692\", \"#B6E880\", \"#FF97FF\", \"#FECB52\"], \"font\": {\"color\": \"#2a3f5f\"}, \"geo\": {\"bgcolor\": \"white\", \"lakecolor\": \"white\", \"landcolor\": \"#E5ECF6\", \"showlakes\": true, \"showland\": true, \"subunitcolor\": \"white\"}, \"hoverlabel\": {\"align\": \"left\"}, \"hovermode\": \"closest\", \"mapbox\": {\"style\": \"light\"}, \"paper_bgcolor\": \"white\", \"plot_bgcolor\": \"#E5ECF6\", \"polar\": {\"angularaxis\": {\"gridcolor\": \"white\", \"linecolor\": \"white\", \"ticks\": \"\"}, \"bgcolor\": \"#E5ECF6\", \"radialaxis\": {\"gridcolor\": \"white\", \"linecolor\": \"white\", \"ticks\": \"\"}}, \"scene\": {\"xaxis\": {\"backgroundcolor\": \"#E5ECF6\", \"gridcolor\": \"white\", \"gridwidth\": 2, \"linecolor\": \"white\", \"showbackground\": true, \"ticks\": \"\", \"zerolinecolor\": \"white\"}, \"yaxis\": {\"backgroundcolor\": \"#E5ECF6\", \"gridcolor\": \"white\", \"gridwidth\": 2, \"linecolor\": \"white\", \"showbackground\": true, \"ticks\": \"\", \"zerolinecolor\": \"white\"}, \"zaxis\": {\"backgroundcolor\": \"#E5ECF6\", \"gridcolor\": \"white\", \"gridwidth\": 2, \"linecolor\": \"white\", \"showbackground\": true, \"ticks\": \"\", \"zerolinecolor\": \"white\"}}, \"shapedefaults\": {\"line\": {\"color\": \"#2a3f5f\"}}, \"ternary\": {\"aaxis\": {\"gridcolor\": \"white\", \"linecolor\": \"white\", \"ticks\": \"\"}, \"baxis\": {\"gridcolor\": \"white\", \"linecolor\": \"white\", \"ticks\": \"\"}, \"bgcolor\": \"#E5ECF6\", \"caxis\": {\"gridcolor\": \"white\", \"linecolor\": \"white\", \"ticks\": \"\"}}, \"title\": {\"x\": 0.05}, \"xaxis\": {\"automargin\": true, \"gridcolor\": \"white\", \"linecolor\": \"white\", \"ticks\": \"\", \"zerolinecolor\": \"white\", \"zerolinewidth\": 2}, \"yaxis\": {\"automargin\": true, \"gridcolor\": \"white\", \"linecolor\": \"white\", \"ticks\": \"\", \"zerolinecolor\": \"white\", \"zerolinewidth\": 2}}}, \"title\": {\"text\": \"Percentage of error for video prediction\"}},\n",
       "                        {\"responsive\": true}\n",
       "                    ).then(function(){\n",
       "                            \n",
       "var gd = document.getElementById('1980cbf4-aa65-40ea-b500-3c6efba10cb5');\n",
       "var x = new MutationObserver(function (mutations, observer) {{\n",
       "        var display = window.getComputedStyle(gd).display;\n",
       "        if (!display || display === 'none') {{\n",
       "            console.log([gd, 'removed!']);\n",
       "            Plotly.purge(gd);\n",
       "            observer.disconnect();\n",
       "        }}\n",
       "}});\n",
       "\n",
       "// Listen for the removal of the full notebook cells\n",
       "var notebookContainer = gd.closest('#notebook-container');\n",
       "if (notebookContainer) {{\n",
       "    x.observe(notebookContainer, {childList: true});\n",
       "}}\n",
       "\n",
       "// Listen for the clearing of the current output cell\n",
       "var outputEl = gd.closest('.output');\n",
       "if (outputEl) {{\n",
       "    x.observe(outputEl, {childList: true});\n",
       "}}\n",
       "\n",
       "                        })\n",
       "                };\n",
       "                });\n",
       "            </script>\n",
       "        </div>"
      ]
     },
     "metadata": {},
     "output_type": "display_data"
    }
   ],
   "source": [
    "#Percentage of error for video prediction\n",
    "g1_result_final['video_rmse_pre'] = mean_absolute_percentage_error(g1_result_final[\"ground_truth\"], g1_result_final[\"pred_video\"])\n",
    "fig = go.Figure(data=go.Scatter(x=g1_result_final[\"name\"],\n",
    "                                y=g1_result_final['video_rmse_pre'],\n",
    "                                mode='markers',\n",
    "                                marker_color=g1_result_final['video_rmse_pre'],\n",
    "                                text=g1_result_final[\"name\"])) # hover text goes here(movie_title)\n",
    "\n",
    "fig.update_layout(title='Percentage of error for video prediction of Group 1')\n",
    "fig.show()"
   ]
  },
  {
   "cell_type": "code",
   "execution_count": 38,
   "metadata": {},
   "outputs": [
    {
     "data": {
      "text/plain": [
       "5.265339788087552"
      ]
     },
     "execution_count": 38,
     "metadata": {},
     "output_type": "execute_result"
    }
   ],
   "source": [
    "# Median for Percentage of error for video prediction\n",
    "Median_video = np.median(g1_result_final['video_rmse_pre'])\n",
    "Median_video"
   ]
  },
  {
   "cell_type": "code",
   "execution_count": 39,
   "metadata": {},
   "outputs": [
    {
     "data": {
      "application/vnd.plotly.v1+json": {
       "config": {
        "plotlyServerURL": "https://plot.ly"
       },
       "data": [
        {
         "marker": {
          "color": [
           -29513546.787037034,
           80193600.20416668,
           93096376.4247312,
           -21229154.166666664,
           -35612531.48888888,
           -26045459.67682927,
           -1786378.9020833299,
           -24097423.951111104,
           -30270508.55357143,
           -24799704.277777776,
           -5560488.682539679,
           3604932.4942528717,
           -4570649.453333329,
           7950400.523809519,
           95856411.22446236,
           -21836419,
           -20048002.45588236,
           -17246060.239583336,
           -4756534.5,
           169187129.15833333,
           -7429889.455882359,
           -16539952.56751056,
           -12090362.636029419,
           78527068.19583333,
           2799001.7004219405,
           8303638.461711718,
           104785869.26436782,
           4019121.848958332,
           -16150865.791297939,
           5635342.069148939,
           -34451305.57107842,
           -32830801.1483918,
           27790186.44444444,
           9523025.05789474,
           34232736.86904762,
           7652021.349537034,
           -23146170.346491218,
           2246774.1150793657,
           -13595967.560773484,
           -20891034.483766228,
           -21590648.18827161,
           -16019502.468181811,
           -19538316.18910257,
           -8617746.186868688,
           -47211760.91465863,
           -17114344.56209151,
           -25187952.26883562,
           -24758339.659090906,
           -26269025.500000004,
           932158.800724633,
           -19981793.31127451,
           -41956285.6476378,
           -25516709.707446802,
           -18915594.524572648,
           -22396192.7838983,
           -15737283.30803572,
           -8367817.703030299,
           -9088652.141472865,
           -15372497.599780701,
           -17084079.56881721,
           -11115304.16875001,
           -21803364.19528112,
           11011269.916666664,
           -5330822.696078431,
           14159081.015151523,
           4497985.197278917,
           -6568843.15616798,
           -19849254.04545454,
           -7890567.52380953,
           7598160.77536232,
           -14267812.46604938,
           -5116391.232558146,
           -27011739.28440367,
           -10557694.18085106,
           -16254044.19627193,
           -36109757.86827956,
           -19176601.314102564,
           -12767885.098348346,
           -12568629.930735923,
           -5201723.578767121,
           -16721734.353333332,
           -13288509.008771932,
           -17916478.416666668,
           -19531260.651162792,
           -33408706.609375,
           -31581991.885416664,
           31151352.60444445,
           77713858.74609375,
           -18781306.875,
           -25191230.826666664,
           -17321347.899122808,
           -21566444.309523806,
           -18856150.937500007,
           22258768.62681159,
           35249898.52666667,
           90578877.75868058,
           129802657.8238636,
           -19108348.38513513,
           -18951837.144736845,
           1783143.6532258056,
           -25556434.943486586,
           -31352715.86507938
          ]
         },
         "mode": "markers",
         "text": [
          "O Brother, Where Art Thou?",
          "The Twilight Saga: Breaking Dawn Part 1",
          "The Twilight Saga: Breaking Dawn Part 2",
          "Helena From the Wedding",
          "Monsters",
          "Catfish",
          "Red",
          "Freakonomics",
          "The Warrior's Way",
          "Stone",
          "Frankenweenie",
          "John Carter",
          "Dolphin Tale",
          "Penguins of Madagascar",
          "Minions",
          "Proud American",
          "Edmond",
          "Tootsie",
          "Waterworld",
          "The Lion King (2019)",
          "Crawl",
          "Stuber",
          "Midsommar",
          "Spider-Man: Far from Home",
          "Yesterday",
          "Annabelle Comes Home",
          "Toy Story 4",
          "Child's Play (2019)",
          "Anna (2019)",
          "Men in Black International",
          "Shaft (2019) ",
          "Late Night",
          "The Secret Life of Pets 2",
          "Dark Phoenix",
          "Godzilla:King of the Monsters",
          "Rocketman",
          "Return of the Jedi",
          "Indiana Jones and the Temple of Doom",
          "The Idolmaker",
          "The Grass Harp",
          "The Grand",
          "Jaws",
          "Superman (1978)",
          "Clerks",
          "Juice",
          "He Got Game",
          "White Men Can't Jump",
          "Mulholland Drive",
          "Blue Velvet",
          "Once Upon a Time in Hollywood",
          "The Big Lebowski",
          "Train to Busan",
          "Pride and Prejudice and Zombies",
          "Dead Poets Society",
          "A Fish Called Wanda",
          "The Witches of Eastwick",
          "Ferris Bueller's Day Off",
          "Back to the Future",
          "Police Academy",
          "Trading Places",
          "Star Trek II The Wrath of Khan",
          "The Blues Brothers",
          "V For Vendetta",
          "In the Line of Fire",
          "Us",
          "The Forbidden Kingdom",
          "Rumble in the Bronx",
          "Machete",
          "Beverly Hills Cop",
          "Watchmen",
          "Jackie Brown",
          "Zombieland",
          "Mo Better Blues",
          "Thelma and Louise",
          "New Jack City",
          "The Lawnmower Man",
          "Schindler's List",
          "Four Weddings and a Funeral",
          "Get Shorty",
          "Jerry Maguire",
          "Welcome to Sarajevo",
          "Trojan War",
          "The Gingerbread Man",
          "Tumbleweeds",
          "Turn it up",
          "The Adventures of Pluto Nash",
          "The Lord of the Rings: The Return of the King",
          "Harry Potter and the Prisoner of Azkaban",
          "Stay",
          "Fast Food Nation",
          "Into the Wild",
          "The Wrestler",
          "Slumdog Millionaire",
          "Jackass 3-D",
          "Skyfall",
          "The Hunger Games: Mocking Jay - Part 1",
          "Jurassic World",
          "Shut In",
          "Molly's Game",
          "Peter Rabbit",
          "BlacKkKlansman",
          "Replicas"
         ],
         "type": "scatter",
         "x": [
          "O Brother, Where Art Thou?",
          "The Twilight Saga: Breaking Dawn Part 1",
          "The Twilight Saga: Breaking Dawn Part 2",
          "Helena From the Wedding",
          "Monsters",
          "Catfish",
          "Red",
          "Freakonomics",
          "The Warrior's Way",
          "Stone",
          "Frankenweenie",
          "John Carter",
          "Dolphin Tale",
          "Penguins of Madagascar",
          "Minions",
          "Proud American",
          "Edmond",
          "Tootsie",
          "Waterworld",
          "The Lion King (2019)",
          "Crawl",
          "Stuber",
          "Midsommar",
          "Spider-Man: Far from Home",
          "Yesterday",
          "Annabelle Comes Home",
          "Toy Story 4",
          "Child's Play (2019)",
          "Anna (2019)",
          "Men in Black International",
          "Shaft (2019) ",
          "Late Night",
          "The Secret Life of Pets 2",
          "Dark Phoenix",
          "Godzilla:King of the Monsters",
          "Rocketman",
          "Return of the Jedi",
          "Indiana Jones and the Temple of Doom",
          "The Idolmaker",
          "The Grass Harp",
          "The Grand",
          "Jaws",
          "Superman (1978)",
          "Clerks",
          "Juice",
          "He Got Game",
          "White Men Can't Jump",
          "Mulholland Drive",
          "Blue Velvet",
          "Once Upon a Time in Hollywood",
          "The Big Lebowski",
          "Train to Busan",
          "Pride and Prejudice and Zombies",
          "Dead Poets Society",
          "A Fish Called Wanda",
          "The Witches of Eastwick",
          "Ferris Bueller's Day Off",
          "Back to the Future",
          "Police Academy",
          "Trading Places",
          "Star Trek II The Wrath of Khan",
          "The Blues Brothers",
          "V For Vendetta",
          "In the Line of Fire",
          "Us",
          "The Forbidden Kingdom",
          "Rumble in the Bronx",
          "Machete",
          "Beverly Hills Cop",
          "Watchmen",
          "Jackie Brown",
          "Zombieland",
          "Mo Better Blues",
          "Thelma and Louise",
          "New Jack City",
          "The Lawnmower Man",
          "Schindler's List",
          "Four Weddings and a Funeral",
          "Get Shorty",
          "Jerry Maguire",
          "Welcome to Sarajevo",
          "Trojan War",
          "The Gingerbread Man",
          "Tumbleweeds",
          "Turn it up",
          "The Adventures of Pluto Nash",
          "The Lord of the Rings: The Return of the King",
          "Harry Potter and the Prisoner of Azkaban",
          "Stay",
          "Fast Food Nation",
          "Into the Wild",
          "The Wrestler",
          "Slumdog Millionaire",
          "Jackass 3-D",
          "Skyfall",
          "The Hunger Games: Mocking Jay - Part 1",
          "Jurassic World",
          "Shut In",
          "Molly's Game",
          "Peter Rabbit",
          "BlacKkKlansman",
          "Replicas"
         ],
         "y": [
          -29513546.787037034,
          80193600.20416668,
          93096376.4247312,
          -21229154.166666664,
          -35612531.48888888,
          -26045459.67682927,
          -1786378.9020833299,
          -24097423.951111104,
          -30270508.55357143,
          -24799704.277777776,
          -5560488.682539679,
          3604932.4942528717,
          -4570649.453333329,
          7950400.523809519,
          95856411.22446236,
          -21836419,
          -20048002.45588236,
          -17246060.239583336,
          -4756534.5,
          169187129.15833333,
          -7429889.455882359,
          -16539952.56751056,
          -12090362.636029419,
          78527068.19583333,
          2799001.7004219405,
          8303638.461711718,
          104785869.26436782,
          4019121.848958332,
          -16150865.791297939,
          5635342.069148939,
          -34451305.57107842,
          -32830801.1483918,
          27790186.44444444,
          9523025.05789474,
          34232736.86904762,
          7652021.349537034,
          -23146170.346491218,
          2246774.1150793657,
          -13595967.560773484,
          -20891034.483766228,
          -21590648.18827161,
          -16019502.468181811,
          -19538316.18910257,
          -8617746.186868688,
          -47211760.91465863,
          -17114344.56209151,
          -25187952.26883562,
          -24758339.659090906,
          -26269025.500000004,
          932158.800724633,
          -19981793.31127451,
          -41956285.6476378,
          -25516709.707446802,
          -18915594.524572648,
          -22396192.7838983,
          -15737283.30803572,
          -8367817.703030299,
          -9088652.141472865,
          -15372497.599780701,
          -17084079.56881721,
          -11115304.16875001,
          -21803364.19528112,
          11011269.916666664,
          -5330822.696078431,
          14159081.015151523,
          4497985.197278917,
          -6568843.15616798,
          -19849254.04545454,
          -7890567.52380953,
          7598160.77536232,
          -14267812.46604938,
          -5116391.232558146,
          -27011739.28440367,
          -10557694.18085106,
          -16254044.19627193,
          -36109757.86827956,
          -19176601.314102564,
          -12767885.098348346,
          -12568629.930735923,
          -5201723.578767121,
          -16721734.353333332,
          -13288509.008771932,
          -17916478.416666668,
          -19531260.651162792,
          -33408706.609375,
          -31581991.885416664,
          31151352.60444445,
          77713858.74609375,
          -18781306.875,
          -25191230.826666664,
          -17321347.899122808,
          -21566444.309523806,
          -18856150.937500007,
          22258768.62681159,
          35249898.52666667,
          90578877.75868058,
          129802657.8238636,
          -19108348.38513513,
          -18951837.144736845,
          1783143.6532258056,
          -25556434.943486586,
          -31352715.86507938
         ]
        }
       ],
       "layout": {
        "template": {
         "data": {
          "bar": [
           {
            "error_x": {
             "color": "#2a3f5f"
            },
            "error_y": {
             "color": "#2a3f5f"
            },
            "marker": {
             "line": {
              "color": "#E5ECF6",
              "width": 0.5
             }
            },
            "type": "bar"
           }
          ],
          "barpolar": [
           {
            "marker": {
             "line": {
              "color": "#E5ECF6",
              "width": 0.5
             }
            },
            "type": "barpolar"
           }
          ],
          "carpet": [
           {
            "aaxis": {
             "endlinecolor": "#2a3f5f",
             "gridcolor": "white",
             "linecolor": "white",
             "minorgridcolor": "white",
             "startlinecolor": "#2a3f5f"
            },
            "baxis": {
             "endlinecolor": "#2a3f5f",
             "gridcolor": "white",
             "linecolor": "white",
             "minorgridcolor": "white",
             "startlinecolor": "#2a3f5f"
            },
            "type": "carpet"
           }
          ],
          "choropleth": [
           {
            "colorbar": {
             "outlinewidth": 0,
             "ticks": ""
            },
            "type": "choropleth"
           }
          ],
          "contour": [
           {
            "colorbar": {
             "outlinewidth": 0,
             "ticks": ""
            },
            "colorscale": [
             [
              0,
              "#0d0887"
             ],
             [
              0.1111111111111111,
              "#46039f"
             ],
             [
              0.2222222222222222,
              "#7201a8"
             ],
             [
              0.3333333333333333,
              "#9c179e"
             ],
             [
              0.4444444444444444,
              "#bd3786"
             ],
             [
              0.5555555555555556,
              "#d8576b"
             ],
             [
              0.6666666666666666,
              "#ed7953"
             ],
             [
              0.7777777777777778,
              "#fb9f3a"
             ],
             [
              0.8888888888888888,
              "#fdca26"
             ],
             [
              1,
              "#f0f921"
             ]
            ],
            "type": "contour"
           }
          ],
          "contourcarpet": [
           {
            "colorbar": {
             "outlinewidth": 0,
             "ticks": ""
            },
            "type": "contourcarpet"
           }
          ],
          "heatmap": [
           {
            "colorbar": {
             "outlinewidth": 0,
             "ticks": ""
            },
            "colorscale": [
             [
              0,
              "#0d0887"
             ],
             [
              0.1111111111111111,
              "#46039f"
             ],
             [
              0.2222222222222222,
              "#7201a8"
             ],
             [
              0.3333333333333333,
              "#9c179e"
             ],
             [
              0.4444444444444444,
              "#bd3786"
             ],
             [
              0.5555555555555556,
              "#d8576b"
             ],
             [
              0.6666666666666666,
              "#ed7953"
             ],
             [
              0.7777777777777778,
              "#fb9f3a"
             ],
             [
              0.8888888888888888,
              "#fdca26"
             ],
             [
              1,
              "#f0f921"
             ]
            ],
            "type": "heatmap"
           }
          ],
          "heatmapgl": [
           {
            "colorbar": {
             "outlinewidth": 0,
             "ticks": ""
            },
            "colorscale": [
             [
              0,
              "#0d0887"
             ],
             [
              0.1111111111111111,
              "#46039f"
             ],
             [
              0.2222222222222222,
              "#7201a8"
             ],
             [
              0.3333333333333333,
              "#9c179e"
             ],
             [
              0.4444444444444444,
              "#bd3786"
             ],
             [
              0.5555555555555556,
              "#d8576b"
             ],
             [
              0.6666666666666666,
              "#ed7953"
             ],
             [
              0.7777777777777778,
              "#fb9f3a"
             ],
             [
              0.8888888888888888,
              "#fdca26"
             ],
             [
              1,
              "#f0f921"
             ]
            ],
            "type": "heatmapgl"
           }
          ],
          "histogram": [
           {
            "marker": {
             "colorbar": {
              "outlinewidth": 0,
              "ticks": ""
             }
            },
            "type": "histogram"
           }
          ],
          "histogram2d": [
           {
            "colorbar": {
             "outlinewidth": 0,
             "ticks": ""
            },
            "colorscale": [
             [
              0,
              "#0d0887"
             ],
             [
              0.1111111111111111,
              "#46039f"
             ],
             [
              0.2222222222222222,
              "#7201a8"
             ],
             [
              0.3333333333333333,
              "#9c179e"
             ],
             [
              0.4444444444444444,
              "#bd3786"
             ],
             [
              0.5555555555555556,
              "#d8576b"
             ],
             [
              0.6666666666666666,
              "#ed7953"
             ],
             [
              0.7777777777777778,
              "#fb9f3a"
             ],
             [
              0.8888888888888888,
              "#fdca26"
             ],
             [
              1,
              "#f0f921"
             ]
            ],
            "type": "histogram2d"
           }
          ],
          "histogram2dcontour": [
           {
            "colorbar": {
             "outlinewidth": 0,
             "ticks": ""
            },
            "colorscale": [
             [
              0,
              "#0d0887"
             ],
             [
              0.1111111111111111,
              "#46039f"
             ],
             [
              0.2222222222222222,
              "#7201a8"
             ],
             [
              0.3333333333333333,
              "#9c179e"
             ],
             [
              0.4444444444444444,
              "#bd3786"
             ],
             [
              0.5555555555555556,
              "#d8576b"
             ],
             [
              0.6666666666666666,
              "#ed7953"
             ],
             [
              0.7777777777777778,
              "#fb9f3a"
             ],
             [
              0.8888888888888888,
              "#fdca26"
             ],
             [
              1,
              "#f0f921"
             ]
            ],
            "type": "histogram2dcontour"
           }
          ],
          "mesh3d": [
           {
            "colorbar": {
             "outlinewidth": 0,
             "ticks": ""
            },
            "type": "mesh3d"
           }
          ],
          "parcoords": [
           {
            "line": {
             "colorbar": {
              "outlinewidth": 0,
              "ticks": ""
             }
            },
            "type": "parcoords"
           }
          ],
          "scatter": [
           {
            "marker": {
             "colorbar": {
              "outlinewidth": 0,
              "ticks": ""
             }
            },
            "type": "scatter"
           }
          ],
          "scatter3d": [
           {
            "line": {
             "colorbar": {
              "outlinewidth": 0,
              "ticks": ""
             }
            },
            "marker": {
             "colorbar": {
              "outlinewidth": 0,
              "ticks": ""
             }
            },
            "type": "scatter3d"
           }
          ],
          "scattercarpet": [
           {
            "marker": {
             "colorbar": {
              "outlinewidth": 0,
              "ticks": ""
             }
            },
            "type": "scattercarpet"
           }
          ],
          "scattergeo": [
           {
            "marker": {
             "colorbar": {
              "outlinewidth": 0,
              "ticks": ""
             }
            },
            "type": "scattergeo"
           }
          ],
          "scattergl": [
           {
            "marker": {
             "colorbar": {
              "outlinewidth": 0,
              "ticks": ""
             }
            },
            "type": "scattergl"
           }
          ],
          "scattermapbox": [
           {
            "marker": {
             "colorbar": {
              "outlinewidth": 0,
              "ticks": ""
             }
            },
            "type": "scattermapbox"
           }
          ],
          "scatterpolar": [
           {
            "marker": {
             "colorbar": {
              "outlinewidth": 0,
              "ticks": ""
             }
            },
            "type": "scatterpolar"
           }
          ],
          "scatterpolargl": [
           {
            "marker": {
             "colorbar": {
              "outlinewidth": 0,
              "ticks": ""
             }
            },
            "type": "scatterpolargl"
           }
          ],
          "scatterternary": [
           {
            "marker": {
             "colorbar": {
              "outlinewidth": 0,
              "ticks": ""
             }
            },
            "type": "scatterternary"
           }
          ],
          "surface": [
           {
            "colorbar": {
             "outlinewidth": 0,
             "ticks": ""
            },
            "colorscale": [
             [
              0,
              "#0d0887"
             ],
             [
              0.1111111111111111,
              "#46039f"
             ],
             [
              0.2222222222222222,
              "#7201a8"
             ],
             [
              0.3333333333333333,
              "#9c179e"
             ],
             [
              0.4444444444444444,
              "#bd3786"
             ],
             [
              0.5555555555555556,
              "#d8576b"
             ],
             [
              0.6666666666666666,
              "#ed7953"
             ],
             [
              0.7777777777777778,
              "#fb9f3a"
             ],
             [
              0.8888888888888888,
              "#fdca26"
             ],
             [
              1,
              "#f0f921"
             ]
            ],
            "type": "surface"
           }
          ],
          "table": [
           {
            "cells": {
             "fill": {
              "color": "#EBF0F8"
             },
             "line": {
              "color": "white"
             }
            },
            "header": {
             "fill": {
              "color": "#C8D4E3"
             },
             "line": {
              "color": "white"
             }
            },
            "type": "table"
           }
          ]
         },
         "layout": {
          "annotationdefaults": {
           "arrowcolor": "#2a3f5f",
           "arrowhead": 0,
           "arrowwidth": 1
          },
          "colorscale": {
           "diverging": [
            [
             0,
             "#8e0152"
            ],
            [
             0.1,
             "#c51b7d"
            ],
            [
             0.2,
             "#de77ae"
            ],
            [
             0.3,
             "#f1b6da"
            ],
            [
             0.4,
             "#fde0ef"
            ],
            [
             0.5,
             "#f7f7f7"
            ],
            [
             0.6,
             "#e6f5d0"
            ],
            [
             0.7,
             "#b8e186"
            ],
            [
             0.8,
             "#7fbc41"
            ],
            [
             0.9,
             "#4d9221"
            ],
            [
             1,
             "#276419"
            ]
           ],
           "sequential": [
            [
             0,
             "#0d0887"
            ],
            [
             0.1111111111111111,
             "#46039f"
            ],
            [
             0.2222222222222222,
             "#7201a8"
            ],
            [
             0.3333333333333333,
             "#9c179e"
            ],
            [
             0.4444444444444444,
             "#bd3786"
            ],
            [
             0.5555555555555556,
             "#d8576b"
            ],
            [
             0.6666666666666666,
             "#ed7953"
            ],
            [
             0.7777777777777778,
             "#fb9f3a"
            ],
            [
             0.8888888888888888,
             "#fdca26"
            ],
            [
             1,
             "#f0f921"
            ]
           ],
           "sequentialminus": [
            [
             0,
             "#0d0887"
            ],
            [
             0.1111111111111111,
             "#46039f"
            ],
            [
             0.2222222222222222,
             "#7201a8"
            ],
            [
             0.3333333333333333,
             "#9c179e"
            ],
            [
             0.4444444444444444,
             "#bd3786"
            ],
            [
             0.5555555555555556,
             "#d8576b"
            ],
            [
             0.6666666666666666,
             "#ed7953"
            ],
            [
             0.7777777777777778,
             "#fb9f3a"
            ],
            [
             0.8888888888888888,
             "#fdca26"
            ],
            [
             1,
             "#f0f921"
            ]
           ]
          },
          "colorway": [
           "#636efa",
           "#EF553B",
           "#00cc96",
           "#ab63fa",
           "#FFA15A",
           "#19d3f3",
           "#FF6692",
           "#B6E880",
           "#FF97FF",
           "#FECB52"
          ],
          "font": {
           "color": "#2a3f5f"
          },
          "geo": {
           "bgcolor": "white",
           "lakecolor": "white",
           "landcolor": "#E5ECF6",
           "showlakes": true,
           "showland": true,
           "subunitcolor": "white"
          },
          "hoverlabel": {
           "align": "left"
          },
          "hovermode": "closest",
          "mapbox": {
           "style": "light"
          },
          "paper_bgcolor": "white",
          "plot_bgcolor": "#E5ECF6",
          "polar": {
           "angularaxis": {
            "gridcolor": "white",
            "linecolor": "white",
            "ticks": ""
           },
           "bgcolor": "#E5ECF6",
           "radialaxis": {
            "gridcolor": "white",
            "linecolor": "white",
            "ticks": ""
           }
          },
          "scene": {
           "xaxis": {
            "backgroundcolor": "#E5ECF6",
            "gridcolor": "white",
            "gridwidth": 2,
            "linecolor": "white",
            "showbackground": true,
            "ticks": "",
            "zerolinecolor": "white"
           },
           "yaxis": {
            "backgroundcolor": "#E5ECF6",
            "gridcolor": "white",
            "gridwidth": 2,
            "linecolor": "white",
            "showbackground": true,
            "ticks": "",
            "zerolinecolor": "white"
           },
           "zaxis": {
            "backgroundcolor": "#E5ECF6",
            "gridcolor": "white",
            "gridwidth": 2,
            "linecolor": "white",
            "showbackground": true,
            "ticks": "",
            "zerolinecolor": "white"
           }
          },
          "shapedefaults": {
           "line": {
            "color": "#2a3f5f"
           }
          },
          "ternary": {
           "aaxis": {
            "gridcolor": "white",
            "linecolor": "white",
            "ticks": ""
           },
           "baxis": {
            "gridcolor": "white",
            "linecolor": "white",
            "ticks": ""
           },
           "bgcolor": "#E5ECF6",
           "caxis": {
            "gridcolor": "white",
            "linecolor": "white",
            "ticks": ""
           }
          },
          "title": {
           "x": 0.05
          },
          "xaxis": {
           "automargin": true,
           "gridcolor": "white",
           "linecolor": "white",
           "ticks": "",
           "zerolinecolor": "white",
           "zerolinewidth": 2
          },
          "yaxis": {
           "automargin": true,
           "gridcolor": "white",
           "linecolor": "white",
           "ticks": "",
           "zerolinecolor": "white",
           "zerolinewidth": 2
          }
         }
        },
        "title": {
         "text": "Video residual plot of Group 1"
        }
       }
      },
      "text/html": [
       "<div>\n",
       "        \n",
       "        \n",
       "            <div id=\"242fb7a8-9c6d-418b-a729-c200918873a3\" class=\"plotly-graph-div\" style=\"height:525px; width:100%;\"></div>\n",
       "            <script type=\"text/javascript\">\n",
       "                require([\"plotly\"], function(Plotly) {\n",
       "                    window.PLOTLYENV=window.PLOTLYENV || {};\n",
       "                    \n",
       "                if (document.getElementById(\"242fb7a8-9c6d-418b-a729-c200918873a3\")) {\n",
       "                    Plotly.newPlot(\n",
       "                        '242fb7a8-9c6d-418b-a729-c200918873a3',\n",
       "                        [{\"marker\": {\"color\": [-29513546.787037034, 80193600.20416668, 93096376.4247312, -21229154.166666664, -35612531.48888888, -26045459.67682927, -1786378.9020833299, -24097423.951111104, -30270508.55357143, -24799704.277777776, -5560488.682539679, 3604932.4942528717, -4570649.453333329, 7950400.523809519, 95856411.22446236, -21836419.0, -20048002.45588236, -17246060.239583336, -4756534.5, 169187129.15833333, -7429889.455882359, -16539952.56751056, -12090362.636029419, 78527068.19583333, 2799001.7004219405, 8303638.461711718, 104785869.26436782, 4019121.848958332, -16150865.791297939, 5635342.069148939, -34451305.57107842, -32830801.1483918, 27790186.44444444, 9523025.05789474, 34232736.86904762, 7652021.349537034, -23146170.346491218, 2246774.1150793657, -13595967.560773484, -20891034.483766228, -21590648.18827161, -16019502.468181811, -19538316.18910257, -8617746.186868688, -47211760.91465863, -17114344.56209151, -25187952.26883562, -24758339.659090906, -26269025.500000004, 932158.800724633, -19981793.31127451, -41956285.6476378, -25516709.707446802, -18915594.524572648, -22396192.7838983, -15737283.30803572, -8367817.703030299, -9088652.141472865, -15372497.599780701, -17084079.56881721, -11115304.16875001, -21803364.19528112, 11011269.916666664, -5330822.696078431, 14159081.015151523, 4497985.197278917, -6568843.15616798, -19849254.04545454, -7890567.52380953, 7598160.77536232, -14267812.46604938, -5116391.232558146, -27011739.28440367, -10557694.18085106, -16254044.19627193, -36109757.86827956, -19176601.314102564, -12767885.098348346, -12568629.930735923, -5201723.578767121, -16721734.353333332, -13288509.008771932, -17916478.416666668, -19531260.651162792, -33408706.609375, -31581991.885416664, 31151352.60444445, 77713858.74609375, -18781306.875, -25191230.826666664, -17321347.899122808, -21566444.309523806, -18856150.937500007, 22258768.62681159, 35249898.52666667, 90578877.75868058, 129802657.8238636, -19108348.38513513, -18951837.144736845, 1783143.6532258056, -25556434.943486586, -31352715.86507938]}, \"mode\": \"markers\", \"text\": [\"O Brother, Where Art Thou?\", \"The Twilight Saga: Breaking Dawn Part 1\", \"The Twilight Saga: Breaking Dawn Part 2\", \"Helena From the Wedding\", \"Monsters\", \"Catfish\", \"Red\", \"Freakonomics\", \"The Warrior's Way\", \"Stone\", \"Frankenweenie\", \"John Carter\", \"Dolphin Tale\", \"Penguins of Madagascar\", \"Minions\", \"Proud American\", \"Edmond\", \"Tootsie\", \"Waterworld\", \"The Lion King (2019)\", \"Crawl\", \"Stuber\", \"Midsommar\", \"Spider-Man: Far from Home\", \"Yesterday\", \"Annabelle Comes Home\", \"Toy Story 4\", \"Child's Play (2019)\", \"Anna (2019)\", \"Men in Black International\", \"Shaft (2019)\\u00a0\", \"Late Night\", \"The Secret Life of Pets 2\", \"Dark Phoenix\", \"Godzilla:King of the Monsters\", \"Rocketman\", \"Return of the Jedi\", \"Indiana Jones and the Temple of Doom\", \"The Idolmaker\", \"The Grass Harp\", \"The Grand\", \"Jaws\", \"Superman (1978)\", \"Clerks\", \"Juice\", \"He Got Game\", \"White Men Can't Jump\", \"Mulholland Drive\", \"Blue Velvet\", \"Once Upon a Time in Hollywood\", \"The Big Lebowski\", \"Train to Busan\", \"Pride and Prejudice and Zombies\", \"Dead Poets Society\", \"A Fish Called Wanda\", \"The Witches of Eastwick\", \"Ferris Bueller's Day Off\", \"Back to the Future\", \"Police Academy\", \"Trading Places\", \"Star Trek II The Wrath of Khan\", \"The Blues Brothers\", \"V For Vendetta\", \"In the Line of Fire\", \"Us\", \"The Forbidden Kingdom\", \"Rumble in the Bronx\", \"Machete\", \"Beverly Hills Cop\", \"Watchmen\", \"Jackie Brown\", \"Zombieland\", \"Mo Better Blues\", \"Thelma and Louise\", \"New Jack City\", \"The Lawnmower Man\", \"Schindler's List\", \"Four Weddings and a Funeral\", \"Get Shorty\", \"Jerry Maguire\", \"Welcome to Sarajevo\", \"Trojan War\", \"The Gingerbread Man\", \"Tumbleweeds\", \"Turn it up\", \"The Adventures of Pluto Nash\", \"The Lord of the Rings: The Return of the King\", \"Harry Potter and the Prisoner of Azkaban\", \"Stay\", \"Fast Food Nation\", \"Into the Wild\", \"The Wrestler\", \"Slumdog Millionaire\", \"Jackass 3-D\", \"Skyfall\", \"The Hunger Games: Mocking Jay - Part 1\", \"Jurassic World\", \"Shut In\", \"Molly's Game\", \"Peter Rabbit\", \"BlacKkKlansman\", \"Replicas\"], \"type\": \"scatter\", \"x\": [\"O Brother, Where Art Thou?\", \"The Twilight Saga: Breaking Dawn Part 1\", \"The Twilight Saga: Breaking Dawn Part 2\", \"Helena From the Wedding\", \"Monsters\", \"Catfish\", \"Red\", \"Freakonomics\", \"The Warrior's Way\", \"Stone\", \"Frankenweenie\", \"John Carter\", \"Dolphin Tale\", \"Penguins of Madagascar\", \"Minions\", \"Proud American\", \"Edmond\", \"Tootsie\", \"Waterworld\", \"The Lion King (2019)\", \"Crawl\", \"Stuber\", \"Midsommar\", \"Spider-Man: Far from Home\", \"Yesterday\", \"Annabelle Comes Home\", \"Toy Story 4\", \"Child's Play (2019)\", \"Anna (2019)\", \"Men in Black International\", \"Shaft (2019)\\u00a0\", \"Late Night\", \"The Secret Life of Pets 2\", \"Dark Phoenix\", \"Godzilla:King of the Monsters\", \"Rocketman\", \"Return of the Jedi\", \"Indiana Jones and the Temple of Doom\", \"The Idolmaker\", \"The Grass Harp\", \"The Grand\", \"Jaws\", \"Superman (1978)\", \"Clerks\", \"Juice\", \"He Got Game\", \"White Men Can't Jump\", \"Mulholland Drive\", \"Blue Velvet\", \"Once Upon a Time in Hollywood\", \"The Big Lebowski\", \"Train to Busan\", \"Pride and Prejudice and Zombies\", \"Dead Poets Society\", \"A Fish Called Wanda\", \"The Witches of Eastwick\", \"Ferris Bueller's Day Off\", \"Back to the Future\", \"Police Academy\", \"Trading Places\", \"Star Trek II The Wrath of Khan\", \"The Blues Brothers\", \"V For Vendetta\", \"In the Line of Fire\", \"Us\", \"The Forbidden Kingdom\", \"Rumble in the Bronx\", \"Machete\", \"Beverly Hills Cop\", \"Watchmen\", \"Jackie Brown\", \"Zombieland\", \"Mo Better Blues\", \"Thelma and Louise\", \"New Jack City\", \"The Lawnmower Man\", \"Schindler's List\", \"Four Weddings and a Funeral\", \"Get Shorty\", \"Jerry Maguire\", \"Welcome to Sarajevo\", \"Trojan War\", \"The Gingerbread Man\", \"Tumbleweeds\", \"Turn it up\", \"The Adventures of Pluto Nash\", \"The Lord of the Rings: The Return of the King\", \"Harry Potter and the Prisoner of Azkaban\", \"Stay\", \"Fast Food Nation\", \"Into the Wild\", \"The Wrestler\", \"Slumdog Millionaire\", \"Jackass 3-D\", \"Skyfall\", \"The Hunger Games: Mocking Jay - Part 1\", \"Jurassic World\", \"Shut In\", \"Molly's Game\", \"Peter Rabbit\", \"BlacKkKlansman\", \"Replicas\"], \"y\": [-29513546.787037034, 80193600.20416668, 93096376.4247312, -21229154.166666664, -35612531.48888888, -26045459.67682927, -1786378.9020833299, -24097423.951111104, -30270508.55357143, -24799704.277777776, -5560488.682539679, 3604932.4942528717, -4570649.453333329, 7950400.523809519, 95856411.22446236, -21836419.0, -20048002.45588236, -17246060.239583336, -4756534.5, 169187129.15833333, -7429889.455882359, -16539952.56751056, -12090362.636029419, 78527068.19583333, 2799001.7004219405, 8303638.461711718, 104785869.26436782, 4019121.848958332, -16150865.791297939, 5635342.069148939, -34451305.57107842, -32830801.1483918, 27790186.44444444, 9523025.05789474, 34232736.86904762, 7652021.349537034, -23146170.346491218, 2246774.1150793657, -13595967.560773484, -20891034.483766228, -21590648.18827161, -16019502.468181811, -19538316.18910257, -8617746.186868688, -47211760.91465863, -17114344.56209151, -25187952.26883562, -24758339.659090906, -26269025.500000004, 932158.800724633, -19981793.31127451, -41956285.6476378, -25516709.707446802, -18915594.524572648, -22396192.7838983, -15737283.30803572, -8367817.703030299, -9088652.141472865, -15372497.599780701, -17084079.56881721, -11115304.16875001, -21803364.19528112, 11011269.916666664, -5330822.696078431, 14159081.015151523, 4497985.197278917, -6568843.15616798, -19849254.04545454, -7890567.52380953, 7598160.77536232, -14267812.46604938, -5116391.232558146, -27011739.28440367, -10557694.18085106, -16254044.19627193, -36109757.86827956, -19176601.314102564, -12767885.098348346, -12568629.930735923, -5201723.578767121, -16721734.353333332, -13288509.008771932, -17916478.416666668, -19531260.651162792, -33408706.609375, -31581991.885416664, 31151352.60444445, 77713858.74609375, -18781306.875, -25191230.826666664, -17321347.899122808, -21566444.309523806, -18856150.937500007, 22258768.62681159, 35249898.52666667, 90578877.75868058, 129802657.8238636, -19108348.38513513, -18951837.144736845, 1783143.6532258056, -25556434.943486586, -31352715.86507938]}],\n",
       "                        {\"template\": {\"data\": {\"bar\": [{\"error_x\": {\"color\": \"#2a3f5f\"}, \"error_y\": {\"color\": \"#2a3f5f\"}, \"marker\": {\"line\": {\"color\": \"#E5ECF6\", \"width\": 0.5}}, \"type\": \"bar\"}], \"barpolar\": [{\"marker\": {\"line\": {\"color\": \"#E5ECF6\", \"width\": 0.5}}, \"type\": \"barpolar\"}], \"carpet\": [{\"aaxis\": {\"endlinecolor\": \"#2a3f5f\", \"gridcolor\": \"white\", \"linecolor\": \"white\", \"minorgridcolor\": \"white\", \"startlinecolor\": \"#2a3f5f\"}, \"baxis\": {\"endlinecolor\": \"#2a3f5f\", \"gridcolor\": \"white\", \"linecolor\": \"white\", \"minorgridcolor\": \"white\", \"startlinecolor\": \"#2a3f5f\"}, \"type\": \"carpet\"}], \"choropleth\": [{\"colorbar\": {\"outlinewidth\": 0, \"ticks\": \"\"}, \"type\": \"choropleth\"}], \"contour\": [{\"colorbar\": {\"outlinewidth\": 0, \"ticks\": \"\"}, \"colorscale\": [[0.0, \"#0d0887\"], [0.1111111111111111, \"#46039f\"], [0.2222222222222222, \"#7201a8\"], [0.3333333333333333, \"#9c179e\"], [0.4444444444444444, \"#bd3786\"], [0.5555555555555556, \"#d8576b\"], [0.6666666666666666, \"#ed7953\"], [0.7777777777777778, \"#fb9f3a\"], [0.8888888888888888, \"#fdca26\"], [1.0, \"#f0f921\"]], \"type\": \"contour\"}], \"contourcarpet\": [{\"colorbar\": {\"outlinewidth\": 0, \"ticks\": \"\"}, \"type\": \"contourcarpet\"}], \"heatmap\": [{\"colorbar\": {\"outlinewidth\": 0, \"ticks\": \"\"}, \"colorscale\": [[0.0, \"#0d0887\"], [0.1111111111111111, \"#46039f\"], [0.2222222222222222, \"#7201a8\"], [0.3333333333333333, \"#9c179e\"], [0.4444444444444444, \"#bd3786\"], [0.5555555555555556, \"#d8576b\"], [0.6666666666666666, \"#ed7953\"], [0.7777777777777778, \"#fb9f3a\"], [0.8888888888888888, \"#fdca26\"], [1.0, \"#f0f921\"]], \"type\": \"heatmap\"}], \"heatmapgl\": [{\"colorbar\": {\"outlinewidth\": 0, \"ticks\": \"\"}, \"colorscale\": [[0.0, \"#0d0887\"], [0.1111111111111111, \"#46039f\"], [0.2222222222222222, \"#7201a8\"], [0.3333333333333333, \"#9c179e\"], [0.4444444444444444, \"#bd3786\"], [0.5555555555555556, \"#d8576b\"], [0.6666666666666666, \"#ed7953\"], [0.7777777777777778, \"#fb9f3a\"], [0.8888888888888888, \"#fdca26\"], [1.0, \"#f0f921\"]], \"type\": \"heatmapgl\"}], \"histogram\": [{\"marker\": {\"colorbar\": {\"outlinewidth\": 0, \"ticks\": \"\"}}, \"type\": \"histogram\"}], \"histogram2d\": [{\"colorbar\": {\"outlinewidth\": 0, \"ticks\": \"\"}, \"colorscale\": [[0.0, \"#0d0887\"], [0.1111111111111111, \"#46039f\"], [0.2222222222222222, \"#7201a8\"], [0.3333333333333333, \"#9c179e\"], [0.4444444444444444, \"#bd3786\"], [0.5555555555555556, \"#d8576b\"], [0.6666666666666666, \"#ed7953\"], [0.7777777777777778, \"#fb9f3a\"], [0.8888888888888888, \"#fdca26\"], [1.0, \"#f0f921\"]], \"type\": \"histogram2d\"}], \"histogram2dcontour\": [{\"colorbar\": {\"outlinewidth\": 0, \"ticks\": \"\"}, \"colorscale\": [[0.0, \"#0d0887\"], [0.1111111111111111, \"#46039f\"], [0.2222222222222222, \"#7201a8\"], [0.3333333333333333, \"#9c179e\"], [0.4444444444444444, \"#bd3786\"], [0.5555555555555556, \"#d8576b\"], [0.6666666666666666, \"#ed7953\"], [0.7777777777777778, \"#fb9f3a\"], [0.8888888888888888, \"#fdca26\"], [1.0, \"#f0f921\"]], \"type\": \"histogram2dcontour\"}], \"mesh3d\": [{\"colorbar\": {\"outlinewidth\": 0, \"ticks\": \"\"}, \"type\": \"mesh3d\"}], \"parcoords\": [{\"line\": {\"colorbar\": {\"outlinewidth\": 0, \"ticks\": \"\"}}, \"type\": \"parcoords\"}], \"scatter\": [{\"marker\": {\"colorbar\": {\"outlinewidth\": 0, \"ticks\": \"\"}}, \"type\": \"scatter\"}], \"scatter3d\": [{\"line\": {\"colorbar\": {\"outlinewidth\": 0, \"ticks\": \"\"}}, \"marker\": {\"colorbar\": {\"outlinewidth\": 0, \"ticks\": \"\"}}, \"type\": \"scatter3d\"}], \"scattercarpet\": [{\"marker\": {\"colorbar\": {\"outlinewidth\": 0, \"ticks\": \"\"}}, \"type\": \"scattercarpet\"}], \"scattergeo\": [{\"marker\": {\"colorbar\": {\"outlinewidth\": 0, \"ticks\": \"\"}}, \"type\": \"scattergeo\"}], \"scattergl\": [{\"marker\": {\"colorbar\": {\"outlinewidth\": 0, \"ticks\": \"\"}}, \"type\": \"scattergl\"}], \"scattermapbox\": [{\"marker\": {\"colorbar\": {\"outlinewidth\": 0, \"ticks\": \"\"}}, \"type\": \"scattermapbox\"}], \"scatterpolar\": [{\"marker\": {\"colorbar\": {\"outlinewidth\": 0, \"ticks\": \"\"}}, \"type\": \"scatterpolar\"}], \"scatterpolargl\": [{\"marker\": {\"colorbar\": {\"outlinewidth\": 0, \"ticks\": \"\"}}, \"type\": \"scatterpolargl\"}], \"scatterternary\": [{\"marker\": {\"colorbar\": {\"outlinewidth\": 0, \"ticks\": \"\"}}, \"type\": \"scatterternary\"}], \"surface\": [{\"colorbar\": {\"outlinewidth\": 0, \"ticks\": \"\"}, \"colorscale\": [[0.0, \"#0d0887\"], [0.1111111111111111, \"#46039f\"], [0.2222222222222222, \"#7201a8\"], [0.3333333333333333, \"#9c179e\"], [0.4444444444444444, \"#bd3786\"], [0.5555555555555556, \"#d8576b\"], [0.6666666666666666, \"#ed7953\"], [0.7777777777777778, \"#fb9f3a\"], [0.8888888888888888, \"#fdca26\"], [1.0, \"#f0f921\"]], \"type\": \"surface\"}], \"table\": [{\"cells\": {\"fill\": {\"color\": \"#EBF0F8\"}, \"line\": {\"color\": \"white\"}}, \"header\": {\"fill\": {\"color\": \"#C8D4E3\"}, \"line\": {\"color\": \"white\"}}, \"type\": \"table\"}]}, \"layout\": {\"annotationdefaults\": {\"arrowcolor\": \"#2a3f5f\", \"arrowhead\": 0, \"arrowwidth\": 1}, \"colorscale\": {\"diverging\": [[0, \"#8e0152\"], [0.1, \"#c51b7d\"], [0.2, \"#de77ae\"], [0.3, \"#f1b6da\"], [0.4, \"#fde0ef\"], [0.5, \"#f7f7f7\"], [0.6, \"#e6f5d0\"], [0.7, \"#b8e186\"], [0.8, \"#7fbc41\"], [0.9, \"#4d9221\"], [1, \"#276419\"]], \"sequential\": [[0.0, \"#0d0887\"], [0.1111111111111111, \"#46039f\"], [0.2222222222222222, \"#7201a8\"], [0.3333333333333333, \"#9c179e\"], [0.4444444444444444, \"#bd3786\"], [0.5555555555555556, \"#d8576b\"], [0.6666666666666666, \"#ed7953\"], [0.7777777777777778, \"#fb9f3a\"], [0.8888888888888888, \"#fdca26\"], [1.0, \"#f0f921\"]], \"sequentialminus\": [[0.0, \"#0d0887\"], [0.1111111111111111, \"#46039f\"], [0.2222222222222222, \"#7201a8\"], [0.3333333333333333, \"#9c179e\"], [0.4444444444444444, \"#bd3786\"], [0.5555555555555556, \"#d8576b\"], [0.6666666666666666, \"#ed7953\"], [0.7777777777777778, \"#fb9f3a\"], [0.8888888888888888, \"#fdca26\"], [1.0, \"#f0f921\"]]}, \"colorway\": [\"#636efa\", \"#EF553B\", \"#00cc96\", \"#ab63fa\", \"#FFA15A\", \"#19d3f3\", \"#FF6692\", \"#B6E880\", \"#FF97FF\", \"#FECB52\"], \"font\": {\"color\": \"#2a3f5f\"}, \"geo\": {\"bgcolor\": \"white\", \"lakecolor\": \"white\", \"landcolor\": \"#E5ECF6\", \"showlakes\": true, \"showland\": true, \"subunitcolor\": \"white\"}, \"hoverlabel\": {\"align\": \"left\"}, \"hovermode\": \"closest\", \"mapbox\": {\"style\": \"light\"}, \"paper_bgcolor\": \"white\", \"plot_bgcolor\": \"#E5ECF6\", \"polar\": {\"angularaxis\": {\"gridcolor\": \"white\", \"linecolor\": \"white\", \"ticks\": \"\"}, \"bgcolor\": \"#E5ECF6\", \"radialaxis\": {\"gridcolor\": \"white\", \"linecolor\": \"white\", \"ticks\": \"\"}}, \"scene\": {\"xaxis\": {\"backgroundcolor\": \"#E5ECF6\", \"gridcolor\": \"white\", \"gridwidth\": 2, \"linecolor\": \"white\", \"showbackground\": true, \"ticks\": \"\", \"zerolinecolor\": \"white\"}, \"yaxis\": {\"backgroundcolor\": \"#E5ECF6\", \"gridcolor\": \"white\", \"gridwidth\": 2, \"linecolor\": \"white\", \"showbackground\": true, \"ticks\": \"\", \"zerolinecolor\": \"white\"}, \"zaxis\": {\"backgroundcolor\": \"#E5ECF6\", \"gridcolor\": \"white\", \"gridwidth\": 2, \"linecolor\": \"white\", \"showbackground\": true, \"ticks\": \"\", \"zerolinecolor\": \"white\"}}, \"shapedefaults\": {\"line\": {\"color\": \"#2a3f5f\"}}, \"ternary\": {\"aaxis\": {\"gridcolor\": \"white\", \"linecolor\": \"white\", \"ticks\": \"\"}, \"baxis\": {\"gridcolor\": \"white\", \"linecolor\": \"white\", \"ticks\": \"\"}, \"bgcolor\": \"#E5ECF6\", \"caxis\": {\"gridcolor\": \"white\", \"linecolor\": \"white\", \"ticks\": \"\"}}, \"title\": {\"x\": 0.05}, \"xaxis\": {\"automargin\": true, \"gridcolor\": \"white\", \"linecolor\": \"white\", \"ticks\": \"\", \"zerolinecolor\": \"white\", \"zerolinewidth\": 2}, \"yaxis\": {\"automargin\": true, \"gridcolor\": \"white\", \"linecolor\": \"white\", \"ticks\": \"\", \"zerolinecolor\": \"white\", \"zerolinewidth\": 2}}}, \"title\": {\"text\": \"Video residual plot of Group 1\"}},\n",
       "                        {\"responsive\": true}\n",
       "                    ).then(function(){\n",
       "                            \n",
       "var gd = document.getElementById('242fb7a8-9c6d-418b-a729-c200918873a3');\n",
       "var x = new MutationObserver(function (mutations, observer) {{\n",
       "        var display = window.getComputedStyle(gd).display;\n",
       "        if (!display || display === 'none') {{\n",
       "            console.log([gd, 'removed!']);\n",
       "            Plotly.purge(gd);\n",
       "            observer.disconnect();\n",
       "        }}\n",
       "}});\n",
       "\n",
       "// Listen for the removal of the full notebook cells\n",
       "var notebookContainer = gd.closest('#notebook-container');\n",
       "if (notebookContainer) {{\n",
       "    x.observe(notebookContainer, {childList: true});\n",
       "}}\n",
       "\n",
       "// Listen for the clearing of the current output cell\n",
       "var outputEl = gd.closest('.output');\n",
       "if (outputEl) {{\n",
       "    x.observe(outputEl, {childList: true});\n",
       "}}\n",
       "\n",
       "                        })\n",
       "                };\n",
       "                });\n",
       "            </script>\n",
       "        </div>"
      ]
     },
     "metadata": {},
     "output_type": "display_data"
    }
   ],
   "source": [
    "# Residual plot for video information\n",
    "\n",
    "g1_result_final[\"video_residuals\"] = g1_result_final[\"ground_truth\"] - g1_result_final[\"pred_video\"]\n",
    "\n",
    "fig = go.Figure(data=go.Scatter(x=g1_result_final[\"name\"],\n",
    "                                y=g1_result_final[\"video_residuals\"],\n",
    "                                mode='markers',\n",
    "                                marker_color=g1_result_final[\"video_residuals\"],\n",
    "                                text=g1_result_final[\"name\"])) # hover text goes here(movie_title)\n",
    "\n",
    "fig.update_layout(title='Video residual plot of Group 1')\n",
    "fig.show()"
   ]
  },
  {
   "cell_type": "code",
   "execution_count": 42,
   "metadata": {},
   "outputs": [
    {
     "name": "stdout",
     "output_type": "stream",
     "text": [
      "Test RMSE for meta prediction of Group 1 = 28888342.58686307.\n",
      "Test RMSE for video prediction of Group 1 = 37023059.12633596.\n"
     ]
    }
   ],
   "source": [
    "import numpy as np\n",
    "# rmse \n",
    "%matplotlib inline\n",
    "import matplotlib\n",
    "import matplotlib.pyplot as plt\n",
    "import seaborn as sns\n",
    "\n",
    "from pandas import Series,DataFrame\n",
    "\n",
    "def rmse(predictions, targets):\n",
    "    return np.sqrt(((predictions - targets) ** 2).mean())\n",
    "test_error_1 = []\n",
    "#Meta rmse \n",
    "test_error_1.append(rmse(g1_result_final[\"pred_meta_3\"], g1_result_final[\"ground_truth\"]))\n",
    "\n",
    "#Video rmse \n",
    "test_error_1.append(rmse(g1_result_final[\"pred_video\"], g1_result_final[\"ground_truth\"]))\n",
    "\n",
    "print(\"Test RMSE for meta prediction of Group 1 = \"'{}'.format(test_error_1[0])+\".\")\n",
    "print(\"Test RMSE for video prediction of Group 1 = \"'{}'.format(test_error_1[1])+\".\")"
   ]
  },
  {
   "cell_type": "code",
   "execution_count": 43,
   "metadata": {},
   "outputs": [
    {
     "name": "stdout",
     "output_type": "stream",
     "text": [
      "Spearman coefficient for meta prediction of Group 1 = 0.6582904769874289.\n",
      "Pearson coefficient for meta prediction of Group 1 = 0.6582904769874289.\n",
      "Spearman coefficient for video prediction of Group 1 = 0.16653001679379817.\n",
      "Pearson coefficient for video prediction of Group 1 = 0.4152797181838789.\n"
     ]
    }
   ],
   "source": [
    "#correlation coefficient \n",
    "#df = pd.DataFrame({'A':[5,91,3],'B':[90,15,66]})\n",
    "#co_df = pd.DataFrame({result_meta_data[\"openingBox\"], result_meta_data[\"prediction\"]})\n",
    "meta_spearman_co = g1_result_final[\"ground_truth\"].corr(g1_result_final[\"pred_meta_3\"], method='spearman')\n",
    "print(\"Spearman coefficient for meta prediction of Group 1 = \"'{}'.format(meta_spearman_co)+\".\")\n",
    "\n",
    "meta_pearson_co = g1_result_final[\"ground_truth\"].corr(g1_result_final[\"pred_meta_3\"], method='pearson')\n",
    "print(\"Pearson coefficient for meta prediction of Group 1 = \"'{}'.format(meta_spearman_co)+\".\")\n",
    "\n",
    "video_spearman_co = g1_result_final[\"ground_truth\"].corr(g1_result_final[\"pred_video\"], method='spearman')\n",
    "print(\"Spearman coefficient for video prediction of Group 1 = \"'{}'.format(video_spearman_co)+\".\")\n",
    "\n",
    "video_pearson_co = g1_result_final[\"ground_truth\"].corr(g1_result_final[\"pred_video\"], method='pearson')\n",
    "print(\"Pearson coefficient for video prediction of Group 1 = \"'{}'.format(video_pearson_co)+\".\")\n"
   ]
  },
  {
   "cell_type": "code",
   "execution_count": 44,
   "metadata": {},
   "outputs": [
    {
     "data": {
      "application/vnd.plotly.v1+json": {
       "config": {
        "plotlyServerURL": "https://plot.ly"
       },
       "data": [
        {
         "fill": "toself",
         "r": [
          3.291452384937145,
          0.8326500839689909,
          1.4501348256547435,
          0.16322921897962805
         ],
         "theta": [
          "Spearman coefficient for meta prediction",
          "Spearman coefficient for video prediction",
          "RMSE for meta prediction",
          "Median for Percentage of error for meta prediction "
         ],
         "type": "scatterpolar"
        }
       ],
       "layout": {
        "polar": {
         "radialaxis": {
          "visible": true
         }
        },
        "showlegend": false,
        "template": {
         "data": {
          "bar": [
           {
            "error_x": {
             "color": "#2a3f5f"
            },
            "error_y": {
             "color": "#2a3f5f"
            },
            "marker": {
             "line": {
              "color": "#E5ECF6",
              "width": 0.5
             }
            },
            "type": "bar"
           }
          ],
          "barpolar": [
           {
            "marker": {
             "line": {
              "color": "#E5ECF6",
              "width": 0.5
             }
            },
            "type": "barpolar"
           }
          ],
          "carpet": [
           {
            "aaxis": {
             "endlinecolor": "#2a3f5f",
             "gridcolor": "white",
             "linecolor": "white",
             "minorgridcolor": "white",
             "startlinecolor": "#2a3f5f"
            },
            "baxis": {
             "endlinecolor": "#2a3f5f",
             "gridcolor": "white",
             "linecolor": "white",
             "minorgridcolor": "white",
             "startlinecolor": "#2a3f5f"
            },
            "type": "carpet"
           }
          ],
          "choropleth": [
           {
            "colorbar": {
             "outlinewidth": 0,
             "ticks": ""
            },
            "type": "choropleth"
           }
          ],
          "contour": [
           {
            "colorbar": {
             "outlinewidth": 0,
             "ticks": ""
            },
            "colorscale": [
             [
              0,
              "#0d0887"
             ],
             [
              0.1111111111111111,
              "#46039f"
             ],
             [
              0.2222222222222222,
              "#7201a8"
             ],
             [
              0.3333333333333333,
              "#9c179e"
             ],
             [
              0.4444444444444444,
              "#bd3786"
             ],
             [
              0.5555555555555556,
              "#d8576b"
             ],
             [
              0.6666666666666666,
              "#ed7953"
             ],
             [
              0.7777777777777778,
              "#fb9f3a"
             ],
             [
              0.8888888888888888,
              "#fdca26"
             ],
             [
              1,
              "#f0f921"
             ]
            ],
            "type": "contour"
           }
          ],
          "contourcarpet": [
           {
            "colorbar": {
             "outlinewidth": 0,
             "ticks": ""
            },
            "type": "contourcarpet"
           }
          ],
          "heatmap": [
           {
            "colorbar": {
             "outlinewidth": 0,
             "ticks": ""
            },
            "colorscale": [
             [
              0,
              "#0d0887"
             ],
             [
              0.1111111111111111,
              "#46039f"
             ],
             [
              0.2222222222222222,
              "#7201a8"
             ],
             [
              0.3333333333333333,
              "#9c179e"
             ],
             [
              0.4444444444444444,
              "#bd3786"
             ],
             [
              0.5555555555555556,
              "#d8576b"
             ],
             [
              0.6666666666666666,
              "#ed7953"
             ],
             [
              0.7777777777777778,
              "#fb9f3a"
             ],
             [
              0.8888888888888888,
              "#fdca26"
             ],
             [
              1,
              "#f0f921"
             ]
            ],
            "type": "heatmap"
           }
          ],
          "heatmapgl": [
           {
            "colorbar": {
             "outlinewidth": 0,
             "ticks": ""
            },
            "colorscale": [
             [
              0,
              "#0d0887"
             ],
             [
              0.1111111111111111,
              "#46039f"
             ],
             [
              0.2222222222222222,
              "#7201a8"
             ],
             [
              0.3333333333333333,
              "#9c179e"
             ],
             [
              0.4444444444444444,
              "#bd3786"
             ],
             [
              0.5555555555555556,
              "#d8576b"
             ],
             [
              0.6666666666666666,
              "#ed7953"
             ],
             [
              0.7777777777777778,
              "#fb9f3a"
             ],
             [
              0.8888888888888888,
              "#fdca26"
             ],
             [
              1,
              "#f0f921"
             ]
            ],
            "type": "heatmapgl"
           }
          ],
          "histogram": [
           {
            "marker": {
             "colorbar": {
              "outlinewidth": 0,
              "ticks": ""
             }
            },
            "type": "histogram"
           }
          ],
          "histogram2d": [
           {
            "colorbar": {
             "outlinewidth": 0,
             "ticks": ""
            },
            "colorscale": [
             [
              0,
              "#0d0887"
             ],
             [
              0.1111111111111111,
              "#46039f"
             ],
             [
              0.2222222222222222,
              "#7201a8"
             ],
             [
              0.3333333333333333,
              "#9c179e"
             ],
             [
              0.4444444444444444,
              "#bd3786"
             ],
             [
              0.5555555555555556,
              "#d8576b"
             ],
             [
              0.6666666666666666,
              "#ed7953"
             ],
             [
              0.7777777777777778,
              "#fb9f3a"
             ],
             [
              0.8888888888888888,
              "#fdca26"
             ],
             [
              1,
              "#f0f921"
             ]
            ],
            "type": "histogram2d"
           }
          ],
          "histogram2dcontour": [
           {
            "colorbar": {
             "outlinewidth": 0,
             "ticks": ""
            },
            "colorscale": [
             [
              0,
              "#0d0887"
             ],
             [
              0.1111111111111111,
              "#46039f"
             ],
             [
              0.2222222222222222,
              "#7201a8"
             ],
             [
              0.3333333333333333,
              "#9c179e"
             ],
             [
              0.4444444444444444,
              "#bd3786"
             ],
             [
              0.5555555555555556,
              "#d8576b"
             ],
             [
              0.6666666666666666,
              "#ed7953"
             ],
             [
              0.7777777777777778,
              "#fb9f3a"
             ],
             [
              0.8888888888888888,
              "#fdca26"
             ],
             [
              1,
              "#f0f921"
             ]
            ],
            "type": "histogram2dcontour"
           }
          ],
          "mesh3d": [
           {
            "colorbar": {
             "outlinewidth": 0,
             "ticks": ""
            },
            "type": "mesh3d"
           }
          ],
          "parcoords": [
           {
            "line": {
             "colorbar": {
              "outlinewidth": 0,
              "ticks": ""
             }
            },
            "type": "parcoords"
           }
          ],
          "scatter": [
           {
            "marker": {
             "colorbar": {
              "outlinewidth": 0,
              "ticks": ""
             }
            },
            "type": "scatter"
           }
          ],
          "scatter3d": [
           {
            "line": {
             "colorbar": {
              "outlinewidth": 0,
              "ticks": ""
             }
            },
            "marker": {
             "colorbar": {
              "outlinewidth": 0,
              "ticks": ""
             }
            },
            "type": "scatter3d"
           }
          ],
          "scattercarpet": [
           {
            "marker": {
             "colorbar": {
              "outlinewidth": 0,
              "ticks": ""
             }
            },
            "type": "scattercarpet"
           }
          ],
          "scattergeo": [
           {
            "marker": {
             "colorbar": {
              "outlinewidth": 0,
              "ticks": ""
             }
            },
            "type": "scattergeo"
           }
          ],
          "scattergl": [
           {
            "marker": {
             "colorbar": {
              "outlinewidth": 0,
              "ticks": ""
             }
            },
            "type": "scattergl"
           }
          ],
          "scattermapbox": [
           {
            "marker": {
             "colorbar": {
              "outlinewidth": 0,
              "ticks": ""
             }
            },
            "type": "scattermapbox"
           }
          ],
          "scatterpolar": [
           {
            "marker": {
             "colorbar": {
              "outlinewidth": 0,
              "ticks": ""
             }
            },
            "type": "scatterpolar"
           }
          ],
          "scatterpolargl": [
           {
            "marker": {
             "colorbar": {
              "outlinewidth": 0,
              "ticks": ""
             }
            },
            "type": "scatterpolargl"
           }
          ],
          "scatterternary": [
           {
            "marker": {
             "colorbar": {
              "outlinewidth": 0,
              "ticks": ""
             }
            },
            "type": "scatterternary"
           }
          ],
          "surface": [
           {
            "colorbar": {
             "outlinewidth": 0,
             "ticks": ""
            },
            "colorscale": [
             [
              0,
              "#0d0887"
             ],
             [
              0.1111111111111111,
              "#46039f"
             ],
             [
              0.2222222222222222,
              "#7201a8"
             ],
             [
              0.3333333333333333,
              "#9c179e"
             ],
             [
              0.4444444444444444,
              "#bd3786"
             ],
             [
              0.5555555555555556,
              "#d8576b"
             ],
             [
              0.6666666666666666,
              "#ed7953"
             ],
             [
              0.7777777777777778,
              "#fb9f3a"
             ],
             [
              0.8888888888888888,
              "#fdca26"
             ],
             [
              1,
              "#f0f921"
             ]
            ],
            "type": "surface"
           }
          ],
          "table": [
           {
            "cells": {
             "fill": {
              "color": "#EBF0F8"
             },
             "line": {
              "color": "white"
             }
            },
            "header": {
             "fill": {
              "color": "#C8D4E3"
             },
             "line": {
              "color": "white"
             }
            },
            "type": "table"
           }
          ]
         },
         "layout": {
          "annotationdefaults": {
           "arrowcolor": "#2a3f5f",
           "arrowhead": 0,
           "arrowwidth": 1
          },
          "colorscale": {
           "diverging": [
            [
             0,
             "#8e0152"
            ],
            [
             0.1,
             "#c51b7d"
            ],
            [
             0.2,
             "#de77ae"
            ],
            [
             0.3,
             "#f1b6da"
            ],
            [
             0.4,
             "#fde0ef"
            ],
            [
             0.5,
             "#f7f7f7"
            ],
            [
             0.6,
             "#e6f5d0"
            ],
            [
             0.7,
             "#b8e186"
            ],
            [
             0.8,
             "#7fbc41"
            ],
            [
             0.9,
             "#4d9221"
            ],
            [
             1,
             "#276419"
            ]
           ],
           "sequential": [
            [
             0,
             "#0d0887"
            ],
            [
             0.1111111111111111,
             "#46039f"
            ],
            [
             0.2222222222222222,
             "#7201a8"
            ],
            [
             0.3333333333333333,
             "#9c179e"
            ],
            [
             0.4444444444444444,
             "#bd3786"
            ],
            [
             0.5555555555555556,
             "#d8576b"
            ],
            [
             0.6666666666666666,
             "#ed7953"
            ],
            [
             0.7777777777777778,
             "#fb9f3a"
            ],
            [
             0.8888888888888888,
             "#fdca26"
            ],
            [
             1,
             "#f0f921"
            ]
           ],
           "sequentialminus": [
            [
             0,
             "#0d0887"
            ],
            [
             0.1111111111111111,
             "#46039f"
            ],
            [
             0.2222222222222222,
             "#7201a8"
            ],
            [
             0.3333333333333333,
             "#9c179e"
            ],
            [
             0.4444444444444444,
             "#bd3786"
            ],
            [
             0.5555555555555556,
             "#d8576b"
            ],
            [
             0.6666666666666666,
             "#ed7953"
            ],
            [
             0.7777777777777778,
             "#fb9f3a"
            ],
            [
             0.8888888888888888,
             "#fdca26"
            ],
            [
             1,
             "#f0f921"
            ]
           ]
          },
          "colorway": [
           "#636efa",
           "#EF553B",
           "#00cc96",
           "#ab63fa",
           "#FFA15A",
           "#19d3f3",
           "#FF6692",
           "#B6E880",
           "#FF97FF",
           "#FECB52"
          ],
          "font": {
           "color": "#2a3f5f"
          },
          "geo": {
           "bgcolor": "white",
           "lakecolor": "white",
           "landcolor": "#E5ECF6",
           "showlakes": true,
           "showland": true,
           "subunitcolor": "white"
          },
          "hoverlabel": {
           "align": "left"
          },
          "hovermode": "closest",
          "mapbox": {
           "style": "light"
          },
          "paper_bgcolor": "white",
          "plot_bgcolor": "#E5ECF6",
          "polar": {
           "angularaxis": {
            "gridcolor": "white",
            "linecolor": "white",
            "ticks": ""
           },
           "bgcolor": "#E5ECF6",
           "radialaxis": {
            "gridcolor": "white",
            "linecolor": "white",
            "ticks": ""
           }
          },
          "scene": {
           "xaxis": {
            "backgroundcolor": "#E5ECF6",
            "gridcolor": "white",
            "gridwidth": 2,
            "linecolor": "white",
            "showbackground": true,
            "ticks": "",
            "zerolinecolor": "white"
           },
           "yaxis": {
            "backgroundcolor": "#E5ECF6",
            "gridcolor": "white",
            "gridwidth": 2,
            "linecolor": "white",
            "showbackground": true,
            "ticks": "",
            "zerolinecolor": "white"
           },
           "zaxis": {
            "backgroundcolor": "#E5ECF6",
            "gridcolor": "white",
            "gridwidth": 2,
            "linecolor": "white",
            "showbackground": true,
            "ticks": "",
            "zerolinecolor": "white"
           }
          },
          "shapedefaults": {
           "line": {
            "color": "#2a3f5f"
           }
          },
          "ternary": {
           "aaxis": {
            "gridcolor": "white",
            "linecolor": "white",
            "ticks": ""
           },
           "baxis": {
            "gridcolor": "white",
            "linecolor": "white",
            "ticks": ""
           },
           "bgcolor": "#E5ECF6",
           "caxis": {
            "gridcolor": "white",
            "linecolor": "white",
            "ticks": ""
           }
          },
          "title": {
           "x": 0.05
          },
          "xaxis": {
           "automargin": true,
           "gridcolor": "white",
           "linecolor": "white",
           "ticks": "",
           "zerolinecolor": "white",
           "zerolinewidth": 2
          },
          "yaxis": {
           "automargin": true,
           "gridcolor": "white",
           "linecolor": "white",
           "ticks": "",
           "zerolinecolor": "white",
           "zerolinewidth": 2
          }
         }
        }
       }
      },
      "text/html": [
       "<div>\n",
       "        \n",
       "        \n",
       "            <div id=\"8b0465cf-88ca-4547-931e-cda3bd3b4c24\" class=\"plotly-graph-div\" style=\"height:525px; width:100%;\"></div>\n",
       "            <script type=\"text/javascript\">\n",
       "                require([\"plotly\"], function(Plotly) {\n",
       "                    window.PLOTLYENV=window.PLOTLYENV || {};\n",
       "                    \n",
       "                if (document.getElementById(\"8b0465cf-88ca-4547-931e-cda3bd3b4c24\")) {\n",
       "                    Plotly.newPlot(\n",
       "                        '8b0465cf-88ca-4547-931e-cda3bd3b4c24',\n",
       "                        [{\"fill\": \"toself\", \"r\": [3.291452384937145, 0.8326500839689909, 1.4501348256547435, 0.16322921897962805], \"theta\": [\"Spearman coefficient for meta prediction\", \"Spearman coefficient for video prediction\", \"RMSE for meta prediction\", \"Median for Percentage of error for meta prediction \"], \"type\": \"scatterpolar\"}],\n",
       "                        {\"polar\": {\"radialaxis\": {\"visible\": true}}, \"showlegend\": false, \"template\": {\"data\": {\"bar\": [{\"error_x\": {\"color\": \"#2a3f5f\"}, \"error_y\": {\"color\": \"#2a3f5f\"}, \"marker\": {\"line\": {\"color\": \"#E5ECF6\", \"width\": 0.5}}, \"type\": \"bar\"}], \"barpolar\": [{\"marker\": {\"line\": {\"color\": \"#E5ECF6\", \"width\": 0.5}}, \"type\": \"barpolar\"}], \"carpet\": [{\"aaxis\": {\"endlinecolor\": \"#2a3f5f\", \"gridcolor\": \"white\", \"linecolor\": \"white\", \"minorgridcolor\": \"white\", \"startlinecolor\": \"#2a3f5f\"}, \"baxis\": {\"endlinecolor\": \"#2a3f5f\", \"gridcolor\": \"white\", \"linecolor\": \"white\", \"minorgridcolor\": \"white\", \"startlinecolor\": \"#2a3f5f\"}, \"type\": \"carpet\"}], \"choropleth\": [{\"colorbar\": {\"outlinewidth\": 0, \"ticks\": \"\"}, \"type\": \"choropleth\"}], \"contour\": [{\"colorbar\": {\"outlinewidth\": 0, \"ticks\": \"\"}, \"colorscale\": [[0.0, \"#0d0887\"], [0.1111111111111111, \"#46039f\"], [0.2222222222222222, \"#7201a8\"], [0.3333333333333333, \"#9c179e\"], [0.4444444444444444, \"#bd3786\"], [0.5555555555555556, \"#d8576b\"], [0.6666666666666666, \"#ed7953\"], [0.7777777777777778, \"#fb9f3a\"], [0.8888888888888888, \"#fdca26\"], [1.0, \"#f0f921\"]], \"type\": \"contour\"}], \"contourcarpet\": [{\"colorbar\": {\"outlinewidth\": 0, \"ticks\": \"\"}, \"type\": \"contourcarpet\"}], \"heatmap\": [{\"colorbar\": {\"outlinewidth\": 0, \"ticks\": \"\"}, \"colorscale\": [[0.0, \"#0d0887\"], [0.1111111111111111, \"#46039f\"], [0.2222222222222222, \"#7201a8\"], [0.3333333333333333, \"#9c179e\"], [0.4444444444444444, \"#bd3786\"], [0.5555555555555556, \"#d8576b\"], [0.6666666666666666, \"#ed7953\"], [0.7777777777777778, \"#fb9f3a\"], [0.8888888888888888, \"#fdca26\"], [1.0, \"#f0f921\"]], \"type\": \"heatmap\"}], \"heatmapgl\": [{\"colorbar\": {\"outlinewidth\": 0, \"ticks\": \"\"}, \"colorscale\": [[0.0, \"#0d0887\"], [0.1111111111111111, \"#46039f\"], [0.2222222222222222, \"#7201a8\"], [0.3333333333333333, \"#9c179e\"], [0.4444444444444444, \"#bd3786\"], [0.5555555555555556, \"#d8576b\"], [0.6666666666666666, \"#ed7953\"], [0.7777777777777778, \"#fb9f3a\"], [0.8888888888888888, \"#fdca26\"], [1.0, \"#f0f921\"]], \"type\": \"heatmapgl\"}], \"histogram\": [{\"marker\": {\"colorbar\": {\"outlinewidth\": 0, \"ticks\": \"\"}}, \"type\": \"histogram\"}], \"histogram2d\": [{\"colorbar\": {\"outlinewidth\": 0, \"ticks\": \"\"}, \"colorscale\": [[0.0, \"#0d0887\"], [0.1111111111111111, \"#46039f\"], [0.2222222222222222, \"#7201a8\"], [0.3333333333333333, \"#9c179e\"], [0.4444444444444444, \"#bd3786\"], [0.5555555555555556, \"#d8576b\"], [0.6666666666666666, \"#ed7953\"], [0.7777777777777778, \"#fb9f3a\"], [0.8888888888888888, \"#fdca26\"], [1.0, \"#f0f921\"]], \"type\": \"histogram2d\"}], \"histogram2dcontour\": [{\"colorbar\": {\"outlinewidth\": 0, \"ticks\": \"\"}, \"colorscale\": [[0.0, \"#0d0887\"], [0.1111111111111111, \"#46039f\"], [0.2222222222222222, \"#7201a8\"], [0.3333333333333333, \"#9c179e\"], [0.4444444444444444, \"#bd3786\"], [0.5555555555555556, \"#d8576b\"], [0.6666666666666666, \"#ed7953\"], [0.7777777777777778, \"#fb9f3a\"], [0.8888888888888888, \"#fdca26\"], [1.0, \"#f0f921\"]], \"type\": \"histogram2dcontour\"}], \"mesh3d\": [{\"colorbar\": {\"outlinewidth\": 0, \"ticks\": \"\"}, \"type\": \"mesh3d\"}], \"parcoords\": [{\"line\": {\"colorbar\": {\"outlinewidth\": 0, \"ticks\": \"\"}}, \"type\": \"parcoords\"}], \"scatter\": [{\"marker\": {\"colorbar\": {\"outlinewidth\": 0, \"ticks\": \"\"}}, \"type\": \"scatter\"}], \"scatter3d\": [{\"line\": {\"colorbar\": {\"outlinewidth\": 0, \"ticks\": \"\"}}, \"marker\": {\"colorbar\": {\"outlinewidth\": 0, \"ticks\": \"\"}}, \"type\": \"scatter3d\"}], \"scattercarpet\": [{\"marker\": {\"colorbar\": {\"outlinewidth\": 0, \"ticks\": \"\"}}, \"type\": \"scattercarpet\"}], \"scattergeo\": [{\"marker\": {\"colorbar\": {\"outlinewidth\": 0, \"ticks\": \"\"}}, \"type\": \"scattergeo\"}], \"scattergl\": [{\"marker\": {\"colorbar\": {\"outlinewidth\": 0, \"ticks\": \"\"}}, \"type\": \"scattergl\"}], \"scattermapbox\": [{\"marker\": {\"colorbar\": {\"outlinewidth\": 0, \"ticks\": \"\"}}, \"type\": \"scattermapbox\"}], \"scatterpolar\": [{\"marker\": {\"colorbar\": {\"outlinewidth\": 0, \"ticks\": \"\"}}, \"type\": \"scatterpolar\"}], \"scatterpolargl\": [{\"marker\": {\"colorbar\": {\"outlinewidth\": 0, \"ticks\": \"\"}}, \"type\": \"scatterpolargl\"}], \"scatterternary\": [{\"marker\": {\"colorbar\": {\"outlinewidth\": 0, \"ticks\": \"\"}}, \"type\": \"scatterternary\"}], \"surface\": [{\"colorbar\": {\"outlinewidth\": 0, \"ticks\": \"\"}, \"colorscale\": [[0.0, \"#0d0887\"], [0.1111111111111111, \"#46039f\"], [0.2222222222222222, \"#7201a8\"], [0.3333333333333333, \"#9c179e\"], [0.4444444444444444, \"#bd3786\"], [0.5555555555555556, \"#d8576b\"], [0.6666666666666666, \"#ed7953\"], [0.7777777777777778, \"#fb9f3a\"], [0.8888888888888888, \"#fdca26\"], [1.0, \"#f0f921\"]], \"type\": \"surface\"}], \"table\": [{\"cells\": {\"fill\": {\"color\": \"#EBF0F8\"}, \"line\": {\"color\": \"white\"}}, \"header\": {\"fill\": {\"color\": \"#C8D4E3\"}, \"line\": {\"color\": \"white\"}}, \"type\": \"table\"}]}, \"layout\": {\"annotationdefaults\": {\"arrowcolor\": \"#2a3f5f\", \"arrowhead\": 0, \"arrowwidth\": 1}, \"colorscale\": {\"diverging\": [[0, \"#8e0152\"], [0.1, \"#c51b7d\"], [0.2, \"#de77ae\"], [0.3, \"#f1b6da\"], [0.4, \"#fde0ef\"], [0.5, \"#f7f7f7\"], [0.6, \"#e6f5d0\"], [0.7, \"#b8e186\"], [0.8, \"#7fbc41\"], [0.9, \"#4d9221\"], [1, \"#276419\"]], \"sequential\": [[0.0, \"#0d0887\"], [0.1111111111111111, \"#46039f\"], [0.2222222222222222, \"#7201a8\"], [0.3333333333333333, \"#9c179e\"], [0.4444444444444444, \"#bd3786\"], [0.5555555555555556, \"#d8576b\"], [0.6666666666666666, \"#ed7953\"], [0.7777777777777778, \"#fb9f3a\"], [0.8888888888888888, \"#fdca26\"], [1.0, \"#f0f921\"]], \"sequentialminus\": [[0.0, \"#0d0887\"], [0.1111111111111111, \"#46039f\"], [0.2222222222222222, \"#7201a8\"], [0.3333333333333333, \"#9c179e\"], [0.4444444444444444, \"#bd3786\"], [0.5555555555555556, \"#d8576b\"], [0.6666666666666666, \"#ed7953\"], [0.7777777777777778, \"#fb9f3a\"], [0.8888888888888888, \"#fdca26\"], [1.0, \"#f0f921\"]]}, \"colorway\": [\"#636efa\", \"#EF553B\", \"#00cc96\", \"#ab63fa\", \"#FFA15A\", \"#19d3f3\", \"#FF6692\", \"#B6E880\", \"#FF97FF\", \"#FECB52\"], \"font\": {\"color\": \"#2a3f5f\"}, \"geo\": {\"bgcolor\": \"white\", \"lakecolor\": \"white\", \"landcolor\": \"#E5ECF6\", \"showlakes\": true, \"showland\": true, \"subunitcolor\": \"white\"}, \"hoverlabel\": {\"align\": \"left\"}, \"hovermode\": \"closest\", \"mapbox\": {\"style\": \"light\"}, \"paper_bgcolor\": \"white\", \"plot_bgcolor\": \"#E5ECF6\", \"polar\": {\"angularaxis\": {\"gridcolor\": \"white\", \"linecolor\": \"white\", \"ticks\": \"\"}, \"bgcolor\": \"#E5ECF6\", \"radialaxis\": {\"gridcolor\": \"white\", \"linecolor\": \"white\", \"ticks\": \"\"}}, \"scene\": {\"xaxis\": {\"backgroundcolor\": \"#E5ECF6\", \"gridcolor\": \"white\", \"gridwidth\": 2, \"linecolor\": \"white\", \"showbackground\": true, \"ticks\": \"\", \"zerolinecolor\": \"white\"}, \"yaxis\": {\"backgroundcolor\": \"#E5ECF6\", \"gridcolor\": \"white\", \"gridwidth\": 2, \"linecolor\": \"white\", \"showbackground\": true, \"ticks\": \"\", \"zerolinecolor\": \"white\"}, \"zaxis\": {\"backgroundcolor\": \"#E5ECF6\", \"gridcolor\": \"white\", \"gridwidth\": 2, \"linecolor\": \"white\", \"showbackground\": true, \"ticks\": \"\", \"zerolinecolor\": \"white\"}}, \"shapedefaults\": {\"line\": {\"color\": \"#2a3f5f\"}}, \"ternary\": {\"aaxis\": {\"gridcolor\": \"white\", \"linecolor\": \"white\", \"ticks\": \"\"}, \"baxis\": {\"gridcolor\": \"white\", \"linecolor\": \"white\", \"ticks\": \"\"}, \"bgcolor\": \"#E5ECF6\", \"caxis\": {\"gridcolor\": \"white\", \"linecolor\": \"white\", \"ticks\": \"\"}}, \"title\": {\"x\": 0.05}, \"xaxis\": {\"automargin\": true, \"gridcolor\": \"white\", \"linecolor\": \"white\", \"ticks\": \"\", \"zerolinecolor\": \"white\", \"zerolinewidth\": 2}, \"yaxis\": {\"automargin\": true, \"gridcolor\": \"white\", \"linecolor\": \"white\", \"ticks\": \"\", \"zerolinecolor\": \"white\", \"zerolinewidth\": 2}}}},\n",
       "                        {\"responsive\": true}\n",
       "                    ).then(function(){\n",
       "                            \n",
       "var gd = document.getElementById('8b0465cf-88ca-4547-931e-cda3bd3b4c24');\n",
       "var x = new MutationObserver(function (mutations, observer) {{\n",
       "        var display = window.getComputedStyle(gd).display;\n",
       "        if (!display || display === 'none') {{\n",
       "            console.log([gd, 'removed!']);\n",
       "            Plotly.purge(gd);\n",
       "            observer.disconnect();\n",
       "        }}\n",
       "}});\n",
       "\n",
       "// Listen for the removal of the full notebook cells\n",
       "var notebookContainer = gd.closest('#notebook-container');\n",
       "if (notebookContainer) {{\n",
       "    x.observe(notebookContainer, {childList: true});\n",
       "}}\n",
       "\n",
       "// Listen for the clearing of the current output cell\n",
       "var outputEl = gd.closest('.output');\n",
       "if (outputEl) {{\n",
       "    x.observe(outputEl, {childList: true});\n",
       "}}\n",
       "\n",
       "                        })\n",
       "                };\n",
       "                });\n",
       "            </script>\n",
       "        </div>"
      ]
     },
     "metadata": {},
     "output_type": "display_data"
    }
   ],
   "source": [
    "# radar chart \n",
    "# Which variable should we chosse to evaluate a model for aml?\n",
    "import plotly.graph_objects as go\n",
    "# Median for Percentage of error for meta prediction\n",
    "max_Median_meta = 4.432398713054681\n",
    "max_rmse_meta = 40689351.8036094\n",
    "fig = go.Figure(data=go.Scatterpolar(\n",
    "  r=[meta_spearman_co*5, video_spearman_co*5, (1-test_error_1[0]/max_rmse_meta)*5, (1-Median_meta3/max_Median_meta)*5],#value/maximum*5 so that all axises are in same range.\n",
    "  theta=['Spearman coefficient for meta prediction','Spearman coefficient for video prediction', 'RMSE for meta prediction', 'Median for Percentage of error for meta prediction '],\n",
    "  fill='toself'\n",
    "))\n",
    "\n",
    "fig.update_layout(\n",
    "  polar=dict(\n",
    "    radialaxis=dict(\n",
    "      visible=True\n",
    "    ),\n",
    "  ),\n",
    "  showlegend=False\n",
    ")\n",
    "\n",
    "fig.show()"
   ]
  },
  {
   "cell_type": "code",
   "execution_count": 46,
   "metadata": {},
   "outputs": [
    {
     "data": {
      "application/vnd.plotly.v1+json": {
       "config": {
        "plotlyServerURL": "https://plot.ly"
       },
       "data": [
        {
         "name": "meta RMSE",
         "type": "bar",
         "x": [
          "group1",
          "group2",
          "group3",
          "group4",
          "group5",
          "group6",
          "group7",
          "group8"
         ],
         "y": [
          28888342.58686307,
          0,
          0,
          40689351.8036094,
          0,
          0,
          0,
          0
         ]
        },
        {
         "name": "video RMSE",
         "type": "bar",
         "x": [
          "group1",
          "group2",
          "group3",
          "group4",
          "group5",
          "group6",
          "group7",
          "group8"
         ],
         "y": [
          37023059.12633596,
          0,
          0,
          46094575.98337922,
          0,
          0,
          0,
          0
         ]
        }
       ],
       "layout": {
        "barmode": "group",
        "template": {
         "data": {
          "bar": [
           {
            "error_x": {
             "color": "#2a3f5f"
            },
            "error_y": {
             "color": "#2a3f5f"
            },
            "marker": {
             "line": {
              "color": "#E5ECF6",
              "width": 0.5
             }
            },
            "type": "bar"
           }
          ],
          "barpolar": [
           {
            "marker": {
             "line": {
              "color": "#E5ECF6",
              "width": 0.5
             }
            },
            "type": "barpolar"
           }
          ],
          "carpet": [
           {
            "aaxis": {
             "endlinecolor": "#2a3f5f",
             "gridcolor": "white",
             "linecolor": "white",
             "minorgridcolor": "white",
             "startlinecolor": "#2a3f5f"
            },
            "baxis": {
             "endlinecolor": "#2a3f5f",
             "gridcolor": "white",
             "linecolor": "white",
             "minorgridcolor": "white",
             "startlinecolor": "#2a3f5f"
            },
            "type": "carpet"
           }
          ],
          "choropleth": [
           {
            "colorbar": {
             "outlinewidth": 0,
             "ticks": ""
            },
            "type": "choropleth"
           }
          ],
          "contour": [
           {
            "colorbar": {
             "outlinewidth": 0,
             "ticks": ""
            },
            "colorscale": [
             [
              0,
              "#0d0887"
             ],
             [
              0.1111111111111111,
              "#46039f"
             ],
             [
              0.2222222222222222,
              "#7201a8"
             ],
             [
              0.3333333333333333,
              "#9c179e"
             ],
             [
              0.4444444444444444,
              "#bd3786"
             ],
             [
              0.5555555555555556,
              "#d8576b"
             ],
             [
              0.6666666666666666,
              "#ed7953"
             ],
             [
              0.7777777777777778,
              "#fb9f3a"
             ],
             [
              0.8888888888888888,
              "#fdca26"
             ],
             [
              1,
              "#f0f921"
             ]
            ],
            "type": "contour"
           }
          ],
          "contourcarpet": [
           {
            "colorbar": {
             "outlinewidth": 0,
             "ticks": ""
            },
            "type": "contourcarpet"
           }
          ],
          "heatmap": [
           {
            "colorbar": {
             "outlinewidth": 0,
             "ticks": ""
            },
            "colorscale": [
             [
              0,
              "#0d0887"
             ],
             [
              0.1111111111111111,
              "#46039f"
             ],
             [
              0.2222222222222222,
              "#7201a8"
             ],
             [
              0.3333333333333333,
              "#9c179e"
             ],
             [
              0.4444444444444444,
              "#bd3786"
             ],
             [
              0.5555555555555556,
              "#d8576b"
             ],
             [
              0.6666666666666666,
              "#ed7953"
             ],
             [
              0.7777777777777778,
              "#fb9f3a"
             ],
             [
              0.8888888888888888,
              "#fdca26"
             ],
             [
              1,
              "#f0f921"
             ]
            ],
            "type": "heatmap"
           }
          ],
          "heatmapgl": [
           {
            "colorbar": {
             "outlinewidth": 0,
             "ticks": ""
            },
            "colorscale": [
             [
              0,
              "#0d0887"
             ],
             [
              0.1111111111111111,
              "#46039f"
             ],
             [
              0.2222222222222222,
              "#7201a8"
             ],
             [
              0.3333333333333333,
              "#9c179e"
             ],
             [
              0.4444444444444444,
              "#bd3786"
             ],
             [
              0.5555555555555556,
              "#d8576b"
             ],
             [
              0.6666666666666666,
              "#ed7953"
             ],
             [
              0.7777777777777778,
              "#fb9f3a"
             ],
             [
              0.8888888888888888,
              "#fdca26"
             ],
             [
              1,
              "#f0f921"
             ]
            ],
            "type": "heatmapgl"
           }
          ],
          "histogram": [
           {
            "marker": {
             "colorbar": {
              "outlinewidth": 0,
              "ticks": ""
             }
            },
            "type": "histogram"
           }
          ],
          "histogram2d": [
           {
            "colorbar": {
             "outlinewidth": 0,
             "ticks": ""
            },
            "colorscale": [
             [
              0,
              "#0d0887"
             ],
             [
              0.1111111111111111,
              "#46039f"
             ],
             [
              0.2222222222222222,
              "#7201a8"
             ],
             [
              0.3333333333333333,
              "#9c179e"
             ],
             [
              0.4444444444444444,
              "#bd3786"
             ],
             [
              0.5555555555555556,
              "#d8576b"
             ],
             [
              0.6666666666666666,
              "#ed7953"
             ],
             [
              0.7777777777777778,
              "#fb9f3a"
             ],
             [
              0.8888888888888888,
              "#fdca26"
             ],
             [
              1,
              "#f0f921"
             ]
            ],
            "type": "histogram2d"
           }
          ],
          "histogram2dcontour": [
           {
            "colorbar": {
             "outlinewidth": 0,
             "ticks": ""
            },
            "colorscale": [
             [
              0,
              "#0d0887"
             ],
             [
              0.1111111111111111,
              "#46039f"
             ],
             [
              0.2222222222222222,
              "#7201a8"
             ],
             [
              0.3333333333333333,
              "#9c179e"
             ],
             [
              0.4444444444444444,
              "#bd3786"
             ],
             [
              0.5555555555555556,
              "#d8576b"
             ],
             [
              0.6666666666666666,
              "#ed7953"
             ],
             [
              0.7777777777777778,
              "#fb9f3a"
             ],
             [
              0.8888888888888888,
              "#fdca26"
             ],
             [
              1,
              "#f0f921"
             ]
            ],
            "type": "histogram2dcontour"
           }
          ],
          "mesh3d": [
           {
            "colorbar": {
             "outlinewidth": 0,
             "ticks": ""
            },
            "type": "mesh3d"
           }
          ],
          "parcoords": [
           {
            "line": {
             "colorbar": {
              "outlinewidth": 0,
              "ticks": ""
             }
            },
            "type": "parcoords"
           }
          ],
          "scatter": [
           {
            "marker": {
             "colorbar": {
              "outlinewidth": 0,
              "ticks": ""
             }
            },
            "type": "scatter"
           }
          ],
          "scatter3d": [
           {
            "line": {
             "colorbar": {
              "outlinewidth": 0,
              "ticks": ""
             }
            },
            "marker": {
             "colorbar": {
              "outlinewidth": 0,
              "ticks": ""
             }
            },
            "type": "scatter3d"
           }
          ],
          "scattercarpet": [
           {
            "marker": {
             "colorbar": {
              "outlinewidth": 0,
              "ticks": ""
             }
            },
            "type": "scattercarpet"
           }
          ],
          "scattergeo": [
           {
            "marker": {
             "colorbar": {
              "outlinewidth": 0,
              "ticks": ""
             }
            },
            "type": "scattergeo"
           }
          ],
          "scattergl": [
           {
            "marker": {
             "colorbar": {
              "outlinewidth": 0,
              "ticks": ""
             }
            },
            "type": "scattergl"
           }
          ],
          "scattermapbox": [
           {
            "marker": {
             "colorbar": {
              "outlinewidth": 0,
              "ticks": ""
             }
            },
            "type": "scattermapbox"
           }
          ],
          "scatterpolar": [
           {
            "marker": {
             "colorbar": {
              "outlinewidth": 0,
              "ticks": ""
             }
            },
            "type": "scatterpolar"
           }
          ],
          "scatterpolargl": [
           {
            "marker": {
             "colorbar": {
              "outlinewidth": 0,
              "ticks": ""
             }
            },
            "type": "scatterpolargl"
           }
          ],
          "scatterternary": [
           {
            "marker": {
             "colorbar": {
              "outlinewidth": 0,
              "ticks": ""
             }
            },
            "type": "scatterternary"
           }
          ],
          "surface": [
           {
            "colorbar": {
             "outlinewidth": 0,
             "ticks": ""
            },
            "colorscale": [
             [
              0,
              "#0d0887"
             ],
             [
              0.1111111111111111,
              "#46039f"
             ],
             [
              0.2222222222222222,
              "#7201a8"
             ],
             [
              0.3333333333333333,
              "#9c179e"
             ],
             [
              0.4444444444444444,
              "#bd3786"
             ],
             [
              0.5555555555555556,
              "#d8576b"
             ],
             [
              0.6666666666666666,
              "#ed7953"
             ],
             [
              0.7777777777777778,
              "#fb9f3a"
             ],
             [
              0.8888888888888888,
              "#fdca26"
             ],
             [
              1,
              "#f0f921"
             ]
            ],
            "type": "surface"
           }
          ],
          "table": [
           {
            "cells": {
             "fill": {
              "color": "#EBF0F8"
             },
             "line": {
              "color": "white"
             }
            },
            "header": {
             "fill": {
              "color": "#C8D4E3"
             },
             "line": {
              "color": "white"
             }
            },
            "type": "table"
           }
          ]
         },
         "layout": {
          "annotationdefaults": {
           "arrowcolor": "#2a3f5f",
           "arrowhead": 0,
           "arrowwidth": 1
          },
          "colorscale": {
           "diverging": [
            [
             0,
             "#8e0152"
            ],
            [
             0.1,
             "#c51b7d"
            ],
            [
             0.2,
             "#de77ae"
            ],
            [
             0.3,
             "#f1b6da"
            ],
            [
             0.4,
             "#fde0ef"
            ],
            [
             0.5,
             "#f7f7f7"
            ],
            [
             0.6,
             "#e6f5d0"
            ],
            [
             0.7,
             "#b8e186"
            ],
            [
             0.8,
             "#7fbc41"
            ],
            [
             0.9,
             "#4d9221"
            ],
            [
             1,
             "#276419"
            ]
           ],
           "sequential": [
            [
             0,
             "#0d0887"
            ],
            [
             0.1111111111111111,
             "#46039f"
            ],
            [
             0.2222222222222222,
             "#7201a8"
            ],
            [
             0.3333333333333333,
             "#9c179e"
            ],
            [
             0.4444444444444444,
             "#bd3786"
            ],
            [
             0.5555555555555556,
             "#d8576b"
            ],
            [
             0.6666666666666666,
             "#ed7953"
            ],
            [
             0.7777777777777778,
             "#fb9f3a"
            ],
            [
             0.8888888888888888,
             "#fdca26"
            ],
            [
             1,
             "#f0f921"
            ]
           ],
           "sequentialminus": [
            [
             0,
             "#0d0887"
            ],
            [
             0.1111111111111111,
             "#46039f"
            ],
            [
             0.2222222222222222,
             "#7201a8"
            ],
            [
             0.3333333333333333,
             "#9c179e"
            ],
            [
             0.4444444444444444,
             "#bd3786"
            ],
            [
             0.5555555555555556,
             "#d8576b"
            ],
            [
             0.6666666666666666,
             "#ed7953"
            ],
            [
             0.7777777777777778,
             "#fb9f3a"
            ],
            [
             0.8888888888888888,
             "#fdca26"
            ],
            [
             1,
             "#f0f921"
            ]
           ]
          },
          "colorway": [
           "#636efa",
           "#EF553B",
           "#00cc96",
           "#ab63fa",
           "#FFA15A",
           "#19d3f3",
           "#FF6692",
           "#B6E880",
           "#FF97FF",
           "#FECB52"
          ],
          "font": {
           "color": "#2a3f5f"
          },
          "geo": {
           "bgcolor": "white",
           "lakecolor": "white",
           "landcolor": "#E5ECF6",
           "showlakes": true,
           "showland": true,
           "subunitcolor": "white"
          },
          "hoverlabel": {
           "align": "left"
          },
          "hovermode": "closest",
          "mapbox": {
           "style": "light"
          },
          "paper_bgcolor": "white",
          "plot_bgcolor": "#E5ECF6",
          "polar": {
           "angularaxis": {
            "gridcolor": "white",
            "linecolor": "white",
            "ticks": ""
           },
           "bgcolor": "#E5ECF6",
           "radialaxis": {
            "gridcolor": "white",
            "linecolor": "white",
            "ticks": ""
           }
          },
          "scene": {
           "xaxis": {
            "backgroundcolor": "#E5ECF6",
            "gridcolor": "white",
            "gridwidth": 2,
            "linecolor": "white",
            "showbackground": true,
            "ticks": "",
            "zerolinecolor": "white"
           },
           "yaxis": {
            "backgroundcolor": "#E5ECF6",
            "gridcolor": "white",
            "gridwidth": 2,
            "linecolor": "white",
            "showbackground": true,
            "ticks": "",
            "zerolinecolor": "white"
           },
           "zaxis": {
            "backgroundcolor": "#E5ECF6",
            "gridcolor": "white",
            "gridwidth": 2,
            "linecolor": "white",
            "showbackground": true,
            "ticks": "",
            "zerolinecolor": "white"
           }
          },
          "shapedefaults": {
           "line": {
            "color": "#2a3f5f"
           }
          },
          "ternary": {
           "aaxis": {
            "gridcolor": "white",
            "linecolor": "white",
            "ticks": ""
           },
           "baxis": {
            "gridcolor": "white",
            "linecolor": "white",
            "ticks": ""
           },
           "bgcolor": "#E5ECF6",
           "caxis": {
            "gridcolor": "white",
            "linecolor": "white",
            "ticks": ""
           }
          },
          "title": {
           "x": 0.05
          },
          "xaxis": {
           "automargin": true,
           "gridcolor": "white",
           "linecolor": "white",
           "ticks": "",
           "zerolinecolor": "white",
           "zerolinewidth": 2
          },
          "yaxis": {
           "automargin": true,
           "gridcolor": "white",
           "linecolor": "white",
           "ticks": "",
           "zerolinecolor": "white",
           "zerolinewidth": 2
          }
         }
        }
       }
      },
      "text/html": [
       "<div>\n",
       "        \n",
       "        \n",
       "            <div id=\"0b29cc33-80b4-465d-abb5-a47ed9113bd4\" class=\"plotly-graph-div\" style=\"height:525px; width:100%;\"></div>\n",
       "            <script type=\"text/javascript\">\n",
       "                require([\"plotly\"], function(Plotly) {\n",
       "                    window.PLOTLYENV=window.PLOTLYENV || {};\n",
       "                    \n",
       "                if (document.getElementById(\"0b29cc33-80b4-465d-abb5-a47ed9113bd4\")) {\n",
       "                    Plotly.newPlot(\n",
       "                        '0b29cc33-80b4-465d-abb5-a47ed9113bd4',\n",
       "                        [{\"name\": \"meta RMSE\", \"type\": \"bar\", \"x\": [\"group1\", \"group2\", \"group3\", \"group4\", \"group5\", \"group6\", \"group7\", \"group8\"], \"y\": [28888342.58686307, 0, 0, 40689351.8036094, 0, 0, 0, 0]}, {\"name\": \"video RMSE\", \"type\": \"bar\", \"x\": [\"group1\", \"group2\", \"group3\", \"group4\", \"group5\", \"group6\", \"group7\", \"group8\"], \"y\": [37023059.12633596, 0, 0, 46094575.98337922, 0, 0, 0, 0]}],\n",
       "                        {\"barmode\": \"group\", \"template\": {\"data\": {\"bar\": [{\"error_x\": {\"color\": \"#2a3f5f\"}, \"error_y\": {\"color\": \"#2a3f5f\"}, \"marker\": {\"line\": {\"color\": \"#E5ECF6\", \"width\": 0.5}}, \"type\": \"bar\"}], \"barpolar\": [{\"marker\": {\"line\": {\"color\": \"#E5ECF6\", \"width\": 0.5}}, \"type\": \"barpolar\"}], \"carpet\": [{\"aaxis\": {\"endlinecolor\": \"#2a3f5f\", \"gridcolor\": \"white\", \"linecolor\": \"white\", \"minorgridcolor\": \"white\", \"startlinecolor\": \"#2a3f5f\"}, \"baxis\": {\"endlinecolor\": \"#2a3f5f\", \"gridcolor\": \"white\", \"linecolor\": \"white\", \"minorgridcolor\": \"white\", \"startlinecolor\": \"#2a3f5f\"}, \"type\": \"carpet\"}], \"choropleth\": [{\"colorbar\": {\"outlinewidth\": 0, \"ticks\": \"\"}, \"type\": \"choropleth\"}], \"contour\": [{\"colorbar\": {\"outlinewidth\": 0, \"ticks\": \"\"}, \"colorscale\": [[0.0, \"#0d0887\"], [0.1111111111111111, \"#46039f\"], [0.2222222222222222, \"#7201a8\"], [0.3333333333333333, \"#9c179e\"], [0.4444444444444444, \"#bd3786\"], [0.5555555555555556, \"#d8576b\"], [0.6666666666666666, \"#ed7953\"], [0.7777777777777778, \"#fb9f3a\"], [0.8888888888888888, \"#fdca26\"], [1.0, \"#f0f921\"]], \"type\": \"contour\"}], \"contourcarpet\": [{\"colorbar\": {\"outlinewidth\": 0, \"ticks\": \"\"}, \"type\": \"contourcarpet\"}], \"heatmap\": [{\"colorbar\": {\"outlinewidth\": 0, \"ticks\": \"\"}, \"colorscale\": [[0.0, \"#0d0887\"], [0.1111111111111111, \"#46039f\"], [0.2222222222222222, \"#7201a8\"], [0.3333333333333333, \"#9c179e\"], [0.4444444444444444, \"#bd3786\"], [0.5555555555555556, \"#d8576b\"], [0.6666666666666666, \"#ed7953\"], [0.7777777777777778, \"#fb9f3a\"], [0.8888888888888888, \"#fdca26\"], [1.0, \"#f0f921\"]], \"type\": \"heatmap\"}], \"heatmapgl\": [{\"colorbar\": {\"outlinewidth\": 0, \"ticks\": \"\"}, \"colorscale\": [[0.0, \"#0d0887\"], [0.1111111111111111, \"#46039f\"], [0.2222222222222222, \"#7201a8\"], [0.3333333333333333, \"#9c179e\"], [0.4444444444444444, \"#bd3786\"], [0.5555555555555556, \"#d8576b\"], [0.6666666666666666, \"#ed7953\"], [0.7777777777777778, \"#fb9f3a\"], [0.8888888888888888, \"#fdca26\"], [1.0, \"#f0f921\"]], \"type\": \"heatmapgl\"}], \"histogram\": [{\"marker\": {\"colorbar\": {\"outlinewidth\": 0, \"ticks\": \"\"}}, \"type\": \"histogram\"}], \"histogram2d\": [{\"colorbar\": {\"outlinewidth\": 0, \"ticks\": \"\"}, \"colorscale\": [[0.0, \"#0d0887\"], [0.1111111111111111, \"#46039f\"], [0.2222222222222222, \"#7201a8\"], [0.3333333333333333, \"#9c179e\"], [0.4444444444444444, \"#bd3786\"], [0.5555555555555556, \"#d8576b\"], [0.6666666666666666, \"#ed7953\"], [0.7777777777777778, \"#fb9f3a\"], [0.8888888888888888, \"#fdca26\"], [1.0, \"#f0f921\"]], \"type\": \"histogram2d\"}], \"histogram2dcontour\": [{\"colorbar\": {\"outlinewidth\": 0, \"ticks\": \"\"}, \"colorscale\": [[0.0, \"#0d0887\"], [0.1111111111111111, \"#46039f\"], [0.2222222222222222, \"#7201a8\"], [0.3333333333333333, \"#9c179e\"], [0.4444444444444444, \"#bd3786\"], [0.5555555555555556, \"#d8576b\"], [0.6666666666666666, \"#ed7953\"], [0.7777777777777778, \"#fb9f3a\"], [0.8888888888888888, \"#fdca26\"], [1.0, \"#f0f921\"]], \"type\": \"histogram2dcontour\"}], \"mesh3d\": [{\"colorbar\": {\"outlinewidth\": 0, \"ticks\": \"\"}, \"type\": \"mesh3d\"}], \"parcoords\": [{\"line\": {\"colorbar\": {\"outlinewidth\": 0, \"ticks\": \"\"}}, \"type\": \"parcoords\"}], \"scatter\": [{\"marker\": {\"colorbar\": {\"outlinewidth\": 0, \"ticks\": \"\"}}, \"type\": \"scatter\"}], \"scatter3d\": [{\"line\": {\"colorbar\": {\"outlinewidth\": 0, \"ticks\": \"\"}}, \"marker\": {\"colorbar\": {\"outlinewidth\": 0, \"ticks\": \"\"}}, \"type\": \"scatter3d\"}], \"scattercarpet\": [{\"marker\": {\"colorbar\": {\"outlinewidth\": 0, \"ticks\": \"\"}}, \"type\": \"scattercarpet\"}], \"scattergeo\": [{\"marker\": {\"colorbar\": {\"outlinewidth\": 0, \"ticks\": \"\"}}, \"type\": \"scattergeo\"}], \"scattergl\": [{\"marker\": {\"colorbar\": {\"outlinewidth\": 0, \"ticks\": \"\"}}, \"type\": \"scattergl\"}], \"scattermapbox\": [{\"marker\": {\"colorbar\": {\"outlinewidth\": 0, \"ticks\": \"\"}}, \"type\": \"scattermapbox\"}], \"scatterpolar\": [{\"marker\": {\"colorbar\": {\"outlinewidth\": 0, \"ticks\": \"\"}}, \"type\": \"scatterpolar\"}], \"scatterpolargl\": [{\"marker\": {\"colorbar\": {\"outlinewidth\": 0, \"ticks\": \"\"}}, \"type\": \"scatterpolargl\"}], \"scatterternary\": [{\"marker\": {\"colorbar\": {\"outlinewidth\": 0, \"ticks\": \"\"}}, \"type\": \"scatterternary\"}], \"surface\": [{\"colorbar\": {\"outlinewidth\": 0, \"ticks\": \"\"}, \"colorscale\": [[0.0, \"#0d0887\"], [0.1111111111111111, \"#46039f\"], [0.2222222222222222, \"#7201a8\"], [0.3333333333333333, \"#9c179e\"], [0.4444444444444444, \"#bd3786\"], [0.5555555555555556, \"#d8576b\"], [0.6666666666666666, \"#ed7953\"], [0.7777777777777778, \"#fb9f3a\"], [0.8888888888888888, \"#fdca26\"], [1.0, \"#f0f921\"]], \"type\": \"surface\"}], \"table\": [{\"cells\": {\"fill\": {\"color\": \"#EBF0F8\"}, \"line\": {\"color\": \"white\"}}, \"header\": {\"fill\": {\"color\": \"#C8D4E3\"}, \"line\": {\"color\": \"white\"}}, \"type\": \"table\"}]}, \"layout\": {\"annotationdefaults\": {\"arrowcolor\": \"#2a3f5f\", \"arrowhead\": 0, \"arrowwidth\": 1}, \"colorscale\": {\"diverging\": [[0, \"#8e0152\"], [0.1, \"#c51b7d\"], [0.2, \"#de77ae\"], [0.3, \"#f1b6da\"], [0.4, \"#fde0ef\"], [0.5, \"#f7f7f7\"], [0.6, \"#e6f5d0\"], [0.7, \"#b8e186\"], [0.8, \"#7fbc41\"], [0.9, \"#4d9221\"], [1, \"#276419\"]], \"sequential\": [[0.0, \"#0d0887\"], [0.1111111111111111, \"#46039f\"], [0.2222222222222222, \"#7201a8\"], [0.3333333333333333, \"#9c179e\"], [0.4444444444444444, \"#bd3786\"], [0.5555555555555556, \"#d8576b\"], [0.6666666666666666, \"#ed7953\"], [0.7777777777777778, \"#fb9f3a\"], [0.8888888888888888, \"#fdca26\"], [1.0, \"#f0f921\"]], \"sequentialminus\": [[0.0, \"#0d0887\"], [0.1111111111111111, \"#46039f\"], [0.2222222222222222, \"#7201a8\"], [0.3333333333333333, \"#9c179e\"], [0.4444444444444444, \"#bd3786\"], [0.5555555555555556, \"#d8576b\"], [0.6666666666666666, \"#ed7953\"], [0.7777777777777778, \"#fb9f3a\"], [0.8888888888888888, \"#fdca26\"], [1.0, \"#f0f921\"]]}, \"colorway\": [\"#636efa\", \"#EF553B\", \"#00cc96\", \"#ab63fa\", \"#FFA15A\", \"#19d3f3\", \"#FF6692\", \"#B6E880\", \"#FF97FF\", \"#FECB52\"], \"font\": {\"color\": \"#2a3f5f\"}, \"geo\": {\"bgcolor\": \"white\", \"lakecolor\": \"white\", \"landcolor\": \"#E5ECF6\", \"showlakes\": true, \"showland\": true, \"subunitcolor\": \"white\"}, \"hoverlabel\": {\"align\": \"left\"}, \"hovermode\": \"closest\", \"mapbox\": {\"style\": \"light\"}, \"paper_bgcolor\": \"white\", \"plot_bgcolor\": \"#E5ECF6\", \"polar\": {\"angularaxis\": {\"gridcolor\": \"white\", \"linecolor\": \"white\", \"ticks\": \"\"}, \"bgcolor\": \"#E5ECF6\", \"radialaxis\": {\"gridcolor\": \"white\", \"linecolor\": \"white\", \"ticks\": \"\"}}, \"scene\": {\"xaxis\": {\"backgroundcolor\": \"#E5ECF6\", \"gridcolor\": \"white\", \"gridwidth\": 2, \"linecolor\": \"white\", \"showbackground\": true, \"ticks\": \"\", \"zerolinecolor\": \"white\"}, \"yaxis\": {\"backgroundcolor\": \"#E5ECF6\", \"gridcolor\": \"white\", \"gridwidth\": 2, \"linecolor\": \"white\", \"showbackground\": true, \"ticks\": \"\", \"zerolinecolor\": \"white\"}, \"zaxis\": {\"backgroundcolor\": \"#E5ECF6\", \"gridcolor\": \"white\", \"gridwidth\": 2, \"linecolor\": \"white\", \"showbackground\": true, \"ticks\": \"\", \"zerolinecolor\": \"white\"}}, \"shapedefaults\": {\"line\": {\"color\": \"#2a3f5f\"}}, \"ternary\": {\"aaxis\": {\"gridcolor\": \"white\", \"linecolor\": \"white\", \"ticks\": \"\"}, \"baxis\": {\"gridcolor\": \"white\", \"linecolor\": \"white\", \"ticks\": \"\"}, \"bgcolor\": \"#E5ECF6\", \"caxis\": {\"gridcolor\": \"white\", \"linecolor\": \"white\", \"ticks\": \"\"}}, \"title\": {\"x\": 0.05}, \"xaxis\": {\"automargin\": true, \"gridcolor\": \"white\", \"linecolor\": \"white\", \"ticks\": \"\", \"zerolinecolor\": \"white\", \"zerolinewidth\": 2}, \"yaxis\": {\"automargin\": true, \"gridcolor\": \"white\", \"linecolor\": \"white\", \"ticks\": \"\", \"zerolinecolor\": \"white\", \"zerolinewidth\": 2}}}},\n",
       "                        {\"responsive\": true}\n",
       "                    ).then(function(){\n",
       "                            \n",
       "var gd = document.getElementById('0b29cc33-80b4-465d-abb5-a47ed9113bd4');\n",
       "var x = new MutationObserver(function (mutations, observer) {{\n",
       "        var display = window.getComputedStyle(gd).display;\n",
       "        if (!display || display === 'none') {{\n",
       "            console.log([gd, 'removed!']);\n",
       "            Plotly.purge(gd);\n",
       "            observer.disconnect();\n",
       "        }}\n",
       "}});\n",
       "\n",
       "// Listen for the removal of the full notebook cells\n",
       "var notebookContainer = gd.closest('#notebook-container');\n",
       "if (notebookContainer) {{\n",
       "    x.observe(notebookContainer, {childList: true});\n",
       "}}\n",
       "\n",
       "// Listen for the clearing of the current output cell\n",
       "var outputEl = gd.closest('.output');\n",
       "if (outputEl) {{\n",
       "    x.observe(outputEl, {childList: true});\n",
       "}}\n",
       "\n",
       "                        })\n",
       "                };\n",
       "                });\n",
       "            </script>\n",
       "        </div>"
      ]
     },
     "metadata": {},
     "output_type": "display_data"
    }
   ],
   "source": [
    "##########################compare with other group#########################\n",
    "group=['group1', 'group2', 'group3', 'group4', 'group5', 'group6', 'group7', 'group8']\n",
    "\n",
    "fig = go.Figure(data=[\n",
    "    go.Bar(name='meta RMSE', x=group, y=[28888342.58686307, 0, 0, 40689351.8036094, 0, 0, 0, 0]),\n",
    "    go.Bar(name='video RMSE', x=group, y=[37023059.12633596, 0, 0, 46094575.98337922, 0, 0, 0, 0])\n",
    "])\n",
    "# Change the bar mode\n",
    "fig.update_layout(barmode='group')\n",
    "fig.show()"
   ]
  },
  {
   "cell_type": "code",
   "execution_count": null,
   "metadata": {},
   "outputs": [],
   "source": []
  }
 ],
 "metadata": {
  "kernelspec": {
   "display_name": "Python 3",
   "language": "python",
   "name": "python3"
  },
  "language_info": {
   "codemirror_mode": {
    "name": "ipython",
    "version": 3
   },
   "file_extension": ".py",
   "mimetype": "text/x-python",
   "name": "python",
   "nbconvert_exporter": "python",
   "pygments_lexer": "ipython3",
   "version": "3.7.3"
  }
 },
 "nbformat": 4,
 "nbformat_minor": 2
}
